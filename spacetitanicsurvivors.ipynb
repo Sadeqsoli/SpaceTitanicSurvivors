{
 "cells": [
  {
   "cell_type": "code",
   "execution_count": 1,
   "id": "b95cd7ad",
   "metadata": {
    "_cell_guid": "b1076dfc-b9ad-4769-8c92-a6c4dae69d19",
    "_uuid": "8f2839f25d086af736a60e9eeb907d3b93b6e0e5",
    "execution": {
     "iopub.execute_input": "2023-12-09T12:53:14.268630Z",
     "iopub.status.busy": "2023-12-09T12:53:14.268229Z",
     "iopub.status.idle": "2023-12-09T12:53:17.083063Z",
     "shell.execute_reply": "2023-12-09T12:53:17.081893Z"
    },
    "papermill": {
     "duration": 2.835495,
     "end_time": "2023-12-09T12:53:17.088238",
     "exception": false,
     "start_time": "2023-12-09T12:53:14.252743",
     "status": "completed"
    },
    "tags": []
   },
   "outputs": [
    {
     "name": "stdout",
     "output_type": "stream",
     "text": [
      "/kaggle/input/spaceship-titanic/sample_submission.csv\n",
      "/kaggle/input/spaceship-titanic/train.csv\n",
      "/kaggle/input/spaceship-titanic/test.csv\n"
     ]
    }
   ],
   "source": [
    "# This Python 3 environment comes with many helpful analytics libraries installed\n",
    "# It is defined by the kaggle/python Docker image: https://github.com/kaggle/docker-python\n",
    "# For example, here's several helpful packages to load\n",
    "\n",
    "import numpy as np # linear algebra\n",
    "import pandas as pd # data processing, CSV file I/O (e.g. pd.read_csv)\n",
    "import sklearn\n",
    "import datetime\n",
    "import matplotlib.pyplot as plt\n",
    "import missingno as msno\n",
    "from sklearn.preprocessing import MinMaxScaler\n",
    "from sklearn.preprocessing import StandardScaler\n",
    "import seaborn as sns\n",
    "from pandas.plotting import scatter_matrix\n",
    "from scipy import stats\n",
    "# Input data files are available in the read-only \"../input/\" directory\n",
    "# For example, running this (by clicking run or pressing Shift+Enter) will list all files under the input directory\n",
    "\n",
    "import os\n",
    "for dirname, _, filenames in os.walk('/kaggle/input'):\n",
    "    for filename in filenames:\n",
    "        print(os.path.join(dirname, filename))\n",
    "\n",
    "# You can write up to 20GB to the current directory (/kaggle/working/) that gets preserved as output when you create a version using \"Save & Run All\" \n",
    "# You can also write temporary files to /kaggle/temp/, but they won't be saved outside of the current session"
   ]
  },
  {
   "cell_type": "markdown",
   "id": "a7a6875e",
   "metadata": {
    "papermill": {
     "duration": 0.015791,
     "end_time": "2023-12-09T12:53:17.122037",
     "exception": false,
     "start_time": "2023-12-09T12:53:17.106246",
     "status": "completed"
    },
    "tags": []
   },
   "source": [
    "# 1. Getting Data"
   ]
  },
  {
   "cell_type": "code",
   "execution_count": 2,
   "id": "8ddab296",
   "metadata": {
    "execution": {
     "iopub.execute_input": "2023-12-09T12:53:17.152081Z",
     "iopub.status.busy": "2023-12-09T12:53:17.151110Z",
     "iopub.status.idle": "2023-12-09T12:53:17.298820Z",
     "shell.execute_reply": "2023-12-09T12:53:17.297899Z"
    },
    "papermill": {
     "duration": 0.16561,
     "end_time": "2023-12-09T12:53:17.301344",
     "exception": false,
     "start_time": "2023-12-09T12:53:17.135734",
     "status": "completed"
    },
    "tags": []
   },
   "outputs": [
    {
     "data": {
      "text/html": [
       "<div>\n",
       "<style scoped>\n",
       "    .dataframe tbody tr th:only-of-type {\n",
       "        vertical-align: middle;\n",
       "    }\n",
       "\n",
       "    .dataframe tbody tr th {\n",
       "        vertical-align: top;\n",
       "    }\n",
       "\n",
       "    .dataframe thead th {\n",
       "        text-align: right;\n",
       "    }\n",
       "</style>\n",
       "<table border=\"1\" class=\"dataframe\">\n",
       "  <thead>\n",
       "    <tr style=\"text-align: right;\">\n",
       "      <th></th>\n",
       "      <th>PassengerId</th>\n",
       "      <th>HomePlanet</th>\n",
       "      <th>CryoSleep</th>\n",
       "      <th>Cabin</th>\n",
       "      <th>Destination</th>\n",
       "      <th>Age</th>\n",
       "      <th>VIP</th>\n",
       "      <th>RoomService</th>\n",
       "      <th>FoodCourt</th>\n",
       "      <th>ShoppingMall</th>\n",
       "      <th>Spa</th>\n",
       "      <th>VRDeck</th>\n",
       "      <th>Name</th>\n",
       "      <th>Transported</th>\n",
       "    </tr>\n",
       "  </thead>\n",
       "  <tbody>\n",
       "    <tr>\n",
       "      <th>0</th>\n",
       "      <td>0001_01</td>\n",
       "      <td>Europa</td>\n",
       "      <td>False</td>\n",
       "      <td>B/0/P</td>\n",
       "      <td>TRAPPIST-1e</td>\n",
       "      <td>39.0</td>\n",
       "      <td>False</td>\n",
       "      <td>0.0</td>\n",
       "      <td>0.0</td>\n",
       "      <td>0.0</td>\n",
       "      <td>0.0</td>\n",
       "      <td>0.0</td>\n",
       "      <td>Maham Ofracculy</td>\n",
       "      <td>False</td>\n",
       "    </tr>\n",
       "    <tr>\n",
       "      <th>1</th>\n",
       "      <td>0002_01</td>\n",
       "      <td>Earth</td>\n",
       "      <td>False</td>\n",
       "      <td>F/0/S</td>\n",
       "      <td>TRAPPIST-1e</td>\n",
       "      <td>24.0</td>\n",
       "      <td>False</td>\n",
       "      <td>109.0</td>\n",
       "      <td>9.0</td>\n",
       "      <td>25.0</td>\n",
       "      <td>549.0</td>\n",
       "      <td>44.0</td>\n",
       "      <td>Juanna Vines</td>\n",
       "      <td>True</td>\n",
       "    </tr>\n",
       "    <tr>\n",
       "      <th>2</th>\n",
       "      <td>0003_01</td>\n",
       "      <td>Europa</td>\n",
       "      <td>False</td>\n",
       "      <td>A/0/S</td>\n",
       "      <td>TRAPPIST-1e</td>\n",
       "      <td>58.0</td>\n",
       "      <td>True</td>\n",
       "      <td>43.0</td>\n",
       "      <td>3576.0</td>\n",
       "      <td>0.0</td>\n",
       "      <td>6715.0</td>\n",
       "      <td>49.0</td>\n",
       "      <td>Altark Susent</td>\n",
       "      <td>False</td>\n",
       "    </tr>\n",
       "    <tr>\n",
       "      <th>3</th>\n",
       "      <td>0003_02</td>\n",
       "      <td>Europa</td>\n",
       "      <td>False</td>\n",
       "      <td>A/0/S</td>\n",
       "      <td>TRAPPIST-1e</td>\n",
       "      <td>33.0</td>\n",
       "      <td>False</td>\n",
       "      <td>0.0</td>\n",
       "      <td>1283.0</td>\n",
       "      <td>371.0</td>\n",
       "      <td>3329.0</td>\n",
       "      <td>193.0</td>\n",
       "      <td>Solam Susent</td>\n",
       "      <td>False</td>\n",
       "    </tr>\n",
       "    <tr>\n",
       "      <th>4</th>\n",
       "      <td>0004_01</td>\n",
       "      <td>Earth</td>\n",
       "      <td>False</td>\n",
       "      <td>F/1/S</td>\n",
       "      <td>TRAPPIST-1e</td>\n",
       "      <td>16.0</td>\n",
       "      <td>False</td>\n",
       "      <td>303.0</td>\n",
       "      <td>70.0</td>\n",
       "      <td>151.0</td>\n",
       "      <td>565.0</td>\n",
       "      <td>2.0</td>\n",
       "      <td>Willy Santantines</td>\n",
       "      <td>True</td>\n",
       "    </tr>\n",
       "  </tbody>\n",
       "</table>\n",
       "</div>"
      ],
      "text/plain": [
       "  PassengerId HomePlanet CryoSleep  Cabin  Destination   Age    VIP  \\\n",
       "0     0001_01     Europa     False  B/0/P  TRAPPIST-1e  39.0  False   \n",
       "1     0002_01      Earth     False  F/0/S  TRAPPIST-1e  24.0  False   \n",
       "2     0003_01     Europa     False  A/0/S  TRAPPIST-1e  58.0   True   \n",
       "3     0003_02     Europa     False  A/0/S  TRAPPIST-1e  33.0  False   \n",
       "4     0004_01      Earth     False  F/1/S  TRAPPIST-1e  16.0  False   \n",
       "\n",
       "   RoomService  FoodCourt  ShoppingMall     Spa  VRDeck               Name  \\\n",
       "0          0.0        0.0           0.0     0.0     0.0    Maham Ofracculy   \n",
       "1        109.0        9.0          25.0   549.0    44.0       Juanna Vines   \n",
       "2         43.0     3576.0           0.0  6715.0    49.0      Altark Susent   \n",
       "3          0.0     1283.0         371.0  3329.0   193.0       Solam Susent   \n",
       "4        303.0       70.0         151.0   565.0     2.0  Willy Santantines   \n",
       "\n",
       "  Transported  \n",
       "0       False  \n",
       "1        True  \n",
       "2       False  \n",
       "3       False  \n",
       "4        True  "
      ]
     },
     "execution_count": 2,
     "metadata": {},
     "output_type": "execute_result"
    }
   ],
   "source": [
    "train = pd.read_csv('../input/spaceship-titanic/train.csv')\n",
    "test = pd.read_csv('../input/spaceship-titanic/test.csv')\n",
    "\n",
    "train_test = pd.concat([train, test])\n",
    "\n",
    "train_test.head()"
   ]
  },
  {
   "cell_type": "markdown",
   "id": "1079d472",
   "metadata": {
    "papermill": {
     "duration": 0.013434,
     "end_time": "2023-12-09T12:53:17.328596",
     "exception": false,
     "start_time": "2023-12-09T12:53:17.315162",
     "status": "completed"
    },
    "tags": []
   },
   "source": [
    "# 2. Challenge Description\n",
    "> PassengerId - A unique Id for each passenger. Each Id takes the form gggg_pp where gggg indicates a group the passenger is travelling with and pp is their number within the group. People in a group are often family members, but not always.\n",
    "> \n",
    "> HomePlanet - The planet the passenger departed from, typically their planet of permanent residence.\n",
    "> \n",
    "> CryoSleep - Indicates whether the passenger elected to be put into suspended animation for the duration of the voyage. Passengers in cryosleep are confined to their cabins.\n",
    "> Cabin - The cabin number where the passenger is staying. Takes the form deck/num/side, where side can be either P for Port or S for Starboard.\n",
    "> Destination - The planet the passenger will be debarking to.\n",
    "> Age - The age of the passenger.\n",
    "> VIP - Whether the passenger has paid for special VIP service during the voyage.</font>\n",
    "> RoomService, FoodCourt, ShoppingMall, Spa, VRDeck - Amount the passenger has billed at each of the Spaceship Titanic's many luxury amenities.\n",
    "> Name - The first and last names of the passenger.\n",
    "\n",
    "> **Transported** - Whether the passenger was transported to another dimension. This is the target, the column you are trying to predict."
   ]
  },
  {
   "cell_type": "markdown",
   "id": "75a7b893",
   "metadata": {
    "papermill": {
     "duration": 0.013947,
     "end_time": "2023-12-09T12:53:17.356413",
     "exception": false,
     "start_time": "2023-12-09T12:53:17.342466",
     "status": "completed"
    },
    "tags": []
   },
   "source": [
    "# 3. Check Missing Values"
   ]
  },
  {
   "cell_type": "code",
   "execution_count": 3,
   "id": "d02b6f34",
   "metadata": {
    "execution": {
     "iopub.execute_input": "2023-12-09T12:53:17.387579Z",
     "iopub.status.busy": "2023-12-09T12:53:17.387121Z",
     "iopub.status.idle": "2023-12-09T12:53:17.408197Z",
     "shell.execute_reply": "2023-12-09T12:53:17.406987Z"
    },
    "papermill": {
     "duration": 0.03927,
     "end_time": "2023-12-09T12:53:17.411036",
     "exception": false,
     "start_time": "2023-12-09T12:53:17.371766",
     "status": "completed"
    },
    "tags": []
   },
   "outputs": [
    {
     "name": "stdout",
     "output_type": "stream",
     "text": [
      "PassengerId        0\n",
      "HomePlanet       288\n",
      "CryoSleep        310\n",
      "Cabin            299\n",
      "Destination      274\n",
      "Age              270\n",
      "VIP              296\n",
      "RoomService      263\n",
      "FoodCourt        289\n",
      "ShoppingMall     306\n",
      "Spa              284\n",
      "VRDeck           268\n",
      "Name             294\n",
      "Transported     4277\n",
      "dtype: int64\n"
     ]
    }
   ],
   "source": [
    "print(train_test.isna().sum())"
   ]
  },
  {
   "cell_type": "code",
   "execution_count": 4,
   "id": "5aa1b3c7",
   "metadata": {
    "execution": {
     "iopub.execute_input": "2023-12-09T12:53:17.441951Z",
     "iopub.status.busy": "2023-12-09T12:53:17.440425Z",
     "iopub.status.idle": "2023-12-09T12:53:18.425260Z",
     "shell.execute_reply": "2023-12-09T12:53:18.423847Z"
    },
    "papermill": {
     "duration": 1.003387,
     "end_time": "2023-12-09T12:53:18.428179",
     "exception": false,
     "start_time": "2023-12-09T12:53:17.424792",
     "status": "completed"
    },
    "tags": []
   },
   "outputs": [
    {
     "data": {
      "image/png": "[encoded data removed]",
      "text/plain": [
       "<Figure size 2500x1000 with 2 Axes>"
      ]
     },
     "metadata": {},
     "output_type": "display_data"
    }
   ],
   "source": [
    "msno.matrix(train_test)\n",
    "plt.show()"
   ]
  },
  {
   "cell_type": "markdown",
   "id": "de19805a",
   "metadata": {
    "papermill": {
     "duration": 0.014721,
     "end_time": "2023-12-09T12:53:18.458262",
     "exception": false,
     "start_time": "2023-12-09T12:53:18.443541",
     "status": "completed"
    },
    "tags": []
   },
   "source": [
    "# 3. Testing & Handling Missing Values¶"
   ]
  },
  {
   "cell_type": "code",
   "execution_count": 5,
   "id": "c365d33a",
   "metadata": {
    "execution": {
     "iopub.execute_input": "2023-12-09T12:53:18.491114Z",
     "iopub.status.busy": "2023-12-09T12:53:18.489953Z",
     "iopub.status.idle": "2023-12-09T12:53:18.869431Z",
     "shell.execute_reply": "2023-12-09T12:53:18.868192Z"
    },
    "papermill": {
     "duration": 0.398952,
     "end_time": "2023-12-09T12:53:18.872051",
     "exception": false,
     "start_time": "2023-12-09T12:53:18.473099",
     "status": "completed"
    },
    "tags": []
   },
   "outputs": [
    {
     "data": {
      "image/png": "[encoded data removed]",
      "text/plain": [
       "<Figure size 640x480 with 1 Axes>"
      ]
     },
     "metadata": {},
     "output_type": "display_data"
    },
    {
     "data": {
      "text/plain": [
       "4277"
      ]
     },
     "execution_count": 5,
     "metadata": {},
     "output_type": "execute_result"
    }
   ],
   "source": [
    "# scatter_matrix(train_test, alpha=0.2, figsize=(6, 6), diagonal='kde')\n",
    "# plt.show()\n",
    "plt.plot(train_test['RoomService'], label='RoomService')\n",
    "plt.plot(train_test['ShoppingMall'], label='ShoppingMall')\n",
    "plt.title('Comparison of RoomService and ShoppingMall')\n",
    "plt.xlabel('Index')\n",
    "plt.ylabel('Values')\n",
    "plt.legend()\n",
    "plt.show()\n",
    "sum(train_test['Transported'].isna())"
   ]
  },
  {
   "cell_type": "markdown",
   "id": "0c8a9bd7",
   "metadata": {
    "papermill": {
     "duration": 0.015515,
     "end_time": "2023-12-09T12:53:18.903366",
     "exception": false,
     "start_time": "2023-12-09T12:53:18.887851",
     "status": "completed"
    },
    "tags": []
   },
   "source": [
    "# 3.1.Handling Room Service Outliers"
   ]
  },
  {
   "cell_type": "code",
   "execution_count": 6,
   "id": "df3518d1",
   "metadata": {
    "execution": {
     "iopub.execute_input": "2023-12-09T12:53:18.937354Z",
     "iopub.status.busy": "2023-12-09T12:53:18.936890Z",
     "iopub.status.idle": "2023-12-09T12:53:19.264669Z",
     "shell.execute_reply": "2023-12-09T12:53:19.263357Z"
    },
    "papermill": {
     "duration": 0.348253,
     "end_time": "2023-12-09T12:53:19.267368",
     "exception": false,
     "start_time": "2023-12-09T12:53:18.919115",
     "status": "completed"
    },
    "tags": []
   },
   "outputs": [
    {
     "data": {
      "image/png": "[encoded data removed]",
      "text/plain": [
       "<Figure size 640x480 with 1 Axes>"
      ]
     },
     "metadata": {},
     "output_type": "display_data"
    }
   ],
   "source": [
    "if 'Transported' in train_test.columns:\n",
    "    train_test.plot.scatter(x='RoomService', y='Transported')\n",
    "    plt.show()\n",
    "else:\n",
    "    print(\"'Transported' column does not exist in the DataFrame.\")\n"
   ]
  },
  {
   "cell_type": "markdown",
   "id": "a5bcce55",
   "metadata": {
    "papermill": {
     "duration": 0.015831,
     "end_time": "2023-12-09T12:53:19.299231",
     "exception": false,
     "start_time": "2023-12-09T12:53:19.283400",
     "status": "completed"
    },
    "tags": []
   },
   "source": [
    "# 3.1.Handling Food Court Outliers"
   ]
  },
  {
   "cell_type": "markdown",
   "id": "8d311ec9",
   "metadata": {
    "papermill": {
     "duration": 0.015788,
     "end_time": "2023-12-09T12:53:19.331324",
     "exception": false,
     "start_time": "2023-12-09T12:53:19.315536",
     "status": "completed"
    },
    "tags": []
   },
   "source": [
    "# 3.1.Handling ShoppingMall Outliers"
   ]
  },
  {
   "cell_type": "markdown",
   "id": "8fcd7df3",
   "metadata": {
    "papermill": {
     "duration": 0.015737,
     "end_time": "2023-12-09T12:53:19.363142",
     "exception": false,
     "start_time": "2023-12-09T12:53:19.347405",
     "status": "completed"
    },
    "tags": []
   },
   "source": [
    "# 3.1.Handling Spa Outliers"
   ]
  },
  {
   "cell_type": "markdown",
   "id": "ad555c7b",
   "metadata": {
    "papermill": {
     "duration": 0.015785,
     "end_time": "2023-12-09T12:53:19.394989",
     "exception": false,
     "start_time": "2023-12-09T12:53:19.379204",
     "status": "completed"
    },
    "tags": []
   },
   "source": [
    "# 3.1.Handling VRDeck Outliers"
   ]
  },
  {
   "cell_type": "code",
   "execution_count": 7,
   "id": "be96566d",
   "metadata": {
    "execution": {
     "iopub.execute_input": "2023-12-09T12:53:19.430187Z",
     "iopub.status.busy": "2023-12-09T12:53:19.428707Z",
     "iopub.status.idle": "2023-12-09T12:53:19.434029Z",
     "shell.execute_reply": "2023-12-09T12:53:19.433146Z"
    },
    "papermill": {
     "duration": 0.025157,
     "end_time": "2023-12-09T12:53:19.436229",
     "exception": false,
     "start_time": "2023-12-09T12:53:19.411072",
     "status": "completed"
    },
    "tags": []
   },
   "outputs": [],
   "source": [
    "# mean = train_test['VRDeck'].mean()\n",
    "# std = train_test['VRDeck'].std()\n",
    "# ZScore = (train_test['VRDeck'] - mean) / std\n",
    "\n",
    "# threshold = 3\n",
    "# outliers = train_test[np.abs(ZScore) > threshold]\n",
    "# outliers"
   ]
  },
  {
   "cell_type": "code",
   "execution_count": 8,
   "id": "6094bd3b",
   "metadata": {
    "execution": {
     "iopub.execute_input": "2023-12-09T12:53:19.472009Z",
     "iopub.status.busy": "2023-12-09T12:53:19.470594Z",
     "iopub.status.idle": "2023-12-09T12:53:19.476469Z",
     "shell.execute_reply": "2023-12-09T12:53:19.475219Z"
    },
    "papermill": {
     "duration": 0.026637,
     "end_time": "2023-12-09T12:53:19.479066",
     "exception": false,
     "start_time": "2023-12-09T12:53:19.452429",
     "status": "completed"
    },
    "tags": []
   },
   "outputs": [],
   "source": [
    "Expenses_columns = ['RoomService','FoodCourt','ShoppingMall','Spa','VRDeck']\n",
    "#train_test.loc[(train_test['Age'] < 10) & (train_test[Expenses_columns].isnull()), Expenses_columns] = 0\n",
    "# train_test.loc[(train_test['Age'] > 10) & train_test['RoomService'].isnull(), Expenses_columns] = train_test['RoomService'].mean()\n",
    "# \n"
   ]
  },
  {
   "cell_type": "code",
   "execution_count": 9,
   "id": "deef6938",
   "metadata": {
    "execution": {
     "iopub.execute_input": "2023-12-09T12:53:19.514011Z",
     "iopub.status.busy": "2023-12-09T12:53:19.513525Z",
     "iopub.status.idle": "2023-12-09T12:53:21.627508Z",
     "shell.execute_reply": "2023-12-09T12:53:21.626160Z"
    },
    "papermill": {
     "duration": 2.135746,
     "end_time": "2023-12-09T12:53:21.631206",
     "exception": false,
     "start_time": "2023-12-09T12:53:19.495460",
     "status": "completed"
    },
    "tags": []
   },
   "outputs": [
    {
     "name": "stdout",
     "output_type": "stream",
     "text": [
      "<class 'pandas.core.frame.DataFrame'>\n",
      "Index: 12970 entries, 0 to 4276\n",
      "Data columns (total 15 columns):\n",
      " #   Column        Non-Null Count  Dtype  \n",
      "---  ------        --------------  -----  \n",
      " 0   PassengerId   12970 non-null  object \n",
      " 1   HomePlanet    12682 non-null  object \n",
      " 2   CryoSleep     12660 non-null  object \n",
      " 3   Cabin         12671 non-null  object \n",
      " 4   Destination   12696 non-null  object \n",
      " 5   Age           12700 non-null  float64\n",
      " 6   VIP           12674 non-null  object \n",
      " 7   RoomService   12941 non-null  float64\n",
      " 8   FoodCourt     12945 non-null  float64\n",
      " 9   ShoppingMall  12937 non-null  float64\n",
      " 10  Spa           12946 non-null  float64\n",
      " 11  VRDeck        12927 non-null  float64\n",
      " 12  Name          12676 non-null  object \n",
      " 13  Transported   8693 non-null   object \n",
      " 14  Expenditure   12970 non-null  float64\n",
      "dtypes: float64(7), object(8)\n",
      "memory usage: 1.6+ MB\n"
     ]
    }
   ],
   "source": [
    "# First lets fill CryoSleep, based on totdal expenditure\n",
    "train_test[\"Expenditure\"]=train_test[Expenses_columns].sum(axis=\"columns\")\n",
    "\n",
    "\n",
    "# filling expenditure with use of Age\n",
    "def fill_with_mean(row):\n",
    "    for col in Expenses_columns:\n",
    "        if row['Age'] > 12 and pd.isnull(row[col]):\n",
    "            row[col] = train_test[col].mean()\n",
    "    return row\n",
    "\n",
    "train_test = train_test.apply(fill_with_mean, axis=1)\n",
    "\n",
    "\n",
    "\n",
    "def fill_with_zero(row):\n",
    "    for col in Expenses_columns:\n",
    "        if row['Age'] < 12 and pd.isnull(row[col]):\n",
    "            row[col] = 0\n",
    "    return row\n",
    "\n",
    "# train_test = train_test.apply(fill_with_zero, axis=1)\n",
    "\n",
    "\n",
    "\n",
    "train_test.info()"
   ]
  },
  {
   "cell_type": "code",
   "execution_count": 10,
   "id": "b47bc94b",
   "metadata": {
    "execution": {
     "iopub.execute_input": "2023-12-09T12:53:21.665703Z",
     "iopub.status.busy": "2023-12-09T12:53:21.665228Z",
     "iopub.status.idle": "2023-12-09T12:53:21.696575Z",
     "shell.execute_reply": "2023-12-09T12:53:21.694851Z"
    },
    "papermill": {
     "duration": 0.051711,
     "end_time": "2023-12-09T12:53:21.699143",
     "exception": false,
     "start_time": "2023-12-09T12:53:21.647432",
     "status": "completed"
    },
    "tags": []
   },
   "outputs": [
    {
     "name": "stdout",
     "output_type": "stream",
     "text": [
      "PassengerId        0\n",
      "HomePlanet       288\n",
      "CryoSleep          0\n",
      "Cabin            299\n",
      "Destination      274\n",
      "Age              270\n",
      "VIP                0\n",
      "RoomService       29\n",
      "FoodCourt         25\n",
      "ShoppingMall      33\n",
      "Spa               24\n",
      "VRDeck            43\n",
      "Name             294\n",
      "Transported     4277\n",
      "dtype: int64\n"
     ]
    }
   ],
   "source": [
    "# Thanks to @Master Jiraiya\n",
    "\n",
    "# Zero expenditure indicate that they are in CryoSleep\n",
    "train_test['CryoSleep']=np.where(train_test['Expenditure']==0,1,0)\n",
    "\n",
    "# Also, if they are VIPs, they probably would not choose to be in CryoSleep\n",
    "train_test['VIP']=np.where(train_test['CryoSleep']==0,1,0)\n",
    "\n",
    "train_test.drop(columns=[\"Expenditure\"],inplace=True)\n",
    "\n",
    "print(train_test.isna().sum())"
   ]
  },
  {
   "cell_type": "code",
   "execution_count": 11,
   "id": "255eba91",
   "metadata": {
    "execution": {
     "iopub.execute_input": "2023-12-09T12:53:21.794222Z",
     "iopub.status.busy": "2023-12-09T12:53:21.793788Z",
     "iopub.status.idle": "2023-12-09T12:53:21.834366Z",
     "shell.execute_reply": "2023-12-09T12:53:21.833091Z"
    },
    "papermill": {
     "duration": 0.121676,
     "end_time": "2023-12-09T12:53:21.837030",
     "exception": false,
     "start_time": "2023-12-09T12:53:21.715354",
     "status": "completed"
    },
    "tags": []
   },
   "outputs": [
    {
     "data": {
      "text/html": [
       "<div>\n",
       "<style scoped>\n",
       "    .dataframe tbody tr th:only-of-type {\n",
       "        vertical-align: middle;\n",
       "    }\n",
       "\n",
       "    .dataframe tbody tr th {\n",
       "        vertical-align: top;\n",
       "    }\n",
       "\n",
       "    .dataframe thead th {\n",
       "        text-align: right;\n",
       "    }\n",
       "</style>\n",
       "<table border=\"1\" class=\"dataframe\">\n",
       "  <thead>\n",
       "    <tr style=\"text-align: right;\">\n",
       "      <th></th>\n",
       "      <th>PassengerId</th>\n",
       "      <th>HomePlanet</th>\n",
       "      <th>CryoSleep</th>\n",
       "      <th>Cabin</th>\n",
       "      <th>Destination</th>\n",
       "      <th>Age</th>\n",
       "      <th>VIP</th>\n",
       "      <th>RoomService</th>\n",
       "      <th>FoodCourt</th>\n",
       "      <th>ShoppingMall</th>\n",
       "      <th>Spa</th>\n",
       "      <th>VRDeck</th>\n",
       "      <th>Name</th>\n",
       "      <th>Transported</th>\n",
       "    </tr>\n",
       "  </thead>\n",
       "  <tbody>\n",
       "    <tr>\n",
       "      <th>0</th>\n",
       "      <td>0001_01</td>\n",
       "      <td>Europa</td>\n",
       "      <td>1</td>\n",
       "      <td>B/0/P</td>\n",
       "      <td>TRAPPIST-1e</td>\n",
       "      <td>39.0</td>\n",
       "      <td>0</td>\n",
       "      <td>-0.347347</td>\n",
       "      <td>-0.288217</td>\n",
       "      <td>-0.299346</td>\n",
       "      <td>-0.275704</td>\n",
       "      <td>-0.262262</td>\n",
       "      <td>Maham Ofracculy</td>\n",
       "      <td>False</td>\n",
       "    </tr>\n",
       "    <tr>\n",
       "      <th>1</th>\n",
       "      <td>0002_01</td>\n",
       "      <td>Earth</td>\n",
       "      <td>0</td>\n",
       "      <td>F/0/S</td>\n",
       "      <td>TRAPPIST-1e</td>\n",
       "      <td>24.0</td>\n",
       "      <td>1</td>\n",
       "      <td>-0.177490</td>\n",
       "      <td>-0.282478</td>\n",
       "      <td>-0.256559</td>\n",
       "      <td>0.214969</td>\n",
       "      <td>-0.224648</td>\n",
       "      <td>Juanna Vines</td>\n",
       "      <td>True</td>\n",
       "    </tr>\n",
       "    <tr>\n",
       "      <th>2</th>\n",
       "      <td>0003_01</td>\n",
       "      <td>Europa</td>\n",
       "      <td>0</td>\n",
       "      <td>A/0/S</td>\n",
       "      <td>TRAPPIST-1e</td>\n",
       "      <td>58.0</td>\n",
       "      <td>1</td>\n",
       "      <td>-0.280339</td>\n",
       "      <td>1.992206</td>\n",
       "      <td>-0.299346</td>\n",
       "      <td>5.725881</td>\n",
       "      <td>-0.220374</td>\n",
       "      <td>Altark Susent</td>\n",
       "      <td>False</td>\n",
       "    </tr>\n",
       "    <tr>\n",
       "      <th>3</th>\n",
       "      <td>0003_02</td>\n",
       "      <td>Europa</td>\n",
       "      <td>0</td>\n",
       "      <td>A/0/S</td>\n",
       "      <td>TRAPPIST-1e</td>\n",
       "      <td>33.0</td>\n",
       "      <td>1</td>\n",
       "      <td>-0.347347</td>\n",
       "      <td>0.529955</td>\n",
       "      <td>0.335608</td>\n",
       "      <td>2.699616</td>\n",
       "      <td>-0.097274</td>\n",
       "      <td>Solam Susent</td>\n",
       "      <td>False</td>\n",
       "    </tr>\n",
       "    <tr>\n",
       "      <th>4</th>\n",
       "      <td>0004_01</td>\n",
       "      <td>Earth</td>\n",
       "      <td>0</td>\n",
       "      <td>F/1/S</td>\n",
       "      <td>TRAPPIST-1e</td>\n",
       "      <td>16.0</td>\n",
       "      <td>1</td>\n",
       "      <td>0.124825</td>\n",
       "      <td>-0.243578</td>\n",
       "      <td>-0.040914</td>\n",
       "      <td>0.229270</td>\n",
       "      <td>-0.260553</td>\n",
       "      <td>Willy Santantines</td>\n",
       "      <td>True</td>\n",
       "    </tr>\n",
       "    <tr>\n",
       "      <th>...</th>\n",
       "      <td>...</td>\n",
       "      <td>...</td>\n",
       "      <td>...</td>\n",
       "      <td>...</td>\n",
       "      <td>...</td>\n",
       "      <td>...</td>\n",
       "      <td>...</td>\n",
       "      <td>...</td>\n",
       "      <td>...</td>\n",
       "      <td>...</td>\n",
       "      <td>...</td>\n",
       "      <td>...</td>\n",
       "      <td>...</td>\n",
       "      <td>...</td>\n",
       "    </tr>\n",
       "    <tr>\n",
       "      <th>4272</th>\n",
       "      <td>9266_02</td>\n",
       "      <td>Earth</td>\n",
       "      <td>1</td>\n",
       "      <td>G/1496/S</td>\n",
       "      <td>TRAPPIST-1e</td>\n",
       "      <td>34.0</td>\n",
       "      <td>0</td>\n",
       "      <td>-0.347347</td>\n",
       "      <td>-0.288217</td>\n",
       "      <td>-0.299346</td>\n",
       "      <td>-0.275704</td>\n",
       "      <td>-0.262262</td>\n",
       "      <td>Jeron Peter</td>\n",
       "      <td>NaN</td>\n",
       "    </tr>\n",
       "    <tr>\n",
       "      <th>4273</th>\n",
       "      <td>9269_01</td>\n",
       "      <td>Earth</td>\n",
       "      <td>0</td>\n",
       "      <td>NaN</td>\n",
       "      <td>TRAPPIST-1e</td>\n",
       "      <td>42.0</td>\n",
       "      <td>1</td>\n",
       "      <td>-0.347347</td>\n",
       "      <td>0.251917</td>\n",
       "      <td>-0.270251</td>\n",
       "      <td>-0.266766</td>\n",
       "      <td>-0.139162</td>\n",
       "      <td>Matty Scheron</td>\n",
       "      <td>NaN</td>\n",
       "    </tr>\n",
       "    <tr>\n",
       "      <th>4274</th>\n",
       "      <td>9271_01</td>\n",
       "      <td>Mars</td>\n",
       "      <td>1</td>\n",
       "      <td>D/296/P</td>\n",
       "      <td>55 Cancri e</td>\n",
       "      <td>NaN</td>\n",
       "      <td>0</td>\n",
       "      <td>-0.347347</td>\n",
       "      <td>-0.288217</td>\n",
       "      <td>-0.299346</td>\n",
       "      <td>-0.275704</td>\n",
       "      <td>-0.262262</td>\n",
       "      <td>Jayrin Pore</td>\n",
       "      <td>NaN</td>\n",
       "    </tr>\n",
       "    <tr>\n",
       "      <th>4275</th>\n",
       "      <td>9273_01</td>\n",
       "      <td>Europa</td>\n",
       "      <td>0</td>\n",
       "      <td>D/297/P</td>\n",
       "      <td>NaN</td>\n",
       "      <td>NaN</td>\n",
       "      <td>1</td>\n",
       "      <td>-0.347347</td>\n",
       "      <td>1.420825</td>\n",
       "      <td>-0.299346</td>\n",
       "      <td>-0.275704</td>\n",
       "      <td>0.184830</td>\n",
       "      <td>Kitakan Conale</td>\n",
       "      <td>NaN</td>\n",
       "    </tr>\n",
       "    <tr>\n",
       "      <th>4276</th>\n",
       "      <td>9277_01</td>\n",
       "      <td>Earth</td>\n",
       "      <td>1</td>\n",
       "      <td>G/1498/S</td>\n",
       "      <td>PSO J318.5-22</td>\n",
       "      <td>43.0</td>\n",
       "      <td>0</td>\n",
       "      <td>-0.347347</td>\n",
       "      <td>-0.288217</td>\n",
       "      <td>-0.299346</td>\n",
       "      <td>-0.275704</td>\n",
       "      <td>-0.262262</td>\n",
       "      <td>Lilace Leonzaley</td>\n",
       "      <td>NaN</td>\n",
       "    </tr>\n",
       "  </tbody>\n",
       "</table>\n",
       "<p>12970 rows × 14 columns</p>\n",
       "</div>"
      ],
      "text/plain": [
       "     PassengerId HomePlanet  CryoSleep     Cabin    Destination   Age  VIP  \\\n",
       "0        0001_01     Europa          1     B/0/P    TRAPPIST-1e  39.0    0   \n",
       "1        0002_01      Earth          0     F/0/S    TRAPPIST-1e  24.0    1   \n",
       "2        0003_01     Europa          0     A/0/S    TRAPPIST-1e  58.0    1   \n",
       "3        0003_02     Europa          0     A/0/S    TRAPPIST-1e  33.0    1   \n",
       "4        0004_01      Earth          0     F/1/S    TRAPPIST-1e  16.0    1   \n",
       "...          ...        ...        ...       ...            ...   ...  ...   \n",
       "4272     9266_02      Earth          1  G/1496/S    TRAPPIST-1e  34.0    0   \n",
       "4273     9269_01      Earth          0       NaN    TRAPPIST-1e  42.0    1   \n",
       "4274     9271_01       Mars          1   D/296/P    55 Cancri e   NaN    0   \n",
       "4275     9273_01     Europa          0   D/297/P            NaN   NaN    1   \n",
       "4276     9277_01      Earth          1  G/1498/S  PSO J318.5-22  43.0    0   \n",
       "\n",
       "      RoomService  FoodCourt  ShoppingMall       Spa    VRDeck  \\\n",
       "0       -0.347347  -0.288217     -0.299346 -0.275704 -0.262262   \n",
       "1       -0.177490  -0.282478     -0.256559  0.214969 -0.224648   \n",
       "2       -0.280339   1.992206     -0.299346  5.725881 -0.220374   \n",
       "3       -0.347347   0.529955      0.335608  2.699616 -0.097274   \n",
       "4        0.124825  -0.243578     -0.040914  0.229270 -0.260553   \n",
       "...           ...        ...           ...       ...       ...   \n",
       "4272    -0.347347  -0.288217     -0.299346 -0.275704 -0.262262   \n",
       "4273    -0.347347   0.251917     -0.270251 -0.266766 -0.139162   \n",
       "4274    -0.347347  -0.288217     -0.299346 -0.275704 -0.262262   \n",
       "4275    -0.347347   1.420825     -0.299346 -0.275704  0.184830   \n",
       "4276    -0.347347  -0.288217     -0.299346 -0.275704 -0.262262   \n",
       "\n",
       "                   Name Transported  \n",
       "0       Maham Ofracculy       False  \n",
       "1          Juanna Vines        True  \n",
       "2         Altark Susent       False  \n",
       "3          Solam Susent       False  \n",
       "4     Willy Santantines        True  \n",
       "...                 ...         ...  \n",
       "4272        Jeron Peter         NaN  \n",
       "4273      Matty Scheron         NaN  \n",
       "4274        Jayrin Pore         NaN  \n",
       "4275     Kitakan Conale         NaN  \n",
       "4276   Lilace Leonzaley         NaN  \n",
       "\n",
       "[12970 rows x 14 columns]"
      ]
     },
     "execution_count": 11,
     "metadata": {},
     "output_type": "execute_result"
    }
   ],
   "source": [
    "\n",
    "train_test['RoomService'] = (train_test['RoomService'] - train_test['RoomService'].mean()) / train_test['RoomService'].std()\n",
    "train_test['FoodCourt'] = (train_test['FoodCourt'] - train_test['FoodCourt'].mean()) / train_test['FoodCourt'].std()\n",
    "train_test['ShoppingMall'] = (train_test['ShoppingMall'] - train_test['ShoppingMall'].mean()) / train_test['ShoppingMall'].std()\n",
    "train_test['Spa'] = (train_test['Spa'] - train_test['Spa'].mean()) / train_test['Spa'].std()\n",
    "train_test['VRDeck'] = (train_test['VRDeck'] - train_test['VRDeck'].mean()) / train_test['VRDeck'].std()\n",
    "\n",
    "\n",
    "train_test"
   ]
  },
  {
   "cell_type": "markdown",
   "id": "ba7d6a71",
   "metadata": {
    "papermill": {
     "duration": 0.018788,
     "end_time": "2023-12-09T12:53:21.872731",
     "exception": false,
     "start_time": "2023-12-09T12:53:21.853943",
     "status": "completed"
    },
    "tags": []
   },
   "source": [
    "> HomePlanet: {'Earth', 'Europa', 'Mars', nan}\n",
    "> {1,2,3,4}\n",
    "> \n",
    "> #######################\n",
    "> \n",
    "> Destination: {'55 Cancri e', 'PSO J318.5-22', 'TRAPPIST-1e', nan}\n",
    "> {1,2,3,4}\n",
    "> \n",
    "> \n",
    "> #######################\n",
    "> \n",
    "> Cabin Class = {'A': 1, 'B': 2, 'C': 3, 'D': 4, 'E': 5, 'F': 6, 'G': 7, 'H': 8, 'I': 9, 'J': 10}"
   ]
  },
  {
   "cell_type": "code",
   "execution_count": 12,
   "id": "faca2954",
   "metadata": {
    "execution": {
     "iopub.execute_input": "2023-12-09T12:53:21.909998Z",
     "iopub.status.busy": "2023-12-09T12:53:21.908656Z",
     "iopub.status.idle": "2023-12-09T12:53:21.983261Z",
     "shell.execute_reply": "2023-12-09T12:53:21.982074Z"
    },
    "papermill": {
     "duration": 0.095777,
     "end_time": "2023-12-09T12:53:21.985956",
     "exception": false,
     "start_time": "2023-12-09T12:53:21.890179",
     "status": "completed"
    },
    "tags": []
   },
   "outputs": [
    {
     "data": {
      "text/html": [
       "<div>\n",
       "<style scoped>\n",
       "    .dataframe tbody tr th:only-of-type {\n",
       "        vertical-align: middle;\n",
       "    }\n",
       "\n",
       "    .dataframe tbody tr th {\n",
       "        vertical-align: top;\n",
       "    }\n",
       "\n",
       "    .dataframe thead th {\n",
       "        text-align: right;\n",
       "    }\n",
       "</style>\n",
       "<table border=\"1\" class=\"dataframe\">\n",
       "  <thead>\n",
       "    <tr style=\"text-align: right;\">\n",
       "      <th></th>\n",
       "      <th>PassengerId</th>\n",
       "      <th>HomePlanet</th>\n",
       "      <th>CryoSleep</th>\n",
       "      <th>Cabin</th>\n",
       "      <th>Destination</th>\n",
       "      <th>Age</th>\n",
       "      <th>VIP</th>\n",
       "      <th>RoomService</th>\n",
       "      <th>FoodCourt</th>\n",
       "      <th>ShoppingMall</th>\n",
       "      <th>Spa</th>\n",
       "      <th>VRDeck</th>\n",
       "      <th>Name</th>\n",
       "      <th>Transported</th>\n",
       "    </tr>\n",
       "  </thead>\n",
       "  <tbody>\n",
       "    <tr>\n",
       "      <th>0</th>\n",
       "      <td>0001_01</td>\n",
       "      <td>2.0</td>\n",
       "      <td>1</td>\n",
       "      <td>B/0/P</td>\n",
       "      <td>3.0</td>\n",
       "      <td>39.0</td>\n",
       "      <td>0</td>\n",
       "      <td>-0.347347</td>\n",
       "      <td>-0.288217</td>\n",
       "      <td>-0.299346</td>\n",
       "      <td>-0.275704</td>\n",
       "      <td>-0.262262</td>\n",
       "      <td>Maham Ofracculy</td>\n",
       "      <td>0.0</td>\n",
       "    </tr>\n",
       "    <tr>\n",
       "      <th>1</th>\n",
       "      <td>0002_01</td>\n",
       "      <td>1.0</td>\n",
       "      <td>0</td>\n",
       "      <td>F/0/S</td>\n",
       "      <td>3.0</td>\n",
       "      <td>24.0</td>\n",
       "      <td>1</td>\n",
       "      <td>-0.177490</td>\n",
       "      <td>-0.282478</td>\n",
       "      <td>-0.256559</td>\n",
       "      <td>0.214969</td>\n",
       "      <td>-0.224648</td>\n",
       "      <td>Juanna Vines</td>\n",
       "      <td>1.0</td>\n",
       "    </tr>\n",
       "    <tr>\n",
       "      <th>2</th>\n",
       "      <td>0003_01</td>\n",
       "      <td>2.0</td>\n",
       "      <td>0</td>\n",
       "      <td>A/0/S</td>\n",
       "      <td>3.0</td>\n",
       "      <td>58.0</td>\n",
       "      <td>1</td>\n",
       "      <td>-0.280339</td>\n",
       "      <td>1.992206</td>\n",
       "      <td>-0.299346</td>\n",
       "      <td>5.725881</td>\n",
       "      <td>-0.220374</td>\n",
       "      <td>Altark Susent</td>\n",
       "      <td>0.0</td>\n",
       "    </tr>\n",
       "    <tr>\n",
       "      <th>3</th>\n",
       "      <td>0003_02</td>\n",
       "      <td>2.0</td>\n",
       "      <td>0</td>\n",
       "      <td>A/0/S</td>\n",
       "      <td>3.0</td>\n",
       "      <td>33.0</td>\n",
       "      <td>1</td>\n",
       "      <td>-0.347347</td>\n",
       "      <td>0.529955</td>\n",
       "      <td>0.335608</td>\n",
       "      <td>2.699616</td>\n",
       "      <td>-0.097274</td>\n",
       "      <td>Solam Susent</td>\n",
       "      <td>0.0</td>\n",
       "    </tr>\n",
       "    <tr>\n",
       "      <th>4</th>\n",
       "      <td>0004_01</td>\n",
       "      <td>1.0</td>\n",
       "      <td>0</td>\n",
       "      <td>F/1/S</td>\n",
       "      <td>3.0</td>\n",
       "      <td>16.0</td>\n",
       "      <td>1</td>\n",
       "      <td>0.124825</td>\n",
       "      <td>-0.243578</td>\n",
       "      <td>-0.040914</td>\n",
       "      <td>0.229270</td>\n",
       "      <td>-0.260553</td>\n",
       "      <td>Willy Santantines</td>\n",
       "      <td>1.0</td>\n",
       "    </tr>\n",
       "    <tr>\n",
       "      <th>...</th>\n",
       "      <td>...</td>\n",
       "      <td>...</td>\n",
       "      <td>...</td>\n",
       "      <td>...</td>\n",
       "      <td>...</td>\n",
       "      <td>...</td>\n",
       "      <td>...</td>\n",
       "      <td>...</td>\n",
       "      <td>...</td>\n",
       "      <td>...</td>\n",
       "      <td>...</td>\n",
       "      <td>...</td>\n",
       "      <td>...</td>\n",
       "      <td>...</td>\n",
       "    </tr>\n",
       "    <tr>\n",
       "      <th>4272</th>\n",
       "      <td>9266_02</td>\n",
       "      <td>1.0</td>\n",
       "      <td>1</td>\n",
       "      <td>G/1496/S</td>\n",
       "      <td>3.0</td>\n",
       "      <td>34.0</td>\n",
       "      <td>0</td>\n",
       "      <td>-0.347347</td>\n",
       "      <td>-0.288217</td>\n",
       "      <td>-0.299346</td>\n",
       "      <td>-0.275704</td>\n",
       "      <td>-0.262262</td>\n",
       "      <td>Jeron Peter</td>\n",
       "      <td>NaN</td>\n",
       "    </tr>\n",
       "    <tr>\n",
       "      <th>4273</th>\n",
       "      <td>9269_01</td>\n",
       "      <td>1.0</td>\n",
       "      <td>0</td>\n",
       "      <td>NaN</td>\n",
       "      <td>3.0</td>\n",
       "      <td>42.0</td>\n",
       "      <td>1</td>\n",
       "      <td>-0.347347</td>\n",
       "      <td>0.251917</td>\n",
       "      <td>-0.270251</td>\n",
       "      <td>-0.266766</td>\n",
       "      <td>-0.139162</td>\n",
       "      <td>Matty Scheron</td>\n",
       "      <td>NaN</td>\n",
       "    </tr>\n",
       "    <tr>\n",
       "      <th>4274</th>\n",
       "      <td>9271_01</td>\n",
       "      <td>3.0</td>\n",
       "      <td>1</td>\n",
       "      <td>D/296/P</td>\n",
       "      <td>1.0</td>\n",
       "      <td>NaN</td>\n",
       "      <td>0</td>\n",
       "      <td>-0.347347</td>\n",
       "      <td>-0.288217</td>\n",
       "      <td>-0.299346</td>\n",
       "      <td>-0.275704</td>\n",
       "      <td>-0.262262</td>\n",
       "      <td>Jayrin Pore</td>\n",
       "      <td>NaN</td>\n",
       "    </tr>\n",
       "    <tr>\n",
       "      <th>4275</th>\n",
       "      <td>9273_01</td>\n",
       "      <td>2.0</td>\n",
       "      <td>0</td>\n",
       "      <td>D/297/P</td>\n",
       "      <td>NaN</td>\n",
       "      <td>NaN</td>\n",
       "      <td>1</td>\n",
       "      <td>-0.347347</td>\n",
       "      <td>1.420825</td>\n",
       "      <td>-0.299346</td>\n",
       "      <td>-0.275704</td>\n",
       "      <td>0.184830</td>\n",
       "      <td>Kitakan Conale</td>\n",
       "      <td>NaN</td>\n",
       "    </tr>\n",
       "    <tr>\n",
       "      <th>4276</th>\n",
       "      <td>9277_01</td>\n",
       "      <td>1.0</td>\n",
       "      <td>1</td>\n",
       "      <td>G/1498/S</td>\n",
       "      <td>2.0</td>\n",
       "      <td>43.0</td>\n",
       "      <td>0</td>\n",
       "      <td>-0.347347</td>\n",
       "      <td>-0.288217</td>\n",
       "      <td>-0.299346</td>\n",
       "      <td>-0.275704</td>\n",
       "      <td>-0.262262</td>\n",
       "      <td>Lilace Leonzaley</td>\n",
       "      <td>NaN</td>\n",
       "    </tr>\n",
       "  </tbody>\n",
       "</table>\n",
       "<p>12970 rows × 14 columns</p>\n",
       "</div>"
      ],
      "text/plain": [
       "     PassengerId  HomePlanet  CryoSleep     Cabin  Destination   Age  VIP  \\\n",
       "0        0001_01         2.0          1     B/0/P          3.0  39.0    0   \n",
       "1        0002_01         1.0          0     F/0/S          3.0  24.0    1   \n",
       "2        0003_01         2.0          0     A/0/S          3.0  58.0    1   \n",
       "3        0003_02         2.0          0     A/0/S          3.0  33.0    1   \n",
       "4        0004_01         1.0          0     F/1/S          3.0  16.0    1   \n",
       "...          ...         ...        ...       ...          ...   ...  ...   \n",
       "4272     9266_02         1.0          1  G/1496/S          3.0  34.0    0   \n",
       "4273     9269_01         1.0          0       NaN          3.0  42.0    1   \n",
       "4274     9271_01         3.0          1   D/296/P          1.0   NaN    0   \n",
       "4275     9273_01         2.0          0   D/297/P          NaN   NaN    1   \n",
       "4276     9277_01         1.0          1  G/1498/S          2.0  43.0    0   \n",
       "\n",
       "      RoomService  FoodCourt  ShoppingMall       Spa    VRDeck  \\\n",
       "0       -0.347347  -0.288217     -0.299346 -0.275704 -0.262262   \n",
       "1       -0.177490  -0.282478     -0.256559  0.214969 -0.224648   \n",
       "2       -0.280339   1.992206     -0.299346  5.725881 -0.220374   \n",
       "3       -0.347347   0.529955      0.335608  2.699616 -0.097274   \n",
       "4        0.124825  -0.243578     -0.040914  0.229270 -0.260553   \n",
       "...           ...        ...           ...       ...       ...   \n",
       "4272    -0.347347  -0.288217     -0.299346 -0.275704 -0.262262   \n",
       "4273    -0.347347   0.251917     -0.270251 -0.266766 -0.139162   \n",
       "4274    -0.347347  -0.288217     -0.299346 -0.275704 -0.262262   \n",
       "4275    -0.347347   1.420825     -0.299346 -0.275704  0.184830   \n",
       "4276    -0.347347  -0.288217     -0.299346 -0.275704 -0.262262   \n",
       "\n",
       "                   Name  Transported  \n",
       "0       Maham Ofracculy          0.0  \n",
       "1          Juanna Vines          1.0  \n",
       "2         Altark Susent          0.0  \n",
       "3          Solam Susent          0.0  \n",
       "4     Willy Santantines          1.0  \n",
       "...                 ...          ...  \n",
       "4272        Jeron Peter          NaN  \n",
       "4273      Matty Scheron          NaN  \n",
       "4274        Jayrin Pore          NaN  \n",
       "4275     Kitakan Conale          NaN  \n",
       "4276   Lilace Leonzaley          NaN  \n",
       "\n",
       "[12970 rows x 14 columns]"
      ]
     },
     "execution_count": 12,
     "metadata": {},
     "output_type": "execute_result"
    }
   ],
   "source": [
    "#CryoSleep Train\n",
    "train_test['CryoSleep'].replace({True: 1, False: 0}, inplace=True)\n",
    "\n",
    "#Transported Train\n",
    "train_test['Transported'] = train_test['Transported'].replace({True: 1, False: 0})\n",
    "\n",
    "#HomePlanet Train\n",
    "train_test['HomePlanet'].replace('Earth', 1, inplace=True)\n",
    "train_test['HomePlanet'].replace('Europa', 2, inplace=True)\n",
    "train_test['HomePlanet'].replace('Mars', 3, inplace=True)\n",
    "\n",
    "#Destination Train\n",
    "train_test['Destination'].replace('55 Cancri e', 1, inplace=True)\n",
    "train_test['Destination'].replace('PSO J318.5-22', 2, inplace=True)\n",
    "train_test['Destination'].replace('TRAPPIST-1e', 3, inplace=True)\n",
    "\n",
    "\n",
    "#Vip Train\n",
    "train_test['VIP'].replace({True: 1, False: 0}, inplace=True)\n",
    "\n",
    "\n",
    "########################################################\n",
    "\n",
    "\n",
    "# #CryoSleep Test\n",
    "# test['CryoSleep'].replace({True: 1, False: 0}, inplace=True)\n",
    "\n",
    "# #Transported Test\n",
    "# # Don't have transported\n",
    "\n",
    "# #HomePlanet Test\n",
    "# test['HomePlanet'].replace('Earth', 1, inplace=True)\n",
    "# test['HomePlanet'].replace('Europa', 2, inplace=True)\n",
    "# test['HomePlanet'].replace('Mars', 3, inplace=True)\n",
    "\n",
    "# #Destination Test\n",
    "# test['Destination'].replace('55 Cancri e', 1, inplace=True)\n",
    "# test['Destination'].replace('PSO J318.5-22', 2, inplace=True)\n",
    "# test['Destination'].replace('TRAPPIST-1e', 3, inplace=True)\n",
    "\n",
    "# #Vip Test\n",
    "# test['VIP'].replace({True: 1, False: 0}, inplace=True)\n",
    "\n",
    "\n",
    "train_test\n",
    "# train_test.info()\n",
    "# test.head(3)"
   ]
  },
  {
   "cell_type": "code",
   "execution_count": 13,
   "id": "f6fc2af6",
   "metadata": {
    "execution": {
     "iopub.execute_input": "2023-12-09T12:53:22.024937Z",
     "iopub.status.busy": "2023-12-09T12:53:22.024448Z",
     "iopub.status.idle": "2023-12-09T12:53:22.034846Z",
     "shell.execute_reply": "2023-12-09T12:53:22.033618Z"
    },
    "papermill": {
     "duration": 0.031976,
     "end_time": "2023-12-09T12:53:22.037124",
     "exception": false,
     "start_time": "2023-12-09T12:53:22.005148",
     "status": "completed"
    },
    "tags": []
   },
   "outputs": [
    {
     "data": {
      "text/plain": [
       "270"
      ]
     },
     "execution_count": 13,
     "metadata": {},
     "output_type": "execute_result"
    }
   ],
   "source": [
    "# expenses_grouped = train_test.groupby('Transported')[Expenses_columns].mean()\n",
    "\n",
    "# plt.figure(figsize=(12, 6))\n",
    "# expenses_grouped.plot(kind='bar')\n",
    "# plt.xlabel('Transported')\n",
    "# plt.ylabel('Average Expenses')\n",
    "# plt.title('Average Expenses by Transported')\n",
    "# plt.legend(Expenses_columns)\n",
    "# plt.show()\n",
    "\n",
    "sum(train_test[\"Age\"].isna())"
   ]
  },
  {
   "cell_type": "markdown",
   "id": "d99c0ae4",
   "metadata": {
    "papermill": {
     "duration": 0.017416,
     "end_time": "2023-12-09T12:53:22.072588",
     "exception": false,
     "start_time": "2023-12-09T12:53:22.055172",
     "status": "completed"
    },
    "tags": []
   },
   "source": [
    "# 4. Filling NaN and Null cells"
   ]
  },
  {
   "cell_type": "code",
   "execution_count": 14,
   "id": "59d30a30",
   "metadata": {
    "execution": {
     "iopub.execute_input": "2023-12-09T12:53:22.110933Z",
     "iopub.status.busy": "2023-12-09T12:53:22.110380Z",
     "iopub.status.idle": "2023-12-09T12:53:22.150372Z",
     "shell.execute_reply": "2023-12-09T12:53:22.149183Z"
    },
    "papermill": {
     "duration": 0.063165,
     "end_time": "2023-12-09T12:53:22.153300",
     "exception": false,
     "start_time": "2023-12-09T12:53:22.090135",
     "status": "completed"
    },
    "tags": []
   },
   "outputs": [
    {
     "name": "stdout",
     "output_type": "stream",
     "text": [
      "PassengerId        0\n",
      "HomePlanet         0\n",
      "CryoSleep          0\n",
      "Cabin              0\n",
      "Destination        0\n",
      "Age                0\n",
      "VIP                0\n",
      "RoomService        0\n",
      "FoodCourt          0\n",
      "ShoppingMall       0\n",
      "Spa                0\n",
      "VRDeck             0\n",
      "Name               0\n",
      "Transported     4277\n",
      "dtype: int64\n"
     ]
    }
   ],
   "source": [
    "#Data For Train_Test\n",
    "train_test[\"Name\"].fillna(\"Unknown Unknown\",inplace=True)\n",
    "train_test[\"HomePlanet\"].fillna(train_test[\"HomePlanet\"].mode()[0],inplace=True)\n",
    "train_test[\"Destination\"].fillna(train_test[\"Destination\"].mode()[0],inplace=True)\n",
    "train_test[\"Cabin\"].fillna(train_test[\"Cabin\"].mode()[0],inplace=True)\n",
    "train_test[\"Age\"].fillna(int(train_test[\"Age\"].mean()),inplace=True)\n",
    "train_test[\"RoomService\"].fillna(train_test[\"RoomService\"].mean(),inplace=True)\n",
    "train_test[\"FoodCourt\"].fillna(train_test[\"FoodCourt\"].mean(),inplace=True)\n",
    "train_test[\"ShoppingMall\"].fillna(train_test[\"ShoppingMall\"].mean(),inplace=True)\n",
    "train_test[\"Spa\"].fillna(train_test[\"Spa\"].mean(),inplace=True)\n",
    "train_test[\"VRDeck\"].fillna(train_test[\"VRDeck\"].mean(),inplace=True)\n",
    "\n",
    "# Define the bins and labels for AGE column\n",
    "bins = [0, 15, 25, 35, 45, 60, 75, 90,120, 150]\n",
    "labels = [1, 2, 3, 4, 5, 6, 7, 8, 9]\n",
    "\n",
    "# Use pd.cut to scale the 'Age' column\n",
    "train_test['Age'] = pd.cut(train_test['Age'], bins=bins, labels=labels, right=False)\n",
    "# test['Age'] = pd.cut(test['Age'], bins=bins, labels=labels, right=False)\n",
    "\n",
    "\n",
    "\n",
    "\n",
    "#No Nan, Null or empty cell\n",
    "print(train_test.isna().sum())"
   ]
  },
  {
   "cell_type": "code",
   "execution_count": 15,
   "id": "c56393a5",
   "metadata": {
    "execution": {
     "iopub.execute_input": "2023-12-09T12:53:22.192773Z",
     "iopub.status.busy": "2023-12-09T12:53:22.192362Z",
     "iopub.status.idle": "2023-12-09T12:53:22.264437Z",
     "shell.execute_reply": "2023-12-09T12:53:22.263074Z"
    },
    "papermill": {
     "duration": 0.095043,
     "end_time": "2023-12-09T12:53:22.267379",
     "exception": false,
     "start_time": "2023-12-09T12:53:22.172336",
     "status": "completed"
    },
    "tags": []
   },
   "outputs": [
    {
     "data": {
      "text/html": [
       "<div>\n",
       "<style scoped>\n",
       "    .dataframe tbody tr th:only-of-type {\n",
       "        vertical-align: middle;\n",
       "    }\n",
       "\n",
       "    .dataframe tbody tr th {\n",
       "        vertical-align: top;\n",
       "    }\n",
       "\n",
       "    .dataframe thead th {\n",
       "        text-align: right;\n",
       "    }\n",
       "</style>\n",
       "<table border=\"1\" class=\"dataframe\">\n",
       "  <thead>\n",
       "    <tr style=\"text-align: right;\">\n",
       "      <th></th>\n",
       "      <th>PassengerId</th>\n",
       "      <th>HomePlanet</th>\n",
       "      <th>CryoSleep</th>\n",
       "      <th>Cabin</th>\n",
       "      <th>Destination</th>\n",
       "      <th>Age</th>\n",
       "      <th>VIP</th>\n",
       "      <th>RoomService</th>\n",
       "      <th>FoodCourt</th>\n",
       "      <th>ShoppingMall</th>\n",
       "      <th>Spa</th>\n",
       "      <th>VRDeck</th>\n",
       "      <th>Name</th>\n",
       "      <th>Transported</th>\n",
       "      <th>Deck</th>\n",
       "      <th>Port</th>\n",
       "    </tr>\n",
       "  </thead>\n",
       "  <tbody>\n",
       "    <tr>\n",
       "      <th>0</th>\n",
       "      <td>0001_01</td>\n",
       "      <td>2.0</td>\n",
       "      <td>1</td>\n",
       "      <td>0</td>\n",
       "      <td>3.0</td>\n",
       "      <td>4</td>\n",
       "      <td>0</td>\n",
       "      <td>-0.347347</td>\n",
       "      <td>-0.288217</td>\n",
       "      <td>-0.299346</td>\n",
       "      <td>-0.275704</td>\n",
       "      <td>-0.262262</td>\n",
       "      <td>Maham Ofracculy</td>\n",
       "      <td>0.0</td>\n",
       "      <td>2</td>\n",
       "      <td>1</td>\n",
       "    </tr>\n",
       "    <tr>\n",
       "      <th>1</th>\n",
       "      <td>0002_01</td>\n",
       "      <td>1.0</td>\n",
       "      <td>0</td>\n",
       "      <td>0</td>\n",
       "      <td>3.0</td>\n",
       "      <td>2</td>\n",
       "      <td>1</td>\n",
       "      <td>-0.177490</td>\n",
       "      <td>-0.282478</td>\n",
       "      <td>-0.256559</td>\n",
       "      <td>0.214969</td>\n",
       "      <td>-0.224648</td>\n",
       "      <td>Juanna Vines</td>\n",
       "      <td>1.0</td>\n",
       "      <td>6</td>\n",
       "      <td>0</td>\n",
       "    </tr>\n",
       "    <tr>\n",
       "      <th>2</th>\n",
       "      <td>0003_01</td>\n",
       "      <td>2.0</td>\n",
       "      <td>0</td>\n",
       "      <td>0</td>\n",
       "      <td>3.0</td>\n",
       "      <td>5</td>\n",
       "      <td>1</td>\n",
       "      <td>-0.280339</td>\n",
       "      <td>1.992206</td>\n",
       "      <td>-0.299346</td>\n",
       "      <td>5.725881</td>\n",
       "      <td>-0.220374</td>\n",
       "      <td>Altark Susent</td>\n",
       "      <td>0.0</td>\n",
       "      <td>1</td>\n",
       "      <td>0</td>\n",
       "    </tr>\n",
       "  </tbody>\n",
       "</table>\n",
       "</div>"
      ],
      "text/plain": [
       "  PassengerId  HomePlanet  CryoSleep Cabin  Destination Age  VIP  RoomService  \\\n",
       "0     0001_01         2.0          1     0          3.0   4    0    -0.347347   \n",
       "1     0002_01         1.0          0     0          3.0   2    1    -0.177490   \n",
       "2     0003_01         2.0          0     0          3.0   5    1    -0.280339   \n",
       "\n",
       "   FoodCourt  ShoppingMall       Spa    VRDeck             Name  Transported  \\\n",
       "0  -0.288217     -0.299346 -0.275704 -0.262262  Maham Ofracculy          0.0   \n",
       "1  -0.282478     -0.256559  0.214969 -0.224648     Juanna Vines          1.0   \n",
       "2   1.992206     -0.299346  5.725881 -0.220374    Altark Susent          0.0   \n",
       "\n",
       "   Deck  Port  \n",
       "0     2     1  \n",
       "1     6     0  \n",
       "2     1     0  "
      ]
     },
     "execution_count": 15,
     "metadata": {},
     "output_type": "execute_result"
    }
   ],
   "source": [
    "train_test[['Deck', 'Cabin', 'Port']] = train_test['Cabin'].str.split('/', expand=True)\n",
    "\n",
    "# Train Data\n",
    "#Port or Starboard of the cabins\n",
    "train_test['Port'].replace('S', 0, inplace=True)\n",
    "train_test['Port'].replace('P', 1, inplace=True)\n",
    "\n",
    "#Class of the cabins\n",
    "letter_to_int = {'A': 1, 'B': 2, 'C': 3, 'D': 4, 'E': 5, 'F': 6, 'G': 7, 'T': 8}\n",
    "train_test['Deck'] = train_test['Deck'].map(letter_to_int)\n",
    "\n",
    "\n",
    "#####################################\n",
    "#####################################\n",
    "#####################################\n",
    "\n",
    "# Test Data\n",
    "\n",
    "# #Port or Starboard of the cabins\n",
    "# test['Port'] = test['Cabin'].str.split('/').str[-1]\n",
    "# test['Port'].replace('S', 0, inplace=True)\n",
    "# test['Port'].replace('P', 1, inplace=True)\n",
    "\n",
    "# #Class of the cabins\n",
    "# test['Place'] = test['Cabin'].str.split('/').str[0]\n",
    "# letter_to_int = {'A': 1, 'B': 2, 'C': 3, 'D': 4, 'E': 5, 'F': 6, 'G': 7, 'T': 8}\n",
    "# test['Place'] = test['Place'].map(letter_to_int)\n",
    "\n",
    "\n",
    "# #Number of cabins\n",
    "# test['Cabin'] = test['Cabin'].str.split('/').str[1]\n",
    "\n",
    "\n",
    "\n",
    "train_test.head(3)"
   ]
  },
  {
   "cell_type": "code",
   "execution_count": 16,
   "id": "1401c874",
   "metadata": {
    "execution": {
     "iopub.execute_input": "2023-12-09T12:53:22.307016Z",
     "iopub.status.busy": "2023-12-09T12:53:22.306262Z",
     "iopub.status.idle": "2023-12-09T12:53:22.397511Z",
     "shell.execute_reply": "2023-12-09T12:53:22.396378Z"
    },
    "papermill": {
     "duration": 0.114449,
     "end_time": "2023-12-09T12:53:22.400422",
     "exception": false,
     "start_time": "2023-12-09T12:53:22.285973",
     "status": "completed"
    },
    "tags": []
   },
   "outputs": [
    {
     "data": {
      "text/html": [
       "<div>\n",
       "<style scoped>\n",
       "    .dataframe tbody tr th:only-of-type {\n",
       "        vertical-align: middle;\n",
       "    }\n",
       "\n",
       "    .dataframe tbody tr th {\n",
       "        vertical-align: top;\n",
       "    }\n",
       "\n",
       "    .dataframe thead th {\n",
       "        text-align: right;\n",
       "    }\n",
       "</style>\n",
       "<table border=\"1\" class=\"dataframe\">\n",
       "  <thead>\n",
       "    <tr style=\"text-align: right;\">\n",
       "      <th></th>\n",
       "      <th>PassengerId</th>\n",
       "      <th>HomePlanet</th>\n",
       "      <th>CryoSleep</th>\n",
       "      <th>Cabin</th>\n",
       "      <th>Destination</th>\n",
       "      <th>Age</th>\n",
       "      <th>VIP</th>\n",
       "      <th>RoomService</th>\n",
       "      <th>FoodCourt</th>\n",
       "      <th>ShoppingMall</th>\n",
       "      <th>Spa</th>\n",
       "      <th>VRDeck</th>\n",
       "      <th>Name</th>\n",
       "      <th>Transported</th>\n",
       "      <th>Deck</th>\n",
       "      <th>Port</th>\n",
       "      <th>Group</th>\n",
       "      <th>FamilyGroupID</th>\n",
       "    </tr>\n",
       "  </thead>\n",
       "  <tbody>\n",
       "    <tr>\n",
       "      <th>0</th>\n",
       "      <td>0001_01</td>\n",
       "      <td>2.0</td>\n",
       "      <td>1</td>\n",
       "      <td>0</td>\n",
       "      <td>3.0</td>\n",
       "      <td>4</td>\n",
       "      <td>0</td>\n",
       "      <td>-0.347347</td>\n",
       "      <td>-0.288217</td>\n",
       "      <td>-0.299346</td>\n",
       "      <td>-0.275704</td>\n",
       "      <td>-0.262262</td>\n",
       "      <td>Ofracculy</td>\n",
       "      <td>0.0</td>\n",
       "      <td>2</td>\n",
       "      <td>1</td>\n",
       "      <td>0001</td>\n",
       "      <td>6305</td>\n",
       "    </tr>\n",
       "    <tr>\n",
       "      <th>1</th>\n",
       "      <td>0002_01</td>\n",
       "      <td>1.0</td>\n",
       "      <td>0</td>\n",
       "      <td>0</td>\n",
       "      <td>3.0</td>\n",
       "      <td>2</td>\n",
       "      <td>1</td>\n",
       "      <td>-0.177490</td>\n",
       "      <td>-0.282478</td>\n",
       "      <td>-0.256559</td>\n",
       "      <td>0.214969</td>\n",
       "      <td>-0.224648</td>\n",
       "      <td>Vines</td>\n",
       "      <td>1.0</td>\n",
       "      <td>6</td>\n",
       "      <td>0</td>\n",
       "      <td>0002</td>\n",
       "      <td>9276</td>\n",
       "    </tr>\n",
       "    <tr>\n",
       "      <th>2</th>\n",
       "      <td>0003_01</td>\n",
       "      <td>2.0</td>\n",
       "      <td>0</td>\n",
       "      <td>0</td>\n",
       "      <td>3.0</td>\n",
       "      <td>5</td>\n",
       "      <td>1</td>\n",
       "      <td>-0.280339</td>\n",
       "      <td>1.992206</td>\n",
       "      <td>-0.299346</td>\n",
       "      <td>5.725881</td>\n",
       "      <td>-0.220374</td>\n",
       "      <td>Susent</td>\n",
       "      <td>0.0</td>\n",
       "      <td>1</td>\n",
       "      <td>0</td>\n",
       "      <td>0003</td>\n",
       "      <td>8502</td>\n",
       "    </tr>\n",
       "    <tr>\n",
       "      <th>3</th>\n",
       "      <td>0003_02</td>\n",
       "      <td>2.0</td>\n",
       "      <td>0</td>\n",
       "      <td>0</td>\n",
       "      <td>3.0</td>\n",
       "      <td>3</td>\n",
       "      <td>1</td>\n",
       "      <td>-0.347347</td>\n",
       "      <td>0.529955</td>\n",
       "      <td>0.335608</td>\n",
       "      <td>2.699616</td>\n",
       "      <td>-0.097274</td>\n",
       "      <td>Susent</td>\n",
       "      <td>0.0</td>\n",
       "      <td>1</td>\n",
       "      <td>0</td>\n",
       "      <td>0003</td>\n",
       "      <td>8502</td>\n",
       "    </tr>\n",
       "    <tr>\n",
       "      <th>4</th>\n",
       "      <td>0004_01</td>\n",
       "      <td>1.0</td>\n",
       "      <td>0</td>\n",
       "      <td>1</td>\n",
       "      <td>3.0</td>\n",
       "      <td>2</td>\n",
       "      <td>1</td>\n",
       "      <td>0.124825</td>\n",
       "      <td>-0.243578</td>\n",
       "      <td>-0.040914</td>\n",
       "      <td>0.229270</td>\n",
       "      <td>-0.260553</td>\n",
       "      <td>Santantines</td>\n",
       "      <td>1.0</td>\n",
       "      <td>6</td>\n",
       "      <td>0</td>\n",
       "      <td>0004</td>\n",
       "      <td>7685</td>\n",
       "    </tr>\n",
       "    <tr>\n",
       "      <th>...</th>\n",
       "      <td>...</td>\n",
       "      <td>...</td>\n",
       "      <td>...</td>\n",
       "      <td>...</td>\n",
       "      <td>...</td>\n",
       "      <td>...</td>\n",
       "      <td>...</td>\n",
       "      <td>...</td>\n",
       "      <td>...</td>\n",
       "      <td>...</td>\n",
       "      <td>...</td>\n",
       "      <td>...</td>\n",
       "      <td>...</td>\n",
       "      <td>...</td>\n",
       "      <td>...</td>\n",
       "      <td>...</td>\n",
       "      <td>...</td>\n",
       "      <td>...</td>\n",
       "    </tr>\n",
       "    <tr>\n",
       "      <th>4272</th>\n",
       "      <td>9266_02</td>\n",
       "      <td>1.0</td>\n",
       "      <td>1</td>\n",
       "      <td>1496</td>\n",
       "      <td>3.0</td>\n",
       "      <td>3</td>\n",
       "      <td>0</td>\n",
       "      <td>-0.347347</td>\n",
       "      <td>-0.288217</td>\n",
       "      <td>-0.299346</td>\n",
       "      <td>-0.275704</td>\n",
       "      <td>-0.262262</td>\n",
       "      <td>Peter</td>\n",
       "      <td>NaN</td>\n",
       "      <td>7</td>\n",
       "      <td>0</td>\n",
       "      <td>9266</td>\n",
       "      <td>6676</td>\n",
       "    </tr>\n",
       "    <tr>\n",
       "      <th>4273</th>\n",
       "      <td>9269_01</td>\n",
       "      <td>1.0</td>\n",
       "      <td>0</td>\n",
       "      <td>160</td>\n",
       "      <td>3.0</td>\n",
       "      <td>4</td>\n",
       "      <td>1</td>\n",
       "      <td>-0.347347</td>\n",
       "      <td>0.251917</td>\n",
       "      <td>-0.270251</td>\n",
       "      <td>-0.266766</td>\n",
       "      <td>-0.139162</td>\n",
       "      <td>Scheron</td>\n",
       "      <td>NaN</td>\n",
       "      <td>7</td>\n",
       "      <td>1</td>\n",
       "      <td>9269</td>\n",
       "      <td>7753</td>\n",
       "    </tr>\n",
       "    <tr>\n",
       "      <th>4274</th>\n",
       "      <td>9271_01</td>\n",
       "      <td>3.0</td>\n",
       "      <td>1</td>\n",
       "      <td>296</td>\n",
       "      <td>1.0</td>\n",
       "      <td>3</td>\n",
       "      <td>0</td>\n",
       "      <td>-0.347347</td>\n",
       "      <td>-0.288217</td>\n",
       "      <td>-0.299346</td>\n",
       "      <td>-0.275704</td>\n",
       "      <td>-0.262262</td>\n",
       "      <td>Pore</td>\n",
       "      <td>NaN</td>\n",
       "      <td>4</td>\n",
       "      <td>1</td>\n",
       "      <td>9271</td>\n",
       "      <td>6868</td>\n",
       "    </tr>\n",
       "    <tr>\n",
       "      <th>4275</th>\n",
       "      <td>9273_01</td>\n",
       "      <td>2.0</td>\n",
       "      <td>0</td>\n",
       "      <td>297</td>\n",
       "      <td>3.0</td>\n",
       "      <td>3</td>\n",
       "      <td>1</td>\n",
       "      <td>-0.347347</td>\n",
       "      <td>1.420825</td>\n",
       "      <td>-0.299346</td>\n",
       "      <td>-0.275704</td>\n",
       "      <td>0.184830</td>\n",
       "      <td>Conale</td>\n",
       "      <td>NaN</td>\n",
       "      <td>4</td>\n",
       "      <td>1</td>\n",
       "      <td>9273</td>\n",
       "      <td>1990</td>\n",
       "    </tr>\n",
       "    <tr>\n",
       "      <th>4276</th>\n",
       "      <td>9277_01</td>\n",
       "      <td>1.0</td>\n",
       "      <td>1</td>\n",
       "      <td>1498</td>\n",
       "      <td>2.0</td>\n",
       "      <td>4</td>\n",
       "      <td>0</td>\n",
       "      <td>-0.347347</td>\n",
       "      <td>-0.288217</td>\n",
       "      <td>-0.299346</td>\n",
       "      <td>-0.275704</td>\n",
       "      <td>-0.262262</td>\n",
       "      <td>Leonzaley</td>\n",
       "      <td>NaN</td>\n",
       "      <td>7</td>\n",
       "      <td>0</td>\n",
       "      <td>9277</td>\n",
       "      <td>5194</td>\n",
       "    </tr>\n",
       "  </tbody>\n",
       "</table>\n",
       "<p>12970 rows × 18 columns</p>\n",
       "</div>"
      ],
      "text/plain": [
       "     PassengerId  HomePlanet  CryoSleep Cabin  Destination Age  VIP  \\\n",
       "0        0001_01         2.0          1     0          3.0   4    0   \n",
       "1        0002_01         1.0          0     0          3.0   2    1   \n",
       "2        0003_01         2.0          0     0          3.0   5    1   \n",
       "3        0003_02         2.0          0     0          3.0   3    1   \n",
       "4        0004_01         1.0          0     1          3.0   2    1   \n",
       "...          ...         ...        ...   ...          ...  ..  ...   \n",
       "4272     9266_02         1.0          1  1496          3.0   3    0   \n",
       "4273     9269_01         1.0          0   160          3.0   4    1   \n",
       "4274     9271_01         3.0          1   296          1.0   3    0   \n",
       "4275     9273_01         2.0          0   297          3.0   3    1   \n",
       "4276     9277_01         1.0          1  1498          2.0   4    0   \n",
       "\n",
       "      RoomService  FoodCourt  ShoppingMall       Spa    VRDeck         Name  \\\n",
       "0       -0.347347  -0.288217     -0.299346 -0.275704 -0.262262    Ofracculy   \n",
       "1       -0.177490  -0.282478     -0.256559  0.214969 -0.224648        Vines   \n",
       "2       -0.280339   1.992206     -0.299346  5.725881 -0.220374       Susent   \n",
       "3       -0.347347   0.529955      0.335608  2.699616 -0.097274       Susent   \n",
       "4        0.124825  -0.243578     -0.040914  0.229270 -0.260553  Santantines   \n",
       "...           ...        ...           ...       ...       ...          ...   \n",
       "4272    -0.347347  -0.288217     -0.299346 -0.275704 -0.262262        Peter   \n",
       "4273    -0.347347   0.251917     -0.270251 -0.266766 -0.139162      Scheron   \n",
       "4274    -0.347347  -0.288217     -0.299346 -0.275704 -0.262262         Pore   \n",
       "4275    -0.347347   1.420825     -0.299346 -0.275704  0.184830       Conale   \n",
       "4276    -0.347347  -0.288217     -0.299346 -0.275704 -0.262262    Leonzaley   \n",
       "\n",
       "      Transported  Deck  Port Group  FamilyGroupID  \n",
       "0             0.0     2     1  0001           6305  \n",
       "1             1.0     6     0  0002           9276  \n",
       "2             0.0     1     0  0003           8502  \n",
       "3             0.0     1     0  0003           8502  \n",
       "4             1.0     6     0  0004           7685  \n",
       "...           ...   ...   ...   ...            ...  \n",
       "4272          NaN     7     0  9266           6676  \n",
       "4273          NaN     7     1  9269           7753  \n",
       "4274          NaN     4     1  9271           6868  \n",
       "4275          NaN     4     1  9273           1990  \n",
       "4276          NaN     7     0  9277           5194  \n",
       "\n",
       "[12970 rows x 18 columns]"
      ]
     },
     "execution_count": 16,
     "metadata": {},
     "output_type": "execute_result"
    }
   ],
   "source": [
    "train_test['Group'] = train_test['PassengerId'].astype(str).str[:4]\n",
    "train_test['Name'] = train_test['Name'].str.split().str[-1]\n",
    "train_test['FamilyGroupID'] = train_test['Name'] + '_' + train_test['Group']\n",
    "train_test['FamilyGroupID'] = train_test.groupby('FamilyGroupID').ngroup()\n",
    "\n",
    "\n",
    "# train_test.drop(columns=[\"Group\"],inplace=True)\n",
    "# train_test['FamilyID'] = pd.factorize(train_test['FamilyGroupID'])[0]\n",
    "train_test"
   ]
  },
  {
   "cell_type": "code",
   "execution_count": 17,
   "id": "15cc8d40",
   "metadata": {
    "execution": {
     "iopub.execute_input": "2023-12-09T12:53:22.441467Z",
     "iopub.status.busy": "2023-12-09T12:53:22.440460Z",
     "iopub.status.idle": "2023-12-09T12:53:22.491018Z",
     "shell.execute_reply": "2023-12-09T12:53:22.489816Z"
    },
    "papermill": {
     "duration": 0.073959,
     "end_time": "2023-12-09T12:53:22.493619",
     "exception": false,
     "start_time": "2023-12-09T12:53:22.419660",
     "status": "completed"
    },
    "tags": []
   },
   "outputs": [
    {
     "name": "stdout",
     "output_type": "stream",
     "text": [
      "<class 'pandas.core.frame.DataFrame'>\n",
      "Index: 12970 entries, 0 to 4276\n",
      "Data columns (total 18 columns):\n",
      " #   Column         Non-Null Count  Dtype  \n",
      "---  ------         --------------  -----  \n",
      " 0   PassengerId    12970 non-null  object \n",
      " 1   HomePlanet     12970 non-null  Int64  \n",
      " 2   CryoSleep      12970 non-null  Int64  \n",
      " 3   Cabin          12970 non-null  Int64  \n",
      " 4   Destination    12970 non-null  Int64  \n",
      " 5   Age            12970 non-null  Int64  \n",
      " 6   VIP            12970 non-null  Int64  \n",
      " 7   RoomService    12970 non-null  float64\n",
      " 8   FoodCourt      12970 non-null  float64\n",
      " 9   ShoppingMall   12970 non-null  float64\n",
      " 10  Spa            12970 non-null  float64\n",
      " 11  VRDeck         12970 non-null  float64\n",
      " 12  Name           12970 non-null  object \n",
      " 13  Transported    8693 non-null   Int64  \n",
      " 14  Deck           12970 non-null  Int64  \n",
      " 15  Port           12970 non-null  Int64  \n",
      " 16  Group          12970 non-null  Int64  \n",
      " 17  FamilyGroupID  12970 non-null  int64  \n",
      "dtypes: Int64(10), float64(5), int64(1), object(2)\n",
      "memory usage: 2.0+ MB\n"
     ]
    }
   ],
   "source": [
    "train_test[['HomePlanet', 'CryoSleep', 'Cabin', 'Destination', 'Age', 'VIP', 'Port', 'Deck','Group']]= train_test[['HomePlanet', 'CryoSleep','Cabin', 'Destination', 'Age', 'VIP', 'Port', 'Deck','Group']].astype('Int64')\n",
    "# train_test[['RoomService', 'FoodCourt', 'ShoppingMall', 'Spa', 'VRDeck']]= train_test[['RoomService', 'FoodCourt', 'ShoppingMall', 'Spa', 'VRDeck']].astype('Int64')\n",
    "train_test[['Transported']]= train_test[['Transported']].astype('Int64')\n",
    "\n",
    "train_test.info()"
   ]
  },
  {
   "cell_type": "code",
   "execution_count": 18,
   "id": "5782a1e6",
   "metadata": {
    "execution": {
     "iopub.execute_input": "2023-12-09T12:53:22.535071Z",
     "iopub.status.busy": "2023-12-09T12:53:22.534268Z",
     "iopub.status.idle": "2023-12-09T12:53:22.548696Z",
     "shell.execute_reply": "2023-12-09T12:53:22.546838Z"
    },
    "papermill": {
     "duration": 0.038613,
     "end_time": "2023-12-09T12:53:22.551887",
     "exception": false,
     "start_time": "2023-12-09T12:53:22.513274",
     "status": "completed"
    },
    "tags": []
   },
   "outputs": [
    {
     "name": "stdout",
     "output_type": "stream",
     "text": [
      "PassengerId         0\n",
      "HomePlanet          0\n",
      "CryoSleep           0\n",
      "Cabin               0\n",
      "Destination         0\n",
      "Age                 0\n",
      "VIP                 0\n",
      "RoomService         0\n",
      "FoodCourt           0\n",
      "ShoppingMall        0\n",
      "Spa                 0\n",
      "VRDeck              0\n",
      "Name                0\n",
      "Transported      4277\n",
      "Deck                0\n",
      "Port                0\n",
      "Group               0\n",
      "FamilyGroupID       0\n",
      "dtype: int64\n"
     ]
    }
   ],
   "source": [
    "##Apply square root transformation\n",
    "\n",
    "## Train Data\n",
    "# train_test['RoomService'] = train_test['RoomService']**0.5\n",
    "# train_test['FoodCourt'] = train_test['FoodCourt']**0.5\n",
    "# train_test['ShoppingMall'] = train_test['ShoppingMall']**0.5\n",
    "# train_test['Spa'] = train_test['Spa']**0.5\n",
    "# train_test['VRDeck'] = train_test['VRDeck']**0.5\n",
    "\n",
    "# ## Test Data\n",
    "# test['RoomService'] = test['RoomService']**0.5\n",
    "# test['FoodCourt'] = test['FoodCourt']**0.5\n",
    "# test['ShoppingMall'] = test['ShoppingMall']**0.5\n",
    "# test['Spa'] = test['Spa']**0.5\n",
    "# test['VRDeck'] = test['VRDeck']**0.5\n",
    "\n",
    "# train_test.head(3)\n",
    "print(train_test.isna().sum())"
   ]
  },
  {
   "cell_type": "code",
   "execution_count": 19,
   "id": "c42a76fa",
   "metadata": {
    "execution": {
     "iopub.execute_input": "2023-12-09T12:53:22.593043Z",
     "iopub.status.busy": "2023-12-09T12:53:22.591813Z",
     "iopub.status.idle": "2023-12-09T12:53:23.189117Z",
     "shell.execute_reply": "2023-12-09T12:53:23.187990Z"
    },
    "papermill": {
     "duration": 0.620943,
     "end_time": "2023-12-09T12:53:23.192061",
     "exception": false,
     "start_time": "2023-12-09T12:53:22.571118",
     "status": "completed"
    },
    "tags": []
   },
   "outputs": [
    {
     "data": {
      "text/plain": [
       "<Axes: >"
      ]
     },
     "execution_count": 19,
     "metadata": {},
     "output_type": "execute_result"
    },
    {
     "data": {
      "image/png": "[encoded data removed]",
      "text/plain": [
       "<Figure size 640x480 with 2 Axes>"
      ]
     },
     "metadata": {},
     "output_type": "display_data"
    }
   ],
   "source": [
    "train_num = train_test.select_dtypes(include=['float64', 'int64'])\n",
    "\n",
    "# Calculate the correlations of numerical columns\n",
    "corr = train_num.corr()\n",
    "\n",
    "sns.heatmap(corr, annot=False)"
   ]
  },
  {
   "cell_type": "code",
   "execution_count": 20,
   "id": "7ec84c70",
   "metadata": {
    "execution": {
     "iopub.execute_input": "2023-12-09T12:53:23.234676Z",
     "iopub.status.busy": "2023-12-09T12:53:23.234062Z",
     "iopub.status.idle": "2023-12-09T12:53:23.239094Z",
     "shell.execute_reply": "2023-12-09T12:53:23.238240Z"
    },
    "papermill": {
     "duration": 0.029114,
     "end_time": "2023-12-09T12:53:23.241393",
     "exception": false,
     "start_time": "2023-12-09T12:53:23.212279",
     "status": "completed"
    },
    "tags": []
   },
   "outputs": [],
   "source": [
    "#print('cryo Taransported: ', sum(df[df.CryoSleep == 1].Transported), 'transported: ',sum(df.Transported))\n",
    "# # Calculate mean\n",
    "# df['Mean_luxury'] = df[['RoomService', 'FoodCourt', 'ShoppingMall', 'Spa', 'VRDeck']].mean(axis=1)\n",
    "\n",
    "# df = df.drop(columns=['RoomService', 'FoodCourt', 'ShoppingMall', 'Spa', 'VRDeck'])\n",
    "\n",
    "# df['BigSpender'] = np.where(df.Mean_luxury > 1000, 1,0)\n",
    "# df['Mid_Spender'] = np.where(df.Mean_luxury >= 500, 1,0)\n",
    "# df['Non_Spender'] = np.where(df.Mean_luxury == 0, 1,0)\n",
    "# df.head(3)"
   ]
  },
  {
   "cell_type": "markdown",
   "id": "c675617e",
   "metadata": {
    "papermill": {
     "duration": 0.019772,
     "end_time": "2023-12-09T12:53:23.281432",
     "exception": false,
     "start_time": "2023-12-09T12:53:23.261660",
     "status": "completed"
    },
    "tags": []
   },
   "source": [
    "{1:'55 Cancri e', 2:'PSO J318.5-22', 3:'TRAPPIST-1e'}\n",
    "{1:'Earth', 2:'Europa', 3:'Mars'}\n",
    "<<<<<HomePlanet to Destination>>>>\n",
    "1 to 1 >>> 721\n",
    "1 to 2 >>> 728\n",
    "1 to 3 >>> 3354\n",
    "--------------    \n",
    "2 to 1 >>> 193\n",
    "2 to 2 >>> 49\n",
    "2 to 3 >>> 1517\n",
    "-------------- \n",
    "3 to 1 >>> 886\n",
    "3 to 2 >>> 19\n",
    "3 to 3 >>> 1226\n",
    "-------------- "
   ]
  },
  {
   "cell_type": "code",
   "execution_count": 21,
   "id": "4378a0d1",
   "metadata": {
    "execution": {
     "iopub.execute_input": "2023-12-09T12:53:23.324228Z",
     "iopub.status.busy": "2023-12-09T12:53:23.323568Z",
     "iopub.status.idle": "2023-12-09T12:53:23.350556Z",
     "shell.execute_reply": "2023-12-09T12:53:23.348802Z"
    },
    "papermill": {
     "duration": 0.051612,
     "end_time": "2023-12-09T12:53:23.353047",
     "exception": false,
     "start_time": "2023-12-09T12:53:23.301435",
     "status": "completed"
    },
    "tags": []
   },
   "outputs": [
    {
     "name": "stdout",
     "output_type": "stream",
     "text": [
      "<class 'pandas.core.frame.DataFrame'>\n",
      "Index: 4277 entries, 0 to 4276\n",
      "Data columns (total 17 columns):\n",
      " #   Column         Non-Null Count  Dtype  \n",
      "---  ------         --------------  -----  \n",
      " 0   PassengerId    4277 non-null   object \n",
      " 1   HomePlanet     4277 non-null   Int64  \n",
      " 2   CryoSleep      4277 non-null   Int64  \n",
      " 3   Cabin          4277 non-null   Int64  \n",
      " 4   Destination    4277 non-null   Int64  \n",
      " 5   Age            4277 non-null   Int64  \n",
      " 6   VIP            4277 non-null   Int64  \n",
      " 7   RoomService    4277 non-null   float64\n",
      " 8   FoodCourt      4277 non-null   float64\n",
      " 9   ShoppingMall   4277 non-null   float64\n",
      " 10  Spa            4277 non-null   float64\n",
      " 11  VRDeck         4277 non-null   float64\n",
      " 12  Name           4277 non-null   object \n",
      " 13  Deck           4277 non-null   Int64  \n",
      " 14  Port           4277 non-null   Int64  \n",
      " 15  Group          4277 non-null   Int64  \n",
      " 16  FamilyGroupID  4277 non-null   int64  \n",
      "dtypes: Int64(9), float64(5), int64(1), object(2)\n",
      "memory usage: 639.0+ KB\n"
     ]
    }
   ],
   "source": [
    "train = train_test[train_test['Transported'].notnull()].copy()\n",
    "train.Transported =train.Transported.astype('Int64')\n",
    "test = train_test[train_test['Transported'].isnull()].drop(\"Transported\",axis=1)\n",
    "test.info()"
   ]
  },
  {
   "cell_type": "code",
   "execution_count": 22,
   "id": "c907de7b",
   "metadata": {
    "execution": {
     "iopub.execute_input": "2023-12-09T12:53:23.396156Z",
     "iopub.status.busy": "2023-12-09T12:53:23.394745Z",
     "iopub.status.idle": "2023-12-09T12:53:23.414215Z",
     "shell.execute_reply": "2023-12-09T12:53:23.412520Z"
    },
    "papermill": {
     "duration": 0.043625,
     "end_time": "2023-12-09T12:53:23.416812",
     "exception": false,
     "start_time": "2023-12-09T12:53:23.373187",
     "status": "completed"
    },
    "tags": []
   },
   "outputs": [
    {
     "name": "stdout",
     "output_type": "stream",
     "text": [
      "<class 'pandas.core.frame.DataFrame'>\n",
      "Index: 8693 entries, 0 to 8692\n",
      "Data columns (total 18 columns):\n",
      " #   Column         Non-Null Count  Dtype  \n",
      "---  ------         --------------  -----  \n",
      " 0   PassengerId    8693 non-null   object \n",
      " 1   HomePlanet     8693 non-null   Int64  \n",
      " 2   CryoSleep      8693 non-null   Int64  \n",
      " 3   Cabin          8693 non-null   Int64  \n",
      " 4   Destination    8693 non-null   Int64  \n",
      " 5   Age            8693 non-null   Int64  \n",
      " 6   VIP            8693 non-null   Int64  \n",
      " 7   RoomService    8693 non-null   float64\n",
      " 8   FoodCourt      8693 non-null   float64\n",
      " 9   ShoppingMall   8693 non-null   float64\n",
      " 10  Spa            8693 non-null   float64\n",
      " 11  VRDeck         8693 non-null   float64\n",
      " 12  Name           8693 non-null   object \n",
      " 13  Transported    8693 non-null   Int64  \n",
      " 14  Deck           8693 non-null   Int64  \n",
      " 15  Port           8693 non-null   Int64  \n",
      " 16  Group          8693 non-null   Int64  \n",
      " 17  FamilyGroupID  8693 non-null   int64  \n",
      "dtypes: Int64(10), float64(5), int64(1), object(2)\n",
      "memory usage: 1.3+ MB\n"
     ]
    }
   ],
   "source": [
    "train.info()"
   ]
  },
  {
   "cell_type": "code",
   "execution_count": 23,
   "id": "62827a5e",
   "metadata": {
    "execution": {
     "iopub.execute_input": "2023-12-09T12:53:23.459838Z",
     "iopub.status.busy": "2023-12-09T12:53:23.459351Z",
     "iopub.status.idle": "2023-12-09T12:53:23.487651Z",
     "shell.execute_reply": "2023-12-09T12:53:23.486256Z"
    },
    "papermill": {
     "duration": 0.05314,
     "end_time": "2023-12-09T12:53:23.490204",
     "exception": false,
     "start_time": "2023-12-09T12:53:23.437064",
     "status": "completed"
    },
    "tags": []
   },
   "outputs": [
    {
     "data": {
      "text/html": [
       "<div>\n",
       "<style scoped>\n",
       "    .dataframe tbody tr th:only-of-type {\n",
       "        vertical-align: middle;\n",
       "    }\n",
       "\n",
       "    .dataframe tbody tr th {\n",
       "        vertical-align: top;\n",
       "    }\n",
       "\n",
       "    .dataframe thead th {\n",
       "        text-align: right;\n",
       "    }\n",
       "</style>\n",
       "<table border=\"1\" class=\"dataframe\">\n",
       "  <thead>\n",
       "    <tr style=\"text-align: right;\">\n",
       "      <th></th>\n",
       "      <th>HomePlanet</th>\n",
       "      <th>CryoSleep</th>\n",
       "      <th>Cabin</th>\n",
       "      <th>Destination</th>\n",
       "      <th>Age</th>\n",
       "      <th>VIP</th>\n",
       "      <th>RoomService</th>\n",
       "      <th>FoodCourt</th>\n",
       "      <th>ShoppingMall</th>\n",
       "      <th>Spa</th>\n",
       "      <th>VRDeck</th>\n",
       "      <th>Deck</th>\n",
       "      <th>Port</th>\n",
       "      <th>FamilyGroupID</th>\n",
       "    </tr>\n",
       "  </thead>\n",
       "  <tbody>\n",
       "    <tr>\n",
       "      <th>0</th>\n",
       "      <td>2</td>\n",
       "      <td>1</td>\n",
       "      <td>0</td>\n",
       "      <td>3</td>\n",
       "      <td>4</td>\n",
       "      <td>0</td>\n",
       "      <td>-0.347347</td>\n",
       "      <td>-0.288217</td>\n",
       "      <td>-0.299346</td>\n",
       "      <td>-0.275704</td>\n",
       "      <td>-0.262262</td>\n",
       "      <td>2</td>\n",
       "      <td>1</td>\n",
       "      <td>6305</td>\n",
       "    </tr>\n",
       "    <tr>\n",
       "      <th>1</th>\n",
       "      <td>1</td>\n",
       "      <td>0</td>\n",
       "      <td>0</td>\n",
       "      <td>3</td>\n",
       "      <td>2</td>\n",
       "      <td>1</td>\n",
       "      <td>-0.177490</td>\n",
       "      <td>-0.282478</td>\n",
       "      <td>-0.256559</td>\n",
       "      <td>0.214969</td>\n",
       "      <td>-0.224648</td>\n",
       "      <td>6</td>\n",
       "      <td>0</td>\n",
       "      <td>9276</td>\n",
       "    </tr>\n",
       "    <tr>\n",
       "      <th>2</th>\n",
       "      <td>2</td>\n",
       "      <td>0</td>\n",
       "      <td>0</td>\n",
       "      <td>3</td>\n",
       "      <td>5</td>\n",
       "      <td>1</td>\n",
       "      <td>-0.280339</td>\n",
       "      <td>1.992206</td>\n",
       "      <td>-0.299346</td>\n",
       "      <td>5.725881</td>\n",
       "      <td>-0.220374</td>\n",
       "      <td>1</td>\n",
       "      <td>0</td>\n",
       "      <td>8502</td>\n",
       "    </tr>\n",
       "  </tbody>\n",
       "</table>\n",
       "</div>"
      ],
      "text/plain": [
       "   HomePlanet  CryoSleep  Cabin  Destination  Age  VIP  RoomService  \\\n",
       "0           2          1      0            3    4    0    -0.347347   \n",
       "1           1          0      0            3    2    1    -0.177490   \n",
       "2           2          0      0            3    5    1    -0.280339   \n",
       "\n",
       "   FoodCourt  ShoppingMall       Spa    VRDeck  Deck  Port  FamilyGroupID  \n",
       "0  -0.288217     -0.299346 -0.275704 -0.262262     2     1           6305  \n",
       "1  -0.282478     -0.256559  0.214969 -0.224648     6     0           9276  \n",
       "2   1.992206     -0.299346  5.725881 -0.220374     1     0           8502  "
      ]
     },
     "execution_count": 23,
     "metadata": {},
     "output_type": "execute_result"
    }
   ],
   "source": [
    "### Train Data\n",
    "newTrain = train\n",
    "train_ids = newTrain['PassengerId'].copy()\n",
    "train_trs = newTrain['Transported'].copy()\n",
    "newTrain.drop(columns=['PassengerId','Name','Group','Transported'],inplace=True)\n",
    "\n",
    "\n",
    "#####################\n",
    "\n",
    "\n",
    "### Test Data\n",
    "newTest = test\n",
    "test_ids = newTest['PassengerId'].copy()\n",
    "newTest.drop(columns=['PassengerId','Group','Name'],inplace=True)\n",
    "\n",
    "\n",
    "newTrain.head(3)"
   ]
  },
  {
   "cell_type": "code",
   "execution_count": 24,
   "id": "65384201",
   "metadata": {
    "execution": {
     "iopub.execute_input": "2023-12-09T12:53:23.534216Z",
     "iopub.status.busy": "2023-12-09T12:53:23.533779Z",
     "iopub.status.idle": "2023-12-09T12:53:23.550146Z",
     "shell.execute_reply": "2023-12-09T12:53:23.548869Z"
    },
    "papermill": {
     "duration": 0.041348,
     "end_time": "2023-12-09T12:53:23.552660",
     "exception": false,
     "start_time": "2023-12-09T12:53:23.511312",
     "status": "completed"
    },
    "tags": []
   },
   "outputs": [
    {
     "name": "stdout",
     "output_type": "stream",
     "text": [
      "<class 'pandas.core.frame.DataFrame'>\n",
      "Index: 8693 entries, 0 to 8692\n",
      "Data columns (total 14 columns):\n",
      " #   Column         Non-Null Count  Dtype  \n",
      "---  ------         --------------  -----  \n",
      " 0   HomePlanet     8693 non-null   Int64  \n",
      " 1   CryoSleep      8693 non-null   Int64  \n",
      " 2   Cabin          8693 non-null   Int64  \n",
      " 3   Destination    8693 non-null   Int64  \n",
      " 4   Age            8693 non-null   Int64  \n",
      " 5   VIP            8693 non-null   Int64  \n",
      " 6   RoomService    8693 non-null   float64\n",
      " 7   FoodCourt      8693 non-null   float64\n",
      " 8   ShoppingMall   8693 non-null   float64\n",
      " 9   Spa            8693 non-null   float64\n",
      " 10  VRDeck         8693 non-null   float64\n",
      " 11  Deck           8693 non-null   Int64  \n",
      " 12  Port           8693 non-null   Int64  \n",
      " 13  FamilyGroupID  8693 non-null   int64  \n",
      "dtypes: Int64(8), float64(5), int64(1)\n",
      "memory usage: 1.1 MB\n"
     ]
    }
   ],
   "source": [
    "newTrain.info()"
   ]
  },
  {
   "cell_type": "code",
   "execution_count": 25,
   "id": "38a4380a",
   "metadata": {
    "execution": {
     "iopub.execute_input": "2023-12-09T12:53:23.596474Z",
     "iopub.status.busy": "2023-12-09T12:53:23.596029Z",
     "iopub.status.idle": "2023-12-09T12:53:23.611881Z",
     "shell.execute_reply": "2023-12-09T12:53:23.610376Z"
    },
    "papermill": {
     "duration": 0.041191,
     "end_time": "2023-12-09T12:53:23.614513",
     "exception": false,
     "start_time": "2023-12-09T12:53:23.573322",
     "status": "completed"
    },
    "tags": []
   },
   "outputs": [
    {
     "name": "stdout",
     "output_type": "stream",
     "text": [
      "<class 'pandas.core.frame.DataFrame'>\n",
      "Index: 4277 entries, 0 to 4276\n",
      "Data columns (total 14 columns):\n",
      " #   Column         Non-Null Count  Dtype  \n",
      "---  ------         --------------  -----  \n",
      " 0   HomePlanet     4277 non-null   Int64  \n",
      " 1   CryoSleep      4277 non-null   Int64  \n",
      " 2   Cabin          4277 non-null   Int64  \n",
      " 3   Destination    4277 non-null   Int64  \n",
      " 4   Age            4277 non-null   Int64  \n",
      " 5   VIP            4277 non-null   Int64  \n",
      " 6   RoomService    4277 non-null   float64\n",
      " 7   FoodCourt      4277 non-null   float64\n",
      " 8   ShoppingMall   4277 non-null   float64\n",
      " 9   Spa            4277 non-null   float64\n",
      " 10  VRDeck         4277 non-null   float64\n",
      " 11  Deck           4277 non-null   Int64  \n",
      " 12  Port           4277 non-null   Int64  \n",
      " 13  FamilyGroupID  4277 non-null   int64  \n",
      "dtypes: Int64(8), float64(5), int64(1)\n",
      "memory usage: 534.6 KB\n"
     ]
    }
   ],
   "source": [
    "newTest.info()"
   ]
  },
  {
   "cell_type": "code",
   "execution_count": 26,
   "id": "222e3162",
   "metadata": {
    "execution": {
     "iopub.execute_input": "2023-12-09T12:53:23.658762Z",
     "iopub.status.busy": "2023-12-09T12:53:23.658300Z",
     "iopub.status.idle": "2023-12-09T12:53:23.663825Z",
     "shell.execute_reply": "2023-12-09T12:53:23.662624Z"
    },
    "papermill": {
     "duration": 0.030957,
     "end_time": "2023-12-09T12:53:23.666239",
     "exception": false,
     "start_time": "2023-12-09T12:53:23.635282",
     "status": "completed"
    },
    "tags": []
   },
   "outputs": [],
   "source": [
    "# from sklearn.model_selection import train_test_split\n",
    "# X_train, X_test, y_train, y_test = train_test_split(newtrainDF.drop('Transported',axis=1), \n",
    "#                                                   df['Transported'], test_size=0.30, \n",
    "#                                                     random_state=101)\n",
    "# newtrainDF.head(1)"
   ]
  },
  {
   "cell_type": "code",
   "execution_count": 27,
   "id": "9573b8a3",
   "metadata": {
    "execution": {
     "iopub.execute_input": "2023-12-09T12:53:23.710127Z",
     "iopub.status.busy": "2023-12-09T12:53:23.709609Z",
     "iopub.status.idle": "2023-12-09T12:53:24.267202Z",
     "shell.execute_reply": "2023-12-09T12:53:24.266078Z"
    },
    "papermill": {
     "duration": 0.584445,
     "end_time": "2023-12-09T12:53:24.271487",
     "exception": false,
     "start_time": "2023-12-09T12:53:23.687042",
     "status": "completed"
    },
    "tags": []
   },
   "outputs": [
    {
     "data": {
      "text/html": [
       "<style>#sk-container-id-1 {color: black;background-color: white;}#sk-container-id-1 pre{padding: 0;}#sk-container-id-1 div.sk-toggleable {background-color: white;}#sk-container-id-1 label.sk-toggleable__label {cursor: pointer;display: block;width: 100%;margin-bottom: 0;padding: 0.3em;box-sizing: border-box;text-align: center;}#sk-container-id-1 label.sk-toggleable__label-arrow:before {content: \"▸\";float: left;margin-right: 0.25em;color: #696969;}#sk-container-id-1 label.sk-toggleable__label-arrow:hover:before {color: black;}#sk-container-id-1 div.sk-estimator:hover label.sk-toggleable__label-arrow:before {color: black;}#sk-container-id-1 div.sk-toggleable__content {max-height: 0;max-width: 0;overflow: hidden;text-align: left;background-color: #f0f8ff;}#sk-container-id-1 div.sk-toggleable__content pre {margin: 0.2em;color: black;border-radius: 0.25em;background-color: #f0f8ff;}#sk-container-id-1 input.sk-toggleable__control:checked~div.sk-toggleable__content {max-height: 200px;max-width: 100%;overflow: auto;}#sk-container-id-1 input.sk-toggleable__control:checked~label.sk-toggleable__label-arrow:before {content: \"▾\";}#sk-container-id-1 div.sk-estimator input.sk-toggleable__control:checked~label.sk-toggleable__label {background-color: #d4ebff;}#sk-container-id-1 div.sk-label input.sk-toggleable__control:checked~label.sk-toggleable__label {background-color: #d4ebff;}#sk-container-id-1 input.sk-hidden--visually {border: 0;clip: rect(1px 1px 1px 1px);clip: rect(1px, 1px, 1px, 1px);height: 1px;margin: -1px;overflow: hidden;padding: 0;position: absolute;width: 1px;}#sk-container-id-1 div.sk-estimator {font-family: monospace;background-color: #f0f8ff;border: 1px dotted black;border-radius: 0.25em;box-sizing: border-box;margin-bottom: 0.5em;}#sk-container-id-1 div.sk-estimator:hover {background-color: #d4ebff;}#sk-container-id-1 div.sk-parallel-item::after {content: \"\";width: 100%;border-bottom: 1px solid gray;flex-grow: 1;}#sk-container-id-1 div.sk-label:hover label.sk-toggleable__label {background-color: #d4ebff;}#sk-container-id-1 div.sk-serial::before {content: \"\";position: absolute;border-left: 1px solid gray;box-sizing: border-box;top: 0;bottom: 0;left: 50%;z-index: 0;}#sk-container-id-1 div.sk-serial {display: flex;flex-direction: column;align-items: center;background-color: white;padding-right: 0.2em;padding-left: 0.2em;position: relative;}#sk-container-id-1 div.sk-item {position: relative;z-index: 1;}#sk-container-id-1 div.sk-parallel {display: flex;align-items: stretch;justify-content: center;background-color: white;position: relative;}#sk-container-id-1 div.sk-item::before, #sk-container-id-1 div.sk-parallel-item::before {content: \"\";position: absolute;border-left: 1px solid gray;box-sizing: border-box;top: 0;bottom: 0;left: 50%;z-index: -1;}#sk-container-id-1 div.sk-parallel-item {display: flex;flex-direction: column;z-index: 1;position: relative;background-color: white;}#sk-container-id-1 div.sk-parallel-item:first-child::after {align-self: flex-end;width: 50%;}#sk-container-id-1 div.sk-parallel-item:last-child::after {align-self: flex-start;width: 50%;}#sk-container-id-1 div.sk-parallel-item:only-child::after {width: 0;}#sk-container-id-1 div.sk-dashed-wrapped {border: 1px dashed gray;margin: 0 0.4em 0.5em 0.4em;box-sizing: border-box;padding-bottom: 0.4em;background-color: white;}#sk-container-id-1 div.sk-label label {font-family: monospace;font-weight: bold;display: inline-block;line-height: 1.2em;}#sk-container-id-1 div.sk-label-container {text-align: center;}#sk-container-id-1 div.sk-container {/* jupyter's `normalize.less` sets `[hidden] { display: none; }` but bootstrap.min.css set `[hidden] { display: none !important; }` so we also need the `!important` here to be able to override the default hidden behavior on the sphinx rendered scikit-learn.org. See: https://github.com/scikit-learn/scikit-learn/issues/21755 */display: inline-block !important;position: relative;}#sk-container-id-1 div.sk-text-repr-fallback {display: none;}</style><div id=\"sk-container-id-1\" class=\"sk-top-container\"><div class=\"sk-text-repr-fallback\"><pre>LogisticRegression(max_iter=10000)</pre><b>In a Jupyter environment, please rerun this cell to show the HTML representation or trust the notebook. <br />On GitHub, the HTML representation is unable to render, please try loading this page with nbviewer.org.</b></div><div class=\"sk-container\" hidden><div class=\"sk-item\"><div class=\"sk-estimator sk-toggleable\"><input class=\"sk-toggleable__control sk-hidden--visually\" id=\"sk-estimator-id-1\" type=\"checkbox\" checked><label for=\"sk-estimator-id-1\" class=\"sk-toggleable__label sk-toggleable__label-arrow\">LogisticRegression</label><div class=\"sk-toggleable__content\"><pre>LogisticRegression(max_iter=10000)</pre></div></div></div></div></div>"
      ],
      "text/plain": [
       "LogisticRegression(max_iter=10000)"
      ]
     },
     "execution_count": 27,
     "metadata": {},
     "output_type": "execute_result"
    }
   ],
   "source": [
    "from sklearn.linear_model import LogisticRegression\n",
    "logmodel = LogisticRegression(max_iter=10000)\n",
    "logmodel.fit(newTrain, train_trs)"
   ]
  },
  {
   "cell_type": "code",
   "execution_count": 28,
   "id": "8ee78d28",
   "metadata": {
    "execution": {
     "iopub.execute_input": "2023-12-09T12:53:24.365105Z",
     "iopub.status.busy": "2023-12-09T12:53:24.364074Z",
     "iopub.status.idle": "2023-12-09T12:53:24.371466Z",
     "shell.execute_reply": "2023-12-09T12:53:24.370323Z"
    },
    "papermill": {
     "duration": 0.057647,
     "end_time": "2023-12-09T12:53:24.374326",
     "exception": false,
     "start_time": "2023-12-09T12:53:24.316679",
     "status": "completed"
    },
    "tags": []
   },
   "outputs": [],
   "source": [
    "# df_test['stSpenders'] = df_test[['RoomService', 'FoodCourt', 'ShoppingMall', 'Spa', 'VRDeck']].std(axis=1)\n",
    "# df_test = df_test.drop(columns=['RoomService', 'FoodCourt', 'ShoppingMall', 'Spa', 'VRDeck'])\n",
    "# df_test.head()"
   ]
  },
  {
   "cell_type": "code",
   "execution_count": 29,
   "id": "9725eb72",
   "metadata": {
    "execution": {
     "iopub.execute_input": "2023-12-09T12:53:24.418835Z",
     "iopub.status.busy": "2023-12-09T12:53:24.418414Z",
     "iopub.status.idle": "2023-12-09T12:53:24.428812Z",
     "shell.execute_reply": "2023-12-09T12:53:24.427297Z"
    },
    "papermill": {
     "duration": 0.03842,
     "end_time": "2023-12-09T12:53:24.433985",
     "exception": false,
     "start_time": "2023-12-09T12:53:24.395565",
     "status": "completed"
    },
    "tags": []
   },
   "outputs": [],
   "source": [
    " predictions = logmodel.predict(newTest)"
   ]
  },
  {
   "cell_type": "code",
   "execution_count": 30,
   "id": "438b259f",
   "metadata": {
    "execution": {
     "iopub.execute_input": "2023-12-09T12:53:24.525957Z",
     "iopub.status.busy": "2023-12-09T12:53:24.525286Z",
     "iopub.status.idle": "2023-12-09T12:53:24.565336Z",
     "shell.execute_reply": "2023-12-09T12:53:24.564525Z"
    },
    "papermill": {
     "duration": 0.089186,
     "end_time": "2023-12-09T12:53:24.567729",
     "exception": false,
     "start_time": "2023-12-09T12:53:24.478543",
     "status": "completed"
    },
    "tags": []
   },
   "outputs": [
    {
     "data": {
      "text/html": [
       "<div>\n",
       "<style scoped>\n",
       "    .dataframe tbody tr th:only-of-type {\n",
       "        vertical-align: middle;\n",
       "    }\n",
       "\n",
       "    .dataframe tbody tr th {\n",
       "        vertical-align: top;\n",
       "    }\n",
       "\n",
       "    .dataframe thead th {\n",
       "        text-align: right;\n",
       "    }\n",
       "</style>\n",
       "<table border=\"1\" class=\"dataframe\">\n",
       "  <thead>\n",
       "    <tr style=\"text-align: right;\">\n",
       "      <th></th>\n",
       "      <th>PassengerId</th>\n",
       "      <th>Transported</th>\n",
       "    </tr>\n",
       "  </thead>\n",
       "  <tbody>\n",
       "    <tr>\n",
       "      <th>0</th>\n",
       "      <td>0013_01</td>\n",
       "      <td>True</td>\n",
       "    </tr>\n",
       "    <tr>\n",
       "      <th>1</th>\n",
       "      <td>0018_01</td>\n",
       "      <td>False</td>\n",
       "    </tr>\n",
       "    <tr>\n",
       "      <th>2</th>\n",
       "      <td>0019_01</td>\n",
       "      <td>True</td>\n",
       "    </tr>\n",
       "    <tr>\n",
       "      <th>3</th>\n",
       "      <td>0021_01</td>\n",
       "      <td>True</td>\n",
       "    </tr>\n",
       "    <tr>\n",
       "      <th>4</th>\n",
       "      <td>0023_01</td>\n",
       "      <td>False</td>\n",
       "    </tr>\n",
       "  </tbody>\n",
       "</table>\n",
       "</div>"
      ],
      "text/plain": [
       "  PassengerId  Transported\n",
       "0     0013_01         True\n",
       "1     0018_01        False\n",
       "2     0019_01         True\n",
       "3     0021_01         True\n",
       "4     0023_01        False"
      ]
     },
     "execution_count": 30,
     "metadata": {},
     "output_type": "execute_result"
    }
   ],
   "source": [
    "df_predictions = pd.DataFrame()\n",
    "df_predictions['PassengerId'] = pd.Series(test_ids.T.values)\n",
    "df_predictions['Transported'] = pd.Series(predictions)\n",
    "df_predictions.Transported = np.where(df_predictions.Transported==1,True,False)\n",
    "df_predictions.to_csv(\"22thAttempt.csv\", sep=',', index=False)\n",
    "df_predictions.head()"
   ]
  },
  {
   "cell_type": "markdown",
   "id": "ae2e3c0d",
   "metadata": {
    "papermill": {
     "duration": 0.02102,
     "end_time": "2023-12-09T12:53:24.610014",
     "exception": false,
     "start_time": "2023-12-09T12:53:24.588994",
     "status": "completed"
    },
    "tags": []
   },
   "source": [
    "In this report, the 'Precision' column tells us the proportion of positive identifications (i.e., the passenger was transported) that were actually correct. The 'Recall' column tells us the proportion of actual positives that were identified correctly. The 'F1-score' is a function of Precision and Recall and gives a balanced measure of the model's performance.\n",
    "\n",
    "Remember, this is a basic model. Depending on the performance of the model, you might need to consider more advanced techniques such as handling class imbalance, feature engineering, or using a more complex model."
   ]
  }
 ],
 "metadata": {
  "kaggle": {
   "accelerator": "none",
   "dataSources": [
    {
     "databundleVersionId": 3220602,
     "sourceId": 34377,
     "sourceType": "competition"
    }
   ],
   "dockerImageVersionId": 30558,
   "isGpuEnabled": false,
   "isInternetEnabled": false,
   "language": "python",
   "sourceType": "notebook"
  },
  "kernelspec": {
   "display_name": "Python 3",
   "language": "python",
   "name": "python3"
  },
  "language_info": {
   "codemirror_mode": {
    "name": "ipython",
    "version": 3
   },
   "file_extension": ".py",
   "mimetype": "text/x-python",
   "name": "python",
   "nbconvert_exporter": "python",
   "pygments_lexer": "ipython3",
   "version": "3.10.12"
  },
  "papermill": {
   "default_parameters": {},
   "duration": 15.478721,
   "end_time": "2023-12-09T12:53:25.252670",
   "environment_variables": {},
   "exception": null,
   "input_path": "__notebook__.ipynb",
   "output_path": "__notebook__.ipynb",
   "parameters": {},
   "start_time": "2023-12-09T12:53:09.773949",
   "version": "2.4.0"
  }
 },
 "nbformat": 4,
 "nbformat_minor": 5
}
