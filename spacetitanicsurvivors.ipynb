{
 "cells": [
  {
   "cell_type": "code",
   "execution_count": 1,
   "id": "737dfee4",
   "metadata": {
    "_cell_guid": "b1076dfc-b9ad-4769-8c92-a6c4dae69d19",
    "_uuid": "8f2839f25d086af736a60e9eeb907d3b93b6e0e5",
    "execution": {
     "iopub.execute_input": "2023-12-09T12:25:10.729300Z",
     "iopub.status.busy": "2023-12-09T12:25:10.728888Z",
     "iopub.status.idle": "2023-12-09T12:25:13.757885Z",
     "shell.execute_reply": "2023-12-09T12:25:13.756178Z"
    },
    "papermill": {
     "duration": 3.054131,
     "end_time": "2023-12-09T12:25:13.761391",
     "exception": false,
     "start_time": "2023-12-09T12:25:10.707260",
     "status": "completed"
    },
    "tags": []
   },
   "outputs": [
    {
     "name": "stdout",
     "output_type": "stream",
     "text": [
      "/kaggle/input/spaceship-titanic/sample_submission.csv\n",
      "/kaggle/input/spaceship-titanic/train.csv\n",
      "/kaggle/input/spaceship-titanic/test.csv\n"
     ]
    }
   ],
   "source": [
    "# This Python 3 environment comes with many helpful analytics libraries installed\n",
    "# It is defined by the kaggle/python Docker image: https://github.com/kaggle/docker-python\n",
    "# For example, here's several helpful packages to load\n",
    "\n",
    "import numpy as np # linear algebra\n",
    "import pandas as pd # data processing, CSV file I/O (e.g. pd.read_csv)\n",
    "import sklearn\n",
    "import datetime\n",
    "import matplotlib.pyplot as plt\n",
    "import missingno as msno\n",
    "from prettytable import PrettyTable\n",
    "from sklearn.preprocessing import MinMaxScaler\n",
    "from sklearn.preprocessing import StandardScaler\n",
    "import seaborn as sns\n",
    "from pandas.plotting import scatter_matrix\n",
    "sns.set(style='darkgrid', font_scale=1.4)\n",
    "\n",
    "# Input data files are available in the read-only \"../input/\" directory\n",
    "# For example, running this (by clicking run or pressing Shift+Enter) will list all files under the input directory\n",
    "\n",
    "import os\n",
    "for dirname, _, filenames in os.walk('/kaggle/input'):\n",
    "    for filename in filenames:\n",
    "        print(os.path.join(dirname, filename))\n",
    "\n",
    "# You can write up to 20GB to the current directory (/kaggle/working/) that gets preserved as output when you create a version using \"Save & Run All\" \n",
    "# You can also write temporary files to /kaggle/temp/, but they won't be saved outside of the current session"
   ]
  },
  {
   "cell_type": "markdown",
   "id": "436b2219",
   "metadata": {
    "papermill": {
     "duration": 0.016749,
     "end_time": "2023-12-09T12:25:13.795636",
     "exception": false,
     "start_time": "2023-12-09T12:25:13.778887",
     "status": "completed"
    },
    "tags": []
   },
   "source": [
    "# 1. Getting Data"
   ]
  },
  {
   "cell_type": "code",
   "execution_count": 2,
   "id": "71f45698",
   "metadata": {
    "execution": {
     "iopub.execute_input": "2023-12-09T12:25:13.834009Z",
     "iopub.status.busy": "2023-12-09T12:25:13.833425Z",
     "iopub.status.idle": "2023-12-09T12:25:13.979869Z",
     "shell.execute_reply": "2023-12-09T12:25:13.978078Z"
    },
    "papermill": {
     "duration": 0.169639,
     "end_time": "2023-12-09T12:25:13.983204",
     "exception": false,
     "start_time": "2023-12-09T12:25:13.813565",
     "status": "completed"
    },
    "tags": []
   },
   "outputs": [
    {
     "data": {
      "text/html": [
       "<div>\n",
       "<style scoped>\n",
       "    .dataframe tbody tr th:only-of-type {\n",
       "        vertical-align: middle;\n",
       "    }\n",
       "\n",
       "    .dataframe tbody tr th {\n",
       "        vertical-align: top;\n",
       "    }\n",
       "\n",
       "    .dataframe thead th {\n",
       "        text-align: right;\n",
       "    }\n",
       "</style>\n",
       "<table border=\"1\" class=\"dataframe\">\n",
       "  <thead>\n",
       "    <tr style=\"text-align: right;\">\n",
       "      <th></th>\n",
       "      <th>PassengerId</th>\n",
       "      <th>HomePlanet</th>\n",
       "      <th>CryoSleep</th>\n",
       "      <th>Cabin</th>\n",
       "      <th>Destination</th>\n",
       "      <th>Age</th>\n",
       "      <th>VIP</th>\n",
       "      <th>RoomService</th>\n",
       "      <th>FoodCourt</th>\n",
       "      <th>ShoppingMall</th>\n",
       "      <th>Spa</th>\n",
       "      <th>VRDeck</th>\n",
       "      <th>Name</th>\n",
       "      <th>Transported</th>\n",
       "    </tr>\n",
       "  </thead>\n",
       "  <tbody>\n",
       "    <tr>\n",
       "      <th>0</th>\n",
       "      <td>0001_01</td>\n",
       "      <td>Europa</td>\n",
       "      <td>False</td>\n",
       "      <td>B/0/P</td>\n",
       "      <td>TRAPPIST-1e</td>\n",
       "      <td>39.0</td>\n",
       "      <td>False</td>\n",
       "      <td>0.0</td>\n",
       "      <td>0.0</td>\n",
       "      <td>0.0</td>\n",
       "      <td>0.0</td>\n",
       "      <td>0.0</td>\n",
       "      <td>Maham Ofracculy</td>\n",
       "      <td>False</td>\n",
       "    </tr>\n",
       "    <tr>\n",
       "      <th>1</th>\n",
       "      <td>0002_01</td>\n",
       "      <td>Earth</td>\n",
       "      <td>False</td>\n",
       "      <td>F/0/S</td>\n",
       "      <td>TRAPPIST-1e</td>\n",
       "      <td>24.0</td>\n",
       "      <td>False</td>\n",
       "      <td>109.0</td>\n",
       "      <td>9.0</td>\n",
       "      <td>25.0</td>\n",
       "      <td>549.0</td>\n",
       "      <td>44.0</td>\n",
       "      <td>Juanna Vines</td>\n",
       "      <td>True</td>\n",
       "    </tr>\n",
       "    <tr>\n",
       "      <th>2</th>\n",
       "      <td>0003_01</td>\n",
       "      <td>Europa</td>\n",
       "      <td>False</td>\n",
       "      <td>A/0/S</td>\n",
       "      <td>TRAPPIST-1e</td>\n",
       "      <td>58.0</td>\n",
       "      <td>True</td>\n",
       "      <td>43.0</td>\n",
       "      <td>3576.0</td>\n",
       "      <td>0.0</td>\n",
       "      <td>6715.0</td>\n",
       "      <td>49.0</td>\n",
       "      <td>Altark Susent</td>\n",
       "      <td>False</td>\n",
       "    </tr>\n",
       "    <tr>\n",
       "      <th>3</th>\n",
       "      <td>0003_02</td>\n",
       "      <td>Europa</td>\n",
       "      <td>False</td>\n",
       "      <td>A/0/S</td>\n",
       "      <td>TRAPPIST-1e</td>\n",
       "      <td>33.0</td>\n",
       "      <td>False</td>\n",
       "      <td>0.0</td>\n",
       "      <td>1283.0</td>\n",
       "      <td>371.0</td>\n",
       "      <td>3329.0</td>\n",
       "      <td>193.0</td>\n",
       "      <td>Solam Susent</td>\n",
       "      <td>False</td>\n",
       "    </tr>\n",
       "    <tr>\n",
       "      <th>4</th>\n",
       "      <td>0004_01</td>\n",
       "      <td>Earth</td>\n",
       "      <td>False</td>\n",
       "      <td>F/1/S</td>\n",
       "      <td>TRAPPIST-1e</td>\n",
       "      <td>16.0</td>\n",
       "      <td>False</td>\n",
       "      <td>303.0</td>\n",
       "      <td>70.0</td>\n",
       "      <td>151.0</td>\n",
       "      <td>565.0</td>\n",
       "      <td>2.0</td>\n",
       "      <td>Willy Santantines</td>\n",
       "      <td>True</td>\n",
       "    </tr>\n",
       "  </tbody>\n",
       "</table>\n",
       "</div>"
      ],
      "text/plain": [
       "  PassengerId HomePlanet CryoSleep  Cabin  Destination   Age    VIP  \\\n",
       "0     0001_01     Europa     False  B/0/P  TRAPPIST-1e  39.0  False   \n",
       "1     0002_01      Earth     False  F/0/S  TRAPPIST-1e  24.0  False   \n",
       "2     0003_01     Europa     False  A/0/S  TRAPPIST-1e  58.0   True   \n",
       "3     0003_02     Europa     False  A/0/S  TRAPPIST-1e  33.0  False   \n",
       "4     0004_01      Earth     False  F/1/S  TRAPPIST-1e  16.0  False   \n",
       "\n",
       "   RoomService  FoodCourt  ShoppingMall     Spa  VRDeck               Name  \\\n",
       "0          0.0        0.0           0.0     0.0     0.0    Maham Ofracculy   \n",
       "1        109.0        9.0          25.0   549.0    44.0       Juanna Vines   \n",
       "2         43.0     3576.0           0.0  6715.0    49.0      Altark Susent   \n",
       "3          0.0     1283.0         371.0  3329.0   193.0       Solam Susent   \n",
       "4        303.0       70.0         151.0   565.0     2.0  Willy Santantines   \n",
       "\n",
       "  Transported  \n",
       "0       False  \n",
       "1        True  \n",
       "2       False  \n",
       "3       False  \n",
       "4        True  "
      ]
     },
     "execution_count": 2,
     "metadata": {},
     "output_type": "execute_result"
    }
   ],
   "source": [
    "train = pd.read_csv('../input/spaceship-titanic/train.csv')\n",
    "test = pd.read_csv('../input/spaceship-titanic/test.csv')\n",
    "\n",
    "train_test = pd.concat([train, test])\n",
    "\n",
    "train_test.head()"
   ]
  },
  {
   "cell_type": "markdown",
   "id": "fe2aa742",
   "metadata": {
    "papermill": {
     "duration": 0.016735,
     "end_time": "2023-12-09T12:25:14.017116",
     "exception": false,
     "start_time": "2023-12-09T12:25:14.000381",
     "status": "completed"
    },
    "tags": []
   },
   "source": [
    "# 2. Challenge Description\n",
    "> PassengerId - A unique Id for each passenger. Each Id takes the form gggg_pp where gggg indicates a group the passenger is travelling with and pp is their number within the group. People in a group are often family members, but not always.\n",
    "> \n",
    "> HomePlanet - The planet the passenger departed from, typically their planet of permanent residence.\n",
    "> \n",
    "> CryoSleep - Indicates whether the passenger elected to be put into suspended animation for the duration of the voyage. Passengers in cryosleep are confined to their cabins.\n",
    "> Cabin - The cabin number where the passenger is staying. Takes the form deck/num/side, where side can be either P for Port or S for Starboard.\n",
    "> Destination - The planet the passenger will be debarking to.\n",
    "> Age - The age of the passenger.\n",
    "> VIP - Whether the passenger has paid for special VIP service during the voyage.</font>\n",
    "> RoomService, FoodCourt, ShoppingMall, Spa, VRDeck - Amount the passenger has billed at each of the Spaceship Titanic's many luxury amenities.\n",
    "> Name - The first and last names of the passenger.\n",
    "\n",
    "> **Transported** - Whether the passenger was transported to another dimension. This is the target, the column you are trying to predict."
   ]
  },
  {
   "cell_type": "markdown",
   "id": "497f46ed",
   "metadata": {
    "papermill": {
     "duration": 0.016603,
     "end_time": "2023-12-09T12:25:14.051477",
     "exception": false,
     "start_time": "2023-12-09T12:25:14.034874",
     "status": "completed"
    },
    "tags": []
   },
   "source": [
    "# 3. Check Missing Values"
   ]
  },
  {
   "cell_type": "code",
   "execution_count": 3,
   "id": "3cbc6b75",
   "metadata": {
    "execution": {
     "iopub.execute_input": "2023-12-09T12:25:14.087934Z",
     "iopub.status.busy": "2023-12-09T12:25:14.087512Z",
     "iopub.status.idle": "2023-12-09T12:25:14.108901Z",
     "shell.execute_reply": "2023-12-09T12:25:14.106932Z"
    },
    "papermill": {
     "duration": 0.043402,
     "end_time": "2023-12-09T12:25:14.112040",
     "exception": false,
     "start_time": "2023-12-09T12:25:14.068638",
     "status": "completed"
    },
    "tags": []
   },
   "outputs": [
    {
     "name": "stdout",
     "output_type": "stream",
     "text": [
      "PassengerId        0\n",
      "HomePlanet       288\n",
      "CryoSleep        310\n",
      "Cabin            299\n",
      "Destination      274\n",
      "Age              270\n",
      "VIP              296\n",
      "RoomService      263\n",
      "FoodCourt        289\n",
      "ShoppingMall     306\n",
      "Spa              284\n",
      "VRDeck           268\n",
      "Name             294\n",
      "Transported     4277\n",
      "dtype: int64\n"
     ]
    }
   ],
   "source": [
    "print(train_test.isna().sum())"
   ]
  },
  {
   "cell_type": "code",
   "execution_count": 4,
   "id": "15bf5c92",
   "metadata": {
    "execution": {
     "iopub.execute_input": "2023-12-09T12:25:14.154087Z",
     "iopub.status.busy": "2023-12-09T12:25:14.153586Z",
     "iopub.status.idle": "2023-12-09T12:25:15.110987Z",
     "shell.execute_reply": "2023-12-09T12:25:15.109645Z"
    },
    "papermill": {
     "duration": 0.982414,
     "end_time": "2023-12-09T12:25:15.113930",
     "exception": false,
     "start_time": "2023-12-09T12:25:14.131516",
     "status": "completed"
    },
    "tags": []
   },
   "outputs": [
    {
     "data": {
      "image/png": "[encoded data removed]",
      "text/plain": [
       "<Figure size 2500x1000 with 2 Axes>"
      ]
     },
     "metadata": {},
     "output_type": "display_data"
    }
   ],
   "source": [
    "msno.matrix(train_test)\n",
    "plt.show()"
   ]
  },
  {
   "cell_type": "markdown",
   "id": "5a7afdf6",
   "metadata": {
    "papermill": {
     "duration": 0.0189,
     "end_time": "2023-12-09T12:25:15.151595",
     "exception": false,
     "start_time": "2023-12-09T12:25:15.132695",
     "status": "completed"
    },
    "tags": []
   },
   "source": [
    "# 3. Testing & Handling Missing Values¶"
   ]
  },
  {
   "cell_type": "code",
   "execution_count": 5,
   "id": "834d9099",
   "metadata": {
    "execution": {
     "iopub.execute_input": "2023-12-09T12:25:15.190843Z",
     "iopub.status.busy": "2023-12-09T12:25:15.190384Z",
     "iopub.status.idle": "2023-12-09T12:25:15.656292Z",
     "shell.execute_reply": "2023-12-09T12:25:15.654606Z"
    },
    "papermill": {
     "duration": 0.489213,
     "end_time": "2023-12-09T12:25:15.659451",
     "exception": false,
     "start_time": "2023-12-09T12:25:15.170238",
     "status": "completed"
    },
    "tags": []
   },
   "outputs": [
    {
     "data": {
      "image/png": "[encoded data removed]",
      "text/plain": [
       "<Figure size 640x480 with 1 Axes>"
      ]
     },
     "metadata": {},
     "output_type": "display_data"
    },
    {
     "data": {
      "text/plain": [
       "4277"
      ]
     },
     "execution_count": 5,
     "metadata": {},
     "output_type": "execute_result"
    }
   ],
   "source": [
    "# scatter_matrix(train_test, alpha=0.2, figsize=(6, 6), diagonal='kde')\n",
    "# plt.show()\n",
    "plt.plot(train_test['RoomService'], label='RoomService')\n",
    "plt.plot(train_test['ShoppingMall'], label='ShoppingMall')\n",
    "plt.title('Comparison of RoomService and ShoppingMall')\n",
    "plt.xlabel('Index')\n",
    "plt.ylabel('Values')\n",
    "plt.legend()\n",
    "plt.show()\n",
    "sum(train_test['Transported'].isna())"
   ]
  },
  {
   "cell_type": "markdown",
   "id": "e914f5f0",
   "metadata": {
    "papermill": {
     "duration": 0.019335,
     "end_time": "2023-12-09T12:25:15.698970",
     "exception": false,
     "start_time": "2023-12-09T12:25:15.679635",
     "status": "completed"
    },
    "tags": []
   },
   "source": [
    "# 3.1.Handling Room Service Outliers"
   ]
  },
  {
   "cell_type": "code",
   "execution_count": 6,
   "id": "be078ded",
   "metadata": {
    "execution": {
     "iopub.execute_input": "2023-12-09T12:25:15.740446Z",
     "iopub.status.busy": "2023-12-09T12:25:15.740034Z",
     "iopub.status.idle": "2023-12-09T12:25:16.178367Z",
     "shell.execute_reply": "2023-12-09T12:25:16.177180Z"
    },
    "papermill": {
     "duration": 0.461931,
     "end_time": "2023-12-09T12:25:16.180798",
     "exception": false,
     "start_time": "2023-12-09T12:25:15.718867",
     "status": "completed"
    },
    "tags": []
   },
   "outputs": [
    {
     "data": {
      "image/png": "[encoded data removed]",
      "text/plain": [
       "<Figure size 640x480 with 1 Axes>"
      ]
     },
     "metadata": {},
     "output_type": "display_data"
    }
   ],
   "source": [
    "if 'Transported' in train_test.columns:\n",
    "    train_test.plot.scatter(x='RoomService', y='Transported')\n",
    "    plt.show()\n",
    "else:\n",
    "    print(\"'Transported' column does not exist in the DataFrame.\")\n"
   ]
  },
  {
   "cell_type": "code",
   "execution_count": 7,
   "id": "67f0fa9d",
   "metadata": {
    "execution": {
     "iopub.execute_input": "2023-12-09T12:25:16.223596Z",
     "iopub.status.busy": "2023-12-09T12:25:16.222268Z",
     "iopub.status.idle": "2023-12-09T12:25:16.227601Z",
     "shell.execute_reply": "2023-12-09T12:25:16.226864Z"
    },
    "papermill": {
     "duration": 0.029459,
     "end_time": "2023-12-09T12:25:16.230095",
     "exception": false,
     "start_time": "2023-12-09T12:25:16.200636",
     "status": "completed"
    },
    "tags": []
   },
   "outputs": [],
   "source": [
    "# # scaled_value = (value - min) / (max - min)\n",
    "# scaler = StandardScaler()\n",
    "# # scaler = MinMaxScaler()\n",
    "# train_test['RoomService'] = scaler.fit_transform(train_test[['RoomService']])\n",
    "# train_test.plot.scatter(x='RoomService', y='Transported')\n",
    "# plt.show()"
   ]
  },
  {
   "cell_type": "code",
   "execution_count": 8,
   "id": "3b7f2fe8",
   "metadata": {
    "execution": {
     "iopub.execute_input": "2023-12-09T12:25:16.345925Z",
     "iopub.status.busy": "2023-12-09T12:25:16.344427Z",
     "iopub.status.idle": "2023-12-09T12:25:16.350619Z",
     "shell.execute_reply": "2023-12-09T12:25:16.349791Z"
    },
    "papermill": {
     "duration": 0.030674,
     "end_time": "2023-12-09T12:25:16.353145",
     "exception": false,
     "start_time": "2023-12-09T12:25:16.322471",
     "status": "completed"
    },
    "tags": []
   },
   "outputs": [],
   "source": [
    "# # How to delete instances using panda\n",
    "# # Q1 = df['RoomService'].quantile(0.25)\n",
    "# # Q3 = df['RoomService'].quantile(0.75)\n",
    "# # IQR = Q3 - Q1\n",
    "# # df = df[~((df['RoomService'] < (Q1 - 1.5 * IQR)) |(df['RoomService'] > (Q3 + 1.5 * IQR)))]\n",
    "\n",
    "\n",
    "\n",
    "# indexNames1 = train_test[ (train_test['RoomService'] > 6000)& (train_test['Transported'] == False)].index\n",
    "# indexNames2 = train_test[ (train_test['RoomService'] > 2850) & (train_test['Transported'] == True)].index\n",
    "# train_test.drop(indexNames1 , inplace=True)\n",
    "# train_test.drop(indexNames2 , inplace=True)\n",
    "\n",
    "\n",
    "# train_test.plot.scatter(x='RoomService', y='Transported')\n",
    "# plt.show()\n",
    "# #df.info()\n",
    "# # print(len(indexNames))"
   ]
  },
  {
   "cell_type": "markdown",
   "id": "65c7afb5",
   "metadata": {
    "papermill": {
     "duration": 0.01989,
     "end_time": "2023-12-09T12:25:16.393987",
     "exception": false,
     "start_time": "2023-12-09T12:25:16.374097",
     "status": "completed"
    },
    "tags": []
   },
   "source": [
    "# 3.1.Handling Food Court Outliers"
   ]
  },
  {
   "cell_type": "code",
   "execution_count": 9,
   "id": "d4094761",
   "metadata": {
    "execution": {
     "iopub.execute_input": "2023-12-09T12:25:16.435533Z",
     "iopub.status.busy": "2023-12-09T12:25:16.435127Z",
     "iopub.status.idle": "2023-12-09T12:25:16.829462Z",
     "shell.execute_reply": "2023-12-09T12:25:16.828259Z"
    },
    "papermill": {
     "duration": 0.418398,
     "end_time": "2023-12-09T12:25:16.832425",
     "exception": false,
     "start_time": "2023-12-09T12:25:16.414027",
     "status": "completed"
    },
    "tags": []
   },
   "outputs": [
    {
     "data": {
      "image/png": "[encoded data removed]",
      "text/plain": [
       "<Figure size 640x480 with 1 Axes>"
      ]
     },
     "metadata": {},
     "output_type": "display_data"
    }
   ],
   "source": [
    "train_test.plot.scatter(x='FoodCourt', y='Transported')\n",
    "plt.show()"
   ]
  },
  {
   "cell_type": "code",
   "execution_count": 10,
   "id": "ef5bdaae",
   "metadata": {
    "execution": {
     "iopub.execute_input": "2023-12-09T12:25:16.880326Z",
     "iopub.status.busy": "2023-12-09T12:25:16.879905Z",
     "iopub.status.idle": "2023-12-09T12:25:16.885130Z",
     "shell.execute_reply": "2023-12-09T12:25:16.883658Z"
    },
    "papermill": {
     "duration": 0.033645,
     "end_time": "2023-12-09T12:25:16.888145",
     "exception": false,
     "start_time": "2023-12-09T12:25:16.854500",
     "status": "completed"
    },
    "tags": []
   },
   "outputs": [],
   "source": [
    "# train_test['FoodCourt'] = scaler.fit_transform(train_test[['FoodCourt']])\n",
    "# train_test.plot.scatter(x='FoodCourt', y='Transported')\n",
    "# plt.show()"
   ]
  },
  {
   "cell_type": "markdown",
   "id": "8f6b2b98",
   "metadata": {
    "papermill": {
     "duration": 0.021797,
     "end_time": "2023-12-09T12:25:16.932017",
     "exception": false,
     "start_time": "2023-12-09T12:25:16.910220",
     "status": "completed"
    },
    "tags": []
   },
   "source": [
    "# 3.1.Handling ShoppingMall Outliers"
   ]
  },
  {
   "cell_type": "code",
   "execution_count": 11,
   "id": "21c874ec",
   "metadata": {
    "execution": {
     "iopub.execute_input": "2023-12-09T12:25:16.980595Z",
     "iopub.status.busy": "2023-12-09T12:25:16.980109Z",
     "iopub.status.idle": "2023-12-09T12:25:17.352663Z",
     "shell.execute_reply": "2023-12-09T12:25:17.351028Z"
    },
    "papermill": {
     "duration": 0.401151,
     "end_time": "2023-12-09T12:25:17.355658",
     "exception": false,
     "start_time": "2023-12-09T12:25:16.954507",
     "status": "completed"
    },
    "tags": []
   },
   "outputs": [
    {
     "data": {
      "image/png": "[encoded data removed]",
      "text/plain": [
       "<Figure size 640x480 with 1 Axes>"
      ]
     },
     "metadata": {},
     "output_type": "display_data"
    }
   ],
   "source": [
    "train_test.plot.scatter(x='ShoppingMall', y='Transported')\n",
    "plt.show()"
   ]
  },
  {
   "cell_type": "code",
   "execution_count": 12,
   "id": "9de8a3c1",
   "metadata": {
    "execution": {
     "iopub.execute_input": "2023-12-09T12:25:17.400565Z",
     "iopub.status.busy": "2023-12-09T12:25:17.399929Z",
     "iopub.status.idle": "2023-12-09T12:25:17.404505Z",
     "shell.execute_reply": "2023-12-09T12:25:17.403674Z"
    },
    "papermill": {
     "duration": 0.029905,
     "end_time": "2023-12-09T12:25:17.406822",
     "exception": false,
     "start_time": "2023-12-09T12:25:17.376917",
     "status": "completed"
    },
    "tags": []
   },
   "outputs": [],
   "source": [
    "# train_test['ShoppingMall'] = scaler.fit_transform(train_test[['ShoppingMall']])\n",
    "# train_test.plot.scatter(x='ShoppingMall', y='Transported')\n",
    "# plt.show()"
   ]
  },
  {
   "cell_type": "markdown",
   "id": "bbdb7da6",
   "metadata": {
    "papermill": {
     "duration": 0.020668,
     "end_time": "2023-12-09T12:25:17.448462",
     "exception": false,
     "start_time": "2023-12-09T12:25:17.427794",
     "status": "completed"
    },
    "tags": []
   },
   "source": [
    "# 3.1.Handling Spa Outliers"
   ]
  },
  {
   "cell_type": "code",
   "execution_count": 13,
   "id": "5b0f3682",
   "metadata": {
    "execution": {
     "iopub.execute_input": "2023-12-09T12:25:17.493017Z",
     "iopub.status.busy": "2023-12-09T12:25:17.492560Z",
     "iopub.status.idle": "2023-12-09T12:25:17.835428Z",
     "shell.execute_reply": "2023-12-09T12:25:17.833943Z"
    },
    "papermill": {
     "duration": 0.368362,
     "end_time": "2023-12-09T12:25:17.838068",
     "exception": false,
     "start_time": "2023-12-09T12:25:17.469706",
     "status": "completed"
    },
    "tags": []
   },
   "outputs": [
    {
     "data": {
      "image/png": "[encoded data removed]",
      "text/plain": [
       "<Figure size 640x480 with 1 Axes>"
      ]
     },
     "metadata": {},
     "output_type": "display_data"
    }
   ],
   "source": [
    "train_test.plot.scatter(x='Spa', y='Transported')\n",
    "plt.show()"
   ]
  },
  {
   "cell_type": "code",
   "execution_count": 14,
   "id": "9a246eb4",
   "metadata": {
    "execution": {
     "iopub.execute_input": "2023-12-09T12:25:17.884919Z",
     "iopub.status.busy": "2023-12-09T12:25:17.883917Z",
     "iopub.status.idle": "2023-12-09T12:25:17.888834Z",
     "shell.execute_reply": "2023-12-09T12:25:17.887819Z"
    },
    "papermill": {
     "duration": 0.031807,
     "end_time": "2023-12-09T12:25:17.891424",
     "exception": false,
     "start_time": "2023-12-09T12:25:17.859617",
     "status": "completed"
    },
    "tags": []
   },
   "outputs": [],
   "source": [
    "# train_test['Spa'] = scaler.fit_transform(train_test[['Spa']])\n",
    "# train_test.plot.scatter(x='Spa', y='Transported')\n",
    "# plt.show()"
   ]
  },
  {
   "cell_type": "markdown",
   "id": "bd1f7a51",
   "metadata": {
    "papermill": {
     "duration": 0.02137,
     "end_time": "2023-12-09T12:25:17.934870",
     "exception": false,
     "start_time": "2023-12-09T12:25:17.913500",
     "status": "completed"
    },
    "tags": []
   },
   "source": [
    "# 3.1.Handling VRDeck Outliers"
   ]
  },
  {
   "cell_type": "code",
   "execution_count": 15,
   "id": "c0455297",
   "metadata": {
    "execution": {
     "iopub.execute_input": "2023-12-09T12:25:17.981570Z",
     "iopub.status.busy": "2023-12-09T12:25:17.980685Z",
     "iopub.status.idle": "2023-12-09T12:25:18.429170Z",
     "shell.execute_reply": "2023-12-09T12:25:18.427449Z"
    },
    "papermill": {
     "duration": 0.475418,
     "end_time": "2023-12-09T12:25:18.432419",
     "exception": false,
     "start_time": "2023-12-09T12:25:17.957001",
     "status": "completed"
    },
    "tags": []
   },
   "outputs": [
    {
     "data": {
      "image/png": "[encoded data removed]",
      "text/plain": [
       "<Figure size 640x480 with 1 Axes>"
      ]
     },
     "metadata": {},
     "output_type": "display_data"
    }
   ],
   "source": [
    "train_test.plot.scatter(x='VRDeck', y='Transported')\n",
    "plt.show()"
   ]
  },
  {
   "cell_type": "code",
   "execution_count": 16,
   "id": "2664f14b",
   "metadata": {
    "execution": {
     "iopub.execute_input": "2023-12-09T12:25:18.481097Z",
     "iopub.status.busy": "2023-12-09T12:25:18.479995Z",
     "iopub.status.idle": "2023-12-09T12:25:18.485555Z",
     "shell.execute_reply": "2023-12-09T12:25:18.484336Z"
    },
    "papermill": {
     "duration": 0.032666,
     "end_time": "2023-12-09T12:25:18.488096",
     "exception": false,
     "start_time": "2023-12-09T12:25:18.455430",
     "status": "completed"
    },
    "tags": []
   },
   "outputs": [],
   "source": [
    "# train_test['VRDeck'] = scaler.fit_transform(train_test[['VRDeck']])\n",
    "# train_test.plot.scatter(x='VRDeck', y='Transported')\n",
    "# plt.show()"
   ]
  },
  {
   "cell_type": "code",
   "execution_count": 17,
   "id": "e7a898d9",
   "metadata": {
    "execution": {
     "iopub.execute_input": "2023-12-09T12:25:18.537280Z",
     "iopub.status.busy": "2023-12-09T12:25:18.536318Z",
     "iopub.status.idle": "2023-12-09T12:25:18.541583Z",
     "shell.execute_reply": "2023-12-09T12:25:18.540489Z"
    },
    "papermill": {
     "duration": 0.032329,
     "end_time": "2023-12-09T12:25:18.543948",
     "exception": false,
     "start_time": "2023-12-09T12:25:18.511619",
     "status": "completed"
    },
    "tags": []
   },
   "outputs": [],
   "source": [
    "# mean = train_test['VRDeck'].mean()\n",
    "# std = train_test['VRDeck'].std()\n",
    "# ZScore = (train_test['VRDeck'] - mean) / std\n",
    "\n",
    "# threshold = 3\n",
    "# outliers = train_test[np.abs(ZScore) > threshold]\n",
    "# outliers"
   ]
  },
  {
   "cell_type": "code",
   "execution_count": 18,
   "id": "779b7a4b",
   "metadata": {
    "execution": {
     "iopub.execute_input": "2023-12-09T12:25:18.591856Z",
     "iopub.status.busy": "2023-12-09T12:25:18.590771Z",
     "iopub.status.idle": "2023-12-09T12:25:18.596606Z",
     "shell.execute_reply": "2023-12-09T12:25:18.595485Z"
    },
    "papermill": {
     "duration": 0.033079,
     "end_time": "2023-12-09T12:25:18.599129",
     "exception": false,
     "start_time": "2023-12-09T12:25:18.566050",
     "status": "completed"
    },
    "tags": []
   },
   "outputs": [],
   "source": [
    "Expenses_columns = ['RoomService','FoodCourt','ShoppingMall','Spa','VRDeck']\n",
    "#train_test.loc[(train_test['Age'] < 10) & (train_test[Expenses_columns].isnull()), Expenses_columns] = 0\n",
    "# train_test.loc[(train_test['Age'] > 10) & train_test['RoomService'].isnull(), Expenses_columns] = train_test['RoomService'].mean()\n",
    "# \n"
   ]
  },
  {
   "cell_type": "code",
   "execution_count": 19,
   "id": "839524b1",
   "metadata": {
    "execution": {
     "iopub.execute_input": "2023-12-09T12:25:18.649132Z",
     "iopub.status.busy": "2023-12-09T12:25:18.647592Z",
     "iopub.status.idle": "2023-12-09T12:25:20.839161Z",
     "shell.execute_reply": "2023-12-09T12:25:20.837257Z"
    },
    "papermill": {
     "duration": 2.219163,
     "end_time": "2023-12-09T12:25:20.841978",
     "exception": false,
     "start_time": "2023-12-09T12:25:18.622815",
     "status": "completed"
    },
    "tags": []
   },
   "outputs": [
    {
     "name": "stdout",
     "output_type": "stream",
     "text": [
      "<class 'pandas.core.frame.DataFrame'>\n",
      "Index: 12970 entries, 0 to 4276\n",
      "Data columns (total 15 columns):\n",
      " #   Column        Non-Null Count  Dtype  \n",
      "---  ------        --------------  -----  \n",
      " 0   PassengerId   12970 non-null  object \n",
      " 1   HomePlanet    12682 non-null  object \n",
      " 2   CryoSleep     12660 non-null  object \n",
      " 3   Cabin         12671 non-null  object \n",
      " 4   Destination   12696 non-null  object \n",
      " 5   Age           12700 non-null  float64\n",
      " 6   VIP           12674 non-null  object \n",
      " 7   RoomService   12941 non-null  float64\n",
      " 8   FoodCourt     12945 non-null  float64\n",
      " 9   ShoppingMall  12937 non-null  float64\n",
      " 10  Spa           12946 non-null  float64\n",
      " 11  VRDeck        12927 non-null  float64\n",
      " 12  Name          12676 non-null  object \n",
      " 13  Transported   8693 non-null   object \n",
      " 14  Expenditure   12970 non-null  float64\n",
      "dtypes: float64(7), object(8)\n",
      "memory usage: 1.6+ MB\n"
     ]
    }
   ],
   "source": [
    "# First lets fill CryoSleep, based on totdal expenditure\n",
    "train_test[\"Expenditure\"]=train_test[Expenses_columns].sum(axis=\"columns\")\n",
    "\n",
    "# train_test.loc[train_test[\"Expenditure\"] == 0 & train_test['Age'].isna(), 'Age'] = 0\n",
    "\n",
    "\n",
    "# filling expenditure with use of Age\n",
    "def fill_with_mean(row):\n",
    "    for col in Expenses_columns:\n",
    "        if row['Age'] > 12 and pd.isnull(row[col]):\n",
    "            row[col] = train_test[col].mean()\n",
    "    return row\n",
    "\n",
    "train_test = train_test.apply(fill_with_mean, axis=1)\n",
    "\n",
    "\n",
    "\n",
    "def fill_with_zero(row):\n",
    "    for col in Expenses_columns:\n",
    "        if row['Age'] < 12 and pd.isnull(row[col]):\n",
    "            row[col] = 0\n",
    "    return row\n",
    "\n",
    "# train_test = train_test.apply(fill_with_zero, axis=1)\n",
    "\n",
    "\n",
    "\n",
    "train_test.info()"
   ]
  },
  {
   "cell_type": "code",
   "execution_count": 20,
   "id": "2dc4ea45",
   "metadata": {
    "execution": {
     "iopub.execute_input": "2023-12-09T12:25:20.889538Z",
     "iopub.status.busy": "2023-12-09T12:25:20.889060Z",
     "iopub.status.idle": "2023-12-09T12:25:20.923051Z",
     "shell.execute_reply": "2023-12-09T12:25:20.921340Z"
    },
    "papermill": {
     "duration": 0.061617,
     "end_time": "2023-12-09T12:25:20.925997",
     "exception": false,
     "start_time": "2023-12-09T12:25:20.864380",
     "status": "completed"
    },
    "tags": []
   },
   "outputs": [
    {
     "name": "stdout",
     "output_type": "stream",
     "text": [
      "PassengerId        0\n",
      "HomePlanet       288\n",
      "CryoSleep          0\n",
      "Cabin            299\n",
      "Destination      274\n",
      "Age              270\n",
      "VIP                0\n",
      "RoomService       29\n",
      "FoodCourt         25\n",
      "ShoppingMall      33\n",
      "Spa               24\n",
      "VRDeck            43\n",
      "Name             294\n",
      "Transported     4277\n",
      "dtype: int64\n"
     ]
    }
   ],
   "source": [
    "# Thanks to @Master Jiraiya\n",
    "\n",
    "# Zero expenditure indicate that they are in CryoSleep\n",
    "train_test['CryoSleep']=np.where(train_test['Expenditure']==0,1,0)\n",
    "\n",
    "# Also, if they are VIPs, they probably would not choose to be in CryoSleep\n",
    "train_test['VIP']=np.where(train_test['CryoSleep']==0,1,0)\n",
    "\n",
    "train_test.drop(columns=[\"Expenditure\"],inplace=True)\n",
    "\n",
    "print(train_test.isna().sum())"
   ]
  },
  {
   "cell_type": "code",
   "execution_count": 21,
   "id": "9e5b308a",
   "metadata": {
    "execution": {
     "iopub.execute_input": "2023-12-09T12:25:20.974092Z",
     "iopub.status.busy": "2023-12-09T12:25:20.973623Z",
     "iopub.status.idle": "2023-12-09T12:25:21.012339Z",
     "shell.execute_reply": "2023-12-09T12:25:21.011000Z"
    },
    "papermill": {
     "duration": 0.066545,
     "end_time": "2023-12-09T12:25:21.015453",
     "exception": false,
     "start_time": "2023-12-09T12:25:20.948908",
     "status": "completed"
    },
    "tags": []
   },
   "outputs": [
    {
     "data": {
      "text/html": [
       "<div>\n",
       "<style scoped>\n",
       "    .dataframe tbody tr th:only-of-type {\n",
       "        vertical-align: middle;\n",
       "    }\n",
       "\n",
       "    .dataframe tbody tr th {\n",
       "        vertical-align: top;\n",
       "    }\n",
       "\n",
       "    .dataframe thead th {\n",
       "        text-align: right;\n",
       "    }\n",
       "</style>\n",
       "<table border=\"1\" class=\"dataframe\">\n",
       "  <thead>\n",
       "    <tr style=\"text-align: right;\">\n",
       "      <th></th>\n",
       "      <th>PassengerId</th>\n",
       "      <th>HomePlanet</th>\n",
       "      <th>CryoSleep</th>\n",
       "      <th>Cabin</th>\n",
       "      <th>Destination</th>\n",
       "      <th>Age</th>\n",
       "      <th>VIP</th>\n",
       "      <th>RoomService</th>\n",
       "      <th>FoodCourt</th>\n",
       "      <th>ShoppingMall</th>\n",
       "      <th>Spa</th>\n",
       "      <th>VRDeck</th>\n",
       "      <th>Name</th>\n",
       "      <th>Transported</th>\n",
       "    </tr>\n",
       "  </thead>\n",
       "  <tbody>\n",
       "    <tr>\n",
       "      <th>0</th>\n",
       "      <td>0001_01</td>\n",
       "      <td>Europa</td>\n",
       "      <td>1</td>\n",
       "      <td>B/0/P</td>\n",
       "      <td>TRAPPIST-1e</td>\n",
       "      <td>39.0</td>\n",
       "      <td>0</td>\n",
       "      <td>0.0</td>\n",
       "      <td>0.0</td>\n",
       "      <td>0.0</td>\n",
       "      <td>0.0</td>\n",
       "      <td>0.0</td>\n",
       "      <td>Maham Ofracculy</td>\n",
       "      <td>False</td>\n",
       "    </tr>\n",
       "    <tr>\n",
       "      <th>1</th>\n",
       "      <td>0002_01</td>\n",
       "      <td>Earth</td>\n",
       "      <td>0</td>\n",
       "      <td>F/0/S</td>\n",
       "      <td>TRAPPIST-1e</td>\n",
       "      <td>24.0</td>\n",
       "      <td>1</td>\n",
       "      <td>109.0</td>\n",
       "      <td>9.0</td>\n",
       "      <td>25.0</td>\n",
       "      <td>549.0</td>\n",
       "      <td>44.0</td>\n",
       "      <td>Juanna Vines</td>\n",
       "      <td>True</td>\n",
       "    </tr>\n",
       "    <tr>\n",
       "      <th>2</th>\n",
       "      <td>0003_01</td>\n",
       "      <td>Europa</td>\n",
       "      <td>0</td>\n",
       "      <td>A/0/S</td>\n",
       "      <td>TRAPPIST-1e</td>\n",
       "      <td>58.0</td>\n",
       "      <td>1</td>\n",
       "      <td>43.0</td>\n",
       "      <td>3576.0</td>\n",
       "      <td>0.0</td>\n",
       "      <td>6715.0</td>\n",
       "      <td>49.0</td>\n",
       "      <td>Altark Susent</td>\n",
       "      <td>False</td>\n",
       "    </tr>\n",
       "    <tr>\n",
       "      <th>3</th>\n",
       "      <td>0003_02</td>\n",
       "      <td>Europa</td>\n",
       "      <td>0</td>\n",
       "      <td>A/0/S</td>\n",
       "      <td>TRAPPIST-1e</td>\n",
       "      <td>33.0</td>\n",
       "      <td>1</td>\n",
       "      <td>0.0</td>\n",
       "      <td>1283.0</td>\n",
       "      <td>371.0</td>\n",
       "      <td>3329.0</td>\n",
       "      <td>193.0</td>\n",
       "      <td>Solam Susent</td>\n",
       "      <td>False</td>\n",
       "    </tr>\n",
       "    <tr>\n",
       "      <th>4</th>\n",
       "      <td>0004_01</td>\n",
       "      <td>Earth</td>\n",
       "      <td>0</td>\n",
       "      <td>F/1/S</td>\n",
       "      <td>TRAPPIST-1e</td>\n",
       "      <td>16.0</td>\n",
       "      <td>1</td>\n",
       "      <td>303.0</td>\n",
       "      <td>70.0</td>\n",
       "      <td>151.0</td>\n",
       "      <td>565.0</td>\n",
       "      <td>2.0</td>\n",
       "      <td>Willy Santantines</td>\n",
       "      <td>True</td>\n",
       "    </tr>\n",
       "    <tr>\n",
       "      <th>...</th>\n",
       "      <td>...</td>\n",
       "      <td>...</td>\n",
       "      <td>...</td>\n",
       "      <td>...</td>\n",
       "      <td>...</td>\n",
       "      <td>...</td>\n",
       "      <td>...</td>\n",
       "      <td>...</td>\n",
       "      <td>...</td>\n",
       "      <td>...</td>\n",
       "      <td>...</td>\n",
       "      <td>...</td>\n",
       "      <td>...</td>\n",
       "      <td>...</td>\n",
       "    </tr>\n",
       "    <tr>\n",
       "      <th>4272</th>\n",
       "      <td>9266_02</td>\n",
       "      <td>Earth</td>\n",
       "      <td>1</td>\n",
       "      <td>G/1496/S</td>\n",
       "      <td>TRAPPIST-1e</td>\n",
       "      <td>34.0</td>\n",
       "      <td>0</td>\n",
       "      <td>0.0</td>\n",
       "      <td>0.0</td>\n",
       "      <td>0.0</td>\n",
       "      <td>0.0</td>\n",
       "      <td>0.0</td>\n",
       "      <td>Jeron Peter</td>\n",
       "      <td>NaN</td>\n",
       "    </tr>\n",
       "    <tr>\n",
       "      <th>4273</th>\n",
       "      <td>9269_01</td>\n",
       "      <td>Earth</td>\n",
       "      <td>0</td>\n",
       "      <td>NaN</td>\n",
       "      <td>TRAPPIST-1e</td>\n",
       "      <td>42.0</td>\n",
       "      <td>1</td>\n",
       "      <td>0.0</td>\n",
       "      <td>847.0</td>\n",
       "      <td>17.0</td>\n",
       "      <td>10.0</td>\n",
       "      <td>144.0</td>\n",
       "      <td>Matty Scheron</td>\n",
       "      <td>NaN</td>\n",
       "    </tr>\n",
       "    <tr>\n",
       "      <th>4274</th>\n",
       "      <td>9271_01</td>\n",
       "      <td>Mars</td>\n",
       "      <td>1</td>\n",
       "      <td>D/296/P</td>\n",
       "      <td>55 Cancri e</td>\n",
       "      <td>NaN</td>\n",
       "      <td>0</td>\n",
       "      <td>0.0</td>\n",
       "      <td>0.0</td>\n",
       "      <td>0.0</td>\n",
       "      <td>0.0</td>\n",
       "      <td>0.0</td>\n",
       "      <td>Jayrin Pore</td>\n",
       "      <td>NaN</td>\n",
       "    </tr>\n",
       "    <tr>\n",
       "      <th>4275</th>\n",
       "      <td>9273_01</td>\n",
       "      <td>Europa</td>\n",
       "      <td>0</td>\n",
       "      <td>D/297/P</td>\n",
       "      <td>NaN</td>\n",
       "      <td>NaN</td>\n",
       "      <td>1</td>\n",
       "      <td>0.0</td>\n",
       "      <td>2680.0</td>\n",
       "      <td>0.0</td>\n",
       "      <td>0.0</td>\n",
       "      <td>523.0</td>\n",
       "      <td>Kitakan Conale</td>\n",
       "      <td>NaN</td>\n",
       "    </tr>\n",
       "    <tr>\n",
       "      <th>4276</th>\n",
       "      <td>9277_01</td>\n",
       "      <td>Earth</td>\n",
       "      <td>1</td>\n",
       "      <td>G/1498/S</td>\n",
       "      <td>PSO J318.5-22</td>\n",
       "      <td>43.0</td>\n",
       "      <td>0</td>\n",
       "      <td>0.0</td>\n",
       "      <td>0.0</td>\n",
       "      <td>0.0</td>\n",
       "      <td>0.0</td>\n",
       "      <td>0.0</td>\n",
       "      <td>Lilace Leonzaley</td>\n",
       "      <td>NaN</td>\n",
       "    </tr>\n",
       "  </tbody>\n",
       "</table>\n",
       "<p>12970 rows × 14 columns</p>\n",
       "</div>"
      ],
      "text/plain": [
       "     PassengerId HomePlanet  CryoSleep     Cabin    Destination   Age  VIP  \\\n",
       "0        0001_01     Europa          1     B/0/P    TRAPPIST-1e  39.0    0   \n",
       "1        0002_01      Earth          0     F/0/S    TRAPPIST-1e  24.0    1   \n",
       "2        0003_01     Europa          0     A/0/S    TRAPPIST-1e  58.0    1   \n",
       "3        0003_02     Europa          0     A/0/S    TRAPPIST-1e  33.0    1   \n",
       "4        0004_01      Earth          0     F/1/S    TRAPPIST-1e  16.0    1   \n",
       "...          ...        ...        ...       ...            ...   ...  ...   \n",
       "4272     9266_02      Earth          1  G/1496/S    TRAPPIST-1e  34.0    0   \n",
       "4273     9269_01      Earth          0       NaN    TRAPPIST-1e  42.0    1   \n",
       "4274     9271_01       Mars          1   D/296/P    55 Cancri e   NaN    0   \n",
       "4275     9273_01     Europa          0   D/297/P            NaN   NaN    1   \n",
       "4276     9277_01      Earth          1  G/1498/S  PSO J318.5-22  43.0    0   \n",
       "\n",
       "      RoomService  FoodCourt  ShoppingMall     Spa  VRDeck               Name  \\\n",
       "0             0.0        0.0           0.0     0.0     0.0    Maham Ofracculy   \n",
       "1           109.0        9.0          25.0   549.0    44.0       Juanna Vines   \n",
       "2            43.0     3576.0           0.0  6715.0    49.0      Altark Susent   \n",
       "3             0.0     1283.0         371.0  3329.0   193.0       Solam Susent   \n",
       "4           303.0       70.0         151.0   565.0     2.0  Willy Santantines   \n",
       "...           ...        ...           ...     ...     ...                ...   \n",
       "4272          0.0        0.0           0.0     0.0     0.0        Jeron Peter   \n",
       "4273          0.0      847.0          17.0    10.0   144.0      Matty Scheron   \n",
       "4274          0.0        0.0           0.0     0.0     0.0        Jayrin Pore   \n",
       "4275          0.0     2680.0           0.0     0.0   523.0     Kitakan Conale   \n",
       "4276          0.0        0.0           0.0     0.0     0.0   Lilace Leonzaley   \n",
       "\n",
       "     Transported  \n",
       "0          False  \n",
       "1           True  \n",
       "2          False  \n",
       "3          False  \n",
       "4           True  \n",
       "...          ...  \n",
       "4272         NaN  \n",
       "4273         NaN  \n",
       "4274         NaN  \n",
       "4275         NaN  \n",
       "4276         NaN  \n",
       "\n",
       "[12970 rows x 14 columns]"
      ]
     },
     "execution_count": 21,
     "metadata": {},
     "output_type": "execute_result"
    }
   ],
   "source": [
    "train_test"
   ]
  },
  {
   "cell_type": "markdown",
   "id": "cd3417e4",
   "metadata": {
    "papermill": {
     "duration": 0.02562,
     "end_time": "2023-12-09T12:25:21.065927",
     "exception": false,
     "start_time": "2023-12-09T12:25:21.040307",
     "status": "completed"
    },
    "tags": []
   },
   "source": [
    "> HomePlanet: {'Earth', 'Europa', 'Mars', nan}\n",
    "> {1,2,3,4}\n",
    "> \n",
    "> #######################\n",
    "> \n",
    "> Destination: {'55 Cancri e', 'PSO J318.5-22', 'TRAPPIST-1e', nan}\n",
    "> {1,2,3,4}\n",
    "> \n",
    "> \n",
    "> #######################\n",
    "> \n",
    "> Cabin Class = {'A': 1, 'B': 2, 'C': 3, 'D': 4, 'E': 5, 'F': 6, 'G': 7, 'H': 8, 'I': 9, 'J': 10}"
   ]
  },
  {
   "cell_type": "code",
   "execution_count": 22,
   "id": "36071710",
   "metadata": {
    "execution": {
     "iopub.execute_input": "2023-12-09T12:25:21.118651Z",
     "iopub.status.busy": "2023-12-09T12:25:21.118142Z",
     "iopub.status.idle": "2023-12-09T12:25:21.207558Z",
     "shell.execute_reply": "2023-12-09T12:25:21.206015Z"
    },
    "papermill": {
     "duration": 0.119331,
     "end_time": "2023-12-09T12:25:21.210983",
     "exception": false,
     "start_time": "2023-12-09T12:25:21.091652",
     "status": "completed"
    },
    "tags": []
   },
   "outputs": [
    {
     "data": {
      "text/html": [
       "<div>\n",
       "<style scoped>\n",
       "    .dataframe tbody tr th:only-of-type {\n",
       "        vertical-align: middle;\n",
       "    }\n",
       "\n",
       "    .dataframe tbody tr th {\n",
       "        vertical-align: top;\n",
       "    }\n",
       "\n",
       "    .dataframe thead th {\n",
       "        text-align: right;\n",
       "    }\n",
       "</style>\n",
       "<table border=\"1\" class=\"dataframe\">\n",
       "  <thead>\n",
       "    <tr style=\"text-align: right;\">\n",
       "      <th></th>\n",
       "      <th>PassengerId</th>\n",
       "      <th>HomePlanet</th>\n",
       "      <th>CryoSleep</th>\n",
       "      <th>Cabin</th>\n",
       "      <th>Destination</th>\n",
       "      <th>Age</th>\n",
       "      <th>VIP</th>\n",
       "      <th>RoomService</th>\n",
       "      <th>FoodCourt</th>\n",
       "      <th>ShoppingMall</th>\n",
       "      <th>Spa</th>\n",
       "      <th>VRDeck</th>\n",
       "      <th>Name</th>\n",
       "      <th>Transported</th>\n",
       "    </tr>\n",
       "  </thead>\n",
       "  <tbody>\n",
       "    <tr>\n",
       "      <th>0</th>\n",
       "      <td>0001_01</td>\n",
       "      <td>2.0</td>\n",
       "      <td>1</td>\n",
       "      <td>B/0/P</td>\n",
       "      <td>3.0</td>\n",
       "      <td>39.0</td>\n",
       "      <td>0</td>\n",
       "      <td>0.0</td>\n",
       "      <td>0.0</td>\n",
       "      <td>0.0</td>\n",
       "      <td>0.0</td>\n",
       "      <td>0.0</td>\n",
       "      <td>Maham Ofracculy</td>\n",
       "      <td>0.0</td>\n",
       "    </tr>\n",
       "    <tr>\n",
       "      <th>1</th>\n",
       "      <td>0002_01</td>\n",
       "      <td>1.0</td>\n",
       "      <td>0</td>\n",
       "      <td>F/0/S</td>\n",
       "      <td>3.0</td>\n",
       "      <td>24.0</td>\n",
       "      <td>1</td>\n",
       "      <td>109.0</td>\n",
       "      <td>9.0</td>\n",
       "      <td>25.0</td>\n",
       "      <td>549.0</td>\n",
       "      <td>44.0</td>\n",
       "      <td>Juanna Vines</td>\n",
       "      <td>1.0</td>\n",
       "    </tr>\n",
       "    <tr>\n",
       "      <th>2</th>\n",
       "      <td>0003_01</td>\n",
       "      <td>2.0</td>\n",
       "      <td>0</td>\n",
       "      <td>A/0/S</td>\n",
       "      <td>3.0</td>\n",
       "      <td>58.0</td>\n",
       "      <td>1</td>\n",
       "      <td>43.0</td>\n",
       "      <td>3576.0</td>\n",
       "      <td>0.0</td>\n",
       "      <td>6715.0</td>\n",
       "      <td>49.0</td>\n",
       "      <td>Altark Susent</td>\n",
       "      <td>0.0</td>\n",
       "    </tr>\n",
       "    <tr>\n",
       "      <th>3</th>\n",
       "      <td>0003_02</td>\n",
       "      <td>2.0</td>\n",
       "      <td>0</td>\n",
       "      <td>A/0/S</td>\n",
       "      <td>3.0</td>\n",
       "      <td>33.0</td>\n",
       "      <td>1</td>\n",
       "      <td>0.0</td>\n",
       "      <td>1283.0</td>\n",
       "      <td>371.0</td>\n",
       "      <td>3329.0</td>\n",
       "      <td>193.0</td>\n",
       "      <td>Solam Susent</td>\n",
       "      <td>0.0</td>\n",
       "    </tr>\n",
       "    <tr>\n",
       "      <th>4</th>\n",
       "      <td>0004_01</td>\n",
       "      <td>1.0</td>\n",
       "      <td>0</td>\n",
       "      <td>F/1/S</td>\n",
       "      <td>3.0</td>\n",
       "      <td>16.0</td>\n",
       "      <td>1</td>\n",
       "      <td>303.0</td>\n",
       "      <td>70.0</td>\n",
       "      <td>151.0</td>\n",
       "      <td>565.0</td>\n",
       "      <td>2.0</td>\n",
       "      <td>Willy Santantines</td>\n",
       "      <td>1.0</td>\n",
       "    </tr>\n",
       "    <tr>\n",
       "      <th>...</th>\n",
       "      <td>...</td>\n",
       "      <td>...</td>\n",
       "      <td>...</td>\n",
       "      <td>...</td>\n",
       "      <td>...</td>\n",
       "      <td>...</td>\n",
       "      <td>...</td>\n",
       "      <td>...</td>\n",
       "      <td>...</td>\n",
       "      <td>...</td>\n",
       "      <td>...</td>\n",
       "      <td>...</td>\n",
       "      <td>...</td>\n",
       "      <td>...</td>\n",
       "    </tr>\n",
       "    <tr>\n",
       "      <th>4272</th>\n",
       "      <td>9266_02</td>\n",
       "      <td>1.0</td>\n",
       "      <td>1</td>\n",
       "      <td>G/1496/S</td>\n",
       "      <td>3.0</td>\n",
       "      <td>34.0</td>\n",
       "      <td>0</td>\n",
       "      <td>0.0</td>\n",
       "      <td>0.0</td>\n",
       "      <td>0.0</td>\n",
       "      <td>0.0</td>\n",
       "      <td>0.0</td>\n",
       "      <td>Jeron Peter</td>\n",
       "      <td>NaN</td>\n",
       "    </tr>\n",
       "    <tr>\n",
       "      <th>4273</th>\n",
       "      <td>9269_01</td>\n",
       "      <td>1.0</td>\n",
       "      <td>0</td>\n",
       "      <td>NaN</td>\n",
       "      <td>3.0</td>\n",
       "      <td>42.0</td>\n",
       "      <td>1</td>\n",
       "      <td>0.0</td>\n",
       "      <td>847.0</td>\n",
       "      <td>17.0</td>\n",
       "      <td>10.0</td>\n",
       "      <td>144.0</td>\n",
       "      <td>Matty Scheron</td>\n",
       "      <td>NaN</td>\n",
       "    </tr>\n",
       "    <tr>\n",
       "      <th>4274</th>\n",
       "      <td>9271_01</td>\n",
       "      <td>3.0</td>\n",
       "      <td>1</td>\n",
       "      <td>D/296/P</td>\n",
       "      <td>1.0</td>\n",
       "      <td>NaN</td>\n",
       "      <td>0</td>\n",
       "      <td>0.0</td>\n",
       "      <td>0.0</td>\n",
       "      <td>0.0</td>\n",
       "      <td>0.0</td>\n",
       "      <td>0.0</td>\n",
       "      <td>Jayrin Pore</td>\n",
       "      <td>NaN</td>\n",
       "    </tr>\n",
       "    <tr>\n",
       "      <th>4275</th>\n",
       "      <td>9273_01</td>\n",
       "      <td>2.0</td>\n",
       "      <td>0</td>\n",
       "      <td>D/297/P</td>\n",
       "      <td>NaN</td>\n",
       "      <td>NaN</td>\n",
       "      <td>1</td>\n",
       "      <td>0.0</td>\n",
       "      <td>2680.0</td>\n",
       "      <td>0.0</td>\n",
       "      <td>0.0</td>\n",
       "      <td>523.0</td>\n",
       "      <td>Kitakan Conale</td>\n",
       "      <td>NaN</td>\n",
       "    </tr>\n",
       "    <tr>\n",
       "      <th>4276</th>\n",
       "      <td>9277_01</td>\n",
       "      <td>1.0</td>\n",
       "      <td>1</td>\n",
       "      <td>G/1498/S</td>\n",
       "      <td>2.0</td>\n",
       "      <td>43.0</td>\n",
       "      <td>0</td>\n",
       "      <td>0.0</td>\n",
       "      <td>0.0</td>\n",
       "      <td>0.0</td>\n",
       "      <td>0.0</td>\n",
       "      <td>0.0</td>\n",
       "      <td>Lilace Leonzaley</td>\n",
       "      <td>NaN</td>\n",
       "    </tr>\n",
       "  </tbody>\n",
       "</table>\n",
       "<p>12970 rows × 14 columns</p>\n",
       "</div>"
      ],
      "text/plain": [
       "     PassengerId  HomePlanet  CryoSleep     Cabin  Destination   Age  VIP  \\\n",
       "0        0001_01         2.0          1     B/0/P          3.0  39.0    0   \n",
       "1        0002_01         1.0          0     F/0/S          3.0  24.0    1   \n",
       "2        0003_01         2.0          0     A/0/S          3.0  58.0    1   \n",
       "3        0003_02         2.0          0     A/0/S          3.0  33.0    1   \n",
       "4        0004_01         1.0          0     F/1/S          3.0  16.0    1   \n",
       "...          ...         ...        ...       ...          ...   ...  ...   \n",
       "4272     9266_02         1.0          1  G/1496/S          3.0  34.0    0   \n",
       "4273     9269_01         1.0          0       NaN          3.0  42.0    1   \n",
       "4274     9271_01         3.0          1   D/296/P          1.0   NaN    0   \n",
       "4275     9273_01         2.0          0   D/297/P          NaN   NaN    1   \n",
       "4276     9277_01         1.0          1  G/1498/S          2.0  43.0    0   \n",
       "\n",
       "      RoomService  FoodCourt  ShoppingMall     Spa  VRDeck               Name  \\\n",
       "0             0.0        0.0           0.0     0.0     0.0    Maham Ofracculy   \n",
       "1           109.0        9.0          25.0   549.0    44.0       Juanna Vines   \n",
       "2            43.0     3576.0           0.0  6715.0    49.0      Altark Susent   \n",
       "3             0.0     1283.0         371.0  3329.0   193.0       Solam Susent   \n",
       "4           303.0       70.0         151.0   565.0     2.0  Willy Santantines   \n",
       "...           ...        ...           ...     ...     ...                ...   \n",
       "4272          0.0        0.0           0.0     0.0     0.0        Jeron Peter   \n",
       "4273          0.0      847.0          17.0    10.0   144.0      Matty Scheron   \n",
       "4274          0.0        0.0           0.0     0.0     0.0        Jayrin Pore   \n",
       "4275          0.0     2680.0           0.0     0.0   523.0     Kitakan Conale   \n",
       "4276          0.0        0.0           0.0     0.0     0.0   Lilace Leonzaley   \n",
       "\n",
       "      Transported  \n",
       "0             0.0  \n",
       "1             1.0  \n",
       "2             0.0  \n",
       "3             0.0  \n",
       "4             1.0  \n",
       "...           ...  \n",
       "4272          NaN  \n",
       "4273          NaN  \n",
       "4274          NaN  \n",
       "4275          NaN  \n",
       "4276          NaN  \n",
       "\n",
       "[12970 rows x 14 columns]"
      ]
     },
     "execution_count": 22,
     "metadata": {},
     "output_type": "execute_result"
    }
   ],
   "source": [
    "#CryoSleep Train\n",
    "train_test['CryoSleep'].replace({True: 1, False: 0}, inplace=True)\n",
    "\n",
    "#Transported Train\n",
    "train_test['Transported'] = train_test['Transported'].replace({True: 1, False: 0})\n",
    "\n",
    "#HomePlanet Train\n",
    "train_test['HomePlanet'].replace('Earth', 1, inplace=True)\n",
    "train_test['HomePlanet'].replace('Europa', 2, inplace=True)\n",
    "train_test['HomePlanet'].replace('Mars', 3, inplace=True)\n",
    "\n",
    "#Destination Train\n",
    "train_test['Destination'].replace('55 Cancri e', 1, inplace=True)\n",
    "train_test['Destination'].replace('PSO J318.5-22', 2, inplace=True)\n",
    "train_test['Destination'].replace('TRAPPIST-1e', 3, inplace=True)\n",
    "\n",
    "\n",
    "#Vip Train\n",
    "train_test['VIP'].replace({True: 1, False: 0}, inplace=True)\n",
    "\n",
    "\n",
    "########################################################\n",
    "\n",
    "\n",
    "# #CryoSleep Test\n",
    "# test['CryoSleep'].replace({True: 1, False: 0}, inplace=True)\n",
    "\n",
    "# #Transported Test\n",
    "# # Don't have transported\n",
    "\n",
    "# #HomePlanet Test\n",
    "# test['HomePlanet'].replace('Earth', 1, inplace=True)\n",
    "# test['HomePlanet'].replace('Europa', 2, inplace=True)\n",
    "# test['HomePlanet'].replace('Mars', 3, inplace=True)\n",
    "\n",
    "# #Destination Test\n",
    "# test['Destination'].replace('55 Cancri e', 1, inplace=True)\n",
    "# test['Destination'].replace('PSO J318.5-22', 2, inplace=True)\n",
    "# test['Destination'].replace('TRAPPIST-1e', 3, inplace=True)\n",
    "\n",
    "# #Vip Test\n",
    "# test['VIP'].replace({True: 1, False: 0}, inplace=True)\n",
    "\n",
    "\n",
    "train_test\n",
    "# train_test.info()\n",
    "# test.head(3)"
   ]
  },
  {
   "cell_type": "code",
   "execution_count": 23,
   "id": "e04320de",
   "metadata": {
    "execution": {
     "iopub.execute_input": "2023-12-09T12:25:21.267507Z",
     "iopub.status.busy": "2023-12-09T12:25:21.266957Z",
     "iopub.status.idle": "2023-12-09T12:25:21.278402Z",
     "shell.execute_reply": "2023-12-09T12:25:21.277262Z"
    },
    "papermill": {
     "duration": 0.042863,
     "end_time": "2023-12-09T12:25:21.280868",
     "exception": false,
     "start_time": "2023-12-09T12:25:21.238005",
     "status": "completed"
    },
    "tags": []
   },
   "outputs": [
    {
     "data": {
      "text/plain": [
       "270"
      ]
     },
     "execution_count": 23,
     "metadata": {},
     "output_type": "execute_result"
    }
   ],
   "source": [
    "# expenses_grouped = train_test.groupby('Transported')[Expenses_columns].mean()\n",
    "\n",
    "# plt.figure(figsize=(12, 6))\n",
    "# expenses_grouped.plot(kind='bar')\n",
    "# plt.xlabel('Transported')\n",
    "# plt.ylabel('Average Expenses')\n",
    "# plt.title('Average Expenses by Transported')\n",
    "# plt.legend(Expenses_columns)\n",
    "# plt.show()\n",
    "sum(train_test[\"Age\"].isna())"
   ]
  },
  {
   "cell_type": "markdown",
   "id": "97426d94",
   "metadata": {
    "papermill": {
     "duration": 0.023724,
     "end_time": "2023-12-09T12:25:21.328868",
     "exception": false,
     "start_time": "2023-12-09T12:25:21.305144",
     "status": "completed"
    },
    "tags": []
   },
   "source": [
    "# 4. Filling NaN and Null cells"
   ]
  },
  {
   "cell_type": "code",
   "execution_count": 24,
   "id": "6f544cc3",
   "metadata": {
    "execution": {
     "iopub.execute_input": "2023-12-09T12:25:21.379290Z",
     "iopub.status.busy": "2023-12-09T12:25:21.378424Z",
     "iopub.status.idle": "2023-12-09T12:25:21.421118Z",
     "shell.execute_reply": "2023-12-09T12:25:21.419746Z"
    },
    "papermill": {
     "duration": 0.070592,
     "end_time": "2023-12-09T12:25:21.423554",
     "exception": false,
     "start_time": "2023-12-09T12:25:21.352962",
     "status": "completed"
    },
    "tags": []
   },
   "outputs": [
    {
     "name": "stdout",
     "output_type": "stream",
     "text": [
      "PassengerId        0\n",
      "HomePlanet         0\n",
      "CryoSleep          0\n",
      "Cabin              0\n",
      "Destination        0\n",
      "Age                0\n",
      "VIP                0\n",
      "RoomService        0\n",
      "FoodCourt          0\n",
      "ShoppingMall       0\n",
      "Spa                0\n",
      "VRDeck             0\n",
      "Name               0\n",
      "Transported     4277\n",
      "dtype: int64\n"
     ]
    }
   ],
   "source": [
    "#Data For Train_Test\n",
    "train_test[\"Name\"].fillna(\"Unknown Unknown\",inplace=True)\n",
    "train_test[\"HomePlanet\"].fillna(train_test[\"HomePlanet\"].mode()[0],inplace=True)\n",
    "train_test[\"Destination\"].fillna(train_test[\"Destination\"].mode()[0],inplace=True)\n",
    "train_test[\"Cabin\"].fillna(train_test[\"Cabin\"].mode()[0],inplace=True)\n",
    "train_test[\"Age\"].fillna(int(train_test[\"Age\"].mean()),inplace=True)\n",
    "train_test[\"RoomService\"].fillna(train_test[\"RoomService\"].mean(),inplace=True)\n",
    "train_test[\"FoodCourt\"].fillna(train_test[\"FoodCourt\"].mean(),inplace=True)\n",
    "train_test[\"ShoppingMall\"].fillna(train_test[\"ShoppingMall\"].mean(),inplace=True)\n",
    "train_test[\"Spa\"].fillna(train_test[\"Spa\"].mean(),inplace=True)\n",
    "train_test[\"VRDeck\"].fillna(train_test[\"VRDeck\"].mean(),inplace=True)\n",
    "\n",
    "# Define the bins and labels for AGE column\n",
    "bins = [0, 15, 25, 35, 45, 60, 75, 90,120, 150]\n",
    "labels = [1, 2, 3, 4, 5, 6, 7, 8, 9]\n",
    "\n",
    "# Use pd.cut to scale the 'Age' column\n",
    "train_test['Age'] = pd.cut(train_test['Age'], bins=bins, labels=labels, right=False)\n",
    "# test['Age'] = pd.cut(test['Age'], bins=bins, labels=labels, right=False)\n",
    "\n",
    "\n",
    "\n",
    "\n",
    "#No Nan, Null or empty cell\n",
    "print(train_test.isna().sum())"
   ]
  },
  {
   "cell_type": "code",
   "execution_count": 25,
   "id": "06755fe6",
   "metadata": {
    "execution": {
     "iopub.execute_input": "2023-12-09T12:25:21.473479Z",
     "iopub.status.busy": "2023-12-09T12:25:21.472494Z",
     "iopub.status.idle": "2023-12-09T12:25:21.558621Z",
     "shell.execute_reply": "2023-12-09T12:25:21.557169Z"
    },
    "papermill": {
     "duration": 0.114386,
     "end_time": "2023-12-09T12:25:21.561481",
     "exception": false,
     "start_time": "2023-12-09T12:25:21.447095",
     "status": "completed"
    },
    "tags": []
   },
   "outputs": [
    {
     "data": {
      "text/html": [
       "<div>\n",
       "<style scoped>\n",
       "    .dataframe tbody tr th:only-of-type {\n",
       "        vertical-align: middle;\n",
       "    }\n",
       "\n",
       "    .dataframe tbody tr th {\n",
       "        vertical-align: top;\n",
       "    }\n",
       "\n",
       "    .dataframe thead th {\n",
       "        text-align: right;\n",
       "    }\n",
       "</style>\n",
       "<table border=\"1\" class=\"dataframe\">\n",
       "  <thead>\n",
       "    <tr style=\"text-align: right;\">\n",
       "      <th></th>\n",
       "      <th>PassengerId</th>\n",
       "      <th>HomePlanet</th>\n",
       "      <th>CryoSleep</th>\n",
       "      <th>Cabin</th>\n",
       "      <th>Destination</th>\n",
       "      <th>Age</th>\n",
       "      <th>VIP</th>\n",
       "      <th>RoomService</th>\n",
       "      <th>FoodCourt</th>\n",
       "      <th>ShoppingMall</th>\n",
       "      <th>Spa</th>\n",
       "      <th>VRDeck</th>\n",
       "      <th>Name</th>\n",
       "      <th>Transported</th>\n",
       "      <th>Deck</th>\n",
       "      <th>Port</th>\n",
       "    </tr>\n",
       "  </thead>\n",
       "  <tbody>\n",
       "    <tr>\n",
       "      <th>0</th>\n",
       "      <td>0001_01</td>\n",
       "      <td>2.0</td>\n",
       "      <td>1</td>\n",
       "      <td>0</td>\n",
       "      <td>3.0</td>\n",
       "      <td>4</td>\n",
       "      <td>0</td>\n",
       "      <td>0.0</td>\n",
       "      <td>0.0</td>\n",
       "      <td>0.0</td>\n",
       "      <td>0.0</td>\n",
       "      <td>0.0</td>\n",
       "      <td>Maham Ofracculy</td>\n",
       "      <td>0.0</td>\n",
       "      <td>2</td>\n",
       "      <td>1</td>\n",
       "    </tr>\n",
       "    <tr>\n",
       "      <th>1</th>\n",
       "      <td>0002_01</td>\n",
       "      <td>1.0</td>\n",
       "      <td>0</td>\n",
       "      <td>0</td>\n",
       "      <td>3.0</td>\n",
       "      <td>2</td>\n",
       "      <td>1</td>\n",
       "      <td>109.0</td>\n",
       "      <td>9.0</td>\n",
       "      <td>25.0</td>\n",
       "      <td>549.0</td>\n",
       "      <td>44.0</td>\n",
       "      <td>Juanna Vines</td>\n",
       "      <td>1.0</td>\n",
       "      <td>6</td>\n",
       "      <td>0</td>\n",
       "    </tr>\n",
       "    <tr>\n",
       "      <th>2</th>\n",
       "      <td>0003_01</td>\n",
       "      <td>2.0</td>\n",
       "      <td>0</td>\n",
       "      <td>0</td>\n",
       "      <td>3.0</td>\n",
       "      <td>5</td>\n",
       "      <td>1</td>\n",
       "      <td>43.0</td>\n",
       "      <td>3576.0</td>\n",
       "      <td>0.0</td>\n",
       "      <td>6715.0</td>\n",
       "      <td>49.0</td>\n",
       "      <td>Altark Susent</td>\n",
       "      <td>0.0</td>\n",
       "      <td>1</td>\n",
       "      <td>0</td>\n",
       "    </tr>\n",
       "  </tbody>\n",
       "</table>\n",
       "</div>"
      ],
      "text/plain": [
       "  PassengerId  HomePlanet  CryoSleep Cabin  Destination Age  VIP  RoomService  \\\n",
       "0     0001_01         2.0          1     0          3.0   4    0          0.0   \n",
       "1     0002_01         1.0          0     0          3.0   2    1        109.0   \n",
       "2     0003_01         2.0          0     0          3.0   5    1         43.0   \n",
       "\n",
       "   FoodCourt  ShoppingMall     Spa  VRDeck             Name  Transported  \\\n",
       "0        0.0           0.0     0.0     0.0  Maham Ofracculy          0.0   \n",
       "1        9.0          25.0   549.0    44.0     Juanna Vines          1.0   \n",
       "2     3576.0           0.0  6715.0    49.0    Altark Susent          0.0   \n",
       "\n",
       "   Deck  Port  \n",
       "0     2     1  \n",
       "1     6     0  \n",
       "2     1     0  "
      ]
     },
     "execution_count": 25,
     "metadata": {},
     "output_type": "execute_result"
    }
   ],
   "source": [
    "train_test[['Deck', 'Cabin', 'Port']] = train_test['Cabin'].str.split('/', expand=True)\n",
    "\n",
    "# Train Data\n",
    "#Port or Starboard of the cabins\n",
    "train_test['Port'].replace('S', 0, inplace=True)\n",
    "train_test['Port'].replace('P', 1, inplace=True)\n",
    "\n",
    "#Class of the cabins\n",
    "letter_to_int = {'A': 1, 'B': 2, 'C': 3, 'D': 4, 'E': 5, 'F': 6, 'G': 7, 'T': 8}\n",
    "train_test['Deck'] = train_test['Deck'].map(letter_to_int)\n",
    "\n",
    "\n",
    "#####################################\n",
    "#####################################\n",
    "#####################################\n",
    "\n",
    "# Test Data\n",
    "\n",
    "# #Port or Starboard of the cabins\n",
    "# test['Port'] = test['Cabin'].str.split('/').str[-1]\n",
    "# test['Port'].replace('S', 0, inplace=True)\n",
    "# test['Port'].replace('P', 1, inplace=True)\n",
    "\n",
    "# #Class of the cabins\n",
    "# test['Place'] = test['Cabin'].str.split('/').str[0]\n",
    "# letter_to_int = {'A': 1, 'B': 2, 'C': 3, 'D': 4, 'E': 5, 'F': 6, 'G': 7, 'T': 8}\n",
    "# test['Place'] = test['Place'].map(letter_to_int)\n",
    "\n",
    "\n",
    "# #Number of cabins\n",
    "# test['Cabin'] = test['Cabin'].str.split('/').str[1]\n",
    "\n",
    "\n",
    "\n",
    "train_test.head(3)"
   ]
  },
  {
   "cell_type": "code",
   "execution_count": 26,
   "id": "b1be48ce",
   "metadata": {
    "execution": {
     "iopub.execute_input": "2023-12-09T12:25:21.612032Z",
     "iopub.status.busy": "2023-12-09T12:25:21.611276Z",
     "iopub.status.idle": "2023-12-09T12:25:21.733070Z",
     "shell.execute_reply": "2023-12-09T12:25:21.731343Z"
    },
    "papermill": {
     "duration": 0.150591,
     "end_time": "2023-12-09T12:25:21.736433",
     "exception": false,
     "start_time": "2023-12-09T12:25:21.585842",
     "status": "completed"
    },
    "tags": []
   },
   "outputs": [
    {
     "data": {
      "text/html": [
       "<div>\n",
       "<style scoped>\n",
       "    .dataframe tbody tr th:only-of-type {\n",
       "        vertical-align: middle;\n",
       "    }\n",
       "\n",
       "    .dataframe tbody tr th {\n",
       "        vertical-align: top;\n",
       "    }\n",
       "\n",
       "    .dataframe thead th {\n",
       "        text-align: right;\n",
       "    }\n",
       "</style>\n",
       "<table border=\"1\" class=\"dataframe\">\n",
       "  <thead>\n",
       "    <tr style=\"text-align: right;\">\n",
       "      <th></th>\n",
       "      <th>PassengerId</th>\n",
       "      <th>HomePlanet</th>\n",
       "      <th>CryoSleep</th>\n",
       "      <th>Cabin</th>\n",
       "      <th>Destination</th>\n",
       "      <th>Age</th>\n",
       "      <th>VIP</th>\n",
       "      <th>RoomService</th>\n",
       "      <th>FoodCourt</th>\n",
       "      <th>ShoppingMall</th>\n",
       "      <th>Spa</th>\n",
       "      <th>VRDeck</th>\n",
       "      <th>Name</th>\n",
       "      <th>Transported</th>\n",
       "      <th>Deck</th>\n",
       "      <th>Port</th>\n",
       "      <th>Group</th>\n",
       "      <th>FamilyGroupID</th>\n",
       "      <th>FamilyID</th>\n",
       "    </tr>\n",
       "  </thead>\n",
       "  <tbody>\n",
       "    <tr>\n",
       "      <th>0</th>\n",
       "      <td>0001_01</td>\n",
       "      <td>2.0</td>\n",
       "      <td>1</td>\n",
       "      <td>0</td>\n",
       "      <td>3.0</td>\n",
       "      <td>4</td>\n",
       "      <td>0</td>\n",
       "      <td>0.0</td>\n",
       "      <td>0.0</td>\n",
       "      <td>0.0</td>\n",
       "      <td>0.0</td>\n",
       "      <td>0.0</td>\n",
       "      <td>Ofracculy</td>\n",
       "      <td>0.0</td>\n",
       "      <td>2</td>\n",
       "      <td>1</td>\n",
       "      <td>0001</td>\n",
       "      <td>6305</td>\n",
       "      <td>0</td>\n",
       "    </tr>\n",
       "    <tr>\n",
       "      <th>1</th>\n",
       "      <td>0002_01</td>\n",
       "      <td>1.0</td>\n",
       "      <td>0</td>\n",
       "      <td>0</td>\n",
       "      <td>3.0</td>\n",
       "      <td>2</td>\n",
       "      <td>1</td>\n",
       "      <td>109.0</td>\n",
       "      <td>9.0</td>\n",
       "      <td>25.0</td>\n",
       "      <td>549.0</td>\n",
       "      <td>44.0</td>\n",
       "      <td>Vines</td>\n",
       "      <td>1.0</td>\n",
       "      <td>6</td>\n",
       "      <td>0</td>\n",
       "      <td>0002</td>\n",
       "      <td>9276</td>\n",
       "      <td>1</td>\n",
       "    </tr>\n",
       "    <tr>\n",
       "      <th>2</th>\n",
       "      <td>0003_01</td>\n",
       "      <td>2.0</td>\n",
       "      <td>0</td>\n",
       "      <td>0</td>\n",
       "      <td>3.0</td>\n",
       "      <td>5</td>\n",
       "      <td>1</td>\n",
       "      <td>43.0</td>\n",
       "      <td>3576.0</td>\n",
       "      <td>0.0</td>\n",
       "      <td>6715.0</td>\n",
       "      <td>49.0</td>\n",
       "      <td>Susent</td>\n",
       "      <td>0.0</td>\n",
       "      <td>1</td>\n",
       "      <td>0</td>\n",
       "      <td>0003</td>\n",
       "      <td>8502</td>\n",
       "      <td>2</td>\n",
       "    </tr>\n",
       "    <tr>\n",
       "      <th>3</th>\n",
       "      <td>0003_02</td>\n",
       "      <td>2.0</td>\n",
       "      <td>0</td>\n",
       "      <td>0</td>\n",
       "      <td>3.0</td>\n",
       "      <td>3</td>\n",
       "      <td>1</td>\n",
       "      <td>0.0</td>\n",
       "      <td>1283.0</td>\n",
       "      <td>371.0</td>\n",
       "      <td>3329.0</td>\n",
       "      <td>193.0</td>\n",
       "      <td>Susent</td>\n",
       "      <td>0.0</td>\n",
       "      <td>1</td>\n",
       "      <td>0</td>\n",
       "      <td>0003</td>\n",
       "      <td>8502</td>\n",
       "      <td>2</td>\n",
       "    </tr>\n",
       "    <tr>\n",
       "      <th>4</th>\n",
       "      <td>0004_01</td>\n",
       "      <td>1.0</td>\n",
       "      <td>0</td>\n",
       "      <td>1</td>\n",
       "      <td>3.0</td>\n",
       "      <td>2</td>\n",
       "      <td>1</td>\n",
       "      <td>303.0</td>\n",
       "      <td>70.0</td>\n",
       "      <td>151.0</td>\n",
       "      <td>565.0</td>\n",
       "      <td>2.0</td>\n",
       "      <td>Santantines</td>\n",
       "      <td>1.0</td>\n",
       "      <td>6</td>\n",
       "      <td>0</td>\n",
       "      <td>0004</td>\n",
       "      <td>7685</td>\n",
       "      <td>3</td>\n",
       "    </tr>\n",
       "    <tr>\n",
       "      <th>...</th>\n",
       "      <td>...</td>\n",
       "      <td>...</td>\n",
       "      <td>...</td>\n",
       "      <td>...</td>\n",
       "      <td>...</td>\n",
       "      <td>...</td>\n",
       "      <td>...</td>\n",
       "      <td>...</td>\n",
       "      <td>...</td>\n",
       "      <td>...</td>\n",
       "      <td>...</td>\n",
       "      <td>...</td>\n",
       "      <td>...</td>\n",
       "      <td>...</td>\n",
       "      <td>...</td>\n",
       "      <td>...</td>\n",
       "      <td>...</td>\n",
       "      <td>...</td>\n",
       "      <td>...</td>\n",
       "    </tr>\n",
       "    <tr>\n",
       "      <th>4272</th>\n",
       "      <td>9266_02</td>\n",
       "      <td>1.0</td>\n",
       "      <td>1</td>\n",
       "      <td>1496</td>\n",
       "      <td>3.0</td>\n",
       "      <td>3</td>\n",
       "      <td>0</td>\n",
       "      <td>0.0</td>\n",
       "      <td>0.0</td>\n",
       "      <td>0.0</td>\n",
       "      <td>0.0</td>\n",
       "      <td>0.0</td>\n",
       "      <td>Peter</td>\n",
       "      <td>NaN</td>\n",
       "      <td>7</td>\n",
       "      <td>0</td>\n",
       "      <td>9266</td>\n",
       "      <td>6676</td>\n",
       "      <td>9822</td>\n",
       "    </tr>\n",
       "    <tr>\n",
       "      <th>4273</th>\n",
       "      <td>9269_01</td>\n",
       "      <td>1.0</td>\n",
       "      <td>0</td>\n",
       "      <td>160</td>\n",
       "      <td>3.0</td>\n",
       "      <td>4</td>\n",
       "      <td>1</td>\n",
       "      <td>0.0</td>\n",
       "      <td>847.0</td>\n",
       "      <td>17.0</td>\n",
       "      <td>10.0</td>\n",
       "      <td>144.0</td>\n",
       "      <td>Scheron</td>\n",
       "      <td>NaN</td>\n",
       "      <td>7</td>\n",
       "      <td>1</td>\n",
       "      <td>9269</td>\n",
       "      <td>7753</td>\n",
       "      <td>9823</td>\n",
       "    </tr>\n",
       "    <tr>\n",
       "      <th>4274</th>\n",
       "      <td>9271_01</td>\n",
       "      <td>3.0</td>\n",
       "      <td>1</td>\n",
       "      <td>296</td>\n",
       "      <td>1.0</td>\n",
       "      <td>3</td>\n",
       "      <td>0</td>\n",
       "      <td>0.0</td>\n",
       "      <td>0.0</td>\n",
       "      <td>0.0</td>\n",
       "      <td>0.0</td>\n",
       "      <td>0.0</td>\n",
       "      <td>Pore</td>\n",
       "      <td>NaN</td>\n",
       "      <td>4</td>\n",
       "      <td>1</td>\n",
       "      <td>9271</td>\n",
       "      <td>6868</td>\n",
       "      <td>9824</td>\n",
       "    </tr>\n",
       "    <tr>\n",
       "      <th>4275</th>\n",
       "      <td>9273_01</td>\n",
       "      <td>2.0</td>\n",
       "      <td>0</td>\n",
       "      <td>297</td>\n",
       "      <td>3.0</td>\n",
       "      <td>3</td>\n",
       "      <td>1</td>\n",
       "      <td>0.0</td>\n",
       "      <td>2680.0</td>\n",
       "      <td>0.0</td>\n",
       "      <td>0.0</td>\n",
       "      <td>523.0</td>\n",
       "      <td>Conale</td>\n",
       "      <td>NaN</td>\n",
       "      <td>4</td>\n",
       "      <td>1</td>\n",
       "      <td>9273</td>\n",
       "      <td>1990</td>\n",
       "      <td>9825</td>\n",
       "    </tr>\n",
       "    <tr>\n",
       "      <th>4276</th>\n",
       "      <td>9277_01</td>\n",
       "      <td>1.0</td>\n",
       "      <td>1</td>\n",
       "      <td>1498</td>\n",
       "      <td>2.0</td>\n",
       "      <td>4</td>\n",
       "      <td>0</td>\n",
       "      <td>0.0</td>\n",
       "      <td>0.0</td>\n",
       "      <td>0.0</td>\n",
       "      <td>0.0</td>\n",
       "      <td>0.0</td>\n",
       "      <td>Leonzaley</td>\n",
       "      <td>NaN</td>\n",
       "      <td>7</td>\n",
       "      <td>0</td>\n",
       "      <td>9277</td>\n",
       "      <td>5194</td>\n",
       "      <td>9826</td>\n",
       "    </tr>\n",
       "  </tbody>\n",
       "</table>\n",
       "<p>12970 rows × 19 columns</p>\n",
       "</div>"
      ],
      "text/plain": [
       "     PassengerId  HomePlanet  CryoSleep Cabin  Destination Age  VIP  \\\n",
       "0        0001_01         2.0          1     0          3.0   4    0   \n",
       "1        0002_01         1.0          0     0          3.0   2    1   \n",
       "2        0003_01         2.0          0     0          3.0   5    1   \n",
       "3        0003_02         2.0          0     0          3.0   3    1   \n",
       "4        0004_01         1.0          0     1          3.0   2    1   \n",
       "...          ...         ...        ...   ...          ...  ..  ...   \n",
       "4272     9266_02         1.0          1  1496          3.0   3    0   \n",
       "4273     9269_01         1.0          0   160          3.0   4    1   \n",
       "4274     9271_01         3.0          1   296          1.0   3    0   \n",
       "4275     9273_01         2.0          0   297          3.0   3    1   \n",
       "4276     9277_01         1.0          1  1498          2.0   4    0   \n",
       "\n",
       "      RoomService  FoodCourt  ShoppingMall     Spa  VRDeck         Name  \\\n",
       "0             0.0        0.0           0.0     0.0     0.0    Ofracculy   \n",
       "1           109.0        9.0          25.0   549.0    44.0        Vines   \n",
       "2            43.0     3576.0           0.0  6715.0    49.0       Susent   \n",
       "3             0.0     1283.0         371.0  3329.0   193.0       Susent   \n",
       "4           303.0       70.0         151.0   565.0     2.0  Santantines   \n",
       "...           ...        ...           ...     ...     ...          ...   \n",
       "4272          0.0        0.0           0.0     0.0     0.0        Peter   \n",
       "4273          0.0      847.0          17.0    10.0   144.0      Scheron   \n",
       "4274          0.0        0.0           0.0     0.0     0.0         Pore   \n",
       "4275          0.0     2680.0           0.0     0.0   523.0       Conale   \n",
       "4276          0.0        0.0           0.0     0.0     0.0    Leonzaley   \n",
       "\n",
       "      Transported  Deck  Port Group  FamilyGroupID  FamilyID  \n",
       "0             0.0     2     1  0001           6305         0  \n",
       "1             1.0     6     0  0002           9276         1  \n",
       "2             0.0     1     0  0003           8502         2  \n",
       "3             0.0     1     0  0003           8502         2  \n",
       "4             1.0     6     0  0004           7685         3  \n",
       "...           ...   ...   ...   ...            ...       ...  \n",
       "4272          NaN     7     0  9266           6676      9822  \n",
       "4273          NaN     7     1  9269           7753      9823  \n",
       "4274          NaN     4     1  9271           6868      9824  \n",
       "4275          NaN     4     1  9273           1990      9825  \n",
       "4276          NaN     7     0  9277           5194      9826  \n",
       "\n",
       "[12970 rows x 19 columns]"
      ]
     },
     "execution_count": 26,
     "metadata": {},
     "output_type": "execute_result"
    }
   ],
   "source": [
    "train_test['Group'] = train_test['PassengerId'].astype(str).str[:4]\n",
    "train_test['Name'] = train_test['Name'].str.split().str[-1]\n",
    "train_test['FamilyGroupID'] = train_test['Name'] + '_' + train_test['Group']\n",
    "train_test['FamilyGroupID'] = train_test.groupby('FamilyGroupID').ngroup()\n",
    "\n",
    "train_test['FamilyID'] = pd.factorize(train_test['FamilyGroupID'])[0]\n",
    "train_test"
   ]
  },
  {
   "cell_type": "code",
   "execution_count": 27,
   "id": "71d2a2fa",
   "metadata": {
    "execution": {
     "iopub.execute_input": "2023-12-09T12:25:21.797926Z",
     "iopub.status.busy": "2023-12-09T12:25:21.797143Z",
     "iopub.status.idle": "2023-12-09T12:25:21.802385Z",
     "shell.execute_reply": "2023-12-09T12:25:21.801238Z"
    },
    "papermill": {
     "duration": 0.035534,
     "end_time": "2023-12-09T12:25:21.804841",
     "exception": false,
     "start_time": "2023-12-09T12:25:21.769307",
     "status": "completed"
    },
    "tags": []
   },
   "outputs": [],
   "source": [
    "# train_test['Group'] = train_test['PassengerId'].astype(str).str[:4]\n",
    "# counts = train_test['Group'].value_counts()\n",
    "# train_test['Group'] = train_test['Group'].map(counts)\n",
    "# train_test.info()"
   ]
  },
  {
   "cell_type": "code",
   "execution_count": 28,
   "id": "9a6f4fbd",
   "metadata": {
    "execution": {
     "iopub.execute_input": "2023-12-09T12:25:21.857921Z",
     "iopub.status.busy": "2023-12-09T12:25:21.856696Z",
     "iopub.status.idle": "2023-12-09T12:25:21.906626Z",
     "shell.execute_reply": "2023-12-09T12:25:21.904553Z"
    },
    "papermill": {
     "duration": 0.080102,
     "end_time": "2023-12-09T12:25:21.909559",
     "exception": false,
     "start_time": "2023-12-09T12:25:21.829457",
     "status": "completed"
    },
    "tags": []
   },
   "outputs": [
    {
     "name": "stdout",
     "output_type": "stream",
     "text": [
      "<class 'pandas.core.frame.DataFrame'>\n",
      "Index: 12970 entries, 0 to 4276\n",
      "Data columns (total 19 columns):\n",
      " #   Column         Non-Null Count  Dtype  \n",
      "---  ------         --------------  -----  \n",
      " 0   PassengerId    12970 non-null  object \n",
      " 1   HomePlanet     12970 non-null  Int64  \n",
      " 2   CryoSleep      12970 non-null  Int64  \n",
      " 3   Cabin          12970 non-null  Int64  \n",
      " 4   Destination    12970 non-null  Int64  \n",
      " 5   Age            12970 non-null  Int64  \n",
      " 6   VIP            12970 non-null  Int64  \n",
      " 7   RoomService    12970 non-null  float64\n",
      " 8   FoodCourt      12970 non-null  float64\n",
      " 9   ShoppingMall   12970 non-null  float64\n",
      " 10  Spa            12970 non-null  float64\n",
      " 11  VRDeck         12970 non-null  float64\n",
      " 12  Name           12970 non-null  object \n",
      " 13  Transported    8693 non-null   Int64  \n",
      " 14  Deck           12970 non-null  Int64  \n",
      " 15  Port           12970 non-null  Int64  \n",
      " 16  Group          12970 non-null  Int64  \n",
      " 17  FamilyGroupID  12970 non-null  int64  \n",
      " 18  FamilyID       12970 non-null  int64  \n",
      "dtypes: Int64(10), float64(5), int64(2), object(2)\n",
      "memory usage: 2.1+ MB\n"
     ]
    }
   ],
   "source": [
    "train_test[['HomePlanet', 'CryoSleep', 'Cabin', 'Destination', 'Age', 'VIP', 'Port', 'Deck','Group']]= train_test[['HomePlanet', 'CryoSleep','Cabin', 'Destination', 'Age', 'VIP', 'Port', 'Deck','Group']].astype('Int64')\n",
    "# train_test[['RoomService', 'FoodCourt', 'ShoppingMall', 'Spa', 'VRDeck']]= train_test[['RoomService', 'FoodCourt', 'ShoppingMall', 'Spa', 'VRDeck']].astype('Int64')\n",
    "train_test[['Transported']]= train_test[['Transported']].astype('Int64')\n",
    "\n",
    "train_test.info()"
   ]
  },
  {
   "cell_type": "code",
   "execution_count": 29,
   "id": "e0a0ca81",
   "metadata": {
    "execution": {
     "iopub.execute_input": "2023-12-09T12:25:21.960232Z",
     "iopub.status.busy": "2023-12-09T12:25:21.959838Z",
     "iopub.status.idle": "2023-12-09T12:25:21.977260Z",
     "shell.execute_reply": "2023-12-09T12:25:21.976010Z"
    },
    "papermill": {
     "duration": 0.046007,
     "end_time": "2023-12-09T12:25:21.979932",
     "exception": false,
     "start_time": "2023-12-09T12:25:21.933925",
     "status": "completed"
    },
    "tags": []
   },
   "outputs": [
    {
     "name": "stdout",
     "output_type": "stream",
     "text": [
      "PassengerId         0\n",
      "HomePlanet          0\n",
      "CryoSleep           0\n",
      "Cabin               0\n",
      "Destination         0\n",
      "Age                 0\n",
      "VIP                 0\n",
      "RoomService         0\n",
      "FoodCourt           0\n",
      "ShoppingMall        0\n",
      "Spa                 0\n",
      "VRDeck              0\n",
      "Name                0\n",
      "Transported      4277\n",
      "Deck                0\n",
      "Port                0\n",
      "Group               0\n",
      "FamilyGroupID       0\n",
      "FamilyID            0\n",
      "dtype: int64\n"
     ]
    }
   ],
   "source": [
    "##Apply square root transformation\n",
    "\n",
    "## Train Data\n",
    "train_test['RoomService'] = train_test['RoomService']**0.5\n",
    "train_test['FoodCourt'] = train_test['FoodCourt']**0.5\n",
    "train_test['ShoppingMall'] = train_test['ShoppingMall']**0.5\n",
    "train_test['Spa'] = train_test['Spa']**0.5\n",
    "train_test['VRDeck'] = train_test['VRDeck']**0.5\n",
    "\n",
    "\n",
    "# ## Test Data\n",
    "# test['RoomService'] = test['RoomService']**0.5\n",
    "# test['FoodCourt'] = test['FoodCourt']**0.5\n",
    "# test['ShoppingMall'] = test['ShoppingMall']**0.5\n",
    "# test['Spa'] = test['Spa']**0.5\n",
    "# test['VRDeck'] = test['VRDeck']**0.5\n",
    "\n",
    "# train_test.head(3)\n",
    "print(train_test.isna().sum())"
   ]
  },
  {
   "cell_type": "code",
   "execution_count": 30,
   "id": "0226f136",
   "metadata": {
    "execution": {
     "iopub.execute_input": "2023-12-09T12:25:22.031860Z",
     "iopub.status.busy": "2023-12-09T12:25:22.030705Z",
     "iopub.status.idle": "2023-12-09T12:25:22.053469Z",
     "shell.execute_reply": "2023-12-09T12:25:22.051844Z"
    },
    "papermill": {
     "duration": 0.051564,
     "end_time": "2023-12-09T12:25:22.056003",
     "exception": false,
     "start_time": "2023-12-09T12:25:22.004439",
     "status": "completed"
    },
    "tags": []
   },
   "outputs": [
    {
     "name": "stdout",
     "output_type": "stream",
     "text": [
      "<class 'pandas.core.frame.DataFrame'>\n",
      "Index: 12970 entries, 0 to 4276\n",
      "Data columns (total 19 columns):\n",
      " #   Column         Non-Null Count  Dtype  \n",
      "---  ------         --------------  -----  \n",
      " 0   PassengerId    12970 non-null  object \n",
      " 1   HomePlanet     12970 non-null  Int64  \n",
      " 2   CryoSleep      12970 non-null  Int64  \n",
      " 3   Cabin          12970 non-null  Int64  \n",
      " 4   Destination    12970 non-null  Int64  \n",
      " 5   Age            12970 non-null  Int64  \n",
      " 6   VIP            12970 non-null  Int64  \n",
      " 7   RoomService    12970 non-null  float64\n",
      " 8   FoodCourt      12970 non-null  float64\n",
      " 9   ShoppingMall   12970 non-null  float64\n",
      " 10  Spa            12970 non-null  float64\n",
      " 11  VRDeck         12970 non-null  float64\n",
      " 12  Name           12970 non-null  object \n",
      " 13  Transported    8693 non-null   Int64  \n",
      " 14  Deck           12970 non-null  Int64  \n",
      " 15  Port           12970 non-null  Int64  \n",
      " 16  Group          12970 non-null  Int64  \n",
      " 17  FamilyGroupID  12970 non-null  int64  \n",
      " 18  FamilyID       12970 non-null  int64  \n",
      "dtypes: Int64(10), float64(5), int64(2), object(2)\n",
      "memory usage: 2.1+ MB\n"
     ]
    }
   ],
   "source": [
    "# ## Apply log transformation\n",
    "\n",
    "# ## Train Data\n",
    "# train['RoomService'] = np.log1p(train['RoomService'])\n",
    "# train['FoodCourt'] = np.log1p(train['FoodCourt'])\n",
    "# train['ShoppingMall'] = np.log1p(train['ShoppingMall'])\n",
    "# train['Spa'] = np.log1p(train['Spa'])\n",
    "# train['VRDeck'] = np.log1p(train['VRDeck'])\n",
    "\n",
    "\n",
    "# ## Test Data\n",
    "# test['RoomService'] = np.log1p(test['RoomService'])\n",
    "# test['FoodCourt'] = np.log1p(test['FoodCourt'])\n",
    "# test['ShoppingMall'] = np.log1p(test['ShoppingMall'])\n",
    "# test['Spa'] = np.log1p(test['Spa'])\n",
    "# test['VRDeck'] = np.log1p(test['VRDeck'])\n",
    "train_test.info()"
   ]
  },
  {
   "cell_type": "code",
   "execution_count": 31,
   "id": "007e6e79",
   "metadata": {
    "execution": {
     "iopub.execute_input": "2023-12-09T12:25:22.109637Z",
     "iopub.status.busy": "2023-12-09T12:25:22.108322Z",
     "iopub.status.idle": "2023-12-09T12:25:22.946234Z",
     "shell.execute_reply": "2023-12-09T12:25:22.944731Z"
    },
    "papermill": {
     "duration": 0.868174,
     "end_time": "2023-12-09T12:25:22.949394",
     "exception": false,
     "start_time": "2023-12-09T12:25:22.081220",
     "status": "completed"
    },
    "tags": []
   },
   "outputs": [
    {
     "data": {
      "text/plain": [
       "<Axes: >"
      ]
     },
     "execution_count": 31,
     "metadata": {},
     "output_type": "execute_result"
    },
    {
     "data": {
      "image/png": "[encoded data removed]",
      "text/plain": [
       "<Figure size 640x480 with 2 Axes>"
      ]
     },
     "metadata": {},
     "output_type": "display_data"
    }
   ],
   "source": [
    "train_num = train_test.select_dtypes(include=['float64', 'int64'])\n",
    "\n",
    "# Calculate the correlations of numerical columns\n",
    "corr = train_num.corr()\n",
    "\n",
    "sns.heatmap(corr, annot=False)"
   ]
  },
  {
   "cell_type": "code",
   "execution_count": 32,
   "id": "08b4e2bf",
   "metadata": {
    "execution": {
     "iopub.execute_input": "2023-12-09T12:25:23.011017Z",
     "iopub.status.busy": "2023-12-09T12:25:23.010278Z",
     "iopub.status.idle": "2023-12-09T12:25:23.016594Z",
     "shell.execute_reply": "2023-12-09T12:25:23.014932Z"
    },
    "papermill": {
     "duration": 0.042345,
     "end_time": "2023-12-09T12:25:23.019660",
     "exception": false,
     "start_time": "2023-12-09T12:25:22.977315",
     "status": "completed"
    },
    "tags": []
   },
   "outputs": [],
   "source": [
    "#print('cryo Taransported: ', sum(df[df.CryoSleep == 1].Transported), 'transported: ',sum(df.Transported))\n",
    "# # Calculate mean\n",
    "# df['Mean_luxury'] = df[['RoomService', 'FoodCourt', 'ShoppingMall', 'Spa', 'VRDeck']].mean(axis=1)\n",
    "\n",
    "# df = df.drop(columns=['RoomService', 'FoodCourt', 'ShoppingMall', 'Spa', 'VRDeck'])\n",
    "\n",
    "# df['BigSpender'] = np.where(df.Mean_luxury > 1000, 1,0)\n",
    "# df['Mid_Spender'] = np.where(df.Mean_luxury >= 500, 1,0)\n",
    "# df['Non_Spender'] = np.where(df.Mean_luxury == 0, 1,0)\n",
    "# df.head(3)"
   ]
  },
  {
   "cell_type": "markdown",
   "id": "27ccbfb4",
   "metadata": {
    "papermill": {
     "duration": 0.027805,
     "end_time": "2023-12-09T12:25:23.076047",
     "exception": false,
     "start_time": "2023-12-09T12:25:23.048242",
     "status": "completed"
    },
    "tags": []
   },
   "source": [
    "{1:'55 Cancri e', 2:'PSO J318.5-22', 3:'TRAPPIST-1e'}\n",
    "{1:'Earth', 2:'Europa', 3:'Mars'}\n",
    "<<<<<HomePlanet to Destination>>>>\n",
    "1 to 1 >>> 721\n",
    "1 to 2 >>> 728\n",
    "1 to 3 >>> 3354\n",
    "--------------    \n",
    "2 to 1 >>> 193\n",
    "2 to 2 >>> 49\n",
    "2 to 3 >>> 1517\n",
    "-------------- \n",
    "3 to 1 >>> 886\n",
    "3 to 2 >>> 19\n",
    "3 to 3 >>> 1226\n",
    "-------------- "
   ]
  },
  {
   "cell_type": "code",
   "execution_count": 33,
   "id": "24f4417e",
   "metadata": {
    "execution": {
     "iopub.execute_input": "2023-12-09T12:25:23.136558Z",
     "iopub.status.busy": "2023-12-09T12:25:23.135446Z",
     "iopub.status.idle": "2023-12-09T12:25:23.169328Z",
     "shell.execute_reply": "2023-12-09T12:25:23.168168Z"
    },
    "papermill": {
     "duration": 0.067745,
     "end_time": "2023-12-09T12:25:23.172398",
     "exception": false,
     "start_time": "2023-12-09T12:25:23.104653",
     "status": "completed"
    },
    "tags": []
   },
   "outputs": [
    {
     "name": "stdout",
     "output_type": "stream",
     "text": [
      "<class 'pandas.core.frame.DataFrame'>\n",
      "Index: 4277 entries, 0 to 4276\n",
      "Data columns (total 18 columns):\n",
      " #   Column         Non-Null Count  Dtype  \n",
      "---  ------         --------------  -----  \n",
      " 0   PassengerId    4277 non-null   object \n",
      " 1   HomePlanet     4277 non-null   Int64  \n",
      " 2   CryoSleep      4277 non-null   Int64  \n",
      " 3   Cabin          4277 non-null   Int64  \n",
      " 4   Destination    4277 non-null   Int64  \n",
      " 5   Age            4277 non-null   Int64  \n",
      " 6   VIP            4277 non-null   Int64  \n",
      " 7   RoomService    4277 non-null   float64\n",
      " 8   FoodCourt      4277 non-null   float64\n",
      " 9   ShoppingMall   4277 non-null   float64\n",
      " 10  Spa            4277 non-null   float64\n",
      " 11  VRDeck         4277 non-null   float64\n",
      " 12  Name           4277 non-null   object \n",
      " 13  Deck           4277 non-null   Int64  \n",
      " 14  Port           4277 non-null   Int64  \n",
      " 15  Group          4277 non-null   Int64  \n",
      " 16  FamilyGroupID  4277 non-null   int64  \n",
      " 17  FamilyID       4277 non-null   int64  \n",
      "dtypes: Int64(9), float64(5), int64(2), object(2)\n",
      "memory usage: 672.5+ KB\n"
     ]
    }
   ],
   "source": [
    "train = train_test[train_test['Transported'].notnull()].copy()\n",
    "train.Transported =train.Transported.astype('Int64')\n",
    "test = train_test[train_test['Transported'].isnull()].drop(\"Transported\",axis=1)\n",
    "test.info()"
   ]
  },
  {
   "cell_type": "code",
   "execution_count": 34,
   "id": "4f7b8b0a",
   "metadata": {
    "execution": {
     "iopub.execute_input": "2023-12-09T12:25:23.233111Z",
     "iopub.status.busy": "2023-12-09T12:25:23.232631Z",
     "iopub.status.idle": "2023-12-09T12:25:23.250765Z",
     "shell.execute_reply": "2023-12-09T12:25:23.249253Z"
    },
    "papermill": {
     "duration": 0.053134,
     "end_time": "2023-12-09T12:25:23.254146",
     "exception": false,
     "start_time": "2023-12-09T12:25:23.201012",
     "status": "completed"
    },
    "tags": []
   },
   "outputs": [
    {
     "name": "stdout",
     "output_type": "stream",
     "text": [
      "<class 'pandas.core.frame.DataFrame'>\n",
      "Index: 8693 entries, 0 to 8692\n",
      "Data columns (total 19 columns):\n",
      " #   Column         Non-Null Count  Dtype  \n",
      "---  ------         --------------  -----  \n",
      " 0   PassengerId    8693 non-null   object \n",
      " 1   HomePlanet     8693 non-null   Int64  \n",
      " 2   CryoSleep      8693 non-null   Int64  \n",
      " 3   Cabin          8693 non-null   Int64  \n",
      " 4   Destination    8693 non-null   Int64  \n",
      " 5   Age            8693 non-null   Int64  \n",
      " 6   VIP            8693 non-null   Int64  \n",
      " 7   RoomService    8693 non-null   float64\n",
      " 8   FoodCourt      8693 non-null   float64\n",
      " 9   ShoppingMall   8693 non-null   float64\n",
      " 10  Spa            8693 non-null   float64\n",
      " 11  VRDeck         8693 non-null   float64\n",
      " 12  Name           8693 non-null   object \n",
      " 13  Transported    8693 non-null   Int64  \n",
      " 14  Deck           8693 non-null   Int64  \n",
      " 15  Port           8693 non-null   Int64  \n",
      " 16  Group          8693 non-null   Int64  \n",
      " 17  FamilyGroupID  8693 non-null   int64  \n",
      " 18  FamilyID       8693 non-null   int64  \n",
      "dtypes: Int64(10), float64(5), int64(2), object(2)\n",
      "memory usage: 1.4+ MB\n"
     ]
    }
   ],
   "source": [
    "train.info()"
   ]
  },
  {
   "cell_type": "code",
   "execution_count": 35,
   "id": "4d8bfc33",
   "metadata": {
    "execution": {
     "iopub.execute_input": "2023-12-09T12:25:23.317104Z",
     "iopub.status.busy": "2023-12-09T12:25:23.316588Z",
     "iopub.status.idle": "2023-12-09T12:25:23.351314Z",
     "shell.execute_reply": "2023-12-09T12:25:23.350362Z"
    },
    "papermill": {
     "duration": 0.070248,
     "end_time": "2023-12-09T12:25:23.354230",
     "exception": false,
     "start_time": "2023-12-09T12:25:23.283982",
     "status": "completed"
    },
    "tags": []
   },
   "outputs": [
    {
     "data": {
      "text/html": [
       "<div>\n",
       "<style scoped>\n",
       "    .dataframe tbody tr th:only-of-type {\n",
       "        vertical-align: middle;\n",
       "    }\n",
       "\n",
       "    .dataframe tbody tr th {\n",
       "        vertical-align: top;\n",
       "    }\n",
       "\n",
       "    .dataframe thead th {\n",
       "        text-align: right;\n",
       "    }\n",
       "</style>\n",
       "<table border=\"1\" class=\"dataframe\">\n",
       "  <thead>\n",
       "    <tr style=\"text-align: right;\">\n",
       "      <th></th>\n",
       "      <th>HomePlanet</th>\n",
       "      <th>CryoSleep</th>\n",
       "      <th>Cabin</th>\n",
       "      <th>Destination</th>\n",
       "      <th>Age</th>\n",
       "      <th>VIP</th>\n",
       "      <th>RoomService</th>\n",
       "      <th>FoodCourt</th>\n",
       "      <th>ShoppingMall</th>\n",
       "      <th>Spa</th>\n",
       "      <th>VRDeck</th>\n",
       "      <th>Deck</th>\n",
       "      <th>Port</th>\n",
       "      <th>Group</th>\n",
       "      <th>FamilyGroupID</th>\n",
       "      <th>FamilyID</th>\n",
       "    </tr>\n",
       "  </thead>\n",
       "  <tbody>\n",
       "    <tr>\n",
       "      <th>0</th>\n",
       "      <td>2</td>\n",
       "      <td>1</td>\n",
       "      <td>0</td>\n",
       "      <td>3</td>\n",
       "      <td>4</td>\n",
       "      <td>0</td>\n",
       "      <td>0.000000</td>\n",
       "      <td>0.000000</td>\n",
       "      <td>0.0</td>\n",
       "      <td>0.000000</td>\n",
       "      <td>0.00000</td>\n",
       "      <td>2</td>\n",
       "      <td>1</td>\n",
       "      <td>1</td>\n",
       "      <td>6305</td>\n",
       "      <td>0</td>\n",
       "    </tr>\n",
       "    <tr>\n",
       "      <th>1</th>\n",
       "      <td>1</td>\n",
       "      <td>0</td>\n",
       "      <td>0</td>\n",
       "      <td>3</td>\n",
       "      <td>2</td>\n",
       "      <td>1</td>\n",
       "      <td>10.440307</td>\n",
       "      <td>3.000000</td>\n",
       "      <td>5.0</td>\n",
       "      <td>23.430749</td>\n",
       "      <td>6.63325</td>\n",
       "      <td>6</td>\n",
       "      <td>0</td>\n",
       "      <td>2</td>\n",
       "      <td>9276</td>\n",
       "      <td>1</td>\n",
       "    </tr>\n",
       "    <tr>\n",
       "      <th>2</th>\n",
       "      <td>2</td>\n",
       "      <td>0</td>\n",
       "      <td>0</td>\n",
       "      <td>3</td>\n",
       "      <td>5</td>\n",
       "      <td>1</td>\n",
       "      <td>6.557439</td>\n",
       "      <td>59.799666</td>\n",
       "      <td>0.0</td>\n",
       "      <td>81.945104</td>\n",
       "      <td>7.00000</td>\n",
       "      <td>1</td>\n",
       "      <td>0</td>\n",
       "      <td>3</td>\n",
       "      <td>8502</td>\n",
       "      <td>2</td>\n",
       "    </tr>\n",
       "  </tbody>\n",
       "</table>\n",
       "</div>"
      ],
      "text/plain": [
       "   HomePlanet  CryoSleep  Cabin  Destination  Age  VIP  RoomService  \\\n",
       "0           2          1      0            3    4    0     0.000000   \n",
       "1           1          0      0            3    2    1    10.440307   \n",
       "2           2          0      0            3    5    1     6.557439   \n",
       "\n",
       "   FoodCourt  ShoppingMall        Spa   VRDeck  Deck  Port  Group  \\\n",
       "0   0.000000           0.0   0.000000  0.00000     2     1      1   \n",
       "1   3.000000           5.0  23.430749  6.63325     6     0      2   \n",
       "2  59.799666           0.0  81.945104  7.00000     1     0      3   \n",
       "\n",
       "   FamilyGroupID  FamilyID  \n",
       "0           6305         0  \n",
       "1           9276         1  \n",
       "2           8502         2  "
      ]
     },
     "execution_count": 35,
     "metadata": {},
     "output_type": "execute_result"
    }
   ],
   "source": [
    "### Train Data\n",
    "newTrain = train\n",
    "train_ids = newTrain['PassengerId'].copy()\n",
    "train_trs = newTrain['Transported'].copy()\n",
    "newTrain.drop(columns=['PassengerId','Name','Transported'],inplace=True)\n",
    "\n",
    "\n",
    "#####################\n",
    "\n",
    "\n",
    "### Test Data\n",
    "newTest = test\n",
    "test_ids = newTest['PassengerId'].copy()\n",
    "newTest.drop(columns=['PassengerId','Name'],inplace=True)\n",
    "\n",
    "\n",
    "newTrain.head(3)"
   ]
  },
  {
   "cell_type": "code",
   "execution_count": 36,
   "id": "e9c1c780",
   "metadata": {
    "execution": {
     "iopub.execute_input": "2023-12-09T12:25:23.415838Z",
     "iopub.status.busy": "2023-12-09T12:25:23.414555Z",
     "iopub.status.idle": "2023-12-09T12:25:23.429404Z",
     "shell.execute_reply": "2023-12-09T12:25:23.427328Z"
    },
    "papermill": {
     "duration": 0.048805,
     "end_time": "2023-12-09T12:25:23.432423",
     "exception": false,
     "start_time": "2023-12-09T12:25:23.383618",
     "status": "completed"
    },
    "tags": []
   },
   "outputs": [
    {
     "name": "stdout",
     "output_type": "stream",
     "text": [
      "<class 'pandas.core.frame.DataFrame'>\n",
      "Index: 8693 entries, 0 to 8692\n",
      "Data columns (total 16 columns):\n",
      " #   Column         Non-Null Count  Dtype  \n",
      "---  ------         --------------  -----  \n",
      " 0   HomePlanet     8693 non-null   Int64  \n",
      " 1   CryoSleep      8693 non-null   Int64  \n",
      " 2   Cabin          8693 non-null   Int64  \n",
      " 3   Destination    8693 non-null   Int64  \n",
      " 4   Age            8693 non-null   Int64  \n",
      " 5   VIP            8693 non-null   Int64  \n",
      " 6   RoomService    8693 non-null   float64\n",
      " 7   FoodCourt      8693 non-null   float64\n",
      " 8   ShoppingMall   8693 non-null   float64\n",
      " 9   Spa            8693 non-null   float64\n",
      " 10  VRDeck         8693 non-null   float64\n",
      " 11  Deck           8693 non-null   Int64  \n",
      " 12  Port           8693 non-null   Int64  \n",
      " 13  Group          8693 non-null   Int64  \n",
      " 14  FamilyGroupID  8693 non-null   int64  \n",
      " 15  FamilyID       8693 non-null   int64  \n",
      "dtypes: Int64(9), float64(5), int64(2)\n",
      "memory usage: 1.2 MB\n"
     ]
    }
   ],
   "source": [
    "newTrain.info()"
   ]
  },
  {
   "cell_type": "code",
   "execution_count": 37,
   "id": "efceec02",
   "metadata": {
    "execution": {
     "iopub.execute_input": "2023-12-09T12:25:23.494778Z",
     "iopub.status.busy": "2023-12-09T12:25:23.494331Z",
     "iopub.status.idle": "2023-12-09T12:25:23.508952Z",
     "shell.execute_reply": "2023-12-09T12:25:23.507997Z"
    },
    "papermill": {
     "duration": 0.050369,
     "end_time": "2023-12-09T12:25:23.513440",
     "exception": false,
     "start_time": "2023-12-09T12:25:23.463071",
     "status": "completed"
    },
    "tags": []
   },
   "outputs": [
    {
     "name": "stdout",
     "output_type": "stream",
     "text": [
      "<class 'pandas.core.frame.DataFrame'>\n",
      "Index: 4277 entries, 0 to 4276\n",
      "Data columns (total 16 columns):\n",
      " #   Column         Non-Null Count  Dtype  \n",
      "---  ------         --------------  -----  \n",
      " 0   HomePlanet     4277 non-null   Int64  \n",
      " 1   CryoSleep      4277 non-null   Int64  \n",
      " 2   Cabin          4277 non-null   Int64  \n",
      " 3   Destination    4277 non-null   Int64  \n",
      " 4   Age            4277 non-null   Int64  \n",
      " 5   VIP            4277 non-null   Int64  \n",
      " 6   RoomService    4277 non-null   float64\n",
      " 7   FoodCourt      4277 non-null   float64\n",
      " 8   ShoppingMall   4277 non-null   float64\n",
      " 9   Spa            4277 non-null   float64\n",
      " 10  VRDeck         4277 non-null   float64\n",
      " 11  Deck           4277 non-null   Int64  \n",
      " 12  Port           4277 non-null   Int64  \n",
      " 13  Group          4277 non-null   Int64  \n",
      " 14  FamilyGroupID  4277 non-null   int64  \n",
      " 15  FamilyID       4277 non-null   int64  \n",
      "dtypes: Int64(9), float64(5), int64(2)\n",
      "memory usage: 605.6 KB\n"
     ]
    }
   ],
   "source": [
    "newTest.info()"
   ]
  },
  {
   "cell_type": "code",
   "execution_count": 38,
   "id": "cba80c1d",
   "metadata": {
    "execution": {
     "iopub.execute_input": "2023-12-09T12:25:23.575389Z",
     "iopub.status.busy": "2023-12-09T12:25:23.574396Z",
     "iopub.status.idle": "2023-12-09T12:25:23.579638Z",
     "shell.execute_reply": "2023-12-09T12:25:23.578772Z"
    },
    "papermill": {
     "duration": 0.039411,
     "end_time": "2023-12-09T12:25:23.582404",
     "exception": false,
     "start_time": "2023-12-09T12:25:23.542993",
     "status": "completed"
    },
    "tags": []
   },
   "outputs": [],
   "source": [
    "# from sklearn.model_selection import train_test_split\n",
    "# X_train, X_test, y_train, y_test = train_test_split(newtrainDF.drop('Transported',axis=1), \n",
    "#                                                   df['Transported'], test_size=0.30, \n",
    "#                                                     random_state=101)\n",
    "# newtrainDF.head(1)"
   ]
  },
  {
   "cell_type": "code",
   "execution_count": 39,
   "id": "becdb0be",
   "metadata": {
    "execution": {
     "iopub.execute_input": "2023-12-09T12:25:23.645230Z",
     "iopub.status.busy": "2023-12-09T12:25:23.644305Z",
     "iopub.status.idle": "2023-12-09T12:25:29.133050Z",
     "shell.execute_reply": "2023-12-09T12:25:29.131372Z"
    },
    "papermill": {
     "duration": 5.526801,
     "end_time": "2023-12-09T12:25:29.138267",
     "exception": false,
     "start_time": "2023-12-09T12:25:23.611466",
     "status": "completed"
    },
    "tags": []
   },
   "outputs": [
    {
     "data": {
      "text/html": [
       "<style>#sk-container-id-1 {color: black;background-color: white;}#sk-container-id-1 pre{padding: 0;}#sk-container-id-1 div.sk-toggleable {background-color: white;}#sk-container-id-1 label.sk-toggleable__label {cursor: pointer;display: block;width: 100%;margin-bottom: 0;padding: 0.3em;box-sizing: border-box;text-align: center;}#sk-container-id-1 label.sk-toggleable__label-arrow:before {content: \"▸\";float: left;margin-right: 0.25em;color: #696969;}#sk-container-id-1 label.sk-toggleable__label-arrow:hover:before {color: black;}#sk-container-id-1 div.sk-estimator:hover label.sk-toggleable__label-arrow:before {color: black;}#sk-container-id-1 div.sk-toggleable__content {max-height: 0;max-width: 0;overflow: hidden;text-align: left;background-color: #f0f8ff;}#sk-container-id-1 div.sk-toggleable__content pre {margin: 0.2em;color: black;border-radius: 0.25em;background-color: #f0f8ff;}#sk-container-id-1 input.sk-toggleable__control:checked~div.sk-toggleable__content {max-height: 200px;max-width: 100%;overflow: auto;}#sk-container-id-1 input.sk-toggleable__control:checked~label.sk-toggleable__label-arrow:before {content: \"▾\";}#sk-container-id-1 div.sk-estimator input.sk-toggleable__control:checked~label.sk-toggleable__label {background-color: #d4ebff;}#sk-container-id-1 div.sk-label input.sk-toggleable__control:checked~label.sk-toggleable__label {background-color: #d4ebff;}#sk-container-id-1 input.sk-hidden--visually {border: 0;clip: rect(1px 1px 1px 1px);clip: rect(1px, 1px, 1px, 1px);height: 1px;margin: -1px;overflow: hidden;padding: 0;position: absolute;width: 1px;}#sk-container-id-1 div.sk-estimator {font-family: monospace;background-color: #f0f8ff;border: 1px dotted black;border-radius: 0.25em;box-sizing: border-box;margin-bottom: 0.5em;}#sk-container-id-1 div.sk-estimator:hover {background-color: #d4ebff;}#sk-container-id-1 div.sk-parallel-item::after {content: \"\";width: 100%;border-bottom: 1px solid gray;flex-grow: 1;}#sk-container-id-1 div.sk-label:hover label.sk-toggleable__label {background-color: #d4ebff;}#sk-container-id-1 div.sk-serial::before {content: \"\";position: absolute;border-left: 1px solid gray;box-sizing: border-box;top: 0;bottom: 0;left: 50%;z-index: 0;}#sk-container-id-1 div.sk-serial {display: flex;flex-direction: column;align-items: center;background-color: white;padding-right: 0.2em;padding-left: 0.2em;position: relative;}#sk-container-id-1 div.sk-item {position: relative;z-index: 1;}#sk-container-id-1 div.sk-parallel {display: flex;align-items: stretch;justify-content: center;background-color: white;position: relative;}#sk-container-id-1 div.sk-item::before, #sk-container-id-1 div.sk-parallel-item::before {content: \"\";position: absolute;border-left: 1px solid gray;box-sizing: border-box;top: 0;bottom: 0;left: 50%;z-index: -1;}#sk-container-id-1 div.sk-parallel-item {display: flex;flex-direction: column;z-index: 1;position: relative;background-color: white;}#sk-container-id-1 div.sk-parallel-item:first-child::after {align-self: flex-end;width: 50%;}#sk-container-id-1 div.sk-parallel-item:last-child::after {align-self: flex-start;width: 50%;}#sk-container-id-1 div.sk-parallel-item:only-child::after {width: 0;}#sk-container-id-1 div.sk-dashed-wrapped {border: 1px dashed gray;margin: 0 0.4em 0.5em 0.4em;box-sizing: border-box;padding-bottom: 0.4em;background-color: white;}#sk-container-id-1 div.sk-label label {font-family: monospace;font-weight: bold;display: inline-block;line-height: 1.2em;}#sk-container-id-1 div.sk-label-container {text-align: center;}#sk-container-id-1 div.sk-container {/* jupyter's `normalize.less` sets `[hidden] { display: none; }` but bootstrap.min.css set `[hidden] { display: none !important; }` so we also need the `!important` here to be able to override the default hidden behavior on the sphinx rendered scikit-learn.org. See: https://github.com/scikit-learn/scikit-learn/issues/21755 */display: inline-block !important;position: relative;}#sk-container-id-1 div.sk-text-repr-fallback {display: none;}</style><div id=\"sk-container-id-1\" class=\"sk-top-container\"><div class=\"sk-text-repr-fallback\"><pre>LogisticRegression(max_iter=10000)</pre><b>In a Jupyter environment, please rerun this cell to show the HTML representation or trust the notebook. <br />On GitHub, the HTML representation is unable to render, please try loading this page with nbviewer.org.</b></div><div class=\"sk-container\" hidden><div class=\"sk-item\"><div class=\"sk-estimator sk-toggleable\"><input class=\"sk-toggleable__control sk-hidden--visually\" id=\"sk-estimator-id-1\" type=\"checkbox\" checked><label for=\"sk-estimator-id-1\" class=\"sk-toggleable__label sk-toggleable__label-arrow\">LogisticRegression</label><div class=\"sk-toggleable__content\"><pre>LogisticRegression(max_iter=10000)</pre></div></div></div></div></div>"
      ],
      "text/plain": [
       "LogisticRegression(max_iter=10000)"
      ]
     },
     "execution_count": 39,
     "metadata": {},
     "output_type": "execute_result"
    }
   ],
   "source": [
    "from sklearn.linear_model import LogisticRegression\n",
    "logmodel = LogisticRegression(max_iter=10000)\n",
    "logmodel.fit(newTrain, train_trs)"
   ]
  },
  {
   "cell_type": "code",
   "execution_count": 40,
   "id": "b93e0969",
   "metadata": {
    "execution": {
     "iopub.execute_input": "2023-12-09T12:25:29.250991Z",
     "iopub.status.busy": "2023-12-09T12:25:29.249609Z",
     "iopub.status.idle": "2023-12-09T12:25:29.255613Z",
     "shell.execute_reply": "2023-12-09T12:25:29.254195Z"
    },
    "papermill": {
     "duration": 0.056785,
     "end_time": "2023-12-09T12:25:29.258806",
     "exception": false,
     "start_time": "2023-12-09T12:25:29.202021",
     "status": "completed"
    },
    "tags": []
   },
   "outputs": [],
   "source": [
    "# df_test['stSpenders'] = df_test[['RoomService', 'FoodCourt', 'ShoppingMall', 'Spa', 'VRDeck']].std(axis=1)\n",
    "# df_test = df_test.drop(columns=['RoomService', 'FoodCourt', 'ShoppingMall', 'Spa', 'VRDeck'])\n",
    "# df_test.head()"
   ]
  },
  {
   "cell_type": "code",
   "execution_count": 41,
   "id": "7834e7ad",
   "metadata": {
    "execution": {
     "iopub.execute_input": "2023-12-09T12:25:29.322142Z",
     "iopub.status.busy": "2023-12-09T12:25:29.321650Z",
     "iopub.status.idle": "2023-12-09T12:25:29.335199Z",
     "shell.execute_reply": "2023-12-09T12:25:29.332789Z"
    },
    "papermill": {
     "duration": 0.051796,
     "end_time": "2023-12-09T12:25:29.341254",
     "exception": false,
     "start_time": "2023-12-09T12:25:29.289458",
     "status": "completed"
    },
    "tags": []
   },
   "outputs": [],
   "source": [
    " predictions = logmodel.predict(newTest)"
   ]
  },
  {
   "cell_type": "code",
   "execution_count": 42,
   "id": "000b2627",
   "metadata": {
    "execution": {
     "iopub.execute_input": "2023-12-09T12:25:29.459861Z",
     "iopub.status.busy": "2023-12-09T12:25:29.459364Z",
     "iopub.status.idle": "2023-12-09T12:25:29.489518Z",
     "shell.execute_reply": "2023-12-09T12:25:29.488327Z"
    },
    "papermill": {
     "duration": 0.089551,
     "end_time": "2023-12-09T12:25:29.492294",
     "exception": false,
     "start_time": "2023-12-09T12:25:29.402743",
     "status": "completed"
    },
    "tags": []
   },
   "outputs": [
    {
     "data": {
      "text/html": [
       "<div>\n",
       "<style scoped>\n",
       "    .dataframe tbody tr th:only-of-type {\n",
       "        vertical-align: middle;\n",
       "    }\n",
       "\n",
       "    .dataframe tbody tr th {\n",
       "        vertical-align: top;\n",
       "    }\n",
       "\n",
       "    .dataframe thead th {\n",
       "        text-align: right;\n",
       "    }\n",
       "</style>\n",
       "<table border=\"1\" class=\"dataframe\">\n",
       "  <thead>\n",
       "    <tr style=\"text-align: right;\">\n",
       "      <th></th>\n",
       "      <th>PassengerId</th>\n",
       "      <th>Transported</th>\n",
       "    </tr>\n",
       "  </thead>\n",
       "  <tbody>\n",
       "    <tr>\n",
       "      <th>0</th>\n",
       "      <td>0013_01</td>\n",
       "      <td>True</td>\n",
       "    </tr>\n",
       "    <tr>\n",
       "      <th>1</th>\n",
       "      <td>0018_01</td>\n",
       "      <td>True</td>\n",
       "    </tr>\n",
       "    <tr>\n",
       "      <th>2</th>\n",
       "      <td>0019_01</td>\n",
       "      <td>True</td>\n",
       "    </tr>\n",
       "    <tr>\n",
       "      <th>3</th>\n",
       "      <td>0021_01</td>\n",
       "      <td>True</td>\n",
       "    </tr>\n",
       "    <tr>\n",
       "      <th>4</th>\n",
       "      <td>0023_01</td>\n",
       "      <td>True</td>\n",
       "    </tr>\n",
       "  </tbody>\n",
       "</table>\n",
       "</div>"
      ],
      "text/plain": [
       "  PassengerId  Transported\n",
       "0     0013_01         True\n",
       "1     0018_01         True\n",
       "2     0019_01         True\n",
       "3     0021_01         True\n",
       "4     0023_01         True"
      ]
     },
     "execution_count": 42,
     "metadata": {},
     "output_type": "execute_result"
    }
   ],
   "source": [
    "df_predictions = pd.DataFrame()\n",
    "df_predictions['PassengerId'] = pd.Series(test_ids.T.values)\n",
    "df_predictions['Transported'] = pd.Series(predictions)\n",
    "df_predictions.Transported = np.where(df_predictions.Transported==1,True,False)\n",
    "df_predictions.to_csv(\"21thAttempt.csv\", sep=',', index=False)\n",
    "df_predictions.head()"
   ]
  },
  {
   "cell_type": "markdown",
   "id": "f155f8ae",
   "metadata": {
    "papermill": {
     "duration": 0.029866,
     "end_time": "2023-12-09T12:25:29.552836",
     "exception": false,
     "start_time": "2023-12-09T12:25:29.522970",
     "status": "completed"
    },
    "tags": []
   },
   "source": [
    "In this report, the 'Precision' column tells us the proportion of positive identifications (i.e., the passenger was transported) that were actually correct. The 'Recall' column tells us the proportion of actual positives that were identified correctly. The 'F1-score' is a function of Precision and Recall and gives a balanced measure of the model's performance.\n",
    "\n",
    "Remember, this is a basic model. Depending on the performance of the model, you might need to consider more advanced techniques such as handling class imbalance, feature engineering, or using a more complex model."
   ]
  }
 ],
 "metadata": {
  "kaggle": {
   "accelerator": "none",
   "dataSources": [
    {
     "databundleVersionId": 3220602,
     "sourceId": 34377,
     "sourceType": "competition"
    }
   ],
   "dockerImageVersionId": 30558,
   "isGpuEnabled": false,
   "isInternetEnabled": false,
   "language": "python",
   "sourceType": "notebook"
  },
  "kernelspec": {
   "display_name": "Python 3",
   "language": "python",
   "name": "python3"
  },
  "language_info": {
   "codemirror_mode": {
    "name": "ipython",
    "version": 3
   },
   "file_extension": ".py",
   "mimetype": "text/x-python",
   "name": "python",
   "nbconvert_exporter": "python",
   "pygments_lexer": "ipython3",
   "version": "3.10.12"
  },
  "papermill": {
   "default_parameters": {},
   "duration": 24.366131,
   "end_time": "2023-12-09T12:25:30.307791",
   "environment_variables": {},
   "exception": null,
   "input_path": "__notebook__.ipynb",
   "output_path": "__notebook__.ipynb",
   "parameters": {},
   "start_time": "2023-12-09T12:25:05.941660",
   "version": "2.4.0"
  }
 },
 "nbformat": 4,
 "nbformat_minor": 5
}
