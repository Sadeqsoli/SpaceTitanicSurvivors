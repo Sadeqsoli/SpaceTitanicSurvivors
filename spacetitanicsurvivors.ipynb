{
 "cells": [
  {
   "cell_type": "code",
   "execution_count": 1,
   "id": "e5ac9884",
   "metadata": {
    "_cell_guid": "b1076dfc-b9ad-4769-8c92-a6c4dae69d19",
    "_uuid": "8f2839f25d086af736a60e9eeb907d3b93b6e0e5",
    "execution": {
     "iopub.execute_input": "2023-11-30T19:48:48.491799Z",
     "iopub.status.busy": "2023-11-30T19:48:48.491266Z",
     "iopub.status.idle": "2023-11-30T19:48:49.428799Z",
     "shell.execute_reply": "2023-11-30T19:48:49.427491Z"
    },
    "papermill": {
     "duration": 0.950815,
     "end_time": "2023-11-30T19:48:49.430738",
     "exception": false,
     "start_time": "2023-11-30T19:48:48.479923",
     "status": "completed"
    },
    "tags": []
   },
   "outputs": [
    {
     "name": "stdout",
     "output_type": "stream",
     "text": [
      "/kaggle/input/spaceship-titanic/sample_submission.csv\n",
      "/kaggle/input/spaceship-titanic/train.csv\n",
      "/kaggle/input/spaceship-titanic/test.csv\n"
     ]
    }
   ],
   "source": [
    "# This Python 3 environment comes with many helpful analytics libraries installed\n",
    "# It is defined by the kaggle/python Docker image: https://github.com/kaggle/docker-python\n",
    "# For example, here's several helpful packages to load\n",
    "\n",
    "import numpy as np # linear algebra\n",
    "import pandas as pd # data processing, CSV file I/O (e.g. pd.read_csv)\n",
    "\n",
    "# Input data files are available in the read-only \"../input/\" directory\n",
    "# For example, running this (by clicking run or pressing Shift+Enter) will list all files under the input directory\n",
    "\n",
    "import os\n",
    "for dirname, _, filenames in os.walk('/kaggle/input'):\n",
    "    for filename in filenames:\n",
    "        print(os.path.join(dirname, filename))\n",
    "\n",
    "# You can write up to 20GB to the current directory (/kaggle/working/) that gets preserved as output when you create a version using \"Save & Run All\" \n",
    "# You can also write temporary files to /kaggle/temp/, but they won't be saved outside of the current session"
   ]
  },
  {
   "cell_type": "markdown",
   "id": "ae9e4ac1",
   "metadata": {
    "papermill": {
     "duration": 0.008496,
     "end_time": "2023-11-30T19:48:49.448422",
     "exception": false,
     "start_time": "2023-11-30T19:48:49.439926",
     "status": "completed"
    },
    "tags": []
   },
   "source": [
    "# > ****File and Data Field Descriptions\n",
    "\n",
    "train.csv - Personal records for about two-thirds (~8700) of the passengers, to be used as training data.\n",
    "PassengerId - A unique Id for each passenger. Each Id takes the form gggg_pp where gggg indicates a group the passenger is travelling with and pp is their number within the group. People in a group are often family members, but not always.\n",
    "HomePlanet - The planet the passenger departed from, typically their planet of permanent residence.\n",
    "CryoSleep - Indicates whether the passenger elected to be put into suspended animation for the duration of the voyage. Passengers in cryosleep are confined to their cabins.\n",
    "Cabin - The cabin number where the passenger is staying. Takes the form deck/num/side, where side can be either P for Port or S for Starboard.\n",
    "Destination - The planet the passenger will be debarking to.\n",
    "Age - The age of the passenger.\n",
    "VIP - Whether the passenger has paid for special VIP service during the voyage.\n",
    "RoomService, FoodCourt, ShoppingMall, Spa, VRDeck - Amount the passenger has billed at each of the Spaceship Titanic's many luxury amenities.\n",
    "Name - The first and last names of the passenger.\n",
    "Transported - Whether the passenger was transported to another dimension. This is the target, the column you are trying to predict.\n",
    "test.csv - Personal records for the remaining one-third (~4300) of the passengers, to be used as test data. Your task is to predict the value of Transported for the passengers in this set.\n",
    "sample_submission.csv - A submission file in the correct format.\n",
    "PassengerId - Id for each passenger in the test set.\n",
    "Transported - The target. For each passenger, predict either True or False."
   ]
  },
  {
   "cell_type": "code",
   "execution_count": 2,
   "id": "6253e8c5",
   "metadata": {
    "execution": {
     "iopub.execute_input": "2023-11-30T19:48:49.467665Z",
     "iopub.status.busy": "2023-11-30T19:48:49.467225Z",
     "iopub.status.idle": "2023-11-30T19:48:49.551229Z",
     "shell.execute_reply": "2023-11-30T19:48:49.549632Z"
    },
    "papermill": {
     "duration": 0.096248,
     "end_time": "2023-11-30T19:48:49.553637",
     "exception": false,
     "start_time": "2023-11-30T19:48:49.457389",
     "status": "completed"
    },
    "tags": []
   },
   "outputs": [
    {
     "data": {
      "text/html": [
       "<div>\n",
       "<style scoped>\n",
       "    .dataframe tbody tr th:only-of-type {\n",
       "        vertical-align: middle;\n",
       "    }\n",
       "\n",
       "    .dataframe tbody tr th {\n",
       "        vertical-align: top;\n",
       "    }\n",
       "\n",
       "    .dataframe thead th {\n",
       "        text-align: right;\n",
       "    }\n",
       "</style>\n",
       "<table border=\"1\" class=\"dataframe\">\n",
       "  <thead>\n",
       "    <tr style=\"text-align: right;\">\n",
       "      <th></th>\n",
       "      <th>PassengerId</th>\n",
       "      <th>HomePlanet</th>\n",
       "      <th>CryoSleep</th>\n",
       "      <th>Cabin</th>\n",
       "      <th>Destination</th>\n",
       "      <th>Age</th>\n",
       "      <th>VIP</th>\n",
       "      <th>RoomService</th>\n",
       "      <th>FoodCourt</th>\n",
       "      <th>ShoppingMall</th>\n",
       "      <th>Spa</th>\n",
       "      <th>VRDeck</th>\n",
       "      <th>Name</th>\n",
       "      <th>Transported</th>\n",
       "    </tr>\n",
       "  </thead>\n",
       "  <tbody>\n",
       "    <tr>\n",
       "      <th>0</th>\n",
       "      <td>0001_01</td>\n",
       "      <td>Europa</td>\n",
       "      <td>False</td>\n",
       "      <td>B/0/P</td>\n",
       "      <td>TRAPPIST-1e</td>\n",
       "      <td>39.0</td>\n",
       "      <td>False</td>\n",
       "      <td>0.0</td>\n",
       "      <td>0.0</td>\n",
       "      <td>0.0</td>\n",
       "      <td>0.0</td>\n",
       "      <td>0.0</td>\n",
       "      <td>Maham Ofracculy</td>\n",
       "      <td>False</td>\n",
       "    </tr>\n",
       "    <tr>\n",
       "      <th>1</th>\n",
       "      <td>0002_01</td>\n",
       "      <td>Earth</td>\n",
       "      <td>False</td>\n",
       "      <td>F/0/S</td>\n",
       "      <td>TRAPPIST-1e</td>\n",
       "      <td>24.0</td>\n",
       "      <td>False</td>\n",
       "      <td>109.0</td>\n",
       "      <td>9.0</td>\n",
       "      <td>25.0</td>\n",
       "      <td>549.0</td>\n",
       "      <td>44.0</td>\n",
       "      <td>Juanna Vines</td>\n",
       "      <td>True</td>\n",
       "    </tr>\n",
       "    <tr>\n",
       "      <th>2</th>\n",
       "      <td>0003_01</td>\n",
       "      <td>Europa</td>\n",
       "      <td>False</td>\n",
       "      <td>A/0/S</td>\n",
       "      <td>TRAPPIST-1e</td>\n",
       "      <td>58.0</td>\n",
       "      <td>True</td>\n",
       "      <td>43.0</td>\n",
       "      <td>3576.0</td>\n",
       "      <td>0.0</td>\n",
       "      <td>6715.0</td>\n",
       "      <td>49.0</td>\n",
       "      <td>Altark Susent</td>\n",
       "      <td>False</td>\n",
       "    </tr>\n",
       "  </tbody>\n",
       "</table>\n",
       "</div>"
      ],
      "text/plain": [
       "  PassengerId HomePlanet CryoSleep  Cabin  Destination   Age    VIP  \\\n",
       "0     0001_01     Europa     False  B/0/P  TRAPPIST-1e  39.0  False   \n",
       "1     0002_01      Earth     False  F/0/S  TRAPPIST-1e  24.0  False   \n",
       "2     0003_01     Europa     False  A/0/S  TRAPPIST-1e  58.0   True   \n",
       "\n",
       "   RoomService  FoodCourt  ShoppingMall     Spa  VRDeck             Name  \\\n",
       "0          0.0        0.0           0.0     0.0     0.0  Maham Ofracculy   \n",
       "1        109.0        9.0          25.0   549.0    44.0     Juanna Vines   \n",
       "2         43.0     3576.0           0.0  6715.0    49.0    Altark Susent   \n",
       "\n",
       "   Transported  \n",
       "0        False  \n",
       "1         True  \n",
       "2        False  "
      ]
     },
     "execution_count": 2,
     "metadata": {},
     "output_type": "execute_result"
    }
   ],
   "source": [
    "df = pd.read_csv(\"/kaggle/input/spaceship-titanic/train.csv\")\n",
    "df.head(3)"
   ]
  },
  {
   "cell_type": "code",
   "execution_count": 3,
   "id": "4279106a",
   "metadata": {
    "execution": {
     "iopub.execute_input": "2023-11-30T19:48:49.575155Z",
     "iopub.status.busy": "2023-11-30T19:48:49.574797Z",
     "iopub.status.idle": "2023-11-30T19:48:49.617596Z",
     "shell.execute_reply": "2023-11-30T19:48:49.615558Z"
    },
    "papermill": {
     "duration": 0.056806,
     "end_time": "2023-11-30T19:48:49.620219",
     "exception": false,
     "start_time": "2023-11-30T19:48:49.563413",
     "status": "completed"
    },
    "tags": []
   },
   "outputs": [
    {
     "data": {
      "text/html": [
       "<div>\n",
       "<style scoped>\n",
       "    .dataframe tbody tr th:only-of-type {\n",
       "        vertical-align: middle;\n",
       "    }\n",
       "\n",
       "    .dataframe tbody tr th {\n",
       "        vertical-align: top;\n",
       "    }\n",
       "\n",
       "    .dataframe thead th {\n",
       "        text-align: right;\n",
       "    }\n",
       "</style>\n",
       "<table border=\"1\" class=\"dataframe\">\n",
       "  <thead>\n",
       "    <tr style=\"text-align: right;\">\n",
       "      <th></th>\n",
       "      <th>PassengerId</th>\n",
       "      <th>HomePlanet</th>\n",
       "      <th>CryoSleep</th>\n",
       "      <th>Cabin</th>\n",
       "      <th>Destination</th>\n",
       "      <th>Age</th>\n",
       "      <th>VIP</th>\n",
       "      <th>RoomService</th>\n",
       "      <th>FoodCourt</th>\n",
       "      <th>ShoppingMall</th>\n",
       "      <th>Spa</th>\n",
       "      <th>VRDeck</th>\n",
       "      <th>Name</th>\n",
       "      <th>Transported</th>\n",
       "    </tr>\n",
       "  </thead>\n",
       "  <tbody>\n",
       "    <tr>\n",
       "      <th>0</th>\n",
       "      <td>0001_01</td>\n",
       "      <td>2.0</td>\n",
       "      <td>0.0</td>\n",
       "      <td>B/0/P</td>\n",
       "      <td>3.0</td>\n",
       "      <td>39.0</td>\n",
       "      <td>0.0</td>\n",
       "      <td>0.0</td>\n",
       "      <td>0.0</td>\n",
       "      <td>0.0</td>\n",
       "      <td>0.0</td>\n",
       "      <td>0.0</td>\n",
       "      <td>Maham Ofracculy</td>\n",
       "      <td>0</td>\n",
       "    </tr>\n",
       "    <tr>\n",
       "      <th>1</th>\n",
       "      <td>0002_01</td>\n",
       "      <td>1.0</td>\n",
       "      <td>0.0</td>\n",
       "      <td>F/0/S</td>\n",
       "      <td>3.0</td>\n",
       "      <td>24.0</td>\n",
       "      <td>0.0</td>\n",
       "      <td>109.0</td>\n",
       "      <td>9.0</td>\n",
       "      <td>25.0</td>\n",
       "      <td>549.0</td>\n",
       "      <td>44.0</td>\n",
       "      <td>Juanna Vines</td>\n",
       "      <td>1</td>\n",
       "    </tr>\n",
       "    <tr>\n",
       "      <th>2</th>\n",
       "      <td>0003_01</td>\n",
       "      <td>2.0</td>\n",
       "      <td>0.0</td>\n",
       "      <td>A/0/S</td>\n",
       "      <td>3.0</td>\n",
       "      <td>58.0</td>\n",
       "      <td>1.0</td>\n",
       "      <td>43.0</td>\n",
       "      <td>3576.0</td>\n",
       "      <td>0.0</td>\n",
       "      <td>6715.0</td>\n",
       "      <td>49.0</td>\n",
       "      <td>Altark Susent</td>\n",
       "      <td>0</td>\n",
       "    </tr>\n",
       "  </tbody>\n",
       "</table>\n",
       "</div>"
      ],
      "text/plain": [
       "  PassengerId  HomePlanet  CryoSleep  Cabin  Destination   Age  VIP  \\\n",
       "0     0001_01         2.0        0.0  B/0/P          3.0  39.0  0.0   \n",
       "1     0002_01         1.0        0.0  F/0/S          3.0  24.0  0.0   \n",
       "2     0003_01         2.0        0.0  A/0/S          3.0  58.0  1.0   \n",
       "\n",
       "   RoomService  FoodCourt  ShoppingMall     Spa  VRDeck             Name  \\\n",
       "0          0.0        0.0           0.0     0.0     0.0  Maham Ofracculy   \n",
       "1        109.0        9.0          25.0   549.0    44.0     Juanna Vines   \n",
       "2         43.0     3576.0           0.0  6715.0    49.0    Altark Susent   \n",
       "\n",
       "   Transported  \n",
       "0            0  \n",
       "1            1  \n",
       "2            0  "
      ]
     },
     "execution_count": 3,
     "metadata": {},
     "output_type": "execute_result"
    }
   ],
   "source": [
    "#CryoSleep\n",
    "df['CryoSleep'] = df['CryoSleep'].replace({True: 1, False: 0})\n",
    "#Transported\n",
    "df['Transported'] = df['Transported'].replace({True: 1, False: 0})\n",
    "#HomePlanet\n",
    "df['HomePlanet'].replace('Earth', 1, inplace=True)\n",
    "df['HomePlanet'].replace('Europa', 2, inplace=True)\n",
    "df['HomePlanet'].replace('Mars', 3, inplace=True)\n",
    "#Destination\n",
    "df['Destination'].replace('55 Cancri e', 1, inplace=True)\n",
    "df['Destination'].replace('PSO J318.5-22', 2, inplace=True)\n",
    "df['Destination'].replace('TRAPPIST-1e', 3, inplace=True)\n",
    "df['VIP'] = df['VIP'].replace({True: 1, False: 0})\n",
    "df.head(3)"
   ]
  },
  {
   "cell_type": "code",
   "execution_count": 4,
   "id": "ea4be209",
   "metadata": {
    "execution": {
     "iopub.execute_input": "2023-11-30T19:48:49.641731Z",
     "iopub.status.busy": "2023-11-30T19:48:49.641374Z",
     "iopub.status.idle": "2023-11-30T19:48:49.646123Z",
     "shell.execute_reply": "2023-11-30T19:48:49.644846Z"
    },
    "papermill": {
     "duration": 0.018745,
     "end_time": "2023-11-30T19:48:49.649081",
     "exception": false,
     "start_time": "2023-11-30T19:48:49.630336",
     "status": "completed"
    },
    "tags": []
   },
   "outputs": [],
   "source": [
    "#set([i.split(\"/\")[2] for i in df.Cabin.values if type(i)!=float])\n",
    "#sorted([int(i.split(\"/\")[1]) for i in df.Cabin.values if type(i)!=float])[::-1]"
   ]
  },
  {
   "cell_type": "markdown",
   "id": "793916fd",
   "metadata": {
    "papermill": {
     "duration": 0.010952,
     "end_time": "2023-11-30T19:48:49.669879",
     "exception": false,
     "start_time": "2023-11-30T19:48:49.658927",
     "status": "completed"
    },
    "tags": []
   },
   "source": [
    "HomePlanet: {'Earth', 'Europa', 'Mars', nan}\n",
    "{1,2,3,4}"
   ]
  },
  {
   "cell_type": "markdown",
   "id": "e54d139e",
   "metadata": {
    "papermill": {
     "duration": 0.009276,
     "end_time": "2023-11-30T19:48:49.689609",
     "exception": false,
     "start_time": "2023-11-30T19:48:49.680333",
     "status": "completed"
    },
    "tags": []
   },
   "source": [
    "Destination: {'55 Cancri e', 'PSO J318.5-22', 'TRAPPIST-1e', nan}\n",
    "{1,2,3,4}"
   ]
  },
  {
   "cell_type": "code",
   "execution_count": 5,
   "id": "8f890370",
   "metadata": {
    "execution": {
     "iopub.execute_input": "2023-11-30T19:48:49.710446Z",
     "iopub.status.busy": "2023-11-30T19:48:49.710095Z",
     "iopub.status.idle": "2023-11-30T19:48:49.715947Z",
     "shell.execute_reply": "2023-11-30T19:48:49.714311Z"
    },
    "papermill": {
     "duration": 0.019519,
     "end_time": "2023-11-30T19:48:49.718731",
     "exception": false,
     "start_time": "2023-11-30T19:48:49.699212",
     "status": "completed"
    },
    "tags": []
   },
   "outputs": [],
   "source": [
    "#checking corr between cabin's names and sides\n",
    "#sum(df.loc[(df.Cabin.str.split('/').str[0] == 'F') & (df.Cabin.str.split('/').str[2] == 'S')].Transported)   "
   ]
  },
  {
   "cell_type": "markdown",
   "id": "5a8834ce",
   "metadata": {
    "papermill": {
     "duration": 0.009227,
     "end_time": "2023-11-30T19:48:49.739671",
     "exception": false,
     "start_time": "2023-11-30T19:48:49.730444",
     "status": "completed"
    },
    "tags": []
   },
   "source": [
    "letter_to_int = {'A': 1, 'B': 2, 'C': 3, 'D': 4, 'E': 5, 'F': 6, 'G': 7, 'H': 8, 'I': 9, 'J': 10}"
   ]
  },
  {
   "cell_type": "markdown",
   "id": "7394c612",
   "metadata": {
    "papermill": {
     "duration": 0.009037,
     "end_time": "2023-11-30T19:48:49.758018",
     "exception": false,
     "start_time": "2023-11-30T19:48:49.748981",
     "status": "completed"
    },
    "tags": []
   },
   "source": [
    "Now we have 11 attribute to work with and they all are numeric\n"
   ]
  },
  {
   "cell_type": "code",
   "execution_count": 6,
   "id": "fe5b9524",
   "metadata": {
    "execution": {
     "iopub.execute_input": "2023-11-30T19:48:49.779890Z",
     "iopub.status.busy": "2023-11-30T19:48:49.779483Z",
     "iopub.status.idle": "2023-11-30T19:48:49.813909Z",
     "shell.execute_reply": "2023-11-30T19:48:49.812393Z"
    },
    "papermill": {
     "duration": 0.048069,
     "end_time": "2023-11-30T19:48:49.816318",
     "exception": false,
     "start_time": "2023-11-30T19:48:49.768249",
     "status": "completed"
    },
    "tags": []
   },
   "outputs": [
    {
     "data": {
      "text/html": [
       "<div>\n",
       "<style scoped>\n",
       "    .dataframe tbody tr th:only-of-type {\n",
       "        vertical-align: middle;\n",
       "    }\n",
       "\n",
       "    .dataframe tbody tr th {\n",
       "        vertical-align: top;\n",
       "    }\n",
       "\n",
       "    .dataframe thead th {\n",
       "        text-align: right;\n",
       "    }\n",
       "</style>\n",
       "<table border=\"1\" class=\"dataframe\">\n",
       "  <thead>\n",
       "    <tr style=\"text-align: right;\">\n",
       "      <th></th>\n",
       "      <th>PassengerId</th>\n",
       "      <th>HomePlanet</th>\n",
       "      <th>CryoSleep</th>\n",
       "      <th>Cabin</th>\n",
       "      <th>Destination</th>\n",
       "      <th>Age</th>\n",
       "      <th>VIP</th>\n",
       "      <th>RoomService</th>\n",
       "      <th>FoodCourt</th>\n",
       "      <th>ShoppingMall</th>\n",
       "      <th>Spa</th>\n",
       "      <th>VRDeck</th>\n",
       "      <th>Name</th>\n",
       "      <th>Transported</th>\n",
       "    </tr>\n",
       "  </thead>\n",
       "  <tbody>\n",
       "    <tr>\n",
       "      <th>0</th>\n",
       "      <td>0001_01</td>\n",
       "      <td>2</td>\n",
       "      <td>0</td>\n",
       "      <td>B/0/P</td>\n",
       "      <td>3</td>\n",
       "      <td>39</td>\n",
       "      <td>0</td>\n",
       "      <td>0.0</td>\n",
       "      <td>0.0</td>\n",
       "      <td>0.0</td>\n",
       "      <td>0.0</td>\n",
       "      <td>0.0</td>\n",
       "      <td>Maham Ofracculy</td>\n",
       "      <td>0</td>\n",
       "    </tr>\n",
       "    <tr>\n",
       "      <th>1</th>\n",
       "      <td>0002_01</td>\n",
       "      <td>1</td>\n",
       "      <td>0</td>\n",
       "      <td>F/0/S</td>\n",
       "      <td>3</td>\n",
       "      <td>24</td>\n",
       "      <td>0</td>\n",
       "      <td>109.0</td>\n",
       "      <td>9.0</td>\n",
       "      <td>25.0</td>\n",
       "      <td>549.0</td>\n",
       "      <td>44.0</td>\n",
       "      <td>Juanna Vines</td>\n",
       "      <td>1</td>\n",
       "    </tr>\n",
       "    <tr>\n",
       "      <th>2</th>\n",
       "      <td>0003_01</td>\n",
       "      <td>2</td>\n",
       "      <td>0</td>\n",
       "      <td>A/0/S</td>\n",
       "      <td>3</td>\n",
       "      <td>58</td>\n",
       "      <td>1</td>\n",
       "      <td>43.0</td>\n",
       "      <td>3576.0</td>\n",
       "      <td>0.0</td>\n",
       "      <td>6715.0</td>\n",
       "      <td>49.0</td>\n",
       "      <td>Altark Susent</td>\n",
       "      <td>0</td>\n",
       "    </tr>\n",
       "  </tbody>\n",
       "</table>\n",
       "</div>"
      ],
      "text/plain": [
       "  PassengerId  HomePlanet  CryoSleep  Cabin  Destination  Age  VIP  \\\n",
       "0     0001_01           2          0  B/0/P            3   39    0   \n",
       "1     0002_01           1          0  F/0/S            3   24    0   \n",
       "2     0003_01           2          0  A/0/S            3   58    1   \n",
       "\n",
       "   RoomService  FoodCourt  ShoppingMall     Spa  VRDeck             Name  \\\n",
       "0          0.0        0.0           0.0     0.0     0.0  Maham Ofracculy   \n",
       "1        109.0        9.0          25.0   549.0    44.0     Juanna Vines   \n",
       "2         43.0     3576.0           0.0  6715.0    49.0    Altark Susent   \n",
       "\n",
       "   Transported  \n",
       "0            0  \n",
       "1            1  \n",
       "2            0  "
      ]
     },
     "execution_count": 6,
     "metadata": {},
     "output_type": "execute_result"
    }
   ],
   "source": [
    "df[['HomePlanet', 'CryoSleep', 'Destination', 'Age', 'VIP']] = df[['HomePlanet', 'CryoSleep', 'Destination', 'Age', 'VIP']].astype('Int64')\n",
    "df.head(3)"
   ]
  },
  {
   "cell_type": "markdown",
   "id": "7846e813",
   "metadata": {
    "papermill": {
     "duration": 0.009263,
     "end_time": "2023-11-30T19:48:49.835305",
     "exception": false,
     "start_time": "2023-11-30T19:48:49.826042",
     "status": "completed"
    },
    "tags": []
   },
   "source": [
    "Now We can go to filling every null and nan cell in our dataframe"
   ]
  },
  {
   "cell_type": "code",
   "execution_count": 7,
   "id": "af6ee213",
   "metadata": {
    "execution": {
     "iopub.execute_input": "2023-11-30T19:48:49.920149Z",
     "iopub.status.busy": "2023-11-30T19:48:49.919811Z",
     "iopub.status.idle": "2023-11-30T19:48:49.924836Z",
     "shell.execute_reply": "2023-11-30T19:48:49.923835Z"
    },
    "papermill": {
     "duration": 0.018319,
     "end_time": "2023-11-30T19:48:49.926839",
     "exception": false,
     "start_time": "2023-11-30T19:48:49.908520",
     "status": "completed"
    },
    "tags": []
   },
   "outputs": [],
   "source": [
    "# import matplotlib.pyplot as plt\n",
    "# df.hist(bins=50, figsize=(20,15))\n",
    "# plt.show()"
   ]
  },
  {
   "cell_type": "code",
   "execution_count": 8,
   "id": "0e3a4b86",
   "metadata": {
    "execution": {
     "iopub.execute_input": "2023-11-30T19:48:49.948254Z",
     "iopub.status.busy": "2023-11-30T19:48:49.947874Z",
     "iopub.status.idle": "2023-11-30T19:48:49.993323Z",
     "shell.execute_reply": "2023-11-30T19:48:49.991260Z"
    },
    "papermill": {
     "duration": 0.059161,
     "end_time": "2023-11-30T19:48:49.996076",
     "exception": false,
     "start_time": "2023-11-30T19:48:49.936915",
     "status": "completed"
    },
    "tags": []
   },
   "outputs": [
    {
     "name": "stdout",
     "output_type": "stream",
     "text": [
      "<class 'pandas.core.frame.DataFrame'>\n",
      "RangeIndex: 8693 entries, 0 to 8692\n",
      "Data columns (total 14 columns):\n",
      " #   Column        Non-Null Count  Dtype  \n",
      "---  ------        --------------  -----  \n",
      " 0   PassengerId   8693 non-null   object \n",
      " 1   HomePlanet    8693 non-null   Int64  \n",
      " 2   CryoSleep     8693 non-null   int64  \n",
      " 3   Cabin         8693 non-null   object \n",
      " 4   Destination   8693 non-null   Int64  \n",
      " 5   Age           8693 non-null   Int64  \n",
      " 6   VIP           8693 non-null   int64  \n",
      " 7   RoomService   8693 non-null   float64\n",
      " 8   FoodCourt     8693 non-null   float64\n",
      " 9   ShoppingMall  8693 non-null   float64\n",
      " 10  Spa           8693 non-null   float64\n",
      " 11  VRDeck        8693 non-null   float64\n",
      " 12  Name          8693 non-null   object \n",
      " 13  Transported   8693 non-null   int64  \n",
      "dtypes: Int64(3), float64(5), int64(3), object(3)\n",
      "memory usage: 976.4+ KB\n"
     ]
    }
   ],
   "source": [
    "df[\"HomePlanet\"].fillna(df[\"HomePlanet\"].mode()[0],inplace=True)\n",
    "df[\"Destination\"].fillna(df[\"Destination\"].mode()[0],inplace=True)\n",
    "df[\"CryoSleep\"].fillna(df[\"CryoSleep\"].mode()[0],inplace=True)\n",
    "df[\"Cabin\"].fillna(df[\"Cabin\"].mode()[0],inplace=True)\n",
    "df[\"VIP\"].fillna(df[\"VIP\"].mode()[0],inplace=True)\n",
    "df[\"Name\"].fillna(df[\"Name\"].mode()[0],inplace=True)\n",
    "df[\"Age\"].fillna(int(df[\"Age\"].mean()),inplace=True)\n",
    "df[\"RoomService\"].fillna(df[\"RoomService\"].mean(),inplace=True)\n",
    "df[\"FoodCourt\"].fillna(df[\"FoodCourt\"].mean(),inplace=True)\n",
    "df[\"ShoppingMall\"].fillna(df[\"ShoppingMall\"].mean(),inplace=True)\n",
    "df[\"Spa\"].fillna(df[\"Spa\"].mean(),inplace=True)\n",
    "df[\"VRDeck\"].fillna(df[\"VRDeck\"].mean(),inplace=True)\n",
    "df.VIP = np.where(df.VIP,1,0)\n",
    "df.CryoSleep = np.where(df.CryoSleep,1,0)\n",
    "#No Nan, Null or empty cell\n",
    "df.info()"
   ]
  },
  {
   "cell_type": "code",
   "execution_count": 9,
   "id": "b615d2c7",
   "metadata": {
    "execution": {
     "iopub.execute_input": "2023-11-30T19:48:50.018478Z",
     "iopub.status.busy": "2023-11-30T19:48:50.018064Z",
     "iopub.status.idle": "2023-11-30T19:48:50.022881Z",
     "shell.execute_reply": "2023-11-30T19:48:50.021383Z"
    },
    "papermill": {
     "duration": 0.018891,
     "end_time": "2023-11-30T19:48:50.025443",
     "exception": false,
     "start_time": "2023-11-30T19:48:50.006552",
     "status": "completed"
    },
    "tags": []
   },
   "outputs": [],
   "source": [
    "# dfBackup = df\n",
    "# dfBackup.head(3)"
   ]
  },
  {
   "cell_type": "code",
   "execution_count": 10,
   "id": "90165583",
   "metadata": {
    "execution": {
     "iopub.execute_input": "2023-11-30T19:48:50.047601Z",
     "iopub.status.busy": "2023-11-30T19:48:50.046958Z",
     "iopub.status.idle": "2023-11-30T19:48:50.051389Z",
     "shell.execute_reply": "2023-11-30T19:48:50.050282Z"
    },
    "papermill": {
     "duration": 0.018171,
     "end_time": "2023-11-30T19:48:50.053710",
     "exception": false,
     "start_time": "2023-11-30T19:48:50.035539",
     "status": "completed"
    },
    "tags": []
   },
   "outputs": [],
   "source": [
    "# # Apply square root transformation\n",
    "# df['RoomService'] = df['RoomService']**0.5\n",
    "# df['FoodCourt'] = df['FoodCourt']**0.5\n",
    "# df['ShoppingMall'] = df['ShoppingMall']**0.5\n",
    "# df['Spa'] = df['Spa']**0.5\n",
    "# df['VRDeck'] = df['VRDeck']**0.5"
   ]
  },
  {
   "cell_type": "code",
   "execution_count": 11,
   "id": "0a82040c",
   "metadata": {
    "execution": {
     "iopub.execute_input": "2023-11-30T19:48:50.075750Z",
     "iopub.status.busy": "2023-11-30T19:48:50.075372Z",
     "iopub.status.idle": "2023-11-30T19:48:50.101158Z",
     "shell.execute_reply": "2023-11-30T19:48:50.100297Z"
    },
    "papermill": {
     "duration": 0.039508,
     "end_time": "2023-11-30T19:48:50.103432",
     "exception": false,
     "start_time": "2023-11-30T19:48:50.063924",
     "status": "completed"
    },
    "tags": []
   },
   "outputs": [
    {
     "data": {
      "text/html": [
       "<div>\n",
       "<style scoped>\n",
       "    .dataframe tbody tr th:only-of-type {\n",
       "        vertical-align: middle;\n",
       "    }\n",
       "\n",
       "    .dataframe tbody tr th {\n",
       "        vertical-align: top;\n",
       "    }\n",
       "\n",
       "    .dataframe thead th {\n",
       "        text-align: right;\n",
       "    }\n",
       "</style>\n",
       "<table border=\"1\" class=\"dataframe\">\n",
       "  <thead>\n",
       "    <tr style=\"text-align: right;\">\n",
       "      <th></th>\n",
       "      <th>PassengerId</th>\n",
       "      <th>HomePlanet</th>\n",
       "      <th>CryoSleep</th>\n",
       "      <th>Cabin</th>\n",
       "      <th>Destination</th>\n",
       "      <th>Age</th>\n",
       "      <th>VIP</th>\n",
       "      <th>RoomService</th>\n",
       "      <th>FoodCourt</th>\n",
       "      <th>ShoppingMall</th>\n",
       "      <th>Spa</th>\n",
       "      <th>VRDeck</th>\n",
       "      <th>Name</th>\n",
       "      <th>Transported</th>\n",
       "    </tr>\n",
       "  </thead>\n",
       "  <tbody>\n",
       "    <tr>\n",
       "      <th>0</th>\n",
       "      <td>0001_01</td>\n",
       "      <td>2</td>\n",
       "      <td>0</td>\n",
       "      <td>B/0/P</td>\n",
       "      <td>3</td>\n",
       "      <td>39</td>\n",
       "      <td>0</td>\n",
       "      <td>0.00000</td>\n",
       "      <td>0.000000</td>\n",
       "      <td>0.000000</td>\n",
       "      <td>0.000000</td>\n",
       "      <td>0.000000</td>\n",
       "      <td>Maham Ofracculy</td>\n",
       "      <td>0</td>\n",
       "    </tr>\n",
       "    <tr>\n",
       "      <th>1</th>\n",
       "      <td>0002_01</td>\n",
       "      <td>1</td>\n",
       "      <td>0</td>\n",
       "      <td>F/0/S</td>\n",
       "      <td>3</td>\n",
       "      <td>24</td>\n",
       "      <td>0</td>\n",
       "      <td>4.70048</td>\n",
       "      <td>2.302585</td>\n",
       "      <td>3.258097</td>\n",
       "      <td>6.309918</td>\n",
       "      <td>3.806662</td>\n",
       "      <td>Juanna Vines</td>\n",
       "      <td>1</td>\n",
       "    </tr>\n",
       "    <tr>\n",
       "      <th>2</th>\n",
       "      <td>0003_01</td>\n",
       "      <td>2</td>\n",
       "      <td>0</td>\n",
       "      <td>A/0/S</td>\n",
       "      <td>3</td>\n",
       "      <td>58</td>\n",
       "      <td>1</td>\n",
       "      <td>3.78419</td>\n",
       "      <td>8.182280</td>\n",
       "      <td>0.000000</td>\n",
       "      <td>8.812248</td>\n",
       "      <td>3.912023</td>\n",
       "      <td>Altark Susent</td>\n",
       "      <td>0</td>\n",
       "    </tr>\n",
       "  </tbody>\n",
       "</table>\n",
       "</div>"
      ],
      "text/plain": [
       "  PassengerId  HomePlanet  CryoSleep  Cabin  Destination  Age  VIP  \\\n",
       "0     0001_01           2          0  B/0/P            3   39    0   \n",
       "1     0002_01           1          0  F/0/S            3   24    0   \n",
       "2     0003_01           2          0  A/0/S            3   58    1   \n",
       "\n",
       "   RoomService  FoodCourt  ShoppingMall       Spa    VRDeck             Name  \\\n",
       "0      0.00000   0.000000      0.000000  0.000000  0.000000  Maham Ofracculy   \n",
       "1      4.70048   2.302585      3.258097  6.309918  3.806662     Juanna Vines   \n",
       "2      3.78419   8.182280      0.000000  8.812248  3.912023    Altark Susent   \n",
       "\n",
       "   Transported  \n",
       "0            0  \n",
       "1            1  \n",
       "2            0  "
      ]
     },
     "execution_count": 11,
     "metadata": {},
     "output_type": "execute_result"
    }
   ],
   "source": [
    "# Apply log transformation\n",
    "df['RoomService'] = np.log1p(df['RoomService'])\n",
    "df['FoodCourt'] = np.log1p(df['FoodCourt'])\n",
    "df['ShoppingMall'] = np.log1p(df['ShoppingMall'])\n",
    "df['Spa'] = np.log1p(df['Spa'])\n",
    "df['VRDeck'] = np.log1p(df['VRDeck'])\n",
    "df.head(3)"
   ]
  },
  {
   "cell_type": "code",
   "execution_count": 12,
   "id": "87174c8f",
   "metadata": {
    "execution": {
     "iopub.execute_input": "2023-11-30T19:48:50.133865Z",
     "iopub.status.busy": "2023-11-30T19:48:50.133228Z",
     "iopub.status.idle": "2023-11-30T19:48:52.420129Z",
     "shell.execute_reply": "2023-11-30T19:48:52.418976Z"
    },
    "papermill": {
     "duration": 2.304198,
     "end_time": "2023-11-30T19:48:52.422584",
     "exception": false,
     "start_time": "2023-11-30T19:48:50.118386",
     "status": "completed"
    },
    "tags": []
   },
   "outputs": [
    {
     "data": {
      "text/plain": [
       "<Axes: >"
      ]
     },
     "execution_count": 12,
     "metadata": {},
     "output_type": "execute_result"
    },
    {
     "data": {
      "image/png": "[encoded data removed]",
      "text/plain": [
       "<Figure size 640x480 with 2 Axes>"
      ]
     },
     "metadata": {},
     "output_type": "display_data"
    }
   ],
   "source": [
    "import seaborn as sb\n",
    "df_num = df.select_dtypes(include=['float64', 'int64'])\n",
    "\n",
    "# Calculate the correlations of numerical columns\n",
    "corr = df_num.corr()\n",
    "\n",
    "sb.heatmap(corr, annot=True)"
   ]
  },
  {
   "cell_type": "code",
   "execution_count": 13,
   "id": "5ae9d9e5",
   "metadata": {
    "execution": {
     "iopub.execute_input": "2023-11-30T19:48:52.448535Z",
     "iopub.status.busy": "2023-11-30T19:48:52.447756Z",
     "iopub.status.idle": "2023-11-30T19:48:52.451458Z",
     "shell.execute_reply": "2023-11-30T19:48:52.450754Z"
    },
    "papermill": {
     "duration": 0.01918,
     "end_time": "2023-11-30T19:48:52.453498",
     "exception": false,
     "start_time": "2023-11-30T19:48:52.434318",
     "status": "completed"
    },
    "tags": []
   },
   "outputs": [],
   "source": [
    "# # Apply binning\n",
    "# df['RoomService'] = pd.qcut(df['RoomService'], q=4)\n",
    "# df['FoodCourt'] = pd.qcut(df['FoodCourt'], q=4)\n",
    "# df['ShoppingMall'] = pd.qcut(df['ShoppingMall'], q=4)\n",
    "# df['Spa'] = pd.qcut(df['Spa'], q=4)\n",
    "# df['VRDeck'] = pd.qcut(df['VRDeck'], q=4)"
   ]
  },
  {
   "cell_type": "code",
   "execution_count": 14,
   "id": "335cd5e9",
   "metadata": {
    "execution": {
     "iopub.execute_input": "2023-11-30T19:48:52.479396Z",
     "iopub.status.busy": "2023-11-30T19:48:52.479019Z",
     "iopub.status.idle": "2023-11-30T19:48:52.484664Z",
     "shell.execute_reply": "2023-11-30T19:48:52.483232Z"
    },
    "papermill": {
     "duration": 0.021344,
     "end_time": "2023-11-30T19:48:52.486967",
     "exception": false,
     "start_time": "2023-11-30T19:48:52.465623",
     "status": "completed"
    },
    "tags": []
   },
   "outputs": [],
   "source": [
    "# ages = pd.qcut(df['Age'], q=7)\n",
    "# set(ages)"
   ]
  },
  {
   "cell_type": "code",
   "execution_count": 15,
   "id": "802187ff",
   "metadata": {
    "execution": {
     "iopub.execute_input": "2023-11-30T19:48:52.512345Z",
     "iopub.status.busy": "2023-11-30T19:48:52.510776Z",
     "iopub.status.idle": "2023-11-30T19:48:52.517013Z",
     "shell.execute_reply": "2023-11-30T19:48:52.515721Z"
    },
    "papermill": {
     "duration": 0.021456,
     "end_time": "2023-11-30T19:48:52.519977",
     "exception": false,
     "start_time": "2023-11-30T19:48:52.498521",
     "status": "completed"
    },
    "tags": []
   },
   "outputs": [],
   "source": [
    "#print('cryo Taransported: ', sum(df[df.CryoSleep == 1].Transported), 'transported: ',sum(df.Transported))\n",
    "# # Calculate mean\n",
    "# df['Mean_luxury'] = df[['RoomService', 'FoodCourt', 'ShoppingMall', 'Spa', 'VRDeck']].mean(axis=1)\n",
    "\n",
    "# df = df.drop(columns=['RoomService', 'FoodCourt', 'ShoppingMall', 'Spa', 'VRDeck'])\n",
    "\n",
    "# df['BigSpender'] = np.where(df.Mean_luxury > 1000, 1,0)\n",
    "# df['Mid_Spender'] = np.where(df.Mean_luxury >= 500, 1,0)\n",
    "# df['Non_Spender'] = np.where(df.Mean_luxury == 0, 1,0)\n",
    "# df.head(3)"
   ]
  },
  {
   "cell_type": "markdown",
   "id": "ddb4c149",
   "metadata": {
    "papermill": {
     "duration": 0.011675,
     "end_time": "2023-11-30T19:48:52.543667",
     "exception": false,
     "start_time": "2023-11-30T19:48:52.531992",
     "status": "completed"
    },
    "tags": []
   },
   "source": [
    "{1:'55 Cancri e', 2:'PSO J318.5-22', 3:'TRAPPIST-1e'}\n",
    "{1:'Earth', 2:'Europa', 3:'Mars'}\n",
    "<<<<<HomePlanet to Destination>>>>\n",
    "1 to 1 >>> 721\n",
    "1 to 2 >>> 728\n",
    "1 to 3 >>> 3354\n",
    "--------------    \n",
    "2 to 1 >>> 193\n",
    "2 to 2 >>> 49\n",
    "2 to 3 >>> 1517\n",
    "-------------- \n",
    "3 to 1 >>> 886\n",
    "3 to 2 >>> 19\n",
    "3 to 3 >>> 1226\n",
    "-------------- "
   ]
  },
  {
   "cell_type": "code",
   "execution_count": 16,
   "id": "2aae0c7f",
   "metadata": {
    "execution": {
     "iopub.execute_input": "2023-11-30T19:48:52.569575Z",
     "iopub.status.busy": "2023-11-30T19:48:52.569130Z",
     "iopub.status.idle": "2023-11-30T19:48:52.573970Z",
     "shell.execute_reply": "2023-11-30T19:48:52.572952Z"
    },
    "papermill": {
     "duration": 0.020998,
     "end_time": "2023-11-30T19:48:52.576609",
     "exception": false,
     "start_time": "2023-11-30T19:48:52.555611",
     "status": "completed"
    },
    "tags": []
   },
   "outputs": [],
   "source": [
    "#print(sum(df[df.HomePlanet == 1].Transported),sum(df.HomePlanet == 1))\n",
    "# sum(df[df.CryoSleep == 1].VIP)"
   ]
  },
  {
   "cell_type": "code",
   "execution_count": 17,
   "id": "236f1991",
   "metadata": {
    "execution": {
     "iopub.execute_input": "2023-11-30T19:48:52.602227Z",
     "iopub.status.busy": "2023-11-30T19:48:52.601852Z",
     "iopub.status.idle": "2023-11-30T19:48:52.606701Z",
     "shell.execute_reply": "2023-11-30T19:48:52.605216Z"
    },
    "papermill": {
     "duration": 0.020676,
     "end_time": "2023-11-30T19:48:52.609421",
     "exception": false,
     "start_time": "2023-11-30T19:48:52.588745",
     "status": "completed"
    },
    "tags": []
   },
   "outputs": [],
   "source": [
    "# print('Slept and didnt spend: ',sum(df[df.CryoSleep == 1].Non_Spender),'All that Slept: ',sum(df.CryoSleep),'All Non-Speders: ',sum(df.Non_Spender))"
   ]
  },
  {
   "cell_type": "code",
   "execution_count": 18,
   "id": "02a330b0",
   "metadata": {
    "execution": {
     "iopub.execute_input": "2023-11-30T19:48:52.635676Z",
     "iopub.status.busy": "2023-11-30T19:48:52.634769Z",
     "iopub.status.idle": "2023-11-30T19:48:52.690808Z",
     "shell.execute_reply": "2023-11-30T19:48:52.689445Z"
    },
    "papermill": {
     "duration": 0.07225,
     "end_time": "2023-11-30T19:48:52.693374",
     "exception": false,
     "start_time": "2023-11-30T19:48:52.621124",
     "status": "completed"
    },
    "tags": []
   },
   "outputs": [
    {
     "data": {
      "text/html": [
       "<div>\n",
       "<style scoped>\n",
       "    .dataframe tbody tr th:only-of-type {\n",
       "        vertical-align: middle;\n",
       "    }\n",
       "\n",
       "    .dataframe tbody tr th {\n",
       "        vertical-align: top;\n",
       "    }\n",
       "\n",
       "    .dataframe thead th {\n",
       "        text-align: right;\n",
       "    }\n",
       "</style>\n",
       "<table border=\"1\" class=\"dataframe\">\n",
       "  <thead>\n",
       "    <tr style=\"text-align: right;\">\n",
       "      <th></th>\n",
       "      <th>PassengerId</th>\n",
       "      <th>HomePlanet</th>\n",
       "      <th>CryoSleep</th>\n",
       "      <th>Cabin</th>\n",
       "      <th>Destination</th>\n",
       "      <th>Age</th>\n",
       "      <th>VIP</th>\n",
       "      <th>RoomService</th>\n",
       "      <th>FoodCourt</th>\n",
       "      <th>ShoppingMall</th>\n",
       "      <th>Spa</th>\n",
       "      <th>VRDeck</th>\n",
       "      <th>Name</th>\n",
       "      <th>Transported</th>\n",
       "      <th>Port</th>\n",
       "      <th>Place</th>\n",
       "    </tr>\n",
       "  </thead>\n",
       "  <tbody>\n",
       "    <tr>\n",
       "      <th>0</th>\n",
       "      <td>0001_01</td>\n",
       "      <td>2</td>\n",
       "      <td>0</td>\n",
       "      <td>0</td>\n",
       "      <td>3</td>\n",
       "      <td>39</td>\n",
       "      <td>0</td>\n",
       "      <td>0.00000</td>\n",
       "      <td>0.000000</td>\n",
       "      <td>0.000000</td>\n",
       "      <td>0.000000</td>\n",
       "      <td>0.000000</td>\n",
       "      <td>Maham Ofracculy</td>\n",
       "      <td>0</td>\n",
       "      <td>1</td>\n",
       "      <td>2</td>\n",
       "    </tr>\n",
       "    <tr>\n",
       "      <th>1</th>\n",
       "      <td>0002_01</td>\n",
       "      <td>1</td>\n",
       "      <td>0</td>\n",
       "      <td>0</td>\n",
       "      <td>3</td>\n",
       "      <td>24</td>\n",
       "      <td>0</td>\n",
       "      <td>4.70048</td>\n",
       "      <td>2.302585</td>\n",
       "      <td>3.258097</td>\n",
       "      <td>6.309918</td>\n",
       "      <td>3.806662</td>\n",
       "      <td>Juanna Vines</td>\n",
       "      <td>1</td>\n",
       "      <td>0</td>\n",
       "      <td>6</td>\n",
       "    </tr>\n",
       "    <tr>\n",
       "      <th>2</th>\n",
       "      <td>0003_01</td>\n",
       "      <td>2</td>\n",
       "      <td>0</td>\n",
       "      <td>0</td>\n",
       "      <td>3</td>\n",
       "      <td>58</td>\n",
       "      <td>1</td>\n",
       "      <td>3.78419</td>\n",
       "      <td>8.182280</td>\n",
       "      <td>0.000000</td>\n",
       "      <td>8.812248</td>\n",
       "      <td>3.912023</td>\n",
       "      <td>Altark Susent</td>\n",
       "      <td>0</td>\n",
       "      <td>0</td>\n",
       "      <td>1</td>\n",
       "    </tr>\n",
       "  </tbody>\n",
       "</table>\n",
       "</div>"
      ],
      "text/plain": [
       "  PassengerId  HomePlanet  CryoSleep  Cabin  Destination  Age  VIP  \\\n",
       "0     0001_01           2          0      0            3   39    0   \n",
       "1     0002_01           1          0      0            3   24    0   \n",
       "2     0003_01           2          0      0            3   58    1   \n",
       "\n",
       "   RoomService  FoodCourt  ShoppingMall       Spa    VRDeck             Name  \\\n",
       "0      0.00000   0.000000      0.000000  0.000000  0.000000  Maham Ofracculy   \n",
       "1      4.70048   2.302585      3.258097  6.309918  3.806662     Juanna Vines   \n",
       "2      3.78419   8.182280      0.000000  8.812248  3.912023    Altark Susent   \n",
       "\n",
       "   Transported  Port  Place  \n",
       "0            0     1      2  \n",
       "1            1     0      6  \n",
       "2            0     0      1  "
      ]
     },
     "execution_count": 18,
     "metadata": {},
     "output_type": "execute_result"
    }
   ],
   "source": [
    "#Port or Starboard of the cabins\n",
    "df['Port'] = df['Cabin'].str.split('/').str[-1]\n",
    "df['Port'].replace('S', 0, inplace=True)\n",
    "df['Port'].replace('P', 1, inplace=True)\n",
    "\n",
    "#Class of the cabins\n",
    "df['Place'] = df['Cabin'].str.split('/').str[0]\n",
    "letter_to_int = {'A': 1, 'B': 2, 'C': 3, 'D': 4, 'E': 5, 'F': 6, 'G': 7, 'T': 8}\n",
    "df['Place'] = df['Place'].map(letter_to_int)\n",
    "\n",
    "\n",
    "#Number of cabins\n",
    "df['Cabin'] = df['Cabin'].str.split('/').str[1]\n",
    "df['Cabin'] = df['Cabin'].astype('Int64')\n",
    "df.head(3)"
   ]
  },
  {
   "cell_type": "code",
   "execution_count": 19,
   "id": "b0d28058",
   "metadata": {
    "execution": {
     "iopub.execute_input": "2023-11-30T19:48:52.719281Z",
     "iopub.status.busy": "2023-11-30T19:48:52.718531Z",
     "iopub.status.idle": "2023-11-30T19:48:52.722386Z",
     "shell.execute_reply": "2023-11-30T19:48:52.721627Z"
    },
    "papermill": {
     "duration": 0.019114,
     "end_time": "2023-11-30T19:48:52.724557",
     "exception": false,
     "start_time": "2023-11-30T19:48:52.705443",
     "status": "completed"
    },
    "tags": []
   },
   "outputs": [],
   "source": [
    "# ids_groups = np.array([i.split(\"_\") for i in df.PassengerId.values])\n",
    "# unique_groups = np.unique(ids_groups[:,0])\n",
    "# group_status = dict()\n",
    "# for i in unique_groups:\n",
    "#     passeng = ids_groups[ids_groups[:,0]==i]\n",
    "#     for j in range(len(passeng)):\n",
    "#         group_status[\"_\".join(passeng[j])]=int(len(passeng)>1)"
   ]
  },
  {
   "cell_type": "code",
   "execution_count": 20,
   "id": "3d51891e",
   "metadata": {
    "execution": {
     "iopub.execute_input": "2023-11-30T19:48:52.750730Z",
     "iopub.status.busy": "2023-11-30T19:48:52.749827Z",
     "iopub.status.idle": "2023-11-30T19:48:52.754840Z",
     "shell.execute_reply": "2023-11-30T19:48:52.753575Z"
    },
    "papermill": {
     "duration": 0.020978,
     "end_time": "2023-11-30T19:48:52.757414",
     "exception": false,
     "start_time": "2023-11-30T19:48:52.736436",
     "status": "completed"
    },
    "tags": []
   },
   "outputs": [],
   "source": [
    "# #Lastnames\n",
    "# df['LastName'] = df['Name'].str.split(' ').str[-1]\n",
    "\n",
    "# #Guessing Families\n",
    "# df['FamilyId'] = df['PassengerId'].apply(lambda x: x.split('_')[0])\n",
    "# #\n",
    "# ids_groups = np.array([i.split(\"_\") for i in df.PassengerId.values])\n",
    "# # unique_groups = np.unique(ids_groups[:,0])\n",
    "# df['GroupID'] = df.groupby(ids_groups[:,0]).ngroup()\n",
    "# df.info()"
   ]
  },
  {
   "cell_type": "code",
   "execution_count": 21,
   "id": "2c1882d7",
   "metadata": {
    "execution": {
     "iopub.execute_input": "2023-11-30T19:48:52.784650Z",
     "iopub.status.busy": "2023-11-30T19:48:52.784268Z",
     "iopub.status.idle": "2023-11-30T19:48:52.788714Z",
     "shell.execute_reply": "2023-11-30T19:48:52.787638Z"
    },
    "papermill": {
     "duration": 0.02086,
     "end_time": "2023-11-30T19:48:52.791082",
     "exception": false,
     "start_time": "2023-11-30T19:48:52.770222",
     "status": "completed"
    },
    "tags": []
   },
   "outputs": [],
   "source": [
    "# mids = sum(df[df.CryoSleep == 0].Non_Spender)\n",
    "# totalAwake = sum(df.CryoSleep == 0)\n",
    "# awakeTransported = sum(df[df.CryoSleep == 0].Transported)\n",
    "# awakeMidTransported = sum(df[(df['CryoSleep'] == 0) & (df['Age'] < 15))]['Transported'])\n",
    "# print(mids/totalAwake,awakeTransported/totalAwake, awakeMidTransported / totalAwake, awakeMidTransported / mids)\n",
    "# print(sum(df[df.Age < 15].CryoSleep == 0))"
   ]
  },
  {
   "cell_type": "code",
   "execution_count": 22,
   "id": "31175bb2",
   "metadata": {
    "execution": {
     "iopub.execute_input": "2023-11-30T19:48:52.820349Z",
     "iopub.status.busy": "2023-11-30T19:48:52.819446Z",
     "iopub.status.idle": "2023-11-30T19:48:52.825591Z",
     "shell.execute_reply": "2023-11-30T19:48:52.823677Z"
    },
    "papermill": {
     "duration": 0.024757,
     "end_time": "2023-11-30T19:48:52.828111",
     "exception": false,
     "start_time": "2023-11-30T19:48:52.803354",
     "status": "completed"
    },
    "tags": []
   },
   "outputs": [],
   "source": [
    "# age = 10\n",
    "# print('less than:',age,'years: ', sum(df[df.Age < age].Transported),sum(df.Age < age))\n",
    "# print('higher than:',age,'years: ', sum(df[df.Age > age].Transported),sum(df.Age > age))"
   ]
  },
  {
   "cell_type": "code",
   "execution_count": 23,
   "id": "14b4c6b6",
   "metadata": {
    "execution": {
     "iopub.execute_input": "2023-11-30T19:48:52.854455Z",
     "iopub.status.busy": "2023-11-30T19:48:52.854094Z",
     "iopub.status.idle": "2023-11-30T19:48:52.875518Z",
     "shell.execute_reply": "2023-11-30T19:48:52.873252Z"
    },
    "papermill": {
     "duration": 0.03786,
     "end_time": "2023-11-30T19:48:52.878186",
     "exception": false,
     "start_time": "2023-11-30T19:48:52.840326",
     "status": "completed"
    },
    "tags": []
   },
   "outputs": [
    {
     "data": {
      "text/html": [
       "<div>\n",
       "<style scoped>\n",
       "    .dataframe tbody tr th:only-of-type {\n",
       "        vertical-align: middle;\n",
       "    }\n",
       "\n",
       "    .dataframe tbody tr th {\n",
       "        vertical-align: top;\n",
       "    }\n",
       "\n",
       "    .dataframe thead th {\n",
       "        text-align: right;\n",
       "    }\n",
       "</style>\n",
       "<table border=\"1\" class=\"dataframe\">\n",
       "  <thead>\n",
       "    <tr style=\"text-align: right;\">\n",
       "      <th></th>\n",
       "      <th>HomePlanet</th>\n",
       "      <th>CryoSleep</th>\n",
       "      <th>Cabin</th>\n",
       "      <th>Destination</th>\n",
       "      <th>Age</th>\n",
       "      <th>VIP</th>\n",
       "      <th>RoomService</th>\n",
       "      <th>FoodCourt</th>\n",
       "      <th>ShoppingMall</th>\n",
       "      <th>Spa</th>\n",
       "      <th>VRDeck</th>\n",
       "      <th>Port</th>\n",
       "      <th>Place</th>\n",
       "    </tr>\n",
       "  </thead>\n",
       "  <tbody>\n",
       "    <tr>\n",
       "      <th>0</th>\n",
       "      <td>2</td>\n",
       "      <td>0</td>\n",
       "      <td>0</td>\n",
       "      <td>3</td>\n",
       "      <td>39</td>\n",
       "      <td>0</td>\n",
       "      <td>0.00000</td>\n",
       "      <td>0.000000</td>\n",
       "      <td>0.000000</td>\n",
       "      <td>0.000000</td>\n",
       "      <td>0.000000</td>\n",
       "      <td>1</td>\n",
       "      <td>2</td>\n",
       "    </tr>\n",
       "    <tr>\n",
       "      <th>1</th>\n",
       "      <td>1</td>\n",
       "      <td>0</td>\n",
       "      <td>0</td>\n",
       "      <td>3</td>\n",
       "      <td>24</td>\n",
       "      <td>0</td>\n",
       "      <td>4.70048</td>\n",
       "      <td>2.302585</td>\n",
       "      <td>3.258097</td>\n",
       "      <td>6.309918</td>\n",
       "      <td>3.806662</td>\n",
       "      <td>0</td>\n",
       "      <td>6</td>\n",
       "    </tr>\n",
       "    <tr>\n",
       "      <th>2</th>\n",
       "      <td>2</td>\n",
       "      <td>0</td>\n",
       "      <td>0</td>\n",
       "      <td>3</td>\n",
       "      <td>58</td>\n",
       "      <td>1</td>\n",
       "      <td>3.78419</td>\n",
       "      <td>8.182280</td>\n",
       "      <td>0.000000</td>\n",
       "      <td>8.812248</td>\n",
       "      <td>3.912023</td>\n",
       "      <td>0</td>\n",
       "      <td>1</td>\n",
       "    </tr>\n",
       "  </tbody>\n",
       "</table>\n",
       "</div>"
      ],
      "text/plain": [
       "   HomePlanet  CryoSleep  Cabin  Destination  Age  VIP  RoomService  \\\n",
       "0           2          0      0            3   39    0      0.00000   \n",
       "1           1          0      0            3   24    0      4.70048   \n",
       "2           2          0      0            3   58    1      3.78419   \n",
       "\n",
       "   FoodCourt  ShoppingMall       Spa    VRDeck  Port  Place  \n",
       "0   0.000000      0.000000  0.000000  0.000000     1      2  \n",
       "1   2.302585      3.258097  6.309918  3.806662     0      6  \n",
       "2   8.182280      0.000000  8.812248  3.912023     0      1  "
      ]
     },
     "execution_count": 23,
     "metadata": {},
     "output_type": "execute_result"
    }
   ],
   "source": [
    "newtrainDF = df\n",
    "ids = newtrainDF['PassengerId'].copy()\n",
    "transporteds = newtrainDF['Transported'].copy()\n",
    "newtrainDF = newtrainDF.drop(columns=['PassengerId','Name','Transported'])\n",
    "newtrainDF.head(3)"
   ]
  },
  {
   "cell_type": "code",
   "execution_count": 24,
   "id": "6dceaa7d",
   "metadata": {
    "execution": {
     "iopub.execute_input": "2023-11-30T19:48:52.903695Z",
     "iopub.status.busy": "2023-11-30T19:48:52.903379Z",
     "iopub.status.idle": "2023-11-30T19:48:52.917004Z",
     "shell.execute_reply": "2023-11-30T19:48:52.915560Z"
    },
    "papermill": {
     "duration": 0.02863,
     "end_time": "2023-11-30T19:48:52.918907",
     "exception": false,
     "start_time": "2023-11-30T19:48:52.890277",
     "status": "completed"
    },
    "tags": []
   },
   "outputs": [
    {
     "name": "stdout",
     "output_type": "stream",
     "text": [
      "<class 'pandas.core.frame.DataFrame'>\n",
      "RangeIndex: 8693 entries, 0 to 8692\n",
      "Data columns (total 13 columns):\n",
      " #   Column        Non-Null Count  Dtype  \n",
      "---  ------        --------------  -----  \n",
      " 0   HomePlanet    8693 non-null   Int64  \n",
      " 1   CryoSleep     8693 non-null   int64  \n",
      " 2   Cabin         8693 non-null   Int64  \n",
      " 3   Destination   8693 non-null   Int64  \n",
      " 4   Age           8693 non-null   Int64  \n",
      " 5   VIP           8693 non-null   int64  \n",
      " 6   RoomService   8693 non-null   float64\n",
      " 7   FoodCourt     8693 non-null   float64\n",
      " 8   ShoppingMall  8693 non-null   float64\n",
      " 9   Spa           8693 non-null   float64\n",
      " 10  VRDeck        8693 non-null   float64\n",
      " 11  Port          8693 non-null   int64  \n",
      " 12  Place         8693 non-null   int64  \n",
      "dtypes: Int64(4), float64(5), int64(4)\n",
      "memory usage: 917.0 KB\n"
     ]
    }
   ],
   "source": [
    "newtrainDF.info()"
   ]
  },
  {
   "cell_type": "code",
   "execution_count": 25,
   "id": "32f9358d",
   "metadata": {
    "execution": {
     "iopub.execute_input": "2023-11-30T19:48:52.944565Z",
     "iopub.status.busy": "2023-11-30T19:48:52.944000Z",
     "iopub.status.idle": "2023-11-30T19:48:52.949305Z",
     "shell.execute_reply": "2023-11-30T19:48:52.948395Z"
    },
    "papermill": {
     "duration": 0.020589,
     "end_time": "2023-11-30T19:48:52.951243",
     "exception": false,
     "start_time": "2023-11-30T19:48:52.930654",
     "status": "completed"
    },
    "tags": []
   },
   "outputs": [],
   "source": [
    "# from sklearn.model_selection import train_test_split\n",
    "# X_train, X_test, y_train, y_test = train_test_split(newtrainDF.drop('Transported',axis=1), \n",
    "#                                                   df['Transported'], test_size=0.30, \n",
    "#                                                     random_state=101)\n",
    "# newtrainDF.head(1)"
   ]
  },
  {
   "cell_type": "code",
   "execution_count": 26,
   "id": "d7a74b3e",
   "metadata": {
    "execution": {
     "iopub.execute_input": "2023-11-30T19:48:52.978194Z",
     "iopub.status.busy": "2023-11-30T19:48:52.977836Z",
     "iopub.status.idle": "2023-11-30T19:48:54.193769Z",
     "shell.execute_reply": "2023-11-30T19:48:54.192903Z"
    },
    "papermill": {
     "duration": 1.231528,
     "end_time": "2023-11-30T19:48:54.195654",
     "exception": false,
     "start_time": "2023-11-30T19:48:52.964126",
     "status": "completed"
    },
    "tags": []
   },
   "outputs": [
    {
     "data": {
      "text/html": [
       "<style>#sk-container-id-1 {color: black;background-color: white;}#sk-container-id-1 pre{padding: 0;}#sk-container-id-1 div.sk-toggleable {background-color: white;}#sk-container-id-1 label.sk-toggleable__label {cursor: pointer;display: block;width: 100%;margin-bottom: 0;padding: 0.3em;box-sizing: border-box;text-align: center;}#sk-container-id-1 label.sk-toggleable__label-arrow:before {content: \"▸\";float: left;margin-right: 0.25em;color: #696969;}#sk-container-id-1 label.sk-toggleable__label-arrow:hover:before {color: black;}#sk-container-id-1 div.sk-estimator:hover label.sk-toggleable__label-arrow:before {color: black;}#sk-container-id-1 div.sk-toggleable__content {max-height: 0;max-width: 0;overflow: hidden;text-align: left;background-color: #f0f8ff;}#sk-container-id-1 div.sk-toggleable__content pre {margin: 0.2em;color: black;border-radius: 0.25em;background-color: #f0f8ff;}#sk-container-id-1 input.sk-toggleable__control:checked~div.sk-toggleable__content {max-height: 200px;max-width: 100%;overflow: auto;}#sk-container-id-1 input.sk-toggleable__control:checked~label.sk-toggleable__label-arrow:before {content: \"▾\";}#sk-container-id-1 div.sk-estimator input.sk-toggleable__control:checked~label.sk-toggleable__label {background-color: #d4ebff;}#sk-container-id-1 div.sk-label input.sk-toggleable__control:checked~label.sk-toggleable__label {background-color: #d4ebff;}#sk-container-id-1 input.sk-hidden--visually {border: 0;clip: rect(1px 1px 1px 1px);clip: rect(1px, 1px, 1px, 1px);height: 1px;margin: -1px;overflow: hidden;padding: 0;position: absolute;width: 1px;}#sk-container-id-1 div.sk-estimator {font-family: monospace;background-color: #f0f8ff;border: 1px dotted black;border-radius: 0.25em;box-sizing: border-box;margin-bottom: 0.5em;}#sk-container-id-1 div.sk-estimator:hover {background-color: #d4ebff;}#sk-container-id-1 div.sk-parallel-item::after {content: \"\";width: 100%;border-bottom: 1px solid gray;flex-grow: 1;}#sk-container-id-1 div.sk-label:hover label.sk-toggleable__label {background-color: #d4ebff;}#sk-container-id-1 div.sk-serial::before {content: \"\";position: absolute;border-left: 1px solid gray;box-sizing: border-box;top: 0;bottom: 0;left: 50%;z-index: 0;}#sk-container-id-1 div.sk-serial {display: flex;flex-direction: column;align-items: center;background-color: white;padding-right: 0.2em;padding-left: 0.2em;position: relative;}#sk-container-id-1 div.sk-item {position: relative;z-index: 1;}#sk-container-id-1 div.sk-parallel {display: flex;align-items: stretch;justify-content: center;background-color: white;position: relative;}#sk-container-id-1 div.sk-item::before, #sk-container-id-1 div.sk-parallel-item::before {content: \"\";position: absolute;border-left: 1px solid gray;box-sizing: border-box;top: 0;bottom: 0;left: 50%;z-index: -1;}#sk-container-id-1 div.sk-parallel-item {display: flex;flex-direction: column;z-index: 1;position: relative;background-color: white;}#sk-container-id-1 div.sk-parallel-item:first-child::after {align-self: flex-end;width: 50%;}#sk-container-id-1 div.sk-parallel-item:last-child::after {align-self: flex-start;width: 50%;}#sk-container-id-1 div.sk-parallel-item:only-child::after {width: 0;}#sk-container-id-1 div.sk-dashed-wrapped {border: 1px dashed gray;margin: 0 0.4em 0.5em 0.4em;box-sizing: border-box;padding-bottom: 0.4em;background-color: white;}#sk-container-id-1 div.sk-label label {font-family: monospace;font-weight: bold;display: inline-block;line-height: 1.2em;}#sk-container-id-1 div.sk-label-container {text-align: center;}#sk-container-id-1 div.sk-container {/* jupyter's `normalize.less` sets `[hidden] { display: none; }` but bootstrap.min.css set `[hidden] { display: none !important; }` so we also need the `!important` here to be able to override the default hidden behavior on the sphinx rendered scikit-learn.org. See: https://github.com/scikit-learn/scikit-learn/issues/21755 */display: inline-block !important;position: relative;}#sk-container-id-1 div.sk-text-repr-fallback {display: none;}</style><div id=\"sk-container-id-1\" class=\"sk-top-container\"><div class=\"sk-text-repr-fallback\"><pre>LogisticRegression(max_iter=10000)</pre><b>In a Jupyter environment, please rerun this cell to show the HTML representation or trust the notebook. <br />On GitHub, the HTML representation is unable to render, please try loading this page with nbviewer.org.</b></div><div class=\"sk-container\" hidden><div class=\"sk-item\"><div class=\"sk-estimator sk-toggleable\"><input class=\"sk-toggleable__control sk-hidden--visually\" id=\"sk-estimator-id-1\" type=\"checkbox\" checked><label for=\"sk-estimator-id-1\" class=\"sk-toggleable__label sk-toggleable__label-arrow\">LogisticRegression</label><div class=\"sk-toggleable__content\"><pre>LogisticRegression(max_iter=10000)</pre></div></div></div></div></div>"
      ],
      "text/plain": [
       "LogisticRegression(max_iter=10000)"
      ]
     },
     "execution_count": 26,
     "metadata": {},
     "output_type": "execute_result"
    }
   ],
   "source": [
    "from sklearn.linear_model import LogisticRegression\n",
    "logmodel = LogisticRegression(max_iter=10000)\n",
    "logmodel.fit(newtrainDF, transporteds)"
   ]
  },
  {
   "cell_type": "code",
   "execution_count": 27,
   "id": "29657ded",
   "metadata": {
    "execution": {
     "iopub.execute_input": "2023-11-30T19:48:54.230465Z",
     "iopub.status.busy": "2023-11-30T19:48:54.230044Z",
     "iopub.status.idle": "2023-11-30T19:48:54.273707Z",
     "shell.execute_reply": "2023-11-30T19:48:54.272974Z"
    },
    "papermill": {
     "duration": 0.063354,
     "end_time": "2023-11-30T19:48:54.275945",
     "exception": false,
     "start_time": "2023-11-30T19:48:54.212591",
     "status": "completed"
    },
    "tags": []
   },
   "outputs": [
    {
     "name": "stdout",
     "output_type": "stream",
     "text": [
      "<class 'pandas.core.frame.DataFrame'>\n",
      "RangeIndex: 4277 entries, 0 to 4276\n",
      "Data columns (total 13 columns):\n",
      " #   Column        Non-Null Count  Dtype  \n",
      "---  ------        --------------  -----  \n",
      " 0   PassengerId   4277 non-null   object \n",
      " 1   HomePlanet    4190 non-null   object \n",
      " 2   CryoSleep     4184 non-null   object \n",
      " 3   Cabin         4177 non-null   object \n",
      " 4   Destination   4185 non-null   object \n",
      " 5   Age           4186 non-null   float64\n",
      " 6   VIP           4184 non-null   object \n",
      " 7   RoomService   4195 non-null   float64\n",
      " 8   FoodCourt     4171 non-null   float64\n",
      " 9   ShoppingMall  4179 non-null   float64\n",
      " 10  Spa           4176 non-null   float64\n",
      " 11  VRDeck        4197 non-null   float64\n",
      " 12  Name          4183 non-null   object \n",
      "dtypes: float64(6), object(7)\n",
      "memory usage: 434.5+ KB\n"
     ]
    }
   ],
   "source": [
    "df_test = pd.read_csv(\"/kaggle/input/spaceship-titanic/test.csv\")\n",
    "ids_test = df_test['PassengerId'].copy()\n",
    "# # Removing NANs\n",
    "# df_test[\"CryoSleep\"].fillna(df_test[\"CryoSleep\"].mode()[0],inplace=True)\n",
    "# df_test[\"Age\"].fillna(df_test[\"Age\"].mean(),inplace=True)\n",
    "# df_test[\"RoomService\"].fillna(df_test[\"RoomService\"].mean(),inplace=True)\n",
    "# df_test[\"FoodCourt\"].fillna(df_test[\"FoodCourt\"].mean(),inplace=True)\n",
    "# df_test[\"ShoppingMall\"].fillna(df_test[\"ShoppingMall\"].mean(),inplace=True)\n",
    "# df_test[\"Spa\"].fillna(df_test[\"Spa\"].mean(),inplace=True)\n",
    "# df_test[\"VRDeck\"].fillna(df_test[\"VRDeck\"].mean(),inplace=True)\n",
    "# df_test.VIP = np.where(df_test.VIP,1,0)\n",
    "# df_test.CryoSleep = np.where(df_test.CryoSleep,1,0)\n",
    "# df_test = df_test.drop([\"Name\",\"HomePlanet\",\"Destination\",\"Cabin\"], axis='columns')\n",
    "df_test.info()"
   ]
  },
  {
   "cell_type": "code",
   "execution_count": 28,
   "id": "5a454a30",
   "metadata": {
    "execution": {
     "iopub.execute_input": "2023-11-30T19:48:54.308446Z",
     "iopub.status.busy": "2023-11-30T19:48:54.308099Z",
     "iopub.status.idle": "2023-11-30T19:48:54.336926Z",
     "shell.execute_reply": "2023-11-30T19:48:54.336136Z"
    },
    "papermill": {
     "duration": 0.046502,
     "end_time": "2023-11-30T19:48:54.339294",
     "exception": false,
     "start_time": "2023-11-30T19:48:54.292792",
     "status": "completed"
    },
    "tags": []
   },
   "outputs": [
    {
     "data": {
      "text/html": [
       "<div>\n",
       "<style scoped>\n",
       "    .dataframe tbody tr th:only-of-type {\n",
       "        vertical-align: middle;\n",
       "    }\n",
       "\n",
       "    .dataframe tbody tr th {\n",
       "        vertical-align: top;\n",
       "    }\n",
       "\n",
       "    .dataframe thead th {\n",
       "        text-align: right;\n",
       "    }\n",
       "</style>\n",
       "<table border=\"1\" class=\"dataframe\">\n",
       "  <thead>\n",
       "    <tr style=\"text-align: right;\">\n",
       "      <th></th>\n",
       "      <th>PassengerId</th>\n",
       "      <th>HomePlanet</th>\n",
       "      <th>CryoSleep</th>\n",
       "      <th>Cabin</th>\n",
       "      <th>Destination</th>\n",
       "      <th>Age</th>\n",
       "      <th>VIP</th>\n",
       "      <th>RoomService</th>\n",
       "      <th>FoodCourt</th>\n",
       "      <th>ShoppingMall</th>\n",
       "      <th>Spa</th>\n",
       "      <th>VRDeck</th>\n",
       "      <th>Name</th>\n",
       "    </tr>\n",
       "  </thead>\n",
       "  <tbody>\n",
       "    <tr>\n",
       "      <th>0</th>\n",
       "      <td>0013_01</td>\n",
       "      <td>1.0</td>\n",
       "      <td>1.0</td>\n",
       "      <td>G/3/S</td>\n",
       "      <td>3.0</td>\n",
       "      <td>27.0</td>\n",
       "      <td>0</td>\n",
       "      <td>0.0</td>\n",
       "      <td>0.0</td>\n",
       "      <td>0.0</td>\n",
       "      <td>0.0</td>\n",
       "      <td>0.0</td>\n",
       "      <td>Nelly Carsoning</td>\n",
       "    </tr>\n",
       "    <tr>\n",
       "      <th>1</th>\n",
       "      <td>0018_01</td>\n",
       "      <td>1.0</td>\n",
       "      <td>0.0</td>\n",
       "      <td>F/4/S</td>\n",
       "      <td>3.0</td>\n",
       "      <td>19.0</td>\n",
       "      <td>0</td>\n",
       "      <td>0.0</td>\n",
       "      <td>9.0</td>\n",
       "      <td>0.0</td>\n",
       "      <td>2823.0</td>\n",
       "      <td>0.0</td>\n",
       "      <td>Lerome Peckers</td>\n",
       "    </tr>\n",
       "    <tr>\n",
       "      <th>2</th>\n",
       "      <td>0019_01</td>\n",
       "      <td>2.0</td>\n",
       "      <td>1.0</td>\n",
       "      <td>C/0/S</td>\n",
       "      <td>1.0</td>\n",
       "      <td>31.0</td>\n",
       "      <td>1</td>\n",
       "      <td>0.0</td>\n",
       "      <td>0.0</td>\n",
       "      <td>0.0</td>\n",
       "      <td>0.0</td>\n",
       "      <td>0.0</td>\n",
       "      <td>Sabih Unhearfus</td>\n",
       "    </tr>\n",
       "  </tbody>\n",
       "</table>\n",
       "</div>"
      ],
      "text/plain": [
       "  PassengerId  HomePlanet  CryoSleep  Cabin  Destination   Age  VIP  \\\n",
       "0     0013_01         1.0        1.0  G/3/S          3.0  27.0    0   \n",
       "1     0018_01         1.0        0.0  F/4/S          3.0  19.0    0   \n",
       "2     0019_01         2.0        1.0  C/0/S          1.0  31.0    1   \n",
       "\n",
       "   RoomService  FoodCourt  ShoppingMall     Spa  VRDeck             Name  \n",
       "0          0.0        0.0           0.0     0.0     0.0  Nelly Carsoning  \n",
       "1          0.0        9.0           0.0  2823.0     0.0   Lerome Peckers  \n",
       "2          0.0        0.0           0.0     0.0     0.0  Sabih Unhearfus  "
      ]
     },
     "execution_count": 28,
     "metadata": {},
     "output_type": "execute_result"
    }
   ],
   "source": [
    "#CryoSleep\n",
    "df_test['CryoSleep'] = df_test['CryoSleep'].replace({True: 1, False: 0})\n",
    "#HomePlanet\n",
    "df_test['HomePlanet'].replace('Earth', 1, inplace=True)\n",
    "df_test['HomePlanet'].replace('Europa', 2, inplace=True)\n",
    "df_test['HomePlanet'].replace('Mars', 3, inplace=True)\n",
    "#Destination\n",
    "df_test['Destination'].replace('55 Cancri e', 1, inplace=True)\n",
    "df_test['Destination'].replace('PSO J318.5-22', 2, inplace=True)\n",
    "df_test['Destination'].replace('TRAPPIST-1e', 3, inplace=True)\n",
    "df_test['VIP'] = df['VIP'].replace({True: 1, False: 0})\n",
    "df_test.head(3)"
   ]
  },
  {
   "cell_type": "code",
   "execution_count": 29,
   "id": "d9aea286",
   "metadata": {
    "execution": {
     "iopub.execute_input": "2023-11-30T19:48:54.365967Z",
     "iopub.status.busy": "2023-11-30T19:48:54.365573Z",
     "iopub.status.idle": "2023-11-30T19:48:54.497014Z",
     "shell.execute_reply": "2023-11-30T19:48:54.495638Z"
    },
    "papermill": {
     "duration": 0.147509,
     "end_time": "2023-11-30T19:48:54.499396",
     "exception": false,
     "start_time": "2023-11-30T19:48:54.351887",
     "status": "completed"
    },
    "tags": []
   },
   "outputs": [
    {
     "data": {
      "text/html": [
       "<div>\n",
       "<style scoped>\n",
       "    .dataframe tbody tr th:only-of-type {\n",
       "        vertical-align: middle;\n",
       "    }\n",
       "\n",
       "    .dataframe tbody tr th {\n",
       "        vertical-align: top;\n",
       "    }\n",
       "\n",
       "    .dataframe thead th {\n",
       "        text-align: right;\n",
       "    }\n",
       "</style>\n",
       "<table border=\"1\" class=\"dataframe\">\n",
       "  <thead>\n",
       "    <tr style=\"text-align: right;\">\n",
       "      <th></th>\n",
       "      <th>PassengerId</th>\n",
       "      <th>HomePlanet</th>\n",
       "      <th>CryoSleep</th>\n",
       "      <th>Cabin</th>\n",
       "      <th>Destination</th>\n",
       "      <th>Age</th>\n",
       "      <th>VIP</th>\n",
       "      <th>RoomService</th>\n",
       "      <th>FoodCourt</th>\n",
       "      <th>ShoppingMall</th>\n",
       "      <th>Spa</th>\n",
       "      <th>VRDeck</th>\n",
       "      <th>Name</th>\n",
       "      <th>Port</th>\n",
       "      <th>Place</th>\n",
       "    </tr>\n",
       "  </thead>\n",
       "  <tbody>\n",
       "    <tr>\n",
       "      <th>0</th>\n",
       "      <td>0013_01</td>\n",
       "      <td>1.0</td>\n",
       "      <td>1.0</td>\n",
       "      <td>3</td>\n",
       "      <td>3.0</td>\n",
       "      <td>27.0</td>\n",
       "      <td>0</td>\n",
       "      <td>0.0</td>\n",
       "      <td>0.0</td>\n",
       "      <td>0.0</td>\n",
       "      <td>0.0</td>\n",
       "      <td>0.0</td>\n",
       "      <td>Nelly Carsoning</td>\n",
       "      <td>0.0</td>\n",
       "      <td>7.0</td>\n",
       "    </tr>\n",
       "    <tr>\n",
       "      <th>1</th>\n",
       "      <td>0018_01</td>\n",
       "      <td>1.0</td>\n",
       "      <td>0.0</td>\n",
       "      <td>4</td>\n",
       "      <td>3.0</td>\n",
       "      <td>19.0</td>\n",
       "      <td>0</td>\n",
       "      <td>0.0</td>\n",
       "      <td>9.0</td>\n",
       "      <td>0.0</td>\n",
       "      <td>2823.0</td>\n",
       "      <td>0.0</td>\n",
       "      <td>Lerome Peckers</td>\n",
       "      <td>0.0</td>\n",
       "      <td>6.0</td>\n",
       "    </tr>\n",
       "    <tr>\n",
       "      <th>2</th>\n",
       "      <td>0019_01</td>\n",
       "      <td>2.0</td>\n",
       "      <td>1.0</td>\n",
       "      <td>0</td>\n",
       "      <td>1.0</td>\n",
       "      <td>31.0</td>\n",
       "      <td>1</td>\n",
       "      <td>0.0</td>\n",
       "      <td>0.0</td>\n",
       "      <td>0.0</td>\n",
       "      <td>0.0</td>\n",
       "      <td>0.0</td>\n",
       "      <td>Sabih Unhearfus</td>\n",
       "      <td>0.0</td>\n",
       "      <td>3.0</td>\n",
       "    </tr>\n",
       "  </tbody>\n",
       "</table>\n",
       "</div>"
      ],
      "text/plain": [
       "  PassengerId  HomePlanet  CryoSleep  Cabin  Destination   Age  VIP  \\\n",
       "0     0013_01         1.0        1.0      3          3.0  27.0    0   \n",
       "1     0018_01         1.0        0.0      4          3.0  19.0    0   \n",
       "2     0019_01         2.0        1.0      0          1.0  31.0    1   \n",
       "\n",
       "   RoomService  FoodCourt  ShoppingMall     Spa  VRDeck             Name  \\\n",
       "0          0.0        0.0           0.0     0.0     0.0  Nelly Carsoning   \n",
       "1          0.0        9.0           0.0  2823.0     0.0   Lerome Peckers   \n",
       "2          0.0        0.0           0.0     0.0     0.0  Sabih Unhearfus   \n",
       "\n",
       "   Port  Place  \n",
       "0   0.0    7.0  \n",
       "1   0.0    6.0  \n",
       "2   0.0    3.0  "
      ]
     },
     "execution_count": 29,
     "metadata": {},
     "output_type": "execute_result"
    }
   ],
   "source": [
    "#Port or Starboard of the cabins\n",
    "df_test['Port'] = df_test['Cabin'].str.split('/').str[-1]\n",
    "df_test['Port'].replace('S', 0, inplace=True)\n",
    "df_test['Port'].replace('P', 1, inplace=True)\n",
    "\n",
    "#Class of the cabins\n",
    "df_test['Place'] = df_test['Cabin'].str.split('/').str[0]\n",
    "letter_to_int = {'A': 1, 'B': 2, 'C': 3, 'D': 4, 'E': 5, 'F': 6, 'G': 7, 'T': 8}\n",
    "df_test['Place'] = df_test['Place'].map(letter_to_int)\n",
    "\n",
    "\n",
    "#Number of cabins\n",
    "df_test['Cabin'] = df_test['Cabin'].str.split('/').str[1]\n",
    "df_test['Cabin'] = df_test['Cabin'].astype('Int64')\n",
    "df_test.head(3)"
   ]
  },
  {
   "cell_type": "code",
   "execution_count": 30,
   "id": "a6189566",
   "metadata": {
    "execution": {
     "iopub.execute_input": "2023-11-30T19:48:54.526199Z",
     "iopub.status.busy": "2023-11-30T19:48:54.525607Z",
     "iopub.status.idle": "2023-11-30T19:48:54.555218Z",
     "shell.execute_reply": "2023-11-30T19:48:54.554077Z"
    },
    "papermill": {
     "duration": 0.046651,
     "end_time": "2023-11-30T19:48:54.558688",
     "exception": false,
     "start_time": "2023-11-30T19:48:54.512037",
     "status": "completed"
    },
    "tags": []
   },
   "outputs": [
    {
     "data": {
      "text/html": [
       "<div>\n",
       "<style scoped>\n",
       "    .dataframe tbody tr th:only-of-type {\n",
       "        vertical-align: middle;\n",
       "    }\n",
       "\n",
       "    .dataframe tbody tr th {\n",
       "        vertical-align: top;\n",
       "    }\n",
       "\n",
       "    .dataframe thead th {\n",
       "        text-align: right;\n",
       "    }\n",
       "</style>\n",
       "<table border=\"1\" class=\"dataframe\">\n",
       "  <thead>\n",
       "    <tr style=\"text-align: right;\">\n",
       "      <th></th>\n",
       "      <th>PassengerId</th>\n",
       "      <th>HomePlanet</th>\n",
       "      <th>CryoSleep</th>\n",
       "      <th>Cabin</th>\n",
       "      <th>Destination</th>\n",
       "      <th>Age</th>\n",
       "      <th>VIP</th>\n",
       "      <th>RoomService</th>\n",
       "      <th>FoodCourt</th>\n",
       "      <th>ShoppingMall</th>\n",
       "      <th>Spa</th>\n",
       "      <th>VRDeck</th>\n",
       "      <th>Name</th>\n",
       "      <th>Port</th>\n",
       "      <th>Place</th>\n",
       "    </tr>\n",
       "  </thead>\n",
       "  <tbody>\n",
       "    <tr>\n",
       "      <th>0</th>\n",
       "      <td>0013_01</td>\n",
       "      <td>1</td>\n",
       "      <td>1</td>\n",
       "      <td>3</td>\n",
       "      <td>3</td>\n",
       "      <td>27</td>\n",
       "      <td>0</td>\n",
       "      <td>0.0</td>\n",
       "      <td>0.0</td>\n",
       "      <td>0.0</td>\n",
       "      <td>0.0</td>\n",
       "      <td>0.0</td>\n",
       "      <td>Nelly Carsoning</td>\n",
       "      <td>0</td>\n",
       "      <td>7</td>\n",
       "    </tr>\n",
       "    <tr>\n",
       "      <th>1</th>\n",
       "      <td>0018_01</td>\n",
       "      <td>1</td>\n",
       "      <td>0</td>\n",
       "      <td>4</td>\n",
       "      <td>3</td>\n",
       "      <td>19</td>\n",
       "      <td>0</td>\n",
       "      <td>0.0</td>\n",
       "      <td>9.0</td>\n",
       "      <td>0.0</td>\n",
       "      <td>2823.0</td>\n",
       "      <td>0.0</td>\n",
       "      <td>Lerome Peckers</td>\n",
       "      <td>0</td>\n",
       "      <td>6</td>\n",
       "    </tr>\n",
       "    <tr>\n",
       "      <th>2</th>\n",
       "      <td>0019_01</td>\n",
       "      <td>2</td>\n",
       "      <td>1</td>\n",
       "      <td>0</td>\n",
       "      <td>1</td>\n",
       "      <td>31</td>\n",
       "      <td>1</td>\n",
       "      <td>0.0</td>\n",
       "      <td>0.0</td>\n",
       "      <td>0.0</td>\n",
       "      <td>0.0</td>\n",
       "      <td>0.0</td>\n",
       "      <td>Sabih Unhearfus</td>\n",
       "      <td>0</td>\n",
       "      <td>3</td>\n",
       "    </tr>\n",
       "  </tbody>\n",
       "</table>\n",
       "</div>"
      ],
      "text/plain": [
       "  PassengerId  HomePlanet  CryoSleep  Cabin  Destination  Age  VIP  \\\n",
       "0     0013_01           1          1      3            3   27    0   \n",
       "1     0018_01           1          0      4            3   19    0   \n",
       "2     0019_01           2          1      0            1   31    1   \n",
       "\n",
       "   RoomService  FoodCourt  ShoppingMall     Spa  VRDeck             Name  \\\n",
       "0          0.0        0.0           0.0     0.0     0.0  Nelly Carsoning   \n",
       "1          0.0        9.0           0.0  2823.0     0.0   Lerome Peckers   \n",
       "2          0.0        0.0           0.0     0.0     0.0  Sabih Unhearfus   \n",
       "\n",
       "   Port  Place  \n",
       "0     0      7  \n",
       "1     0      6  \n",
       "2     0      3  "
      ]
     },
     "execution_count": 30,
     "metadata": {},
     "output_type": "execute_result"
    }
   ],
   "source": [
    "df_test[['HomePlanet', 'CryoSleep', 'Destination', 'Age', 'VIP','Port','Place']] = df_test[['HomePlanet', 'CryoSleep', 'Destination', 'Age', 'VIP','Port','Place']].astype('Int64')\n",
    "df_test.head(3)"
   ]
  },
  {
   "cell_type": "code",
   "execution_count": 31,
   "id": "3eac8b01",
   "metadata": {
    "execution": {
     "iopub.execute_input": "2023-11-30T19:48:54.588206Z",
     "iopub.status.busy": "2023-11-30T19:48:54.587828Z",
     "iopub.status.idle": "2023-11-30T19:48:54.619877Z",
     "shell.execute_reply": "2023-11-30T19:48:54.618139Z"
    },
    "papermill": {
     "duration": 0.049572,
     "end_time": "2023-11-30T19:48:54.622366",
     "exception": false,
     "start_time": "2023-11-30T19:48:54.572794",
     "status": "completed"
    },
    "tags": []
   },
   "outputs": [
    {
     "name": "stdout",
     "output_type": "stream",
     "text": [
      "<class 'pandas.core.frame.DataFrame'>\n",
      "RangeIndex: 4277 entries, 0 to 4276\n",
      "Data columns (total 15 columns):\n",
      " #   Column        Non-Null Count  Dtype  \n",
      "---  ------        --------------  -----  \n",
      " 0   PassengerId   4277 non-null   object \n",
      " 1   HomePlanet    4277 non-null   Int64  \n",
      " 2   CryoSleep     4277 non-null   Int64  \n",
      " 3   Cabin         4277 non-null   Int64  \n",
      " 4   Destination   4277 non-null   Int64  \n",
      " 5   Age           4277 non-null   Int64  \n",
      " 6   VIP           4277 non-null   Int64  \n",
      " 7   RoomService   4277 non-null   float64\n",
      " 8   FoodCourt     4277 non-null   float64\n",
      " 9   ShoppingMall  4277 non-null   float64\n",
      " 10  Spa           4277 non-null   float64\n",
      " 11  VRDeck        4277 non-null   float64\n",
      " 12  Name          4277 non-null   object \n",
      " 13  Port          4277 non-null   Int64  \n",
      " 14  Place         4277 non-null   Int64  \n",
      "dtypes: Int64(8), float64(5), object(2)\n",
      "memory usage: 534.8+ KB\n"
     ]
    }
   ],
   "source": [
    "df_test[\"HomePlanet\"].fillna(df_test[\"HomePlanet\"].mode()[0],inplace=True)\n",
    "df_test[\"CryoSleep\"].fillna(df_test[\"CryoSleep\"].mode()[0],inplace=True)\n",
    "df_test[\"Cabin\"].fillna(df_test[\"Cabin\"].mode()[0],inplace=True)\n",
    "df_test[\"Destination\"].fillna(df_test[\"Destination\"].mode()[0],inplace=True)\n",
    "df_test[\"Name\"].fillna(df_test[\"Name\"].mode()[0],inplace=True)\n",
    "df_test[\"Age\"].fillna(int(df_test[\"Age\"].mean()),inplace=True)\n",
    "df_test[\"RoomService\"].fillna(df_test[\"RoomService\"].mean(),inplace=True)\n",
    "df_test[\"FoodCourt\"].fillna(df_test[\"FoodCourt\"].mean(),inplace=True)\n",
    "df_test[\"ShoppingMall\"].fillna(df_test[\"ShoppingMall\"].mean(),inplace=True)\n",
    "df_test[\"Spa\"].fillna(df_test[\"Spa\"].mean(),inplace=True)\n",
    "df_test[\"VRDeck\"].fillna(df_test[\"VRDeck\"].mean(),inplace=True)\n",
    "df_test[\"Port\"].fillna(df_test[\"Port\"].mode()[0],inplace=True)\n",
    "df_test[\"Place\"].fillna(df_test[\"Place\"].mode()[0],inplace=True)\n",
    "df_test.info()"
   ]
  },
  {
   "cell_type": "code",
   "execution_count": 32,
   "id": "5de31395",
   "metadata": {
    "execution": {
     "iopub.execute_input": "2023-11-30T19:48:54.652500Z",
     "iopub.status.busy": "2023-11-30T19:48:54.652084Z",
     "iopub.status.idle": "2023-11-30T19:48:54.671303Z",
     "shell.execute_reply": "2023-11-30T19:48:54.669937Z"
    },
    "papermill": {
     "duration": 0.037351,
     "end_time": "2023-11-30T19:48:54.673712",
     "exception": false,
     "start_time": "2023-11-30T19:48:54.636361",
     "status": "completed"
    },
    "tags": []
   },
   "outputs": [
    {
     "data": {
      "text/html": [
       "<div>\n",
       "<style scoped>\n",
       "    .dataframe tbody tr th:only-of-type {\n",
       "        vertical-align: middle;\n",
       "    }\n",
       "\n",
       "    .dataframe tbody tr th {\n",
       "        vertical-align: top;\n",
       "    }\n",
       "\n",
       "    .dataframe thead th {\n",
       "        text-align: right;\n",
       "    }\n",
       "</style>\n",
       "<table border=\"1\" class=\"dataframe\">\n",
       "  <thead>\n",
       "    <tr style=\"text-align: right;\">\n",
       "      <th></th>\n",
       "      <th>PassengerId</th>\n",
       "      <th>HomePlanet</th>\n",
       "      <th>CryoSleep</th>\n",
       "      <th>Cabin</th>\n",
       "      <th>Destination</th>\n",
       "      <th>Age</th>\n",
       "      <th>VIP</th>\n",
       "      <th>RoomService</th>\n",
       "      <th>FoodCourt</th>\n",
       "      <th>ShoppingMall</th>\n",
       "      <th>Spa</th>\n",
       "      <th>VRDeck</th>\n",
       "      <th>Name</th>\n",
       "      <th>Transported</th>\n",
       "      <th>Port</th>\n",
       "      <th>Place</th>\n",
       "    </tr>\n",
       "  </thead>\n",
       "  <tbody>\n",
       "    <tr>\n",
       "      <th>0</th>\n",
       "      <td>0001_01</td>\n",
       "      <td>2</td>\n",
       "      <td>0</td>\n",
       "      <td>0</td>\n",
       "      <td>3</td>\n",
       "      <td>39</td>\n",
       "      <td>0</td>\n",
       "      <td>0.000000</td>\n",
       "      <td>0.000000</td>\n",
       "      <td>0.000000</td>\n",
       "      <td>0.000000</td>\n",
       "      <td>0.000000</td>\n",
       "      <td>Maham Ofracculy</td>\n",
       "      <td>0</td>\n",
       "      <td>1</td>\n",
       "      <td>2</td>\n",
       "    </tr>\n",
       "    <tr>\n",
       "      <th>1</th>\n",
       "      <td>0002_01</td>\n",
       "      <td>1</td>\n",
       "      <td>0</td>\n",
       "      <td>0</td>\n",
       "      <td>3</td>\n",
       "      <td>24</td>\n",
       "      <td>0</td>\n",
       "      <td>1.740550</td>\n",
       "      <td>1.194706</td>\n",
       "      <td>1.448822</td>\n",
       "      <td>1.989232</td>\n",
       "      <td>1.570003</td>\n",
       "      <td>Juanna Vines</td>\n",
       "      <td>1</td>\n",
       "      <td>0</td>\n",
       "      <td>6</td>\n",
       "    </tr>\n",
       "    <tr>\n",
       "      <th>2</th>\n",
       "      <td>0003_01</td>\n",
       "      <td>2</td>\n",
       "      <td>0</td>\n",
       "      <td>0</td>\n",
       "      <td>3</td>\n",
       "      <td>58</td>\n",
       "      <td>1</td>\n",
       "      <td>1.565317</td>\n",
       "      <td>2.217276</td>\n",
       "      <td>0.000000</td>\n",
       "      <td>2.283631</td>\n",
       "      <td>1.591686</td>\n",
       "      <td>Altark Susent</td>\n",
       "      <td>0</td>\n",
       "      <td>0</td>\n",
       "      <td>1</td>\n",
       "    </tr>\n",
       "  </tbody>\n",
       "</table>\n",
       "</div>"
      ],
      "text/plain": [
       "  PassengerId  HomePlanet  CryoSleep  Cabin  Destination  Age  VIP  \\\n",
       "0     0001_01           2          0      0            3   39    0   \n",
       "1     0002_01           1          0      0            3   24    0   \n",
       "2     0003_01           2          0      0            3   58    1   \n",
       "\n",
       "   RoomService  FoodCourt  ShoppingMall       Spa    VRDeck             Name  \\\n",
       "0     0.000000   0.000000      0.000000  0.000000  0.000000  Maham Ofracculy   \n",
       "1     1.740550   1.194706      1.448822  1.989232  1.570003     Juanna Vines   \n",
       "2     1.565317   2.217276      0.000000  2.283631  1.591686    Altark Susent   \n",
       "\n",
       "   Transported  Port  Place  \n",
       "0            0     1      2  \n",
       "1            1     0      6  \n",
       "2            0     0      1  "
      ]
     },
     "execution_count": 32,
     "metadata": {},
     "output_type": "execute_result"
    }
   ],
   "source": [
    "# Apply log transformation\n",
    "df['RoomService'] = np.log1p(df['RoomService'])\n",
    "df['FoodCourt'] = np.log1p(df['FoodCourt'])\n",
    "df['ShoppingMall'] = np.log1p(df['ShoppingMall'])\n",
    "df['Spa'] = np.log1p(df['Spa'])\n",
    "df['VRDeck'] = np.log1p(df['VRDeck'])\n",
    "df.head(3)"
   ]
  },
  {
   "cell_type": "code",
   "execution_count": 33,
   "id": "30aedb8f",
   "metadata": {
    "execution": {
     "iopub.execute_input": "2023-11-30T19:48:54.702812Z",
     "iopub.status.busy": "2023-11-30T19:48:54.702405Z",
     "iopub.status.idle": "2023-11-30T19:48:54.708388Z",
     "shell.execute_reply": "2023-11-30T19:48:54.706663Z"
    },
    "papermill": {
     "duration": 0.023365,
     "end_time": "2023-11-30T19:48:54.710925",
     "exception": false,
     "start_time": "2023-11-30T19:48:54.687560",
     "status": "completed"
    },
    "tags": []
   },
   "outputs": [],
   "source": [
    "# #Lastnames\n",
    "# df['LastName'] = df['Name'].str.split(' ').str[-1]\n",
    "\n",
    "# #Guessing Families\n",
    "# df['FamilyId'] = df['PassengerId'].apply(lambda x: x.split('_')[0])\n",
    "# #\n",
    "# ids_groups = np.array([i.split(\"_\") for i in df.PassengerId.values])\n",
    "# # unique_groups = np.unique(ids_groups[:,0])\n",
    "# df['GroupID'] = df.groupby(ids_groups[:,0]).ngroup()\n",
    "# df.info()"
   ]
  },
  {
   "cell_type": "code",
   "execution_count": 34,
   "id": "2c12b9a1",
   "metadata": {
    "execution": {
     "iopub.execute_input": "2023-11-30T19:48:54.739907Z",
     "iopub.status.busy": "2023-11-30T19:48:54.739364Z",
     "iopub.status.idle": "2023-11-30T19:48:54.754463Z",
     "shell.execute_reply": "2023-11-30T19:48:54.753611Z"
    },
    "papermill": {
     "duration": 0.032195,
     "end_time": "2023-11-30T19:48:54.756430",
     "exception": false,
     "start_time": "2023-11-30T19:48:54.724235",
     "status": "completed"
    },
    "tags": []
   },
   "outputs": [
    {
     "data": {
      "text/html": [
       "<div>\n",
       "<style scoped>\n",
       "    .dataframe tbody tr th:only-of-type {\n",
       "        vertical-align: middle;\n",
       "    }\n",
       "\n",
       "    .dataframe tbody tr th {\n",
       "        vertical-align: top;\n",
       "    }\n",
       "\n",
       "    .dataframe thead th {\n",
       "        text-align: right;\n",
       "    }\n",
       "</style>\n",
       "<table border=\"1\" class=\"dataframe\">\n",
       "  <thead>\n",
       "    <tr style=\"text-align: right;\">\n",
       "      <th></th>\n",
       "      <th>HomePlanet</th>\n",
       "      <th>CryoSleep</th>\n",
       "      <th>Cabin</th>\n",
       "      <th>Destination</th>\n",
       "      <th>Age</th>\n",
       "      <th>VIP</th>\n",
       "      <th>RoomService</th>\n",
       "      <th>FoodCourt</th>\n",
       "      <th>ShoppingMall</th>\n",
       "      <th>Spa</th>\n",
       "      <th>VRDeck</th>\n",
       "      <th>Port</th>\n",
       "      <th>Place</th>\n",
       "    </tr>\n",
       "  </thead>\n",
       "  <tbody>\n",
       "    <tr>\n",
       "      <th>0</th>\n",
       "      <td>1</td>\n",
       "      <td>1</td>\n",
       "      <td>3</td>\n",
       "      <td>3</td>\n",
       "      <td>27</td>\n",
       "      <td>0</td>\n",
       "      <td>0.0</td>\n",
       "      <td>0.0</td>\n",
       "      <td>0.0</td>\n",
       "      <td>0.0</td>\n",
       "      <td>0.0</td>\n",
       "      <td>0</td>\n",
       "      <td>7</td>\n",
       "    </tr>\n",
       "  </tbody>\n",
       "</table>\n",
       "</div>"
      ],
      "text/plain": [
       "   HomePlanet  CryoSleep  Cabin  Destination  Age  VIP  RoomService  \\\n",
       "0           1          1      3            3   27    0          0.0   \n",
       "\n",
       "   FoodCourt  ShoppingMall  Spa  VRDeck  Port  Place  \n",
       "0        0.0           0.0  0.0     0.0     0      7  "
      ]
     },
     "execution_count": 34,
     "metadata": {},
     "output_type": "execute_result"
    }
   ],
   "source": [
    "df_test = df_test.drop(columns=['PassengerId','Name'])\n",
    "df_test.head(1)"
   ]
  },
  {
   "cell_type": "code",
   "execution_count": 35,
   "id": "d2269ddc",
   "metadata": {
    "execution": {
     "iopub.execute_input": "2023-11-30T19:48:54.786098Z",
     "iopub.status.busy": "2023-11-30T19:48:54.785736Z",
     "iopub.status.idle": "2023-11-30T19:48:54.789961Z",
     "shell.execute_reply": "2023-11-30T19:48:54.788726Z"
    },
    "papermill": {
     "duration": 0.021093,
     "end_time": "2023-11-30T19:48:54.791839",
     "exception": false,
     "start_time": "2023-11-30T19:48:54.770746",
     "status": "completed"
    },
    "tags": []
   },
   "outputs": [],
   "source": [
    "# df_test['Aged'] = np.where(df_test.Age > 15, 1,0)\n",
    "# df_test.head(1)"
   ]
  },
  {
   "cell_type": "code",
   "execution_count": 36,
   "id": "f97a8a82",
   "metadata": {
    "execution": {
     "iopub.execute_input": "2023-11-30T19:48:54.819603Z",
     "iopub.status.busy": "2023-11-30T19:48:54.819275Z",
     "iopub.status.idle": "2023-11-30T19:48:54.823855Z",
     "shell.execute_reply": "2023-11-30T19:48:54.822335Z"
    },
    "papermill": {
     "duration": 0.020715,
     "end_time": "2023-11-30T19:48:54.825753",
     "exception": false,
     "start_time": "2023-11-30T19:48:54.805038",
     "status": "completed"
    },
    "tags": []
   },
   "outputs": [],
   "source": [
    "# columns_titles = [\"HomePlanet\",\"CryoSleep\", \"Destination\",\"Age\",\"Mean_luxury\",\"Port\",\"Place\"]\n",
    "# df_test=df_test.reindex(columns=columns_titles)\n",
    "# df_test.head(3)"
   ]
  },
  {
   "cell_type": "code",
   "execution_count": 37,
   "id": "deaec856",
   "metadata": {
    "execution": {
     "iopub.execute_input": "2023-11-30T19:48:54.854155Z",
     "iopub.status.busy": "2023-11-30T19:48:54.853559Z",
     "iopub.status.idle": "2023-11-30T19:48:54.860157Z",
     "shell.execute_reply": "2023-11-30T19:48:54.859381Z"
    },
    "papermill": {
     "duration": 0.023651,
     "end_time": "2023-11-30T19:48:54.862598",
     "exception": false,
     "start_time": "2023-11-30T19:48:54.838947",
     "status": "completed"
    },
    "tags": []
   },
   "outputs": [],
   "source": [
    " predictions = logmodel.predict(df_test)"
   ]
  },
  {
   "cell_type": "code",
   "execution_count": 38,
   "id": "03c552f7",
   "metadata": {
    "execution": {
     "iopub.execute_input": "2023-11-30T19:48:54.898801Z",
     "iopub.status.busy": "2023-11-30T19:48:54.898461Z",
     "iopub.status.idle": "2023-11-30T19:48:54.904832Z",
     "shell.execute_reply": "2023-11-30T19:48:54.904066Z"
    },
    "papermill": {
     "duration": 0.029606,
     "end_time": "2023-11-30T19:48:54.909405",
     "exception": false,
     "start_time": "2023-11-30T19:48:54.879799",
     "status": "completed"
    },
    "tags": []
   },
   "outputs": [
    {
     "data": {
      "text/plain": [
       "array(['0013_01', '0018_01', '0019_01', ..., '9271_01', '9273_01',\n",
       "       '9277_01'], dtype=object)"
      ]
     },
     "execution_count": 38,
     "metadata": {},
     "output_type": "execute_result"
    }
   ],
   "source": [
    "# # from sklearn.metrics import classification_report\n",
    "# # print(classification_report(y_test, predictions))\n",
    "# df_newTest = pd.read_csv(\"/kaggle/input/spaceship-titanic/test.csv\")\n",
    "# ids_test = df_newTest['PassengerId'].copy()\n",
    "ids_test.values\n",
    "# predictions"
   ]
  },
  {
   "cell_type": "code",
   "execution_count": 39,
   "id": "217d5315",
   "metadata": {
    "execution": {
     "iopub.execute_input": "2023-11-30T19:48:54.946044Z",
     "iopub.status.busy": "2023-11-30T19:48:54.945697Z",
     "iopub.status.idle": "2023-11-30T19:48:54.971947Z",
     "shell.execute_reply": "2023-11-30T19:48:54.971157Z"
    },
    "papermill": {
     "duration": 0.047561,
     "end_time": "2023-11-30T19:48:54.974313",
     "exception": false,
     "start_time": "2023-11-30T19:48:54.926752",
     "status": "completed"
    },
    "tags": []
   },
   "outputs": [
    {
     "data": {
      "text/html": [
       "<div>\n",
       "<style scoped>\n",
       "    .dataframe tbody tr th:only-of-type {\n",
       "        vertical-align: middle;\n",
       "    }\n",
       "\n",
       "    .dataframe tbody tr th {\n",
       "        vertical-align: top;\n",
       "    }\n",
       "\n",
       "    .dataframe thead th {\n",
       "        text-align: right;\n",
       "    }\n",
       "</style>\n",
       "<table border=\"1\" class=\"dataframe\">\n",
       "  <thead>\n",
       "    <tr style=\"text-align: right;\">\n",
       "      <th></th>\n",
       "      <th>PassengerId</th>\n",
       "      <th>Transported</th>\n",
       "    </tr>\n",
       "  </thead>\n",
       "  <tbody>\n",
       "    <tr>\n",
       "      <th>0</th>\n",
       "      <td>0013_01</td>\n",
       "      <td>True</td>\n",
       "    </tr>\n",
       "    <tr>\n",
       "      <th>1</th>\n",
       "      <td>0018_01</td>\n",
       "      <td>False</td>\n",
       "    </tr>\n",
       "    <tr>\n",
       "      <th>2</th>\n",
       "      <td>0019_01</td>\n",
       "      <td>True</td>\n",
       "    </tr>\n",
       "    <tr>\n",
       "      <th>3</th>\n",
       "      <td>0021_01</td>\n",
       "      <td>True</td>\n",
       "    </tr>\n",
       "    <tr>\n",
       "      <th>4</th>\n",
       "      <td>0023_01</td>\n",
       "      <td>True</td>\n",
       "    </tr>\n",
       "  </tbody>\n",
       "</table>\n",
       "</div>"
      ],
      "text/plain": [
       "  PassengerId  Transported\n",
       "0     0013_01         True\n",
       "1     0018_01        False\n",
       "2     0019_01         True\n",
       "3     0021_01         True\n",
       "4     0023_01         True"
      ]
     },
     "execution_count": 39,
     "metadata": {},
     "output_type": "execute_result"
    }
   ],
   "source": [
    "df_predictions = pd.DataFrame()\n",
    "df_predictions['PassengerId'] = pd.Series(ids_test.T.values)\n",
    "df_predictions['Transported'] = pd.Series(predictions)\n",
    "df_predictions.Transported = np.where(df_predictions.Transported==1,True,False)\n",
    "df_predictions.to_csv(\"10thAttempt.csv\", sep=',', index=False)\n",
    "df_predictions.head()"
   ]
  },
  {
   "cell_type": "markdown",
   "id": "c0cc82b5",
   "metadata": {
    "papermill": {
     "duration": 0.014725,
     "end_time": "2023-11-30T19:48:55.003138",
     "exception": false,
     "start_time": "2023-11-30T19:48:54.988413",
     "status": "completed"
    },
    "tags": []
   },
   "source": [
    "In this report, the 'Precision' column tells us the proportion of positive identifications (i.e., the passenger was transported) that were actually correct. The 'Recall' column tells us the proportion of actual positives that were identified correctly. The 'F1-score' is a function of Precision and Recall and gives a balanced measure of the model's performance.\n",
    "\n",
    "Remember, this is a basic model. Depending on the performance of the model, you might need to consider more advanced techniques such as handling class imbalance, feature engineering, or using a more complex model."
   ]
  }
 ],
 "metadata": {
  "kaggle": {
   "accelerator": "none",
   "dataSources": [
    {
     "databundleVersionId": 3220602,
     "sourceId": 34377,
     "sourceType": "competition"
    }
   ],
   "dockerImageVersionId": 30558,
   "isGpuEnabled": false,
   "isInternetEnabled": false,
   "language": "python",
   "sourceType": "notebook"
  },
  "kernelspec": {
   "display_name": "Python 3",
   "language": "python",
   "name": "python3"
  },
  "language_info": {
   "codemirror_mode": {
    "name": "ipython",
    "version": 3
   },
   "file_extension": ".py",
   "mimetype": "text/x-python",
   "name": "python",
   "nbconvert_exporter": "python",
   "pygments_lexer": "ipython3",
   "version": "3.10.12"
  },
  "papermill": {
   "default_parameters": {},
   "duration": 11.269496,
   "end_time": "2023-11-30T19:48:55.740299",
   "environment_variables": {},
   "exception": null,
   "input_path": "__notebook__.ipynb",
   "output_path": "__notebook__.ipynb",
   "parameters": {},
   "start_time": "2023-11-30T19:48:44.470803",
   "version": "2.4.0"
  }
 },
 "nbformat": 4,
 "nbformat_minor": 5
}
