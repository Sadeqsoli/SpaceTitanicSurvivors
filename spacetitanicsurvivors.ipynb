{
 "cells": [
  {
   "cell_type": "code",
   "execution_count": 1,
   "id": "adccd9e2",
   "metadata": {
    "_cell_guid": "b1076dfc-b9ad-4769-8c92-a6c4dae69d19",
    "_uuid": "8f2839f25d086af736a60e9eeb907d3b93b6e0e5",
    "execution": {
     "iopub.execute_input": "2023-11-21T08:08:29.253226Z",
     "iopub.status.busy": "2023-11-21T08:08:29.252289Z",
     "iopub.status.idle": "2023-11-21T08:08:30.084518Z",
     "shell.execute_reply": "2023-11-21T08:08:30.082872Z"
    },
    "papermill": {
     "duration": 0.84945,
     "end_time": "2023-11-21T08:08:30.087695",
     "exception": false,
     "start_time": "2023-11-21T08:08:29.238245",
     "status": "completed"
    },
    "tags": []
   },
   "outputs": [
    {
     "name": "stdout",
     "output_type": "stream",
     "text": [
      "/kaggle/input/spaceship-titanic/sample_submission.csv\n",
      "/kaggle/input/spaceship-titanic/train.csv\n",
      "/kaggle/input/spaceship-titanic/test.csv\n"
     ]
    }
   ],
   "source": [
    "# This Python 3 environment comes with many helpful analytics libraries installed\n",
    "# It is defined by the kaggle/python Docker image: https://github.com/kaggle/docker-python\n",
    "# For example, here's several helpful packages to load\n",
    "\n",
    "import numpy as np # linear algebra\n",
    "import pandas as pd # data processing, CSV file I/O (e.g. pd.read_csv)\n",
    "\n",
    "# Input data files are available in the read-only \"../input/\" directory\n",
    "# For example, running this (by clicking run or pressing Shift+Enter) will list all files under the input directory\n",
    "\n",
    "import os\n",
    "for dirname, _, filenames in os.walk('/kaggle/input'):\n",
    "    for filename in filenames:\n",
    "        print(os.path.join(dirname, filename))\n",
    "\n",
    "# You can write up to 20GB to the current directory (/kaggle/working/) that gets preserved as output when you create a version using \"Save & Run All\" \n",
    "# You can also write temporary files to /kaggle/temp/, but they won't be saved outside of the current session"
   ]
  },
  {
   "cell_type": "markdown",
   "id": "44af39dc",
   "metadata": {
    "papermill": {
     "duration": 0.011924,
     "end_time": "2023-11-21T08:08:30.112129",
     "exception": false,
     "start_time": "2023-11-21T08:08:30.100205",
     "status": "completed"
    },
    "tags": []
   },
   "source": [
    "# > ****File and Data Field Descriptions\n",
    "\n",
    "train.csv - Personal records for about two-thirds (~8700) of the passengers, to be used as training data.\n",
    "PassengerId - A unique Id for each passenger. Each Id takes the form gggg_pp where gggg indicates a group the passenger is travelling with and pp is their number within the group. People in a group are often family members, but not always.\n",
    "HomePlanet - The planet the passenger departed from, typically their planet of permanent residence.\n",
    "CryoSleep - Indicates whether the passenger elected to be put into suspended animation for the duration of the voyage. Passengers in cryosleep are confined to their cabins.\n",
    "Cabin - The cabin number where the passenger is staying. Takes the form deck/num/side, where side can be either P for Port or S for Starboard.\n",
    "Destination - The planet the passenger will be debarking to.\n",
    "Age - The age of the passenger.\n",
    "VIP - Whether the passenger has paid for special VIP service during the voyage.\n",
    "RoomService, FoodCourt, ShoppingMall, Spa, VRDeck - Amount the passenger has billed at each of the Spaceship Titanic's many luxury amenities.\n",
    "Name - The first and last names of the passenger.\n",
    "Transported - Whether the passenger was transported to another dimension. This is the target, the column you are trying to predict.\n",
    "test.csv - Personal records for the remaining one-third (~4300) of the passengers, to be used as test data. Your task is to predict the value of Transported for the passengers in this set.\n",
    "sample_submission.csv - A submission file in the correct format.\n",
    "PassengerId - Id for each passenger in the test set.\n",
    "Transported - The target. For each passenger, predict either True or False."
   ]
  },
  {
   "cell_type": "code",
   "execution_count": 2,
   "id": "db23f8f2",
   "metadata": {
    "execution": {
     "iopub.execute_input": "2023-11-21T08:08:30.137971Z",
     "iopub.status.busy": "2023-11-21T08:08:30.137228Z",
     "iopub.status.idle": "2023-11-21T08:08:30.225976Z",
     "shell.execute_reply": "2023-11-21T08:08:30.224555Z"
    },
    "papermill": {
     "duration": 0.103927,
     "end_time": "2023-11-21T08:08:30.228151",
     "exception": false,
     "start_time": "2023-11-21T08:08:30.124224",
     "status": "completed"
    },
    "tags": []
   },
   "outputs": [
    {
     "data": {
      "text/html": [
       "<div>\n",
       "<style scoped>\n",
       "    .dataframe tbody tr th:only-of-type {\n",
       "        vertical-align: middle;\n",
       "    }\n",
       "\n",
       "    .dataframe tbody tr th {\n",
       "        vertical-align: top;\n",
       "    }\n",
       "\n",
       "    .dataframe thead th {\n",
       "        text-align: right;\n",
       "    }\n",
       "</style>\n",
       "<table border=\"1\" class=\"dataframe\">\n",
       "  <thead>\n",
       "    <tr style=\"text-align: right;\">\n",
       "      <th></th>\n",
       "      <th>PassengerId</th>\n",
       "      <th>HomePlanet</th>\n",
       "      <th>CryoSleep</th>\n",
       "      <th>Cabin</th>\n",
       "      <th>Destination</th>\n",
       "      <th>Age</th>\n",
       "      <th>VIP</th>\n",
       "      <th>RoomService</th>\n",
       "      <th>FoodCourt</th>\n",
       "      <th>ShoppingMall</th>\n",
       "      <th>Spa</th>\n",
       "      <th>VRDeck</th>\n",
       "      <th>Name</th>\n",
       "      <th>Transported</th>\n",
       "    </tr>\n",
       "  </thead>\n",
       "  <tbody>\n",
       "    <tr>\n",
       "      <th>0</th>\n",
       "      <td>0001_01</td>\n",
       "      <td>Europa</td>\n",
       "      <td>False</td>\n",
       "      <td>B/0/P</td>\n",
       "      <td>TRAPPIST-1e</td>\n",
       "      <td>39.0</td>\n",
       "      <td>False</td>\n",
       "      <td>0.0</td>\n",
       "      <td>0.0</td>\n",
       "      <td>0.0</td>\n",
       "      <td>0.0</td>\n",
       "      <td>0.0</td>\n",
       "      <td>Maham Ofracculy</td>\n",
       "      <td>False</td>\n",
       "    </tr>\n",
       "    <tr>\n",
       "      <th>1</th>\n",
       "      <td>0002_01</td>\n",
       "      <td>Earth</td>\n",
       "      <td>False</td>\n",
       "      <td>F/0/S</td>\n",
       "      <td>TRAPPIST-1e</td>\n",
       "      <td>24.0</td>\n",
       "      <td>False</td>\n",
       "      <td>109.0</td>\n",
       "      <td>9.0</td>\n",
       "      <td>25.0</td>\n",
       "      <td>549.0</td>\n",
       "      <td>44.0</td>\n",
       "      <td>Juanna Vines</td>\n",
       "      <td>True</td>\n",
       "    </tr>\n",
       "    <tr>\n",
       "      <th>2</th>\n",
       "      <td>0003_01</td>\n",
       "      <td>Europa</td>\n",
       "      <td>False</td>\n",
       "      <td>A/0/S</td>\n",
       "      <td>TRAPPIST-1e</td>\n",
       "      <td>58.0</td>\n",
       "      <td>True</td>\n",
       "      <td>43.0</td>\n",
       "      <td>3576.0</td>\n",
       "      <td>0.0</td>\n",
       "      <td>6715.0</td>\n",
       "      <td>49.0</td>\n",
       "      <td>Altark Susent</td>\n",
       "      <td>False</td>\n",
       "    </tr>\n",
       "    <tr>\n",
       "      <th>3</th>\n",
       "      <td>0003_02</td>\n",
       "      <td>Europa</td>\n",
       "      <td>False</td>\n",
       "      <td>A/0/S</td>\n",
       "      <td>TRAPPIST-1e</td>\n",
       "      <td>33.0</td>\n",
       "      <td>False</td>\n",
       "      <td>0.0</td>\n",
       "      <td>1283.0</td>\n",
       "      <td>371.0</td>\n",
       "      <td>3329.0</td>\n",
       "      <td>193.0</td>\n",
       "      <td>Solam Susent</td>\n",
       "      <td>False</td>\n",
       "    </tr>\n",
       "    <tr>\n",
       "      <th>4</th>\n",
       "      <td>0004_01</td>\n",
       "      <td>Earth</td>\n",
       "      <td>False</td>\n",
       "      <td>F/1/S</td>\n",
       "      <td>TRAPPIST-1e</td>\n",
       "      <td>16.0</td>\n",
       "      <td>False</td>\n",
       "      <td>303.0</td>\n",
       "      <td>70.0</td>\n",
       "      <td>151.0</td>\n",
       "      <td>565.0</td>\n",
       "      <td>2.0</td>\n",
       "      <td>Willy Santantines</td>\n",
       "      <td>True</td>\n",
       "    </tr>\n",
       "  </tbody>\n",
       "</table>\n",
       "</div>"
      ],
      "text/plain": [
       "  PassengerId HomePlanet CryoSleep  Cabin  Destination   Age    VIP  \\\n",
       "0     0001_01     Europa     False  B/0/P  TRAPPIST-1e  39.0  False   \n",
       "1     0002_01      Earth     False  F/0/S  TRAPPIST-1e  24.0  False   \n",
       "2     0003_01     Europa     False  A/0/S  TRAPPIST-1e  58.0   True   \n",
       "3     0003_02     Europa     False  A/0/S  TRAPPIST-1e  33.0  False   \n",
       "4     0004_01      Earth     False  F/1/S  TRAPPIST-1e  16.0  False   \n",
       "\n",
       "   RoomService  FoodCourt  ShoppingMall     Spa  VRDeck               Name  \\\n",
       "0          0.0        0.0           0.0     0.0     0.0    Maham Ofracculy   \n",
       "1        109.0        9.0          25.0   549.0    44.0       Juanna Vines   \n",
       "2         43.0     3576.0           0.0  6715.0    49.0      Altark Susent   \n",
       "3          0.0     1283.0         371.0  3329.0   193.0       Solam Susent   \n",
       "4        303.0       70.0         151.0   565.0     2.0  Willy Santantines   \n",
       "\n",
       "   Transported  \n",
       "0        False  \n",
       "1         True  \n",
       "2        False  \n",
       "3        False  \n",
       "4         True  "
      ]
     },
     "execution_count": 2,
     "metadata": {},
     "output_type": "execute_result"
    }
   ],
   "source": [
    "df = pd.read_csv(\"/kaggle/input/spaceship-titanic/train.csv\")\n",
    "df.head()"
   ]
  },
  {
   "cell_type": "code",
   "execution_count": 3,
   "id": "9101ddf2",
   "metadata": {
    "execution": {
     "iopub.execute_input": "2023-11-21T08:08:30.254438Z",
     "iopub.status.busy": "2023-11-21T08:08:30.253760Z",
     "iopub.status.idle": "2023-11-21T08:08:30.260529Z",
     "shell.execute_reply": "2023-11-21T08:08:30.259465Z"
    },
    "papermill": {
     "duration": 0.021535,
     "end_time": "2023-11-21T08:08:30.262157",
     "exception": false,
     "start_time": "2023-11-21T08:08:30.240622",
     "status": "completed"
    },
    "tags": []
   },
   "outputs": [
    {
     "data": {
      "text/plain": [
       "217"
      ]
     },
     "execution_count": 3,
     "metadata": {},
     "output_type": "execute_result"
    }
   ],
   "source": [
    "sum(df['CryoSleep'].isna())"
   ]
  },
  {
   "cell_type": "code",
   "execution_count": 4,
   "id": "6b5e72c1",
   "metadata": {
    "execution": {
     "iopub.execute_input": "2023-11-21T08:08:30.288246Z",
     "iopub.status.busy": "2023-11-21T08:08:30.287698Z",
     "iopub.status.idle": "2023-11-21T08:08:30.296774Z",
     "shell.execute_reply": "2023-11-21T08:08:30.295795Z"
    },
    "papermill": {
     "duration": 0.024401,
     "end_time": "2023-11-21T08:08:30.298507",
     "exception": false,
     "start_time": "2023-11-21T08:08:30.274106",
     "status": "completed"
    },
    "tags": []
   },
   "outputs": [],
   "source": [
    "df['CryoSleep'] = df['CryoSleep'].replace({True: 1, False: 0})\n"
   ]
  },
  {
   "cell_type": "code",
   "execution_count": 5,
   "id": "f81ce4f9",
   "metadata": {
    "execution": {
     "iopub.execute_input": "2023-11-21T08:08:30.325454Z",
     "iopub.status.busy": "2023-11-21T08:08:30.325071Z",
     "iopub.status.idle": "2023-11-21T08:08:30.333522Z",
     "shell.execute_reply": "2023-11-21T08:08:30.332509Z"
    },
    "papermill": {
     "duration": 0.024668,
     "end_time": "2023-11-21T08:08:30.335216",
     "exception": false,
     "start_time": "2023-11-21T08:08:30.310548",
     "status": "completed"
    },
    "tags": []
   },
   "outputs": [],
   "source": [
    "df['Transported'] = df['Transported'].replace({True: 1, False: 0})\n"
   ]
  },
  {
   "cell_type": "code",
   "execution_count": 6,
   "id": "ea57474c",
   "metadata": {
    "execution": {
     "iopub.execute_input": "2023-11-21T08:08:30.360795Z",
     "iopub.status.busy": "2023-11-21T08:08:30.360442Z",
     "iopub.status.idle": "2023-11-21T08:08:30.365106Z",
     "shell.execute_reply": "2023-11-21T08:08:30.363633Z"
    },
    "papermill": {
     "duration": 0.019844,
     "end_time": "2023-11-21T08:08:30.367119",
     "exception": false,
     "start_time": "2023-11-21T08:08:30.347275",
     "status": "completed"
    },
    "tags": []
   },
   "outputs": [],
   "source": [
    "#set([i.split(\"/\")[2] for i in df.Cabin.values if type(i)!=float])\n",
    "#sorted([int(i.split(\"/\")[1]) for i in df.Cabin.values if type(i)!=float])[::-1]"
   ]
  },
  {
   "cell_type": "markdown",
   "id": "58170aa1",
   "metadata": {
    "papermill": {
     "duration": 0.011307,
     "end_time": "2023-11-21T08:08:30.390233",
     "exception": false,
     "start_time": "2023-11-21T08:08:30.378926",
     "status": "completed"
    },
    "tags": []
   },
   "source": []
  },
  {
   "cell_type": "markdown",
   "id": "8408ef5f",
   "metadata": {
    "papermill": {
     "duration": 0.011264,
     "end_time": "2023-11-21T08:08:30.413045",
     "exception": false,
     "start_time": "2023-11-21T08:08:30.401781",
     "status": "completed"
    },
    "tags": []
   },
   "source": [
    "HomePlanet: {'Earth', 'Europa', 'Mars', nan}\n",
    "{1,2,3,4}"
   ]
  },
  {
   "cell_type": "code",
   "execution_count": 7,
   "id": "4e5124c7",
   "metadata": {
    "execution": {
     "iopub.execute_input": "2023-11-21T08:08:30.438661Z",
     "iopub.status.busy": "2023-11-21T08:08:30.438276Z",
     "iopub.status.idle": "2023-11-21T08:08:30.445767Z",
     "shell.execute_reply": "2023-11-21T08:08:30.444831Z"
    },
    "papermill": {
     "duration": 0.022612,
     "end_time": "2023-11-21T08:08:30.447360",
     "exception": false,
     "start_time": "2023-11-21T08:08:30.424748",
     "status": "completed"
    },
    "tags": []
   },
   "outputs": [
    {
     "data": {
      "text/plain": [
       "{'Earth', 'Europa', 'Mars', nan}"
      ]
     },
     "execution_count": 7,
     "metadata": {},
     "output_type": "execute_result"
    }
   ],
   "source": [
    "set(df['HomePlanet'])"
   ]
  },
  {
   "cell_type": "code",
   "execution_count": 8,
   "id": "0e774386",
   "metadata": {
    "execution": {
     "iopub.execute_input": "2023-11-21T08:08:30.473593Z",
     "iopub.status.busy": "2023-11-21T08:08:30.472488Z",
     "iopub.status.idle": "2023-11-21T08:08:30.494957Z",
     "shell.execute_reply": "2023-11-21T08:08:30.494095Z"
    },
    "papermill": {
     "duration": 0.037183,
     "end_time": "2023-11-21T08:08:30.496584",
     "exception": false,
     "start_time": "2023-11-21T08:08:30.459401",
     "status": "completed"
    },
    "tags": []
   },
   "outputs": [
    {
     "data": {
      "text/html": [
       "<div>\n",
       "<style scoped>\n",
       "    .dataframe tbody tr th:only-of-type {\n",
       "        vertical-align: middle;\n",
       "    }\n",
       "\n",
       "    .dataframe tbody tr th {\n",
       "        vertical-align: top;\n",
       "    }\n",
       "\n",
       "    .dataframe thead th {\n",
       "        text-align: right;\n",
       "    }\n",
       "</style>\n",
       "<table border=\"1\" class=\"dataframe\">\n",
       "  <thead>\n",
       "    <tr style=\"text-align: right;\">\n",
       "      <th></th>\n",
       "      <th>PassengerId</th>\n",
       "      <th>HomePlanet</th>\n",
       "      <th>CryoSleep</th>\n",
       "      <th>Cabin</th>\n",
       "      <th>Destination</th>\n",
       "      <th>Age</th>\n",
       "      <th>VIP</th>\n",
       "      <th>RoomService</th>\n",
       "      <th>FoodCourt</th>\n",
       "      <th>ShoppingMall</th>\n",
       "      <th>Spa</th>\n",
       "      <th>VRDeck</th>\n",
       "      <th>Name</th>\n",
       "      <th>Transported</th>\n",
       "    </tr>\n",
       "  </thead>\n",
       "  <tbody>\n",
       "    <tr>\n",
       "      <th>0</th>\n",
       "      <td>0001_01</td>\n",
       "      <td>2.0</td>\n",
       "      <td>0.0</td>\n",
       "      <td>B/0/P</td>\n",
       "      <td>TRAPPIST-1e</td>\n",
       "      <td>39.0</td>\n",
       "      <td>False</td>\n",
       "      <td>0.0</td>\n",
       "      <td>0.0</td>\n",
       "      <td>0.0</td>\n",
       "      <td>0.0</td>\n",
       "      <td>0.0</td>\n",
       "      <td>Maham Ofracculy</td>\n",
       "      <td>0</td>\n",
       "    </tr>\n",
       "    <tr>\n",
       "      <th>1</th>\n",
       "      <td>0002_01</td>\n",
       "      <td>1.0</td>\n",
       "      <td>0.0</td>\n",
       "      <td>F/0/S</td>\n",
       "      <td>TRAPPIST-1e</td>\n",
       "      <td>24.0</td>\n",
       "      <td>False</td>\n",
       "      <td>109.0</td>\n",
       "      <td>9.0</td>\n",
       "      <td>25.0</td>\n",
       "      <td>549.0</td>\n",
       "      <td>44.0</td>\n",
       "      <td>Juanna Vines</td>\n",
       "      <td>1</td>\n",
       "    </tr>\n",
       "    <tr>\n",
       "      <th>2</th>\n",
       "      <td>0003_01</td>\n",
       "      <td>2.0</td>\n",
       "      <td>0.0</td>\n",
       "      <td>A/0/S</td>\n",
       "      <td>TRAPPIST-1e</td>\n",
       "      <td>58.0</td>\n",
       "      <td>True</td>\n",
       "      <td>43.0</td>\n",
       "      <td>3576.0</td>\n",
       "      <td>0.0</td>\n",
       "      <td>6715.0</td>\n",
       "      <td>49.0</td>\n",
       "      <td>Altark Susent</td>\n",
       "      <td>0</td>\n",
       "    </tr>\n",
       "    <tr>\n",
       "      <th>3</th>\n",
       "      <td>0003_02</td>\n",
       "      <td>2.0</td>\n",
       "      <td>0.0</td>\n",
       "      <td>A/0/S</td>\n",
       "      <td>TRAPPIST-1e</td>\n",
       "      <td>33.0</td>\n",
       "      <td>False</td>\n",
       "      <td>0.0</td>\n",
       "      <td>1283.0</td>\n",
       "      <td>371.0</td>\n",
       "      <td>3329.0</td>\n",
       "      <td>193.0</td>\n",
       "      <td>Solam Susent</td>\n",
       "      <td>0</td>\n",
       "    </tr>\n",
       "    <tr>\n",
       "      <th>4</th>\n",
       "      <td>0004_01</td>\n",
       "      <td>1.0</td>\n",
       "      <td>0.0</td>\n",
       "      <td>F/1/S</td>\n",
       "      <td>TRAPPIST-1e</td>\n",
       "      <td>16.0</td>\n",
       "      <td>False</td>\n",
       "      <td>303.0</td>\n",
       "      <td>70.0</td>\n",
       "      <td>151.0</td>\n",
       "      <td>565.0</td>\n",
       "      <td>2.0</td>\n",
       "      <td>Willy Santantines</td>\n",
       "      <td>1</td>\n",
       "    </tr>\n",
       "  </tbody>\n",
       "</table>\n",
       "</div>"
      ],
      "text/plain": [
       "  PassengerId  HomePlanet  CryoSleep  Cabin  Destination   Age    VIP  \\\n",
       "0     0001_01         2.0        0.0  B/0/P  TRAPPIST-1e  39.0  False   \n",
       "1     0002_01         1.0        0.0  F/0/S  TRAPPIST-1e  24.0  False   \n",
       "2     0003_01         2.0        0.0  A/0/S  TRAPPIST-1e  58.0   True   \n",
       "3     0003_02         2.0        0.0  A/0/S  TRAPPIST-1e  33.0  False   \n",
       "4     0004_01         1.0        0.0  F/1/S  TRAPPIST-1e  16.0  False   \n",
       "\n",
       "   RoomService  FoodCourt  ShoppingMall     Spa  VRDeck               Name  \\\n",
       "0          0.0        0.0           0.0     0.0     0.0    Maham Ofracculy   \n",
       "1        109.0        9.0          25.0   549.0    44.0       Juanna Vines   \n",
       "2         43.0     3576.0           0.0  6715.0    49.0      Altark Susent   \n",
       "3          0.0     1283.0         371.0  3329.0   193.0       Solam Susent   \n",
       "4        303.0       70.0         151.0   565.0     2.0  Willy Santantines   \n",
       "\n",
       "   Transported  \n",
       "0            0  \n",
       "1            1  \n",
       "2            0  \n",
       "3            0  \n",
       "4            1  "
      ]
     },
     "execution_count": 8,
     "metadata": {},
     "output_type": "execute_result"
    }
   ],
   "source": [
    "df['HomePlanet'].replace('Earth', 1, inplace=True)\n",
    "df['HomePlanet'].replace('Europa', 2, inplace=True)\n",
    "df['HomePlanet'].replace('Mars', 3, inplace=True)\n",
    "df.head()"
   ]
  },
  {
   "cell_type": "markdown",
   "id": "5f781da3",
   "metadata": {
    "papermill": {
     "duration": 0.011915,
     "end_time": "2023-11-21T08:08:30.567877",
     "exception": false,
     "start_time": "2023-11-21T08:08:30.555962",
     "status": "completed"
    },
    "tags": []
   },
   "source": [
    "Destination: {'55 Cancri e', 'PSO J318.5-22', 'TRAPPIST-1e', nan}\n",
    "{1,2,3,4}"
   ]
  },
  {
   "cell_type": "code",
   "execution_count": 9,
   "id": "fa8468d2",
   "metadata": {
    "execution": {
     "iopub.execute_input": "2023-11-21T08:08:30.593753Z",
     "iopub.status.busy": "2023-11-21T08:08:30.593400Z",
     "iopub.status.idle": "2023-11-21T08:08:30.600417Z",
     "shell.execute_reply": "2023-11-21T08:08:30.599125Z"
    },
    "papermill": {
     "duration": 0.022028,
     "end_time": "2023-11-21T08:08:30.601955",
     "exception": false,
     "start_time": "2023-11-21T08:08:30.579927",
     "status": "completed"
    },
    "tags": []
   },
   "outputs": [
    {
     "data": {
      "text/plain": [
       "{'55 Cancri e', 'PSO J318.5-22', 'TRAPPIST-1e', nan}"
      ]
     },
     "execution_count": 9,
     "metadata": {},
     "output_type": "execute_result"
    }
   ],
   "source": [
    "set(df['Destination'])"
   ]
  },
  {
   "cell_type": "code",
   "execution_count": 10,
   "id": "4ff02145",
   "metadata": {
    "execution": {
     "iopub.execute_input": "2023-11-21T08:08:30.628097Z",
     "iopub.status.busy": "2023-11-21T08:08:30.627762Z",
     "iopub.status.idle": "2023-11-21T08:08:30.649269Z",
     "shell.execute_reply": "2023-11-21T08:08:30.648288Z"
    },
    "papermill": {
     "duration": 0.03685,
     "end_time": "2023-11-21T08:08:30.651033",
     "exception": false,
     "start_time": "2023-11-21T08:08:30.614183",
     "status": "completed"
    },
    "tags": []
   },
   "outputs": [
    {
     "data": {
      "text/html": [
       "<div>\n",
       "<style scoped>\n",
       "    .dataframe tbody tr th:only-of-type {\n",
       "        vertical-align: middle;\n",
       "    }\n",
       "\n",
       "    .dataframe tbody tr th {\n",
       "        vertical-align: top;\n",
       "    }\n",
       "\n",
       "    .dataframe thead th {\n",
       "        text-align: right;\n",
       "    }\n",
       "</style>\n",
       "<table border=\"1\" class=\"dataframe\">\n",
       "  <thead>\n",
       "    <tr style=\"text-align: right;\">\n",
       "      <th></th>\n",
       "      <th>PassengerId</th>\n",
       "      <th>HomePlanet</th>\n",
       "      <th>CryoSleep</th>\n",
       "      <th>Cabin</th>\n",
       "      <th>Destination</th>\n",
       "      <th>Age</th>\n",
       "      <th>VIP</th>\n",
       "      <th>RoomService</th>\n",
       "      <th>FoodCourt</th>\n",
       "      <th>ShoppingMall</th>\n",
       "      <th>Spa</th>\n",
       "      <th>VRDeck</th>\n",
       "      <th>Name</th>\n",
       "      <th>Transported</th>\n",
       "    </tr>\n",
       "  </thead>\n",
       "  <tbody>\n",
       "    <tr>\n",
       "      <th>0</th>\n",
       "      <td>0001_01</td>\n",
       "      <td>2.0</td>\n",
       "      <td>0.0</td>\n",
       "      <td>B/0/P</td>\n",
       "      <td>3.0</td>\n",
       "      <td>39.0</td>\n",
       "      <td>False</td>\n",
       "      <td>0.0</td>\n",
       "      <td>0.0</td>\n",
       "      <td>0.0</td>\n",
       "      <td>0.0</td>\n",
       "      <td>0.0</td>\n",
       "      <td>Maham Ofracculy</td>\n",
       "      <td>0</td>\n",
       "    </tr>\n",
       "    <tr>\n",
       "      <th>1</th>\n",
       "      <td>0002_01</td>\n",
       "      <td>1.0</td>\n",
       "      <td>0.0</td>\n",
       "      <td>F/0/S</td>\n",
       "      <td>3.0</td>\n",
       "      <td>24.0</td>\n",
       "      <td>False</td>\n",
       "      <td>109.0</td>\n",
       "      <td>9.0</td>\n",
       "      <td>25.0</td>\n",
       "      <td>549.0</td>\n",
       "      <td>44.0</td>\n",
       "      <td>Juanna Vines</td>\n",
       "      <td>1</td>\n",
       "    </tr>\n",
       "    <tr>\n",
       "      <th>2</th>\n",
       "      <td>0003_01</td>\n",
       "      <td>2.0</td>\n",
       "      <td>0.0</td>\n",
       "      <td>A/0/S</td>\n",
       "      <td>3.0</td>\n",
       "      <td>58.0</td>\n",
       "      <td>True</td>\n",
       "      <td>43.0</td>\n",
       "      <td>3576.0</td>\n",
       "      <td>0.0</td>\n",
       "      <td>6715.0</td>\n",
       "      <td>49.0</td>\n",
       "      <td>Altark Susent</td>\n",
       "      <td>0</td>\n",
       "    </tr>\n",
       "  </tbody>\n",
       "</table>\n",
       "</div>"
      ],
      "text/plain": [
       "  PassengerId  HomePlanet  CryoSleep  Cabin  Destination   Age    VIP  \\\n",
       "0     0001_01         2.0        0.0  B/0/P          3.0  39.0  False   \n",
       "1     0002_01         1.0        0.0  F/0/S          3.0  24.0  False   \n",
       "2     0003_01         2.0        0.0  A/0/S          3.0  58.0   True   \n",
       "\n",
       "   RoomService  FoodCourt  ShoppingMall     Spa  VRDeck             Name  \\\n",
       "0          0.0        0.0           0.0     0.0     0.0  Maham Ofracculy   \n",
       "1        109.0        9.0          25.0   549.0    44.0     Juanna Vines   \n",
       "2         43.0     3576.0           0.0  6715.0    49.0    Altark Susent   \n",
       "\n",
       "   Transported  \n",
       "0            0  \n",
       "1            1  \n",
       "2            0  "
      ]
     },
     "execution_count": 10,
     "metadata": {},
     "output_type": "execute_result"
    }
   ],
   "source": [
    "df['Destination'].replace('55 Cancri e', 1, inplace=True)\n",
    "df['Destination'].replace('PSO J318.5-22', 2, inplace=True)\n",
    "df['Destination'].replace('TRAPPIST-1e', 3, inplace=True)\n",
    "df.head(3)"
   ]
  },
  {
   "cell_type": "code",
   "execution_count": 11,
   "id": "1cbbc6c2",
   "metadata": {
    "execution": {
     "iopub.execute_input": "2023-11-21T08:08:30.678586Z",
     "iopub.status.busy": "2023-11-21T08:08:30.678248Z",
     "iopub.status.idle": "2023-11-21T08:08:30.698509Z",
     "shell.execute_reply": "2023-11-21T08:08:30.697513Z"
    },
    "papermill": {
     "duration": 0.03621,
     "end_time": "2023-11-21T08:08:30.700084",
     "exception": false,
     "start_time": "2023-11-21T08:08:30.663874",
     "status": "completed"
    },
    "tags": []
   },
   "outputs": [
    {
     "data": {
      "text/html": [
       "<div>\n",
       "<style scoped>\n",
       "    .dataframe tbody tr th:only-of-type {\n",
       "        vertical-align: middle;\n",
       "    }\n",
       "\n",
       "    .dataframe tbody tr th {\n",
       "        vertical-align: top;\n",
       "    }\n",
       "\n",
       "    .dataframe thead th {\n",
       "        text-align: right;\n",
       "    }\n",
       "</style>\n",
       "<table border=\"1\" class=\"dataframe\">\n",
       "  <thead>\n",
       "    <tr style=\"text-align: right;\">\n",
       "      <th></th>\n",
       "      <th>PassengerId</th>\n",
       "      <th>HomePlanet</th>\n",
       "      <th>CryoSleep</th>\n",
       "      <th>Cabin</th>\n",
       "      <th>Destination</th>\n",
       "      <th>Age</th>\n",
       "      <th>VIP</th>\n",
       "      <th>RoomService</th>\n",
       "      <th>FoodCourt</th>\n",
       "      <th>ShoppingMall</th>\n",
       "      <th>Spa</th>\n",
       "      <th>VRDeck</th>\n",
       "      <th>Name</th>\n",
       "      <th>Transported</th>\n",
       "    </tr>\n",
       "  </thead>\n",
       "  <tbody>\n",
       "    <tr>\n",
       "      <th>0</th>\n",
       "      <td>0001_01</td>\n",
       "      <td>2.0</td>\n",
       "      <td>0.0</td>\n",
       "      <td>B/0/P</td>\n",
       "      <td>3.0</td>\n",
       "      <td>39.0</td>\n",
       "      <td>0.0</td>\n",
       "      <td>0.0</td>\n",
       "      <td>0.0</td>\n",
       "      <td>0.0</td>\n",
       "      <td>0.0</td>\n",
       "      <td>0.0</td>\n",
       "      <td>Maham Ofracculy</td>\n",
       "      <td>0</td>\n",
       "    </tr>\n",
       "    <tr>\n",
       "      <th>1</th>\n",
       "      <td>0002_01</td>\n",
       "      <td>1.0</td>\n",
       "      <td>0.0</td>\n",
       "      <td>F/0/S</td>\n",
       "      <td>3.0</td>\n",
       "      <td>24.0</td>\n",
       "      <td>0.0</td>\n",
       "      <td>109.0</td>\n",
       "      <td>9.0</td>\n",
       "      <td>25.0</td>\n",
       "      <td>549.0</td>\n",
       "      <td>44.0</td>\n",
       "      <td>Juanna Vines</td>\n",
       "      <td>1</td>\n",
       "    </tr>\n",
       "    <tr>\n",
       "      <th>2</th>\n",
       "      <td>0003_01</td>\n",
       "      <td>2.0</td>\n",
       "      <td>0.0</td>\n",
       "      <td>A/0/S</td>\n",
       "      <td>3.0</td>\n",
       "      <td>58.0</td>\n",
       "      <td>1.0</td>\n",
       "      <td>43.0</td>\n",
       "      <td>3576.0</td>\n",
       "      <td>0.0</td>\n",
       "      <td>6715.0</td>\n",
       "      <td>49.0</td>\n",
       "      <td>Altark Susent</td>\n",
       "      <td>0</td>\n",
       "    </tr>\n",
       "    <tr>\n",
       "      <th>3</th>\n",
       "      <td>0003_02</td>\n",
       "      <td>2.0</td>\n",
       "      <td>0.0</td>\n",
       "      <td>A/0/S</td>\n",
       "      <td>3.0</td>\n",
       "      <td>33.0</td>\n",
       "      <td>0.0</td>\n",
       "      <td>0.0</td>\n",
       "      <td>1283.0</td>\n",
       "      <td>371.0</td>\n",
       "      <td>3329.0</td>\n",
       "      <td>193.0</td>\n",
       "      <td>Solam Susent</td>\n",
       "      <td>0</td>\n",
       "    </tr>\n",
       "    <tr>\n",
       "      <th>4</th>\n",
       "      <td>0004_01</td>\n",
       "      <td>1.0</td>\n",
       "      <td>0.0</td>\n",
       "      <td>F/1/S</td>\n",
       "      <td>3.0</td>\n",
       "      <td>16.0</td>\n",
       "      <td>0.0</td>\n",
       "      <td>303.0</td>\n",
       "      <td>70.0</td>\n",
       "      <td>151.0</td>\n",
       "      <td>565.0</td>\n",
       "      <td>2.0</td>\n",
       "      <td>Willy Santantines</td>\n",
       "      <td>1</td>\n",
       "    </tr>\n",
       "  </tbody>\n",
       "</table>\n",
       "</div>"
      ],
      "text/plain": [
       "  PassengerId  HomePlanet  CryoSleep  Cabin  Destination   Age  VIP  \\\n",
       "0     0001_01         2.0        0.0  B/0/P          3.0  39.0  0.0   \n",
       "1     0002_01         1.0        0.0  F/0/S          3.0  24.0  0.0   \n",
       "2     0003_01         2.0        0.0  A/0/S          3.0  58.0  1.0   \n",
       "3     0003_02         2.0        0.0  A/0/S          3.0  33.0  0.0   \n",
       "4     0004_01         1.0        0.0  F/1/S          3.0  16.0  0.0   \n",
       "\n",
       "   RoomService  FoodCourt  ShoppingMall     Spa  VRDeck               Name  \\\n",
       "0          0.0        0.0           0.0     0.0     0.0    Maham Ofracculy   \n",
       "1        109.0        9.0          25.0   549.0    44.0       Juanna Vines   \n",
       "2         43.0     3576.0           0.0  6715.0    49.0      Altark Susent   \n",
       "3          0.0     1283.0         371.0  3329.0   193.0       Solam Susent   \n",
       "4        303.0       70.0         151.0   565.0     2.0  Willy Santantines   \n",
       "\n",
       "   Transported  \n",
       "0            0  \n",
       "1            1  \n",
       "2            0  \n",
       "3            0  \n",
       "4            1  "
      ]
     },
     "execution_count": 11,
     "metadata": {},
     "output_type": "execute_result"
    }
   ],
   "source": [
    "df['VIP'] = df['VIP'].replace({True: 1, False: 0})\n",
    "df.head()"
   ]
  },
  {
   "cell_type": "code",
   "execution_count": 12,
   "id": "d373122e",
   "metadata": {
    "execution": {
     "iopub.execute_input": "2023-11-21T08:08:30.727271Z",
     "iopub.status.busy": "2023-11-21T08:08:30.726956Z",
     "iopub.status.idle": "2023-11-21T08:08:30.757717Z",
     "shell.execute_reply": "2023-11-21T08:08:30.756199Z"
    },
    "papermill": {
     "duration": 0.046427,
     "end_time": "2023-11-21T08:08:30.759333",
     "exception": false,
     "start_time": "2023-11-21T08:08:30.712906",
     "status": "completed"
    },
    "tags": []
   },
   "outputs": [
    {
     "data": {
      "text/plain": [
       "638"
      ]
     },
     "execution_count": 12,
     "metadata": {},
     "output_type": "execute_result"
    }
   ],
   "source": [
    "#checking corr between cabin's names and sides\n",
    "sum(df.loc[(df.Cabin.str.split('/').str[0] == 'F') & (df.Cabin.str.split('/').str[2] == 'S')].Transported)   "
   ]
  },
  {
   "cell_type": "markdown",
   "id": "73f515b1",
   "metadata": {
    "papermill": {
     "duration": 0.012472,
     "end_time": "2023-11-21T08:08:30.784957",
     "exception": false,
     "start_time": "2023-11-21T08:08:30.772485",
     "status": "completed"
    },
    "tags": []
   },
   "source": [
    "letter_to_int = {'A': 1, 'B': 2, 'C': 3, 'D': 4, 'E': 5, 'F': 6, 'G': 7, 'H': 8, 'I': 9, 'J': 10}"
   ]
  },
  {
   "cell_type": "markdown",
   "id": "2228a48a",
   "metadata": {
    "papermill": {
     "duration": 0.012508,
     "end_time": "2023-11-21T08:08:30.810150",
     "exception": false,
     "start_time": "2023-11-21T08:08:30.797642",
     "status": "completed"
    },
    "tags": []
   },
   "source": [
    "Now we have 11 attribute to work with and they all are numeric\n"
   ]
  },
  {
   "cell_type": "code",
   "execution_count": 13,
   "id": "8b287d9a",
   "metadata": {
    "execution": {
     "iopub.execute_input": "2023-11-21T08:08:30.837468Z",
     "iopub.status.busy": "2023-11-21T08:08:30.837115Z",
     "iopub.status.idle": "2023-11-21T08:08:30.854823Z",
     "shell.execute_reply": "2023-11-21T08:08:30.854061Z"
    },
    "papermill": {
     "duration": 0.033695,
     "end_time": "2023-11-21T08:08:30.856684",
     "exception": false,
     "start_time": "2023-11-21T08:08:30.822989",
     "status": "completed"
    },
    "tags": []
   },
   "outputs": [],
   "source": [
    "df[['HomePlanet', 'CryoSleep', 'Destination', 'Age', 'VIP']] = df[['HomePlanet', 'CryoSleep', 'Destination', 'Age', 'VIP']].astype('Int64')"
   ]
  },
  {
   "cell_type": "markdown",
   "id": "5bf19c37",
   "metadata": {
    "papermill": {
     "duration": 0.012665,
     "end_time": "2023-11-21T08:08:30.882753",
     "exception": false,
     "start_time": "2023-11-21T08:08:30.870088",
     "status": "completed"
    },
    "tags": []
   },
   "source": [
    "Now We can go to filling every null and nan cell in our dataframe"
   ]
  },
  {
   "cell_type": "code",
   "execution_count": 14,
   "id": "5b17ae61",
   "metadata": {
    "execution": {
     "iopub.execute_input": "2023-11-21T08:08:30.910431Z",
     "iopub.status.busy": "2023-11-21T08:08:30.909652Z",
     "iopub.status.idle": "2023-11-21T08:08:33.366229Z",
     "shell.execute_reply": "2023-11-21T08:08:33.364932Z"
    },
    "papermill": {
     "duration": 2.473102,
     "end_time": "2023-11-21T08:08:33.368716",
     "exception": false,
     "start_time": "2023-11-21T08:08:30.895614",
     "status": "completed"
    },
    "tags": []
   },
   "outputs": [
    {
     "data": {
      "image/png": "[encoded data removed]",
      "text/plain": [
       "<Figure size 2000x1500 with 12 Axes>"
      ]
     },
     "metadata": {},
     "output_type": "display_data"
    }
   ],
   "source": [
    "import matplotlib.pyplot as plt\n",
    "df.hist(bins=50, figsize=(20,15))\n",
    "plt.show()"
   ]
  },
  {
   "cell_type": "code",
   "execution_count": 15,
   "id": "441e6a62",
   "metadata": {
    "execution": {
     "iopub.execute_input": "2023-11-21T08:08:33.399470Z",
     "iopub.status.busy": "2023-11-21T08:08:33.399115Z",
     "iopub.status.idle": "2023-11-21T08:08:35.429165Z",
     "shell.execute_reply": "2023-11-21T08:08:35.428075Z"
    },
    "papermill": {
     "duration": 2.04808,
     "end_time": "2023-11-21T08:08:35.431773",
     "exception": false,
     "start_time": "2023-11-21T08:08:33.383693",
     "status": "completed"
    },
    "tags": []
   },
   "outputs": [
    {
     "data": {
      "text/plain": [
       "<Axes: >"
      ]
     },
     "execution_count": 15,
     "metadata": {},
     "output_type": "execute_result"
    },
    {
     "data": {
      "image/png": "[encoded data removed]",
      "text/plain": [
       "<Figure size 640x480 with 2 Axes>"
      ]
     },
     "metadata": {},
     "output_type": "display_data"
    }
   ],
   "source": [
    "import seaborn as sb\n",
    "df_num = df.select_dtypes(include=['float64', 'int64'])\n",
    "\n",
    "# Calculate the correlations of numerical columns\n",
    "corr = df_num.corr()\n",
    "\n",
    "sb.heatmap(corr, annot=True)"
   ]
  },
  {
   "cell_type": "code",
   "execution_count": 16,
   "id": "fa18bc0a",
   "metadata": {
    "execution": {
     "iopub.execute_input": "2023-11-21T08:08:35.463475Z",
     "iopub.status.busy": "2023-11-21T08:08:35.463149Z",
     "iopub.status.idle": "2023-11-21T08:08:35.489098Z",
     "shell.execute_reply": "2023-11-21T08:08:35.487968Z"
    },
    "papermill": {
     "duration": 0.044475,
     "end_time": "2023-11-21T08:08:35.491632",
     "exception": false,
     "start_time": "2023-11-21T08:08:35.447157",
     "status": "completed"
    },
    "tags": []
   },
   "outputs": [
    {
     "data": {
      "text/html": [
       "<div>\n",
       "<style scoped>\n",
       "    .dataframe tbody tr th:only-of-type {\n",
       "        vertical-align: middle;\n",
       "    }\n",
       "\n",
       "    .dataframe tbody tr th {\n",
       "        vertical-align: top;\n",
       "    }\n",
       "\n",
       "    .dataframe thead th {\n",
       "        text-align: right;\n",
       "    }\n",
       "</style>\n",
       "<table border=\"1\" class=\"dataframe\">\n",
       "  <thead>\n",
       "    <tr style=\"text-align: right;\">\n",
       "      <th></th>\n",
       "      <th>HomePlanet</th>\n",
       "      <th>CryoSleep</th>\n",
       "      <th>Destination</th>\n",
       "      <th>Age</th>\n",
       "      <th>VIP</th>\n",
       "      <th>RoomService</th>\n",
       "      <th>FoodCourt</th>\n",
       "      <th>ShoppingMall</th>\n",
       "      <th>Spa</th>\n",
       "      <th>VRDeck</th>\n",
       "    </tr>\n",
       "    <tr>\n",
       "      <th>Transported</th>\n",
       "      <th></th>\n",
       "      <th></th>\n",
       "      <th></th>\n",
       "      <th></th>\n",
       "      <th></th>\n",
       "      <th></th>\n",
       "      <th></th>\n",
       "      <th></th>\n",
       "      <th></th>\n",
       "      <th></th>\n",
       "    </tr>\n",
       "  </thead>\n",
       "  <tbody>\n",
       "    <tr>\n",
       "      <th>0</th>\n",
       "      <td>1.570311</td>\n",
       "      <td>0.131779</td>\n",
       "      <td>2.574201</td>\n",
       "      <td>29.922858</td>\n",
       "      <td>0.029175</td>\n",
       "      <td>389.266066</td>\n",
       "      <td>382.615930</td>\n",
       "      <td>167.566217</td>\n",
       "      <td>564.382666</td>\n",
       "      <td>543.629822</td>\n",
       "    </tr>\n",
       "    <tr>\n",
       "      <th>1</th>\n",
       "      <td>1.75883</td>\n",
       "      <td>0.581227</td>\n",
       "      <td>2.394074</td>\n",
       "      <td>27.748834</td>\n",
       "      <td>0.017782</td>\n",
       "      <td>63.098021</td>\n",
       "      <td>532.691984</td>\n",
       "      <td>179.829972</td>\n",
       "      <td>61.675531</td>\n",
       "      <td>69.148131</td>\n",
       "    </tr>\n",
       "  </tbody>\n",
       "</table>\n",
       "</div>"
      ],
      "text/plain": [
       "             HomePlanet  CryoSleep  Destination        Age       VIP  \\\n",
       "Transported                                                            \n",
       "0              1.570311   0.131779     2.574201  29.922858  0.029175   \n",
       "1               1.75883   0.581227     2.394074  27.748834  0.017782   \n",
       "\n",
       "             RoomService   FoodCourt  ShoppingMall         Spa      VRDeck  \n",
       "Transported                                                                 \n",
       "0             389.266066  382.615930    167.566217  564.382666  543.629822  \n",
       "1              63.098021  532.691984    179.829972   61.675531   69.148131  "
      ]
     },
     "execution_count": 16,
     "metadata": {},
     "output_type": "execute_result"
    }
   ],
   "source": [
    "df_num.groupby(\"Transported\").mean()"
   ]
  },
  {
   "cell_type": "code",
   "execution_count": 17,
   "id": "96200116",
   "metadata": {
    "execution": {
     "iopub.execute_input": "2023-11-21T08:08:35.525436Z",
     "iopub.status.busy": "2023-11-21T08:08:35.525099Z",
     "iopub.status.idle": "2023-11-21T08:08:35.730105Z",
     "shell.execute_reply": "2023-11-21T08:08:35.729070Z"
    },
    "papermill": {
     "duration": 0.224183,
     "end_time": "2023-11-21T08:08:35.732055",
     "exception": false,
     "start_time": "2023-11-21T08:08:35.507872",
     "status": "completed"
    },
    "tags": []
   },
   "outputs": [
    {
     "data": {
      "text/plain": [
       "<Axes: xlabel='CryoSleep'>"
      ]
     },
     "execution_count": 17,
     "metadata": {},
     "output_type": "execute_result"
    },
    {
     "data": {
      "image/png": "[encoded data removed]",
      "text/plain": [
       "<Figure size 640x480 with 1 Axes>"
      ]
     },
     "metadata": {},
     "output_type": "display_data"
    }
   ],
   "source": [
    "pd.crosstab(df_num.CryoSleep,df_num.Transported).plot(kind='bar')"
   ]
  },
  {
   "cell_type": "code",
   "execution_count": 18,
   "id": "d85fa1d5",
   "metadata": {
    "execution": {
     "iopub.execute_input": "2023-11-21T08:08:35.765883Z",
     "iopub.status.busy": "2023-11-21T08:08:35.765503Z",
     "iopub.status.idle": "2023-11-21T08:08:35.800044Z",
     "shell.execute_reply": "2023-11-21T08:08:35.798590Z"
    },
    "papermill": {
     "duration": 0.054025,
     "end_time": "2023-11-21T08:08:35.802095",
     "exception": false,
     "start_time": "2023-11-21T08:08:35.748070",
     "status": "completed"
    },
    "tags": []
   },
   "outputs": [
    {
     "name": "stdout",
     "output_type": "stream",
     "text": [
      "<class 'pandas.core.frame.DataFrame'>\n",
      "RangeIndex: 8693 entries, 0 to 8692\n",
      "Data columns (total 14 columns):\n",
      " #   Column        Non-Null Count  Dtype  \n",
      "---  ------        --------------  -----  \n",
      " 0   PassengerId   8693 non-null   object \n",
      " 1   HomePlanet    8693 non-null   Int64  \n",
      " 2   CryoSleep     8693 non-null   int64  \n",
      " 3   Cabin         8693 non-null   object \n",
      " 4   Destination   8693 non-null   Int64  \n",
      " 5   Age           8693 non-null   Int64  \n",
      " 6   VIP           8693 non-null   int64  \n",
      " 7   RoomService   8693 non-null   float64\n",
      " 8   FoodCourt     8693 non-null   float64\n",
      " 9   ShoppingMall  8693 non-null   float64\n",
      " 10  Spa           8693 non-null   float64\n",
      " 11  VRDeck        8693 non-null   float64\n",
      " 12  Name          8493 non-null   object \n",
      " 13  Transported   8693 non-null   int64  \n",
      "dtypes: Int64(3), float64(5), int64(3), object(3)\n",
      "memory usage: 976.4+ KB\n"
     ]
    }
   ],
   "source": [
    "df[\"HomePlanet\"].fillna(df[\"HomePlanet\"].mode()[0],inplace=True)\n",
    "df[\"Destination\"].fillna(df[\"Destination\"].mode()[0],inplace=True)\n",
    "df[\"CryoSleep\"].fillna(df[\"CryoSleep\"].mode()[0],inplace=True)\n",
    "df[\"Cabin\"].fillna(df[\"Cabin\"].mode()[0],inplace=True)\n",
    "df[\"VIP\"].fillna(df[\"VIP\"].mode()[0],inplace=True)\n",
    "df[\"Age\"].fillna(int(df[\"Age\"].mean()),inplace=True)\n",
    "df[\"RoomService\"].fillna(df[\"RoomService\"].mean(),inplace=True)\n",
    "df[\"FoodCourt\"].fillna(df[\"FoodCourt\"].mean(),inplace=True)\n",
    "df[\"ShoppingMall\"].fillna(df[\"ShoppingMall\"].mean(),inplace=True)\n",
    "df[\"Spa\"].fillna(df[\"Spa\"].mean(),inplace=True)\n",
    "df[\"VRDeck\"].fillna(df[\"VRDeck\"].mean(),inplace=True)\n",
    "df.VIP = np.where(df.VIP,1,0)\n",
    "df.CryoSleep = np.where(df.CryoSleep,1,0)\n",
    "#No Nan, Null or empty cell\n",
    "df.info()"
   ]
  },
  {
   "cell_type": "code",
   "execution_count": 19,
   "id": "099b3af3",
   "metadata": {
    "execution": {
     "iopub.execute_input": "2023-11-21T08:08:35.837134Z",
     "iopub.status.busy": "2023-11-21T08:08:35.836356Z",
     "iopub.status.idle": "2023-11-21T08:08:35.844101Z",
     "shell.execute_reply": "2023-11-21T08:08:35.843241Z"
    },
    "papermill": {
     "duration": 0.026794,
     "end_time": "2023-11-21T08:08:35.845766",
     "exception": false,
     "start_time": "2023-11-21T08:08:35.818972",
     "status": "completed"
    },
    "tags": []
   },
   "outputs": [
    {
     "name": "stdout",
     "output_type": "stream",
     "text": [
      "cryo Taransported:  2483 transported:  4378\n"
     ]
    }
   ],
   "source": [
    "print('cryo Taransported: ', sum(df[df.CryoSleep == 1].Transported), 'transported: ',sum(df.Transported))"
   ]
  },
  {
   "cell_type": "code",
   "execution_count": 20,
   "id": "8354dc9b",
   "metadata": {
    "execution": {
     "iopub.execute_input": "2023-11-21T08:08:35.879167Z",
     "iopub.status.busy": "2023-11-21T08:08:35.878659Z",
     "iopub.status.idle": "2023-11-21T08:08:35.882306Z",
     "shell.execute_reply": "2023-11-21T08:08:35.881499Z"
    },
    "papermill": {
     "duration": 0.022198,
     "end_time": "2023-11-21T08:08:35.884156",
     "exception": false,
     "start_time": "2023-11-21T08:08:35.861958",
     "status": "completed"
    },
    "tags": []
   },
   "outputs": [],
   "source": [
    "# # Calculate mean\n",
    "# df['Mean_luxury'] = df[['RoomService', 'FoodCourt', 'ShoppingMall', 'Spa', 'VRDeck']].mean(axis=1)"
   ]
  },
  {
   "cell_type": "code",
   "execution_count": 21,
   "id": "afc74273",
   "metadata": {
    "execution": {
     "iopub.execute_input": "2023-11-21T08:08:35.917029Z",
     "iopub.status.busy": "2023-11-21T08:08:35.916610Z",
     "iopub.status.idle": "2023-11-21T08:08:35.920976Z",
     "shell.execute_reply": "2023-11-21T08:08:35.920062Z"
    },
    "papermill": {
     "duration": 0.023092,
     "end_time": "2023-11-21T08:08:35.922853",
     "exception": false,
     "start_time": "2023-11-21T08:08:35.899761",
     "status": "completed"
    },
    "tags": []
   },
   "outputs": [],
   "source": [
    "# df = df.drop(columns=['RoomService', 'FoodCourt', 'ShoppingMall', 'Spa', 'VRDeck'])\n",
    "# df.head(3)"
   ]
  },
  {
   "cell_type": "code",
   "execution_count": 22,
   "id": "939b6778",
   "metadata": {
    "execution": {
     "iopub.execute_input": "2023-11-21T08:08:35.957844Z",
     "iopub.status.busy": "2023-11-21T08:08:35.957263Z",
     "iopub.status.idle": "2023-11-21T08:08:35.960904Z",
     "shell.execute_reply": "2023-11-21T08:08:35.960224Z"
    },
    "papermill": {
     "duration": 0.022473,
     "end_time": "2023-11-21T08:08:35.962571",
     "exception": false,
     "start_time": "2023-11-21T08:08:35.940098",
     "status": "completed"
    },
    "tags": []
   },
   "outputs": [],
   "source": [
    "# df['BigSpender'] = np.where(df.Mean_luxury > 1000, 1,0)\n",
    "# df['Mid_Spender'] = np.where(df.Mean_luxury >= 500, 1,0)\n",
    "# df['Non_Spender'] = np.where(df.Mean_luxury == 0, 1,0)\n",
    "# df.head()"
   ]
  },
  {
   "cell_type": "code",
   "execution_count": 23,
   "id": "4b558f4e",
   "metadata": {
    "execution": {
     "iopub.execute_input": "2023-11-21T08:08:35.996202Z",
     "iopub.status.busy": "2023-11-21T08:08:35.995661Z",
     "iopub.status.idle": "2023-11-21T08:08:35.999644Z",
     "shell.execute_reply": "2023-11-21T08:08:35.998724Z"
    },
    "papermill": {
     "duration": 0.023888,
     "end_time": "2023-11-21T08:08:36.002443",
     "exception": false,
     "start_time": "2023-11-21T08:08:35.978555",
     "status": "completed"
    },
    "tags": []
   },
   "outputs": [],
   "source": [
    "# # TransportedCol = df.pop(\"Transported\")\n",
    "# NameCol = df.pop(\"Name\")\n",
    "# df.insert(1, \"Name\", NameCol)\n",
    "# df.insert(9, \"Transported\", TransportedCol)\n",
    "# df.head()"
   ]
  },
  {
   "cell_type": "code",
   "execution_count": 24,
   "id": "5697810a",
   "metadata": {
    "execution": {
     "iopub.execute_input": "2023-11-21T08:08:36.037012Z",
     "iopub.status.busy": "2023-11-21T08:08:36.036692Z",
     "iopub.status.idle": "2023-11-21T08:08:36.046279Z",
     "shell.execute_reply": "2023-11-21T08:08:36.045148Z"
    },
    "papermill": {
     "duration": 0.028713,
     "end_time": "2023-11-21T08:08:36.048288",
     "exception": false,
     "start_time": "2023-11-21T08:08:36.019575",
     "status": "completed"
    },
    "tags": []
   },
   "outputs": [
    {
     "data": {
      "text/plain": [
       "1517"
      ]
     },
     "execution_count": 24,
     "metadata": {},
     "output_type": "execute_result"
    }
   ],
   "source": [
    "sum(df[df.HomePlanet == 3].Destination == 3)"
   ]
  },
  {
   "cell_type": "markdown",
   "id": "9b42eb7e",
   "metadata": {
    "papermill": {
     "duration": 0.016291,
     "end_time": "2023-11-21T08:08:36.082150",
     "exception": false,
     "start_time": "2023-11-21T08:08:36.065859",
     "status": "completed"
    },
    "tags": []
   },
   "source": [
    "{1:'55 Cancri e', 2:'PSO J318.5-22', 3:'TRAPPIST-1e'}\n",
    "{1:'Earth', 2:'Europa', 3:'Mars'}\n",
    "<<<<<HomePlanet to Destination>>>>\n",
    "1 to 1 >>> 721\n",
    "1 to 2 >>> 728\n",
    "1 to 3 >>> 3354\n",
    "--------------    \n",
    "2 to 1 >>> 193\n",
    "2 to 2 >>> 49\n",
    "2 to 3 >>> 1517\n",
    "-------------- \n",
    "3 to 1 >>> 886\n",
    "3 to 2 >>> 19\n",
    "3 to 3 >>> 1226\n",
    "-------------- "
   ]
  },
  {
   "cell_type": "code",
   "execution_count": 25,
   "id": "d567e987",
   "metadata": {
    "execution": {
     "iopub.execute_input": "2023-11-21T08:08:36.116570Z",
     "iopub.status.busy": "2023-11-21T08:08:36.116013Z",
     "iopub.status.idle": "2023-11-21T08:08:36.123164Z",
     "shell.execute_reply": "2023-11-21T08:08:36.122290Z"
    },
    "papermill": {
     "duration": 0.027652,
     "end_time": "2023-11-21T08:08:36.125873",
     "exception": false,
     "start_time": "2023-11-21T08:08:36.098221",
     "status": "completed"
    },
    "tags": []
   },
   "outputs": [
    {
     "data": {
      "text/plain": [
       "21"
      ]
     },
     "execution_count": 25,
     "metadata": {},
     "output_type": "execute_result"
    }
   ],
   "source": [
    "#print(sum(df[df.HomePlanet == 1].Transported),sum(df.HomePlanet == 1))\n",
    "sum(df[df.CryoSleep == 1].VIP)"
   ]
  },
  {
   "cell_type": "code",
   "execution_count": 26,
   "id": "523301c4",
   "metadata": {
    "execution": {
     "iopub.execute_input": "2023-11-21T08:08:36.160941Z",
     "iopub.status.busy": "2023-11-21T08:08:36.160462Z",
     "iopub.status.idle": "2023-11-21T08:08:36.709121Z",
     "shell.execute_reply": "2023-11-21T08:08:36.708482Z"
    },
    "papermill": {
     "duration": 0.568271,
     "end_time": "2023-11-21T08:08:36.710900",
     "exception": false,
     "start_time": "2023-11-21T08:08:36.142629",
     "status": "completed"
    },
    "tags": []
   },
   "outputs": [
    {
     "data": {
      "text/plain": [
       "<Axes: >"
      ]
     },
     "execution_count": 26,
     "metadata": {},
     "output_type": "execute_result"
    },
    {
     "data": {
      "image/png": "[encoded data removed]",
      "text/plain": [
       "<Figure size 640x480 with 2 Axes>"
      ]
     },
     "metadata": {},
     "output_type": "display_data"
    }
   ],
   "source": [
    "import seaborn as sb\n",
    "df_num = df.select_dtypes(include=['float64', 'int64'])\n",
    "\n",
    "# Calculate the correlations of numerical columns\n",
    "corr = df_num.corr()\n",
    "\n",
    "sb.heatmap(corr, annot=True)"
   ]
  },
  {
   "cell_type": "code",
   "execution_count": 27,
   "id": "9a52bee8",
   "metadata": {
    "execution": {
     "iopub.execute_input": "2023-11-21T08:08:36.749752Z",
     "iopub.status.busy": "2023-11-21T08:08:36.748886Z",
     "iopub.status.idle": "2023-11-21T08:08:36.753950Z",
     "shell.execute_reply": "2023-11-21T08:08:36.753032Z"
    },
    "papermill": {
     "duration": 0.02709,
     "end_time": "2023-11-21T08:08:36.756756",
     "exception": false,
     "start_time": "2023-11-21T08:08:36.729666",
     "status": "completed"
    },
    "tags": []
   },
   "outputs": [],
   "source": [
    "# print('Slept and didnt spend: ',sum(df[df.CryoSleep == 1].Non_Spender),'All that Slept: ',sum(df.CryoSleep),'All Non-Speders: ',sum(df.Non_Spender))"
   ]
  },
  {
   "cell_type": "code",
   "execution_count": 28,
   "id": "30ee25f2",
   "metadata": {
    "execution": {
     "iopub.execute_input": "2023-11-21T08:08:36.796778Z",
     "iopub.status.busy": "2023-11-21T08:08:36.796437Z",
     "iopub.status.idle": "2023-11-21T08:08:36.815990Z",
     "shell.execute_reply": "2023-11-21T08:08:36.814803Z"
    },
    "papermill": {
     "duration": 0.042089,
     "end_time": "2023-11-21T08:08:36.817859",
     "exception": false,
     "start_time": "2023-11-21T08:08:36.775770",
     "status": "completed"
    },
    "tags": []
   },
   "outputs": [
    {
     "name": "stdout",
     "output_type": "stream",
     "text": [
      "2218\n"
     ]
    },
    {
     "data": {
      "text/plain": [
       "200"
      ]
     },
     "execution_count": 28,
     "metadata": {},
     "output_type": "execute_result"
    }
   ],
   "source": [
    "#number of families or to be exact people with the same last name\n",
    "lastNames = set(df.Name.str.split(' ').str[-1])\n",
    "print(len(lastNames))\n",
    "sum(df.Name.isna())\n"
   ]
  },
  {
   "cell_type": "code",
   "execution_count": 29,
   "id": "bf8531bf",
   "metadata": {
    "execution": {
     "iopub.execute_input": "2023-11-21T08:08:36.855132Z",
     "iopub.status.busy": "2023-11-21T08:08:36.854764Z",
     "iopub.status.idle": "2023-11-21T08:08:36.859405Z",
     "shell.execute_reply": "2023-11-21T08:08:36.858262Z"
    },
    "papermill": {
     "duration": 0.025615,
     "end_time": "2023-11-21T08:08:36.861421",
     "exception": false,
     "start_time": "2023-11-21T08:08:36.835806",
     "status": "completed"
    },
    "tags": []
   },
   "outputs": [],
   "source": [
    "# df['LastName'] = df['Name'].str.split(' ').str[-1]\n",
    "# df.head(3)"
   ]
  },
  {
   "cell_type": "code",
   "execution_count": 30,
   "id": "8bfcb675",
   "metadata": {
    "execution": {
     "iopub.execute_input": "2023-11-21T08:08:36.899037Z",
     "iopub.status.busy": "2023-11-21T08:08:36.898724Z",
     "iopub.status.idle": "2023-11-21T08:08:36.904829Z",
     "shell.execute_reply": "2023-11-21T08:08:36.903674Z"
    },
    "papermill": {
     "duration": 0.027537,
     "end_time": "2023-11-21T08:08:36.907054",
     "exception": false,
     "start_time": "2023-11-21T08:08:36.879517",
     "status": "completed"
    },
    "tags": []
   },
   "outputs": [
    {
     "name": "stdout",
     "output_type": "stream",
     "text": [
      "8474\n"
     ]
    }
   ],
   "source": [
    "fullnameSet = set(df.Name)\n",
    "print(len(fullnameSet))"
   ]
  },
  {
   "cell_type": "code",
   "execution_count": 31,
   "id": "f6482ac9",
   "metadata": {
    "execution": {
     "iopub.execute_input": "2023-11-21T08:08:36.944705Z",
     "iopub.status.busy": "2023-11-21T08:08:36.944369Z",
     "iopub.status.idle": "2023-11-21T08:08:36.948207Z",
     "shell.execute_reply": "2023-11-21T08:08:36.947364Z"
    },
    "papermill": {
     "duration": 0.024764,
     "end_time": "2023-11-21T08:08:36.949927",
     "exception": false,
     "start_time": "2023-11-21T08:08:36.925163",
     "status": "completed"
    },
    "tags": []
   },
   "outputs": [],
   "source": [
    "# df['Port'] = df['Cabin'].str.split('/').str[-1]\n",
    "# df['Port'].replace('S', 0, inplace=True)\n",
    "# df['Port'].replace('P', 1, inplace=True)\n",
    "# df.head(3)"
   ]
  },
  {
   "cell_type": "code",
   "execution_count": 32,
   "id": "e8695fd7",
   "metadata": {
    "execution": {
     "iopub.execute_input": "2023-11-21T08:08:36.988042Z",
     "iopub.status.busy": "2023-11-21T08:08:36.987725Z",
     "iopub.status.idle": "2023-11-21T08:08:36.991403Z",
     "shell.execute_reply": "2023-11-21T08:08:36.990521Z"
    },
    "papermill": {
     "duration": 0.02473,
     "end_time": "2023-11-21T08:08:36.992986",
     "exception": false,
     "start_time": "2023-11-21T08:08:36.968256",
     "status": "completed"
    },
    "tags": []
   },
   "outputs": [],
   "source": [
    "# df['Place'] = df['Cabin'].str.split('/').str[0]\n",
    "# letter_to_int = {'A': 1, 'B': 2, 'C': 3, 'D': 4, 'E': 5, 'F': 6, 'G': 7, 'T': 8}\n",
    "# df['Place'] = df['Place'].map(letter_to_int)\n",
    "# df.head(3)"
   ]
  },
  {
   "cell_type": "code",
   "execution_count": 33,
   "id": "49494e29",
   "metadata": {
    "execution": {
     "iopub.execute_input": "2023-11-21T08:08:37.030925Z",
     "iopub.status.busy": "2023-11-21T08:08:37.030552Z",
     "iopub.status.idle": "2023-11-21T08:08:37.034964Z",
     "shell.execute_reply": "2023-11-21T08:08:37.033556Z"
    },
    "papermill": {
     "duration": 0.025792,
     "end_time": "2023-11-21T08:08:37.036917",
     "exception": false,
     "start_time": "2023-11-21T08:08:37.011125",
     "status": "completed"
    },
    "tags": []
   },
   "outputs": [],
   "source": [
    "# df['Cabin'] = df['Cabin'].str.split('/').str[1]\n",
    "# df.head(3)"
   ]
  },
  {
   "cell_type": "code",
   "execution_count": 34,
   "id": "e8cdf2d2",
   "metadata": {
    "execution": {
     "iopub.execute_input": "2023-11-21T08:08:37.074746Z",
     "iopub.status.busy": "2023-11-21T08:08:37.074387Z",
     "iopub.status.idle": "2023-11-21T08:08:37.078355Z",
     "shell.execute_reply": "2023-11-21T08:08:37.077356Z"
    },
    "papermill": {
     "duration": 0.025415,
     "end_time": "2023-11-21T08:08:37.080503",
     "exception": false,
     "start_time": "2023-11-21T08:08:37.055088",
     "status": "completed"
    },
    "tags": []
   },
   "outputs": [],
   "source": [
    "# df['Cabin'] = df['Cabin'].astype('Int64')\n",
    "# #print(len(cabinSet))\n",
    "# #sorted(cabinSet.astype('Int64'))\n",
    "# df.info()"
   ]
  },
  {
   "cell_type": "code",
   "execution_count": 35,
   "id": "817ad49f",
   "metadata": {
    "execution": {
     "iopub.execute_input": "2023-11-21T08:08:37.120090Z",
     "iopub.status.busy": "2023-11-21T08:08:37.119764Z",
     "iopub.status.idle": "2023-11-21T08:08:37.123796Z",
     "shell.execute_reply": "2023-11-21T08:08:37.122780Z"
    },
    "papermill": {
     "duration": 0.026253,
     "end_time": "2023-11-21T08:08:37.125496",
     "exception": false,
     "start_time": "2023-11-21T08:08:37.099243",
     "status": "completed"
    },
    "tags": []
   },
   "outputs": [],
   "source": [
    "# transported_families = df[df['Transported'] == 1].groupby(['Place','Port', 'LastName']).size()\n",
    "# print(transported_families)\n",
    "# set(transported_families)"
   ]
  },
  {
   "cell_type": "code",
   "execution_count": 36,
   "id": "4fff24a5",
   "metadata": {
    "execution": {
     "iopub.execute_input": "2023-11-21T08:08:37.165336Z",
     "iopub.status.busy": "2023-11-21T08:08:37.164969Z",
     "iopub.status.idle": "2023-11-21T08:08:37.814276Z",
     "shell.execute_reply": "2023-11-21T08:08:37.812979Z"
    },
    "papermill": {
     "duration": 0.671573,
     "end_time": "2023-11-21T08:08:37.816466",
     "exception": false,
     "start_time": "2023-11-21T08:08:37.144893",
     "status": "completed"
    },
    "tags": []
   },
   "outputs": [
    {
     "data": {
      "text/plain": [
       "<Axes: >"
      ]
     },
     "execution_count": 36,
     "metadata": {},
     "output_type": "execute_result"
    },
    {
     "data": {
      "image/png": "[encoded data removed]",
      "text/plain": [
       "<Figure size 640x480 with 2 Axes>"
      ]
     },
     "metadata": {},
     "output_type": "display_data"
    }
   ],
   "source": [
    "import seaborn as sb\n",
    "df_num = df.select_dtypes(include=['float64', 'int64'])\n",
    "\n",
    "# Calculate the correlations of numerical columns\n",
    "corr = df_num.corr()\n",
    "\n",
    "sb.heatmap(corr, annot=True)"
   ]
  },
  {
   "cell_type": "code",
   "execution_count": 37,
   "id": "ed7dbef6",
   "metadata": {
    "execution": {
     "iopub.execute_input": "2023-11-21T08:08:37.857250Z",
     "iopub.status.busy": "2023-11-21T08:08:37.856356Z",
     "iopub.status.idle": "2023-11-21T08:08:37.860904Z",
     "shell.execute_reply": "2023-11-21T08:08:37.860077Z"
    },
    "papermill": {
     "duration": 0.027264,
     "end_time": "2023-11-21T08:08:37.862860",
     "exception": false,
     "start_time": "2023-11-21T08:08:37.835596",
     "status": "completed"
    },
    "tags": []
   },
   "outputs": [],
   "source": [
    "# mids = sum(df[df.CryoSleep == 0].Non_Spender)\n",
    "# totalAwake = sum(df.CryoSleep == 0)\n",
    "# awakeTransported = sum(df[df.CryoSleep == 0].Transported)\n",
    "# awakeMidTransported = sum(df[(df['CryoSleep'] == 0) & (df['Age'] < 15))]['Transported'])\n",
    "# print(mids/totalAwake,awakeTransported/totalAwake, awakeMidTransported / totalAwake, awakeMidTransported / mids)\n",
    "# print(sum(df[df.Age < 15].CryoSleep == 0))"
   ]
  },
  {
   "cell_type": "code",
   "execution_count": 38,
   "id": "6c1bc5b2",
   "metadata": {
    "execution": {
     "iopub.execute_input": "2023-11-21T08:08:37.903244Z",
     "iopub.status.busy": "2023-11-21T08:08:37.902930Z",
     "iopub.status.idle": "2023-11-21T08:08:37.906755Z",
     "shell.execute_reply": "2023-11-21T08:08:37.906005Z"
    },
    "papermill": {
     "duration": 0.026006,
     "end_time": "2023-11-21T08:08:37.908429",
     "exception": false,
     "start_time": "2023-11-21T08:08:37.882423",
     "status": "completed"
    },
    "tags": []
   },
   "outputs": [],
   "source": [
    "# df = df.drop(columns=['Name'])\n",
    "# df.head(3)"
   ]
  },
  {
   "cell_type": "code",
   "execution_count": 39,
   "id": "b0750569",
   "metadata": {
    "execution": {
     "iopub.execute_input": "2023-11-21T08:08:37.950042Z",
     "iopub.status.busy": "2023-11-21T08:08:37.949448Z",
     "iopub.status.idle": "2023-11-21T08:08:37.962604Z",
     "shell.execute_reply": "2023-11-21T08:08:37.961223Z"
    },
    "papermill": {
     "duration": 0.036772,
     "end_time": "2023-11-21T08:08:37.964855",
     "exception": false,
     "start_time": "2023-11-21T08:08:37.928083",
     "status": "completed"
    },
    "tags": []
   },
   "outputs": [
    {
     "name": "stdout",
     "output_type": "stream",
     "text": [
      "less than: 10 years:  483 679\n",
      "higher than: 10 years:  3870 7975\n"
     ]
    }
   ],
   "source": [
    "age = 10\n",
    "print('less than:',age,'years: ', sum(df[df.Age < age].Transported),sum(df.Age < age))\n",
    "print('higher than:',age,'years: ', sum(df[df.Age > age].Transported),sum(df.Age > age))"
   ]
  },
  {
   "cell_type": "code",
   "execution_count": 40,
   "id": "9a1318c2",
   "metadata": {
    "execution": {
     "iopub.execute_input": "2023-11-21T08:08:38.006511Z",
     "iopub.status.busy": "2023-11-21T08:08:38.006143Z",
     "iopub.status.idle": "2023-11-21T08:08:38.010445Z",
     "shell.execute_reply": "2023-11-21T08:08:38.009397Z"
    },
    "papermill": {
     "duration": 0.027101,
     "end_time": "2023-11-21T08:08:38.012368",
     "exception": false,
     "start_time": "2023-11-21T08:08:37.985267",
     "status": "completed"
    },
    "tags": []
   },
   "outputs": [],
   "source": [
    "# df['Aged'] = np.where(df.Age > 15, 1,0)\n",
    "# AgedCol = df.pop(\"Aged\")\n",
    "# df.insert(14, \"Aged\", AgedCol)\n",
    "# df.head(3)"
   ]
  },
  {
   "cell_type": "code",
   "execution_count": 41,
   "id": "fee33f2b",
   "metadata": {
    "execution": {
     "iopub.execute_input": "2023-11-21T08:08:38.053591Z",
     "iopub.status.busy": "2023-11-21T08:08:38.053226Z",
     "iopub.status.idle": "2023-11-21T08:08:38.069838Z",
     "shell.execute_reply": "2023-11-21T08:08:38.068993Z"
    },
    "papermill": {
     "duration": 0.039609,
     "end_time": "2023-11-21T08:08:38.071876",
     "exception": false,
     "start_time": "2023-11-21T08:08:38.032267",
     "status": "completed"
    },
    "tags": []
   },
   "outputs": [
    {
     "data": {
      "text/html": [
       "<div>\n",
       "<style scoped>\n",
       "    .dataframe tbody tr th:only-of-type {\n",
       "        vertical-align: middle;\n",
       "    }\n",
       "\n",
       "    .dataframe tbody tr th {\n",
       "        vertical-align: top;\n",
       "    }\n",
       "\n",
       "    .dataframe thead th {\n",
       "        text-align: right;\n",
       "    }\n",
       "</style>\n",
       "<table border=\"1\" class=\"dataframe\">\n",
       "  <thead>\n",
       "    <tr style=\"text-align: right;\">\n",
       "      <th></th>\n",
       "      <th>HomePlanet</th>\n",
       "      <th>CryoSleep</th>\n",
       "      <th>Destination</th>\n",
       "      <th>Age</th>\n",
       "      <th>RoomService</th>\n",
       "      <th>FoodCourt</th>\n",
       "      <th>ShoppingMall</th>\n",
       "      <th>Spa</th>\n",
       "      <th>VRDeck</th>\n",
       "    </tr>\n",
       "  </thead>\n",
       "  <tbody>\n",
       "    <tr>\n",
       "      <th>0</th>\n",
       "      <td>2</td>\n",
       "      <td>0</td>\n",
       "      <td>3</td>\n",
       "      <td>39</td>\n",
       "      <td>0.0</td>\n",
       "      <td>0.0</td>\n",
       "      <td>0.0</td>\n",
       "      <td>0.0</td>\n",
       "      <td>0.0</td>\n",
       "    </tr>\n",
       "    <tr>\n",
       "      <th>1</th>\n",
       "      <td>1</td>\n",
       "      <td>0</td>\n",
       "      <td>3</td>\n",
       "      <td>24</td>\n",
       "      <td>109.0</td>\n",
       "      <td>9.0</td>\n",
       "      <td>25.0</td>\n",
       "      <td>549.0</td>\n",
       "      <td>44.0</td>\n",
       "    </tr>\n",
       "    <tr>\n",
       "      <th>2</th>\n",
       "      <td>2</td>\n",
       "      <td>0</td>\n",
       "      <td>3</td>\n",
       "      <td>58</td>\n",
       "      <td>43.0</td>\n",
       "      <td>3576.0</td>\n",
       "      <td>0.0</td>\n",
       "      <td>6715.0</td>\n",
       "      <td>49.0</td>\n",
       "    </tr>\n",
       "  </tbody>\n",
       "</table>\n",
       "</div>"
      ],
      "text/plain": [
       "   HomePlanet  CryoSleep  Destination  Age  RoomService  FoodCourt  \\\n",
       "0           2          0            3   39          0.0        0.0   \n",
       "1           1          0            3   24        109.0        9.0   \n",
       "2           2          0            3   58         43.0     3576.0   \n",
       "\n",
       "   ShoppingMall     Spa  VRDeck  \n",
       "0           0.0     0.0     0.0  \n",
       "1          25.0   549.0    44.0  \n",
       "2           0.0  6715.0    49.0  "
      ]
     },
     "execution_count": 41,
     "metadata": {},
     "output_type": "execute_result"
    }
   ],
   "source": [
    "newtrainDF = df\n",
    "ids = newtrainDF['PassengerId'].copy()\n",
    "transporteds = newtrainDF['Transported'].copy()\n",
    "newtrainDF = newtrainDF.drop(columns=['PassengerId','Name','Cabin','VIP','Transported'])\n",
    "newtrainDF.head(3)"
   ]
  },
  {
   "cell_type": "code",
   "execution_count": 42,
   "id": "67afbc15",
   "metadata": {
    "execution": {
     "iopub.execute_input": "2023-11-21T08:08:38.113275Z",
     "iopub.status.busy": "2023-11-21T08:08:38.112731Z",
     "iopub.status.idle": "2023-11-21T08:08:38.115953Z",
     "shell.execute_reply": "2023-11-21T08:08:38.115369Z"
    },
    "papermill": {
     "duration": 0.026319,
     "end_time": "2023-11-21T08:08:38.117918",
     "exception": false,
     "start_time": "2023-11-21T08:08:38.091599",
     "status": "completed"
    },
    "tags": []
   },
   "outputs": [],
   "source": [
    "# from sklearn.model_selection import train_test_split\n",
    "# X_train, X_test, y_train, y_test = train_test_split(newtrainDF.drop('Transported',axis=1), \n",
    "#                                                   df['Transported'], test_size=0.30, \n",
    "#                                                     random_state=101)\n",
    "# newtrainDF.head(1)"
   ]
  },
  {
   "cell_type": "code",
   "execution_count": 43,
   "id": "1b4ea0ff",
   "metadata": {
    "execution": {
     "iopub.execute_input": "2023-11-21T08:08:38.159825Z",
     "iopub.status.busy": "2023-11-21T08:08:38.159147Z",
     "iopub.status.idle": "2023-11-21T08:08:38.654304Z",
     "shell.execute_reply": "2023-11-21T08:08:38.653400Z"
    },
    "papermill": {
     "duration": 0.51863,
     "end_time": "2023-11-21T08:08:38.656128",
     "exception": false,
     "start_time": "2023-11-21T08:08:38.137498",
     "status": "completed"
    },
    "tags": []
   },
   "outputs": [
    {
     "data": {
      "text/html": [
       "<style>#sk-container-id-1 {color: black;background-color: white;}#sk-container-id-1 pre{padding: 0;}#sk-container-id-1 div.sk-toggleable {background-color: white;}#sk-container-id-1 label.sk-toggleable__label {cursor: pointer;display: block;width: 100%;margin-bottom: 0;padding: 0.3em;box-sizing: border-box;text-align: center;}#sk-container-id-1 label.sk-toggleable__label-arrow:before {content: \"▸\";float: left;margin-right: 0.25em;color: #696969;}#sk-container-id-1 label.sk-toggleable__label-arrow:hover:before {color: black;}#sk-container-id-1 div.sk-estimator:hover label.sk-toggleable__label-arrow:before {color: black;}#sk-container-id-1 div.sk-toggleable__content {max-height: 0;max-width: 0;overflow: hidden;text-align: left;background-color: #f0f8ff;}#sk-container-id-1 div.sk-toggleable__content pre {margin: 0.2em;color: black;border-radius: 0.25em;background-color: #f0f8ff;}#sk-container-id-1 input.sk-toggleable__control:checked~div.sk-toggleable__content {max-height: 200px;max-width: 100%;overflow: auto;}#sk-container-id-1 input.sk-toggleable__control:checked~label.sk-toggleable__label-arrow:before {content: \"▾\";}#sk-container-id-1 div.sk-estimator input.sk-toggleable__control:checked~label.sk-toggleable__label {background-color: #d4ebff;}#sk-container-id-1 div.sk-label input.sk-toggleable__control:checked~label.sk-toggleable__label {background-color: #d4ebff;}#sk-container-id-1 input.sk-hidden--visually {border: 0;clip: rect(1px 1px 1px 1px);clip: rect(1px, 1px, 1px, 1px);height: 1px;margin: -1px;overflow: hidden;padding: 0;position: absolute;width: 1px;}#sk-container-id-1 div.sk-estimator {font-family: monospace;background-color: #f0f8ff;border: 1px dotted black;border-radius: 0.25em;box-sizing: border-box;margin-bottom: 0.5em;}#sk-container-id-1 div.sk-estimator:hover {background-color: #d4ebff;}#sk-container-id-1 div.sk-parallel-item::after {content: \"\";width: 100%;border-bottom: 1px solid gray;flex-grow: 1;}#sk-container-id-1 div.sk-label:hover label.sk-toggleable__label {background-color: #d4ebff;}#sk-container-id-1 div.sk-serial::before {content: \"\";position: absolute;border-left: 1px solid gray;box-sizing: border-box;top: 0;bottom: 0;left: 50%;z-index: 0;}#sk-container-id-1 div.sk-serial {display: flex;flex-direction: column;align-items: center;background-color: white;padding-right: 0.2em;padding-left: 0.2em;position: relative;}#sk-container-id-1 div.sk-item {position: relative;z-index: 1;}#sk-container-id-1 div.sk-parallel {display: flex;align-items: stretch;justify-content: center;background-color: white;position: relative;}#sk-container-id-1 div.sk-item::before, #sk-container-id-1 div.sk-parallel-item::before {content: \"\";position: absolute;border-left: 1px solid gray;box-sizing: border-box;top: 0;bottom: 0;left: 50%;z-index: -1;}#sk-container-id-1 div.sk-parallel-item {display: flex;flex-direction: column;z-index: 1;position: relative;background-color: white;}#sk-container-id-1 div.sk-parallel-item:first-child::after {align-self: flex-end;width: 50%;}#sk-container-id-1 div.sk-parallel-item:last-child::after {align-self: flex-start;width: 50%;}#sk-container-id-1 div.sk-parallel-item:only-child::after {width: 0;}#sk-container-id-1 div.sk-dashed-wrapped {border: 1px dashed gray;margin: 0 0.4em 0.5em 0.4em;box-sizing: border-box;padding-bottom: 0.4em;background-color: white;}#sk-container-id-1 div.sk-label label {font-family: monospace;font-weight: bold;display: inline-block;line-height: 1.2em;}#sk-container-id-1 div.sk-label-container {text-align: center;}#sk-container-id-1 div.sk-container {/* jupyter's `normalize.less` sets `[hidden] { display: none; }` but bootstrap.min.css set `[hidden] { display: none !important; }` so we also need the `!important` here to be able to override the default hidden behavior on the sphinx rendered scikit-learn.org. See: https://github.com/scikit-learn/scikit-learn/issues/21755 */display: inline-block !important;position: relative;}#sk-container-id-1 div.sk-text-repr-fallback {display: none;}</style><div id=\"sk-container-id-1\" class=\"sk-top-container\"><div class=\"sk-text-repr-fallback\"><pre>LogisticRegression(max_iter=10000)</pre><b>In a Jupyter environment, please rerun this cell to show the HTML representation or trust the notebook. <br />On GitHub, the HTML representation is unable to render, please try loading this page with nbviewer.org.</b></div><div class=\"sk-container\" hidden><div class=\"sk-item\"><div class=\"sk-estimator sk-toggleable\"><input class=\"sk-toggleable__control sk-hidden--visually\" id=\"sk-estimator-id-1\" type=\"checkbox\" checked><label for=\"sk-estimator-id-1\" class=\"sk-toggleable__label sk-toggleable__label-arrow\">LogisticRegression</label><div class=\"sk-toggleable__content\"><pre>LogisticRegression(max_iter=10000)</pre></div></div></div></div></div>"
      ],
      "text/plain": [
       "LogisticRegression(max_iter=10000)"
      ]
     },
     "execution_count": 43,
     "metadata": {},
     "output_type": "execute_result"
    }
   ],
   "source": [
    "from sklearn.linear_model import LogisticRegression\n",
    "logmodel = LogisticRegression(max_iter=10000)\n",
    "logmodel.fit(newtrainDF, transporteds)"
   ]
  },
  {
   "cell_type": "code",
   "execution_count": 44,
   "id": "ce2cdb0a",
   "metadata": {
    "execution": {
     "iopub.execute_input": "2023-11-21T08:08:38.715624Z",
     "iopub.status.busy": "2023-11-21T08:08:38.714209Z",
     "iopub.status.idle": "2023-11-21T08:08:38.747171Z",
     "shell.execute_reply": "2023-11-21T08:08:38.746393Z"
    },
    "papermill": {
     "duration": 0.0656,
     "end_time": "2023-11-21T08:08:38.749612",
     "exception": false,
     "start_time": "2023-11-21T08:08:38.684012",
     "status": "completed"
    },
    "tags": []
   },
   "outputs": [],
   "source": [
    "df_test = pd.read_csv(\"/kaggle/input/spaceship-titanic/test.csv\")\n",
    "ids_test = df_test['PassengerId'].copy()\n",
    "# # Removing NANs\n",
    "# df_test[\"CryoSleep\"].fillna(df_test[\"CryoSleep\"].mode()[0],inplace=True)\n",
    "# df_test[\"Age\"].fillna(df_test[\"Age\"].mean(),inplace=True)\n",
    "# df_test[\"RoomService\"].fillna(df_test[\"RoomService\"].mean(),inplace=True)\n",
    "# df_test[\"FoodCourt\"].fillna(df_test[\"FoodCourt\"].mean(),inplace=True)\n",
    "# df_test[\"ShoppingMall\"].fillna(df_test[\"ShoppingMall\"].mean(),inplace=True)\n",
    "# df_test[\"Spa\"].fillna(df_test[\"Spa\"].mean(),inplace=True)\n",
    "# df_test[\"VRDeck\"].fillna(df_test[\"VRDeck\"].mean(),inplace=True)\n",
    "# df_test.VIP = np.where(df_test.VIP,1,0)\n",
    "# df_test.CryoSleep = np.where(df_test.CryoSleep,1,0)\n",
    "# df_test = df_test.drop([\"Name\",\"HomePlanet\",\"Destination\",\"Cabin\"], axis='columns')\n",
    "# df_test.info()"
   ]
  },
  {
   "cell_type": "code",
   "execution_count": 45,
   "id": "3fb01a90",
   "metadata": {
    "execution": {
     "iopub.execute_input": "2023-11-21T08:08:38.794107Z",
     "iopub.status.busy": "2023-11-21T08:08:38.793746Z",
     "iopub.status.idle": "2023-11-21T08:08:38.812672Z",
     "shell.execute_reply": "2023-11-21T08:08:38.811449Z"
    },
    "papermill": {
     "duration": 0.042697,
     "end_time": "2023-11-21T08:08:38.815033",
     "exception": false,
     "start_time": "2023-11-21T08:08:38.772336",
     "status": "completed"
    },
    "tags": []
   },
   "outputs": [
    {
     "data": {
      "text/html": [
       "<div>\n",
       "<style scoped>\n",
       "    .dataframe tbody tr th:only-of-type {\n",
       "        vertical-align: middle;\n",
       "    }\n",
       "\n",
       "    .dataframe tbody tr th {\n",
       "        vertical-align: top;\n",
       "    }\n",
       "\n",
       "    .dataframe thead th {\n",
       "        text-align: right;\n",
       "    }\n",
       "</style>\n",
       "<table border=\"1\" class=\"dataframe\">\n",
       "  <thead>\n",
       "    <tr style=\"text-align: right;\">\n",
       "      <th></th>\n",
       "      <th>PassengerId</th>\n",
       "      <th>HomePlanet</th>\n",
       "      <th>CryoSleep</th>\n",
       "      <th>Cabin</th>\n",
       "      <th>Destination</th>\n",
       "      <th>Age</th>\n",
       "      <th>VIP</th>\n",
       "      <th>RoomService</th>\n",
       "      <th>FoodCourt</th>\n",
       "      <th>ShoppingMall</th>\n",
       "      <th>Spa</th>\n",
       "      <th>VRDeck</th>\n",
       "      <th>Name</th>\n",
       "    </tr>\n",
       "  </thead>\n",
       "  <tbody>\n",
       "    <tr>\n",
       "      <th>0</th>\n",
       "      <td>0013_01</td>\n",
       "      <td>Earth</td>\n",
       "      <td>1.0</td>\n",
       "      <td>G/3/S</td>\n",
       "      <td>TRAPPIST-1e</td>\n",
       "      <td>27.0</td>\n",
       "      <td>False</td>\n",
       "      <td>0.0</td>\n",
       "      <td>0.0</td>\n",
       "      <td>0.0</td>\n",
       "      <td>0.0</td>\n",
       "      <td>0.0</td>\n",
       "      <td>Nelly Carsoning</td>\n",
       "    </tr>\n",
       "    <tr>\n",
       "      <th>1</th>\n",
       "      <td>0018_01</td>\n",
       "      <td>Earth</td>\n",
       "      <td>0.0</td>\n",
       "      <td>F/4/S</td>\n",
       "      <td>TRAPPIST-1e</td>\n",
       "      <td>19.0</td>\n",
       "      <td>False</td>\n",
       "      <td>0.0</td>\n",
       "      <td>9.0</td>\n",
       "      <td>0.0</td>\n",
       "      <td>2823.0</td>\n",
       "      <td>0.0</td>\n",
       "      <td>Lerome Peckers</td>\n",
       "    </tr>\n",
       "    <tr>\n",
       "      <th>2</th>\n",
       "      <td>0019_01</td>\n",
       "      <td>Europa</td>\n",
       "      <td>1.0</td>\n",
       "      <td>C/0/S</td>\n",
       "      <td>55 Cancri e</td>\n",
       "      <td>31.0</td>\n",
       "      <td>False</td>\n",
       "      <td>0.0</td>\n",
       "      <td>0.0</td>\n",
       "      <td>0.0</td>\n",
       "      <td>0.0</td>\n",
       "      <td>0.0</td>\n",
       "      <td>Sabih Unhearfus</td>\n",
       "    </tr>\n",
       "  </tbody>\n",
       "</table>\n",
       "</div>"
      ],
      "text/plain": [
       "  PassengerId HomePlanet  CryoSleep  Cabin  Destination   Age    VIP  \\\n",
       "0     0013_01      Earth        1.0  G/3/S  TRAPPIST-1e  27.0  False   \n",
       "1     0018_01      Earth        0.0  F/4/S  TRAPPIST-1e  19.0  False   \n",
       "2     0019_01     Europa        1.0  C/0/S  55 Cancri e  31.0  False   \n",
       "\n",
       "   RoomService  FoodCourt  ShoppingMall     Spa  VRDeck             Name  \n",
       "0          0.0        0.0           0.0     0.0     0.0  Nelly Carsoning  \n",
       "1          0.0        9.0           0.0  2823.0     0.0   Lerome Peckers  \n",
       "2          0.0        0.0           0.0     0.0     0.0  Sabih Unhearfus  "
      ]
     },
     "execution_count": 45,
     "metadata": {},
     "output_type": "execute_result"
    }
   ],
   "source": [
    "df_test['CryoSleep'] = df_test['CryoSleep'].replace({True: 1, False: 0})\n",
    "df_test.head(3)"
   ]
  },
  {
   "cell_type": "code",
   "execution_count": 46,
   "id": "a52c8ea4",
   "metadata": {
    "execution": {
     "iopub.execute_input": "2023-11-21T08:08:38.860448Z",
     "iopub.status.busy": "2023-11-21T08:08:38.859214Z",
     "iopub.status.idle": "2023-11-21T08:08:38.879396Z",
     "shell.execute_reply": "2023-11-21T08:08:38.878360Z"
    },
    "papermill": {
     "duration": 0.045426,
     "end_time": "2023-11-21T08:08:38.881535",
     "exception": false,
     "start_time": "2023-11-21T08:08:38.836109",
     "status": "completed"
    },
    "tags": []
   },
   "outputs": [
    {
     "data": {
      "text/html": [
       "<div>\n",
       "<style scoped>\n",
       "    .dataframe tbody tr th:only-of-type {\n",
       "        vertical-align: middle;\n",
       "    }\n",
       "\n",
       "    .dataframe tbody tr th {\n",
       "        vertical-align: top;\n",
       "    }\n",
       "\n",
       "    .dataframe thead th {\n",
       "        text-align: right;\n",
       "    }\n",
       "</style>\n",
       "<table border=\"1\" class=\"dataframe\">\n",
       "  <thead>\n",
       "    <tr style=\"text-align: right;\">\n",
       "      <th></th>\n",
       "      <th>PassengerId</th>\n",
       "      <th>HomePlanet</th>\n",
       "      <th>CryoSleep</th>\n",
       "      <th>Cabin</th>\n",
       "      <th>Destination</th>\n",
       "      <th>Age</th>\n",
       "      <th>VIP</th>\n",
       "      <th>RoomService</th>\n",
       "      <th>FoodCourt</th>\n",
       "      <th>ShoppingMall</th>\n",
       "      <th>Spa</th>\n",
       "      <th>VRDeck</th>\n",
       "      <th>Name</th>\n",
       "    </tr>\n",
       "  </thead>\n",
       "  <tbody>\n",
       "    <tr>\n",
       "      <th>0</th>\n",
       "      <td>0013_01</td>\n",
       "      <td>1.0</td>\n",
       "      <td>1.0</td>\n",
       "      <td>G/3/S</td>\n",
       "      <td>TRAPPIST-1e</td>\n",
       "      <td>27.0</td>\n",
       "      <td>False</td>\n",
       "      <td>0.0</td>\n",
       "      <td>0.0</td>\n",
       "      <td>0.0</td>\n",
       "      <td>0.0</td>\n",
       "      <td>0.0</td>\n",
       "      <td>Nelly Carsoning</td>\n",
       "    </tr>\n",
       "    <tr>\n",
       "      <th>1</th>\n",
       "      <td>0018_01</td>\n",
       "      <td>1.0</td>\n",
       "      <td>0.0</td>\n",
       "      <td>F/4/S</td>\n",
       "      <td>TRAPPIST-1e</td>\n",
       "      <td>19.0</td>\n",
       "      <td>False</td>\n",
       "      <td>0.0</td>\n",
       "      <td>9.0</td>\n",
       "      <td>0.0</td>\n",
       "      <td>2823.0</td>\n",
       "      <td>0.0</td>\n",
       "      <td>Lerome Peckers</td>\n",
       "    </tr>\n",
       "    <tr>\n",
       "      <th>2</th>\n",
       "      <td>0019_01</td>\n",
       "      <td>2.0</td>\n",
       "      <td>1.0</td>\n",
       "      <td>C/0/S</td>\n",
       "      <td>55 Cancri e</td>\n",
       "      <td>31.0</td>\n",
       "      <td>False</td>\n",
       "      <td>0.0</td>\n",
       "      <td>0.0</td>\n",
       "      <td>0.0</td>\n",
       "      <td>0.0</td>\n",
       "      <td>0.0</td>\n",
       "      <td>Sabih Unhearfus</td>\n",
       "    </tr>\n",
       "  </tbody>\n",
       "</table>\n",
       "</div>"
      ],
      "text/plain": [
       "  PassengerId  HomePlanet  CryoSleep  Cabin  Destination   Age    VIP  \\\n",
       "0     0013_01         1.0        1.0  G/3/S  TRAPPIST-1e  27.0  False   \n",
       "1     0018_01         1.0        0.0  F/4/S  TRAPPIST-1e  19.0  False   \n",
       "2     0019_01         2.0        1.0  C/0/S  55 Cancri e  31.0  False   \n",
       "\n",
       "   RoomService  FoodCourt  ShoppingMall     Spa  VRDeck             Name  \n",
       "0          0.0        0.0           0.0     0.0     0.0  Nelly Carsoning  \n",
       "1          0.0        9.0           0.0  2823.0     0.0   Lerome Peckers  \n",
       "2          0.0        0.0           0.0     0.0     0.0  Sabih Unhearfus  "
      ]
     },
     "execution_count": 46,
     "metadata": {},
     "output_type": "execute_result"
    }
   ],
   "source": [
    "df_test['HomePlanet'].replace('Earth', 1, inplace=True)\n",
    "df_test['HomePlanet'].replace('Europa', 2, inplace=True)\n",
    "df_test['HomePlanet'].replace('Mars', 3, inplace=True)\n",
    "df_test.head(3)"
   ]
  },
  {
   "cell_type": "code",
   "execution_count": 47,
   "id": "ee9e996d",
   "metadata": {
    "execution": {
     "iopub.execute_input": "2023-11-21T08:08:38.924306Z",
     "iopub.status.busy": "2023-11-21T08:08:38.923271Z",
     "iopub.status.idle": "2023-11-21T08:08:38.944296Z",
     "shell.execute_reply": "2023-11-21T08:08:38.943366Z"
    },
    "papermill": {
     "duration": 0.04424,
     "end_time": "2023-11-21T08:08:38.946187",
     "exception": false,
     "start_time": "2023-11-21T08:08:38.901947",
     "status": "completed"
    },
    "tags": []
   },
   "outputs": [
    {
     "data": {
      "text/html": [
       "<div>\n",
       "<style scoped>\n",
       "    .dataframe tbody tr th:only-of-type {\n",
       "        vertical-align: middle;\n",
       "    }\n",
       "\n",
       "    .dataframe tbody tr th {\n",
       "        vertical-align: top;\n",
       "    }\n",
       "\n",
       "    .dataframe thead th {\n",
       "        text-align: right;\n",
       "    }\n",
       "</style>\n",
       "<table border=\"1\" class=\"dataframe\">\n",
       "  <thead>\n",
       "    <tr style=\"text-align: right;\">\n",
       "      <th></th>\n",
       "      <th>PassengerId</th>\n",
       "      <th>HomePlanet</th>\n",
       "      <th>CryoSleep</th>\n",
       "      <th>Cabin</th>\n",
       "      <th>Destination</th>\n",
       "      <th>Age</th>\n",
       "      <th>VIP</th>\n",
       "      <th>RoomService</th>\n",
       "      <th>FoodCourt</th>\n",
       "      <th>ShoppingMall</th>\n",
       "      <th>Spa</th>\n",
       "      <th>VRDeck</th>\n",
       "      <th>Name</th>\n",
       "    </tr>\n",
       "  </thead>\n",
       "  <tbody>\n",
       "    <tr>\n",
       "      <th>0</th>\n",
       "      <td>0013_01</td>\n",
       "      <td>1.0</td>\n",
       "      <td>1.0</td>\n",
       "      <td>G/3/S</td>\n",
       "      <td>3.0</td>\n",
       "      <td>27.0</td>\n",
       "      <td>False</td>\n",
       "      <td>0.0</td>\n",
       "      <td>0.0</td>\n",
       "      <td>0.0</td>\n",
       "      <td>0.0</td>\n",
       "      <td>0.0</td>\n",
       "      <td>Nelly Carsoning</td>\n",
       "    </tr>\n",
       "    <tr>\n",
       "      <th>1</th>\n",
       "      <td>0018_01</td>\n",
       "      <td>1.0</td>\n",
       "      <td>0.0</td>\n",
       "      <td>F/4/S</td>\n",
       "      <td>3.0</td>\n",
       "      <td>19.0</td>\n",
       "      <td>False</td>\n",
       "      <td>0.0</td>\n",
       "      <td>9.0</td>\n",
       "      <td>0.0</td>\n",
       "      <td>2823.0</td>\n",
       "      <td>0.0</td>\n",
       "      <td>Lerome Peckers</td>\n",
       "    </tr>\n",
       "    <tr>\n",
       "      <th>2</th>\n",
       "      <td>0019_01</td>\n",
       "      <td>2.0</td>\n",
       "      <td>1.0</td>\n",
       "      <td>C/0/S</td>\n",
       "      <td>1.0</td>\n",
       "      <td>31.0</td>\n",
       "      <td>False</td>\n",
       "      <td>0.0</td>\n",
       "      <td>0.0</td>\n",
       "      <td>0.0</td>\n",
       "      <td>0.0</td>\n",
       "      <td>0.0</td>\n",
       "      <td>Sabih Unhearfus</td>\n",
       "    </tr>\n",
       "    <tr>\n",
       "      <th>3</th>\n",
       "      <td>0021_01</td>\n",
       "      <td>2.0</td>\n",
       "      <td>0.0</td>\n",
       "      <td>C/1/S</td>\n",
       "      <td>3.0</td>\n",
       "      <td>38.0</td>\n",
       "      <td>False</td>\n",
       "      <td>0.0</td>\n",
       "      <td>6652.0</td>\n",
       "      <td>0.0</td>\n",
       "      <td>181.0</td>\n",
       "      <td>585.0</td>\n",
       "      <td>Meratz Caltilter</td>\n",
       "    </tr>\n",
       "    <tr>\n",
       "      <th>4</th>\n",
       "      <td>0023_01</td>\n",
       "      <td>1.0</td>\n",
       "      <td>0.0</td>\n",
       "      <td>F/5/S</td>\n",
       "      <td>3.0</td>\n",
       "      <td>20.0</td>\n",
       "      <td>False</td>\n",
       "      <td>10.0</td>\n",
       "      <td>0.0</td>\n",
       "      <td>635.0</td>\n",
       "      <td>0.0</td>\n",
       "      <td>0.0</td>\n",
       "      <td>Brence Harperez</td>\n",
       "    </tr>\n",
       "  </tbody>\n",
       "</table>\n",
       "</div>"
      ],
      "text/plain": [
       "  PassengerId  HomePlanet  CryoSleep  Cabin  Destination   Age    VIP  \\\n",
       "0     0013_01         1.0        1.0  G/3/S          3.0  27.0  False   \n",
       "1     0018_01         1.0        0.0  F/4/S          3.0  19.0  False   \n",
       "2     0019_01         2.0        1.0  C/0/S          1.0  31.0  False   \n",
       "3     0021_01         2.0        0.0  C/1/S          3.0  38.0  False   \n",
       "4     0023_01         1.0        0.0  F/5/S          3.0  20.0  False   \n",
       "\n",
       "   RoomService  FoodCourt  ShoppingMall     Spa  VRDeck              Name  \n",
       "0          0.0        0.0           0.0     0.0     0.0   Nelly Carsoning  \n",
       "1          0.0        9.0           0.0  2823.0     0.0    Lerome Peckers  \n",
       "2          0.0        0.0           0.0     0.0     0.0   Sabih Unhearfus  \n",
       "3          0.0     6652.0           0.0   181.0   585.0  Meratz Caltilter  \n",
       "4         10.0        0.0         635.0     0.0     0.0   Brence Harperez  "
      ]
     },
     "execution_count": 47,
     "metadata": {},
     "output_type": "execute_result"
    }
   ],
   "source": [
    "df_test['Destination'].replace('55 Cancri e', 1, inplace=True)\n",
    "df_test['Destination'].replace('PSO J318.5-22', 2, inplace=True)\n",
    "df_test['Destination'].replace('TRAPPIST-1e', 3, inplace=True)\n",
    "# Calculate mean\n",
    "#df_test['Mean_luxury'] = df_test[['RoomService', 'FoodCourt', 'ShoppingMall', 'Spa', 'VRDeck']].mean(axis=1)\n",
    "df_test.head()"
   ]
  },
  {
   "cell_type": "code",
   "execution_count": 48,
   "id": "d84ec763",
   "metadata": {
    "execution": {
     "iopub.execute_input": "2023-11-21T08:08:38.988343Z",
     "iopub.status.busy": "2023-11-21T08:08:38.988014Z",
     "iopub.status.idle": "2023-11-21T08:08:38.992246Z",
     "shell.execute_reply": "2023-11-21T08:08:38.991368Z"
    },
    "papermill": {
     "duration": 0.027687,
     "end_time": "2023-11-21T08:08:38.994125",
     "exception": false,
     "start_time": "2023-11-21T08:08:38.966438",
     "status": "completed"
    },
    "tags": []
   },
   "outputs": [],
   "source": [
    "# df_test = df_test.drop(columns=['RoomService', 'FoodCourt', 'ShoppingMall', 'Spa', 'VRDeck','Name','VIP'])\n",
    "# df_test.head(1)"
   ]
  },
  {
   "cell_type": "code",
   "execution_count": 49,
   "id": "06f3d05d",
   "metadata": {
    "execution": {
     "iopub.execute_input": "2023-11-21T08:08:39.037698Z",
     "iopub.status.busy": "2023-11-21T08:08:39.036216Z",
     "iopub.status.idle": "2023-11-21T08:08:39.041678Z",
     "shell.execute_reply": "2023-11-21T08:08:39.040633Z"
    },
    "papermill": {
     "duration": 0.028876,
     "end_time": "2023-11-21T08:08:39.043753",
     "exception": false,
     "start_time": "2023-11-21T08:08:39.014877",
     "status": "completed"
    },
    "tags": []
   },
   "outputs": [],
   "source": [
    "# df_test['BigSpender'] = np.where(df_test.Mean_luxury > 1000, 1,0)\n",
    "# df_test['Mid_Spender'] = np.where(df_test.Mean_luxury >= 500, 1,0)\n",
    "# df_test['Non_Spender'] = np.where(df_test.Mean_luxury == 0, 1,0)\n",
    "# df_test.head(1)"
   ]
  },
  {
   "cell_type": "code",
   "execution_count": 50,
   "id": "fd002337",
   "metadata": {
    "execution": {
     "iopub.execute_input": "2023-11-21T08:08:39.088078Z",
     "iopub.status.busy": "2023-11-21T08:08:39.087760Z",
     "iopub.status.idle": "2023-11-21T08:08:39.091386Z",
     "shell.execute_reply": "2023-11-21T08:08:39.090451Z"
    },
    "papermill": {
     "duration": 0.028141,
     "end_time": "2023-11-21T08:08:39.093633",
     "exception": false,
     "start_time": "2023-11-21T08:08:39.065492",
     "status": "completed"
    },
    "tags": []
   },
   "outputs": [],
   "source": [
    "# df_test['Port'] = df_test['Cabin'].str.split('/').str[-1]\n",
    "# df_test['Port'].replace('S', 0, inplace=True)\n",
    "# df_test['Port'].replace('P', 1, inplace=True)\n",
    "# df_test.head(1)"
   ]
  },
  {
   "cell_type": "code",
   "execution_count": 51,
   "id": "87b92807",
   "metadata": {
    "execution": {
     "iopub.execute_input": "2023-11-21T08:08:39.137560Z",
     "iopub.status.busy": "2023-11-21T08:08:39.136910Z",
     "iopub.status.idle": "2023-11-21T08:08:39.141240Z",
     "shell.execute_reply": "2023-11-21T08:08:39.139850Z"
    },
    "papermill": {
     "duration": 0.028902,
     "end_time": "2023-11-21T08:08:39.143808",
     "exception": false,
     "start_time": "2023-11-21T08:08:39.114906",
     "status": "completed"
    },
    "tags": []
   },
   "outputs": [],
   "source": [
    "# df_test['Place'] = df_test['Cabin'].str.split('/').str[0]\n",
    "# letter_to_int = {'A': 1, 'B': 2, 'C': 3, 'D': 4, 'E': 5, 'F': 6, 'G': 7, 'T': 8}\n",
    "# df_test['Place'] = df_test['Place'].map(letter_to_int)\n",
    "# df_test.head(1)"
   ]
  },
  {
   "cell_type": "code",
   "execution_count": 52,
   "id": "8f04c158",
   "metadata": {
    "execution": {
     "iopub.execute_input": "2023-11-21T08:08:39.188309Z",
     "iopub.status.busy": "2023-11-21T08:08:39.187869Z",
     "iopub.status.idle": "2023-11-21T08:08:39.192568Z",
     "shell.execute_reply": "2023-11-21T08:08:39.191837Z"
    },
    "papermill": {
     "duration": 0.029038,
     "end_time": "2023-11-21T08:08:39.194178",
     "exception": false,
     "start_time": "2023-11-21T08:08:39.165140",
     "status": "completed"
    },
    "tags": []
   },
   "outputs": [],
   "source": [
    "# df_test['Cabin'] = df_test['Cabin'].str.split('/').str[1]\n",
    "# df_test.head(1)"
   ]
  },
  {
   "cell_type": "code",
   "execution_count": 53,
   "id": "6b9fc778",
   "metadata": {
    "execution": {
     "iopub.execute_input": "2023-11-21T08:08:39.237143Z",
     "iopub.status.busy": "2023-11-21T08:08:39.236807Z",
     "iopub.status.idle": "2023-11-21T08:08:39.241988Z",
     "shell.execute_reply": "2023-11-21T08:08:39.240676Z"
    },
    "papermill": {
     "duration": 0.029342,
     "end_time": "2023-11-21T08:08:39.244518",
     "exception": false,
     "start_time": "2023-11-21T08:08:39.215176",
     "status": "completed"
    },
    "tags": []
   },
   "outputs": [],
   "source": [
    "# df_test['Aged'] = np.where(df_test.Age > 15, 1,0)\n",
    "# df_test.head(1)"
   ]
  },
  {
   "cell_type": "code",
   "execution_count": 54,
   "id": "74d80b32",
   "metadata": {
    "execution": {
     "iopub.execute_input": "2023-11-21T08:08:39.291823Z",
     "iopub.status.busy": "2023-11-21T08:08:39.291484Z",
     "iopub.status.idle": "2023-11-21T08:08:39.307385Z",
     "shell.execute_reply": "2023-11-21T08:08:39.305946Z"
    },
    "papermill": {
     "duration": 0.042481,
     "end_time": "2023-11-21T08:08:39.309844",
     "exception": false,
     "start_time": "2023-11-21T08:08:39.267363",
     "status": "completed"
    },
    "tags": []
   },
   "outputs": [
    {
     "data": {
      "text/html": [
       "<div>\n",
       "<style scoped>\n",
       "    .dataframe tbody tr th:only-of-type {\n",
       "        vertical-align: middle;\n",
       "    }\n",
       "\n",
       "    .dataframe tbody tr th {\n",
       "        vertical-align: top;\n",
       "    }\n",
       "\n",
       "    .dataframe thead th {\n",
       "        text-align: right;\n",
       "    }\n",
       "</style>\n",
       "<table border=\"1\" class=\"dataframe\">\n",
       "  <thead>\n",
       "    <tr style=\"text-align: right;\">\n",
       "      <th></th>\n",
       "      <th>HomePlanet</th>\n",
       "      <th>CryoSleep</th>\n",
       "      <th>Destination</th>\n",
       "      <th>Age</th>\n",
       "      <th>RoomService</th>\n",
       "      <th>FoodCourt</th>\n",
       "      <th>ShoppingMall</th>\n",
       "      <th>Spa</th>\n",
       "      <th>VRDeck</th>\n",
       "    </tr>\n",
       "  </thead>\n",
       "  <tbody>\n",
       "    <tr>\n",
       "      <th>0</th>\n",
       "      <td>1.0</td>\n",
       "      <td>1.0</td>\n",
       "      <td>3.0</td>\n",
       "      <td>27.0</td>\n",
       "      <td>0.0</td>\n",
       "      <td>0.0</td>\n",
       "      <td>0.0</td>\n",
       "      <td>0.0</td>\n",
       "      <td>0.0</td>\n",
       "    </tr>\n",
       "  </tbody>\n",
       "</table>\n",
       "</div>"
      ],
      "text/plain": [
       "   HomePlanet  CryoSleep  Destination   Age  RoomService  FoodCourt  \\\n",
       "0         1.0        1.0          3.0  27.0          0.0        0.0   \n",
       "\n",
       "   ShoppingMall  Spa  VRDeck  \n",
       "0           0.0  0.0     0.0  "
      ]
     },
     "execution_count": 54,
     "metadata": {},
     "output_type": "execute_result"
    }
   ],
   "source": [
    "df_test = df_test.drop(columns=['PassengerId','Cabin','VIP','Name'])\n",
    "df_test.head(1)"
   ]
  },
  {
   "cell_type": "code",
   "execution_count": 55,
   "id": "39ae1f19",
   "metadata": {
    "execution": {
     "iopub.execute_input": "2023-11-21T08:08:39.355705Z",
     "iopub.status.busy": "2023-11-21T08:08:39.354687Z",
     "iopub.status.idle": "2023-11-21T08:08:39.359962Z",
     "shell.execute_reply": "2023-11-21T08:08:39.358637Z"
    },
    "papermill": {
     "duration": 0.030529,
     "end_time": "2023-11-21T08:08:39.362269",
     "exception": false,
     "start_time": "2023-11-21T08:08:39.331740",
     "status": "completed"
    },
    "tags": []
   },
   "outputs": [],
   "source": [
    "# columns_titles = [\"HomePlanet\",\"CryoSleep\", \"Destination\",\"Age\",\"Mean_luxury\",\"Port\",\"Place\"]\n",
    "# df_test=df_test.reindex(columns=columns_titles)\n",
    "# df_test.head(3)"
   ]
  },
  {
   "cell_type": "code",
   "execution_count": 56,
   "id": "68ee1d1b",
   "metadata": {
    "execution": {
     "iopub.execute_input": "2023-11-21T08:08:39.407779Z",
     "iopub.status.busy": "2023-11-21T08:08:39.407423Z",
     "iopub.status.idle": "2023-11-21T08:08:39.421029Z",
     "shell.execute_reply": "2023-11-21T08:08:39.420075Z"
    },
    "papermill": {
     "duration": 0.037941,
     "end_time": "2023-11-21T08:08:39.422635",
     "exception": false,
     "start_time": "2023-11-21T08:08:39.384694",
     "status": "completed"
    },
    "tags": []
   },
   "outputs": [
    {
     "data": {
      "text/html": [
       "<div>\n",
       "<style scoped>\n",
       "    .dataframe tbody tr th:only-of-type {\n",
       "        vertical-align: middle;\n",
       "    }\n",
       "\n",
       "    .dataframe tbody tr th {\n",
       "        vertical-align: top;\n",
       "    }\n",
       "\n",
       "    .dataframe thead th {\n",
       "        text-align: right;\n",
       "    }\n",
       "</style>\n",
       "<table border=\"1\" class=\"dataframe\">\n",
       "  <thead>\n",
       "    <tr style=\"text-align: right;\">\n",
       "      <th></th>\n",
       "      <th>HomePlanet</th>\n",
       "      <th>CryoSleep</th>\n",
       "      <th>Destination</th>\n",
       "      <th>Age</th>\n",
       "      <th>RoomService</th>\n",
       "      <th>FoodCourt</th>\n",
       "      <th>ShoppingMall</th>\n",
       "      <th>Spa</th>\n",
       "      <th>VRDeck</th>\n",
       "    </tr>\n",
       "  </thead>\n",
       "  <tbody>\n",
       "    <tr>\n",
       "      <th>0</th>\n",
       "      <td>1.0</td>\n",
       "      <td>1.0</td>\n",
       "      <td>3.0</td>\n",
       "      <td>27.0</td>\n",
       "      <td>0.0</td>\n",
       "      <td>0.0</td>\n",
       "      <td>0.0</td>\n",
       "      <td>0.0</td>\n",
       "      <td>0.0</td>\n",
       "    </tr>\n",
       "  </tbody>\n",
       "</table>\n",
       "</div>"
      ],
      "text/plain": [
       "   HomePlanet  CryoSleep  Destination   Age  RoomService  FoodCourt  \\\n",
       "0         1.0        1.0          3.0  27.0          0.0        0.0   \n",
       "\n",
       "   ShoppingMall  Spa  VRDeck  \n",
       "0           0.0  0.0     0.0  "
      ]
     },
     "execution_count": 56,
     "metadata": {},
     "output_type": "execute_result"
    }
   ],
   "source": [
    "df_test.head(1)"
   ]
  },
  {
   "cell_type": "code",
   "execution_count": 57,
   "id": "6efa3ab4",
   "metadata": {
    "execution": {
     "iopub.execute_input": "2023-11-21T08:08:39.467380Z",
     "iopub.status.busy": "2023-11-21T08:08:39.467022Z",
     "iopub.status.idle": "2023-11-21T08:08:39.486550Z",
     "shell.execute_reply": "2023-11-21T08:08:39.485090Z"
    },
    "papermill": {
     "duration": 0.045155,
     "end_time": "2023-11-21T08:08:39.488948",
     "exception": false,
     "start_time": "2023-11-21T08:08:39.443793",
     "status": "completed"
    },
    "tags": []
   },
   "outputs": [
    {
     "name": "stdout",
     "output_type": "stream",
     "text": [
      "<class 'pandas.core.frame.DataFrame'>\n",
      "RangeIndex: 4277 entries, 0 to 4276\n",
      "Data columns (total 9 columns):\n",
      " #   Column        Non-Null Count  Dtype  \n",
      "---  ------        --------------  -----  \n",
      " 0   HomePlanet    4277 non-null   float64\n",
      " 1   CryoSleep     4277 non-null   float64\n",
      " 2   Destination   4277 non-null   float64\n",
      " 3   Age           4277 non-null   float64\n",
      " 4   RoomService   4277 non-null   float64\n",
      " 5   FoodCourt     4277 non-null   float64\n",
      " 6   ShoppingMall  4277 non-null   float64\n",
      " 7   Spa           4277 non-null   float64\n",
      " 8   VRDeck        4277 non-null   float64\n",
      "dtypes: float64(9)\n",
      "memory usage: 300.9 KB\n"
     ]
    }
   ],
   "source": [
    "df_test[\"HomePlanet\"].fillna(df_test[\"HomePlanet\"].mode()[0],inplace=True)\n",
    "df_test[\"CryoSleep\"].fillna(df_test[\"CryoSleep\"].mode()[0],inplace=True)\n",
    "df_test[\"Destination\"].fillna(df_test[\"Destination\"].mode()[0],inplace=True)\n",
    "df_test[\"Age\"].fillna(int(df_test[\"Age\"].mean()),inplace=True)\n",
    "df_test[\"RoomService\"].fillna(df_test[\"RoomService\"].mean(),inplace=True)\n",
    "df_test[\"FoodCourt\"].fillna(df_test[\"FoodCourt\"].mean(),inplace=True)\n",
    "df_test[\"ShoppingMall\"].fillna(df_test[\"ShoppingMall\"].mean(),inplace=True)\n",
    "df_test[\"Spa\"].fillna(df_test[\"Spa\"].mean(),inplace=True)\n",
    "df_test[\"VRDeck\"].fillna(df_test[\"VRDeck\"].mean(),inplace=True)\n",
    "df_test.info()"
   ]
  },
  {
   "cell_type": "code",
   "execution_count": 58,
   "id": "96df26a6",
   "metadata": {
    "execution": {
     "iopub.execute_input": "2023-11-21T08:08:39.532517Z",
     "iopub.status.busy": "2023-11-21T08:08:39.532181Z",
     "iopub.status.idle": "2023-11-21T08:08:39.539215Z",
     "shell.execute_reply": "2023-11-21T08:08:39.538497Z"
    },
    "papermill": {
     "duration": 0.031105,
     "end_time": "2023-11-21T08:08:39.541338",
     "exception": false,
     "start_time": "2023-11-21T08:08:39.510233",
     "status": "completed"
    },
    "tags": []
   },
   "outputs": [],
   "source": [
    " predictions = logmodel.predict(df_test)"
   ]
  },
  {
   "cell_type": "code",
   "execution_count": 59,
   "id": "bfbbbb37",
   "metadata": {
    "execution": {
     "iopub.execute_input": "2023-11-21T08:08:39.601798Z",
     "iopub.status.busy": "2023-11-21T08:08:39.600596Z",
     "iopub.status.idle": "2023-11-21T08:08:39.606838Z",
     "shell.execute_reply": "2023-11-21T08:08:39.606164Z"
    },
    "papermill": {
     "duration": 0.038011,
     "end_time": "2023-11-21T08:08:39.608475",
     "exception": false,
     "start_time": "2023-11-21T08:08:39.570464",
     "status": "completed"
    },
    "tags": []
   },
   "outputs": [
    {
     "data": {
      "text/plain": [
       "array(['0013_01', '0018_01', '0019_01', ..., '9271_01', '9273_01',\n",
       "       '9277_01'], dtype=object)"
      ]
     },
     "execution_count": 59,
     "metadata": {},
     "output_type": "execute_result"
    }
   ],
   "source": [
    "# # from sklearn.metrics import classification_report\n",
    "# # print(classification_report(y_test, predictions))\n",
    "# df_newTest = pd.read_csv(\"/kaggle/input/spaceship-titanic/test.csv\")\n",
    "# ids_test = df_newTest['PassengerId'].copy()\n",
    "ids_test.values\n",
    "# predictions"
   ]
  },
  {
   "cell_type": "code",
   "execution_count": 60,
   "id": "b4f85628",
   "metadata": {
    "execution": {
     "iopub.execute_input": "2023-11-21T08:08:39.664893Z",
     "iopub.status.busy": "2023-11-21T08:08:39.664551Z",
     "iopub.status.idle": "2023-11-21T08:08:39.684531Z",
     "shell.execute_reply": "2023-11-21T08:08:39.683706Z"
    },
    "papermill": {
     "duration": 0.048983,
     "end_time": "2023-11-21T08:08:39.686392",
     "exception": false,
     "start_time": "2023-11-21T08:08:39.637409",
     "status": "completed"
    },
    "tags": []
   },
   "outputs": [
    {
     "data": {
      "text/html": [
       "<div>\n",
       "<style scoped>\n",
       "    .dataframe tbody tr th:only-of-type {\n",
       "        vertical-align: middle;\n",
       "    }\n",
       "\n",
       "    .dataframe tbody tr th {\n",
       "        vertical-align: top;\n",
       "    }\n",
       "\n",
       "    .dataframe thead th {\n",
       "        text-align: right;\n",
       "    }\n",
       "</style>\n",
       "<table border=\"1\" class=\"dataframe\">\n",
       "  <thead>\n",
       "    <tr style=\"text-align: right;\">\n",
       "      <th></th>\n",
       "      <th>PassengerId</th>\n",
       "      <th>Transported</th>\n",
       "    </tr>\n",
       "  </thead>\n",
       "  <tbody>\n",
       "    <tr>\n",
       "      <th>0</th>\n",
       "      <td>0013_01</td>\n",
       "      <td>True</td>\n",
       "    </tr>\n",
       "    <tr>\n",
       "      <th>1</th>\n",
       "      <td>0018_01</td>\n",
       "      <td>False</td>\n",
       "    </tr>\n",
       "    <tr>\n",
       "      <th>2</th>\n",
       "      <td>0019_01</td>\n",
       "      <td>True</td>\n",
       "    </tr>\n",
       "    <tr>\n",
       "      <th>3</th>\n",
       "      <td>0021_01</td>\n",
       "      <td>True</td>\n",
       "    </tr>\n",
       "    <tr>\n",
       "      <th>4</th>\n",
       "      <td>0023_01</td>\n",
       "      <td>False</td>\n",
       "    </tr>\n",
       "  </tbody>\n",
       "</table>\n",
       "</div>"
      ],
      "text/plain": [
       "  PassengerId  Transported\n",
       "0     0013_01         True\n",
       "1     0018_01        False\n",
       "2     0019_01         True\n",
       "3     0021_01         True\n",
       "4     0023_01        False"
      ]
     },
     "execution_count": 60,
     "metadata": {},
     "output_type": "execute_result"
    }
   ],
   "source": [
    "df_predictions = pd.DataFrame()\n",
    "df_predictions['PassengerId'] = pd.Series(ids_test.T.values)\n",
    "df_predictions['Transported'] = pd.Series(predictions)\n",
    "df_predictions.Transported = np.where(df_predictions.Transported==1,True,False)\n",
    "df_predictions.to_csv(\"3rdAttempt.csv\", sep=',', index=False)\n",
    "df_predictions.head()"
   ]
  },
  {
   "cell_type": "markdown",
   "id": "686821f0",
   "metadata": {
    "papermill": {
     "duration": 0.021335,
     "end_time": "2023-11-21T08:08:39.729979",
     "exception": false,
     "start_time": "2023-11-21T08:08:39.708644",
     "status": "completed"
    },
    "tags": []
   },
   "source": [
    "In this report, the 'Precision' column tells us the proportion of positive identifications (i.e., the passenger was transported) that were actually correct. The 'Recall' column tells us the proportion of actual positives that were identified correctly. The 'F1-score' is a function of Precision and Recall and gives a balanced measure of the model's performance.\n",
    "\n",
    "Remember, this is a basic model. Depending on the performance of the model, you might need to consider more advanced techniques such as handling class imbalance, feature engineering, or using a more complex model."
   ]
  }
 ],
 "metadata": {
  "kaggle": {
   "accelerator": "none",
   "dataSources": [
    {
     "databundleVersionId": 3220602,
     "sourceId": 34377,
     "sourceType": "competition"
    }
   ],
   "dockerImageVersionId": 30558,
   "isGpuEnabled": false,
   "isInternetEnabled": false,
   "language": "python",
   "sourceType": "notebook"
  },
  "kernelspec": {
   "display_name": "Python 3",
   "language": "python",
   "name": "python3"
  },
  "language_info": {
   "codemirror_mode": {
    "name": "ipython",
    "version": 3
   },
   "file_extension": ".py",
   "mimetype": "text/x-python",
   "name": "python",
   "nbconvert_exporter": "python",
   "pygments_lexer": "ipython3",
   "version": "3.10.12"
  },
  "papermill": {
   "default_parameters": {},
   "duration": 14.519468,
   "end_time": "2023-11-21T08:08:40.372915",
   "environment_variables": {},
   "exception": null,
   "input_path": "__notebook__.ipynb",
   "output_path": "__notebook__.ipynb",
   "parameters": {},
   "start_time": "2023-11-21T08:08:25.853447",
   "version": "2.4.0"
  }
 },
 "nbformat": 4,
 "nbformat_minor": 5
}
