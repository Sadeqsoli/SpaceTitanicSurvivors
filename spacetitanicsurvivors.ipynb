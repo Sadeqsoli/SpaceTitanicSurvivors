{
 "cells": [
  {
   "cell_type": "code",
   "execution_count": 1,
   "id": "5e56f057",
   "metadata": {
    "_cell_guid": "b1076dfc-b9ad-4769-8c92-a6c4dae69d19",
    "_uuid": "8f2839f25d086af736a60e9eeb907d3b93b6e0e5",
    "execution": {
     "iopub.execute_input": "2023-12-09T12:00:09.587258Z",
     "iopub.status.busy": "2023-12-09T12:00:09.586912Z",
     "iopub.status.idle": "2023-12-09T12:00:12.448645Z",
     "shell.execute_reply": "2023-12-09T12:00:12.447233Z"
    },
    "papermill": {
     "duration": 2.876707,
     "end_time": "2023-12-09T12:00:12.451634",
     "exception": false,
     "start_time": "2023-12-09T12:00:09.574927",
     "status": "completed"
    },
    "tags": []
   },
   "outputs": [
    {
     "name": "stdout",
     "output_type": "stream",
     "text": [
      "/kaggle/input/spaceship-titanic/sample_submission.csv\n",
      "/kaggle/input/spaceship-titanic/train.csv\n",
      "/kaggle/input/spaceship-titanic/test.csv\n"
     ]
    }
   ],
   "source": [
    "# This Python 3 environment comes with many helpful analytics libraries installed\n",
    "# It is defined by the kaggle/python Docker image: https://github.com/kaggle/docker-python\n",
    "# For example, here's several helpful packages to load\n",
    "\n",
    "import numpy as np # linear algebra\n",
    "import pandas as pd # data processing, CSV file I/O (e.g. pd.read_csv)\n",
    "import sklearn\n",
    "import datetime\n",
    "import matplotlib.pyplot as plt\n",
    "import missingno as msno\n",
    "from prettytable import PrettyTable\n",
    "from sklearn.preprocessing import MinMaxScaler\n",
    "from sklearn.preprocessing import StandardScaler\n",
    "import seaborn as sns\n",
    "from pandas.plotting import scatter_matrix\n",
    "sns.set(style='darkgrid', font_scale=1.4)\n",
    "\n",
    "# Input data files are available in the read-only \"../input/\" directory\n",
    "# For example, running this (by clicking run or pressing Shift+Enter) will list all files under the input directory\n",
    "\n",
    "import os\n",
    "for dirname, _, filenames in os.walk('/kaggle/input'):\n",
    "    for filename in filenames:\n",
    "        print(os.path.join(dirname, filename))\n",
    "\n",
    "# You can write up to 20GB to the current directory (/kaggle/working/) that gets preserved as output when you create a version using \"Save & Run All\" \n",
    "# You can also write temporary files to /kaggle/temp/, but they won't be saved outside of the current session"
   ]
  },
  {
   "cell_type": "markdown",
   "id": "1ed68291",
   "metadata": {
    "papermill": {
     "duration": 0.009759,
     "end_time": "2023-12-09T12:00:12.472022",
     "exception": false,
     "start_time": "2023-12-09T12:00:12.462263",
     "status": "completed"
    },
    "tags": []
   },
   "source": [
    "# 1. Getting Data"
   ]
  },
  {
   "cell_type": "code",
   "execution_count": 2,
   "id": "9d061661",
   "metadata": {
    "execution": {
     "iopub.execute_input": "2023-12-09T12:00:12.493835Z",
     "iopub.status.busy": "2023-12-09T12:00:12.493308Z",
     "iopub.status.idle": "2023-12-09T12:00:12.608704Z",
     "shell.execute_reply": "2023-12-09T12:00:12.607277Z"
    },
    "papermill": {
     "duration": 0.129042,
     "end_time": "2023-12-09T12:00:12.611087",
     "exception": false,
     "start_time": "2023-12-09T12:00:12.482045",
     "status": "completed"
    },
    "tags": []
   },
   "outputs": [
    {
     "data": {
      "text/html": [
       "<div>\n",
       "<style scoped>\n",
       "    .dataframe tbody tr th:only-of-type {\n",
       "        vertical-align: middle;\n",
       "    }\n",
       "\n",
       "    .dataframe tbody tr th {\n",
       "        vertical-align: top;\n",
       "    }\n",
       "\n",
       "    .dataframe thead th {\n",
       "        text-align: right;\n",
       "    }\n",
       "</style>\n",
       "<table border=\"1\" class=\"dataframe\">\n",
       "  <thead>\n",
       "    <tr style=\"text-align: right;\">\n",
       "      <th></th>\n",
       "      <th>PassengerId</th>\n",
       "      <th>HomePlanet</th>\n",
       "      <th>CryoSleep</th>\n",
       "      <th>Cabin</th>\n",
       "      <th>Destination</th>\n",
       "      <th>Age</th>\n",
       "      <th>VIP</th>\n",
       "      <th>RoomService</th>\n",
       "      <th>FoodCourt</th>\n",
       "      <th>ShoppingMall</th>\n",
       "      <th>Spa</th>\n",
       "      <th>VRDeck</th>\n",
       "      <th>Name</th>\n",
       "      <th>Transported</th>\n",
       "    </tr>\n",
       "  </thead>\n",
       "  <tbody>\n",
       "    <tr>\n",
       "      <th>0</th>\n",
       "      <td>0001_01</td>\n",
       "      <td>Europa</td>\n",
       "      <td>False</td>\n",
       "      <td>B/0/P</td>\n",
       "      <td>TRAPPIST-1e</td>\n",
       "      <td>39.0</td>\n",
       "      <td>False</td>\n",
       "      <td>0.0</td>\n",
       "      <td>0.0</td>\n",
       "      <td>0.0</td>\n",
       "      <td>0.0</td>\n",
       "      <td>0.0</td>\n",
       "      <td>Maham Ofracculy</td>\n",
       "      <td>False</td>\n",
       "    </tr>\n",
       "    <tr>\n",
       "      <th>1</th>\n",
       "      <td>0002_01</td>\n",
       "      <td>Earth</td>\n",
       "      <td>False</td>\n",
       "      <td>F/0/S</td>\n",
       "      <td>TRAPPIST-1e</td>\n",
       "      <td>24.0</td>\n",
       "      <td>False</td>\n",
       "      <td>109.0</td>\n",
       "      <td>9.0</td>\n",
       "      <td>25.0</td>\n",
       "      <td>549.0</td>\n",
       "      <td>44.0</td>\n",
       "      <td>Juanna Vines</td>\n",
       "      <td>True</td>\n",
       "    </tr>\n",
       "    <tr>\n",
       "      <th>2</th>\n",
       "      <td>0003_01</td>\n",
       "      <td>Europa</td>\n",
       "      <td>False</td>\n",
       "      <td>A/0/S</td>\n",
       "      <td>TRAPPIST-1e</td>\n",
       "      <td>58.0</td>\n",
       "      <td>True</td>\n",
       "      <td>43.0</td>\n",
       "      <td>3576.0</td>\n",
       "      <td>0.0</td>\n",
       "      <td>6715.0</td>\n",
       "      <td>49.0</td>\n",
       "      <td>Altark Susent</td>\n",
       "      <td>False</td>\n",
       "    </tr>\n",
       "    <tr>\n",
       "      <th>3</th>\n",
       "      <td>0003_02</td>\n",
       "      <td>Europa</td>\n",
       "      <td>False</td>\n",
       "      <td>A/0/S</td>\n",
       "      <td>TRAPPIST-1e</td>\n",
       "      <td>33.0</td>\n",
       "      <td>False</td>\n",
       "      <td>0.0</td>\n",
       "      <td>1283.0</td>\n",
       "      <td>371.0</td>\n",
       "      <td>3329.0</td>\n",
       "      <td>193.0</td>\n",
       "      <td>Solam Susent</td>\n",
       "      <td>False</td>\n",
       "    </tr>\n",
       "    <tr>\n",
       "      <th>4</th>\n",
       "      <td>0004_01</td>\n",
       "      <td>Earth</td>\n",
       "      <td>False</td>\n",
       "      <td>F/1/S</td>\n",
       "      <td>TRAPPIST-1e</td>\n",
       "      <td>16.0</td>\n",
       "      <td>False</td>\n",
       "      <td>303.0</td>\n",
       "      <td>70.0</td>\n",
       "      <td>151.0</td>\n",
       "      <td>565.0</td>\n",
       "      <td>2.0</td>\n",
       "      <td>Willy Santantines</td>\n",
       "      <td>True</td>\n",
       "    </tr>\n",
       "  </tbody>\n",
       "</table>\n",
       "</div>"
      ],
      "text/plain": [
       "  PassengerId HomePlanet CryoSleep  Cabin  Destination   Age    VIP  \\\n",
       "0     0001_01     Europa     False  B/0/P  TRAPPIST-1e  39.0  False   \n",
       "1     0002_01      Earth     False  F/0/S  TRAPPIST-1e  24.0  False   \n",
       "2     0003_01     Europa     False  A/0/S  TRAPPIST-1e  58.0   True   \n",
       "3     0003_02     Europa     False  A/0/S  TRAPPIST-1e  33.0  False   \n",
       "4     0004_01      Earth     False  F/1/S  TRAPPIST-1e  16.0  False   \n",
       "\n",
       "   RoomService  FoodCourt  ShoppingMall     Spa  VRDeck               Name  \\\n",
       "0          0.0        0.0           0.0     0.0     0.0    Maham Ofracculy   \n",
       "1        109.0        9.0          25.0   549.0    44.0       Juanna Vines   \n",
       "2         43.0     3576.0           0.0  6715.0    49.0      Altark Susent   \n",
       "3          0.0     1283.0         371.0  3329.0   193.0       Solam Susent   \n",
       "4        303.0       70.0         151.0   565.0     2.0  Willy Santantines   \n",
       "\n",
       "  Transported  \n",
       "0       False  \n",
       "1        True  \n",
       "2       False  \n",
       "3       False  \n",
       "4        True  "
      ]
     },
     "execution_count": 2,
     "metadata": {},
     "output_type": "execute_result"
    }
   ],
   "source": [
    "train = pd.read_csv('../input/spaceship-titanic/train.csv')\n",
    "test = pd.read_csv('../input/spaceship-titanic/test.csv')\n",
    "\n",
    "train_test = pd.concat([train, test])\n",
    "\n",
    "train_test.head()"
   ]
  },
  {
   "cell_type": "markdown",
   "id": "94dc722a",
   "metadata": {
    "papermill": {
     "duration": 0.010498,
     "end_time": "2023-12-09T12:00:12.632998",
     "exception": false,
     "start_time": "2023-12-09T12:00:12.622500",
     "status": "completed"
    },
    "tags": []
   },
   "source": [
    "# 2. Challenge Description\n",
    "> PassengerId - A unique Id for each passenger. Each Id takes the form gggg_pp where gggg indicates a group the passenger is travelling with and pp is their number within the group. People in a group are often family members, but not always.\n",
    "> \n",
    "> HomePlanet - The planet the passenger departed from, typically their planet of permanent residence.\n",
    "> \n",
    "> CryoSleep - Indicates whether the passenger elected to be put into suspended animation for the duration of the voyage. Passengers in cryosleep are confined to their cabins.\n",
    "> Cabin - The cabin number where the passenger is staying. Takes the form deck/num/side, where side can be either P for Port or S for Starboard.\n",
    "> Destination - The planet the passenger will be debarking to.\n",
    "> Age - The age of the passenger.\n",
    "> VIP - Whether the passenger has paid for special VIP service during the voyage.</font>\n",
    "> RoomService, FoodCourt, ShoppingMall, Spa, VRDeck - Amount the passenger has billed at each of the Spaceship Titanic's many luxury amenities.\n",
    "> Name - The first and last names of the passenger.\n",
    "\n",
    "> **Transported** - Whether the passenger was transported to another dimension. This is the target, the column you are trying to predict."
   ]
  },
  {
   "cell_type": "markdown",
   "id": "3468c045",
   "metadata": {
    "papermill": {
     "duration": 0.011563,
     "end_time": "2023-12-09T12:00:12.655126",
     "exception": false,
     "start_time": "2023-12-09T12:00:12.643563",
     "status": "completed"
    },
    "tags": []
   },
   "source": [
    "# 3. Check Missing Values"
   ]
  },
  {
   "cell_type": "code",
   "execution_count": 3,
   "id": "dfde0327",
   "metadata": {
    "execution": {
     "iopub.execute_input": "2023-12-09T12:00:12.678118Z",
     "iopub.status.busy": "2023-12-09T12:00:12.677724Z",
     "iopub.status.idle": "2023-12-09T12:00:12.688441Z",
     "shell.execute_reply": "2023-12-09T12:00:12.687730Z"
    },
    "papermill": {
     "duration": 0.02485,
     "end_time": "2023-12-09T12:00:12.690570",
     "exception": false,
     "start_time": "2023-12-09T12:00:12.665720",
     "status": "completed"
    },
    "tags": []
   },
   "outputs": [
    {
     "name": "stdout",
     "output_type": "stream",
     "text": [
      "PassengerId        0\n",
      "HomePlanet       288\n",
      "CryoSleep        310\n",
      "Cabin            299\n",
      "Destination      274\n",
      "Age              270\n",
      "VIP              296\n",
      "RoomService      263\n",
      "FoodCourt        289\n",
      "ShoppingMall     306\n",
      "Spa              284\n",
      "VRDeck           268\n",
      "Name             294\n",
      "Transported     4277\n",
      "dtype: int64\n"
     ]
    }
   ],
   "source": [
    "print(train_test.isna().sum())"
   ]
  },
  {
   "cell_type": "code",
   "execution_count": 4,
   "id": "5cbe625b",
   "metadata": {
    "execution": {
     "iopub.execute_input": "2023-12-09T12:00:12.713766Z",
     "iopub.status.busy": "2023-12-09T12:00:12.713396Z",
     "iopub.status.idle": "2023-12-09T12:00:13.331420Z",
     "shell.execute_reply": "2023-12-09T12:00:13.330090Z"
    },
    "papermill": {
     "duration": 0.6328,
     "end_time": "2023-12-09T12:00:13.333821",
     "exception": false,
     "start_time": "2023-12-09T12:00:12.701021",
     "status": "completed"
    },
    "tags": []
   },
   "outputs": [
    {
     "data": {
      "image/png": "[encoded data removed]",
      "text/plain": [
       "<Figure size 2500x1000 with 2 Axes>"
      ]
     },
     "metadata": {},
     "output_type": "display_data"
    }
   ],
   "source": [
    "msno.matrix(train_test)\n",
    "plt.show()"
   ]
  },
  {
   "cell_type": "markdown",
   "id": "f6b0c4e5",
   "metadata": {
    "papermill": {
     "duration": 0.010973,
     "end_time": "2023-12-09T12:00:13.356404",
     "exception": false,
     "start_time": "2023-12-09T12:00:13.345431",
     "status": "completed"
    },
    "tags": []
   },
   "source": [
    "# 3. Testing & Handling Missing Values¶"
   ]
  },
  {
   "cell_type": "code",
   "execution_count": 5,
   "id": "53a7e3e9",
   "metadata": {
    "execution": {
     "iopub.execute_input": "2023-12-09T12:00:13.382779Z",
     "iopub.status.busy": "2023-12-09T12:00:13.382065Z",
     "iopub.status.idle": "2023-12-09T12:00:13.710490Z",
     "shell.execute_reply": "2023-12-09T12:00:13.709545Z"
    },
    "papermill": {
     "duration": 0.344448,
     "end_time": "2023-12-09T12:00:13.713196",
     "exception": false,
     "start_time": "2023-12-09T12:00:13.368748",
     "status": "completed"
    },
    "tags": []
   },
   "outputs": [
    {
     "data": {
      "image/png": "[encoded data removed]",
      "text/plain": [
       "<Figure size 640x480 with 1 Axes>"
      ]
     },
     "metadata": {},
     "output_type": "display_data"
    },
    {
     "data": {
      "text/plain": [
       "4277"
      ]
     },
     "execution_count": 5,
     "metadata": {},
     "output_type": "execute_result"
    }
   ],
   "source": [
    "# scatter_matrix(train_test, alpha=0.2, figsize=(6, 6), diagonal='kde')\n",
    "# plt.show()\n",
    "plt.plot(train_test['RoomService'], label='RoomService')\n",
    "plt.plot(train_test['ShoppingMall'], label='ShoppingMall')\n",
    "plt.title('Comparison of RoomService and ShoppingMall')\n",
    "plt.xlabel('Index')\n",
    "plt.ylabel('Values')\n",
    "plt.legend()\n",
    "plt.show()\n",
    "sum(train_test['Transported'].isna())"
   ]
  },
  {
   "cell_type": "markdown",
   "id": "320d17c2",
   "metadata": {
    "papermill": {
     "duration": 0.011624,
     "end_time": "2023-12-09T12:00:13.736841",
     "exception": false,
     "start_time": "2023-12-09T12:00:13.725217",
     "status": "completed"
    },
    "tags": []
   },
   "source": [
    "# 3.1.Handling Room Service Outliers"
   ]
  },
  {
   "cell_type": "code",
   "execution_count": 6,
   "id": "1b33bae8",
   "metadata": {
    "execution": {
     "iopub.execute_input": "2023-12-09T12:00:13.763005Z",
     "iopub.status.busy": "2023-12-09T12:00:13.762643Z",
     "iopub.status.idle": "2023-12-09T12:00:14.067366Z",
     "shell.execute_reply": "2023-12-09T12:00:14.065780Z"
    },
    "papermill": {
     "duration": 0.321088,
     "end_time": "2023-12-09T12:00:14.069934",
     "exception": false,
     "start_time": "2023-12-09T12:00:13.748846",
     "status": "completed"
    },
    "tags": []
   },
   "outputs": [
    {
     "data": {
      "image/png": "[encoded data removed]",
      "text/plain": [
       "<Figure size 640x480 with 1 Axes>"
      ]
     },
     "metadata": {},
     "output_type": "display_data"
    }
   ],
   "source": [
    "if 'Transported' in train_test.columns:\n",
    "    train_test.plot.scatter(x='RoomService', y='Transported')\n",
    "    plt.show()\n",
    "else:\n",
    "    print(\"'Transported' column does not exist in the DataFrame.\")\n"
   ]
  },
  {
   "cell_type": "code",
   "execution_count": 7,
   "id": "4ff612b0",
   "metadata": {
    "execution": {
     "iopub.execute_input": "2023-12-09T12:00:14.096715Z",
     "iopub.status.busy": "2023-12-09T12:00:14.096385Z",
     "iopub.status.idle": "2023-12-09T12:00:14.106140Z",
     "shell.execute_reply": "2023-12-09T12:00:14.104496Z"
    },
    "papermill": {
     "duration": 0.026074,
     "end_time": "2023-12-09T12:00:14.108719",
     "exception": false,
     "start_time": "2023-12-09T12:00:14.082645",
     "status": "completed"
    },
    "tags": []
   },
   "outputs": [],
   "source": [
    "# scaled_value = (value - min) / (max - min)\n",
    "# scaler = StandardScaler()\n",
    "# df['standardized_VRDeck'] = scaler.fit_transform(df[['VRDeck']])\n",
    "scaler = MinMaxScaler()\n",
    "train_test['RoomService'] = scaler.fit_transform(train_test[['RoomService']])"
   ]
  },
  {
   "cell_type": "code",
   "execution_count": 8,
   "id": "4bda14eb",
   "metadata": {
    "execution": {
     "iopub.execute_input": "2023-12-09T12:00:14.192464Z",
     "iopub.status.busy": "2023-12-09T12:00:14.192110Z",
     "iopub.status.idle": "2023-12-09T12:00:14.196775Z",
     "shell.execute_reply": "2023-12-09T12:00:14.195730Z"
    },
    "papermill": {
     "duration": 0.020343,
     "end_time": "2023-12-09T12:00:14.198847",
     "exception": false,
     "start_time": "2023-12-09T12:00:14.178504",
     "status": "completed"
    },
    "tags": []
   },
   "outputs": [],
   "source": [
    "# # How to delete instances using panda\n",
    "# # Q1 = df['RoomService'].quantile(0.25)\n",
    "# # Q3 = df['RoomService'].quantile(0.75)\n",
    "# # IQR = Q3 - Q1\n",
    "# # df = df[~((df['RoomService'] < (Q1 - 1.5 * IQR)) |(df['RoomService'] > (Q3 + 1.5 * IQR)))]\n",
    "\n",
    "\n",
    "\n",
    "# indexNames1 = train_test[ (train_test['RoomService'] > 6000)& (train_test['Transported'] == False)].index\n",
    "# indexNames2 = train_test[ (train_test['RoomService'] > 2850) & (train_test['Transported'] == True)].index\n",
    "# train_test.drop(indexNames1 , inplace=True)\n",
    "# train_test.drop(indexNames2 , inplace=True)\n",
    "\n",
    "\n",
    "# train_test.plot.scatter(x='RoomService', y='Transported')\n",
    "# plt.show()\n",
    "# #df.info()\n",
    "# # print(len(indexNames))"
   ]
  },
  {
   "cell_type": "markdown",
   "id": "97c40083",
   "metadata": {
    "papermill": {
     "duration": 0.012214,
     "end_time": "2023-12-09T12:00:14.223851",
     "exception": false,
     "start_time": "2023-12-09T12:00:14.211637",
     "status": "completed"
    },
    "tags": []
   },
   "source": [
    "# 3.1.Handling Food Court Outliers"
   ]
  },
  {
   "cell_type": "code",
   "execution_count": 9,
   "id": "3df65bc4",
   "metadata": {
    "execution": {
     "iopub.execute_input": "2023-12-09T12:00:14.251419Z",
     "iopub.status.busy": "2023-12-09T12:00:14.250546Z",
     "iopub.status.idle": "2023-12-09T12:00:14.518237Z",
     "shell.execute_reply": "2023-12-09T12:00:14.516890Z"
    },
    "papermill": {
     "duration": 0.284938,
     "end_time": "2023-12-09T12:00:14.521499",
     "exception": false,
     "start_time": "2023-12-09T12:00:14.236561",
     "status": "completed"
    },
    "tags": []
   },
   "outputs": [
    {
     "data": {
      "image/png": "[encoded data removed]",
      "text/plain": [
       "<Figure size 640x480 with 1 Axes>"
      ]
     },
     "metadata": {},
     "output_type": "display_data"
    }
   ],
   "source": [
    "train_test.plot.scatter(x='FoodCourt', y='Transported')\n",
    "plt.show()"
   ]
  },
  {
   "cell_type": "code",
   "execution_count": 10,
   "id": "cb14d222",
   "metadata": {
    "execution": {
     "iopub.execute_input": "2023-12-09T12:00:14.550059Z",
     "iopub.status.busy": "2023-12-09T12:00:14.549680Z",
     "iopub.status.idle": "2023-12-09T12:00:14.815147Z",
     "shell.execute_reply": "2023-12-09T12:00:14.813298Z"
    },
    "papermill": {
     "duration": 0.28284,
     "end_time": "2023-12-09T12:00:14.817649",
     "exception": false,
     "start_time": "2023-12-09T12:00:14.534809",
     "status": "completed"
    },
    "tags": []
   },
   "outputs": [
    {
     "data": {
      "image/png": "[encoded data removed]",
      "text/plain": [
       "<Figure size 640x480 with 1 Axes>"
      ]
     },
     "metadata": {},
     "output_type": "display_data"
    }
   ],
   "source": [
    "train_test['FoodCourt'] = scaler.fit_transform(train_test[['FoodCourt']])\n",
    "train_test.plot.scatter(x='FoodCourt', y='Transported')\n",
    "plt.show()"
   ]
  },
  {
   "cell_type": "markdown",
   "id": "c91e9f29",
   "metadata": {
    "papermill": {
     "duration": 0.013364,
     "end_time": "2023-12-09T12:00:14.844553",
     "exception": false,
     "start_time": "2023-12-09T12:00:14.831189",
     "status": "completed"
    },
    "tags": []
   },
   "source": [
    "# 3.1.Handling ShoppingMall Outliers"
   ]
  },
  {
   "cell_type": "code",
   "execution_count": 11,
   "id": "f1865001",
   "metadata": {
    "execution": {
     "iopub.execute_input": "2023-12-09T12:00:14.874724Z",
     "iopub.status.busy": "2023-12-09T12:00:14.874322Z",
     "iopub.status.idle": "2023-12-09T12:00:15.135067Z",
     "shell.execute_reply": "2023-12-09T12:00:15.133652Z"
    },
    "papermill": {
     "duration": 0.279778,
     "end_time": "2023-12-09T12:00:15.138291",
     "exception": false,
     "start_time": "2023-12-09T12:00:14.858513",
     "status": "completed"
    },
    "tags": []
   },
   "outputs": [
    {
     "data": {
      "image/png": "[encoded data removed]",
      "text/plain": [
       "<Figure size 640x480 with 1 Axes>"
      ]
     },
     "metadata": {},
     "output_type": "display_data"
    }
   ],
   "source": [
    "train_test.plot.scatter(x='ShoppingMall', y='Transported')\n",
    "plt.show()"
   ]
  },
  {
   "cell_type": "code",
   "execution_count": 12,
   "id": "113bc65f",
   "metadata": {
    "execution": {
     "iopub.execute_input": "2023-12-09T12:00:15.166691Z",
     "iopub.status.busy": "2023-12-09T12:00:15.166300Z",
     "iopub.status.idle": "2023-12-09T12:00:15.430091Z",
     "shell.execute_reply": "2023-12-09T12:00:15.428766Z"
    },
    "papermill": {
     "duration": 0.280679,
     "end_time": "2023-12-09T12:00:15.432436",
     "exception": false,
     "start_time": "2023-12-09T12:00:15.151757",
     "status": "completed"
    },
    "tags": []
   },
   "outputs": [
    {
     "data": {
      "image/png": "[encoded data removed]",
      "text/plain": [
       "<Figure size 640x480 with 1 Axes>"
      ]
     },
     "metadata": {},
     "output_type": "display_data"
    }
   ],
   "source": [
    "train_test['ShoppingMall'] = scaler.fit_transform(train_test[['ShoppingMall']])\n",
    "train_test.plot.scatter(x='ShoppingMall', y='Transported')\n",
    "plt.show()"
   ]
  },
  {
   "cell_type": "markdown",
   "id": "55507b7a",
   "metadata": {
    "papermill": {
     "duration": 0.013806,
     "end_time": "2023-12-09T12:00:15.460501",
     "exception": false,
     "start_time": "2023-12-09T12:00:15.446695",
     "status": "completed"
    },
    "tags": []
   },
   "source": [
    "# 3.1.Handling Spa Outliers"
   ]
  },
  {
   "cell_type": "code",
   "execution_count": 13,
   "id": "ac28549a",
   "metadata": {
    "execution": {
     "iopub.execute_input": "2023-12-09T12:00:15.490462Z",
     "iopub.status.busy": "2023-12-09T12:00:15.490040Z",
     "iopub.status.idle": "2023-12-09T12:00:15.738337Z",
     "shell.execute_reply": "2023-12-09T12:00:15.736890Z"
    },
    "papermill": {
     "duration": 0.266246,
     "end_time": "2023-12-09T12:00:15.740903",
     "exception": false,
     "start_time": "2023-12-09T12:00:15.474657",
     "status": "completed"
    },
    "tags": []
   },
   "outputs": [
    {
     "data": {
      "image/png": "[encoded data removed]",
      "text/plain": [
       "<Figure size 640x480 with 1 Axes>"
      ]
     },
     "metadata": {},
     "output_type": "display_data"
    }
   ],
   "source": [
    "train_test.plot.scatter(x='Spa', y='Transported')\n",
    "plt.show()"
   ]
  },
  {
   "cell_type": "code",
   "execution_count": 14,
   "id": "0c851785",
   "metadata": {
    "execution": {
     "iopub.execute_input": "2023-12-09T12:00:15.771651Z",
     "iopub.status.busy": "2023-12-09T12:00:15.771273Z",
     "iopub.status.idle": "2023-12-09T12:00:16.039620Z",
     "shell.execute_reply": "2023-12-09T12:00:16.038433Z"
    },
    "papermill": {
     "duration": 0.286453,
     "end_time": "2023-12-09T12:00:16.041540",
     "exception": false,
     "start_time": "2023-12-09T12:00:15.755087",
     "status": "completed"
    },
    "tags": []
   },
   "outputs": [
    {
     "data": {
      "image/png": "[encoded data removed]",
      "text/plain": [
       "<Figure size 640x480 with 1 Axes>"
      ]
     },
     "metadata": {},
     "output_type": "display_data"
    }
   ],
   "source": [
    "train_test['Spa'] = scaler.fit_transform(train_test[['Spa']])\n",
    "train_test.plot.scatter(x='Spa', y='Transported')\n",
    "plt.show()"
   ]
  },
  {
   "cell_type": "markdown",
   "id": "4cf5bf9f",
   "metadata": {
    "papermill": {
     "duration": 0.013906,
     "end_time": "2023-12-09T12:00:16.069596",
     "exception": false,
     "start_time": "2023-12-09T12:00:16.055690",
     "status": "completed"
    },
    "tags": []
   },
   "source": [
    "# 3.1.Handling VRDeck Outliers"
   ]
  },
  {
   "cell_type": "code",
   "execution_count": 15,
   "id": "ccedabdc",
   "metadata": {
    "execution": {
     "iopub.execute_input": "2023-12-09T12:00:16.099973Z",
     "iopub.status.busy": "2023-12-09T12:00:16.099609Z",
     "iopub.status.idle": "2023-12-09T12:00:16.357342Z",
     "shell.execute_reply": "2023-12-09T12:00:16.356139Z"
    },
    "papermill": {
     "duration": 0.274946,
     "end_time": "2023-12-09T12:00:16.359428",
     "exception": false,
     "start_time": "2023-12-09T12:00:16.084482",
     "status": "completed"
    },
    "tags": []
   },
   "outputs": [
    {
     "data": {
      "image/png": "[encoded data removed]",
      "text/plain": [
       "<Figure size 640x480 with 1 Axes>"
      ]
     },
     "metadata": {},
     "output_type": "display_data"
    }
   ],
   "source": [
    "train_test.plot.scatter(x='VRDeck', y='Transported')\n",
    "plt.show()"
   ]
  },
  {
   "cell_type": "code",
   "execution_count": 16,
   "id": "2b4309c9",
   "metadata": {
    "execution": {
     "iopub.execute_input": "2023-12-09T12:00:16.390290Z",
     "iopub.status.busy": "2023-12-09T12:00:16.389918Z",
     "iopub.status.idle": "2023-12-09T12:00:16.670233Z",
     "shell.execute_reply": "2023-12-09T12:00:16.668775Z"
    },
    "papermill": {
     "duration": 0.298599,
     "end_time": "2023-12-09T12:00:16.672742",
     "exception": false,
     "start_time": "2023-12-09T12:00:16.374143",
     "status": "completed"
    },
    "tags": []
   },
   "outputs": [
    {
     "data": {
      "image/png": "[encoded data removed]",
      "text/plain": [
       "<Figure size 640x480 with 1 Axes>"
      ]
     },
     "metadata": {},
     "output_type": "display_data"
    }
   ],
   "source": [
    "train_test['VRDeck'] = scaler.fit_transform(train_test[['VRDeck']])\n",
    "train_test.plot.scatter(x='VRDeck', y='Transported')\n",
    "plt.show()"
   ]
  },
  {
   "cell_type": "code",
   "execution_count": 17,
   "id": "eab70705",
   "metadata": {
    "execution": {
     "iopub.execute_input": "2023-12-09T12:00:16.706129Z",
     "iopub.status.busy": "2023-12-09T12:00:16.705744Z",
     "iopub.status.idle": "2023-12-09T12:00:16.710747Z",
     "shell.execute_reply": "2023-12-09T12:00:16.709520Z"
    },
    "papermill": {
     "duration": 0.024607,
     "end_time": "2023-12-09T12:00:16.713350",
     "exception": false,
     "start_time": "2023-12-09T12:00:16.688743",
     "status": "completed"
    },
    "tags": []
   },
   "outputs": [],
   "source": [
    "# mean = train_test['VRDeck'].mean()\n",
    "# std = train_test['VRDeck'].std()\n",
    "# ZScore = (train_test['VRDeck'] - mean) / std\n",
    "\n",
    "# threshold = 3\n",
    "# outliers = train_test[np.abs(ZScore) > threshold]\n",
    "# outliers"
   ]
  },
  {
   "cell_type": "code",
   "execution_count": 18,
   "id": "608b734f",
   "metadata": {
    "execution": {
     "iopub.execute_input": "2023-12-09T12:00:16.745560Z",
     "iopub.status.busy": "2023-12-09T12:00:16.745159Z",
     "iopub.status.idle": "2023-12-09T12:00:16.751042Z",
     "shell.execute_reply": "2023-12-09T12:00:16.749267Z"
    },
    "papermill": {
     "duration": 0.02459,
     "end_time": "2023-12-09T12:00:16.753642",
     "exception": false,
     "start_time": "2023-12-09T12:00:16.729052",
     "status": "completed"
    },
    "tags": []
   },
   "outputs": [],
   "source": [
    "Expenses_columns = ['RoomService','FoodCourt','ShoppingMall','Spa','VRDeck']\n",
    "#train_test.loc[(train_test['Age'] < 10) & (train_test[Expenses_columns].isnull()), Expenses_columns] = 0\n",
    "# train_test.loc[(train_test['Age'] > 10) & train_test['RoomService'].isnull(), Expenses_columns] = train_test['RoomService'].mean()\n",
    "\n"
   ]
  },
  {
   "cell_type": "code",
   "execution_count": 19,
   "id": "5842e6d1",
   "metadata": {
    "execution": {
     "iopub.execute_input": "2023-12-09T12:00:16.787527Z",
     "iopub.status.busy": "2023-12-09T12:00:16.786931Z",
     "iopub.status.idle": "2023-12-09T12:00:18.981671Z",
     "shell.execute_reply": "2023-12-09T12:00:18.979416Z"
    },
    "papermill": {
     "duration": 2.214456,
     "end_time": "2023-12-09T12:00:18.984683",
     "exception": false,
     "start_time": "2023-12-09T12:00:16.770227",
     "status": "completed"
    },
    "tags": []
   },
   "outputs": [
    {
     "name": "stdout",
     "output_type": "stream",
     "text": [
      "<class 'pandas.core.frame.DataFrame'>\n",
      "Index: 12970 entries, 0 to 4276\n",
      "Data columns (total 15 columns):\n",
      " #   Column        Non-Null Count  Dtype  \n",
      "---  ------        --------------  -----  \n",
      " 0   PassengerId   12970 non-null  object \n",
      " 1   HomePlanet    12682 non-null  object \n",
      " 2   CryoSleep     12660 non-null  object \n",
      " 3   Cabin         12671 non-null  object \n",
      " 4   Destination   12696 non-null  object \n",
      " 5   Age           12829 non-null  float64\n",
      " 6   VIP           12674 non-null  object \n",
      " 7   RoomService   12970 non-null  float64\n",
      " 8   FoodCourt     12969 non-null  float64\n",
      " 9   ShoppingMall  12966 non-null  float64\n",
      " 10  Spa           12969 non-null  float64\n",
      " 11  VRDeck        12967 non-null  float64\n",
      " 12  Name          12676 non-null  object \n",
      " 13  Transported   8693 non-null   object \n",
      " 14  Expenditure   12970 non-null  float64\n",
      "dtypes: float64(7), object(8)\n",
      "memory usage: 1.6+ MB\n"
     ]
    }
   ],
   "source": [
    "# First lets fill CryoSleep, based on totdal expenditure\n",
    "train_test[\"Expenditure\"]=train_test[Expenses_columns].sum(axis=\"columns\")\n",
    "\n",
    "train_test.loc[train_test[\"Expenditure\"] == 0 & train_test['Age'].isna(), 'Age'] = 0\n",
    "\n",
    "\n",
    "# filling expenditure with use of Age\n",
    "def fill_with_mean(row):\n",
    "    for col in Expenses_columns:\n",
    "        if row['Age'] > 12 and pd.isnull(row[col]):\n",
    "            row[col] = train_test[col].mean()\n",
    "    return row\n",
    "\n",
    "train_test = train_test.apply(fill_with_mean, axis=1)\n",
    "\n",
    "\n",
    "\n",
    "def fill_with_zero(row):\n",
    "    for col in Expenses_columns:\n",
    "        if row['Age'] < 12 and pd.isnull(row[col]):\n",
    "            row[col] = 0\n",
    "    return row\n",
    "\n",
    "train_test = train_test.apply(fill_with_zero, axis=1)\n",
    "\n",
    "\n",
    "\n",
    "train_test.info()"
   ]
  },
  {
   "cell_type": "code",
   "execution_count": 20,
   "id": "45dbdabd",
   "metadata": {
    "execution": {
     "iopub.execute_input": "2023-12-09T12:00:19.016823Z",
     "iopub.status.busy": "2023-12-09T12:00:19.016482Z",
     "iopub.status.idle": "2023-12-09T12:00:19.033971Z",
     "shell.execute_reply": "2023-12-09T12:00:19.033314Z"
    },
    "papermill": {
     "duration": 0.035892,
     "end_time": "2023-12-09T12:00:19.035858",
     "exception": false,
     "start_time": "2023-12-09T12:00:18.999966",
     "status": "completed"
    },
    "tags": []
   },
   "outputs": [
    {
     "name": "stdout",
     "output_type": "stream",
     "text": [
      "PassengerId        0\n",
      "HomePlanet       288\n",
      "CryoSleep          0\n",
      "Cabin            299\n",
      "Destination      274\n",
      "Age              141\n",
      "VIP                0\n",
      "RoomService        0\n",
      "FoodCourt          1\n",
      "ShoppingMall       4\n",
      "Spa                1\n",
      "VRDeck             3\n",
      "Name             294\n",
      "Transported     4277\n",
      "dtype: int64\n"
     ]
    }
   ],
   "source": [
    "# Thanks to @Master Jiraiya\n",
    "\n",
    "# Zero expenditure indicate that they are in CryoSleep\n",
    "train_test['CryoSleep']=np.where(train_test['Expenditure']==0,1,0)\n",
    "\n",
    "# Also, if they are VIPs, they probably would not choose to be in CryoSleep\n",
    "train_test['VIP']=np.where(train_test['CryoSleep']==0,1,0)\n",
    "\n",
    "train_test.drop(columns=[\"Expenditure\"],inplace=True)\n",
    "\n",
    "print(train_test.isna().sum())"
   ]
  },
  {
   "cell_type": "code",
   "execution_count": 21,
   "id": "1e5f4a95",
   "metadata": {
    "execution": {
     "iopub.execute_input": "2023-12-09T12:00:19.069039Z",
     "iopub.status.busy": "2023-12-09T12:00:19.067840Z",
     "iopub.status.idle": "2023-12-09T12:00:19.088218Z",
     "shell.execute_reply": "2023-12-09T12:00:19.087050Z"
    },
    "papermill": {
     "duration": 0.038966,
     "end_time": "2023-12-09T12:00:19.090253",
     "exception": false,
     "start_time": "2023-12-09T12:00:19.051287",
     "status": "completed"
    },
    "tags": []
   },
   "outputs": [
    {
     "data": {
      "text/html": [
       "<div>\n",
       "<style scoped>\n",
       "    .dataframe tbody tr th:only-of-type {\n",
       "        vertical-align: middle;\n",
       "    }\n",
       "\n",
       "    .dataframe tbody tr th {\n",
       "        vertical-align: top;\n",
       "    }\n",
       "\n",
       "    .dataframe thead th {\n",
       "        text-align: right;\n",
       "    }\n",
       "</style>\n",
       "<table border=\"1\" class=\"dataframe\">\n",
       "  <thead>\n",
       "    <tr style=\"text-align: right;\">\n",
       "      <th></th>\n",
       "      <th>PassengerId</th>\n",
       "      <th>HomePlanet</th>\n",
       "      <th>CryoSleep</th>\n",
       "      <th>Cabin</th>\n",
       "      <th>Destination</th>\n",
       "      <th>Age</th>\n",
       "      <th>VIP</th>\n",
       "      <th>RoomService</th>\n",
       "      <th>FoodCourt</th>\n",
       "      <th>ShoppingMall</th>\n",
       "      <th>Spa</th>\n",
       "      <th>VRDeck</th>\n",
       "      <th>Name</th>\n",
       "      <th>Transported</th>\n",
       "    </tr>\n",
       "  </thead>\n",
       "  <tbody>\n",
       "    <tr>\n",
       "      <th>0</th>\n",
       "      <td>0001_01</td>\n",
       "      <td>Europa</td>\n",
       "      <td>1</td>\n",
       "      <td>B/0/P</td>\n",
       "      <td>TRAPPIST-1e</td>\n",
       "      <td>0.0</td>\n",
       "      <td>0</td>\n",
       "      <td>0.000000</td>\n",
       "      <td>0.000000</td>\n",
       "      <td>0.000000</td>\n",
       "      <td>0.000000</td>\n",
       "      <td>0.000000</td>\n",
       "      <td>Maham Ofracculy</td>\n",
       "      <td>False</td>\n",
       "    </tr>\n",
       "    <tr>\n",
       "      <th>1</th>\n",
       "      <td>0002_01</td>\n",
       "      <td>Earth</td>\n",
       "      <td>0</td>\n",
       "      <td>F/0/S</td>\n",
       "      <td>TRAPPIST-1e</td>\n",
       "      <td>24.0</td>\n",
       "      <td>1</td>\n",
       "      <td>0.007608</td>\n",
       "      <td>0.000302</td>\n",
       "      <td>0.001064</td>\n",
       "      <td>0.024500</td>\n",
       "      <td>0.001823</td>\n",
       "      <td>Juanna Vines</td>\n",
       "      <td>True</td>\n",
       "    </tr>\n",
       "    <tr>\n",
       "      <th>2</th>\n",
       "      <td>0003_01</td>\n",
       "      <td>Europa</td>\n",
       "      <td>0</td>\n",
       "      <td>A/0/S</td>\n",
       "      <td>TRAPPIST-1e</td>\n",
       "      <td>58.0</td>\n",
       "      <td>1</td>\n",
       "      <td>0.003001</td>\n",
       "      <td>0.119948</td>\n",
       "      <td>0.000000</td>\n",
       "      <td>0.299670</td>\n",
       "      <td>0.002030</td>\n",
       "      <td>Altark Susent</td>\n",
       "      <td>False</td>\n",
       "    </tr>\n",
       "    <tr>\n",
       "      <th>3</th>\n",
       "      <td>0003_02</td>\n",
       "      <td>Europa</td>\n",
       "      <td>0</td>\n",
       "      <td>A/0/S</td>\n",
       "      <td>TRAPPIST-1e</td>\n",
       "      <td>33.0</td>\n",
       "      <td>1</td>\n",
       "      <td>0.000000</td>\n",
       "      <td>0.043035</td>\n",
       "      <td>0.015793</td>\n",
       "      <td>0.148563</td>\n",
       "      <td>0.007997</td>\n",
       "      <td>Solam Susent</td>\n",
       "      <td>False</td>\n",
       "    </tr>\n",
       "    <tr>\n",
       "      <th>4</th>\n",
       "      <td>0004_01</td>\n",
       "      <td>Earth</td>\n",
       "      <td>0</td>\n",
       "      <td>F/1/S</td>\n",
       "      <td>TRAPPIST-1e</td>\n",
       "      <td>16.0</td>\n",
       "      <td>1</td>\n",
       "      <td>0.021149</td>\n",
       "      <td>0.002348</td>\n",
       "      <td>0.006428</td>\n",
       "      <td>0.025214</td>\n",
       "      <td>0.000083</td>\n",
       "      <td>Willy Santantines</td>\n",
       "      <td>True</td>\n",
       "    </tr>\n",
       "    <tr>\n",
       "      <th>...</th>\n",
       "      <td>...</td>\n",
       "      <td>...</td>\n",
       "      <td>...</td>\n",
       "      <td>...</td>\n",
       "      <td>...</td>\n",
       "      <td>...</td>\n",
       "      <td>...</td>\n",
       "      <td>...</td>\n",
       "      <td>...</td>\n",
       "      <td>...</td>\n",
       "      <td>...</td>\n",
       "      <td>...</td>\n",
       "      <td>...</td>\n",
       "      <td>...</td>\n",
       "    </tr>\n",
       "    <tr>\n",
       "      <th>4272</th>\n",
       "      <td>9266_02</td>\n",
       "      <td>Earth</td>\n",
       "      <td>1</td>\n",
       "      <td>G/1496/S</td>\n",
       "      <td>TRAPPIST-1e</td>\n",
       "      <td>0.0</td>\n",
       "      <td>0</td>\n",
       "      <td>0.000000</td>\n",
       "      <td>0.000000</td>\n",
       "      <td>0.000000</td>\n",
       "      <td>0.000000</td>\n",
       "      <td>0.000000</td>\n",
       "      <td>Jeron Peter</td>\n",
       "      <td>NaN</td>\n",
       "    </tr>\n",
       "    <tr>\n",
       "      <th>4273</th>\n",
       "      <td>9269_01</td>\n",
       "      <td>Earth</td>\n",
       "      <td>0</td>\n",
       "      <td>NaN</td>\n",
       "      <td>TRAPPIST-1e</td>\n",
       "      <td>42.0</td>\n",
       "      <td>1</td>\n",
       "      <td>0.000000</td>\n",
       "      <td>0.028410</td>\n",
       "      <td>0.000724</td>\n",
       "      <td>0.000446</td>\n",
       "      <td>0.005967</td>\n",
       "      <td>Matty Scheron</td>\n",
       "      <td>NaN</td>\n",
       "    </tr>\n",
       "    <tr>\n",
       "      <th>4274</th>\n",
       "      <td>9271_01</td>\n",
       "      <td>Mars</td>\n",
       "      <td>1</td>\n",
       "      <td>D/296/P</td>\n",
       "      <td>55 Cancri e</td>\n",
       "      <td>0.0</td>\n",
       "      <td>0</td>\n",
       "      <td>0.000000</td>\n",
       "      <td>0.000000</td>\n",
       "      <td>0.000000</td>\n",
       "      <td>0.000000</td>\n",
       "      <td>0.000000</td>\n",
       "      <td>Jayrin Pore</td>\n",
       "      <td>NaN</td>\n",
       "    </tr>\n",
       "    <tr>\n",
       "      <th>4275</th>\n",
       "      <td>9273_01</td>\n",
       "      <td>Europa</td>\n",
       "      <td>0</td>\n",
       "      <td>D/297/P</td>\n",
       "      <td>NaN</td>\n",
       "      <td>NaN</td>\n",
       "      <td>1</td>\n",
       "      <td>0.000000</td>\n",
       "      <td>0.089894</td>\n",
       "      <td>0.000000</td>\n",
       "      <td>0.000000</td>\n",
       "      <td>0.021672</td>\n",
       "      <td>Kitakan Conale</td>\n",
       "      <td>NaN</td>\n",
       "    </tr>\n",
       "    <tr>\n",
       "      <th>4276</th>\n",
       "      <td>9277_01</td>\n",
       "      <td>Earth</td>\n",
       "      <td>1</td>\n",
       "      <td>G/1498/S</td>\n",
       "      <td>PSO J318.5-22</td>\n",
       "      <td>0.0</td>\n",
       "      <td>0</td>\n",
       "      <td>0.000000</td>\n",
       "      <td>0.000000</td>\n",
       "      <td>0.000000</td>\n",
       "      <td>0.000000</td>\n",
       "      <td>0.000000</td>\n",
       "      <td>Lilace Leonzaley</td>\n",
       "      <td>NaN</td>\n",
       "    </tr>\n",
       "  </tbody>\n",
       "</table>\n",
       "<p>12970 rows × 14 columns</p>\n",
       "</div>"
      ],
      "text/plain": [
       "     PassengerId HomePlanet  CryoSleep     Cabin    Destination   Age  VIP  \\\n",
       "0        0001_01     Europa          1     B/0/P    TRAPPIST-1e   0.0    0   \n",
       "1        0002_01      Earth          0     F/0/S    TRAPPIST-1e  24.0    1   \n",
       "2        0003_01     Europa          0     A/0/S    TRAPPIST-1e  58.0    1   \n",
       "3        0003_02     Europa          0     A/0/S    TRAPPIST-1e  33.0    1   \n",
       "4        0004_01      Earth          0     F/1/S    TRAPPIST-1e  16.0    1   \n",
       "...          ...        ...        ...       ...            ...   ...  ...   \n",
       "4272     9266_02      Earth          1  G/1496/S    TRAPPIST-1e   0.0    0   \n",
       "4273     9269_01      Earth          0       NaN    TRAPPIST-1e  42.0    1   \n",
       "4274     9271_01       Mars          1   D/296/P    55 Cancri e   0.0    0   \n",
       "4275     9273_01     Europa          0   D/297/P            NaN   NaN    1   \n",
       "4276     9277_01      Earth          1  G/1498/S  PSO J318.5-22   0.0    0   \n",
       "\n",
       "      RoomService  FoodCourt  ShoppingMall       Spa    VRDeck  \\\n",
       "0        0.000000   0.000000      0.000000  0.000000  0.000000   \n",
       "1        0.007608   0.000302      0.001064  0.024500  0.001823   \n",
       "2        0.003001   0.119948      0.000000  0.299670  0.002030   \n",
       "3        0.000000   0.043035      0.015793  0.148563  0.007997   \n",
       "4        0.021149   0.002348      0.006428  0.025214  0.000083   \n",
       "...           ...        ...           ...       ...       ...   \n",
       "4272     0.000000   0.000000      0.000000  0.000000  0.000000   \n",
       "4273     0.000000   0.028410      0.000724  0.000446  0.005967   \n",
       "4274     0.000000   0.000000      0.000000  0.000000  0.000000   \n",
       "4275     0.000000   0.089894      0.000000  0.000000  0.021672   \n",
       "4276     0.000000   0.000000      0.000000  0.000000  0.000000   \n",
       "\n",
       "                   Name Transported  \n",
       "0       Maham Ofracculy       False  \n",
       "1          Juanna Vines        True  \n",
       "2         Altark Susent       False  \n",
       "3          Solam Susent       False  \n",
       "4     Willy Santantines        True  \n",
       "...                 ...         ...  \n",
       "4272        Jeron Peter         NaN  \n",
       "4273      Matty Scheron         NaN  \n",
       "4274        Jayrin Pore         NaN  \n",
       "4275     Kitakan Conale         NaN  \n",
       "4276   Lilace Leonzaley         NaN  \n",
       "\n",
       "[12970 rows x 14 columns]"
      ]
     },
     "execution_count": 21,
     "metadata": {},
     "output_type": "execute_result"
    }
   ],
   "source": [
    "train_test"
   ]
  },
  {
   "cell_type": "markdown",
   "id": "e54266a0",
   "metadata": {
    "papermill": {
     "duration": 0.014977,
     "end_time": "2023-12-09T12:00:19.121385",
     "exception": false,
     "start_time": "2023-12-09T12:00:19.106408",
     "status": "completed"
    },
    "tags": []
   },
   "source": [
    "> HomePlanet: {'Earth', 'Europa', 'Mars', nan}\n",
    "> {1,2,3,4}\n",
    "> \n",
    "> #######################\n",
    "> \n",
    "> Destination: {'55 Cancri e', 'PSO J318.5-22', 'TRAPPIST-1e', nan}\n",
    "> {1,2,3,4}\n",
    "> \n",
    "> \n",
    "> #######################\n",
    "> \n",
    "> Cabin Class = {'A': 1, 'B': 2, 'C': 3, 'D': 4, 'E': 5, 'F': 6, 'G': 7, 'H': 8, 'I': 9, 'J': 10}"
   ]
  },
  {
   "cell_type": "code",
   "execution_count": 22,
   "id": "dbd32b65",
   "metadata": {
    "execution": {
     "iopub.execute_input": "2023-12-09T12:00:19.153993Z",
     "iopub.status.busy": "2023-12-09T12:00:19.153515Z",
     "iopub.status.idle": "2023-12-09T12:00:19.194442Z",
     "shell.execute_reply": "2023-12-09T12:00:19.193489Z"
    },
    "papermill": {
     "duration": 0.059656,
     "end_time": "2023-12-09T12:00:19.196424",
     "exception": false,
     "start_time": "2023-12-09T12:00:19.136768",
     "status": "completed"
    },
    "tags": []
   },
   "outputs": [
    {
     "data": {
      "text/html": [
       "<div>\n",
       "<style scoped>\n",
       "    .dataframe tbody tr th:only-of-type {\n",
       "        vertical-align: middle;\n",
       "    }\n",
       "\n",
       "    .dataframe tbody tr th {\n",
       "        vertical-align: top;\n",
       "    }\n",
       "\n",
       "    .dataframe thead th {\n",
       "        text-align: right;\n",
       "    }\n",
       "</style>\n",
       "<table border=\"1\" class=\"dataframe\">\n",
       "  <thead>\n",
       "    <tr style=\"text-align: right;\">\n",
       "      <th></th>\n",
       "      <th>PassengerId</th>\n",
       "      <th>HomePlanet</th>\n",
       "      <th>CryoSleep</th>\n",
       "      <th>Cabin</th>\n",
       "      <th>Destination</th>\n",
       "      <th>Age</th>\n",
       "      <th>VIP</th>\n",
       "      <th>RoomService</th>\n",
       "      <th>FoodCourt</th>\n",
       "      <th>ShoppingMall</th>\n",
       "      <th>Spa</th>\n",
       "      <th>VRDeck</th>\n",
       "      <th>Name</th>\n",
       "      <th>Transported</th>\n",
       "    </tr>\n",
       "  </thead>\n",
       "  <tbody>\n",
       "    <tr>\n",
       "      <th>0</th>\n",
       "      <td>0001_01</td>\n",
       "      <td>2.0</td>\n",
       "      <td>1</td>\n",
       "      <td>B/0/P</td>\n",
       "      <td>3.0</td>\n",
       "      <td>0.0</td>\n",
       "      <td>0</td>\n",
       "      <td>0.000000</td>\n",
       "      <td>0.000000</td>\n",
       "      <td>0.000000</td>\n",
       "      <td>0.000000</td>\n",
       "      <td>0.000000</td>\n",
       "      <td>Maham Ofracculy</td>\n",
       "      <td>0.0</td>\n",
       "    </tr>\n",
       "    <tr>\n",
       "      <th>1</th>\n",
       "      <td>0002_01</td>\n",
       "      <td>1.0</td>\n",
       "      <td>0</td>\n",
       "      <td>F/0/S</td>\n",
       "      <td>3.0</td>\n",
       "      <td>24.0</td>\n",
       "      <td>1</td>\n",
       "      <td>0.007608</td>\n",
       "      <td>0.000302</td>\n",
       "      <td>0.001064</td>\n",
       "      <td>0.024500</td>\n",
       "      <td>0.001823</td>\n",
       "      <td>Juanna Vines</td>\n",
       "      <td>1.0</td>\n",
       "    </tr>\n",
       "    <tr>\n",
       "      <th>2</th>\n",
       "      <td>0003_01</td>\n",
       "      <td>2.0</td>\n",
       "      <td>0</td>\n",
       "      <td>A/0/S</td>\n",
       "      <td>3.0</td>\n",
       "      <td>58.0</td>\n",
       "      <td>1</td>\n",
       "      <td>0.003001</td>\n",
       "      <td>0.119948</td>\n",
       "      <td>0.000000</td>\n",
       "      <td>0.299670</td>\n",
       "      <td>0.002030</td>\n",
       "      <td>Altark Susent</td>\n",
       "      <td>0.0</td>\n",
       "    </tr>\n",
       "    <tr>\n",
       "      <th>3</th>\n",
       "      <td>0003_02</td>\n",
       "      <td>2.0</td>\n",
       "      <td>0</td>\n",
       "      <td>A/0/S</td>\n",
       "      <td>3.0</td>\n",
       "      <td>33.0</td>\n",
       "      <td>1</td>\n",
       "      <td>0.000000</td>\n",
       "      <td>0.043035</td>\n",
       "      <td>0.015793</td>\n",
       "      <td>0.148563</td>\n",
       "      <td>0.007997</td>\n",
       "      <td>Solam Susent</td>\n",
       "      <td>0.0</td>\n",
       "    </tr>\n",
       "    <tr>\n",
       "      <th>4</th>\n",
       "      <td>0004_01</td>\n",
       "      <td>1.0</td>\n",
       "      <td>0</td>\n",
       "      <td>F/1/S</td>\n",
       "      <td>3.0</td>\n",
       "      <td>16.0</td>\n",
       "      <td>1</td>\n",
       "      <td>0.021149</td>\n",
       "      <td>0.002348</td>\n",
       "      <td>0.006428</td>\n",
       "      <td>0.025214</td>\n",
       "      <td>0.000083</td>\n",
       "      <td>Willy Santantines</td>\n",
       "      <td>1.0</td>\n",
       "    </tr>\n",
       "    <tr>\n",
       "      <th>...</th>\n",
       "      <td>...</td>\n",
       "      <td>...</td>\n",
       "      <td>...</td>\n",
       "      <td>...</td>\n",
       "      <td>...</td>\n",
       "      <td>...</td>\n",
       "      <td>...</td>\n",
       "      <td>...</td>\n",
       "      <td>...</td>\n",
       "      <td>...</td>\n",
       "      <td>...</td>\n",
       "      <td>...</td>\n",
       "      <td>...</td>\n",
       "      <td>...</td>\n",
       "    </tr>\n",
       "    <tr>\n",
       "      <th>4272</th>\n",
       "      <td>9266_02</td>\n",
       "      <td>1.0</td>\n",
       "      <td>1</td>\n",
       "      <td>G/1496/S</td>\n",
       "      <td>3.0</td>\n",
       "      <td>0.0</td>\n",
       "      <td>0</td>\n",
       "      <td>0.000000</td>\n",
       "      <td>0.000000</td>\n",
       "      <td>0.000000</td>\n",
       "      <td>0.000000</td>\n",
       "      <td>0.000000</td>\n",
       "      <td>Jeron Peter</td>\n",
       "      <td>NaN</td>\n",
       "    </tr>\n",
       "    <tr>\n",
       "      <th>4273</th>\n",
       "      <td>9269_01</td>\n",
       "      <td>1.0</td>\n",
       "      <td>0</td>\n",
       "      <td>NaN</td>\n",
       "      <td>3.0</td>\n",
       "      <td>42.0</td>\n",
       "      <td>1</td>\n",
       "      <td>0.000000</td>\n",
       "      <td>0.028410</td>\n",
       "      <td>0.000724</td>\n",
       "      <td>0.000446</td>\n",
       "      <td>0.005967</td>\n",
       "      <td>Matty Scheron</td>\n",
       "      <td>NaN</td>\n",
       "    </tr>\n",
       "    <tr>\n",
       "      <th>4274</th>\n",
       "      <td>9271_01</td>\n",
       "      <td>3.0</td>\n",
       "      <td>1</td>\n",
       "      <td>D/296/P</td>\n",
       "      <td>1.0</td>\n",
       "      <td>0.0</td>\n",
       "      <td>0</td>\n",
       "      <td>0.000000</td>\n",
       "      <td>0.000000</td>\n",
       "      <td>0.000000</td>\n",
       "      <td>0.000000</td>\n",
       "      <td>0.000000</td>\n",
       "      <td>Jayrin Pore</td>\n",
       "      <td>NaN</td>\n",
       "    </tr>\n",
       "    <tr>\n",
       "      <th>4275</th>\n",
       "      <td>9273_01</td>\n",
       "      <td>2.0</td>\n",
       "      <td>0</td>\n",
       "      <td>D/297/P</td>\n",
       "      <td>NaN</td>\n",
       "      <td>NaN</td>\n",
       "      <td>1</td>\n",
       "      <td>0.000000</td>\n",
       "      <td>0.089894</td>\n",
       "      <td>0.000000</td>\n",
       "      <td>0.000000</td>\n",
       "      <td>0.021672</td>\n",
       "      <td>Kitakan Conale</td>\n",
       "      <td>NaN</td>\n",
       "    </tr>\n",
       "    <tr>\n",
       "      <th>4276</th>\n",
       "      <td>9277_01</td>\n",
       "      <td>1.0</td>\n",
       "      <td>1</td>\n",
       "      <td>G/1498/S</td>\n",
       "      <td>2.0</td>\n",
       "      <td>0.0</td>\n",
       "      <td>0</td>\n",
       "      <td>0.000000</td>\n",
       "      <td>0.000000</td>\n",
       "      <td>0.000000</td>\n",
       "      <td>0.000000</td>\n",
       "      <td>0.000000</td>\n",
       "      <td>Lilace Leonzaley</td>\n",
       "      <td>NaN</td>\n",
       "    </tr>\n",
       "  </tbody>\n",
       "</table>\n",
       "<p>12970 rows × 14 columns</p>\n",
       "</div>"
      ],
      "text/plain": [
       "     PassengerId  HomePlanet  CryoSleep     Cabin  Destination   Age  VIP  \\\n",
       "0        0001_01         2.0          1     B/0/P          3.0   0.0    0   \n",
       "1        0002_01         1.0          0     F/0/S          3.0  24.0    1   \n",
       "2        0003_01         2.0          0     A/0/S          3.0  58.0    1   \n",
       "3        0003_02         2.0          0     A/0/S          3.0  33.0    1   \n",
       "4        0004_01         1.0          0     F/1/S          3.0  16.0    1   \n",
       "...          ...         ...        ...       ...          ...   ...  ...   \n",
       "4272     9266_02         1.0          1  G/1496/S          3.0   0.0    0   \n",
       "4273     9269_01         1.0          0       NaN          3.0  42.0    1   \n",
       "4274     9271_01         3.0          1   D/296/P          1.0   0.0    0   \n",
       "4275     9273_01         2.0          0   D/297/P          NaN   NaN    1   \n",
       "4276     9277_01         1.0          1  G/1498/S          2.0   0.0    0   \n",
       "\n",
       "      RoomService  FoodCourt  ShoppingMall       Spa    VRDeck  \\\n",
       "0        0.000000   0.000000      0.000000  0.000000  0.000000   \n",
       "1        0.007608   0.000302      0.001064  0.024500  0.001823   \n",
       "2        0.003001   0.119948      0.000000  0.299670  0.002030   \n",
       "3        0.000000   0.043035      0.015793  0.148563  0.007997   \n",
       "4        0.021149   0.002348      0.006428  0.025214  0.000083   \n",
       "...           ...        ...           ...       ...       ...   \n",
       "4272     0.000000   0.000000      0.000000  0.000000  0.000000   \n",
       "4273     0.000000   0.028410      0.000724  0.000446  0.005967   \n",
       "4274     0.000000   0.000000      0.000000  0.000000  0.000000   \n",
       "4275     0.000000   0.089894      0.000000  0.000000  0.021672   \n",
       "4276     0.000000   0.000000      0.000000  0.000000  0.000000   \n",
       "\n",
       "                   Name  Transported  \n",
       "0       Maham Ofracculy          0.0  \n",
       "1          Juanna Vines          1.0  \n",
       "2         Altark Susent          0.0  \n",
       "3          Solam Susent          0.0  \n",
       "4     Willy Santantines          1.0  \n",
       "...                 ...          ...  \n",
       "4272        Jeron Peter          NaN  \n",
       "4273      Matty Scheron          NaN  \n",
       "4274        Jayrin Pore          NaN  \n",
       "4275     Kitakan Conale          NaN  \n",
       "4276   Lilace Leonzaley          NaN  \n",
       "\n",
       "[12970 rows x 14 columns]"
      ]
     },
     "execution_count": 22,
     "metadata": {},
     "output_type": "execute_result"
    }
   ],
   "source": [
    "#CryoSleep Train\n",
    "train_test['CryoSleep'].replace({True: 1, False: 0}, inplace=True)\n",
    "\n",
    "#Transported Train\n",
    "train_test['Transported'] = train_test['Transported'].replace({True: 1, False: 0})\n",
    "\n",
    "#HomePlanet Train\n",
    "train_test['HomePlanet'].replace('Earth', 1, inplace=True)\n",
    "train_test['HomePlanet'].replace('Europa', 2, inplace=True)\n",
    "train_test['HomePlanet'].replace('Mars', 3, inplace=True)\n",
    "\n",
    "#Destination Train\n",
    "train_test['Destination'].replace('55 Cancri e', 1, inplace=True)\n",
    "train_test['Destination'].replace('PSO J318.5-22', 2, inplace=True)\n",
    "train_test['Destination'].replace('TRAPPIST-1e', 3, inplace=True)\n",
    "\n",
    "\n",
    "#Vip Train\n",
    "train_test['VIP'].replace({True: 1, False: 0}, inplace=True)\n",
    "\n",
    "\n",
    "########################################################\n",
    "\n",
    "\n",
    "# #CryoSleep Test\n",
    "# test['CryoSleep'].replace({True: 1, False: 0}, inplace=True)\n",
    "\n",
    "# #Transported Test\n",
    "# # Don't have transported\n",
    "\n",
    "# #HomePlanet Test\n",
    "# test['HomePlanet'].replace('Earth', 1, inplace=True)\n",
    "# test['HomePlanet'].replace('Europa', 2, inplace=True)\n",
    "# test['HomePlanet'].replace('Mars', 3, inplace=True)\n",
    "\n",
    "# #Destination Test\n",
    "# test['Destination'].replace('55 Cancri e', 1, inplace=True)\n",
    "# test['Destination'].replace('PSO J318.5-22', 2, inplace=True)\n",
    "# test['Destination'].replace('TRAPPIST-1e', 3, inplace=True)\n",
    "\n",
    "# #Vip Test\n",
    "# test['VIP'].replace({True: 1, False: 0}, inplace=True)\n",
    "\n",
    "\n",
    "train_test\n",
    "# train_test.info()\n",
    "# test.head(3)"
   ]
  },
  {
   "cell_type": "code",
   "execution_count": 23,
   "id": "b80640d5",
   "metadata": {
    "execution": {
     "iopub.execute_input": "2023-12-09T12:00:19.230114Z",
     "iopub.status.busy": "2023-12-09T12:00:19.229512Z",
     "iopub.status.idle": "2023-12-09T12:00:19.236588Z",
     "shell.execute_reply": "2023-12-09T12:00:19.235639Z"
    },
    "papermill": {
     "duration": 0.026935,
     "end_time": "2023-12-09T12:00:19.239121",
     "exception": false,
     "start_time": "2023-12-09T12:00:19.212186",
     "status": "completed"
    },
    "tags": []
   },
   "outputs": [
    {
     "data": {
      "text/plain": [
       "141"
      ]
     },
     "execution_count": 23,
     "metadata": {},
     "output_type": "execute_result"
    }
   ],
   "source": [
    "# expenses_grouped = train_test.groupby('Transported')[Expenses_columns].mean()\n",
    "\n",
    "# plt.figure(figsize=(12, 6))\n",
    "# expenses_grouped.plot(kind='bar')\n",
    "# plt.xlabel('Transported')\n",
    "# plt.ylabel('Average Expenses')\n",
    "# plt.title('Average Expenses by Transported')\n",
    "# plt.legend(Expenses_columns)\n",
    "# plt.show()\n",
    "sum(train_test[\"Age\"].isna())"
   ]
  },
  {
   "cell_type": "markdown",
   "id": "89e52cfd",
   "metadata": {
    "papermill": {
     "duration": 0.014744,
     "end_time": "2023-12-09T12:00:19.269430",
     "exception": false,
     "start_time": "2023-12-09T12:00:19.254686",
     "status": "completed"
    },
    "tags": []
   },
   "source": [
    "# 4. Filling NaN and Null cells"
   ]
  },
  {
   "cell_type": "code",
   "execution_count": 24,
   "id": "3bb003fd",
   "metadata": {
    "execution": {
     "iopub.execute_input": "2023-12-09T12:00:19.301790Z",
     "iopub.status.busy": "2023-12-09T12:00:19.301445Z",
     "iopub.status.idle": "2023-12-09T12:00:19.326800Z",
     "shell.execute_reply": "2023-12-09T12:00:19.325927Z"
    },
    "papermill": {
     "duration": 0.044226,
     "end_time": "2023-12-09T12:00:19.328997",
     "exception": false,
     "start_time": "2023-12-09T12:00:19.284771",
     "status": "completed"
    },
    "tags": []
   },
   "outputs": [
    {
     "name": "stdout",
     "output_type": "stream",
     "text": [
      "PassengerId        0\n",
      "HomePlanet         0\n",
      "CryoSleep          0\n",
      "Cabin              0\n",
      "Destination        0\n",
      "Age                0\n",
      "VIP                0\n",
      "RoomService        0\n",
      "FoodCourt          0\n",
      "ShoppingMall       0\n",
      "Spa                0\n",
      "VRDeck             0\n",
      "Name               0\n",
      "Transported     4277\n",
      "dtype: int64\n"
     ]
    }
   ],
   "source": [
    "#Data For Train_Test\n",
    "train_test[\"Name\"].fillna(\"Unknown Unknown\",inplace=True)\n",
    "train_test[\"HomePlanet\"].fillna(train_test[\"HomePlanet\"].mode()[0],inplace=True)\n",
    "train_test[\"Destination\"].fillna(train_test[\"Destination\"].mode()[0],inplace=True)\n",
    "train_test[\"Cabin\"].fillna(train_test[\"Cabin\"].mode()[0],inplace=True)\n",
    "train_test[\"Age\"].fillna(int(train_test[\"Age\"].mean()),inplace=True)\n",
    "train_test[\"RoomService\"].fillna(train_test[\"RoomService\"].mean(),inplace=True)\n",
    "train_test[\"FoodCourt\"].fillna(train_test[\"FoodCourt\"].mean(),inplace=True)\n",
    "train_test[\"ShoppingMall\"].fillna(train_test[\"ShoppingMall\"].mean(),inplace=True)\n",
    "train_test[\"Spa\"].fillna(train_test[\"Spa\"].mean(),inplace=True)\n",
    "train_test[\"VRDeck\"].fillna(train_test[\"VRDeck\"].mean(),inplace=True)\n",
    "\n",
    "# Define the bins and labels for AGE column\n",
    "bins = [0, 15, 25, 35, 45, 60, 75, 90,120, 150]\n",
    "labels = [1, 2, 3, 4, 5, 6, 7, 8, 9]\n",
    "\n",
    "# Use pd.cut to scale the 'Age' column\n",
    "train_test['Age'] = pd.cut(train_test['Age'], bins=bins, labels=labels, right=False)\n",
    "# test['Age'] = pd.cut(test['Age'], bins=bins, labels=labels, right=False)\n",
    "\n",
    "\n",
    "\n",
    "\n",
    "#No Nan, Null or empty cell\n",
    "print(train_test.isna().sum())"
   ]
  },
  {
   "cell_type": "code",
   "execution_count": 25,
   "id": "ee59e621",
   "metadata": {
    "execution": {
     "iopub.execute_input": "2023-12-09T12:00:19.363491Z",
     "iopub.status.busy": "2023-12-09T12:00:19.363145Z",
     "iopub.status.idle": "2023-12-09T12:00:19.413183Z",
     "shell.execute_reply": "2023-12-09T12:00:19.411741Z"
    },
    "papermill": {
     "duration": 0.070011,
     "end_time": "2023-12-09T12:00:19.415291",
     "exception": false,
     "start_time": "2023-12-09T12:00:19.345280",
     "status": "completed"
    },
    "tags": []
   },
   "outputs": [
    {
     "data": {
      "text/html": [
       "<div>\n",
       "<style scoped>\n",
       "    .dataframe tbody tr th:only-of-type {\n",
       "        vertical-align: middle;\n",
       "    }\n",
       "\n",
       "    .dataframe tbody tr th {\n",
       "        vertical-align: top;\n",
       "    }\n",
       "\n",
       "    .dataframe thead th {\n",
       "        text-align: right;\n",
       "    }\n",
       "</style>\n",
       "<table border=\"1\" class=\"dataframe\">\n",
       "  <thead>\n",
       "    <tr style=\"text-align: right;\">\n",
       "      <th></th>\n",
       "      <th>PassengerId</th>\n",
       "      <th>HomePlanet</th>\n",
       "      <th>CryoSleep</th>\n",
       "      <th>Cabin</th>\n",
       "      <th>Destination</th>\n",
       "      <th>Age</th>\n",
       "      <th>VIP</th>\n",
       "      <th>RoomService</th>\n",
       "      <th>FoodCourt</th>\n",
       "      <th>ShoppingMall</th>\n",
       "      <th>Spa</th>\n",
       "      <th>VRDeck</th>\n",
       "      <th>Name</th>\n",
       "      <th>Transported</th>\n",
       "      <th>Deck</th>\n",
       "      <th>Port</th>\n",
       "    </tr>\n",
       "  </thead>\n",
       "  <tbody>\n",
       "    <tr>\n",
       "      <th>0</th>\n",
       "      <td>0001_01</td>\n",
       "      <td>2.0</td>\n",
       "      <td>1</td>\n",
       "      <td>0</td>\n",
       "      <td>3.0</td>\n",
       "      <td>1</td>\n",
       "      <td>0</td>\n",
       "      <td>0.000000</td>\n",
       "      <td>0.000000</td>\n",
       "      <td>0.000000</td>\n",
       "      <td>0.00000</td>\n",
       "      <td>0.000000</td>\n",
       "      <td>Maham Ofracculy</td>\n",
       "      <td>0.0</td>\n",
       "      <td>2</td>\n",
       "      <td>1</td>\n",
       "    </tr>\n",
       "    <tr>\n",
       "      <th>1</th>\n",
       "      <td>0002_01</td>\n",
       "      <td>1.0</td>\n",
       "      <td>0</td>\n",
       "      <td>0</td>\n",
       "      <td>3.0</td>\n",
       "      <td>2</td>\n",
       "      <td>1</td>\n",
       "      <td>0.007608</td>\n",
       "      <td>0.000302</td>\n",
       "      <td>0.001064</td>\n",
       "      <td>0.02450</td>\n",
       "      <td>0.001823</td>\n",
       "      <td>Juanna Vines</td>\n",
       "      <td>1.0</td>\n",
       "      <td>6</td>\n",
       "      <td>0</td>\n",
       "    </tr>\n",
       "    <tr>\n",
       "      <th>2</th>\n",
       "      <td>0003_01</td>\n",
       "      <td>2.0</td>\n",
       "      <td>0</td>\n",
       "      <td>0</td>\n",
       "      <td>3.0</td>\n",
       "      <td>5</td>\n",
       "      <td>1</td>\n",
       "      <td>0.003001</td>\n",
       "      <td>0.119948</td>\n",
       "      <td>0.000000</td>\n",
       "      <td>0.29967</td>\n",
       "      <td>0.002030</td>\n",
       "      <td>Altark Susent</td>\n",
       "      <td>0.0</td>\n",
       "      <td>1</td>\n",
       "      <td>0</td>\n",
       "    </tr>\n",
       "  </tbody>\n",
       "</table>\n",
       "</div>"
      ],
      "text/plain": [
       "  PassengerId  HomePlanet  CryoSleep Cabin  Destination Age  VIP  RoomService  \\\n",
       "0     0001_01         2.0          1     0          3.0   1    0     0.000000   \n",
       "1     0002_01         1.0          0     0          3.0   2    1     0.007608   \n",
       "2     0003_01         2.0          0     0          3.0   5    1     0.003001   \n",
       "\n",
       "   FoodCourt  ShoppingMall      Spa    VRDeck             Name  Transported  \\\n",
       "0   0.000000      0.000000  0.00000  0.000000  Maham Ofracculy          0.0   \n",
       "1   0.000302      0.001064  0.02450  0.001823     Juanna Vines          1.0   \n",
       "2   0.119948      0.000000  0.29967  0.002030    Altark Susent          0.0   \n",
       "\n",
       "   Deck  Port  \n",
       "0     2     1  \n",
       "1     6     0  \n",
       "2     1     0  "
      ]
     },
     "execution_count": 25,
     "metadata": {},
     "output_type": "execute_result"
    }
   ],
   "source": [
    "train_test[['Deck', 'Cabin', 'Port']] = train_test['Cabin'].str.split('/', expand=True)\n",
    "\n",
    "# Train Data\n",
    "#Port or Starboard of the cabins\n",
    "train_test['Port'].replace('S', 0, inplace=True)\n",
    "train_test['Port'].replace('P', 1, inplace=True)\n",
    "\n",
    "#Class of the cabins\n",
    "letter_to_int = {'A': 1, 'B': 2, 'C': 3, 'D': 4, 'E': 5, 'F': 6, 'G': 7, 'T': 8}\n",
    "train_test['Deck'] = train_test['Deck'].map(letter_to_int)\n",
    "\n",
    "\n",
    "#####################################\n",
    "#####################################\n",
    "#####################################\n",
    "\n",
    "# Test Data\n",
    "\n",
    "# #Port or Starboard of the cabins\n",
    "# test['Port'] = test['Cabin'].str.split('/').str[-1]\n",
    "# test['Port'].replace('S', 0, inplace=True)\n",
    "# test['Port'].replace('P', 1, inplace=True)\n",
    "\n",
    "# #Class of the cabins\n",
    "# test['Place'] = test['Cabin'].str.split('/').str[0]\n",
    "# letter_to_int = {'A': 1, 'B': 2, 'C': 3, 'D': 4, 'E': 5, 'F': 6, 'G': 7, 'T': 8}\n",
    "# test['Place'] = test['Place'].map(letter_to_int)\n",
    "\n",
    "\n",
    "# #Number of cabins\n",
    "# test['Cabin'] = test['Cabin'].str.split('/').str[1]\n",
    "\n",
    "\n",
    "\n",
    "train_test.head(3)"
   ]
  },
  {
   "cell_type": "code",
   "execution_count": 26,
   "id": "03bf9666",
   "metadata": {
    "execution": {
     "iopub.execute_input": "2023-12-09T12:00:19.451111Z",
     "iopub.status.busy": "2023-12-09T12:00:19.450715Z",
     "iopub.status.idle": "2023-12-09T12:00:19.484339Z",
     "shell.execute_reply": "2023-12-09T12:00:19.482836Z"
    },
    "papermill": {
     "duration": 0.054722,
     "end_time": "2023-12-09T12:00:19.487149",
     "exception": false,
     "start_time": "2023-12-09T12:00:19.432427",
     "status": "completed"
    },
    "tags": []
   },
   "outputs": [
    {
     "name": "stdout",
     "output_type": "stream",
     "text": [
      "<class 'pandas.core.frame.DataFrame'>\n",
      "Index: 12970 entries, 0 to 4276\n",
      "Data columns (total 17 columns):\n",
      " #   Column        Non-Null Count  Dtype   \n",
      "---  ------        --------------  -----   \n",
      " 0   PassengerId   12970 non-null  object  \n",
      " 1   HomePlanet    12970 non-null  float64 \n",
      " 2   CryoSleep     12970 non-null  int64   \n",
      " 3   Cabin         12970 non-null  object  \n",
      " 4   Destination   12970 non-null  float64 \n",
      " 5   Age           12970 non-null  category\n",
      " 6   VIP           12970 non-null  int64   \n",
      " 7   RoomService   12970 non-null  float64 \n",
      " 8   FoodCourt     12970 non-null  float64 \n",
      " 9   ShoppingMall  12970 non-null  float64 \n",
      " 10  Spa           12970 non-null  float64 \n",
      " 11  VRDeck        12970 non-null  float64 \n",
      " 12  Name          12970 non-null  object  \n",
      " 13  Transported   8693 non-null   float64 \n",
      " 14  Deck          12970 non-null  int64   \n",
      " 15  Port          12970 non-null  int64   \n",
      " 16  Group         12970 non-null  int64   \n",
      "dtypes: category(1), float64(8), int64(5), object(3)\n",
      "memory usage: 1.7+ MB\n"
     ]
    }
   ],
   "source": [
    "train_test['Group'] = train_test['PassengerId'].astype(str).str[:4]\n",
    "counts = train_test['Group'].value_counts()\n",
    "train_test['Group'] = train_test['Group'].map(counts)\n",
    "train_test.info()"
   ]
  },
  {
   "cell_type": "code",
   "execution_count": 27,
   "id": "b79d8cd1",
   "metadata": {
    "execution": {
     "iopub.execute_input": "2023-12-09T12:00:19.521348Z",
     "iopub.status.busy": "2023-12-09T12:00:19.521009Z",
     "iopub.status.idle": "2023-12-09T12:00:19.551787Z",
     "shell.execute_reply": "2023-12-09T12:00:19.549947Z"
    },
    "papermill": {
     "duration": 0.050967,
     "end_time": "2023-12-09T12:00:19.554506",
     "exception": false,
     "start_time": "2023-12-09T12:00:19.503539",
     "status": "completed"
    },
    "tags": []
   },
   "outputs": [
    {
     "name": "stdout",
     "output_type": "stream",
     "text": [
      "<class 'pandas.core.frame.DataFrame'>\n",
      "Index: 12970 entries, 0 to 4276\n",
      "Data columns (total 17 columns):\n",
      " #   Column        Non-Null Count  Dtype  \n",
      "---  ------        --------------  -----  \n",
      " 0   PassengerId   12970 non-null  object \n",
      " 1   HomePlanet    12970 non-null  Int64  \n",
      " 2   CryoSleep     12970 non-null  Int64  \n",
      " 3   Cabin         12970 non-null  Int64  \n",
      " 4   Destination   12970 non-null  Int64  \n",
      " 5   Age           12970 non-null  Int64  \n",
      " 6   VIP           12970 non-null  Int64  \n",
      " 7   RoomService   12970 non-null  float64\n",
      " 8   FoodCourt     12970 non-null  float64\n",
      " 9   ShoppingMall  12970 non-null  float64\n",
      " 10  Spa           12970 non-null  float64\n",
      " 11  VRDeck        12970 non-null  float64\n",
      " 12  Name          12970 non-null  object \n",
      " 13  Transported   8693 non-null   Int64  \n",
      " 14  Deck          12970 non-null  Int64  \n",
      " 15  Port          12970 non-null  Int64  \n",
      " 16  Group         12970 non-null  Int64  \n",
      "dtypes: Int64(10), float64(5), object(2)\n",
      "memory usage: 1.9+ MB\n"
     ]
    }
   ],
   "source": [
    "train_test[['HomePlanet', 'CryoSleep', 'Cabin', 'Destination', 'Age', 'VIP', 'Port', 'Deck','Group']]= train_test[['HomePlanet', 'CryoSleep','Cabin', 'Destination', 'Age', 'VIP', 'Port', 'Deck','Group']].astype('Int64')\n",
    "# train_test[['RoomService', 'FoodCourt', 'ShoppingMall', 'Spa', 'VRDeck']]= train_test[['RoomService', 'FoodCourt', 'ShoppingMall', 'Spa', 'VRDeck']].astype('Int64')\n",
    "train_test[['Transported']]= train_test[['Transported']].astype('Int64')\n",
    "\n",
    "train_test.info()"
   ]
  },
  {
   "cell_type": "code",
   "execution_count": 28,
   "id": "3676a86e",
   "metadata": {
    "execution": {
     "iopub.execute_input": "2023-12-09T12:00:19.590450Z",
     "iopub.status.busy": "2023-12-09T12:00:19.590097Z",
     "iopub.status.idle": "2023-12-09T12:00:19.599851Z",
     "shell.execute_reply": "2023-12-09T12:00:19.598674Z"
    },
    "papermill": {
     "duration": 0.030441,
     "end_time": "2023-12-09T12:00:19.601821",
     "exception": false,
     "start_time": "2023-12-09T12:00:19.571380",
     "status": "completed"
    },
    "tags": []
   },
   "outputs": [
    {
     "name": "stdout",
     "output_type": "stream",
     "text": [
      "PassengerId        0\n",
      "HomePlanet         0\n",
      "CryoSleep          0\n",
      "Cabin              0\n",
      "Destination        0\n",
      "Age                0\n",
      "VIP                0\n",
      "RoomService        0\n",
      "FoodCourt          0\n",
      "ShoppingMall       0\n",
      "Spa                0\n",
      "VRDeck             0\n",
      "Name               0\n",
      "Transported     4277\n",
      "Deck               0\n",
      "Port               0\n",
      "Group              0\n",
      "dtype: int64\n"
     ]
    }
   ],
   "source": [
    "##Apply square root transformation\n",
    "\n",
    "## Train Data\n",
    "# train_test['RoomService'] = train_test['RoomService']**0.5\n",
    "# train_test['FoodCourt'] = train_test['FoodCourt']**0.5\n",
    "# train_test['ShoppingMall'] = train_test['ShoppingMall']**0.5\n",
    "# train_test['Spa'] = train_test['Spa']**0.5\n",
    "# train_test['VRDeck'] = train_test['VRDeck']**0.5\n",
    "\n",
    "\n",
    "# ## Test Data\n",
    "# test['RoomService'] = test['RoomService']**0.5\n",
    "# test['FoodCourt'] = test['FoodCourt']**0.5\n",
    "# test['ShoppingMall'] = test['ShoppingMall']**0.5\n",
    "# test['Spa'] = test['Spa']**0.5\n",
    "# test['VRDeck'] = test['VRDeck']**0.5\n",
    "\n",
    "# train_test.head(3)\n",
    "print(train_test.isna().sum())"
   ]
  },
  {
   "cell_type": "code",
   "execution_count": 29,
   "id": "f146087c",
   "metadata": {
    "execution": {
     "iopub.execute_input": "2023-12-09T12:00:19.636571Z",
     "iopub.status.busy": "2023-12-09T12:00:19.636194Z",
     "iopub.status.idle": "2023-12-09T12:00:19.641482Z",
     "shell.execute_reply": "2023-12-09T12:00:19.640016Z"
    },
    "papermill": {
     "duration": 0.024698,
     "end_time": "2023-12-09T12:00:19.643325",
     "exception": false,
     "start_time": "2023-12-09T12:00:19.618627",
     "status": "completed"
    },
    "tags": []
   },
   "outputs": [],
   "source": [
    "# ## Apply log transformation\n",
    "\n",
    "# ## Train Data\n",
    "# train['RoomService'] = np.log1p(train['RoomService'])\n",
    "# train['FoodCourt'] = np.log1p(train['FoodCourt'])\n",
    "# train['ShoppingMall'] = np.log1p(train['ShoppingMall'])\n",
    "# train['Spa'] = np.log1p(train['Spa'])\n",
    "# train['VRDeck'] = np.log1p(train['VRDeck'])\n",
    "\n",
    "\n",
    "# ## Test Data\n",
    "# test['RoomService'] = np.log1p(test['RoomService'])\n",
    "# test['FoodCourt'] = np.log1p(test['FoodCourt'])\n",
    "# test['ShoppingMall'] = np.log1p(test['ShoppingMall'])\n",
    "# test['Spa'] = np.log1p(test['Spa'])\n",
    "# test['VRDeck'] = np.log1p(test['VRDeck'])\n",
    "# train.head(3)"
   ]
  },
  {
   "cell_type": "code",
   "execution_count": 30,
   "id": "e59d6df0",
   "metadata": {
    "execution": {
     "iopub.execute_input": "2023-12-09T12:00:19.677349Z",
     "iopub.status.busy": "2023-12-09T12:00:19.676983Z",
     "iopub.status.idle": "2023-12-09T12:00:20.237842Z",
     "shell.execute_reply": "2023-12-09T12:00:20.236718Z"
    },
    "papermill": {
     "duration": 0.5803,
     "end_time": "2023-12-09T12:00:20.239944",
     "exception": false,
     "start_time": "2023-12-09T12:00:19.659644",
     "status": "completed"
    },
    "tags": []
   },
   "outputs": [
    {
     "data": {
      "text/plain": [
       "<Axes: >"
      ]
     },
     "execution_count": 30,
     "metadata": {},
     "output_type": "execute_result"
    },
    {
     "data": {
      "image/png": "[encoded data removed]",
      "text/plain": [
       "<Figure size 640x480 with 2 Axes>"
      ]
     },
     "metadata": {},
     "output_type": "display_data"
    }
   ],
   "source": [
    "train_num = train_test.select_dtypes(include=['float64', 'int64'])\n",
    "\n",
    "# Calculate the correlations of numerical columns\n",
    "corr = train_num.corr()\n",
    "\n",
    "sns.heatmap(corr, annot=False)"
   ]
  },
  {
   "cell_type": "code",
   "execution_count": 31,
   "id": "5b8082a5",
   "metadata": {
    "execution": {
     "iopub.execute_input": "2023-12-09T12:00:20.276195Z",
     "iopub.status.busy": "2023-12-09T12:00:20.275823Z",
     "iopub.status.idle": "2023-12-09T12:00:20.280988Z",
     "shell.execute_reply": "2023-12-09T12:00:20.279814Z"
    },
    "papermill": {
     "duration": 0.025468,
     "end_time": "2023-12-09T12:00:20.282856",
     "exception": false,
     "start_time": "2023-12-09T12:00:20.257388",
     "status": "completed"
    },
    "tags": []
   },
   "outputs": [],
   "source": [
    "#print('cryo Taransported: ', sum(df[df.CryoSleep == 1].Transported), 'transported: ',sum(df.Transported))\n",
    "# # Calculate mean\n",
    "# df['Mean_luxury'] = df[['RoomService', 'FoodCourt', 'ShoppingMall', 'Spa', 'VRDeck']].mean(axis=1)\n",
    "\n",
    "# df = df.drop(columns=['RoomService', 'FoodCourt', 'ShoppingMall', 'Spa', 'VRDeck'])\n",
    "\n",
    "# df['BigSpender'] = np.where(df.Mean_luxury > 1000, 1,0)\n",
    "# df['Mid_Spender'] = np.where(df.Mean_luxury >= 500, 1,0)\n",
    "# df['Non_Spender'] = np.where(df.Mean_luxury == 0, 1,0)\n",
    "# df.head(3)"
   ]
  },
  {
   "cell_type": "markdown",
   "id": "7456caca",
   "metadata": {
    "papermill": {
     "duration": 0.017001,
     "end_time": "2023-12-09T12:00:20.317160",
     "exception": false,
     "start_time": "2023-12-09T12:00:20.300159",
     "status": "completed"
    },
    "tags": []
   },
   "source": [
    "{1:'55 Cancri e', 2:'PSO J318.5-22', 3:'TRAPPIST-1e'}\n",
    "{1:'Earth', 2:'Europa', 3:'Mars'}\n",
    "<<<<<HomePlanet to Destination>>>>\n",
    "1 to 1 >>> 721\n",
    "1 to 2 >>> 728\n",
    "1 to 3 >>> 3354\n",
    "--------------    \n",
    "2 to 1 >>> 193\n",
    "2 to 2 >>> 49\n",
    "2 to 3 >>> 1517\n",
    "-------------- \n",
    "3 to 1 >>> 886\n",
    "3 to 2 >>> 19\n",
    "3 to 3 >>> 1226\n",
    "-------------- "
   ]
  },
  {
   "cell_type": "code",
   "execution_count": 32,
   "id": "04848330",
   "metadata": {
    "execution": {
     "iopub.execute_input": "2023-12-09T12:00:20.353485Z",
     "iopub.status.busy": "2023-12-09T12:00:20.353141Z",
     "iopub.status.idle": "2023-12-09T12:00:20.373227Z",
     "shell.execute_reply": "2023-12-09T12:00:20.372502Z"
    },
    "papermill": {
     "duration": 0.040706,
     "end_time": "2023-12-09T12:00:20.375313",
     "exception": false,
     "start_time": "2023-12-09T12:00:20.334607",
     "status": "completed"
    },
    "tags": []
   },
   "outputs": [
    {
     "name": "stdout",
     "output_type": "stream",
     "text": [
      "<class 'pandas.core.frame.DataFrame'>\n",
      "Index: 4277 entries, 0 to 4276\n",
      "Data columns (total 16 columns):\n",
      " #   Column        Non-Null Count  Dtype  \n",
      "---  ------        --------------  -----  \n",
      " 0   PassengerId   4277 non-null   object \n",
      " 1   HomePlanet    4277 non-null   Int64  \n",
      " 2   CryoSleep     4277 non-null   Int64  \n",
      " 3   Cabin         4277 non-null   Int64  \n",
      " 4   Destination   4277 non-null   Int64  \n",
      " 5   Age           4277 non-null   Int64  \n",
      " 6   VIP           4277 non-null   Int64  \n",
      " 7   RoomService   4277 non-null   float64\n",
      " 8   FoodCourt     4277 non-null   float64\n",
      " 9   ShoppingMall  4277 non-null   float64\n",
      " 10  Spa           4277 non-null   float64\n",
      " 11  VRDeck        4277 non-null   float64\n",
      " 12  Name          4277 non-null   object \n",
      " 13  Deck          4277 non-null   Int64  \n",
      " 14  Port          4277 non-null   Int64  \n",
      " 15  Group         4277 non-null   Int64  \n",
      "dtypes: Int64(9), float64(5), object(2)\n",
      "memory usage: 605.6+ KB\n"
     ]
    }
   ],
   "source": [
    "train = train_test[train_test['Transported'].notnull()].copy()\n",
    "train.Transported =train.Transported.astype('Int64')\n",
    "test = train_test[train_test['Transported'].isnull()].drop(\"Transported\",axis=1)\n",
    "test.info()"
   ]
  },
  {
   "cell_type": "code",
   "execution_count": 33,
   "id": "8b9820ae",
   "metadata": {
    "execution": {
     "iopub.execute_input": "2023-12-09T12:00:20.411661Z",
     "iopub.status.busy": "2023-12-09T12:00:20.411310Z",
     "iopub.status.idle": "2023-12-09T12:00:20.425742Z",
     "shell.execute_reply": "2023-12-09T12:00:20.424037Z"
    },
    "papermill": {
     "duration": 0.035836,
     "end_time": "2023-12-09T12:00:20.428407",
     "exception": false,
     "start_time": "2023-12-09T12:00:20.392571",
     "status": "completed"
    },
    "tags": []
   },
   "outputs": [
    {
     "name": "stdout",
     "output_type": "stream",
     "text": [
      "<class 'pandas.core.frame.DataFrame'>\n",
      "Index: 8693 entries, 0 to 8692\n",
      "Data columns (total 17 columns):\n",
      " #   Column        Non-Null Count  Dtype  \n",
      "---  ------        --------------  -----  \n",
      " 0   PassengerId   8693 non-null   object \n",
      " 1   HomePlanet    8693 non-null   Int64  \n",
      " 2   CryoSleep     8693 non-null   Int64  \n",
      " 3   Cabin         8693 non-null   Int64  \n",
      " 4   Destination   8693 non-null   Int64  \n",
      " 5   Age           8693 non-null   Int64  \n",
      " 6   VIP           8693 non-null   Int64  \n",
      " 7   RoomService   8693 non-null   float64\n",
      " 8   FoodCourt     8693 non-null   float64\n",
      " 9   ShoppingMall  8693 non-null   float64\n",
      " 10  Spa           8693 non-null   float64\n",
      " 11  VRDeck        8693 non-null   float64\n",
      " 12  Name          8693 non-null   object \n",
      " 13  Transported   8693 non-null   Int64  \n",
      " 14  Deck          8693 non-null   Int64  \n",
      " 15  Port          8693 non-null   Int64  \n",
      " 16  Group         8693 non-null   Int64  \n",
      "dtypes: Int64(10), float64(5), object(2)\n",
      "memory usage: 1.3+ MB\n"
     ]
    }
   ],
   "source": [
    "train.info()"
   ]
  },
  {
   "cell_type": "code",
   "execution_count": 34,
   "id": "19dc4d25",
   "metadata": {
    "execution": {
     "iopub.execute_input": "2023-12-09T12:00:20.469796Z",
     "iopub.status.busy": "2023-12-09T12:00:20.468642Z",
     "iopub.status.idle": "2023-12-09T12:00:20.489433Z",
     "shell.execute_reply": "2023-12-09T12:00:20.488412Z"
    },
    "papermill": {
     "duration": 0.045295,
     "end_time": "2023-12-09T12:00:20.492001",
     "exception": false,
     "start_time": "2023-12-09T12:00:20.446706",
     "status": "completed"
    },
    "tags": []
   },
   "outputs": [
    {
     "data": {
      "text/html": [
       "<div>\n",
       "<style scoped>\n",
       "    .dataframe tbody tr th:only-of-type {\n",
       "        vertical-align: middle;\n",
       "    }\n",
       "\n",
       "    .dataframe tbody tr th {\n",
       "        vertical-align: top;\n",
       "    }\n",
       "\n",
       "    .dataframe thead th {\n",
       "        text-align: right;\n",
       "    }\n",
       "</style>\n",
       "<table border=\"1\" class=\"dataframe\">\n",
       "  <thead>\n",
       "    <tr style=\"text-align: right;\">\n",
       "      <th></th>\n",
       "      <th>HomePlanet</th>\n",
       "      <th>CryoSleep</th>\n",
       "      <th>Cabin</th>\n",
       "      <th>Destination</th>\n",
       "      <th>Age</th>\n",
       "      <th>VIP</th>\n",
       "      <th>RoomService</th>\n",
       "      <th>FoodCourt</th>\n",
       "      <th>ShoppingMall</th>\n",
       "      <th>Spa</th>\n",
       "      <th>VRDeck</th>\n",
       "      <th>Deck</th>\n",
       "      <th>Port</th>\n",
       "      <th>Group</th>\n",
       "    </tr>\n",
       "  </thead>\n",
       "  <tbody>\n",
       "    <tr>\n",
       "      <th>0</th>\n",
       "      <td>2</td>\n",
       "      <td>1</td>\n",
       "      <td>0</td>\n",
       "      <td>3</td>\n",
       "      <td>1</td>\n",
       "      <td>0</td>\n",
       "      <td>0.000000</td>\n",
       "      <td>0.000000</td>\n",
       "      <td>0.000000</td>\n",
       "      <td>0.00000</td>\n",
       "      <td>0.000000</td>\n",
       "      <td>2</td>\n",
       "      <td>1</td>\n",
       "      <td>1</td>\n",
       "    </tr>\n",
       "    <tr>\n",
       "      <th>1</th>\n",
       "      <td>1</td>\n",
       "      <td>0</td>\n",
       "      <td>0</td>\n",
       "      <td>3</td>\n",
       "      <td>2</td>\n",
       "      <td>1</td>\n",
       "      <td>0.007608</td>\n",
       "      <td>0.000302</td>\n",
       "      <td>0.001064</td>\n",
       "      <td>0.02450</td>\n",
       "      <td>0.001823</td>\n",
       "      <td>6</td>\n",
       "      <td>0</td>\n",
       "      <td>1</td>\n",
       "    </tr>\n",
       "    <tr>\n",
       "      <th>2</th>\n",
       "      <td>2</td>\n",
       "      <td>0</td>\n",
       "      <td>0</td>\n",
       "      <td>3</td>\n",
       "      <td>5</td>\n",
       "      <td>1</td>\n",
       "      <td>0.003001</td>\n",
       "      <td>0.119948</td>\n",
       "      <td>0.000000</td>\n",
       "      <td>0.29967</td>\n",
       "      <td>0.002030</td>\n",
       "      <td>1</td>\n",
       "      <td>0</td>\n",
       "      <td>2</td>\n",
       "    </tr>\n",
       "  </tbody>\n",
       "</table>\n",
       "</div>"
      ],
      "text/plain": [
       "   HomePlanet  CryoSleep  Cabin  Destination  Age  VIP  RoomService  \\\n",
       "0           2          1      0            3    1    0     0.000000   \n",
       "1           1          0      0            3    2    1     0.007608   \n",
       "2           2          0      0            3    5    1     0.003001   \n",
       "\n",
       "   FoodCourt  ShoppingMall      Spa    VRDeck  Deck  Port  Group  \n",
       "0   0.000000      0.000000  0.00000  0.000000     2     1      1  \n",
       "1   0.000302      0.001064  0.02450  0.001823     6     0      1  \n",
       "2   0.119948      0.000000  0.29967  0.002030     1     0      2  "
      ]
     },
     "execution_count": 34,
     "metadata": {},
     "output_type": "execute_result"
    }
   ],
   "source": [
    "### Train Data\n",
    "newTrain = train\n",
    "train_ids = newTrain['PassengerId'].copy()\n",
    "train_trs = newTrain['Transported'].copy()\n",
    "newTrain.drop(columns=['PassengerId','Name','Transported'],inplace=True)\n",
    "\n",
    "\n",
    "#####################\n",
    "\n",
    "\n",
    "### Test Data\n",
    "newTest = test\n",
    "test_ids = newTest['PassengerId'].copy()\n",
    "newTest.drop(columns=['PassengerId','Name'],inplace=True)\n",
    "\n",
    "\n",
    "newTrain.head(3)"
   ]
  },
  {
   "cell_type": "code",
   "execution_count": 35,
   "id": "6c43600d",
   "metadata": {
    "execution": {
     "iopub.execute_input": "2023-12-09T12:00:20.529541Z",
     "iopub.status.busy": "2023-12-09T12:00:20.529134Z",
     "iopub.status.idle": "2023-12-09T12:00:20.542405Z",
     "shell.execute_reply": "2023-12-09T12:00:20.540960Z"
    },
    "papermill": {
     "duration": 0.035151,
     "end_time": "2023-12-09T12:00:20.544941",
     "exception": false,
     "start_time": "2023-12-09T12:00:20.509790",
     "status": "completed"
    },
    "tags": []
   },
   "outputs": [
    {
     "name": "stdout",
     "output_type": "stream",
     "text": [
      "<class 'pandas.core.frame.DataFrame'>\n",
      "Index: 8693 entries, 0 to 8692\n",
      "Data columns (total 14 columns):\n",
      " #   Column        Non-Null Count  Dtype  \n",
      "---  ------        --------------  -----  \n",
      " 0   HomePlanet    8693 non-null   Int64  \n",
      " 1   CryoSleep     8693 non-null   Int64  \n",
      " 2   Cabin         8693 non-null   Int64  \n",
      " 3   Destination   8693 non-null   Int64  \n",
      " 4   Age           8693 non-null   Int64  \n",
      " 5   VIP           8693 non-null   Int64  \n",
      " 6   RoomService   8693 non-null   float64\n",
      " 7   FoodCourt     8693 non-null   float64\n",
      " 8   ShoppingMall  8693 non-null   float64\n",
      " 9   Spa           8693 non-null   float64\n",
      " 10  VRDeck        8693 non-null   float64\n",
      " 11  Deck          8693 non-null   Int64  \n",
      " 12  Port          8693 non-null   Int64  \n",
      " 13  Group         8693 non-null   Int64  \n",
      "dtypes: Int64(9), float64(5)\n",
      "memory usage: 1.1 MB\n"
     ]
    }
   ],
   "source": [
    "newTrain.info()"
   ]
  },
  {
   "cell_type": "code",
   "execution_count": 36,
   "id": "9f5adf1c",
   "metadata": {
    "execution": {
     "iopub.execute_input": "2023-12-09T12:00:20.584721Z",
     "iopub.status.busy": "2023-12-09T12:00:20.583698Z",
     "iopub.status.idle": "2023-12-09T12:00:20.598408Z",
     "shell.execute_reply": "2023-12-09T12:00:20.596825Z"
    },
    "papermill": {
     "duration": 0.036074,
     "end_time": "2023-12-09T12:00:20.600214",
     "exception": false,
     "start_time": "2023-12-09T12:00:20.564140",
     "status": "completed"
    },
    "tags": []
   },
   "outputs": [
    {
     "name": "stdout",
     "output_type": "stream",
     "text": [
      "<class 'pandas.core.frame.DataFrame'>\n",
      "Index: 4277 entries, 0 to 4276\n",
      "Data columns (total 14 columns):\n",
      " #   Column        Non-Null Count  Dtype  \n",
      "---  ------        --------------  -----  \n",
      " 0   HomePlanet    4277 non-null   Int64  \n",
      " 1   CryoSleep     4277 non-null   Int64  \n",
      " 2   Cabin         4277 non-null   Int64  \n",
      " 3   Destination   4277 non-null   Int64  \n",
      " 4   Age           4277 non-null   Int64  \n",
      " 5   VIP           4277 non-null   Int64  \n",
      " 6   RoomService   4277 non-null   float64\n",
      " 7   FoodCourt     4277 non-null   float64\n",
      " 8   ShoppingMall  4277 non-null   float64\n",
      " 9   Spa           4277 non-null   float64\n",
      " 10  VRDeck        4277 non-null   float64\n",
      " 11  Deck          4277 non-null   Int64  \n",
      " 12  Port          4277 non-null   Int64  \n",
      " 13  Group         4277 non-null   Int64  \n",
      "dtypes: Int64(9), float64(5)\n",
      "memory usage: 538.8 KB\n"
     ]
    }
   ],
   "source": [
    "newTest.info()"
   ]
  },
  {
   "cell_type": "code",
   "execution_count": 37,
   "id": "bacaca40",
   "metadata": {
    "execution": {
     "iopub.execute_input": "2023-12-09T12:00:20.636584Z",
     "iopub.status.busy": "2023-12-09T12:00:20.636205Z",
     "iopub.status.idle": "2023-12-09T12:00:20.640409Z",
     "shell.execute_reply": "2023-12-09T12:00:20.639439Z"
    },
    "papermill": {
     "duration": 0.025397,
     "end_time": "2023-12-09T12:00:20.643026",
     "exception": false,
     "start_time": "2023-12-09T12:00:20.617629",
     "status": "completed"
    },
    "tags": []
   },
   "outputs": [],
   "source": [
    "# from sklearn.model_selection import train_test_split\n",
    "# X_train, X_test, y_train, y_test = train_test_split(newtrainDF.drop('Transported',axis=1), \n",
    "#                                                   df['Transported'], test_size=0.30, \n",
    "#                                                     random_state=101)\n",
    "# newtrainDF.head(1)"
   ]
  },
  {
   "cell_type": "code",
   "execution_count": 38,
   "id": "53f122ae",
   "metadata": {
    "execution": {
     "iopub.execute_input": "2023-12-09T12:00:20.683190Z",
     "iopub.status.busy": "2023-12-09T12:00:20.682798Z",
     "iopub.status.idle": "2023-12-09T12:00:21.792098Z",
     "shell.execute_reply": "2023-12-09T12:00:21.791328Z"
    },
    "papermill": {
     "duration": 1.132675,
     "end_time": "2023-12-09T12:00:21.794103",
     "exception": false,
     "start_time": "2023-12-09T12:00:20.661428",
     "status": "completed"
    },
    "tags": []
   },
   "outputs": [
    {
     "data": {
      "text/html": [
       "<style>#sk-container-id-1 {color: black;background-color: white;}#sk-container-id-1 pre{padding: 0;}#sk-container-id-1 div.sk-toggleable {background-color: white;}#sk-container-id-1 label.sk-toggleable__label {cursor: pointer;display: block;width: 100%;margin-bottom: 0;padding: 0.3em;box-sizing: border-box;text-align: center;}#sk-container-id-1 label.sk-toggleable__label-arrow:before {content: \"▸\";float: left;margin-right: 0.25em;color: #696969;}#sk-container-id-1 label.sk-toggleable__label-arrow:hover:before {color: black;}#sk-container-id-1 div.sk-estimator:hover label.sk-toggleable__label-arrow:before {color: black;}#sk-container-id-1 div.sk-toggleable__content {max-height: 0;max-width: 0;overflow: hidden;text-align: left;background-color: #f0f8ff;}#sk-container-id-1 div.sk-toggleable__content pre {margin: 0.2em;color: black;border-radius: 0.25em;background-color: #f0f8ff;}#sk-container-id-1 input.sk-toggleable__control:checked~div.sk-toggleable__content {max-height: 200px;max-width: 100%;overflow: auto;}#sk-container-id-1 input.sk-toggleable__control:checked~label.sk-toggleable__label-arrow:before {content: \"▾\";}#sk-container-id-1 div.sk-estimator input.sk-toggleable__control:checked~label.sk-toggleable__label {background-color: #d4ebff;}#sk-container-id-1 div.sk-label input.sk-toggleable__control:checked~label.sk-toggleable__label {background-color: #d4ebff;}#sk-container-id-1 input.sk-hidden--visually {border: 0;clip: rect(1px 1px 1px 1px);clip: rect(1px, 1px, 1px, 1px);height: 1px;margin: -1px;overflow: hidden;padding: 0;position: absolute;width: 1px;}#sk-container-id-1 div.sk-estimator {font-family: monospace;background-color: #f0f8ff;border: 1px dotted black;border-radius: 0.25em;box-sizing: border-box;margin-bottom: 0.5em;}#sk-container-id-1 div.sk-estimator:hover {background-color: #d4ebff;}#sk-container-id-1 div.sk-parallel-item::after {content: \"\";width: 100%;border-bottom: 1px solid gray;flex-grow: 1;}#sk-container-id-1 div.sk-label:hover label.sk-toggleable__label {background-color: #d4ebff;}#sk-container-id-1 div.sk-serial::before {content: \"\";position: absolute;border-left: 1px solid gray;box-sizing: border-box;top: 0;bottom: 0;left: 50%;z-index: 0;}#sk-container-id-1 div.sk-serial {display: flex;flex-direction: column;align-items: center;background-color: white;padding-right: 0.2em;padding-left: 0.2em;position: relative;}#sk-container-id-1 div.sk-item {position: relative;z-index: 1;}#sk-container-id-1 div.sk-parallel {display: flex;align-items: stretch;justify-content: center;background-color: white;position: relative;}#sk-container-id-1 div.sk-item::before, #sk-container-id-1 div.sk-parallel-item::before {content: \"\";position: absolute;border-left: 1px solid gray;box-sizing: border-box;top: 0;bottom: 0;left: 50%;z-index: -1;}#sk-container-id-1 div.sk-parallel-item {display: flex;flex-direction: column;z-index: 1;position: relative;background-color: white;}#sk-container-id-1 div.sk-parallel-item:first-child::after {align-self: flex-end;width: 50%;}#sk-container-id-1 div.sk-parallel-item:last-child::after {align-self: flex-start;width: 50%;}#sk-container-id-1 div.sk-parallel-item:only-child::after {width: 0;}#sk-container-id-1 div.sk-dashed-wrapped {border: 1px dashed gray;margin: 0 0.4em 0.5em 0.4em;box-sizing: border-box;padding-bottom: 0.4em;background-color: white;}#sk-container-id-1 div.sk-label label {font-family: monospace;font-weight: bold;display: inline-block;line-height: 1.2em;}#sk-container-id-1 div.sk-label-container {text-align: center;}#sk-container-id-1 div.sk-container {/* jupyter's `normalize.less` sets `[hidden] { display: none; }` but bootstrap.min.css set `[hidden] { display: none !important; }` so we also need the `!important` here to be able to override the default hidden behavior on the sphinx rendered scikit-learn.org. See: https://github.com/scikit-learn/scikit-learn/issues/21755 */display: inline-block !important;position: relative;}#sk-container-id-1 div.sk-text-repr-fallback {display: none;}</style><div id=\"sk-container-id-1\" class=\"sk-top-container\"><div class=\"sk-text-repr-fallback\"><pre>LogisticRegression(max_iter=10000)</pre><b>In a Jupyter environment, please rerun this cell to show the HTML representation or trust the notebook. <br />On GitHub, the HTML representation is unable to render, please try loading this page with nbviewer.org.</b></div><div class=\"sk-container\" hidden><div class=\"sk-item\"><div class=\"sk-estimator sk-toggleable\"><input class=\"sk-toggleable__control sk-hidden--visually\" id=\"sk-estimator-id-1\" type=\"checkbox\" checked><label for=\"sk-estimator-id-1\" class=\"sk-toggleable__label sk-toggleable__label-arrow\">LogisticRegression</label><div class=\"sk-toggleable__content\"><pre>LogisticRegression(max_iter=10000)</pre></div></div></div></div></div>"
      ],
      "text/plain": [
       "LogisticRegression(max_iter=10000)"
      ]
     },
     "execution_count": 38,
     "metadata": {},
     "output_type": "execute_result"
    }
   ],
   "source": [
    "from sklearn.linear_model import LogisticRegression\n",
    "logmodel = LogisticRegression(max_iter=10000)\n",
    "logmodel.fit(newTrain, train_trs)"
   ]
  },
  {
   "cell_type": "code",
   "execution_count": 39,
   "id": "9abd12b5",
   "metadata": {
    "execution": {
     "iopub.execute_input": "2023-12-09T12:00:21.848047Z",
     "iopub.status.busy": "2023-12-09T12:00:21.847633Z",
     "iopub.status.idle": "2023-12-09T12:00:21.851676Z",
     "shell.execute_reply": "2023-12-09T12:00:21.850931Z"
    },
    "papermill": {
     "duration": 0.03513,
     "end_time": "2023-12-09T12:00:21.855552",
     "exception": false,
     "start_time": "2023-12-09T12:00:21.820422",
     "status": "completed"
    },
    "tags": []
   },
   "outputs": [],
   "source": [
    "# df_test['stSpenders'] = df_test[['RoomService', 'FoodCourt', 'ShoppingMall', 'Spa', 'VRDeck']].std(axis=1)\n",
    "# df_test = df_test.drop(columns=['RoomService', 'FoodCourt', 'ShoppingMall', 'Spa', 'VRDeck'])\n",
    "# df_test.head()"
   ]
  },
  {
   "cell_type": "code",
   "execution_count": 40,
   "id": "48cca782",
   "metadata": {
    "execution": {
     "iopub.execute_input": "2023-12-09T12:00:21.905002Z",
     "iopub.status.busy": "2023-12-09T12:00:21.904646Z",
     "iopub.status.idle": "2023-12-09T12:00:21.911986Z",
     "shell.execute_reply": "2023-12-09T12:00:21.911273Z"
    },
    "papermill": {
     "duration": 0.033797,
     "end_time": "2023-12-09T12:00:21.913927",
     "exception": false,
     "start_time": "2023-12-09T12:00:21.880130",
     "status": "completed"
    },
    "tags": []
   },
   "outputs": [],
   "source": [
    " predictions = logmodel.predict(newTest)"
   ]
  },
  {
   "cell_type": "code",
   "execution_count": 41,
   "id": "3a6f02e8",
   "metadata": {
    "execution": {
     "iopub.execute_input": "2023-12-09T12:00:21.964846Z",
     "iopub.status.busy": "2023-12-09T12:00:21.964518Z",
     "iopub.status.idle": "2023-12-09T12:00:21.987289Z",
     "shell.execute_reply": "2023-12-09T12:00:21.986393Z"
    },
    "papermill": {
     "duration": 0.05103,
     "end_time": "2023-12-09T12:00:21.989741",
     "exception": false,
     "start_time": "2023-12-09T12:00:21.938711",
     "status": "completed"
    },
    "tags": []
   },
   "outputs": [
    {
     "data": {
      "text/html": [
       "<div>\n",
       "<style scoped>\n",
       "    .dataframe tbody tr th:only-of-type {\n",
       "        vertical-align: middle;\n",
       "    }\n",
       "\n",
       "    .dataframe tbody tr th {\n",
       "        vertical-align: top;\n",
       "    }\n",
       "\n",
       "    .dataframe thead th {\n",
       "        text-align: right;\n",
       "    }\n",
       "</style>\n",
       "<table border=\"1\" class=\"dataframe\">\n",
       "  <thead>\n",
       "    <tr style=\"text-align: right;\">\n",
       "      <th></th>\n",
       "      <th>PassengerId</th>\n",
       "      <th>Transported</th>\n",
       "    </tr>\n",
       "  </thead>\n",
       "  <tbody>\n",
       "    <tr>\n",
       "      <th>0</th>\n",
       "      <td>0013_01</td>\n",
       "      <td>True</td>\n",
       "    </tr>\n",
       "    <tr>\n",
       "      <th>1</th>\n",
       "      <td>0018_01</td>\n",
       "      <td>False</td>\n",
       "    </tr>\n",
       "    <tr>\n",
       "      <th>2</th>\n",
       "      <td>0019_01</td>\n",
       "      <td>True</td>\n",
       "    </tr>\n",
       "    <tr>\n",
       "      <th>3</th>\n",
       "      <td>0021_01</td>\n",
       "      <td>True</td>\n",
       "    </tr>\n",
       "    <tr>\n",
       "      <th>4</th>\n",
       "      <td>0023_01</td>\n",
       "      <td>False</td>\n",
       "    </tr>\n",
       "  </tbody>\n",
       "</table>\n",
       "</div>"
      ],
      "text/plain": [
       "  PassengerId  Transported\n",
       "0     0013_01         True\n",
       "1     0018_01        False\n",
       "2     0019_01         True\n",
       "3     0021_01         True\n",
       "4     0023_01        False"
      ]
     },
     "execution_count": 41,
     "metadata": {},
     "output_type": "execute_result"
    }
   ],
   "source": [
    "df_predictions = pd.DataFrame()\n",
    "df_predictions['PassengerId'] = pd.Series(test_ids.T.values)\n",
    "df_predictions['Transported'] = pd.Series(predictions)\n",
    "df_predictions.Transported = np.where(df_predictions.Transported==1,True,False)\n",
    "df_predictions.to_csv(\"19thAttempt.csv\", sep=',', index=False)\n",
    "df_predictions.head()"
   ]
  },
  {
   "cell_type": "markdown",
   "id": "cefb2961",
   "metadata": {
    "papermill": {
     "duration": 0.020834,
     "end_time": "2023-12-09T12:00:22.037198",
     "exception": false,
     "start_time": "2023-12-09T12:00:22.016364",
     "status": "completed"
    },
    "tags": []
   },
   "source": [
    "In this report, the 'Precision' column tells us the proportion of positive identifications (i.e., the passenger was transported) that were actually correct. The 'Recall' column tells us the proportion of actual positives that were identified correctly. The 'F1-score' is a function of Precision and Recall and gives a balanced measure of the model's performance.\n",
    "\n",
    "Remember, this is a basic model. Depending on the performance of the model, you might need to consider more advanced techniques such as handling class imbalance, feature engineering, or using a more complex model."
   ]
  }
 ],
 "metadata": {
  "kaggle": {
   "accelerator": "none",
   "dataSources": [
    {
     "databundleVersionId": 3220602,
     "sourceId": 34377,
     "sourceType": "competition"
    }
   ],
   "dockerImageVersionId": 30558,
   "isGpuEnabled": false,
   "isInternetEnabled": false,
   "language": "python",
   "sourceType": "notebook"
  },
  "kernelspec": {
   "display_name": "Python 3",
   "language": "python",
   "name": "python3"
  },
  "language_info": {
   "codemirror_mode": {
    "name": "ipython",
    "version": 3
   },
   "file_extension": ".py",
   "mimetype": "text/x-python",
   "name": "python",
   "nbconvert_exporter": "python",
   "pygments_lexer": "ipython3",
   "version": "3.10.12"
  },
  "papermill": {
   "default_parameters": {},
   "duration": 17.106447,
   "end_time": "2023-12-09T12:00:22.676703",
   "environment_variables": {},
   "exception": null,
   "input_path": "__notebook__.ipynb",
   "output_path": "__notebook__.ipynb",
   "parameters": {},
   "start_time": "2023-12-09T12:00:05.570256",
   "version": "2.4.0"
  }
 },
 "nbformat": 4,
 "nbformat_minor": 5
}
