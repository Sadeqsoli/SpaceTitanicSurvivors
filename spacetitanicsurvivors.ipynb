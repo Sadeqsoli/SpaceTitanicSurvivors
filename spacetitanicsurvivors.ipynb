{
 "cells": [
  {
   "cell_type": "code",
   "execution_count": 1,
   "id": "24781886",
   "metadata": {
    "_cell_guid": "b1076dfc-b9ad-4769-8c92-a6c4dae69d19",
    "_uuid": "8f2839f25d086af736a60e9eeb907d3b93b6e0e5",
    "execution": {
     "iopub.execute_input": "2023-12-09T11:18:00.363067Z",
     "iopub.status.busy": "2023-12-09T11:18:00.362411Z",
     "iopub.status.idle": "2023-12-09T11:18:02.941418Z",
     "shell.execute_reply": "2023-12-09T11:18:02.940741Z"
    },
    "papermill": {
     "duration": 2.593459,
     "end_time": "2023-12-09T11:18:02.943662",
     "exception": false,
     "start_time": "2023-12-09T11:18:00.350203",
     "status": "completed"
    },
    "tags": []
   },
   "outputs": [
    {
     "name": "stdout",
     "output_type": "stream",
     "text": [
      "/kaggle/input/spaceship-titanic/sample_submission.csv\n",
      "/kaggle/input/spaceship-titanic/train.csv\n",
      "/kaggle/input/spaceship-titanic/test.csv\n"
     ]
    }
   ],
   "source": [
    "# This Python 3 environment comes with many helpful analytics libraries installed\n",
    "# It is defined by the kaggle/python Docker image: https://github.com/kaggle/docker-python\n",
    "# For example, here's several helpful packages to load\n",
    "\n",
    "import numpy as np # linear algebra\n",
    "import pandas as pd # data processing, CSV file I/O (e.g. pd.read_csv)\n",
    "import sklearn\n",
    "import datetime\n",
    "import matplotlib.pyplot as plt\n",
    "import missingno as msno\n",
    "from prettytable import PrettyTable\n",
    "import seaborn as sns\n",
    "from pandas.plotting import scatter_matrix\n",
    "sns.set(style='darkgrid', font_scale=1.4)\n",
    "\n",
    "# Input data files are available in the read-only \"../input/\" directory\n",
    "# For example, running this (by clicking run or pressing Shift+Enter) will list all files under the input directory\n",
    "\n",
    "import os\n",
    "for dirname, _, filenames in os.walk('/kaggle/input'):\n",
    "    for filename in filenames:\n",
    "        print(os.path.join(dirname, filename))\n",
    "\n",
    "# You can write up to 20GB to the current directory (/kaggle/working/) that gets preserved as output when you create a version using \"Save & Run All\" \n",
    "# You can also write temporary files to /kaggle/temp/, but they won't be saved outside of the current session"
   ]
  },
  {
   "cell_type": "markdown",
   "id": "cb484d01",
   "metadata": {
    "papermill": {
     "duration": 0.009537,
     "end_time": "2023-12-09T11:18:02.963985",
     "exception": false,
     "start_time": "2023-12-09T11:18:02.954448",
     "status": "completed"
    },
    "tags": []
   },
   "source": [
    "# 1. Getting Data"
   ]
  },
  {
   "cell_type": "code",
   "execution_count": 2,
   "id": "509bc5db",
   "metadata": {
    "execution": {
     "iopub.execute_input": "2023-12-09T11:18:02.990798Z",
     "iopub.status.busy": "2023-12-09T11:18:02.989434Z",
     "iopub.status.idle": "2023-12-09T11:18:03.095521Z",
     "shell.execute_reply": "2023-12-09T11:18:03.093943Z"
    },
    "papermill": {
     "duration": 0.121166,
     "end_time": "2023-12-09T11:18:03.097717",
     "exception": false,
     "start_time": "2023-12-09T11:18:02.976551",
     "status": "completed"
    },
    "tags": []
   },
   "outputs": [
    {
     "data": {
      "text/html": [
       "<div>\n",
       "<style scoped>\n",
       "    .dataframe tbody tr th:only-of-type {\n",
       "        vertical-align: middle;\n",
       "    }\n",
       "\n",
       "    .dataframe tbody tr th {\n",
       "        vertical-align: top;\n",
       "    }\n",
       "\n",
       "    .dataframe thead th {\n",
       "        text-align: right;\n",
       "    }\n",
       "</style>\n",
       "<table border=\"1\" class=\"dataframe\">\n",
       "  <thead>\n",
       "    <tr style=\"text-align: right;\">\n",
       "      <th></th>\n",
       "      <th>PassengerId</th>\n",
       "      <th>HomePlanet</th>\n",
       "      <th>CryoSleep</th>\n",
       "      <th>Cabin</th>\n",
       "      <th>Destination</th>\n",
       "      <th>Age</th>\n",
       "      <th>VIP</th>\n",
       "      <th>RoomService</th>\n",
       "      <th>FoodCourt</th>\n",
       "      <th>ShoppingMall</th>\n",
       "      <th>Spa</th>\n",
       "      <th>VRDeck</th>\n",
       "      <th>Name</th>\n",
       "      <th>Transported</th>\n",
       "    </tr>\n",
       "  </thead>\n",
       "  <tbody>\n",
       "    <tr>\n",
       "      <th>0</th>\n",
       "      <td>0001_01</td>\n",
       "      <td>Europa</td>\n",
       "      <td>False</td>\n",
       "      <td>B/0/P</td>\n",
       "      <td>TRAPPIST-1e</td>\n",
       "      <td>39.0</td>\n",
       "      <td>False</td>\n",
       "      <td>0.0</td>\n",
       "      <td>0.0</td>\n",
       "      <td>0.0</td>\n",
       "      <td>0.0</td>\n",
       "      <td>0.0</td>\n",
       "      <td>Maham Ofracculy</td>\n",
       "      <td>False</td>\n",
       "    </tr>\n",
       "    <tr>\n",
       "      <th>1</th>\n",
       "      <td>0002_01</td>\n",
       "      <td>Earth</td>\n",
       "      <td>False</td>\n",
       "      <td>F/0/S</td>\n",
       "      <td>TRAPPIST-1e</td>\n",
       "      <td>24.0</td>\n",
       "      <td>False</td>\n",
       "      <td>109.0</td>\n",
       "      <td>9.0</td>\n",
       "      <td>25.0</td>\n",
       "      <td>549.0</td>\n",
       "      <td>44.0</td>\n",
       "      <td>Juanna Vines</td>\n",
       "      <td>True</td>\n",
       "    </tr>\n",
       "    <tr>\n",
       "      <th>2</th>\n",
       "      <td>0003_01</td>\n",
       "      <td>Europa</td>\n",
       "      <td>False</td>\n",
       "      <td>A/0/S</td>\n",
       "      <td>TRAPPIST-1e</td>\n",
       "      <td>58.0</td>\n",
       "      <td>True</td>\n",
       "      <td>43.0</td>\n",
       "      <td>3576.0</td>\n",
       "      <td>0.0</td>\n",
       "      <td>6715.0</td>\n",
       "      <td>49.0</td>\n",
       "      <td>Altark Susent</td>\n",
       "      <td>False</td>\n",
       "    </tr>\n",
       "    <tr>\n",
       "      <th>3</th>\n",
       "      <td>0003_02</td>\n",
       "      <td>Europa</td>\n",
       "      <td>False</td>\n",
       "      <td>A/0/S</td>\n",
       "      <td>TRAPPIST-1e</td>\n",
       "      <td>33.0</td>\n",
       "      <td>False</td>\n",
       "      <td>0.0</td>\n",
       "      <td>1283.0</td>\n",
       "      <td>371.0</td>\n",
       "      <td>3329.0</td>\n",
       "      <td>193.0</td>\n",
       "      <td>Solam Susent</td>\n",
       "      <td>False</td>\n",
       "    </tr>\n",
       "    <tr>\n",
       "      <th>4</th>\n",
       "      <td>0004_01</td>\n",
       "      <td>Earth</td>\n",
       "      <td>False</td>\n",
       "      <td>F/1/S</td>\n",
       "      <td>TRAPPIST-1e</td>\n",
       "      <td>16.0</td>\n",
       "      <td>False</td>\n",
       "      <td>303.0</td>\n",
       "      <td>70.0</td>\n",
       "      <td>151.0</td>\n",
       "      <td>565.0</td>\n",
       "      <td>2.0</td>\n",
       "      <td>Willy Santantines</td>\n",
       "      <td>True</td>\n",
       "    </tr>\n",
       "  </tbody>\n",
       "</table>\n",
       "</div>"
      ],
      "text/plain": [
       "  PassengerId HomePlanet CryoSleep  Cabin  Destination   Age    VIP  \\\n",
       "0     0001_01     Europa     False  B/0/P  TRAPPIST-1e  39.0  False   \n",
       "1     0002_01      Earth     False  F/0/S  TRAPPIST-1e  24.0  False   \n",
       "2     0003_01     Europa     False  A/0/S  TRAPPIST-1e  58.0   True   \n",
       "3     0003_02     Europa     False  A/0/S  TRAPPIST-1e  33.0  False   \n",
       "4     0004_01      Earth     False  F/1/S  TRAPPIST-1e  16.0  False   \n",
       "\n",
       "   RoomService  FoodCourt  ShoppingMall     Spa  VRDeck               Name  \\\n",
       "0          0.0        0.0           0.0     0.0     0.0    Maham Ofracculy   \n",
       "1        109.0        9.0          25.0   549.0    44.0       Juanna Vines   \n",
       "2         43.0     3576.0           0.0  6715.0    49.0      Altark Susent   \n",
       "3          0.0     1283.0         371.0  3329.0   193.0       Solam Susent   \n",
       "4        303.0       70.0         151.0   565.0     2.0  Willy Santantines   \n",
       "\n",
       "  Transported  \n",
       "0       False  \n",
       "1        True  \n",
       "2       False  \n",
       "3       False  \n",
       "4        True  "
      ]
     },
     "execution_count": 2,
     "metadata": {},
     "output_type": "execute_result"
    }
   ],
   "source": [
    "train = pd.read_csv('../input/spaceship-titanic/train.csv')\n",
    "test = pd.read_csv('../input/spaceship-titanic/test.csv')\n",
    "\n",
    "train_test = pd.concat([train, test])\n",
    "\n",
    "train_test.head()"
   ]
  },
  {
   "cell_type": "markdown",
   "id": "eeca090b",
   "metadata": {
    "papermill": {
     "duration": 0.012873,
     "end_time": "2023-12-09T11:18:03.126416",
     "exception": false,
     "start_time": "2023-12-09T11:18:03.113543",
     "status": "completed"
    },
    "tags": []
   },
   "source": [
    "# 2. Challenge Description\n",
    "> PassengerId - A unique Id for each passenger. Each Id takes the form gggg_pp where gggg indicates a group the passenger is travelling with and pp is their number within the group. People in a group are often family members, but not always.\n",
    "> \n",
    "> HomePlanet - The planet the passenger departed from, typically their planet of permanent residence.\n",
    "> \n",
    "> CryoSleep - Indicates whether the passenger elected to be put into suspended animation for the duration of the voyage. Passengers in cryosleep are confined to their cabins.\n",
    "> Cabin - The cabin number where the passenger is staying. Takes the form deck/num/side, where side can be either P for Port or S for Starboard.\n",
    "> Destination - The planet the passenger will be debarking to.\n",
    "> Age - The age of the passenger.\n",
    "> VIP - Whether the passenger has paid for special VIP service during the voyage.</font>\n",
    "> RoomService, FoodCourt, ShoppingMall, Spa, VRDeck - Amount the passenger has billed at each of the Spaceship Titanic's many luxury amenities.\n",
    "> Name - The first and last names of the passenger.\n",
    "\n",
    "> **Transported** - Whether the passenger was transported to another dimension. This is the target, the column you are trying to predict."
   ]
  },
  {
   "cell_type": "markdown",
   "id": "da543754",
   "metadata": {
    "papermill": {
     "duration": 0.012074,
     "end_time": "2023-12-09T11:18:03.152847",
     "exception": false,
     "start_time": "2023-12-09T11:18:03.140773",
     "status": "completed"
    },
    "tags": []
   },
   "source": [
    "# 3. Check Missing Values"
   ]
  },
  {
   "cell_type": "code",
   "execution_count": 3,
   "id": "8848a017",
   "metadata": {
    "execution": {
     "iopub.execute_input": "2023-12-09T11:18:03.179719Z",
     "iopub.status.busy": "2023-12-09T11:18:03.178938Z",
     "iopub.status.idle": "2023-12-09T11:18:03.190104Z",
     "shell.execute_reply": "2023-12-09T11:18:03.189287Z"
    },
    "papermill": {
     "duration": 0.026808,
     "end_time": "2023-12-09T11:18:03.192072",
     "exception": false,
     "start_time": "2023-12-09T11:18:03.165264",
     "status": "completed"
    },
    "tags": []
   },
   "outputs": [
    {
     "name": "stdout",
     "output_type": "stream",
     "text": [
      "PassengerId        0\n",
      "HomePlanet       288\n",
      "CryoSleep        310\n",
      "Cabin            299\n",
      "Destination      274\n",
      "Age              270\n",
      "VIP              296\n",
      "RoomService      263\n",
      "FoodCourt        289\n",
      "ShoppingMall     306\n",
      "Spa              284\n",
      "VRDeck           268\n",
      "Name             294\n",
      "Transported     4277\n",
      "dtype: int64\n"
     ]
    }
   ],
   "source": [
    "print(train_test.isna().sum())"
   ]
  },
  {
   "cell_type": "code",
   "execution_count": 4,
   "id": "dd85050c",
   "metadata": {
    "execution": {
     "iopub.execute_input": "2023-12-09T11:18:03.215096Z",
     "iopub.status.busy": "2023-12-09T11:18:03.214414Z",
     "iopub.status.idle": "2023-12-09T11:18:03.797568Z",
     "shell.execute_reply": "2023-12-09T11:18:03.796735Z"
    },
    "papermill": {
     "duration": 0.596643,
     "end_time": "2023-12-09T11:18:03.799331",
     "exception": false,
     "start_time": "2023-12-09T11:18:03.202688",
     "status": "completed"
    },
    "tags": []
   },
   "outputs": [
    {
     "data": {
      "image/png": "[encoded data removed]",
      "text/plain": [
       "<Figure size 2500x1000 with 2 Axes>"
      ]
     },
     "metadata": {},
     "output_type": "display_data"
    }
   ],
   "source": [
    "msno.matrix(train_test)\n",
    "plt.show()"
   ]
  },
  {
   "cell_type": "markdown",
   "id": "a89defb3",
   "metadata": {
    "papermill": {
     "duration": 0.010929,
     "end_time": "2023-12-09T11:18:03.821363",
     "exception": false,
     "start_time": "2023-12-09T11:18:03.810434",
     "status": "completed"
    },
    "tags": []
   },
   "source": [
    "# 3. Testing & Handling Missing Values¶"
   ]
  },
  {
   "cell_type": "code",
   "execution_count": 5,
   "id": "7ea089e9",
   "metadata": {
    "execution": {
     "iopub.execute_input": "2023-12-09T11:18:03.845814Z",
     "iopub.status.busy": "2023-12-09T11:18:03.845179Z",
     "iopub.status.idle": "2023-12-09T11:18:03.853867Z",
     "shell.execute_reply": "2023-12-09T11:18:03.852493Z"
    },
    "papermill": {
     "duration": 0.023835,
     "end_time": "2023-12-09T11:18:03.856196",
     "exception": false,
     "start_time": "2023-12-09T11:18:03.832361",
     "status": "completed"
    },
    "tags": []
   },
   "outputs": [
    {
     "data": {
      "text/plain": [
       "4277"
      ]
     },
     "execution_count": 5,
     "metadata": {},
     "output_type": "execute_result"
    }
   ],
   "source": [
    "# scatter_matrix(train_test, alpha=0.2, figsize=(6, 6), diagonal='kde')\n",
    "# plt.show()\n",
    "# plt.plot(train_test['RoomService'], label='RoomService')\n",
    "# plt.plot(train_test['ShoppingMall'], label='ShoppingMall')\n",
    "# plt.title('Comparison of RoomService and ShoppingMall')\n",
    "# plt.xlabel('Index')\n",
    "# plt.ylabel('Values')\n",
    "# plt.legend()\n",
    "# plt.show()\n",
    "sum(train_test['Transported'].isna())"
   ]
  },
  {
   "cell_type": "markdown",
   "id": "8a09e270",
   "metadata": {
    "papermill": {
     "duration": 0.011031,
     "end_time": "2023-12-09T11:18:03.878763",
     "exception": false,
     "start_time": "2023-12-09T11:18:03.867732",
     "status": "completed"
    },
    "tags": []
   },
   "source": [
    "# 3.1.Handling Room Service Outliers"
   ]
  },
  {
   "cell_type": "code",
   "execution_count": 6,
   "id": "a8515acf",
   "metadata": {
    "execution": {
     "iopub.execute_input": "2023-12-09T11:18:03.903375Z",
     "iopub.status.busy": "2023-12-09T11:18:03.902975Z",
     "iopub.status.idle": "2023-12-09T11:18:04.170927Z",
     "shell.execute_reply": "2023-12-09T11:18:04.169795Z"
    },
    "papermill": {
     "duration": 0.283428,
     "end_time": "2023-12-09T11:18:04.173618",
     "exception": false,
     "start_time": "2023-12-09T11:18:03.890190",
     "status": "completed"
    },
    "tags": []
   },
   "outputs": [
    {
     "data": {
      "image/png": "[encoded data removed]",
      "text/plain": [
       "<Figure size 640x480 with 1 Axes>"
      ]
     },
     "metadata": {},
     "output_type": "display_data"
    }
   ],
   "source": [
    "if 'Transported' in train_test.columns:\n",
    "    train_test.plot.scatter(x='RoomService', y='Transported')\n",
    "    plt.show()\n",
    "else:\n",
    "    print(\"'Transported' column does not exist in the DataFrame.\")\n"
   ]
  },
  {
   "cell_type": "code",
   "execution_count": 7,
   "id": "9d727e20",
   "metadata": {
    "execution": {
     "iopub.execute_input": "2023-12-09T11:18:04.198754Z",
     "iopub.status.busy": "2023-12-09T11:18:04.198413Z",
     "iopub.status.idle": "2023-12-09T11:18:04.204031Z",
     "shell.execute_reply": "2023-12-09T11:18:04.202307Z"
    },
    "papermill": {
     "duration": 0.021083,
     "end_time": "2023-12-09T11:18:04.206544",
     "exception": false,
     "start_time": "2023-12-09T11:18:04.185461",
     "status": "completed"
    },
    "tags": []
   },
   "outputs": [],
   "source": [
    "# # How to delete instances using panda\n",
    "# # Q1 = df['RoomService'].quantile(0.25)\n",
    "# # Q3 = df['RoomService'].quantile(0.75)\n",
    "# # IQR = Q3 - Q1\n",
    "# # df = df[~((df['RoomService'] < (Q1 - 1.5 * IQR)) |(df['RoomService'] > (Q3 + 1.5 * IQR)))]\n",
    "\n",
    "\n",
    "\n",
    "# indexNames1 = train_test[ (train_test['RoomService'] > 6000)& (train_test['Transported'] == False)].index\n",
    "# indexNames2 = train_test[ (train_test['RoomService'] > 2850) & (train_test['Transported'] == True)].index\n",
    "# train_test.drop(indexNames1 , inplace=True)\n",
    "# train_test.drop(indexNames2 , inplace=True)\n",
    "\n",
    "\n",
    "# train_test.plot.scatter(x='RoomService', y='Transported')\n",
    "# plt.show()\n",
    "# #df.info()\n",
    "# # print(len(indexNames))"
   ]
  },
  {
   "cell_type": "markdown",
   "id": "99f0c6c1",
   "metadata": {
    "papermill": {
     "duration": 0.010985,
     "end_time": "2023-12-09T11:18:04.277566",
     "exception": false,
     "start_time": "2023-12-09T11:18:04.266581",
     "status": "completed"
    },
    "tags": []
   },
   "source": [
    "# 3.1.Handling Food Court Outliers"
   ]
  },
  {
   "cell_type": "code",
   "execution_count": 8,
   "id": "39b44a80",
   "metadata": {
    "execution": {
     "iopub.execute_input": "2023-12-09T11:18:04.302603Z",
     "iopub.status.busy": "2023-12-09T11:18:04.301979Z",
     "iopub.status.idle": "2023-12-09T11:18:04.547536Z",
     "shell.execute_reply": "2023-12-09T11:18:04.545977Z"
    },
    "papermill": {
     "duration": 0.260801,
     "end_time": "2023-12-09T11:18:04.549611",
     "exception": false,
     "start_time": "2023-12-09T11:18:04.288810",
     "status": "completed"
    },
    "tags": []
   },
   "outputs": [
    {
     "data": {
      "image/png": "[encoded data removed]",
      "text/plain": [
       "<Figure size 640x480 with 1 Axes>"
      ]
     },
     "metadata": {},
     "output_type": "display_data"
    }
   ],
   "source": [
    "train_test.plot.scatter(x='FoodCourt', y='Transported')\n",
    "plt.show()"
   ]
  },
  {
   "cell_type": "code",
   "execution_count": 9,
   "id": "3bfc0424",
   "metadata": {
    "execution": {
     "iopub.execute_input": "2023-12-09T11:18:04.574836Z",
     "iopub.status.busy": "2023-12-09T11:18:04.574515Z",
     "iopub.status.idle": "2023-12-09T11:18:04.579371Z",
     "shell.execute_reply": "2023-12-09T11:18:04.578510Z"
    },
    "papermill": {
     "duration": 0.019601,
     "end_time": "2023-12-09T11:18:04.581062",
     "exception": false,
     "start_time": "2023-12-09T11:18:04.561461",
     "status": "completed"
    },
    "tags": []
   },
   "outputs": [],
   "source": [
    "# indexNames1 = train_test[ (train_test['FoodCourt'] > 12500) & (train_test['Transported'] == True)].index\n",
    "# indexNames2 = train_test[ (train_test['FoodCourt'] > 10000)& (train_test['Transported'] == False)].index\n",
    "\n",
    "# train_test.drop(indexNames1 , inplace=True)\n",
    "# train_test.drop(indexNames2 , inplace=True)\n",
    "\n",
    "# train_test.plot.scatter(x='FoodCourt', y='Transported')\n",
    "# plt.show()\n",
    "\n",
    "# # print(len(indexNames1))\n",
    "# # print(len(indexNames2))"
   ]
  },
  {
   "cell_type": "markdown",
   "id": "94507227",
   "metadata": {
    "papermill": {
     "duration": 0.012825,
     "end_time": "2023-12-09T11:18:04.606147",
     "exception": false,
     "start_time": "2023-12-09T11:18:04.593322",
     "status": "completed"
    },
    "tags": []
   },
   "source": [
    "# 3.1.Handling ShoppingMall Outliers"
   ]
  },
  {
   "cell_type": "code",
   "execution_count": 10,
   "id": "cadcaca6",
   "metadata": {
    "execution": {
     "iopub.execute_input": "2023-12-09T11:18:04.633407Z",
     "iopub.status.busy": "2023-12-09T11:18:04.632481Z",
     "iopub.status.idle": "2023-12-09T11:18:04.856197Z",
     "shell.execute_reply": "2023-12-09T11:18:04.854722Z"
    },
    "papermill": {
     "duration": 0.240304,
     "end_time": "2023-12-09T11:18:04.858866",
     "exception": false,
     "start_time": "2023-12-09T11:18:04.618562",
     "status": "completed"
    },
    "tags": []
   },
   "outputs": [
    {
     "data": {
      "image/png": "[encoded data removed]",
      "text/plain": [
       "<Figure size 640x480 with 1 Axes>"
      ]
     },
     "metadata": {},
     "output_type": "display_data"
    }
   ],
   "source": [
    "train_test.plot.scatter(x='ShoppingMall', y='Transported')\n",
    "plt.show()"
   ]
  },
  {
   "cell_type": "code",
   "execution_count": 11,
   "id": "d8a1dbef",
   "metadata": {
    "execution": {
     "iopub.execute_input": "2023-12-09T11:18:04.886305Z",
     "iopub.status.busy": "2023-12-09T11:18:04.885909Z",
     "iopub.status.idle": "2023-12-09T11:18:04.889841Z",
     "shell.execute_reply": "2023-12-09T11:18:04.889037Z"
    },
    "papermill": {
     "duration": 0.020309,
     "end_time": "2023-12-09T11:18:04.892412",
     "exception": false,
     "start_time": "2023-12-09T11:18:04.872103",
     "status": "completed"
    },
    "tags": []
   },
   "outputs": [],
   "source": [
    "# indexNames1 = train_test[ (train_test['ShoppingMall'] > 5000) & (train_test['Transported'] == True)].index\n",
    "# indexNames2 = train_test[ (train_test['ShoppingMall'] > 3000)& (train_test['Transported'] == False)].index\n",
    "\n",
    "# train_test.drop(indexNames1 , inplace=True)\n",
    "# train_test.drop(indexNames2 , inplace=True)\n",
    "\n",
    "# train_test.plot.scatter(x='ShoppingMall', y='Transported')\n",
    "# plt.show()\n",
    "\n",
    "# # print(len(indexNames1))\n",
    "# # print(len(indexNames2))"
   ]
  },
  {
   "cell_type": "markdown",
   "id": "2b7a686b",
   "metadata": {
    "papermill": {
     "duration": 0.012312,
     "end_time": "2023-12-09T11:18:04.917657",
     "exception": false,
     "start_time": "2023-12-09T11:18:04.905345",
     "status": "completed"
    },
    "tags": []
   },
   "source": [
    "# 3.1.Handling Spa Outliers"
   ]
  },
  {
   "cell_type": "code",
   "execution_count": 12,
   "id": "04acb6ff",
   "metadata": {
    "execution": {
     "iopub.execute_input": "2023-12-09T11:18:04.944738Z",
     "iopub.status.busy": "2023-12-09T11:18:04.944352Z",
     "iopub.status.idle": "2023-12-09T11:18:05.162023Z",
     "shell.execute_reply": "2023-12-09T11:18:05.161145Z"
    },
    "papermill": {
     "duration": 0.234319,
     "end_time": "2023-12-09T11:18:05.164476",
     "exception": false,
     "start_time": "2023-12-09T11:18:04.930157",
     "status": "completed"
    },
    "tags": []
   },
   "outputs": [
    {
     "data": {
      "image/png": "[encoded data removed]",
      "text/plain": [
       "<Figure size 640x480 with 1 Axes>"
      ]
     },
     "metadata": {},
     "output_type": "display_data"
    }
   ],
   "source": [
    "train_test.plot.scatter(x='Spa', y='Transported')\n",
    "plt.show()"
   ]
  },
  {
   "cell_type": "code",
   "execution_count": 13,
   "id": "8a170ccd",
   "metadata": {
    "execution": {
     "iopub.execute_input": "2023-12-09T11:18:05.191736Z",
     "iopub.status.busy": "2023-12-09T11:18:05.191375Z",
     "iopub.status.idle": "2023-12-09T11:18:05.195611Z",
     "shell.execute_reply": "2023-12-09T11:18:05.194769Z"
    },
    "papermill": {
     "duration": 0.020234,
     "end_time": "2023-12-09T11:18:05.197708",
     "exception": false,
     "start_time": "2023-12-09T11:18:05.177474",
     "status": "completed"
    },
    "tags": []
   },
   "outputs": [],
   "source": [
    "# indexNames1 = train_test[ (train_test['Spa'] > 3000) & (train_test['Transported'] == True)].index\n",
    "# indexNames2 = train_test[ (train_test['Spa'] > 10000)& (train_test['Transported'] == False)].index\n",
    "\n",
    "# train_test.drop(indexNames1 , inplace=True)\n",
    "# train_test.drop(indexNames2 , inplace=True)\n",
    "\n",
    "# train_test.plot.scatter(x='Spa', y='Transported')\n",
    "# plt.show()\n",
    "\n",
    "# # print(len(indexNames1))\n",
    "# # print(len(indexNames2))"
   ]
  },
  {
   "cell_type": "markdown",
   "id": "fbb8186c",
   "metadata": {
    "papermill": {
     "duration": 0.01326,
     "end_time": "2023-12-09T11:18:05.224036",
     "exception": false,
     "start_time": "2023-12-09T11:18:05.210776",
     "status": "completed"
    },
    "tags": []
   },
   "source": [
    "# 3.1.Handling VRDeck Outliers"
   ]
  },
  {
   "cell_type": "code",
   "execution_count": 14,
   "id": "3b4cb3b3",
   "metadata": {
    "execution": {
     "iopub.execute_input": "2023-12-09T11:18:05.250918Z",
     "iopub.status.busy": "2023-12-09T11:18:05.250589Z",
     "iopub.status.idle": "2023-12-09T11:18:05.489318Z",
     "shell.execute_reply": "2023-12-09T11:18:05.488250Z"
    },
    "papermill": {
     "duration": 0.254425,
     "end_time": "2023-12-09T11:18:05.491208",
     "exception": false,
     "start_time": "2023-12-09T11:18:05.236783",
     "status": "completed"
    },
    "tags": []
   },
   "outputs": [
    {
     "data": {
      "image/png": "[encoded data removed]",
      "text/plain": [
       "<Figure size 640x480 with 1 Axes>"
      ]
     },
     "metadata": {},
     "output_type": "display_data"
    }
   ],
   "source": [
    "train_test.plot.scatter(x='VRDeck', y='Transported')\n",
    "plt.show()"
   ]
  },
  {
   "cell_type": "code",
   "execution_count": 15,
   "id": "087b76cf",
   "metadata": {
    "execution": {
     "iopub.execute_input": "2023-12-09T11:18:05.518798Z",
     "iopub.status.busy": "2023-12-09T11:18:05.518467Z",
     "iopub.status.idle": "2023-12-09T11:18:05.523321Z",
     "shell.execute_reply": "2023-12-09T11:18:05.521915Z"
    },
    "papermill": {
     "duration": 0.021447,
     "end_time": "2023-12-09T11:18:05.525561",
     "exception": false,
     "start_time": "2023-12-09T11:18:05.504114",
     "status": "completed"
    },
    "tags": []
   },
   "outputs": [],
   "source": [
    "# indexNames1 = train_test[ (train_test['VRDeck'] > 3500) & (train_test['Transported'] == True)].index\n",
    "# indexNames2 = train_test[ (train_test['VRDeck'] > 13000)& (train_test['Transported'] == False)].index\n",
    "\n",
    "# train_test.drop(indexNames1 , inplace=True)\n",
    "# train_test.drop(indexNames2 , inplace=True)\n",
    "\n",
    "# train_test.plot.scatter(x='VRDeck', y='Transported')\n",
    "# plt.show()\n",
    "\n",
    "# # print(len(indexNames1))\n",
    "# # print(len(indexNames2))"
   ]
  },
  {
   "cell_type": "code",
   "execution_count": 16,
   "id": "dd7bffa3",
   "metadata": {
    "execution": {
     "iopub.execute_input": "2023-12-09T11:18:05.555146Z",
     "iopub.status.busy": "2023-12-09T11:18:05.554393Z",
     "iopub.status.idle": "2023-12-09T11:18:05.560813Z",
     "shell.execute_reply": "2023-12-09T11:18:05.559141Z"
    },
    "papermill": {
     "duration": 0.024376,
     "end_time": "2023-12-09T11:18:05.563543",
     "exception": false,
     "start_time": "2023-12-09T11:18:05.539167",
     "status": "completed"
    },
    "tags": []
   },
   "outputs": [],
   "source": [
    "# # RoomService\n",
    "# Q1 = train_test['RoomService'].quantile(0.25)\n",
    "# Q3 = train_test['RoomService'].quantile(0.75)\n",
    "# IQR = Q3 - Q1\n",
    "# train_test = train_test[~((train_test['RoomService'] < (Q1 - 1.5 * IQR)) |(train_test['RoomService'] > (Q3 + 1.5 * IQR)))]\n",
    "\n",
    "# #FoodCourt\n",
    "# Q1 = train_test['FoodCourt'].quantile(0.25)\n",
    "# Q3 = train_test['FoodCourt'].quantile(0.75)\n",
    "# IQR = Q3 - Q1\n",
    "# train_test = train_test[~((train_test['FoodCourt'] < (Q1 - 1.5 * IQR)) |(train_test['FoodCourt'] > (Q3 + 1.5 * IQR)))]\n",
    "\n",
    "# #ShoppingMall\n",
    "# Q1 = train_test['ShoppingMall'].quantile(0.25)\n",
    "# Q3 = train_test['ShoppingMall'].quantile(0.75)\n",
    "# IQR = Q3 - Q1\n",
    "# train_test = train_test[~((train_test['ShoppingMall'] < (Q1 - 1.5 * IQR)) |(train_test['ShoppingMall'] > (Q3 + 1.5 * IQR)))]\n",
    "\n",
    "# #Spa\n",
    "# Q1 = train_test['Spa'].quantile(0.25)\n",
    "# Q3 = train_test['Spa'].quantile(0.75)\n",
    "# IQR = Q3 - Q1\n",
    "# train_test = train_test[~((train_test['Spa'] < (Q1 - 1.5 * IQR)) |(train_test['Spa'] > (Q3 + 1.5 * IQR)))]\n",
    "\n",
    "# #VRDeck\n",
    "# Q1 = train_test['VRDeck'].quantile(0.25)\n",
    "# Q3 = train_test['VRDeck'].quantile(0.75)\n",
    "# IQR = Q3 - Q1\n",
    "# train_test = train_test[~((train_test['VRDeck'] < (Q1 - 1.5 * IQR)) |(train_test['VRDeck'] > (Q3 + 1.5 * IQR)))]\n",
    "# train_test"
   ]
  },
  {
   "cell_type": "code",
   "execution_count": 17,
   "id": "d803ed31",
   "metadata": {
    "execution": {
     "iopub.execute_input": "2023-12-09T11:18:05.591768Z",
     "iopub.status.busy": "2023-12-09T11:18:05.591412Z",
     "iopub.status.idle": "2023-12-09T11:18:05.596872Z",
     "shell.execute_reply": "2023-12-09T11:18:05.595110Z"
    },
    "papermill": {
     "duration": 0.022554,
     "end_time": "2023-12-09T11:18:05.599353",
     "exception": false,
     "start_time": "2023-12-09T11:18:05.576799",
     "status": "completed"
    },
    "tags": []
   },
   "outputs": [],
   "source": [
    "Expenses_columns = ['RoomService','FoodCourt','ShoppingMall','Spa','VRDeck']\n",
    "#train_test.loc[(train_test['Age'] < 10) & (train_test[Expenses_columns].isnull()), Expenses_columns] = 0\n",
    "# train_test.loc[(train_test['Age'] > 10) & train_test['RoomService'].isnull(), Expenses_columns] = train_test['RoomService'].mean()\n",
    "\n"
   ]
  },
  {
   "cell_type": "code",
   "execution_count": 18,
   "id": "0b2f1fcb",
   "metadata": {
    "execution": {
     "iopub.execute_input": "2023-12-09T11:18:05.628631Z",
     "iopub.status.busy": "2023-12-09T11:18:05.627971Z",
     "iopub.status.idle": "2023-12-09T11:18:07.808314Z",
     "shell.execute_reply": "2023-12-09T11:18:07.807301Z"
    },
    "papermill": {
     "duration": 2.198208,
     "end_time": "2023-12-09T11:18:07.811226",
     "exception": false,
     "start_time": "2023-12-09T11:18:05.613018",
     "status": "completed"
    },
    "tags": []
   },
   "outputs": [
    {
     "name": "stdout",
     "output_type": "stream",
     "text": [
      "<class 'pandas.core.frame.DataFrame'>\n",
      "Index: 12970 entries, 0 to 4276\n",
      "Data columns (total 15 columns):\n",
      " #   Column        Non-Null Count  Dtype  \n",
      "---  ------        --------------  -----  \n",
      " 0   PassengerId   12970 non-null  object \n",
      " 1   HomePlanet    12682 non-null  object \n",
      " 2   CryoSleep     12660 non-null  object \n",
      " 3   Cabin         12671 non-null  object \n",
      " 4   Destination   12696 non-null  object \n",
      " 5   Age           12829 non-null  float64\n",
      " 6   VIP           12674 non-null  object \n",
      " 7   RoomService   12970 non-null  float64\n",
      " 8   FoodCourt     12969 non-null  float64\n",
      " 9   ShoppingMall  12966 non-null  float64\n",
      " 10  Spa           12969 non-null  float64\n",
      " 11  VRDeck        12967 non-null  float64\n",
      " 12  Name          12676 non-null  object \n",
      " 13  Transported   8693 non-null   object \n",
      " 14  Expenditure   12970 non-null  float64\n",
      "dtypes: float64(7), object(8)\n",
      "memory usage: 1.6+ MB\n"
     ]
    }
   ],
   "source": [
    "# First lets fill CryoSleep, based on totdal expenditure\n",
    "train_test[\"Expenditure\"]=train_test[Expenses_columns].sum(axis=\"columns\")\n",
    "\n",
    "train_test.loc[train_test[\"Expenditure\"] == 0 & train_test['Age'].isna(), 'Age'] = 0\n",
    "\n",
    "\n",
    "# filling expenditure with use of Age\n",
    "def fill_with_mean(row):\n",
    "    for col in Expenses_columns:\n",
    "        if row['Age'] > 12 and pd.isnull(row[col]):\n",
    "            row[col] = train_test[col].mean()\n",
    "    return row\n",
    "\n",
    "train_test = train_test.apply(fill_with_mean, axis=1)\n",
    "\n",
    "\n",
    "\n",
    "def fill_with_zero(row):\n",
    "    for col in Expenses_columns:\n",
    "        if row['Age'] < 12 and pd.isnull(row[col]):\n",
    "            row[col] = 0\n",
    "    return row\n",
    "\n",
    "train_test = train_test.apply(fill_with_zero, axis=1)\n",
    "\n",
    "\n",
    "\n",
    "train_test.info()"
   ]
  },
  {
   "cell_type": "code",
   "execution_count": 19,
   "id": "30060cda",
   "metadata": {
    "execution": {
     "iopub.execute_input": "2023-12-09T11:18:07.838717Z",
     "iopub.status.busy": "2023-12-09T11:18:07.838388Z",
     "iopub.status.idle": "2023-12-09T11:18:07.856481Z",
     "shell.execute_reply": "2023-12-09T11:18:07.855383Z"
    },
    "papermill": {
     "duration": 0.033735,
     "end_time": "2023-12-09T11:18:07.858243",
     "exception": false,
     "start_time": "2023-12-09T11:18:07.824508",
     "status": "completed"
    },
    "tags": []
   },
   "outputs": [
    {
     "name": "stdout",
     "output_type": "stream",
     "text": [
      "PassengerId        0\n",
      "HomePlanet       288\n",
      "CryoSleep          0\n",
      "Cabin            299\n",
      "Destination      274\n",
      "Age              141\n",
      "VIP                0\n",
      "RoomService        0\n",
      "FoodCourt          1\n",
      "ShoppingMall       4\n",
      "Spa                1\n",
      "VRDeck             3\n",
      "Name             294\n",
      "Transported     4277\n",
      "dtype: int64\n"
     ]
    }
   ],
   "source": [
    "# Thanks to @Master Jiraiya\n",
    "\n",
    "# Zero expenditure indicate that they are in CryoSleep\n",
    "train_test['CryoSleep']=np.where(train_test['Expenditure']==0,1,0)\n",
    "\n",
    "# Also, if they are VIPs, they probably would not choose to be in CryoSleep\n",
    "train_test['VIP']=np.where(train_test['CryoSleep']==0,1,0)\n",
    "\n",
    "train_test.drop(columns=[\"Expenditure\"],inplace=True)\n",
    "\n",
    "print(train_test.isna().sum())"
   ]
  },
  {
   "cell_type": "code",
   "execution_count": 20,
   "id": "06ec53e9",
   "metadata": {
    "execution": {
     "iopub.execute_input": "2023-12-09T11:18:07.886035Z",
     "iopub.status.busy": "2023-12-09T11:18:07.885404Z",
     "iopub.status.idle": "2023-12-09T11:18:07.906728Z",
     "shell.execute_reply": "2023-12-09T11:18:07.905755Z"
    },
    "papermill": {
     "duration": 0.037522,
     "end_time": "2023-12-09T11:18:07.908734",
     "exception": false,
     "start_time": "2023-12-09T11:18:07.871212",
     "status": "completed"
    },
    "tags": []
   },
   "outputs": [
    {
     "data": {
      "text/html": [
       "<div>\n",
       "<style scoped>\n",
       "    .dataframe tbody tr th:only-of-type {\n",
       "        vertical-align: middle;\n",
       "    }\n",
       "\n",
       "    .dataframe tbody tr th {\n",
       "        vertical-align: top;\n",
       "    }\n",
       "\n",
       "    .dataframe thead th {\n",
       "        text-align: right;\n",
       "    }\n",
       "</style>\n",
       "<table border=\"1\" class=\"dataframe\">\n",
       "  <thead>\n",
       "    <tr style=\"text-align: right;\">\n",
       "      <th></th>\n",
       "      <th>PassengerId</th>\n",
       "      <th>HomePlanet</th>\n",
       "      <th>CryoSleep</th>\n",
       "      <th>Cabin</th>\n",
       "      <th>Destination</th>\n",
       "      <th>Age</th>\n",
       "      <th>VIP</th>\n",
       "      <th>RoomService</th>\n",
       "      <th>FoodCourt</th>\n",
       "      <th>ShoppingMall</th>\n",
       "      <th>Spa</th>\n",
       "      <th>VRDeck</th>\n",
       "      <th>Name</th>\n",
       "      <th>Transported</th>\n",
       "    </tr>\n",
       "  </thead>\n",
       "  <tbody>\n",
       "    <tr>\n",
       "      <th>0</th>\n",
       "      <td>0001_01</td>\n",
       "      <td>Europa</td>\n",
       "      <td>1</td>\n",
       "      <td>B/0/P</td>\n",
       "      <td>TRAPPIST-1e</td>\n",
       "      <td>0.0</td>\n",
       "      <td>0</td>\n",
       "      <td>0.0</td>\n",
       "      <td>0.0</td>\n",
       "      <td>0.0</td>\n",
       "      <td>0.0</td>\n",
       "      <td>0.0</td>\n",
       "      <td>Maham Ofracculy</td>\n",
       "      <td>False</td>\n",
       "    </tr>\n",
       "    <tr>\n",
       "      <th>1</th>\n",
       "      <td>0002_01</td>\n",
       "      <td>Earth</td>\n",
       "      <td>0</td>\n",
       "      <td>F/0/S</td>\n",
       "      <td>TRAPPIST-1e</td>\n",
       "      <td>24.0</td>\n",
       "      <td>1</td>\n",
       "      <td>109.0</td>\n",
       "      <td>9.0</td>\n",
       "      <td>25.0</td>\n",
       "      <td>549.0</td>\n",
       "      <td>44.0</td>\n",
       "      <td>Juanna Vines</td>\n",
       "      <td>True</td>\n",
       "    </tr>\n",
       "    <tr>\n",
       "      <th>2</th>\n",
       "      <td>0003_01</td>\n",
       "      <td>Europa</td>\n",
       "      <td>0</td>\n",
       "      <td>A/0/S</td>\n",
       "      <td>TRAPPIST-1e</td>\n",
       "      <td>58.0</td>\n",
       "      <td>1</td>\n",
       "      <td>43.0</td>\n",
       "      <td>3576.0</td>\n",
       "      <td>0.0</td>\n",
       "      <td>6715.0</td>\n",
       "      <td>49.0</td>\n",
       "      <td>Altark Susent</td>\n",
       "      <td>False</td>\n",
       "    </tr>\n",
       "    <tr>\n",
       "      <th>3</th>\n",
       "      <td>0003_02</td>\n",
       "      <td>Europa</td>\n",
       "      <td>0</td>\n",
       "      <td>A/0/S</td>\n",
       "      <td>TRAPPIST-1e</td>\n",
       "      <td>33.0</td>\n",
       "      <td>1</td>\n",
       "      <td>0.0</td>\n",
       "      <td>1283.0</td>\n",
       "      <td>371.0</td>\n",
       "      <td>3329.0</td>\n",
       "      <td>193.0</td>\n",
       "      <td>Solam Susent</td>\n",
       "      <td>False</td>\n",
       "    </tr>\n",
       "    <tr>\n",
       "      <th>4</th>\n",
       "      <td>0004_01</td>\n",
       "      <td>Earth</td>\n",
       "      <td>0</td>\n",
       "      <td>F/1/S</td>\n",
       "      <td>TRAPPIST-1e</td>\n",
       "      <td>16.0</td>\n",
       "      <td>1</td>\n",
       "      <td>303.0</td>\n",
       "      <td>70.0</td>\n",
       "      <td>151.0</td>\n",
       "      <td>565.0</td>\n",
       "      <td>2.0</td>\n",
       "      <td>Willy Santantines</td>\n",
       "      <td>True</td>\n",
       "    </tr>\n",
       "    <tr>\n",
       "      <th>...</th>\n",
       "      <td>...</td>\n",
       "      <td>...</td>\n",
       "      <td>...</td>\n",
       "      <td>...</td>\n",
       "      <td>...</td>\n",
       "      <td>...</td>\n",
       "      <td>...</td>\n",
       "      <td>...</td>\n",
       "      <td>...</td>\n",
       "      <td>...</td>\n",
       "      <td>...</td>\n",
       "      <td>...</td>\n",
       "      <td>...</td>\n",
       "      <td>...</td>\n",
       "    </tr>\n",
       "    <tr>\n",
       "      <th>4272</th>\n",
       "      <td>9266_02</td>\n",
       "      <td>Earth</td>\n",
       "      <td>1</td>\n",
       "      <td>G/1496/S</td>\n",
       "      <td>TRAPPIST-1e</td>\n",
       "      <td>0.0</td>\n",
       "      <td>0</td>\n",
       "      <td>0.0</td>\n",
       "      <td>0.0</td>\n",
       "      <td>0.0</td>\n",
       "      <td>0.0</td>\n",
       "      <td>0.0</td>\n",
       "      <td>Jeron Peter</td>\n",
       "      <td>NaN</td>\n",
       "    </tr>\n",
       "    <tr>\n",
       "      <th>4273</th>\n",
       "      <td>9269_01</td>\n",
       "      <td>Earth</td>\n",
       "      <td>0</td>\n",
       "      <td>NaN</td>\n",
       "      <td>TRAPPIST-1e</td>\n",
       "      <td>42.0</td>\n",
       "      <td>1</td>\n",
       "      <td>0.0</td>\n",
       "      <td>847.0</td>\n",
       "      <td>17.0</td>\n",
       "      <td>10.0</td>\n",
       "      <td>144.0</td>\n",
       "      <td>Matty Scheron</td>\n",
       "      <td>NaN</td>\n",
       "    </tr>\n",
       "    <tr>\n",
       "      <th>4274</th>\n",
       "      <td>9271_01</td>\n",
       "      <td>Mars</td>\n",
       "      <td>1</td>\n",
       "      <td>D/296/P</td>\n",
       "      <td>55 Cancri e</td>\n",
       "      <td>0.0</td>\n",
       "      <td>0</td>\n",
       "      <td>0.0</td>\n",
       "      <td>0.0</td>\n",
       "      <td>0.0</td>\n",
       "      <td>0.0</td>\n",
       "      <td>0.0</td>\n",
       "      <td>Jayrin Pore</td>\n",
       "      <td>NaN</td>\n",
       "    </tr>\n",
       "    <tr>\n",
       "      <th>4275</th>\n",
       "      <td>9273_01</td>\n",
       "      <td>Europa</td>\n",
       "      <td>0</td>\n",
       "      <td>D/297/P</td>\n",
       "      <td>NaN</td>\n",
       "      <td>NaN</td>\n",
       "      <td>1</td>\n",
       "      <td>0.0</td>\n",
       "      <td>2680.0</td>\n",
       "      <td>0.0</td>\n",
       "      <td>0.0</td>\n",
       "      <td>523.0</td>\n",
       "      <td>Kitakan Conale</td>\n",
       "      <td>NaN</td>\n",
       "    </tr>\n",
       "    <tr>\n",
       "      <th>4276</th>\n",
       "      <td>9277_01</td>\n",
       "      <td>Earth</td>\n",
       "      <td>1</td>\n",
       "      <td>G/1498/S</td>\n",
       "      <td>PSO J318.5-22</td>\n",
       "      <td>0.0</td>\n",
       "      <td>0</td>\n",
       "      <td>0.0</td>\n",
       "      <td>0.0</td>\n",
       "      <td>0.0</td>\n",
       "      <td>0.0</td>\n",
       "      <td>0.0</td>\n",
       "      <td>Lilace Leonzaley</td>\n",
       "      <td>NaN</td>\n",
       "    </tr>\n",
       "  </tbody>\n",
       "</table>\n",
       "<p>12970 rows × 14 columns</p>\n",
       "</div>"
      ],
      "text/plain": [
       "     PassengerId HomePlanet  CryoSleep     Cabin    Destination   Age  VIP  \\\n",
       "0        0001_01     Europa          1     B/0/P    TRAPPIST-1e   0.0    0   \n",
       "1        0002_01      Earth          0     F/0/S    TRAPPIST-1e  24.0    1   \n",
       "2        0003_01     Europa          0     A/0/S    TRAPPIST-1e  58.0    1   \n",
       "3        0003_02     Europa          0     A/0/S    TRAPPIST-1e  33.0    1   \n",
       "4        0004_01      Earth          0     F/1/S    TRAPPIST-1e  16.0    1   \n",
       "...          ...        ...        ...       ...            ...   ...  ...   \n",
       "4272     9266_02      Earth          1  G/1496/S    TRAPPIST-1e   0.0    0   \n",
       "4273     9269_01      Earth          0       NaN    TRAPPIST-1e  42.0    1   \n",
       "4274     9271_01       Mars          1   D/296/P    55 Cancri e   0.0    0   \n",
       "4275     9273_01     Europa          0   D/297/P            NaN   NaN    1   \n",
       "4276     9277_01      Earth          1  G/1498/S  PSO J318.5-22   0.0    0   \n",
       "\n",
       "      RoomService  FoodCourt  ShoppingMall     Spa  VRDeck               Name  \\\n",
       "0             0.0        0.0           0.0     0.0     0.0    Maham Ofracculy   \n",
       "1           109.0        9.0          25.0   549.0    44.0       Juanna Vines   \n",
       "2            43.0     3576.0           0.0  6715.0    49.0      Altark Susent   \n",
       "3             0.0     1283.0         371.0  3329.0   193.0       Solam Susent   \n",
       "4           303.0       70.0         151.0   565.0     2.0  Willy Santantines   \n",
       "...           ...        ...           ...     ...     ...                ...   \n",
       "4272          0.0        0.0           0.0     0.0     0.0        Jeron Peter   \n",
       "4273          0.0      847.0          17.0    10.0   144.0      Matty Scheron   \n",
       "4274          0.0        0.0           0.0     0.0     0.0        Jayrin Pore   \n",
       "4275          0.0     2680.0           0.0     0.0   523.0     Kitakan Conale   \n",
       "4276          0.0        0.0           0.0     0.0     0.0   Lilace Leonzaley   \n",
       "\n",
       "     Transported  \n",
       "0          False  \n",
       "1           True  \n",
       "2          False  \n",
       "3          False  \n",
       "4           True  \n",
       "...          ...  \n",
       "4272         NaN  \n",
       "4273         NaN  \n",
       "4274         NaN  \n",
       "4275         NaN  \n",
       "4276         NaN  \n",
       "\n",
       "[12970 rows x 14 columns]"
      ]
     },
     "execution_count": 20,
     "metadata": {},
     "output_type": "execute_result"
    }
   ],
   "source": [
    "train_test"
   ]
  },
  {
   "cell_type": "markdown",
   "id": "4258b393",
   "metadata": {
    "papermill": {
     "duration": 0.01286,
     "end_time": "2023-12-09T11:18:07.934767",
     "exception": false,
     "start_time": "2023-12-09T11:18:07.921907",
     "status": "completed"
    },
    "tags": []
   },
   "source": [
    "> HomePlanet: {'Earth', 'Europa', 'Mars', nan}\n",
    "> {1,2,3,4}\n",
    "> \n",
    "> #######################\n",
    "> \n",
    "> Destination: {'55 Cancri e', 'PSO J318.5-22', 'TRAPPIST-1e', nan}\n",
    "> {1,2,3,4}\n",
    "> \n",
    "> \n",
    "> #######################\n",
    "> \n",
    "> Cabin Class = {'A': 1, 'B': 2, 'C': 3, 'D': 4, 'E': 5, 'F': 6, 'G': 7, 'H': 8, 'I': 9, 'J': 10}"
   ]
  },
  {
   "cell_type": "code",
   "execution_count": 21,
   "id": "0b76e052",
   "metadata": {
    "execution": {
     "iopub.execute_input": "2023-12-09T11:18:07.964083Z",
     "iopub.status.busy": "2023-12-09T11:18:07.963736Z",
     "iopub.status.idle": "2023-12-09T11:18:08.009749Z",
     "shell.execute_reply": "2023-12-09T11:18:08.008290Z"
    },
    "papermill": {
     "duration": 0.063374,
     "end_time": "2023-12-09T11:18:08.011933",
     "exception": false,
     "start_time": "2023-12-09T11:18:07.948559",
     "status": "completed"
    },
    "tags": []
   },
   "outputs": [
    {
     "data": {
      "text/html": [
       "<div>\n",
       "<style scoped>\n",
       "    .dataframe tbody tr th:only-of-type {\n",
       "        vertical-align: middle;\n",
       "    }\n",
       "\n",
       "    .dataframe tbody tr th {\n",
       "        vertical-align: top;\n",
       "    }\n",
       "\n",
       "    .dataframe thead th {\n",
       "        text-align: right;\n",
       "    }\n",
       "</style>\n",
       "<table border=\"1\" class=\"dataframe\">\n",
       "  <thead>\n",
       "    <tr style=\"text-align: right;\">\n",
       "      <th></th>\n",
       "      <th>PassengerId</th>\n",
       "      <th>HomePlanet</th>\n",
       "      <th>CryoSleep</th>\n",
       "      <th>Cabin</th>\n",
       "      <th>Destination</th>\n",
       "      <th>Age</th>\n",
       "      <th>VIP</th>\n",
       "      <th>RoomService</th>\n",
       "      <th>FoodCourt</th>\n",
       "      <th>ShoppingMall</th>\n",
       "      <th>Spa</th>\n",
       "      <th>VRDeck</th>\n",
       "      <th>Name</th>\n",
       "      <th>Transported</th>\n",
       "    </tr>\n",
       "  </thead>\n",
       "  <tbody>\n",
       "    <tr>\n",
       "      <th>0</th>\n",
       "      <td>0001_01</td>\n",
       "      <td>2.0</td>\n",
       "      <td>1</td>\n",
       "      <td>B/0/P</td>\n",
       "      <td>3.0</td>\n",
       "      <td>0.0</td>\n",
       "      <td>0</td>\n",
       "      <td>0.0</td>\n",
       "      <td>0.0</td>\n",
       "      <td>0.0</td>\n",
       "      <td>0.0</td>\n",
       "      <td>0.0</td>\n",
       "      <td>Maham Ofracculy</td>\n",
       "      <td>0.0</td>\n",
       "    </tr>\n",
       "    <tr>\n",
       "      <th>1</th>\n",
       "      <td>0002_01</td>\n",
       "      <td>1.0</td>\n",
       "      <td>0</td>\n",
       "      <td>F/0/S</td>\n",
       "      <td>3.0</td>\n",
       "      <td>24.0</td>\n",
       "      <td>1</td>\n",
       "      <td>109.0</td>\n",
       "      <td>9.0</td>\n",
       "      <td>25.0</td>\n",
       "      <td>549.0</td>\n",
       "      <td>44.0</td>\n",
       "      <td>Juanna Vines</td>\n",
       "      <td>1.0</td>\n",
       "    </tr>\n",
       "    <tr>\n",
       "      <th>2</th>\n",
       "      <td>0003_01</td>\n",
       "      <td>2.0</td>\n",
       "      <td>0</td>\n",
       "      <td>A/0/S</td>\n",
       "      <td>3.0</td>\n",
       "      <td>58.0</td>\n",
       "      <td>1</td>\n",
       "      <td>43.0</td>\n",
       "      <td>3576.0</td>\n",
       "      <td>0.0</td>\n",
       "      <td>6715.0</td>\n",
       "      <td>49.0</td>\n",
       "      <td>Altark Susent</td>\n",
       "      <td>0.0</td>\n",
       "    </tr>\n",
       "    <tr>\n",
       "      <th>3</th>\n",
       "      <td>0003_02</td>\n",
       "      <td>2.0</td>\n",
       "      <td>0</td>\n",
       "      <td>A/0/S</td>\n",
       "      <td>3.0</td>\n",
       "      <td>33.0</td>\n",
       "      <td>1</td>\n",
       "      <td>0.0</td>\n",
       "      <td>1283.0</td>\n",
       "      <td>371.0</td>\n",
       "      <td>3329.0</td>\n",
       "      <td>193.0</td>\n",
       "      <td>Solam Susent</td>\n",
       "      <td>0.0</td>\n",
       "    </tr>\n",
       "    <tr>\n",
       "      <th>4</th>\n",
       "      <td>0004_01</td>\n",
       "      <td>1.0</td>\n",
       "      <td>0</td>\n",
       "      <td>F/1/S</td>\n",
       "      <td>3.0</td>\n",
       "      <td>16.0</td>\n",
       "      <td>1</td>\n",
       "      <td>303.0</td>\n",
       "      <td>70.0</td>\n",
       "      <td>151.0</td>\n",
       "      <td>565.0</td>\n",
       "      <td>2.0</td>\n",
       "      <td>Willy Santantines</td>\n",
       "      <td>1.0</td>\n",
       "    </tr>\n",
       "    <tr>\n",
       "      <th>...</th>\n",
       "      <td>...</td>\n",
       "      <td>...</td>\n",
       "      <td>...</td>\n",
       "      <td>...</td>\n",
       "      <td>...</td>\n",
       "      <td>...</td>\n",
       "      <td>...</td>\n",
       "      <td>...</td>\n",
       "      <td>...</td>\n",
       "      <td>...</td>\n",
       "      <td>...</td>\n",
       "      <td>...</td>\n",
       "      <td>...</td>\n",
       "      <td>...</td>\n",
       "    </tr>\n",
       "    <tr>\n",
       "      <th>4272</th>\n",
       "      <td>9266_02</td>\n",
       "      <td>1.0</td>\n",
       "      <td>1</td>\n",
       "      <td>G/1496/S</td>\n",
       "      <td>3.0</td>\n",
       "      <td>0.0</td>\n",
       "      <td>0</td>\n",
       "      <td>0.0</td>\n",
       "      <td>0.0</td>\n",
       "      <td>0.0</td>\n",
       "      <td>0.0</td>\n",
       "      <td>0.0</td>\n",
       "      <td>Jeron Peter</td>\n",
       "      <td>NaN</td>\n",
       "    </tr>\n",
       "    <tr>\n",
       "      <th>4273</th>\n",
       "      <td>9269_01</td>\n",
       "      <td>1.0</td>\n",
       "      <td>0</td>\n",
       "      <td>NaN</td>\n",
       "      <td>3.0</td>\n",
       "      <td>42.0</td>\n",
       "      <td>1</td>\n",
       "      <td>0.0</td>\n",
       "      <td>847.0</td>\n",
       "      <td>17.0</td>\n",
       "      <td>10.0</td>\n",
       "      <td>144.0</td>\n",
       "      <td>Matty Scheron</td>\n",
       "      <td>NaN</td>\n",
       "    </tr>\n",
       "    <tr>\n",
       "      <th>4274</th>\n",
       "      <td>9271_01</td>\n",
       "      <td>3.0</td>\n",
       "      <td>1</td>\n",
       "      <td>D/296/P</td>\n",
       "      <td>1.0</td>\n",
       "      <td>0.0</td>\n",
       "      <td>0</td>\n",
       "      <td>0.0</td>\n",
       "      <td>0.0</td>\n",
       "      <td>0.0</td>\n",
       "      <td>0.0</td>\n",
       "      <td>0.0</td>\n",
       "      <td>Jayrin Pore</td>\n",
       "      <td>NaN</td>\n",
       "    </tr>\n",
       "    <tr>\n",
       "      <th>4275</th>\n",
       "      <td>9273_01</td>\n",
       "      <td>2.0</td>\n",
       "      <td>0</td>\n",
       "      <td>D/297/P</td>\n",
       "      <td>NaN</td>\n",
       "      <td>NaN</td>\n",
       "      <td>1</td>\n",
       "      <td>0.0</td>\n",
       "      <td>2680.0</td>\n",
       "      <td>0.0</td>\n",
       "      <td>0.0</td>\n",
       "      <td>523.0</td>\n",
       "      <td>Kitakan Conale</td>\n",
       "      <td>NaN</td>\n",
       "    </tr>\n",
       "    <tr>\n",
       "      <th>4276</th>\n",
       "      <td>9277_01</td>\n",
       "      <td>1.0</td>\n",
       "      <td>1</td>\n",
       "      <td>G/1498/S</td>\n",
       "      <td>2.0</td>\n",
       "      <td>0.0</td>\n",
       "      <td>0</td>\n",
       "      <td>0.0</td>\n",
       "      <td>0.0</td>\n",
       "      <td>0.0</td>\n",
       "      <td>0.0</td>\n",
       "      <td>0.0</td>\n",
       "      <td>Lilace Leonzaley</td>\n",
       "      <td>NaN</td>\n",
       "    </tr>\n",
       "  </tbody>\n",
       "</table>\n",
       "<p>12970 rows × 14 columns</p>\n",
       "</div>"
      ],
      "text/plain": [
       "     PassengerId  HomePlanet  CryoSleep     Cabin  Destination   Age  VIP  \\\n",
       "0        0001_01         2.0          1     B/0/P          3.0   0.0    0   \n",
       "1        0002_01         1.0          0     F/0/S          3.0  24.0    1   \n",
       "2        0003_01         2.0          0     A/0/S          3.0  58.0    1   \n",
       "3        0003_02         2.0          0     A/0/S          3.0  33.0    1   \n",
       "4        0004_01         1.0          0     F/1/S          3.0  16.0    1   \n",
       "...          ...         ...        ...       ...          ...   ...  ...   \n",
       "4272     9266_02         1.0          1  G/1496/S          3.0   0.0    0   \n",
       "4273     9269_01         1.0          0       NaN          3.0  42.0    1   \n",
       "4274     9271_01         3.0          1   D/296/P          1.0   0.0    0   \n",
       "4275     9273_01         2.0          0   D/297/P          NaN   NaN    1   \n",
       "4276     9277_01         1.0          1  G/1498/S          2.0   0.0    0   \n",
       "\n",
       "      RoomService  FoodCourt  ShoppingMall     Spa  VRDeck               Name  \\\n",
       "0             0.0        0.0           0.0     0.0     0.0    Maham Ofracculy   \n",
       "1           109.0        9.0          25.0   549.0    44.0       Juanna Vines   \n",
       "2            43.0     3576.0           0.0  6715.0    49.0      Altark Susent   \n",
       "3             0.0     1283.0         371.0  3329.0   193.0       Solam Susent   \n",
       "4           303.0       70.0         151.0   565.0     2.0  Willy Santantines   \n",
       "...           ...        ...           ...     ...     ...                ...   \n",
       "4272          0.0        0.0           0.0     0.0     0.0        Jeron Peter   \n",
       "4273          0.0      847.0          17.0    10.0   144.0      Matty Scheron   \n",
       "4274          0.0        0.0           0.0     0.0     0.0        Jayrin Pore   \n",
       "4275          0.0     2680.0           0.0     0.0   523.0     Kitakan Conale   \n",
       "4276          0.0        0.0           0.0     0.0     0.0   Lilace Leonzaley   \n",
       "\n",
       "      Transported  \n",
       "0             0.0  \n",
       "1             1.0  \n",
       "2             0.0  \n",
       "3             0.0  \n",
       "4             1.0  \n",
       "...           ...  \n",
       "4272          NaN  \n",
       "4273          NaN  \n",
       "4274          NaN  \n",
       "4275          NaN  \n",
       "4276          NaN  \n",
       "\n",
       "[12970 rows x 14 columns]"
      ]
     },
     "execution_count": 21,
     "metadata": {},
     "output_type": "execute_result"
    }
   ],
   "source": [
    "#CryoSleep Train\n",
    "train_test['CryoSleep'].replace({True: 1, False: 0}, inplace=True)\n",
    "\n",
    "#Transported Train\n",
    "train_test['Transported'] = train_test['Transported'].replace({True: 1, False: 0})\n",
    "\n",
    "#HomePlanet Train\n",
    "train_test['HomePlanet'].replace('Earth', 1, inplace=True)\n",
    "train_test['HomePlanet'].replace('Europa', 2, inplace=True)\n",
    "train_test['HomePlanet'].replace('Mars', 3, inplace=True)\n",
    "\n",
    "#Destination Train\n",
    "train_test['Destination'].replace('55 Cancri e', 1, inplace=True)\n",
    "train_test['Destination'].replace('PSO J318.5-22', 2, inplace=True)\n",
    "train_test['Destination'].replace('TRAPPIST-1e', 3, inplace=True)\n",
    "\n",
    "\n",
    "#Vip Train\n",
    "train_test['VIP'].replace({True: 1, False: 0}, inplace=True)\n",
    "\n",
    "\n",
    "########################################################\n",
    "\n",
    "\n",
    "# #CryoSleep Test\n",
    "# test['CryoSleep'].replace({True: 1, False: 0}, inplace=True)\n",
    "\n",
    "# #Transported Test\n",
    "# # Don't have transported\n",
    "\n",
    "# #HomePlanet Test\n",
    "# test['HomePlanet'].replace('Earth', 1, inplace=True)\n",
    "# test['HomePlanet'].replace('Europa', 2, inplace=True)\n",
    "# test['HomePlanet'].replace('Mars', 3, inplace=True)\n",
    "\n",
    "# #Destination Test\n",
    "# test['Destination'].replace('55 Cancri e', 1, inplace=True)\n",
    "# test['Destination'].replace('PSO J318.5-22', 2, inplace=True)\n",
    "# test['Destination'].replace('TRAPPIST-1e', 3, inplace=True)\n",
    "\n",
    "# #Vip Test\n",
    "# test['VIP'].replace({True: 1, False: 0}, inplace=True)\n",
    "\n",
    "\n",
    "train_test\n",
    "# train_test.info()\n",
    "# test.head(3)"
   ]
  },
  {
   "cell_type": "code",
   "execution_count": 22,
   "id": "6f35189f",
   "metadata": {
    "execution": {
     "iopub.execute_input": "2023-12-09T11:18:08.044513Z",
     "iopub.status.busy": "2023-12-09T11:18:08.043905Z",
     "iopub.status.idle": "2023-12-09T11:18:08.051503Z",
     "shell.execute_reply": "2023-12-09T11:18:08.050551Z"
    },
    "papermill": {
     "duration": 0.025511,
     "end_time": "2023-12-09T11:18:08.053359",
     "exception": false,
     "start_time": "2023-12-09T11:18:08.027848",
     "status": "completed"
    },
    "tags": []
   },
   "outputs": [
    {
     "data": {
      "text/plain": [
       "141"
      ]
     },
     "execution_count": 22,
     "metadata": {},
     "output_type": "execute_result"
    }
   ],
   "source": [
    "# expenses_grouped = train_test.groupby('Transported')[Expenses_columns].mean()\n",
    "\n",
    "# plt.figure(figsize=(12, 6))\n",
    "# expenses_grouped.plot(kind='bar')\n",
    "# plt.xlabel('Transported')\n",
    "# plt.ylabel('Average Expenses')\n",
    "# plt.title('Average Expenses by Transported')\n",
    "# plt.legend(Expenses_columns)\n",
    "# plt.show()\n",
    "sum(train_test[\"Age\"].isna())"
   ]
  },
  {
   "cell_type": "markdown",
   "id": "a7807b40",
   "metadata": {
    "papermill": {
     "duration": 0.014743,
     "end_time": "2023-12-09T11:18:08.083299",
     "exception": false,
     "start_time": "2023-12-09T11:18:08.068556",
     "status": "completed"
    },
    "tags": []
   },
   "source": [
    "# 4. Filling NaN and Null cells"
   ]
  },
  {
   "cell_type": "code",
   "execution_count": 23,
   "id": "9c459996",
   "metadata": {
    "execution": {
     "iopub.execute_input": "2023-12-09T11:18:08.113806Z",
     "iopub.status.busy": "2023-12-09T11:18:08.113257Z",
     "iopub.status.idle": "2023-12-09T11:18:08.148049Z",
     "shell.execute_reply": "2023-12-09T11:18:08.147187Z"
    },
    "papermill": {
     "duration": 0.052666,
     "end_time": "2023-12-09T11:18:08.150064",
     "exception": false,
     "start_time": "2023-12-09T11:18:08.097398",
     "status": "completed"
    },
    "tags": []
   },
   "outputs": [
    {
     "name": "stdout",
     "output_type": "stream",
     "text": [
      "PassengerId        0\n",
      "HomePlanet         0\n",
      "CryoSleep          0\n",
      "Cabin              0\n",
      "Destination        0\n",
      "Age                0\n",
      "VIP                0\n",
      "RoomService        0\n",
      "FoodCourt          0\n",
      "ShoppingMall       0\n",
      "Spa                0\n",
      "VRDeck             0\n",
      "Name               0\n",
      "Transported     4277\n",
      "dtype: int64\n"
     ]
    }
   ],
   "source": [
    "# Filled them with help of expenditure and VIP\n",
    "# df[\"CryoSleep\"].fillna(df[\"CryoSleep\"].mode()[0],inplace=True)\n",
    "\n",
    "# Filled them with help of expenditure and CryoSleep\n",
    "# df[\"VIP\"].fillna(df[\"VIP\"].mode()[0],inplace=True)\n",
    "\n",
    "#Data For Train\n",
    "train_test[\"Name\"].fillna(\"Unknown Unknown\",inplace=True)\n",
    "train_test[\"HomePlanet\"].fillna(train_test[\"HomePlanet\"].mode()[0],inplace=True)\n",
    "train_test[\"Destination\"].fillna(train_test[\"Destination\"].mode()[0],inplace=True)\n",
    "train_test[\"Cabin\"].fillna(train_test[\"Cabin\"].mode()[0],inplace=True)\n",
    "train_test[\"Age\"].fillna(int(train_test[\"Age\"].mean()),inplace=True)\n",
    "train_test[\"RoomService\"].fillna(train_test[\"RoomService\"].mean(),inplace=True)\n",
    "train_test[\"FoodCourt\"].fillna(train_test[\"FoodCourt\"].mean(),inplace=True)\n",
    "train_test[\"ShoppingMall\"].fillna(train_test[\"ShoppingMall\"].mean(),inplace=True)\n",
    "train_test[\"Spa\"].fillna(train_test[\"Spa\"].mean(),inplace=True)\n",
    "train_test[\"VRDeck\"].fillna(train_test[\"VRDeck\"].mean(),inplace=True)\n",
    "\n",
    "\n",
    "\n",
    "# #Data for Test\n",
    "# test[\"HomePlanet\"].fillna(test[\"HomePlanet\"].mode()[0],inplace=True)\n",
    "# test[\"Destination\"].fillna(test[\"Destination\"].mode()[0],inplace=True)\n",
    "# test[\"Cabin\"].fillna(test[\"Cabin\"].mode()[0],inplace=True)\n",
    "# test[\"Age\"].fillna(int(test[\"Age\"].mean()),inplace=True)\n",
    "# test[\"RoomService\"].fillna(test[\"RoomService\"].mean(),inplace=True)\n",
    "# test[\"FoodCourt\"].fillna(test[\"FoodCourt\"].mean(),inplace=True)\n",
    "# test[\"ShoppingMall\"].fillna(test[\"ShoppingMall\"].mean(),inplace=True)\n",
    "# test[\"Spa\"].fillna(test[\"Spa\"].mean(),inplace=True)\n",
    "# test[\"VRDeck\"].fillna(test[\"VRDeck\"].mean(),inplace=True)\n",
    "\n",
    "# Define the bins and labels for AGE column\n",
    "bins = [0, 15, 25, 35, 45, 60, 75, 90,120, 150]\n",
    "labels = [1, 2, 3, 4, 5, 6, 7, 8, 9]\n",
    "\n",
    "# Use pd.cut to scale the 'Age' column\n",
    "train_test['Age'] = pd.cut(train_test['Age'], bins=bins, labels=labels, right=False)\n",
    "# test['Age'] = pd.cut(test['Age'], bins=bins, labels=labels, right=False)\n",
    "\n",
    "#&&&&&&&&&&&&&&&&&&&&&&&&&&&&&&&&&&&&&&\n",
    "\n",
    "# Define the bins and labels for Expenditure columns\n",
    "expenditureBins = [0, 50, 100, 500, 1000, 3000, 5000, 7500,10000, 15000,20000,30000,50000]\n",
    "expenditureLabels = [1, 2, 3, 4, 5, 6, 7, 8, 9,10,11,12]\n",
    "\n",
    "# Use pd.cut to scale the 'RoomService' column\n",
    "train_test['RoomService'] = pd.cut(train_test['RoomService'], bins=expenditureBins, labels=expenditureLabels, right=False)\n",
    "# Use pd.cut to scale the 'RoomService' column\n",
    "train_test['FoodCourt'] = pd.cut(train_test['FoodCourt'], bins=expenditureBins, labels=expenditureLabels, right=False)\n",
    "# Use pd.cut to scale the 'RoomService' column\n",
    "train_test['ShoppingMall'] = pd.cut(train_test['ShoppingMall'], bins=expenditureBins, labels=expenditureLabels, right=False)\n",
    "# Use pd.cut to scale the 'RoomService' column\n",
    "train_test['Spa'] = pd.cut(train_test['Spa'], bins=expenditureBins, labels=expenditureLabels, right=False)\n",
    "# Use pd.cut to scale the 'RoomService' column\n",
    "train_test['VRDeck'] = pd.cut(train_test['VRDeck'], bins=expenditureBins, labels=expenditureLabels, right=False)\n",
    "\n",
    "#&&&&&&&&&&&&&&&&&&&&&&&&&&&&&&&&&&&&&&\n",
    "\n",
    "\n",
    "#No Nan, Null or empty cell\n",
    "print(train_test.isna().sum())"
   ]
  },
  {
   "cell_type": "code",
   "execution_count": 24,
   "id": "4d7b6533",
   "metadata": {
    "execution": {
     "iopub.execute_input": "2023-12-09T11:18:08.178485Z",
     "iopub.status.busy": "2023-12-09T11:18:08.178158Z",
     "iopub.status.idle": "2023-12-09T11:18:08.223368Z",
     "shell.execute_reply": "2023-12-09T11:18:08.222472Z"
    },
    "papermill": {
     "duration": 0.061623,
     "end_time": "2023-12-09T11:18:08.225175",
     "exception": false,
     "start_time": "2023-12-09T11:18:08.163552",
     "status": "completed"
    },
    "tags": []
   },
   "outputs": [
    {
     "data": {
      "text/html": [
       "<div>\n",
       "<style scoped>\n",
       "    .dataframe tbody tr th:only-of-type {\n",
       "        vertical-align: middle;\n",
       "    }\n",
       "\n",
       "    .dataframe tbody tr th {\n",
       "        vertical-align: top;\n",
       "    }\n",
       "\n",
       "    .dataframe thead th {\n",
       "        text-align: right;\n",
       "    }\n",
       "</style>\n",
       "<table border=\"1\" class=\"dataframe\">\n",
       "  <thead>\n",
       "    <tr style=\"text-align: right;\">\n",
       "      <th></th>\n",
       "      <th>PassengerId</th>\n",
       "      <th>HomePlanet</th>\n",
       "      <th>CryoSleep</th>\n",
       "      <th>Cabin</th>\n",
       "      <th>Destination</th>\n",
       "      <th>Age</th>\n",
       "      <th>VIP</th>\n",
       "      <th>RoomService</th>\n",
       "      <th>FoodCourt</th>\n",
       "      <th>ShoppingMall</th>\n",
       "      <th>Spa</th>\n",
       "      <th>VRDeck</th>\n",
       "      <th>Name</th>\n",
       "      <th>Transported</th>\n",
       "      <th>Deck</th>\n",
       "      <th>Port</th>\n",
       "    </tr>\n",
       "  </thead>\n",
       "  <tbody>\n",
       "    <tr>\n",
       "      <th>0</th>\n",
       "      <td>0001_01</td>\n",
       "      <td>2.0</td>\n",
       "      <td>1</td>\n",
       "      <td>0</td>\n",
       "      <td>3.0</td>\n",
       "      <td>1</td>\n",
       "      <td>0</td>\n",
       "      <td>1</td>\n",
       "      <td>1</td>\n",
       "      <td>1</td>\n",
       "      <td>1</td>\n",
       "      <td>1</td>\n",
       "      <td>Maham Ofracculy</td>\n",
       "      <td>0.0</td>\n",
       "      <td>2</td>\n",
       "      <td>1</td>\n",
       "    </tr>\n",
       "    <tr>\n",
       "      <th>1</th>\n",
       "      <td>0002_01</td>\n",
       "      <td>1.0</td>\n",
       "      <td>0</td>\n",
       "      <td>0</td>\n",
       "      <td>3.0</td>\n",
       "      <td>2</td>\n",
       "      <td>1</td>\n",
       "      <td>3</td>\n",
       "      <td>1</td>\n",
       "      <td>1</td>\n",
       "      <td>4</td>\n",
       "      <td>1</td>\n",
       "      <td>Juanna Vines</td>\n",
       "      <td>1.0</td>\n",
       "      <td>6</td>\n",
       "      <td>0</td>\n",
       "    </tr>\n",
       "    <tr>\n",
       "      <th>2</th>\n",
       "      <td>0003_01</td>\n",
       "      <td>2.0</td>\n",
       "      <td>0</td>\n",
       "      <td>0</td>\n",
       "      <td>3.0</td>\n",
       "      <td>5</td>\n",
       "      <td>1</td>\n",
       "      <td>1</td>\n",
       "      <td>6</td>\n",
       "      <td>1</td>\n",
       "      <td>7</td>\n",
       "      <td>1</td>\n",
       "      <td>Altark Susent</td>\n",
       "      <td>0.0</td>\n",
       "      <td>1</td>\n",
       "      <td>0</td>\n",
       "    </tr>\n",
       "  </tbody>\n",
       "</table>\n",
       "</div>"
      ],
      "text/plain": [
       "  PassengerId  HomePlanet  CryoSleep Cabin  Destination Age  VIP RoomService  \\\n",
       "0     0001_01         2.0          1     0          3.0   1    0           1   \n",
       "1     0002_01         1.0          0     0          3.0   2    1           3   \n",
       "2     0003_01         2.0          0     0          3.0   5    1           1   \n",
       "\n",
       "  FoodCourt ShoppingMall Spa VRDeck             Name  Transported  Deck  Port  \n",
       "0         1            1   1      1  Maham Ofracculy          0.0     2     1  \n",
       "1         1            1   4      1     Juanna Vines          1.0     6     0  \n",
       "2         6            1   7      1    Altark Susent          0.0     1     0  "
      ]
     },
     "execution_count": 24,
     "metadata": {},
     "output_type": "execute_result"
    }
   ],
   "source": [
    "train_test[['Deck', 'Cabin', 'Port']] = train_test['Cabin'].str.split('/', expand=True)\n",
    "\n",
    "# Train Data\n",
    "#Port or Starboard of the cabins\n",
    "train_test['Port'].replace('S', 0, inplace=True)\n",
    "train_test['Port'].replace('P', 1, inplace=True)\n",
    "\n",
    "#Class of the cabins\n",
    "letter_to_int = {'A': 1, 'B': 2, 'C': 3, 'D': 4, 'E': 5, 'F': 6, 'G': 7, 'T': 8}\n",
    "train_test['Deck'] = train_test['Deck'].map(letter_to_int)\n",
    "\n",
    "\n",
    "#####################################\n",
    "#####################################\n",
    "#####################################\n",
    "\n",
    "# Test Data\n",
    "\n",
    "# #Port or Starboard of the cabins\n",
    "# test['Port'] = test['Cabin'].str.split('/').str[-1]\n",
    "# test['Port'].replace('S', 0, inplace=True)\n",
    "# test['Port'].replace('P', 1, inplace=True)\n",
    "\n",
    "# #Class of the cabins\n",
    "# test['Place'] = test['Cabin'].str.split('/').str[0]\n",
    "# letter_to_int = {'A': 1, 'B': 2, 'C': 3, 'D': 4, 'E': 5, 'F': 6, 'G': 7, 'T': 8}\n",
    "# test['Place'] = test['Place'].map(letter_to_int)\n",
    "\n",
    "\n",
    "# #Number of cabins\n",
    "# test['Cabin'] = test['Cabin'].str.split('/').str[1]\n",
    "\n",
    "\n",
    "\n",
    "train_test.head(3)"
   ]
  },
  {
   "cell_type": "code",
   "execution_count": 25,
   "id": "bb06f011",
   "metadata": {
    "execution": {
     "iopub.execute_input": "2023-12-09T11:18:08.253905Z",
     "iopub.status.busy": "2023-12-09T11:18:08.253352Z",
     "iopub.status.idle": "2023-12-09T11:18:08.268813Z",
     "shell.execute_reply": "2023-12-09T11:18:08.268074Z"
    },
    "papermill": {
     "duration": 0.032262,
     "end_time": "2023-12-09T11:18:08.270968",
     "exception": false,
     "start_time": "2023-12-09T11:18:08.238706",
     "status": "completed"
    },
    "tags": []
   },
   "outputs": [],
   "source": [
    "train_test['Group'] = train_test['PassengerId'].astype(str).str[:4]\n",
    "counts = train_test['Group'].value_counts()\n",
    "train_test['Group'] = train_test['Group'].map(counts)"
   ]
  },
  {
   "cell_type": "code",
   "execution_count": 26,
   "id": "a6a627e6",
   "metadata": {
    "execution": {
     "iopub.execute_input": "2023-12-09T11:18:08.301227Z",
     "iopub.status.busy": "2023-12-09T11:18:08.300207Z",
     "iopub.status.idle": "2023-12-09T11:18:08.329494Z",
     "shell.execute_reply": "2023-12-09T11:18:08.328525Z"
    },
    "papermill": {
     "duration": 0.046662,
     "end_time": "2023-12-09T11:18:08.331892",
     "exception": false,
     "start_time": "2023-12-09T11:18:08.285230",
     "status": "completed"
    },
    "tags": []
   },
   "outputs": [
    {
     "name": "stdout",
     "output_type": "stream",
     "text": [
      "<class 'pandas.core.frame.DataFrame'>\n",
      "Index: 12970 entries, 0 to 4276\n",
      "Data columns (total 17 columns):\n",
      " #   Column        Non-Null Count  Dtype \n",
      "---  ------        --------------  ----- \n",
      " 0   PassengerId   12970 non-null  object\n",
      " 1   HomePlanet    12970 non-null  Int64 \n",
      " 2   CryoSleep     12970 non-null  Int64 \n",
      " 3   Cabin         12970 non-null  Int64 \n",
      " 4   Destination   12970 non-null  Int64 \n",
      " 5   Age           12970 non-null  Int64 \n",
      " 6   VIP           12970 non-null  Int64 \n",
      " 7   RoomService   12970 non-null  Int64 \n",
      " 8   FoodCourt     12970 non-null  Int64 \n",
      " 9   ShoppingMall  12970 non-null  Int64 \n",
      " 10  Spa           12970 non-null  Int64 \n",
      " 11  VRDeck        12970 non-null  Int64 \n",
      " 12  Name          12970 non-null  object\n",
      " 13  Transported   8693 non-null   Int64 \n",
      " 14  Deck          12970 non-null  Int64 \n",
      " 15  Port          12970 non-null  Int64 \n",
      " 16  Group         12970 non-null  Int64 \n",
      "dtypes: Int64(15), object(2)\n",
      "memory usage: 2.0+ MB\n"
     ]
    }
   ],
   "source": [
    "train_test[['HomePlanet', 'CryoSleep', 'Cabin', 'Destination', 'Age', 'VIP', 'Port', 'Deck','Group']]= train_test[['HomePlanet', 'CryoSleep','Cabin', 'Destination', 'Age', 'VIP', 'Port', 'Deck','Group']].astype('Int64')\n",
    "train_test[['RoomService', 'FoodCourt', 'ShoppingMall', 'Spa', 'VRDeck']]= train_test[['RoomService', 'FoodCourt', 'ShoppingMall', 'Spa', 'VRDeck']].astype('Int64')\n",
    "train_test[['Transported']]= train_test[['Transported']].astype('Int64')\n",
    "\n",
    "#test[['HomePlanet', 'CryoSleep', 'Cabin', 'Destination', 'Age', 'VIP', 'Port', 'Deck']] = test[['HomePlanet', 'CryoSleep','Cabin', 'Destination', 'Age', 'VIP', 'Port', 'Deck']].astype('Int64')\n",
    "train_test.info()"
   ]
  },
  {
   "cell_type": "code",
   "execution_count": 27,
   "id": "c2ee8355",
   "metadata": {
    "execution": {
     "iopub.execute_input": "2023-12-09T11:18:08.361809Z",
     "iopub.status.busy": "2023-12-09T11:18:08.361449Z",
     "iopub.status.idle": "2023-12-09T11:18:08.370974Z",
     "shell.execute_reply": "2023-12-09T11:18:08.369267Z"
    },
    "papermill": {
     "duration": 0.026595,
     "end_time": "2023-12-09T11:18:08.372946",
     "exception": false,
     "start_time": "2023-12-09T11:18:08.346351",
     "status": "completed"
    },
    "tags": []
   },
   "outputs": [
    {
     "name": "stdout",
     "output_type": "stream",
     "text": [
      "PassengerId        0\n",
      "HomePlanet         0\n",
      "CryoSleep          0\n",
      "Cabin              0\n",
      "Destination        0\n",
      "Age                0\n",
      "VIP                0\n",
      "RoomService        0\n",
      "FoodCourt          0\n",
      "ShoppingMall       0\n",
      "Spa                0\n",
      "VRDeck             0\n",
      "Name               0\n",
      "Transported     4277\n",
      "Deck               0\n",
      "Port               0\n",
      "Group              0\n",
      "dtype: int64\n"
     ]
    }
   ],
   "source": [
    "##Apply square root transformation\n",
    "\n",
    "## Train Data\n",
    "# train_test['RoomService'] = train_test['RoomService']**0.5\n",
    "# train_test['FoodCourt'] = train_test['FoodCourt']**0.5\n",
    "# train_test['ShoppingMall'] = train_test['ShoppingMall']**0.5\n",
    "# train_test['Spa'] = train_test['Spa']**0.5\n",
    "# train_test['VRDeck'] = train_test['VRDeck']**0.5\n",
    "\n",
    "\n",
    "# ## Test Data\n",
    "# test['RoomService'] = test['RoomService']**0.5\n",
    "# test['FoodCourt'] = test['FoodCourt']**0.5\n",
    "# test['ShoppingMall'] = test['ShoppingMall']**0.5\n",
    "# test['Spa'] = test['Spa']**0.5\n",
    "# test['VRDeck'] = test['VRDeck']**0.5\n",
    "\n",
    "# train_test.head(3)\n",
    "print(train_test.isna().sum())"
   ]
  },
  {
   "cell_type": "code",
   "execution_count": 28,
   "id": "dba702da",
   "metadata": {
    "execution": {
     "iopub.execute_input": "2023-12-09T11:18:08.404519Z",
     "iopub.status.busy": "2023-12-09T11:18:08.403963Z",
     "iopub.status.idle": "2023-12-09T11:18:08.407967Z",
     "shell.execute_reply": "2023-12-09T11:18:08.407049Z"
    },
    "papermill": {
     "duration": 0.022609,
     "end_time": "2023-12-09T11:18:08.410455",
     "exception": false,
     "start_time": "2023-12-09T11:18:08.387846",
     "status": "completed"
    },
    "tags": []
   },
   "outputs": [],
   "source": [
    "# ## Apply log transformation\n",
    "\n",
    "# ## Train Data\n",
    "# train['RoomService'] = np.log1p(train['RoomService'])\n",
    "# train['FoodCourt'] = np.log1p(train['FoodCourt'])\n",
    "# train['ShoppingMall'] = np.log1p(train['ShoppingMall'])\n",
    "# train['Spa'] = np.log1p(train['Spa'])\n",
    "# train['VRDeck'] = np.log1p(train['VRDeck'])\n",
    "\n",
    "\n",
    "# ## Test Data\n",
    "# test['RoomService'] = np.log1p(test['RoomService'])\n",
    "# test['FoodCourt'] = np.log1p(test['FoodCourt'])\n",
    "# test['ShoppingMall'] = np.log1p(test['ShoppingMall'])\n",
    "# test['Spa'] = np.log1p(test['Spa'])\n",
    "# test['VRDeck'] = np.log1p(test['VRDeck'])\n",
    "# train.head(3)"
   ]
  },
  {
   "cell_type": "code",
   "execution_count": 29,
   "id": "0c74117f",
   "metadata": {
    "execution": {
     "iopub.execute_input": "2023-12-09T11:18:08.441382Z",
     "iopub.status.busy": "2023-12-09T11:18:08.440571Z",
     "iopub.status.idle": "2023-12-09T11:18:08.958495Z",
     "shell.execute_reply": "2023-12-09T11:18:08.957221Z"
    },
    "papermill": {
     "duration": 0.535636,
     "end_time": "2023-12-09T11:18:08.960666",
     "exception": false,
     "start_time": "2023-12-09T11:18:08.425030",
     "status": "completed"
    },
    "tags": []
   },
   "outputs": [
    {
     "data": {
      "text/plain": [
       "<Axes: >"
      ]
     },
     "execution_count": 29,
     "metadata": {},
     "output_type": "execute_result"
    },
    {
     "data": {
      "image/png": "[encoded data removed]",
      "text/plain": [
       "<Figure size 640x480 with 2 Axes>"
      ]
     },
     "metadata": {},
     "output_type": "display_data"
    }
   ],
   "source": [
    "train_num = train_test.select_dtypes(include=['float64', 'int64'])\n",
    "\n",
    "# Calculate the correlations of numerical columns\n",
    "corr = train_num.corr()\n",
    "\n",
    "sns.heatmap(corr, annot=False)"
   ]
  },
  {
   "cell_type": "code",
   "execution_count": 30,
   "id": "fc6012aa",
   "metadata": {
    "execution": {
     "iopub.execute_input": "2023-12-09T11:18:08.992099Z",
     "iopub.status.busy": "2023-12-09T11:18:08.991733Z",
     "iopub.status.idle": "2023-12-09T11:18:08.997305Z",
     "shell.execute_reply": "2023-12-09T11:18:08.995970Z"
    },
    "papermill": {
     "duration": 0.024378,
     "end_time": "2023-12-09T11:18:08.999831",
     "exception": false,
     "start_time": "2023-12-09T11:18:08.975453",
     "status": "completed"
    },
    "tags": []
   },
   "outputs": [],
   "source": [
    "#print('cryo Taransported: ', sum(df[df.CryoSleep == 1].Transported), 'transported: ',sum(df.Transported))\n",
    "# # Calculate mean\n",
    "# df['Mean_luxury'] = df[['RoomService', 'FoodCourt', 'ShoppingMall', 'Spa', 'VRDeck']].mean(axis=1)\n",
    "\n",
    "# df = df.drop(columns=['RoomService', 'FoodCourt', 'ShoppingMall', 'Spa', 'VRDeck'])\n",
    "\n",
    "# df['BigSpender'] = np.where(df.Mean_luxury > 1000, 1,0)\n",
    "# df['Mid_Spender'] = np.where(df.Mean_luxury >= 500, 1,0)\n",
    "# df['Non_Spender'] = np.where(df.Mean_luxury == 0, 1,0)\n",
    "# df.head(3)"
   ]
  },
  {
   "cell_type": "markdown",
   "id": "aecf0d82",
   "metadata": {
    "papermill": {
     "duration": 0.016107,
     "end_time": "2023-12-09T11:18:09.031444",
     "exception": false,
     "start_time": "2023-12-09T11:18:09.015337",
     "status": "completed"
    },
    "tags": []
   },
   "source": [
    "{1:'55 Cancri e', 2:'PSO J318.5-22', 3:'TRAPPIST-1e'}\n",
    "{1:'Earth', 2:'Europa', 3:'Mars'}\n",
    "<<<<<HomePlanet to Destination>>>>\n",
    "1 to 1 >>> 721\n",
    "1 to 2 >>> 728\n",
    "1 to 3 >>> 3354\n",
    "--------------    \n",
    "2 to 1 >>> 193\n",
    "2 to 2 >>> 49\n",
    "2 to 3 >>> 1517\n",
    "-------------- \n",
    "3 to 1 >>> 886\n",
    "3 to 2 >>> 19\n",
    "3 to 3 >>> 1226\n",
    "-------------- "
   ]
  },
  {
   "cell_type": "code",
   "execution_count": 31,
   "id": "bd110c08",
   "metadata": {
    "execution": {
     "iopub.execute_input": "2023-12-09T11:18:09.064410Z",
     "iopub.status.busy": "2023-12-09T11:18:09.064076Z",
     "iopub.status.idle": "2023-12-09T11:18:09.086194Z",
     "shell.execute_reply": "2023-12-09T11:18:09.084557Z"
    },
    "papermill": {
     "duration": 0.041427,
     "end_time": "2023-12-09T11:18:09.088731",
     "exception": false,
     "start_time": "2023-12-09T11:18:09.047304",
     "status": "completed"
    },
    "tags": []
   },
   "outputs": [
    {
     "name": "stdout",
     "output_type": "stream",
     "text": [
      "<class 'pandas.core.frame.DataFrame'>\n",
      "Index: 4277 entries, 0 to 4276\n",
      "Data columns (total 16 columns):\n",
      " #   Column        Non-Null Count  Dtype \n",
      "---  ------        --------------  ----- \n",
      " 0   PassengerId   4277 non-null   object\n",
      " 1   HomePlanet    4277 non-null   Int64 \n",
      " 2   CryoSleep     4277 non-null   Int64 \n",
      " 3   Cabin         4277 non-null   Int64 \n",
      " 4   Destination   4277 non-null   Int64 \n",
      " 5   Age           4277 non-null   Int64 \n",
      " 6   VIP           4277 non-null   Int64 \n",
      " 7   RoomService   4277 non-null   Int64 \n",
      " 8   FoodCourt     4277 non-null   Int64 \n",
      " 9   ShoppingMall  4277 non-null   Int64 \n",
      " 10  Spa           4277 non-null   Int64 \n",
      " 11  VRDeck        4277 non-null   Int64 \n",
      " 12  Name          4277 non-null   object\n",
      " 13  Deck          4277 non-null   Int64 \n",
      " 14  Port          4277 non-null   Int64 \n",
      " 15  Group         4277 non-null   Int64 \n",
      "dtypes: Int64(14), object(2)\n",
      "memory usage: 626.5+ KB\n"
     ]
    }
   ],
   "source": [
    "train = train_test[train_test['Transported'].notnull()].copy()\n",
    "train.Transported =train.Transported.astype('Int64')\n",
    "test = train_test[train_test['Transported'].isnull()].drop(\"Transported\",axis=1)\n",
    "test.info()"
   ]
  },
  {
   "cell_type": "code",
   "execution_count": 32,
   "id": "b1efd134",
   "metadata": {
    "execution": {
     "iopub.execute_input": "2023-12-09T11:18:09.121511Z",
     "iopub.status.busy": "2023-12-09T11:18:09.121177Z",
     "iopub.status.idle": "2023-12-09T11:18:09.135062Z",
     "shell.execute_reply": "2023-12-09T11:18:09.133438Z"
    },
    "papermill": {
     "duration": 0.033262,
     "end_time": "2023-12-09T11:18:09.137576",
     "exception": false,
     "start_time": "2023-12-09T11:18:09.104314",
     "status": "completed"
    },
    "tags": []
   },
   "outputs": [
    {
     "name": "stdout",
     "output_type": "stream",
     "text": [
      "<class 'pandas.core.frame.DataFrame'>\n",
      "Index: 8693 entries, 0 to 8692\n",
      "Data columns (total 17 columns):\n",
      " #   Column        Non-Null Count  Dtype \n",
      "---  ------        --------------  ----- \n",
      " 0   PassengerId   8693 non-null   object\n",
      " 1   HomePlanet    8693 non-null   Int64 \n",
      " 2   CryoSleep     8693 non-null   Int64 \n",
      " 3   Cabin         8693 non-null   Int64 \n",
      " 4   Destination   8693 non-null   Int64 \n",
      " 5   Age           8693 non-null   Int64 \n",
      " 6   VIP           8693 non-null   Int64 \n",
      " 7   RoomService   8693 non-null   Int64 \n",
      " 8   FoodCourt     8693 non-null   Int64 \n",
      " 9   ShoppingMall  8693 non-null   Int64 \n",
      " 10  Spa           8693 non-null   Int64 \n",
      " 11  VRDeck        8693 non-null   Int64 \n",
      " 12  Name          8693 non-null   object\n",
      " 13  Transported   8693 non-null   Int64 \n",
      " 14  Deck          8693 non-null   Int64 \n",
      " 15  Port          8693 non-null   Int64 \n",
      " 16  Group         8693 non-null   Int64 \n",
      "dtypes: Int64(15), object(2)\n",
      "memory usage: 1.3+ MB\n"
     ]
    }
   ],
   "source": [
    "train.info()"
   ]
  },
  {
   "cell_type": "code",
   "execution_count": 33,
   "id": "f2e9f3e2",
   "metadata": {
    "execution": {
     "iopub.execute_input": "2023-12-09T11:18:09.170081Z",
     "iopub.status.busy": "2023-12-09T11:18:09.169694Z",
     "iopub.status.idle": "2023-12-09T11:18:09.190475Z",
     "shell.execute_reply": "2023-12-09T11:18:09.189499Z"
    },
    "papermill": {
     "duration": 0.039817,
     "end_time": "2023-12-09T11:18:09.192880",
     "exception": false,
     "start_time": "2023-12-09T11:18:09.153063",
     "status": "completed"
    },
    "tags": []
   },
   "outputs": [
    {
     "data": {
      "text/html": [
       "<div>\n",
       "<style scoped>\n",
       "    .dataframe tbody tr th:only-of-type {\n",
       "        vertical-align: middle;\n",
       "    }\n",
       "\n",
       "    .dataframe tbody tr th {\n",
       "        vertical-align: top;\n",
       "    }\n",
       "\n",
       "    .dataframe thead th {\n",
       "        text-align: right;\n",
       "    }\n",
       "</style>\n",
       "<table border=\"1\" class=\"dataframe\">\n",
       "  <thead>\n",
       "    <tr style=\"text-align: right;\">\n",
       "      <th></th>\n",
       "      <th>HomePlanet</th>\n",
       "      <th>CryoSleep</th>\n",
       "      <th>Cabin</th>\n",
       "      <th>Destination</th>\n",
       "      <th>Age</th>\n",
       "      <th>VIP</th>\n",
       "      <th>RoomService</th>\n",
       "      <th>FoodCourt</th>\n",
       "      <th>ShoppingMall</th>\n",
       "      <th>Spa</th>\n",
       "      <th>VRDeck</th>\n",
       "      <th>Deck</th>\n",
       "      <th>Port</th>\n",
       "      <th>Group</th>\n",
       "    </tr>\n",
       "  </thead>\n",
       "  <tbody>\n",
       "    <tr>\n",
       "      <th>0</th>\n",
       "      <td>2</td>\n",
       "      <td>1</td>\n",
       "      <td>0</td>\n",
       "      <td>3</td>\n",
       "      <td>1</td>\n",
       "      <td>0</td>\n",
       "      <td>1</td>\n",
       "      <td>1</td>\n",
       "      <td>1</td>\n",
       "      <td>1</td>\n",
       "      <td>1</td>\n",
       "      <td>2</td>\n",
       "      <td>1</td>\n",
       "      <td>1</td>\n",
       "    </tr>\n",
       "    <tr>\n",
       "      <th>1</th>\n",
       "      <td>1</td>\n",
       "      <td>0</td>\n",
       "      <td>0</td>\n",
       "      <td>3</td>\n",
       "      <td>2</td>\n",
       "      <td>1</td>\n",
       "      <td>3</td>\n",
       "      <td>1</td>\n",
       "      <td>1</td>\n",
       "      <td>4</td>\n",
       "      <td>1</td>\n",
       "      <td>6</td>\n",
       "      <td>0</td>\n",
       "      <td>1</td>\n",
       "    </tr>\n",
       "    <tr>\n",
       "      <th>2</th>\n",
       "      <td>2</td>\n",
       "      <td>0</td>\n",
       "      <td>0</td>\n",
       "      <td>3</td>\n",
       "      <td>5</td>\n",
       "      <td>1</td>\n",
       "      <td>1</td>\n",
       "      <td>6</td>\n",
       "      <td>1</td>\n",
       "      <td>7</td>\n",
       "      <td>1</td>\n",
       "      <td>1</td>\n",
       "      <td>0</td>\n",
       "      <td>2</td>\n",
       "    </tr>\n",
       "  </tbody>\n",
       "</table>\n",
       "</div>"
      ],
      "text/plain": [
       "   HomePlanet  CryoSleep  Cabin  Destination  Age  VIP  RoomService  \\\n",
       "0           2          1      0            3    1    0            1   \n",
       "1           1          0      0            3    2    1            3   \n",
       "2           2          0      0            3    5    1            1   \n",
       "\n",
       "   FoodCourt  ShoppingMall  Spa  VRDeck  Deck  Port  Group  \n",
       "0          1             1    1       1     2     1      1  \n",
       "1          1             1    4       1     6     0      1  \n",
       "2          6             1    7       1     1     0      2  "
      ]
     },
     "execution_count": 33,
     "metadata": {},
     "output_type": "execute_result"
    }
   ],
   "source": [
    "### Train Data\n",
    "newTrain = train\n",
    "train_ids = newTrain['PassengerId'].copy()\n",
    "train_trs = newTrain['Transported'].copy()\n",
    "newTrain.drop(columns=['PassengerId','Name','Transported'],inplace=True)\n",
    "\n",
    "\n",
    "#####################\n",
    "\n",
    "\n",
    "### Test Data\n",
    "newTest = test\n",
    "test_ids = newTest['PassengerId'].copy()\n",
    "newTest.drop(columns=['PassengerId','Name'],inplace=True)\n",
    "\n",
    "\n",
    "newTrain.head(3)"
   ]
  },
  {
   "cell_type": "code",
   "execution_count": 34,
   "id": "033976d9",
   "metadata": {
    "execution": {
     "iopub.execute_input": "2023-12-09T11:18:09.227768Z",
     "iopub.status.busy": "2023-12-09T11:18:09.226576Z",
     "iopub.status.idle": "2023-12-09T11:18:09.237695Z",
     "shell.execute_reply": "2023-12-09T11:18:09.236982Z"
    },
    "papermill": {
     "duration": 0.030979,
     "end_time": "2023-12-09T11:18:09.240110",
     "exception": false,
     "start_time": "2023-12-09T11:18:09.209131",
     "status": "completed"
    },
    "tags": []
   },
   "outputs": [
    {
     "name": "stdout",
     "output_type": "stream",
     "text": [
      "<class 'pandas.core.frame.DataFrame'>\n",
      "Index: 8693 entries, 0 to 8692\n",
      "Data columns (total 14 columns):\n",
      " #   Column        Non-Null Count  Dtype\n",
      "---  ------        --------------  -----\n",
      " 0   HomePlanet    8693 non-null   Int64\n",
      " 1   CryoSleep     8693 non-null   Int64\n",
      " 2   Cabin         8693 non-null   Int64\n",
      " 3   Destination   8693 non-null   Int64\n",
      " 4   Age           8693 non-null   Int64\n",
      " 5   VIP           8693 non-null   Int64\n",
      " 6   RoomService   8693 non-null   Int64\n",
      " 7   FoodCourt     8693 non-null   Int64\n",
      " 8   ShoppingMall  8693 non-null   Int64\n",
      " 9   Spa           8693 non-null   Int64\n",
      " 10  VRDeck        8693 non-null   Int64\n",
      " 11  Deck          8693 non-null   Int64\n",
      " 12  Port          8693 non-null   Int64\n",
      " 13  Group         8693 non-null   Int64\n",
      "dtypes: Int64(14)\n",
      "memory usage: 1.1 MB\n"
     ]
    }
   ],
   "source": [
    "newTrain.info()"
   ]
  },
  {
   "cell_type": "code",
   "execution_count": 35,
   "id": "fa142629",
   "metadata": {
    "execution": {
     "iopub.execute_input": "2023-12-09T11:18:09.273128Z",
     "iopub.status.busy": "2023-12-09T11:18:09.272231Z",
     "iopub.status.idle": "2023-12-09T11:18:09.283666Z",
     "shell.execute_reply": "2023-12-09T11:18:09.282916Z"
    },
    "papermill": {
     "duration": 0.030243,
     "end_time": "2023-12-09T11:18:09.285828",
     "exception": false,
     "start_time": "2023-12-09T11:18:09.255585",
     "status": "completed"
    },
    "tags": []
   },
   "outputs": [
    {
     "name": "stdout",
     "output_type": "stream",
     "text": [
      "<class 'pandas.core.frame.DataFrame'>\n",
      "Index: 4277 entries, 0 to 4276\n",
      "Data columns (total 14 columns):\n",
      " #   Column        Non-Null Count  Dtype\n",
      "---  ------        --------------  -----\n",
      " 0   HomePlanet    4277 non-null   Int64\n",
      " 1   CryoSleep     4277 non-null   Int64\n",
      " 2   Cabin         4277 non-null   Int64\n",
      " 3   Destination   4277 non-null   Int64\n",
      " 4   Age           4277 non-null   Int64\n",
      " 5   VIP           4277 non-null   Int64\n",
      " 6   RoomService   4277 non-null   Int64\n",
      " 7   FoodCourt     4277 non-null   Int64\n",
      " 8   ShoppingMall  4277 non-null   Int64\n",
      " 9   Spa           4277 non-null   Int64\n",
      " 10  VRDeck        4277 non-null   Int64\n",
      " 11  Deck          4277 non-null   Int64\n",
      " 12  Port          4277 non-null   Int64\n",
      " 13  Group         4277 non-null   Int64\n",
      "dtypes: Int64(14)\n",
      "memory usage: 559.7 KB\n"
     ]
    }
   ],
   "source": [
    "newTest.info()"
   ]
  },
  {
   "cell_type": "code",
   "execution_count": 36,
   "id": "f58e49ec",
   "metadata": {
    "execution": {
     "iopub.execute_input": "2023-12-09T11:18:09.320064Z",
     "iopub.status.busy": "2023-12-09T11:18:09.319686Z",
     "iopub.status.idle": "2023-12-09T11:18:09.324766Z",
     "shell.execute_reply": "2023-12-09T11:18:09.323419Z"
    },
    "papermill": {
     "duration": 0.024444,
     "end_time": "2023-12-09T11:18:09.326766",
     "exception": false,
     "start_time": "2023-12-09T11:18:09.302322",
     "status": "completed"
    },
    "tags": []
   },
   "outputs": [],
   "source": [
    "# from sklearn.model_selection import train_test_split\n",
    "# X_train, X_test, y_train, y_test = train_test_split(newtrainDF.drop('Transported',axis=1), \n",
    "#                                                   df['Transported'], test_size=0.30, \n",
    "#                                                     random_state=101)\n",
    "# newtrainDF.head(1)"
   ]
  },
  {
   "cell_type": "code",
   "execution_count": 37,
   "id": "d941f8d0",
   "metadata": {
    "execution": {
     "iopub.execute_input": "2023-12-09T11:18:09.361129Z",
     "iopub.status.busy": "2023-12-09T11:18:09.360437Z",
     "iopub.status.idle": "2023-12-09T11:18:10.056883Z",
     "shell.execute_reply": "2023-12-09T11:18:10.056083Z"
    },
    "papermill": {
     "duration": 0.716884,
     "end_time": "2023-12-09T11:18:10.059290",
     "exception": false,
     "start_time": "2023-12-09T11:18:09.342406",
     "status": "completed"
    },
    "tags": []
   },
   "outputs": [
    {
     "data": {
      "text/html": [
       "<style>#sk-container-id-1 {color: black;background-color: white;}#sk-container-id-1 pre{padding: 0;}#sk-container-id-1 div.sk-toggleable {background-color: white;}#sk-container-id-1 label.sk-toggleable__label {cursor: pointer;display: block;width: 100%;margin-bottom: 0;padding: 0.3em;box-sizing: border-box;text-align: center;}#sk-container-id-1 label.sk-toggleable__label-arrow:before {content: \"▸\";float: left;margin-right: 0.25em;color: #696969;}#sk-container-id-1 label.sk-toggleable__label-arrow:hover:before {color: black;}#sk-container-id-1 div.sk-estimator:hover label.sk-toggleable__label-arrow:before {color: black;}#sk-container-id-1 div.sk-toggleable__content {max-height: 0;max-width: 0;overflow: hidden;text-align: left;background-color: #f0f8ff;}#sk-container-id-1 div.sk-toggleable__content pre {margin: 0.2em;color: black;border-radius: 0.25em;background-color: #f0f8ff;}#sk-container-id-1 input.sk-toggleable__control:checked~div.sk-toggleable__content {max-height: 200px;max-width: 100%;overflow: auto;}#sk-container-id-1 input.sk-toggleable__control:checked~label.sk-toggleable__label-arrow:before {content: \"▾\";}#sk-container-id-1 div.sk-estimator input.sk-toggleable__control:checked~label.sk-toggleable__label {background-color: #d4ebff;}#sk-container-id-1 div.sk-label input.sk-toggleable__control:checked~label.sk-toggleable__label {background-color: #d4ebff;}#sk-container-id-1 input.sk-hidden--visually {border: 0;clip: rect(1px 1px 1px 1px);clip: rect(1px, 1px, 1px, 1px);height: 1px;margin: -1px;overflow: hidden;padding: 0;position: absolute;width: 1px;}#sk-container-id-1 div.sk-estimator {font-family: monospace;background-color: #f0f8ff;border: 1px dotted black;border-radius: 0.25em;box-sizing: border-box;margin-bottom: 0.5em;}#sk-container-id-1 div.sk-estimator:hover {background-color: #d4ebff;}#sk-container-id-1 div.sk-parallel-item::after {content: \"\";width: 100%;border-bottom: 1px solid gray;flex-grow: 1;}#sk-container-id-1 div.sk-label:hover label.sk-toggleable__label {background-color: #d4ebff;}#sk-container-id-1 div.sk-serial::before {content: \"\";position: absolute;border-left: 1px solid gray;box-sizing: border-box;top: 0;bottom: 0;left: 50%;z-index: 0;}#sk-container-id-1 div.sk-serial {display: flex;flex-direction: column;align-items: center;background-color: white;padding-right: 0.2em;padding-left: 0.2em;position: relative;}#sk-container-id-1 div.sk-item {position: relative;z-index: 1;}#sk-container-id-1 div.sk-parallel {display: flex;align-items: stretch;justify-content: center;background-color: white;position: relative;}#sk-container-id-1 div.sk-item::before, #sk-container-id-1 div.sk-parallel-item::before {content: \"\";position: absolute;border-left: 1px solid gray;box-sizing: border-box;top: 0;bottom: 0;left: 50%;z-index: -1;}#sk-container-id-1 div.sk-parallel-item {display: flex;flex-direction: column;z-index: 1;position: relative;background-color: white;}#sk-container-id-1 div.sk-parallel-item:first-child::after {align-self: flex-end;width: 50%;}#sk-container-id-1 div.sk-parallel-item:last-child::after {align-self: flex-start;width: 50%;}#sk-container-id-1 div.sk-parallel-item:only-child::after {width: 0;}#sk-container-id-1 div.sk-dashed-wrapped {border: 1px dashed gray;margin: 0 0.4em 0.5em 0.4em;box-sizing: border-box;padding-bottom: 0.4em;background-color: white;}#sk-container-id-1 div.sk-label label {font-family: monospace;font-weight: bold;display: inline-block;line-height: 1.2em;}#sk-container-id-1 div.sk-label-container {text-align: center;}#sk-container-id-1 div.sk-container {/* jupyter's `normalize.less` sets `[hidden] { display: none; }` but bootstrap.min.css set `[hidden] { display: none !important; }` so we also need the `!important` here to be able to override the default hidden behavior on the sphinx rendered scikit-learn.org. See: https://github.com/scikit-learn/scikit-learn/issues/21755 */display: inline-block !important;position: relative;}#sk-container-id-1 div.sk-text-repr-fallback {display: none;}</style><div id=\"sk-container-id-1\" class=\"sk-top-container\"><div class=\"sk-text-repr-fallback\"><pre>LogisticRegression(max_iter=10000)</pre><b>In a Jupyter environment, please rerun this cell to show the HTML representation or trust the notebook. <br />On GitHub, the HTML representation is unable to render, please try loading this page with nbviewer.org.</b></div><div class=\"sk-container\" hidden><div class=\"sk-item\"><div class=\"sk-estimator sk-toggleable\"><input class=\"sk-toggleable__control sk-hidden--visually\" id=\"sk-estimator-id-1\" type=\"checkbox\" checked><label for=\"sk-estimator-id-1\" class=\"sk-toggleable__label sk-toggleable__label-arrow\">LogisticRegression</label><div class=\"sk-toggleable__content\"><pre>LogisticRegression(max_iter=10000)</pre></div></div></div></div></div>"
      ],
      "text/plain": [
       "LogisticRegression(max_iter=10000)"
      ]
     },
     "execution_count": 37,
     "metadata": {},
     "output_type": "execute_result"
    }
   ],
   "source": [
    "from sklearn.linear_model import LogisticRegression\n",
    "logmodel = LogisticRegression(max_iter=10000)\n",
    "logmodel.fit(newTrain, train_trs)"
   ]
  },
  {
   "cell_type": "code",
   "execution_count": 38,
   "id": "6dfb74ee",
   "metadata": {
    "execution": {
     "iopub.execute_input": "2023-12-09T11:18:10.105673Z",
     "iopub.status.busy": "2023-12-09T11:18:10.104494Z",
     "iopub.status.idle": "2023-12-09T11:18:10.109111Z",
     "shell.execute_reply": "2023-12-09T11:18:10.108317Z"
    },
    "papermill": {
     "duration": 0.030803,
     "end_time": "2023-12-09T11:18:10.112577",
     "exception": false,
     "start_time": "2023-12-09T11:18:10.081774",
     "status": "completed"
    },
    "tags": []
   },
   "outputs": [],
   "source": [
    "# df_test['stSpenders'] = df_test[['RoomService', 'FoodCourt', 'ShoppingMall', 'Spa', 'VRDeck']].std(axis=1)\n",
    "# df_test = df_test.drop(columns=['RoomService', 'FoodCourt', 'ShoppingMall', 'Spa', 'VRDeck'])\n",
    "# df_test.head()"
   ]
  },
  {
   "cell_type": "code",
   "execution_count": 39,
   "id": "30a7c2df",
   "metadata": {
    "execution": {
     "iopub.execute_input": "2023-12-09T11:18:10.157405Z",
     "iopub.status.busy": "2023-12-09T11:18:10.156236Z",
     "iopub.status.idle": "2023-12-09T11:18:10.166536Z",
     "shell.execute_reply": "2023-12-09T11:18:10.165793Z"
    },
    "papermill": {
     "duration": 0.034929,
     "end_time": "2023-12-09T11:18:10.168646",
     "exception": false,
     "start_time": "2023-12-09T11:18:10.133717",
     "status": "completed"
    },
    "tags": []
   },
   "outputs": [],
   "source": [
    " predictions = logmodel.predict(newTest)"
   ]
  },
  {
   "cell_type": "code",
   "execution_count": 40,
   "id": "73679c6e",
   "metadata": {
    "execution": {
     "iopub.execute_input": "2023-12-09T11:18:10.212350Z",
     "iopub.status.busy": "2023-12-09T11:18:10.211170Z",
     "iopub.status.idle": "2023-12-09T11:18:10.238026Z",
     "shell.execute_reply": "2023-12-09T11:18:10.237287Z"
    },
    "papermill": {
     "duration": 0.050726,
     "end_time": "2023-12-09T11:18:10.240145",
     "exception": false,
     "start_time": "2023-12-09T11:18:10.189419",
     "status": "completed"
    },
    "tags": []
   },
   "outputs": [
    {
     "data": {
      "text/html": [
       "<div>\n",
       "<style scoped>\n",
       "    .dataframe tbody tr th:only-of-type {\n",
       "        vertical-align: middle;\n",
       "    }\n",
       "\n",
       "    .dataframe tbody tr th {\n",
       "        vertical-align: top;\n",
       "    }\n",
       "\n",
       "    .dataframe thead th {\n",
       "        text-align: right;\n",
       "    }\n",
       "</style>\n",
       "<table border=\"1\" class=\"dataframe\">\n",
       "  <thead>\n",
       "    <tr style=\"text-align: right;\">\n",
       "      <th></th>\n",
       "      <th>PassengerId</th>\n",
       "      <th>Transported</th>\n",
       "    </tr>\n",
       "  </thead>\n",
       "  <tbody>\n",
       "    <tr>\n",
       "      <th>0</th>\n",
       "      <td>0013_01</td>\n",
       "      <td>True</td>\n",
       "    </tr>\n",
       "    <tr>\n",
       "      <th>1</th>\n",
       "      <td>0018_01</td>\n",
       "      <td>False</td>\n",
       "    </tr>\n",
       "    <tr>\n",
       "      <th>2</th>\n",
       "      <td>0019_01</td>\n",
       "      <td>True</td>\n",
       "    </tr>\n",
       "    <tr>\n",
       "      <th>3</th>\n",
       "      <td>0021_01</td>\n",
       "      <td>True</td>\n",
       "    </tr>\n",
       "    <tr>\n",
       "      <th>4</th>\n",
       "      <td>0023_01</td>\n",
       "      <td>True</td>\n",
       "    </tr>\n",
       "  </tbody>\n",
       "</table>\n",
       "</div>"
      ],
      "text/plain": [
       "  PassengerId  Transported\n",
       "0     0013_01         True\n",
       "1     0018_01        False\n",
       "2     0019_01         True\n",
       "3     0021_01         True\n",
       "4     0023_01         True"
      ]
     },
     "execution_count": 40,
     "metadata": {},
     "output_type": "execute_result"
    }
   ],
   "source": [
    "df_predictions = pd.DataFrame()\n",
    "df_predictions['PassengerId'] = pd.Series(test_ids.T.values)\n",
    "df_predictions['Transported'] = pd.Series(predictions)\n",
    "df_predictions.Transported = np.where(df_predictions.Transported==1,True,False)\n",
    "df_predictions.to_csv(\"18thAttempt.csv\", sep=',', index=False)\n",
    "df_predictions.head()"
   ]
  },
  {
   "cell_type": "markdown",
   "id": "a3bff986",
   "metadata": {
    "papermill": {
     "duration": 0.020775,
     "end_time": "2023-12-09T11:18:10.282412",
     "exception": false,
     "start_time": "2023-12-09T11:18:10.261637",
     "status": "completed"
    },
    "tags": []
   },
   "source": [
    "In this report, the 'Precision' column tells us the proportion of positive identifications (i.e., the passenger was transported) that were actually correct. The 'Recall' column tells us the proportion of actual positives that were identified correctly. The 'F1-score' is a function of Precision and Recall and gives a balanced measure of the model's performance.\n",
    "\n",
    "Remember, this is a basic model. Depending on the performance of the model, you might need to consider more advanced techniques such as handling class imbalance, feature engineering, or using a more complex model."
   ]
  }
 ],
 "metadata": {
  "kaggle": {
   "accelerator": "none",
   "dataSources": [
    {
     "databundleVersionId": 3220602,
     "sourceId": 34377,
     "sourceType": "competition"
    }
   ],
   "dockerImageVersionId": 30558,
   "isGpuEnabled": false,
   "isInternetEnabled": false,
   "language": "python",
   "sourceType": "notebook"
  },
  "kernelspec": {
   "display_name": "Python 3",
   "language": "python",
   "name": "python3"
  },
  "language_info": {
   "codemirror_mode": {
    "name": "ipython",
    "version": 3
   },
   "file_extension": ".py",
   "mimetype": "text/x-python",
   "name": "python",
   "nbconvert_exporter": "python",
   "pygments_lexer": "ipython3",
   "version": "3.10.12"
  },
  "papermill": {
   "default_parameters": {},
   "duration": 14.101847,
   "end_time": "2023-12-09T11:18:10.918153",
   "environment_variables": {},
   "exception": null,
   "input_path": "__notebook__.ipynb",
   "output_path": "__notebook__.ipynb",
   "parameters": {},
   "start_time": "2023-12-09T11:17:56.816306",
   "version": "2.4.0"
  }
 },
 "nbformat": 4,
 "nbformat_minor": 5
}
