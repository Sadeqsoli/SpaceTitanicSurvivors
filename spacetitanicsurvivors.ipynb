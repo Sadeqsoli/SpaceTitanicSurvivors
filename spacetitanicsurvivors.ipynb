{
 "cells": [
  {
   "cell_type": "code",
   "execution_count": 1,
   "id": "c83aab72",
   "metadata": {
    "_cell_guid": "b1076dfc-b9ad-4769-8c92-a6c4dae69d19",
    "_uuid": "8f2839f25d086af736a60e9eeb907d3b93b6e0e5",
    "execution": {
     "iopub.execute_input": "2023-12-01T06:15:48.694927Z",
     "iopub.status.busy": "2023-12-01T06:15:48.694414Z",
     "iopub.status.idle": "2023-12-01T06:15:49.541260Z",
     "shell.execute_reply": "2023-12-01T06:15:49.540117Z"
    },
    "papermill": {
     "duration": 0.865732,
     "end_time": "2023-12-01T06:15:49.544087",
     "exception": false,
     "start_time": "2023-12-01T06:15:48.678355",
     "status": "completed"
    },
    "tags": []
   },
   "outputs": [
    {
     "name": "stdout",
     "output_type": "stream",
     "text": [
      "/kaggle/input/spaceship-titanic/sample_submission.csv\n",
      "/kaggle/input/spaceship-titanic/train.csv\n",
      "/kaggle/input/spaceship-titanic/test.csv\n"
     ]
    }
   ],
   "source": [
    "# This Python 3 environment comes with many helpful analytics libraries installed\n",
    "# It is defined by the kaggle/python Docker image: https://github.com/kaggle/docker-python\n",
    "# For example, here's several helpful packages to load\n",
    "\n",
    "import numpy as np # linear algebra\n",
    "import pandas as pd # data processing, CSV file I/O (e.g. pd.read_csv)\n",
    "\n",
    "# Input data files are available in the read-only \"../input/\" directory\n",
    "# For example, running this (by clicking run or pressing Shift+Enter) will list all files under the input directory\n",
    "\n",
    "import os\n",
    "for dirname, _, filenames in os.walk('/kaggle/input'):\n",
    "    for filename in filenames:\n",
    "        print(os.path.join(dirname, filename))\n",
    "\n",
    "# You can write up to 20GB to the current directory (/kaggle/working/) that gets preserved as output when you create a version using \"Save & Run All\" \n",
    "# You can also write temporary files to /kaggle/temp/, but they won't be saved outside of the current session"
   ]
  },
  {
   "cell_type": "markdown",
   "id": "85c185af",
   "metadata": {
    "papermill": {
     "duration": 0.013543,
     "end_time": "2023-12-01T06:15:49.571203",
     "exception": false,
     "start_time": "2023-12-01T06:15:49.557660",
     "status": "completed"
    },
    "tags": []
   },
   "source": [
    "# > ****File and Data Field Descriptions\n",
    "\n",
    "train.csv - Personal records for about two-thirds (~8700) of the passengers, to be used as training data.\n",
    "PassengerId - A unique Id for each passenger. Each Id takes the form gggg_pp where gggg indicates a group the passenger is travelling with and pp is their number within the group. People in a group are often family members, but not always.\n",
    "HomePlanet - The planet the passenger departed from, typically their planet of permanent residence.\n",
    "CryoSleep - Indicates whether the passenger elected to be put into suspended animation for the duration of the voyage. Passengers in cryosleep are confined to their cabins.\n",
    "Cabin - The cabin number where the passenger is staying. Takes the form deck/num/side, where side can be either P for Port or S for Starboard.\n",
    "Destination - The planet the passenger will be debarking to.\n",
    "Age - The age of the passenger.\n",
    "VIP - Whether the passenger has paid for special VIP service during the voyage.\n",
    "RoomService, FoodCourt, ShoppingMall, Spa, VRDeck - Amount the passenger has billed at each of the Spaceship Titanic's many luxury amenities.\n",
    "Name - The first and last names of the passenger.\n",
    "Transported - Whether the passenger was transported to another dimension. This is the target, the column you are trying to predict.\n",
    "test.csv - Personal records for the remaining one-third (~4300) of the passengers, to be used as test data. Your task is to predict the value of Transported for the passengers in this set.\n",
    "sample_submission.csv - A submission file in the correct format.\n",
    "PassengerId - Id for each passenger in the test set.\n",
    "Transported - The target. For each passenger, predict either True or False."
   ]
  },
  {
   "cell_type": "code",
   "execution_count": 2,
   "id": "9a9e7f77",
   "metadata": {
    "execution": {
     "iopub.execute_input": "2023-12-01T06:15:49.600657Z",
     "iopub.status.busy": "2023-12-01T06:15:49.599735Z",
     "iopub.status.idle": "2023-12-01T06:15:49.701342Z",
     "shell.execute_reply": "2023-12-01T06:15:49.699839Z"
    },
    "papermill": {
     "duration": 0.119667,
     "end_time": "2023-12-01T06:15:49.704398",
     "exception": false,
     "start_time": "2023-12-01T06:15:49.584731",
     "status": "completed"
    },
    "tags": []
   },
   "outputs": [
    {
     "name": "stdout",
     "output_type": "stream",
     "text": [
      "<class 'pandas.core.frame.DataFrame'>\n",
      "RangeIndex: 8693 entries, 0 to 8692\n",
      "Data columns (total 14 columns):\n",
      " #   Column        Non-Null Count  Dtype  \n",
      "---  ------        --------------  -----  \n",
      " 0   PassengerId   8693 non-null   object \n",
      " 1   HomePlanet    8492 non-null   object \n",
      " 2   CryoSleep     8476 non-null   object \n",
      " 3   Cabin         8494 non-null   object \n",
      " 4   Destination   8511 non-null   object \n",
      " 5   Age           8514 non-null   float64\n",
      " 6   VIP           8490 non-null   object \n",
      " 7   RoomService   8512 non-null   float64\n",
      " 8   FoodCourt     8510 non-null   float64\n",
      " 9   ShoppingMall  8485 non-null   float64\n",
      " 10  Spa           8510 non-null   float64\n",
      " 11  VRDeck        8505 non-null   float64\n",
      " 12  Name          8493 non-null   object \n",
      " 13  Transported   8693 non-null   bool   \n",
      "dtypes: bool(1), float64(6), object(7)\n",
      "memory usage: 891.5+ KB\n"
     ]
    }
   ],
   "source": [
    "df = pd.read_csv(\"/kaggle/input/spaceship-titanic/train.csv\")\n",
    "df.info()"
   ]
  },
  {
   "cell_type": "code",
   "execution_count": 3,
   "id": "1acd0db4",
   "metadata": {
    "execution": {
     "iopub.execute_input": "2023-12-01T06:15:49.734320Z",
     "iopub.status.busy": "2023-12-01T06:15:49.733841Z",
     "iopub.status.idle": "2023-12-01T06:15:49.803184Z",
     "shell.execute_reply": "2023-12-01T06:15:49.801978Z"
    },
    "papermill": {
     "duration": 0.087492,
     "end_time": "2023-12-01T06:15:49.805852",
     "exception": false,
     "start_time": "2023-12-01T06:15:49.718360",
     "status": "completed"
    },
    "tags": []
   },
   "outputs": [
    {
     "name": "stdout",
     "output_type": "stream",
     "text": [
      "<class 'pandas.core.frame.DataFrame'>\n",
      "RangeIndex: 8693 entries, 0 to 8692\n",
      "Data columns (total 14 columns):\n",
      " #   Column        Non-Null Count  Dtype  \n",
      "---  ------        --------------  -----  \n",
      " 0   PassengerId   8693 non-null   object \n",
      " 1   HomePlanet    8492 non-null   float64\n",
      " 2   CryoSleep     8476 non-null   float64\n",
      " 3   Cabin         8494 non-null   object \n",
      " 4   Destination   8511 non-null   float64\n",
      " 5   Age           8514 non-null   float64\n",
      " 6   VIP           8490 non-null   float64\n",
      " 7   RoomService   8512 non-null   float64\n",
      " 8   FoodCourt     8510 non-null   float64\n",
      " 9   ShoppingMall  8485 non-null   float64\n",
      " 10  Spa           8510 non-null   float64\n",
      " 11  VRDeck        8505 non-null   float64\n",
      " 12  Name          8493 non-null   object \n",
      " 13  Transported   8693 non-null   int64  \n",
      "dtypes: float64(10), int64(1), object(3)\n",
      "memory usage: 950.9+ KB\n"
     ]
    }
   ],
   "source": [
    "#CryoSleep\n",
    "df['CryoSleep'] = df['CryoSleep'].replace({True: 1, False: 0})\n",
    "#Transported\n",
    "df['Transported'] = df['Transported'].replace({True: 1, False: 0})\n",
    "#HomePlanet\n",
    "df['HomePlanet'].replace('Earth', 1, inplace=True)\n",
    "df['HomePlanet'].replace('Europa', 2, inplace=True)\n",
    "df['HomePlanet'].replace('Mars', 3, inplace=True)\n",
    "#Destination\n",
    "df['Destination'].replace('55 Cancri e', 1, inplace=True)\n",
    "df['Destination'].replace('PSO J318.5-22', 2, inplace=True)\n",
    "df['Destination'].replace('TRAPPIST-1e', 3, inplace=True)\n",
    "\n",
    "#Vip\n",
    "df['VIP'] = df['VIP'].replace({True: 1, False: 0})\n",
    "\n",
    "df.info()"
   ]
  },
  {
   "cell_type": "markdown",
   "id": "b0277ce5",
   "metadata": {
    "papermill": {
     "duration": 0.013599,
     "end_time": "2023-12-01T06:15:49.833802",
     "exception": false,
     "start_time": "2023-12-01T06:15:49.820203",
     "status": "completed"
    },
    "tags": []
   },
   "source": [
    "HomePlanet: {'Earth', 'Europa', 'Mars', nan}\n",
    "{1,2,3,4}"
   ]
  },
  {
   "cell_type": "markdown",
   "id": "6ad2a230",
   "metadata": {
    "papermill": {
     "duration": 0.014224,
     "end_time": "2023-12-01T06:15:49.862028",
     "exception": false,
     "start_time": "2023-12-01T06:15:49.847804",
     "status": "completed"
    },
    "tags": []
   },
   "source": [
    "Destination: {'55 Cancri e', 'PSO J318.5-22', 'TRAPPIST-1e', nan}\n",
    "{1,2,3,4}"
   ]
  },
  {
   "cell_type": "markdown",
   "id": "7488af07",
   "metadata": {
    "papermill": {
     "duration": 0.013637,
     "end_time": "2023-12-01T06:15:49.890016",
     "exception": false,
     "start_time": "2023-12-01T06:15:49.876379",
     "status": "completed"
    },
    "tags": []
   },
   "source": [
    "letter_to_int = {'A': 1, 'B': 2, 'C': 3, 'D': 4, 'E': 5, 'F': 6, 'G': 7, 'H': 8, 'I': 9, 'J': 10}"
   ]
  },
  {
   "cell_type": "markdown",
   "id": "8f187474",
   "metadata": {
    "papermill": {
     "duration": 0.013806,
     "end_time": "2023-12-01T06:15:49.917713",
     "exception": false,
     "start_time": "2023-12-01T06:15:49.903907",
     "status": "completed"
    },
    "tags": []
   },
   "source": [
    "Now we have 11 attribute to work with and they all are numeric\n"
   ]
  },
  {
   "cell_type": "markdown",
   "id": "d24c0550",
   "metadata": {
    "papermill": {
     "duration": 0.013538,
     "end_time": "2023-12-01T06:15:49.945209",
     "exception": false,
     "start_time": "2023-12-01T06:15:49.931671",
     "status": "completed"
    },
    "tags": []
   },
   "source": [
    "Now We can go to filling every null and nan cell in our dataframe"
   ]
  },
  {
   "cell_type": "code",
   "execution_count": 4,
   "id": "b3c38ac4",
   "metadata": {
    "execution": {
     "iopub.execute_input": "2023-12-01T06:15:49.976890Z",
     "iopub.status.busy": "2023-12-01T06:15:49.976053Z",
     "iopub.status.idle": "2023-12-01T06:15:50.016735Z",
     "shell.execute_reply": "2023-12-01T06:15:50.015291Z"
    },
    "papermill": {
     "duration": 0.060062,
     "end_time": "2023-12-01T06:15:50.019413",
     "exception": false,
     "start_time": "2023-12-01T06:15:49.959351",
     "status": "completed"
    },
    "tags": []
   },
   "outputs": [
    {
     "name": "stdout",
     "output_type": "stream",
     "text": [
      "<class 'pandas.core.frame.DataFrame'>\n",
      "RangeIndex: 8693 entries, 0 to 8692\n",
      "Data columns (total 14 columns):\n",
      " #   Column        Non-Null Count  Dtype  \n",
      "---  ------        --------------  -----  \n",
      " 0   PassengerId   8693 non-null   object \n",
      " 1   HomePlanet    8693 non-null   float64\n",
      " 2   CryoSleep     8693 non-null   int64  \n",
      " 3   Cabin         8693 non-null   object \n",
      " 4   Destination   8693 non-null   float64\n",
      " 5   Age           8693 non-null   int64  \n",
      " 6   VIP           8693 non-null   int64  \n",
      " 7   RoomService   8693 non-null   float64\n",
      " 8   FoodCourt     8693 non-null   float64\n",
      " 9   ShoppingMall  8693 non-null   float64\n",
      " 10  Spa           8693 non-null   float64\n",
      " 11  VRDeck        8693 non-null   float64\n",
      " 12  Name          8493 non-null   object \n",
      " 13  Transported   8693 non-null   int64  \n",
      "dtypes: float64(7), int64(4), object(3)\n",
      "memory usage: 950.9+ KB\n"
     ]
    }
   ],
   "source": [
    "df[\"HomePlanet\"].fillna(df[\"HomePlanet\"].mode()[0],inplace=True)\n",
    "df[\"Destination\"].fillna(df[\"Destination\"].mode()[0],inplace=True)\n",
    "df[\"CryoSleep\"].fillna(df[\"CryoSleep\"].mode()[0],inplace=True)\n",
    "df[\"Cabin\"].fillna(df[\"Cabin\"].mode()[0],inplace=True)\n",
    "df[\"VIP\"].fillna(df[\"VIP\"].mode()[0],inplace=True)\n",
    "df[\"Age\"].fillna(int(df[\"Age\"].mean()),inplace=True)\n",
    "df[\"RoomService\"].fillna(df[\"RoomService\"].median(),inplace=True)\n",
    "df[\"FoodCourt\"].fillna(df[\"FoodCourt\"].median(),inplace=True)\n",
    "df[\"ShoppingMall\"].fillna(df[\"ShoppingMall\"].median(),inplace=True)\n",
    "df[\"Spa\"].fillna(df[\"Spa\"].median(),inplace=True)\n",
    "df[\"VRDeck\"].fillna(df[\"VRDeck\"].median(),inplace=True)\n",
    "df.Age = np.where(df.Age > 15 ,1,0)\n",
    "df.VIP = np.where(df.VIP,1,0)\n",
    "\n",
    "df.CryoSleep = np.where(df.CryoSleep,1,0)\n",
    "#No Nan, Null or empty cell\n",
    "df.info()"
   ]
  },
  {
   "cell_type": "code",
   "execution_count": 5,
   "id": "fb0a0256",
   "metadata": {
    "execution": {
     "iopub.execute_input": "2023-12-01T06:15:50.050873Z",
     "iopub.status.busy": "2023-12-01T06:15:50.050299Z",
     "iopub.status.idle": "2023-12-01T06:15:50.144410Z",
     "shell.execute_reply": "2023-12-01T06:15:50.143173Z"
    },
    "papermill": {
     "duration": 0.113983,
     "end_time": "2023-12-01T06:15:50.147582",
     "exception": false,
     "start_time": "2023-12-01T06:15:50.033599",
     "status": "completed"
    },
    "tags": []
   },
   "outputs": [
    {
     "data": {
      "text/html": [
       "<div>\n",
       "<style scoped>\n",
       "    .dataframe tbody tr th:only-of-type {\n",
       "        vertical-align: middle;\n",
       "    }\n",
       "\n",
       "    .dataframe tbody tr th {\n",
       "        vertical-align: top;\n",
       "    }\n",
       "\n",
       "    .dataframe thead th {\n",
       "        text-align: right;\n",
       "    }\n",
       "</style>\n",
       "<table border=\"1\" class=\"dataframe\">\n",
       "  <thead>\n",
       "    <tr style=\"text-align: right;\">\n",
       "      <th></th>\n",
       "      <th>PassengerId</th>\n",
       "      <th>HomePlanet</th>\n",
       "      <th>CryoSleep</th>\n",
       "      <th>Cabin</th>\n",
       "      <th>Destination</th>\n",
       "      <th>Age</th>\n",
       "      <th>VIP</th>\n",
       "      <th>RoomService</th>\n",
       "      <th>FoodCourt</th>\n",
       "      <th>ShoppingMall</th>\n",
       "      <th>Spa</th>\n",
       "      <th>VRDeck</th>\n",
       "      <th>Name</th>\n",
       "      <th>Transported</th>\n",
       "      <th>Port</th>\n",
       "      <th>Place</th>\n",
       "    </tr>\n",
       "  </thead>\n",
       "  <tbody>\n",
       "    <tr>\n",
       "      <th>0</th>\n",
       "      <td>0001_01</td>\n",
       "      <td>2.0</td>\n",
       "      <td>0</td>\n",
       "      <td>0</td>\n",
       "      <td>3.0</td>\n",
       "      <td>1</td>\n",
       "      <td>0</td>\n",
       "      <td>0.0</td>\n",
       "      <td>0.0</td>\n",
       "      <td>0.0</td>\n",
       "      <td>0.0</td>\n",
       "      <td>0.0</td>\n",
       "      <td>Maham Ofracculy</td>\n",
       "      <td>0</td>\n",
       "      <td>1</td>\n",
       "      <td>2</td>\n",
       "    </tr>\n",
       "    <tr>\n",
       "      <th>1</th>\n",
       "      <td>0002_01</td>\n",
       "      <td>1.0</td>\n",
       "      <td>0</td>\n",
       "      <td>0</td>\n",
       "      <td>3.0</td>\n",
       "      <td>1</td>\n",
       "      <td>0</td>\n",
       "      <td>109.0</td>\n",
       "      <td>9.0</td>\n",
       "      <td>25.0</td>\n",
       "      <td>549.0</td>\n",
       "      <td>44.0</td>\n",
       "      <td>Juanna Vines</td>\n",
       "      <td>1</td>\n",
       "      <td>0</td>\n",
       "      <td>6</td>\n",
       "    </tr>\n",
       "    <tr>\n",
       "      <th>2</th>\n",
       "      <td>0003_01</td>\n",
       "      <td>2.0</td>\n",
       "      <td>0</td>\n",
       "      <td>0</td>\n",
       "      <td>3.0</td>\n",
       "      <td>1</td>\n",
       "      <td>1</td>\n",
       "      <td>43.0</td>\n",
       "      <td>3576.0</td>\n",
       "      <td>0.0</td>\n",
       "      <td>6715.0</td>\n",
       "      <td>49.0</td>\n",
       "      <td>Altark Susent</td>\n",
       "      <td>0</td>\n",
       "      <td>0</td>\n",
       "      <td>1</td>\n",
       "    </tr>\n",
       "  </tbody>\n",
       "</table>\n",
       "</div>"
      ],
      "text/plain": [
       "  PassengerId  HomePlanet  CryoSleep Cabin  Destination  Age  VIP  \\\n",
       "0     0001_01         2.0          0     0          3.0    1    0   \n",
       "1     0002_01         1.0          0     0          3.0    1    0   \n",
       "2     0003_01         2.0          0     0          3.0    1    1   \n",
       "\n",
       "   RoomService  FoodCourt  ShoppingMall     Spa  VRDeck             Name  \\\n",
       "0          0.0        0.0           0.0     0.0     0.0  Maham Ofracculy   \n",
       "1        109.0        9.0          25.0   549.0    44.0     Juanna Vines   \n",
       "2         43.0     3576.0           0.0  6715.0    49.0    Altark Susent   \n",
       "\n",
       "   Transported  Port  Place  \n",
       "0            0     1      2  \n",
       "1            1     0      6  \n",
       "2            0     0      1  "
      ]
     },
     "execution_count": 5,
     "metadata": {},
     "output_type": "execute_result"
    }
   ],
   "source": [
    "#Port or Starboard of the cabins\n",
    "df['Port'] = df['Cabin'].str.split('/').str[-1]\n",
    "df['Port'].replace('S', 0, inplace=True)\n",
    "df['Port'].replace('P', 1, inplace=True)\n",
    "\n",
    "#Class of the cabins\n",
    "df['Place'] = df['Cabin'].str.split('/').str[0]\n",
    "letter_to_int = {'A': 1, 'B': 2, 'C': 3, 'D': 4, 'E': 5, 'F': 6, 'G': 7, 'T': 8}\n",
    "df['Place'] = df['Place'].map(letter_to_int)\n",
    "\n",
    "\n",
    "#Number of cabins\n",
    "df['Cabin'] = df['Cabin'].str.split('/').str[1]\n",
    "df.head(3)"
   ]
  },
  {
   "cell_type": "code",
   "execution_count": 6,
   "id": "cbb0270b",
   "metadata": {
    "execution": {
     "iopub.execute_input": "2023-12-01T06:15:50.179419Z",
     "iopub.status.busy": "2023-12-01T06:15:50.178943Z",
     "iopub.status.idle": "2023-12-01T06:15:50.221554Z",
     "shell.execute_reply": "2023-12-01T06:15:50.220174Z"
    },
    "papermill": {
     "duration": 0.061756,
     "end_time": "2023-12-01T06:15:50.224178",
     "exception": false,
     "start_time": "2023-12-01T06:15:50.162422",
     "status": "completed"
    },
    "tags": []
   },
   "outputs": [
    {
     "data": {
      "text/html": [
       "<div>\n",
       "<style scoped>\n",
       "    .dataframe tbody tr th:only-of-type {\n",
       "        vertical-align: middle;\n",
       "    }\n",
       "\n",
       "    .dataframe tbody tr th {\n",
       "        vertical-align: top;\n",
       "    }\n",
       "\n",
       "    .dataframe thead th {\n",
       "        text-align: right;\n",
       "    }\n",
       "</style>\n",
       "<table border=\"1\" class=\"dataframe\">\n",
       "  <thead>\n",
       "    <tr style=\"text-align: right;\">\n",
       "      <th></th>\n",
       "      <th>PassengerId</th>\n",
       "      <th>HomePlanet</th>\n",
       "      <th>CryoSleep</th>\n",
       "      <th>Cabin</th>\n",
       "      <th>Destination</th>\n",
       "      <th>Age</th>\n",
       "      <th>VIP</th>\n",
       "      <th>RoomService</th>\n",
       "      <th>FoodCourt</th>\n",
       "      <th>ShoppingMall</th>\n",
       "      <th>Spa</th>\n",
       "      <th>VRDeck</th>\n",
       "      <th>Name</th>\n",
       "      <th>Transported</th>\n",
       "      <th>Port</th>\n",
       "      <th>Place</th>\n",
       "    </tr>\n",
       "  </thead>\n",
       "  <tbody>\n",
       "    <tr>\n",
       "      <th>0</th>\n",
       "      <td>0001_01</td>\n",
       "      <td>2</td>\n",
       "      <td>0</td>\n",
       "      <td>0</td>\n",
       "      <td>3</td>\n",
       "      <td>1</td>\n",
       "      <td>0</td>\n",
       "      <td>0.0</td>\n",
       "      <td>0.0</td>\n",
       "      <td>0.0</td>\n",
       "      <td>0.0</td>\n",
       "      <td>0.0</td>\n",
       "      <td>Maham Ofracculy</td>\n",
       "      <td>0</td>\n",
       "      <td>1</td>\n",
       "      <td>2</td>\n",
       "    </tr>\n",
       "    <tr>\n",
       "      <th>1</th>\n",
       "      <td>0002_01</td>\n",
       "      <td>1</td>\n",
       "      <td>0</td>\n",
       "      <td>0</td>\n",
       "      <td>3</td>\n",
       "      <td>1</td>\n",
       "      <td>0</td>\n",
       "      <td>109.0</td>\n",
       "      <td>9.0</td>\n",
       "      <td>25.0</td>\n",
       "      <td>549.0</td>\n",
       "      <td>44.0</td>\n",
       "      <td>Juanna Vines</td>\n",
       "      <td>1</td>\n",
       "      <td>0</td>\n",
       "      <td>6</td>\n",
       "    </tr>\n",
       "    <tr>\n",
       "      <th>2</th>\n",
       "      <td>0003_01</td>\n",
       "      <td>2</td>\n",
       "      <td>0</td>\n",
       "      <td>0</td>\n",
       "      <td>3</td>\n",
       "      <td>1</td>\n",
       "      <td>1</td>\n",
       "      <td>43.0</td>\n",
       "      <td>3576.0</td>\n",
       "      <td>0.0</td>\n",
       "      <td>6715.0</td>\n",
       "      <td>49.0</td>\n",
       "      <td>Altark Susent</td>\n",
       "      <td>0</td>\n",
       "      <td>0</td>\n",
       "      <td>1</td>\n",
       "    </tr>\n",
       "    <tr>\n",
       "      <th>3</th>\n",
       "      <td>0003_02</td>\n",
       "      <td>2</td>\n",
       "      <td>0</td>\n",
       "      <td>0</td>\n",
       "      <td>3</td>\n",
       "      <td>1</td>\n",
       "      <td>0</td>\n",
       "      <td>0.0</td>\n",
       "      <td>1283.0</td>\n",
       "      <td>371.0</td>\n",
       "      <td>3329.0</td>\n",
       "      <td>193.0</td>\n",
       "      <td>Solam Susent</td>\n",
       "      <td>0</td>\n",
       "      <td>0</td>\n",
       "      <td>1</td>\n",
       "    </tr>\n",
       "    <tr>\n",
       "      <th>4</th>\n",
       "      <td>0004_01</td>\n",
       "      <td>1</td>\n",
       "      <td>0</td>\n",
       "      <td>1</td>\n",
       "      <td>3</td>\n",
       "      <td>1</td>\n",
       "      <td>0</td>\n",
       "      <td>303.0</td>\n",
       "      <td>70.0</td>\n",
       "      <td>151.0</td>\n",
       "      <td>565.0</td>\n",
       "      <td>2.0</td>\n",
       "      <td>Willy Santantines</td>\n",
       "      <td>1</td>\n",
       "      <td>0</td>\n",
       "      <td>6</td>\n",
       "    </tr>\n",
       "  </tbody>\n",
       "</table>\n",
       "</div>"
      ],
      "text/plain": [
       "  PassengerId  HomePlanet  CryoSleep  Cabin  Destination  Age  VIP  \\\n",
       "0     0001_01           2          0      0            3    1    0   \n",
       "1     0002_01           1          0      0            3    1    0   \n",
       "2     0003_01           2          0      0            3    1    1   \n",
       "3     0003_02           2          0      0            3    1    0   \n",
       "4     0004_01           1          0      1            3    1    0   \n",
       "\n",
       "   RoomService  FoodCourt  ShoppingMall     Spa  VRDeck               Name  \\\n",
       "0          0.0        0.0           0.0     0.0     0.0    Maham Ofracculy   \n",
       "1        109.0        9.0          25.0   549.0    44.0       Juanna Vines   \n",
       "2         43.0     3576.0           0.0  6715.0    49.0      Altark Susent   \n",
       "3          0.0     1283.0         371.0  3329.0   193.0       Solam Susent   \n",
       "4        303.0       70.0         151.0   565.0     2.0  Willy Santantines   \n",
       "\n",
       "   Transported  Port  Place  \n",
       "0            0     1      2  \n",
       "1            1     0      6  \n",
       "2            0     0      1  \n",
       "3            0     0      1  \n",
       "4            1     0      6  "
      ]
     },
     "execution_count": 6,
     "metadata": {},
     "output_type": "execute_result"
    }
   ],
   "source": [
    "df[['HomePlanet', 'CryoSleep', 'Cabin', 'Destination', 'Age', 'VIP', 'Port', 'Place']] = df[['HomePlanet', 'CryoSleep','Cabin', 'Destination', 'Age', 'VIP', 'Port', 'Place']].astype('Int64')\n",
    "df.head()"
   ]
  },
  {
   "cell_type": "code",
   "execution_count": 7,
   "id": "5fecc929",
   "metadata": {
    "execution": {
     "iopub.execute_input": "2023-12-01T06:15:50.256390Z",
     "iopub.status.busy": "2023-12-01T06:15:50.255955Z",
     "iopub.status.idle": "2023-12-01T06:15:50.261792Z",
     "shell.execute_reply": "2023-12-01T06:15:50.260501Z"
    },
    "papermill": {
     "duration": 0.025652,
     "end_time": "2023-12-01T06:15:50.264534",
     "exception": false,
     "start_time": "2023-12-01T06:15:50.238882",
     "status": "completed"
    },
    "tags": []
   },
   "outputs": [],
   "source": [
    "# Apply square root transformation\n",
    "# df['RoomService'] = df['RoomService']**0.5\n",
    "# df['FoodCourt'] = df['FoodCourt']**0.5\n",
    "# df['ShoppingMall'] = df['ShoppingMall']**0.5\n",
    "# df['Spa'] = df['Spa']**0.5\n",
    "# df['VRDeck'] = df['VRDeck']**0.5\n",
    "# df.head(3)"
   ]
  },
  {
   "cell_type": "code",
   "execution_count": 8,
   "id": "1d3ff9fb",
   "metadata": {
    "execution": {
     "iopub.execute_input": "2023-12-01T06:15:50.296542Z",
     "iopub.status.busy": "2023-12-01T06:15:50.296140Z",
     "iopub.status.idle": "2023-12-01T06:15:50.301585Z",
     "shell.execute_reply": "2023-12-01T06:15:50.300382Z"
    },
    "papermill": {
     "duration": 0.024734,
     "end_time": "2023-12-01T06:15:50.304368",
     "exception": false,
     "start_time": "2023-12-01T06:15:50.279634",
     "status": "completed"
    },
    "tags": []
   },
   "outputs": [],
   "source": [
    "# # # Apply log transformation\n",
    "# df['RoomService'] = np.log1p(df['RoomService'])\n",
    "# df['FoodCourt'] = np.log1p(df['FoodCourt'])\n",
    "# df['ShoppingMall'] = np.log1p(df['ShoppingMall'])\n",
    "# df['Spa'] = np.log1p(df['Spa'])\n",
    "# df['VRDeck'] = np.log1p(df['VRDeck'])\n",
    "# df.head(3)"
   ]
  },
  {
   "cell_type": "code",
   "execution_count": 9,
   "id": "65056a4f",
   "metadata": {
    "execution": {
     "iopub.execute_input": "2023-12-01T06:15:50.335505Z",
     "iopub.status.busy": "2023-12-01T06:15:50.335111Z",
     "iopub.status.idle": "2023-12-01T06:15:53.134023Z",
     "shell.execute_reply": "2023-12-01T06:15:53.133081Z"
    },
    "papermill": {
     "duration": 2.819505,
     "end_time": "2023-12-01T06:15:53.138505",
     "exception": false,
     "start_time": "2023-12-01T06:15:50.319000",
     "status": "completed"
    },
    "tags": []
   },
   "outputs": [
    {
     "data": {
      "text/plain": [
       "<Axes: >"
      ]
     },
     "execution_count": 9,
     "metadata": {},
     "output_type": "execute_result"
    },
    {
     "data": {
      "image/png": "[encoded data removed]",
      "text/plain": [
       "<Figure size 640x480 with 2 Axes>"
      ]
     },
     "metadata": {},
     "output_type": "display_data"
    }
   ],
   "source": [
    "import seaborn as sb\n",
    "df_num = df.select_dtypes(include=['float64', 'int64'])\n",
    "\n",
    "# Calculate the correlations of numerical columns\n",
    "corr = df_num.corr()\n",
    "\n",
    "sb.heatmap(corr, annot=True)"
   ]
  },
  {
   "cell_type": "code",
   "execution_count": 10,
   "id": "6ff29244",
   "metadata": {
    "execution": {
     "iopub.execute_input": "2023-12-01T06:15:53.177189Z",
     "iopub.status.busy": "2023-12-01T06:15:53.176265Z",
     "iopub.status.idle": "2023-12-01T06:15:53.180899Z",
     "shell.execute_reply": "2023-12-01T06:15:53.180086Z"
    },
    "papermill": {
     "duration": 0.025823,
     "end_time": "2023-12-01T06:15:53.183112",
     "exception": false,
     "start_time": "2023-12-01T06:15:53.157289",
     "status": "completed"
    },
    "tags": []
   },
   "outputs": [],
   "source": [
    "# # Apply binning\n",
    "# df['RoomService'] = pd.qcut(df['RoomService'], q=4)\n",
    "# df['FoodCourt'] = pd.qcut(df['FoodCourt'], q=4)\n",
    "# df['ShoppingMall'] = pd.qcut(df['ShoppingMall'], q=4)\n",
    "# df['Spa'] = pd.qcut(df['Spa'], q=4)\n",
    "# df['VRDeck'] = pd.qcut(df['VRDeck'], q=4)"
   ]
  },
  {
   "cell_type": "code",
   "execution_count": 11,
   "id": "87150796",
   "metadata": {
    "execution": {
     "iopub.execute_input": "2023-12-01T06:15:53.219956Z",
     "iopub.status.busy": "2023-12-01T06:15:53.219571Z",
     "iopub.status.idle": "2023-12-01T06:15:53.225020Z",
     "shell.execute_reply": "2023-12-01T06:15:53.223737Z"
    },
    "papermill": {
     "duration": 0.026659,
     "end_time": "2023-12-01T06:15:53.227487",
     "exception": false,
     "start_time": "2023-12-01T06:15:53.200828",
     "status": "completed"
    },
    "tags": []
   },
   "outputs": [],
   "source": [
    "#print('cryo Taransported: ', sum(df[df.CryoSleep == 1].Transported), 'transported: ',sum(df.Transported))\n",
    "# # Calculate mean\n",
    "# df['Mean_luxury'] = df[['RoomService', 'FoodCourt', 'ShoppingMall', 'Spa', 'VRDeck']].mean(axis=1)\n",
    "\n",
    "# df = df.drop(columns=['RoomService', 'FoodCourt', 'ShoppingMall', 'Spa', 'VRDeck'])\n",
    "\n",
    "# df['BigSpender'] = np.where(df.Mean_luxury > 1000, 1,0)\n",
    "# df['Mid_Spender'] = np.where(df.Mean_luxury >= 500, 1,0)\n",
    "# df['Non_Spender'] = np.where(df.Mean_luxury == 0, 1,0)\n",
    "# df.head(3)"
   ]
  },
  {
   "cell_type": "markdown",
   "id": "7b217917",
   "metadata": {
    "papermill": {
     "duration": 0.017587,
     "end_time": "2023-12-01T06:15:53.262464",
     "exception": false,
     "start_time": "2023-12-01T06:15:53.244877",
     "status": "completed"
    },
    "tags": []
   },
   "source": [
    "{1:'55 Cancri e', 2:'PSO J318.5-22', 3:'TRAPPIST-1e'}\n",
    "{1:'Earth', 2:'Europa', 3:'Mars'}\n",
    "<<<<<HomePlanet to Destination>>>>\n",
    "1 to 1 >>> 721\n",
    "1 to 2 >>> 728\n",
    "1 to 3 >>> 3354\n",
    "--------------    \n",
    "2 to 1 >>> 193\n",
    "2 to 2 >>> 49\n",
    "2 to 3 >>> 1517\n",
    "-------------- \n",
    "3 to 1 >>> 886\n",
    "3 to 2 >>> 19\n",
    "3 to 3 >>> 1226\n",
    "-------------- "
   ]
  },
  {
   "cell_type": "code",
   "execution_count": 12,
   "id": "776e0100",
   "metadata": {
    "execution": {
     "iopub.execute_input": "2023-12-01T06:15:53.391205Z",
     "iopub.status.busy": "2023-12-01T06:15:53.390423Z",
     "iopub.status.idle": "2023-12-01T06:15:53.394890Z",
     "shell.execute_reply": "2023-12-01T06:15:53.393764Z"
    },
    "papermill": {
     "duration": 0.02649,
     "end_time": "2023-12-01T06:15:53.397415",
     "exception": false,
     "start_time": "2023-12-01T06:15:53.370925",
     "status": "completed"
    },
    "tags": []
   },
   "outputs": [],
   "source": [
    "#print(sum(df[df.HomePlanet == 1].Transported),sum(df.HomePlanet == 1))\n",
    "# sum(df[df.CryoSleep == 1].VIP)"
   ]
  },
  {
   "cell_type": "code",
   "execution_count": 13,
   "id": "ed030908",
   "metadata": {
    "execution": {
     "iopub.execute_input": "2023-12-01T06:15:53.434769Z",
     "iopub.status.busy": "2023-12-01T06:15:53.434341Z",
     "iopub.status.idle": "2023-12-01T06:15:53.438934Z",
     "shell.execute_reply": "2023-12-01T06:15:53.438137Z"
    },
    "papermill": {
     "duration": 0.026065,
     "end_time": "2023-12-01T06:15:53.441050",
     "exception": false,
     "start_time": "2023-12-01T06:15:53.414985",
     "status": "completed"
    },
    "tags": []
   },
   "outputs": [],
   "source": [
    "# print('Slept and didnt spend: ',sum(df[df.CryoSleep == 1].Non_Spender),'All that Slept: ',sum(df.CryoSleep),'All Non-Speders: ',sum(df.Non_Spender))"
   ]
  },
  {
   "cell_type": "code",
   "execution_count": 14,
   "id": "2f29942e",
   "metadata": {
    "execution": {
     "iopub.execute_input": "2023-12-01T06:15:53.479778Z",
     "iopub.status.busy": "2023-12-01T06:15:53.479039Z",
     "iopub.status.idle": "2023-12-01T06:15:53.483830Z",
     "shell.execute_reply": "2023-12-01T06:15:53.483008Z"
    },
    "papermill": {
     "duration": 0.026354,
     "end_time": "2023-12-01T06:15:53.486005",
     "exception": false,
     "start_time": "2023-12-01T06:15:53.459651",
     "status": "completed"
    },
    "tags": []
   },
   "outputs": [],
   "source": [
    "# ids_groups = np.array([i.split(\"_\") for i in df.PassengerId.values])\n",
    "# unique_groups = np.unique(ids_groups[:,0])\n",
    "# group_status = dict()\n",
    "# for i in unique_groups:\n",
    "#     passeng = ids_groups[ids_groups[:,0]==i]\n",
    "#     for j in range(len(passeng)):\n",
    "#         group_status[\"_\".join(passeng[j])]=int(len(passeng)>1)"
   ]
  },
  {
   "cell_type": "code",
   "execution_count": 15,
   "id": "7dd47570",
   "metadata": {
    "execution": {
     "iopub.execute_input": "2023-12-01T06:15:53.523573Z",
     "iopub.status.busy": "2023-12-01T06:15:53.522930Z",
     "iopub.status.idle": "2023-12-01T06:15:53.556070Z",
     "shell.execute_reply": "2023-12-01T06:15:53.555126Z"
    },
    "papermill": {
     "duration": 0.05465,
     "end_time": "2023-12-01T06:15:53.558445",
     "exception": false,
     "start_time": "2023-12-01T06:15:53.503795",
     "status": "completed"
    },
    "tags": []
   },
   "outputs": [
    {
     "data": {
      "text/html": [
       "<div>\n",
       "<style scoped>\n",
       "    .dataframe tbody tr th:only-of-type {\n",
       "        vertical-align: middle;\n",
       "    }\n",
       "\n",
       "    .dataframe tbody tr th {\n",
       "        vertical-align: top;\n",
       "    }\n",
       "\n",
       "    .dataframe thead th {\n",
       "        text-align: right;\n",
       "    }\n",
       "</style>\n",
       "<table border=\"1\" class=\"dataframe\">\n",
       "  <thead>\n",
       "    <tr style=\"text-align: right;\">\n",
       "      <th></th>\n",
       "      <th>PassengerId</th>\n",
       "      <th>HomePlanet</th>\n",
       "      <th>CryoSleep</th>\n",
       "      <th>Cabin</th>\n",
       "      <th>Destination</th>\n",
       "      <th>Age</th>\n",
       "      <th>VIP</th>\n",
       "      <th>RoomService</th>\n",
       "      <th>FoodCourt</th>\n",
       "      <th>ShoppingMall</th>\n",
       "      <th>Spa</th>\n",
       "      <th>VRDeck</th>\n",
       "      <th>Name</th>\n",
       "      <th>Transported</th>\n",
       "      <th>Port</th>\n",
       "      <th>Place</th>\n",
       "      <th>GroupId</th>\n",
       "    </tr>\n",
       "  </thead>\n",
       "  <tbody>\n",
       "    <tr>\n",
       "      <th>0</th>\n",
       "      <td>0001_01</td>\n",
       "      <td>2</td>\n",
       "      <td>0</td>\n",
       "      <td>0</td>\n",
       "      <td>3</td>\n",
       "      <td>1</td>\n",
       "      <td>0</td>\n",
       "      <td>0.0</td>\n",
       "      <td>0.0</td>\n",
       "      <td>0.0</td>\n",
       "      <td>0.0</td>\n",
       "      <td>0.0</td>\n",
       "      <td>Maham Ofracculy</td>\n",
       "      <td>0</td>\n",
       "      <td>1</td>\n",
       "      <td>2</td>\n",
       "      <td>0</td>\n",
       "    </tr>\n",
       "    <tr>\n",
       "      <th>1</th>\n",
       "      <td>0002_01</td>\n",
       "      <td>1</td>\n",
       "      <td>0</td>\n",
       "      <td>0</td>\n",
       "      <td>3</td>\n",
       "      <td>1</td>\n",
       "      <td>0</td>\n",
       "      <td>109.0</td>\n",
       "      <td>9.0</td>\n",
       "      <td>25.0</td>\n",
       "      <td>549.0</td>\n",
       "      <td>44.0</td>\n",
       "      <td>Juanna Vines</td>\n",
       "      <td>1</td>\n",
       "      <td>0</td>\n",
       "      <td>6</td>\n",
       "      <td>1</td>\n",
       "    </tr>\n",
       "    <tr>\n",
       "      <th>2</th>\n",
       "      <td>0003_01</td>\n",
       "      <td>2</td>\n",
       "      <td>0</td>\n",
       "      <td>0</td>\n",
       "      <td>3</td>\n",
       "      <td>1</td>\n",
       "      <td>1</td>\n",
       "      <td>43.0</td>\n",
       "      <td>3576.0</td>\n",
       "      <td>0.0</td>\n",
       "      <td>6715.0</td>\n",
       "      <td>49.0</td>\n",
       "      <td>Altark Susent</td>\n",
       "      <td>0</td>\n",
       "      <td>0</td>\n",
       "      <td>1</td>\n",
       "      <td>2</td>\n",
       "    </tr>\n",
       "    <tr>\n",
       "      <th>3</th>\n",
       "      <td>0003_02</td>\n",
       "      <td>2</td>\n",
       "      <td>0</td>\n",
       "      <td>0</td>\n",
       "      <td>3</td>\n",
       "      <td>1</td>\n",
       "      <td>0</td>\n",
       "      <td>0.0</td>\n",
       "      <td>1283.0</td>\n",
       "      <td>371.0</td>\n",
       "      <td>3329.0</td>\n",
       "      <td>193.0</td>\n",
       "      <td>Solam Susent</td>\n",
       "      <td>0</td>\n",
       "      <td>0</td>\n",
       "      <td>1</td>\n",
       "      <td>2</td>\n",
       "    </tr>\n",
       "    <tr>\n",
       "      <th>4</th>\n",
       "      <td>0004_01</td>\n",
       "      <td>1</td>\n",
       "      <td>0</td>\n",
       "      <td>1</td>\n",
       "      <td>3</td>\n",
       "      <td>1</td>\n",
       "      <td>0</td>\n",
       "      <td>303.0</td>\n",
       "      <td>70.0</td>\n",
       "      <td>151.0</td>\n",
       "      <td>565.0</td>\n",
       "      <td>2.0</td>\n",
       "      <td>Willy Santantines</td>\n",
       "      <td>1</td>\n",
       "      <td>0</td>\n",
       "      <td>6</td>\n",
       "      <td>3</td>\n",
       "    </tr>\n",
       "  </tbody>\n",
       "</table>\n",
       "</div>"
      ],
      "text/plain": [
       "  PassengerId  HomePlanet  CryoSleep  Cabin  Destination  Age  VIP  \\\n",
       "0     0001_01           2          0      0            3    1    0   \n",
       "1     0002_01           1          0      0            3    1    0   \n",
       "2     0003_01           2          0      0            3    1    1   \n",
       "3     0003_02           2          0      0            3    1    0   \n",
       "4     0004_01           1          0      1            3    1    0   \n",
       "\n",
       "   RoomService  FoodCourt  ShoppingMall     Spa  VRDeck               Name  \\\n",
       "0          0.0        0.0           0.0     0.0     0.0    Maham Ofracculy   \n",
       "1        109.0        9.0          25.0   549.0    44.0       Juanna Vines   \n",
       "2         43.0     3576.0           0.0  6715.0    49.0      Altark Susent   \n",
       "3          0.0     1283.0         371.0  3329.0   193.0       Solam Susent   \n",
       "4        303.0       70.0         151.0   565.0     2.0  Willy Santantines   \n",
       "\n",
       "   Transported  Port  Place  GroupId  \n",
       "0            0     1      2        0  \n",
       "1            1     0      6        1  \n",
       "2            0     0      1        2  \n",
       "3            0     0      1        2  \n",
       "4            1     0      6        3  "
      ]
     },
     "execution_count": 15,
     "metadata": {},
     "output_type": "execute_result"
    }
   ],
   "source": [
    "#Lastnames and groups\n",
    "#lastNames = df['Name'].str.split(' ').str[-1]\n",
    "ids_groups = df['PassengerId'].apply(lambda x: x.split('_')[0])\n",
    "\n",
    "#df['FamilyId'] = pd.factorize(lastNames)[0]\n",
    "df['GroupId'] = pd.factorize(ids_groups)[0]\n",
    "df.head()"
   ]
  },
  {
   "cell_type": "code",
   "execution_count": 16,
   "id": "69526a40",
   "metadata": {
    "execution": {
     "iopub.execute_input": "2023-12-01T06:15:53.598611Z",
     "iopub.status.busy": "2023-12-01T06:15:53.597992Z",
     "iopub.status.idle": "2023-12-01T06:15:53.602302Z",
     "shell.execute_reply": "2023-12-01T06:15:53.601274Z"
    },
    "papermill": {
     "duration": 0.028139,
     "end_time": "2023-12-01T06:15:53.604622",
     "exception": false,
     "start_time": "2023-12-01T06:15:53.576483",
     "status": "completed"
    },
    "tags": []
   },
   "outputs": [],
   "source": [
    "# mids = sum(df[df.CryoSleep == 0].Non_Spender)\n",
    "# totalAwake = sum(df.CryoSleep == 0)\n",
    "# awakeTransported = sum(df[df.CryoSleep == 0].Transported)\n",
    "# awakeMidTransported = sum(df[(df['CryoSleep'] == 0) & (df['Age'] < 15))]['Transported'])\n",
    "# print(mids/totalAwake,awakeTransported/totalAwake, awakeMidTransported / totalAwake, awakeMidTransported / mids)\n",
    "# print(sum(df[df.Age < 15].CryoSleep == 0))"
   ]
  },
  {
   "cell_type": "code",
   "execution_count": 17,
   "id": "54a9fc6d",
   "metadata": {
    "execution": {
     "iopub.execute_input": "2023-12-01T06:15:53.642271Z",
     "iopub.status.busy": "2023-12-01T06:15:53.641802Z",
     "iopub.status.idle": "2023-12-01T06:15:53.646792Z",
     "shell.execute_reply": "2023-12-01T06:15:53.645684Z"
    },
    "papermill": {
     "duration": 0.027229,
     "end_time": "2023-12-01T06:15:53.649709",
     "exception": false,
     "start_time": "2023-12-01T06:15:53.622480",
     "status": "completed"
    },
    "tags": []
   },
   "outputs": [],
   "source": [
    "# age = 10\n",
    "# print('less than:',age,'years: ', sum(df[df.Age < age].Transported),sum(df.Age < age))\n",
    "# print('higher than:',age,'years: ', sum(df[df.Age > age].Transported),sum(df.Age > age))"
   ]
  },
  {
   "cell_type": "code",
   "execution_count": 18,
   "id": "976dd98f",
   "metadata": {
    "execution": {
     "iopub.execute_input": "2023-12-01T06:15:53.688569Z",
     "iopub.status.busy": "2023-12-01T06:15:53.688092Z",
     "iopub.status.idle": "2023-12-01T06:15:53.714259Z",
     "shell.execute_reply": "2023-12-01T06:15:53.713118Z"
    },
    "papermill": {
     "duration": 0.04883,
     "end_time": "2023-12-01T06:15:53.716806",
     "exception": false,
     "start_time": "2023-12-01T06:15:53.667976",
     "status": "completed"
    },
    "tags": []
   },
   "outputs": [
    {
     "data": {
      "text/html": [
       "<div>\n",
       "<style scoped>\n",
       "    .dataframe tbody tr th:only-of-type {\n",
       "        vertical-align: middle;\n",
       "    }\n",
       "\n",
       "    .dataframe tbody tr th {\n",
       "        vertical-align: top;\n",
       "    }\n",
       "\n",
       "    .dataframe thead th {\n",
       "        text-align: right;\n",
       "    }\n",
       "</style>\n",
       "<table border=\"1\" class=\"dataframe\">\n",
       "  <thead>\n",
       "    <tr style=\"text-align: right;\">\n",
       "      <th></th>\n",
       "      <th>HomePlanet</th>\n",
       "      <th>CryoSleep</th>\n",
       "      <th>Cabin</th>\n",
       "      <th>Destination</th>\n",
       "      <th>Age</th>\n",
       "      <th>VIP</th>\n",
       "      <th>RoomService</th>\n",
       "      <th>FoodCourt</th>\n",
       "      <th>ShoppingMall</th>\n",
       "      <th>Spa</th>\n",
       "      <th>VRDeck</th>\n",
       "      <th>Port</th>\n",
       "      <th>Place</th>\n",
       "      <th>GroupId</th>\n",
       "    </tr>\n",
       "  </thead>\n",
       "  <tbody>\n",
       "    <tr>\n",
       "      <th>0</th>\n",
       "      <td>2</td>\n",
       "      <td>0</td>\n",
       "      <td>0</td>\n",
       "      <td>3</td>\n",
       "      <td>1</td>\n",
       "      <td>0</td>\n",
       "      <td>0.0</td>\n",
       "      <td>0.0</td>\n",
       "      <td>0.0</td>\n",
       "      <td>0.0</td>\n",
       "      <td>0.0</td>\n",
       "      <td>1</td>\n",
       "      <td>2</td>\n",
       "      <td>0</td>\n",
       "    </tr>\n",
       "    <tr>\n",
       "      <th>1</th>\n",
       "      <td>1</td>\n",
       "      <td>0</td>\n",
       "      <td>0</td>\n",
       "      <td>3</td>\n",
       "      <td>1</td>\n",
       "      <td>0</td>\n",
       "      <td>109.0</td>\n",
       "      <td>9.0</td>\n",
       "      <td>25.0</td>\n",
       "      <td>549.0</td>\n",
       "      <td>44.0</td>\n",
       "      <td>0</td>\n",
       "      <td>6</td>\n",
       "      <td>1</td>\n",
       "    </tr>\n",
       "    <tr>\n",
       "      <th>2</th>\n",
       "      <td>2</td>\n",
       "      <td>0</td>\n",
       "      <td>0</td>\n",
       "      <td>3</td>\n",
       "      <td>1</td>\n",
       "      <td>1</td>\n",
       "      <td>43.0</td>\n",
       "      <td>3576.0</td>\n",
       "      <td>0.0</td>\n",
       "      <td>6715.0</td>\n",
       "      <td>49.0</td>\n",
       "      <td>0</td>\n",
       "      <td>1</td>\n",
       "      <td>2</td>\n",
       "    </tr>\n",
       "  </tbody>\n",
       "</table>\n",
       "</div>"
      ],
      "text/plain": [
       "   HomePlanet  CryoSleep  Cabin  Destination  Age  VIP  RoomService  \\\n",
       "0           2          0      0            3    1    0          0.0   \n",
       "1           1          0      0            3    1    0        109.0   \n",
       "2           2          0      0            3    1    1         43.0   \n",
       "\n",
       "   FoodCourt  ShoppingMall     Spa  VRDeck  Port  Place  GroupId  \n",
       "0        0.0           0.0     0.0     0.0     1      2        0  \n",
       "1        9.0          25.0   549.0    44.0     0      6        1  \n",
       "2     3576.0           0.0  6715.0    49.0     0      1        2  "
      ]
     },
     "execution_count": 18,
     "metadata": {},
     "output_type": "execute_result"
    }
   ],
   "source": [
    "newtrainDF = df\n",
    "ids = newtrainDF['PassengerId'].copy()\n",
    "transporteds = newtrainDF['Transported'].copy()\n",
    "newtrainDF = newtrainDF.drop(columns=['PassengerId','Name','Transported'])\n",
    "newtrainDF.head(3)"
   ]
  },
  {
   "cell_type": "code",
   "execution_count": 19,
   "id": "c1efd0c9",
   "metadata": {
    "execution": {
     "iopub.execute_input": "2023-12-01T06:15:53.755804Z",
     "iopub.status.busy": "2023-12-01T06:15:53.755317Z",
     "iopub.status.idle": "2023-12-01T06:15:53.770650Z",
     "shell.execute_reply": "2023-12-01T06:15:53.769469Z"
    },
    "papermill": {
     "duration": 0.038508,
     "end_time": "2023-12-01T06:15:53.773485",
     "exception": false,
     "start_time": "2023-12-01T06:15:53.734977",
     "status": "completed"
    },
    "tags": []
   },
   "outputs": [
    {
     "name": "stdout",
     "output_type": "stream",
     "text": [
      "<class 'pandas.core.frame.DataFrame'>\n",
      "RangeIndex: 8693 entries, 0 to 8692\n",
      "Data columns (total 14 columns):\n",
      " #   Column        Non-Null Count  Dtype  \n",
      "---  ------        --------------  -----  \n",
      " 0   HomePlanet    8693 non-null   Int64  \n",
      " 1   CryoSleep     8693 non-null   Int64  \n",
      " 2   Cabin         8693 non-null   Int64  \n",
      " 3   Destination   8693 non-null   Int64  \n",
      " 4   Age           8693 non-null   Int64  \n",
      " 5   VIP           8693 non-null   Int64  \n",
      " 6   RoomService   8693 non-null   float64\n",
      " 7   FoodCourt     8693 non-null   float64\n",
      " 8   ShoppingMall  8693 non-null   float64\n",
      " 9   Spa           8693 non-null   float64\n",
      " 10  VRDeck        8693 non-null   float64\n",
      " 11  Port          8693 non-null   Int64  \n",
      " 12  Place         8693 non-null   Int64  \n",
      " 13  GroupId       8693 non-null   int64  \n",
      "dtypes: Int64(8), float64(5), int64(1)\n",
      "memory usage: 1018.8 KB\n"
     ]
    }
   ],
   "source": [
    "newtrainDF.info()"
   ]
  },
  {
   "cell_type": "code",
   "execution_count": 20,
   "id": "2872cedd",
   "metadata": {
    "execution": {
     "iopub.execute_input": "2023-12-01T06:15:53.812755Z",
     "iopub.status.busy": "2023-12-01T06:15:53.812134Z",
     "iopub.status.idle": "2023-12-01T06:15:53.817944Z",
     "shell.execute_reply": "2023-12-01T06:15:53.816616Z"
    },
    "papermill": {
     "duration": 0.027701,
     "end_time": "2023-12-01T06:15:53.820148",
     "exception": false,
     "start_time": "2023-12-01T06:15:53.792447",
     "status": "completed"
    },
    "tags": []
   },
   "outputs": [],
   "source": [
    "# from sklearn.model_selection import train_test_split\n",
    "# X_train, X_test, y_train, y_test = train_test_split(newtrainDF.drop('Transported',axis=1), \n",
    "#                                                   df['Transported'], test_size=0.30, \n",
    "#                                                     random_state=101)\n",
    "# newtrainDF.head(1)"
   ]
  },
  {
   "cell_type": "code",
   "execution_count": 21,
   "id": "e4097f88",
   "metadata": {
    "execution": {
     "iopub.execute_input": "2023-12-01T06:15:53.858992Z",
     "iopub.status.busy": "2023-12-01T06:15:53.858029Z",
     "iopub.status.idle": "2023-12-01T06:15:54.741276Z",
     "shell.execute_reply": "2023-12-01T06:15:54.740160Z"
    },
    "papermill": {
     "duration": 0.906682,
     "end_time": "2023-12-01T06:15:54.745005",
     "exception": false,
     "start_time": "2023-12-01T06:15:53.838323",
     "status": "completed"
    },
    "tags": []
   },
   "outputs": [
    {
     "data": {
      "text/html": [
       "<style>#sk-container-id-1 {color: black;background-color: white;}#sk-container-id-1 pre{padding: 0;}#sk-container-id-1 div.sk-toggleable {background-color: white;}#sk-container-id-1 label.sk-toggleable__label {cursor: pointer;display: block;width: 100%;margin-bottom: 0;padding: 0.3em;box-sizing: border-box;text-align: center;}#sk-container-id-1 label.sk-toggleable__label-arrow:before {content: \"▸\";float: left;margin-right: 0.25em;color: #696969;}#sk-container-id-1 label.sk-toggleable__label-arrow:hover:before {color: black;}#sk-container-id-1 div.sk-estimator:hover label.sk-toggleable__label-arrow:before {color: black;}#sk-container-id-1 div.sk-toggleable__content {max-height: 0;max-width: 0;overflow: hidden;text-align: left;background-color: #f0f8ff;}#sk-container-id-1 div.sk-toggleable__content pre {margin: 0.2em;color: black;border-radius: 0.25em;background-color: #f0f8ff;}#sk-container-id-1 input.sk-toggleable__control:checked~div.sk-toggleable__content {max-height: 200px;max-width: 100%;overflow: auto;}#sk-container-id-1 input.sk-toggleable__control:checked~label.sk-toggleable__label-arrow:before {content: \"▾\";}#sk-container-id-1 div.sk-estimator input.sk-toggleable__control:checked~label.sk-toggleable__label {background-color: #d4ebff;}#sk-container-id-1 div.sk-label input.sk-toggleable__control:checked~label.sk-toggleable__label {background-color: #d4ebff;}#sk-container-id-1 input.sk-hidden--visually {border: 0;clip: rect(1px 1px 1px 1px);clip: rect(1px, 1px, 1px, 1px);height: 1px;margin: -1px;overflow: hidden;padding: 0;position: absolute;width: 1px;}#sk-container-id-1 div.sk-estimator {font-family: monospace;background-color: #f0f8ff;border: 1px dotted black;border-radius: 0.25em;box-sizing: border-box;margin-bottom: 0.5em;}#sk-container-id-1 div.sk-estimator:hover {background-color: #d4ebff;}#sk-container-id-1 div.sk-parallel-item::after {content: \"\";width: 100%;border-bottom: 1px solid gray;flex-grow: 1;}#sk-container-id-1 div.sk-label:hover label.sk-toggleable__label {background-color: #d4ebff;}#sk-container-id-1 div.sk-serial::before {content: \"\";position: absolute;border-left: 1px solid gray;box-sizing: border-box;top: 0;bottom: 0;left: 50%;z-index: 0;}#sk-container-id-1 div.sk-serial {display: flex;flex-direction: column;align-items: center;background-color: white;padding-right: 0.2em;padding-left: 0.2em;position: relative;}#sk-container-id-1 div.sk-item {position: relative;z-index: 1;}#sk-container-id-1 div.sk-parallel {display: flex;align-items: stretch;justify-content: center;background-color: white;position: relative;}#sk-container-id-1 div.sk-item::before, #sk-container-id-1 div.sk-parallel-item::before {content: \"\";position: absolute;border-left: 1px solid gray;box-sizing: border-box;top: 0;bottom: 0;left: 50%;z-index: -1;}#sk-container-id-1 div.sk-parallel-item {display: flex;flex-direction: column;z-index: 1;position: relative;background-color: white;}#sk-container-id-1 div.sk-parallel-item:first-child::after {align-self: flex-end;width: 50%;}#sk-container-id-1 div.sk-parallel-item:last-child::after {align-self: flex-start;width: 50%;}#sk-container-id-1 div.sk-parallel-item:only-child::after {width: 0;}#sk-container-id-1 div.sk-dashed-wrapped {border: 1px dashed gray;margin: 0 0.4em 0.5em 0.4em;box-sizing: border-box;padding-bottom: 0.4em;background-color: white;}#sk-container-id-1 div.sk-label label {font-family: monospace;font-weight: bold;display: inline-block;line-height: 1.2em;}#sk-container-id-1 div.sk-label-container {text-align: center;}#sk-container-id-1 div.sk-container {/* jupyter's `normalize.less` sets `[hidden] { display: none; }` but bootstrap.min.css set `[hidden] { display: none !important; }` so we also need the `!important` here to be able to override the default hidden behavior on the sphinx rendered scikit-learn.org. See: https://github.com/scikit-learn/scikit-learn/issues/21755 */display: inline-block !important;position: relative;}#sk-container-id-1 div.sk-text-repr-fallback {display: none;}</style><div id=\"sk-container-id-1\" class=\"sk-top-container\"><div class=\"sk-text-repr-fallback\"><pre>LogisticRegression(max_iter=10000)</pre><b>In a Jupyter environment, please rerun this cell to show the HTML representation or trust the notebook. <br />On GitHub, the HTML representation is unable to render, please try loading this page with nbviewer.org.</b></div><div class=\"sk-container\" hidden><div class=\"sk-item\"><div class=\"sk-estimator sk-toggleable\"><input class=\"sk-toggleable__control sk-hidden--visually\" id=\"sk-estimator-id-1\" type=\"checkbox\" checked><label for=\"sk-estimator-id-1\" class=\"sk-toggleable__label sk-toggleable__label-arrow\">LogisticRegression</label><div class=\"sk-toggleable__content\"><pre>LogisticRegression(max_iter=10000)</pre></div></div></div></div></div>"
      ],
      "text/plain": [
       "LogisticRegression(max_iter=10000)"
      ]
     },
     "execution_count": 21,
     "metadata": {},
     "output_type": "execute_result"
    }
   ],
   "source": [
    "from sklearn.linear_model import LogisticRegression\n",
    "logmodel = LogisticRegression(max_iter=10000)\n",
    "logmodel.fit(newtrainDF, transporteds)"
   ]
  },
  {
   "cell_type": "code",
   "execution_count": 22,
   "id": "69ec849f",
   "metadata": {
    "execution": {
     "iopub.execute_input": "2023-12-01T06:15:54.836286Z",
     "iopub.status.busy": "2023-12-01T06:15:54.835622Z",
     "iopub.status.idle": "2023-12-01T06:15:54.890375Z",
     "shell.execute_reply": "2023-12-01T06:15:54.888650Z"
    },
    "papermill": {
     "duration": 0.104693,
     "end_time": "2023-12-01T06:15:54.892901",
     "exception": false,
     "start_time": "2023-12-01T06:15:54.788208",
     "status": "completed"
    },
    "tags": []
   },
   "outputs": [
    {
     "name": "stdout",
     "output_type": "stream",
     "text": [
      "<class 'pandas.core.frame.DataFrame'>\n",
      "RangeIndex: 4277 entries, 0 to 4276\n",
      "Data columns (total 13 columns):\n",
      " #   Column        Non-Null Count  Dtype  \n",
      "---  ------        --------------  -----  \n",
      " 0   PassengerId   4277 non-null   object \n",
      " 1   HomePlanet    4190 non-null   object \n",
      " 2   CryoSleep     4184 non-null   object \n",
      " 3   Cabin         4177 non-null   object \n",
      " 4   Destination   4185 non-null   object \n",
      " 5   Age           4186 non-null   float64\n",
      " 6   VIP           4184 non-null   object \n",
      " 7   RoomService   4195 non-null   float64\n",
      " 8   FoodCourt     4171 non-null   float64\n",
      " 9   ShoppingMall  4179 non-null   float64\n",
      " 10  Spa           4176 non-null   float64\n",
      " 11  VRDeck        4197 non-null   float64\n",
      " 12  Name          4183 non-null   object \n",
      "dtypes: float64(6), object(7)\n",
      "memory usage: 434.5+ KB\n"
     ]
    }
   ],
   "source": [
    "df_test = pd.read_csv(\"/kaggle/input/spaceship-titanic/test.csv\")\n",
    "ids_test = df_test['PassengerId'].copy()\n",
    "# # Removing NANs\n",
    "# df_test[\"CryoSleep\"].fillna(df_test[\"CryoSleep\"].mode()[0],inplace=True)\n",
    "# df_test[\"Age\"].fillna(df_test[\"Age\"].mean(),inplace=True)\n",
    "# df_test[\"RoomService\"].fillna(df_test[\"RoomService\"].mean(),inplace=True)\n",
    "# df_test[\"FoodCourt\"].fillna(df_test[\"FoodCourt\"].mean(),inplace=True)\n",
    "# df_test[\"ShoppingMall\"].fillna(df_test[\"ShoppingMall\"].mean(),inplace=True)\n",
    "# df_test[\"Spa\"].fillna(df_test[\"Spa\"].mean(),inplace=True)\n",
    "# df_test[\"VRDeck\"].fillna(df_test[\"VRDeck\"].mean(),inplace=True)\n",
    "# df_test.VIP = np.where(df_test.VIP,1,0)\n",
    "# df_test.CryoSleep = np.where(df_test.CryoSleep,1,0)\n",
    "# df_test = df_test.drop([\"Name\",\"HomePlanet\",\"Destination\",\"Cabin\"], axis='columns')\n",
    "df_test.info()"
   ]
  },
  {
   "cell_type": "code",
   "execution_count": 23,
   "id": "37cea0b1",
   "metadata": {
    "execution": {
     "iopub.execute_input": "2023-12-01T06:15:54.935121Z",
     "iopub.status.busy": "2023-12-01T06:15:54.934652Z",
     "iopub.status.idle": "2023-12-01T06:15:54.980053Z",
     "shell.execute_reply": "2023-12-01T06:15:54.978904Z"
    },
    "papermill": {
     "duration": 0.069862,
     "end_time": "2023-12-01T06:15:54.982964",
     "exception": false,
     "start_time": "2023-12-01T06:15:54.913102",
     "status": "completed"
    },
    "tags": []
   },
   "outputs": [
    {
     "data": {
      "text/html": [
       "<div>\n",
       "<style scoped>\n",
       "    .dataframe tbody tr th:only-of-type {\n",
       "        vertical-align: middle;\n",
       "    }\n",
       "\n",
       "    .dataframe tbody tr th {\n",
       "        vertical-align: top;\n",
       "    }\n",
       "\n",
       "    .dataframe thead th {\n",
       "        text-align: right;\n",
       "    }\n",
       "</style>\n",
       "<table border=\"1\" class=\"dataframe\">\n",
       "  <thead>\n",
       "    <tr style=\"text-align: right;\">\n",
       "      <th></th>\n",
       "      <th>PassengerId</th>\n",
       "      <th>HomePlanet</th>\n",
       "      <th>CryoSleep</th>\n",
       "      <th>Cabin</th>\n",
       "      <th>Destination</th>\n",
       "      <th>Age</th>\n",
       "      <th>VIP</th>\n",
       "      <th>RoomService</th>\n",
       "      <th>FoodCourt</th>\n",
       "      <th>ShoppingMall</th>\n",
       "      <th>Spa</th>\n",
       "      <th>VRDeck</th>\n",
       "      <th>Name</th>\n",
       "    </tr>\n",
       "  </thead>\n",
       "  <tbody>\n",
       "    <tr>\n",
       "      <th>0</th>\n",
       "      <td>0013_01</td>\n",
       "      <td>1.0</td>\n",
       "      <td>1.0</td>\n",
       "      <td>G/3/S</td>\n",
       "      <td>3.0</td>\n",
       "      <td>27.0</td>\n",
       "      <td>0</td>\n",
       "      <td>0.0</td>\n",
       "      <td>0.0</td>\n",
       "      <td>0.0</td>\n",
       "      <td>0.0</td>\n",
       "      <td>0.0</td>\n",
       "      <td>Nelly Carsoning</td>\n",
       "    </tr>\n",
       "    <tr>\n",
       "      <th>1</th>\n",
       "      <td>0018_01</td>\n",
       "      <td>1.0</td>\n",
       "      <td>0.0</td>\n",
       "      <td>F/4/S</td>\n",
       "      <td>3.0</td>\n",
       "      <td>19.0</td>\n",
       "      <td>0</td>\n",
       "      <td>0.0</td>\n",
       "      <td>9.0</td>\n",
       "      <td>0.0</td>\n",
       "      <td>2823.0</td>\n",
       "      <td>0.0</td>\n",
       "      <td>Lerome Peckers</td>\n",
       "    </tr>\n",
       "    <tr>\n",
       "      <th>2</th>\n",
       "      <td>0019_01</td>\n",
       "      <td>2.0</td>\n",
       "      <td>1.0</td>\n",
       "      <td>C/0/S</td>\n",
       "      <td>1.0</td>\n",
       "      <td>31.0</td>\n",
       "      <td>1</td>\n",
       "      <td>0.0</td>\n",
       "      <td>0.0</td>\n",
       "      <td>0.0</td>\n",
       "      <td>0.0</td>\n",
       "      <td>0.0</td>\n",
       "      <td>Sabih Unhearfus</td>\n",
       "    </tr>\n",
       "  </tbody>\n",
       "</table>\n",
       "</div>"
      ],
      "text/plain": [
       "  PassengerId  HomePlanet  CryoSleep  Cabin  Destination   Age  VIP  \\\n",
       "0     0013_01         1.0        1.0  G/3/S          3.0  27.0    0   \n",
       "1     0018_01         1.0        0.0  F/4/S          3.0  19.0    0   \n",
       "2     0019_01         2.0        1.0  C/0/S          1.0  31.0    1   \n",
       "\n",
       "   RoomService  FoodCourt  ShoppingMall     Spa  VRDeck             Name  \n",
       "0          0.0        0.0           0.0     0.0     0.0  Nelly Carsoning  \n",
       "1          0.0        9.0           0.0  2823.0     0.0   Lerome Peckers  \n",
       "2          0.0        0.0           0.0     0.0     0.0  Sabih Unhearfus  "
      ]
     },
     "execution_count": 23,
     "metadata": {},
     "output_type": "execute_result"
    }
   ],
   "source": [
    "#CryoSleep\n",
    "df_test['CryoSleep'] = df_test['CryoSleep'].replace({True: 1, False: 0})\n",
    "#HomePlanet\n",
    "df_test['HomePlanet'].replace('Earth', 1, inplace=True)\n",
    "df_test['HomePlanet'].replace('Europa', 2, inplace=True)\n",
    "df_test['HomePlanet'].replace('Mars', 3, inplace=True)\n",
    "#Destination\n",
    "df_test['Destination'].replace('55 Cancri e', 1, inplace=True)\n",
    "df_test['Destination'].replace('PSO J318.5-22', 2, inplace=True)\n",
    "df_test['Destination'].replace('TRAPPIST-1e', 3, inplace=True)\n",
    "df_test['VIP'] = df['VIP'].replace({True: 1, False: 0})\n",
    "df_test.head(3)"
   ]
  },
  {
   "cell_type": "code",
   "execution_count": 24,
   "id": "a97b5e8e",
   "metadata": {
    "execution": {
     "iopub.execute_input": "2023-12-01T06:15:55.024582Z",
     "iopub.status.busy": "2023-12-01T06:15:55.024138Z",
     "iopub.status.idle": "2023-12-01T06:15:55.189532Z",
     "shell.execute_reply": "2023-12-01T06:15:55.188111Z"
    },
    "papermill": {
     "duration": 0.189714,
     "end_time": "2023-12-01T06:15:55.192298",
     "exception": false,
     "start_time": "2023-12-01T06:15:55.002584",
     "status": "completed"
    },
    "tags": []
   },
   "outputs": [
    {
     "data": {
      "text/html": [
       "<div>\n",
       "<style scoped>\n",
       "    .dataframe tbody tr th:only-of-type {\n",
       "        vertical-align: middle;\n",
       "    }\n",
       "\n",
       "    .dataframe tbody tr th {\n",
       "        vertical-align: top;\n",
       "    }\n",
       "\n",
       "    .dataframe thead th {\n",
       "        text-align: right;\n",
       "    }\n",
       "</style>\n",
       "<table border=\"1\" class=\"dataframe\">\n",
       "  <thead>\n",
       "    <tr style=\"text-align: right;\">\n",
       "      <th></th>\n",
       "      <th>PassengerId</th>\n",
       "      <th>HomePlanet</th>\n",
       "      <th>CryoSleep</th>\n",
       "      <th>Cabin</th>\n",
       "      <th>Destination</th>\n",
       "      <th>Age</th>\n",
       "      <th>VIP</th>\n",
       "      <th>RoomService</th>\n",
       "      <th>FoodCourt</th>\n",
       "      <th>ShoppingMall</th>\n",
       "      <th>Spa</th>\n",
       "      <th>VRDeck</th>\n",
       "      <th>Name</th>\n",
       "      <th>Port</th>\n",
       "      <th>Place</th>\n",
       "    </tr>\n",
       "  </thead>\n",
       "  <tbody>\n",
       "    <tr>\n",
       "      <th>0</th>\n",
       "      <td>0013_01</td>\n",
       "      <td>1</td>\n",
       "      <td>1</td>\n",
       "      <td>3</td>\n",
       "      <td>3</td>\n",
       "      <td>27</td>\n",
       "      <td>0</td>\n",
       "      <td>0.0</td>\n",
       "      <td>0.0</td>\n",
       "      <td>0.0</td>\n",
       "      <td>0.0</td>\n",
       "      <td>0.0</td>\n",
       "      <td>Nelly Carsoning</td>\n",
       "      <td>0</td>\n",
       "      <td>7</td>\n",
       "    </tr>\n",
       "    <tr>\n",
       "      <th>1</th>\n",
       "      <td>0018_01</td>\n",
       "      <td>1</td>\n",
       "      <td>0</td>\n",
       "      <td>4</td>\n",
       "      <td>3</td>\n",
       "      <td>19</td>\n",
       "      <td>0</td>\n",
       "      <td>0.0</td>\n",
       "      <td>9.0</td>\n",
       "      <td>0.0</td>\n",
       "      <td>2823.0</td>\n",
       "      <td>0.0</td>\n",
       "      <td>Lerome Peckers</td>\n",
       "      <td>0</td>\n",
       "      <td>6</td>\n",
       "    </tr>\n",
       "    <tr>\n",
       "      <th>2</th>\n",
       "      <td>0019_01</td>\n",
       "      <td>2</td>\n",
       "      <td>1</td>\n",
       "      <td>0</td>\n",
       "      <td>1</td>\n",
       "      <td>31</td>\n",
       "      <td>1</td>\n",
       "      <td>0.0</td>\n",
       "      <td>0.0</td>\n",
       "      <td>0.0</td>\n",
       "      <td>0.0</td>\n",
       "      <td>0.0</td>\n",
       "      <td>Sabih Unhearfus</td>\n",
       "      <td>0</td>\n",
       "      <td>3</td>\n",
       "    </tr>\n",
       "  </tbody>\n",
       "</table>\n",
       "</div>"
      ],
      "text/plain": [
       "  PassengerId  HomePlanet  CryoSleep  Cabin  Destination  Age  VIP  \\\n",
       "0     0013_01           1          1      3            3   27    0   \n",
       "1     0018_01           1          0      4            3   19    0   \n",
       "2     0019_01           2          1      0            1   31    1   \n",
       "\n",
       "   RoomService  FoodCourt  ShoppingMall     Spa  VRDeck             Name  \\\n",
       "0          0.0        0.0           0.0     0.0     0.0  Nelly Carsoning   \n",
       "1          0.0        9.0           0.0  2823.0     0.0   Lerome Peckers   \n",
       "2          0.0        0.0           0.0     0.0     0.0  Sabih Unhearfus   \n",
       "\n",
       "   Port  Place  \n",
       "0     0      7  \n",
       "1     0      6  \n",
       "2     0      3  "
      ]
     },
     "execution_count": 24,
     "metadata": {},
     "output_type": "execute_result"
    }
   ],
   "source": [
    "#Port or Starboard of the cabins\n",
    "df_test['Port'] = df_test['Cabin'].str.split('/').str[-1]\n",
    "df_test['Port'].replace('S', 0, inplace=True)\n",
    "df_test['Port'].replace('P', 1, inplace=True)\n",
    "\n",
    "#Class of the cabins\n",
    "df_test['Place'] = df_test['Cabin'].str.split('/').str[0]\n",
    "letter_to_int = {'A': 1, 'B': 2, 'C': 3, 'D': 4, 'E': 5, 'F': 6, 'G': 7, 'T': 8}\n",
    "df_test['Place'] = df_test['Place'].map(letter_to_int)\n",
    "\n",
    "#Number of cabins\n",
    "df_test['Cabin'] = df_test['Cabin'].str.split('/').str[1]\n",
    "\n",
    "df_test[['HomePlanet', 'CryoSleep','Cabin', 'Destination', 'Age', 'VIP','Port','Place']] = df_test[['HomePlanet', 'CryoSleep','Cabin', 'Destination', 'Age', 'VIP','Port','Place']].astype('Int64')\n",
    "df_test.head(3)"
   ]
  },
  {
   "cell_type": "code",
   "execution_count": 25,
   "id": "61358bbd",
   "metadata": {
    "execution": {
     "iopub.execute_input": "2023-12-01T06:15:55.234282Z",
     "iopub.status.busy": "2023-12-01T06:15:55.233831Z",
     "iopub.status.idle": "2023-12-01T06:15:55.273868Z",
     "shell.execute_reply": "2023-12-01T06:15:55.272316Z"
    },
    "papermill": {
     "duration": 0.064677,
     "end_time": "2023-12-01T06:15:55.277002",
     "exception": false,
     "start_time": "2023-12-01T06:15:55.212325",
     "status": "completed"
    },
    "tags": []
   },
   "outputs": [
    {
     "name": "stdout",
     "output_type": "stream",
     "text": [
      "<class 'pandas.core.frame.DataFrame'>\n",
      "RangeIndex: 4277 entries, 0 to 4276\n",
      "Data columns (total 15 columns):\n",
      " #   Column        Non-Null Count  Dtype  \n",
      "---  ------        --------------  -----  \n",
      " 0   PassengerId   4277 non-null   object \n",
      " 1   HomePlanet    4277 non-null   Int64  \n",
      " 2   CryoSleep     4277 non-null   int64  \n",
      " 3   Cabin         4277 non-null   Int64  \n",
      " 4   Destination   4277 non-null   Int64  \n",
      " 5   Age           4277 non-null   int64  \n",
      " 6   VIP           4277 non-null   int64  \n",
      " 7   RoomService   4277 non-null   float64\n",
      " 8   FoodCourt     4277 non-null   float64\n",
      " 9   ShoppingMall  4277 non-null   float64\n",
      " 10  Spa           4277 non-null   float64\n",
      " 11  VRDeck        4277 non-null   float64\n",
      " 12  Name          4183 non-null   object \n",
      " 13  Port          4277 non-null   Int64  \n",
      " 14  Place         4277 non-null   Int64  \n",
      "dtypes: Int64(5), float64(5), int64(3), object(2)\n",
      "memory usage: 522.2+ KB\n"
     ]
    }
   ],
   "source": [
    "df_test[\"HomePlanet\"].fillna(df_test[\"HomePlanet\"].mode()[0],inplace=True)\n",
    "df_test[\"CryoSleep\"].fillna(df_test[\"CryoSleep\"].mode()[0],inplace=True)\n",
    "df_test[\"Cabin\"].fillna(df_test[\"Cabin\"].mode()[0],inplace=True)\n",
    "df_test[\"Destination\"].fillna(df_test[\"Destination\"].mode()[0],inplace=True)\n",
    "df_test[\"Age\"].fillna(int(df_test[\"Age\"].mean()),inplace=True)\n",
    "df_test[\"RoomService\"].fillna(df_test[\"RoomService\"].mean(),inplace=True)\n",
    "df_test[\"FoodCourt\"].fillna(df_test[\"FoodCourt\"].mean(),inplace=True)\n",
    "df_test[\"ShoppingMall\"].fillna(df_test[\"ShoppingMall\"].mean(),inplace=True)\n",
    "df_test[\"Spa\"].fillna(df_test[\"Spa\"].mean(),inplace=True)\n",
    "df_test[\"VRDeck\"].fillna(df_test[\"VRDeck\"].mean(),inplace=True)\n",
    "df_test[\"Port\"].fillna(df_test[\"Port\"].mode()[0],inplace=True)\n",
    "df_test[\"Place\"].fillna(df_test[\"Place\"].mode()[0],inplace=True)\n",
    "df_test.Age = np.where(df_test.Age > 15 ,1,0)\n",
    "df_test.VIP = np.where(df_test.VIP,1,0)\n",
    "df_test.CryoSleep = np.where(df_test.CryoSleep,1,0)\n",
    "\n",
    "#No Nan, Null or empty cell\n",
    "df_test.info()"
   ]
  },
  {
   "cell_type": "code",
   "execution_count": 26,
   "id": "15a19c4e",
   "metadata": {
    "execution": {
     "iopub.execute_input": "2023-12-01T06:15:55.319483Z",
     "iopub.status.busy": "2023-12-01T06:15:55.319027Z",
     "iopub.status.idle": "2023-12-01T06:15:55.323954Z",
     "shell.execute_reply": "2023-12-01T06:15:55.322794Z"
    },
    "papermill": {
     "duration": 0.029289,
     "end_time": "2023-12-01T06:15:55.326403",
     "exception": false,
     "start_time": "2023-12-01T06:15:55.297114",
     "status": "completed"
    },
    "tags": []
   },
   "outputs": [],
   "source": [
    "# df_test['stSpenders'] = df_test[['RoomService', 'FoodCourt', 'ShoppingMall', 'Spa', 'VRDeck']].std(axis=1)\n",
    "# df_test = df_test.drop(columns=['RoomService', 'FoodCourt', 'ShoppingMall', 'Spa', 'VRDeck'])\n",
    "# df_test.head()"
   ]
  },
  {
   "cell_type": "code",
   "execution_count": 27,
   "id": "56669f1e",
   "metadata": {
    "execution": {
     "iopub.execute_input": "2023-12-01T06:15:55.369243Z",
     "iopub.status.busy": "2023-12-01T06:15:55.368823Z",
     "iopub.status.idle": "2023-12-01T06:15:55.373963Z",
     "shell.execute_reply": "2023-12-01T06:15:55.372949Z"
    },
    "papermill": {
     "duration": 0.029661,
     "end_time": "2023-12-01T06:15:55.376293",
     "exception": false,
     "start_time": "2023-12-01T06:15:55.346632",
     "status": "completed"
    },
    "tags": []
   },
   "outputs": [],
   "source": [
    "# # # Apply log transformation\n",
    "# df_test['RoomService'] = np.log1p(df_test['RoomService'])\n",
    "# df_test['FoodCourt'] = np.log1p(df_test['FoodCourt'])\n",
    "# df_test['ShoppingMall'] = np.log1p(df_test['ShoppingMall'])\n",
    "# df_test['Spa'] = np.log1p(df_test['Spa'])\n",
    "# df_test['VRDeck'] = np.log1p(df_test['VRDeck'])\n",
    "# df_test.head(3)"
   ]
  },
  {
   "cell_type": "code",
   "execution_count": 28,
   "id": "9f65d1c2",
   "metadata": {
    "execution": {
     "iopub.execute_input": "2023-12-01T06:15:55.419372Z",
     "iopub.status.busy": "2023-12-01T06:15:55.418946Z",
     "iopub.status.idle": "2023-12-01T06:15:55.423252Z",
     "shell.execute_reply": "2023-12-01T06:15:55.422451Z"
    },
    "papermill": {
     "duration": 0.028729,
     "end_time": "2023-12-01T06:15:55.425516",
     "exception": false,
     "start_time": "2023-12-01T06:15:55.396787",
     "status": "completed"
    },
    "tags": []
   },
   "outputs": [],
   "source": [
    "# Apply square root transformation\n",
    "# df_test['RoomService'] = df_test['RoomService']**0.5\n",
    "# df_test['FoodCourt'] = df_test['FoodCourt']**0.5\n",
    "# df_test['ShoppingMall'] = df['ShoppingMall']**0.5\n",
    "# df_test['Spa'] = df_test['Spa']**0.5\n",
    "# df_test['VRDeck'] = df_test['VRDeck']**0.5\n",
    "# df_test.head(3)"
   ]
  },
  {
   "cell_type": "code",
   "execution_count": 29,
   "id": "4d816cbc",
   "metadata": {
    "execution": {
     "iopub.execute_input": "2023-12-01T06:15:55.470356Z",
     "iopub.status.busy": "2023-12-01T06:15:55.469937Z",
     "iopub.status.idle": "2023-12-01T06:15:55.474972Z",
     "shell.execute_reply": "2023-12-01T06:15:55.473685Z"
    },
    "papermill": {
     "duration": 0.031187,
     "end_time": "2023-12-01T06:15:55.477417",
     "exception": false,
     "start_time": "2023-12-01T06:15:55.446230",
     "status": "completed"
    },
    "tags": []
   },
   "outputs": [],
   "source": [
    "# #Lastnames\n",
    "# df['LastName'] = df['Name'].str.split(' ').str[-1]\n",
    "\n",
    "# #Guessing Families\n",
    "# df['FamilyId'] = df['PassengerId'].apply(lambda x: x.split('_')[0])\n",
    "# #\n",
    "# ids_groups = np.array([i.split(\"_\") for i in df.PassengerId.values])\n",
    "# # unique_groups = np.unique(ids_groups[:,0])\n",
    "# df['GroupID'] = df.groupby(ids_groups[:,0]).ngroup()\n",
    "# df.info()"
   ]
  },
  {
   "cell_type": "code",
   "execution_count": 30,
   "id": "c7f166ad",
   "metadata": {
    "execution": {
     "iopub.execute_input": "2023-12-01T06:15:55.520199Z",
     "iopub.status.busy": "2023-12-01T06:15:55.519417Z",
     "iopub.status.idle": "2023-12-01T06:15:55.546343Z",
     "shell.execute_reply": "2023-12-01T06:15:55.544673Z"
    },
    "papermill": {
     "duration": 0.051032,
     "end_time": "2023-12-01T06:15:55.548946",
     "exception": false,
     "start_time": "2023-12-01T06:15:55.497914",
     "status": "completed"
    },
    "tags": []
   },
   "outputs": [
    {
     "data": {
      "text/html": [
       "<div>\n",
       "<style scoped>\n",
       "    .dataframe tbody tr th:only-of-type {\n",
       "        vertical-align: middle;\n",
       "    }\n",
       "\n",
       "    .dataframe tbody tr th {\n",
       "        vertical-align: top;\n",
       "    }\n",
       "\n",
       "    .dataframe thead th {\n",
       "        text-align: right;\n",
       "    }\n",
       "</style>\n",
       "<table border=\"1\" class=\"dataframe\">\n",
       "  <thead>\n",
       "    <tr style=\"text-align: right;\">\n",
       "      <th></th>\n",
       "      <th>PassengerId</th>\n",
       "      <th>HomePlanet</th>\n",
       "      <th>CryoSleep</th>\n",
       "      <th>Cabin</th>\n",
       "      <th>Destination</th>\n",
       "      <th>Age</th>\n",
       "      <th>VIP</th>\n",
       "      <th>RoomService</th>\n",
       "      <th>FoodCourt</th>\n",
       "      <th>ShoppingMall</th>\n",
       "      <th>Spa</th>\n",
       "      <th>VRDeck</th>\n",
       "      <th>Name</th>\n",
       "      <th>Port</th>\n",
       "      <th>Place</th>\n",
       "      <th>GroupId</th>\n",
       "    </tr>\n",
       "  </thead>\n",
       "  <tbody>\n",
       "    <tr>\n",
       "      <th>0</th>\n",
       "      <td>0013_01</td>\n",
       "      <td>1</td>\n",
       "      <td>1</td>\n",
       "      <td>3</td>\n",
       "      <td>3</td>\n",
       "      <td>1</td>\n",
       "      <td>0</td>\n",
       "      <td>0.0</td>\n",
       "      <td>0.0</td>\n",
       "      <td>0.0</td>\n",
       "      <td>0.0</td>\n",
       "      <td>0.0</td>\n",
       "      <td>Nelly Carsoning</td>\n",
       "      <td>0</td>\n",
       "      <td>7</td>\n",
       "      <td>0</td>\n",
       "    </tr>\n",
       "    <tr>\n",
       "      <th>1</th>\n",
       "      <td>0018_01</td>\n",
       "      <td>1</td>\n",
       "      <td>0</td>\n",
       "      <td>4</td>\n",
       "      <td>3</td>\n",
       "      <td>1</td>\n",
       "      <td>0</td>\n",
       "      <td>0.0</td>\n",
       "      <td>9.0</td>\n",
       "      <td>0.0</td>\n",
       "      <td>2823.0</td>\n",
       "      <td>0.0</td>\n",
       "      <td>Lerome Peckers</td>\n",
       "      <td>0</td>\n",
       "      <td>6</td>\n",
       "      <td>1</td>\n",
       "    </tr>\n",
       "    <tr>\n",
       "      <th>2</th>\n",
       "      <td>0019_01</td>\n",
       "      <td>2</td>\n",
       "      <td>1</td>\n",
       "      <td>0</td>\n",
       "      <td>1</td>\n",
       "      <td>1</td>\n",
       "      <td>1</td>\n",
       "      <td>0.0</td>\n",
       "      <td>0.0</td>\n",
       "      <td>0.0</td>\n",
       "      <td>0.0</td>\n",
       "      <td>0.0</td>\n",
       "      <td>Sabih Unhearfus</td>\n",
       "      <td>0</td>\n",
       "      <td>3</td>\n",
       "      <td>2</td>\n",
       "    </tr>\n",
       "  </tbody>\n",
       "</table>\n",
       "</div>"
      ],
      "text/plain": [
       "  PassengerId  HomePlanet  CryoSleep  Cabin  Destination  Age  VIP  \\\n",
       "0     0013_01           1          1      3            3    1    0   \n",
       "1     0018_01           1          0      4            3    1    0   \n",
       "2     0019_01           2          1      0            1    1    1   \n",
       "\n",
       "   RoomService  FoodCourt  ShoppingMall     Spa  VRDeck             Name  \\\n",
       "0          0.0        0.0           0.0     0.0     0.0  Nelly Carsoning   \n",
       "1          0.0        9.0           0.0  2823.0     0.0   Lerome Peckers   \n",
       "2          0.0        0.0           0.0     0.0     0.0  Sabih Unhearfus   \n",
       "\n",
       "   Port  Place  GroupId  \n",
       "0     0      7        0  \n",
       "1     0      6        1  \n",
       "2     0      3        2  "
      ]
     },
     "execution_count": 30,
     "metadata": {},
     "output_type": "execute_result"
    }
   ],
   "source": [
    "#Lastnames and groups\n",
    "#lastNames = df_test['Name'].str.split(' ').str[-1]\n",
    "ids_groups = df_test['PassengerId'].apply(lambda x: x.split('_')[0])\n",
    "\n",
    "#df_test['FamilyId'] = pd.factorize(lastNames)[0]\n",
    "df_test['GroupId'] = pd.factorize(ids_groups)[0]\n",
    "df_test.head(3)"
   ]
  },
  {
   "cell_type": "code",
   "execution_count": 31,
   "id": "3341c90c",
   "metadata": {
    "execution": {
     "iopub.execute_input": "2023-12-01T06:15:55.593251Z",
     "iopub.status.busy": "2023-12-01T06:15:55.592199Z",
     "iopub.status.idle": "2023-12-01T06:15:55.613267Z",
     "shell.execute_reply": "2023-12-01T06:15:55.612469Z"
    },
    "papermill": {
     "duration": 0.045775,
     "end_time": "2023-12-01T06:15:55.615450",
     "exception": false,
     "start_time": "2023-12-01T06:15:55.569675",
     "status": "completed"
    },
    "tags": []
   },
   "outputs": [
    {
     "data": {
      "text/html": [
       "<div>\n",
       "<style scoped>\n",
       "    .dataframe tbody tr th:only-of-type {\n",
       "        vertical-align: middle;\n",
       "    }\n",
       "\n",
       "    .dataframe tbody tr th {\n",
       "        vertical-align: top;\n",
       "    }\n",
       "\n",
       "    .dataframe thead th {\n",
       "        text-align: right;\n",
       "    }\n",
       "</style>\n",
       "<table border=\"1\" class=\"dataframe\">\n",
       "  <thead>\n",
       "    <tr style=\"text-align: right;\">\n",
       "      <th></th>\n",
       "      <th>HomePlanet</th>\n",
       "      <th>CryoSleep</th>\n",
       "      <th>Cabin</th>\n",
       "      <th>Destination</th>\n",
       "      <th>Age</th>\n",
       "      <th>VIP</th>\n",
       "      <th>RoomService</th>\n",
       "      <th>FoodCourt</th>\n",
       "      <th>ShoppingMall</th>\n",
       "      <th>Spa</th>\n",
       "      <th>VRDeck</th>\n",
       "      <th>Port</th>\n",
       "      <th>Place</th>\n",
       "      <th>GroupId</th>\n",
       "    </tr>\n",
       "  </thead>\n",
       "  <tbody>\n",
       "    <tr>\n",
       "      <th>0</th>\n",
       "      <td>1</td>\n",
       "      <td>1</td>\n",
       "      <td>3</td>\n",
       "      <td>3</td>\n",
       "      <td>1</td>\n",
       "      <td>0</td>\n",
       "      <td>0.0</td>\n",
       "      <td>0.0</td>\n",
       "      <td>0.0</td>\n",
       "      <td>0.0</td>\n",
       "      <td>0.0</td>\n",
       "      <td>0</td>\n",
       "      <td>7</td>\n",
       "      <td>0</td>\n",
       "    </tr>\n",
       "  </tbody>\n",
       "</table>\n",
       "</div>"
      ],
      "text/plain": [
       "   HomePlanet  CryoSleep  Cabin  Destination  Age  VIP  RoomService  \\\n",
       "0           1          1      3            3    1    0          0.0   \n",
       "\n",
       "   FoodCourt  ShoppingMall  Spa  VRDeck  Port  Place  GroupId  \n",
       "0        0.0           0.0  0.0     0.0     0      7        0  "
      ]
     },
     "execution_count": 31,
     "metadata": {},
     "output_type": "execute_result"
    }
   ],
   "source": [
    "df_test = df_test.drop(columns=['PassengerId','Name'])\n",
    "df_test.head(1)"
   ]
  },
  {
   "cell_type": "code",
   "execution_count": 32,
   "id": "28c8531e",
   "metadata": {
    "execution": {
     "iopub.execute_input": "2023-12-01T06:15:55.658834Z",
     "iopub.status.busy": "2023-12-01T06:15:55.657958Z",
     "iopub.status.idle": "2023-12-01T06:15:55.663434Z",
     "shell.execute_reply": "2023-12-01T06:15:55.662360Z"
    },
    "papermill": {
     "duration": 0.029951,
     "end_time": "2023-12-01T06:15:55.665820",
     "exception": false,
     "start_time": "2023-12-01T06:15:55.635869",
     "status": "completed"
    },
    "tags": []
   },
   "outputs": [],
   "source": [
    "# df_test['Aged'] = np.where(df_test.Age > 15, 1,0)\n",
    "# df_test.head(1)"
   ]
  },
  {
   "cell_type": "code",
   "execution_count": 33,
   "id": "fc36cdc1",
   "metadata": {
    "execution": {
     "iopub.execute_input": "2023-12-01T06:15:55.709749Z",
     "iopub.status.busy": "2023-12-01T06:15:55.708423Z",
     "iopub.status.idle": "2023-12-01T06:15:55.713455Z",
     "shell.execute_reply": "2023-12-01T06:15:55.712634Z"
    },
    "papermill": {
     "duration": 0.029283,
     "end_time": "2023-12-01T06:15:55.715842",
     "exception": false,
     "start_time": "2023-12-01T06:15:55.686559",
     "status": "completed"
    },
    "tags": []
   },
   "outputs": [],
   "source": [
    "# columns_titles = [\"HomePlanet\",\"CryoSleep\", \"Destination\",\"Age\",\"Mean_luxury\",\"Port\",\"Place\"]\n",
    "# df_test=df_test.reindex(columns=columns_titles)\n",
    "# df_test.head(3)"
   ]
  },
  {
   "cell_type": "code",
   "execution_count": 34,
   "id": "b433db07",
   "metadata": {
    "execution": {
     "iopub.execute_input": "2023-12-01T06:15:55.759668Z",
     "iopub.status.busy": "2023-12-01T06:15:55.758606Z",
     "iopub.status.idle": "2023-12-01T06:15:55.777995Z",
     "shell.execute_reply": "2023-12-01T06:15:55.776327Z"
    },
    "papermill": {
     "duration": 0.045925,
     "end_time": "2023-12-01T06:15:55.782547",
     "exception": false,
     "start_time": "2023-12-01T06:15:55.736622",
     "status": "completed"
    },
    "tags": []
   },
   "outputs": [],
   "source": [
    " predictions = logmodel.predict(df_test)"
   ]
  },
  {
   "cell_type": "code",
   "execution_count": 35,
   "id": "5960676a",
   "metadata": {
    "execution": {
     "iopub.execute_input": "2023-12-01T06:15:55.873536Z",
     "iopub.status.busy": "2023-12-01T06:15:55.872719Z",
     "iopub.status.idle": "2023-12-01T06:15:55.884398Z",
     "shell.execute_reply": "2023-12-01T06:15:55.883102Z"
    },
    "papermill": {
     "duration": 0.062623,
     "end_time": "2023-12-01T06:15:55.888671",
     "exception": false,
     "start_time": "2023-12-01T06:15:55.826048",
     "status": "completed"
    },
    "tags": []
   },
   "outputs": [
    {
     "data": {
      "text/plain": [
       "array(['0013_01', '0018_01', '0019_01', ..., '9271_01', '9273_01',\n",
       "       '9277_01'], dtype=object)"
      ]
     },
     "execution_count": 35,
     "metadata": {},
     "output_type": "execute_result"
    }
   ],
   "source": [
    "# # from sklearn.metrics import classification_report\n",
    "# # print(classification_report(y_test, predictions))\n",
    "# df_newTest = pd.read_csv(\"/kaggle/input/spaceship-titanic/test.csv\")\n",
    "# ids_test = df_newTest['PassengerId'].copy()\n",
    "ids_test.values\n",
    "# predictions"
   ]
  },
  {
   "cell_type": "code",
   "execution_count": 36,
   "id": "1dc1f751",
   "metadata": {
    "execution": {
     "iopub.execute_input": "2023-12-01T06:15:55.933469Z",
     "iopub.status.busy": "2023-12-01T06:15:55.932993Z",
     "iopub.status.idle": "2023-12-01T06:15:55.965361Z",
     "shell.execute_reply": "2023-12-01T06:15:55.964128Z"
    },
    "papermill": {
     "duration": 0.057949,
     "end_time": "2023-12-01T06:15:55.968175",
     "exception": false,
     "start_time": "2023-12-01T06:15:55.910226",
     "status": "completed"
    },
    "tags": []
   },
   "outputs": [
    {
     "data": {
      "text/html": [
       "<div>\n",
       "<style scoped>\n",
       "    .dataframe tbody tr th:only-of-type {\n",
       "        vertical-align: middle;\n",
       "    }\n",
       "\n",
       "    .dataframe tbody tr th {\n",
       "        vertical-align: top;\n",
       "    }\n",
       "\n",
       "    .dataframe thead th {\n",
       "        text-align: right;\n",
       "    }\n",
       "</style>\n",
       "<table border=\"1\" class=\"dataframe\">\n",
       "  <thead>\n",
       "    <tr style=\"text-align: right;\">\n",
       "      <th></th>\n",
       "      <th>PassengerId</th>\n",
       "      <th>Transported</th>\n",
       "    </tr>\n",
       "  </thead>\n",
       "  <tbody>\n",
       "    <tr>\n",
       "      <th>0</th>\n",
       "      <td>0013_01</td>\n",
       "      <td>True</td>\n",
       "    </tr>\n",
       "    <tr>\n",
       "      <th>1</th>\n",
       "      <td>0018_01</td>\n",
       "      <td>False</td>\n",
       "    </tr>\n",
       "    <tr>\n",
       "      <th>2</th>\n",
       "      <td>0019_01</td>\n",
       "      <td>True</td>\n",
       "    </tr>\n",
       "    <tr>\n",
       "      <th>3</th>\n",
       "      <td>0021_01</td>\n",
       "      <td>True</td>\n",
       "    </tr>\n",
       "    <tr>\n",
       "      <th>4</th>\n",
       "      <td>0023_01</td>\n",
       "      <td>False</td>\n",
       "    </tr>\n",
       "  </tbody>\n",
       "</table>\n",
       "</div>"
      ],
      "text/plain": [
       "  PassengerId  Transported\n",
       "0     0013_01         True\n",
       "1     0018_01        False\n",
       "2     0019_01         True\n",
       "3     0021_01         True\n",
       "4     0023_01        False"
      ]
     },
     "execution_count": 36,
     "metadata": {},
     "output_type": "execute_result"
    }
   ],
   "source": [
    "df_predictions = pd.DataFrame()\n",
    "df_predictions['PassengerId'] = pd.Series(ids_test.T.values)\n",
    "df_predictions['Transported'] = pd.Series(predictions)\n",
    "df_predictions.Transported = np.where(df_predictions.Transported==1,True,False)\n",
    "df_predictions.to_csv(\"14thAttempt.csv\", sep=',', index=False)\n",
    "df_predictions.head()"
   ]
  },
  {
   "cell_type": "markdown",
   "id": "00ff1cd0",
   "metadata": {
    "papermill": {
     "duration": 0.020991,
     "end_time": "2023-12-01T06:15:56.010623",
     "exception": false,
     "start_time": "2023-12-01T06:15:55.989632",
     "status": "completed"
    },
    "tags": []
   },
   "source": [
    "In this report, the 'Precision' column tells us the proportion of positive identifications (i.e., the passenger was transported) that were actually correct. The 'Recall' column tells us the proportion of actual positives that were identified correctly. The 'F1-score' is a function of Precision and Recall and gives a balanced measure of the model's performance.\n",
    "\n",
    "Remember, this is a basic model. Depending on the performance of the model, you might need to consider more advanced techniques such as handling class imbalance, feature engineering, or using a more complex model."
   ]
  }
 ],
 "metadata": {
  "kaggle": {
   "accelerator": "none",
   "dataSources": [
    {
     "databundleVersionId": 3220602,
     "sourceId": 34377,
     "sourceType": "competition"
    }
   ],
   "dockerImageVersionId": 30558,
   "isGpuEnabled": false,
   "isInternetEnabled": false,
   "language": "python",
   "sourceType": "notebook"
  },
  "kernelspec": {
   "display_name": "Python 3",
   "language": "python",
   "name": "python3"
  },
  "language_info": {
   "codemirror_mode": {
    "name": "ipython",
    "version": 3
   },
   "file_extension": ".py",
   "mimetype": "text/x-python",
   "name": "python",
   "nbconvert_exporter": "python",
   "pygments_lexer": "ipython3",
   "version": "3.10.12"
  },
  "papermill": {
   "default_parameters": {},
   "duration": 12.585161,
   "end_time": "2023-12-01T06:15:56.956068",
   "environment_variables": {},
   "exception": null,
   "input_path": "__notebook__.ipynb",
   "output_path": "__notebook__.ipynb",
   "parameters": {},
   "start_time": "2023-12-01T06:15:44.370907",
   "version": "2.4.0"
  }
 },
 "nbformat": 4,
 "nbformat_minor": 5
}
