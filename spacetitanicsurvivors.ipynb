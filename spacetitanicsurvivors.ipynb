{
 "cells": [
  {
   "cell_type": "code",
   "execution_count": 1,
   "id": "1594c70b",
   "metadata": {
    "_cell_guid": "b1076dfc-b9ad-4769-8c92-a6c4dae69d19",
    "_uuid": "8f2839f25d086af736a60e9eeb907d3b93b6e0e5",
    "execution": {
     "iopub.execute_input": "2023-11-30T20:59:54.670432Z",
     "iopub.status.busy": "2023-11-30T20:59:54.669620Z",
     "iopub.status.idle": "2023-11-30T20:59:55.606087Z",
     "shell.execute_reply": "2023-11-30T20:59:55.604962Z"
    },
    "papermill": {
     "duration": 0.954832,
     "end_time": "2023-11-30T20:59:55.608623",
     "exception": false,
     "start_time": "2023-11-30T20:59:54.653791",
     "status": "completed"
    },
    "tags": []
   },
   "outputs": [
    {
     "name": "stdout",
     "output_type": "stream",
     "text": [
      "/kaggle/input/spaceship-titanic/sample_submission.csv\n",
      "/kaggle/input/spaceship-titanic/train.csv\n",
      "/kaggle/input/spaceship-titanic/test.csv\n"
     ]
    }
   ],
   "source": [
    "# This Python 3 environment comes with many helpful analytics libraries installed\n",
    "# It is defined by the kaggle/python Docker image: https://github.com/kaggle/docker-python\n",
    "# For example, here's several helpful packages to load\n",
    "\n",
    "import numpy as np # linear algebra\n",
    "import pandas as pd # data processing, CSV file I/O (e.g. pd.read_csv)\n",
    "\n",
    "# Input data files are available in the read-only \"../input/\" directory\n",
    "# For example, running this (by clicking run or pressing Shift+Enter) will list all files under the input directory\n",
    "\n",
    "import os\n",
    "for dirname, _, filenames in os.walk('/kaggle/input'):\n",
    "    for filename in filenames:\n",
    "        print(os.path.join(dirname, filename))\n",
    "\n",
    "# You can write up to 20GB to the current directory (/kaggle/working/) that gets preserved as output when you create a version using \"Save & Run All\" \n",
    "# You can also write temporary files to /kaggle/temp/, but they won't be saved outside of the current session"
   ]
  },
  {
   "cell_type": "markdown",
   "id": "17269462",
   "metadata": {
    "papermill": {
     "duration": 0.013845,
     "end_time": "2023-11-30T20:59:55.636772",
     "exception": false,
     "start_time": "2023-11-30T20:59:55.622927",
     "status": "completed"
    },
    "tags": []
   },
   "source": [
    "# > ****File and Data Field Descriptions\n",
    "\n",
    "train.csv - Personal records for about two-thirds (~8700) of the passengers, to be used as training data.\n",
    "PassengerId - A unique Id for each passenger. Each Id takes the form gggg_pp where gggg indicates a group the passenger is travelling with and pp is their number within the group. People in a group are often family members, but not always.\n",
    "HomePlanet - The planet the passenger departed from, typically their planet of permanent residence.\n",
    "CryoSleep - Indicates whether the passenger elected to be put into suspended animation for the duration of the voyage. Passengers in cryosleep are confined to their cabins.\n",
    "Cabin - The cabin number where the passenger is staying. Takes the form deck/num/side, where side can be either P for Port or S for Starboard.\n",
    "Destination - The planet the passenger will be debarking to.\n",
    "Age - The age of the passenger.\n",
    "VIP - Whether the passenger has paid for special VIP service during the voyage.\n",
    "RoomService, FoodCourt, ShoppingMall, Spa, VRDeck - Amount the passenger has billed at each of the Spaceship Titanic's many luxury amenities.\n",
    "Name - The first and last names of the passenger.\n",
    "Transported - Whether the passenger was transported to another dimension. This is the target, the column you are trying to predict.\n",
    "test.csv - Personal records for the remaining one-third (~4300) of the passengers, to be used as test data. Your task is to predict the value of Transported for the passengers in this set.\n",
    "sample_submission.csv - A submission file in the correct format.\n",
    "PassengerId - Id for each passenger in the test set.\n",
    "Transported - The target. For each passenger, predict either True or False."
   ]
  },
  {
   "cell_type": "code",
   "execution_count": 2,
   "id": "86795eb9",
   "metadata": {
    "execution": {
     "iopub.execute_input": "2023-11-30T20:59:55.666315Z",
     "iopub.status.busy": "2023-11-30T20:59:55.665446Z",
     "iopub.status.idle": "2023-11-30T20:59:55.754850Z",
     "shell.execute_reply": "2023-11-30T20:59:55.753480Z"
    },
    "papermill": {
     "duration": 0.107274,
     "end_time": "2023-11-30T20:59:55.757620",
     "exception": false,
     "start_time": "2023-11-30T20:59:55.650346",
     "status": "completed"
    },
    "tags": []
   },
   "outputs": [
    {
     "data": {
      "text/html": [
       "<div>\n",
       "<style scoped>\n",
       "    .dataframe tbody tr th:only-of-type {\n",
       "        vertical-align: middle;\n",
       "    }\n",
       "\n",
       "    .dataframe tbody tr th {\n",
       "        vertical-align: top;\n",
       "    }\n",
       "\n",
       "    .dataframe thead th {\n",
       "        text-align: right;\n",
       "    }\n",
       "</style>\n",
       "<table border=\"1\" class=\"dataframe\">\n",
       "  <thead>\n",
       "    <tr style=\"text-align: right;\">\n",
       "      <th></th>\n",
       "      <th>PassengerId</th>\n",
       "      <th>HomePlanet</th>\n",
       "      <th>CryoSleep</th>\n",
       "      <th>Cabin</th>\n",
       "      <th>Destination</th>\n",
       "      <th>Age</th>\n",
       "      <th>VIP</th>\n",
       "      <th>RoomService</th>\n",
       "      <th>FoodCourt</th>\n",
       "      <th>ShoppingMall</th>\n",
       "      <th>Spa</th>\n",
       "      <th>VRDeck</th>\n",
       "      <th>Name</th>\n",
       "      <th>Transported</th>\n",
       "    </tr>\n",
       "  </thead>\n",
       "  <tbody>\n",
       "    <tr>\n",
       "      <th>0</th>\n",
       "      <td>0001_01</td>\n",
       "      <td>Europa</td>\n",
       "      <td>False</td>\n",
       "      <td>B/0/P</td>\n",
       "      <td>TRAPPIST-1e</td>\n",
       "      <td>39.0</td>\n",
       "      <td>False</td>\n",
       "      <td>0.0</td>\n",
       "      <td>0.0</td>\n",
       "      <td>0.0</td>\n",
       "      <td>0.0</td>\n",
       "      <td>0.0</td>\n",
       "      <td>Maham Ofracculy</td>\n",
       "      <td>False</td>\n",
       "    </tr>\n",
       "    <tr>\n",
       "      <th>1</th>\n",
       "      <td>0002_01</td>\n",
       "      <td>Earth</td>\n",
       "      <td>False</td>\n",
       "      <td>F/0/S</td>\n",
       "      <td>TRAPPIST-1e</td>\n",
       "      <td>24.0</td>\n",
       "      <td>False</td>\n",
       "      <td>109.0</td>\n",
       "      <td>9.0</td>\n",
       "      <td>25.0</td>\n",
       "      <td>549.0</td>\n",
       "      <td>44.0</td>\n",
       "      <td>Juanna Vines</td>\n",
       "      <td>True</td>\n",
       "    </tr>\n",
       "    <tr>\n",
       "      <th>2</th>\n",
       "      <td>0003_01</td>\n",
       "      <td>Europa</td>\n",
       "      <td>False</td>\n",
       "      <td>A/0/S</td>\n",
       "      <td>TRAPPIST-1e</td>\n",
       "      <td>58.0</td>\n",
       "      <td>True</td>\n",
       "      <td>43.0</td>\n",
       "      <td>3576.0</td>\n",
       "      <td>0.0</td>\n",
       "      <td>6715.0</td>\n",
       "      <td>49.0</td>\n",
       "      <td>Altark Susent</td>\n",
       "      <td>False</td>\n",
       "    </tr>\n",
       "  </tbody>\n",
       "</table>\n",
       "</div>"
      ],
      "text/plain": [
       "  PassengerId HomePlanet CryoSleep  Cabin  Destination   Age    VIP  \\\n",
       "0     0001_01     Europa     False  B/0/P  TRAPPIST-1e  39.0  False   \n",
       "1     0002_01      Earth     False  F/0/S  TRAPPIST-1e  24.0  False   \n",
       "2     0003_01     Europa     False  A/0/S  TRAPPIST-1e  58.0   True   \n",
       "\n",
       "   RoomService  FoodCourt  ShoppingMall     Spa  VRDeck             Name  \\\n",
       "0          0.0        0.0           0.0     0.0     0.0  Maham Ofracculy   \n",
       "1        109.0        9.0          25.0   549.0    44.0     Juanna Vines   \n",
       "2         43.0     3576.0           0.0  6715.0    49.0    Altark Susent   \n",
       "\n",
       "   Transported  \n",
       "0        False  \n",
       "1         True  \n",
       "2        False  "
      ]
     },
     "execution_count": 2,
     "metadata": {},
     "output_type": "execute_result"
    }
   ],
   "source": [
    "df = pd.read_csv(\"/kaggle/input/spaceship-titanic/train.csv\")\n",
    "df.head(3)"
   ]
  },
  {
   "cell_type": "code",
   "execution_count": 3,
   "id": "60c0212e",
   "metadata": {
    "execution": {
     "iopub.execute_input": "2023-11-30T20:59:55.787252Z",
     "iopub.status.busy": "2023-11-30T20:59:55.786874Z",
     "iopub.status.idle": "2023-11-30T20:59:55.875792Z",
     "shell.execute_reply": "2023-11-30T20:59:55.873567Z"
    },
    "papermill": {
     "duration": 0.107051,
     "end_time": "2023-11-30T20:59:55.878562",
     "exception": false,
     "start_time": "2023-11-30T20:59:55.771511",
     "status": "completed"
    },
    "tags": []
   },
   "outputs": [
    {
     "name": "stdout",
     "output_type": "stream",
     "text": [
      "<class 'pandas.core.frame.DataFrame'>\n",
      "RangeIndex: 8693 entries, 0 to 8692\n",
      "Data columns (total 14 columns):\n",
      " #   Column        Non-Null Count  Dtype  \n",
      "---  ------        --------------  -----  \n",
      " 0   PassengerId   8693 non-null   object \n",
      " 1   HomePlanet    8492 non-null   float64\n",
      " 2   CryoSleep     8476 non-null   float64\n",
      " 3   Cabin         8494 non-null   object \n",
      " 4   Destination   8511 non-null   float64\n",
      " 5   Age           8514 non-null   float64\n",
      " 6   VIP           8490 non-null   float64\n",
      " 7   RoomService   8512 non-null   float64\n",
      " 8   FoodCourt     8510 non-null   float64\n",
      " 9   ShoppingMall  8485 non-null   float64\n",
      " 10  Spa           8510 non-null   float64\n",
      " 11  VRDeck        8505 non-null   float64\n",
      " 12  Name          8493 non-null   object \n",
      " 13  Transported   8693 non-null   int64  \n",
      "dtypes: float64(10), int64(1), object(3)\n",
      "memory usage: 950.9+ KB\n"
     ]
    }
   ],
   "source": [
    "#CryoSleep\n",
    "df['CryoSleep'] = df['CryoSleep'].replace({True: 1, False: 0})\n",
    "#Transported\n",
    "df['Transported'] = df['Transported'].replace({True: 1, False: 0})\n",
    "#HomePlanet\n",
    "df['HomePlanet'].replace('Earth', 1, inplace=True)\n",
    "df['HomePlanet'].replace('Europa', 2, inplace=True)\n",
    "df['HomePlanet'].replace('Mars', 3, inplace=True)\n",
    "#Destination\n",
    "df['Destination'].replace('55 Cancri e', 1, inplace=True)\n",
    "df['Destination'].replace('PSO J318.5-22', 2, inplace=True)\n",
    "df['Destination'].replace('TRAPPIST-1e', 3, inplace=True)\n",
    "\n",
    "#Vip\n",
    "df['VIP'] = df['VIP'].replace({True: 1, False: 0})\n",
    "\n",
    "df.info()"
   ]
  },
  {
   "cell_type": "markdown",
   "id": "91644736",
   "metadata": {
    "papermill": {
     "duration": 0.01422,
     "end_time": "2023-11-30T20:59:55.907299",
     "exception": false,
     "start_time": "2023-11-30T20:59:55.893079",
     "status": "completed"
    },
    "tags": []
   },
   "source": [
    "HomePlanet: {'Earth', 'Europa', 'Mars', nan}\n",
    "{1,2,3,4}"
   ]
  },
  {
   "cell_type": "markdown",
   "id": "a6c9d00c",
   "metadata": {
    "papermill": {
     "duration": 0.014247,
     "end_time": "2023-11-30T20:59:55.935976",
     "exception": false,
     "start_time": "2023-11-30T20:59:55.921729",
     "status": "completed"
    },
    "tags": []
   },
   "source": [
    "Destination: {'55 Cancri e', 'PSO J318.5-22', 'TRAPPIST-1e', nan}\n",
    "{1,2,3,4}"
   ]
  },
  {
   "cell_type": "markdown",
   "id": "1060dcb8",
   "metadata": {
    "papermill": {
     "duration": 0.014032,
     "end_time": "2023-11-30T20:59:55.963924",
     "exception": false,
     "start_time": "2023-11-30T20:59:55.949892",
     "status": "completed"
    },
    "tags": []
   },
   "source": [
    "letter_to_int = {'A': 1, 'B': 2, 'C': 3, 'D': 4, 'E': 5, 'F': 6, 'G': 7, 'H': 8, 'I': 9, 'J': 10}"
   ]
  },
  {
   "cell_type": "markdown",
   "id": "ce66864b",
   "metadata": {
    "papermill": {
     "duration": 0.014415,
     "end_time": "2023-11-30T20:59:55.992191",
     "exception": false,
     "start_time": "2023-11-30T20:59:55.977776",
     "status": "completed"
    },
    "tags": []
   },
   "source": [
    "Now we have 11 attribute to work with and they all are numeric\n"
   ]
  },
  {
   "cell_type": "markdown",
   "id": "b2e6e22d",
   "metadata": {
    "papermill": {
     "duration": 0.013782,
     "end_time": "2023-11-30T20:59:56.020227",
     "exception": false,
     "start_time": "2023-11-30T20:59:56.006445",
     "status": "completed"
    },
    "tags": []
   },
   "source": [
    "Now We can go to filling every null and nan cell in our dataframe"
   ]
  },
  {
   "cell_type": "code",
   "execution_count": 4,
   "id": "3bcc6ffb",
   "metadata": {
    "execution": {
     "iopub.execute_input": "2023-11-30T20:59:56.051859Z",
     "iopub.status.busy": "2023-11-30T20:59:56.051386Z",
     "iopub.status.idle": "2023-11-30T20:59:56.098588Z",
     "shell.execute_reply": "2023-11-30T20:59:56.096804Z"
    },
    "papermill": {
     "duration": 0.067387,
     "end_time": "2023-11-30T20:59:56.101597",
     "exception": false,
     "start_time": "2023-11-30T20:59:56.034210",
     "status": "completed"
    },
    "tags": []
   },
   "outputs": [
    {
     "name": "stdout",
     "output_type": "stream",
     "text": [
      "<class 'pandas.core.frame.DataFrame'>\n",
      "RangeIndex: 8693 entries, 0 to 8692\n",
      "Data columns (total 14 columns):\n",
      " #   Column        Non-Null Count  Dtype  \n",
      "---  ------        --------------  -----  \n",
      " 0   PassengerId   8693 non-null   object \n",
      " 1   HomePlanet    8693 non-null   float64\n",
      " 2   CryoSleep     8693 non-null   int64  \n",
      " 3   Cabin         8693 non-null   object \n",
      " 4   Destination   8693 non-null   float64\n",
      " 5   Age           8693 non-null   int64  \n",
      " 6   VIP           8693 non-null   int64  \n",
      " 7   RoomService   8693 non-null   float64\n",
      " 8   FoodCourt     8693 non-null   float64\n",
      " 9   ShoppingMall  8693 non-null   float64\n",
      " 10  Spa           8693 non-null   float64\n",
      " 11  VRDeck        8693 non-null   float64\n",
      " 12  Name          8693 non-null   object \n",
      " 13  Transported   8693 non-null   int64  \n",
      "dtypes: float64(7), int64(4), object(3)\n",
      "memory usage: 950.9+ KB\n"
     ]
    }
   ],
   "source": [
    "df[\"HomePlanet\"].fillna(df[\"HomePlanet\"].mode()[0],inplace=True)\n",
    "df[\"Destination\"].fillna(df[\"Destination\"].mode()[0],inplace=True)\n",
    "df[\"CryoSleep\"].fillna(df[\"CryoSleep\"].mode()[0],inplace=True)\n",
    "df[\"Cabin\"].fillna(df[\"Cabin\"].mode()[0],inplace=True)\n",
    "df[\"VIP\"].fillna(df[\"VIP\"].mode()[0],inplace=True)\n",
    "df[\"Name\"].fillna(df[\"Name\"].mode()[0],inplace=True)\n",
    "df[\"Age\"].fillna(int(df[\"Age\"].mean()),inplace=True)\n",
    "df[\"RoomService\"].fillna(df[\"RoomService\"].median(),inplace=True)\n",
    "df[\"FoodCourt\"].fillna(df[\"FoodCourt\"].median(),inplace=True)\n",
    "df[\"ShoppingMall\"].fillna(df[\"ShoppingMall\"].median(),inplace=True)\n",
    "df[\"Spa\"].fillna(df[\"Spa\"].median(),inplace=True)\n",
    "df[\"VRDeck\"].fillna(df[\"VRDeck\"].median(),inplace=True)\n",
    "df.Age = np.where(df.Age > 15 ,1,0)\n",
    "df.VIP = np.where(df.VIP,1,0)\n",
    "\n",
    "df.CryoSleep = np.where(df.CryoSleep,1,0)\n",
    "#No Nan, Null or empty cell\n",
    "df.info()"
   ]
  },
  {
   "cell_type": "code",
   "execution_count": 5,
   "id": "c458744e",
   "metadata": {
    "execution": {
     "iopub.execute_input": "2023-11-30T20:59:56.132849Z",
     "iopub.status.busy": "2023-11-30T20:59:56.132436Z",
     "iopub.status.idle": "2023-11-30T20:59:56.224033Z",
     "shell.execute_reply": "2023-11-30T20:59:56.222851Z"
    },
    "papermill": {
     "duration": 0.110768,
     "end_time": "2023-11-30T20:59:56.226678",
     "exception": false,
     "start_time": "2023-11-30T20:59:56.115910",
     "status": "completed"
    },
    "tags": []
   },
   "outputs": [
    {
     "data": {
      "text/html": [
       "<div>\n",
       "<style scoped>\n",
       "    .dataframe tbody tr th:only-of-type {\n",
       "        vertical-align: middle;\n",
       "    }\n",
       "\n",
       "    .dataframe tbody tr th {\n",
       "        vertical-align: top;\n",
       "    }\n",
       "\n",
       "    .dataframe thead th {\n",
       "        text-align: right;\n",
       "    }\n",
       "</style>\n",
       "<table border=\"1\" class=\"dataframe\">\n",
       "  <thead>\n",
       "    <tr style=\"text-align: right;\">\n",
       "      <th></th>\n",
       "      <th>PassengerId</th>\n",
       "      <th>HomePlanet</th>\n",
       "      <th>CryoSleep</th>\n",
       "      <th>Cabin</th>\n",
       "      <th>Destination</th>\n",
       "      <th>Age</th>\n",
       "      <th>VIP</th>\n",
       "      <th>RoomService</th>\n",
       "      <th>FoodCourt</th>\n",
       "      <th>ShoppingMall</th>\n",
       "      <th>Spa</th>\n",
       "      <th>VRDeck</th>\n",
       "      <th>Name</th>\n",
       "      <th>Transported</th>\n",
       "      <th>Port</th>\n",
       "      <th>Place</th>\n",
       "    </tr>\n",
       "  </thead>\n",
       "  <tbody>\n",
       "    <tr>\n",
       "      <th>0</th>\n",
       "      <td>0001_01</td>\n",
       "      <td>2.0</td>\n",
       "      <td>0</td>\n",
       "      <td>0</td>\n",
       "      <td>3.0</td>\n",
       "      <td>1</td>\n",
       "      <td>0</td>\n",
       "      <td>0.0</td>\n",
       "      <td>0.0</td>\n",
       "      <td>0.0</td>\n",
       "      <td>0.0</td>\n",
       "      <td>0.0</td>\n",
       "      <td>Maham Ofracculy</td>\n",
       "      <td>0</td>\n",
       "      <td>1</td>\n",
       "      <td>2</td>\n",
       "    </tr>\n",
       "    <tr>\n",
       "      <th>1</th>\n",
       "      <td>0002_01</td>\n",
       "      <td>1.0</td>\n",
       "      <td>0</td>\n",
       "      <td>0</td>\n",
       "      <td>3.0</td>\n",
       "      <td>1</td>\n",
       "      <td>0</td>\n",
       "      <td>109.0</td>\n",
       "      <td>9.0</td>\n",
       "      <td>25.0</td>\n",
       "      <td>549.0</td>\n",
       "      <td>44.0</td>\n",
       "      <td>Juanna Vines</td>\n",
       "      <td>1</td>\n",
       "      <td>0</td>\n",
       "      <td>6</td>\n",
       "    </tr>\n",
       "    <tr>\n",
       "      <th>2</th>\n",
       "      <td>0003_01</td>\n",
       "      <td>2.0</td>\n",
       "      <td>0</td>\n",
       "      <td>0</td>\n",
       "      <td>3.0</td>\n",
       "      <td>1</td>\n",
       "      <td>1</td>\n",
       "      <td>43.0</td>\n",
       "      <td>3576.0</td>\n",
       "      <td>0.0</td>\n",
       "      <td>6715.0</td>\n",
       "      <td>49.0</td>\n",
       "      <td>Altark Susent</td>\n",
       "      <td>0</td>\n",
       "      <td>0</td>\n",
       "      <td>1</td>\n",
       "    </tr>\n",
       "  </tbody>\n",
       "</table>\n",
       "</div>"
      ],
      "text/plain": [
       "  PassengerId  HomePlanet  CryoSleep  Cabin  Destination  Age  VIP  \\\n",
       "0     0001_01         2.0          0      0          3.0    1    0   \n",
       "1     0002_01         1.0          0      0          3.0    1    0   \n",
       "2     0003_01         2.0          0      0          3.0    1    1   \n",
       "\n",
       "   RoomService  FoodCourt  ShoppingMall     Spa  VRDeck             Name  \\\n",
       "0          0.0        0.0           0.0     0.0     0.0  Maham Ofracculy   \n",
       "1        109.0        9.0          25.0   549.0    44.0     Juanna Vines   \n",
       "2         43.0     3576.0           0.0  6715.0    49.0    Altark Susent   \n",
       "\n",
       "   Transported  Port  Place  \n",
       "0            0     1      2  \n",
       "1            1     0      6  \n",
       "2            0     0      1  "
      ]
     },
     "execution_count": 5,
     "metadata": {},
     "output_type": "execute_result"
    }
   ],
   "source": [
    "#Port or Starboard of the cabins\n",
    "df['Port'] = df['Cabin'].str.split('/').str[-1]\n",
    "df['Port'].replace('S', 0, inplace=True)\n",
    "df['Port'].replace('P', 1, inplace=True)\n",
    "\n",
    "#Class of the cabins\n",
    "df['Place'] = df['Cabin'].str.split('/').str[0]\n",
    "letter_to_int = {'A': 1, 'B': 2, 'C': 3, 'D': 4, 'E': 5, 'F': 6, 'G': 7, 'T': 8}\n",
    "df['Place'] = df['Place'].map(letter_to_int)\n",
    "\n",
    "\n",
    "#Number of cabins\n",
    "df['Cabin'] = df['Cabin'].str.split('/').str[1]\n",
    "df['Cabin'] = df['Cabin'].astype('Int64')\n",
    "df.head(3)"
   ]
  },
  {
   "cell_type": "code",
   "execution_count": 6,
   "id": "cdcc77ad",
   "metadata": {
    "execution": {
     "iopub.execute_input": "2023-11-30T20:59:56.258559Z",
     "iopub.status.busy": "2023-11-30T20:59:56.258169Z",
     "iopub.status.idle": "2023-11-30T20:59:56.335656Z",
     "shell.execute_reply": "2023-11-30T20:59:56.334423Z"
    },
    "papermill": {
     "duration": 0.097202,
     "end_time": "2023-11-30T20:59:56.338536",
     "exception": false,
     "start_time": "2023-11-30T20:59:56.241334",
     "status": "completed"
    },
    "tags": []
   },
   "outputs": [
    {
     "data": {
      "text/html": [
       "<div>\n",
       "<style scoped>\n",
       "    .dataframe tbody tr th:only-of-type {\n",
       "        vertical-align: middle;\n",
       "    }\n",
       "\n",
       "    .dataframe tbody tr th {\n",
       "        vertical-align: top;\n",
       "    }\n",
       "\n",
       "    .dataframe thead th {\n",
       "        text-align: right;\n",
       "    }\n",
       "</style>\n",
       "<table border=\"1\" class=\"dataframe\">\n",
       "  <thead>\n",
       "    <tr style=\"text-align: right;\">\n",
       "      <th></th>\n",
       "      <th>HomePlanet</th>\n",
       "      <th>CryoSleep</th>\n",
       "      <th>Cabin</th>\n",
       "      <th>Destination</th>\n",
       "      <th>Age</th>\n",
       "      <th>VIP</th>\n",
       "      <th>RoomService</th>\n",
       "      <th>FoodCourt</th>\n",
       "      <th>ShoppingMall</th>\n",
       "      <th>Spa</th>\n",
       "      <th>VRDeck</th>\n",
       "      <th>Transported</th>\n",
       "      <th>Port</th>\n",
       "      <th>Place</th>\n",
       "    </tr>\n",
       "  </thead>\n",
       "  <tbody>\n",
       "    <tr>\n",
       "      <th>count</th>\n",
       "      <td>8693.0</td>\n",
       "      <td>8693.0</td>\n",
       "      <td>8693.0</td>\n",
       "      <td>8693.0</td>\n",
       "      <td>8693.0</td>\n",
       "      <td>8693.0</td>\n",
       "      <td>8693.000000</td>\n",
       "      <td>8693.000000</td>\n",
       "      <td>8693.000000</td>\n",
       "      <td>8693.000000</td>\n",
       "      <td>8693.000000</td>\n",
       "      <td>8693.000000</td>\n",
       "      <td>8693.0</td>\n",
       "      <td>8693.0</td>\n",
       "    </tr>\n",
       "    <tr>\n",
       "      <th>mean</th>\n",
       "      <td>1.649833</td>\n",
       "      <td>0.349362</td>\n",
       "      <td>603.42678</td>\n",
       "      <td>2.494306</td>\n",
       "      <td>0.857356</td>\n",
       "      <td>0.022892</td>\n",
       "      <td>220.009318</td>\n",
       "      <td>448.434027</td>\n",
       "      <td>169.572300</td>\n",
       "      <td>304.588865</td>\n",
       "      <td>298.261820</td>\n",
       "      <td>0.503624</td>\n",
       "      <td>0.483838</td>\n",
       "      <td>5.344185</td>\n",
       "    </tr>\n",
       "    <tr>\n",
       "      <th>std</th>\n",
       "      <td>0.795183</td>\n",
       "      <td>0.476796</td>\n",
       "      <td>506.36841</td>\n",
       "      <td>0.814966</td>\n",
       "      <td>0.349729</td>\n",
       "      <td>0.149568</td>\n",
       "      <td>660.519050</td>\n",
       "      <td>1595.790627</td>\n",
       "      <td>598.007164</td>\n",
       "      <td>1125.562559</td>\n",
       "      <td>1134.126417</td>\n",
       "      <td>0.500016</td>\n",
       "      <td>0.499767</td>\n",
       "      <td>1.775938</td>\n",
       "    </tr>\n",
       "    <tr>\n",
       "      <th>min</th>\n",
       "      <td>1.0</td>\n",
       "      <td>0.0</td>\n",
       "      <td>0.0</td>\n",
       "      <td>1.0</td>\n",
       "      <td>0.0</td>\n",
       "      <td>0.0</td>\n",
       "      <td>0.000000</td>\n",
       "      <td>0.000000</td>\n",
       "      <td>0.000000</td>\n",
       "      <td>0.000000</td>\n",
       "      <td>0.000000</td>\n",
       "      <td>0.000000</td>\n",
       "      <td>0.0</td>\n",
       "      <td>1.0</td>\n",
       "    </tr>\n",
       "    <tr>\n",
       "      <th>25%</th>\n",
       "      <td>1.0</td>\n",
       "      <td>0.0</td>\n",
       "      <td>173.0</td>\n",
       "      <td>2.0</td>\n",
       "      <td>1.0</td>\n",
       "      <td>0.0</td>\n",
       "      <td>0.000000</td>\n",
       "      <td>0.000000</td>\n",
       "      <td>0.000000</td>\n",
       "      <td>0.000000</td>\n",
       "      <td>0.000000</td>\n",
       "      <td>0.000000</td>\n",
       "      <td>0.0</td>\n",
       "      <td>4.0</td>\n",
       "    </tr>\n",
       "    <tr>\n",
       "      <th>50%</th>\n",
       "      <td>1.0</td>\n",
       "      <td>0.0</td>\n",
       "      <td>448.0</td>\n",
       "      <td>3.0</td>\n",
       "      <td>1.0</td>\n",
       "      <td>0.0</td>\n",
       "      <td>0.000000</td>\n",
       "      <td>0.000000</td>\n",
       "      <td>0.000000</td>\n",
       "      <td>0.000000</td>\n",
       "      <td>0.000000</td>\n",
       "      <td>1.000000</td>\n",
       "      <td>0.0</td>\n",
       "      <td>6.0</td>\n",
       "    </tr>\n",
       "    <tr>\n",
       "      <th>75%</th>\n",
       "      <td>2.0</td>\n",
       "      <td>1.0</td>\n",
       "      <td>983.0</td>\n",
       "      <td>3.0</td>\n",
       "      <td>1.0</td>\n",
       "      <td>0.0</td>\n",
       "      <td>41.000000</td>\n",
       "      <td>61.000000</td>\n",
       "      <td>22.000000</td>\n",
       "      <td>53.000000</td>\n",
       "      <td>40.000000</td>\n",
       "      <td>1.000000</td>\n",
       "      <td>1.0</td>\n",
       "      <td>7.0</td>\n",
       "    </tr>\n",
       "    <tr>\n",
       "      <th>max</th>\n",
       "      <td>3.0</td>\n",
       "      <td>1.0</td>\n",
       "      <td>1894.0</td>\n",
       "      <td>3.0</td>\n",
       "      <td>1.0</td>\n",
       "      <td>1.0</td>\n",
       "      <td>14327.000000</td>\n",
       "      <td>29813.000000</td>\n",
       "      <td>23492.000000</td>\n",
       "      <td>22408.000000</td>\n",
       "      <td>24133.000000</td>\n",
       "      <td>1.000000</td>\n",
       "      <td>1.0</td>\n",
       "      <td>8.0</td>\n",
       "    </tr>\n",
       "  </tbody>\n",
       "</table>\n",
       "</div>"
      ],
      "text/plain": [
       "       HomePlanet  CryoSleep      Cabin  Destination       Age       VIP  \\\n",
       "count      8693.0     8693.0     8693.0       8693.0    8693.0    8693.0   \n",
       "mean     1.649833   0.349362  603.42678     2.494306  0.857356  0.022892   \n",
       "std      0.795183   0.476796  506.36841     0.814966  0.349729  0.149568   \n",
       "min           1.0        0.0        0.0          1.0       0.0       0.0   \n",
       "25%           1.0        0.0      173.0          2.0       1.0       0.0   \n",
       "50%           1.0        0.0      448.0          3.0       1.0       0.0   \n",
       "75%           2.0        1.0      983.0          3.0       1.0       0.0   \n",
       "max           3.0        1.0     1894.0          3.0       1.0       1.0   \n",
       "\n",
       "        RoomService     FoodCourt  ShoppingMall           Spa        VRDeck  \\\n",
       "count   8693.000000   8693.000000   8693.000000   8693.000000   8693.000000   \n",
       "mean     220.009318    448.434027    169.572300    304.588865    298.261820   \n",
       "std      660.519050   1595.790627    598.007164   1125.562559   1134.126417   \n",
       "min        0.000000      0.000000      0.000000      0.000000      0.000000   \n",
       "25%        0.000000      0.000000      0.000000      0.000000      0.000000   \n",
       "50%        0.000000      0.000000      0.000000      0.000000      0.000000   \n",
       "75%       41.000000     61.000000     22.000000     53.000000     40.000000   \n",
       "max    14327.000000  29813.000000  23492.000000  22408.000000  24133.000000   \n",
       "\n",
       "       Transported      Port     Place  \n",
       "count  8693.000000    8693.0    8693.0  \n",
       "mean      0.503624  0.483838  5.344185  \n",
       "std       0.500016  0.499767  1.775938  \n",
       "min       0.000000       0.0       1.0  \n",
       "25%       0.000000       0.0       4.0  \n",
       "50%       1.000000       0.0       6.0  \n",
       "75%       1.000000       1.0       7.0  \n",
       "max       1.000000       1.0       8.0  "
      ]
     },
     "execution_count": 6,
     "metadata": {},
     "output_type": "execute_result"
    }
   ],
   "source": [
    "df[['HomePlanet', 'CryoSleep', 'Destination', 'Age', 'VIP', 'Port', 'Place']] = df[['HomePlanet', 'CryoSleep', 'Destination', 'Age', 'VIP', 'Port', 'Place']].astype('Int64')\n",
    "df.describe()"
   ]
  },
  {
   "cell_type": "code",
   "execution_count": 7,
   "id": "f6d7966e",
   "metadata": {
    "execution": {
     "iopub.execute_input": "2023-11-30T20:59:56.370000Z",
     "iopub.status.busy": "2023-11-30T20:59:56.369555Z",
     "iopub.status.idle": "2023-11-30T20:59:56.374807Z",
     "shell.execute_reply": "2023-11-30T20:59:56.373685Z"
    },
    "papermill": {
     "duration": 0.023944,
     "end_time": "2023-11-30T20:59:56.377288",
     "exception": false,
     "start_time": "2023-11-30T20:59:56.353344",
     "status": "completed"
    },
    "tags": []
   },
   "outputs": [],
   "source": [
    "# dfBackup = df\n",
    "# dfBackup.head(3)"
   ]
  },
  {
   "cell_type": "code",
   "execution_count": 8,
   "id": "0b5eee18",
   "metadata": {
    "execution": {
     "iopub.execute_input": "2023-11-30T20:59:56.409309Z",
     "iopub.status.busy": "2023-11-30T20:59:56.408887Z",
     "iopub.status.idle": "2023-11-30T20:59:56.414290Z",
     "shell.execute_reply": "2023-11-30T20:59:56.412905Z"
    },
    "papermill": {
     "duration": 0.025378,
     "end_time": "2023-11-30T20:59:56.417455",
     "exception": false,
     "start_time": "2023-11-30T20:59:56.392077",
     "status": "completed"
    },
    "tags": []
   },
   "outputs": [],
   "source": [
    "# Apply square root transformation\n",
    "# df['RoomService'] = df['RoomService']**0.5\n",
    "# df['FoodCourt'] = df['FoodCourt']**0.5\n",
    "# df['ShoppingMall'] = df['ShoppingMall']**0.5\n",
    "# df['Spa'] = df['Spa']**0.5\n",
    "# df['VRDeck'] = df['VRDeck']**0.5\n",
    "# df.head(3)"
   ]
  },
  {
   "cell_type": "code",
   "execution_count": 9,
   "id": "7e79632b",
   "metadata": {
    "execution": {
     "iopub.execute_input": "2023-11-30T20:59:56.449380Z",
     "iopub.status.busy": "2023-11-30T20:59:56.448941Z",
     "iopub.status.idle": "2023-11-30T20:59:56.476762Z",
     "shell.execute_reply": "2023-11-30T20:59:56.475569Z"
    },
    "papermill": {
     "duration": 0.046917,
     "end_time": "2023-11-30T20:59:56.479167",
     "exception": false,
     "start_time": "2023-11-30T20:59:56.432250",
     "status": "completed"
    },
    "tags": []
   },
   "outputs": [
    {
     "data": {
      "text/html": [
       "<div>\n",
       "<style scoped>\n",
       "    .dataframe tbody tr th:only-of-type {\n",
       "        vertical-align: middle;\n",
       "    }\n",
       "\n",
       "    .dataframe tbody tr th {\n",
       "        vertical-align: top;\n",
       "    }\n",
       "\n",
       "    .dataframe thead th {\n",
       "        text-align: right;\n",
       "    }\n",
       "</style>\n",
       "<table border=\"1\" class=\"dataframe\">\n",
       "  <thead>\n",
       "    <tr style=\"text-align: right;\">\n",
       "      <th></th>\n",
       "      <th>PassengerId</th>\n",
       "      <th>HomePlanet</th>\n",
       "      <th>CryoSleep</th>\n",
       "      <th>Cabin</th>\n",
       "      <th>Destination</th>\n",
       "      <th>Age</th>\n",
       "      <th>VIP</th>\n",
       "      <th>RoomService</th>\n",
       "      <th>FoodCourt</th>\n",
       "      <th>ShoppingMall</th>\n",
       "      <th>Spa</th>\n",
       "      <th>VRDeck</th>\n",
       "      <th>Name</th>\n",
       "      <th>Transported</th>\n",
       "      <th>Port</th>\n",
       "      <th>Place</th>\n",
       "    </tr>\n",
       "  </thead>\n",
       "  <tbody>\n",
       "    <tr>\n",
       "      <th>0</th>\n",
       "      <td>0001_01</td>\n",
       "      <td>2</td>\n",
       "      <td>0</td>\n",
       "      <td>0</td>\n",
       "      <td>3</td>\n",
       "      <td>1</td>\n",
       "      <td>0</td>\n",
       "      <td>0.00000</td>\n",
       "      <td>0.000000</td>\n",
       "      <td>0.000000</td>\n",
       "      <td>0.000000</td>\n",
       "      <td>0.000000</td>\n",
       "      <td>Maham Ofracculy</td>\n",
       "      <td>0</td>\n",
       "      <td>1</td>\n",
       "      <td>2</td>\n",
       "    </tr>\n",
       "    <tr>\n",
       "      <th>1</th>\n",
       "      <td>0002_01</td>\n",
       "      <td>1</td>\n",
       "      <td>0</td>\n",
       "      <td>0</td>\n",
       "      <td>3</td>\n",
       "      <td>1</td>\n",
       "      <td>0</td>\n",
       "      <td>4.70048</td>\n",
       "      <td>2.302585</td>\n",
       "      <td>3.258097</td>\n",
       "      <td>6.309918</td>\n",
       "      <td>3.806662</td>\n",
       "      <td>Juanna Vines</td>\n",
       "      <td>1</td>\n",
       "      <td>0</td>\n",
       "      <td>6</td>\n",
       "    </tr>\n",
       "    <tr>\n",
       "      <th>2</th>\n",
       "      <td>0003_01</td>\n",
       "      <td>2</td>\n",
       "      <td>0</td>\n",
       "      <td>0</td>\n",
       "      <td>3</td>\n",
       "      <td>1</td>\n",
       "      <td>1</td>\n",
       "      <td>3.78419</td>\n",
       "      <td>8.182280</td>\n",
       "      <td>0.000000</td>\n",
       "      <td>8.812248</td>\n",
       "      <td>3.912023</td>\n",
       "      <td>Altark Susent</td>\n",
       "      <td>0</td>\n",
       "      <td>0</td>\n",
       "      <td>1</td>\n",
       "    </tr>\n",
       "  </tbody>\n",
       "</table>\n",
       "</div>"
      ],
      "text/plain": [
       "  PassengerId  HomePlanet  CryoSleep  Cabin  Destination  Age  VIP  \\\n",
       "0     0001_01           2          0      0            3    1    0   \n",
       "1     0002_01           1          0      0            3    1    0   \n",
       "2     0003_01           2          0      0            3    1    1   \n",
       "\n",
       "   RoomService  FoodCourt  ShoppingMall       Spa    VRDeck             Name  \\\n",
       "0      0.00000   0.000000      0.000000  0.000000  0.000000  Maham Ofracculy   \n",
       "1      4.70048   2.302585      3.258097  6.309918  3.806662     Juanna Vines   \n",
       "2      3.78419   8.182280      0.000000  8.812248  3.912023    Altark Susent   \n",
       "\n",
       "   Transported  Port  Place  \n",
       "0            0     1      2  \n",
       "1            1     0      6  \n",
       "2            0     0      1  "
      ]
     },
     "execution_count": 9,
     "metadata": {},
     "output_type": "execute_result"
    }
   ],
   "source": [
    "# # Apply log transformation\n",
    "df['RoomService'] = np.log1p(df['RoomService'])\n",
    "df['FoodCourt'] = np.log1p(df['FoodCourt'])\n",
    "df['ShoppingMall'] = np.log1p(df['ShoppingMall'])\n",
    "df['Spa'] = np.log1p(df['Spa'])\n",
    "df['VRDeck'] = np.log1p(df['VRDeck'])\n",
    "df.head(3)"
   ]
  },
  {
   "cell_type": "code",
   "execution_count": 10,
   "id": "2bad5588",
   "metadata": {
    "execution": {
     "iopub.execute_input": "2023-11-30T20:59:56.511455Z",
     "iopub.status.busy": "2023-11-30T20:59:56.510654Z",
     "iopub.status.idle": "2023-11-30T20:59:59.377107Z",
     "shell.execute_reply": "2023-11-30T20:59:59.375818Z"
    },
    "papermill": {
     "duration": 2.886976,
     "end_time": "2023-11-30T20:59:59.381159",
     "exception": false,
     "start_time": "2023-11-30T20:59:56.494183",
     "status": "completed"
    },
    "tags": []
   },
   "outputs": [
    {
     "data": {
      "text/plain": [
       "<Axes: >"
      ]
     },
     "execution_count": 10,
     "metadata": {},
     "output_type": "execute_result"
    },
    {
     "data": {
      "image/png": "[encoded data removed]",
      "text/plain": [
       "<Figure size 640x480 with 2 Axes>"
      ]
     },
     "metadata": {},
     "output_type": "display_data"
    }
   ],
   "source": [
    "import seaborn as sb\n",
    "df_num = df.select_dtypes(include=['float64', 'int64'])\n",
    "\n",
    "# Calculate the correlations of numerical columns\n",
    "corr = df_num.corr()\n",
    "\n",
    "sb.heatmap(corr, annot=True)"
   ]
  },
  {
   "cell_type": "code",
   "execution_count": 11,
   "id": "0e16ad13",
   "metadata": {
    "execution": {
     "iopub.execute_input": "2023-11-30T20:59:59.419324Z",
     "iopub.status.busy": "2023-11-30T20:59:59.418933Z",
     "iopub.status.idle": "2023-11-30T20:59:59.423391Z",
     "shell.execute_reply": "2023-11-30T20:59:59.422386Z"
    },
    "papermill": {
     "duration": 0.026798,
     "end_time": "2023-11-30T20:59:59.425619",
     "exception": false,
     "start_time": "2023-11-30T20:59:59.398821",
     "status": "completed"
    },
    "tags": []
   },
   "outputs": [],
   "source": [
    "# # Apply binning\n",
    "# df['RoomService'] = pd.qcut(df['RoomService'], q=4)\n",
    "# df['FoodCourt'] = pd.qcut(df['FoodCourt'], q=4)\n",
    "# df['ShoppingMall'] = pd.qcut(df['ShoppingMall'], q=4)\n",
    "# df['Spa'] = pd.qcut(df['Spa'], q=4)\n",
    "# df['VRDeck'] = pd.qcut(df['VRDeck'], q=4)"
   ]
  },
  {
   "cell_type": "code",
   "execution_count": 12,
   "id": "0079037d",
   "metadata": {
    "execution": {
     "iopub.execute_input": "2023-11-30T20:59:59.463058Z",
     "iopub.status.busy": "2023-11-30T20:59:59.462623Z",
     "iopub.status.idle": "2023-11-30T20:59:59.467428Z",
     "shell.execute_reply": "2023-11-30T20:59:59.466295Z"
    },
    "papermill": {
     "duration": 0.026704,
     "end_time": "2023-11-30T20:59:59.469915",
     "exception": false,
     "start_time": "2023-11-30T20:59:59.443211",
     "status": "completed"
    },
    "tags": []
   },
   "outputs": [],
   "source": [
    "#print('cryo Taransported: ', sum(df[df.CryoSleep == 1].Transported), 'transported: ',sum(df.Transported))\n",
    "# # Calculate mean\n",
    "# df['Mean_luxury'] = df[['RoomService', 'FoodCourt', 'ShoppingMall', 'Spa', 'VRDeck']].mean(axis=1)\n",
    "\n",
    "# df = df.drop(columns=['RoomService', 'FoodCourt', 'ShoppingMall', 'Spa', 'VRDeck'])\n",
    "\n",
    "# df['BigSpender'] = np.where(df.Mean_luxury > 1000, 1,0)\n",
    "# df['Mid_Spender'] = np.where(df.Mean_luxury >= 500, 1,0)\n",
    "# df['Non_Spender'] = np.where(df.Mean_luxury == 0, 1,0)\n",
    "# df.head(3)"
   ]
  },
  {
   "cell_type": "markdown",
   "id": "a84c0839",
   "metadata": {
    "papermill": {
     "duration": 0.017788,
     "end_time": "2023-11-30T20:59:59.567451",
     "exception": false,
     "start_time": "2023-11-30T20:59:59.549663",
     "status": "completed"
    },
    "tags": []
   },
   "source": [
    "{1:'55 Cancri e', 2:'PSO J318.5-22', 3:'TRAPPIST-1e'}\n",
    "{1:'Earth', 2:'Europa', 3:'Mars'}\n",
    "<<<<<HomePlanet to Destination>>>>\n",
    "1 to 1 >>> 721\n",
    "1 to 2 >>> 728\n",
    "1 to 3 >>> 3354\n",
    "--------------    \n",
    "2 to 1 >>> 193\n",
    "2 to 2 >>> 49\n",
    "2 to 3 >>> 1517\n",
    "-------------- \n",
    "3 to 1 >>> 886\n",
    "3 to 2 >>> 19\n",
    "3 to 3 >>> 1226\n",
    "-------------- "
   ]
  },
  {
   "cell_type": "code",
   "execution_count": 13,
   "id": "7e0ece02",
   "metadata": {
    "execution": {
     "iopub.execute_input": "2023-11-30T20:59:59.606041Z",
     "iopub.status.busy": "2023-11-30T20:59:59.605626Z",
     "iopub.status.idle": "2023-11-30T20:59:59.610329Z",
     "shell.execute_reply": "2023-11-30T20:59:59.609178Z"
    },
    "papermill": {
     "duration": 0.027246,
     "end_time": "2023-11-30T20:59:59.613108",
     "exception": false,
     "start_time": "2023-11-30T20:59:59.585862",
     "status": "completed"
    },
    "tags": []
   },
   "outputs": [],
   "source": [
    "#print(sum(df[df.HomePlanet == 1].Transported),sum(df.HomePlanet == 1))\n",
    "# sum(df[df.CryoSleep == 1].VIP)"
   ]
  },
  {
   "cell_type": "code",
   "execution_count": 14,
   "id": "ccffc8f8",
   "metadata": {
    "execution": {
     "iopub.execute_input": "2023-11-30T20:59:59.652435Z",
     "iopub.status.busy": "2023-11-30T20:59:59.652025Z",
     "iopub.status.idle": "2023-11-30T20:59:59.657148Z",
     "shell.execute_reply": "2023-11-30T20:59:59.655718Z"
    },
    "papermill": {
     "duration": 0.027588,
     "end_time": "2023-11-30T20:59:59.659484",
     "exception": false,
     "start_time": "2023-11-30T20:59:59.631896",
     "status": "completed"
    },
    "tags": []
   },
   "outputs": [],
   "source": [
    "# print('Slept and didnt spend: ',sum(df[df.CryoSleep == 1].Non_Spender),'All that Slept: ',sum(df.CryoSleep),'All Non-Speders: ',sum(df.Non_Spender))"
   ]
  },
  {
   "cell_type": "code",
   "execution_count": 15,
   "id": "2dc88353",
   "metadata": {
    "execution": {
     "iopub.execute_input": "2023-11-30T20:59:59.698382Z",
     "iopub.status.busy": "2023-11-30T20:59:59.697973Z",
     "iopub.status.idle": "2023-11-30T20:59:59.702977Z",
     "shell.execute_reply": "2023-11-30T20:59:59.701860Z"
    },
    "papermill": {
     "duration": 0.027469,
     "end_time": "2023-11-30T20:59:59.705467",
     "exception": false,
     "start_time": "2023-11-30T20:59:59.677998",
     "status": "completed"
    },
    "tags": []
   },
   "outputs": [],
   "source": [
    "# ids_groups = np.array([i.split(\"_\") for i in df.PassengerId.values])\n",
    "# unique_groups = np.unique(ids_groups[:,0])\n",
    "# group_status = dict()\n",
    "# for i in unique_groups:\n",
    "#     passeng = ids_groups[ids_groups[:,0]==i]\n",
    "#     for j in range(len(passeng)):\n",
    "#         group_status[\"_\".join(passeng[j])]=int(len(passeng)>1)"
   ]
  },
  {
   "cell_type": "code",
   "execution_count": 16,
   "id": "80a42db7",
   "metadata": {
    "execution": {
     "iopub.execute_input": "2023-11-30T20:59:59.746594Z",
     "iopub.status.busy": "2023-11-30T20:59:59.746209Z",
     "iopub.status.idle": "2023-11-30T20:59:59.801252Z",
     "shell.execute_reply": "2023-11-30T20:59:59.799903Z"
    },
    "papermill": {
     "duration": 0.07974,
     "end_time": "2023-11-30T20:59:59.805211",
     "exception": false,
     "start_time": "2023-11-30T20:59:59.725471",
     "status": "completed"
    },
    "tags": []
   },
   "outputs": [
    {
     "data": {
      "text/html": [
       "<div>\n",
       "<style scoped>\n",
       "    .dataframe tbody tr th:only-of-type {\n",
       "        vertical-align: middle;\n",
       "    }\n",
       "\n",
       "    .dataframe tbody tr th {\n",
       "        vertical-align: top;\n",
       "    }\n",
       "\n",
       "    .dataframe thead th {\n",
       "        text-align: right;\n",
       "    }\n",
       "</style>\n",
       "<table border=\"1\" class=\"dataframe\">\n",
       "  <thead>\n",
       "    <tr style=\"text-align: right;\">\n",
       "      <th></th>\n",
       "      <th>PassengerId</th>\n",
       "      <th>HomePlanet</th>\n",
       "      <th>CryoSleep</th>\n",
       "      <th>Cabin</th>\n",
       "      <th>Destination</th>\n",
       "      <th>Age</th>\n",
       "      <th>VIP</th>\n",
       "      <th>RoomService</th>\n",
       "      <th>FoodCourt</th>\n",
       "      <th>ShoppingMall</th>\n",
       "      <th>Spa</th>\n",
       "      <th>VRDeck</th>\n",
       "      <th>Name</th>\n",
       "      <th>Transported</th>\n",
       "      <th>Port</th>\n",
       "      <th>Place</th>\n",
       "      <th>FamilyId</th>\n",
       "      <th>GroupId</th>\n",
       "    </tr>\n",
       "  </thead>\n",
       "  <tbody>\n",
       "    <tr>\n",
       "      <th>0</th>\n",
       "      <td>0001_01</td>\n",
       "      <td>2</td>\n",
       "      <td>0</td>\n",
       "      <td>0</td>\n",
       "      <td>3</td>\n",
       "      <td>1</td>\n",
       "      <td>0</td>\n",
       "      <td>0.000000</td>\n",
       "      <td>0.000000</td>\n",
       "      <td>0.000000</td>\n",
       "      <td>0.000000</td>\n",
       "      <td>0.000000</td>\n",
       "      <td>Maham Ofracculy</td>\n",
       "      <td>0</td>\n",
       "      <td>1</td>\n",
       "      <td>2</td>\n",
       "      <td>0</td>\n",
       "      <td>0</td>\n",
       "    </tr>\n",
       "    <tr>\n",
       "      <th>1</th>\n",
       "      <td>0002_01</td>\n",
       "      <td>1</td>\n",
       "      <td>0</td>\n",
       "      <td>0</td>\n",
       "      <td>3</td>\n",
       "      <td>1</td>\n",
       "      <td>0</td>\n",
       "      <td>4.700480</td>\n",
       "      <td>2.302585</td>\n",
       "      <td>3.258097</td>\n",
       "      <td>6.309918</td>\n",
       "      <td>3.806662</td>\n",
       "      <td>Juanna Vines</td>\n",
       "      <td>1</td>\n",
       "      <td>0</td>\n",
       "      <td>6</td>\n",
       "      <td>1</td>\n",
       "      <td>1</td>\n",
       "    </tr>\n",
       "    <tr>\n",
       "      <th>2</th>\n",
       "      <td>0003_01</td>\n",
       "      <td>2</td>\n",
       "      <td>0</td>\n",
       "      <td>0</td>\n",
       "      <td>3</td>\n",
       "      <td>1</td>\n",
       "      <td>1</td>\n",
       "      <td>3.784190</td>\n",
       "      <td>8.182280</td>\n",
       "      <td>0.000000</td>\n",
       "      <td>8.812248</td>\n",
       "      <td>3.912023</td>\n",
       "      <td>Altark Susent</td>\n",
       "      <td>0</td>\n",
       "      <td>0</td>\n",
       "      <td>1</td>\n",
       "      <td>2</td>\n",
       "      <td>2</td>\n",
       "    </tr>\n",
       "    <tr>\n",
       "      <th>3</th>\n",
       "      <td>0003_02</td>\n",
       "      <td>2</td>\n",
       "      <td>0</td>\n",
       "      <td>0</td>\n",
       "      <td>3</td>\n",
       "      <td>1</td>\n",
       "      <td>0</td>\n",
       "      <td>0.000000</td>\n",
       "      <td>7.157735</td>\n",
       "      <td>5.918894</td>\n",
       "      <td>8.110728</td>\n",
       "      <td>5.267858</td>\n",
       "      <td>Solam Susent</td>\n",
       "      <td>0</td>\n",
       "      <td>0</td>\n",
       "      <td>1</td>\n",
       "      <td>2</td>\n",
       "      <td>2</td>\n",
       "    </tr>\n",
       "    <tr>\n",
       "      <th>4</th>\n",
       "      <td>0004_01</td>\n",
       "      <td>1</td>\n",
       "      <td>0</td>\n",
       "      <td>1</td>\n",
       "      <td>3</td>\n",
       "      <td>1</td>\n",
       "      <td>0</td>\n",
       "      <td>5.717028</td>\n",
       "      <td>4.262680</td>\n",
       "      <td>5.023881</td>\n",
       "      <td>6.338594</td>\n",
       "      <td>1.098612</td>\n",
       "      <td>Willy Santantines</td>\n",
       "      <td>1</td>\n",
       "      <td>0</td>\n",
       "      <td>6</td>\n",
       "      <td>3</td>\n",
       "      <td>3</td>\n",
       "    </tr>\n",
       "  </tbody>\n",
       "</table>\n",
       "</div>"
      ],
      "text/plain": [
       "  PassengerId  HomePlanet  CryoSleep  Cabin  Destination  Age  VIP  \\\n",
       "0     0001_01           2          0      0            3    1    0   \n",
       "1     0002_01           1          0      0            3    1    0   \n",
       "2     0003_01           2          0      0            3    1    1   \n",
       "3     0003_02           2          0      0            3    1    0   \n",
       "4     0004_01           1          0      1            3    1    0   \n",
       "\n",
       "   RoomService  FoodCourt  ShoppingMall       Spa    VRDeck  \\\n",
       "0     0.000000   0.000000      0.000000  0.000000  0.000000   \n",
       "1     4.700480   2.302585      3.258097  6.309918  3.806662   \n",
       "2     3.784190   8.182280      0.000000  8.812248  3.912023   \n",
       "3     0.000000   7.157735      5.918894  8.110728  5.267858   \n",
       "4     5.717028   4.262680      5.023881  6.338594  1.098612   \n",
       "\n",
       "                Name  Transported  Port  Place  FamilyId  GroupId  \n",
       "0    Maham Ofracculy            0     1      2         0        0  \n",
       "1       Juanna Vines            1     0      6         1        1  \n",
       "2      Altark Susent            0     0      1         2        2  \n",
       "3       Solam Susent            0     0      1         2        2  \n",
       "4  Willy Santantines            1     0      6         3        3  "
      ]
     },
     "execution_count": 16,
     "metadata": {},
     "output_type": "execute_result"
    }
   ],
   "source": [
    "#Lastnames and groups\n",
    "lastNames = df['Name'].str.split(' ').str[-1]\n",
    "ids_groups = df['PassengerId'].apply(lambda x: x.split('_')[0])\n",
    "\n",
    "df['FamilyId'] = pd.factorize(lastNames)[0]\n",
    "df['GroupId'] = pd.factorize(ids_groups)[0]\n",
    "df.head()"
   ]
  },
  {
   "cell_type": "code",
   "execution_count": 17,
   "id": "4619b9dd",
   "metadata": {
    "execution": {
     "iopub.execute_input": "2023-11-30T20:59:59.844706Z",
     "iopub.status.busy": "2023-11-30T20:59:59.844308Z",
     "iopub.status.idle": "2023-11-30T20:59:59.849724Z",
     "shell.execute_reply": "2023-11-30T20:59:59.848357Z"
    },
    "papermill": {
     "duration": 0.028136,
     "end_time": "2023-11-30T20:59:59.852498",
     "exception": false,
     "start_time": "2023-11-30T20:59:59.824362",
     "status": "completed"
    },
    "tags": []
   },
   "outputs": [],
   "source": [
    "# mids = sum(df[df.CryoSleep == 0].Non_Spender)\n",
    "# totalAwake = sum(df.CryoSleep == 0)\n",
    "# awakeTransported = sum(df[df.CryoSleep == 0].Transported)\n",
    "# awakeMidTransported = sum(df[(df['CryoSleep'] == 0) & (df['Age'] < 15))]['Transported'])\n",
    "# print(mids/totalAwake,awakeTransported/totalAwake, awakeMidTransported / totalAwake, awakeMidTransported / mids)\n",
    "# print(sum(df[df.Age < 15].CryoSleep == 0))"
   ]
  },
  {
   "cell_type": "code",
   "execution_count": 18,
   "id": "0b4a7963",
   "metadata": {
    "execution": {
     "iopub.execute_input": "2023-11-30T20:59:59.891686Z",
     "iopub.status.busy": "2023-11-30T20:59:59.891287Z",
     "iopub.status.idle": "2023-11-30T20:59:59.896247Z",
     "shell.execute_reply": "2023-11-30T20:59:59.894973Z"
    },
    "papermill": {
     "duration": 0.027344,
     "end_time": "2023-11-30T20:59:59.898892",
     "exception": false,
     "start_time": "2023-11-30T20:59:59.871548",
     "status": "completed"
    },
    "tags": []
   },
   "outputs": [],
   "source": [
    "# age = 10\n",
    "# print('less than:',age,'years: ', sum(df[df.Age < age].Transported),sum(df.Age < age))\n",
    "# print('higher than:',age,'years: ', sum(df[df.Age > age].Transported),sum(df.Age > age))"
   ]
  },
  {
   "cell_type": "code",
   "execution_count": 19,
   "id": "acb7b0ff",
   "metadata": {
    "execution": {
     "iopub.execute_input": "2023-11-30T20:59:59.937794Z",
     "iopub.status.busy": "2023-11-30T20:59:59.937383Z",
     "iopub.status.idle": "2023-11-30T20:59:59.961530Z",
     "shell.execute_reply": "2023-11-30T20:59:59.960616Z"
    },
    "papermill": {
     "duration": 0.046528,
     "end_time": "2023-11-30T20:59:59.963900",
     "exception": false,
     "start_time": "2023-11-30T20:59:59.917372",
     "status": "completed"
    },
    "tags": []
   },
   "outputs": [
    {
     "data": {
      "text/html": [
       "<div>\n",
       "<style scoped>\n",
       "    .dataframe tbody tr th:only-of-type {\n",
       "        vertical-align: middle;\n",
       "    }\n",
       "\n",
       "    .dataframe tbody tr th {\n",
       "        vertical-align: top;\n",
       "    }\n",
       "\n",
       "    .dataframe thead th {\n",
       "        text-align: right;\n",
       "    }\n",
       "</style>\n",
       "<table border=\"1\" class=\"dataframe\">\n",
       "  <thead>\n",
       "    <tr style=\"text-align: right;\">\n",
       "      <th></th>\n",
       "      <th>HomePlanet</th>\n",
       "      <th>CryoSleep</th>\n",
       "      <th>Destination</th>\n",
       "      <th>Age</th>\n",
       "      <th>VIP</th>\n",
       "      <th>RoomService</th>\n",
       "      <th>FoodCourt</th>\n",
       "      <th>ShoppingMall</th>\n",
       "      <th>Spa</th>\n",
       "      <th>VRDeck</th>\n",
       "      <th>Port</th>\n",
       "      <th>Place</th>\n",
       "      <th>FamilyId</th>\n",
       "      <th>GroupId</th>\n",
       "    </tr>\n",
       "  </thead>\n",
       "  <tbody>\n",
       "    <tr>\n",
       "      <th>0</th>\n",
       "      <td>2</td>\n",
       "      <td>0</td>\n",
       "      <td>3</td>\n",
       "      <td>1</td>\n",
       "      <td>0</td>\n",
       "      <td>0.00000</td>\n",
       "      <td>0.000000</td>\n",
       "      <td>0.000000</td>\n",
       "      <td>0.000000</td>\n",
       "      <td>0.000000</td>\n",
       "      <td>1</td>\n",
       "      <td>2</td>\n",
       "      <td>0</td>\n",
       "      <td>0</td>\n",
       "    </tr>\n",
       "    <tr>\n",
       "      <th>1</th>\n",
       "      <td>1</td>\n",
       "      <td>0</td>\n",
       "      <td>3</td>\n",
       "      <td>1</td>\n",
       "      <td>0</td>\n",
       "      <td>4.70048</td>\n",
       "      <td>2.302585</td>\n",
       "      <td>3.258097</td>\n",
       "      <td>6.309918</td>\n",
       "      <td>3.806662</td>\n",
       "      <td>0</td>\n",
       "      <td>6</td>\n",
       "      <td>1</td>\n",
       "      <td>1</td>\n",
       "    </tr>\n",
       "    <tr>\n",
       "      <th>2</th>\n",
       "      <td>2</td>\n",
       "      <td>0</td>\n",
       "      <td>3</td>\n",
       "      <td>1</td>\n",
       "      <td>1</td>\n",
       "      <td>3.78419</td>\n",
       "      <td>8.182280</td>\n",
       "      <td>0.000000</td>\n",
       "      <td>8.812248</td>\n",
       "      <td>3.912023</td>\n",
       "      <td>0</td>\n",
       "      <td>1</td>\n",
       "      <td>2</td>\n",
       "      <td>2</td>\n",
       "    </tr>\n",
       "  </tbody>\n",
       "</table>\n",
       "</div>"
      ],
      "text/plain": [
       "   HomePlanet  CryoSleep  Destination  Age  VIP  RoomService  FoodCourt  \\\n",
       "0           2          0            3    1    0      0.00000   0.000000   \n",
       "1           1          0            3    1    0      4.70048   2.302585   \n",
       "2           2          0            3    1    1      3.78419   8.182280   \n",
       "\n",
       "   ShoppingMall       Spa    VRDeck  Port  Place  FamilyId  GroupId  \n",
       "0      0.000000  0.000000  0.000000     1      2         0        0  \n",
       "1      3.258097  6.309918  3.806662     0      6         1        1  \n",
       "2      0.000000  8.812248  3.912023     0      1         2        2  "
      ]
     },
     "execution_count": 19,
     "metadata": {},
     "output_type": "execute_result"
    }
   ],
   "source": [
    "newtrainDF = df\n",
    "ids = newtrainDF['PassengerId'].copy()\n",
    "transporteds = newtrainDF['Transported'].copy()\n",
    "newtrainDF = newtrainDF.drop(columns=['PassengerId','Name','Transported','Cabin'])\n",
    "newtrainDF.head(3)"
   ]
  },
  {
   "cell_type": "code",
   "execution_count": 20,
   "id": "47cb1c22",
   "metadata": {
    "execution": {
     "iopub.execute_input": "2023-11-30T21:00:00.004403Z",
     "iopub.status.busy": "2023-11-30T21:00:00.003973Z",
     "iopub.status.idle": "2023-11-30T21:00:00.020507Z",
     "shell.execute_reply": "2023-11-30T21:00:00.018692Z"
    },
    "papermill": {
     "duration": 0.040081,
     "end_time": "2023-11-30T21:00:00.023307",
     "exception": false,
     "start_time": "2023-11-30T20:59:59.983226",
     "status": "completed"
    },
    "tags": []
   },
   "outputs": [
    {
     "name": "stdout",
     "output_type": "stream",
     "text": [
      "<class 'pandas.core.frame.DataFrame'>\n",
      "RangeIndex: 8693 entries, 0 to 8692\n",
      "Data columns (total 14 columns):\n",
      " #   Column        Non-Null Count  Dtype  \n",
      "---  ------        --------------  -----  \n",
      " 0   HomePlanet    8693 non-null   Int64  \n",
      " 1   CryoSleep     8693 non-null   Int64  \n",
      " 2   Destination   8693 non-null   Int64  \n",
      " 3   Age           8693 non-null   Int64  \n",
      " 4   VIP           8693 non-null   Int64  \n",
      " 5   RoomService   8693 non-null   float64\n",
      " 6   FoodCourt     8693 non-null   float64\n",
      " 7   ShoppingMall  8693 non-null   float64\n",
      " 8   Spa           8693 non-null   float64\n",
      " 9   VRDeck        8693 non-null   float64\n",
      " 10  Port          8693 non-null   Int64  \n",
      " 11  Place         8693 non-null   Int64  \n",
      " 12  FamilyId      8693 non-null   int64  \n",
      " 13  GroupId       8693 non-null   int64  \n",
      "dtypes: Int64(7), float64(5), int64(2)\n",
      "memory usage: 1010.3 KB\n"
     ]
    }
   ],
   "source": [
    "newtrainDF.info()"
   ]
  },
  {
   "cell_type": "code",
   "execution_count": 21,
   "id": "164d1997",
   "metadata": {
    "execution": {
     "iopub.execute_input": "2023-11-30T21:00:00.065367Z",
     "iopub.status.busy": "2023-11-30T21:00:00.064944Z",
     "iopub.status.idle": "2023-11-30T21:00:00.070025Z",
     "shell.execute_reply": "2023-11-30T21:00:00.068953Z"
    },
    "papermill": {
     "duration": 0.029825,
     "end_time": "2023-11-30T21:00:00.072467",
     "exception": false,
     "start_time": "2023-11-30T21:00:00.042642",
     "status": "completed"
    },
    "tags": []
   },
   "outputs": [],
   "source": [
    "# from sklearn.model_selection import train_test_split\n",
    "# X_train, X_test, y_train, y_test = train_test_split(newtrainDF.drop('Transported',axis=1), \n",
    "#                                                   df['Transported'], test_size=0.30, \n",
    "#                                                     random_state=101)\n",
    "# newtrainDF.head(1)"
   ]
  },
  {
   "cell_type": "code",
   "execution_count": 22,
   "id": "6e8badbc",
   "metadata": {
    "execution": {
     "iopub.execute_input": "2023-11-30T21:00:00.113896Z",
     "iopub.status.busy": "2023-11-30T21:00:00.113445Z",
     "iopub.status.idle": "2023-11-30T21:00:03.130201Z",
     "shell.execute_reply": "2023-11-30T21:00:03.128547Z"
    },
    "papermill": {
     "duration": 3.04306,
     "end_time": "2023-11-30T21:00:03.135384",
     "exception": false,
     "start_time": "2023-11-30T21:00:00.092324",
     "status": "completed"
    },
    "tags": []
   },
   "outputs": [
    {
     "data": {
      "text/html": [
       "<style>#sk-container-id-1 {color: black;background-color: white;}#sk-container-id-1 pre{padding: 0;}#sk-container-id-1 div.sk-toggleable {background-color: white;}#sk-container-id-1 label.sk-toggleable__label {cursor: pointer;display: block;width: 100%;margin-bottom: 0;padding: 0.3em;box-sizing: border-box;text-align: center;}#sk-container-id-1 label.sk-toggleable__label-arrow:before {content: \"▸\";float: left;margin-right: 0.25em;color: #696969;}#sk-container-id-1 label.sk-toggleable__label-arrow:hover:before {color: black;}#sk-container-id-1 div.sk-estimator:hover label.sk-toggleable__label-arrow:before {color: black;}#sk-container-id-1 div.sk-toggleable__content {max-height: 0;max-width: 0;overflow: hidden;text-align: left;background-color: #f0f8ff;}#sk-container-id-1 div.sk-toggleable__content pre {margin: 0.2em;color: black;border-radius: 0.25em;background-color: #f0f8ff;}#sk-container-id-1 input.sk-toggleable__control:checked~div.sk-toggleable__content {max-height: 200px;max-width: 100%;overflow: auto;}#sk-container-id-1 input.sk-toggleable__control:checked~label.sk-toggleable__label-arrow:before {content: \"▾\";}#sk-container-id-1 div.sk-estimator input.sk-toggleable__control:checked~label.sk-toggleable__label {background-color: #d4ebff;}#sk-container-id-1 div.sk-label input.sk-toggleable__control:checked~label.sk-toggleable__label {background-color: #d4ebff;}#sk-container-id-1 input.sk-hidden--visually {border: 0;clip: rect(1px 1px 1px 1px);clip: rect(1px, 1px, 1px, 1px);height: 1px;margin: -1px;overflow: hidden;padding: 0;position: absolute;width: 1px;}#sk-container-id-1 div.sk-estimator {font-family: monospace;background-color: #f0f8ff;border: 1px dotted black;border-radius: 0.25em;box-sizing: border-box;margin-bottom: 0.5em;}#sk-container-id-1 div.sk-estimator:hover {background-color: #d4ebff;}#sk-container-id-1 div.sk-parallel-item::after {content: \"\";width: 100%;border-bottom: 1px solid gray;flex-grow: 1;}#sk-container-id-1 div.sk-label:hover label.sk-toggleable__label {background-color: #d4ebff;}#sk-container-id-1 div.sk-serial::before {content: \"\";position: absolute;border-left: 1px solid gray;box-sizing: border-box;top: 0;bottom: 0;left: 50%;z-index: 0;}#sk-container-id-1 div.sk-serial {display: flex;flex-direction: column;align-items: center;background-color: white;padding-right: 0.2em;padding-left: 0.2em;position: relative;}#sk-container-id-1 div.sk-item {position: relative;z-index: 1;}#sk-container-id-1 div.sk-parallel {display: flex;align-items: stretch;justify-content: center;background-color: white;position: relative;}#sk-container-id-1 div.sk-item::before, #sk-container-id-1 div.sk-parallel-item::before {content: \"\";position: absolute;border-left: 1px solid gray;box-sizing: border-box;top: 0;bottom: 0;left: 50%;z-index: -1;}#sk-container-id-1 div.sk-parallel-item {display: flex;flex-direction: column;z-index: 1;position: relative;background-color: white;}#sk-container-id-1 div.sk-parallel-item:first-child::after {align-self: flex-end;width: 50%;}#sk-container-id-1 div.sk-parallel-item:last-child::after {align-self: flex-start;width: 50%;}#sk-container-id-1 div.sk-parallel-item:only-child::after {width: 0;}#sk-container-id-1 div.sk-dashed-wrapped {border: 1px dashed gray;margin: 0 0.4em 0.5em 0.4em;box-sizing: border-box;padding-bottom: 0.4em;background-color: white;}#sk-container-id-1 div.sk-label label {font-family: monospace;font-weight: bold;display: inline-block;line-height: 1.2em;}#sk-container-id-1 div.sk-label-container {text-align: center;}#sk-container-id-1 div.sk-container {/* jupyter's `normalize.less` sets `[hidden] { display: none; }` but bootstrap.min.css set `[hidden] { display: none !important; }` so we also need the `!important` here to be able to override the default hidden behavior on the sphinx rendered scikit-learn.org. See: https://github.com/scikit-learn/scikit-learn/issues/21755 */display: inline-block !important;position: relative;}#sk-container-id-1 div.sk-text-repr-fallback {display: none;}</style><div id=\"sk-container-id-1\" class=\"sk-top-container\"><div class=\"sk-text-repr-fallback\"><pre>LogisticRegression(max_iter=10000)</pre><b>In a Jupyter environment, please rerun this cell to show the HTML representation or trust the notebook. <br />On GitHub, the HTML representation is unable to render, please try loading this page with nbviewer.org.</b></div><div class=\"sk-container\" hidden><div class=\"sk-item\"><div class=\"sk-estimator sk-toggleable\"><input class=\"sk-toggleable__control sk-hidden--visually\" id=\"sk-estimator-id-1\" type=\"checkbox\" checked><label for=\"sk-estimator-id-1\" class=\"sk-toggleable__label sk-toggleable__label-arrow\">LogisticRegression</label><div class=\"sk-toggleable__content\"><pre>LogisticRegression(max_iter=10000)</pre></div></div></div></div></div>"
      ],
      "text/plain": [
       "LogisticRegression(max_iter=10000)"
      ]
     },
     "execution_count": 22,
     "metadata": {},
     "output_type": "execute_result"
    }
   ],
   "source": [
    "from sklearn.linear_model import LogisticRegression\n",
    "logmodel = LogisticRegression(max_iter=10000)\n",
    "logmodel.fit(newtrainDF, transporteds)"
   ]
  },
  {
   "cell_type": "code",
   "execution_count": 23,
   "id": "07511992",
   "metadata": {
    "execution": {
     "iopub.execute_input": "2023-11-30T21:00:03.228709Z",
     "iopub.status.busy": "2023-11-30T21:00:03.228307Z",
     "iopub.status.idle": "2023-11-30T21:00:03.275234Z",
     "shell.execute_reply": "2023-11-30T21:00:03.273719Z"
    },
    "papermill": {
     "duration": 0.098697,
     "end_time": "2023-11-30T21:00:03.277924",
     "exception": false,
     "start_time": "2023-11-30T21:00:03.179227",
     "status": "completed"
    },
    "tags": []
   },
   "outputs": [
    {
     "name": "stdout",
     "output_type": "stream",
     "text": [
      "<class 'pandas.core.frame.DataFrame'>\n",
      "RangeIndex: 4277 entries, 0 to 4276\n",
      "Data columns (total 13 columns):\n",
      " #   Column        Non-Null Count  Dtype  \n",
      "---  ------        --------------  -----  \n",
      " 0   PassengerId   4277 non-null   object \n",
      " 1   HomePlanet    4190 non-null   object \n",
      " 2   CryoSleep     4184 non-null   object \n",
      " 3   Cabin         4177 non-null   object \n",
      " 4   Destination   4185 non-null   object \n",
      " 5   Age           4186 non-null   float64\n",
      " 6   VIP           4184 non-null   object \n",
      " 7   RoomService   4195 non-null   float64\n",
      " 8   FoodCourt     4171 non-null   float64\n",
      " 9   ShoppingMall  4179 non-null   float64\n",
      " 10  Spa           4176 non-null   float64\n",
      " 11  VRDeck        4197 non-null   float64\n",
      " 12  Name          4183 non-null   object \n",
      "dtypes: float64(6), object(7)\n",
      "memory usage: 434.5+ KB\n"
     ]
    }
   ],
   "source": [
    "df_test = pd.read_csv(\"/kaggle/input/spaceship-titanic/test.csv\")\n",
    "ids_test = df_test['PassengerId'].copy()\n",
    "# # Removing NANs\n",
    "# df_test[\"CryoSleep\"].fillna(df_test[\"CryoSleep\"].mode()[0],inplace=True)\n",
    "# df_test[\"Age\"].fillna(df_test[\"Age\"].mean(),inplace=True)\n",
    "# df_test[\"RoomService\"].fillna(df_test[\"RoomService\"].mean(),inplace=True)\n",
    "# df_test[\"FoodCourt\"].fillna(df_test[\"FoodCourt\"].mean(),inplace=True)\n",
    "# df_test[\"ShoppingMall\"].fillna(df_test[\"ShoppingMall\"].mean(),inplace=True)\n",
    "# df_test[\"Spa\"].fillna(df_test[\"Spa\"].mean(),inplace=True)\n",
    "# df_test[\"VRDeck\"].fillna(df_test[\"VRDeck\"].mean(),inplace=True)\n",
    "# df_test.VIP = np.where(df_test.VIP,1,0)\n",
    "# df_test.CryoSleep = np.where(df_test.CryoSleep,1,0)\n",
    "# df_test = df_test.drop([\"Name\",\"HomePlanet\",\"Destination\",\"Cabin\"], axis='columns')\n",
    "df_test.info()"
   ]
  },
  {
   "cell_type": "code",
   "execution_count": 24,
   "id": "8ef6c52c",
   "metadata": {
    "execution": {
     "iopub.execute_input": "2023-11-30T21:00:03.319911Z",
     "iopub.status.busy": "2023-11-30T21:00:03.319088Z",
     "iopub.status.idle": "2023-11-30T21:00:03.367262Z",
     "shell.execute_reply": "2023-11-30T21:00:03.365778Z"
    },
    "papermill": {
     "duration": 0.07317,
     "end_time": "2023-11-30T21:00:03.370936",
     "exception": false,
     "start_time": "2023-11-30T21:00:03.297766",
     "status": "completed"
    },
    "tags": []
   },
   "outputs": [
    {
     "data": {
      "text/html": [
       "<div>\n",
       "<style scoped>\n",
       "    .dataframe tbody tr th:only-of-type {\n",
       "        vertical-align: middle;\n",
       "    }\n",
       "\n",
       "    .dataframe tbody tr th {\n",
       "        vertical-align: top;\n",
       "    }\n",
       "\n",
       "    .dataframe thead th {\n",
       "        text-align: right;\n",
       "    }\n",
       "</style>\n",
       "<table border=\"1\" class=\"dataframe\">\n",
       "  <thead>\n",
       "    <tr style=\"text-align: right;\">\n",
       "      <th></th>\n",
       "      <th>PassengerId</th>\n",
       "      <th>HomePlanet</th>\n",
       "      <th>CryoSleep</th>\n",
       "      <th>Cabin</th>\n",
       "      <th>Destination</th>\n",
       "      <th>Age</th>\n",
       "      <th>VIP</th>\n",
       "      <th>RoomService</th>\n",
       "      <th>FoodCourt</th>\n",
       "      <th>ShoppingMall</th>\n",
       "      <th>Spa</th>\n",
       "      <th>VRDeck</th>\n",
       "      <th>Name</th>\n",
       "    </tr>\n",
       "  </thead>\n",
       "  <tbody>\n",
       "    <tr>\n",
       "      <th>0</th>\n",
       "      <td>0013_01</td>\n",
       "      <td>1.0</td>\n",
       "      <td>1.0</td>\n",
       "      <td>G/3/S</td>\n",
       "      <td>3.0</td>\n",
       "      <td>27.0</td>\n",
       "      <td>0</td>\n",
       "      <td>0.0</td>\n",
       "      <td>0.0</td>\n",
       "      <td>0.0</td>\n",
       "      <td>0.0</td>\n",
       "      <td>0.0</td>\n",
       "      <td>Nelly Carsoning</td>\n",
       "    </tr>\n",
       "    <tr>\n",
       "      <th>1</th>\n",
       "      <td>0018_01</td>\n",
       "      <td>1.0</td>\n",
       "      <td>0.0</td>\n",
       "      <td>F/4/S</td>\n",
       "      <td>3.0</td>\n",
       "      <td>19.0</td>\n",
       "      <td>0</td>\n",
       "      <td>0.0</td>\n",
       "      <td>9.0</td>\n",
       "      <td>0.0</td>\n",
       "      <td>2823.0</td>\n",
       "      <td>0.0</td>\n",
       "      <td>Lerome Peckers</td>\n",
       "    </tr>\n",
       "    <tr>\n",
       "      <th>2</th>\n",
       "      <td>0019_01</td>\n",
       "      <td>2.0</td>\n",
       "      <td>1.0</td>\n",
       "      <td>C/0/S</td>\n",
       "      <td>1.0</td>\n",
       "      <td>31.0</td>\n",
       "      <td>1</td>\n",
       "      <td>0.0</td>\n",
       "      <td>0.0</td>\n",
       "      <td>0.0</td>\n",
       "      <td>0.0</td>\n",
       "      <td>0.0</td>\n",
       "      <td>Sabih Unhearfus</td>\n",
       "    </tr>\n",
       "  </tbody>\n",
       "</table>\n",
       "</div>"
      ],
      "text/plain": [
       "  PassengerId  HomePlanet  CryoSleep  Cabin  Destination   Age  VIP  \\\n",
       "0     0013_01         1.0        1.0  G/3/S          3.0  27.0    0   \n",
       "1     0018_01         1.0        0.0  F/4/S          3.0  19.0    0   \n",
       "2     0019_01         2.0        1.0  C/0/S          1.0  31.0    1   \n",
       "\n",
       "   RoomService  FoodCourt  ShoppingMall     Spa  VRDeck             Name  \n",
       "0          0.0        0.0           0.0     0.0     0.0  Nelly Carsoning  \n",
       "1          0.0        9.0           0.0  2823.0     0.0   Lerome Peckers  \n",
       "2          0.0        0.0           0.0     0.0     0.0  Sabih Unhearfus  "
      ]
     },
     "execution_count": 24,
     "metadata": {},
     "output_type": "execute_result"
    }
   ],
   "source": [
    "#CryoSleep\n",
    "df_test['CryoSleep'] = df_test['CryoSleep'].replace({True: 1, False: 0})\n",
    "#HomePlanet\n",
    "df_test['HomePlanet'].replace('Earth', 1, inplace=True)\n",
    "df_test['HomePlanet'].replace('Europa', 2, inplace=True)\n",
    "df_test['HomePlanet'].replace('Mars', 3, inplace=True)\n",
    "#Destination\n",
    "df_test['Destination'].replace('55 Cancri e', 1, inplace=True)\n",
    "df_test['Destination'].replace('PSO J318.5-22', 2, inplace=True)\n",
    "df_test['Destination'].replace('TRAPPIST-1e', 3, inplace=True)\n",
    "df_test['VIP'] = df['VIP'].replace({True: 1, False: 0})\n",
    "df_test.head(3)"
   ]
  },
  {
   "cell_type": "code",
   "execution_count": 25,
   "id": "1ead5d98",
   "metadata": {
    "execution": {
     "iopub.execute_input": "2023-11-30T21:00:03.430599Z",
     "iopub.status.busy": "2023-11-30T21:00:03.430206Z",
     "iopub.status.idle": "2023-11-30T21:00:03.513582Z",
     "shell.execute_reply": "2023-11-30T21:00:03.512054Z"
    },
    "papermill": {
     "duration": 0.117004,
     "end_time": "2023-11-30T21:00:03.516940",
     "exception": false,
     "start_time": "2023-11-30T21:00:03.399936",
     "status": "completed"
    },
    "tags": []
   },
   "outputs": [
    {
     "data": {
      "text/html": [
       "<div>\n",
       "<style scoped>\n",
       "    .dataframe tbody tr th:only-of-type {\n",
       "        vertical-align: middle;\n",
       "    }\n",
       "\n",
       "    .dataframe tbody tr th {\n",
       "        vertical-align: top;\n",
       "    }\n",
       "\n",
       "    .dataframe thead th {\n",
       "        text-align: right;\n",
       "    }\n",
       "</style>\n",
       "<table border=\"1\" class=\"dataframe\">\n",
       "  <thead>\n",
       "    <tr style=\"text-align: right;\">\n",
       "      <th></th>\n",
       "      <th>PassengerId</th>\n",
       "      <th>HomePlanet</th>\n",
       "      <th>CryoSleep</th>\n",
       "      <th>Cabin</th>\n",
       "      <th>Destination</th>\n",
       "      <th>Age</th>\n",
       "      <th>VIP</th>\n",
       "      <th>RoomService</th>\n",
       "      <th>FoodCourt</th>\n",
       "      <th>ShoppingMall</th>\n",
       "      <th>Spa</th>\n",
       "      <th>VRDeck</th>\n",
       "      <th>Name</th>\n",
       "      <th>Port</th>\n",
       "      <th>Place</th>\n",
       "    </tr>\n",
       "  </thead>\n",
       "  <tbody>\n",
       "    <tr>\n",
       "      <th>0</th>\n",
       "      <td>0013_01</td>\n",
       "      <td>1</td>\n",
       "      <td>1</td>\n",
       "      <td>3</td>\n",
       "      <td>3</td>\n",
       "      <td>27</td>\n",
       "      <td>0</td>\n",
       "      <td>0.0</td>\n",
       "      <td>0.0</td>\n",
       "      <td>0.0</td>\n",
       "      <td>0.0</td>\n",
       "      <td>0.0</td>\n",
       "      <td>Nelly Carsoning</td>\n",
       "      <td>0</td>\n",
       "      <td>7</td>\n",
       "    </tr>\n",
       "    <tr>\n",
       "      <th>1</th>\n",
       "      <td>0018_01</td>\n",
       "      <td>1</td>\n",
       "      <td>0</td>\n",
       "      <td>4</td>\n",
       "      <td>3</td>\n",
       "      <td>19</td>\n",
       "      <td>0</td>\n",
       "      <td>0.0</td>\n",
       "      <td>9.0</td>\n",
       "      <td>0.0</td>\n",
       "      <td>2823.0</td>\n",
       "      <td>0.0</td>\n",
       "      <td>Lerome Peckers</td>\n",
       "      <td>0</td>\n",
       "      <td>6</td>\n",
       "    </tr>\n",
       "    <tr>\n",
       "      <th>2</th>\n",
       "      <td>0019_01</td>\n",
       "      <td>2</td>\n",
       "      <td>1</td>\n",
       "      <td>0</td>\n",
       "      <td>1</td>\n",
       "      <td>31</td>\n",
       "      <td>1</td>\n",
       "      <td>0.0</td>\n",
       "      <td>0.0</td>\n",
       "      <td>0.0</td>\n",
       "      <td>0.0</td>\n",
       "      <td>0.0</td>\n",
       "      <td>Sabih Unhearfus</td>\n",
       "      <td>0</td>\n",
       "      <td>3</td>\n",
       "    </tr>\n",
       "  </tbody>\n",
       "</table>\n",
       "</div>"
      ],
      "text/plain": [
       "  PassengerId  HomePlanet  CryoSleep  Cabin  Destination  Age  VIP  \\\n",
       "0     0013_01           1          1      3            3   27    0   \n",
       "1     0018_01           1          0      4            3   19    0   \n",
       "2     0019_01           2          1      0            1   31    1   \n",
       "\n",
       "   RoomService  FoodCourt  ShoppingMall     Spa  VRDeck             Name  \\\n",
       "0          0.0        0.0           0.0     0.0     0.0  Nelly Carsoning   \n",
       "1          0.0        9.0           0.0  2823.0     0.0   Lerome Peckers   \n",
       "2          0.0        0.0           0.0     0.0     0.0  Sabih Unhearfus   \n",
       "\n",
       "   Port  Place  \n",
       "0     0      7  \n",
       "1     0      6  \n",
       "2     0      3  "
      ]
     },
     "execution_count": 25,
     "metadata": {},
     "output_type": "execute_result"
    }
   ],
   "source": [
    "#Port or Starboard of the cabins\n",
    "df_test['Port'] = df_test['Cabin'].str.split('/').str[-1]\n",
    "df_test['Port'].replace('S', 0, inplace=True)\n",
    "df_test['Port'].replace('P', 1, inplace=True)\n",
    "\n",
    "#Class of the cabins\n",
    "df_test['Place'] = df_test['Cabin'].str.split('/').str[0]\n",
    "letter_to_int = {'A': 1, 'B': 2, 'C': 3, 'D': 4, 'E': 5, 'F': 6, 'G': 7, 'T': 8}\n",
    "df_test['Place'] = df_test['Place'].map(letter_to_int)\n",
    "\n",
    "\n",
    "#Number of cabins\n",
    "df_test['Cabin'] = df_test['Cabin'].str.split('/').str[1]\n",
    "df_test['Cabin'] = df_test['Cabin'].astype('Int64')\n",
    "\n",
    "df_test[['HomePlanet', 'CryoSleep', 'Destination', 'Age', 'VIP','Port','Place']] = df_test[['HomePlanet', 'CryoSleep', 'Destination', 'Age', 'VIP','Port','Place']].astype('Int64')\n",
    "df_test.head(3)"
   ]
  },
  {
   "cell_type": "code",
   "execution_count": 26,
   "id": "1ccd0e7e",
   "metadata": {
    "execution": {
     "iopub.execute_input": "2023-11-30T21:00:03.568169Z",
     "iopub.status.busy": "2023-11-30T21:00:03.567636Z",
     "iopub.status.idle": "2023-11-30T21:00:03.615435Z",
     "shell.execute_reply": "2023-11-30T21:00:03.614102Z"
    },
    "papermill": {
     "duration": 0.074246,
     "end_time": "2023-11-30T21:00:03.618951",
     "exception": false,
     "start_time": "2023-11-30T21:00:03.544705",
     "status": "completed"
    },
    "tags": []
   },
   "outputs": [
    {
     "name": "stdout",
     "output_type": "stream",
     "text": [
      "<class 'pandas.core.frame.DataFrame'>\n",
      "RangeIndex: 4277 entries, 0 to 4276\n",
      "Data columns (total 15 columns):\n",
      " #   Column        Non-Null Count  Dtype  \n",
      "---  ------        --------------  -----  \n",
      " 0   PassengerId   4277 non-null   object \n",
      " 1   HomePlanet    4277 non-null   Int64  \n",
      " 2   CryoSleep     4277 non-null   int64  \n",
      " 3   Cabin         4277 non-null   Int64  \n",
      " 4   Destination   4277 non-null   Int64  \n",
      " 5   Age           4277 non-null   int64  \n",
      " 6   VIP           4277 non-null   int64  \n",
      " 7   RoomService   4277 non-null   float64\n",
      " 8   FoodCourt     4277 non-null   float64\n",
      " 9   ShoppingMall  4277 non-null   float64\n",
      " 10  Spa           4277 non-null   float64\n",
      " 11  VRDeck        4277 non-null   float64\n",
      " 12  Name          4277 non-null   object \n",
      " 13  Port          4277 non-null   Int64  \n",
      " 14  Place         4277 non-null   Int64  \n",
      "dtypes: Int64(5), float64(5), int64(3), object(2)\n",
      "memory usage: 522.2+ KB\n"
     ]
    }
   ],
   "source": [
    "df_test[\"HomePlanet\"].fillna(df_test[\"HomePlanet\"].mode()[0],inplace=True)\n",
    "df_test[\"CryoSleep\"].fillna(df_test[\"CryoSleep\"].mode()[0],inplace=True)\n",
    "df_test[\"Cabin\"].fillna(df_test[\"Cabin\"].mode()[0],inplace=True)\n",
    "df_test[\"Destination\"].fillna(df_test[\"Destination\"].mode()[0],inplace=True)\n",
    "df_test[\"Name\"].fillna(df_test[\"Name\"].mode()[0],inplace=True)\n",
    "df_test[\"Age\"].fillna(int(df_test[\"Age\"].mean()),inplace=True)\n",
    "df_test[\"RoomService\"].fillna(df_test[\"RoomService\"].mean(),inplace=True)\n",
    "df_test[\"FoodCourt\"].fillna(df_test[\"FoodCourt\"].mean(),inplace=True)\n",
    "df_test[\"ShoppingMall\"].fillna(df_test[\"ShoppingMall\"].mean(),inplace=True)\n",
    "df_test[\"Spa\"].fillna(df_test[\"Spa\"].mean(),inplace=True)\n",
    "df_test[\"VRDeck\"].fillna(df_test[\"VRDeck\"].mean(),inplace=True)\n",
    "df_test[\"Port\"].fillna(df_test[\"Port\"].mode()[0],inplace=True)\n",
    "df_test[\"Place\"].fillna(df_test[\"Place\"].mode()[0],inplace=True)\n",
    "df_test.Age = np.where(df_test.Age > 15 ,1,0)\n",
    "df_test.VIP = np.where(df_test.VIP,1,0)\n",
    "\n",
    "df_test.CryoSleep = np.where(df_test.CryoSleep,1,0)\n",
    "#No Nan, Null or empty cell\n",
    "df_test.info()"
   ]
  },
  {
   "cell_type": "code",
   "execution_count": 27,
   "id": "c4095f35",
   "metadata": {
    "execution": {
     "iopub.execute_input": "2023-11-30T21:00:03.675003Z",
     "iopub.status.busy": "2023-11-30T21:00:03.673582Z",
     "iopub.status.idle": "2023-11-30T21:00:03.716473Z",
     "shell.execute_reply": "2023-11-30T21:00:03.715247Z"
    },
    "papermill": {
     "duration": 0.070537,
     "end_time": "2023-11-30T21:00:03.719368",
     "exception": false,
     "start_time": "2023-11-30T21:00:03.648831",
     "status": "completed"
    },
    "tags": []
   },
   "outputs": [
    {
     "data": {
      "text/html": [
       "<div>\n",
       "<style scoped>\n",
       "    .dataframe tbody tr th:only-of-type {\n",
       "        vertical-align: middle;\n",
       "    }\n",
       "\n",
       "    .dataframe tbody tr th {\n",
       "        vertical-align: top;\n",
       "    }\n",
       "\n",
       "    .dataframe thead th {\n",
       "        text-align: right;\n",
       "    }\n",
       "</style>\n",
       "<table border=\"1\" class=\"dataframe\">\n",
       "  <thead>\n",
       "    <tr style=\"text-align: right;\">\n",
       "      <th></th>\n",
       "      <th>PassengerId</th>\n",
       "      <th>HomePlanet</th>\n",
       "      <th>CryoSleep</th>\n",
       "      <th>Cabin</th>\n",
       "      <th>Destination</th>\n",
       "      <th>Age</th>\n",
       "      <th>VIP</th>\n",
       "      <th>RoomService</th>\n",
       "      <th>FoodCourt</th>\n",
       "      <th>ShoppingMall</th>\n",
       "      <th>Spa</th>\n",
       "      <th>VRDeck</th>\n",
       "      <th>Name</th>\n",
       "      <th>Port</th>\n",
       "      <th>Place</th>\n",
       "    </tr>\n",
       "  </thead>\n",
       "  <tbody>\n",
       "    <tr>\n",
       "      <th>0</th>\n",
       "      <td>0013_01</td>\n",
       "      <td>1</td>\n",
       "      <td>1</td>\n",
       "      <td>3</td>\n",
       "      <td>3</td>\n",
       "      <td>1</td>\n",
       "      <td>0</td>\n",
       "      <td>0.0</td>\n",
       "      <td>0.000000</td>\n",
       "      <td>0.0</td>\n",
       "      <td>0.00000</td>\n",
       "      <td>0.0</td>\n",
       "      <td>Nelly Carsoning</td>\n",
       "      <td>0</td>\n",
       "      <td>7</td>\n",
       "    </tr>\n",
       "    <tr>\n",
       "      <th>1</th>\n",
       "      <td>0018_01</td>\n",
       "      <td>1</td>\n",
       "      <td>0</td>\n",
       "      <td>4</td>\n",
       "      <td>3</td>\n",
       "      <td>1</td>\n",
       "      <td>0</td>\n",
       "      <td>0.0</td>\n",
       "      <td>2.302585</td>\n",
       "      <td>0.0</td>\n",
       "      <td>7.94591</td>\n",
       "      <td>0.0</td>\n",
       "      <td>Lerome Peckers</td>\n",
       "      <td>0</td>\n",
       "      <td>6</td>\n",
       "    </tr>\n",
       "    <tr>\n",
       "      <th>2</th>\n",
       "      <td>0019_01</td>\n",
       "      <td>2</td>\n",
       "      <td>1</td>\n",
       "      <td>0</td>\n",
       "      <td>1</td>\n",
       "      <td>1</td>\n",
       "      <td>1</td>\n",
       "      <td>0.0</td>\n",
       "      <td>0.000000</td>\n",
       "      <td>0.0</td>\n",
       "      <td>0.00000</td>\n",
       "      <td>0.0</td>\n",
       "      <td>Sabih Unhearfus</td>\n",
       "      <td>0</td>\n",
       "      <td>3</td>\n",
       "    </tr>\n",
       "  </tbody>\n",
       "</table>\n",
       "</div>"
      ],
      "text/plain": [
       "  PassengerId  HomePlanet  CryoSleep  Cabin  Destination  Age  VIP  \\\n",
       "0     0013_01           1          1      3            3    1    0   \n",
       "1     0018_01           1          0      4            3    1    0   \n",
       "2     0019_01           2          1      0            1    1    1   \n",
       "\n",
       "   RoomService  FoodCourt  ShoppingMall      Spa  VRDeck             Name  \\\n",
       "0          0.0   0.000000           0.0  0.00000     0.0  Nelly Carsoning   \n",
       "1          0.0   2.302585           0.0  7.94591     0.0   Lerome Peckers   \n",
       "2          0.0   0.000000           0.0  0.00000     0.0  Sabih Unhearfus   \n",
       "\n",
       "   Port  Place  \n",
       "0     0      7  \n",
       "1     0      6  \n",
       "2     0      3  "
      ]
     },
     "execution_count": 27,
     "metadata": {},
     "output_type": "execute_result"
    }
   ],
   "source": [
    "# # Apply log transformation\n",
    "df_test['RoomService'] = np.log1p(df_test['RoomService'])\n",
    "df_test['FoodCourt'] = np.log1p(df_test['FoodCourt'])\n",
    "df_test['ShoppingMall'] = np.log1p(df_test['ShoppingMall'])\n",
    "df_test['Spa'] = np.log1p(df_test['Spa'])\n",
    "df_test['VRDeck'] = np.log1p(df_test['VRDeck'])\n",
    "df_test.head(3)"
   ]
  },
  {
   "cell_type": "code",
   "execution_count": 28,
   "id": "dcda5d68",
   "metadata": {
    "execution": {
     "iopub.execute_input": "2023-11-30T21:00:03.766014Z",
     "iopub.status.busy": "2023-11-30T21:00:03.764721Z",
     "iopub.status.idle": "2023-11-30T21:00:03.770877Z",
     "shell.execute_reply": "2023-11-30T21:00:03.769715Z"
    },
    "papermill": {
     "duration": 0.03275,
     "end_time": "2023-11-30T21:00:03.773431",
     "exception": false,
     "start_time": "2023-11-30T21:00:03.740681",
     "status": "completed"
    },
    "tags": []
   },
   "outputs": [],
   "source": [
    "# Apply square root transformation\n",
    "# df_test['RoomService'] = df_test['RoomService']**0.5\n",
    "# df_test['FoodCourt'] = df_test['FoodCourt']**0.5\n",
    "# df_test['ShoppingMall'] = df['ShoppingMall']**0.5\n",
    "# df_test['Spa'] = df_test['Spa']**0.5\n",
    "# df_test['VRDeck'] = df_test['VRDeck']**0.5\n",
    "# df_test.head(3)"
   ]
  },
  {
   "cell_type": "code",
   "execution_count": 29,
   "id": "87119138",
   "metadata": {
    "execution": {
     "iopub.execute_input": "2023-11-30T21:00:03.820943Z",
     "iopub.status.busy": "2023-11-30T21:00:03.819294Z",
     "iopub.status.idle": "2023-11-30T21:00:03.826084Z",
     "shell.execute_reply": "2023-11-30T21:00:03.824856Z"
    },
    "papermill": {
     "duration": 0.033793,
     "end_time": "2023-11-30T21:00:03.829015",
     "exception": false,
     "start_time": "2023-11-30T21:00:03.795222",
     "status": "completed"
    },
    "tags": []
   },
   "outputs": [],
   "source": [
    "# #Lastnames\n",
    "# df['LastName'] = df['Name'].str.split(' ').str[-1]\n",
    "\n",
    "# #Guessing Families\n",
    "# df['FamilyId'] = df['PassengerId'].apply(lambda x: x.split('_')[0])\n",
    "# #\n",
    "# ids_groups = np.array([i.split(\"_\") for i in df.PassengerId.values])\n",
    "# # unique_groups = np.unique(ids_groups[:,0])\n",
    "# df['GroupID'] = df.groupby(ids_groups[:,0]).ngroup()\n",
    "# df.info()"
   ]
  },
  {
   "cell_type": "code",
   "execution_count": 30,
   "id": "cb464a50",
   "metadata": {
    "execution": {
     "iopub.execute_input": "2023-11-30T21:00:03.879386Z",
     "iopub.status.busy": "2023-11-30T21:00:03.878524Z",
     "iopub.status.idle": "2023-11-30T21:00:03.925198Z",
     "shell.execute_reply": "2023-11-30T21:00:03.923986Z"
    },
    "papermill": {
     "duration": 0.076825,
     "end_time": "2023-11-30T21:00:03.928524",
     "exception": false,
     "start_time": "2023-11-30T21:00:03.851699",
     "status": "completed"
    },
    "tags": []
   },
   "outputs": [
    {
     "data": {
      "text/html": [
       "<div>\n",
       "<style scoped>\n",
       "    .dataframe tbody tr th:only-of-type {\n",
       "        vertical-align: middle;\n",
       "    }\n",
       "\n",
       "    .dataframe tbody tr th {\n",
       "        vertical-align: top;\n",
       "    }\n",
       "\n",
       "    .dataframe thead th {\n",
       "        text-align: right;\n",
       "    }\n",
       "</style>\n",
       "<table border=\"1\" class=\"dataframe\">\n",
       "  <thead>\n",
       "    <tr style=\"text-align: right;\">\n",
       "      <th></th>\n",
       "      <th>PassengerId</th>\n",
       "      <th>HomePlanet</th>\n",
       "      <th>CryoSleep</th>\n",
       "      <th>Cabin</th>\n",
       "      <th>Destination</th>\n",
       "      <th>Age</th>\n",
       "      <th>VIP</th>\n",
       "      <th>RoomService</th>\n",
       "      <th>FoodCourt</th>\n",
       "      <th>ShoppingMall</th>\n",
       "      <th>Spa</th>\n",
       "      <th>VRDeck</th>\n",
       "      <th>Name</th>\n",
       "      <th>Port</th>\n",
       "      <th>Place</th>\n",
       "      <th>FamilyId</th>\n",
       "      <th>GroupId</th>\n",
       "    </tr>\n",
       "  </thead>\n",
       "  <tbody>\n",
       "    <tr>\n",
       "      <th>0</th>\n",
       "      <td>0013_01</td>\n",
       "      <td>1</td>\n",
       "      <td>1</td>\n",
       "      <td>3</td>\n",
       "      <td>3</td>\n",
       "      <td>1</td>\n",
       "      <td>0</td>\n",
       "      <td>0.000000</td>\n",
       "      <td>0.000000</td>\n",
       "      <td>0.000000</td>\n",
       "      <td>0.000000</td>\n",
       "      <td>0.00000</td>\n",
       "      <td>Nelly Carsoning</td>\n",
       "      <td>0</td>\n",
       "      <td>7</td>\n",
       "      <td>0</td>\n",
       "      <td>0</td>\n",
       "    </tr>\n",
       "    <tr>\n",
       "      <th>1</th>\n",
       "      <td>0018_01</td>\n",
       "      <td>1</td>\n",
       "      <td>0</td>\n",
       "      <td>4</td>\n",
       "      <td>3</td>\n",
       "      <td>1</td>\n",
       "      <td>0</td>\n",
       "      <td>0.000000</td>\n",
       "      <td>2.302585</td>\n",
       "      <td>0.000000</td>\n",
       "      <td>7.945910</td>\n",
       "      <td>0.00000</td>\n",
       "      <td>Lerome Peckers</td>\n",
       "      <td>0</td>\n",
       "      <td>6</td>\n",
       "      <td>1</td>\n",
       "      <td>1</td>\n",
       "    </tr>\n",
       "    <tr>\n",
       "      <th>2</th>\n",
       "      <td>0019_01</td>\n",
       "      <td>2</td>\n",
       "      <td>1</td>\n",
       "      <td>0</td>\n",
       "      <td>1</td>\n",
       "      <td>1</td>\n",
       "      <td>1</td>\n",
       "      <td>0.000000</td>\n",
       "      <td>0.000000</td>\n",
       "      <td>0.000000</td>\n",
       "      <td>0.000000</td>\n",
       "      <td>0.00000</td>\n",
       "      <td>Sabih Unhearfus</td>\n",
       "      <td>0</td>\n",
       "      <td>3</td>\n",
       "      <td>2</td>\n",
       "      <td>2</td>\n",
       "    </tr>\n",
       "    <tr>\n",
       "      <th>3</th>\n",
       "      <td>0021_01</td>\n",
       "      <td>2</td>\n",
       "      <td>0</td>\n",
       "      <td>1</td>\n",
       "      <td>3</td>\n",
       "      <td>1</td>\n",
       "      <td>0</td>\n",
       "      <td>0.000000</td>\n",
       "      <td>8.802823</td>\n",
       "      <td>0.000000</td>\n",
       "      <td>5.204007</td>\n",
       "      <td>6.37332</td>\n",
       "      <td>Meratz Caltilter</td>\n",
       "      <td>0</td>\n",
       "      <td>3</td>\n",
       "      <td>3</td>\n",
       "      <td>3</td>\n",
       "    </tr>\n",
       "    <tr>\n",
       "      <th>4</th>\n",
       "      <td>0023_01</td>\n",
       "      <td>1</td>\n",
       "      <td>0</td>\n",
       "      <td>5</td>\n",
       "      <td>3</td>\n",
       "      <td>1</td>\n",
       "      <td>0</td>\n",
       "      <td>2.397895</td>\n",
       "      <td>0.000000</td>\n",
       "      <td>6.455199</td>\n",
       "      <td>0.000000</td>\n",
       "      <td>0.00000</td>\n",
       "      <td>Brence Harperez</td>\n",
       "      <td>0</td>\n",
       "      <td>6</td>\n",
       "      <td>4</td>\n",
       "      <td>4</td>\n",
       "    </tr>\n",
       "  </tbody>\n",
       "</table>\n",
       "</div>"
      ],
      "text/plain": [
       "  PassengerId  HomePlanet  CryoSleep  Cabin  Destination  Age  VIP  \\\n",
       "0     0013_01           1          1      3            3    1    0   \n",
       "1     0018_01           1          0      4            3    1    0   \n",
       "2     0019_01           2          1      0            1    1    1   \n",
       "3     0021_01           2          0      1            3    1    0   \n",
       "4     0023_01           1          0      5            3    1    0   \n",
       "\n",
       "   RoomService  FoodCourt  ShoppingMall       Spa   VRDeck              Name  \\\n",
       "0     0.000000   0.000000      0.000000  0.000000  0.00000   Nelly Carsoning   \n",
       "1     0.000000   2.302585      0.000000  7.945910  0.00000    Lerome Peckers   \n",
       "2     0.000000   0.000000      0.000000  0.000000  0.00000   Sabih Unhearfus   \n",
       "3     0.000000   8.802823      0.000000  5.204007  6.37332  Meratz Caltilter   \n",
       "4     2.397895   0.000000      6.455199  0.000000  0.00000   Brence Harperez   \n",
       "\n",
       "   Port  Place  FamilyId  GroupId  \n",
       "0     0      7         0        0  \n",
       "1     0      6         1        1  \n",
       "2     0      3         2        2  \n",
       "3     0      3         3        3  \n",
       "4     0      6         4        4  "
      ]
     },
     "execution_count": 30,
     "metadata": {},
     "output_type": "execute_result"
    }
   ],
   "source": [
    "#Lastnames and groups\n",
    "lastNames = df_test['Name'].str.split(' ').str[-1]\n",
    "ids_groups = df_test['PassengerId'].apply(lambda x: x.split('_')[0])\n",
    "\n",
    "df_test['FamilyId'] = pd.factorize(lastNames)[0]\n",
    "df_test['GroupId'] = pd.factorize(ids_groups)[0]\n",
    "df_test.head()"
   ]
  },
  {
   "cell_type": "code",
   "execution_count": 31,
   "id": "4bfa227d",
   "metadata": {
    "execution": {
     "iopub.execute_input": "2023-11-30T21:00:03.973859Z",
     "iopub.status.busy": "2023-11-30T21:00:03.973449Z",
     "iopub.status.idle": "2023-11-30T21:00:03.997936Z",
     "shell.execute_reply": "2023-11-30T21:00:03.996802Z"
    },
    "papermill": {
     "duration": 0.050247,
     "end_time": "2023-11-30T21:00:04.000840",
     "exception": false,
     "start_time": "2023-11-30T21:00:03.950593",
     "status": "completed"
    },
    "tags": []
   },
   "outputs": [
    {
     "data": {
      "text/html": [
       "<div>\n",
       "<style scoped>\n",
       "    .dataframe tbody tr th:only-of-type {\n",
       "        vertical-align: middle;\n",
       "    }\n",
       "\n",
       "    .dataframe tbody tr th {\n",
       "        vertical-align: top;\n",
       "    }\n",
       "\n",
       "    .dataframe thead th {\n",
       "        text-align: right;\n",
       "    }\n",
       "</style>\n",
       "<table border=\"1\" class=\"dataframe\">\n",
       "  <thead>\n",
       "    <tr style=\"text-align: right;\">\n",
       "      <th></th>\n",
       "      <th>HomePlanet</th>\n",
       "      <th>CryoSleep</th>\n",
       "      <th>Destination</th>\n",
       "      <th>Age</th>\n",
       "      <th>VIP</th>\n",
       "      <th>RoomService</th>\n",
       "      <th>FoodCourt</th>\n",
       "      <th>ShoppingMall</th>\n",
       "      <th>Spa</th>\n",
       "      <th>VRDeck</th>\n",
       "      <th>Port</th>\n",
       "      <th>Place</th>\n",
       "      <th>FamilyId</th>\n",
       "      <th>GroupId</th>\n",
       "    </tr>\n",
       "  </thead>\n",
       "  <tbody>\n",
       "    <tr>\n",
       "      <th>0</th>\n",
       "      <td>1</td>\n",
       "      <td>1</td>\n",
       "      <td>3</td>\n",
       "      <td>1</td>\n",
       "      <td>0</td>\n",
       "      <td>0.0</td>\n",
       "      <td>0.0</td>\n",
       "      <td>0.0</td>\n",
       "      <td>0.0</td>\n",
       "      <td>0.0</td>\n",
       "      <td>0</td>\n",
       "      <td>7</td>\n",
       "      <td>0</td>\n",
       "      <td>0</td>\n",
       "    </tr>\n",
       "  </tbody>\n",
       "</table>\n",
       "</div>"
      ],
      "text/plain": [
       "   HomePlanet  CryoSleep  Destination  Age  VIP  RoomService  FoodCourt  \\\n",
       "0           1          1            3    1    0          0.0        0.0   \n",
       "\n",
       "   ShoppingMall  Spa  VRDeck  Port  Place  FamilyId  GroupId  \n",
       "0           0.0  0.0     0.0     0      7         0        0  "
      ]
     },
     "execution_count": 31,
     "metadata": {},
     "output_type": "execute_result"
    }
   ],
   "source": [
    "df_test = df_test.drop(columns=['PassengerId','Name','Cabin'])\n",
    "df_test.head(1)"
   ]
  },
  {
   "cell_type": "code",
   "execution_count": 32,
   "id": "33642fe0",
   "metadata": {
    "execution": {
     "iopub.execute_input": "2023-11-30T21:00:04.050032Z",
     "iopub.status.busy": "2023-11-30T21:00:04.049051Z",
     "iopub.status.idle": "2023-11-30T21:00:04.054143Z",
     "shell.execute_reply": "2023-11-30T21:00:04.053056Z"
    },
    "papermill": {
     "duration": 0.034037,
     "end_time": "2023-11-30T21:00:04.056640",
     "exception": false,
     "start_time": "2023-11-30T21:00:04.022603",
     "status": "completed"
    },
    "tags": []
   },
   "outputs": [],
   "source": [
    "# df_test['Aged'] = np.where(df_test.Age > 15, 1,0)\n",
    "# df_test.head(1)"
   ]
  },
  {
   "cell_type": "code",
   "execution_count": 33,
   "id": "eb37ef2f",
   "metadata": {
    "execution": {
     "iopub.execute_input": "2023-11-30T21:00:04.102836Z",
     "iopub.status.busy": "2023-11-30T21:00:04.101516Z",
     "iopub.status.idle": "2023-11-30T21:00:04.107223Z",
     "shell.execute_reply": "2023-11-30T21:00:04.106141Z"
    },
    "papermill": {
     "duration": 0.031212,
     "end_time": "2023-11-30T21:00:04.109729",
     "exception": false,
     "start_time": "2023-11-30T21:00:04.078517",
     "status": "completed"
    },
    "tags": []
   },
   "outputs": [],
   "source": [
    "# columns_titles = [\"HomePlanet\",\"CryoSleep\", \"Destination\",\"Age\",\"Mean_luxury\",\"Port\",\"Place\"]\n",
    "# df_test=df_test.reindex(columns=columns_titles)\n",
    "# df_test.head(3)"
   ]
  },
  {
   "cell_type": "code",
   "execution_count": 34,
   "id": "35a7f0c1",
   "metadata": {
    "execution": {
     "iopub.execute_input": "2023-11-30T21:00:04.155983Z",
     "iopub.status.busy": "2023-11-30T21:00:04.155004Z",
     "iopub.status.idle": "2023-11-30T21:00:04.172724Z",
     "shell.execute_reply": "2023-11-30T21:00:04.170710Z"
    },
    "papermill": {
     "duration": 0.04713,
     "end_time": "2023-11-30T21:00:04.177888",
     "exception": false,
     "start_time": "2023-11-30T21:00:04.130758",
     "status": "completed"
    },
    "tags": []
   },
   "outputs": [],
   "source": [
    " predictions = logmodel.predict(df_test)"
   ]
  },
  {
   "cell_type": "code",
   "execution_count": 35,
   "id": "24283fd6",
   "metadata": {
    "execution": {
     "iopub.execute_input": "2023-11-30T21:00:04.272050Z",
     "iopub.status.busy": "2023-11-30T21:00:04.271296Z",
     "iopub.status.idle": "2023-11-30T21:00:04.281517Z",
     "shell.execute_reply": "2023-11-30T21:00:04.280412Z"
    },
    "papermill": {
     "duration": 0.062884,
     "end_time": "2023-11-30T21:00:04.286311",
     "exception": false,
     "start_time": "2023-11-30T21:00:04.223427",
     "status": "completed"
    },
    "tags": []
   },
   "outputs": [
    {
     "data": {
      "text/plain": [
       "array(['0013_01', '0018_01', '0019_01', ..., '9271_01', '9273_01',\n",
       "       '9277_01'], dtype=object)"
      ]
     },
     "execution_count": 35,
     "metadata": {},
     "output_type": "execute_result"
    }
   ],
   "source": [
    "# # from sklearn.metrics import classification_report\n",
    "# # print(classification_report(y_test, predictions))\n",
    "# df_newTest = pd.read_csv(\"/kaggle/input/spaceship-titanic/test.csv\")\n",
    "# ids_test = df_newTest['PassengerId'].copy()\n",
    "ids_test.values\n",
    "# predictions"
   ]
  },
  {
   "cell_type": "code",
   "execution_count": 36,
   "id": "307693b6",
   "metadata": {
    "execution": {
     "iopub.execute_input": "2023-11-30T21:00:04.333456Z",
     "iopub.status.busy": "2023-11-30T21:00:04.331915Z",
     "iopub.status.idle": "2023-11-30T21:00:04.366577Z",
     "shell.execute_reply": "2023-11-30T21:00:04.365373Z"
    },
    "papermill": {
     "duration": 0.060802,
     "end_time": "2023-11-30T21:00:04.369265",
     "exception": false,
     "start_time": "2023-11-30T21:00:04.308463",
     "status": "completed"
    },
    "tags": []
   },
   "outputs": [
    {
     "data": {
      "text/html": [
       "<div>\n",
       "<style scoped>\n",
       "    .dataframe tbody tr th:only-of-type {\n",
       "        vertical-align: middle;\n",
       "    }\n",
       "\n",
       "    .dataframe tbody tr th {\n",
       "        vertical-align: top;\n",
       "    }\n",
       "\n",
       "    .dataframe thead th {\n",
       "        text-align: right;\n",
       "    }\n",
       "</style>\n",
       "<table border=\"1\" class=\"dataframe\">\n",
       "  <thead>\n",
       "    <tr style=\"text-align: right;\">\n",
       "      <th></th>\n",
       "      <th>PassengerId</th>\n",
       "      <th>Transported</th>\n",
       "    </tr>\n",
       "  </thead>\n",
       "  <tbody>\n",
       "    <tr>\n",
       "      <th>0</th>\n",
       "      <td>0013_01</td>\n",
       "      <td>True</td>\n",
       "    </tr>\n",
       "    <tr>\n",
       "      <th>1</th>\n",
       "      <td>0018_01</td>\n",
       "      <td>False</td>\n",
       "    </tr>\n",
       "    <tr>\n",
       "      <th>2</th>\n",
       "      <td>0019_01</td>\n",
       "      <td>True</td>\n",
       "    </tr>\n",
       "    <tr>\n",
       "      <th>3</th>\n",
       "      <td>0021_01</td>\n",
       "      <td>False</td>\n",
       "    </tr>\n",
       "    <tr>\n",
       "      <th>4</th>\n",
       "      <td>0023_01</td>\n",
       "      <td>False</td>\n",
       "    </tr>\n",
       "  </tbody>\n",
       "</table>\n",
       "</div>"
      ],
      "text/plain": [
       "  PassengerId  Transported\n",
       "0     0013_01         True\n",
       "1     0018_01        False\n",
       "2     0019_01         True\n",
       "3     0021_01        False\n",
       "4     0023_01        False"
      ]
     },
     "execution_count": 36,
     "metadata": {},
     "output_type": "execute_result"
    }
   ],
   "source": [
    "df_predictions = pd.DataFrame()\n",
    "df_predictions['PassengerId'] = pd.Series(ids_test.T.values)\n",
    "df_predictions['Transported'] = pd.Series(predictions)\n",
    "df_predictions.Transported = np.where(df_predictions.Transported==1,True,False)\n",
    "df_predictions.to_csv(\"12thAttempt.csv\", sep=',', index=False)\n",
    "df_predictions.head()"
   ]
  },
  {
   "cell_type": "markdown",
   "id": "a281ace6",
   "metadata": {
    "papermill": {
     "duration": 0.02343,
     "end_time": "2023-11-30T21:00:04.415603",
     "exception": false,
     "start_time": "2023-11-30T21:00:04.392173",
     "status": "completed"
    },
    "tags": []
   },
   "source": [
    "In this report, the 'Precision' column tells us the proportion of positive identifications (i.e., the passenger was transported) that were actually correct. The 'Recall' column tells us the proportion of actual positives that were identified correctly. The 'F1-score' is a function of Precision and Recall and gives a balanced measure of the model's performance.\n",
    "\n",
    "Remember, this is a basic model. Depending on the performance of the model, you might need to consider more advanced techniques such as handling class imbalance, feature engineering, or using a more complex model."
   ]
  }
 ],
 "metadata": {
  "kaggle": {
   "accelerator": "none",
   "dataSources": [
    {
     "databundleVersionId": 3220602,
     "sourceId": 34377,
     "sourceType": "competition"
    }
   ],
   "dockerImageVersionId": 30558,
   "isGpuEnabled": false,
   "isInternetEnabled": false,
   "language": "python",
   "sourceType": "notebook"
  },
  "kernelspec": {
   "display_name": "Python 3",
   "language": "python",
   "name": "python3"
  },
  "language_info": {
   "codemirror_mode": {
    "name": "ipython",
    "version": 3
   },
   "file_extension": ".py",
   "mimetype": "text/x-python",
   "name": "python",
   "nbconvert_exporter": "python",
   "pygments_lexer": "ipython3",
   "version": "3.10.12"
  },
  "papermill": {
   "default_parameters": {},
   "duration": 14.844118,
   "end_time": "2023-11-30T21:00:05.161878",
   "environment_variables": {},
   "exception": null,
   "input_path": "__notebook__.ipynb",
   "output_path": "__notebook__.ipynb",
   "parameters": {},
   "start_time": "2023-11-30T20:59:50.317760",
   "version": "2.4.0"
  }
 },
 "nbformat": 4,
 "nbformat_minor": 5
}
