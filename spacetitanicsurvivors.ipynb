{
 "cells": [
  {
   "cell_type": "code",
   "execution_count": 1,
   "id": "2dbc3036",
   "metadata": {
    "_cell_guid": "b1076dfc-b9ad-4769-8c92-a6c4dae69d19",
    "_uuid": "8f2839f25d086af736a60e9eeb907d3b93b6e0e5",
    "execution": {
     "iopub.execute_input": "2023-12-09T13:41:13.709436Z",
     "iopub.status.busy": "2023-12-09T13:41:13.709047Z",
     "iopub.status.idle": "2023-12-09T13:41:16.505915Z",
     "shell.execute_reply": "2023-12-09T13:41:16.505265Z"
    },
    "papermill": {
     "duration": 2.810653,
     "end_time": "2023-12-09T13:41:16.508032",
     "exception": false,
     "start_time": "2023-12-09T13:41:13.697379",
     "status": "completed"
    },
    "tags": []
   },
   "outputs": [
    {
     "name": "stdout",
     "output_type": "stream",
     "text": [
      "/kaggle/input/spaceship-titanic/sample_submission.csv\n",
      "/kaggle/input/spaceship-titanic/train.csv\n",
      "/kaggle/input/spaceship-titanic/test.csv\n"
     ]
    }
   ],
   "source": [
    "# This Python 3 environment comes with many helpful analytics libraries installed\n",
    "# It is defined by the kaggle/python Docker image: https://github.com/kaggle/docker-python\n",
    "# For example, here's several helpful packages to load\n",
    "\n",
    "import numpy as np # linear algebra\n",
    "import pandas as pd # data processing, CSV file I/O (e.g. pd.read_csv)\n",
    "import sklearn\n",
    "import datetime\n",
    "import matplotlib.pyplot as plt\n",
    "import missingno as msno\n",
    "from sklearn.preprocessing import MinMaxScaler\n",
    "from sklearn.preprocessing import StandardScaler\n",
    "import seaborn as sns\n",
    "from pandas.plotting import scatter_matrix\n",
    "from scipy import stats\n",
    "\n",
    "# Input data files are available in the read-only \"../input/\" directory\n",
    "# For example, running this (by clicking run or pressing Shift+Enter) will list all files under the input directory\n",
    "\n",
    "import os\n",
    "for dirname, _, filenames in os.walk('/kaggle/input'):\n",
    "    for filename in filenames:\n",
    "        print(os.path.join(dirname, filename))\n",
    "\n",
    "# You can write up to 20GB to the current directory (/kaggle/working/) that gets preserved as output when you create a version using \"Save & Run All\" \n",
    "# You can also write temporary files to /kaggle/temp/, but they won't be saved outside of the current session"
   ]
  },
  {
   "cell_type": "markdown",
   "id": "57370bf9",
   "metadata": {
    "papermill": {
     "duration": 0.008187,
     "end_time": "2023-12-09T13:41:16.525574",
     "exception": false,
     "start_time": "2023-12-09T13:41:16.517387",
     "status": "completed"
    },
    "tags": []
   },
   "source": [
    "# 1. Importing Data"
   ]
  },
  {
   "cell_type": "code",
   "execution_count": 2,
   "id": "99f27e5d",
   "metadata": {
    "execution": {
     "iopub.execute_input": "2023-12-09T13:41:16.545216Z",
     "iopub.status.busy": "2023-12-09T13:41:16.544166Z",
     "iopub.status.idle": "2023-12-09T13:41:16.647108Z",
     "shell.execute_reply": "2023-12-09T13:41:16.645790Z"
    },
    "papermill": {
     "duration": 0.11543,
     "end_time": "2023-12-09T13:41:16.649643",
     "exception": false,
     "start_time": "2023-12-09T13:41:16.534213",
     "status": "completed"
    },
    "tags": []
   },
   "outputs": [
    {
     "data": {
      "text/html": [
       "<div>\n",
       "<style scoped>\n",
       "    .dataframe tbody tr th:only-of-type {\n",
       "        vertical-align: middle;\n",
       "    }\n",
       "\n",
       "    .dataframe tbody tr th {\n",
       "        vertical-align: top;\n",
       "    }\n",
       "\n",
       "    .dataframe thead th {\n",
       "        text-align: right;\n",
       "    }\n",
       "</style>\n",
       "<table border=\"1\" class=\"dataframe\">\n",
       "  <thead>\n",
       "    <tr style=\"text-align: right;\">\n",
       "      <th></th>\n",
       "      <th>PassengerId</th>\n",
       "      <th>HomePlanet</th>\n",
       "      <th>CryoSleep</th>\n",
       "      <th>Cabin</th>\n",
       "      <th>Destination</th>\n",
       "      <th>Age</th>\n",
       "      <th>VIP</th>\n",
       "      <th>RoomService</th>\n",
       "      <th>FoodCourt</th>\n",
       "      <th>ShoppingMall</th>\n",
       "      <th>Spa</th>\n",
       "      <th>VRDeck</th>\n",
       "      <th>Name</th>\n",
       "      <th>Transported</th>\n",
       "    </tr>\n",
       "  </thead>\n",
       "  <tbody>\n",
       "    <tr>\n",
       "      <th>0</th>\n",
       "      <td>0001_01</td>\n",
       "      <td>Europa</td>\n",
       "      <td>False</td>\n",
       "      <td>B/0/P</td>\n",
       "      <td>TRAPPIST-1e</td>\n",
       "      <td>39.0</td>\n",
       "      <td>False</td>\n",
       "      <td>0.0</td>\n",
       "      <td>0.0</td>\n",
       "      <td>0.0</td>\n",
       "      <td>0.0</td>\n",
       "      <td>0.0</td>\n",
       "      <td>Maham Ofracculy</td>\n",
       "      <td>False</td>\n",
       "    </tr>\n",
       "    <tr>\n",
       "      <th>1</th>\n",
       "      <td>0002_01</td>\n",
       "      <td>Earth</td>\n",
       "      <td>False</td>\n",
       "      <td>F/0/S</td>\n",
       "      <td>TRAPPIST-1e</td>\n",
       "      <td>24.0</td>\n",
       "      <td>False</td>\n",
       "      <td>109.0</td>\n",
       "      <td>9.0</td>\n",
       "      <td>25.0</td>\n",
       "      <td>549.0</td>\n",
       "      <td>44.0</td>\n",
       "      <td>Juanna Vines</td>\n",
       "      <td>True</td>\n",
       "    </tr>\n",
       "    <tr>\n",
       "      <th>2</th>\n",
       "      <td>0003_01</td>\n",
       "      <td>Europa</td>\n",
       "      <td>False</td>\n",
       "      <td>A/0/S</td>\n",
       "      <td>TRAPPIST-1e</td>\n",
       "      <td>58.0</td>\n",
       "      <td>True</td>\n",
       "      <td>43.0</td>\n",
       "      <td>3576.0</td>\n",
       "      <td>0.0</td>\n",
       "      <td>6715.0</td>\n",
       "      <td>49.0</td>\n",
       "      <td>Altark Susent</td>\n",
       "      <td>False</td>\n",
       "    </tr>\n",
       "    <tr>\n",
       "      <th>3</th>\n",
       "      <td>0003_02</td>\n",
       "      <td>Europa</td>\n",
       "      <td>False</td>\n",
       "      <td>A/0/S</td>\n",
       "      <td>TRAPPIST-1e</td>\n",
       "      <td>33.0</td>\n",
       "      <td>False</td>\n",
       "      <td>0.0</td>\n",
       "      <td>1283.0</td>\n",
       "      <td>371.0</td>\n",
       "      <td>3329.0</td>\n",
       "      <td>193.0</td>\n",
       "      <td>Solam Susent</td>\n",
       "      <td>False</td>\n",
       "    </tr>\n",
       "    <tr>\n",
       "      <th>4</th>\n",
       "      <td>0004_01</td>\n",
       "      <td>Earth</td>\n",
       "      <td>False</td>\n",
       "      <td>F/1/S</td>\n",
       "      <td>TRAPPIST-1e</td>\n",
       "      <td>16.0</td>\n",
       "      <td>False</td>\n",
       "      <td>303.0</td>\n",
       "      <td>70.0</td>\n",
       "      <td>151.0</td>\n",
       "      <td>565.0</td>\n",
       "      <td>2.0</td>\n",
       "      <td>Willy Santantines</td>\n",
       "      <td>True</td>\n",
       "    </tr>\n",
       "  </tbody>\n",
       "</table>\n",
       "</div>"
      ],
      "text/plain": [
       "  PassengerId HomePlanet CryoSleep  Cabin  Destination   Age    VIP  \\\n",
       "0     0001_01     Europa     False  B/0/P  TRAPPIST-1e  39.0  False   \n",
       "1     0002_01      Earth     False  F/0/S  TRAPPIST-1e  24.0  False   \n",
       "2     0003_01     Europa     False  A/0/S  TRAPPIST-1e  58.0   True   \n",
       "3     0003_02     Europa     False  A/0/S  TRAPPIST-1e  33.0  False   \n",
       "4     0004_01      Earth     False  F/1/S  TRAPPIST-1e  16.0  False   \n",
       "\n",
       "   RoomService  FoodCourt  ShoppingMall     Spa  VRDeck               Name  \\\n",
       "0          0.0        0.0           0.0     0.0     0.0    Maham Ofracculy   \n",
       "1        109.0        9.0          25.0   549.0    44.0       Juanna Vines   \n",
       "2         43.0     3576.0           0.0  6715.0    49.0      Altark Susent   \n",
       "3          0.0     1283.0         371.0  3329.0   193.0       Solam Susent   \n",
       "4        303.0       70.0         151.0   565.0     2.0  Willy Santantines   \n",
       "\n",
       "   Transported  \n",
       "0        False  \n",
       "1         True  \n",
       "2        False  \n",
       "3        False  \n",
       "4         True  "
      ]
     },
     "execution_count": 2,
     "metadata": {},
     "output_type": "execute_result"
    }
   ],
   "source": [
    "train=pd.read_csv('../input/spaceship-titanic/train.csv')\n",
    "test=pd.read_csv('../input/spaceship-titanic/test.csv')\n",
    "\n",
    "train.head()"
   ]
  },
  {
   "cell_type": "markdown",
   "id": "43dcf169",
   "metadata": {
    "papermill": {
     "duration": 0.008581,
     "end_time": "2023-12-09T13:41:16.667132",
     "exception": false,
     "start_time": "2023-12-09T13:41:16.658551",
     "status": "completed"
    },
    "tags": []
   },
   "source": [
    "# 2. Data Description\n",
    "> 2.1 Data Description\n",
    "> PassengerId - A unique Id for each passenger. Each Id takes the form gggg_pp where gggg indicates a group the passenger is travelling with and pp is their number within the group. People in a group are often family members, but not always.\n",
    "> \n",
    "> HomePlanet - The planet the passenger departed from, typically their planet of permanent residence.\n",
    "> \n",
    "> CryoSleep - Indicates whether the passenger elected to be put into suspended animation for the duration of the voyage. Passengers in cryosleep are confined to their cabins.\n",
    "> Cabin - The cabin number where the passenger is staying. Takes the form deck/num/side, where side can be either P for Port or S for Starboard.\n",
    "> Destination - The planet the passenger will be debarking to.\n",
    "> Age - The age of the passenger.\n",
    "> VIP - Whether the passenger has paid for special VIP service during the voyage.</font>\n",
    "> RoomService, FoodCourt, ShoppingMall, Spa, VRDeck - Amount the passenger has billed at each of the Spaceship Titanic's many luxury amenities.\n",
    "> Name - The first and last names of the passenger.\n",
    "\n",
    "> **Transported** - Whether the passenger was transported to another dimension. This is the target, the column you are trying to predict."
   ]
  },
  {
   "cell_type": "markdown",
   "id": "6756b628",
   "metadata": {
    "papermill": {
     "duration": 0.008495,
     "end_time": "2023-12-09T13:41:16.684590",
     "exception": false,
     "start_time": "2023-12-09T13:41:16.676095",
     "status": "completed"
    },
    "tags": []
   },
   "source": [
    "# 3. Check Missing Values"
   ]
  },
  {
   "cell_type": "code",
   "execution_count": 3,
   "id": "eb95adef",
   "metadata": {
    "execution": {
     "iopub.execute_input": "2023-12-09T13:41:16.705216Z",
     "iopub.status.busy": "2023-12-09T13:41:16.704826Z",
     "iopub.status.idle": "2023-12-09T13:41:16.749681Z",
     "shell.execute_reply": "2023-12-09T13:41:16.747051Z"
    },
    "papermill": {
     "duration": 0.059,
     "end_time": "2023-12-09T13:41:16.753216",
     "exception": false,
     "start_time": "2023-12-09T13:41:16.694216",
     "status": "completed"
    },
    "tags": []
   },
   "outputs": [
    {
     "name": "stdout",
     "output_type": "stream",
     "text": [
      "<class 'pandas.core.frame.DataFrame'>\n",
      "RangeIndex: 8693 entries, 0 to 8692\n",
      "Data columns (total 14 columns):\n",
      " #   Column        Non-Null Count  Dtype  \n",
      "---  ------        --------------  -----  \n",
      " 0   PassengerId   8693 non-null   object \n",
      " 1   HomePlanet    8492 non-null   object \n",
      " 2   CryoSleep     8476 non-null   object \n",
      " 3   Cabin         8494 non-null   object \n",
      " 4   Destination   8511 non-null   object \n",
      " 5   Age           8514 non-null   float64\n",
      " 6   VIP           8490 non-null   object \n",
      " 7   RoomService   8512 non-null   float64\n",
      " 8   FoodCourt     8510 non-null   float64\n",
      " 9   ShoppingMall  8485 non-null   float64\n",
      " 10  Spa           8510 non-null   float64\n",
      " 11  VRDeck        8505 non-null   float64\n",
      " 12  Name          8493 non-null   object \n",
      " 13  Transported   8693 non-null   bool   \n",
      "dtypes: bool(1), float64(6), object(7)\n",
      "memory usage: 891.5+ KB\n",
      "None\n",
      "_+_+_+_&*_*_*_*_*_\n",
      "<class 'pandas.core.frame.DataFrame'>\n",
      "RangeIndex: 4277 entries, 0 to 4276\n",
      "Data columns (total 13 columns):\n",
      " #   Column        Non-Null Count  Dtype  \n",
      "---  ------        --------------  -----  \n",
      " 0   PassengerId   4277 non-null   object \n",
      " 1   HomePlanet    4190 non-null   object \n",
      " 2   CryoSleep     4184 non-null   object \n",
      " 3   Cabin         4177 non-null   object \n",
      " 4   Destination   4185 non-null   object \n",
      " 5   Age           4186 non-null   float64\n",
      " 6   VIP           4184 non-null   object \n",
      " 7   RoomService   4195 non-null   float64\n",
      " 8   FoodCourt     4171 non-null   float64\n",
      " 9   ShoppingMall  4179 non-null   float64\n",
      " 10  Spa           4176 non-null   float64\n",
      " 11  VRDeck        4197 non-null   float64\n",
      " 12  Name          4183 non-null   object \n",
      "dtypes: float64(6), object(7)\n",
      "memory usage: 434.5+ KB\n",
      "None\n"
     ]
    }
   ],
   "source": [
    "print(train.info())\n",
    "print('_+_+_+_&*_*_*_*_*_')\n",
    "print(test.info())"
   ]
  },
  {
   "cell_type": "code",
   "execution_count": 4,
   "id": "46f04aa0",
   "metadata": {
    "execution": {
     "iopub.execute_input": "2023-12-09T13:41:16.774208Z",
     "iopub.status.busy": "2023-12-09T13:41:16.772588Z",
     "iopub.status.idle": "2023-12-09T13:41:17.064787Z",
     "shell.execute_reply": "2023-12-09T13:41:17.063415Z"
    },
    "papermill": {
     "duration": 0.305262,
     "end_time": "2023-12-09T13:41:17.067603",
     "exception": false,
     "start_time": "2023-12-09T13:41:16.762341",
     "status": "completed"
    },
    "tags": []
   },
   "outputs": [
    {
     "data": {
      "image/png": "[encoded data removed]",
      "text/plain": [
       "<Figure size 640x480 with 1 Axes>"
      ]
     },
     "metadata": {},
     "output_type": "display_data"
    },
    {
     "data": {
      "text/plain": [
       "0"
      ]
     },
     "execution_count": 4,
     "metadata": {},
     "output_type": "execute_result"
    }
   ],
   "source": [
    "# scatter_matrix(train_test, alpha=0.2, figsize=(6, 6), diagonal='kde')\n",
    "# plt.show()\n",
    "plt.plot(train['RoomService'], label='RoomService')\n",
    "plt.plot(train['ShoppingMall'], label='ShoppingMall')\n",
    "plt.title('Comparison of RoomService and ShoppingMall')\n",
    "plt.xlabel('Index')\n",
    "plt.ylabel('Values')\n",
    "plt.legend()\n",
    "plt.show()\n",
    "sum(train['Transported'].isna())"
   ]
  },
  {
   "cell_type": "markdown",
   "id": "d2daae4a",
   "metadata": {
    "papermill": {
     "duration": 0.009155,
     "end_time": "2023-12-09T13:41:17.086436",
     "exception": false,
     "start_time": "2023-12-09T13:41:17.077281",
     "status": "completed"
    },
    "tags": []
   },
   "source": [
    "# 3. Handling Missing Values¶"
   ]
  },
  {
   "cell_type": "markdown",
   "id": "3e7337b9",
   "metadata": {
    "papermill": {
     "duration": 0.009067,
     "end_time": "2023-12-09T13:41:17.104765",
     "exception": false,
     "start_time": "2023-12-09T13:41:17.095698",
     "status": "completed"
    },
    "tags": []
   },
   "source": [
    "> Thanks to @Master Jiraiya"
   ]
  },
  {
   "cell_type": "code",
   "execution_count": 5,
   "id": "52f5af9c",
   "metadata": {
    "execution": {
     "iopub.execute_input": "2023-12-09T13:41:17.125220Z",
     "iopub.status.busy": "2023-12-09T13:41:17.124825Z",
     "iopub.status.idle": "2023-12-09T13:41:17.154432Z",
     "shell.execute_reply": "2023-12-09T13:41:17.152812Z"
    },
    "papermill": {
     "duration": 0.043566,
     "end_time": "2023-12-09T13:41:17.157577",
     "exception": false,
     "start_time": "2023-12-09T13:41:17.114011",
     "status": "completed"
    },
    "tags": []
   },
   "outputs": [
    {
     "name": "stdout",
     "output_type": "stream",
     "text": [
      "<class 'pandas.core.frame.DataFrame'>\n",
      "RangeIndex: 4277 entries, 0 to 4276\n",
      "Data columns (total 13 columns):\n",
      " #   Column        Non-Null Count  Dtype  \n",
      "---  ------        --------------  -----  \n",
      " 0   PassengerId   4277 non-null   object \n",
      " 1   HomePlanet    4190 non-null   object \n",
      " 2   CryoSleep     4277 non-null   int64  \n",
      " 3   Cabin         4177 non-null   object \n",
      " 4   Destination   4185 non-null   object \n",
      " 5   Age           4186 non-null   float64\n",
      " 6   VIP           4277 non-null   int64  \n",
      " 7   RoomService   4195 non-null   float64\n",
      " 8   FoodCourt     4171 non-null   float64\n",
      " 9   ShoppingMall  4179 non-null   float64\n",
      " 10  Spa           4176 non-null   float64\n",
      " 11  VRDeck        4197 non-null   float64\n",
      " 12  Name          4183 non-null   object \n",
      "dtypes: float64(6), int64(2), object(5)\n",
      "memory usage: 434.5+ KB\n"
     ]
    }
   ],
   "source": [
    "# First lets fill CryoSleep, based on totdal expenditure\n",
    "exp_features=['RoomService', 'FoodCourt', 'ShoppingMall', 'Spa', 'VRDeck']\n",
    "train[\"Expenditure\"]=train[exp_features].sum(axis=\"columns\")\n",
    "test[\"Expenditure\"]=test[exp_features].sum(axis=\"columns\")\n",
    "\n",
    "# Zero expenditure indicate that they are in CryoSleep\n",
    "train['CryoSleep']=np.where(train['Expenditure']==0,1,0)\n",
    "test['CryoSleep']=np.where(test['Expenditure']==0,1,0)\n",
    "\n",
    "# Also, if they are VIPs, they probably would not choose to be in CryoSleep\n",
    "train['VIP']=np.where(train['CryoSleep']==0,1,0)\n",
    "test['VIP']=np.where(test['CryoSleep']==0,1,0)\n",
    "\n",
    "# Also, if Expenditure is 0, they probably are under 12\n",
    "# minAge = int(train['Age'].mean())\n",
    "# train['Age']=np.where(train['Expenditure']==0,0,minAge)\n",
    "# test['Age']=np.where(test['Expenditure']==0,0,minAge)\n",
    "\n",
    "train.drop(columns=[\"Expenditure\"],inplace=True)\n",
    "test.drop(columns=[\"Expenditure\"],inplace=True)\n",
    "test.info()"
   ]
  },
  {
   "cell_type": "code",
   "execution_count": 6,
   "id": "9187ccb3",
   "metadata": {
    "execution": {
     "iopub.execute_input": "2023-12-09T13:41:17.178430Z",
     "iopub.status.busy": "2023-12-09T13:41:17.178051Z",
     "iopub.status.idle": "2023-12-09T13:41:17.221215Z",
     "shell.execute_reply": "2023-12-09T13:41:17.219139Z"
    },
    "papermill": {
     "duration": 0.057174,
     "end_time": "2023-12-09T13:41:17.224420",
     "exception": false,
     "start_time": "2023-12-09T13:41:17.167246",
     "status": "completed"
    },
    "tags": []
   },
   "outputs": [
    {
     "data": {
      "text/html": [
       "<div>\n",
       "<style scoped>\n",
       "    .dataframe tbody tr th:only-of-type {\n",
       "        vertical-align: middle;\n",
       "    }\n",
       "\n",
       "    .dataframe tbody tr th {\n",
       "        vertical-align: top;\n",
       "    }\n",
       "\n",
       "    .dataframe thead th {\n",
       "        text-align: right;\n",
       "    }\n",
       "</style>\n",
       "<table border=\"1\" class=\"dataframe\">\n",
       "  <thead>\n",
       "    <tr style=\"text-align: right;\">\n",
       "      <th></th>\n",
       "      <th>PassengerId</th>\n",
       "      <th>HomePlanet</th>\n",
       "      <th>CryoSleep</th>\n",
       "      <th>Cabin</th>\n",
       "      <th>Destination</th>\n",
       "      <th>Age</th>\n",
       "      <th>VIP</th>\n",
       "      <th>RoomService</th>\n",
       "      <th>FoodCourt</th>\n",
       "      <th>ShoppingMall</th>\n",
       "      <th>Spa</th>\n",
       "      <th>VRDeck</th>\n",
       "      <th>Name</th>\n",
       "      <th>Transported</th>\n",
       "    </tr>\n",
       "  </thead>\n",
       "  <tbody>\n",
       "    <tr>\n",
       "      <th>0</th>\n",
       "      <td>0001_01</td>\n",
       "      <td>2.0</td>\n",
       "      <td>1</td>\n",
       "      <td>B/0/P</td>\n",
       "      <td>3.0</td>\n",
       "      <td>39.0</td>\n",
       "      <td>0</td>\n",
       "      <td>0.0</td>\n",
       "      <td>0.0</td>\n",
       "      <td>0.0</td>\n",
       "      <td>0.0</td>\n",
       "      <td>0.0</td>\n",
       "      <td>Maham Ofracculy</td>\n",
       "      <td>0</td>\n",
       "    </tr>\n",
       "    <tr>\n",
       "      <th>1</th>\n",
       "      <td>0002_01</td>\n",
       "      <td>1.0</td>\n",
       "      <td>0</td>\n",
       "      <td>F/0/S</td>\n",
       "      <td>3.0</td>\n",
       "      <td>24.0</td>\n",
       "      <td>1</td>\n",
       "      <td>109.0</td>\n",
       "      <td>9.0</td>\n",
       "      <td>25.0</td>\n",
       "      <td>549.0</td>\n",
       "      <td>44.0</td>\n",
       "      <td>Juanna Vines</td>\n",
       "      <td>1</td>\n",
       "    </tr>\n",
       "    <tr>\n",
       "      <th>2</th>\n",
       "      <td>0003_01</td>\n",
       "      <td>2.0</td>\n",
       "      <td>0</td>\n",
       "      <td>A/0/S</td>\n",
       "      <td>3.0</td>\n",
       "      <td>58.0</td>\n",
       "      <td>1</td>\n",
       "      <td>43.0</td>\n",
       "      <td>3576.0</td>\n",
       "      <td>0.0</td>\n",
       "      <td>6715.0</td>\n",
       "      <td>49.0</td>\n",
       "      <td>Altark Susent</td>\n",
       "      <td>0</td>\n",
       "    </tr>\n",
       "  </tbody>\n",
       "</table>\n",
       "</div>"
      ],
      "text/plain": [
       "  PassengerId  HomePlanet  CryoSleep  Cabin  Destination   Age  VIP  \\\n",
       "0     0001_01         2.0          1  B/0/P          3.0  39.0    0   \n",
       "1     0002_01         1.0          0  F/0/S          3.0  24.0    1   \n",
       "2     0003_01         2.0          0  A/0/S          3.0  58.0    1   \n",
       "\n",
       "   RoomService  FoodCourt  ShoppingMall     Spa  VRDeck             Name  \\\n",
       "0          0.0        0.0           0.0     0.0     0.0  Maham Ofracculy   \n",
       "1        109.0        9.0          25.0   549.0    44.0     Juanna Vines   \n",
       "2         43.0     3576.0           0.0  6715.0    49.0    Altark Susent   \n",
       "\n",
       "   Transported  \n",
       "0            0  \n",
       "1            1  \n",
       "2            0  "
      ]
     },
     "execution_count": 6,
     "metadata": {},
     "output_type": "execute_result"
    }
   ],
   "source": [
    "#CryoSleep Train\n",
    "train['CryoSleep'].replace({True: 1, False: 0}, inplace=True)\n",
    "\n",
    "#Transported Train\n",
    "train['Transported'] = train['Transported'].replace({True: 1, False: 0})\n",
    "\n",
    "#HomePlanet Train\n",
    "train['HomePlanet'].replace('Earth', 1, inplace=True)\n",
    "train['HomePlanet'].replace('Europa', 2, inplace=True)\n",
    "train['HomePlanet'].replace('Mars', 3, inplace=True)\n",
    "\n",
    "#Destination Train\n",
    "train['Destination'].replace('55 Cancri e', 1, inplace=True)\n",
    "train['Destination'].replace('PSO J318.5-22', 2, inplace=True)\n",
    "train['Destination'].replace('TRAPPIST-1e', 3, inplace=True)\n",
    "\n",
    "\n",
    "#Vip Train\n",
    "train['VIP'].replace({True: 1, False: 0}, inplace=True)\n",
    "\n",
    "\n",
    "########################################################\n",
    "\n",
    "\n",
    "#CryoSleep Test\n",
    "test['CryoSleep'].replace({True: 1, False: 0}, inplace=True)\n",
    "\n",
    "#Transported Test\n",
    "# Don't have transported\n",
    "\n",
    "#HomePlanet Test\n",
    "test['HomePlanet'].replace('Earth', 1, inplace=True)\n",
    "test['HomePlanet'].replace('Europa', 2, inplace=True)\n",
    "test['HomePlanet'].replace('Mars', 3, inplace=True)\n",
    "\n",
    "#Destination Test\n",
    "test['Destination'].replace('55 Cancri e', 1, inplace=True)\n",
    "test['Destination'].replace('PSO J318.5-22', 2, inplace=True)\n",
    "test['Destination'].replace('TRAPPIST-1e', 3, inplace=True)\n",
    "\n",
    "#Vip Test\n",
    "test['VIP'].replace({True: 1, False: 0}, inplace=True)\n",
    "\n",
    "\n",
    "train.head(3)\n",
    "# test.head(3)"
   ]
  },
  {
   "cell_type": "markdown",
   "id": "e20e93e2",
   "metadata": {
    "papermill": {
     "duration": 0.010616,
     "end_time": "2023-12-09T13:41:17.245894",
     "exception": false,
     "start_time": "2023-12-09T13:41:17.235278",
     "status": "completed"
    },
    "tags": []
   },
   "source": [
    "HomePlanet: {'Earth', 'Europa', 'Mars', nan}\n",
    "{1,2,3,4}"
   ]
  },
  {
   "cell_type": "markdown",
   "id": "ef6be895",
   "metadata": {
    "papermill": {
     "duration": 0.010594,
     "end_time": "2023-12-09T13:41:17.267284",
     "exception": false,
     "start_time": "2023-12-09T13:41:17.256690",
     "status": "completed"
    },
    "tags": []
   },
   "source": [
    "Destination: {'55 Cancri e', 'PSO J318.5-22', 'TRAPPIST-1e', nan}\n",
    "{1,2,3,4}"
   ]
  },
  {
   "cell_type": "markdown",
   "id": "60a3d83d",
   "metadata": {
    "papermill": {
     "duration": 0.01035,
     "end_time": "2023-12-09T13:41:17.288917",
     "exception": false,
     "start_time": "2023-12-09T13:41:17.278567",
     "status": "completed"
    },
    "tags": []
   },
   "source": [
    "letter_to_int = {'A': 1, 'B': 2, 'C': 3, 'D': 4, 'E': 5, 'F': 6, 'G': 7, 'H': 8, 'I': 9, 'J': 10}"
   ]
  },
  {
   "cell_type": "markdown",
   "id": "e8c2539c",
   "metadata": {
    "papermill": {
     "duration": 0.010458,
     "end_time": "2023-12-09T13:41:17.310057",
     "exception": false,
     "start_time": "2023-12-09T13:41:17.299599",
     "status": "completed"
    },
    "tags": []
   },
   "source": [
    "Now we have 11 attribute to work with and they all are numeric\n"
   ]
  },
  {
   "cell_type": "markdown",
   "id": "3d06d0bb",
   "metadata": {
    "papermill": {
     "duration": 0.010611,
     "end_time": "2023-12-09T13:41:17.331423",
     "exception": false,
     "start_time": "2023-12-09T13:41:17.320812",
     "status": "completed"
    },
    "tags": []
   },
   "source": [
    "Now We can go to filling every null and nan cell in our dataframe"
   ]
  },
  {
   "cell_type": "code",
   "execution_count": 7,
   "id": "7e5d03d5",
   "metadata": {
    "execution": {
     "iopub.execute_input": "2023-12-09T13:41:17.355131Z",
     "iopub.status.busy": "2023-12-09T13:41:17.354193Z",
     "iopub.status.idle": "2023-12-09T13:41:17.391308Z",
     "shell.execute_reply": "2023-12-09T13:41:17.389511Z"
    },
    "papermill": {
     "duration": 0.052005,
     "end_time": "2023-12-09T13:41:17.393933",
     "exception": false,
     "start_time": "2023-12-09T13:41:17.341928",
     "status": "completed"
    },
    "tags": []
   },
   "outputs": [
    {
     "name": "stdout",
     "output_type": "stream",
     "text": [
      "<class 'pandas.core.frame.DataFrame'>\n",
      "RangeIndex: 8693 entries, 0 to 8692\n",
      "Data columns (total 14 columns):\n",
      " #   Column        Non-Null Count  Dtype   \n",
      "---  ------        --------------  -----   \n",
      " 0   PassengerId   8693 non-null   object  \n",
      " 1   HomePlanet    8693 non-null   float64 \n",
      " 2   CryoSleep     8693 non-null   int64   \n",
      " 3   Cabin         8693 non-null   object  \n",
      " 4   Destination   8693 non-null   float64 \n",
      " 5   Age           8693 non-null   category\n",
      " 6   VIP           8693 non-null   int64   \n",
      " 7   RoomService   8693 non-null   float64 \n",
      " 8   FoodCourt     8693 non-null   float64 \n",
      " 9   ShoppingMall  8693 non-null   float64 \n",
      " 10  Spa           8693 non-null   float64 \n",
      " 11  VRDeck        8693 non-null   float64 \n",
      " 12  Name          8493 non-null   object  \n",
      " 13  Transported   8693 non-null   int64   \n",
      "dtypes: category(1), float64(7), int64(3), object(3)\n",
      "memory usage: 891.9+ KB\n"
     ]
    }
   ],
   "source": [
    "# Filled them with help of expenditure and VIP\n",
    "# df[\"CryoSleep\"].fillna(df[\"CryoSleep\"].mode()[0],inplace=True)\n",
    "\n",
    "# Filled them with help of expenditure and CryoSleep\n",
    "# df[\"VIP\"].fillna(df[\"VIP\"].mode()[0],inplace=True)\n",
    "\n",
    "#Data For Train\n",
    "train[\"HomePlanet\"].fillna(train[\"HomePlanet\"].mode()[0],inplace=True)\n",
    "train[\"Destination\"].fillna(train[\"Destination\"].mode()[0],inplace=True)\n",
    "train[\"Cabin\"].fillna(train[\"Cabin\"].mode()[0],inplace=True)\n",
    "train[\"Age\"].fillna(int(train[\"Age\"].mean()),inplace=True)\n",
    "train[\"RoomService\"].fillna(train[\"RoomService\"].mean(),inplace=True)\n",
    "train[\"FoodCourt\"].fillna(train[\"FoodCourt\"].mean(),inplace=True)\n",
    "train[\"ShoppingMall\"].fillna(train[\"ShoppingMall\"].mean(),inplace=True)\n",
    "train[\"Spa\"].fillna(train[\"Spa\"].mean(),inplace=True)\n",
    "train[\"VRDeck\"].fillna(train[\"VRDeck\"].mean(),inplace=True)\n",
    "\n",
    "\n",
    "\n",
    "#Data for Test\n",
    "test[\"HomePlanet\"].fillna(test[\"HomePlanet\"].mode()[0],inplace=True)\n",
    "test[\"Destination\"].fillna(test[\"Destination\"].mode()[0],inplace=True)\n",
    "test[\"Cabin\"].fillna(test[\"Cabin\"].mode()[0],inplace=True)\n",
    "test[\"Age\"].fillna(int(test[\"Age\"].mean()),inplace=True)\n",
    "test[\"RoomService\"].fillna(test[\"RoomService\"].mean(),inplace=True)\n",
    "test[\"FoodCourt\"].fillna(test[\"FoodCourt\"].mean(),inplace=True)\n",
    "test[\"ShoppingMall\"].fillna(test[\"ShoppingMall\"].mean(),inplace=True)\n",
    "test[\"Spa\"].fillna(test[\"Spa\"].mean(),inplace=True)\n",
    "test[\"VRDeck\"].fillna(test[\"VRDeck\"].mean(),inplace=True)\n",
    "\n",
    "# Define the bins and labels for AGE column\n",
    "bins = [0, 15, 25, 35, 45, 60, 75, 90,120, 150]\n",
    "labels = [1, 2, 3, 4, 5, 6, 7, 8, 9]\n",
    "\n",
    "# Use pd.cut to scale the 'Age' column\n",
    "train['Age'] = pd.cut(train['Age'], bins=bins, labels=labels, right=False)\n",
    "test['Age'] = pd.cut(test['Age'], bins=bins, labels=labels, right=False)\n",
    "\n",
    "#No Nan, Null or empty cell\n",
    "train.info()"
   ]
  },
  {
   "cell_type": "code",
   "execution_count": 8,
   "id": "443984c2",
   "metadata": {
    "execution": {
     "iopub.execute_input": "2023-12-09T13:41:17.418458Z",
     "iopub.status.busy": "2023-12-09T13:41:17.418054Z",
     "iopub.status.idle": "2023-12-09T13:41:17.495375Z",
     "shell.execute_reply": "2023-12-09T13:41:17.494219Z"
    },
    "papermill": {
     "duration": 0.09274,
     "end_time": "2023-12-09T13:41:17.497906",
     "exception": false,
     "start_time": "2023-12-09T13:41:17.405166",
     "status": "completed"
    },
    "tags": []
   },
   "outputs": [
    {
     "data": {
      "text/html": [
       "<div>\n",
       "<style scoped>\n",
       "    .dataframe tbody tr th:only-of-type {\n",
       "        vertical-align: middle;\n",
       "    }\n",
       "\n",
       "    .dataframe tbody tr th {\n",
       "        vertical-align: top;\n",
       "    }\n",
       "\n",
       "    .dataframe thead th {\n",
       "        text-align: right;\n",
       "    }\n",
       "</style>\n",
       "<table border=\"1\" class=\"dataframe\">\n",
       "  <thead>\n",
       "    <tr style=\"text-align: right;\">\n",
       "      <th></th>\n",
       "      <th>PassengerId</th>\n",
       "      <th>HomePlanet</th>\n",
       "      <th>CryoSleep</th>\n",
       "      <th>Cabin</th>\n",
       "      <th>Destination</th>\n",
       "      <th>Age</th>\n",
       "      <th>VIP</th>\n",
       "      <th>RoomService</th>\n",
       "      <th>FoodCourt</th>\n",
       "      <th>ShoppingMall</th>\n",
       "      <th>Spa</th>\n",
       "      <th>VRDeck</th>\n",
       "      <th>Name</th>\n",
       "      <th>Transported</th>\n",
       "      <th>Port</th>\n",
       "      <th>Place</th>\n",
       "    </tr>\n",
       "  </thead>\n",
       "  <tbody>\n",
       "    <tr>\n",
       "      <th>0</th>\n",
       "      <td>0001_01</td>\n",
       "      <td>2.0</td>\n",
       "      <td>1</td>\n",
       "      <td>0</td>\n",
       "      <td>3.0</td>\n",
       "      <td>4</td>\n",
       "      <td>0</td>\n",
       "      <td>0.0</td>\n",
       "      <td>0.0</td>\n",
       "      <td>0.0</td>\n",
       "      <td>0.0</td>\n",
       "      <td>0.0</td>\n",
       "      <td>Maham Ofracculy</td>\n",
       "      <td>0</td>\n",
       "      <td>1</td>\n",
       "      <td>2</td>\n",
       "    </tr>\n",
       "    <tr>\n",
       "      <th>1</th>\n",
       "      <td>0002_01</td>\n",
       "      <td>1.0</td>\n",
       "      <td>0</td>\n",
       "      <td>0</td>\n",
       "      <td>3.0</td>\n",
       "      <td>2</td>\n",
       "      <td>1</td>\n",
       "      <td>109.0</td>\n",
       "      <td>9.0</td>\n",
       "      <td>25.0</td>\n",
       "      <td>549.0</td>\n",
       "      <td>44.0</td>\n",
       "      <td>Juanna Vines</td>\n",
       "      <td>1</td>\n",
       "      <td>0</td>\n",
       "      <td>6</td>\n",
       "    </tr>\n",
       "    <tr>\n",
       "      <th>2</th>\n",
       "      <td>0003_01</td>\n",
       "      <td>2.0</td>\n",
       "      <td>0</td>\n",
       "      <td>0</td>\n",
       "      <td>3.0</td>\n",
       "      <td>5</td>\n",
       "      <td>1</td>\n",
       "      <td>43.0</td>\n",
       "      <td>3576.0</td>\n",
       "      <td>0.0</td>\n",
       "      <td>6715.0</td>\n",
       "      <td>49.0</td>\n",
       "      <td>Altark Susent</td>\n",
       "      <td>0</td>\n",
       "      <td>0</td>\n",
       "      <td>1</td>\n",
       "    </tr>\n",
       "  </tbody>\n",
       "</table>\n",
       "</div>"
      ],
      "text/plain": [
       "  PassengerId  HomePlanet  CryoSleep Cabin  Destination Age  VIP  RoomService  \\\n",
       "0     0001_01         2.0          1     0          3.0   4    0          0.0   \n",
       "1     0002_01         1.0          0     0          3.0   2    1        109.0   \n",
       "2     0003_01         2.0          0     0          3.0   5    1         43.0   \n",
       "\n",
       "   FoodCourt  ShoppingMall     Spa  VRDeck             Name  Transported  \\\n",
       "0        0.0           0.0     0.0     0.0  Maham Ofracculy            0   \n",
       "1        9.0          25.0   549.0    44.0     Juanna Vines            1   \n",
       "2     3576.0           0.0  6715.0    49.0    Altark Susent            0   \n",
       "\n",
       "   Port  Place  \n",
       "0     1      2  \n",
       "1     0      6  \n",
       "2     0      1  "
      ]
     },
     "execution_count": 8,
     "metadata": {},
     "output_type": "execute_result"
    }
   ],
   "source": [
    "# Train Data\n",
    "#Port or Starboard of the cabins\n",
    "train['Port'] = train['Cabin'].str.split('/').str[-1]\n",
    "train['Port'].replace('S', 0, inplace=True)\n",
    "train['Port'].replace('P', 1, inplace=True)\n",
    "\n",
    "#Class of the cabins\n",
    "train['Place'] = train['Cabin'].str.split('/').str[0]\n",
    "letter_to_int = {'A': 1, 'B': 2, 'C': 3, 'D': 4, 'E': 5, 'F': 6, 'G': 7, 'T': 8}\n",
    "train['Place'] = train['Place'].map(letter_to_int)\n",
    "\n",
    "\n",
    "#Number of cabins\n",
    "train['Cabin'] = train['Cabin'].str.split('/').str[1]\n",
    "\n",
    "#####################################\n",
    "#####################################\n",
    "#####################################\n",
    "\n",
    "# Test Data\n",
    "\n",
    "#Port or Starboard of the cabins\n",
    "test['Port'] = test['Cabin'].str.split('/').str[-1]\n",
    "test['Port'].replace('S', 0, inplace=True)\n",
    "test['Port'].replace('P', 1, inplace=True)\n",
    "\n",
    "#Class of the cabins\n",
    "test['Place'] = test['Cabin'].str.split('/').str[0]\n",
    "letter_to_int = {'A': 1, 'B': 2, 'C': 3, 'D': 4, 'E': 5, 'F': 6, 'G': 7, 'T': 8}\n",
    "test['Place'] = test['Place'].map(letter_to_int)\n",
    "\n",
    "\n",
    "#Number of cabins\n",
    "test['Cabin'] = test['Cabin'].str.split('/').str[1]\n",
    "\n",
    "\n",
    "\n",
    "train.head(3)"
   ]
  },
  {
   "cell_type": "code",
   "execution_count": 9,
   "id": "4efc9f8a",
   "metadata": {
    "execution": {
     "iopub.execute_input": "2023-12-09T13:41:17.589445Z",
     "iopub.status.busy": "2023-12-09T13:41:17.588418Z",
     "iopub.status.idle": "2023-12-09T13:41:17.614275Z",
     "shell.execute_reply": "2023-12-09T13:41:17.613231Z"
    },
    "papermill": {
     "duration": 0.108373,
     "end_time": "2023-12-09T13:41:17.616569",
     "exception": false,
     "start_time": "2023-12-09T13:41:17.508196",
     "status": "completed"
    },
    "tags": []
   },
   "outputs": [
    {
     "name": "stdout",
     "output_type": "stream",
     "text": [
      "<class 'pandas.core.frame.DataFrame'>\n",
      "RangeIndex: 8693 entries, 0 to 8692\n",
      "Data columns (total 16 columns):\n",
      " #   Column        Non-Null Count  Dtype  \n",
      "---  ------        --------------  -----  \n",
      " 0   PassengerId   8693 non-null   object \n",
      " 1   HomePlanet    8693 non-null   Int64  \n",
      " 2   CryoSleep     8693 non-null   Int64  \n",
      " 3   Cabin         8693 non-null   Int64  \n",
      " 4   Destination   8693 non-null   Int64  \n",
      " 5   Age           8693 non-null   Int64  \n",
      " 6   VIP           8693 non-null   Int64  \n",
      " 7   RoomService   8693 non-null   float64\n",
      " 8   FoodCourt     8693 non-null   float64\n",
      " 9   ShoppingMall  8693 non-null   float64\n",
      " 10  Spa           8693 non-null   float64\n",
      " 11  VRDeck        8693 non-null   float64\n",
      " 12  Name          8493 non-null   object \n",
      " 13  Transported   8693 non-null   int64  \n",
      " 14  Port          8693 non-null   Int64  \n",
      " 15  Place         8693 non-null   Int64  \n",
      "dtypes: Int64(8), float64(5), int64(1), object(2)\n",
      "memory usage: 1.1+ MB\n"
     ]
    }
   ],
   "source": [
    "train[['HomePlanet', 'CryoSleep', 'Cabin', 'Destination', 'Age', 'VIP', 'Port', 'Place']] = train[['HomePlanet', 'CryoSleep','Cabin', 'Destination', 'Age', 'VIP', 'Port', 'Place']].astype('Int64')\n",
    "\n",
    "test[['HomePlanet', 'CryoSleep', 'Cabin', 'Destination', 'Age', 'VIP', 'Port', 'Place']] = test[['HomePlanet', 'CryoSleep','Cabin', 'Destination', 'Age', 'VIP', 'Port', 'Place']].astype('Int64')\n",
    "train.info()"
   ]
  },
  {
   "cell_type": "markdown",
   "id": "b8df0773",
   "metadata": {
    "papermill": {
     "duration": 0.010787,
     "end_time": "2023-12-09T13:41:17.637984",
     "exception": false,
     "start_time": "2023-12-09T13:41:17.627197",
     "status": "completed"
    },
    "tags": []
   },
   "source": [
    "# Handling Expenditure data "
   ]
  },
  {
   "cell_type": "code",
   "execution_count": 10,
   "id": "8b4bc85f",
   "metadata": {
    "execution": {
     "iopub.execute_input": "2023-12-09T13:41:17.663684Z",
     "iopub.status.busy": "2023-12-09T13:41:17.663272Z",
     "iopub.status.idle": "2023-12-09T13:41:17.907785Z",
     "shell.execute_reply": "2023-12-09T13:41:17.906386Z"
    },
    "papermill": {
     "duration": 0.260438,
     "end_time": "2023-12-09T13:41:17.910423",
     "exception": false,
     "start_time": "2023-12-09T13:41:17.649985",
     "status": "completed"
    },
    "tags": []
   },
   "outputs": [
    {
     "data": {
      "image/png": "[encoded data removed]",
      "text/plain": [
       "<Figure size 640x480 with 1 Axes>"
      ]
     },
     "metadata": {},
     "output_type": "display_data"
    }
   ],
   "source": [
    "train.plot.scatter(x='RoomService', y='Transported')\n",
    "plt.show()"
   ]
  },
  {
   "cell_type": "code",
   "execution_count": 11,
   "id": "19251182",
   "metadata": {
    "execution": {
     "iopub.execute_input": "2023-12-09T13:41:17.934010Z",
     "iopub.status.busy": "2023-12-09T13:41:17.933589Z",
     "iopub.status.idle": "2023-12-09T13:41:18.142165Z",
     "shell.execute_reply": "2023-12-09T13:41:18.141399Z"
    },
    "papermill": {
     "duration": 0.223609,
     "end_time": "2023-12-09T13:41:18.145010",
     "exception": false,
     "start_time": "2023-12-09T13:41:17.921401",
     "status": "completed"
    },
    "tags": []
   },
   "outputs": [
    {
     "data": {
      "image/png": "[encoded data removed]",
      "text/plain": [
       "<Figure size 640x480 with 1 Axes>"
      ]
     },
     "metadata": {},
     "output_type": "display_data"
    }
   ],
   "source": [
    "indexNames1 = train[ (train['RoomService'] > 9000)& (train['Transported'] == False)].index\n",
    "indexNames2 = train[ (train['RoomService'] > 4000) & (train['Transported'] == True)].index\n",
    "\n",
    "train.drop(indexNames1 , inplace=True)\n",
    "train.drop(indexNames2 , inplace=True)\n",
    "\n",
    "train.plot.scatter(x='RoomService', y='Transported')\n",
    "plt.show()\n",
    "\n",
    "\n",
    "# train.info()\n",
    "# print(len(indexNames1))\n",
    "# print(len(indexNames2))"
   ]
  },
  {
   "cell_type": "code",
   "execution_count": 12,
   "id": "7d48b3c4",
   "metadata": {
    "execution": {
     "iopub.execute_input": "2023-12-09T13:41:18.169748Z",
     "iopub.status.busy": "2023-12-09T13:41:18.169294Z",
     "iopub.status.idle": "2023-12-09T13:41:18.370997Z",
     "shell.execute_reply": "2023-12-09T13:41:18.369349Z"
    },
    "papermill": {
     "duration": 0.216576,
     "end_time": "2023-12-09T13:41:18.373226",
     "exception": false,
     "start_time": "2023-12-09T13:41:18.156650",
     "status": "completed"
    },
    "tags": []
   },
   "outputs": [
    {
     "data": {
      "image/png": "[encoded data removed]",
      "text/plain": [
       "<Figure size 640x480 with 1 Axes>"
      ]
     },
     "metadata": {},
     "output_type": "display_data"
    }
   ],
   "source": [
    "train.plot.scatter(x='FoodCourt', y='Transported')\n",
    "plt.show()"
   ]
  },
  {
   "cell_type": "code",
   "execution_count": 13,
   "id": "f6ad1dd4",
   "metadata": {
    "execution": {
     "iopub.execute_input": "2023-12-09T13:41:18.398071Z",
     "iopub.status.busy": "2023-12-09T13:41:18.397642Z",
     "iopub.status.idle": "2023-12-09T13:41:18.617161Z",
     "shell.execute_reply": "2023-12-09T13:41:18.615532Z"
    },
    "papermill": {
     "duration": 0.235046,
     "end_time": "2023-12-09T13:41:18.619739",
     "exception": false,
     "start_time": "2023-12-09T13:41:18.384693",
     "status": "completed"
    },
    "tags": []
   },
   "outputs": [
    {
     "data": {
      "image/png": "[encoded data removed]",
      "text/plain": [
       "<Figure size 640x480 with 1 Axes>"
      ]
     },
     "metadata": {},
     "output_type": "display_data"
    },
    {
     "name": "stdout",
     "output_type": "stream",
     "text": [
      "5\n",
      "2\n"
     ]
    }
   ],
   "source": [
    "indexNames1 = train[ (train['FoodCourt'] > 20000) & (train['Transported'] == True)].index\n",
    "indexNames2 = train[ (train['FoodCourt'] > 14000)& (train['Transported'] == False)].index\n",
    "\n",
    "train.drop(indexNames1 , inplace=True)\n",
    "train.drop(indexNames2 , inplace=True)\n",
    "\n",
    "train.plot.scatter(x='FoodCourt', y='Transported')\n",
    "plt.show()\n",
    "\n",
    "print(len(indexNames1))\n",
    "print(len(indexNames2))"
   ]
  },
  {
   "cell_type": "code",
   "execution_count": 14,
   "id": "9eaa9910",
   "metadata": {
    "execution": {
     "iopub.execute_input": "2023-12-09T13:41:18.647130Z",
     "iopub.status.busy": "2023-12-09T13:41:18.646477Z",
     "iopub.status.idle": "2023-12-09T13:41:18.849795Z",
     "shell.execute_reply": "2023-12-09T13:41:18.848865Z"
    },
    "papermill": {
     "duration": 0.219791,
     "end_time": "2023-12-09T13:41:18.851671",
     "exception": false,
     "start_time": "2023-12-09T13:41:18.631880",
     "status": "completed"
    },
    "tags": []
   },
   "outputs": [
    {
     "data": {
      "image/png": "[encoded data removed]",
      "text/plain": [
       "<Figure size 640x480 with 1 Axes>"
      ]
     },
     "metadata": {},
     "output_type": "display_data"
    }
   ],
   "source": [
    "train.plot.scatter(x='ShoppingMall', y='Transported')\n",
    "plt.show()"
   ]
  },
  {
   "cell_type": "code",
   "execution_count": 15,
   "id": "f83b0625",
   "metadata": {
    "execution": {
     "iopub.execute_input": "2023-12-09T13:41:18.877574Z",
     "iopub.status.busy": "2023-12-09T13:41:18.877168Z",
     "iopub.status.idle": "2023-12-09T13:41:19.099868Z",
     "shell.execute_reply": "2023-12-09T13:41:19.098380Z"
    },
    "papermill": {
     "duration": 0.23826,
     "end_time": "2023-12-09T13:41:19.102083",
     "exception": false,
     "start_time": "2023-12-09T13:41:18.863823",
     "status": "completed"
    },
    "tags": []
   },
   "outputs": [
    {
     "data": {
      "image/png": "[encoded data removed]",
      "text/plain": [
       "<Figure size 640x480 with 1 Axes>"
      ]
     },
     "metadata": {},
     "output_type": "display_data"
    },
    {
     "name": "stdout",
     "output_type": "stream",
     "text": [
      "3\n",
      "2\n"
     ]
    }
   ],
   "source": [
    "indexNames1 = train[ (train['ShoppingMall'] > 9000) & (train['Transported'] == True)].index\n",
    "indexNames2 = train[ (train['ShoppingMall'] > 5000)& (train['Transported'] == False)].index\n",
    "\n",
    "train.drop(indexNames1 , inplace=True)\n",
    "train.drop(indexNames2 , inplace=True)\n",
    "\n",
    "train.plot.scatter(x='ShoppingMall', y='Transported')\n",
    "plt.show()\n",
    "\n",
    "print(len(indexNames1))\n",
    "print(len(indexNames2))"
   ]
  },
  {
   "cell_type": "code",
   "execution_count": 16,
   "id": "5ef34b65",
   "metadata": {
    "execution": {
     "iopub.execute_input": "2023-12-09T13:41:19.129589Z",
     "iopub.status.busy": "2023-12-09T13:41:19.129168Z",
     "iopub.status.idle": "2023-12-09T13:41:19.428329Z",
     "shell.execute_reply": "2023-12-09T13:41:19.426409Z"
    },
    "papermill": {
     "duration": 0.316711,
     "end_time": "2023-12-09T13:41:19.431307",
     "exception": false,
     "start_time": "2023-12-09T13:41:19.114596",
     "status": "completed"
    },
    "tags": []
   },
   "outputs": [
    {
     "data": {
      "image/png": "[encoded data removed]",
      "text/plain": [
       "<Figure size 640x480 with 1 Axes>"
      ]
     },
     "metadata": {},
     "output_type": "display_data"
    }
   ],
   "source": [
    "train.plot.scatter(x='Spa', y='Transported')\n",
    "plt.show()"
   ]
  },
  {
   "cell_type": "code",
   "execution_count": 17,
   "id": "18c6a98d",
   "metadata": {
    "execution": {
     "iopub.execute_input": "2023-12-09T13:41:19.458805Z",
     "iopub.status.busy": "2023-12-09T13:41:19.458469Z",
     "iopub.status.idle": "2023-12-09T13:41:19.672434Z",
     "shell.execute_reply": "2023-12-09T13:41:19.670216Z"
    },
    "papermill": {
     "duration": 0.23037,
     "end_time": "2023-12-09T13:41:19.674894",
     "exception": false,
     "start_time": "2023-12-09T13:41:19.444524",
     "status": "completed"
    },
    "tags": []
   },
   "outputs": [
    {
     "data": {
      "image/png": "[encoded data removed]",
      "text/plain": [
       "<Figure size 640x480 with 1 Axes>"
      ]
     },
     "metadata": {},
     "output_type": "display_data"
    },
    {
     "name": "stdout",
     "output_type": "stream",
     "text": [
      "0\n",
      "2\n"
     ]
    }
   ],
   "source": [
    "indexNames1 = train[ (train['Spa'] > 4500) & (train['Transported'] == True)].index\n",
    "indexNames2 = train[ (train['Spa'] > 17500)& (train['Transported'] == False)].index\n",
    "\n",
    "train.drop(indexNames1 , inplace=True)\n",
    "train.drop(indexNames2 , inplace=True)\n",
    "\n",
    "train.plot.scatter(x='Spa', y='Transported')\n",
    "plt.show()\n",
    "\n",
    "print(len(indexNames1))\n",
    "print(len(indexNames2))"
   ]
  },
  {
   "cell_type": "code",
   "execution_count": 18,
   "id": "4dbe62f8",
   "metadata": {
    "execution": {
     "iopub.execute_input": "2023-12-09T13:41:19.702693Z",
     "iopub.status.busy": "2023-12-09T13:41:19.702277Z",
     "iopub.status.idle": "2023-12-09T13:41:19.902930Z",
     "shell.execute_reply": "2023-12-09T13:41:19.901415Z"
    },
    "papermill": {
     "duration": 0.218245,
     "end_time": "2023-12-09T13:41:19.905782",
     "exception": false,
     "start_time": "2023-12-09T13:41:19.687537",
     "status": "completed"
    },
    "tags": []
   },
   "outputs": [
    {
     "data": {
      "image/png": "[encoded data removed]",
      "text/plain": [
       "<Figure size 640x480 with 1 Axes>"
      ]
     },
     "metadata": {},
     "output_type": "display_data"
    }
   ],
   "source": [
    "train.plot.scatter(x='VRDeck', y='Transported')\n",
    "plt.show()"
   ]
  },
  {
   "cell_type": "code",
   "execution_count": 19,
   "id": "5602dedc",
   "metadata": {
    "execution": {
     "iopub.execute_input": "2023-12-09T13:41:19.935884Z",
     "iopub.status.busy": "2023-12-09T13:41:19.934854Z",
     "iopub.status.idle": "2023-12-09T13:41:20.140403Z",
     "shell.execute_reply": "2023-12-09T13:41:20.139153Z"
    },
    "papermill": {
     "duration": 0.223646,
     "end_time": "2023-12-09T13:41:20.142622",
     "exception": false,
     "start_time": "2023-12-09T13:41:19.918976",
     "status": "completed"
    },
    "tags": []
   },
   "outputs": [
    {
     "data": {
      "image/png": "[encoded data removed]",
      "text/plain": [
       "<Figure size 640x480 with 1 Axes>"
      ]
     },
     "metadata": {},
     "output_type": "display_data"
    },
    {
     "name": "stdout",
     "output_type": "stream",
     "text": [
      "0\n",
      "5\n"
     ]
    }
   ],
   "source": [
    "indexNames1 = train[ (train['VRDeck'] > 5100) & (train['Transported'] == True)].index\n",
    "indexNames2 = train[ (train['VRDeck'] > 15000)& (train['Transported'] == False)].index\n",
    "\n",
    "train.drop(indexNames1 , inplace=True)\n",
    "train.drop(indexNames2 , inplace=True)\n",
    "\n",
    "train.plot.scatter(x='VRDeck', y='Transported')\n",
    "plt.show()\n",
    "\n",
    "print(len(indexNames1))\n",
    "print(len(indexNames2))"
   ]
  },
  {
   "cell_type": "code",
   "execution_count": 20,
   "id": "a8baa5ff",
   "metadata": {
    "execution": {
     "iopub.execute_input": "2023-12-09T13:41:20.171291Z",
     "iopub.status.busy": "2023-12-09T13:41:20.170901Z",
     "iopub.status.idle": "2023-12-09T13:41:20.197810Z",
     "shell.execute_reply": "2023-12-09T13:41:20.196682Z"
    },
    "papermill": {
     "duration": 0.043784,
     "end_time": "2023-12-09T13:41:20.199882",
     "exception": false,
     "start_time": "2023-12-09T13:41:20.156098",
     "status": "completed"
    },
    "tags": []
   },
   "outputs": [
    {
     "data": {
      "text/html": [
       "<div>\n",
       "<style scoped>\n",
       "    .dataframe tbody tr th:only-of-type {\n",
       "        vertical-align: middle;\n",
       "    }\n",
       "\n",
       "    .dataframe tbody tr th {\n",
       "        vertical-align: top;\n",
       "    }\n",
       "\n",
       "    .dataframe thead th {\n",
       "        text-align: right;\n",
       "    }\n",
       "</style>\n",
       "<table border=\"1\" class=\"dataframe\">\n",
       "  <thead>\n",
       "    <tr style=\"text-align: right;\">\n",
       "      <th></th>\n",
       "      <th>PassengerId</th>\n",
       "      <th>HomePlanet</th>\n",
       "      <th>CryoSleep</th>\n",
       "      <th>Cabin</th>\n",
       "      <th>Destination</th>\n",
       "      <th>Age</th>\n",
       "      <th>VIP</th>\n",
       "      <th>RoomService</th>\n",
       "      <th>FoodCourt</th>\n",
       "      <th>ShoppingMall</th>\n",
       "      <th>Spa</th>\n",
       "      <th>VRDeck</th>\n",
       "      <th>Name</th>\n",
       "      <th>Transported</th>\n",
       "      <th>Port</th>\n",
       "      <th>Place</th>\n",
       "    </tr>\n",
       "  </thead>\n",
       "  <tbody>\n",
       "    <tr>\n",
       "      <th>0</th>\n",
       "      <td>0001_01</td>\n",
       "      <td>2</td>\n",
       "      <td>1</td>\n",
       "      <td>0</td>\n",
       "      <td>3</td>\n",
       "      <td>4</td>\n",
       "      <td>0</td>\n",
       "      <td>0.000000</td>\n",
       "      <td>0.000000</td>\n",
       "      <td>0.0</td>\n",
       "      <td>0.000000</td>\n",
       "      <td>0.00000</td>\n",
       "      <td>Maham Ofracculy</td>\n",
       "      <td>0</td>\n",
       "      <td>1</td>\n",
       "      <td>2</td>\n",
       "    </tr>\n",
       "    <tr>\n",
       "      <th>1</th>\n",
       "      <td>0002_01</td>\n",
       "      <td>1</td>\n",
       "      <td>0</td>\n",
       "      <td>0</td>\n",
       "      <td>3</td>\n",
       "      <td>2</td>\n",
       "      <td>1</td>\n",
       "      <td>10.440307</td>\n",
       "      <td>3.000000</td>\n",
       "      <td>5.0</td>\n",
       "      <td>23.430749</td>\n",
       "      <td>6.63325</td>\n",
       "      <td>Juanna Vines</td>\n",
       "      <td>1</td>\n",
       "      <td>0</td>\n",
       "      <td>6</td>\n",
       "    </tr>\n",
       "    <tr>\n",
       "      <th>2</th>\n",
       "      <td>0003_01</td>\n",
       "      <td>2</td>\n",
       "      <td>0</td>\n",
       "      <td>0</td>\n",
       "      <td>3</td>\n",
       "      <td>5</td>\n",
       "      <td>1</td>\n",
       "      <td>6.557439</td>\n",
       "      <td>59.799666</td>\n",
       "      <td>0.0</td>\n",
       "      <td>81.945104</td>\n",
       "      <td>7.00000</td>\n",
       "      <td>Altark Susent</td>\n",
       "      <td>0</td>\n",
       "      <td>0</td>\n",
       "      <td>1</td>\n",
       "    </tr>\n",
       "  </tbody>\n",
       "</table>\n",
       "</div>"
      ],
      "text/plain": [
       "  PassengerId  HomePlanet  CryoSleep  Cabin  Destination  Age  VIP  \\\n",
       "0     0001_01           2          1      0            3    4    0   \n",
       "1     0002_01           1          0      0            3    2    1   \n",
       "2     0003_01           2          0      0            3    5    1   \n",
       "\n",
       "   RoomService  FoodCourt  ShoppingMall        Spa   VRDeck             Name  \\\n",
       "0     0.000000   0.000000           0.0   0.000000  0.00000  Maham Ofracculy   \n",
       "1    10.440307   3.000000           5.0  23.430749  6.63325     Juanna Vines   \n",
       "2     6.557439  59.799666           0.0  81.945104  7.00000    Altark Susent   \n",
       "\n",
       "   Transported  Port  Place  \n",
       "0            0     1      2  \n",
       "1            1     0      6  \n",
       "2            0     0      1  "
      ]
     },
     "execution_count": 20,
     "metadata": {},
     "output_type": "execute_result"
    }
   ],
   "source": [
    "##Apply square root transformation\n",
    "\n",
    "## Train Data\n",
    "train['RoomService'] = train['RoomService']**0.5\n",
    "train['FoodCourt'] = train['FoodCourt']**0.5\n",
    "train['ShoppingMall'] = train['ShoppingMall']**0.5\n",
    "train['Spa'] = train['Spa']**0.5\n",
    "train['VRDeck'] = train['VRDeck']**0.5\n",
    "\n",
    "\n",
    "## Test Data\n",
    "test['RoomService'] = test['RoomService']**0.5\n",
    "test['FoodCourt'] = test['FoodCourt']**0.5\n",
    "test['ShoppingMall'] = test['ShoppingMall']**0.5\n",
    "test['Spa'] = test['Spa']**0.5\n",
    "test['VRDeck'] = test['VRDeck']**0.5\n",
    "\n",
    "train.head(3)"
   ]
  },
  {
   "cell_type": "code",
   "execution_count": 21,
   "id": "4032b2ef",
   "metadata": {
    "execution": {
     "iopub.execute_input": "2023-12-09T13:41:20.229752Z",
     "iopub.status.busy": "2023-12-09T13:41:20.229380Z",
     "iopub.status.idle": "2023-12-09T13:41:20.235043Z",
     "shell.execute_reply": "2023-12-09T13:41:20.233097Z"
    },
    "papermill": {
     "duration": 0.024348,
     "end_time": "2023-12-09T13:41:20.238182",
     "exception": false,
     "start_time": "2023-12-09T13:41:20.213834",
     "status": "completed"
    },
    "tags": []
   },
   "outputs": [],
   "source": [
    "# ## Apply log transformation\n",
    "\n",
    "# ## Train Data\n",
    "# train['RoomService'] = np.log1p(train['RoomService'])\n",
    "# train['FoodCourt'] = np.log1p(train['FoodCourt'])\n",
    "# train['ShoppingMall'] = np.log1p(train['ShoppingMall'])\n",
    "# train['Spa'] = np.log1p(train['Spa'])\n",
    "# train['VRDeck'] = np.log1p(train['VRDeck'])\n",
    "\n",
    "\n",
    "# ## Test Data\n",
    "# test['RoomService'] = np.log1p(test['RoomService'])\n",
    "# test['FoodCourt'] = np.log1p(test['FoodCourt'])\n",
    "# test['ShoppingMall'] = np.log1p(test['ShoppingMall'])\n",
    "# test['Spa'] = np.log1p(test['Spa'])\n",
    "# test['VRDeck'] = np.log1p(test['VRDeck'])\n",
    "# train.head(3)"
   ]
  },
  {
   "cell_type": "code",
   "execution_count": 22,
   "id": "9f16c1fe",
   "metadata": {
    "execution": {
     "iopub.execute_input": "2023-12-09T13:41:20.270022Z",
     "iopub.status.busy": "2023-12-09T13:41:20.269654Z",
     "iopub.status.idle": "2023-12-09T13:41:20.679483Z",
     "shell.execute_reply": "2023-12-09T13:41:20.678240Z"
    },
    "papermill": {
     "duration": 0.42817,
     "end_time": "2023-12-09T13:41:20.681565",
     "exception": false,
     "start_time": "2023-12-09T13:41:20.253395",
     "status": "completed"
    },
    "tags": []
   },
   "outputs": [
    {
     "name": "stdout",
     "output_type": "stream",
     "text": [
      "Train Data\n"
     ]
    },
    {
     "data": {
      "text/plain": [
       "<Axes: >"
      ]
     },
     "execution_count": 22,
     "metadata": {},
     "output_type": "execute_result"
    },
    {
     "data": {
      "image/png": "[encoded data removed]",
      "text/plain": [
       "<Figure size 640x480 with 2 Axes>"
      ]
     },
     "metadata": {},
     "output_type": "display_data"
    }
   ],
   "source": [
    "train_num = train.select_dtypes(include=['float64', 'int64'])\n",
    "\n",
    "# Calculate the correlations of numerical columns\n",
    "corr = train_num.corr()\n",
    "\n",
    "print(\"Train Data\")\n",
    "sns.heatmap(corr, annot=False)"
   ]
  },
  {
   "cell_type": "code",
   "execution_count": 23,
   "id": "3a26e738",
   "metadata": {
    "execution": {
     "iopub.execute_input": "2023-12-09T13:41:20.713569Z",
     "iopub.status.busy": "2023-12-09T13:41:20.713178Z",
     "iopub.status.idle": "2023-12-09T13:41:21.099824Z",
     "shell.execute_reply": "2023-12-09T13:41:21.097344Z"
    },
    "papermill": {
     "duration": 0.406664,
     "end_time": "2023-12-09T13:41:21.102726",
     "exception": false,
     "start_time": "2023-12-09T13:41:20.696062",
     "status": "completed"
    },
    "tags": []
   },
   "outputs": [
    {
     "name": "stdout",
     "output_type": "stream",
     "text": [
      "Test Data\n"
     ]
    },
    {
     "data": {
      "text/plain": [
       "<Axes: >"
      ]
     },
     "execution_count": 23,
     "metadata": {},
     "output_type": "execute_result"
    },
    {
     "data": {
      "image/png": "[encoded data removed]",
      "text/plain": [
       "<Figure size 640x480 with 2 Axes>"
      ]
     },
     "metadata": {},
     "output_type": "display_data"
    }
   ],
   "source": [
    "test_num = test.select_dtypes(include=['float64', 'int64'])\n",
    "\n",
    "# Calculate the correlations of numerical columns\n",
    "corr = test_num.corr()\n",
    "\n",
    "print(\"Test Data\")\n",
    "sns.heatmap(corr, annot=False)"
   ]
  },
  {
   "cell_type": "code",
   "execution_count": 24,
   "id": "ac46f2fe",
   "metadata": {
    "execution": {
     "iopub.execute_input": "2023-12-09T13:41:21.135770Z",
     "iopub.status.busy": "2023-12-09T13:41:21.135394Z",
     "iopub.status.idle": "2023-12-09T13:41:21.139852Z",
     "shell.execute_reply": "2023-12-09T13:41:21.139128Z"
    },
    "papermill": {
     "duration": 0.02281,
     "end_time": "2023-12-09T13:41:21.141703",
     "exception": false,
     "start_time": "2023-12-09T13:41:21.118893",
     "status": "completed"
    },
    "tags": []
   },
   "outputs": [],
   "source": [
    "#print('cryo Taransported: ', sum(df[df.CryoSleep == 1].Transported), 'transported: ',sum(df.Transported))\n",
    "# # Calculate mean\n",
    "# df['Mean_luxury'] = df[['RoomService', 'FoodCourt', 'ShoppingMall', 'Spa', 'VRDeck']].mean(axis=1)\n",
    "\n",
    "# df = df.drop(columns=['RoomService', 'FoodCourt', 'ShoppingMall', 'Spa', 'VRDeck'])\n",
    "\n",
    "# df['BigSpender'] = np.where(df.Mean_luxury > 1000, 1,0)\n",
    "# df['Mid_Spender'] = np.where(df.Mean_luxury >= 500, 1,0)\n",
    "# df['Non_Spender'] = np.where(df.Mean_luxury == 0, 1,0)\n",
    "# df.head(3)"
   ]
  },
  {
   "cell_type": "markdown",
   "id": "af3a56ff",
   "metadata": {
    "papermill": {
     "duration": 0.014324,
     "end_time": "2023-12-09T13:41:21.171692",
     "exception": false,
     "start_time": "2023-12-09T13:41:21.157368",
     "status": "completed"
    },
    "tags": []
   },
   "source": [
    "{1:'55 Cancri e', 2:'PSO J318.5-22', 3:'TRAPPIST-1e'}\n",
    "{1:'Earth', 2:'Europa', 3:'Mars'}\n",
    "<<<<<HomePlanet to Destination>>>>\n",
    "1 to 1 >>> 721\n",
    "1 to 2 >>> 728\n",
    "1 to 3 >>> 3354\n",
    "--------------    \n",
    "2 to 1 >>> 193\n",
    "2 to 2 >>> 49\n",
    "2 to 3 >>> 1517\n",
    "-------------- \n",
    "3 to 1 >>> 886\n",
    "3 to 2 >>> 19\n",
    "3 to 3 >>> 1226\n",
    "-------------- "
   ]
  },
  {
   "cell_type": "code",
   "execution_count": 25,
   "id": "cc5e8c61",
   "metadata": {
    "execution": {
     "iopub.execute_input": "2023-12-09T13:41:21.202502Z",
     "iopub.status.busy": "2023-12-09T13:41:21.202140Z",
     "iopub.status.idle": "2023-12-09T13:41:21.226683Z",
     "shell.execute_reply": "2023-12-09T13:41:21.225504Z"
    },
    "papermill": {
     "duration": 0.043265,
     "end_time": "2023-12-09T13:41:21.229349",
     "exception": false,
     "start_time": "2023-12-09T13:41:21.186084",
     "status": "completed"
    },
    "tags": []
   },
   "outputs": [
    {
     "data": {
      "text/html": [
       "<div>\n",
       "<style scoped>\n",
       "    .dataframe tbody tr th:only-of-type {\n",
       "        vertical-align: middle;\n",
       "    }\n",
       "\n",
       "    .dataframe tbody tr th {\n",
       "        vertical-align: top;\n",
       "    }\n",
       "\n",
       "    .dataframe thead th {\n",
       "        text-align: right;\n",
       "    }\n",
       "</style>\n",
       "<table border=\"1\" class=\"dataframe\">\n",
       "  <thead>\n",
       "    <tr style=\"text-align: right;\">\n",
       "      <th></th>\n",
       "      <th>HomePlanet</th>\n",
       "      <th>CryoSleep</th>\n",
       "      <th>Cabin</th>\n",
       "      <th>Destination</th>\n",
       "      <th>Age</th>\n",
       "      <th>VIP</th>\n",
       "      <th>RoomService</th>\n",
       "      <th>FoodCourt</th>\n",
       "      <th>ShoppingMall</th>\n",
       "      <th>Spa</th>\n",
       "      <th>VRDeck</th>\n",
       "      <th>Port</th>\n",
       "      <th>Place</th>\n",
       "    </tr>\n",
       "  </thead>\n",
       "  <tbody>\n",
       "    <tr>\n",
       "      <th>0</th>\n",
       "      <td>2</td>\n",
       "      <td>1</td>\n",
       "      <td>0</td>\n",
       "      <td>3</td>\n",
       "      <td>4</td>\n",
       "      <td>0</td>\n",
       "      <td>0.000000</td>\n",
       "      <td>0.000000</td>\n",
       "      <td>0.0</td>\n",
       "      <td>0.000000</td>\n",
       "      <td>0.00000</td>\n",
       "      <td>1</td>\n",
       "      <td>2</td>\n",
       "    </tr>\n",
       "    <tr>\n",
       "      <th>1</th>\n",
       "      <td>1</td>\n",
       "      <td>0</td>\n",
       "      <td>0</td>\n",
       "      <td>3</td>\n",
       "      <td>2</td>\n",
       "      <td>1</td>\n",
       "      <td>10.440307</td>\n",
       "      <td>3.000000</td>\n",
       "      <td>5.0</td>\n",
       "      <td>23.430749</td>\n",
       "      <td>6.63325</td>\n",
       "      <td>0</td>\n",
       "      <td>6</td>\n",
       "    </tr>\n",
       "    <tr>\n",
       "      <th>2</th>\n",
       "      <td>2</td>\n",
       "      <td>0</td>\n",
       "      <td>0</td>\n",
       "      <td>3</td>\n",
       "      <td>5</td>\n",
       "      <td>1</td>\n",
       "      <td>6.557439</td>\n",
       "      <td>59.799666</td>\n",
       "      <td>0.0</td>\n",
       "      <td>81.945104</td>\n",
       "      <td>7.00000</td>\n",
       "      <td>0</td>\n",
       "      <td>1</td>\n",
       "    </tr>\n",
       "  </tbody>\n",
       "</table>\n",
       "</div>"
      ],
      "text/plain": [
       "   HomePlanet  CryoSleep  Cabin  Destination  Age  VIP  RoomService  \\\n",
       "0           2          1      0            3    4    0     0.000000   \n",
       "1           1          0      0            3    2    1    10.440307   \n",
       "2           2          0      0            3    5    1     6.557439   \n",
       "\n",
       "   FoodCourt  ShoppingMall        Spa   VRDeck  Port  Place  \n",
       "0   0.000000           0.0   0.000000  0.00000     1      2  \n",
       "1   3.000000           5.0  23.430749  6.63325     0      6  \n",
       "2  59.799666           0.0  81.945104  7.00000     0      1  "
      ]
     },
     "execution_count": 25,
     "metadata": {},
     "output_type": "execute_result"
    }
   ],
   "source": [
    "### Train Data\n",
    "newTrain = train\n",
    "train_ids = newTrain['PassengerId'].copy()\n",
    "train_trs = newTrain['Transported'].copy()\n",
    "newTrain.drop(columns=['PassengerId','Name','Transported'],inplace=True)\n",
    "\n",
    "\n",
    "#####################\n",
    "\n",
    "\n",
    "### Test Data\n",
    "newTest = test\n",
    "test_ids = newTest['PassengerId'].copy()\n",
    "newTest.drop(columns=['PassengerId','Name'],inplace=True)\n",
    "\n",
    "\n",
    "newTrain.head(3)"
   ]
  },
  {
   "cell_type": "code",
   "execution_count": 26,
   "id": "df68703b",
   "metadata": {
    "execution": {
     "iopub.execute_input": "2023-12-09T13:41:21.262889Z",
     "iopub.status.busy": "2023-12-09T13:41:21.262523Z",
     "iopub.status.idle": "2023-12-09T13:41:21.274412Z",
     "shell.execute_reply": "2023-12-09T13:41:21.273237Z"
    },
    "papermill": {
     "duration": 0.032236,
     "end_time": "2023-12-09T13:41:21.276543",
     "exception": false,
     "start_time": "2023-12-09T13:41:21.244307",
     "status": "completed"
    },
    "tags": []
   },
   "outputs": [
    {
     "name": "stdout",
     "output_type": "stream",
     "text": [
      "<class 'pandas.core.frame.DataFrame'>\n",
      "Index: 8672 entries, 0 to 8692\n",
      "Data columns (total 13 columns):\n",
      " #   Column        Non-Null Count  Dtype  \n",
      "---  ------        --------------  -----  \n",
      " 0   HomePlanet    8672 non-null   Int64  \n",
      " 1   CryoSleep     8672 non-null   Int64  \n",
      " 2   Cabin         8672 non-null   Int64  \n",
      " 3   Destination   8672 non-null   Int64  \n",
      " 4   Age           8672 non-null   Int64  \n",
      " 5   VIP           8672 non-null   Int64  \n",
      " 6   RoomService   8672 non-null   float64\n",
      " 7   FoodCourt     8672 non-null   float64\n",
      " 8   ShoppingMall  8672 non-null   float64\n",
      " 9   Spa           8672 non-null   float64\n",
      " 10  VRDeck        8672 non-null   float64\n",
      " 11  Port          8672 non-null   Int64  \n",
      " 12  Place         8672 non-null   Int64  \n",
      "dtypes: Int64(8), float64(5)\n",
      "memory usage: 1016.2 KB\n"
     ]
    }
   ],
   "source": [
    "newTrain.info()"
   ]
  },
  {
   "cell_type": "code",
   "execution_count": 27,
   "id": "e0721aa9",
   "metadata": {
    "execution": {
     "iopub.execute_input": "2023-12-09T13:41:21.312331Z",
     "iopub.status.busy": "2023-12-09T13:41:21.311895Z",
     "iopub.status.idle": "2023-12-09T13:41:21.325083Z",
     "shell.execute_reply": "2023-12-09T13:41:21.323633Z"
    },
    "papermill": {
     "duration": 0.034414,
     "end_time": "2023-12-09T13:41:21.327142",
     "exception": false,
     "start_time": "2023-12-09T13:41:21.292728",
     "status": "completed"
    },
    "tags": []
   },
   "outputs": [
    {
     "name": "stdout",
     "output_type": "stream",
     "text": [
      "<class 'pandas.core.frame.DataFrame'>\n",
      "RangeIndex: 4277 entries, 0 to 4276\n",
      "Data columns (total 13 columns):\n",
      " #   Column        Non-Null Count  Dtype  \n",
      "---  ------        --------------  -----  \n",
      " 0   HomePlanet    4277 non-null   Int64  \n",
      " 1   CryoSleep     4277 non-null   Int64  \n",
      " 2   Cabin         4277 non-null   Int64  \n",
      " 3   Destination   4277 non-null   Int64  \n",
      " 4   Age           4277 non-null   Int64  \n",
      " 5   VIP           4277 non-null   Int64  \n",
      " 6   RoomService   4277 non-null   float64\n",
      " 7   FoodCourt     4277 non-null   float64\n",
      " 8   ShoppingMall  4277 non-null   float64\n",
      " 9   Spa           4277 non-null   float64\n",
      " 10  VRDeck        4277 non-null   float64\n",
      " 11  Port          4277 non-null   Int64  \n",
      " 12  Place         4277 non-null   Int64  \n",
      "dtypes: Int64(8), float64(5)\n",
      "memory usage: 467.9 KB\n"
     ]
    }
   ],
   "source": [
    "newTest.info()"
   ]
  },
  {
   "cell_type": "code",
   "execution_count": 28,
   "id": "b4fd0056",
   "metadata": {
    "execution": {
     "iopub.execute_input": "2023-12-09T13:41:21.362367Z",
     "iopub.status.busy": "2023-12-09T13:41:21.361211Z",
     "iopub.status.idle": "2023-12-09T13:41:21.367851Z",
     "shell.execute_reply": "2023-12-09T13:41:21.366122Z"
    },
    "papermill": {
     "duration": 0.02693,
     "end_time": "2023-12-09T13:41:21.370937",
     "exception": false,
     "start_time": "2023-12-09T13:41:21.344007",
     "status": "completed"
    },
    "tags": []
   },
   "outputs": [],
   "source": [
    "# from sklearn.model_selection import train_test_split\n",
    "# X_train, X_test, y_train, y_test = train_test_split(newtrainDF.drop('Transported',axis=1), \n",
    "#                                                   df['Transported'], test_size=0.30, \n",
    "#                                                     random_state=101)\n",
    "# newtrainDF.head(1)"
   ]
  },
  {
   "cell_type": "code",
   "execution_count": 29,
   "id": "9a8fdd55",
   "metadata": {
    "execution": {
     "iopub.execute_input": "2023-12-09T13:41:21.404067Z",
     "iopub.status.busy": "2023-12-09T13:41:21.403543Z",
     "iopub.status.idle": "2023-12-09T13:41:22.547509Z",
     "shell.execute_reply": "2023-12-09T13:41:22.546588Z"
    },
    "papermill": {
     "duration": 1.163029,
     "end_time": "2023-12-09T13:41:22.549654",
     "exception": false,
     "start_time": "2023-12-09T13:41:21.386625",
     "status": "completed"
    },
    "tags": []
   },
   "outputs": [
    {
     "data": {
      "text/html": [
       "<style>#sk-container-id-1 {color: black;background-color: white;}#sk-container-id-1 pre{padding: 0;}#sk-container-id-1 div.sk-toggleable {background-color: white;}#sk-container-id-1 label.sk-toggleable__label {cursor: pointer;display: block;width: 100%;margin-bottom: 0;padding: 0.3em;box-sizing: border-box;text-align: center;}#sk-container-id-1 label.sk-toggleable__label-arrow:before {content: \"▸\";float: left;margin-right: 0.25em;color: #696969;}#sk-container-id-1 label.sk-toggleable__label-arrow:hover:before {color: black;}#sk-container-id-1 div.sk-estimator:hover label.sk-toggleable__label-arrow:before {color: black;}#sk-container-id-1 div.sk-toggleable__content {max-height: 0;max-width: 0;overflow: hidden;text-align: left;background-color: #f0f8ff;}#sk-container-id-1 div.sk-toggleable__content pre {margin: 0.2em;color: black;border-radius: 0.25em;background-color: #f0f8ff;}#sk-container-id-1 input.sk-toggleable__control:checked~div.sk-toggleable__content {max-height: 200px;max-width: 100%;overflow: auto;}#sk-container-id-1 input.sk-toggleable__control:checked~label.sk-toggleable__label-arrow:before {content: \"▾\";}#sk-container-id-1 div.sk-estimator input.sk-toggleable__control:checked~label.sk-toggleable__label {background-color: #d4ebff;}#sk-container-id-1 div.sk-label input.sk-toggleable__control:checked~label.sk-toggleable__label {background-color: #d4ebff;}#sk-container-id-1 input.sk-hidden--visually {border: 0;clip: rect(1px 1px 1px 1px);clip: rect(1px, 1px, 1px, 1px);height: 1px;margin: -1px;overflow: hidden;padding: 0;position: absolute;width: 1px;}#sk-container-id-1 div.sk-estimator {font-family: monospace;background-color: #f0f8ff;border: 1px dotted black;border-radius: 0.25em;box-sizing: border-box;margin-bottom: 0.5em;}#sk-container-id-1 div.sk-estimator:hover {background-color: #d4ebff;}#sk-container-id-1 div.sk-parallel-item::after {content: \"\";width: 100%;border-bottom: 1px solid gray;flex-grow: 1;}#sk-container-id-1 div.sk-label:hover label.sk-toggleable__label {background-color: #d4ebff;}#sk-container-id-1 div.sk-serial::before {content: \"\";position: absolute;border-left: 1px solid gray;box-sizing: border-box;top: 0;bottom: 0;left: 50%;z-index: 0;}#sk-container-id-1 div.sk-serial {display: flex;flex-direction: column;align-items: center;background-color: white;padding-right: 0.2em;padding-left: 0.2em;position: relative;}#sk-container-id-1 div.sk-item {position: relative;z-index: 1;}#sk-container-id-1 div.sk-parallel {display: flex;align-items: stretch;justify-content: center;background-color: white;position: relative;}#sk-container-id-1 div.sk-item::before, #sk-container-id-1 div.sk-parallel-item::before {content: \"\";position: absolute;border-left: 1px solid gray;box-sizing: border-box;top: 0;bottom: 0;left: 50%;z-index: -1;}#sk-container-id-1 div.sk-parallel-item {display: flex;flex-direction: column;z-index: 1;position: relative;background-color: white;}#sk-container-id-1 div.sk-parallel-item:first-child::after {align-self: flex-end;width: 50%;}#sk-container-id-1 div.sk-parallel-item:last-child::after {align-self: flex-start;width: 50%;}#sk-container-id-1 div.sk-parallel-item:only-child::after {width: 0;}#sk-container-id-1 div.sk-dashed-wrapped {border: 1px dashed gray;margin: 0 0.4em 0.5em 0.4em;box-sizing: border-box;padding-bottom: 0.4em;background-color: white;}#sk-container-id-1 div.sk-label label {font-family: monospace;font-weight: bold;display: inline-block;line-height: 1.2em;}#sk-container-id-1 div.sk-label-container {text-align: center;}#sk-container-id-1 div.sk-container {/* jupyter's `normalize.less` sets `[hidden] { display: none; }` but bootstrap.min.css set `[hidden] { display: none !important; }` so we also need the `!important` here to be able to override the default hidden behavior on the sphinx rendered scikit-learn.org. See: https://github.com/scikit-learn/scikit-learn/issues/21755 */display: inline-block !important;position: relative;}#sk-container-id-1 div.sk-text-repr-fallback {display: none;}</style><div id=\"sk-container-id-1\" class=\"sk-top-container\"><div class=\"sk-text-repr-fallback\"><pre>LogisticRegression(max_iter=10000)</pre><b>In a Jupyter environment, please rerun this cell to show the HTML representation or trust the notebook. <br />On GitHub, the HTML representation is unable to render, please try loading this page with nbviewer.org.</b></div><div class=\"sk-container\" hidden><div class=\"sk-item\"><div class=\"sk-estimator sk-toggleable\"><input class=\"sk-toggleable__control sk-hidden--visually\" id=\"sk-estimator-id-1\" type=\"checkbox\" checked><label for=\"sk-estimator-id-1\" class=\"sk-toggleable__label sk-toggleable__label-arrow\">LogisticRegression</label><div class=\"sk-toggleable__content\"><pre>LogisticRegression(max_iter=10000)</pre></div></div></div></div></div>"
      ],
      "text/plain": [
       "LogisticRegression(max_iter=10000)"
      ]
     },
     "execution_count": 29,
     "metadata": {},
     "output_type": "execute_result"
    }
   ],
   "source": [
    "from sklearn.linear_model import LogisticRegression\n",
    "logmodel = LogisticRegression(max_iter=10000)\n",
    "logmodel.fit(newTrain, train_trs)"
   ]
  },
  {
   "cell_type": "code",
   "execution_count": 30,
   "id": "4a2d5b67",
   "metadata": {
    "execution": {
     "iopub.execute_input": "2023-12-09T13:41:22.600911Z",
     "iopub.status.busy": "2023-12-09T13:41:22.600564Z",
     "iopub.status.idle": "2023-12-09T13:41:22.604313Z",
     "shell.execute_reply": "2023-12-09T13:41:22.603613Z"
    },
    "papermill": {
     "duration": 0.036032,
     "end_time": "2023-12-09T13:41:22.607411",
     "exception": false,
     "start_time": "2023-12-09T13:41:22.571379",
     "status": "completed"
    },
    "tags": []
   },
   "outputs": [],
   "source": [
    "# df_test['stSpenders'] = df_test[['RoomService', 'FoodCourt', 'ShoppingMall', 'Spa', 'VRDeck']].std(axis=1)\n",
    "# df_test = df_test.drop(columns=['RoomService', 'FoodCourt', 'ShoppingMall', 'Spa', 'VRDeck'])\n",
    "# df_test.head()"
   ]
  },
  {
   "cell_type": "code",
   "execution_count": 31,
   "id": "da3e4afb",
   "metadata": {
    "execution": {
     "iopub.execute_input": "2023-12-09T13:41:22.649711Z",
     "iopub.status.busy": "2023-12-09T13:41:22.649351Z",
     "iopub.status.idle": "2023-12-09T13:41:22.659156Z",
     "shell.execute_reply": "2023-12-09T13:41:22.658376Z"
    },
    "papermill": {
     "duration": 0.034098,
     "end_time": "2023-12-09T13:41:22.661561",
     "exception": false,
     "start_time": "2023-12-09T13:41:22.627463",
     "status": "completed"
    },
    "tags": []
   },
   "outputs": [],
   "source": [
    " predictions = logmodel.predict(newTest)"
   ]
  },
  {
   "cell_type": "code",
   "execution_count": 32,
   "id": "448e4100",
   "metadata": {
    "execution": {
     "iopub.execute_input": "2023-12-09T13:41:22.704324Z",
     "iopub.status.busy": "2023-12-09T13:41:22.703932Z",
     "iopub.status.idle": "2023-12-09T13:41:22.728865Z",
     "shell.execute_reply": "2023-12-09T13:41:22.728158Z"
    },
    "papermill": {
     "duration": 0.048867,
     "end_time": "2023-12-09T13:41:22.730987",
     "exception": false,
     "start_time": "2023-12-09T13:41:22.682120",
     "status": "completed"
    },
    "tags": []
   },
   "outputs": [
    {
     "data": {
      "text/html": [
       "<div>\n",
       "<style scoped>\n",
       "    .dataframe tbody tr th:only-of-type {\n",
       "        vertical-align: middle;\n",
       "    }\n",
       "\n",
       "    .dataframe tbody tr th {\n",
       "        vertical-align: top;\n",
       "    }\n",
       "\n",
       "    .dataframe thead th {\n",
       "        text-align: right;\n",
       "    }\n",
       "</style>\n",
       "<table border=\"1\" class=\"dataframe\">\n",
       "  <thead>\n",
       "    <tr style=\"text-align: right;\">\n",
       "      <th></th>\n",
       "      <th>PassengerId</th>\n",
       "      <th>Transported</th>\n",
       "    </tr>\n",
       "  </thead>\n",
       "  <tbody>\n",
       "    <tr>\n",
       "      <th>0</th>\n",
       "      <td>0013_01</td>\n",
       "      <td>True</td>\n",
       "    </tr>\n",
       "    <tr>\n",
       "      <th>1</th>\n",
       "      <td>0018_01</td>\n",
       "      <td>False</td>\n",
       "    </tr>\n",
       "    <tr>\n",
       "      <th>2</th>\n",
       "      <td>0019_01</td>\n",
       "      <td>True</td>\n",
       "    </tr>\n",
       "    <tr>\n",
       "      <th>3</th>\n",
       "      <td>0021_01</td>\n",
       "      <td>True</td>\n",
       "    </tr>\n",
       "    <tr>\n",
       "      <th>4</th>\n",
       "      <td>0023_01</td>\n",
       "      <td>True</td>\n",
       "    </tr>\n",
       "  </tbody>\n",
       "</table>\n",
       "</div>"
      ],
      "text/plain": [
       "  PassengerId  Transported\n",
       "0     0013_01         True\n",
       "1     0018_01        False\n",
       "2     0019_01         True\n",
       "3     0021_01         True\n",
       "4     0023_01         True"
      ]
     },
     "execution_count": 32,
     "metadata": {},
     "output_type": "execute_result"
    }
   ],
   "source": [
    "df_predictions = pd.DataFrame()\n",
    "df_predictions['PassengerId'] = pd.Series(test_ids.T.values)\n",
    "df_predictions['Transported'] = pd.Series(predictions)\n",
    "df_predictions.Transported = np.where(df_predictions.Transported==1,True,False)\n",
    "df_predictions.to_csv(\"24rdAttempt.csv\", sep=',', index=False)\n",
    "df_predictions.head()"
   ]
  },
  {
   "cell_type": "markdown",
   "id": "d221f114",
   "metadata": {
    "papermill": {
     "duration": 0.01982,
     "end_time": "2023-12-09T13:41:22.771509",
     "exception": false,
     "start_time": "2023-12-09T13:41:22.751689",
     "status": "completed"
    },
    "tags": []
   },
   "source": [
    "In this report, the 'Precision' column tells us the proportion of positive identifications (i.e., the passenger was transported) that were actually correct. The 'Recall' column tells us the proportion of actual positives that were identified correctly. The 'F1-score' is a function of Precision and Recall and gives a balanced measure of the model's performance.\n",
    "\n",
    "Remember, this is a basic model. Depending on the performance of the model, you might need to consider more advanced techniques such as handling class imbalance, feature engineering, or using a more complex model."
   ]
  }
 ],
 "metadata": {
  "kaggle": {
   "accelerator": "none",
   "dataSources": [
    {
     "databundleVersionId": 3220602,
     "sourceId": 34377,
     "sourceType": "competition"
    }
   ],
   "dockerImageVersionId": 30558,
   "isGpuEnabled": false,
   "isInternetEnabled": false,
   "language": "python",
   "sourceType": "notebook"
  },
  "kernelspec": {
   "display_name": "Python 3",
   "language": "python",
   "name": "python3"
  },
  "language_info": {
   "codemirror_mode": {
    "name": "ipython",
    "version": 3
   },
   "file_extension": ".py",
   "mimetype": "text/x-python",
   "name": "python",
   "nbconvert_exporter": "python",
   "pygments_lexer": "ipython3",
   "version": "3.10.12"
  },
  "papermill": {
   "default_parameters": {},
   "duration": 13.72248,
   "end_time": "2023-12-09T13:41:23.406685",
   "environment_variables": {},
   "exception": null,
   "input_path": "__notebook__.ipynb",
   "output_path": "__notebook__.ipynb",
   "parameters": {},
   "start_time": "2023-12-09T13:41:09.684205",
   "version": "2.4.0"
  }
 },
 "nbformat": 4,
 "nbformat_minor": 5
}
