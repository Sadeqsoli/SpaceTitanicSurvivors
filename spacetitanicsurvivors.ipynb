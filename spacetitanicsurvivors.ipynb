{
 "cells": [
  {
   "cell_type": "code",
   "execution_count": 1,
   "id": "1b8e2467",
   "metadata": {
    "_cell_guid": "b1076dfc-b9ad-4769-8c92-a6c4dae69d19",
    "_uuid": "8f2839f25d086af736a60e9eeb907d3b93b6e0e5",
    "execution": {
     "iopub.execute_input": "2023-11-26T20:57:15.386394Z",
     "iopub.status.busy": "2023-11-26T20:57:15.385934Z",
     "iopub.status.idle": "2023-11-26T20:57:16.239049Z",
     "shell.execute_reply": "2023-11-26T20:57:16.237954Z"
    },
    "papermill": {
     "duration": 0.879221,
     "end_time": "2023-11-26T20:57:16.241811",
     "exception": false,
     "start_time": "2023-11-26T20:57:15.362590",
     "status": "completed"
    },
    "tags": []
   },
   "outputs": [
    {
     "name": "stdout",
     "output_type": "stream",
     "text": [
      "/kaggle/input/spaceship-titanic/sample_submission.csv\n",
      "/kaggle/input/spaceship-titanic/train.csv\n",
      "/kaggle/input/spaceship-titanic/test.csv\n"
     ]
    }
   ],
   "source": [
    "# This Python 3 environment comes with many helpful analytics libraries installed\n",
    "# It is defined by the kaggle/python Docker image: https://github.com/kaggle/docker-python\n",
    "# For example, here's several helpful packages to load\n",
    "\n",
    "import numpy as np # linear algebra\n",
    "import pandas as pd # data processing, CSV file I/O (e.g. pd.read_csv)\n",
    "\n",
    "# Input data files are available in the read-only \"../input/\" directory\n",
    "# For example, running this (by clicking run or pressing Shift+Enter) will list all files under the input directory\n",
    "\n",
    "import os\n",
    "for dirname, _, filenames in os.walk('/kaggle/input'):\n",
    "    for filename in filenames:\n",
    "        print(os.path.join(dirname, filename))\n",
    "\n",
    "# You can write up to 20GB to the current directory (/kaggle/working/) that gets preserved as output when you create a version using \"Save & Run All\" \n",
    "# You can also write temporary files to /kaggle/temp/, but they won't be saved outside of the current session"
   ]
  },
  {
   "cell_type": "markdown",
   "id": "a7e98f1a",
   "metadata": {
    "papermill": {
     "duration": 0.020705,
     "end_time": "2023-11-26T20:57:16.283825",
     "exception": false,
     "start_time": "2023-11-26T20:57:16.263120",
     "status": "completed"
    },
    "tags": []
   },
   "source": [
    "# > ****File and Data Field Descriptions\n",
    "\n",
    "train.csv - Personal records for about two-thirds (~8700) of the passengers, to be used as training data.\n",
    "PassengerId - A unique Id for each passenger. Each Id takes the form gggg_pp where gggg indicates a group the passenger is travelling with and pp is their number within the group. People in a group are often family members, but not always.\n",
    "HomePlanet - The planet the passenger departed from, typically their planet of permanent residence.\n",
    "CryoSleep - Indicates whether the passenger elected to be put into suspended animation for the duration of the voyage. Passengers in cryosleep are confined to their cabins.\n",
    "Cabin - The cabin number where the passenger is staying. Takes the form deck/num/side, where side can be either P for Port or S for Starboard.\n",
    "Destination - The planet the passenger will be debarking to.\n",
    "Age - The age of the passenger.\n",
    "VIP - Whether the passenger has paid for special VIP service during the voyage.\n",
    "RoomService, FoodCourt, ShoppingMall, Spa, VRDeck - Amount the passenger has billed at each of the Spaceship Titanic's many luxury amenities.\n",
    "Name - The first and last names of the passenger.\n",
    "Transported - Whether the passenger was transported to another dimension. This is the target, the column you are trying to predict.\n",
    "test.csv - Personal records for the remaining one-third (~4300) of the passengers, to be used as test data. Your task is to predict the value of Transported for the passengers in this set.\n",
    "sample_submission.csv - A submission file in the correct format.\n",
    "PassengerId - Id for each passenger in the test set.\n",
    "Transported - The target. For each passenger, predict either True or False."
   ]
  },
  {
   "cell_type": "code",
   "execution_count": 2,
   "id": "9c818d41",
   "metadata": {
    "execution": {
     "iopub.execute_input": "2023-11-26T20:57:16.328166Z",
     "iopub.status.busy": "2023-11-26T20:57:16.327145Z",
     "iopub.status.idle": "2023-11-26T20:57:16.414501Z",
     "shell.execute_reply": "2023-11-26T20:57:16.413416Z"
    },
    "papermill": {
     "duration": 0.112018,
     "end_time": "2023-11-26T20:57:16.417084",
     "exception": false,
     "start_time": "2023-11-26T20:57:16.305066",
     "status": "completed"
    },
    "tags": []
   },
   "outputs": [
    {
     "data": {
      "text/html": [
       "<div>\n",
       "<style scoped>\n",
       "    .dataframe tbody tr th:only-of-type {\n",
       "        vertical-align: middle;\n",
       "    }\n",
       "\n",
       "    .dataframe tbody tr th {\n",
       "        vertical-align: top;\n",
       "    }\n",
       "\n",
       "    .dataframe thead th {\n",
       "        text-align: right;\n",
       "    }\n",
       "</style>\n",
       "<table border=\"1\" class=\"dataframe\">\n",
       "  <thead>\n",
       "    <tr style=\"text-align: right;\">\n",
       "      <th></th>\n",
       "      <th>PassengerId</th>\n",
       "      <th>HomePlanet</th>\n",
       "      <th>CryoSleep</th>\n",
       "      <th>Cabin</th>\n",
       "      <th>Destination</th>\n",
       "      <th>Age</th>\n",
       "      <th>VIP</th>\n",
       "      <th>RoomService</th>\n",
       "      <th>FoodCourt</th>\n",
       "      <th>ShoppingMall</th>\n",
       "      <th>Spa</th>\n",
       "      <th>VRDeck</th>\n",
       "      <th>Name</th>\n",
       "      <th>Transported</th>\n",
       "    </tr>\n",
       "  </thead>\n",
       "  <tbody>\n",
       "    <tr>\n",
       "      <th>0</th>\n",
       "      <td>0001_01</td>\n",
       "      <td>Europa</td>\n",
       "      <td>False</td>\n",
       "      <td>B/0/P</td>\n",
       "      <td>TRAPPIST-1e</td>\n",
       "      <td>39.0</td>\n",
       "      <td>False</td>\n",
       "      <td>0.0</td>\n",
       "      <td>0.0</td>\n",
       "      <td>0.0</td>\n",
       "      <td>0.0</td>\n",
       "      <td>0.0</td>\n",
       "      <td>Maham Ofracculy</td>\n",
       "      <td>False</td>\n",
       "    </tr>\n",
       "    <tr>\n",
       "      <th>1</th>\n",
       "      <td>0002_01</td>\n",
       "      <td>Earth</td>\n",
       "      <td>False</td>\n",
       "      <td>F/0/S</td>\n",
       "      <td>TRAPPIST-1e</td>\n",
       "      <td>24.0</td>\n",
       "      <td>False</td>\n",
       "      <td>109.0</td>\n",
       "      <td>9.0</td>\n",
       "      <td>25.0</td>\n",
       "      <td>549.0</td>\n",
       "      <td>44.0</td>\n",
       "      <td>Juanna Vines</td>\n",
       "      <td>True</td>\n",
       "    </tr>\n",
       "    <tr>\n",
       "      <th>2</th>\n",
       "      <td>0003_01</td>\n",
       "      <td>Europa</td>\n",
       "      <td>False</td>\n",
       "      <td>A/0/S</td>\n",
       "      <td>TRAPPIST-1e</td>\n",
       "      <td>58.0</td>\n",
       "      <td>True</td>\n",
       "      <td>43.0</td>\n",
       "      <td>3576.0</td>\n",
       "      <td>0.0</td>\n",
       "      <td>6715.0</td>\n",
       "      <td>49.0</td>\n",
       "      <td>Altark Susent</td>\n",
       "      <td>False</td>\n",
       "    </tr>\n",
       "  </tbody>\n",
       "</table>\n",
       "</div>"
      ],
      "text/plain": [
       "  PassengerId HomePlanet CryoSleep  Cabin  Destination   Age    VIP  \\\n",
       "0     0001_01     Europa     False  B/0/P  TRAPPIST-1e  39.0  False   \n",
       "1     0002_01      Earth     False  F/0/S  TRAPPIST-1e  24.0  False   \n",
       "2     0003_01     Europa     False  A/0/S  TRAPPIST-1e  58.0   True   \n",
       "\n",
       "   RoomService  FoodCourt  ShoppingMall     Spa  VRDeck             Name  \\\n",
       "0          0.0        0.0           0.0     0.0     0.0  Maham Ofracculy   \n",
       "1        109.0        9.0          25.0   549.0    44.0     Juanna Vines   \n",
       "2         43.0     3576.0           0.0  6715.0    49.0    Altark Susent   \n",
       "\n",
       "   Transported  \n",
       "0        False  \n",
       "1         True  \n",
       "2        False  "
      ]
     },
     "execution_count": 2,
     "metadata": {},
     "output_type": "execute_result"
    }
   ],
   "source": [
    "df = pd.read_csv(\"/kaggle/input/spaceship-titanic/train.csv\")\n",
    "df.head(3)"
   ]
  },
  {
   "cell_type": "code",
   "execution_count": 3,
   "id": "fa8012f7",
   "metadata": {
    "execution": {
     "iopub.execute_input": "2023-11-26T20:57:16.462165Z",
     "iopub.status.busy": "2023-11-26T20:57:16.461485Z",
     "iopub.status.idle": "2023-11-26T20:57:16.470828Z",
     "shell.execute_reply": "2023-11-26T20:57:16.469817Z"
    },
    "papermill": {
     "duration": 0.034378,
     "end_time": "2023-11-26T20:57:16.473008",
     "exception": false,
     "start_time": "2023-11-26T20:57:16.438630",
     "status": "completed"
    },
    "tags": []
   },
   "outputs": [
    {
     "data": {
      "text/plain": [
       "217"
      ]
     },
     "execution_count": 3,
     "metadata": {},
     "output_type": "execute_result"
    }
   ],
   "source": [
    "sum(df['CryoSleep'].isna())"
   ]
  },
  {
   "cell_type": "code",
   "execution_count": 4,
   "id": "fecd79c4",
   "metadata": {
    "execution": {
     "iopub.execute_input": "2023-11-26T20:57:16.518135Z",
     "iopub.status.busy": "2023-11-26T20:57:16.517473Z",
     "iopub.status.idle": "2023-11-26T20:57:16.533262Z",
     "shell.execute_reply": "2023-11-26T20:57:16.532243Z"
    },
    "papermill": {
     "duration": 0.040912,
     "end_time": "2023-11-26T20:57:16.535648",
     "exception": false,
     "start_time": "2023-11-26T20:57:16.494736",
     "status": "completed"
    },
    "tags": []
   },
   "outputs": [],
   "source": [
    "df['CryoSleep'] = df['CryoSleep'].replace({True: 1, False: 0})"
   ]
  },
  {
   "cell_type": "code",
   "execution_count": 5,
   "id": "6bbc24ac",
   "metadata": {
    "execution": {
     "iopub.execute_input": "2023-11-26T20:57:16.580424Z",
     "iopub.status.busy": "2023-11-26T20:57:16.579766Z",
     "iopub.status.idle": "2023-11-26T20:57:16.592817Z",
     "shell.execute_reply": "2023-11-26T20:57:16.592006Z"
    },
    "papermill": {
     "duration": 0.038163,
     "end_time": "2023-11-26T20:57:16.595084",
     "exception": false,
     "start_time": "2023-11-26T20:57:16.556921",
     "status": "completed"
    },
    "tags": []
   },
   "outputs": [],
   "source": [
    "df['Transported'] = df['Transported'].replace({True: 1, False: 0})"
   ]
  },
  {
   "cell_type": "code",
   "execution_count": 6,
   "id": "1cb66b96",
   "metadata": {
    "execution": {
     "iopub.execute_input": "2023-11-26T20:57:16.639808Z",
     "iopub.status.busy": "2023-11-26T20:57:16.639174Z",
     "iopub.status.idle": "2023-11-26T20:57:16.643664Z",
     "shell.execute_reply": "2023-11-26T20:57:16.642857Z"
    },
    "papermill": {
     "duration": 0.029515,
     "end_time": "2023-11-26T20:57:16.645878",
     "exception": false,
     "start_time": "2023-11-26T20:57:16.616363",
     "status": "completed"
    },
    "tags": []
   },
   "outputs": [],
   "source": [
    "#set([i.split(\"/\")[2] for i in df.Cabin.values if type(i)!=float])\n",
    "#sorted([int(i.split(\"/\")[1]) for i in df.Cabin.values if type(i)!=float])[::-1]"
   ]
  },
  {
   "cell_type": "markdown",
   "id": "b254b0b4",
   "metadata": {
    "papermill": {
     "duration": 0.020648,
     "end_time": "2023-11-26T20:57:16.687810",
     "exception": false,
     "start_time": "2023-11-26T20:57:16.667162",
     "status": "completed"
    },
    "tags": []
   },
   "source": []
  },
  {
   "cell_type": "markdown",
   "id": "a2fd7791",
   "metadata": {
    "papermill": {
     "duration": 0.020704,
     "end_time": "2023-11-26T20:57:16.729613",
     "exception": false,
     "start_time": "2023-11-26T20:57:16.708909",
     "status": "completed"
    },
    "tags": []
   },
   "source": [
    "HomePlanet: {'Earth', 'Europa', 'Mars', nan}\n",
    "{1,2,3,4}"
   ]
  },
  {
   "cell_type": "code",
   "execution_count": 7,
   "id": "bc29f2b9",
   "metadata": {
    "execution": {
     "iopub.execute_input": "2023-11-26T20:57:16.773619Z",
     "iopub.status.busy": "2023-11-26T20:57:16.772961Z",
     "iopub.status.idle": "2023-11-26T20:57:16.781208Z",
     "shell.execute_reply": "2023-11-26T20:57:16.780153Z"
    },
    "papermill": {
     "duration": 0.032967,
     "end_time": "2023-11-26T20:57:16.783584",
     "exception": false,
     "start_time": "2023-11-26T20:57:16.750617",
     "status": "completed"
    },
    "tags": []
   },
   "outputs": [
    {
     "data": {
      "text/plain": [
       "{'Earth', 'Europa', 'Mars', nan}"
      ]
     },
     "execution_count": 7,
     "metadata": {},
     "output_type": "execute_result"
    }
   ],
   "source": [
    "set(df['HomePlanet'])"
   ]
  },
  {
   "cell_type": "code",
   "execution_count": 8,
   "id": "9adee519",
   "metadata": {
    "execution": {
     "iopub.execute_input": "2023-11-26T20:57:16.886866Z",
     "iopub.status.busy": "2023-11-26T20:57:16.886460Z",
     "iopub.status.idle": "2023-11-26T20:57:16.922864Z",
     "shell.execute_reply": "2023-11-26T20:57:16.921827Z"
    },
    "papermill": {
     "duration": 0.119885,
     "end_time": "2023-11-26T20:57:16.925260",
     "exception": false,
     "start_time": "2023-11-26T20:57:16.805375",
     "status": "completed"
    },
    "tags": []
   },
   "outputs": [
    {
     "data": {
      "text/html": [
       "<div>\n",
       "<style scoped>\n",
       "    .dataframe tbody tr th:only-of-type {\n",
       "        vertical-align: middle;\n",
       "    }\n",
       "\n",
       "    .dataframe tbody tr th {\n",
       "        vertical-align: top;\n",
       "    }\n",
       "\n",
       "    .dataframe thead th {\n",
       "        text-align: right;\n",
       "    }\n",
       "</style>\n",
       "<table border=\"1\" class=\"dataframe\">\n",
       "  <thead>\n",
       "    <tr style=\"text-align: right;\">\n",
       "      <th></th>\n",
       "      <th>PassengerId</th>\n",
       "      <th>HomePlanet</th>\n",
       "      <th>CryoSleep</th>\n",
       "      <th>Cabin</th>\n",
       "      <th>Destination</th>\n",
       "      <th>Age</th>\n",
       "      <th>VIP</th>\n",
       "      <th>RoomService</th>\n",
       "      <th>FoodCourt</th>\n",
       "      <th>ShoppingMall</th>\n",
       "      <th>Spa</th>\n",
       "      <th>VRDeck</th>\n",
       "      <th>Name</th>\n",
       "      <th>Transported</th>\n",
       "    </tr>\n",
       "  </thead>\n",
       "  <tbody>\n",
       "    <tr>\n",
       "      <th>0</th>\n",
       "      <td>0001_01</td>\n",
       "      <td>2.0</td>\n",
       "      <td>0.0</td>\n",
       "      <td>B/0/P</td>\n",
       "      <td>TRAPPIST-1e</td>\n",
       "      <td>39.0</td>\n",
       "      <td>False</td>\n",
       "      <td>0.0</td>\n",
       "      <td>0.0</td>\n",
       "      <td>0.0</td>\n",
       "      <td>0.0</td>\n",
       "      <td>0.0</td>\n",
       "      <td>Maham Ofracculy</td>\n",
       "      <td>0</td>\n",
       "    </tr>\n",
       "    <tr>\n",
       "      <th>1</th>\n",
       "      <td>0002_01</td>\n",
       "      <td>1.0</td>\n",
       "      <td>0.0</td>\n",
       "      <td>F/0/S</td>\n",
       "      <td>TRAPPIST-1e</td>\n",
       "      <td>24.0</td>\n",
       "      <td>False</td>\n",
       "      <td>109.0</td>\n",
       "      <td>9.0</td>\n",
       "      <td>25.0</td>\n",
       "      <td>549.0</td>\n",
       "      <td>44.0</td>\n",
       "      <td>Juanna Vines</td>\n",
       "      <td>1</td>\n",
       "    </tr>\n",
       "    <tr>\n",
       "      <th>2</th>\n",
       "      <td>0003_01</td>\n",
       "      <td>2.0</td>\n",
       "      <td>0.0</td>\n",
       "      <td>A/0/S</td>\n",
       "      <td>TRAPPIST-1e</td>\n",
       "      <td>58.0</td>\n",
       "      <td>True</td>\n",
       "      <td>43.0</td>\n",
       "      <td>3576.0</td>\n",
       "      <td>0.0</td>\n",
       "      <td>6715.0</td>\n",
       "      <td>49.0</td>\n",
       "      <td>Altark Susent</td>\n",
       "      <td>0</td>\n",
       "    </tr>\n",
       "    <tr>\n",
       "      <th>3</th>\n",
       "      <td>0003_02</td>\n",
       "      <td>2.0</td>\n",
       "      <td>0.0</td>\n",
       "      <td>A/0/S</td>\n",
       "      <td>TRAPPIST-1e</td>\n",
       "      <td>33.0</td>\n",
       "      <td>False</td>\n",
       "      <td>0.0</td>\n",
       "      <td>1283.0</td>\n",
       "      <td>371.0</td>\n",
       "      <td>3329.0</td>\n",
       "      <td>193.0</td>\n",
       "      <td>Solam Susent</td>\n",
       "      <td>0</td>\n",
       "    </tr>\n",
       "    <tr>\n",
       "      <th>4</th>\n",
       "      <td>0004_01</td>\n",
       "      <td>1.0</td>\n",
       "      <td>0.0</td>\n",
       "      <td>F/1/S</td>\n",
       "      <td>TRAPPIST-1e</td>\n",
       "      <td>16.0</td>\n",
       "      <td>False</td>\n",
       "      <td>303.0</td>\n",
       "      <td>70.0</td>\n",
       "      <td>151.0</td>\n",
       "      <td>565.0</td>\n",
       "      <td>2.0</td>\n",
       "      <td>Willy Santantines</td>\n",
       "      <td>1</td>\n",
       "    </tr>\n",
       "  </tbody>\n",
       "</table>\n",
       "</div>"
      ],
      "text/plain": [
       "  PassengerId  HomePlanet  CryoSleep  Cabin  Destination   Age    VIP  \\\n",
       "0     0001_01         2.0        0.0  B/0/P  TRAPPIST-1e  39.0  False   \n",
       "1     0002_01         1.0        0.0  F/0/S  TRAPPIST-1e  24.0  False   \n",
       "2     0003_01         2.0        0.0  A/0/S  TRAPPIST-1e  58.0   True   \n",
       "3     0003_02         2.0        0.0  A/0/S  TRAPPIST-1e  33.0  False   \n",
       "4     0004_01         1.0        0.0  F/1/S  TRAPPIST-1e  16.0  False   \n",
       "\n",
       "   RoomService  FoodCourt  ShoppingMall     Spa  VRDeck               Name  \\\n",
       "0          0.0        0.0           0.0     0.0     0.0    Maham Ofracculy   \n",
       "1        109.0        9.0          25.0   549.0    44.0       Juanna Vines   \n",
       "2         43.0     3576.0           0.0  6715.0    49.0      Altark Susent   \n",
       "3          0.0     1283.0         371.0  3329.0   193.0       Solam Susent   \n",
       "4        303.0       70.0         151.0   565.0     2.0  Willy Santantines   \n",
       "\n",
       "   Transported  \n",
       "0            0  \n",
       "1            1  \n",
       "2            0  \n",
       "3            0  \n",
       "4            1  "
      ]
     },
     "execution_count": 8,
     "metadata": {},
     "output_type": "execute_result"
    }
   ],
   "source": [
    "df['HomePlanet'].replace('Earth', 1, inplace=True)\n",
    "df['HomePlanet'].replace('Europa', 2, inplace=True)\n",
    "df['HomePlanet'].replace('Mars', 3, inplace=True)\n",
    "df.head()"
   ]
  },
  {
   "cell_type": "markdown",
   "id": "b2980bf5",
   "metadata": {
    "papermill": {
     "duration": 0.021618,
     "end_time": "2023-11-26T20:57:16.969252",
     "exception": false,
     "start_time": "2023-11-26T20:57:16.947634",
     "status": "completed"
    },
    "tags": []
   },
   "source": [
    "Destination: {'55 Cancri e', 'PSO J318.5-22', 'TRAPPIST-1e', nan}\n",
    "{1,2,3,4}"
   ]
  },
  {
   "cell_type": "code",
   "execution_count": 9,
   "id": "c36c2d36",
   "metadata": {
    "execution": {
     "iopub.execute_input": "2023-11-26T20:57:17.015324Z",
     "iopub.status.busy": "2023-11-26T20:57:17.014923Z",
     "iopub.status.idle": "2023-11-26T20:57:17.023242Z",
     "shell.execute_reply": "2023-11-26T20:57:17.022118Z"
    },
    "papermill": {
     "duration": 0.034234,
     "end_time": "2023-11-26T20:57:17.025524",
     "exception": false,
     "start_time": "2023-11-26T20:57:16.991290",
     "status": "completed"
    },
    "tags": []
   },
   "outputs": [
    {
     "data": {
      "text/plain": [
       "{'55 Cancri e', 'PSO J318.5-22', 'TRAPPIST-1e', nan}"
      ]
     },
     "execution_count": 9,
     "metadata": {},
     "output_type": "execute_result"
    }
   ],
   "source": [
    "set(df['Destination'])"
   ]
  },
  {
   "cell_type": "code",
   "execution_count": 10,
   "id": "0e0d5463",
   "metadata": {
    "execution": {
     "iopub.execute_input": "2023-11-26T20:57:17.072346Z",
     "iopub.status.busy": "2023-11-26T20:57:17.071912Z",
     "iopub.status.idle": "2023-11-26T20:57:17.103974Z",
     "shell.execute_reply": "2023-11-26T20:57:17.103174Z"
    },
    "papermill": {
     "duration": 0.058399,
     "end_time": "2023-11-26T20:57:17.106039",
     "exception": false,
     "start_time": "2023-11-26T20:57:17.047640",
     "status": "completed"
    },
    "tags": []
   },
   "outputs": [
    {
     "data": {
      "text/html": [
       "<div>\n",
       "<style scoped>\n",
       "    .dataframe tbody tr th:only-of-type {\n",
       "        vertical-align: middle;\n",
       "    }\n",
       "\n",
       "    .dataframe tbody tr th {\n",
       "        vertical-align: top;\n",
       "    }\n",
       "\n",
       "    .dataframe thead th {\n",
       "        text-align: right;\n",
       "    }\n",
       "</style>\n",
       "<table border=\"1\" class=\"dataframe\">\n",
       "  <thead>\n",
       "    <tr style=\"text-align: right;\">\n",
       "      <th></th>\n",
       "      <th>PassengerId</th>\n",
       "      <th>HomePlanet</th>\n",
       "      <th>CryoSleep</th>\n",
       "      <th>Cabin</th>\n",
       "      <th>Destination</th>\n",
       "      <th>Age</th>\n",
       "      <th>VIP</th>\n",
       "      <th>RoomService</th>\n",
       "      <th>FoodCourt</th>\n",
       "      <th>ShoppingMall</th>\n",
       "      <th>Spa</th>\n",
       "      <th>VRDeck</th>\n",
       "      <th>Name</th>\n",
       "      <th>Transported</th>\n",
       "    </tr>\n",
       "  </thead>\n",
       "  <tbody>\n",
       "    <tr>\n",
       "      <th>0</th>\n",
       "      <td>0001_01</td>\n",
       "      <td>2.0</td>\n",
       "      <td>0.0</td>\n",
       "      <td>B/0/P</td>\n",
       "      <td>3.0</td>\n",
       "      <td>39.0</td>\n",
       "      <td>False</td>\n",
       "      <td>0.0</td>\n",
       "      <td>0.0</td>\n",
       "      <td>0.0</td>\n",
       "      <td>0.0</td>\n",
       "      <td>0.0</td>\n",
       "      <td>Maham Ofracculy</td>\n",
       "      <td>0</td>\n",
       "    </tr>\n",
       "    <tr>\n",
       "      <th>1</th>\n",
       "      <td>0002_01</td>\n",
       "      <td>1.0</td>\n",
       "      <td>0.0</td>\n",
       "      <td>F/0/S</td>\n",
       "      <td>3.0</td>\n",
       "      <td>24.0</td>\n",
       "      <td>False</td>\n",
       "      <td>109.0</td>\n",
       "      <td>9.0</td>\n",
       "      <td>25.0</td>\n",
       "      <td>549.0</td>\n",
       "      <td>44.0</td>\n",
       "      <td>Juanna Vines</td>\n",
       "      <td>1</td>\n",
       "    </tr>\n",
       "    <tr>\n",
       "      <th>2</th>\n",
       "      <td>0003_01</td>\n",
       "      <td>2.0</td>\n",
       "      <td>0.0</td>\n",
       "      <td>A/0/S</td>\n",
       "      <td>3.0</td>\n",
       "      <td>58.0</td>\n",
       "      <td>True</td>\n",
       "      <td>43.0</td>\n",
       "      <td>3576.0</td>\n",
       "      <td>0.0</td>\n",
       "      <td>6715.0</td>\n",
       "      <td>49.0</td>\n",
       "      <td>Altark Susent</td>\n",
       "      <td>0</td>\n",
       "    </tr>\n",
       "  </tbody>\n",
       "</table>\n",
       "</div>"
      ],
      "text/plain": [
       "  PassengerId  HomePlanet  CryoSleep  Cabin  Destination   Age    VIP  \\\n",
       "0     0001_01         2.0        0.0  B/0/P          3.0  39.0  False   \n",
       "1     0002_01         1.0        0.0  F/0/S          3.0  24.0  False   \n",
       "2     0003_01         2.0        0.0  A/0/S          3.0  58.0   True   \n",
       "\n",
       "   RoomService  FoodCourt  ShoppingMall     Spa  VRDeck             Name  \\\n",
       "0          0.0        0.0           0.0     0.0     0.0  Maham Ofracculy   \n",
       "1        109.0        9.0          25.0   549.0    44.0     Juanna Vines   \n",
       "2         43.0     3576.0           0.0  6715.0    49.0    Altark Susent   \n",
       "\n",
       "   Transported  \n",
       "0            0  \n",
       "1            1  \n",
       "2            0  "
      ]
     },
     "execution_count": 10,
     "metadata": {},
     "output_type": "execute_result"
    }
   ],
   "source": [
    "df['Destination'].replace('55 Cancri e', 1, inplace=True)\n",
    "df['Destination'].replace('PSO J318.5-22', 2, inplace=True)\n",
    "df['Destination'].replace('TRAPPIST-1e', 3, inplace=True)\n",
    "df.head(3)"
   ]
  },
  {
   "cell_type": "code",
   "execution_count": 11,
   "id": "0e1da56b",
   "metadata": {
    "execution": {
     "iopub.execute_input": "2023-11-26T20:57:17.153027Z",
     "iopub.status.busy": "2023-11-26T20:57:17.152611Z",
     "iopub.status.idle": "2023-11-26T20:57:17.181218Z",
     "shell.execute_reply": "2023-11-26T20:57:17.180231Z"
    },
    "papermill": {
     "duration": 0.054613,
     "end_time": "2023-11-26T20:57:17.183414",
     "exception": false,
     "start_time": "2023-11-26T20:57:17.128801",
     "status": "completed"
    },
    "tags": []
   },
   "outputs": [
    {
     "data": {
      "text/html": [
       "<div>\n",
       "<style scoped>\n",
       "    .dataframe tbody tr th:only-of-type {\n",
       "        vertical-align: middle;\n",
       "    }\n",
       "\n",
       "    .dataframe tbody tr th {\n",
       "        vertical-align: top;\n",
       "    }\n",
       "\n",
       "    .dataframe thead th {\n",
       "        text-align: right;\n",
       "    }\n",
       "</style>\n",
       "<table border=\"1\" class=\"dataframe\">\n",
       "  <thead>\n",
       "    <tr style=\"text-align: right;\">\n",
       "      <th></th>\n",
       "      <th>PassengerId</th>\n",
       "      <th>HomePlanet</th>\n",
       "      <th>CryoSleep</th>\n",
       "      <th>Cabin</th>\n",
       "      <th>Destination</th>\n",
       "      <th>Age</th>\n",
       "      <th>VIP</th>\n",
       "      <th>RoomService</th>\n",
       "      <th>FoodCourt</th>\n",
       "      <th>ShoppingMall</th>\n",
       "      <th>Spa</th>\n",
       "      <th>VRDeck</th>\n",
       "      <th>Name</th>\n",
       "      <th>Transported</th>\n",
       "    </tr>\n",
       "  </thead>\n",
       "  <tbody>\n",
       "    <tr>\n",
       "      <th>0</th>\n",
       "      <td>0001_01</td>\n",
       "      <td>2.0</td>\n",
       "      <td>0.0</td>\n",
       "      <td>B/0/P</td>\n",
       "      <td>3.0</td>\n",
       "      <td>39.0</td>\n",
       "      <td>0.0</td>\n",
       "      <td>0.0</td>\n",
       "      <td>0.0</td>\n",
       "      <td>0.0</td>\n",
       "      <td>0.0</td>\n",
       "      <td>0.0</td>\n",
       "      <td>Maham Ofracculy</td>\n",
       "      <td>0</td>\n",
       "    </tr>\n",
       "    <tr>\n",
       "      <th>1</th>\n",
       "      <td>0002_01</td>\n",
       "      <td>1.0</td>\n",
       "      <td>0.0</td>\n",
       "      <td>F/0/S</td>\n",
       "      <td>3.0</td>\n",
       "      <td>24.0</td>\n",
       "      <td>0.0</td>\n",
       "      <td>109.0</td>\n",
       "      <td>9.0</td>\n",
       "      <td>25.0</td>\n",
       "      <td>549.0</td>\n",
       "      <td>44.0</td>\n",
       "      <td>Juanna Vines</td>\n",
       "      <td>1</td>\n",
       "    </tr>\n",
       "    <tr>\n",
       "      <th>2</th>\n",
       "      <td>0003_01</td>\n",
       "      <td>2.0</td>\n",
       "      <td>0.0</td>\n",
       "      <td>A/0/S</td>\n",
       "      <td>3.0</td>\n",
       "      <td>58.0</td>\n",
       "      <td>1.0</td>\n",
       "      <td>43.0</td>\n",
       "      <td>3576.0</td>\n",
       "      <td>0.0</td>\n",
       "      <td>6715.0</td>\n",
       "      <td>49.0</td>\n",
       "      <td>Altark Susent</td>\n",
       "      <td>0</td>\n",
       "    </tr>\n",
       "  </tbody>\n",
       "</table>\n",
       "</div>"
      ],
      "text/plain": [
       "  PassengerId  HomePlanet  CryoSleep  Cabin  Destination   Age  VIP  \\\n",
       "0     0001_01         2.0        0.0  B/0/P          3.0  39.0  0.0   \n",
       "1     0002_01         1.0        0.0  F/0/S          3.0  24.0  0.0   \n",
       "2     0003_01         2.0        0.0  A/0/S          3.0  58.0  1.0   \n",
       "\n",
       "   RoomService  FoodCourt  ShoppingMall     Spa  VRDeck             Name  \\\n",
       "0          0.0        0.0           0.0     0.0     0.0  Maham Ofracculy   \n",
       "1        109.0        9.0          25.0   549.0    44.0     Juanna Vines   \n",
       "2         43.0     3576.0           0.0  6715.0    49.0    Altark Susent   \n",
       "\n",
       "   Transported  \n",
       "0            0  \n",
       "1            1  \n",
       "2            0  "
      ]
     },
     "execution_count": 11,
     "metadata": {},
     "output_type": "execute_result"
    }
   ],
   "source": [
    "df['VIP'] = df['VIP'].replace({True: 1, False: 0})\n",
    "df.head(3)"
   ]
  },
  {
   "cell_type": "code",
   "execution_count": 12,
   "id": "becc12b2",
   "metadata": {
    "execution": {
     "iopub.execute_input": "2023-11-26T20:57:17.232066Z",
     "iopub.status.busy": "2023-11-26T20:57:17.231637Z",
     "iopub.status.idle": "2023-11-26T20:57:17.282393Z",
     "shell.execute_reply": "2023-11-26T20:57:17.281278Z"
    },
    "papermill": {
     "duration": 0.077633,
     "end_time": "2023-11-26T20:57:17.284862",
     "exception": false,
     "start_time": "2023-11-26T20:57:17.207229",
     "status": "completed"
    },
    "tags": []
   },
   "outputs": [
    {
     "data": {
      "text/plain": [
       "638"
      ]
     },
     "execution_count": 12,
     "metadata": {},
     "output_type": "execute_result"
    }
   ],
   "source": [
    "#checking corr between cabin's names and sides\n",
    "sum(df.loc[(df.Cabin.str.split('/').str[0] == 'F') & (df.Cabin.str.split('/').str[2] == 'S')].Transported)   "
   ]
  },
  {
   "cell_type": "markdown",
   "id": "25cb6397",
   "metadata": {
    "papermill": {
     "duration": 0.022909,
     "end_time": "2023-11-26T20:57:17.330749",
     "exception": false,
     "start_time": "2023-11-26T20:57:17.307840",
     "status": "completed"
    },
    "tags": []
   },
   "source": [
    "letter_to_int = {'A': 1, 'B': 2, 'C': 3, 'D': 4, 'E': 5, 'F': 6, 'G': 7, 'H': 8, 'I': 9, 'J': 10}"
   ]
  },
  {
   "cell_type": "markdown",
   "id": "a623219b",
   "metadata": {
    "papermill": {
     "duration": 0.022457,
     "end_time": "2023-11-26T20:57:17.376042",
     "exception": false,
     "start_time": "2023-11-26T20:57:17.353585",
     "status": "completed"
    },
    "tags": []
   },
   "source": [
    "Now we have 11 attribute to work with and they all are numeric\n"
   ]
  },
  {
   "cell_type": "code",
   "execution_count": 13,
   "id": "45793f14",
   "metadata": {
    "execution": {
     "iopub.execute_input": "2023-11-26T20:57:17.424251Z",
     "iopub.status.busy": "2023-11-26T20:57:17.423411Z",
     "iopub.status.idle": "2023-11-26T20:57:17.448837Z",
     "shell.execute_reply": "2023-11-26T20:57:17.447949Z"
    },
    "papermill": {
     "duration": 0.052678,
     "end_time": "2023-11-26T20:57:17.451445",
     "exception": false,
     "start_time": "2023-11-26T20:57:17.398767",
     "status": "completed"
    },
    "tags": []
   },
   "outputs": [],
   "source": [
    "df[['HomePlanet', 'CryoSleep', 'Destination', 'Age', 'VIP']] = df[['HomePlanet', 'CryoSleep', 'Destination', 'Age', 'VIP']].astype('Int64')"
   ]
  },
  {
   "cell_type": "markdown",
   "id": "fd18955b",
   "metadata": {
    "papermill": {
     "duration": 0.022507,
     "end_time": "2023-11-26T20:57:17.496923",
     "exception": false,
     "start_time": "2023-11-26T20:57:17.474416",
     "status": "completed"
    },
    "tags": []
   },
   "source": [
    "Now We can go to filling every null and nan cell in our dataframe"
   ]
  },
  {
   "cell_type": "code",
   "execution_count": 14,
   "id": "341990da",
   "metadata": {
    "execution": {
     "iopub.execute_input": "2023-11-26T20:57:17.544803Z",
     "iopub.status.busy": "2023-11-26T20:57:17.544146Z",
     "iopub.status.idle": "2023-11-26T20:57:20.928145Z",
     "shell.execute_reply": "2023-11-26T20:57:20.927039Z"
    },
    "papermill": {
     "duration": 3.411395,
     "end_time": "2023-11-26T20:57:20.931163",
     "exception": false,
     "start_time": "2023-11-26T20:57:17.519768",
     "status": "completed"
    },
    "tags": []
   },
   "outputs": [
    {
     "data": {
      "image/png": "[encoded data removed]",
      "text/plain": [
       "<Figure size 2000x1500 with 12 Axes>"
      ]
     },
     "metadata": {},
     "output_type": "display_data"
    }
   ],
   "source": [
    "import matplotlib.pyplot as plt\n",
    "df.hist(bins=50, figsize=(20,15))\n",
    "plt.show()"
   ]
  },
  {
   "cell_type": "code",
   "execution_count": 15,
   "id": "98f4ea5a",
   "metadata": {
    "execution": {
     "iopub.execute_input": "2023-11-26T20:57:20.983175Z",
     "iopub.status.busy": "2023-11-26T20:57:20.982797Z",
     "iopub.status.idle": "2023-11-26T20:57:23.397594Z",
     "shell.execute_reply": "2023-11-26T20:57:23.396410Z"
    },
    "papermill": {
     "duration": 2.443885,
     "end_time": "2023-11-26T20:57:23.400363",
     "exception": false,
     "start_time": "2023-11-26T20:57:20.956478",
     "status": "completed"
    },
    "tags": []
   },
   "outputs": [
    {
     "data": {
      "text/plain": [
       "<Axes: >"
      ]
     },
     "execution_count": 15,
     "metadata": {},
     "output_type": "execute_result"
    },
    {
     "data": {
      "image/png": "[encoded data removed]",
      "text/plain": [
       "<Figure size 640x480 with 2 Axes>"
      ]
     },
     "metadata": {},
     "output_type": "display_data"
    }
   ],
   "source": [
    "import seaborn as sb\n",
    "df_num = df.select_dtypes(include=['float64', 'int64'])\n",
    "\n",
    "# Calculate the correlations of numerical columns\n",
    "corr = df_num.corr()\n",
    "\n",
    "sb.heatmap(corr, annot=True)"
   ]
  },
  {
   "cell_type": "code",
   "execution_count": 16,
   "id": "e3126749",
   "metadata": {
    "execution": {
     "iopub.execute_input": "2023-11-26T20:57:23.456145Z",
     "iopub.status.busy": "2023-11-26T20:57:23.455747Z",
     "iopub.status.idle": "2023-11-26T20:57:23.481960Z",
     "shell.execute_reply": "2023-11-26T20:57:23.481120Z"
    },
    "papermill": {
     "duration": 0.056742,
     "end_time": "2023-11-26T20:57:23.484087",
     "exception": false,
     "start_time": "2023-11-26T20:57:23.427345",
     "status": "completed"
    },
    "tags": []
   },
   "outputs": [
    {
     "data": {
      "text/html": [
       "<div>\n",
       "<style scoped>\n",
       "    .dataframe tbody tr th:only-of-type {\n",
       "        vertical-align: middle;\n",
       "    }\n",
       "\n",
       "    .dataframe tbody tr th {\n",
       "        vertical-align: top;\n",
       "    }\n",
       "\n",
       "    .dataframe thead th {\n",
       "        text-align: right;\n",
       "    }\n",
       "</style>\n",
       "<table border=\"1\" class=\"dataframe\">\n",
       "  <thead>\n",
       "    <tr style=\"text-align: right;\">\n",
       "      <th></th>\n",
       "      <th>HomePlanet</th>\n",
       "      <th>CryoSleep</th>\n",
       "      <th>Destination</th>\n",
       "      <th>Age</th>\n",
       "      <th>VIP</th>\n",
       "      <th>RoomService</th>\n",
       "      <th>FoodCourt</th>\n",
       "      <th>ShoppingMall</th>\n",
       "      <th>Spa</th>\n",
       "      <th>VRDeck</th>\n",
       "    </tr>\n",
       "    <tr>\n",
       "      <th>Transported</th>\n",
       "      <th></th>\n",
       "      <th></th>\n",
       "      <th></th>\n",
       "      <th></th>\n",
       "      <th></th>\n",
       "      <th></th>\n",
       "      <th></th>\n",
       "      <th></th>\n",
       "      <th></th>\n",
       "      <th></th>\n",
       "    </tr>\n",
       "  </thead>\n",
       "  <tbody>\n",
       "    <tr>\n",
       "      <th>0</th>\n",
       "      <td>1.570311</td>\n",
       "      <td>0.131779</td>\n",
       "      <td>2.574201</td>\n",
       "      <td>29.922858</td>\n",
       "      <td>0.029175</td>\n",
       "      <td>389.266066</td>\n",
       "      <td>382.615930</td>\n",
       "      <td>167.566217</td>\n",
       "      <td>564.382666</td>\n",
       "      <td>543.629822</td>\n",
       "    </tr>\n",
       "    <tr>\n",
       "      <th>1</th>\n",
       "      <td>1.75883</td>\n",
       "      <td>0.581227</td>\n",
       "      <td>2.394074</td>\n",
       "      <td>27.748834</td>\n",
       "      <td>0.017782</td>\n",
       "      <td>63.098021</td>\n",
       "      <td>532.691984</td>\n",
       "      <td>179.829972</td>\n",
       "      <td>61.675531</td>\n",
       "      <td>69.148131</td>\n",
       "    </tr>\n",
       "  </tbody>\n",
       "</table>\n",
       "</div>"
      ],
      "text/plain": [
       "             HomePlanet  CryoSleep  Destination        Age       VIP  \\\n",
       "Transported                                                            \n",
       "0              1.570311   0.131779     2.574201  29.922858  0.029175   \n",
       "1               1.75883   0.581227     2.394074  27.748834  0.017782   \n",
       "\n",
       "             RoomService   FoodCourt  ShoppingMall         Spa      VRDeck  \n",
       "Transported                                                                 \n",
       "0             389.266066  382.615930    167.566217  564.382666  543.629822  \n",
       "1              63.098021  532.691984    179.829972   61.675531   69.148131  "
      ]
     },
     "execution_count": 16,
     "metadata": {},
     "output_type": "execute_result"
    }
   ],
   "source": [
    "df_num.groupby(\"Transported\").mean()"
   ]
  },
  {
   "cell_type": "code",
   "execution_count": 17,
   "id": "756fe063",
   "metadata": {
    "execution": {
     "iopub.execute_input": "2023-11-26T20:57:23.540110Z",
     "iopub.status.busy": "2023-11-26T20:57:23.539663Z",
     "iopub.status.idle": "2023-11-26T20:57:23.839248Z",
     "shell.execute_reply": "2023-11-26T20:57:23.837749Z"
    },
    "papermill": {
     "duration": 0.330884,
     "end_time": "2023-11-26T20:57:23.841632",
     "exception": false,
     "start_time": "2023-11-26T20:57:23.510748",
     "status": "completed"
    },
    "tags": []
   },
   "outputs": [
    {
     "data": {
      "text/plain": [
       "<Axes: xlabel='CryoSleep'>"
      ]
     },
     "execution_count": 17,
     "metadata": {},
     "output_type": "execute_result"
    },
    {
     "data": {
      "image/png": "[encoded data removed]",
      "text/plain": [
       "<Figure size 640x480 with 1 Axes>"
      ]
     },
     "metadata": {},
     "output_type": "display_data"
    }
   ],
   "source": [
    "pd.crosstab(df_num.CryoSleep,df_num.Transported).plot(kind='bar')"
   ]
  },
  {
   "cell_type": "code",
   "execution_count": 18,
   "id": "94493bfd",
   "metadata": {
    "execution": {
     "iopub.execute_input": "2023-11-26T20:57:23.900517Z",
     "iopub.status.busy": "2023-11-26T20:57:23.900126Z",
     "iopub.status.idle": "2023-11-26T20:57:23.949823Z",
     "shell.execute_reply": "2023-11-26T20:57:23.948757Z"
    },
    "papermill": {
     "duration": 0.083121,
     "end_time": "2023-11-26T20:57:23.952466",
     "exception": false,
     "start_time": "2023-11-26T20:57:23.869345",
     "status": "completed"
    },
    "tags": []
   },
   "outputs": [
    {
     "name": "stdout",
     "output_type": "stream",
     "text": [
      "<class 'pandas.core.frame.DataFrame'>\n",
      "RangeIndex: 8693 entries, 0 to 8692\n",
      "Data columns (total 14 columns):\n",
      " #   Column        Non-Null Count  Dtype  \n",
      "---  ------        --------------  -----  \n",
      " 0   PassengerId   8693 non-null   object \n",
      " 1   HomePlanet    8693 non-null   Int64  \n",
      " 2   CryoSleep     8693 non-null   int64  \n",
      " 3   Cabin         8693 non-null   object \n",
      " 4   Destination   8693 non-null   Int64  \n",
      " 5   Age           8693 non-null   Int64  \n",
      " 6   VIP           8693 non-null   int64  \n",
      " 7   RoomService   8693 non-null   float64\n",
      " 8   FoodCourt     8693 non-null   float64\n",
      " 9   ShoppingMall  8693 non-null   float64\n",
      " 10  Spa           8693 non-null   float64\n",
      " 11  VRDeck        8693 non-null   float64\n",
      " 12  Name          8493 non-null   object \n",
      " 13  Transported   8693 non-null   int64  \n",
      "dtypes: Int64(3), float64(5), int64(3), object(3)\n",
      "memory usage: 976.4+ KB\n"
     ]
    }
   ],
   "source": [
    "df[\"HomePlanet\"].fillna(df[\"HomePlanet\"].mode()[0],inplace=True)\n",
    "df[\"Destination\"].fillna(df[\"Destination\"].mode()[0],inplace=True)\n",
    "df[\"CryoSleep\"].fillna(df[\"CryoSleep\"].mode()[0],inplace=True)\n",
    "df[\"Cabin\"].fillna(df[\"Cabin\"].mode()[0],inplace=True)\n",
    "df[\"VIP\"].fillna(df[\"VIP\"].mode()[0],inplace=True)\n",
    "df[\"Age\"].fillna(int(df[\"Age\"].mean()),inplace=True)\n",
    "df[\"RoomService\"].fillna(df[\"RoomService\"].mean(),inplace=True)\n",
    "df[\"FoodCourt\"].fillna(df[\"FoodCourt\"].mean(),inplace=True)\n",
    "df[\"ShoppingMall\"].fillna(df[\"ShoppingMall\"].mean(),inplace=True)\n",
    "df[\"Spa\"].fillna(df[\"Spa\"].mean(),inplace=True)\n",
    "df[\"VRDeck\"].fillna(df[\"VRDeck\"].mean(),inplace=True)\n",
    "df.VIP = np.where(df.VIP,1,0)\n",
    "df.CryoSleep = np.where(df.CryoSleep,1,0)\n",
    "#No Nan, Null or empty cell\n",
    "df.info()"
   ]
  },
  {
   "cell_type": "code",
   "execution_count": 19,
   "id": "8001f9fd",
   "metadata": {
    "execution": {
     "iopub.execute_input": "2023-11-26T20:57:24.009054Z",
     "iopub.status.busy": "2023-11-26T20:57:24.008624Z",
     "iopub.status.idle": "2023-11-26T20:57:24.020820Z",
     "shell.execute_reply": "2023-11-26T20:57:24.019281Z"
    },
    "papermill": {
     "duration": 0.043119,
     "end_time": "2023-11-26T20:57:24.023083",
     "exception": false,
     "start_time": "2023-11-26T20:57:23.979964",
     "status": "completed"
    },
    "tags": []
   },
   "outputs": [
    {
     "name": "stdout",
     "output_type": "stream",
     "text": [
      "cryo Taransported:  2483 transported:  4378\n"
     ]
    }
   ],
   "source": [
    "print('cryo Taransported: ', sum(df[df.CryoSleep == 1].Transported), 'transported: ',sum(df.Transported))"
   ]
  },
  {
   "cell_type": "code",
   "execution_count": 20,
   "id": "43e73a40",
   "metadata": {
    "execution": {
     "iopub.execute_input": "2023-11-26T20:57:24.079735Z",
     "iopub.status.busy": "2023-11-26T20:57:24.079298Z",
     "iopub.status.idle": "2023-11-26T20:57:24.084607Z",
     "shell.execute_reply": "2023-11-26T20:57:24.083303Z"
    },
    "papermill": {
     "duration": 0.036178,
     "end_time": "2023-11-26T20:57:24.086727",
     "exception": false,
     "start_time": "2023-11-26T20:57:24.050549",
     "status": "completed"
    },
    "tags": []
   },
   "outputs": [],
   "source": [
    "# # Calculate mean\n",
    "# df['Mean_luxury'] = df[['RoomService', 'FoodCourt', 'ShoppingMall', 'Spa', 'VRDeck']].mean(axis=1)"
   ]
  },
  {
   "cell_type": "code",
   "execution_count": 21,
   "id": "3a71dabe",
   "metadata": {
    "execution": {
     "iopub.execute_input": "2023-11-26T20:57:24.142014Z",
     "iopub.status.busy": "2023-11-26T20:57:24.141576Z",
     "iopub.status.idle": "2023-11-26T20:57:24.146381Z",
     "shell.execute_reply": "2023-11-26T20:57:24.145249Z"
    },
    "papermill": {
     "duration": 0.034641,
     "end_time": "2023-11-26T20:57:24.148488",
     "exception": false,
     "start_time": "2023-11-26T20:57:24.113847",
     "status": "completed"
    },
    "tags": []
   },
   "outputs": [],
   "source": [
    "# df = df.drop(columns=['RoomService', 'FoodCourt', 'ShoppingMall', 'Spa', 'VRDeck'])\n",
    "# df.head(3)"
   ]
  },
  {
   "cell_type": "code",
   "execution_count": 22,
   "id": "ab224d7d",
   "metadata": {
    "execution": {
     "iopub.execute_input": "2023-11-26T20:57:24.204852Z",
     "iopub.status.busy": "2023-11-26T20:57:24.204443Z",
     "iopub.status.idle": "2023-11-26T20:57:24.209470Z",
     "shell.execute_reply": "2023-11-26T20:57:24.208254Z"
    },
    "papermill": {
     "duration": 0.035568,
     "end_time": "2023-11-26T20:57:24.211795",
     "exception": false,
     "start_time": "2023-11-26T20:57:24.176227",
     "status": "completed"
    },
    "tags": []
   },
   "outputs": [],
   "source": [
    "# df['BigSpender'] = np.where(df.Mean_luxury > 1000, 1,0)\n",
    "# df['Mid_Spender'] = np.where(df.Mean_luxury >= 500, 1,0)\n",
    "# df['Non_Spender'] = np.where(df.Mean_luxury == 0, 1,0)\n",
    "# df.head()"
   ]
  },
  {
   "cell_type": "code",
   "execution_count": 23,
   "id": "83273029",
   "metadata": {
    "execution": {
     "iopub.execute_input": "2023-11-26T20:57:24.268805Z",
     "iopub.status.busy": "2023-11-26T20:57:24.268389Z",
     "iopub.status.idle": "2023-11-26T20:57:24.273153Z",
     "shell.execute_reply": "2023-11-26T20:57:24.272000Z"
    },
    "papermill": {
     "duration": 0.035819,
     "end_time": "2023-11-26T20:57:24.275375",
     "exception": false,
     "start_time": "2023-11-26T20:57:24.239556",
     "status": "completed"
    },
    "tags": []
   },
   "outputs": [],
   "source": [
    "# # TransportedCol = df.pop(\"Transported\")\n",
    "# NameCol = df.pop(\"Name\")\n",
    "# df.insert(1, \"Name\", NameCol)\n",
    "# df.insert(9, \"Transported\", TransportedCol)\n",
    "# df.head()"
   ]
  },
  {
   "cell_type": "code",
   "execution_count": 24,
   "id": "dc079ef3",
   "metadata": {
    "execution": {
     "iopub.execute_input": "2023-11-26T20:57:24.331897Z",
     "iopub.status.busy": "2023-11-26T20:57:24.331488Z",
     "iopub.status.idle": "2023-11-26T20:57:24.342478Z",
     "shell.execute_reply": "2023-11-26T20:57:24.341466Z"
    },
    "papermill": {
     "duration": 0.04227,
     "end_time": "2023-11-26T20:57:24.344807",
     "exception": false,
     "start_time": "2023-11-26T20:57:24.302537",
     "status": "completed"
    },
    "tags": []
   },
   "outputs": [
    {
     "data": {
      "text/plain": [
       "1517"
      ]
     },
     "execution_count": 24,
     "metadata": {},
     "output_type": "execute_result"
    }
   ],
   "source": [
    "sum(df[df.HomePlanet == 3].Destination == 3)"
   ]
  },
  {
   "cell_type": "markdown",
   "id": "b4898de1",
   "metadata": {
    "papermill": {
     "duration": 0.028005,
     "end_time": "2023-11-26T20:57:24.401373",
     "exception": false,
     "start_time": "2023-11-26T20:57:24.373368",
     "status": "completed"
    },
    "tags": []
   },
   "source": [
    "{1:'55 Cancri e', 2:'PSO J318.5-22', 3:'TRAPPIST-1e'}\n",
    "{1:'Earth', 2:'Europa', 3:'Mars'}\n",
    "<<<<<HomePlanet to Destination>>>>\n",
    "1 to 1 >>> 721\n",
    "1 to 2 >>> 728\n",
    "1 to 3 >>> 3354\n",
    "--------------    \n",
    "2 to 1 >>> 193\n",
    "2 to 2 >>> 49\n",
    "2 to 3 >>> 1517\n",
    "-------------- \n",
    "3 to 1 >>> 886\n",
    "3 to 2 >>> 19\n",
    "3 to 3 >>> 1226\n",
    "-------------- "
   ]
  },
  {
   "cell_type": "code",
   "execution_count": 25,
   "id": "f1b2bdd9",
   "metadata": {
    "execution": {
     "iopub.execute_input": "2023-11-26T20:57:24.459969Z",
     "iopub.status.busy": "2023-11-26T20:57:24.459535Z",
     "iopub.status.idle": "2023-11-26T20:57:24.469931Z",
     "shell.execute_reply": "2023-11-26T20:57:24.468796Z"
    },
    "papermill": {
     "duration": 0.042587,
     "end_time": "2023-11-26T20:57:24.472271",
     "exception": false,
     "start_time": "2023-11-26T20:57:24.429684",
     "status": "completed"
    },
    "tags": []
   },
   "outputs": [
    {
     "data": {
      "text/plain": [
       "21"
      ]
     },
     "execution_count": 25,
     "metadata": {},
     "output_type": "execute_result"
    }
   ],
   "source": [
    "#print(sum(df[df.HomePlanet == 1].Transported),sum(df.HomePlanet == 1))\n",
    "sum(df[df.CryoSleep == 1].VIP)"
   ]
  },
  {
   "cell_type": "code",
   "execution_count": 26,
   "id": "3e34fe82",
   "metadata": {
    "execution": {
     "iopub.execute_input": "2023-11-26T20:57:24.530795Z",
     "iopub.status.busy": "2023-11-26T20:57:24.530376Z",
     "iopub.status.idle": "2023-11-26T20:57:25.324005Z",
     "shell.execute_reply": "2023-11-26T20:57:25.322867Z"
    },
    "papermill": {
     "duration": 0.82616,
     "end_time": "2023-11-26T20:57:25.326912",
     "exception": false,
     "start_time": "2023-11-26T20:57:24.500752",
     "status": "completed"
    },
    "tags": []
   },
   "outputs": [
    {
     "data": {
      "text/plain": [
       "<Axes: >"
      ]
     },
     "execution_count": 26,
     "metadata": {},
     "output_type": "execute_result"
    },
    {
     "data": {
      "image/png": "[encoded data removed]",
      "text/plain": [
       "<Figure size 640x480 with 2 Axes>"
      ]
     },
     "metadata": {},
     "output_type": "display_data"
    }
   ],
   "source": [
    "import seaborn as sb\n",
    "df_num = df.select_dtypes(include=['float64', 'int64'])\n",
    "\n",
    "# Calculate the correlations of numerical columns\n",
    "corr = df_num.corr()\n",
    "\n",
    "sb.heatmap(corr, annot=True)"
   ]
  },
  {
   "cell_type": "code",
   "execution_count": 27,
   "id": "cd0cb805",
   "metadata": {
    "execution": {
     "iopub.execute_input": "2023-11-26T20:57:25.391163Z",
     "iopub.status.busy": "2023-11-26T20:57:25.390700Z",
     "iopub.status.idle": "2023-11-26T20:57:25.395611Z",
     "shell.execute_reply": "2023-11-26T20:57:25.394631Z"
    },
    "papermill": {
     "duration": 0.039144,
     "end_time": "2023-11-26T20:57:25.397691",
     "exception": false,
     "start_time": "2023-11-26T20:57:25.358547",
     "status": "completed"
    },
    "tags": []
   },
   "outputs": [],
   "source": [
    "# print('Slept and didnt spend: ',sum(df[df.CryoSleep == 1].Non_Spender),'All that Slept: ',sum(df.CryoSleep),'All Non-Speders: ',sum(df.Non_Spender))"
   ]
  },
  {
   "cell_type": "code",
   "execution_count": 28,
   "id": "fab0ee2c",
   "metadata": {
    "execution": {
     "iopub.execute_input": "2023-11-26T20:57:25.460910Z",
     "iopub.status.busy": "2023-11-26T20:57:25.460476Z",
     "iopub.status.idle": "2023-11-26T20:57:25.490805Z",
     "shell.execute_reply": "2023-11-26T20:57:25.489658Z"
    },
    "papermill": {
     "duration": 0.064929,
     "end_time": "2023-11-26T20:57:25.493247",
     "exception": false,
     "start_time": "2023-11-26T20:57:25.428318",
     "status": "completed"
    },
    "tags": []
   },
   "outputs": [
    {
     "name": "stdout",
     "output_type": "stream",
     "text": [
      "2218\n"
     ]
    },
    {
     "data": {
      "text/plain": [
       "200"
      ]
     },
     "execution_count": 28,
     "metadata": {},
     "output_type": "execute_result"
    }
   ],
   "source": [
    "#number of families or to be exact people with the same last name\n",
    "lastNames = set(df.Name.str.split(' ').str[-1])\n",
    "print(len(lastNames))\n",
    "sum(df.Name.isna())\n"
   ]
  },
  {
   "cell_type": "code",
   "execution_count": 29,
   "id": "518df9c9",
   "metadata": {
    "execution": {
     "iopub.execute_input": "2023-11-26T20:57:25.554790Z",
     "iopub.status.busy": "2023-11-26T20:57:25.554410Z",
     "iopub.status.idle": "2023-11-26T20:57:25.558643Z",
     "shell.execute_reply": "2023-11-26T20:57:25.557546Z"
    },
    "papermill": {
     "duration": 0.037637,
     "end_time": "2023-11-26T20:57:25.560802",
     "exception": false,
     "start_time": "2023-11-26T20:57:25.523165",
     "status": "completed"
    },
    "tags": []
   },
   "outputs": [],
   "source": [
    "# df['LastName'] = df['Name'].str.split(' ').str[-1]\n",
    "# df.head(3)"
   ]
  },
  {
   "cell_type": "code",
   "execution_count": 30,
   "id": "9800eb2e",
   "metadata": {
    "execution": {
     "iopub.execute_input": "2023-11-26T20:57:25.623458Z",
     "iopub.status.busy": "2023-11-26T20:57:25.623065Z",
     "iopub.status.idle": "2023-11-26T20:57:25.630641Z",
     "shell.execute_reply": "2023-11-26T20:57:25.629299Z"
    },
    "papermill": {
     "duration": 0.04317,
     "end_time": "2023-11-26T20:57:25.634000",
     "exception": false,
     "start_time": "2023-11-26T20:57:25.590830",
     "status": "completed"
    },
    "tags": []
   },
   "outputs": [
    {
     "name": "stdout",
     "output_type": "stream",
     "text": [
      "8474\n"
     ]
    }
   ],
   "source": [
    "fullnameSet = set(df.Name)\n",
    "print(len(fullnameSet))"
   ]
  },
  {
   "cell_type": "code",
   "execution_count": 31,
   "id": "ebc25f8e",
   "metadata": {
    "execution": {
     "iopub.execute_input": "2023-11-26T20:57:25.706275Z",
     "iopub.status.busy": "2023-11-26T20:57:25.705826Z",
     "iopub.status.idle": "2023-11-26T20:57:25.870772Z",
     "shell.execute_reply": "2023-11-26T20:57:25.869648Z"
    },
    "papermill": {
     "duration": 0.199623,
     "end_time": "2023-11-26T20:57:25.873104",
     "exception": false,
     "start_time": "2023-11-26T20:57:25.673481",
     "status": "completed"
    },
    "tags": []
   },
   "outputs": [
    {
     "data": {
      "text/html": [
       "<div>\n",
       "<style scoped>\n",
       "    .dataframe tbody tr th:only-of-type {\n",
       "        vertical-align: middle;\n",
       "    }\n",
       "\n",
       "    .dataframe tbody tr th {\n",
       "        vertical-align: top;\n",
       "    }\n",
       "\n",
       "    .dataframe thead th {\n",
       "        text-align: right;\n",
       "    }\n",
       "</style>\n",
       "<table border=\"1\" class=\"dataframe\">\n",
       "  <thead>\n",
       "    <tr style=\"text-align: right;\">\n",
       "      <th></th>\n",
       "      <th>PassengerId</th>\n",
       "      <th>HomePlanet</th>\n",
       "      <th>CryoSleep</th>\n",
       "      <th>Cabin</th>\n",
       "      <th>Destination</th>\n",
       "      <th>Age</th>\n",
       "      <th>VIP</th>\n",
       "      <th>RoomService</th>\n",
       "      <th>FoodCourt</th>\n",
       "      <th>ShoppingMall</th>\n",
       "      <th>Spa</th>\n",
       "      <th>VRDeck</th>\n",
       "      <th>Name</th>\n",
       "      <th>Transported</th>\n",
       "      <th>Port</th>\n",
       "    </tr>\n",
       "  </thead>\n",
       "  <tbody>\n",
       "    <tr>\n",
       "      <th>0</th>\n",
       "      <td>0001_01</td>\n",
       "      <td>2</td>\n",
       "      <td>0</td>\n",
       "      <td>B/0/P</td>\n",
       "      <td>3</td>\n",
       "      <td>39</td>\n",
       "      <td>0</td>\n",
       "      <td>0.0</td>\n",
       "      <td>0.0</td>\n",
       "      <td>0.0</td>\n",
       "      <td>0.0</td>\n",
       "      <td>0.0</td>\n",
       "      <td>Maham Ofracculy</td>\n",
       "      <td>0</td>\n",
       "      <td>1</td>\n",
       "    </tr>\n",
       "    <tr>\n",
       "      <th>1</th>\n",
       "      <td>0002_01</td>\n",
       "      <td>1</td>\n",
       "      <td>0</td>\n",
       "      <td>F/0/S</td>\n",
       "      <td>3</td>\n",
       "      <td>24</td>\n",
       "      <td>0</td>\n",
       "      <td>109.0</td>\n",
       "      <td>9.0</td>\n",
       "      <td>25.0</td>\n",
       "      <td>549.0</td>\n",
       "      <td>44.0</td>\n",
       "      <td>Juanna Vines</td>\n",
       "      <td>1</td>\n",
       "      <td>0</td>\n",
       "    </tr>\n",
       "    <tr>\n",
       "      <th>2</th>\n",
       "      <td>0003_01</td>\n",
       "      <td>2</td>\n",
       "      <td>0</td>\n",
       "      <td>A/0/S</td>\n",
       "      <td>3</td>\n",
       "      <td>58</td>\n",
       "      <td>1</td>\n",
       "      <td>43.0</td>\n",
       "      <td>3576.0</td>\n",
       "      <td>0.0</td>\n",
       "      <td>6715.0</td>\n",
       "      <td>49.0</td>\n",
       "      <td>Altark Susent</td>\n",
       "      <td>0</td>\n",
       "      <td>0</td>\n",
       "    </tr>\n",
       "  </tbody>\n",
       "</table>\n",
       "</div>"
      ],
      "text/plain": [
       "  PassengerId  HomePlanet  CryoSleep  Cabin  Destination  Age  VIP  \\\n",
       "0     0001_01           2          0  B/0/P            3   39    0   \n",
       "1     0002_01           1          0  F/0/S            3   24    0   \n",
       "2     0003_01           2          0  A/0/S            3   58    1   \n",
       "\n",
       "   RoomService  FoodCourt  ShoppingMall     Spa  VRDeck             Name  \\\n",
       "0          0.0        0.0           0.0     0.0     0.0  Maham Ofracculy   \n",
       "1        109.0        9.0          25.0   549.0    44.0     Juanna Vines   \n",
       "2         43.0     3576.0           0.0  6715.0    49.0    Altark Susent   \n",
       "\n",
       "   Transported  Port  \n",
       "0            0     1  \n",
       "1            1     0  \n",
       "2            0     0  "
      ]
     },
     "execution_count": 31,
     "metadata": {},
     "output_type": "execute_result"
    }
   ],
   "source": [
    "df['Port'] = df['Cabin'].str.split('/').str[-1]\n",
    "df['Port'].replace('S', 0, inplace=True)\n",
    "df['Port'].replace('P', 1, inplace=True)\n",
    "df.head(3)"
   ]
  },
  {
   "cell_type": "code",
   "execution_count": 32,
   "id": "05bc3bfd",
   "metadata": {
    "execution": {
     "iopub.execute_input": "2023-11-26T20:57:25.939299Z",
     "iopub.status.busy": "2023-11-26T20:57:25.938829Z",
     "iopub.status.idle": "2023-11-26T20:57:25.987277Z",
     "shell.execute_reply": "2023-11-26T20:57:25.986097Z"
    },
    "papermill": {
     "duration": 0.085231,
     "end_time": "2023-11-26T20:57:25.991123",
     "exception": false,
     "start_time": "2023-11-26T20:57:25.905892",
     "status": "completed"
    },
    "tags": []
   },
   "outputs": [
    {
     "data": {
      "text/html": [
       "<div>\n",
       "<style scoped>\n",
       "    .dataframe tbody tr th:only-of-type {\n",
       "        vertical-align: middle;\n",
       "    }\n",
       "\n",
       "    .dataframe tbody tr th {\n",
       "        vertical-align: top;\n",
       "    }\n",
       "\n",
       "    .dataframe thead th {\n",
       "        text-align: right;\n",
       "    }\n",
       "</style>\n",
       "<table border=\"1\" class=\"dataframe\">\n",
       "  <thead>\n",
       "    <tr style=\"text-align: right;\">\n",
       "      <th></th>\n",
       "      <th>PassengerId</th>\n",
       "      <th>HomePlanet</th>\n",
       "      <th>CryoSleep</th>\n",
       "      <th>Cabin</th>\n",
       "      <th>Destination</th>\n",
       "      <th>Age</th>\n",
       "      <th>VIP</th>\n",
       "      <th>RoomService</th>\n",
       "      <th>FoodCourt</th>\n",
       "      <th>ShoppingMall</th>\n",
       "      <th>Spa</th>\n",
       "      <th>VRDeck</th>\n",
       "      <th>Name</th>\n",
       "      <th>Transported</th>\n",
       "      <th>Port</th>\n",
       "      <th>Place</th>\n",
       "    </tr>\n",
       "  </thead>\n",
       "  <tbody>\n",
       "    <tr>\n",
       "      <th>0</th>\n",
       "      <td>0001_01</td>\n",
       "      <td>2</td>\n",
       "      <td>0</td>\n",
       "      <td>B/0/P</td>\n",
       "      <td>3</td>\n",
       "      <td>39</td>\n",
       "      <td>0</td>\n",
       "      <td>0.0</td>\n",
       "      <td>0.0</td>\n",
       "      <td>0.0</td>\n",
       "      <td>0.0</td>\n",
       "      <td>0.0</td>\n",
       "      <td>Maham Ofracculy</td>\n",
       "      <td>0</td>\n",
       "      <td>1</td>\n",
       "      <td>2</td>\n",
       "    </tr>\n",
       "    <tr>\n",
       "      <th>1</th>\n",
       "      <td>0002_01</td>\n",
       "      <td>1</td>\n",
       "      <td>0</td>\n",
       "      <td>F/0/S</td>\n",
       "      <td>3</td>\n",
       "      <td>24</td>\n",
       "      <td>0</td>\n",
       "      <td>109.0</td>\n",
       "      <td>9.0</td>\n",
       "      <td>25.0</td>\n",
       "      <td>549.0</td>\n",
       "      <td>44.0</td>\n",
       "      <td>Juanna Vines</td>\n",
       "      <td>1</td>\n",
       "      <td>0</td>\n",
       "      <td>6</td>\n",
       "    </tr>\n",
       "    <tr>\n",
       "      <th>2</th>\n",
       "      <td>0003_01</td>\n",
       "      <td>2</td>\n",
       "      <td>0</td>\n",
       "      <td>A/0/S</td>\n",
       "      <td>3</td>\n",
       "      <td>58</td>\n",
       "      <td>1</td>\n",
       "      <td>43.0</td>\n",
       "      <td>3576.0</td>\n",
       "      <td>0.0</td>\n",
       "      <td>6715.0</td>\n",
       "      <td>49.0</td>\n",
       "      <td>Altark Susent</td>\n",
       "      <td>0</td>\n",
       "      <td>0</td>\n",
       "      <td>1</td>\n",
       "    </tr>\n",
       "  </tbody>\n",
       "</table>\n",
       "</div>"
      ],
      "text/plain": [
       "  PassengerId  HomePlanet  CryoSleep  Cabin  Destination  Age  VIP  \\\n",
       "0     0001_01           2          0  B/0/P            3   39    0   \n",
       "1     0002_01           1          0  F/0/S            3   24    0   \n",
       "2     0003_01           2          0  A/0/S            3   58    1   \n",
       "\n",
       "   RoomService  FoodCourt  ShoppingMall     Spa  VRDeck             Name  \\\n",
       "0          0.0        0.0           0.0     0.0     0.0  Maham Ofracculy   \n",
       "1        109.0        9.0          25.0   549.0    44.0     Juanna Vines   \n",
       "2         43.0     3576.0           0.0  6715.0    49.0    Altark Susent   \n",
       "\n",
       "   Transported  Port  Place  \n",
       "0            0     1      2  \n",
       "1            1     0      6  \n",
       "2            0     0      1  "
      ]
     },
     "execution_count": 32,
     "metadata": {},
     "output_type": "execute_result"
    }
   ],
   "source": [
    "df['Place'] = df['Cabin'].str.split('/').str[0]\n",
    "letter_to_int = {'A': 1, 'B': 2, 'C': 3, 'D': 4, 'E': 5, 'F': 6, 'G': 7, 'T': 8}\n",
    "df['Place'] = df['Place'].map(letter_to_int)\n",
    "df.head(3)"
   ]
  },
  {
   "cell_type": "code",
   "execution_count": 33,
   "id": "2bdf99dd",
   "metadata": {
    "execution": {
     "iopub.execute_input": "2023-11-26T20:57:26.061968Z",
     "iopub.status.busy": "2023-11-26T20:57:26.060861Z",
     "iopub.status.idle": "2023-11-26T20:57:26.109629Z",
     "shell.execute_reply": "2023-11-26T20:57:26.108378Z"
    },
    "papermill": {
     "duration": 0.085632,
     "end_time": "2023-11-26T20:57:26.112625",
     "exception": false,
     "start_time": "2023-11-26T20:57:26.026993",
     "status": "completed"
    },
    "tags": []
   },
   "outputs": [
    {
     "data": {
      "text/html": [
       "<div>\n",
       "<style scoped>\n",
       "    .dataframe tbody tr th:only-of-type {\n",
       "        vertical-align: middle;\n",
       "    }\n",
       "\n",
       "    .dataframe tbody tr th {\n",
       "        vertical-align: top;\n",
       "    }\n",
       "\n",
       "    .dataframe thead th {\n",
       "        text-align: right;\n",
       "    }\n",
       "</style>\n",
       "<table border=\"1\" class=\"dataframe\">\n",
       "  <thead>\n",
       "    <tr style=\"text-align: right;\">\n",
       "      <th></th>\n",
       "      <th>PassengerId</th>\n",
       "      <th>HomePlanet</th>\n",
       "      <th>CryoSleep</th>\n",
       "      <th>Cabin</th>\n",
       "      <th>Destination</th>\n",
       "      <th>Age</th>\n",
       "      <th>VIP</th>\n",
       "      <th>RoomService</th>\n",
       "      <th>FoodCourt</th>\n",
       "      <th>ShoppingMall</th>\n",
       "      <th>Spa</th>\n",
       "      <th>VRDeck</th>\n",
       "      <th>Name</th>\n",
       "      <th>Transported</th>\n",
       "      <th>Port</th>\n",
       "      <th>Place</th>\n",
       "    </tr>\n",
       "  </thead>\n",
       "  <tbody>\n",
       "    <tr>\n",
       "      <th>0</th>\n",
       "      <td>0001_01</td>\n",
       "      <td>2</td>\n",
       "      <td>0</td>\n",
       "      <td>0</td>\n",
       "      <td>3</td>\n",
       "      <td>39</td>\n",
       "      <td>0</td>\n",
       "      <td>0.0</td>\n",
       "      <td>0.0</td>\n",
       "      <td>0.0</td>\n",
       "      <td>0.0</td>\n",
       "      <td>0.0</td>\n",
       "      <td>Maham Ofracculy</td>\n",
       "      <td>0</td>\n",
       "      <td>1</td>\n",
       "      <td>2</td>\n",
       "    </tr>\n",
       "    <tr>\n",
       "      <th>1</th>\n",
       "      <td>0002_01</td>\n",
       "      <td>1</td>\n",
       "      <td>0</td>\n",
       "      <td>0</td>\n",
       "      <td>3</td>\n",
       "      <td>24</td>\n",
       "      <td>0</td>\n",
       "      <td>109.0</td>\n",
       "      <td>9.0</td>\n",
       "      <td>25.0</td>\n",
       "      <td>549.0</td>\n",
       "      <td>44.0</td>\n",
       "      <td>Juanna Vines</td>\n",
       "      <td>1</td>\n",
       "      <td>0</td>\n",
       "      <td>6</td>\n",
       "    </tr>\n",
       "    <tr>\n",
       "      <th>2</th>\n",
       "      <td>0003_01</td>\n",
       "      <td>2</td>\n",
       "      <td>0</td>\n",
       "      <td>0</td>\n",
       "      <td>3</td>\n",
       "      <td>58</td>\n",
       "      <td>1</td>\n",
       "      <td>43.0</td>\n",
       "      <td>3576.0</td>\n",
       "      <td>0.0</td>\n",
       "      <td>6715.0</td>\n",
       "      <td>49.0</td>\n",
       "      <td>Altark Susent</td>\n",
       "      <td>0</td>\n",
       "      <td>0</td>\n",
       "      <td>1</td>\n",
       "    </tr>\n",
       "  </tbody>\n",
       "</table>\n",
       "</div>"
      ],
      "text/plain": [
       "  PassengerId  HomePlanet  CryoSleep Cabin  Destination  Age  VIP  \\\n",
       "0     0001_01           2          0     0            3   39    0   \n",
       "1     0002_01           1          0     0            3   24    0   \n",
       "2     0003_01           2          0     0            3   58    1   \n",
       "\n",
       "   RoomService  FoodCourt  ShoppingMall     Spa  VRDeck             Name  \\\n",
       "0          0.0        0.0           0.0     0.0     0.0  Maham Ofracculy   \n",
       "1        109.0        9.0          25.0   549.0    44.0     Juanna Vines   \n",
       "2         43.0     3576.0           0.0  6715.0    49.0    Altark Susent   \n",
       "\n",
       "   Transported  Port  Place  \n",
       "0            0     1      2  \n",
       "1            1     0      6  \n",
       "2            0     0      1  "
      ]
     },
     "execution_count": 33,
     "metadata": {},
     "output_type": "execute_result"
    }
   ],
   "source": [
    "df['Cabin'] = df['Cabin'].str.split('/').str[1]\n",
    "df.head(3)"
   ]
  },
  {
   "cell_type": "code",
   "execution_count": 34,
   "id": "0bee83e8",
   "metadata": {
    "execution": {
     "iopub.execute_input": "2023-11-26T20:57:26.180238Z",
     "iopub.status.busy": "2023-11-26T20:57:26.179824Z",
     "iopub.status.idle": "2023-11-26T20:57:26.199977Z",
     "shell.execute_reply": "2023-11-26T20:57:26.198615Z"
    },
    "papermill": {
     "duration": 0.055699,
     "end_time": "2023-11-26T20:57:26.202410",
     "exception": false,
     "start_time": "2023-11-26T20:57:26.146711",
     "status": "completed"
    },
    "tags": []
   },
   "outputs": [
    {
     "name": "stdout",
     "output_type": "stream",
     "text": [
      "<class 'pandas.core.frame.DataFrame'>\n",
      "RangeIndex: 8693 entries, 0 to 8692\n",
      "Data columns (total 16 columns):\n",
      " #   Column        Non-Null Count  Dtype  \n",
      "---  ------        --------------  -----  \n",
      " 0   PassengerId   8693 non-null   object \n",
      " 1   HomePlanet    8693 non-null   Int64  \n",
      " 2   CryoSleep     8693 non-null   int64  \n",
      " 3   Cabin         8693 non-null   Int64  \n",
      " 4   Destination   8693 non-null   Int64  \n",
      " 5   Age           8693 non-null   Int64  \n",
      " 6   VIP           8693 non-null   int64  \n",
      " 7   RoomService   8693 non-null   float64\n",
      " 8   FoodCourt     8693 non-null   float64\n",
      " 9   ShoppingMall  8693 non-null   float64\n",
      " 10  Spa           8693 non-null   float64\n",
      " 11  VRDeck        8693 non-null   float64\n",
      " 12  Name          8493 non-null   object \n",
      " 13  Transported   8693 non-null   int64  \n",
      " 14  Port          8693 non-null   int64  \n",
      " 15  Place         8693 non-null   int64  \n",
      "dtypes: Int64(4), float64(5), int64(5), object(2)\n",
      "memory usage: 1.1+ MB\n"
     ]
    }
   ],
   "source": [
    "df['Cabin'] = df['Cabin'].astype('Int64')\n",
    "# #print(len(cabinSet))\n",
    "# #sorted(cabinSet.astype('Int64'))\n",
    "df.info()"
   ]
  },
  {
   "cell_type": "code",
   "execution_count": 35,
   "id": "eb4d68c3",
   "metadata": {
    "execution": {
     "iopub.execute_input": "2023-11-26T20:57:26.268061Z",
     "iopub.status.busy": "2023-11-26T20:57:26.267629Z",
     "iopub.status.idle": "2023-11-26T20:57:26.272829Z",
     "shell.execute_reply": "2023-11-26T20:57:26.271658Z"
    },
    "papermill": {
     "duration": 0.041222,
     "end_time": "2023-11-26T20:57:26.275262",
     "exception": false,
     "start_time": "2023-11-26T20:57:26.234040",
     "status": "completed"
    },
    "tags": []
   },
   "outputs": [],
   "source": [
    "# ids_groups = np.array([i.split(\"_\") for i in df.PassengerId.values])\n",
    "# unique_groups = np.unique(ids_groups[:,0])\n",
    "# group_status = dict()\n",
    "# for i in unique_groups:\n",
    "#     passeng = ids_groups[ids_groups[:,0]==i]\n",
    "#     for j in range(len(passeng)):\n",
    "#         group_status[\"_\".join(passeng[j])]=int(len(passeng)>1)"
   ]
  },
  {
   "cell_type": "code",
   "execution_count": 36,
   "id": "35736ba5",
   "metadata": {
    "execution": {
     "iopub.execute_input": "2023-11-26T20:57:26.340724Z",
     "iopub.status.busy": "2023-11-26T20:57:26.339991Z",
     "iopub.status.idle": "2023-11-26T20:57:26.377194Z",
     "shell.execute_reply": "2023-11-26T20:57:26.376032Z"
    },
    "papermill": {
     "duration": 0.073531,
     "end_time": "2023-11-26T20:57:26.380547",
     "exception": false,
     "start_time": "2023-11-26T20:57:26.307016",
     "status": "completed"
    },
    "tags": []
   },
   "outputs": [
    {
     "name": "stdout",
     "output_type": "stream",
     "text": [
      "<class 'pandas.core.frame.DataFrame'>\n",
      "RangeIndex: 8693 entries, 0 to 8692\n",
      "Data columns (total 17 columns):\n",
      " #   Column        Non-Null Count  Dtype  \n",
      "---  ------        --------------  -----  \n",
      " 0   PassengerId   8693 non-null   object \n",
      " 1   HomePlanet    8693 non-null   Int64  \n",
      " 2   CryoSleep     8693 non-null   int64  \n",
      " 3   Cabin         8693 non-null   Int64  \n",
      " 4   Destination   8693 non-null   Int64  \n",
      " 5   Age           8693 non-null   Int64  \n",
      " 6   VIP           8693 non-null   int64  \n",
      " 7   RoomService   8693 non-null   float64\n",
      " 8   FoodCourt     8693 non-null   float64\n",
      " 9   ShoppingMall  8693 non-null   float64\n",
      " 10  Spa           8693 non-null   float64\n",
      " 11  VRDeck        8693 non-null   float64\n",
      " 12  Name          8493 non-null   object \n",
      " 13  Transported   8693 non-null   int64  \n",
      " 14  Port          8693 non-null   int64  \n",
      " 15  Place         8693 non-null   int64  \n",
      " 16  GroupID       8693 non-null   int64  \n",
      "dtypes: Int64(4), float64(5), int64(6), object(2)\n",
      "memory usage: 1.2+ MB\n"
     ]
    }
   ],
   "source": [
    "ids_groups = np.array([i.split(\"_\") for i in df.PassengerId.values])\n",
    "# unique_groups = np.unique(ids_groups[:,0])\n",
    "df['GroupID'] = df.groupby(ids_groups[:,0]).ngroup()\n",
    "df.info()"
   ]
  },
  {
   "cell_type": "code",
   "execution_count": 37,
   "id": "a33be6de",
   "metadata": {
    "execution": {
     "iopub.execute_input": "2023-11-26T20:57:26.450241Z",
     "iopub.status.busy": "2023-11-26T20:57:26.448775Z",
     "iopub.status.idle": "2023-11-26T20:57:27.605240Z",
     "shell.execute_reply": "2023-11-26T20:57:27.604004Z"
    },
    "papermill": {
     "duration": 1.193694,
     "end_time": "2023-11-26T20:57:27.609208",
     "exception": false,
     "start_time": "2023-11-26T20:57:26.415514",
     "status": "completed"
    },
    "tags": []
   },
   "outputs": [
    {
     "data": {
      "text/plain": [
       "<Axes: >"
      ]
     },
     "execution_count": 37,
     "metadata": {},
     "output_type": "execute_result"
    },
    {
     "data": {
      "image/png": "[encoded data removed]",
      "text/plain": [
       "<Figure size 640x480 with 2 Axes>"
      ]
     },
     "metadata": {},
     "output_type": "display_data"
    }
   ],
   "source": [
    "import seaborn as sb\n",
    "df_num = df.select_dtypes(include=['float64', 'int64'])\n",
    "\n",
    "# Calculate the correlations of numerical columns\n",
    "corr = df_num.corr()\n",
    "\n",
    "sb.heatmap(corr, annot=True)"
   ]
  },
  {
   "cell_type": "code",
   "execution_count": 38,
   "id": "cab06fa4",
   "metadata": {
    "execution": {
     "iopub.execute_input": "2023-11-26T20:57:27.679913Z",
     "iopub.status.busy": "2023-11-26T20:57:27.679496Z",
     "iopub.status.idle": "2023-11-26T20:57:27.684478Z",
     "shell.execute_reply": "2023-11-26T20:57:27.683429Z"
    },
    "papermill": {
     "duration": 0.043587,
     "end_time": "2023-11-26T20:57:27.686793",
     "exception": false,
     "start_time": "2023-11-26T20:57:27.643206",
     "status": "completed"
    },
    "tags": []
   },
   "outputs": [],
   "source": [
    "# mids = sum(df[df.CryoSleep == 0].Non_Spender)\n",
    "# totalAwake = sum(df.CryoSleep == 0)\n",
    "# awakeTransported = sum(df[df.CryoSleep == 0].Transported)\n",
    "# awakeMidTransported = sum(df[(df['CryoSleep'] == 0) & (df['Age'] < 15))]['Transported'])\n",
    "# print(mids/totalAwake,awakeTransported/totalAwake, awakeMidTransported / totalAwake, awakeMidTransported / mids)\n",
    "# print(sum(df[df.Age < 15].CryoSleep == 0))"
   ]
  },
  {
   "cell_type": "code",
   "execution_count": 39,
   "id": "0bd40ec8",
   "metadata": {
    "execution": {
     "iopub.execute_input": "2023-11-26T20:57:27.758014Z",
     "iopub.status.busy": "2023-11-26T20:57:27.757619Z",
     "iopub.status.idle": "2023-11-26T20:57:27.761156Z",
     "shell.execute_reply": "2023-11-26T20:57:27.760402Z"
    },
    "papermill": {
     "duration": 0.042433,
     "end_time": "2023-11-26T20:57:27.763305",
     "exception": false,
     "start_time": "2023-11-26T20:57:27.720872",
     "status": "completed"
    },
    "tags": []
   },
   "outputs": [],
   "source": [
    "# df = df.drop(columns=['Name'])\n",
    "# df.head(3)"
   ]
  },
  {
   "cell_type": "code",
   "execution_count": 40,
   "id": "44a22865",
   "metadata": {
    "execution": {
     "iopub.execute_input": "2023-11-26T20:57:27.832962Z",
     "iopub.status.busy": "2023-11-26T20:57:27.832167Z",
     "iopub.status.idle": "2023-11-26T20:57:27.852607Z",
     "shell.execute_reply": "2023-11-26T20:57:27.851069Z"
    },
    "papermill": {
     "duration": 0.058203,
     "end_time": "2023-11-26T20:57:27.855098",
     "exception": false,
     "start_time": "2023-11-26T20:57:27.796895",
     "status": "completed"
    },
    "tags": []
   },
   "outputs": [
    {
     "name": "stdout",
     "output_type": "stream",
     "text": [
      "less than: 10 years:  483 679\n",
      "higher than: 10 years:  3870 7975\n"
     ]
    }
   ],
   "source": [
    "age = 10\n",
    "print('less than:',age,'years: ', sum(df[df.Age < age].Transported),sum(df.Age < age))\n",
    "print('higher than:',age,'years: ', sum(df[df.Age > age].Transported),sum(df.Age > age))"
   ]
  },
  {
   "cell_type": "code",
   "execution_count": 41,
   "id": "071e50f6",
   "metadata": {
    "execution": {
     "iopub.execute_input": "2023-11-26T20:57:27.929670Z",
     "iopub.status.busy": "2023-11-26T20:57:27.928865Z",
     "iopub.status.idle": "2023-11-26T20:57:27.950973Z",
     "shell.execute_reply": "2023-11-26T20:57:27.949632Z"
    },
    "papermill": {
     "duration": 0.063286,
     "end_time": "2023-11-26T20:57:27.953606",
     "exception": false,
     "start_time": "2023-11-26T20:57:27.890320",
     "status": "completed"
    },
    "tags": []
   },
   "outputs": [
    {
     "data": {
      "text/html": [
       "<div>\n",
       "<style scoped>\n",
       "    .dataframe tbody tr th:only-of-type {\n",
       "        vertical-align: middle;\n",
       "    }\n",
       "\n",
       "    .dataframe tbody tr th {\n",
       "        vertical-align: top;\n",
       "    }\n",
       "\n",
       "    .dataframe thead th {\n",
       "        text-align: right;\n",
       "    }\n",
       "</style>\n",
       "<table border=\"1\" class=\"dataframe\">\n",
       "  <thead>\n",
       "    <tr style=\"text-align: right;\">\n",
       "      <th></th>\n",
       "      <th>PassengerId</th>\n",
       "      <th>HomePlanet</th>\n",
       "      <th>CryoSleep</th>\n",
       "      <th>Cabin</th>\n",
       "      <th>Destination</th>\n",
       "      <th>Age</th>\n",
       "      <th>VIP</th>\n",
       "      <th>RoomService</th>\n",
       "      <th>FoodCourt</th>\n",
       "      <th>ShoppingMall</th>\n",
       "      <th>Spa</th>\n",
       "      <th>VRDeck</th>\n",
       "      <th>Name</th>\n",
       "      <th>Transported</th>\n",
       "      <th>Port</th>\n",
       "      <th>Place</th>\n",
       "      <th>GroupID</th>\n",
       "    </tr>\n",
       "  </thead>\n",
       "  <tbody>\n",
       "    <tr>\n",
       "      <th>0</th>\n",
       "      <td>0001_01</td>\n",
       "      <td>2</td>\n",
       "      <td>0</td>\n",
       "      <td>0</td>\n",
       "      <td>3</td>\n",
       "      <td>39</td>\n",
       "      <td>0</td>\n",
       "      <td>0.0</td>\n",
       "      <td>0.0</td>\n",
       "      <td>0.0</td>\n",
       "      <td>0.0</td>\n",
       "      <td>0.0</td>\n",
       "      <td>Maham Ofracculy</td>\n",
       "      <td>0</td>\n",
       "      <td>1</td>\n",
       "      <td>2</td>\n",
       "      <td>0</td>\n",
       "    </tr>\n",
       "    <tr>\n",
       "      <th>1</th>\n",
       "      <td>0002_01</td>\n",
       "      <td>1</td>\n",
       "      <td>0</td>\n",
       "      <td>0</td>\n",
       "      <td>3</td>\n",
       "      <td>24</td>\n",
       "      <td>0</td>\n",
       "      <td>109.0</td>\n",
       "      <td>9.0</td>\n",
       "      <td>25.0</td>\n",
       "      <td>549.0</td>\n",
       "      <td>44.0</td>\n",
       "      <td>Juanna Vines</td>\n",
       "      <td>1</td>\n",
       "      <td>0</td>\n",
       "      <td>6</td>\n",
       "      <td>1</td>\n",
       "    </tr>\n",
       "    <tr>\n",
       "      <th>2</th>\n",
       "      <td>0003_01</td>\n",
       "      <td>2</td>\n",
       "      <td>0</td>\n",
       "      <td>0</td>\n",
       "      <td>3</td>\n",
       "      <td>58</td>\n",
       "      <td>1</td>\n",
       "      <td>43.0</td>\n",
       "      <td>3576.0</td>\n",
       "      <td>0.0</td>\n",
       "      <td>6715.0</td>\n",
       "      <td>49.0</td>\n",
       "      <td>Altark Susent</td>\n",
       "      <td>0</td>\n",
       "      <td>0</td>\n",
       "      <td>1</td>\n",
       "      <td>2</td>\n",
       "    </tr>\n",
       "  </tbody>\n",
       "</table>\n",
       "</div>"
      ],
      "text/plain": [
       "  PassengerId  HomePlanet  CryoSleep  Cabin  Destination  Age  VIP  \\\n",
       "0     0001_01           2          0      0            3   39    0   \n",
       "1     0002_01           1          0      0            3   24    0   \n",
       "2     0003_01           2          0      0            3   58    1   \n",
       "\n",
       "   RoomService  FoodCourt  ShoppingMall     Spa  VRDeck             Name  \\\n",
       "0          0.0        0.0           0.0     0.0     0.0  Maham Ofracculy   \n",
       "1        109.0        9.0          25.0   549.0    44.0     Juanna Vines   \n",
       "2         43.0     3576.0           0.0  6715.0    49.0    Altark Susent   \n",
       "\n",
       "   Transported  Port  Place  GroupID  \n",
       "0            0     1      2        0  \n",
       "1            1     0      6        1  \n",
       "2            0     0      1        2  "
      ]
     },
     "execution_count": 41,
     "metadata": {},
     "output_type": "execute_result"
    }
   ],
   "source": [
    "# df['Aged'] = np.where(df.Age > 15, 1,0)\n",
    "# AgedCol = df.pop(\"Aged\")\n",
    "# df.insert(14, \"Aged\", AgedCol)\n",
    "df.head(3)"
   ]
  },
  {
   "cell_type": "code",
   "execution_count": 42,
   "id": "ebc12e52",
   "metadata": {
    "execution": {
     "iopub.execute_input": "2023-11-26T20:57:28.026894Z",
     "iopub.status.busy": "2023-11-26T20:57:28.026149Z",
     "iopub.status.idle": "2023-11-26T20:57:28.049397Z",
     "shell.execute_reply": "2023-11-26T20:57:28.048197Z"
    },
    "papermill": {
     "duration": 0.062822,
     "end_time": "2023-11-26T20:57:28.051708",
     "exception": false,
     "start_time": "2023-11-26T20:57:27.988886",
     "status": "completed"
    },
    "tags": []
   },
   "outputs": [
    {
     "data": {
      "text/html": [
       "<div>\n",
       "<style scoped>\n",
       "    .dataframe tbody tr th:only-of-type {\n",
       "        vertical-align: middle;\n",
       "    }\n",
       "\n",
       "    .dataframe tbody tr th {\n",
       "        vertical-align: top;\n",
       "    }\n",
       "\n",
       "    .dataframe thead th {\n",
       "        text-align: right;\n",
       "    }\n",
       "</style>\n",
       "<table border=\"1\" class=\"dataframe\">\n",
       "  <thead>\n",
       "    <tr style=\"text-align: right;\">\n",
       "      <th></th>\n",
       "      <th>HomePlanet</th>\n",
       "      <th>CryoSleep</th>\n",
       "      <th>Cabin</th>\n",
       "      <th>Destination</th>\n",
       "      <th>Age</th>\n",
       "      <th>RoomService</th>\n",
       "      <th>FoodCourt</th>\n",
       "      <th>ShoppingMall</th>\n",
       "      <th>Spa</th>\n",
       "      <th>VRDeck</th>\n",
       "      <th>Port</th>\n",
       "      <th>Place</th>\n",
       "      <th>GroupID</th>\n",
       "    </tr>\n",
       "  </thead>\n",
       "  <tbody>\n",
       "    <tr>\n",
       "      <th>0</th>\n",
       "      <td>2</td>\n",
       "      <td>0</td>\n",
       "      <td>0</td>\n",
       "      <td>3</td>\n",
       "      <td>39</td>\n",
       "      <td>0.0</td>\n",
       "      <td>0.0</td>\n",
       "      <td>0.0</td>\n",
       "      <td>0.0</td>\n",
       "      <td>0.0</td>\n",
       "      <td>1</td>\n",
       "      <td>2</td>\n",
       "      <td>0</td>\n",
       "    </tr>\n",
       "    <tr>\n",
       "      <th>1</th>\n",
       "      <td>1</td>\n",
       "      <td>0</td>\n",
       "      <td>0</td>\n",
       "      <td>3</td>\n",
       "      <td>24</td>\n",
       "      <td>109.0</td>\n",
       "      <td>9.0</td>\n",
       "      <td>25.0</td>\n",
       "      <td>549.0</td>\n",
       "      <td>44.0</td>\n",
       "      <td>0</td>\n",
       "      <td>6</td>\n",
       "      <td>1</td>\n",
       "    </tr>\n",
       "    <tr>\n",
       "      <th>2</th>\n",
       "      <td>2</td>\n",
       "      <td>0</td>\n",
       "      <td>0</td>\n",
       "      <td>3</td>\n",
       "      <td>58</td>\n",
       "      <td>43.0</td>\n",
       "      <td>3576.0</td>\n",
       "      <td>0.0</td>\n",
       "      <td>6715.0</td>\n",
       "      <td>49.0</td>\n",
       "      <td>0</td>\n",
       "      <td>1</td>\n",
       "      <td>2</td>\n",
       "    </tr>\n",
       "  </tbody>\n",
       "</table>\n",
       "</div>"
      ],
      "text/plain": [
       "   HomePlanet  CryoSleep  Cabin  Destination  Age  RoomService  FoodCourt  \\\n",
       "0           2          0      0            3   39          0.0        0.0   \n",
       "1           1          0      0            3   24        109.0        9.0   \n",
       "2           2          0      0            3   58         43.0     3576.0   \n",
       "\n",
       "   ShoppingMall     Spa  VRDeck  Port  Place  GroupID  \n",
       "0           0.0     0.0     0.0     1      2        0  \n",
       "1          25.0   549.0    44.0     0      6        1  \n",
       "2           0.0  6715.0    49.0     0      1        2  "
      ]
     },
     "execution_count": 42,
     "metadata": {},
     "output_type": "execute_result"
    }
   ],
   "source": [
    "newtrainDF = df\n",
    "ids = newtrainDF['PassengerId'].copy()\n",
    "transporteds = newtrainDF['Transported'].copy()\n",
    "newtrainDF = newtrainDF.drop(columns=['PassengerId','Name','VIP','Transported'])\n",
    "newtrainDF.head(3)"
   ]
  },
  {
   "cell_type": "code",
   "execution_count": 43,
   "id": "8ba3550b",
   "metadata": {
    "execution": {
     "iopub.execute_input": "2023-11-26T20:57:28.123563Z",
     "iopub.status.busy": "2023-11-26T20:57:28.123176Z",
     "iopub.status.idle": "2023-11-26T20:57:28.136919Z",
     "shell.execute_reply": "2023-11-26T20:57:28.135989Z"
    },
    "papermill": {
     "duration": 0.052642,
     "end_time": "2023-11-26T20:57:28.139173",
     "exception": false,
     "start_time": "2023-11-26T20:57:28.086531",
     "status": "completed"
    },
    "tags": []
   },
   "outputs": [
    {
     "name": "stdout",
     "output_type": "stream",
     "text": [
      "<class 'pandas.core.frame.DataFrame'>\n",
      "RangeIndex: 8693 entries, 0 to 8692\n",
      "Data columns (total 13 columns):\n",
      " #   Column        Non-Null Count  Dtype  \n",
      "---  ------        --------------  -----  \n",
      " 0   HomePlanet    8693 non-null   Int64  \n",
      " 1   CryoSleep     8693 non-null   int64  \n",
      " 2   Cabin         8693 non-null   Int64  \n",
      " 3   Destination   8693 non-null   Int64  \n",
      " 4   Age           8693 non-null   Int64  \n",
      " 5   RoomService   8693 non-null   float64\n",
      " 6   FoodCourt     8693 non-null   float64\n",
      " 7   ShoppingMall  8693 non-null   float64\n",
      " 8   Spa           8693 non-null   float64\n",
      " 9   VRDeck        8693 non-null   float64\n",
      " 10  Port          8693 non-null   int64  \n",
      " 11  Place         8693 non-null   int64  \n",
      " 12  GroupID       8693 non-null   int64  \n",
      "dtypes: Int64(4), float64(5), int64(4)\n",
      "memory usage: 917.0 KB\n"
     ]
    }
   ],
   "source": [
    "newtrainDF.info()"
   ]
  },
  {
   "cell_type": "code",
   "execution_count": 44,
   "id": "4bf5aef9",
   "metadata": {
    "execution": {
     "iopub.execute_input": "2023-11-26T20:57:28.212158Z",
     "iopub.status.busy": "2023-11-26T20:57:28.211465Z",
     "iopub.status.idle": "2023-11-26T20:57:28.215661Z",
     "shell.execute_reply": "2023-11-26T20:57:28.214933Z"
    },
    "papermill": {
     "duration": 0.043837,
     "end_time": "2023-11-26T20:57:28.217833",
     "exception": false,
     "start_time": "2023-11-26T20:57:28.173996",
     "status": "completed"
    },
    "tags": []
   },
   "outputs": [],
   "source": [
    "# from sklearn.model_selection import train_test_split\n",
    "# X_train, X_test, y_train, y_test = train_test_split(newtrainDF.drop('Transported',axis=1), \n",
    "#                                                   df['Transported'], test_size=0.30, \n",
    "#                                                     random_state=101)\n",
    "# newtrainDF.head(1)"
   ]
  },
  {
   "cell_type": "code",
   "execution_count": 45,
   "id": "7a1d24c9",
   "metadata": {
    "execution": {
     "iopub.execute_input": "2023-11-26T20:57:28.290268Z",
     "iopub.status.busy": "2023-11-26T20:57:28.289823Z",
     "iopub.status.idle": "2023-11-26T20:57:30.551935Z",
     "shell.execute_reply": "2023-11-26T20:57:30.550390Z"
    },
    "papermill": {
     "duration": 2.302455,
     "end_time": "2023-11-26T20:57:30.555851",
     "exception": false,
     "start_time": "2023-11-26T20:57:28.253396",
     "status": "completed"
    },
    "tags": []
   },
   "outputs": [
    {
     "data": {
      "text/html": [
       "<style>#sk-container-id-1 {color: black;background-color: white;}#sk-container-id-1 pre{padding: 0;}#sk-container-id-1 div.sk-toggleable {background-color: white;}#sk-container-id-1 label.sk-toggleable__label {cursor: pointer;display: block;width: 100%;margin-bottom: 0;padding: 0.3em;box-sizing: border-box;text-align: center;}#sk-container-id-1 label.sk-toggleable__label-arrow:before {content: \"▸\";float: left;margin-right: 0.25em;color: #696969;}#sk-container-id-1 label.sk-toggleable__label-arrow:hover:before {color: black;}#sk-container-id-1 div.sk-estimator:hover label.sk-toggleable__label-arrow:before {color: black;}#sk-container-id-1 div.sk-toggleable__content {max-height: 0;max-width: 0;overflow: hidden;text-align: left;background-color: #f0f8ff;}#sk-container-id-1 div.sk-toggleable__content pre {margin: 0.2em;color: black;border-radius: 0.25em;background-color: #f0f8ff;}#sk-container-id-1 input.sk-toggleable__control:checked~div.sk-toggleable__content {max-height: 200px;max-width: 100%;overflow: auto;}#sk-container-id-1 input.sk-toggleable__control:checked~label.sk-toggleable__label-arrow:before {content: \"▾\";}#sk-container-id-1 div.sk-estimator input.sk-toggleable__control:checked~label.sk-toggleable__label {background-color: #d4ebff;}#sk-container-id-1 div.sk-label input.sk-toggleable__control:checked~label.sk-toggleable__label {background-color: #d4ebff;}#sk-container-id-1 input.sk-hidden--visually {border: 0;clip: rect(1px 1px 1px 1px);clip: rect(1px, 1px, 1px, 1px);height: 1px;margin: -1px;overflow: hidden;padding: 0;position: absolute;width: 1px;}#sk-container-id-1 div.sk-estimator {font-family: monospace;background-color: #f0f8ff;border: 1px dotted black;border-radius: 0.25em;box-sizing: border-box;margin-bottom: 0.5em;}#sk-container-id-1 div.sk-estimator:hover {background-color: #d4ebff;}#sk-container-id-1 div.sk-parallel-item::after {content: \"\";width: 100%;border-bottom: 1px solid gray;flex-grow: 1;}#sk-container-id-1 div.sk-label:hover label.sk-toggleable__label {background-color: #d4ebff;}#sk-container-id-1 div.sk-serial::before {content: \"\";position: absolute;border-left: 1px solid gray;box-sizing: border-box;top: 0;bottom: 0;left: 50%;z-index: 0;}#sk-container-id-1 div.sk-serial {display: flex;flex-direction: column;align-items: center;background-color: white;padding-right: 0.2em;padding-left: 0.2em;position: relative;}#sk-container-id-1 div.sk-item {position: relative;z-index: 1;}#sk-container-id-1 div.sk-parallel {display: flex;align-items: stretch;justify-content: center;background-color: white;position: relative;}#sk-container-id-1 div.sk-item::before, #sk-container-id-1 div.sk-parallel-item::before {content: \"\";position: absolute;border-left: 1px solid gray;box-sizing: border-box;top: 0;bottom: 0;left: 50%;z-index: -1;}#sk-container-id-1 div.sk-parallel-item {display: flex;flex-direction: column;z-index: 1;position: relative;background-color: white;}#sk-container-id-1 div.sk-parallel-item:first-child::after {align-self: flex-end;width: 50%;}#sk-container-id-1 div.sk-parallel-item:last-child::after {align-self: flex-start;width: 50%;}#sk-container-id-1 div.sk-parallel-item:only-child::after {width: 0;}#sk-container-id-1 div.sk-dashed-wrapped {border: 1px dashed gray;margin: 0 0.4em 0.5em 0.4em;box-sizing: border-box;padding-bottom: 0.4em;background-color: white;}#sk-container-id-1 div.sk-label label {font-family: monospace;font-weight: bold;display: inline-block;line-height: 1.2em;}#sk-container-id-1 div.sk-label-container {text-align: center;}#sk-container-id-1 div.sk-container {/* jupyter's `normalize.less` sets `[hidden] { display: none; }` but bootstrap.min.css set `[hidden] { display: none !important; }` so we also need the `!important` here to be able to override the default hidden behavior on the sphinx rendered scikit-learn.org. See: https://github.com/scikit-learn/scikit-learn/issues/21755 */display: inline-block !important;position: relative;}#sk-container-id-1 div.sk-text-repr-fallback {display: none;}</style><div id=\"sk-container-id-1\" class=\"sk-top-container\"><div class=\"sk-text-repr-fallback\"><pre>LogisticRegression(max_iter=10000)</pre><b>In a Jupyter environment, please rerun this cell to show the HTML representation or trust the notebook. <br />On GitHub, the HTML representation is unable to render, please try loading this page with nbviewer.org.</b></div><div class=\"sk-container\" hidden><div class=\"sk-item\"><div class=\"sk-estimator sk-toggleable\"><input class=\"sk-toggleable__control sk-hidden--visually\" id=\"sk-estimator-id-1\" type=\"checkbox\" checked><label for=\"sk-estimator-id-1\" class=\"sk-toggleable__label sk-toggleable__label-arrow\">LogisticRegression</label><div class=\"sk-toggleable__content\"><pre>LogisticRegression(max_iter=10000)</pre></div></div></div></div></div>"
      ],
      "text/plain": [
       "LogisticRegression(max_iter=10000)"
      ]
     },
     "execution_count": 45,
     "metadata": {},
     "output_type": "execute_result"
    }
   ],
   "source": [
    "from sklearn.linear_model import LogisticRegression\n",
    "logmodel = LogisticRegression(max_iter=10000)\n",
    "logmodel.fit(newtrainDF, transporteds)"
   ]
  },
  {
   "cell_type": "code",
   "execution_count": 46,
   "id": "dcd96656",
   "metadata": {
    "execution": {
     "iopub.execute_input": "2023-11-26T20:57:30.682256Z",
     "iopub.status.busy": "2023-11-26T20:57:30.681858Z",
     "iopub.status.idle": "2023-11-26T20:57:30.723488Z",
     "shell.execute_reply": "2023-11-26T20:57:30.721885Z"
    },
    "papermill": {
     "duration": 0.091674,
     "end_time": "2023-11-26T20:57:30.726453",
     "exception": false,
     "start_time": "2023-11-26T20:57:30.634779",
     "status": "completed"
    },
    "tags": []
   },
   "outputs": [
    {
     "name": "stdout",
     "output_type": "stream",
     "text": [
      "<class 'pandas.core.frame.DataFrame'>\n",
      "RangeIndex: 4277 entries, 0 to 4276\n",
      "Data columns (total 13 columns):\n",
      " #   Column        Non-Null Count  Dtype  \n",
      "---  ------        --------------  -----  \n",
      " 0   PassengerId   4277 non-null   object \n",
      " 1   HomePlanet    4190 non-null   object \n",
      " 2   CryoSleep     4184 non-null   object \n",
      " 3   Cabin         4177 non-null   object \n",
      " 4   Destination   4185 non-null   object \n",
      " 5   Age           4186 non-null   float64\n",
      " 6   VIP           4184 non-null   object \n",
      " 7   RoomService   4195 non-null   float64\n",
      " 8   FoodCourt     4171 non-null   float64\n",
      " 9   ShoppingMall  4179 non-null   float64\n",
      " 10  Spa           4176 non-null   float64\n",
      " 11  VRDeck        4197 non-null   float64\n",
      " 12  Name          4183 non-null   object \n",
      "dtypes: float64(6), object(7)\n",
      "memory usage: 434.5+ KB\n"
     ]
    }
   ],
   "source": [
    "df_test = pd.read_csv(\"/kaggle/input/spaceship-titanic/test.csv\")\n",
    "ids_test = df_test['PassengerId'].copy()\n",
    "# # Removing NANs\n",
    "# df_test[\"CryoSleep\"].fillna(df_test[\"CryoSleep\"].mode()[0],inplace=True)\n",
    "# df_test[\"Age\"].fillna(df_test[\"Age\"].mean(),inplace=True)\n",
    "# df_test[\"RoomService\"].fillna(df_test[\"RoomService\"].mean(),inplace=True)\n",
    "# df_test[\"FoodCourt\"].fillna(df_test[\"FoodCourt\"].mean(),inplace=True)\n",
    "# df_test[\"ShoppingMall\"].fillna(df_test[\"ShoppingMall\"].mean(),inplace=True)\n",
    "# df_test[\"Spa\"].fillna(df_test[\"Spa\"].mean(),inplace=True)\n",
    "# df_test[\"VRDeck\"].fillna(df_test[\"VRDeck\"].mean(),inplace=True)\n",
    "# df_test.VIP = np.where(df_test.VIP,1,0)\n",
    "# df_test.CryoSleep = np.where(df_test.CryoSleep,1,0)\n",
    "# df_test = df_test.drop([\"Name\",\"HomePlanet\",\"Destination\",\"Cabin\"], axis='columns')\n",
    "df_test.info()"
   ]
  },
  {
   "cell_type": "code",
   "execution_count": 47,
   "id": "209ea0cd",
   "metadata": {
    "execution": {
     "iopub.execute_input": "2023-11-26T20:57:30.800880Z",
     "iopub.status.busy": "2023-11-26T20:57:30.799822Z",
     "iopub.status.idle": "2023-11-26T20:57:30.827718Z",
     "shell.execute_reply": "2023-11-26T20:57:30.826644Z"
    },
    "papermill": {
     "duration": 0.067693,
     "end_time": "2023-11-26T20:57:30.830148",
     "exception": false,
     "start_time": "2023-11-26T20:57:30.762455",
     "status": "completed"
    },
    "tags": []
   },
   "outputs": [
    {
     "data": {
      "text/html": [
       "<div>\n",
       "<style scoped>\n",
       "    .dataframe tbody tr th:only-of-type {\n",
       "        vertical-align: middle;\n",
       "    }\n",
       "\n",
       "    .dataframe tbody tr th {\n",
       "        vertical-align: top;\n",
       "    }\n",
       "\n",
       "    .dataframe thead th {\n",
       "        text-align: right;\n",
       "    }\n",
       "</style>\n",
       "<table border=\"1\" class=\"dataframe\">\n",
       "  <thead>\n",
       "    <tr style=\"text-align: right;\">\n",
       "      <th></th>\n",
       "      <th>PassengerId</th>\n",
       "      <th>HomePlanet</th>\n",
       "      <th>CryoSleep</th>\n",
       "      <th>Cabin</th>\n",
       "      <th>Destination</th>\n",
       "      <th>Age</th>\n",
       "      <th>VIP</th>\n",
       "      <th>RoomService</th>\n",
       "      <th>FoodCourt</th>\n",
       "      <th>ShoppingMall</th>\n",
       "      <th>Spa</th>\n",
       "      <th>VRDeck</th>\n",
       "      <th>Name</th>\n",
       "    </tr>\n",
       "  </thead>\n",
       "  <tbody>\n",
       "    <tr>\n",
       "      <th>0</th>\n",
       "      <td>0013_01</td>\n",
       "      <td>Earth</td>\n",
       "      <td>1.0</td>\n",
       "      <td>G/3/S</td>\n",
       "      <td>TRAPPIST-1e</td>\n",
       "      <td>27.0</td>\n",
       "      <td>False</td>\n",
       "      <td>0.0</td>\n",
       "      <td>0.0</td>\n",
       "      <td>0.0</td>\n",
       "      <td>0.0</td>\n",
       "      <td>0.0</td>\n",
       "      <td>Nelly Carsoning</td>\n",
       "    </tr>\n",
       "    <tr>\n",
       "      <th>1</th>\n",
       "      <td>0018_01</td>\n",
       "      <td>Earth</td>\n",
       "      <td>0.0</td>\n",
       "      <td>F/4/S</td>\n",
       "      <td>TRAPPIST-1e</td>\n",
       "      <td>19.0</td>\n",
       "      <td>False</td>\n",
       "      <td>0.0</td>\n",
       "      <td>9.0</td>\n",
       "      <td>0.0</td>\n",
       "      <td>2823.0</td>\n",
       "      <td>0.0</td>\n",
       "      <td>Lerome Peckers</td>\n",
       "    </tr>\n",
       "    <tr>\n",
       "      <th>2</th>\n",
       "      <td>0019_01</td>\n",
       "      <td>Europa</td>\n",
       "      <td>1.0</td>\n",
       "      <td>C/0/S</td>\n",
       "      <td>55 Cancri e</td>\n",
       "      <td>31.0</td>\n",
       "      <td>False</td>\n",
       "      <td>0.0</td>\n",
       "      <td>0.0</td>\n",
       "      <td>0.0</td>\n",
       "      <td>0.0</td>\n",
       "      <td>0.0</td>\n",
       "      <td>Sabih Unhearfus</td>\n",
       "    </tr>\n",
       "  </tbody>\n",
       "</table>\n",
       "</div>"
      ],
      "text/plain": [
       "  PassengerId HomePlanet  CryoSleep  Cabin  Destination   Age    VIP  \\\n",
       "0     0013_01      Earth        1.0  G/3/S  TRAPPIST-1e  27.0  False   \n",
       "1     0018_01      Earth        0.0  F/4/S  TRAPPIST-1e  19.0  False   \n",
       "2     0019_01     Europa        1.0  C/0/S  55 Cancri e  31.0  False   \n",
       "\n",
       "   RoomService  FoodCourt  ShoppingMall     Spa  VRDeck             Name  \n",
       "0          0.0        0.0           0.0     0.0     0.0  Nelly Carsoning  \n",
       "1          0.0        9.0           0.0  2823.0     0.0   Lerome Peckers  \n",
       "2          0.0        0.0           0.0     0.0     0.0  Sabih Unhearfus  "
      ]
     },
     "execution_count": 47,
     "metadata": {},
     "output_type": "execute_result"
    }
   ],
   "source": [
    "df_test['CryoSleep'] = df_test['CryoSleep'].replace({True: 1, False: 0})\n",
    "df_test.head(3)"
   ]
  },
  {
   "cell_type": "code",
   "execution_count": 48,
   "id": "24b9cd52",
   "metadata": {
    "execution": {
     "iopub.execute_input": "2023-11-26T20:57:30.905222Z",
     "iopub.status.busy": "2023-11-26T20:57:30.904794Z",
     "iopub.status.idle": "2023-11-26T20:57:30.934861Z",
     "shell.execute_reply": "2023-11-26T20:57:30.933557Z"
    },
    "papermill": {
     "duration": 0.07062,
     "end_time": "2023-11-26T20:57:30.937492",
     "exception": false,
     "start_time": "2023-11-26T20:57:30.866872",
     "status": "completed"
    },
    "tags": []
   },
   "outputs": [
    {
     "data": {
      "text/html": [
       "<div>\n",
       "<style scoped>\n",
       "    .dataframe tbody tr th:only-of-type {\n",
       "        vertical-align: middle;\n",
       "    }\n",
       "\n",
       "    .dataframe tbody tr th {\n",
       "        vertical-align: top;\n",
       "    }\n",
       "\n",
       "    .dataframe thead th {\n",
       "        text-align: right;\n",
       "    }\n",
       "</style>\n",
       "<table border=\"1\" class=\"dataframe\">\n",
       "  <thead>\n",
       "    <tr style=\"text-align: right;\">\n",
       "      <th></th>\n",
       "      <th>PassengerId</th>\n",
       "      <th>HomePlanet</th>\n",
       "      <th>CryoSleep</th>\n",
       "      <th>Cabin</th>\n",
       "      <th>Destination</th>\n",
       "      <th>Age</th>\n",
       "      <th>VIP</th>\n",
       "      <th>RoomService</th>\n",
       "      <th>FoodCourt</th>\n",
       "      <th>ShoppingMall</th>\n",
       "      <th>Spa</th>\n",
       "      <th>VRDeck</th>\n",
       "      <th>Name</th>\n",
       "    </tr>\n",
       "  </thead>\n",
       "  <tbody>\n",
       "    <tr>\n",
       "      <th>0</th>\n",
       "      <td>0013_01</td>\n",
       "      <td>1.0</td>\n",
       "      <td>1.0</td>\n",
       "      <td>G/3/S</td>\n",
       "      <td>TRAPPIST-1e</td>\n",
       "      <td>27.0</td>\n",
       "      <td>False</td>\n",
       "      <td>0.0</td>\n",
       "      <td>0.0</td>\n",
       "      <td>0.0</td>\n",
       "      <td>0.0</td>\n",
       "      <td>0.0</td>\n",
       "      <td>Nelly Carsoning</td>\n",
       "    </tr>\n",
       "    <tr>\n",
       "      <th>1</th>\n",
       "      <td>0018_01</td>\n",
       "      <td>1.0</td>\n",
       "      <td>0.0</td>\n",
       "      <td>F/4/S</td>\n",
       "      <td>TRAPPIST-1e</td>\n",
       "      <td>19.0</td>\n",
       "      <td>False</td>\n",
       "      <td>0.0</td>\n",
       "      <td>9.0</td>\n",
       "      <td>0.0</td>\n",
       "      <td>2823.0</td>\n",
       "      <td>0.0</td>\n",
       "      <td>Lerome Peckers</td>\n",
       "    </tr>\n",
       "    <tr>\n",
       "      <th>2</th>\n",
       "      <td>0019_01</td>\n",
       "      <td>2.0</td>\n",
       "      <td>1.0</td>\n",
       "      <td>C/0/S</td>\n",
       "      <td>55 Cancri e</td>\n",
       "      <td>31.0</td>\n",
       "      <td>False</td>\n",
       "      <td>0.0</td>\n",
       "      <td>0.0</td>\n",
       "      <td>0.0</td>\n",
       "      <td>0.0</td>\n",
       "      <td>0.0</td>\n",
       "      <td>Sabih Unhearfus</td>\n",
       "    </tr>\n",
       "  </tbody>\n",
       "</table>\n",
       "</div>"
      ],
      "text/plain": [
       "  PassengerId  HomePlanet  CryoSleep  Cabin  Destination   Age    VIP  \\\n",
       "0     0013_01         1.0        1.0  G/3/S  TRAPPIST-1e  27.0  False   \n",
       "1     0018_01         1.0        0.0  F/4/S  TRAPPIST-1e  19.0  False   \n",
       "2     0019_01         2.0        1.0  C/0/S  55 Cancri e  31.0  False   \n",
       "\n",
       "   RoomService  FoodCourt  ShoppingMall     Spa  VRDeck             Name  \n",
       "0          0.0        0.0           0.0     0.0     0.0  Nelly Carsoning  \n",
       "1          0.0        9.0           0.0  2823.0     0.0   Lerome Peckers  \n",
       "2          0.0        0.0           0.0     0.0     0.0  Sabih Unhearfus  "
      ]
     },
     "execution_count": 48,
     "metadata": {},
     "output_type": "execute_result"
    }
   ],
   "source": [
    "df_test['HomePlanet'].replace('Earth', 1, inplace=True)\n",
    "df_test['HomePlanet'].replace('Europa', 2, inplace=True)\n",
    "df_test['HomePlanet'].replace('Mars', 3, inplace=True)\n",
    "df_test.head(3)"
   ]
  },
  {
   "cell_type": "code",
   "execution_count": 49,
   "id": "bfbc95d6",
   "metadata": {
    "execution": {
     "iopub.execute_input": "2023-11-26T20:57:31.012841Z",
     "iopub.status.busy": "2023-11-26T20:57:31.012447Z",
     "iopub.status.idle": "2023-11-26T20:57:31.038552Z",
     "shell.execute_reply": "2023-11-26T20:57:31.037192Z"
    },
    "papermill": {
     "duration": 0.067007,
     "end_time": "2023-11-26T20:57:31.041368",
     "exception": false,
     "start_time": "2023-11-26T20:57:30.974361",
     "status": "completed"
    },
    "tags": []
   },
   "outputs": [
    {
     "data": {
      "text/html": [
       "<div>\n",
       "<style scoped>\n",
       "    .dataframe tbody tr th:only-of-type {\n",
       "        vertical-align: middle;\n",
       "    }\n",
       "\n",
       "    .dataframe tbody tr th {\n",
       "        vertical-align: top;\n",
       "    }\n",
       "\n",
       "    .dataframe thead th {\n",
       "        text-align: right;\n",
       "    }\n",
       "</style>\n",
       "<table border=\"1\" class=\"dataframe\">\n",
       "  <thead>\n",
       "    <tr style=\"text-align: right;\">\n",
       "      <th></th>\n",
       "      <th>PassengerId</th>\n",
       "      <th>HomePlanet</th>\n",
       "      <th>CryoSleep</th>\n",
       "      <th>Cabin</th>\n",
       "      <th>Destination</th>\n",
       "      <th>Age</th>\n",
       "      <th>VIP</th>\n",
       "      <th>RoomService</th>\n",
       "      <th>FoodCourt</th>\n",
       "      <th>ShoppingMall</th>\n",
       "      <th>Spa</th>\n",
       "      <th>VRDeck</th>\n",
       "      <th>Name</th>\n",
       "    </tr>\n",
       "  </thead>\n",
       "  <tbody>\n",
       "    <tr>\n",
       "      <th>0</th>\n",
       "      <td>0013_01</td>\n",
       "      <td>1.0</td>\n",
       "      <td>1.0</td>\n",
       "      <td>G/3/S</td>\n",
       "      <td>3.0</td>\n",
       "      <td>27.0</td>\n",
       "      <td>False</td>\n",
       "      <td>0.0</td>\n",
       "      <td>0.0</td>\n",
       "      <td>0.0</td>\n",
       "      <td>0.0</td>\n",
       "      <td>0.0</td>\n",
       "      <td>Nelly Carsoning</td>\n",
       "    </tr>\n",
       "  </tbody>\n",
       "</table>\n",
       "</div>"
      ],
      "text/plain": [
       "  PassengerId  HomePlanet  CryoSleep  Cabin  Destination   Age    VIP  \\\n",
       "0     0013_01         1.0        1.0  G/3/S          3.0  27.0  False   \n",
       "\n",
       "   RoomService  FoodCourt  ShoppingMall  Spa  VRDeck             Name  \n",
       "0          0.0        0.0           0.0  0.0     0.0  Nelly Carsoning  "
      ]
     },
     "execution_count": 49,
     "metadata": {},
     "output_type": "execute_result"
    }
   ],
   "source": [
    "df_test['Destination'].replace('55 Cancri e', 1, inplace=True)\n",
    "df_test['Destination'].replace('PSO J318.5-22', 2, inplace=True)\n",
    "df_test['Destination'].replace('TRAPPIST-1e', 3, inplace=True)\n",
    "# Calculate mean\n",
    "#df_test['Mean_luxury'] = df_test[['RoomService', 'FoodCourt', 'ShoppingMall', 'Spa', 'VRDeck']].mean(axis=1)\n",
    "df_test.head(1)"
   ]
  },
  {
   "cell_type": "code",
   "execution_count": 50,
   "id": "6124125b",
   "metadata": {
    "execution": {
     "iopub.execute_input": "2023-11-26T20:57:31.118903Z",
     "iopub.status.busy": "2023-11-26T20:57:31.118486Z",
     "iopub.status.idle": "2023-11-26T20:57:31.123495Z",
     "shell.execute_reply": "2023-11-26T20:57:31.122381Z"
    },
    "papermill": {
     "duration": 0.046776,
     "end_time": "2023-11-26T20:57:31.125514",
     "exception": false,
     "start_time": "2023-11-26T20:57:31.078738",
     "status": "completed"
    },
    "tags": []
   },
   "outputs": [],
   "source": [
    "# df_test = df_test.drop(columns=['RoomService', 'FoodCourt', 'ShoppingMall', 'Spa', 'VRDeck','Name','VIP'])\n",
    "# df_test.head(1)"
   ]
  },
  {
   "cell_type": "code",
   "execution_count": 51,
   "id": "1d51786e",
   "metadata": {
    "execution": {
     "iopub.execute_input": "2023-11-26T20:57:31.203165Z",
     "iopub.status.busy": "2023-11-26T20:57:31.202754Z",
     "iopub.status.idle": "2023-11-26T20:57:31.206523Z",
     "shell.execute_reply": "2023-11-26T20:57:31.205740Z"
    },
    "papermill": {
     "duration": 0.045045,
     "end_time": "2023-11-26T20:57:31.208622",
     "exception": false,
     "start_time": "2023-11-26T20:57:31.163577",
     "status": "completed"
    },
    "tags": []
   },
   "outputs": [],
   "source": [
    "# df_test['BigSpender'] = np.where(df_test.Mean_luxury > 1000, 1,0)\n",
    "# df_test['Mid_Spender'] = np.where(df_test.Mean_luxury >= 500, 1,0)\n",
    "# df_test['Non_Spender'] = np.where(df_test.Mean_luxury == 0, 1,0)\n",
    "# df_test.head(1)"
   ]
  },
  {
   "cell_type": "code",
   "execution_count": 52,
   "id": "e9761164",
   "metadata": {
    "execution": {
     "iopub.execute_input": "2023-11-26T20:57:31.284743Z",
     "iopub.status.busy": "2023-11-26T20:57:31.284116Z",
     "iopub.status.idle": "2023-11-26T20:57:31.316534Z",
     "shell.execute_reply": "2023-11-26T20:57:31.315604Z"
    },
    "papermill": {
     "duration": 0.073334,
     "end_time": "2023-11-26T20:57:31.318856",
     "exception": false,
     "start_time": "2023-11-26T20:57:31.245522",
     "status": "completed"
    },
    "tags": []
   },
   "outputs": [
    {
     "data": {
      "text/html": [
       "<div>\n",
       "<style scoped>\n",
       "    .dataframe tbody tr th:only-of-type {\n",
       "        vertical-align: middle;\n",
       "    }\n",
       "\n",
       "    .dataframe tbody tr th {\n",
       "        vertical-align: top;\n",
       "    }\n",
       "\n",
       "    .dataframe thead th {\n",
       "        text-align: right;\n",
       "    }\n",
       "</style>\n",
       "<table border=\"1\" class=\"dataframe\">\n",
       "  <thead>\n",
       "    <tr style=\"text-align: right;\">\n",
       "      <th></th>\n",
       "      <th>PassengerId</th>\n",
       "      <th>HomePlanet</th>\n",
       "      <th>CryoSleep</th>\n",
       "      <th>Cabin</th>\n",
       "      <th>Destination</th>\n",
       "      <th>Age</th>\n",
       "      <th>VIP</th>\n",
       "      <th>RoomService</th>\n",
       "      <th>FoodCourt</th>\n",
       "      <th>ShoppingMall</th>\n",
       "      <th>Spa</th>\n",
       "      <th>VRDeck</th>\n",
       "      <th>Name</th>\n",
       "      <th>Port</th>\n",
       "    </tr>\n",
       "  </thead>\n",
       "  <tbody>\n",
       "    <tr>\n",
       "      <th>0</th>\n",
       "      <td>0013_01</td>\n",
       "      <td>1.0</td>\n",
       "      <td>1.0</td>\n",
       "      <td>G/3/S</td>\n",
       "      <td>3.0</td>\n",
       "      <td>27.0</td>\n",
       "      <td>False</td>\n",
       "      <td>0.0</td>\n",
       "      <td>0.0</td>\n",
       "      <td>0.0</td>\n",
       "      <td>0.0</td>\n",
       "      <td>0.0</td>\n",
       "      <td>Nelly Carsoning</td>\n",
       "      <td>0.0</td>\n",
       "    </tr>\n",
       "  </tbody>\n",
       "</table>\n",
       "</div>"
      ],
      "text/plain": [
       "  PassengerId  HomePlanet  CryoSleep  Cabin  Destination   Age    VIP  \\\n",
       "0     0013_01         1.0        1.0  G/3/S          3.0  27.0  False   \n",
       "\n",
       "   RoomService  FoodCourt  ShoppingMall  Spa  VRDeck             Name  Port  \n",
       "0          0.0        0.0           0.0  0.0     0.0  Nelly Carsoning   0.0  "
      ]
     },
     "execution_count": 52,
     "metadata": {},
     "output_type": "execute_result"
    }
   ],
   "source": [
    "df_test['Port'] = df_test['Cabin'].str.split('/').str[-1]\n",
    "df_test['Port'].replace('S', 0, inplace=True)\n",
    "df_test['Port'].replace('P', 1, inplace=True)\n",
    "df_test.head(1)"
   ]
  },
  {
   "cell_type": "code",
   "execution_count": 53,
   "id": "a3e6f6c1",
   "metadata": {
    "execution": {
     "iopub.execute_input": "2023-11-26T20:57:31.395421Z",
     "iopub.status.busy": "2023-11-26T20:57:31.394751Z",
     "iopub.status.idle": "2023-11-26T20:57:31.424013Z",
     "shell.execute_reply": "2023-11-26T20:57:31.423203Z"
    },
    "papermill": {
     "duration": 0.070063,
     "end_time": "2023-11-26T20:57:31.426161",
     "exception": false,
     "start_time": "2023-11-26T20:57:31.356098",
     "status": "completed"
    },
    "tags": []
   },
   "outputs": [
    {
     "data": {
      "text/html": [
       "<div>\n",
       "<style scoped>\n",
       "    .dataframe tbody tr th:only-of-type {\n",
       "        vertical-align: middle;\n",
       "    }\n",
       "\n",
       "    .dataframe tbody tr th {\n",
       "        vertical-align: top;\n",
       "    }\n",
       "\n",
       "    .dataframe thead th {\n",
       "        text-align: right;\n",
       "    }\n",
       "</style>\n",
       "<table border=\"1\" class=\"dataframe\">\n",
       "  <thead>\n",
       "    <tr style=\"text-align: right;\">\n",
       "      <th></th>\n",
       "      <th>PassengerId</th>\n",
       "      <th>HomePlanet</th>\n",
       "      <th>CryoSleep</th>\n",
       "      <th>Cabin</th>\n",
       "      <th>Destination</th>\n",
       "      <th>Age</th>\n",
       "      <th>VIP</th>\n",
       "      <th>RoomService</th>\n",
       "      <th>FoodCourt</th>\n",
       "      <th>ShoppingMall</th>\n",
       "      <th>Spa</th>\n",
       "      <th>VRDeck</th>\n",
       "      <th>Name</th>\n",
       "      <th>Port</th>\n",
       "      <th>Place</th>\n",
       "    </tr>\n",
       "  </thead>\n",
       "  <tbody>\n",
       "    <tr>\n",
       "      <th>0</th>\n",
       "      <td>0013_01</td>\n",
       "      <td>1.0</td>\n",
       "      <td>1.0</td>\n",
       "      <td>G/3/S</td>\n",
       "      <td>3.0</td>\n",
       "      <td>27.0</td>\n",
       "      <td>False</td>\n",
       "      <td>0.0</td>\n",
       "      <td>0.0</td>\n",
       "      <td>0.0</td>\n",
       "      <td>0.0</td>\n",
       "      <td>0.0</td>\n",
       "      <td>Nelly Carsoning</td>\n",
       "      <td>0.0</td>\n",
       "      <td>7.0</td>\n",
       "    </tr>\n",
       "  </tbody>\n",
       "</table>\n",
       "</div>"
      ],
      "text/plain": [
       "  PassengerId  HomePlanet  CryoSleep  Cabin  Destination   Age    VIP  \\\n",
       "0     0013_01         1.0        1.0  G/3/S          3.0  27.0  False   \n",
       "\n",
       "   RoomService  FoodCourt  ShoppingMall  Spa  VRDeck             Name  Port  \\\n",
       "0          0.0        0.0           0.0  0.0     0.0  Nelly Carsoning   0.0   \n",
       "\n",
       "   Place  \n",
       "0    7.0  "
      ]
     },
     "execution_count": 53,
     "metadata": {},
     "output_type": "execute_result"
    }
   ],
   "source": [
    "df_test['Place'] = df_test['Cabin'].str.split('/').str[0]\n",
    "letter_to_int = {'A': 1, 'B': 2, 'C': 3, 'D': 4, 'E': 5, 'F': 6, 'G': 7, 'T': 8}\n",
    "df_test['Place'] = df_test['Place'].map(letter_to_int)\n",
    "df_test.head(1)"
   ]
  },
  {
   "cell_type": "code",
   "execution_count": 54,
   "id": "64fd8a67",
   "metadata": {
    "execution": {
     "iopub.execute_input": "2023-11-26T20:57:31.502632Z",
     "iopub.status.busy": "2023-11-26T20:57:31.502239Z",
     "iopub.status.idle": "2023-11-26T20:57:31.531489Z",
     "shell.execute_reply": "2023-11-26T20:57:31.530304Z"
    },
    "papermill": {
     "duration": 0.070055,
     "end_time": "2023-11-26T20:57:31.533799",
     "exception": false,
     "start_time": "2023-11-26T20:57:31.463744",
     "status": "completed"
    },
    "tags": []
   },
   "outputs": [
    {
     "data": {
      "text/html": [
       "<div>\n",
       "<style scoped>\n",
       "    .dataframe tbody tr th:only-of-type {\n",
       "        vertical-align: middle;\n",
       "    }\n",
       "\n",
       "    .dataframe tbody tr th {\n",
       "        vertical-align: top;\n",
       "    }\n",
       "\n",
       "    .dataframe thead th {\n",
       "        text-align: right;\n",
       "    }\n",
       "</style>\n",
       "<table border=\"1\" class=\"dataframe\">\n",
       "  <thead>\n",
       "    <tr style=\"text-align: right;\">\n",
       "      <th></th>\n",
       "      <th>PassengerId</th>\n",
       "      <th>HomePlanet</th>\n",
       "      <th>CryoSleep</th>\n",
       "      <th>Cabin</th>\n",
       "      <th>Destination</th>\n",
       "      <th>Age</th>\n",
       "      <th>VIP</th>\n",
       "      <th>RoomService</th>\n",
       "      <th>FoodCourt</th>\n",
       "      <th>ShoppingMall</th>\n",
       "      <th>Spa</th>\n",
       "      <th>VRDeck</th>\n",
       "      <th>Name</th>\n",
       "      <th>Port</th>\n",
       "      <th>Place</th>\n",
       "    </tr>\n",
       "  </thead>\n",
       "  <tbody>\n",
       "    <tr>\n",
       "      <th>0</th>\n",
       "      <td>0013_01</td>\n",
       "      <td>1.0</td>\n",
       "      <td>1.0</td>\n",
       "      <td>3</td>\n",
       "      <td>3.0</td>\n",
       "      <td>27.0</td>\n",
       "      <td>False</td>\n",
       "      <td>0.0</td>\n",
       "      <td>0.0</td>\n",
       "      <td>0.0</td>\n",
       "      <td>0.0</td>\n",
       "      <td>0.0</td>\n",
       "      <td>Nelly Carsoning</td>\n",
       "      <td>0.0</td>\n",
       "      <td>7.0</td>\n",
       "    </tr>\n",
       "  </tbody>\n",
       "</table>\n",
       "</div>"
      ],
      "text/plain": [
       "  PassengerId  HomePlanet  CryoSleep Cabin  Destination   Age    VIP  \\\n",
       "0     0013_01         1.0        1.0     3          3.0  27.0  False   \n",
       "\n",
       "   RoomService  FoodCourt  ShoppingMall  Spa  VRDeck             Name  Port  \\\n",
       "0          0.0        0.0           0.0  0.0     0.0  Nelly Carsoning   0.0   \n",
       "\n",
       "   Place  \n",
       "0    7.0  "
      ]
     },
     "execution_count": 54,
     "metadata": {},
     "output_type": "execute_result"
    }
   ],
   "source": [
    "df_test['Cabin'] = df_test['Cabin'].str.split('/').str[1]\n",
    "df_test.head(1)"
   ]
  },
  {
   "cell_type": "code",
   "execution_count": 55,
   "id": "c30c3382",
   "metadata": {
    "execution": {
     "iopub.execute_input": "2023-11-26T20:57:31.611789Z",
     "iopub.status.busy": "2023-11-26T20:57:31.611033Z",
     "iopub.status.idle": "2023-11-26T20:57:31.640930Z",
     "shell.execute_reply": "2023-11-26T20:57:31.639570Z"
    },
    "papermill": {
     "duration": 0.071291,
     "end_time": "2023-11-26T20:57:31.643203",
     "exception": false,
     "start_time": "2023-11-26T20:57:31.571912",
     "status": "completed"
    },
    "tags": []
   },
   "outputs": [
    {
     "name": "stdout",
     "output_type": "stream",
     "text": [
      "<class 'pandas.core.frame.DataFrame'>\n",
      "RangeIndex: 4277 entries, 0 to 4276\n",
      "Data columns (total 15 columns):\n",
      " #   Column        Non-Null Count  Dtype  \n",
      "---  ------        --------------  -----  \n",
      " 0   PassengerId   4277 non-null   object \n",
      " 1   HomePlanet    4190 non-null   Int64  \n",
      " 2   CryoSleep     4184 non-null   Int64  \n",
      " 3   Cabin         4177 non-null   Int64  \n",
      " 4   Destination   4185 non-null   Int64  \n",
      " 5   Age           4186 non-null   Int64  \n",
      " 6   VIP           4184 non-null   object \n",
      " 7   RoomService   4195 non-null   float64\n",
      " 8   FoodCourt     4171 non-null   float64\n",
      " 9   ShoppingMall  4179 non-null   float64\n",
      " 10  Spa           4176 non-null   float64\n",
      " 11  VRDeck        4197 non-null   float64\n",
      " 12  Name          4183 non-null   object \n",
      " 13  Port          4177 non-null   Int64  \n",
      " 14  Place         4177 non-null   Int64  \n",
      "dtypes: Int64(7), float64(5), object(3)\n",
      "memory usage: 530.6+ KB\n"
     ]
    }
   ],
   "source": [
    "df_test[['HomePlanet', 'CryoSleep','Cabin', 'Destination', 'Age', 'Port', 'Place']] = df_test[['HomePlanet', 'CryoSleep', 'Cabin', 'Destination', 'Age', 'Port', 'Place']].astype('Int64')\n",
    "# df_test['Cabin'] = df_test['Cabin'].astype('Int64')\n",
    "# #print(len(cabinSet))\n",
    "# #sorted(cabinSet.astype('Int64'))\n",
    "df_test.head(1)\n",
    "df_test.info()"
   ]
  },
  {
   "cell_type": "code",
   "execution_count": 56,
   "id": "4075871e",
   "metadata": {
    "execution": {
     "iopub.execute_input": "2023-11-26T20:57:31.721009Z",
     "iopub.status.busy": "2023-11-26T20:57:31.719892Z",
     "iopub.status.idle": "2023-11-26T20:57:31.752560Z",
     "shell.execute_reply": "2023-11-26T20:57:31.750972Z"
    },
    "papermill": {
     "duration": 0.074139,
     "end_time": "2023-11-26T20:57:31.755007",
     "exception": false,
     "start_time": "2023-11-26T20:57:31.680868",
     "status": "completed"
    },
    "tags": []
   },
   "outputs": [
    {
     "name": "stdout",
     "output_type": "stream",
     "text": [
      "<class 'pandas.core.frame.DataFrame'>\n",
      "RangeIndex: 4277 entries, 0 to 4276\n",
      "Data columns (total 15 columns):\n",
      " #   Column        Non-Null Count  Dtype  \n",
      "---  ------        --------------  -----  \n",
      " 0   PassengerId   4277 non-null   object \n",
      " 1   HomePlanet    4277 non-null   Int64  \n",
      " 2   CryoSleep     4277 non-null   Int64  \n",
      " 3   Cabin         4277 non-null   Int64  \n",
      " 4   Destination   4277 non-null   Int64  \n",
      " 5   Age           4277 non-null   Int64  \n",
      " 6   VIP           4184 non-null   object \n",
      " 7   RoomService   4277 non-null   float64\n",
      " 8   FoodCourt     4277 non-null   float64\n",
      " 9   ShoppingMall  4277 non-null   float64\n",
      " 10  Spa           4277 non-null   float64\n",
      " 11  VRDeck        4277 non-null   float64\n",
      " 12  Name          4183 non-null   object \n",
      " 13  Port          4277 non-null   Int64  \n",
      " 14  Place         4277 non-null   Int64  \n",
      "dtypes: Int64(7), float64(5), object(3)\n",
      "memory usage: 530.6+ KB\n"
     ]
    }
   ],
   "source": [
    "df_test[\"HomePlanet\"].fillna(df_test[\"HomePlanet\"].mode()[0],inplace=True)\n",
    "df_test[\"CryoSleep\"].fillna(df_test[\"CryoSleep\"].mode()[0],inplace=True)\n",
    "df_test[\"Cabin\"].fillna(df_test[\"Cabin\"].mode()[0],inplace=True)\n",
    "df_test[\"Destination\"].fillna(df_test[\"Destination\"].mode()[0],inplace=True)\n",
    "df_test[\"Age\"].fillna(int(df_test[\"Age\"].mean()),inplace=True)\n",
    "df_test[\"RoomService\"].fillna(df_test[\"RoomService\"].mean(),inplace=True)\n",
    "df_test[\"FoodCourt\"].fillna(df_test[\"FoodCourt\"].mean(),inplace=True)\n",
    "df_test[\"ShoppingMall\"].fillna(df_test[\"ShoppingMall\"].mean(),inplace=True)\n",
    "df_test[\"Spa\"].fillna(df_test[\"Spa\"].mean(),inplace=True)\n",
    "df_test[\"VRDeck\"].fillna(df_test[\"VRDeck\"].mean(),inplace=True)\n",
    "df_test[\"Port\"].fillna(df_test[\"Port\"].mode()[0],inplace=True)\n",
    "df_test[\"Place\"].fillna(df_test[\"Place\"].mode()[0],inplace=True)\n",
    "df_test.info()"
   ]
  },
  {
   "cell_type": "code",
   "execution_count": 57,
   "id": "85d5172b",
   "metadata": {
    "execution": {
     "iopub.execute_input": "2023-11-26T20:57:31.833490Z",
     "iopub.status.busy": "2023-11-26T20:57:31.833063Z",
     "iopub.status.idle": "2023-11-26T20:57:31.978426Z",
     "shell.execute_reply": "2023-11-26T20:57:31.977012Z"
    },
    "papermill": {
     "duration": 0.187364,
     "end_time": "2023-11-26T20:57:31.980823",
     "exception": false,
     "start_time": "2023-11-26T20:57:31.793459",
     "status": "completed"
    },
    "tags": []
   },
   "outputs": [
    {
     "name": "stdout",
     "output_type": "stream",
     "text": [
      "<class 'pandas.core.frame.DataFrame'>\n",
      "RangeIndex: 4277 entries, 0 to 4276\n",
      "Data columns (total 16 columns):\n",
      " #   Column        Non-Null Count  Dtype  \n",
      "---  ------        --------------  -----  \n",
      " 0   PassengerId   4277 non-null   object \n",
      " 1   HomePlanet    4277 non-null   Int64  \n",
      " 2   CryoSleep     4277 non-null   Int64  \n",
      " 3   Cabin         4277 non-null   Int64  \n",
      " 4   Destination   4277 non-null   Int64  \n",
      " 5   Age           4277 non-null   Int64  \n",
      " 6   VIP           4184 non-null   object \n",
      " 7   RoomService   4277 non-null   float64\n",
      " 8   FoodCourt     4277 non-null   float64\n",
      " 9   ShoppingMall  4277 non-null   float64\n",
      " 10  Spa           4277 non-null   float64\n",
      " 11  VRDeck        4277 non-null   float64\n",
      " 12  Name          4183 non-null   object \n",
      " 13  Port          4277 non-null   Int64  \n",
      " 14  Place         4277 non-null   Int64  \n",
      " 15  GroupID       4277 non-null   int64  \n",
      "dtypes: Int64(7), float64(5), int64(1), object(3)\n",
      "memory usage: 564.0+ KB\n"
     ]
    }
   ],
   "source": [
    "ids_groups = np.array([i.split(\"_\") for i in df_test.PassengerId.values])\n",
    "# unique_groups = np.unique(ids_groups[:,0])\n",
    "df_test['GroupID'] = df_test.groupby(ids_groups[:,0]).ngroup()\n",
    "df_test.info()"
   ]
  },
  {
   "cell_type": "code",
   "execution_count": 58,
   "id": "915e383c",
   "metadata": {
    "execution": {
     "iopub.execute_input": "2023-11-26T20:57:32.060278Z",
     "iopub.status.busy": "2023-11-26T20:57:32.059488Z",
     "iopub.status.idle": "2023-11-26T20:57:32.079585Z",
     "shell.execute_reply": "2023-11-26T20:57:32.078479Z"
    },
    "papermill": {
     "duration": 0.062681,
     "end_time": "2023-11-26T20:57:32.082208",
     "exception": false,
     "start_time": "2023-11-26T20:57:32.019527",
     "status": "completed"
    },
    "tags": []
   },
   "outputs": [
    {
     "data": {
      "text/html": [
       "<div>\n",
       "<style scoped>\n",
       "    .dataframe tbody tr th:only-of-type {\n",
       "        vertical-align: middle;\n",
       "    }\n",
       "\n",
       "    .dataframe tbody tr th {\n",
       "        vertical-align: top;\n",
       "    }\n",
       "\n",
       "    .dataframe thead th {\n",
       "        text-align: right;\n",
       "    }\n",
       "</style>\n",
       "<table border=\"1\" class=\"dataframe\">\n",
       "  <thead>\n",
       "    <tr style=\"text-align: right;\">\n",
       "      <th></th>\n",
       "      <th>HomePlanet</th>\n",
       "      <th>CryoSleep</th>\n",
       "      <th>Cabin</th>\n",
       "      <th>Destination</th>\n",
       "      <th>Age</th>\n",
       "      <th>RoomService</th>\n",
       "      <th>FoodCourt</th>\n",
       "      <th>ShoppingMall</th>\n",
       "      <th>Spa</th>\n",
       "      <th>VRDeck</th>\n",
       "      <th>Port</th>\n",
       "      <th>Place</th>\n",
       "      <th>GroupID</th>\n",
       "    </tr>\n",
       "  </thead>\n",
       "  <tbody>\n",
       "    <tr>\n",
       "      <th>0</th>\n",
       "      <td>1</td>\n",
       "      <td>1</td>\n",
       "      <td>3</td>\n",
       "      <td>3</td>\n",
       "      <td>27</td>\n",
       "      <td>0.0</td>\n",
       "      <td>0.0</td>\n",
       "      <td>0.0</td>\n",
       "      <td>0.0</td>\n",
       "      <td>0.0</td>\n",
       "      <td>0</td>\n",
       "      <td>7</td>\n",
       "      <td>0</td>\n",
       "    </tr>\n",
       "  </tbody>\n",
       "</table>\n",
       "</div>"
      ],
      "text/plain": [
       "   HomePlanet  CryoSleep  Cabin  Destination  Age  RoomService  FoodCourt  \\\n",
       "0           1          1      3            3   27          0.0        0.0   \n",
       "\n",
       "   ShoppingMall  Spa  VRDeck  Port  Place  GroupID  \n",
       "0           0.0  0.0     0.0     0      7        0  "
      ]
     },
     "execution_count": 58,
     "metadata": {},
     "output_type": "execute_result"
    }
   ],
   "source": [
    "df_test = df_test.drop(columns=['PassengerId','VIP','Name'])\n",
    "df_test.head(1)"
   ]
  },
  {
   "cell_type": "code",
   "execution_count": 59,
   "id": "d4996f49",
   "metadata": {
    "execution": {
     "iopub.execute_input": "2023-11-26T20:57:32.162165Z",
     "iopub.status.busy": "2023-11-26T20:57:32.161742Z",
     "iopub.status.idle": "2023-11-26T20:57:32.165810Z",
     "shell.execute_reply": "2023-11-26T20:57:32.165011Z"
    },
    "papermill": {
     "duration": 0.047076,
     "end_time": "2023-11-26T20:57:32.168245",
     "exception": false,
     "start_time": "2023-11-26T20:57:32.121169",
     "status": "completed"
    },
    "tags": []
   },
   "outputs": [],
   "source": [
    "# df_test['Aged'] = np.where(df_test.Age > 15, 1,0)\n",
    "# df_test.head(1)"
   ]
  },
  {
   "cell_type": "code",
   "execution_count": 60,
   "id": "ee065e73",
   "metadata": {
    "execution": {
     "iopub.execute_input": "2023-11-26T20:57:32.247566Z",
     "iopub.status.busy": "2023-11-26T20:57:32.246861Z",
     "iopub.status.idle": "2023-11-26T20:57:32.250934Z",
     "shell.execute_reply": "2023-11-26T20:57:32.250132Z"
    },
    "papermill": {
     "duration": 0.046162,
     "end_time": "2023-11-26T20:57:32.253092",
     "exception": false,
     "start_time": "2023-11-26T20:57:32.206930",
     "status": "completed"
    },
    "tags": []
   },
   "outputs": [],
   "source": [
    "# columns_titles = [\"HomePlanet\",\"CryoSleep\", \"Destination\",\"Age\",\"Mean_luxury\",\"Port\",\"Place\"]\n",
    "# df_test=df_test.reindex(columns=columns_titles)\n",
    "# df_test.head(3)"
   ]
  },
  {
   "cell_type": "code",
   "execution_count": 61,
   "id": "f8276b4f",
   "metadata": {
    "execution": {
     "iopub.execute_input": "2023-11-26T20:57:32.331880Z",
     "iopub.status.busy": "2023-11-26T20:57:32.331199Z",
     "iopub.status.idle": "2023-11-26T20:57:32.347457Z",
     "shell.execute_reply": "2023-11-26T20:57:32.345749Z"
    },
    "papermill": {
     "duration": 0.060419,
     "end_time": "2023-11-26T20:57:32.351807",
     "exception": false,
     "start_time": "2023-11-26T20:57:32.291388",
     "status": "completed"
    },
    "tags": []
   },
   "outputs": [],
   "source": [
    " predictions = logmodel.predict(df_test)"
   ]
  },
  {
   "cell_type": "code",
   "execution_count": 62,
   "id": "4b91509e",
   "metadata": {
    "execution": {
     "iopub.execute_input": "2023-11-26T20:57:32.487063Z",
     "iopub.status.busy": "2023-11-26T20:57:32.486276Z",
     "iopub.status.idle": "2023-11-26T20:57:32.493094Z",
     "shell.execute_reply": "2023-11-26T20:57:32.492268Z"
    },
    "papermill": {
     "duration": 0.061759,
     "end_time": "2023-11-26T20:57:32.495075",
     "exception": false,
     "start_time": "2023-11-26T20:57:32.433316",
     "status": "completed"
    },
    "tags": []
   },
   "outputs": [
    {
     "data": {
      "text/plain": [
       "array(['0013_01', '0018_01', '0019_01', ..., '9271_01', '9273_01',\n",
       "       '9277_01'], dtype=object)"
      ]
     },
     "execution_count": 62,
     "metadata": {},
     "output_type": "execute_result"
    }
   ],
   "source": [
    "# # from sklearn.metrics import classification_report\n",
    "# # print(classification_report(y_test, predictions))\n",
    "# df_newTest = pd.read_csv(\"/kaggle/input/spaceship-titanic/test.csv\")\n",
    "# ids_test = df_newTest['PassengerId'].copy()\n",
    "ids_test.values\n",
    "# predictions"
   ]
  },
  {
   "cell_type": "code",
   "execution_count": 63,
   "id": "d17f7f20",
   "metadata": {
    "execution": {
     "iopub.execute_input": "2023-11-26T20:57:32.573925Z",
     "iopub.status.busy": "2023-11-26T20:57:32.573202Z",
     "iopub.status.idle": "2023-11-26T20:57:32.601319Z",
     "shell.execute_reply": "2023-11-26T20:57:32.600168Z"
    },
    "papermill": {
     "duration": 0.070461,
     "end_time": "2023-11-26T20:57:32.604097",
     "exception": false,
     "start_time": "2023-11-26T20:57:32.533636",
     "status": "completed"
    },
    "tags": []
   },
   "outputs": [
    {
     "data": {
      "text/html": [
       "<div>\n",
       "<style scoped>\n",
       "    .dataframe tbody tr th:only-of-type {\n",
       "        vertical-align: middle;\n",
       "    }\n",
       "\n",
       "    .dataframe tbody tr th {\n",
       "        vertical-align: top;\n",
       "    }\n",
       "\n",
       "    .dataframe thead th {\n",
       "        text-align: right;\n",
       "    }\n",
       "</style>\n",
       "<table border=\"1\" class=\"dataframe\">\n",
       "  <thead>\n",
       "    <tr style=\"text-align: right;\">\n",
       "      <th></th>\n",
       "      <th>PassengerId</th>\n",
       "      <th>Transported</th>\n",
       "    </tr>\n",
       "  </thead>\n",
       "  <tbody>\n",
       "    <tr>\n",
       "      <th>0</th>\n",
       "      <td>0013_01</td>\n",
       "      <td>True</td>\n",
       "    </tr>\n",
       "    <tr>\n",
       "      <th>1</th>\n",
       "      <td>0018_01</td>\n",
       "      <td>False</td>\n",
       "    </tr>\n",
       "    <tr>\n",
       "      <th>2</th>\n",
       "      <td>0019_01</td>\n",
       "      <td>True</td>\n",
       "    </tr>\n",
       "    <tr>\n",
       "      <th>3</th>\n",
       "      <td>0021_01</td>\n",
       "      <td>True</td>\n",
       "    </tr>\n",
       "    <tr>\n",
       "      <th>4</th>\n",
       "      <td>0023_01</td>\n",
       "      <td>False</td>\n",
       "    </tr>\n",
       "  </tbody>\n",
       "</table>\n",
       "</div>"
      ],
      "text/plain": [
       "  PassengerId  Transported\n",
       "0     0013_01         True\n",
       "1     0018_01        False\n",
       "2     0019_01         True\n",
       "3     0021_01         True\n",
       "4     0023_01        False"
      ]
     },
     "execution_count": 63,
     "metadata": {},
     "output_type": "execute_result"
    }
   ],
   "source": [
    "df_predictions = pd.DataFrame()\n",
    "df_predictions['PassengerId'] = pd.Series(ids_test.T.values)\n",
    "df_predictions['Transported'] = pd.Series(predictions)\n",
    "df_predictions.Transported = np.where(df_predictions.Transported==1,True,False)\n",
    "df_predictions.to_csv(\"9thAttempt.csv\", sep=',', index=False)\n",
    "df_predictions.head()"
   ]
  },
  {
   "cell_type": "markdown",
   "id": "f5f7029d",
   "metadata": {
    "papermill": {
     "duration": 0.038313,
     "end_time": "2023-11-26T20:57:32.681186",
     "exception": false,
     "start_time": "2023-11-26T20:57:32.642873",
     "status": "completed"
    },
    "tags": []
   },
   "source": [
    "In this report, the 'Precision' column tells us the proportion of positive identifications (i.e., the passenger was transported) that were actually correct. The 'Recall' column tells us the proportion of actual positives that were identified correctly. The 'F1-score' is a function of Precision and Recall and gives a balanced measure of the model's performance.\n",
    "\n",
    "Remember, this is a basic model. Depending on the performance of the model, you might need to consider more advanced techniques such as handling class imbalance, feature engineering, or using a more complex model."
   ]
  }
 ],
 "metadata": {
  "kaggle": {
   "accelerator": "none",
   "dataSources": [
    {
     "databundleVersionId": 3220602,
     "sourceId": 34377,
     "sourceType": "competition"
    }
   ],
   "dockerImageVersionId": 30558,
   "isGpuEnabled": false,
   "isInternetEnabled": false,
   "language": "python",
   "sourceType": "notebook"
  },
  "kernelspec": {
   "display_name": "Python 3",
   "language": "python",
   "name": "python3"
  },
  "language_info": {
   "codemirror_mode": {
    "name": "ipython",
    "version": 3
   },
   "file_extension": ".py",
   "mimetype": "text/x-python",
   "name": "python",
   "nbconvert_exporter": "python",
   "pygments_lexer": "ipython3",
   "version": "3.10.12"
  },
  "papermill": {
   "default_parameters": {},
   "duration": 22.14831,
   "end_time": "2023-11-26T20:57:33.441659",
   "environment_variables": {},
   "exception": null,
   "input_path": "__notebook__.ipynb",
   "output_path": "__notebook__.ipynb",
   "parameters": {},
   "start_time": "2023-11-26T20:57:11.293349",
   "version": "2.4.0"
  }
 },
 "nbformat": 4,
 "nbformat_minor": 5
}
