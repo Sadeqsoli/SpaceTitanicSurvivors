{
 "cells": [
  {
   "cell_type": "code",
   "execution_count": 1,
   "id": "7fe4a327",
   "metadata": {
    "_cell_guid": "b1076dfc-b9ad-4769-8c92-a6c4dae69d19",
    "_uuid": "8f2839f25d086af736a60e9eeb907d3b93b6e0e5",
    "execution": {
     "iopub.execute_input": "2023-11-30T20:23:34.077282Z",
     "iopub.status.busy": "2023-11-30T20:23:34.076903Z",
     "iopub.status.idle": "2023-11-30T20:23:34.985493Z",
     "shell.execute_reply": "2023-11-30T20:23:34.984172Z"
    },
    "papermill": {
     "duration": 0.922374,
     "end_time": "2023-11-30T20:23:34.987674",
     "exception": false,
     "start_time": "2023-11-30T20:23:34.065300",
     "status": "completed"
    },
    "tags": []
   },
   "outputs": [
    {
     "name": "stdout",
     "output_type": "stream",
     "text": [
      "/kaggle/input/spaceship-titanic/sample_submission.csv\n",
      "/kaggle/input/spaceship-titanic/train.csv\n",
      "/kaggle/input/spaceship-titanic/test.csv\n"
     ]
    }
   ],
   "source": [
    "# This Python 3 environment comes with many helpful analytics libraries installed\n",
    "# It is defined by the kaggle/python Docker image: https://github.com/kaggle/docker-python\n",
    "# For example, here's several helpful packages to load\n",
    "\n",
    "import numpy as np # linear algebra\n",
    "import pandas as pd # data processing, CSV file I/O (e.g. pd.read_csv)\n",
    "\n",
    "# Input data files are available in the read-only \"../input/\" directory\n",
    "# For example, running this (by clicking run or pressing Shift+Enter) will list all files under the input directory\n",
    "\n",
    "import os\n",
    "for dirname, _, filenames in os.walk('/kaggle/input'):\n",
    "    for filename in filenames:\n",
    "        print(os.path.join(dirname, filename))\n",
    "\n",
    "# You can write up to 20GB to the current directory (/kaggle/working/) that gets preserved as output when you create a version using \"Save & Run All\" \n",
    "# You can also write temporary files to /kaggle/temp/, but they won't be saved outside of the current session"
   ]
  },
  {
   "cell_type": "markdown",
   "id": "5b8aa267",
   "metadata": {
    "papermill": {
     "duration": 0.009022,
     "end_time": "2023-11-30T20:23:35.006322",
     "exception": false,
     "start_time": "2023-11-30T20:23:34.997300",
     "status": "completed"
    },
    "tags": []
   },
   "source": [
    "# > ****File and Data Field Descriptions\n",
    "\n",
    "train.csv - Personal records for about two-thirds (~8700) of the passengers, to be used as training data.\n",
    "PassengerId - A unique Id for each passenger. Each Id takes the form gggg_pp where gggg indicates a group the passenger is travelling with and pp is their number within the group. People in a group are often family members, but not always.\n",
    "HomePlanet - The planet the passenger departed from, typically their planet of permanent residence.\n",
    "CryoSleep - Indicates whether the passenger elected to be put into suspended animation for the duration of the voyage. Passengers in cryosleep are confined to their cabins.\n",
    "Cabin - The cabin number where the passenger is staying. Takes the form deck/num/side, where side can be either P for Port or S for Starboard.\n",
    "Destination - The planet the passenger will be debarking to.\n",
    "Age - The age of the passenger.\n",
    "VIP - Whether the passenger has paid for special VIP service during the voyage.\n",
    "RoomService, FoodCourt, ShoppingMall, Spa, VRDeck - Amount the passenger has billed at each of the Spaceship Titanic's many luxury amenities.\n",
    "Name - The first and last names of the passenger.\n",
    "Transported - Whether the passenger was transported to another dimension. This is the target, the column you are trying to predict.\n",
    "test.csv - Personal records for the remaining one-third (~4300) of the passengers, to be used as test data. Your task is to predict the value of Transported for the passengers in this set.\n",
    "sample_submission.csv - A submission file in the correct format.\n",
    "PassengerId - Id for each passenger in the test set.\n",
    "Transported - The target. For each passenger, predict either True or False."
   ]
  },
  {
   "cell_type": "code",
   "execution_count": 2,
   "id": "0fc833a7",
   "metadata": {
    "execution": {
     "iopub.execute_input": "2023-11-30T20:23:35.027038Z",
     "iopub.status.busy": "2023-11-30T20:23:35.026327Z",
     "iopub.status.idle": "2023-11-30T20:23:35.102854Z",
     "shell.execute_reply": "2023-11-30T20:23:35.102173Z"
    },
    "papermill": {
     "duration": 0.08926,
     "end_time": "2023-11-30T20:23:35.104684",
     "exception": false,
     "start_time": "2023-11-30T20:23:35.015424",
     "status": "completed"
    },
    "tags": []
   },
   "outputs": [
    {
     "data": {
      "text/html": [
       "<div>\n",
       "<style scoped>\n",
       "    .dataframe tbody tr th:only-of-type {\n",
       "        vertical-align: middle;\n",
       "    }\n",
       "\n",
       "    .dataframe tbody tr th {\n",
       "        vertical-align: top;\n",
       "    }\n",
       "\n",
       "    .dataframe thead th {\n",
       "        text-align: right;\n",
       "    }\n",
       "</style>\n",
       "<table border=\"1\" class=\"dataframe\">\n",
       "  <thead>\n",
       "    <tr style=\"text-align: right;\">\n",
       "      <th></th>\n",
       "      <th>PassengerId</th>\n",
       "      <th>HomePlanet</th>\n",
       "      <th>CryoSleep</th>\n",
       "      <th>Cabin</th>\n",
       "      <th>Destination</th>\n",
       "      <th>Age</th>\n",
       "      <th>VIP</th>\n",
       "      <th>RoomService</th>\n",
       "      <th>FoodCourt</th>\n",
       "      <th>ShoppingMall</th>\n",
       "      <th>Spa</th>\n",
       "      <th>VRDeck</th>\n",
       "      <th>Name</th>\n",
       "      <th>Transported</th>\n",
       "    </tr>\n",
       "  </thead>\n",
       "  <tbody>\n",
       "    <tr>\n",
       "      <th>0</th>\n",
       "      <td>0001_01</td>\n",
       "      <td>Europa</td>\n",
       "      <td>False</td>\n",
       "      <td>B/0/P</td>\n",
       "      <td>TRAPPIST-1e</td>\n",
       "      <td>39.0</td>\n",
       "      <td>False</td>\n",
       "      <td>0.0</td>\n",
       "      <td>0.0</td>\n",
       "      <td>0.0</td>\n",
       "      <td>0.0</td>\n",
       "      <td>0.0</td>\n",
       "      <td>Maham Ofracculy</td>\n",
       "      <td>False</td>\n",
       "    </tr>\n",
       "    <tr>\n",
       "      <th>1</th>\n",
       "      <td>0002_01</td>\n",
       "      <td>Earth</td>\n",
       "      <td>False</td>\n",
       "      <td>F/0/S</td>\n",
       "      <td>TRAPPIST-1e</td>\n",
       "      <td>24.0</td>\n",
       "      <td>False</td>\n",
       "      <td>109.0</td>\n",
       "      <td>9.0</td>\n",
       "      <td>25.0</td>\n",
       "      <td>549.0</td>\n",
       "      <td>44.0</td>\n",
       "      <td>Juanna Vines</td>\n",
       "      <td>True</td>\n",
       "    </tr>\n",
       "    <tr>\n",
       "      <th>2</th>\n",
       "      <td>0003_01</td>\n",
       "      <td>Europa</td>\n",
       "      <td>False</td>\n",
       "      <td>A/0/S</td>\n",
       "      <td>TRAPPIST-1e</td>\n",
       "      <td>58.0</td>\n",
       "      <td>True</td>\n",
       "      <td>43.0</td>\n",
       "      <td>3576.0</td>\n",
       "      <td>0.0</td>\n",
       "      <td>6715.0</td>\n",
       "      <td>49.0</td>\n",
       "      <td>Altark Susent</td>\n",
       "      <td>False</td>\n",
       "    </tr>\n",
       "  </tbody>\n",
       "</table>\n",
       "</div>"
      ],
      "text/plain": [
       "  PassengerId HomePlanet CryoSleep  Cabin  Destination   Age    VIP  \\\n",
       "0     0001_01     Europa     False  B/0/P  TRAPPIST-1e  39.0  False   \n",
       "1     0002_01      Earth     False  F/0/S  TRAPPIST-1e  24.0  False   \n",
       "2     0003_01     Europa     False  A/0/S  TRAPPIST-1e  58.0   True   \n",
       "\n",
       "   RoomService  FoodCourt  ShoppingMall     Spa  VRDeck             Name  \\\n",
       "0          0.0        0.0           0.0     0.0     0.0  Maham Ofracculy   \n",
       "1        109.0        9.0          25.0   549.0    44.0     Juanna Vines   \n",
       "2         43.0     3576.0           0.0  6715.0    49.0    Altark Susent   \n",
       "\n",
       "   Transported  \n",
       "0        False  \n",
       "1         True  \n",
       "2        False  "
      ]
     },
     "execution_count": 2,
     "metadata": {},
     "output_type": "execute_result"
    }
   ],
   "source": [
    "df = pd.read_csv(\"/kaggle/input/spaceship-titanic/train.csv\")\n",
    "df.head(3)"
   ]
  },
  {
   "cell_type": "code",
   "execution_count": 3,
   "id": "1914d06b",
   "metadata": {
    "execution": {
     "iopub.execute_input": "2023-11-30T20:23:35.126510Z",
     "iopub.status.busy": "2023-11-30T20:23:35.125967Z",
     "iopub.status.idle": "2023-11-30T20:23:35.163978Z",
     "shell.execute_reply": "2023-11-30T20:23:35.163278Z"
    },
    "papermill": {
     "duration": 0.051137,
     "end_time": "2023-11-30T20:23:35.166133",
     "exception": false,
     "start_time": "2023-11-30T20:23:35.114996",
     "status": "completed"
    },
    "tags": []
   },
   "outputs": [
    {
     "data": {
      "text/html": [
       "<div>\n",
       "<style scoped>\n",
       "    .dataframe tbody tr th:only-of-type {\n",
       "        vertical-align: middle;\n",
       "    }\n",
       "\n",
       "    .dataframe tbody tr th {\n",
       "        vertical-align: top;\n",
       "    }\n",
       "\n",
       "    .dataframe thead th {\n",
       "        text-align: right;\n",
       "    }\n",
       "</style>\n",
       "<table border=\"1\" class=\"dataframe\">\n",
       "  <thead>\n",
       "    <tr style=\"text-align: right;\">\n",
       "      <th></th>\n",
       "      <th>PassengerId</th>\n",
       "      <th>HomePlanet</th>\n",
       "      <th>CryoSleep</th>\n",
       "      <th>Cabin</th>\n",
       "      <th>Destination</th>\n",
       "      <th>Age</th>\n",
       "      <th>VIP</th>\n",
       "      <th>RoomService</th>\n",
       "      <th>FoodCourt</th>\n",
       "      <th>ShoppingMall</th>\n",
       "      <th>Spa</th>\n",
       "      <th>VRDeck</th>\n",
       "      <th>Name</th>\n",
       "      <th>Transported</th>\n",
       "    </tr>\n",
       "  </thead>\n",
       "  <tbody>\n",
       "    <tr>\n",
       "      <th>0</th>\n",
       "      <td>0001_01</td>\n",
       "      <td>2.0</td>\n",
       "      <td>0.0</td>\n",
       "      <td>B/0/P</td>\n",
       "      <td>3.0</td>\n",
       "      <td>39.0</td>\n",
       "      <td>0.0</td>\n",
       "      <td>0.0</td>\n",
       "      <td>0.0</td>\n",
       "      <td>0.0</td>\n",
       "      <td>0.0</td>\n",
       "      <td>0.0</td>\n",
       "      <td>Maham Ofracculy</td>\n",
       "      <td>0</td>\n",
       "    </tr>\n",
       "    <tr>\n",
       "      <th>1</th>\n",
       "      <td>0002_01</td>\n",
       "      <td>1.0</td>\n",
       "      <td>0.0</td>\n",
       "      <td>F/0/S</td>\n",
       "      <td>3.0</td>\n",
       "      <td>24.0</td>\n",
       "      <td>0.0</td>\n",
       "      <td>109.0</td>\n",
       "      <td>9.0</td>\n",
       "      <td>25.0</td>\n",
       "      <td>549.0</td>\n",
       "      <td>44.0</td>\n",
       "      <td>Juanna Vines</td>\n",
       "      <td>1</td>\n",
       "    </tr>\n",
       "    <tr>\n",
       "      <th>2</th>\n",
       "      <td>0003_01</td>\n",
       "      <td>2.0</td>\n",
       "      <td>0.0</td>\n",
       "      <td>A/0/S</td>\n",
       "      <td>3.0</td>\n",
       "      <td>58.0</td>\n",
       "      <td>1.0</td>\n",
       "      <td>43.0</td>\n",
       "      <td>3576.0</td>\n",
       "      <td>0.0</td>\n",
       "      <td>6715.0</td>\n",
       "      <td>49.0</td>\n",
       "      <td>Altark Susent</td>\n",
       "      <td>0</td>\n",
       "    </tr>\n",
       "  </tbody>\n",
       "</table>\n",
       "</div>"
      ],
      "text/plain": [
       "  PassengerId  HomePlanet  CryoSleep  Cabin  Destination   Age  VIP  \\\n",
       "0     0001_01         2.0        0.0  B/0/P          3.0  39.0  0.0   \n",
       "1     0002_01         1.0        0.0  F/0/S          3.0  24.0  0.0   \n",
       "2     0003_01         2.0        0.0  A/0/S          3.0  58.0  1.0   \n",
       "\n",
       "   RoomService  FoodCourt  ShoppingMall     Spa  VRDeck             Name  \\\n",
       "0          0.0        0.0           0.0     0.0     0.0  Maham Ofracculy   \n",
       "1        109.0        9.0          25.0   549.0    44.0     Juanna Vines   \n",
       "2         43.0     3576.0           0.0  6715.0    49.0    Altark Susent   \n",
       "\n",
       "   Transported  \n",
       "0            0  \n",
       "1            1  \n",
       "2            0  "
      ]
     },
     "execution_count": 3,
     "metadata": {},
     "output_type": "execute_result"
    }
   ],
   "source": [
    "#CryoSleep\n",
    "df['CryoSleep'] = df['CryoSleep'].replace({True: 1, False: 0})\n",
    "#Transported\n",
    "df['Transported'] = df['Transported'].replace({True: 1, False: 0})\n",
    "#HomePlanet\n",
    "df['HomePlanet'].replace('Earth', 1, inplace=True)\n",
    "df['HomePlanet'].replace('Europa', 2, inplace=True)\n",
    "df['HomePlanet'].replace('Mars', 3, inplace=True)\n",
    "#Destination\n",
    "df['Destination'].replace('55 Cancri e', 1, inplace=True)\n",
    "df['Destination'].replace('PSO J318.5-22', 2, inplace=True)\n",
    "df['Destination'].replace('TRAPPIST-1e', 3, inplace=True)\n",
    "df['VIP'] = df['VIP'].replace({True: 1, False: 0})\n",
    "df.head(3)"
   ]
  },
  {
   "cell_type": "code",
   "execution_count": 4,
   "id": "72034133",
   "metadata": {
    "execution": {
     "iopub.execute_input": "2023-11-30T20:23:35.188684Z",
     "iopub.status.busy": "2023-11-30T20:23:35.188346Z",
     "iopub.status.idle": "2023-11-30T20:23:35.192320Z",
     "shell.execute_reply": "2023-11-30T20:23:35.191394Z"
    },
    "papermill": {
     "duration": 0.018195,
     "end_time": "2023-11-30T20:23:35.194097",
     "exception": false,
     "start_time": "2023-11-30T20:23:35.175902",
     "status": "completed"
    },
    "tags": []
   },
   "outputs": [],
   "source": [
    "#set([i.split(\"/\")[2] for i in df.Cabin.values if type(i)!=float])\n",
    "#sorted([int(i.split(\"/\")[1]) for i in df.Cabin.values if type(i)!=float])[::-1]"
   ]
  },
  {
   "cell_type": "markdown",
   "id": "a935d836",
   "metadata": {
    "papermill": {
     "duration": 0.009834,
     "end_time": "2023-11-30T20:23:35.213794",
     "exception": false,
     "start_time": "2023-11-30T20:23:35.203960",
     "status": "completed"
    },
    "tags": []
   },
   "source": [
    "HomePlanet: {'Earth', 'Europa', 'Mars', nan}\n",
    "{1,2,3,4}"
   ]
  },
  {
   "cell_type": "markdown",
   "id": "fa97f793",
   "metadata": {
    "papermill": {
     "duration": 0.009551,
     "end_time": "2023-11-30T20:23:35.233247",
     "exception": false,
     "start_time": "2023-11-30T20:23:35.223696",
     "status": "completed"
    },
    "tags": []
   },
   "source": [
    "Destination: {'55 Cancri e', 'PSO J318.5-22', 'TRAPPIST-1e', nan}\n",
    "{1,2,3,4}"
   ]
  },
  {
   "cell_type": "code",
   "execution_count": 5,
   "id": "cdad3bfa",
   "metadata": {
    "execution": {
     "iopub.execute_input": "2023-11-30T20:23:35.254535Z",
     "iopub.status.busy": "2023-11-30T20:23:35.254182Z",
     "iopub.status.idle": "2023-11-30T20:23:35.259471Z",
     "shell.execute_reply": "2023-11-30T20:23:35.257739Z"
    },
    "papermill": {
     "duration": 0.019282,
     "end_time": "2023-11-30T20:23:35.262373",
     "exception": false,
     "start_time": "2023-11-30T20:23:35.243091",
     "status": "completed"
    },
    "tags": []
   },
   "outputs": [],
   "source": [
    "#checking corr between cabin's names and sides\n",
    "#sum(df.loc[(df.Cabin.str.split('/').str[0] == 'F') & (df.Cabin.str.split('/').str[2] == 'S')].Transported)   "
   ]
  },
  {
   "cell_type": "markdown",
   "id": "dd363846",
   "metadata": {
    "papermill": {
     "duration": 0.0098,
     "end_time": "2023-11-30T20:23:35.284072",
     "exception": false,
     "start_time": "2023-11-30T20:23:35.274272",
     "status": "completed"
    },
    "tags": []
   },
   "source": [
    "letter_to_int = {'A': 1, 'B': 2, 'C': 3, 'D': 4, 'E': 5, 'F': 6, 'G': 7, 'H': 8, 'I': 9, 'J': 10}"
   ]
  },
  {
   "cell_type": "markdown",
   "id": "88ad159c",
   "metadata": {
    "papermill": {
     "duration": 0.009691,
     "end_time": "2023-11-30T20:23:35.303715",
     "exception": false,
     "start_time": "2023-11-30T20:23:35.294024",
     "status": "completed"
    },
    "tags": []
   },
   "source": [
    "Now we have 11 attribute to work with and they all are numeric\n"
   ]
  },
  {
   "cell_type": "code",
   "execution_count": 6,
   "id": "f85fea44",
   "metadata": {
    "execution": {
     "iopub.execute_input": "2023-11-30T20:23:35.325124Z",
     "iopub.status.busy": "2023-11-30T20:23:35.324787Z",
     "iopub.status.idle": "2023-11-30T20:23:35.356211Z",
     "shell.execute_reply": "2023-11-30T20:23:35.355443Z"
    },
    "papermill": {
     "duration": 0.044774,
     "end_time": "2023-11-30T20:23:35.358349",
     "exception": false,
     "start_time": "2023-11-30T20:23:35.313575",
     "status": "completed"
    },
    "tags": []
   },
   "outputs": [
    {
     "data": {
      "text/html": [
       "<div>\n",
       "<style scoped>\n",
       "    .dataframe tbody tr th:only-of-type {\n",
       "        vertical-align: middle;\n",
       "    }\n",
       "\n",
       "    .dataframe tbody tr th {\n",
       "        vertical-align: top;\n",
       "    }\n",
       "\n",
       "    .dataframe thead th {\n",
       "        text-align: right;\n",
       "    }\n",
       "</style>\n",
       "<table border=\"1\" class=\"dataframe\">\n",
       "  <thead>\n",
       "    <tr style=\"text-align: right;\">\n",
       "      <th></th>\n",
       "      <th>PassengerId</th>\n",
       "      <th>HomePlanet</th>\n",
       "      <th>CryoSleep</th>\n",
       "      <th>Cabin</th>\n",
       "      <th>Destination</th>\n",
       "      <th>Age</th>\n",
       "      <th>VIP</th>\n",
       "      <th>RoomService</th>\n",
       "      <th>FoodCourt</th>\n",
       "      <th>ShoppingMall</th>\n",
       "      <th>Spa</th>\n",
       "      <th>VRDeck</th>\n",
       "      <th>Name</th>\n",
       "      <th>Transported</th>\n",
       "    </tr>\n",
       "  </thead>\n",
       "  <tbody>\n",
       "    <tr>\n",
       "      <th>0</th>\n",
       "      <td>0001_01</td>\n",
       "      <td>2</td>\n",
       "      <td>0</td>\n",
       "      <td>B/0/P</td>\n",
       "      <td>3</td>\n",
       "      <td>39</td>\n",
       "      <td>0</td>\n",
       "      <td>0.0</td>\n",
       "      <td>0.0</td>\n",
       "      <td>0.0</td>\n",
       "      <td>0.0</td>\n",
       "      <td>0.0</td>\n",
       "      <td>Maham Ofracculy</td>\n",
       "      <td>0</td>\n",
       "    </tr>\n",
       "    <tr>\n",
       "      <th>1</th>\n",
       "      <td>0002_01</td>\n",
       "      <td>1</td>\n",
       "      <td>0</td>\n",
       "      <td>F/0/S</td>\n",
       "      <td>3</td>\n",
       "      <td>24</td>\n",
       "      <td>0</td>\n",
       "      <td>109.0</td>\n",
       "      <td>9.0</td>\n",
       "      <td>25.0</td>\n",
       "      <td>549.0</td>\n",
       "      <td>44.0</td>\n",
       "      <td>Juanna Vines</td>\n",
       "      <td>1</td>\n",
       "    </tr>\n",
       "    <tr>\n",
       "      <th>2</th>\n",
       "      <td>0003_01</td>\n",
       "      <td>2</td>\n",
       "      <td>0</td>\n",
       "      <td>A/0/S</td>\n",
       "      <td>3</td>\n",
       "      <td>58</td>\n",
       "      <td>1</td>\n",
       "      <td>43.0</td>\n",
       "      <td>3576.0</td>\n",
       "      <td>0.0</td>\n",
       "      <td>6715.0</td>\n",
       "      <td>49.0</td>\n",
       "      <td>Altark Susent</td>\n",
       "      <td>0</td>\n",
       "    </tr>\n",
       "  </tbody>\n",
       "</table>\n",
       "</div>"
      ],
      "text/plain": [
       "  PassengerId  HomePlanet  CryoSleep  Cabin  Destination  Age  VIP  \\\n",
       "0     0001_01           2          0  B/0/P            3   39    0   \n",
       "1     0002_01           1          0  F/0/S            3   24    0   \n",
       "2     0003_01           2          0  A/0/S            3   58    1   \n",
       "\n",
       "   RoomService  FoodCourt  ShoppingMall     Spa  VRDeck             Name  \\\n",
       "0          0.0        0.0           0.0     0.0     0.0  Maham Ofracculy   \n",
       "1        109.0        9.0          25.0   549.0    44.0     Juanna Vines   \n",
       "2         43.0     3576.0           0.0  6715.0    49.0    Altark Susent   \n",
       "\n",
       "   Transported  \n",
       "0            0  \n",
       "1            1  \n",
       "2            0  "
      ]
     },
     "execution_count": 6,
     "metadata": {},
     "output_type": "execute_result"
    }
   ],
   "source": [
    "df[['HomePlanet', 'CryoSleep', 'Destination', 'Age', 'VIP']] = df[['HomePlanet', 'CryoSleep', 'Destination', 'Age', 'VIP']].astype('Int64')\n",
    "df.head(3)"
   ]
  },
  {
   "cell_type": "markdown",
   "id": "f90bfc03",
   "metadata": {
    "papermill": {
     "duration": 0.009514,
     "end_time": "2023-11-30T20:23:35.378072",
     "exception": false,
     "start_time": "2023-11-30T20:23:35.368558",
     "status": "completed"
    },
    "tags": []
   },
   "source": [
    "Now We can go to filling every null and nan cell in our dataframe"
   ]
  },
  {
   "cell_type": "code",
   "execution_count": 7,
   "id": "dd6df7f3",
   "metadata": {
    "execution": {
     "iopub.execute_input": "2023-11-30T20:23:35.450770Z",
     "iopub.status.busy": "2023-11-30T20:23:35.450194Z",
     "iopub.status.idle": "2023-11-30T20:23:35.454043Z",
     "shell.execute_reply": "2023-11-30T20:23:35.453381Z"
    },
    "papermill": {
     "duration": 0.016928,
     "end_time": "2023-11-30T20:23:35.455878",
     "exception": false,
     "start_time": "2023-11-30T20:23:35.438950",
     "status": "completed"
    },
    "tags": []
   },
   "outputs": [],
   "source": [
    "# import matplotlib.pyplot as plt\n",
    "# df.hist(bins=50, figsize=(20,15))\n",
    "# plt.show()"
   ]
  },
  {
   "cell_type": "code",
   "execution_count": 8,
   "id": "0e1dd58c",
   "metadata": {
    "execution": {
     "iopub.execute_input": "2023-11-30T20:23:35.477243Z",
     "iopub.status.busy": "2023-11-30T20:23:35.476707Z",
     "iopub.status.idle": "2023-11-30T20:23:35.515891Z",
     "shell.execute_reply": "2023-11-30T20:23:35.515154Z"
    },
    "papermill": {
     "duration": 0.052089,
     "end_time": "2023-11-30T20:23:35.517904",
     "exception": false,
     "start_time": "2023-11-30T20:23:35.465815",
     "status": "completed"
    },
    "tags": []
   },
   "outputs": [
    {
     "name": "stdout",
     "output_type": "stream",
     "text": [
      "<class 'pandas.core.frame.DataFrame'>\n",
      "RangeIndex: 8693 entries, 0 to 8692\n",
      "Data columns (total 14 columns):\n",
      " #   Column        Non-Null Count  Dtype  \n",
      "---  ------        --------------  -----  \n",
      " 0   PassengerId   8693 non-null   object \n",
      " 1   HomePlanet    8693 non-null   Int64  \n",
      " 2   CryoSleep     8693 non-null   int64  \n",
      " 3   Cabin         8693 non-null   object \n",
      " 4   Destination   8693 non-null   Int64  \n",
      " 5   Age           8693 non-null   int64  \n",
      " 6   VIP           8693 non-null   int64  \n",
      " 7   RoomService   8693 non-null   float64\n",
      " 8   FoodCourt     8693 non-null   float64\n",
      " 9   ShoppingMall  8693 non-null   float64\n",
      " 10  Spa           8693 non-null   float64\n",
      " 11  VRDeck        8693 non-null   float64\n",
      " 12  Name          8493 non-null   object \n",
      " 13  Transported   8693 non-null   int64  \n",
      "dtypes: Int64(2), float64(5), int64(4), object(3)\n",
      "memory usage: 967.9+ KB\n"
     ]
    }
   ],
   "source": [
    "df[\"HomePlanet\"].fillna(df[\"HomePlanet\"].mode()[0],inplace=True)\n",
    "df[\"Destination\"].fillna(df[\"Destination\"].mode()[0],inplace=True)\n",
    "df[\"CryoSleep\"].fillna(df[\"CryoSleep\"].mode()[0],inplace=True)\n",
    "df[\"Cabin\"].fillna(df[\"Cabin\"].mode()[0],inplace=True)\n",
    "df[\"VIP\"].fillna(df[\"VIP\"].mode()[0],inplace=True)\n",
    "df[\"Age\"].fillna(int(df[\"Age\"].mean()),inplace=True)\n",
    "df[\"RoomService\"].fillna(df[\"RoomService\"].mean(),inplace=True)\n",
    "df[\"FoodCourt\"].fillna(df[\"FoodCourt\"].mean(),inplace=True)\n",
    "df[\"ShoppingMall\"].fillna(df[\"ShoppingMall\"].mean(),inplace=True)\n",
    "df[\"Spa\"].fillna(df[\"Spa\"].mean(),inplace=True)\n",
    "df[\"VRDeck\"].fillna(df[\"VRDeck\"].mean(),inplace=True)\n",
    "df.Age = np.where(df.Age > 15 ,1,0)\n",
    "df.VIP = np.where(df.VIP,1,0)\n",
    "\n",
    "df.CryoSleep = np.where(df.CryoSleep,1,0)\n",
    "#No Nan, Null or empty cell\n",
    "df.info()"
   ]
  },
  {
   "cell_type": "code",
   "execution_count": 9,
   "id": "ae759192",
   "metadata": {
    "execution": {
     "iopub.execute_input": "2023-11-30T20:23:35.541213Z",
     "iopub.status.busy": "2023-11-30T20:23:35.540437Z",
     "iopub.status.idle": "2023-11-30T20:23:35.544761Z",
     "shell.execute_reply": "2023-11-30T20:23:35.543307Z"
    },
    "papermill": {
     "duration": 0.01859,
     "end_time": "2023-11-30T20:23:35.546942",
     "exception": false,
     "start_time": "2023-11-30T20:23:35.528352",
     "status": "completed"
    },
    "tags": []
   },
   "outputs": [],
   "source": [
    "# dfBackup = df\n",
    "# dfBackup.head(3)"
   ]
  },
  {
   "cell_type": "code",
   "execution_count": 10,
   "id": "ab642daf",
   "metadata": {
    "execution": {
     "iopub.execute_input": "2023-11-30T20:23:35.569647Z",
     "iopub.status.busy": "2023-11-30T20:23:35.569291Z",
     "iopub.status.idle": "2023-11-30T20:23:35.589054Z",
     "shell.execute_reply": "2023-11-30T20:23:35.587897Z"
    },
    "papermill": {
     "duration": 0.033491,
     "end_time": "2023-11-30T20:23:35.591021",
     "exception": false,
     "start_time": "2023-11-30T20:23:35.557530",
     "status": "completed"
    },
    "tags": []
   },
   "outputs": [
    {
     "data": {
      "text/html": [
       "<div>\n",
       "<style scoped>\n",
       "    .dataframe tbody tr th:only-of-type {\n",
       "        vertical-align: middle;\n",
       "    }\n",
       "\n",
       "    .dataframe tbody tr th {\n",
       "        vertical-align: top;\n",
       "    }\n",
       "\n",
       "    .dataframe thead th {\n",
       "        text-align: right;\n",
       "    }\n",
       "</style>\n",
       "<table border=\"1\" class=\"dataframe\">\n",
       "  <thead>\n",
       "    <tr style=\"text-align: right;\">\n",
       "      <th></th>\n",
       "      <th>PassengerId</th>\n",
       "      <th>HomePlanet</th>\n",
       "      <th>CryoSleep</th>\n",
       "      <th>Cabin</th>\n",
       "      <th>Destination</th>\n",
       "      <th>Age</th>\n",
       "      <th>VIP</th>\n",
       "      <th>RoomService</th>\n",
       "      <th>FoodCourt</th>\n",
       "      <th>ShoppingMall</th>\n",
       "      <th>Spa</th>\n",
       "      <th>VRDeck</th>\n",
       "      <th>Name</th>\n",
       "      <th>Transported</th>\n",
       "    </tr>\n",
       "  </thead>\n",
       "  <tbody>\n",
       "    <tr>\n",
       "      <th>0</th>\n",
       "      <td>0001_01</td>\n",
       "      <td>2</td>\n",
       "      <td>0</td>\n",
       "      <td>B/0/P</td>\n",
       "      <td>3</td>\n",
       "      <td>1</td>\n",
       "      <td>0</td>\n",
       "      <td>0.000000</td>\n",
       "      <td>0.000000</td>\n",
       "      <td>0.0</td>\n",
       "      <td>0.000000</td>\n",
       "      <td>0.00000</td>\n",
       "      <td>Maham Ofracculy</td>\n",
       "      <td>0</td>\n",
       "    </tr>\n",
       "    <tr>\n",
       "      <th>1</th>\n",
       "      <td>0002_01</td>\n",
       "      <td>1</td>\n",
       "      <td>0</td>\n",
       "      <td>F/0/S</td>\n",
       "      <td>3</td>\n",
       "      <td>1</td>\n",
       "      <td>0</td>\n",
       "      <td>10.440307</td>\n",
       "      <td>3.000000</td>\n",
       "      <td>5.0</td>\n",
       "      <td>23.430749</td>\n",
       "      <td>6.63325</td>\n",
       "      <td>Juanna Vines</td>\n",
       "      <td>1</td>\n",
       "    </tr>\n",
       "    <tr>\n",
       "      <th>2</th>\n",
       "      <td>0003_01</td>\n",
       "      <td>2</td>\n",
       "      <td>0</td>\n",
       "      <td>A/0/S</td>\n",
       "      <td>3</td>\n",
       "      <td>1</td>\n",
       "      <td>1</td>\n",
       "      <td>6.557439</td>\n",
       "      <td>59.799666</td>\n",
       "      <td>0.0</td>\n",
       "      <td>81.945104</td>\n",
       "      <td>7.00000</td>\n",
       "      <td>Altark Susent</td>\n",
       "      <td>0</td>\n",
       "    </tr>\n",
       "  </tbody>\n",
       "</table>\n",
       "</div>"
      ],
      "text/plain": [
       "  PassengerId  HomePlanet  CryoSleep  Cabin  Destination  Age  VIP  \\\n",
       "0     0001_01           2          0  B/0/P            3    1    0   \n",
       "1     0002_01           1          0  F/0/S            3    1    0   \n",
       "2     0003_01           2          0  A/0/S            3    1    1   \n",
       "\n",
       "   RoomService  FoodCourt  ShoppingMall        Spa   VRDeck             Name  \\\n",
       "0     0.000000   0.000000           0.0   0.000000  0.00000  Maham Ofracculy   \n",
       "1    10.440307   3.000000           5.0  23.430749  6.63325     Juanna Vines   \n",
       "2     6.557439  59.799666           0.0  81.945104  7.00000    Altark Susent   \n",
       "\n",
       "   Transported  \n",
       "0            0  \n",
       "1            1  \n",
       "2            0  "
      ]
     },
     "execution_count": 10,
     "metadata": {},
     "output_type": "execute_result"
    }
   ],
   "source": [
    "# Apply square root transformation\n",
    "df['RoomService'] = df['RoomService']**0.5\n",
    "df['FoodCourt'] = df['FoodCourt']**0.5\n",
    "df['ShoppingMall'] = df['ShoppingMall']**0.5\n",
    "df['Spa'] = df['Spa']**0.5\n",
    "df['VRDeck'] = df['VRDeck']**0.5\n",
    "df.head(3)"
   ]
  },
  {
   "cell_type": "code",
   "execution_count": 11,
   "id": "400cc3ee",
   "metadata": {
    "execution": {
     "iopub.execute_input": "2023-11-30T20:23:35.615242Z",
     "iopub.status.busy": "2023-11-30T20:23:35.613498Z",
     "iopub.status.idle": "2023-11-30T20:23:35.619659Z",
     "shell.execute_reply": "2023-11-30T20:23:35.618454Z"
    },
    "papermill": {
     "duration": 0.020459,
     "end_time": "2023-11-30T20:23:35.622414",
     "exception": false,
     "start_time": "2023-11-30T20:23:35.601955",
     "status": "completed"
    },
    "tags": []
   },
   "outputs": [],
   "source": [
    "# # Apply log transformation\n",
    "# df['RoomService'] = np.log1p(df['RoomService'])\n",
    "# df['FoodCourt'] = np.log1p(df['FoodCourt'])\n",
    "# df['ShoppingMall'] = np.log1p(df['ShoppingMall'])\n",
    "# df['Spa'] = np.log1p(df['Spa'])\n",
    "# df['VRDeck'] = np.log1p(df['VRDeck'])\n",
    "# df.head(3)"
   ]
  },
  {
   "cell_type": "code",
   "execution_count": 12,
   "id": "e22da231",
   "metadata": {
    "execution": {
     "iopub.execute_input": "2023-11-30T20:23:35.646072Z",
     "iopub.status.busy": "2023-11-30T20:23:35.645679Z",
     "iopub.status.idle": "2023-11-30T20:23:37.868262Z",
     "shell.execute_reply": "2023-11-30T20:23:37.867149Z"
    },
    "papermill": {
     "duration": 2.237451,
     "end_time": "2023-11-30T20:23:37.870515",
     "exception": false,
     "start_time": "2023-11-30T20:23:35.633064",
     "status": "completed"
    },
    "tags": []
   },
   "outputs": [
    {
     "data": {
      "text/plain": [
       "<Axes: >"
      ]
     },
     "execution_count": 12,
     "metadata": {},
     "output_type": "execute_result"
    },
    {
     "data": {
      "image/png": "[encoded data removed]",
      "text/plain": [
       "<Figure size 640x480 with 2 Axes>"
      ]
     },
     "metadata": {},
     "output_type": "display_data"
    }
   ],
   "source": [
    "import seaborn as sb\n",
    "df_num = df.select_dtypes(include=['float64', 'int64'])\n",
    "\n",
    "# Calculate the correlations of numerical columns\n",
    "corr = df_num.corr()\n",
    "\n",
    "sb.heatmap(corr, annot=True)"
   ]
  },
  {
   "cell_type": "code",
   "execution_count": 13,
   "id": "2fd97888",
   "metadata": {
    "execution": {
     "iopub.execute_input": "2023-11-30T20:23:37.895737Z",
     "iopub.status.busy": "2023-11-30T20:23:37.895390Z",
     "iopub.status.idle": "2023-11-30T20:23:37.900502Z",
     "shell.execute_reply": "2023-11-30T20:23:37.899182Z"
    },
    "papermill": {
     "duration": 0.020634,
     "end_time": "2023-11-30T20:23:37.902984",
     "exception": false,
     "start_time": "2023-11-30T20:23:37.882350",
     "status": "completed"
    },
    "tags": []
   },
   "outputs": [],
   "source": [
    "# # Apply binning\n",
    "# df['RoomService'] = pd.qcut(df['RoomService'], q=4)\n",
    "# df['FoodCourt'] = pd.qcut(df['FoodCourt'], q=4)\n",
    "# df['ShoppingMall'] = pd.qcut(df['ShoppingMall'], q=4)\n",
    "# df['Spa'] = pd.qcut(df['Spa'], q=4)\n",
    "# df['VRDeck'] = pd.qcut(df['VRDeck'], q=4)"
   ]
  },
  {
   "cell_type": "code",
   "execution_count": 14,
   "id": "19f75f6b",
   "metadata": {
    "execution": {
     "iopub.execute_input": "2023-11-30T20:23:37.928731Z",
     "iopub.status.busy": "2023-11-30T20:23:37.927807Z",
     "iopub.status.idle": "2023-11-30T20:23:37.932263Z",
     "shell.execute_reply": "2023-11-30T20:23:37.931400Z"
    },
    "papermill": {
     "duration": 0.019067,
     "end_time": "2023-11-30T20:23:37.934056",
     "exception": false,
     "start_time": "2023-11-30T20:23:37.914989",
     "status": "completed"
    },
    "tags": []
   },
   "outputs": [],
   "source": [
    "# df.Age = np.where(df_test.Age>15,0,1)\n",
    "# df['Age'] = pd.qcut(df['Age'], q=8)\n",
    "# set(df['Age'])"
   ]
  },
  {
   "cell_type": "code",
   "execution_count": 15,
   "id": "7c469198",
   "metadata": {
    "execution": {
     "iopub.execute_input": "2023-11-30T20:23:37.958845Z",
     "iopub.status.busy": "2023-11-30T20:23:37.958519Z",
     "iopub.status.idle": "2023-11-30T20:23:37.962438Z",
     "shell.execute_reply": "2023-11-30T20:23:37.961718Z"
    },
    "papermill": {
     "duration": 0.018428,
     "end_time": "2023-11-30T20:23:37.964191",
     "exception": false,
     "start_time": "2023-11-30T20:23:37.945763",
     "status": "completed"
    },
    "tags": []
   },
   "outputs": [],
   "source": [
    "# df.head()"
   ]
  },
  {
   "cell_type": "code",
   "execution_count": 16,
   "id": "82246dbf",
   "metadata": {
    "execution": {
     "iopub.execute_input": "2023-11-30T20:23:37.989577Z",
     "iopub.status.busy": "2023-11-30T20:23:37.988711Z",
     "iopub.status.idle": "2023-11-30T20:23:37.993505Z",
     "shell.execute_reply": "2023-11-30T20:23:37.992385Z"
    },
    "papermill": {
     "duration": 0.019849,
     "end_time": "2023-11-30T20:23:37.995698",
     "exception": false,
     "start_time": "2023-11-30T20:23:37.975849",
     "status": "completed"
    },
    "tags": []
   },
   "outputs": [],
   "source": [
    "#print('cryo Taransported: ', sum(df[df.CryoSleep == 1].Transported), 'transported: ',sum(df.Transported))\n",
    "# # Calculate mean\n",
    "# df['Mean_luxury'] = df[['RoomService', 'FoodCourt', 'ShoppingMall', 'Spa', 'VRDeck']].mean(axis=1)\n",
    "\n",
    "# df = df.drop(columns=['RoomService', 'FoodCourt', 'ShoppingMall', 'Spa', 'VRDeck'])\n",
    "\n",
    "# df['BigSpender'] = np.where(df.Mean_luxury > 1000, 1,0)\n",
    "# df['Mid_Spender'] = np.where(df.Mean_luxury >= 500, 1,0)\n",
    "# df['Non_Spender'] = np.where(df.Mean_luxury == 0, 1,0)\n",
    "# df.head(3)"
   ]
  },
  {
   "cell_type": "markdown",
   "id": "296c63f7",
   "metadata": {
    "papermill": {
     "duration": 0.012506,
     "end_time": "2023-11-30T20:23:38.020243",
     "exception": false,
     "start_time": "2023-11-30T20:23:38.007737",
     "status": "completed"
    },
    "tags": []
   },
   "source": [
    "{1:'55 Cancri e', 2:'PSO J318.5-22', 3:'TRAPPIST-1e'}\n",
    "{1:'Earth', 2:'Europa', 3:'Mars'}\n",
    "<<<<<HomePlanet to Destination>>>>\n",
    "1 to 1 >>> 721\n",
    "1 to 2 >>> 728\n",
    "1 to 3 >>> 3354\n",
    "--------------    \n",
    "2 to 1 >>> 193\n",
    "2 to 2 >>> 49\n",
    "2 to 3 >>> 1517\n",
    "-------------- \n",
    "3 to 1 >>> 886\n",
    "3 to 2 >>> 19\n",
    "3 to 3 >>> 1226\n",
    "-------------- "
   ]
  },
  {
   "cell_type": "code",
   "execution_count": 17,
   "id": "eb16caa5",
   "metadata": {
    "execution": {
     "iopub.execute_input": "2023-11-30T20:23:38.046327Z",
     "iopub.status.busy": "2023-11-30T20:23:38.046001Z",
     "iopub.status.idle": "2023-11-30T20:23:38.050770Z",
     "shell.execute_reply": "2023-11-30T20:23:38.049797Z"
    },
    "papermill": {
     "duration": 0.020433,
     "end_time": "2023-11-30T20:23:38.052819",
     "exception": false,
     "start_time": "2023-11-30T20:23:38.032386",
     "status": "completed"
    },
    "tags": []
   },
   "outputs": [],
   "source": [
    "#print(sum(df[df.HomePlanet == 1].Transported),sum(df.HomePlanet == 1))\n",
    "# sum(df[df.CryoSleep == 1].VIP)"
   ]
  },
  {
   "cell_type": "code",
   "execution_count": 18,
   "id": "08785167",
   "metadata": {
    "execution": {
     "iopub.execute_input": "2023-11-30T20:23:38.078514Z",
     "iopub.status.busy": "2023-11-30T20:23:38.078116Z",
     "iopub.status.idle": "2023-11-30T20:23:38.083290Z",
     "shell.execute_reply": "2023-11-30T20:23:38.082250Z"
    },
    "papermill": {
     "duration": 0.020767,
     "end_time": "2023-11-30T20:23:38.085670",
     "exception": false,
     "start_time": "2023-11-30T20:23:38.064903",
     "status": "completed"
    },
    "tags": []
   },
   "outputs": [],
   "source": [
    "# print('Slept and didnt spend: ',sum(df[df.CryoSleep == 1].Non_Spender),'All that Slept: ',sum(df.CryoSleep),'All Non-Speders: ',sum(df.Non_Spender))"
   ]
  },
  {
   "cell_type": "code",
   "execution_count": 19,
   "id": "32ec0582",
   "metadata": {
    "execution": {
     "iopub.execute_input": "2023-11-30T20:23:38.110915Z",
     "iopub.status.busy": "2023-11-30T20:23:38.110569Z",
     "iopub.status.idle": "2023-11-30T20:23:38.163401Z",
     "shell.execute_reply": "2023-11-30T20:23:38.162450Z"
    },
    "papermill": {
     "duration": 0.068581,
     "end_time": "2023-11-30T20:23:38.166126",
     "exception": false,
     "start_time": "2023-11-30T20:23:38.097545",
     "status": "completed"
    },
    "tags": []
   },
   "outputs": [
    {
     "data": {
      "text/html": [
       "<div>\n",
       "<style scoped>\n",
       "    .dataframe tbody tr th:only-of-type {\n",
       "        vertical-align: middle;\n",
       "    }\n",
       "\n",
       "    .dataframe tbody tr th {\n",
       "        vertical-align: top;\n",
       "    }\n",
       "\n",
       "    .dataframe thead th {\n",
       "        text-align: right;\n",
       "    }\n",
       "</style>\n",
       "<table border=\"1\" class=\"dataframe\">\n",
       "  <thead>\n",
       "    <tr style=\"text-align: right;\">\n",
       "      <th></th>\n",
       "      <th>PassengerId</th>\n",
       "      <th>HomePlanet</th>\n",
       "      <th>CryoSleep</th>\n",
       "      <th>Cabin</th>\n",
       "      <th>Destination</th>\n",
       "      <th>Age</th>\n",
       "      <th>VIP</th>\n",
       "      <th>RoomService</th>\n",
       "      <th>FoodCourt</th>\n",
       "      <th>ShoppingMall</th>\n",
       "      <th>Spa</th>\n",
       "      <th>VRDeck</th>\n",
       "      <th>Name</th>\n",
       "      <th>Transported</th>\n",
       "      <th>Port</th>\n",
       "      <th>Place</th>\n",
       "    </tr>\n",
       "  </thead>\n",
       "  <tbody>\n",
       "    <tr>\n",
       "      <th>0</th>\n",
       "      <td>0001_01</td>\n",
       "      <td>2</td>\n",
       "      <td>0</td>\n",
       "      <td>0</td>\n",
       "      <td>3</td>\n",
       "      <td>1</td>\n",
       "      <td>0</td>\n",
       "      <td>0.000000</td>\n",
       "      <td>0.000000</td>\n",
       "      <td>0.0</td>\n",
       "      <td>0.000000</td>\n",
       "      <td>0.00000</td>\n",
       "      <td>Maham Ofracculy</td>\n",
       "      <td>0</td>\n",
       "      <td>1</td>\n",
       "      <td>2</td>\n",
       "    </tr>\n",
       "    <tr>\n",
       "      <th>1</th>\n",
       "      <td>0002_01</td>\n",
       "      <td>1</td>\n",
       "      <td>0</td>\n",
       "      <td>0</td>\n",
       "      <td>3</td>\n",
       "      <td>1</td>\n",
       "      <td>0</td>\n",
       "      <td>10.440307</td>\n",
       "      <td>3.000000</td>\n",
       "      <td>5.0</td>\n",
       "      <td>23.430749</td>\n",
       "      <td>6.63325</td>\n",
       "      <td>Juanna Vines</td>\n",
       "      <td>1</td>\n",
       "      <td>0</td>\n",
       "      <td>6</td>\n",
       "    </tr>\n",
       "    <tr>\n",
       "      <th>2</th>\n",
       "      <td>0003_01</td>\n",
       "      <td>2</td>\n",
       "      <td>0</td>\n",
       "      <td>0</td>\n",
       "      <td>3</td>\n",
       "      <td>1</td>\n",
       "      <td>1</td>\n",
       "      <td>6.557439</td>\n",
       "      <td>59.799666</td>\n",
       "      <td>0.0</td>\n",
       "      <td>81.945104</td>\n",
       "      <td>7.00000</td>\n",
       "      <td>Altark Susent</td>\n",
       "      <td>0</td>\n",
       "      <td>0</td>\n",
       "      <td>1</td>\n",
       "    </tr>\n",
       "  </tbody>\n",
       "</table>\n",
       "</div>"
      ],
      "text/plain": [
       "  PassengerId  HomePlanet  CryoSleep  Cabin  Destination  Age  VIP  \\\n",
       "0     0001_01           2          0      0            3    1    0   \n",
       "1     0002_01           1          0      0            3    1    0   \n",
       "2     0003_01           2          0      0            3    1    1   \n",
       "\n",
       "   RoomService  FoodCourt  ShoppingMall        Spa   VRDeck             Name  \\\n",
       "0     0.000000   0.000000           0.0   0.000000  0.00000  Maham Ofracculy   \n",
       "1    10.440307   3.000000           5.0  23.430749  6.63325     Juanna Vines   \n",
       "2     6.557439  59.799666           0.0  81.945104  7.00000    Altark Susent   \n",
       "\n",
       "   Transported  Port  Place  \n",
       "0            0     1      2  \n",
       "1            1     0      6  \n",
       "2            0     0      1  "
      ]
     },
     "execution_count": 19,
     "metadata": {},
     "output_type": "execute_result"
    }
   ],
   "source": [
    "#Port or Starboard of the cabins\n",
    "df['Port'] = df['Cabin'].str.split('/').str[-1]\n",
    "df['Port'].replace('S', 0, inplace=True)\n",
    "df['Port'].replace('P', 1, inplace=True)\n",
    "\n",
    "#Class of the cabins\n",
    "df['Place'] = df['Cabin'].str.split('/').str[0]\n",
    "letter_to_int = {'A': 1, 'B': 2, 'C': 3, 'D': 4, 'E': 5, 'F': 6, 'G': 7, 'T': 8}\n",
    "df['Place'] = df['Place'].map(letter_to_int)\n",
    "\n",
    "\n",
    "#Number of cabins\n",
    "df['Cabin'] = df['Cabin'].str.split('/').str[1]\n",
    "df['Cabin'] = df['Cabin'].astype('Int64')\n",
    "df.head(3)"
   ]
  },
  {
   "cell_type": "code",
   "execution_count": 20,
   "id": "bb246ed7",
   "metadata": {
    "execution": {
     "iopub.execute_input": "2023-11-30T20:23:38.193714Z",
     "iopub.status.busy": "2023-11-30T20:23:38.193357Z",
     "iopub.status.idle": "2023-11-30T20:23:38.198533Z",
     "shell.execute_reply": "2023-11-30T20:23:38.196842Z"
    },
    "papermill": {
     "duration": 0.02154,
     "end_time": "2023-11-30T20:23:38.200531",
     "exception": false,
     "start_time": "2023-11-30T20:23:38.178991",
     "status": "completed"
    },
    "tags": []
   },
   "outputs": [],
   "source": [
    "# ids_groups = np.array([i.split(\"_\") for i in df.PassengerId.values])\n",
    "# unique_groups = np.unique(ids_groups[:,0])\n",
    "# group_status = dict()\n",
    "# for i in unique_groups:\n",
    "#     passeng = ids_groups[ids_groups[:,0]==i]\n",
    "#     for j in range(len(passeng)):\n",
    "#         group_status[\"_\".join(passeng[j])]=int(len(passeng)>1)"
   ]
  },
  {
   "cell_type": "code",
   "execution_count": 21,
   "id": "9c7808e3",
   "metadata": {
    "execution": {
     "iopub.execute_input": "2023-11-30T20:23:38.226371Z",
     "iopub.status.busy": "2023-11-30T20:23:38.226021Z",
     "iopub.status.idle": "2023-11-30T20:23:38.241611Z",
     "shell.execute_reply": "2023-11-30T20:23:38.239892Z"
    },
    "papermill": {
     "duration": 0.030926,
     "end_time": "2023-11-30T20:23:38.243553",
     "exception": false,
     "start_time": "2023-11-30T20:23:38.212627",
     "status": "completed"
    },
    "tags": []
   },
   "outputs": [
    {
     "name": "stdout",
     "output_type": "stream",
     "text": [
      "<class 'pandas.core.frame.DataFrame'>\n",
      "RangeIndex: 8693 entries, 0 to 8692\n",
      "Data columns (total 16 columns):\n",
      " #   Column        Non-Null Count  Dtype  \n",
      "---  ------        --------------  -----  \n",
      " 0   PassengerId   8693 non-null   object \n",
      " 1   HomePlanet    8693 non-null   Int64  \n",
      " 2   CryoSleep     8693 non-null   int64  \n",
      " 3   Cabin         8693 non-null   Int64  \n",
      " 4   Destination   8693 non-null   Int64  \n",
      " 5   Age           8693 non-null   int64  \n",
      " 6   VIP           8693 non-null   int64  \n",
      " 7   RoomService   8693 non-null   float64\n",
      " 8   FoodCourt     8693 non-null   float64\n",
      " 9   ShoppingMall  8693 non-null   float64\n",
      " 10  Spa           8693 non-null   float64\n",
      " 11  VRDeck        8693 non-null   float64\n",
      " 12  Name          8493 non-null   object \n",
      " 13  Transported   8693 non-null   int64  \n",
      " 14  Port          8693 non-null   int64  \n",
      " 15  Place         8693 non-null   int64  \n",
      "dtypes: Int64(3), float64(5), int64(6), object(2)\n",
      "memory usage: 1.1+ MB\n"
     ]
    }
   ],
   "source": [
    "# #Lastnames\n",
    "# df['LastName'] = df['Name'].str.split(' ').str[-1]\n",
    "\n",
    "# #Guessing Families\n",
    "# df['FamilyId'] = df['PassengerId'].apply(lambda x: x.split('_')[0])\n",
    "# #\n",
    "# ids_groups = np.array([i.split(\"_\") for i in df.PassengerId.values])\n",
    "# # unique_groups = np.unique(ids_groups[:,0])\n",
    "# df['GroupID'] = df.groupby(ids_groups[:,0]).ngroup()\n",
    "df.info()"
   ]
  },
  {
   "cell_type": "code",
   "execution_count": 22,
   "id": "530bee22",
   "metadata": {
    "execution": {
     "iopub.execute_input": "2023-11-30T20:23:38.270110Z",
     "iopub.status.busy": "2023-11-30T20:23:38.269772Z",
     "iopub.status.idle": "2023-11-30T20:23:38.274123Z",
     "shell.execute_reply": "2023-11-30T20:23:38.272862Z"
    },
    "papermill": {
     "duration": 0.020843,
     "end_time": "2023-11-30T20:23:38.276758",
     "exception": false,
     "start_time": "2023-11-30T20:23:38.255915",
     "status": "completed"
    },
    "tags": []
   },
   "outputs": [],
   "source": [
    "# mids = sum(df[df.CryoSleep == 0].Non_Spender)\n",
    "# totalAwake = sum(df.CryoSleep == 0)\n",
    "# awakeTransported = sum(df[df.CryoSleep == 0].Transported)\n",
    "# awakeMidTransported = sum(df[(df['CryoSleep'] == 0) & (df['Age'] < 15))]['Transported'])\n",
    "# print(mids/totalAwake,awakeTransported/totalAwake, awakeMidTransported / totalAwake, awakeMidTransported / mids)\n",
    "# print(sum(df[df.Age < 15].CryoSleep == 0))"
   ]
  },
  {
   "cell_type": "code",
   "execution_count": 23,
   "id": "48945bde",
   "metadata": {
    "execution": {
     "iopub.execute_input": "2023-11-30T20:23:38.302662Z",
     "iopub.status.busy": "2023-11-30T20:23:38.302356Z",
     "iopub.status.idle": "2023-11-30T20:23:38.305821Z",
     "shell.execute_reply": "2023-11-30T20:23:38.304893Z"
    },
    "papermill": {
     "duration": 0.018849,
     "end_time": "2023-11-30T20:23:38.307692",
     "exception": false,
     "start_time": "2023-11-30T20:23:38.288843",
     "status": "completed"
    },
    "tags": []
   },
   "outputs": [],
   "source": [
    "# age = 10\n",
    "# print('less than:',age,'years: ', sum(df[df.Age < age].Transported),sum(df.Age < age))\n",
    "# print('higher than:',age,'years: ', sum(df[df.Age > age].Transported),sum(df.Age > age))"
   ]
  },
  {
   "cell_type": "code",
   "execution_count": 24,
   "id": "0ba775cb",
   "metadata": {
    "execution": {
     "iopub.execute_input": "2023-11-30T20:23:38.332707Z",
     "iopub.status.busy": "2023-11-30T20:23:38.332353Z",
     "iopub.status.idle": "2023-11-30T20:23:38.351007Z",
     "shell.execute_reply": "2023-11-30T20:23:38.349713Z"
    },
    "papermill": {
     "duration": 0.033523,
     "end_time": "2023-11-30T20:23:38.352990",
     "exception": false,
     "start_time": "2023-11-30T20:23:38.319467",
     "status": "completed"
    },
    "tags": []
   },
   "outputs": [
    {
     "data": {
      "text/html": [
       "<div>\n",
       "<style scoped>\n",
       "    .dataframe tbody tr th:only-of-type {\n",
       "        vertical-align: middle;\n",
       "    }\n",
       "\n",
       "    .dataframe tbody tr th {\n",
       "        vertical-align: top;\n",
       "    }\n",
       "\n",
       "    .dataframe thead th {\n",
       "        text-align: right;\n",
       "    }\n",
       "</style>\n",
       "<table border=\"1\" class=\"dataframe\">\n",
       "  <thead>\n",
       "    <tr style=\"text-align: right;\">\n",
       "      <th></th>\n",
       "      <th>HomePlanet</th>\n",
       "      <th>CryoSleep</th>\n",
       "      <th>Cabin</th>\n",
       "      <th>Destination</th>\n",
       "      <th>Age</th>\n",
       "      <th>VIP</th>\n",
       "      <th>RoomService</th>\n",
       "      <th>FoodCourt</th>\n",
       "      <th>ShoppingMall</th>\n",
       "      <th>Spa</th>\n",
       "      <th>VRDeck</th>\n",
       "      <th>Port</th>\n",
       "      <th>Place</th>\n",
       "    </tr>\n",
       "  </thead>\n",
       "  <tbody>\n",
       "    <tr>\n",
       "      <th>0</th>\n",
       "      <td>2</td>\n",
       "      <td>0</td>\n",
       "      <td>0</td>\n",
       "      <td>3</td>\n",
       "      <td>1</td>\n",
       "      <td>0</td>\n",
       "      <td>0.000000</td>\n",
       "      <td>0.000000</td>\n",
       "      <td>0.0</td>\n",
       "      <td>0.000000</td>\n",
       "      <td>0.00000</td>\n",
       "      <td>1</td>\n",
       "      <td>2</td>\n",
       "    </tr>\n",
       "    <tr>\n",
       "      <th>1</th>\n",
       "      <td>1</td>\n",
       "      <td>0</td>\n",
       "      <td>0</td>\n",
       "      <td>3</td>\n",
       "      <td>1</td>\n",
       "      <td>0</td>\n",
       "      <td>10.440307</td>\n",
       "      <td>3.000000</td>\n",
       "      <td>5.0</td>\n",
       "      <td>23.430749</td>\n",
       "      <td>6.63325</td>\n",
       "      <td>0</td>\n",
       "      <td>6</td>\n",
       "    </tr>\n",
       "    <tr>\n",
       "      <th>2</th>\n",
       "      <td>2</td>\n",
       "      <td>0</td>\n",
       "      <td>0</td>\n",
       "      <td>3</td>\n",
       "      <td>1</td>\n",
       "      <td>1</td>\n",
       "      <td>6.557439</td>\n",
       "      <td>59.799666</td>\n",
       "      <td>0.0</td>\n",
       "      <td>81.945104</td>\n",
       "      <td>7.00000</td>\n",
       "      <td>0</td>\n",
       "      <td>1</td>\n",
       "    </tr>\n",
       "  </tbody>\n",
       "</table>\n",
       "</div>"
      ],
      "text/plain": [
       "   HomePlanet  CryoSleep  Cabin  Destination  Age  VIP  RoomService  \\\n",
       "0           2          0      0            3    1    0     0.000000   \n",
       "1           1          0      0            3    1    0    10.440307   \n",
       "2           2          0      0            3    1    1     6.557439   \n",
       "\n",
       "   FoodCourt  ShoppingMall        Spa   VRDeck  Port  Place  \n",
       "0   0.000000           0.0   0.000000  0.00000     1      2  \n",
       "1   3.000000           5.0  23.430749  6.63325     0      6  \n",
       "2  59.799666           0.0  81.945104  7.00000     0      1  "
      ]
     },
     "execution_count": 24,
     "metadata": {},
     "output_type": "execute_result"
    }
   ],
   "source": [
    "newtrainDF = df\n",
    "ids = newtrainDF['PassengerId'].copy()\n",
    "transporteds = newtrainDF['Transported'].copy()\n",
    "newtrainDF = newtrainDF.drop(columns=['PassengerId','Name','Transported'])\n",
    "newtrainDF.head(3)"
   ]
  },
  {
   "cell_type": "code",
   "execution_count": 25,
   "id": "a306530e",
   "metadata": {
    "execution": {
     "iopub.execute_input": "2023-11-30T20:23:38.379943Z",
     "iopub.status.busy": "2023-11-30T20:23:38.379264Z",
     "iopub.status.idle": "2023-11-30T20:23:38.391973Z",
     "shell.execute_reply": "2023-11-30T20:23:38.390296Z"
    },
    "papermill": {
     "duration": 0.028839,
     "end_time": "2023-11-30T20:23:38.394295",
     "exception": false,
     "start_time": "2023-11-30T20:23:38.365456",
     "status": "completed"
    },
    "tags": []
   },
   "outputs": [
    {
     "name": "stdout",
     "output_type": "stream",
     "text": [
      "<class 'pandas.core.frame.DataFrame'>\n",
      "RangeIndex: 8693 entries, 0 to 8692\n",
      "Data columns (total 13 columns):\n",
      " #   Column        Non-Null Count  Dtype  \n",
      "---  ------        --------------  -----  \n",
      " 0   HomePlanet    8693 non-null   Int64  \n",
      " 1   CryoSleep     8693 non-null   int64  \n",
      " 2   Cabin         8693 non-null   Int64  \n",
      " 3   Destination   8693 non-null   Int64  \n",
      " 4   Age           8693 non-null   int64  \n",
      " 5   VIP           8693 non-null   int64  \n",
      " 6   RoomService   8693 non-null   float64\n",
      " 7   FoodCourt     8693 non-null   float64\n",
      " 8   ShoppingMall  8693 non-null   float64\n",
      " 9   Spa           8693 non-null   float64\n",
      " 10  VRDeck        8693 non-null   float64\n",
      " 11  Port          8693 non-null   int64  \n",
      " 12  Place         8693 non-null   int64  \n",
      "dtypes: Int64(3), float64(5), int64(5)\n",
      "memory usage: 908.5 KB\n"
     ]
    }
   ],
   "source": [
    "newtrainDF.info()"
   ]
  },
  {
   "cell_type": "code",
   "execution_count": 26,
   "id": "7994961b",
   "metadata": {
    "execution": {
     "iopub.execute_input": "2023-11-30T20:23:38.420768Z",
     "iopub.status.busy": "2023-11-30T20:23:38.420437Z",
     "iopub.status.idle": "2023-11-30T20:23:38.425173Z",
     "shell.execute_reply": "2023-11-30T20:23:38.423972Z"
    },
    "papermill": {
     "duration": 0.020047,
     "end_time": "2023-11-30T20:23:38.427107",
     "exception": false,
     "start_time": "2023-11-30T20:23:38.407060",
     "status": "completed"
    },
    "tags": []
   },
   "outputs": [],
   "source": [
    "# from sklearn.model_selection import train_test_split\n",
    "# X_train, X_test, y_train, y_test = train_test_split(newtrainDF.drop('Transported',axis=1), \n",
    "#                                                   df['Transported'], test_size=0.30, \n",
    "#                                                     random_state=101)\n",
    "# newtrainDF.head(1)"
   ]
  },
  {
   "cell_type": "code",
   "execution_count": 27,
   "id": "3855ced5",
   "metadata": {
    "execution": {
     "iopub.execute_input": "2023-11-30T20:23:38.453650Z",
     "iopub.status.busy": "2023-11-30T20:23:38.453347Z",
     "iopub.status.idle": "2023-11-30T20:23:40.082538Z",
     "shell.execute_reply": "2023-11-30T20:23:40.081770Z"
    },
    "papermill": {
     "duration": 1.64524,
     "end_time": "2023-11-30T20:23:40.084877",
     "exception": false,
     "start_time": "2023-11-30T20:23:38.439637",
     "status": "completed"
    },
    "tags": []
   },
   "outputs": [
    {
     "data": {
      "text/html": [
       "<style>#sk-container-id-1 {color: black;background-color: white;}#sk-container-id-1 pre{padding: 0;}#sk-container-id-1 div.sk-toggleable {background-color: white;}#sk-container-id-1 label.sk-toggleable__label {cursor: pointer;display: block;width: 100%;margin-bottom: 0;padding: 0.3em;box-sizing: border-box;text-align: center;}#sk-container-id-1 label.sk-toggleable__label-arrow:before {content: \"▸\";float: left;margin-right: 0.25em;color: #696969;}#sk-container-id-1 label.sk-toggleable__label-arrow:hover:before {color: black;}#sk-container-id-1 div.sk-estimator:hover label.sk-toggleable__label-arrow:before {color: black;}#sk-container-id-1 div.sk-toggleable__content {max-height: 0;max-width: 0;overflow: hidden;text-align: left;background-color: #f0f8ff;}#sk-container-id-1 div.sk-toggleable__content pre {margin: 0.2em;color: black;border-radius: 0.25em;background-color: #f0f8ff;}#sk-container-id-1 input.sk-toggleable__control:checked~div.sk-toggleable__content {max-height: 200px;max-width: 100%;overflow: auto;}#sk-container-id-1 input.sk-toggleable__control:checked~label.sk-toggleable__label-arrow:before {content: \"▾\";}#sk-container-id-1 div.sk-estimator input.sk-toggleable__control:checked~label.sk-toggleable__label {background-color: #d4ebff;}#sk-container-id-1 div.sk-label input.sk-toggleable__control:checked~label.sk-toggleable__label {background-color: #d4ebff;}#sk-container-id-1 input.sk-hidden--visually {border: 0;clip: rect(1px 1px 1px 1px);clip: rect(1px, 1px, 1px, 1px);height: 1px;margin: -1px;overflow: hidden;padding: 0;position: absolute;width: 1px;}#sk-container-id-1 div.sk-estimator {font-family: monospace;background-color: #f0f8ff;border: 1px dotted black;border-radius: 0.25em;box-sizing: border-box;margin-bottom: 0.5em;}#sk-container-id-1 div.sk-estimator:hover {background-color: #d4ebff;}#sk-container-id-1 div.sk-parallel-item::after {content: \"\";width: 100%;border-bottom: 1px solid gray;flex-grow: 1;}#sk-container-id-1 div.sk-label:hover label.sk-toggleable__label {background-color: #d4ebff;}#sk-container-id-1 div.sk-serial::before {content: \"\";position: absolute;border-left: 1px solid gray;box-sizing: border-box;top: 0;bottom: 0;left: 50%;z-index: 0;}#sk-container-id-1 div.sk-serial {display: flex;flex-direction: column;align-items: center;background-color: white;padding-right: 0.2em;padding-left: 0.2em;position: relative;}#sk-container-id-1 div.sk-item {position: relative;z-index: 1;}#sk-container-id-1 div.sk-parallel {display: flex;align-items: stretch;justify-content: center;background-color: white;position: relative;}#sk-container-id-1 div.sk-item::before, #sk-container-id-1 div.sk-parallel-item::before {content: \"\";position: absolute;border-left: 1px solid gray;box-sizing: border-box;top: 0;bottom: 0;left: 50%;z-index: -1;}#sk-container-id-1 div.sk-parallel-item {display: flex;flex-direction: column;z-index: 1;position: relative;background-color: white;}#sk-container-id-1 div.sk-parallel-item:first-child::after {align-self: flex-end;width: 50%;}#sk-container-id-1 div.sk-parallel-item:last-child::after {align-self: flex-start;width: 50%;}#sk-container-id-1 div.sk-parallel-item:only-child::after {width: 0;}#sk-container-id-1 div.sk-dashed-wrapped {border: 1px dashed gray;margin: 0 0.4em 0.5em 0.4em;box-sizing: border-box;padding-bottom: 0.4em;background-color: white;}#sk-container-id-1 div.sk-label label {font-family: monospace;font-weight: bold;display: inline-block;line-height: 1.2em;}#sk-container-id-1 div.sk-label-container {text-align: center;}#sk-container-id-1 div.sk-container {/* jupyter's `normalize.less` sets `[hidden] { display: none; }` but bootstrap.min.css set `[hidden] { display: none !important; }` so we also need the `!important` here to be able to override the default hidden behavior on the sphinx rendered scikit-learn.org. See: https://github.com/scikit-learn/scikit-learn/issues/21755 */display: inline-block !important;position: relative;}#sk-container-id-1 div.sk-text-repr-fallback {display: none;}</style><div id=\"sk-container-id-1\" class=\"sk-top-container\"><div class=\"sk-text-repr-fallback\"><pre>LogisticRegression(max_iter=10000)</pre><b>In a Jupyter environment, please rerun this cell to show the HTML representation or trust the notebook. <br />On GitHub, the HTML representation is unable to render, please try loading this page with nbviewer.org.</b></div><div class=\"sk-container\" hidden><div class=\"sk-item\"><div class=\"sk-estimator sk-toggleable\"><input class=\"sk-toggleable__control sk-hidden--visually\" id=\"sk-estimator-id-1\" type=\"checkbox\" checked><label for=\"sk-estimator-id-1\" class=\"sk-toggleable__label sk-toggleable__label-arrow\">LogisticRegression</label><div class=\"sk-toggleable__content\"><pre>LogisticRegression(max_iter=10000)</pre></div></div></div></div></div>"
      ],
      "text/plain": [
       "LogisticRegression(max_iter=10000)"
      ]
     },
     "execution_count": 27,
     "metadata": {},
     "output_type": "execute_result"
    }
   ],
   "source": [
    "from sklearn.linear_model import LogisticRegression\n",
    "logmodel = LogisticRegression(max_iter=10000)\n",
    "logmodel.fit(newtrainDF, transporteds)"
   ]
  },
  {
   "cell_type": "code",
   "execution_count": 28,
   "id": "9cd4e813",
   "metadata": {
    "execution": {
     "iopub.execute_input": "2023-11-30T20:23:40.120661Z",
     "iopub.status.busy": "2023-11-30T20:23:40.119620Z",
     "iopub.status.idle": "2023-11-30T20:23:40.160820Z",
     "shell.execute_reply": "2023-11-30T20:23:40.159870Z"
    },
    "papermill": {
     "duration": 0.061091,
     "end_time": "2023-11-30T20:23:40.163275",
     "exception": false,
     "start_time": "2023-11-30T20:23:40.102184",
     "status": "completed"
    },
    "tags": []
   },
   "outputs": [
    {
     "name": "stdout",
     "output_type": "stream",
     "text": [
      "<class 'pandas.core.frame.DataFrame'>\n",
      "RangeIndex: 4277 entries, 0 to 4276\n",
      "Data columns (total 13 columns):\n",
      " #   Column        Non-Null Count  Dtype  \n",
      "---  ------        --------------  -----  \n",
      " 0   PassengerId   4277 non-null   object \n",
      " 1   HomePlanet    4190 non-null   object \n",
      " 2   CryoSleep     4184 non-null   object \n",
      " 3   Cabin         4177 non-null   object \n",
      " 4   Destination   4185 non-null   object \n",
      " 5   Age           4186 non-null   float64\n",
      " 6   VIP           4184 non-null   object \n",
      " 7   RoomService   4195 non-null   float64\n",
      " 8   FoodCourt     4171 non-null   float64\n",
      " 9   ShoppingMall  4179 non-null   float64\n",
      " 10  Spa           4176 non-null   float64\n",
      " 11  VRDeck        4197 non-null   float64\n",
      " 12  Name          4183 non-null   object \n",
      "dtypes: float64(6), object(7)\n",
      "memory usage: 434.5+ KB\n"
     ]
    }
   ],
   "source": [
    "df_test = pd.read_csv(\"/kaggle/input/spaceship-titanic/test.csv\")\n",
    "ids_test = df_test['PassengerId'].copy()\n",
    "# # Removing NANs\n",
    "# df_test[\"CryoSleep\"].fillna(df_test[\"CryoSleep\"].mode()[0],inplace=True)\n",
    "# df_test[\"Age\"].fillna(df_test[\"Age\"].mean(),inplace=True)\n",
    "# df_test[\"RoomService\"].fillna(df_test[\"RoomService\"].mean(),inplace=True)\n",
    "# df_test[\"FoodCourt\"].fillna(df_test[\"FoodCourt\"].mean(),inplace=True)\n",
    "# df_test[\"ShoppingMall\"].fillna(df_test[\"ShoppingMall\"].mean(),inplace=True)\n",
    "# df_test[\"Spa\"].fillna(df_test[\"Spa\"].mean(),inplace=True)\n",
    "# df_test[\"VRDeck\"].fillna(df_test[\"VRDeck\"].mean(),inplace=True)\n",
    "# df_test.VIP = np.where(df_test.VIP,1,0)\n",
    "# df_test.CryoSleep = np.where(df_test.CryoSleep,1,0)\n",
    "# df_test = df_test.drop([\"Name\",\"HomePlanet\",\"Destination\",\"Cabin\"], axis='columns')\n",
    "df_test.info()"
   ]
  },
  {
   "cell_type": "code",
   "execution_count": 29,
   "id": "9a063fb3",
   "metadata": {
    "execution": {
     "iopub.execute_input": "2023-11-30T20:23:40.196425Z",
     "iopub.status.busy": "2023-11-30T20:23:40.196029Z",
     "iopub.status.idle": "2023-11-30T20:23:40.222414Z",
     "shell.execute_reply": "2023-11-30T20:23:40.221570Z"
    },
    "papermill": {
     "duration": 0.04402,
     "end_time": "2023-11-30T20:23:40.224416",
     "exception": false,
     "start_time": "2023-11-30T20:23:40.180396",
     "status": "completed"
    },
    "tags": []
   },
   "outputs": [
    {
     "data": {
      "text/html": [
       "<div>\n",
       "<style scoped>\n",
       "    .dataframe tbody tr th:only-of-type {\n",
       "        vertical-align: middle;\n",
       "    }\n",
       "\n",
       "    .dataframe tbody tr th {\n",
       "        vertical-align: top;\n",
       "    }\n",
       "\n",
       "    .dataframe thead th {\n",
       "        text-align: right;\n",
       "    }\n",
       "</style>\n",
       "<table border=\"1\" class=\"dataframe\">\n",
       "  <thead>\n",
       "    <tr style=\"text-align: right;\">\n",
       "      <th></th>\n",
       "      <th>PassengerId</th>\n",
       "      <th>HomePlanet</th>\n",
       "      <th>CryoSleep</th>\n",
       "      <th>Cabin</th>\n",
       "      <th>Destination</th>\n",
       "      <th>Age</th>\n",
       "      <th>VIP</th>\n",
       "      <th>RoomService</th>\n",
       "      <th>FoodCourt</th>\n",
       "      <th>ShoppingMall</th>\n",
       "      <th>Spa</th>\n",
       "      <th>VRDeck</th>\n",
       "      <th>Name</th>\n",
       "    </tr>\n",
       "  </thead>\n",
       "  <tbody>\n",
       "    <tr>\n",
       "      <th>0</th>\n",
       "      <td>0013_01</td>\n",
       "      <td>1.0</td>\n",
       "      <td>1.0</td>\n",
       "      <td>G/3/S</td>\n",
       "      <td>3.0</td>\n",
       "      <td>27.0</td>\n",
       "      <td>0</td>\n",
       "      <td>0.0</td>\n",
       "      <td>0.0</td>\n",
       "      <td>0.0</td>\n",
       "      <td>0.0</td>\n",
       "      <td>0.0</td>\n",
       "      <td>Nelly Carsoning</td>\n",
       "    </tr>\n",
       "    <tr>\n",
       "      <th>1</th>\n",
       "      <td>0018_01</td>\n",
       "      <td>1.0</td>\n",
       "      <td>0.0</td>\n",
       "      <td>F/4/S</td>\n",
       "      <td>3.0</td>\n",
       "      <td>19.0</td>\n",
       "      <td>0</td>\n",
       "      <td>0.0</td>\n",
       "      <td>9.0</td>\n",
       "      <td>0.0</td>\n",
       "      <td>2823.0</td>\n",
       "      <td>0.0</td>\n",
       "      <td>Lerome Peckers</td>\n",
       "    </tr>\n",
       "    <tr>\n",
       "      <th>2</th>\n",
       "      <td>0019_01</td>\n",
       "      <td>2.0</td>\n",
       "      <td>1.0</td>\n",
       "      <td>C/0/S</td>\n",
       "      <td>1.0</td>\n",
       "      <td>31.0</td>\n",
       "      <td>1</td>\n",
       "      <td>0.0</td>\n",
       "      <td>0.0</td>\n",
       "      <td>0.0</td>\n",
       "      <td>0.0</td>\n",
       "      <td>0.0</td>\n",
       "      <td>Sabih Unhearfus</td>\n",
       "    </tr>\n",
       "  </tbody>\n",
       "</table>\n",
       "</div>"
      ],
      "text/plain": [
       "  PassengerId  HomePlanet  CryoSleep  Cabin  Destination   Age  VIP  \\\n",
       "0     0013_01         1.0        1.0  G/3/S          3.0  27.0    0   \n",
       "1     0018_01         1.0        0.0  F/4/S          3.0  19.0    0   \n",
       "2     0019_01         2.0        1.0  C/0/S          1.0  31.0    1   \n",
       "\n",
       "   RoomService  FoodCourt  ShoppingMall     Spa  VRDeck             Name  \n",
       "0          0.0        0.0           0.0     0.0     0.0  Nelly Carsoning  \n",
       "1          0.0        9.0           0.0  2823.0     0.0   Lerome Peckers  \n",
       "2          0.0        0.0           0.0     0.0     0.0  Sabih Unhearfus  "
      ]
     },
     "execution_count": 29,
     "metadata": {},
     "output_type": "execute_result"
    }
   ],
   "source": [
    "#CryoSleep\n",
    "df_test['CryoSleep'] = df_test['CryoSleep'].replace({True: 1, False: 0})\n",
    "#HomePlanet\n",
    "df_test['HomePlanet'].replace('Earth', 1, inplace=True)\n",
    "df_test['HomePlanet'].replace('Europa', 2, inplace=True)\n",
    "df_test['HomePlanet'].replace('Mars', 3, inplace=True)\n",
    "#Destination\n",
    "df_test['Destination'].replace('55 Cancri e', 1, inplace=True)\n",
    "df_test['Destination'].replace('PSO J318.5-22', 2, inplace=True)\n",
    "df_test['Destination'].replace('TRAPPIST-1e', 3, inplace=True)\n",
    "df_test['VIP'] = df['VIP'].replace({True: 1, False: 0})\n",
    "df_test.head(3)"
   ]
  },
  {
   "cell_type": "code",
   "execution_count": 30,
   "id": "4af50097",
   "metadata": {
    "execution": {
     "iopub.execute_input": "2023-11-30T20:23:40.252667Z",
     "iopub.status.busy": "2023-11-30T20:23:40.251260Z",
     "iopub.status.idle": "2023-11-30T20:23:40.380614Z",
     "shell.execute_reply": "2023-11-30T20:23:40.379249Z"
    },
    "papermill": {
     "duration": 0.145376,
     "end_time": "2023-11-30T20:23:40.382730",
     "exception": false,
     "start_time": "2023-11-30T20:23:40.237354",
     "status": "completed"
    },
    "tags": []
   },
   "outputs": [
    {
     "data": {
      "text/html": [
       "<div>\n",
       "<style scoped>\n",
       "    .dataframe tbody tr th:only-of-type {\n",
       "        vertical-align: middle;\n",
       "    }\n",
       "\n",
       "    .dataframe tbody tr th {\n",
       "        vertical-align: top;\n",
       "    }\n",
       "\n",
       "    .dataframe thead th {\n",
       "        text-align: right;\n",
       "    }\n",
       "</style>\n",
       "<table border=\"1\" class=\"dataframe\">\n",
       "  <thead>\n",
       "    <tr style=\"text-align: right;\">\n",
       "      <th></th>\n",
       "      <th>PassengerId</th>\n",
       "      <th>HomePlanet</th>\n",
       "      <th>CryoSleep</th>\n",
       "      <th>Cabin</th>\n",
       "      <th>Destination</th>\n",
       "      <th>Age</th>\n",
       "      <th>VIP</th>\n",
       "      <th>RoomService</th>\n",
       "      <th>FoodCourt</th>\n",
       "      <th>ShoppingMall</th>\n",
       "      <th>Spa</th>\n",
       "      <th>VRDeck</th>\n",
       "      <th>Name</th>\n",
       "      <th>Port</th>\n",
       "      <th>Place</th>\n",
       "    </tr>\n",
       "  </thead>\n",
       "  <tbody>\n",
       "    <tr>\n",
       "      <th>0</th>\n",
       "      <td>0013_01</td>\n",
       "      <td>1.0</td>\n",
       "      <td>1.0</td>\n",
       "      <td>3</td>\n",
       "      <td>3.0</td>\n",
       "      <td>27.0</td>\n",
       "      <td>0</td>\n",
       "      <td>0.0</td>\n",
       "      <td>0.0</td>\n",
       "      <td>0.0</td>\n",
       "      <td>0.0</td>\n",
       "      <td>0.0</td>\n",
       "      <td>Nelly Carsoning</td>\n",
       "      <td>0.0</td>\n",
       "      <td>7.0</td>\n",
       "    </tr>\n",
       "    <tr>\n",
       "      <th>1</th>\n",
       "      <td>0018_01</td>\n",
       "      <td>1.0</td>\n",
       "      <td>0.0</td>\n",
       "      <td>4</td>\n",
       "      <td>3.0</td>\n",
       "      <td>19.0</td>\n",
       "      <td>0</td>\n",
       "      <td>0.0</td>\n",
       "      <td>9.0</td>\n",
       "      <td>0.0</td>\n",
       "      <td>2823.0</td>\n",
       "      <td>0.0</td>\n",
       "      <td>Lerome Peckers</td>\n",
       "      <td>0.0</td>\n",
       "      <td>6.0</td>\n",
       "    </tr>\n",
       "    <tr>\n",
       "      <th>2</th>\n",
       "      <td>0019_01</td>\n",
       "      <td>2.0</td>\n",
       "      <td>1.0</td>\n",
       "      <td>0</td>\n",
       "      <td>1.0</td>\n",
       "      <td>31.0</td>\n",
       "      <td>1</td>\n",
       "      <td>0.0</td>\n",
       "      <td>0.0</td>\n",
       "      <td>0.0</td>\n",
       "      <td>0.0</td>\n",
       "      <td>0.0</td>\n",
       "      <td>Sabih Unhearfus</td>\n",
       "      <td>0.0</td>\n",
       "      <td>3.0</td>\n",
       "    </tr>\n",
       "  </tbody>\n",
       "</table>\n",
       "</div>"
      ],
      "text/plain": [
       "  PassengerId  HomePlanet  CryoSleep  Cabin  Destination   Age  VIP  \\\n",
       "0     0013_01         1.0        1.0      3          3.0  27.0    0   \n",
       "1     0018_01         1.0        0.0      4          3.0  19.0    0   \n",
       "2     0019_01         2.0        1.0      0          1.0  31.0    1   \n",
       "\n",
       "   RoomService  FoodCourt  ShoppingMall     Spa  VRDeck             Name  \\\n",
       "0          0.0        0.0           0.0     0.0     0.0  Nelly Carsoning   \n",
       "1          0.0        9.0           0.0  2823.0     0.0   Lerome Peckers   \n",
       "2          0.0        0.0           0.0     0.0     0.0  Sabih Unhearfus   \n",
       "\n",
       "   Port  Place  \n",
       "0   0.0    7.0  \n",
       "1   0.0    6.0  \n",
       "2   0.0    3.0  "
      ]
     },
     "execution_count": 30,
     "metadata": {},
     "output_type": "execute_result"
    }
   ],
   "source": [
    "#Port or Starboard of the cabins\n",
    "df_test['Port'] = df_test['Cabin'].str.split('/').str[-1]\n",
    "df_test['Port'].replace('S', 0, inplace=True)\n",
    "df_test['Port'].replace('P', 1, inplace=True)\n",
    "\n",
    "#Class of the cabins\n",
    "df_test['Place'] = df_test['Cabin'].str.split('/').str[0]\n",
    "letter_to_int = {'A': 1, 'B': 2, 'C': 3, 'D': 4, 'E': 5, 'F': 6, 'G': 7, 'T': 8}\n",
    "df_test['Place'] = df_test['Place'].map(letter_to_int)\n",
    "\n",
    "\n",
    "#Number of cabins\n",
    "df_test['Cabin'] = df_test['Cabin'].str.split('/').str[1]\n",
    "df_test['Cabin'] = df_test['Cabin'].astype('Int64')\n",
    "df_test.head(3)"
   ]
  },
  {
   "cell_type": "code",
   "execution_count": 31,
   "id": "e79c3dee",
   "metadata": {
    "execution": {
     "iopub.execute_input": "2023-11-30T20:23:40.411348Z",
     "iopub.status.busy": "2023-11-30T20:23:40.410988Z",
     "iopub.status.idle": "2023-11-30T20:23:40.439793Z",
     "shell.execute_reply": "2023-11-30T20:23:40.438438Z"
    },
    "papermill": {
     "duration": 0.045739,
     "end_time": "2023-11-30T20:23:40.441894",
     "exception": false,
     "start_time": "2023-11-30T20:23:40.396155",
     "status": "completed"
    },
    "tags": []
   },
   "outputs": [
    {
     "data": {
      "text/html": [
       "<div>\n",
       "<style scoped>\n",
       "    .dataframe tbody tr th:only-of-type {\n",
       "        vertical-align: middle;\n",
       "    }\n",
       "\n",
       "    .dataframe tbody tr th {\n",
       "        vertical-align: top;\n",
       "    }\n",
       "\n",
       "    .dataframe thead th {\n",
       "        text-align: right;\n",
       "    }\n",
       "</style>\n",
       "<table border=\"1\" class=\"dataframe\">\n",
       "  <thead>\n",
       "    <tr style=\"text-align: right;\">\n",
       "      <th></th>\n",
       "      <th>PassengerId</th>\n",
       "      <th>HomePlanet</th>\n",
       "      <th>CryoSleep</th>\n",
       "      <th>Cabin</th>\n",
       "      <th>Destination</th>\n",
       "      <th>Age</th>\n",
       "      <th>VIP</th>\n",
       "      <th>RoomService</th>\n",
       "      <th>FoodCourt</th>\n",
       "      <th>ShoppingMall</th>\n",
       "      <th>Spa</th>\n",
       "      <th>VRDeck</th>\n",
       "      <th>Name</th>\n",
       "      <th>Port</th>\n",
       "      <th>Place</th>\n",
       "    </tr>\n",
       "  </thead>\n",
       "  <tbody>\n",
       "    <tr>\n",
       "      <th>0</th>\n",
       "      <td>0013_01</td>\n",
       "      <td>1</td>\n",
       "      <td>1</td>\n",
       "      <td>3</td>\n",
       "      <td>3</td>\n",
       "      <td>27</td>\n",
       "      <td>0</td>\n",
       "      <td>0.0</td>\n",
       "      <td>0.0</td>\n",
       "      <td>0.0</td>\n",
       "      <td>0.0</td>\n",
       "      <td>0.0</td>\n",
       "      <td>Nelly Carsoning</td>\n",
       "      <td>0</td>\n",
       "      <td>7</td>\n",
       "    </tr>\n",
       "    <tr>\n",
       "      <th>1</th>\n",
       "      <td>0018_01</td>\n",
       "      <td>1</td>\n",
       "      <td>0</td>\n",
       "      <td>4</td>\n",
       "      <td>3</td>\n",
       "      <td>19</td>\n",
       "      <td>0</td>\n",
       "      <td>0.0</td>\n",
       "      <td>9.0</td>\n",
       "      <td>0.0</td>\n",
       "      <td>2823.0</td>\n",
       "      <td>0.0</td>\n",
       "      <td>Lerome Peckers</td>\n",
       "      <td>0</td>\n",
       "      <td>6</td>\n",
       "    </tr>\n",
       "    <tr>\n",
       "      <th>2</th>\n",
       "      <td>0019_01</td>\n",
       "      <td>2</td>\n",
       "      <td>1</td>\n",
       "      <td>0</td>\n",
       "      <td>1</td>\n",
       "      <td>31</td>\n",
       "      <td>1</td>\n",
       "      <td>0.0</td>\n",
       "      <td>0.0</td>\n",
       "      <td>0.0</td>\n",
       "      <td>0.0</td>\n",
       "      <td>0.0</td>\n",
       "      <td>Sabih Unhearfus</td>\n",
       "      <td>0</td>\n",
       "      <td>3</td>\n",
       "    </tr>\n",
       "  </tbody>\n",
       "</table>\n",
       "</div>"
      ],
      "text/plain": [
       "  PassengerId  HomePlanet  CryoSleep  Cabin  Destination  Age  VIP  \\\n",
       "0     0013_01           1          1      3            3   27    0   \n",
       "1     0018_01           1          0      4            3   19    0   \n",
       "2     0019_01           2          1      0            1   31    1   \n",
       "\n",
       "   RoomService  FoodCourt  ShoppingMall     Spa  VRDeck             Name  \\\n",
       "0          0.0        0.0           0.0     0.0     0.0  Nelly Carsoning   \n",
       "1          0.0        9.0           0.0  2823.0     0.0   Lerome Peckers   \n",
       "2          0.0        0.0           0.0     0.0     0.0  Sabih Unhearfus   \n",
       "\n",
       "   Port  Place  \n",
       "0     0      7  \n",
       "1     0      6  \n",
       "2     0      3  "
      ]
     },
     "execution_count": 31,
     "metadata": {},
     "output_type": "execute_result"
    }
   ],
   "source": [
    "df_test[['HomePlanet', 'CryoSleep', 'Destination', 'Age', 'VIP','Port','Place']] = df_test[['HomePlanet', 'CryoSleep', 'Destination', 'Age', 'VIP','Port','Place']].astype('Int64')\n",
    "df_test.head(3)"
   ]
  },
  {
   "cell_type": "code",
   "execution_count": 32,
   "id": "f72466cf",
   "metadata": {
    "execution": {
     "iopub.execute_input": "2023-11-30T20:23:40.472645Z",
     "iopub.status.busy": "2023-11-30T20:23:40.472270Z",
     "iopub.status.idle": "2023-11-30T20:23:40.502492Z",
     "shell.execute_reply": "2023-11-30T20:23:40.500855Z"
    },
    "papermill": {
     "duration": 0.049983,
     "end_time": "2023-11-30T20:23:40.505476",
     "exception": false,
     "start_time": "2023-11-30T20:23:40.455493",
     "status": "completed"
    },
    "tags": []
   },
   "outputs": [
    {
     "name": "stdout",
     "output_type": "stream",
     "text": [
      "<class 'pandas.core.frame.DataFrame'>\n",
      "RangeIndex: 4277 entries, 0 to 4276\n",
      "Data columns (total 15 columns):\n",
      " #   Column        Non-Null Count  Dtype  \n",
      "---  ------        --------------  -----  \n",
      " 0   PassengerId   4277 non-null   object \n",
      " 1   HomePlanet    4277 non-null   Int64  \n",
      " 2   CryoSleep     4277 non-null   int64  \n",
      " 3   Cabin         4277 non-null   Int64  \n",
      " 4   Destination   4277 non-null   Int64  \n",
      " 5   Age           4277 non-null   int64  \n",
      " 6   VIP           4277 non-null   int64  \n",
      " 7   RoomService   4277 non-null   float64\n",
      " 8   FoodCourt     4277 non-null   float64\n",
      " 9   ShoppingMall  4277 non-null   float64\n",
      " 10  Spa           4277 non-null   float64\n",
      " 11  VRDeck        4277 non-null   float64\n",
      " 12  Name          4277 non-null   object \n",
      " 13  Port          4277 non-null   Int64  \n",
      " 14  Place         4277 non-null   Int64  \n",
      "dtypes: Int64(5), float64(5), int64(3), object(2)\n",
      "memory usage: 522.2+ KB\n"
     ]
    }
   ],
   "source": [
    "df_test[\"HomePlanet\"].fillna(df_test[\"HomePlanet\"].mode()[0],inplace=True)\n",
    "df_test[\"CryoSleep\"].fillna(df_test[\"CryoSleep\"].mode()[0],inplace=True)\n",
    "df_test[\"Cabin\"].fillna(df_test[\"Cabin\"].mode()[0],inplace=True)\n",
    "df_test[\"Destination\"].fillna(df_test[\"Destination\"].mode()[0],inplace=True)\n",
    "df_test[\"Name\"].fillna(df_test[\"Name\"].mode()[0],inplace=True)\n",
    "df_test[\"Age\"].fillna(int(df_test[\"Age\"].mean()),inplace=True)\n",
    "df_test[\"RoomService\"].fillna(df_test[\"RoomService\"].mean(),inplace=True)\n",
    "df_test[\"FoodCourt\"].fillna(df_test[\"FoodCourt\"].mean(),inplace=True)\n",
    "df_test[\"ShoppingMall\"].fillna(df_test[\"ShoppingMall\"].mean(),inplace=True)\n",
    "df_test[\"Spa\"].fillna(df_test[\"Spa\"].mean(),inplace=True)\n",
    "df_test[\"VRDeck\"].fillna(df_test[\"VRDeck\"].mean(),inplace=True)\n",
    "df_test[\"Port\"].fillna(df_test[\"Port\"].mode()[0],inplace=True)\n",
    "df_test[\"Place\"].fillna(df_test[\"Place\"].mode()[0],inplace=True)\n",
    "df_test.Age = np.where(df_test.Age > 15 ,1,0)\n",
    "df_test.VIP = np.where(df_test.VIP,1,0)\n",
    "\n",
    "df_test.CryoSleep = np.where(df_test.CryoSleep,1,0)\n",
    "#No Nan, Null or empty cell\n",
    "df_test.info()"
   ]
  },
  {
   "cell_type": "code",
   "execution_count": 33,
   "id": "e3adfef6",
   "metadata": {
    "execution": {
     "iopub.execute_input": "2023-11-30T20:23:40.537488Z",
     "iopub.status.busy": "2023-11-30T20:23:40.537140Z",
     "iopub.status.idle": "2023-11-30T20:23:40.541384Z",
     "shell.execute_reply": "2023-11-30T20:23:40.540389Z"
    },
    "papermill": {
     "duration": 0.021767,
     "end_time": "2023-11-30T20:23:40.543046",
     "exception": false,
     "start_time": "2023-11-30T20:23:40.521279",
     "status": "completed"
    },
    "tags": []
   },
   "outputs": [],
   "source": [
    "# # Apply log transformation\n",
    "# df_test['RoomService'] = np.log1p(df_test['RoomService'])\n",
    "# df_test['FoodCourt'] = np.log1p(df_test['FoodCourt'])\n",
    "# df_test['ShoppingMall'] = np.log1p(df_test['ShoppingMall'])\n",
    "# df_test['Spa'] = np.log1p(df_test['Spa'])\n",
    "# df_test['VRDeck'] = np.log1p(df_test['VRDeck'])\n",
    "# df_test.head(3)"
   ]
  },
  {
   "cell_type": "code",
   "execution_count": 34,
   "id": "0cc2b624",
   "metadata": {
    "execution": {
     "iopub.execute_input": "2023-11-30T20:23:40.572682Z",
     "iopub.status.busy": "2023-11-30T20:23:40.572382Z",
     "iopub.status.idle": "2023-11-30T20:23:40.593420Z",
     "shell.execute_reply": "2023-11-30T20:23:40.592364Z"
    },
    "papermill": {
     "duration": 0.038903,
     "end_time": "2023-11-30T20:23:40.595497",
     "exception": false,
     "start_time": "2023-11-30T20:23:40.556594",
     "status": "completed"
    },
    "tags": []
   },
   "outputs": [
    {
     "data": {
      "text/html": [
       "<div>\n",
       "<style scoped>\n",
       "    .dataframe tbody tr th:only-of-type {\n",
       "        vertical-align: middle;\n",
       "    }\n",
       "\n",
       "    .dataframe tbody tr th {\n",
       "        vertical-align: top;\n",
       "    }\n",
       "\n",
       "    .dataframe thead th {\n",
       "        text-align: right;\n",
       "    }\n",
       "</style>\n",
       "<table border=\"1\" class=\"dataframe\">\n",
       "  <thead>\n",
       "    <tr style=\"text-align: right;\">\n",
       "      <th></th>\n",
       "      <th>PassengerId</th>\n",
       "      <th>HomePlanet</th>\n",
       "      <th>CryoSleep</th>\n",
       "      <th>Cabin</th>\n",
       "      <th>Destination</th>\n",
       "      <th>Age</th>\n",
       "      <th>VIP</th>\n",
       "      <th>RoomService</th>\n",
       "      <th>FoodCourt</th>\n",
       "      <th>ShoppingMall</th>\n",
       "      <th>Spa</th>\n",
       "      <th>VRDeck</th>\n",
       "      <th>Name</th>\n",
       "      <th>Port</th>\n",
       "      <th>Place</th>\n",
       "    </tr>\n",
       "  </thead>\n",
       "  <tbody>\n",
       "    <tr>\n",
       "      <th>0</th>\n",
       "      <td>0013_01</td>\n",
       "      <td>1</td>\n",
       "      <td>1</td>\n",
       "      <td>3</td>\n",
       "      <td>3</td>\n",
       "      <td>1</td>\n",
       "      <td>0</td>\n",
       "      <td>0.0</td>\n",
       "      <td>0.0</td>\n",
       "      <td>0.000000</td>\n",
       "      <td>0.000000</td>\n",
       "      <td>0.0</td>\n",
       "      <td>Nelly Carsoning</td>\n",
       "      <td>0</td>\n",
       "      <td>7</td>\n",
       "    </tr>\n",
       "    <tr>\n",
       "      <th>1</th>\n",
       "      <td>0018_01</td>\n",
       "      <td>1</td>\n",
       "      <td>0</td>\n",
       "      <td>4</td>\n",
       "      <td>3</td>\n",
       "      <td>1</td>\n",
       "      <td>0</td>\n",
       "      <td>0.0</td>\n",
       "      <td>3.0</td>\n",
       "      <td>2.236068</td>\n",
       "      <td>53.131911</td>\n",
       "      <td>0.0</td>\n",
       "      <td>Lerome Peckers</td>\n",
       "      <td>0</td>\n",
       "      <td>6</td>\n",
       "    </tr>\n",
       "    <tr>\n",
       "      <th>2</th>\n",
       "      <td>0019_01</td>\n",
       "      <td>2</td>\n",
       "      <td>1</td>\n",
       "      <td>0</td>\n",
       "      <td>1</td>\n",
       "      <td>1</td>\n",
       "      <td>1</td>\n",
       "      <td>0.0</td>\n",
       "      <td>0.0</td>\n",
       "      <td>0.000000</td>\n",
       "      <td>0.000000</td>\n",
       "      <td>0.0</td>\n",
       "      <td>Sabih Unhearfus</td>\n",
       "      <td>0</td>\n",
       "      <td>3</td>\n",
       "    </tr>\n",
       "  </tbody>\n",
       "</table>\n",
       "</div>"
      ],
      "text/plain": [
       "  PassengerId  HomePlanet  CryoSleep  Cabin  Destination  Age  VIP  \\\n",
       "0     0013_01           1          1      3            3    1    0   \n",
       "1     0018_01           1          0      4            3    1    0   \n",
       "2     0019_01           2          1      0            1    1    1   \n",
       "\n",
       "   RoomService  FoodCourt  ShoppingMall        Spa  VRDeck             Name  \\\n",
       "0          0.0        0.0      0.000000   0.000000     0.0  Nelly Carsoning   \n",
       "1          0.0        3.0      2.236068  53.131911     0.0   Lerome Peckers   \n",
       "2          0.0        0.0      0.000000   0.000000     0.0  Sabih Unhearfus   \n",
       "\n",
       "   Port  Place  \n",
       "0     0      7  \n",
       "1     0      6  \n",
       "2     0      3  "
      ]
     },
     "execution_count": 34,
     "metadata": {},
     "output_type": "execute_result"
    }
   ],
   "source": [
    "# Apply square root transformation\n",
    "df_test['RoomService'] = df_test['RoomService']**0.5\n",
    "df_test['FoodCourt'] = df_test['FoodCourt']**0.5\n",
    "df_test['ShoppingMall'] = df['ShoppingMall']**0.5\n",
    "df_test['Spa'] = df_test['Spa']**0.5\n",
    "df_test['VRDeck'] = df_test['VRDeck']**0.5\n",
    "df_test.head(3)"
   ]
  },
  {
   "cell_type": "code",
   "execution_count": 35,
   "id": "fe4d8e17",
   "metadata": {
    "execution": {
     "iopub.execute_input": "2023-11-30T20:23:40.624743Z",
     "iopub.status.busy": "2023-11-30T20:23:40.624287Z",
     "iopub.status.idle": "2023-11-30T20:23:40.629332Z",
     "shell.execute_reply": "2023-11-30T20:23:40.627965Z"
    },
    "papermill": {
     "duration": 0.02198,
     "end_time": "2023-11-30T20:23:40.631248",
     "exception": false,
     "start_time": "2023-11-30T20:23:40.609268",
     "status": "completed"
    },
    "tags": []
   },
   "outputs": [],
   "source": [
    "# #Lastnames\n",
    "# df['LastName'] = df['Name'].str.split(' ').str[-1]\n",
    "\n",
    "# #Guessing Families\n",
    "# df['FamilyId'] = df['PassengerId'].apply(lambda x: x.split('_')[0])\n",
    "# #\n",
    "# ids_groups = np.array([i.split(\"_\") for i in df.PassengerId.values])\n",
    "# # unique_groups = np.unique(ids_groups[:,0])\n",
    "# df['GroupID'] = df.groupby(ids_groups[:,0]).ngroup()\n",
    "# df.info()"
   ]
  },
  {
   "cell_type": "code",
   "execution_count": 36,
   "id": "97f184d7",
   "metadata": {
    "execution": {
     "iopub.execute_input": "2023-11-30T20:23:40.660552Z",
     "iopub.status.busy": "2023-11-30T20:23:40.660183Z",
     "iopub.status.idle": "2023-11-30T20:23:40.677612Z",
     "shell.execute_reply": "2023-11-30T20:23:40.676463Z"
    },
    "papermill": {
     "duration": 0.034142,
     "end_time": "2023-11-30T20:23:40.679612",
     "exception": false,
     "start_time": "2023-11-30T20:23:40.645470",
     "status": "completed"
    },
    "tags": []
   },
   "outputs": [
    {
     "data": {
      "text/html": [
       "<div>\n",
       "<style scoped>\n",
       "    .dataframe tbody tr th:only-of-type {\n",
       "        vertical-align: middle;\n",
       "    }\n",
       "\n",
       "    .dataframe tbody tr th {\n",
       "        vertical-align: top;\n",
       "    }\n",
       "\n",
       "    .dataframe thead th {\n",
       "        text-align: right;\n",
       "    }\n",
       "</style>\n",
       "<table border=\"1\" class=\"dataframe\">\n",
       "  <thead>\n",
       "    <tr style=\"text-align: right;\">\n",
       "      <th></th>\n",
       "      <th>HomePlanet</th>\n",
       "      <th>CryoSleep</th>\n",
       "      <th>Cabin</th>\n",
       "      <th>Destination</th>\n",
       "      <th>Age</th>\n",
       "      <th>VIP</th>\n",
       "      <th>RoomService</th>\n",
       "      <th>FoodCourt</th>\n",
       "      <th>ShoppingMall</th>\n",
       "      <th>Spa</th>\n",
       "      <th>VRDeck</th>\n",
       "      <th>Port</th>\n",
       "      <th>Place</th>\n",
       "    </tr>\n",
       "  </thead>\n",
       "  <tbody>\n",
       "    <tr>\n",
       "      <th>0</th>\n",
       "      <td>1</td>\n",
       "      <td>1</td>\n",
       "      <td>3</td>\n",
       "      <td>3</td>\n",
       "      <td>1</td>\n",
       "      <td>0</td>\n",
       "      <td>0.0</td>\n",
       "      <td>0.0</td>\n",
       "      <td>0.0</td>\n",
       "      <td>0.0</td>\n",
       "      <td>0.0</td>\n",
       "      <td>0</td>\n",
       "      <td>7</td>\n",
       "    </tr>\n",
       "  </tbody>\n",
       "</table>\n",
       "</div>"
      ],
      "text/plain": [
       "   HomePlanet  CryoSleep  Cabin  Destination  Age  VIP  RoomService  \\\n",
       "0           1          1      3            3    1    0          0.0   \n",
       "\n",
       "   FoodCourt  ShoppingMall  Spa  VRDeck  Port  Place  \n",
       "0        0.0           0.0  0.0     0.0     0      7  "
      ]
     },
     "execution_count": 36,
     "metadata": {},
     "output_type": "execute_result"
    }
   ],
   "source": [
    "df_test = df_test.drop(columns=['PassengerId','Name'])\n",
    "df_test.head(1)"
   ]
  },
  {
   "cell_type": "code",
   "execution_count": 37,
   "id": "63666325",
   "metadata": {
    "execution": {
     "iopub.execute_input": "2023-11-30T20:23:40.709820Z",
     "iopub.status.busy": "2023-11-30T20:23:40.708852Z",
     "iopub.status.idle": "2023-11-30T20:23:40.712783Z",
     "shell.execute_reply": "2023-11-30T20:23:40.712097Z"
    },
    "papermill": {
     "duration": 0.022003,
     "end_time": "2023-11-30T20:23:40.715489",
     "exception": false,
     "start_time": "2023-11-30T20:23:40.693486",
     "status": "completed"
    },
    "tags": []
   },
   "outputs": [],
   "source": [
    "# df_test['Aged'] = np.where(df_test.Age > 15, 1,0)\n",
    "# df_test.head(1)"
   ]
  },
  {
   "cell_type": "code",
   "execution_count": 38,
   "id": "1a320525",
   "metadata": {
    "execution": {
     "iopub.execute_input": "2023-11-30T20:23:40.743763Z",
     "iopub.status.busy": "2023-11-30T20:23:40.743414Z",
     "iopub.status.idle": "2023-11-30T20:23:40.747434Z",
     "shell.execute_reply": "2023-11-30T20:23:40.746542Z"
    },
    "papermill": {
     "duration": 0.020125,
     "end_time": "2023-11-30T20:23:40.749198",
     "exception": false,
     "start_time": "2023-11-30T20:23:40.729073",
     "status": "completed"
    },
    "tags": []
   },
   "outputs": [],
   "source": [
    "# columns_titles = [\"HomePlanet\",\"CryoSleep\", \"Destination\",\"Age\",\"Mean_luxury\",\"Port\",\"Place\"]\n",
    "# df_test=df_test.reindex(columns=columns_titles)\n",
    "# df_test.head(3)"
   ]
  },
  {
   "cell_type": "code",
   "execution_count": 39,
   "id": "75c521a7",
   "metadata": {
    "execution": {
     "iopub.execute_input": "2023-11-30T20:23:40.778800Z",
     "iopub.status.busy": "2023-11-30T20:23:40.778456Z",
     "iopub.status.idle": "2023-11-30T20:23:40.791060Z",
     "shell.execute_reply": "2023-11-30T20:23:40.787049Z"
    },
    "papermill": {
     "duration": 0.030276,
     "end_time": "2023-11-30T20:23:40.793501",
     "exception": false,
     "start_time": "2023-11-30T20:23:40.763225",
     "status": "completed"
    },
    "tags": []
   },
   "outputs": [],
   "source": [
    " predictions = logmodel.predict(df_test)"
   ]
  },
  {
   "cell_type": "code",
   "execution_count": 40,
   "id": "a2725488",
   "metadata": {
    "execution": {
     "iopub.execute_input": "2023-11-30T20:23:40.831283Z",
     "iopub.status.busy": "2023-11-30T20:23:40.830866Z",
     "iopub.status.idle": "2023-11-30T20:23:40.837023Z",
     "shell.execute_reply": "2023-11-30T20:23:40.836294Z"
    },
    "papermill": {
     "duration": 0.027276,
     "end_time": "2023-11-30T20:23:40.838829",
     "exception": false,
     "start_time": "2023-11-30T20:23:40.811553",
     "status": "completed"
    },
    "tags": []
   },
   "outputs": [
    {
     "data": {
      "text/plain": [
       "array(['0013_01', '0018_01', '0019_01', ..., '9271_01', '9273_01',\n",
       "       '9277_01'], dtype=object)"
      ]
     },
     "execution_count": 40,
     "metadata": {},
     "output_type": "execute_result"
    }
   ],
   "source": [
    "# # from sklearn.metrics import classification_report\n",
    "# # print(classification_report(y_test, predictions))\n",
    "# df_newTest = pd.read_csv(\"/kaggle/input/spaceship-titanic/test.csv\")\n",
    "# ids_test = df_newTest['PassengerId'].copy()\n",
    "ids_test.values\n",
    "# predictions"
   ]
  },
  {
   "cell_type": "code",
   "execution_count": 41,
   "id": "4e020054",
   "metadata": {
    "execution": {
     "iopub.execute_input": "2023-11-30T20:23:40.875810Z",
     "iopub.status.busy": "2023-11-30T20:23:40.875399Z",
     "iopub.status.idle": "2023-11-30T20:23:40.900704Z",
     "shell.execute_reply": "2023-11-30T20:23:40.899994Z"
    },
    "papermill": {
     "duration": 0.046306,
     "end_time": "2023-11-30T20:23:40.902841",
     "exception": false,
     "start_time": "2023-11-30T20:23:40.856535",
     "status": "completed"
    },
    "tags": []
   },
   "outputs": [
    {
     "data": {
      "text/html": [
       "<div>\n",
       "<style scoped>\n",
       "    .dataframe tbody tr th:only-of-type {\n",
       "        vertical-align: middle;\n",
       "    }\n",
       "\n",
       "    .dataframe tbody tr th {\n",
       "        vertical-align: top;\n",
       "    }\n",
       "\n",
       "    .dataframe thead th {\n",
       "        text-align: right;\n",
       "    }\n",
       "</style>\n",
       "<table border=\"1\" class=\"dataframe\">\n",
       "  <thead>\n",
       "    <tr style=\"text-align: right;\">\n",
       "      <th></th>\n",
       "      <th>PassengerId</th>\n",
       "      <th>Transported</th>\n",
       "    </tr>\n",
       "  </thead>\n",
       "  <tbody>\n",
       "    <tr>\n",
       "      <th>0</th>\n",
       "      <td>0013_01</td>\n",
       "      <td>True</td>\n",
       "    </tr>\n",
       "    <tr>\n",
       "      <th>1</th>\n",
       "      <td>0018_01</td>\n",
       "      <td>False</td>\n",
       "    </tr>\n",
       "    <tr>\n",
       "      <th>2</th>\n",
       "      <td>0019_01</td>\n",
       "      <td>True</td>\n",
       "    </tr>\n",
       "    <tr>\n",
       "      <th>3</th>\n",
       "      <td>0021_01</td>\n",
       "      <td>True</td>\n",
       "    </tr>\n",
       "    <tr>\n",
       "      <th>4</th>\n",
       "      <td>0023_01</td>\n",
       "      <td>False</td>\n",
       "    </tr>\n",
       "  </tbody>\n",
       "</table>\n",
       "</div>"
      ],
      "text/plain": [
       "  PassengerId  Transported\n",
       "0     0013_01         True\n",
       "1     0018_01        False\n",
       "2     0019_01         True\n",
       "3     0021_01         True\n",
       "4     0023_01        False"
      ]
     },
     "execution_count": 41,
     "metadata": {},
     "output_type": "execute_result"
    }
   ],
   "source": [
    "df_predictions = pd.DataFrame()\n",
    "df_predictions['PassengerId'] = pd.Series(ids_test.T.values)\n",
    "df_predictions['Transported'] = pd.Series(predictions)\n",
    "df_predictions.Transported = np.where(df_predictions.Transported==1,True,False)\n",
    "df_predictions.to_csv(\"11thAttempt.csv\", sep=',', index=False)\n",
    "df_predictions.head()"
   ]
  },
  {
   "cell_type": "markdown",
   "id": "0b3f918e",
   "metadata": {
    "papermill": {
     "duration": 0.013506,
     "end_time": "2023-11-30T20:23:40.930161",
     "exception": false,
     "start_time": "2023-11-30T20:23:40.916655",
     "status": "completed"
    },
    "tags": []
   },
   "source": [
    "In this report, the 'Precision' column tells us the proportion of positive identifications (i.e., the passenger was transported) that were actually correct. The 'Recall' column tells us the proportion of actual positives that were identified correctly. The 'F1-score' is a function of Precision and Recall and gives a balanced measure of the model's performance.\n",
    "\n",
    "Remember, this is a basic model. Depending on the performance of the model, you might need to consider more advanced techniques such as handling class imbalance, feature engineering, or using a more complex model."
   ]
  }
 ],
 "metadata": {
  "kaggle": {
   "accelerator": "none",
   "dataSources": [
    {
     "databundleVersionId": 3220602,
     "sourceId": 34377,
     "sourceType": "competition"
    }
   ],
   "dockerImageVersionId": 30558,
   "isGpuEnabled": false,
   "isInternetEnabled": false,
   "language": "python",
   "sourceType": "notebook"
  },
  "kernelspec": {
   "display_name": "Python 3",
   "language": "python",
   "name": "python3"
  },
  "language_info": {
   "codemirror_mode": {
    "name": "ipython",
    "version": 3
   },
   "file_extension": ".py",
   "mimetype": "text/x-python",
   "name": "python",
   "nbconvert_exporter": "python",
   "pygments_lexer": "ipython3",
   "version": "3.10.12"
  },
  "papermill": {
   "default_parameters": {},
   "duration": 11.199657,
   "end_time": "2023-11-30T20:23:41.566742",
   "environment_variables": {},
   "exception": null,
   "input_path": "__notebook__.ipynb",
   "output_path": "__notebook__.ipynb",
   "parameters": {},
   "start_time": "2023-11-30T20:23:30.367085",
   "version": "2.4.0"
  }
 },
 "nbformat": 4,
 "nbformat_minor": 5
}
