{
 "cells": [
  {
   "cell_type": "code",
   "execution_count": 1,
   "id": "94d01564",
   "metadata": {
    "_cell_guid": "b1076dfc-b9ad-4769-8c92-a6c4dae69d19",
    "_uuid": "8f2839f25d086af736a60e9eeb907d3b93b6e0e5",
    "execution": {
     "iopub.execute_input": "2023-12-08T13:58:49.417339Z",
     "iopub.status.busy": "2023-12-08T13:58:49.416720Z",
     "iopub.status.idle": "2023-12-08T13:58:52.265879Z",
     "shell.execute_reply": "2023-12-08T13:58:52.264341Z"
    },
    "papermill": {
     "duration": 2.871321,
     "end_time": "2023-12-08T13:58:52.268683",
     "exception": false,
     "start_time": "2023-12-08T13:58:49.397362",
     "status": "completed"
    },
    "tags": []
   },
   "outputs": [
    {
     "name": "stdout",
     "output_type": "stream",
     "text": [
      "/kaggle/input/spaceship-titanic/sample_submission.csv\n",
      "/kaggle/input/spaceship-titanic/train.csv\n",
      "/kaggle/input/spaceship-titanic/test.csv\n"
     ]
    }
   ],
   "source": [
    "# This Python 3 environment comes with many helpful analytics libraries installed\n",
    "# It is defined by the kaggle/python Docker image: https://github.com/kaggle/docker-python\n",
    "# For example, here's several helpful packages to load\n",
    "\n",
    "import numpy as np # linear algebra\n",
    "import pandas as pd # data processing, CSV file I/O (e.g. pd.read_csv)\n",
    "import sklearn\n",
    "import os\n",
    "import datetime\n",
    "import matplotlib.pyplot as plt\n",
    "import missingno as msno\n",
    "from prettytable import PrettyTable\n",
    "import seaborn as sns\n",
    "from pandas.plotting import scatter_matrix\n",
    "sns.set(style='darkgrid', font_scale=1.4)\n",
    "\n",
    "# Input data files are available in the read-only \"../input/\" directory\n",
    "# For example, running this (by clicking run or pressing Shift+Enter) will list all files under the input directory\n",
    "\n",
    "import os\n",
    "for dirname, _, filenames in os.walk('/kaggle/input'):\n",
    "    for filename in filenames:\n",
    "        print(os.path.join(dirname, filename))\n",
    "\n",
    "# You can write up to 20GB to the current directory (/kaggle/working/) that gets preserved as output when you create a version using \"Save & Run All\" \n",
    "# You can also write temporary files to /kaggle/temp/, but they won't be saved outside of the current session"
   ]
  },
  {
   "cell_type": "markdown",
   "id": "71c932cc",
   "metadata": {
    "papermill": {
     "duration": 0.015305,
     "end_time": "2023-12-08T13:58:52.300051",
     "exception": false,
     "start_time": "2023-12-08T13:58:52.284746",
     "status": "completed"
    },
    "tags": []
   },
   "source": [
    "# 1. Getting Data"
   ]
  },
  {
   "cell_type": "code",
   "execution_count": 2,
   "id": "fa98c029",
   "metadata": {
    "execution": {
     "iopub.execute_input": "2023-12-08T13:58:52.335650Z",
     "iopub.status.busy": "2023-12-08T13:58:52.333673Z",
     "iopub.status.idle": "2023-12-08T13:58:52.473789Z",
     "shell.execute_reply": "2023-12-08T13:58:52.472669Z"
    },
    "papermill": {
     "duration": 0.160712,
     "end_time": "2023-12-08T13:58:52.476350",
     "exception": false,
     "start_time": "2023-12-08T13:58:52.315638",
     "status": "completed"
    },
    "tags": []
   },
   "outputs": [
    {
     "data": {
      "text/html": [
       "<div>\n",
       "<style scoped>\n",
       "    .dataframe tbody tr th:only-of-type {\n",
       "        vertical-align: middle;\n",
       "    }\n",
       "\n",
       "    .dataframe tbody tr th {\n",
       "        vertical-align: top;\n",
       "    }\n",
       "\n",
       "    .dataframe thead th {\n",
       "        text-align: right;\n",
       "    }\n",
       "</style>\n",
       "<table border=\"1\" class=\"dataframe\">\n",
       "  <thead>\n",
       "    <tr style=\"text-align: right;\">\n",
       "      <th></th>\n",
       "      <th>PassengerId</th>\n",
       "      <th>HomePlanet</th>\n",
       "      <th>CryoSleep</th>\n",
       "      <th>Cabin</th>\n",
       "      <th>Destination</th>\n",
       "      <th>Age</th>\n",
       "      <th>VIP</th>\n",
       "      <th>RoomService</th>\n",
       "      <th>FoodCourt</th>\n",
       "      <th>ShoppingMall</th>\n",
       "      <th>Spa</th>\n",
       "      <th>VRDeck</th>\n",
       "      <th>Name</th>\n",
       "      <th>Transported</th>\n",
       "    </tr>\n",
       "  </thead>\n",
       "  <tbody>\n",
       "    <tr>\n",
       "      <th>0</th>\n",
       "      <td>0001_01</td>\n",
       "      <td>Europa</td>\n",
       "      <td>False</td>\n",
       "      <td>B/0/P</td>\n",
       "      <td>TRAPPIST-1e</td>\n",
       "      <td>39.0</td>\n",
       "      <td>False</td>\n",
       "      <td>0.0</td>\n",
       "      <td>0.0</td>\n",
       "      <td>0.0</td>\n",
       "      <td>0.0</td>\n",
       "      <td>0.0</td>\n",
       "      <td>Maham Ofracculy</td>\n",
       "      <td>False</td>\n",
       "    </tr>\n",
       "    <tr>\n",
       "      <th>1</th>\n",
       "      <td>0002_01</td>\n",
       "      <td>Earth</td>\n",
       "      <td>False</td>\n",
       "      <td>F/0/S</td>\n",
       "      <td>TRAPPIST-1e</td>\n",
       "      <td>24.0</td>\n",
       "      <td>False</td>\n",
       "      <td>109.0</td>\n",
       "      <td>9.0</td>\n",
       "      <td>25.0</td>\n",
       "      <td>549.0</td>\n",
       "      <td>44.0</td>\n",
       "      <td>Juanna Vines</td>\n",
       "      <td>True</td>\n",
       "    </tr>\n",
       "    <tr>\n",
       "      <th>2</th>\n",
       "      <td>0003_01</td>\n",
       "      <td>Europa</td>\n",
       "      <td>False</td>\n",
       "      <td>A/0/S</td>\n",
       "      <td>TRAPPIST-1e</td>\n",
       "      <td>58.0</td>\n",
       "      <td>True</td>\n",
       "      <td>43.0</td>\n",
       "      <td>3576.0</td>\n",
       "      <td>0.0</td>\n",
       "      <td>6715.0</td>\n",
       "      <td>49.0</td>\n",
       "      <td>Altark Susent</td>\n",
       "      <td>False</td>\n",
       "    </tr>\n",
       "    <tr>\n",
       "      <th>3</th>\n",
       "      <td>0003_02</td>\n",
       "      <td>Europa</td>\n",
       "      <td>False</td>\n",
       "      <td>A/0/S</td>\n",
       "      <td>TRAPPIST-1e</td>\n",
       "      <td>33.0</td>\n",
       "      <td>False</td>\n",
       "      <td>0.0</td>\n",
       "      <td>1283.0</td>\n",
       "      <td>371.0</td>\n",
       "      <td>3329.0</td>\n",
       "      <td>193.0</td>\n",
       "      <td>Solam Susent</td>\n",
       "      <td>False</td>\n",
       "    </tr>\n",
       "    <tr>\n",
       "      <th>4</th>\n",
       "      <td>0004_01</td>\n",
       "      <td>Earth</td>\n",
       "      <td>False</td>\n",
       "      <td>F/1/S</td>\n",
       "      <td>TRAPPIST-1e</td>\n",
       "      <td>16.0</td>\n",
       "      <td>False</td>\n",
       "      <td>303.0</td>\n",
       "      <td>70.0</td>\n",
       "      <td>151.0</td>\n",
       "      <td>565.0</td>\n",
       "      <td>2.0</td>\n",
       "      <td>Willy Santantines</td>\n",
       "      <td>True</td>\n",
       "    </tr>\n",
       "  </tbody>\n",
       "</table>\n",
       "</div>"
      ],
      "text/plain": [
       "  PassengerId HomePlanet CryoSleep  Cabin  Destination   Age    VIP  \\\n",
       "0     0001_01     Europa     False  B/0/P  TRAPPIST-1e  39.0  False   \n",
       "1     0002_01      Earth     False  F/0/S  TRAPPIST-1e  24.0  False   \n",
       "2     0003_01     Europa     False  A/0/S  TRAPPIST-1e  58.0   True   \n",
       "3     0003_02     Europa     False  A/0/S  TRAPPIST-1e  33.0  False   \n",
       "4     0004_01      Earth     False  F/1/S  TRAPPIST-1e  16.0  False   \n",
       "\n",
       "   RoomService  FoodCourt  ShoppingMall     Spa  VRDeck               Name  \\\n",
       "0          0.0        0.0           0.0     0.0     0.0    Maham Ofracculy   \n",
       "1        109.0        9.0          25.0   549.0    44.0       Juanna Vines   \n",
       "2         43.0     3576.0           0.0  6715.0    49.0      Altark Susent   \n",
       "3          0.0     1283.0         371.0  3329.0   193.0       Solam Susent   \n",
       "4        303.0       70.0         151.0   565.0     2.0  Willy Santantines   \n",
       "\n",
       "  Transported  \n",
       "0       False  \n",
       "1        True  \n",
       "2       False  \n",
       "3       False  \n",
       "4        True  "
      ]
     },
     "execution_count": 2,
     "metadata": {},
     "output_type": "execute_result"
    }
   ],
   "source": [
    "train=pd.read_csv('../input/spaceship-titanic/train.csv')\n",
    "test=pd.read_csv('../input/spaceship-titanic/test.csv')\n",
    "\n",
    "train_test = pd.concat([train, test])\n",
    "\n",
    "train_test.head()"
   ]
  },
  {
   "cell_type": "markdown",
   "id": "f5df1715",
   "metadata": {
    "papermill": {
     "duration": 0.015959,
     "end_time": "2023-12-08T13:58:52.509064",
     "exception": false,
     "start_time": "2023-12-08T13:58:52.493105",
     "status": "completed"
    },
    "tags": []
   },
   "source": [
    "# 2. Challenge Description\n",
    "> PassengerId - A unique Id for each passenger. Each Id takes the form gggg_pp where gggg indicates a group the passenger is travelling with and pp is their number within the group. People in a group are often family members, but not always.\n",
    "> \n",
    "> HomePlanet - The planet the passenger departed from, typically their planet of permanent residence.\n",
    "> \n",
    "> CryoSleep - Indicates whether the passenger elected to be put into suspended animation for the duration of the voyage. Passengers in cryosleep are confined to their cabins.\n",
    "> Cabin - The cabin number where the passenger is staying. Takes the form deck/num/side, where side can be either P for Port or S for Starboard.\n",
    "> Destination - The planet the passenger will be debarking to.\n",
    "> Age - The age of the passenger.\n",
    "> VIP - Whether the passenger has paid for special VIP service during the voyage.</font>\n",
    "> RoomService, FoodCourt, ShoppingMall, Spa, VRDeck - Amount the passenger has billed at each of the Spaceship Titanic's many luxury amenities.\n",
    "> Name - The first and last names of the passenger.\n",
    "\n",
    "> **Transported** - Whether the passenger was transported to another dimension. This is the target, the column you are trying to predict."
   ]
  },
  {
   "cell_type": "markdown",
   "id": "677fc25d",
   "metadata": {
    "papermill": {
     "duration": 0.015878,
     "end_time": "2023-12-08T13:58:52.541135",
     "exception": false,
     "start_time": "2023-12-08T13:58:52.525257",
     "status": "completed"
    },
    "tags": []
   },
   "source": [
    "# 3. Check Missing Values"
   ]
  },
  {
   "cell_type": "code",
   "execution_count": 3,
   "id": "569d4958",
   "metadata": {
    "execution": {
     "iopub.execute_input": "2023-12-08T13:58:52.575474Z",
     "iopub.status.busy": "2023-12-08T13:58:52.574988Z",
     "iopub.status.idle": "2023-12-08T13:58:52.597875Z",
     "shell.execute_reply": "2023-12-08T13:58:52.595879Z"
    },
    "papermill": {
     "duration": 0.043337,
     "end_time": "2023-12-08T13:58:52.600447",
     "exception": false,
     "start_time": "2023-12-08T13:58:52.557110",
     "status": "completed"
    },
    "tags": []
   },
   "outputs": [
    {
     "name": "stdout",
     "output_type": "stream",
     "text": [
      "PassengerId        0\n",
      "HomePlanet       288\n",
      "CryoSleep        310\n",
      "Cabin            299\n",
      "Destination      274\n",
      "Age              270\n",
      "VIP              296\n",
      "RoomService      263\n",
      "FoodCourt        289\n",
      "ShoppingMall     306\n",
      "Spa              284\n",
      "VRDeck           268\n",
      "Name             294\n",
      "Transported     4277\n",
      "dtype: int64\n"
     ]
    }
   ],
   "source": [
    "print(train_test.isna().sum())"
   ]
  },
  {
   "cell_type": "code",
   "execution_count": 4,
   "id": "8c92b8c5",
   "metadata": {
    "execution": {
     "iopub.execute_input": "2023-12-08T13:58:52.636127Z",
     "iopub.status.busy": "2023-12-08T13:58:52.635305Z",
     "iopub.status.idle": "2023-12-08T13:58:53.730040Z",
     "shell.execute_reply": "2023-12-08T13:58:53.728942Z"
    },
    "papermill": {
     "duration": 1.11579,
     "end_time": "2023-12-08T13:58:53.732593",
     "exception": false,
     "start_time": "2023-12-08T13:58:52.616803",
     "status": "completed"
    },
    "tags": []
   },
   "outputs": [
    {
     "data": {
      "image/png": "[encoded data removed]",
      "text/plain": [
       "<Figure size 2500x1000 with 2 Axes>"
      ]
     },
     "metadata": {},
     "output_type": "display_data"
    }
   ],
   "source": [
    "msno.matrix(train_test)\n",
    "plt.show()"
   ]
  },
  {
   "cell_type": "markdown",
   "id": "3aade033",
   "metadata": {
    "papermill": {
     "duration": 0.017288,
     "end_time": "2023-12-08T13:58:53.767997",
     "exception": false,
     "start_time": "2023-12-08T13:58:53.750709",
     "status": "completed"
    },
    "tags": []
   },
   "source": [
    "# 3. Testing & Handling Missing Values¶"
   ]
  },
  {
   "cell_type": "code",
   "execution_count": 5,
   "id": "2d6eabb3",
   "metadata": {
    "execution": {
     "iopub.execute_input": "2023-12-08T13:58:53.806272Z",
     "iopub.status.busy": "2023-12-08T13:58:53.805488Z",
     "iopub.status.idle": "2023-12-08T13:58:53.816803Z",
     "shell.execute_reply": "2023-12-08T13:58:53.815413Z"
    },
    "papermill": {
     "duration": 0.033556,
     "end_time": "2023-12-08T13:58:53.819418",
     "exception": false,
     "start_time": "2023-12-08T13:58:53.785862",
     "status": "completed"
    },
    "tags": []
   },
   "outputs": [
    {
     "data": {
      "text/plain": [
       "4277"
      ]
     },
     "execution_count": 5,
     "metadata": {},
     "output_type": "execute_result"
    }
   ],
   "source": [
    "# scatter_matrix(train_test, alpha=0.2, figsize=(6, 6), diagonal='kde')\n",
    "# plt.show()\n",
    "# plt.plot(train_test['RoomService'], label='RoomService')\n",
    "# plt.plot(train_test['ShoppingMall'], label='ShoppingMall')\n",
    "# plt.title('Comparison of RoomService and ShoppingMall')\n",
    "# plt.xlabel('Index')\n",
    "# plt.ylabel('Values')\n",
    "# plt.legend()\n",
    "# plt.show()\n",
    "sum(train_test['Transported'].isna())"
   ]
  },
  {
   "cell_type": "markdown",
   "id": "d7f93f7f",
   "metadata": {
    "papermill": {
     "duration": 0.017197,
     "end_time": "2023-12-08T13:58:53.854353",
     "exception": false,
     "start_time": "2023-12-08T13:58:53.837156",
     "status": "completed"
    },
    "tags": []
   },
   "source": [
    "# 3.1.Handling Room Service Outliers"
   ]
  },
  {
   "cell_type": "code",
   "execution_count": 6,
   "id": "8f5afb07",
   "metadata": {
    "execution": {
     "iopub.execute_input": "2023-12-08T13:58:53.891705Z",
     "iopub.status.busy": "2023-12-08T13:58:53.891246Z",
     "iopub.status.idle": "2023-12-08T13:58:54.368751Z",
     "shell.execute_reply": "2023-12-08T13:58:54.367409Z"
    },
    "papermill": {
     "duration": 0.499477,
     "end_time": "2023-12-08T13:58:54.371395",
     "exception": false,
     "start_time": "2023-12-08T13:58:53.871918",
     "status": "completed"
    },
    "tags": []
   },
   "outputs": [
    {
     "data": {
      "image/png": "[encoded data removed]",
      "text/plain": [
       "<Figure size 640x480 with 1 Axes>"
      ]
     },
     "metadata": {},
     "output_type": "display_data"
    }
   ],
   "source": [
    "if 'Transported' in train_test.columns:\n",
    "    train_test.plot.scatter(x='RoomService', y='Transported')\n",
    "    plt.show()\n",
    "else:\n",
    "    print(\"'Transported' column does not exist in the DataFrame.\")\n"
   ]
  },
  {
   "cell_type": "code",
   "execution_count": 7,
   "id": "cab9abae",
   "metadata": {
    "execution": {
     "iopub.execute_input": "2023-12-08T13:58:54.408859Z",
     "iopub.status.busy": "2023-12-08T13:58:54.408410Z",
     "iopub.status.idle": "2023-12-08T13:58:54.413914Z",
     "shell.execute_reply": "2023-12-08T13:58:54.412653Z"
    },
    "papermill": {
     "duration": 0.027321,
     "end_time": "2023-12-08T13:58:54.416441",
     "exception": false,
     "start_time": "2023-12-08T13:58:54.389120",
     "status": "completed"
    },
    "tags": []
   },
   "outputs": [],
   "source": [
    "# # How to delete instances using panda\n",
    "# # Q1 = df['RoomService'].quantile(0.25)\n",
    "# # Q3 = df['RoomService'].quantile(0.75)\n",
    "# # IQR = Q3 - Q1\n",
    "# # df = df[~((df['RoomService'] < (Q1 - 1.5 * IQR)) |(df['RoomService'] > (Q3 + 1.5 * IQR)))]\n",
    "\n",
    "\n",
    "\n",
    "# indexNames1 = train_test[ (train_test['RoomService'] > 6000)& (train_test['Transported'] == False)].index\n",
    "# indexNames2 = train_test[ (train_test['RoomService'] > 2850) & (train_test['Transported'] == True)].index\n",
    "# train_test.drop(indexNames1 , inplace=True)\n",
    "# train_test.drop(indexNames2 , inplace=True)\n",
    "\n",
    "\n",
    "# train_test.plot.scatter(x='RoomService', y='Transported')\n",
    "# plt.show()\n",
    "# #df.info()\n",
    "# # print(len(indexNames))"
   ]
  },
  {
   "cell_type": "markdown",
   "id": "0a58e301",
   "metadata": {
    "papermill": {
     "duration": 0.018189,
     "end_time": "2023-12-08T13:58:54.529855",
     "exception": false,
     "start_time": "2023-12-08T13:58:54.511666",
     "status": "completed"
    },
    "tags": []
   },
   "source": [
    "# 3.1.Handling Food Court Outliers"
   ]
  },
  {
   "cell_type": "code",
   "execution_count": 8,
   "id": "374aaf0c",
   "metadata": {
    "execution": {
     "iopub.execute_input": "2023-12-08T13:58:54.568313Z",
     "iopub.status.busy": "2023-12-08T13:58:54.567913Z",
     "iopub.status.idle": "2023-12-08T13:58:55.023995Z",
     "shell.execute_reply": "2023-12-08T13:58:55.022491Z"
    },
    "papermill": {
     "duration": 0.478739,
     "end_time": "2023-12-08T13:58:55.026698",
     "exception": false,
     "start_time": "2023-12-08T13:58:54.547959",
     "status": "completed"
    },
    "tags": []
   },
   "outputs": [
    {
     "data": {
      "image/png": "[encoded data removed]",
      "text/plain": [
       "<Figure size 640x480 with 1 Axes>"
      ]
     },
     "metadata": {},
     "output_type": "display_data"
    }
   ],
   "source": [
    "train_test.plot.scatter(x='FoodCourt', y='Transported')\n",
    "plt.show()"
   ]
  },
  {
   "cell_type": "code",
   "execution_count": 9,
   "id": "8efc437f",
   "metadata": {
    "execution": {
     "iopub.execute_input": "2023-12-08T13:58:55.066154Z",
     "iopub.status.busy": "2023-12-08T13:58:55.065716Z",
     "iopub.status.idle": "2023-12-08T13:58:55.071665Z",
     "shell.execute_reply": "2023-12-08T13:58:55.070360Z"
    },
    "papermill": {
     "duration": 0.029173,
     "end_time": "2023-12-08T13:58:55.074576",
     "exception": false,
     "start_time": "2023-12-08T13:58:55.045403",
     "status": "completed"
    },
    "tags": []
   },
   "outputs": [],
   "source": [
    "# indexNames1 = train_test[ (train_test['FoodCourt'] > 12500) & (train_test['Transported'] == True)].index\n",
    "# indexNames2 = train_test[ (train_test['FoodCourt'] > 10000)& (train_test['Transported'] == False)].index\n",
    "\n",
    "# train_test.drop(indexNames1 , inplace=True)\n",
    "# train_test.drop(indexNames2 , inplace=True)\n",
    "\n",
    "# train_test.plot.scatter(x='FoodCourt', y='Transported')\n",
    "# plt.show()\n",
    "\n",
    "# # print(len(indexNames1))\n",
    "# # print(len(indexNames2))"
   ]
  },
  {
   "cell_type": "markdown",
   "id": "6ca6f971",
   "metadata": {
    "papermill": {
     "duration": 0.018891,
     "end_time": "2023-12-08T13:58:55.113232",
     "exception": false,
     "start_time": "2023-12-08T13:58:55.094341",
     "status": "completed"
    },
    "tags": []
   },
   "source": [
    "# 3.1.Handling ShoppingMall Outliers"
   ]
  },
  {
   "cell_type": "code",
   "execution_count": 10,
   "id": "7999f0ec",
   "metadata": {
    "execution": {
     "iopub.execute_input": "2023-12-08T13:58:55.154039Z",
     "iopub.status.busy": "2023-12-08T13:58:55.153587Z",
     "iopub.status.idle": "2023-12-08T13:58:55.574293Z",
     "shell.execute_reply": "2023-12-08T13:58:55.572880Z"
    },
    "papermill": {
     "duration": 0.444241,
     "end_time": "2023-12-08T13:58:55.576879",
     "exception": false,
     "start_time": "2023-12-08T13:58:55.132638",
     "status": "completed"
    },
    "tags": []
   },
   "outputs": [
    {
     "data": {
      "image/png": "[encoded data removed]",
      "text/plain": [
       "<Figure size 640x480 with 1 Axes>"
      ]
     },
     "metadata": {},
     "output_type": "display_data"
    }
   ],
   "source": [
    "train_test.plot.scatter(x='ShoppingMall', y='Transported')\n",
    "plt.show()"
   ]
  },
  {
   "cell_type": "code",
   "execution_count": 11,
   "id": "948398cb",
   "metadata": {
    "execution": {
     "iopub.execute_input": "2023-12-08T13:58:55.617118Z",
     "iopub.status.busy": "2023-12-08T13:58:55.616667Z",
     "iopub.status.idle": "2023-12-08T13:58:55.622560Z",
     "shell.execute_reply": "2023-12-08T13:58:55.621286Z"
    },
    "papermill": {
     "duration": 0.028982,
     "end_time": "2023-12-08T13:58:55.625214",
     "exception": false,
     "start_time": "2023-12-08T13:58:55.596232",
     "status": "completed"
    },
    "tags": []
   },
   "outputs": [],
   "source": [
    "# indexNames1 = train_test[ (train_test['ShoppingMall'] > 5000) & (train_test['Transported'] == True)].index\n",
    "# indexNames2 = train_test[ (train_test['ShoppingMall'] > 3000)& (train_test['Transported'] == False)].index\n",
    "\n",
    "# train_test.drop(indexNames1 , inplace=True)\n",
    "# train_test.drop(indexNames2 , inplace=True)\n",
    "\n",
    "# train_test.plot.scatter(x='ShoppingMall', y='Transported')\n",
    "# plt.show()\n",
    "\n",
    "# # print(len(indexNames1))\n",
    "# # print(len(indexNames2))"
   ]
  },
  {
   "cell_type": "markdown",
   "id": "58249a91",
   "metadata": {
    "papermill": {
     "duration": 0.019094,
     "end_time": "2023-12-08T13:58:55.664043",
     "exception": false,
     "start_time": "2023-12-08T13:58:55.644949",
     "status": "completed"
    },
    "tags": []
   },
   "source": [
    "# 3.1.Handling Spa Outliers"
   ]
  },
  {
   "cell_type": "code",
   "execution_count": 12,
   "id": "2677d4b9",
   "metadata": {
    "execution": {
     "iopub.execute_input": "2023-12-08T13:58:55.703690Z",
     "iopub.status.busy": "2023-12-08T13:58:55.703233Z",
     "iopub.status.idle": "2023-12-08T13:58:56.121789Z",
     "shell.execute_reply": "2023-12-08T13:58:56.120828Z"
    },
    "papermill": {
     "duration": 0.441259,
     "end_time": "2023-12-08T13:58:56.124107",
     "exception": false,
     "start_time": "2023-12-08T13:58:55.682848",
     "status": "completed"
    },
    "tags": []
   },
   "outputs": [
    {
     "data": {
      "image/png": "[encoded data removed]",
      "text/plain": [
       "<Figure size 640x480 with 1 Axes>"
      ]
     },
     "metadata": {},
     "output_type": "display_data"
    }
   ],
   "source": [
    "train_test.plot.scatter(x='Spa', y='Transported')\n",
    "plt.show()"
   ]
  },
  {
   "cell_type": "code",
   "execution_count": 13,
   "id": "207ad36a",
   "metadata": {
    "execution": {
     "iopub.execute_input": "2023-12-08T13:58:56.167227Z",
     "iopub.status.busy": "2023-12-08T13:58:56.166439Z",
     "iopub.status.idle": "2023-12-08T13:58:56.171227Z",
     "shell.execute_reply": "2023-12-08T13:58:56.170354Z"
    },
    "papermill": {
     "duration": 0.029137,
     "end_time": "2023-12-08T13:58:56.173585",
     "exception": false,
     "start_time": "2023-12-08T13:58:56.144448",
     "status": "completed"
    },
    "tags": []
   },
   "outputs": [],
   "source": [
    "# indexNames1 = train_test[ (train_test['Spa'] > 3000) & (train_test['Transported'] == True)].index\n",
    "# indexNames2 = train_test[ (train_test['Spa'] > 10000)& (train_test['Transported'] == False)].index\n",
    "\n",
    "# train_test.drop(indexNames1 , inplace=True)\n",
    "# train_test.drop(indexNames2 , inplace=True)\n",
    "\n",
    "# train_test.plot.scatter(x='Spa', y='Transported')\n",
    "# plt.show()\n",
    "\n",
    "# # print(len(indexNames1))\n",
    "# # print(len(indexNames2))"
   ]
  },
  {
   "cell_type": "markdown",
   "id": "5d41d048",
   "metadata": {
    "papermill": {
     "duration": 0.019397,
     "end_time": "2023-12-08T13:58:56.214062",
     "exception": false,
     "start_time": "2023-12-08T13:58:56.194665",
     "status": "completed"
    },
    "tags": []
   },
   "source": [
    "# 3.1.Handling VRDeck Outliers"
   ]
  },
  {
   "cell_type": "code",
   "execution_count": 14,
   "id": "a2b16b03",
   "metadata": {
    "execution": {
     "iopub.execute_input": "2023-12-08T13:58:56.256493Z",
     "iopub.status.busy": "2023-12-08T13:58:56.255715Z",
     "iopub.status.idle": "2023-12-08T13:58:56.693707Z",
     "shell.execute_reply": "2023-12-08T13:58:56.691721Z"
    },
    "papermill": {
     "duration": 0.463059,
     "end_time": "2023-12-08T13:58:56.696948",
     "exception": false,
     "start_time": "2023-12-08T13:58:56.233889",
     "status": "completed"
    },
    "tags": []
   },
   "outputs": [
    {
     "data": {
      "image/png": "[encoded data removed]",
      "text/plain": [
       "<Figure size 640x480 with 1 Axes>"
      ]
     },
     "metadata": {},
     "output_type": "display_data"
    }
   ],
   "source": [
    "train_test.plot.scatter(x='VRDeck', y='Transported')\n",
    "plt.show()"
   ]
  },
  {
   "cell_type": "code",
   "execution_count": 15,
   "id": "65680bc8",
   "metadata": {
    "execution": {
     "iopub.execute_input": "2023-12-08T13:58:56.740128Z",
     "iopub.status.busy": "2023-12-08T13:58:56.739684Z",
     "iopub.status.idle": "2023-12-08T13:58:56.745556Z",
     "shell.execute_reply": "2023-12-08T13:58:56.744143Z"
    },
    "papermill": {
     "duration": 0.030386,
     "end_time": "2023-12-08T13:58:56.748208",
     "exception": false,
     "start_time": "2023-12-08T13:58:56.717822",
     "status": "completed"
    },
    "tags": []
   },
   "outputs": [],
   "source": [
    "# indexNames1 = train_test[ (train_test['VRDeck'] > 3500) & (train_test['Transported'] == True)].index\n",
    "# indexNames2 = train_test[ (train_test['VRDeck'] > 13000)& (train_test['Transported'] == False)].index\n",
    "\n",
    "# train_test.drop(indexNames1 , inplace=True)\n",
    "# train_test.drop(indexNames2 , inplace=True)\n",
    "\n",
    "# train_test.plot.scatter(x='VRDeck', y='Transported')\n",
    "# plt.show()\n",
    "\n",
    "# # print(len(indexNames1))\n",
    "# # print(len(indexNames2))"
   ]
  },
  {
   "cell_type": "code",
   "execution_count": 16,
   "id": "2f31cdea",
   "metadata": {
    "execution": {
     "iopub.execute_input": "2023-12-08T13:58:56.790225Z",
     "iopub.status.busy": "2023-12-08T13:58:56.789761Z",
     "iopub.status.idle": "2023-12-08T13:58:56.796913Z",
     "shell.execute_reply": "2023-12-08T13:58:56.795225Z"
    },
    "papermill": {
     "duration": 0.031166,
     "end_time": "2023-12-08T13:58:56.799603",
     "exception": false,
     "start_time": "2023-12-08T13:58:56.768437",
     "status": "completed"
    },
    "tags": []
   },
   "outputs": [],
   "source": [
    "# # RoomService\n",
    "# Q1 = train_test['RoomService'].quantile(0.25)\n",
    "# Q3 = train_test['RoomService'].quantile(0.75)\n",
    "# IQR = Q3 - Q1\n",
    "# train_test = train_test[~((train_test['RoomService'] < (Q1 - 1.5 * IQR)) |(train_test['RoomService'] > (Q3 + 1.5 * IQR)))]\n",
    "\n",
    "# #FoodCourt\n",
    "# Q1 = train_test['FoodCourt'].quantile(0.25)\n",
    "# Q3 = train_test['FoodCourt'].quantile(0.75)\n",
    "# IQR = Q3 - Q1\n",
    "# train_test = train_test[~((train_test['FoodCourt'] < (Q1 - 1.5 * IQR)) |(train_test['FoodCourt'] > (Q3 + 1.5 * IQR)))]\n",
    "\n",
    "# #ShoppingMall\n",
    "# Q1 = train_test['ShoppingMall'].quantile(0.25)\n",
    "# Q3 = train_test['ShoppingMall'].quantile(0.75)\n",
    "# IQR = Q3 - Q1\n",
    "# train_test = train_test[~((train_test['ShoppingMall'] < (Q1 - 1.5 * IQR)) |(train_test['ShoppingMall'] > (Q3 + 1.5 * IQR)))]\n",
    "\n",
    "# #Spa\n",
    "# Q1 = train_test['Spa'].quantile(0.25)\n",
    "# Q3 = train_test['Spa'].quantile(0.75)\n",
    "# IQR = Q3 - Q1\n",
    "# train_test = train_test[~((train_test['Spa'] < (Q1 - 1.5 * IQR)) |(train_test['Spa'] > (Q3 + 1.5 * IQR)))]\n",
    "\n",
    "# #VRDeck\n",
    "# Q1 = train_test['VRDeck'].quantile(0.25)\n",
    "# Q3 = train_test['VRDeck'].quantile(0.75)\n",
    "# IQR = Q3 - Q1\n",
    "# train_test = train_test[~((train_test['VRDeck'] < (Q1 - 1.5 * IQR)) |(train_test['VRDeck'] > (Q3 + 1.5 * IQR)))]\n",
    "# train_test"
   ]
  },
  {
   "cell_type": "code",
   "execution_count": 17,
   "id": "84483ed3",
   "metadata": {
    "execution": {
     "iopub.execute_input": "2023-12-08T13:58:56.841610Z",
     "iopub.status.busy": "2023-12-08T13:58:56.841124Z",
     "iopub.status.idle": "2023-12-08T13:58:56.847803Z",
     "shell.execute_reply": "2023-12-08T13:58:56.846147Z"
    },
    "papermill": {
     "duration": 0.030796,
     "end_time": "2023-12-08T13:58:56.850436",
     "exception": false,
     "start_time": "2023-12-08T13:58:56.819640",
     "status": "completed"
    },
    "tags": []
   },
   "outputs": [],
   "source": [
    "Expenses_columns = ['RoomService','FoodCourt','ShoppingMall','Spa','VRDeck']\n",
    "#train_test.loc[(train_test['Age'] < 10) & (train_test[Expenses_columns].isnull()), Expenses_columns] = 0\n",
    "# train_test.loc[(train_test['Age'] > 10) & train_test['RoomService'].isnull(), Expenses_columns] = train_test['RoomService'].mean()\n",
    "\n"
   ]
  },
  {
   "cell_type": "code",
   "execution_count": 18,
   "id": "b10de70d",
   "metadata": {
    "execution": {
     "iopub.execute_input": "2023-12-08T13:58:56.893020Z",
     "iopub.status.busy": "2023-12-08T13:58:56.892585Z",
     "iopub.status.idle": "2023-12-08T13:59:00.440758Z",
     "shell.execute_reply": "2023-12-08T13:59:00.439368Z"
    },
    "papermill": {
     "duration": 3.572607,
     "end_time": "2023-12-08T13:59:00.443433",
     "exception": false,
     "start_time": "2023-12-08T13:58:56.870826",
     "status": "completed"
    },
    "tags": []
   },
   "outputs": [
    {
     "name": "stdout",
     "output_type": "stream",
     "text": [
      "<class 'pandas.core.frame.DataFrame'>\n",
      "Index: 12970 entries, 0 to 4276\n",
      "Data columns (total 15 columns):\n",
      " #   Column        Non-Null Count  Dtype  \n",
      "---  ------        --------------  -----  \n",
      " 0   PassengerId   12970 non-null  object \n",
      " 1   HomePlanet    12682 non-null  object \n",
      " 2   CryoSleep     12660 non-null  object \n",
      " 3   Cabin         12671 non-null  object \n",
      " 4   Destination   12696 non-null  object \n",
      " 5   Age           12829 non-null  float64\n",
      " 6   VIP           12674 non-null  object \n",
      " 7   RoomService   12970 non-null  float64\n",
      " 8   FoodCourt     12969 non-null  float64\n",
      " 9   ShoppingMall  12966 non-null  float64\n",
      " 10  Spa           12969 non-null  float64\n",
      " 11  VRDeck        12967 non-null  float64\n",
      " 12  Name          12676 non-null  object \n",
      " 13  Transported   8693 non-null   object \n",
      " 14  Expenditure   12970 non-null  float64\n",
      "dtypes: float64(7), object(8)\n",
      "memory usage: 1.6+ MB\n"
     ]
    }
   ],
   "source": [
    "# First lets fill CryoSleep, based on totdal expenditure\n",
    "train_test[\"Expenditure\"]=train_test[Expenses_columns].sum(axis=\"columns\")\n",
    "\n",
    "train_test.loc[train_test[\"Expenditure\"] == 0 & train_test['Age'].isna(), 'Age'] = 0\n",
    "\n",
    "\n",
    "# filling expenditure with use of Age\n",
    "def fill_with_mean(row):\n",
    "    for col in Expenses_columns:\n",
    "        if row['Age'] > 12 and pd.isnull(row[col]):\n",
    "            row[col] = train_test[col].mean()\n",
    "    return row\n",
    "\n",
    "train_test = train_test.apply(fill_with_mean, axis=1)\n",
    "\n",
    "\n",
    "\n",
    "def fill_with_zero(row):\n",
    "    for col in Expenses_columns:\n",
    "        if row['Age'] < 12 and pd.isnull(row[col]):\n",
    "            row[col] = 0\n",
    "    return row\n",
    "\n",
    "train_test = train_test.apply(fill_with_zero, axis=1)\n",
    "\n",
    "\n",
    "\n",
    "train_test.info()"
   ]
  },
  {
   "cell_type": "code",
   "execution_count": 19,
   "id": "5bef4f43",
   "metadata": {
    "execution": {
     "iopub.execute_input": "2023-12-08T13:59:00.486713Z",
     "iopub.status.busy": "2023-12-08T13:59:00.485931Z",
     "iopub.status.idle": "2023-12-08T13:59:00.512286Z",
     "shell.execute_reply": "2023-12-08T13:59:00.510824Z"
    },
    "papermill": {
     "duration": 0.051315,
     "end_time": "2023-12-08T13:59:00.515150",
     "exception": false,
     "start_time": "2023-12-08T13:59:00.463835",
     "status": "completed"
    },
    "tags": []
   },
   "outputs": [
    {
     "name": "stdout",
     "output_type": "stream",
     "text": [
      "PassengerId        0\n",
      "HomePlanet       288\n",
      "CryoSleep          0\n",
      "Cabin            299\n",
      "Destination      274\n",
      "Age              141\n",
      "VIP                0\n",
      "RoomService        0\n",
      "FoodCourt          1\n",
      "ShoppingMall       4\n",
      "Spa                1\n",
      "VRDeck             3\n",
      "Name             294\n",
      "Transported     4277\n",
      "dtype: int64\n"
     ]
    }
   ],
   "source": [
    "# Thanks to @Master Jiraiya\n",
    "\n",
    "# Zero expenditure indicate that they are in CryoSleep\n",
    "train_test['CryoSleep']=np.where(train_test['Expenditure']==0,1,0)\n",
    "\n",
    "# Also, if they are VIPs, they probably would not choose to be in CryoSleep\n",
    "train_test['VIP']=np.where(train_test['CryoSleep']==0,1,0)\n",
    "\n",
    "train_test.drop(columns=[\"Expenditure\"],inplace=True)\n",
    "\n",
    "print(train_test.isna().sum())"
   ]
  },
  {
   "cell_type": "code",
   "execution_count": 20,
   "id": "e56eb011",
   "metadata": {
    "execution": {
     "iopub.execute_input": "2023-12-08T13:59:00.557942Z",
     "iopub.status.busy": "2023-12-08T13:59:00.557486Z",
     "iopub.status.idle": "2023-12-08T13:59:00.590791Z",
     "shell.execute_reply": "2023-12-08T13:59:00.589628Z"
    },
    "papermill": {
     "duration": 0.057782,
     "end_time": "2023-12-08T13:59:00.593339",
     "exception": false,
     "start_time": "2023-12-08T13:59:00.535557",
     "status": "completed"
    },
    "tags": []
   },
   "outputs": [
    {
     "data": {
      "text/html": [
       "<div>\n",
       "<style scoped>\n",
       "    .dataframe tbody tr th:only-of-type {\n",
       "        vertical-align: middle;\n",
       "    }\n",
       "\n",
       "    .dataframe tbody tr th {\n",
       "        vertical-align: top;\n",
       "    }\n",
       "\n",
       "    .dataframe thead th {\n",
       "        text-align: right;\n",
       "    }\n",
       "</style>\n",
       "<table border=\"1\" class=\"dataframe\">\n",
       "  <thead>\n",
       "    <tr style=\"text-align: right;\">\n",
       "      <th></th>\n",
       "      <th>PassengerId</th>\n",
       "      <th>HomePlanet</th>\n",
       "      <th>CryoSleep</th>\n",
       "      <th>Cabin</th>\n",
       "      <th>Destination</th>\n",
       "      <th>Age</th>\n",
       "      <th>VIP</th>\n",
       "      <th>RoomService</th>\n",
       "      <th>FoodCourt</th>\n",
       "      <th>ShoppingMall</th>\n",
       "      <th>Spa</th>\n",
       "      <th>VRDeck</th>\n",
       "      <th>Name</th>\n",
       "      <th>Transported</th>\n",
       "    </tr>\n",
       "  </thead>\n",
       "  <tbody>\n",
       "    <tr>\n",
       "      <th>0</th>\n",
       "      <td>0001_01</td>\n",
       "      <td>Europa</td>\n",
       "      <td>1</td>\n",
       "      <td>B/0/P</td>\n",
       "      <td>TRAPPIST-1e</td>\n",
       "      <td>0.0</td>\n",
       "      <td>0</td>\n",
       "      <td>0.0</td>\n",
       "      <td>0.0</td>\n",
       "      <td>0.0</td>\n",
       "      <td>0.0</td>\n",
       "      <td>0.0</td>\n",
       "      <td>Maham Ofracculy</td>\n",
       "      <td>False</td>\n",
       "    </tr>\n",
       "    <tr>\n",
       "      <th>1</th>\n",
       "      <td>0002_01</td>\n",
       "      <td>Earth</td>\n",
       "      <td>0</td>\n",
       "      <td>F/0/S</td>\n",
       "      <td>TRAPPIST-1e</td>\n",
       "      <td>24.0</td>\n",
       "      <td>1</td>\n",
       "      <td>109.0</td>\n",
       "      <td>9.0</td>\n",
       "      <td>25.0</td>\n",
       "      <td>549.0</td>\n",
       "      <td>44.0</td>\n",
       "      <td>Juanna Vines</td>\n",
       "      <td>True</td>\n",
       "    </tr>\n",
       "    <tr>\n",
       "      <th>2</th>\n",
       "      <td>0003_01</td>\n",
       "      <td>Europa</td>\n",
       "      <td>0</td>\n",
       "      <td>A/0/S</td>\n",
       "      <td>TRAPPIST-1e</td>\n",
       "      <td>58.0</td>\n",
       "      <td>1</td>\n",
       "      <td>43.0</td>\n",
       "      <td>3576.0</td>\n",
       "      <td>0.0</td>\n",
       "      <td>6715.0</td>\n",
       "      <td>49.0</td>\n",
       "      <td>Altark Susent</td>\n",
       "      <td>False</td>\n",
       "    </tr>\n",
       "    <tr>\n",
       "      <th>3</th>\n",
       "      <td>0003_02</td>\n",
       "      <td>Europa</td>\n",
       "      <td>0</td>\n",
       "      <td>A/0/S</td>\n",
       "      <td>TRAPPIST-1e</td>\n",
       "      <td>33.0</td>\n",
       "      <td>1</td>\n",
       "      <td>0.0</td>\n",
       "      <td>1283.0</td>\n",
       "      <td>371.0</td>\n",
       "      <td>3329.0</td>\n",
       "      <td>193.0</td>\n",
       "      <td>Solam Susent</td>\n",
       "      <td>False</td>\n",
       "    </tr>\n",
       "    <tr>\n",
       "      <th>4</th>\n",
       "      <td>0004_01</td>\n",
       "      <td>Earth</td>\n",
       "      <td>0</td>\n",
       "      <td>F/1/S</td>\n",
       "      <td>TRAPPIST-1e</td>\n",
       "      <td>16.0</td>\n",
       "      <td>1</td>\n",
       "      <td>303.0</td>\n",
       "      <td>70.0</td>\n",
       "      <td>151.0</td>\n",
       "      <td>565.0</td>\n",
       "      <td>2.0</td>\n",
       "      <td>Willy Santantines</td>\n",
       "      <td>True</td>\n",
       "    </tr>\n",
       "    <tr>\n",
       "      <th>...</th>\n",
       "      <td>...</td>\n",
       "      <td>...</td>\n",
       "      <td>...</td>\n",
       "      <td>...</td>\n",
       "      <td>...</td>\n",
       "      <td>...</td>\n",
       "      <td>...</td>\n",
       "      <td>...</td>\n",
       "      <td>...</td>\n",
       "      <td>...</td>\n",
       "      <td>...</td>\n",
       "      <td>...</td>\n",
       "      <td>...</td>\n",
       "      <td>...</td>\n",
       "    </tr>\n",
       "    <tr>\n",
       "      <th>4272</th>\n",
       "      <td>9266_02</td>\n",
       "      <td>Earth</td>\n",
       "      <td>1</td>\n",
       "      <td>G/1496/S</td>\n",
       "      <td>TRAPPIST-1e</td>\n",
       "      <td>0.0</td>\n",
       "      <td>0</td>\n",
       "      <td>0.0</td>\n",
       "      <td>0.0</td>\n",
       "      <td>0.0</td>\n",
       "      <td>0.0</td>\n",
       "      <td>0.0</td>\n",
       "      <td>Jeron Peter</td>\n",
       "      <td>NaN</td>\n",
       "    </tr>\n",
       "    <tr>\n",
       "      <th>4273</th>\n",
       "      <td>9269_01</td>\n",
       "      <td>Earth</td>\n",
       "      <td>0</td>\n",
       "      <td>NaN</td>\n",
       "      <td>TRAPPIST-1e</td>\n",
       "      <td>42.0</td>\n",
       "      <td>1</td>\n",
       "      <td>0.0</td>\n",
       "      <td>847.0</td>\n",
       "      <td>17.0</td>\n",
       "      <td>10.0</td>\n",
       "      <td>144.0</td>\n",
       "      <td>Matty Scheron</td>\n",
       "      <td>NaN</td>\n",
       "    </tr>\n",
       "    <tr>\n",
       "      <th>4274</th>\n",
       "      <td>9271_01</td>\n",
       "      <td>Mars</td>\n",
       "      <td>1</td>\n",
       "      <td>D/296/P</td>\n",
       "      <td>55 Cancri e</td>\n",
       "      <td>0.0</td>\n",
       "      <td>0</td>\n",
       "      <td>0.0</td>\n",
       "      <td>0.0</td>\n",
       "      <td>0.0</td>\n",
       "      <td>0.0</td>\n",
       "      <td>0.0</td>\n",
       "      <td>Jayrin Pore</td>\n",
       "      <td>NaN</td>\n",
       "    </tr>\n",
       "    <tr>\n",
       "      <th>4275</th>\n",
       "      <td>9273_01</td>\n",
       "      <td>Europa</td>\n",
       "      <td>0</td>\n",
       "      <td>D/297/P</td>\n",
       "      <td>NaN</td>\n",
       "      <td>NaN</td>\n",
       "      <td>1</td>\n",
       "      <td>0.0</td>\n",
       "      <td>2680.0</td>\n",
       "      <td>0.0</td>\n",
       "      <td>0.0</td>\n",
       "      <td>523.0</td>\n",
       "      <td>Kitakan Conale</td>\n",
       "      <td>NaN</td>\n",
       "    </tr>\n",
       "    <tr>\n",
       "      <th>4276</th>\n",
       "      <td>9277_01</td>\n",
       "      <td>Earth</td>\n",
       "      <td>1</td>\n",
       "      <td>G/1498/S</td>\n",
       "      <td>PSO J318.5-22</td>\n",
       "      <td>0.0</td>\n",
       "      <td>0</td>\n",
       "      <td>0.0</td>\n",
       "      <td>0.0</td>\n",
       "      <td>0.0</td>\n",
       "      <td>0.0</td>\n",
       "      <td>0.0</td>\n",
       "      <td>Lilace Leonzaley</td>\n",
       "      <td>NaN</td>\n",
       "    </tr>\n",
       "  </tbody>\n",
       "</table>\n",
       "<p>12970 rows × 14 columns</p>\n",
       "</div>"
      ],
      "text/plain": [
       "     PassengerId HomePlanet  CryoSleep     Cabin    Destination   Age  VIP  \\\n",
       "0        0001_01     Europa          1     B/0/P    TRAPPIST-1e   0.0    0   \n",
       "1        0002_01      Earth          0     F/0/S    TRAPPIST-1e  24.0    1   \n",
       "2        0003_01     Europa          0     A/0/S    TRAPPIST-1e  58.0    1   \n",
       "3        0003_02     Europa          0     A/0/S    TRAPPIST-1e  33.0    1   \n",
       "4        0004_01      Earth          0     F/1/S    TRAPPIST-1e  16.0    1   \n",
       "...          ...        ...        ...       ...            ...   ...  ...   \n",
       "4272     9266_02      Earth          1  G/1496/S    TRAPPIST-1e   0.0    0   \n",
       "4273     9269_01      Earth          0       NaN    TRAPPIST-1e  42.0    1   \n",
       "4274     9271_01       Mars          1   D/296/P    55 Cancri e   0.0    0   \n",
       "4275     9273_01     Europa          0   D/297/P            NaN   NaN    1   \n",
       "4276     9277_01      Earth          1  G/1498/S  PSO J318.5-22   0.0    0   \n",
       "\n",
       "      RoomService  FoodCourt  ShoppingMall     Spa  VRDeck               Name  \\\n",
       "0             0.0        0.0           0.0     0.0     0.0    Maham Ofracculy   \n",
       "1           109.0        9.0          25.0   549.0    44.0       Juanna Vines   \n",
       "2            43.0     3576.0           0.0  6715.0    49.0      Altark Susent   \n",
       "3             0.0     1283.0         371.0  3329.0   193.0       Solam Susent   \n",
       "4           303.0       70.0         151.0   565.0     2.0  Willy Santantines   \n",
       "...           ...        ...           ...     ...     ...                ...   \n",
       "4272          0.0        0.0           0.0     0.0     0.0        Jeron Peter   \n",
       "4273          0.0      847.0          17.0    10.0   144.0      Matty Scheron   \n",
       "4274          0.0        0.0           0.0     0.0     0.0        Jayrin Pore   \n",
       "4275          0.0     2680.0           0.0     0.0   523.0     Kitakan Conale   \n",
       "4276          0.0        0.0           0.0     0.0     0.0   Lilace Leonzaley   \n",
       "\n",
       "     Transported  \n",
       "0          False  \n",
       "1           True  \n",
       "2          False  \n",
       "3          False  \n",
       "4           True  \n",
       "...          ...  \n",
       "4272         NaN  \n",
       "4273         NaN  \n",
       "4274         NaN  \n",
       "4275         NaN  \n",
       "4276         NaN  \n",
       "\n",
       "[12970 rows x 14 columns]"
      ]
     },
     "execution_count": 20,
     "metadata": {},
     "output_type": "execute_result"
    }
   ],
   "source": [
    "train_test"
   ]
  },
  {
   "cell_type": "markdown",
   "id": "4087c1b7",
   "metadata": {
    "papermill": {
     "duration": 0.02045,
     "end_time": "2023-12-08T13:59:00.634439",
     "exception": false,
     "start_time": "2023-12-08T13:59:00.613989",
     "status": "completed"
    },
    "tags": []
   },
   "source": [
    "> HomePlanet: {'Earth', 'Europa', 'Mars', nan}\n",
    "> {1,2,3,4}\n",
    "> \n",
    "> #######################\n",
    "> \n",
    "> Destination: {'55 Cancri e', 'PSO J318.5-22', 'TRAPPIST-1e', nan}\n",
    "> {1,2,3,4}\n",
    "> \n",
    "> \n",
    "> #######################\n",
    "> \n",
    "> Cabin Class = {'A': 1, 'B': 2, 'C': 3, 'D': 4, 'E': 5, 'F': 6, 'G': 7, 'H': 8, 'I': 9, 'J': 10}"
   ]
  },
  {
   "cell_type": "code",
   "execution_count": 21,
   "id": "c63864b7",
   "metadata": {
    "execution": {
     "iopub.execute_input": "2023-12-08T13:59:00.678961Z",
     "iopub.status.busy": "2023-12-08T13:59:00.678534Z",
     "iopub.status.idle": "2023-12-08T13:59:00.752472Z",
     "shell.execute_reply": "2023-12-08T13:59:00.751103Z"
    },
    "papermill": {
     "duration": 0.099238,
     "end_time": "2023-12-08T13:59:00.754858",
     "exception": false,
     "start_time": "2023-12-08T13:59:00.655620",
     "status": "completed"
    },
    "tags": []
   },
   "outputs": [
    {
     "data": {
      "text/html": [
       "<div>\n",
       "<style scoped>\n",
       "    .dataframe tbody tr th:only-of-type {\n",
       "        vertical-align: middle;\n",
       "    }\n",
       "\n",
       "    .dataframe tbody tr th {\n",
       "        vertical-align: top;\n",
       "    }\n",
       "\n",
       "    .dataframe thead th {\n",
       "        text-align: right;\n",
       "    }\n",
       "</style>\n",
       "<table border=\"1\" class=\"dataframe\">\n",
       "  <thead>\n",
       "    <tr style=\"text-align: right;\">\n",
       "      <th></th>\n",
       "      <th>PassengerId</th>\n",
       "      <th>HomePlanet</th>\n",
       "      <th>CryoSleep</th>\n",
       "      <th>Cabin</th>\n",
       "      <th>Destination</th>\n",
       "      <th>Age</th>\n",
       "      <th>VIP</th>\n",
       "      <th>RoomService</th>\n",
       "      <th>FoodCourt</th>\n",
       "      <th>ShoppingMall</th>\n",
       "      <th>Spa</th>\n",
       "      <th>VRDeck</th>\n",
       "      <th>Name</th>\n",
       "      <th>Transported</th>\n",
       "    </tr>\n",
       "  </thead>\n",
       "  <tbody>\n",
       "    <tr>\n",
       "      <th>0</th>\n",
       "      <td>0001_01</td>\n",
       "      <td>2.0</td>\n",
       "      <td>1</td>\n",
       "      <td>B/0/P</td>\n",
       "      <td>3.0</td>\n",
       "      <td>0.0</td>\n",
       "      <td>0</td>\n",
       "      <td>0.0</td>\n",
       "      <td>0.0</td>\n",
       "      <td>0.0</td>\n",
       "      <td>0.0</td>\n",
       "      <td>0.0</td>\n",
       "      <td>Maham Ofracculy</td>\n",
       "      <td>0.0</td>\n",
       "    </tr>\n",
       "    <tr>\n",
       "      <th>1</th>\n",
       "      <td>0002_01</td>\n",
       "      <td>1.0</td>\n",
       "      <td>0</td>\n",
       "      <td>F/0/S</td>\n",
       "      <td>3.0</td>\n",
       "      <td>24.0</td>\n",
       "      <td>1</td>\n",
       "      <td>109.0</td>\n",
       "      <td>9.0</td>\n",
       "      <td>25.0</td>\n",
       "      <td>549.0</td>\n",
       "      <td>44.0</td>\n",
       "      <td>Juanna Vines</td>\n",
       "      <td>1.0</td>\n",
       "    </tr>\n",
       "    <tr>\n",
       "      <th>2</th>\n",
       "      <td>0003_01</td>\n",
       "      <td>2.0</td>\n",
       "      <td>0</td>\n",
       "      <td>A/0/S</td>\n",
       "      <td>3.0</td>\n",
       "      <td>58.0</td>\n",
       "      <td>1</td>\n",
       "      <td>43.0</td>\n",
       "      <td>3576.0</td>\n",
       "      <td>0.0</td>\n",
       "      <td>6715.0</td>\n",
       "      <td>49.0</td>\n",
       "      <td>Altark Susent</td>\n",
       "      <td>0.0</td>\n",
       "    </tr>\n",
       "    <tr>\n",
       "      <th>3</th>\n",
       "      <td>0003_02</td>\n",
       "      <td>2.0</td>\n",
       "      <td>0</td>\n",
       "      <td>A/0/S</td>\n",
       "      <td>3.0</td>\n",
       "      <td>33.0</td>\n",
       "      <td>1</td>\n",
       "      <td>0.0</td>\n",
       "      <td>1283.0</td>\n",
       "      <td>371.0</td>\n",
       "      <td>3329.0</td>\n",
       "      <td>193.0</td>\n",
       "      <td>Solam Susent</td>\n",
       "      <td>0.0</td>\n",
       "    </tr>\n",
       "    <tr>\n",
       "      <th>4</th>\n",
       "      <td>0004_01</td>\n",
       "      <td>1.0</td>\n",
       "      <td>0</td>\n",
       "      <td>F/1/S</td>\n",
       "      <td>3.0</td>\n",
       "      <td>16.0</td>\n",
       "      <td>1</td>\n",
       "      <td>303.0</td>\n",
       "      <td>70.0</td>\n",
       "      <td>151.0</td>\n",
       "      <td>565.0</td>\n",
       "      <td>2.0</td>\n",
       "      <td>Willy Santantines</td>\n",
       "      <td>1.0</td>\n",
       "    </tr>\n",
       "    <tr>\n",
       "      <th>...</th>\n",
       "      <td>...</td>\n",
       "      <td>...</td>\n",
       "      <td>...</td>\n",
       "      <td>...</td>\n",
       "      <td>...</td>\n",
       "      <td>...</td>\n",
       "      <td>...</td>\n",
       "      <td>...</td>\n",
       "      <td>...</td>\n",
       "      <td>...</td>\n",
       "      <td>...</td>\n",
       "      <td>...</td>\n",
       "      <td>...</td>\n",
       "      <td>...</td>\n",
       "    </tr>\n",
       "    <tr>\n",
       "      <th>4272</th>\n",
       "      <td>9266_02</td>\n",
       "      <td>1.0</td>\n",
       "      <td>1</td>\n",
       "      <td>G/1496/S</td>\n",
       "      <td>3.0</td>\n",
       "      <td>0.0</td>\n",
       "      <td>0</td>\n",
       "      <td>0.0</td>\n",
       "      <td>0.0</td>\n",
       "      <td>0.0</td>\n",
       "      <td>0.0</td>\n",
       "      <td>0.0</td>\n",
       "      <td>Jeron Peter</td>\n",
       "      <td>NaN</td>\n",
       "    </tr>\n",
       "    <tr>\n",
       "      <th>4273</th>\n",
       "      <td>9269_01</td>\n",
       "      <td>1.0</td>\n",
       "      <td>0</td>\n",
       "      <td>NaN</td>\n",
       "      <td>3.0</td>\n",
       "      <td>42.0</td>\n",
       "      <td>1</td>\n",
       "      <td>0.0</td>\n",
       "      <td>847.0</td>\n",
       "      <td>17.0</td>\n",
       "      <td>10.0</td>\n",
       "      <td>144.0</td>\n",
       "      <td>Matty Scheron</td>\n",
       "      <td>NaN</td>\n",
       "    </tr>\n",
       "    <tr>\n",
       "      <th>4274</th>\n",
       "      <td>9271_01</td>\n",
       "      <td>3.0</td>\n",
       "      <td>1</td>\n",
       "      <td>D/296/P</td>\n",
       "      <td>1.0</td>\n",
       "      <td>0.0</td>\n",
       "      <td>0</td>\n",
       "      <td>0.0</td>\n",
       "      <td>0.0</td>\n",
       "      <td>0.0</td>\n",
       "      <td>0.0</td>\n",
       "      <td>0.0</td>\n",
       "      <td>Jayrin Pore</td>\n",
       "      <td>NaN</td>\n",
       "    </tr>\n",
       "    <tr>\n",
       "      <th>4275</th>\n",
       "      <td>9273_01</td>\n",
       "      <td>2.0</td>\n",
       "      <td>0</td>\n",
       "      <td>D/297/P</td>\n",
       "      <td>NaN</td>\n",
       "      <td>NaN</td>\n",
       "      <td>1</td>\n",
       "      <td>0.0</td>\n",
       "      <td>2680.0</td>\n",
       "      <td>0.0</td>\n",
       "      <td>0.0</td>\n",
       "      <td>523.0</td>\n",
       "      <td>Kitakan Conale</td>\n",
       "      <td>NaN</td>\n",
       "    </tr>\n",
       "    <tr>\n",
       "      <th>4276</th>\n",
       "      <td>9277_01</td>\n",
       "      <td>1.0</td>\n",
       "      <td>1</td>\n",
       "      <td>G/1498/S</td>\n",
       "      <td>2.0</td>\n",
       "      <td>0.0</td>\n",
       "      <td>0</td>\n",
       "      <td>0.0</td>\n",
       "      <td>0.0</td>\n",
       "      <td>0.0</td>\n",
       "      <td>0.0</td>\n",
       "      <td>0.0</td>\n",
       "      <td>Lilace Leonzaley</td>\n",
       "      <td>NaN</td>\n",
       "    </tr>\n",
       "  </tbody>\n",
       "</table>\n",
       "<p>12970 rows × 14 columns</p>\n",
       "</div>"
      ],
      "text/plain": [
       "     PassengerId  HomePlanet  CryoSleep     Cabin  Destination   Age  VIP  \\\n",
       "0        0001_01         2.0          1     B/0/P          3.0   0.0    0   \n",
       "1        0002_01         1.0          0     F/0/S          3.0  24.0    1   \n",
       "2        0003_01         2.0          0     A/0/S          3.0  58.0    1   \n",
       "3        0003_02         2.0          0     A/0/S          3.0  33.0    1   \n",
       "4        0004_01         1.0          0     F/1/S          3.0  16.0    1   \n",
       "...          ...         ...        ...       ...          ...   ...  ...   \n",
       "4272     9266_02         1.0          1  G/1496/S          3.0   0.0    0   \n",
       "4273     9269_01         1.0          0       NaN          3.0  42.0    1   \n",
       "4274     9271_01         3.0          1   D/296/P          1.0   0.0    0   \n",
       "4275     9273_01         2.0          0   D/297/P          NaN   NaN    1   \n",
       "4276     9277_01         1.0          1  G/1498/S          2.0   0.0    0   \n",
       "\n",
       "      RoomService  FoodCourt  ShoppingMall     Spa  VRDeck               Name  \\\n",
       "0             0.0        0.0           0.0     0.0     0.0    Maham Ofracculy   \n",
       "1           109.0        9.0          25.0   549.0    44.0       Juanna Vines   \n",
       "2            43.0     3576.0           0.0  6715.0    49.0      Altark Susent   \n",
       "3             0.0     1283.0         371.0  3329.0   193.0       Solam Susent   \n",
       "4           303.0       70.0         151.0   565.0     2.0  Willy Santantines   \n",
       "...           ...        ...           ...     ...     ...                ...   \n",
       "4272          0.0        0.0           0.0     0.0     0.0        Jeron Peter   \n",
       "4273          0.0      847.0          17.0    10.0   144.0      Matty Scheron   \n",
       "4274          0.0        0.0           0.0     0.0     0.0        Jayrin Pore   \n",
       "4275          0.0     2680.0           0.0     0.0   523.0     Kitakan Conale   \n",
       "4276          0.0        0.0           0.0     0.0     0.0   Lilace Leonzaley   \n",
       "\n",
       "      Transported  \n",
       "0             0.0  \n",
       "1             1.0  \n",
       "2             0.0  \n",
       "3             0.0  \n",
       "4             1.0  \n",
       "...           ...  \n",
       "4272          NaN  \n",
       "4273          NaN  \n",
       "4274          NaN  \n",
       "4275          NaN  \n",
       "4276          NaN  \n",
       "\n",
       "[12970 rows x 14 columns]"
      ]
     },
     "execution_count": 21,
     "metadata": {},
     "output_type": "execute_result"
    }
   ],
   "source": [
    "#CryoSleep Train\n",
    "train_test['CryoSleep'].replace({True: 1, False: 0}, inplace=True)\n",
    "\n",
    "#Transported Train\n",
    "train_test['Transported'] = train_test['Transported'].replace({True: 1, False: 0})\n",
    "\n",
    "#HomePlanet Train\n",
    "train_test['HomePlanet'].replace('Earth', 1, inplace=True)\n",
    "train_test['HomePlanet'].replace('Europa', 2, inplace=True)\n",
    "train_test['HomePlanet'].replace('Mars', 3, inplace=True)\n",
    "\n",
    "#Destination Train\n",
    "train_test['Destination'].replace('55 Cancri e', 1, inplace=True)\n",
    "train_test['Destination'].replace('PSO J318.5-22', 2, inplace=True)\n",
    "train_test['Destination'].replace('TRAPPIST-1e', 3, inplace=True)\n",
    "\n",
    "\n",
    "#Vip Train\n",
    "train_test['VIP'].replace({True: 1, False: 0}, inplace=True)\n",
    "\n",
    "\n",
    "########################################################\n",
    "\n",
    "\n",
    "# #CryoSleep Test\n",
    "# test['CryoSleep'].replace({True: 1, False: 0}, inplace=True)\n",
    "\n",
    "# #Transported Test\n",
    "# # Don't have transported\n",
    "\n",
    "# #HomePlanet Test\n",
    "# test['HomePlanet'].replace('Earth', 1, inplace=True)\n",
    "# test['HomePlanet'].replace('Europa', 2, inplace=True)\n",
    "# test['HomePlanet'].replace('Mars', 3, inplace=True)\n",
    "\n",
    "# #Destination Test\n",
    "# test['Destination'].replace('55 Cancri e', 1, inplace=True)\n",
    "# test['Destination'].replace('PSO J318.5-22', 2, inplace=True)\n",
    "# test['Destination'].replace('TRAPPIST-1e', 3, inplace=True)\n",
    "\n",
    "# #Vip Test\n",
    "# test['VIP'].replace({True: 1, False: 0}, inplace=True)\n",
    "\n",
    "\n",
    "train_test\n",
    "# train_test.info()\n",
    "# test.head(3)"
   ]
  },
  {
   "cell_type": "code",
   "execution_count": 22,
   "id": "7c782a4c",
   "metadata": {
    "execution": {
     "iopub.execute_input": "2023-12-08T13:59:00.799533Z",
     "iopub.status.busy": "2023-12-08T13:59:00.798744Z",
     "iopub.status.idle": "2023-12-08T13:59:00.808739Z",
     "shell.execute_reply": "2023-12-08T13:59:00.807441Z"
    },
    "papermill": {
     "duration": 0.035229,
     "end_time": "2023-12-08T13:59:00.811271",
     "exception": false,
     "start_time": "2023-12-08T13:59:00.776042",
     "status": "completed"
    },
    "tags": []
   },
   "outputs": [
    {
     "data": {
      "text/plain": [
       "141"
      ]
     },
     "execution_count": 22,
     "metadata": {},
     "output_type": "execute_result"
    }
   ],
   "source": [
    "# expenses_grouped = train_test.groupby('Transported')[Expenses_columns].mean()\n",
    "\n",
    "# plt.figure(figsize=(12, 6))\n",
    "# expenses_grouped.plot(kind='bar')\n",
    "# plt.xlabel('Transported')\n",
    "# plt.ylabel('Average Expenses')\n",
    "# plt.title('Average Expenses by Transported')\n",
    "# plt.legend(Expenses_columns)\n",
    "# plt.show()\n",
    "sum(train_test[\"Age\"].isna())"
   ]
  },
  {
   "cell_type": "markdown",
   "id": "80446499",
   "metadata": {
    "papermill": {
     "duration": 0.020942,
     "end_time": "2023-12-08T13:59:00.853580",
     "exception": false,
     "start_time": "2023-12-08T13:59:00.832638",
     "status": "completed"
    },
    "tags": []
   },
   "source": [
    "# 4. Filling NaN and Null cells"
   ]
  },
  {
   "cell_type": "code",
   "execution_count": 23,
   "id": "2ae51928",
   "metadata": {
    "execution": {
     "iopub.execute_input": "2023-12-08T13:59:00.899278Z",
     "iopub.status.busy": "2023-12-08T13:59:00.898072Z",
     "iopub.status.idle": "2023-12-08T13:59:00.938317Z",
     "shell.execute_reply": "2023-12-08T13:59:00.937096Z"
    },
    "papermill": {
     "duration": 0.066347,
     "end_time": "2023-12-08T13:59:00.941154",
     "exception": false,
     "start_time": "2023-12-08T13:59:00.874807",
     "status": "completed"
    },
    "tags": []
   },
   "outputs": [
    {
     "name": "stdout",
     "output_type": "stream",
     "text": [
      "PassengerId        0\n",
      "HomePlanet         0\n",
      "CryoSleep          0\n",
      "Cabin              0\n",
      "Destination        0\n",
      "Age                0\n",
      "VIP                0\n",
      "RoomService        0\n",
      "FoodCourt          0\n",
      "ShoppingMall       0\n",
      "Spa                0\n",
      "VRDeck             0\n",
      "Name               0\n",
      "Transported     4277\n",
      "dtype: int64\n"
     ]
    }
   ],
   "source": [
    "# Filled them with help of expenditure and VIP\n",
    "# df[\"CryoSleep\"].fillna(df[\"CryoSleep\"].mode()[0],inplace=True)\n",
    "\n",
    "# Filled them with help of expenditure and CryoSleep\n",
    "# df[\"VIP\"].fillna(df[\"VIP\"].mode()[0],inplace=True)\n",
    "\n",
    "#Data For Train\n",
    "train_test[\"Name\"].fillna(\"Unknown Unknown\",inplace=True)\n",
    "train_test[\"HomePlanet\"].fillna(train_test[\"HomePlanet\"].mode()[0],inplace=True)\n",
    "train_test[\"Destination\"].fillna(train_test[\"Destination\"].mode()[0],inplace=True)\n",
    "train_test[\"Cabin\"].fillna(train_test[\"Cabin\"].mode()[0],inplace=True)\n",
    "train_test[\"Age\"].fillna(int(train_test[\"Age\"].mean()),inplace=True)\n",
    "train_test[\"RoomService\"].fillna(train_test[\"RoomService\"].mean(),inplace=True)\n",
    "train_test[\"FoodCourt\"].fillna(train_test[\"FoodCourt\"].mean(),inplace=True)\n",
    "train_test[\"ShoppingMall\"].fillna(train_test[\"ShoppingMall\"].mean(),inplace=True)\n",
    "train_test[\"Spa\"].fillna(train_test[\"Spa\"].mean(),inplace=True)\n",
    "train_test[\"VRDeck\"].fillna(train_test[\"VRDeck\"].mean(),inplace=True)\n",
    "\n",
    "\n",
    "\n",
    "# #Data for Test\n",
    "# test[\"HomePlanet\"].fillna(test[\"HomePlanet\"].mode()[0],inplace=True)\n",
    "# test[\"Destination\"].fillna(test[\"Destination\"].mode()[0],inplace=True)\n",
    "# test[\"Cabin\"].fillna(test[\"Cabin\"].mode()[0],inplace=True)\n",
    "# test[\"Age\"].fillna(int(test[\"Age\"].mean()),inplace=True)\n",
    "# test[\"RoomService\"].fillna(test[\"RoomService\"].mean(),inplace=True)\n",
    "# test[\"FoodCourt\"].fillna(test[\"FoodCourt\"].mean(),inplace=True)\n",
    "# test[\"ShoppingMall\"].fillna(test[\"ShoppingMall\"].mean(),inplace=True)\n",
    "# test[\"Spa\"].fillna(test[\"Spa\"].mean(),inplace=True)\n",
    "# test[\"VRDeck\"].fillna(test[\"VRDeck\"].mean(),inplace=True)\n",
    "\n",
    "# Define the bins and labels for AGE column\n",
    "bins = [0, 15, 25, 35, 45, 60, 75, 90,120, 150]\n",
    "labels = [1, 2, 3, 4, 5, 6, 7, 8, 9]\n",
    "\n",
    "# Use pd.cut to scale the 'Age' column\n",
    "train_test['Age'] = pd.cut(train_test['Age'], bins=bins, labels=labels, right=False)\n",
    "# test['Age'] = pd.cut(test['Age'], bins=bins, labels=labels, right=False)\n",
    "\n",
    "#No Nan, Null or empty cell\n",
    "print(train_test.isna().sum())"
   ]
  },
  {
   "cell_type": "code",
   "execution_count": 24,
   "id": "3646b270",
   "metadata": {
    "execution": {
     "iopub.execute_input": "2023-12-08T13:59:00.989376Z",
     "iopub.status.busy": "2023-12-08T13:59:00.988947Z",
     "iopub.status.idle": "2023-12-08T13:59:01.056832Z",
     "shell.execute_reply": "2023-12-08T13:59:01.055551Z"
    },
    "papermill": {
     "duration": 0.096695,
     "end_time": "2023-12-08T13:59:01.059555",
     "exception": false,
     "start_time": "2023-12-08T13:59:00.962860",
     "status": "completed"
    },
    "tags": []
   },
   "outputs": [
    {
     "data": {
      "text/html": [
       "<div>\n",
       "<style scoped>\n",
       "    .dataframe tbody tr th:only-of-type {\n",
       "        vertical-align: middle;\n",
       "    }\n",
       "\n",
       "    .dataframe tbody tr th {\n",
       "        vertical-align: top;\n",
       "    }\n",
       "\n",
       "    .dataframe thead th {\n",
       "        text-align: right;\n",
       "    }\n",
       "</style>\n",
       "<table border=\"1\" class=\"dataframe\">\n",
       "  <thead>\n",
       "    <tr style=\"text-align: right;\">\n",
       "      <th></th>\n",
       "      <th>PassengerId</th>\n",
       "      <th>HomePlanet</th>\n",
       "      <th>CryoSleep</th>\n",
       "      <th>Cabin</th>\n",
       "      <th>Destination</th>\n",
       "      <th>Age</th>\n",
       "      <th>VIP</th>\n",
       "      <th>RoomService</th>\n",
       "      <th>FoodCourt</th>\n",
       "      <th>ShoppingMall</th>\n",
       "      <th>Spa</th>\n",
       "      <th>VRDeck</th>\n",
       "      <th>Name</th>\n",
       "      <th>Transported</th>\n",
       "      <th>Deck</th>\n",
       "      <th>CNumber</th>\n",
       "      <th>Port</th>\n",
       "    </tr>\n",
       "  </thead>\n",
       "  <tbody>\n",
       "    <tr>\n",
       "      <th>0</th>\n",
       "      <td>0001_01</td>\n",
       "      <td>2.0</td>\n",
       "      <td>1</td>\n",
       "      <td>B/0/P</td>\n",
       "      <td>3.0</td>\n",
       "      <td>1</td>\n",
       "      <td>0</td>\n",
       "      <td>0.0</td>\n",
       "      <td>0.0</td>\n",
       "      <td>0.0</td>\n",
       "      <td>0.0</td>\n",
       "      <td>0.0</td>\n",
       "      <td>Maham Ofracculy</td>\n",
       "      <td>0.0</td>\n",
       "      <td>2</td>\n",
       "      <td>0</td>\n",
       "      <td>1</td>\n",
       "    </tr>\n",
       "    <tr>\n",
       "      <th>1</th>\n",
       "      <td>0002_01</td>\n",
       "      <td>1.0</td>\n",
       "      <td>0</td>\n",
       "      <td>F/0/S</td>\n",
       "      <td>3.0</td>\n",
       "      <td>2</td>\n",
       "      <td>1</td>\n",
       "      <td>109.0</td>\n",
       "      <td>9.0</td>\n",
       "      <td>25.0</td>\n",
       "      <td>549.0</td>\n",
       "      <td>44.0</td>\n",
       "      <td>Juanna Vines</td>\n",
       "      <td>1.0</td>\n",
       "      <td>6</td>\n",
       "      <td>0</td>\n",
       "      <td>0</td>\n",
       "    </tr>\n",
       "    <tr>\n",
       "      <th>2</th>\n",
       "      <td>0003_01</td>\n",
       "      <td>2.0</td>\n",
       "      <td>0</td>\n",
       "      <td>A/0/S</td>\n",
       "      <td>3.0</td>\n",
       "      <td>5</td>\n",
       "      <td>1</td>\n",
       "      <td>43.0</td>\n",
       "      <td>3576.0</td>\n",
       "      <td>0.0</td>\n",
       "      <td>6715.0</td>\n",
       "      <td>49.0</td>\n",
       "      <td>Altark Susent</td>\n",
       "      <td>0.0</td>\n",
       "      <td>1</td>\n",
       "      <td>0</td>\n",
       "      <td>0</td>\n",
       "    </tr>\n",
       "  </tbody>\n",
       "</table>\n",
       "</div>"
      ],
      "text/plain": [
       "  PassengerId  HomePlanet  CryoSleep  Cabin  Destination Age  VIP  \\\n",
       "0     0001_01         2.0          1  B/0/P          3.0   1    0   \n",
       "1     0002_01         1.0          0  F/0/S          3.0   2    1   \n",
       "2     0003_01         2.0          0  A/0/S          3.0   5    1   \n",
       "\n",
       "   RoomService  FoodCourt  ShoppingMall     Spa  VRDeck             Name  \\\n",
       "0          0.0        0.0           0.0     0.0     0.0  Maham Ofracculy   \n",
       "1        109.0        9.0          25.0   549.0    44.0     Juanna Vines   \n",
       "2         43.0     3576.0           0.0  6715.0    49.0    Altark Susent   \n",
       "\n",
       "   Transported  Deck CNumber  Port  \n",
       "0          0.0     2       0     1  \n",
       "1          1.0     6       0     0  \n",
       "2          0.0     1       0     0  "
      ]
     },
     "execution_count": 24,
     "metadata": {},
     "output_type": "execute_result"
    }
   ],
   "source": [
    "train_test[['Deck', 'CNumber', 'Port']] = train_test['Cabin'].str.split('/', expand=True)\n",
    "\n",
    "# Train Data\n",
    "#Port or Starboard of the cabins\n",
    "train_test['Port'].replace('S', 0, inplace=True)\n",
    "train_test['Port'].replace('P', 1, inplace=True)\n",
    "\n",
    "#Class of the cabins\n",
    "letter_to_int = {'A': 1, 'B': 2, 'C': 3, 'D': 4, 'E': 5, 'F': 6, 'G': 7, 'T': 8}\n",
    "train_test['Deck'] = train_test['Deck'].map(letter_to_int)\n",
    "\n",
    "\n",
    "#####################################\n",
    "#####################################\n",
    "#####################################\n",
    "\n",
    "# Test Data\n",
    "\n",
    "# #Port or Starboard of the cabins\n",
    "# test['Port'] = test['Cabin'].str.split('/').str[-1]\n",
    "# test['Port'].replace('S', 0, inplace=True)\n",
    "# test['Port'].replace('P', 1, inplace=True)\n",
    "\n",
    "# #Class of the cabins\n",
    "# test['Place'] = test['Cabin'].str.split('/').str[0]\n",
    "# letter_to_int = {'A': 1, 'B': 2, 'C': 3, 'D': 4, 'E': 5, 'F': 6, 'G': 7, 'T': 8}\n",
    "# test['Place'] = test['Place'].map(letter_to_int)\n",
    "\n",
    "\n",
    "# #Number of cabins\n",
    "# test['Cabin'] = test['Cabin'].str.split('/').str[1]\n",
    "\n",
    "\n",
    "\n",
    "train_test.head(3)"
   ]
  },
  {
   "cell_type": "code",
   "execution_count": 25,
   "id": "044ee3c8",
   "metadata": {
    "execution": {
     "iopub.execute_input": "2023-12-08T13:59:01.105864Z",
     "iopub.status.busy": "2023-12-08T13:59:01.105393Z",
     "iopub.status.idle": "2023-12-08T13:59:01.130488Z",
     "shell.execute_reply": "2023-12-08T13:59:01.128996Z"
    },
    "papermill": {
     "duration": 0.051802,
     "end_time": "2023-12-08T13:59:01.133451",
     "exception": false,
     "start_time": "2023-12-08T13:59:01.081649",
     "status": "completed"
    },
    "tags": []
   },
   "outputs": [],
   "source": [
    "train_test['Group'] = train_test['PassengerId'].astype(str).str[:4]\n",
    "counts = train_test['Group'].value_counts()\n",
    "train_test['Group'] = train_test['Group'].map(counts)"
   ]
  },
  {
   "cell_type": "code",
   "execution_count": 26,
   "id": "ae0bcd9d",
   "metadata": {
    "execution": {
     "iopub.execute_input": "2023-12-08T13:59:01.180857Z",
     "iopub.status.busy": "2023-12-08T13:59:01.180446Z",
     "iopub.status.idle": "2023-12-08T13:59:01.219620Z",
     "shell.execute_reply": "2023-12-08T13:59:01.217758Z"
    },
    "papermill": {
     "duration": 0.066946,
     "end_time": "2023-12-08T13:59:01.222856",
     "exception": false,
     "start_time": "2023-12-08T13:59:01.155910",
     "status": "completed"
    },
    "tags": []
   },
   "outputs": [
    {
     "name": "stdout",
     "output_type": "stream",
     "text": [
      "<class 'pandas.core.frame.DataFrame'>\n",
      "Index: 12970 entries, 0 to 4276\n",
      "Data columns (total 18 columns):\n",
      " #   Column        Non-Null Count  Dtype  \n",
      "---  ------        --------------  -----  \n",
      " 0   PassengerId   12970 non-null  object \n",
      " 1   HomePlanet    12970 non-null  Int64  \n",
      " 2   CryoSleep     12970 non-null  Int64  \n",
      " 3   Cabin         12970 non-null  object \n",
      " 4   Destination   12970 non-null  Int64  \n",
      " 5   Age           12970 non-null  Int64  \n",
      " 6   VIP           12970 non-null  Int64  \n",
      " 7   RoomService   12970 non-null  float64\n",
      " 8   FoodCourt     12970 non-null  float64\n",
      " 9   ShoppingMall  12970 non-null  float64\n",
      " 10  Spa           12970 non-null  float64\n",
      " 11  VRDeck        12970 non-null  float64\n",
      " 12  Name          12970 non-null  object \n",
      " 13  Transported   8693 non-null   float64\n",
      " 14  Deck          12970 non-null  Int64  \n",
      " 15  CNumber       12970 non-null  Int64  \n",
      " 16  Port          12970 non-null  Int64  \n",
      " 17  Group         12970 non-null  Int64  \n",
      "dtypes: Int64(9), float64(6), object(3)\n",
      "memory usage: 2.0+ MB\n"
     ]
    }
   ],
   "source": [
    "train_test[['HomePlanet', 'CryoSleep', 'CNumber', 'Destination', 'Age', 'VIP', 'Port', 'Deck','Group']]= train_test[['HomePlanet', 'CryoSleep','CNumber', 'Destination', 'Age', 'VIP', 'Port', 'Deck','Group']].astype('Int64')\n",
    "\n",
    "#test[['HomePlanet', 'CryoSleep', 'CNumber', 'Destination', 'Age', 'VIP', 'Port', 'Deck']] = test[['HomePlanet', 'CryoSleep','CNumber', 'Destination', 'Age', 'VIP', 'Port', 'Deck']].astype('Int64')\n",
    "train_test.info()"
   ]
  },
  {
   "cell_type": "code",
   "execution_count": 27,
   "id": "1cbcf200",
   "metadata": {
    "execution": {
     "iopub.execute_input": "2023-12-08T13:59:01.270200Z",
     "iopub.status.busy": "2023-12-08T13:59:01.269307Z",
     "iopub.status.idle": "2023-12-08T13:59:01.279319Z",
     "shell.execute_reply": "2023-12-08T13:59:01.278344Z"
    },
    "papermill": {
     "duration": 0.037407,
     "end_time": "2023-12-08T13:59:01.282125",
     "exception": false,
     "start_time": "2023-12-08T13:59:01.244718",
     "status": "completed"
    },
    "tags": []
   },
   "outputs": [],
   "source": [
    "##Apply square root transformation\n",
    "\n",
    "## Train Data\n",
    "train_test['RoomService'] = train_test['RoomService']**0.5\n",
    "train_test['FoodCourt'] = train_test['FoodCourt']**0.5\n",
    "train_test['ShoppingMall'] = train_test['ShoppingMall']**0.5\n",
    "train_test['Spa'] = train_test['Spa']**0.5\n",
    "train_test['VRDeck'] = train_test['VRDeck']**0.5\n",
    "\n",
    "\n",
    "# ## Test Data\n",
    "# test['RoomService'] = test['RoomService']**0.5\n",
    "# test['FoodCourt'] = test['FoodCourt']**0.5\n",
    "# test['ShoppingMall'] = test['ShoppingMall']**0.5\n",
    "# test['Spa'] = test['Spa']**0.5\n",
    "# test['VRDeck'] = test['VRDeck']**0.5\n",
    "\n",
    "# train_test.head(3)"
   ]
  },
  {
   "cell_type": "code",
   "execution_count": 28,
   "id": "2ebe91e8",
   "metadata": {
    "execution": {
     "iopub.execute_input": "2023-12-08T13:59:01.329261Z",
     "iopub.status.busy": "2023-12-08T13:59:01.328390Z",
     "iopub.status.idle": "2023-12-08T13:59:01.334135Z",
     "shell.execute_reply": "2023-12-08T13:59:01.333268Z"
    },
    "papermill": {
     "duration": 0.032367,
     "end_time": "2023-12-08T13:59:01.336643",
     "exception": false,
     "start_time": "2023-12-08T13:59:01.304276",
     "status": "completed"
    },
    "tags": []
   },
   "outputs": [],
   "source": [
    "# ## Apply log transformation\n",
    "\n",
    "# ## Train Data\n",
    "# train['RoomService'] = np.log1p(train['RoomService'])\n",
    "# train['FoodCourt'] = np.log1p(train['FoodCourt'])\n",
    "# train['ShoppingMall'] = np.log1p(train['ShoppingMall'])\n",
    "# train['Spa'] = np.log1p(train['Spa'])\n",
    "# train['VRDeck'] = np.log1p(train['VRDeck'])\n",
    "\n",
    "\n",
    "# ## Test Data\n",
    "# test['RoomService'] = np.log1p(test['RoomService'])\n",
    "# test['FoodCourt'] = np.log1p(test['FoodCourt'])\n",
    "# test['ShoppingMall'] = np.log1p(test['ShoppingMall'])\n",
    "# test['Spa'] = np.log1p(test['Spa'])\n",
    "# test['VRDeck'] = np.log1p(test['VRDeck'])\n",
    "# train.head(3)"
   ]
  },
  {
   "cell_type": "code",
   "execution_count": 29,
   "id": "dc0957e1",
   "metadata": {
    "execution": {
     "iopub.execute_input": "2023-12-08T13:59:01.382928Z",
     "iopub.status.busy": "2023-12-08T13:59:01.382513Z",
     "iopub.status.idle": "2023-12-08T13:59:02.358911Z",
     "shell.execute_reply": "2023-12-08T13:59:02.357661Z"
    },
    "papermill": {
     "duration": 1.002791,
     "end_time": "2023-12-08T13:59:02.361591",
     "exception": false,
     "start_time": "2023-12-08T13:59:01.358800",
     "status": "completed"
    },
    "tags": []
   },
   "outputs": [
    {
     "name": "stdout",
     "output_type": "stream",
     "text": [
      "Train Data\n"
     ]
    },
    {
     "data": {
      "text/plain": [
       "<Axes: >"
      ]
     },
     "execution_count": 29,
     "metadata": {},
     "output_type": "execute_result"
    },
    {
     "data": {
      "image/png": "[encoded data removed]",
      "text/plain": [
       "<Figure size 640x480 with 2 Axes>"
      ]
     },
     "metadata": {},
     "output_type": "display_data"
    }
   ],
   "source": [
    "train_num = train_test.select_dtypes(include=['float64', 'int64'])\n",
    "\n",
    "# Calculate the correlations of numerical columns\n",
    "corr = train_num.corr()\n",
    "\n",
    "print(\"Train Data\")\n",
    "sns.heatmap(corr, annot=False)"
   ]
  },
  {
   "cell_type": "code",
   "execution_count": 30,
   "id": "1d3bb652",
   "metadata": {
    "execution": {
     "iopub.execute_input": "2023-12-08T13:59:02.410690Z",
     "iopub.status.busy": "2023-12-08T13:59:02.410243Z",
     "iopub.status.idle": "2023-12-08T13:59:02.416728Z",
     "shell.execute_reply": "2023-12-08T13:59:02.415635Z"
    },
    "papermill": {
     "duration": 0.03418,
     "end_time": "2023-12-08T13:59:02.419238",
     "exception": false,
     "start_time": "2023-12-08T13:59:02.385058",
     "status": "completed"
    },
    "tags": []
   },
   "outputs": [],
   "source": [
    "#print('cryo Taransported: ', sum(df[df.CryoSleep == 1].Transported), 'transported: ',sum(df.Transported))\n",
    "# # Calculate mean\n",
    "# df['Mean_luxury'] = df[['RoomService', 'FoodCourt', 'ShoppingMall', 'Spa', 'VRDeck']].mean(axis=1)\n",
    "\n",
    "# df = df.drop(columns=['RoomService', 'FoodCourt', 'ShoppingMall', 'Spa', 'VRDeck'])\n",
    "\n",
    "# df['BigSpender'] = np.where(df.Mean_luxury > 1000, 1,0)\n",
    "# df['Mid_Spender'] = np.where(df.Mean_luxury >= 500, 1,0)\n",
    "# df['Non_Spender'] = np.where(df.Mean_luxury == 0, 1,0)\n",
    "# df.head(3)"
   ]
  },
  {
   "cell_type": "markdown",
   "id": "c1945cfb",
   "metadata": {
    "papermill": {
     "duration": 0.023372,
     "end_time": "2023-12-08T13:59:02.466216",
     "exception": false,
     "start_time": "2023-12-08T13:59:02.442844",
     "status": "completed"
    },
    "tags": []
   },
   "source": [
    "{1:'55 Cancri e', 2:'PSO J318.5-22', 3:'TRAPPIST-1e'}\n",
    "{1:'Earth', 2:'Europa', 3:'Mars'}\n",
    "<<<<<HomePlanet to Destination>>>>\n",
    "1 to 1 >>> 721\n",
    "1 to 2 >>> 728\n",
    "1 to 3 >>> 3354\n",
    "--------------    \n",
    "2 to 1 >>> 193\n",
    "2 to 2 >>> 49\n",
    "2 to 3 >>> 1517\n",
    "-------------- \n",
    "3 to 1 >>> 886\n",
    "3 to 2 >>> 19\n",
    "3 to 3 >>> 1226\n",
    "-------------- "
   ]
  },
  {
   "cell_type": "code",
   "execution_count": 31,
   "id": "d787d0c9",
   "metadata": {
    "execution": {
     "iopub.execute_input": "2023-12-08T13:59:02.516193Z",
     "iopub.status.busy": "2023-12-08T13:59:02.515774Z",
     "iopub.status.idle": "2023-12-08T13:59:02.547378Z",
     "shell.execute_reply": "2023-12-08T13:59:02.545424Z"
    },
    "papermill": {
     "duration": 0.060161,
     "end_time": "2023-12-08T13:59:02.550205",
     "exception": false,
     "start_time": "2023-12-08T13:59:02.490044",
     "status": "completed"
    },
    "tags": []
   },
   "outputs": [
    {
     "name": "stdout",
     "output_type": "stream",
     "text": [
      "<class 'pandas.core.frame.DataFrame'>\n",
      "Index: 4277 entries, 0 to 4276\n",
      "Data columns (total 17 columns):\n",
      " #   Column        Non-Null Count  Dtype  \n",
      "---  ------        --------------  -----  \n",
      " 0   PassengerId   4277 non-null   object \n",
      " 1   HomePlanet    4277 non-null   Int64  \n",
      " 2   CryoSleep     4277 non-null   Int64  \n",
      " 3   Cabin         4277 non-null   object \n",
      " 4   Destination   4277 non-null   Int64  \n",
      " 5   Age           4277 non-null   Int64  \n",
      " 6   VIP           4277 non-null   Int64  \n",
      " 7   RoomService   4277 non-null   float64\n",
      " 8   FoodCourt     4277 non-null   float64\n",
      " 9   ShoppingMall  4277 non-null   float64\n",
      " 10  Spa           4277 non-null   float64\n",
      " 11  VRDeck        4277 non-null   float64\n",
      " 12  Name          4277 non-null   object \n",
      " 13  Deck          4277 non-null   Int64  \n",
      " 14  CNumber       4277 non-null   Int64  \n",
      " 15  Port          4277 non-null   Int64  \n",
      " 16  Group         4277 non-null   Int64  \n",
      "dtypes: Int64(9), float64(5), object(3)\n",
      "memory usage: 639.0+ KB\n"
     ]
    }
   ],
   "source": [
    "train = train_test[train_test['Transported'].notnull()].copy()\n",
    "train.Transported =train.Transported.astype('int')\n",
    "test = train_test[train_test['Transported'].isnull()].drop(\"Transported\",axis=1)\n",
    "test.info()"
   ]
  },
  {
   "cell_type": "code",
   "execution_count": 32,
   "id": "fdf04df9",
   "metadata": {
    "execution": {
     "iopub.execute_input": "2023-12-08T13:59:02.601029Z",
     "iopub.status.busy": "2023-12-08T13:59:02.600298Z",
     "iopub.status.idle": "2023-12-08T13:59:02.618633Z",
     "shell.execute_reply": "2023-12-08T13:59:02.617532Z"
    },
    "papermill": {
     "duration": 0.047243,
     "end_time": "2023-12-08T13:59:02.621230",
     "exception": false,
     "start_time": "2023-12-08T13:59:02.573987",
     "status": "completed"
    },
    "tags": []
   },
   "outputs": [
    {
     "name": "stdout",
     "output_type": "stream",
     "text": [
      "<class 'pandas.core.frame.DataFrame'>\n",
      "Index: 8693 entries, 0 to 8692\n",
      "Data columns (total 18 columns):\n",
      " #   Column        Non-Null Count  Dtype  \n",
      "---  ------        --------------  -----  \n",
      " 0   PassengerId   8693 non-null   object \n",
      " 1   HomePlanet    8693 non-null   Int64  \n",
      " 2   CryoSleep     8693 non-null   Int64  \n",
      " 3   Cabin         8693 non-null   object \n",
      " 4   Destination   8693 non-null   Int64  \n",
      " 5   Age           8693 non-null   Int64  \n",
      " 6   VIP           8693 non-null   Int64  \n",
      " 7   RoomService   8693 non-null   float64\n",
      " 8   FoodCourt     8693 non-null   float64\n",
      " 9   ShoppingMall  8693 non-null   float64\n",
      " 10  Spa           8693 non-null   float64\n",
      " 11  VRDeck        8693 non-null   float64\n",
      " 12  Name          8693 non-null   object \n",
      " 13  Transported   8693 non-null   int64  \n",
      " 14  Deck          8693 non-null   Int64  \n",
      " 15  CNumber       8693 non-null   Int64  \n",
      " 16  Port          8693 non-null   Int64  \n",
      " 17  Group         8693 non-null   Int64  \n",
      "dtypes: Int64(9), float64(5), int64(1), object(3)\n",
      "memory usage: 1.3+ MB\n"
     ]
    }
   ],
   "source": [
    "train.info()"
   ]
  },
  {
   "cell_type": "code",
   "execution_count": 33,
   "id": "81fdd853",
   "metadata": {
    "execution": {
     "iopub.execute_input": "2023-12-08T13:59:02.674536Z",
     "iopub.status.busy": "2023-12-08T13:59:02.673302Z",
     "iopub.status.idle": "2023-12-08T13:59:02.703416Z",
     "shell.execute_reply": "2023-12-08T13:59:02.702056Z"
    },
    "papermill": {
     "duration": 0.059272,
     "end_time": "2023-12-08T13:59:02.705884",
     "exception": false,
     "start_time": "2023-12-08T13:59:02.646612",
     "status": "completed"
    },
    "tags": []
   },
   "outputs": [
    {
     "data": {
      "text/html": [
       "<div>\n",
       "<style scoped>\n",
       "    .dataframe tbody tr th:only-of-type {\n",
       "        vertical-align: middle;\n",
       "    }\n",
       "\n",
       "    .dataframe tbody tr th {\n",
       "        vertical-align: top;\n",
       "    }\n",
       "\n",
       "    .dataframe thead th {\n",
       "        text-align: right;\n",
       "    }\n",
       "</style>\n",
       "<table border=\"1\" class=\"dataframe\">\n",
       "  <thead>\n",
       "    <tr style=\"text-align: right;\">\n",
       "      <th></th>\n",
       "      <th>HomePlanet</th>\n",
       "      <th>CryoSleep</th>\n",
       "      <th>Destination</th>\n",
       "      <th>Age</th>\n",
       "      <th>VIP</th>\n",
       "      <th>RoomService</th>\n",
       "      <th>FoodCourt</th>\n",
       "      <th>ShoppingMall</th>\n",
       "      <th>Spa</th>\n",
       "      <th>VRDeck</th>\n",
       "      <th>Deck</th>\n",
       "      <th>CNumber</th>\n",
       "      <th>Port</th>\n",
       "      <th>Group</th>\n",
       "    </tr>\n",
       "  </thead>\n",
       "  <tbody>\n",
       "    <tr>\n",
       "      <th>0</th>\n",
       "      <td>2</td>\n",
       "      <td>1</td>\n",
       "      <td>3</td>\n",
       "      <td>1</td>\n",
       "      <td>0</td>\n",
       "      <td>0.000000</td>\n",
       "      <td>0.000000</td>\n",
       "      <td>0.0</td>\n",
       "      <td>0.000000</td>\n",
       "      <td>0.00000</td>\n",
       "      <td>2</td>\n",
       "      <td>0</td>\n",
       "      <td>1</td>\n",
       "      <td>1</td>\n",
       "    </tr>\n",
       "    <tr>\n",
       "      <th>1</th>\n",
       "      <td>1</td>\n",
       "      <td>0</td>\n",
       "      <td>3</td>\n",
       "      <td>2</td>\n",
       "      <td>1</td>\n",
       "      <td>10.440307</td>\n",
       "      <td>3.000000</td>\n",
       "      <td>5.0</td>\n",
       "      <td>23.430749</td>\n",
       "      <td>6.63325</td>\n",
       "      <td>6</td>\n",
       "      <td>0</td>\n",
       "      <td>0</td>\n",
       "      <td>1</td>\n",
       "    </tr>\n",
       "    <tr>\n",
       "      <th>2</th>\n",
       "      <td>2</td>\n",
       "      <td>0</td>\n",
       "      <td>3</td>\n",
       "      <td>5</td>\n",
       "      <td>1</td>\n",
       "      <td>6.557439</td>\n",
       "      <td>59.799666</td>\n",
       "      <td>0.0</td>\n",
       "      <td>81.945104</td>\n",
       "      <td>7.00000</td>\n",
       "      <td>1</td>\n",
       "      <td>0</td>\n",
       "      <td>0</td>\n",
       "      <td>2</td>\n",
       "    </tr>\n",
       "  </tbody>\n",
       "</table>\n",
       "</div>"
      ],
      "text/plain": [
       "   HomePlanet  CryoSleep  Destination  Age  VIP  RoomService  FoodCourt  \\\n",
       "0           2          1            3    1    0     0.000000   0.000000   \n",
       "1           1          0            3    2    1    10.440307   3.000000   \n",
       "2           2          0            3    5    1     6.557439  59.799666   \n",
       "\n",
       "   ShoppingMall        Spa   VRDeck  Deck  CNumber  Port  Group  \n",
       "0           0.0   0.000000  0.00000     2        0     1      1  \n",
       "1           5.0  23.430749  6.63325     6        0     0      1  \n",
       "2           0.0  81.945104  7.00000     1        0     0      2  "
      ]
     },
     "execution_count": 33,
     "metadata": {},
     "output_type": "execute_result"
    }
   ],
   "source": [
    "### Train Data\n",
    "newTrain = train\n",
    "train_ids = newTrain['PassengerId'].copy()\n",
    "train_trs = newTrain['Transported'].copy()\n",
    "newTrain.drop(columns=['PassengerId','Name','Cabin','Transported'],inplace=True)\n",
    "\n",
    "\n",
    "#####################\n",
    "\n",
    "\n",
    "### Test Data\n",
    "newTest = test\n",
    "test_ids = newTest['PassengerId'].copy()\n",
    "newTest.drop(columns=['PassengerId','Cabin','Name'],inplace=True)\n",
    "\n",
    "\n",
    "newTrain.head(3)"
   ]
  },
  {
   "cell_type": "code",
   "execution_count": 34,
   "id": "09d59f24",
   "metadata": {
    "execution": {
     "iopub.execute_input": "2023-12-08T13:59:02.756685Z",
     "iopub.status.busy": "2023-12-08T13:59:02.755499Z",
     "iopub.status.idle": "2023-12-08T13:59:02.771242Z",
     "shell.execute_reply": "2023-12-08T13:59:02.769535Z"
    },
    "papermill": {
     "duration": 0.04456,
     "end_time": "2023-12-08T13:59:02.773964",
     "exception": false,
     "start_time": "2023-12-08T13:59:02.729404",
     "status": "completed"
    },
    "tags": []
   },
   "outputs": [
    {
     "name": "stdout",
     "output_type": "stream",
     "text": [
      "<class 'pandas.core.frame.DataFrame'>\n",
      "Index: 8693 entries, 0 to 8692\n",
      "Data columns (total 14 columns):\n",
      " #   Column        Non-Null Count  Dtype  \n",
      "---  ------        --------------  -----  \n",
      " 0   HomePlanet    8693 non-null   Int64  \n",
      " 1   CryoSleep     8693 non-null   Int64  \n",
      " 2   Destination   8693 non-null   Int64  \n",
      " 3   Age           8693 non-null   Int64  \n",
      " 4   VIP           8693 non-null   Int64  \n",
      " 5   RoomService   8693 non-null   float64\n",
      " 6   FoodCourt     8693 non-null   float64\n",
      " 7   ShoppingMall  8693 non-null   float64\n",
      " 8   Spa           8693 non-null   float64\n",
      " 9   VRDeck        8693 non-null   float64\n",
      " 10  Deck          8693 non-null   Int64  \n",
      " 11  CNumber       8693 non-null   Int64  \n",
      " 12  Port          8693 non-null   Int64  \n",
      " 13  Group         8693 non-null   Int64  \n",
      "dtypes: Int64(9), float64(5)\n",
      "memory usage: 1.1 MB\n"
     ]
    }
   ],
   "source": [
    "newTrain.info()"
   ]
  },
  {
   "cell_type": "code",
   "execution_count": 35,
   "id": "3ad5305d",
   "metadata": {
    "execution": {
     "iopub.execute_input": "2023-12-08T13:59:02.823833Z",
     "iopub.status.busy": "2023-12-08T13:59:02.823355Z",
     "iopub.status.idle": "2023-12-08T13:59:02.840074Z",
     "shell.execute_reply": "2023-12-08T13:59:02.838607Z"
    },
    "papermill": {
     "duration": 0.045035,
     "end_time": "2023-12-08T13:59:02.842866",
     "exception": false,
     "start_time": "2023-12-08T13:59:02.797831",
     "status": "completed"
    },
    "tags": []
   },
   "outputs": [
    {
     "name": "stdout",
     "output_type": "stream",
     "text": [
      "<class 'pandas.core.frame.DataFrame'>\n",
      "Index: 4277 entries, 0 to 4276\n",
      "Data columns (total 14 columns):\n",
      " #   Column        Non-Null Count  Dtype  \n",
      "---  ------        --------------  -----  \n",
      " 0   HomePlanet    4277 non-null   Int64  \n",
      " 1   CryoSleep     4277 non-null   Int64  \n",
      " 2   Destination   4277 non-null   Int64  \n",
      " 3   Age           4277 non-null   Int64  \n",
      " 4   VIP           4277 non-null   Int64  \n",
      " 5   RoomService   4277 non-null   float64\n",
      " 6   FoodCourt     4277 non-null   float64\n",
      " 7   ShoppingMall  4277 non-null   float64\n",
      " 8   Spa           4277 non-null   float64\n",
      " 9   VRDeck        4277 non-null   float64\n",
      " 10  Deck          4277 non-null   Int64  \n",
      " 11  CNumber       4277 non-null   Int64  \n",
      " 12  Port          4277 non-null   Int64  \n",
      " 13  Group         4277 non-null   Int64  \n",
      "dtypes: Int64(9), float64(5)\n",
      "memory usage: 538.8 KB\n"
     ]
    }
   ],
   "source": [
    "newTest.info()"
   ]
  },
  {
   "cell_type": "code",
   "execution_count": 36,
   "id": "2898fc3b",
   "metadata": {
    "execution": {
     "iopub.execute_input": "2023-12-08T13:59:02.893622Z",
     "iopub.status.busy": "2023-12-08T13:59:02.893184Z",
     "iopub.status.idle": "2023-12-08T13:59:02.898325Z",
     "shell.execute_reply": "2023-12-08T13:59:02.897082Z"
    },
    "papermill": {
     "duration": 0.03394,
     "end_time": "2023-12-08T13:59:02.900831",
     "exception": false,
     "start_time": "2023-12-08T13:59:02.866891",
     "status": "completed"
    },
    "tags": []
   },
   "outputs": [],
   "source": [
    "# from sklearn.model_selection import train_test_split\n",
    "# X_train, X_test, y_train, y_test = train_test_split(newtrainDF.drop('Transported',axis=1), \n",
    "#                                                   df['Transported'], test_size=0.30, \n",
    "#                                                     random_state=101)\n",
    "# newtrainDF.head(1)"
   ]
  },
  {
   "cell_type": "code",
   "execution_count": 37,
   "id": "b521c1af",
   "metadata": {
    "execution": {
     "iopub.execute_input": "2023-12-08T13:59:02.951669Z",
     "iopub.status.busy": "2023-12-08T13:59:02.951216Z",
     "iopub.status.idle": "2023-12-08T13:59:06.098457Z",
     "shell.execute_reply": "2023-12-08T13:59:06.096536Z"
    },
    "papermill": {
     "duration": 3.176947,
     "end_time": "2023-12-08T13:59:06.101901",
     "exception": false,
     "start_time": "2023-12-08T13:59:02.924954",
     "status": "completed"
    },
    "tags": []
   },
   "outputs": [
    {
     "data": {
      "text/html": [
       "<style>#sk-container-id-1 {color: black;background-color: white;}#sk-container-id-1 pre{padding: 0;}#sk-container-id-1 div.sk-toggleable {background-color: white;}#sk-container-id-1 label.sk-toggleable__label {cursor: pointer;display: block;width: 100%;margin-bottom: 0;padding: 0.3em;box-sizing: border-box;text-align: center;}#sk-container-id-1 label.sk-toggleable__label-arrow:before {content: \"▸\";float: left;margin-right: 0.25em;color: #696969;}#sk-container-id-1 label.sk-toggleable__label-arrow:hover:before {color: black;}#sk-container-id-1 div.sk-estimator:hover label.sk-toggleable__label-arrow:before {color: black;}#sk-container-id-1 div.sk-toggleable__content {max-height: 0;max-width: 0;overflow: hidden;text-align: left;background-color: #f0f8ff;}#sk-container-id-1 div.sk-toggleable__content pre {margin: 0.2em;color: black;border-radius: 0.25em;background-color: #f0f8ff;}#sk-container-id-1 input.sk-toggleable__control:checked~div.sk-toggleable__content {max-height: 200px;max-width: 100%;overflow: auto;}#sk-container-id-1 input.sk-toggleable__control:checked~label.sk-toggleable__label-arrow:before {content: \"▾\";}#sk-container-id-1 div.sk-estimator input.sk-toggleable__control:checked~label.sk-toggleable__label {background-color: #d4ebff;}#sk-container-id-1 div.sk-label input.sk-toggleable__control:checked~label.sk-toggleable__label {background-color: #d4ebff;}#sk-container-id-1 input.sk-hidden--visually {border: 0;clip: rect(1px 1px 1px 1px);clip: rect(1px, 1px, 1px, 1px);height: 1px;margin: -1px;overflow: hidden;padding: 0;position: absolute;width: 1px;}#sk-container-id-1 div.sk-estimator {font-family: monospace;background-color: #f0f8ff;border: 1px dotted black;border-radius: 0.25em;box-sizing: border-box;margin-bottom: 0.5em;}#sk-container-id-1 div.sk-estimator:hover {background-color: #d4ebff;}#sk-container-id-1 div.sk-parallel-item::after {content: \"\";width: 100%;border-bottom: 1px solid gray;flex-grow: 1;}#sk-container-id-1 div.sk-label:hover label.sk-toggleable__label {background-color: #d4ebff;}#sk-container-id-1 div.sk-serial::before {content: \"\";position: absolute;border-left: 1px solid gray;box-sizing: border-box;top: 0;bottom: 0;left: 50%;z-index: 0;}#sk-container-id-1 div.sk-serial {display: flex;flex-direction: column;align-items: center;background-color: white;padding-right: 0.2em;padding-left: 0.2em;position: relative;}#sk-container-id-1 div.sk-item {position: relative;z-index: 1;}#sk-container-id-1 div.sk-parallel {display: flex;align-items: stretch;justify-content: center;background-color: white;position: relative;}#sk-container-id-1 div.sk-item::before, #sk-container-id-1 div.sk-parallel-item::before {content: \"\";position: absolute;border-left: 1px solid gray;box-sizing: border-box;top: 0;bottom: 0;left: 50%;z-index: -1;}#sk-container-id-1 div.sk-parallel-item {display: flex;flex-direction: column;z-index: 1;position: relative;background-color: white;}#sk-container-id-1 div.sk-parallel-item:first-child::after {align-self: flex-end;width: 50%;}#sk-container-id-1 div.sk-parallel-item:last-child::after {align-self: flex-start;width: 50%;}#sk-container-id-1 div.sk-parallel-item:only-child::after {width: 0;}#sk-container-id-1 div.sk-dashed-wrapped {border: 1px dashed gray;margin: 0 0.4em 0.5em 0.4em;box-sizing: border-box;padding-bottom: 0.4em;background-color: white;}#sk-container-id-1 div.sk-label label {font-family: monospace;font-weight: bold;display: inline-block;line-height: 1.2em;}#sk-container-id-1 div.sk-label-container {text-align: center;}#sk-container-id-1 div.sk-container {/* jupyter's `normalize.less` sets `[hidden] { display: none; }` but bootstrap.min.css set `[hidden] { display: none !important; }` so we also need the `!important` here to be able to override the default hidden behavior on the sphinx rendered scikit-learn.org. See: https://github.com/scikit-learn/scikit-learn/issues/21755 */display: inline-block !important;position: relative;}#sk-container-id-1 div.sk-text-repr-fallback {display: none;}</style><div id=\"sk-container-id-1\" class=\"sk-top-container\"><div class=\"sk-text-repr-fallback\"><pre>LogisticRegression(max_iter=10000)</pre><b>In a Jupyter environment, please rerun this cell to show the HTML representation or trust the notebook. <br />On GitHub, the HTML representation is unable to render, please try loading this page with nbviewer.org.</b></div><div class=\"sk-container\" hidden><div class=\"sk-item\"><div class=\"sk-estimator sk-toggleable\"><input class=\"sk-toggleable__control sk-hidden--visually\" id=\"sk-estimator-id-1\" type=\"checkbox\" checked><label for=\"sk-estimator-id-1\" class=\"sk-toggleable__label sk-toggleable__label-arrow\">LogisticRegression</label><div class=\"sk-toggleable__content\"><pre>LogisticRegression(max_iter=10000)</pre></div></div></div></div></div>"
      ],
      "text/plain": [
       "LogisticRegression(max_iter=10000)"
      ]
     },
     "execution_count": 37,
     "metadata": {},
     "output_type": "execute_result"
    }
   ],
   "source": [
    "from sklearn.linear_model import LogisticRegression\n",
    "logmodel = LogisticRegression(max_iter=10000)\n",
    "logmodel.fit(newTrain, train_trs)"
   ]
  },
  {
   "cell_type": "code",
   "execution_count": 38,
   "id": "7896c5a5",
   "metadata": {
    "execution": {
     "iopub.execute_input": "2023-12-08T13:59:06.218426Z",
     "iopub.status.busy": "2023-12-08T13:59:06.217820Z",
     "iopub.status.idle": "2023-12-08T13:59:06.224061Z",
     "shell.execute_reply": "2023-12-08T13:59:06.222949Z"
    },
    "papermill": {
     "duration": 0.05952,
     "end_time": "2023-12-08T13:59:06.226590",
     "exception": false,
     "start_time": "2023-12-08T13:59:06.167070",
     "status": "completed"
    },
    "tags": []
   },
   "outputs": [],
   "source": [
    "# df_test['stSpenders'] = df_test[['RoomService', 'FoodCourt', 'ShoppingMall', 'Spa', 'VRDeck']].std(axis=1)\n",
    "# df_test = df_test.drop(columns=['RoomService', 'FoodCourt', 'ShoppingMall', 'Spa', 'VRDeck'])\n",
    "# df_test.head()"
   ]
  },
  {
   "cell_type": "code",
   "execution_count": 39,
   "id": "b73e94eb",
   "metadata": {
    "execution": {
     "iopub.execute_input": "2023-12-08T13:59:06.284502Z",
     "iopub.status.busy": "2023-12-08T13:59:06.283390Z",
     "iopub.status.idle": "2023-12-08T13:59:06.297253Z",
     "shell.execute_reply": "2023-12-08T13:59:06.295302Z"
    },
    "papermill": {
     "duration": 0.049145,
     "end_time": "2023-12-08T13:59:06.300419",
     "exception": false,
     "start_time": "2023-12-08T13:59:06.251274",
     "status": "completed"
    },
    "tags": []
   },
   "outputs": [],
   "source": [
    " predictions = logmodel.predict(newTest)"
   ]
  },
  {
   "cell_type": "code",
   "execution_count": 40,
   "id": "dd18475a",
   "metadata": {
    "execution": {
     "iopub.execute_input": "2023-12-08T13:59:06.439798Z",
     "iopub.status.busy": "2023-12-08T13:59:06.439264Z",
     "iopub.status.idle": "2023-12-08T13:59:06.471164Z",
     "shell.execute_reply": "2023-12-08T13:59:06.469428Z"
    },
    "papermill": {
     "duration": 0.067091,
     "end_time": "2023-12-08T13:59:06.473875",
     "exception": false,
     "start_time": "2023-12-08T13:59:06.406784",
     "status": "completed"
    },
    "tags": []
   },
   "outputs": [
    {
     "data": {
      "text/html": [
       "<div>\n",
       "<style scoped>\n",
       "    .dataframe tbody tr th:only-of-type {\n",
       "        vertical-align: middle;\n",
       "    }\n",
       "\n",
       "    .dataframe tbody tr th {\n",
       "        vertical-align: top;\n",
       "    }\n",
       "\n",
       "    .dataframe thead th {\n",
       "        text-align: right;\n",
       "    }\n",
       "</style>\n",
       "<table border=\"1\" class=\"dataframe\">\n",
       "  <thead>\n",
       "    <tr style=\"text-align: right;\">\n",
       "      <th></th>\n",
       "      <th>PassengerId</th>\n",
       "      <th>Transported</th>\n",
       "    </tr>\n",
       "  </thead>\n",
       "  <tbody>\n",
       "    <tr>\n",
       "      <th>0</th>\n",
       "      <td>0013_01</td>\n",
       "      <td>True</td>\n",
       "    </tr>\n",
       "    <tr>\n",
       "      <th>1</th>\n",
       "      <td>0018_01</td>\n",
       "      <td>False</td>\n",
       "    </tr>\n",
       "    <tr>\n",
       "      <th>2</th>\n",
       "      <td>0019_01</td>\n",
       "      <td>True</td>\n",
       "    </tr>\n",
       "    <tr>\n",
       "      <th>3</th>\n",
       "      <td>0021_01</td>\n",
       "      <td>True</td>\n",
       "    </tr>\n",
       "    <tr>\n",
       "      <th>4</th>\n",
       "      <td>0023_01</td>\n",
       "      <td>True</td>\n",
       "    </tr>\n",
       "  </tbody>\n",
       "</table>\n",
       "</div>"
      ],
      "text/plain": [
       "  PassengerId  Transported\n",
       "0     0013_01         True\n",
       "1     0018_01        False\n",
       "2     0019_01         True\n",
       "3     0021_01         True\n",
       "4     0023_01         True"
      ]
     },
     "execution_count": 40,
     "metadata": {},
     "output_type": "execute_result"
    }
   ],
   "source": [
    "df_predictions = pd.DataFrame()\n",
    "df_predictions['PassengerId'] = pd.Series(test_ids.T.values)\n",
    "df_predictions['Transported'] = pd.Series(predictions)\n",
    "df_predictions.Transported = np.where(df_predictions.Transported==1,True,False)\n",
    "df_predictions.to_csv(\"17thAttempt.csv\", sep=',', index=False)\n",
    "df_predictions.head()"
   ]
  },
  {
   "cell_type": "markdown",
   "id": "386d7a2a",
   "metadata": {
    "papermill": {
     "duration": 0.024799,
     "end_time": "2023-12-08T13:59:06.524306",
     "exception": false,
     "start_time": "2023-12-08T13:59:06.499507",
     "status": "completed"
    },
    "tags": []
   },
   "source": [
    "In this report, the 'Precision' column tells us the proportion of positive identifications (i.e., the passenger was transported) that were actually correct. The 'Recall' column tells us the proportion of actual positives that were identified correctly. The 'F1-score' is a function of Precision and Recall and gives a balanced measure of the model's performance.\n",
    "\n",
    "Remember, this is a basic model. Depending on the performance of the model, you might need to consider more advanced techniques such as handling class imbalance, feature engineering, or using a more complex model."
   ]
  }
 ],
 "metadata": {
  "kaggle": {
   "accelerator": "none",
   "dataSources": [
    {
     "databundleVersionId": 3220602,
     "sourceId": 34377,
     "sourceType": "competition"
    }
   ],
   "dockerImageVersionId": 30558,
   "isGpuEnabled": false,
   "isInternetEnabled": false,
   "language": "python",
   "sourceType": "notebook"
  },
  "kernelspec": {
   "display_name": "Python 3",
   "language": "python",
   "name": "python3"
  },
  "language_info": {
   "codemirror_mode": {
    "name": "ipython",
    "version": 3
   },
   "file_extension": ".py",
   "mimetype": "text/x-python",
   "name": "python",
   "nbconvert_exporter": "python",
   "pygments_lexer": "ipython3",
   "version": "3.10.12"
  },
  "papermill": {
   "default_parameters": {},
   "duration": 22.549088,
   "end_time": "2023-12-08T13:59:07.373719",
   "environment_variables": {},
   "exception": null,
   "input_path": "__notebook__.ipynb",
   "output_path": "__notebook__.ipynb",
   "parameters": {},
   "start_time": "2023-12-08T13:58:44.824631",
   "version": "2.4.0"
  }
 },
 "nbformat": 4,
 "nbformat_minor": 5
}
