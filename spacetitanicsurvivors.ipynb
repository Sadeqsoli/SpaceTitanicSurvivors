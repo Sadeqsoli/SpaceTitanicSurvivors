{
 "cells": [
  {
   "cell_type": "code",
   "execution_count": 1,
   "id": "e746efdb",
   "metadata": {
    "_cell_guid": "b1076dfc-b9ad-4769-8c92-a6c4dae69d19",
    "_uuid": "8f2839f25d086af736a60e9eeb907d3b93b6e0e5",
    "execution": {
     "iopub.execute_input": "2023-12-06T20:09:29.015279Z",
     "iopub.status.busy": "2023-12-06T20:09:29.014559Z",
     "iopub.status.idle": "2023-12-06T20:09:31.879273Z",
     "shell.execute_reply": "2023-12-06T20:09:31.878117Z"
    },
    "papermill": {
     "duration": 2.878082,
     "end_time": "2023-12-06T20:09:31.882229",
     "exception": false,
     "start_time": "2023-12-06T20:09:29.004147",
     "status": "completed"
    },
    "tags": []
   },
   "outputs": [
    {
     "name": "stdout",
     "output_type": "stream",
     "text": [
      "/kaggle/input/spaceship-titanic/sample_submission.csv\n",
      "/kaggle/input/spaceship-titanic/train.csv\n",
      "/kaggle/input/spaceship-titanic/test.csv\n"
     ]
    }
   ],
   "source": [
    "# This Python 3 environment comes with many helpful analytics libraries installed\n",
    "# It is defined by the kaggle/python Docker image: https://github.com/kaggle/docker-python\n",
    "# For example, here's several helpful packages to load\n",
    "\n",
    "import numpy as np # linear algebra\n",
    "import pandas as pd # data processing, CSV file I/O (e.g. pd.read_csv)\n",
    "import sklearn\n",
    "import os\n",
    "import datetime\n",
    "import matplotlib.pyplot as plt\n",
    "import missingno as msno\n",
    "from prettytable import PrettyTable\n",
    "%matplotlib inline\n",
    "import seaborn as sns\n",
    "sns.set(style='darkgrid', font_scale=1.4)\n",
    "\n",
    "# Input data files are available in the read-only \"../input/\" directory\n",
    "# For example, running this (by clicking run or pressing Shift+Enter) will list all files under the input directory\n",
    "\n",
    "import os\n",
    "for dirname, _, filenames in os.walk('/kaggle/input'):\n",
    "    for filename in filenames:\n",
    "        print(os.path.join(dirname, filename))\n",
    "\n",
    "# You can write up to 20GB to the current directory (/kaggle/working/) that gets preserved as output when you create a version using \"Save & Run All\" \n",
    "# You can also write temporary files to /kaggle/temp/, but they won't be saved outside of the current session"
   ]
  },
  {
   "cell_type": "markdown",
   "id": "12175de0",
   "metadata": {
    "papermill": {
     "duration": 0.007745,
     "end_time": "2023-12-06T20:09:31.898547",
     "exception": false,
     "start_time": "2023-12-06T20:09:31.890802",
     "status": "completed"
    },
    "tags": []
   },
   "source": [
    "# 1. Importing Data"
   ]
  },
  {
   "cell_type": "code",
   "execution_count": 2,
   "id": "8dfffa4d",
   "metadata": {
    "execution": {
     "iopub.execute_input": "2023-12-06T20:09:31.916883Z",
     "iopub.status.busy": "2023-12-06T20:09:31.916281Z",
     "iopub.status.idle": "2023-12-06T20:09:32.036006Z",
     "shell.execute_reply": "2023-12-06T20:09:32.034664Z"
    },
    "papermill": {
     "duration": 0.132653,
     "end_time": "2023-12-06T20:09:32.038919",
     "exception": false,
     "start_time": "2023-12-06T20:09:31.906266",
     "status": "completed"
    },
    "tags": []
   },
   "outputs": [
    {
     "data": {
      "text/html": [
       "<div>\n",
       "<style scoped>\n",
       "    .dataframe tbody tr th:only-of-type {\n",
       "        vertical-align: middle;\n",
       "    }\n",
       "\n",
       "    .dataframe tbody tr th {\n",
       "        vertical-align: top;\n",
       "    }\n",
       "\n",
       "    .dataframe thead th {\n",
       "        text-align: right;\n",
       "    }\n",
       "</style>\n",
       "<table border=\"1\" class=\"dataframe\">\n",
       "  <thead>\n",
       "    <tr style=\"text-align: right;\">\n",
       "      <th></th>\n",
       "      <th>PassengerId</th>\n",
       "      <th>HomePlanet</th>\n",
       "      <th>CryoSleep</th>\n",
       "      <th>Cabin</th>\n",
       "      <th>Destination</th>\n",
       "      <th>Age</th>\n",
       "      <th>VIP</th>\n",
       "      <th>RoomService</th>\n",
       "      <th>FoodCourt</th>\n",
       "      <th>ShoppingMall</th>\n",
       "      <th>Spa</th>\n",
       "      <th>VRDeck</th>\n",
       "      <th>Name</th>\n",
       "      <th>Transported</th>\n",
       "    </tr>\n",
       "  </thead>\n",
       "  <tbody>\n",
       "    <tr>\n",
       "      <th>0</th>\n",
       "      <td>0001_01</td>\n",
       "      <td>Europa</td>\n",
       "      <td>False</td>\n",
       "      <td>B/0/P</td>\n",
       "      <td>TRAPPIST-1e</td>\n",
       "      <td>39.0</td>\n",
       "      <td>False</td>\n",
       "      <td>0.0</td>\n",
       "      <td>0.0</td>\n",
       "      <td>0.0</td>\n",
       "      <td>0.0</td>\n",
       "      <td>0.0</td>\n",
       "      <td>Maham Ofracculy</td>\n",
       "      <td>False</td>\n",
       "    </tr>\n",
       "    <tr>\n",
       "      <th>1</th>\n",
       "      <td>0002_01</td>\n",
       "      <td>Earth</td>\n",
       "      <td>False</td>\n",
       "      <td>F/0/S</td>\n",
       "      <td>TRAPPIST-1e</td>\n",
       "      <td>24.0</td>\n",
       "      <td>False</td>\n",
       "      <td>109.0</td>\n",
       "      <td>9.0</td>\n",
       "      <td>25.0</td>\n",
       "      <td>549.0</td>\n",
       "      <td>44.0</td>\n",
       "      <td>Juanna Vines</td>\n",
       "      <td>True</td>\n",
       "    </tr>\n",
       "    <tr>\n",
       "      <th>2</th>\n",
       "      <td>0003_01</td>\n",
       "      <td>Europa</td>\n",
       "      <td>False</td>\n",
       "      <td>A/0/S</td>\n",
       "      <td>TRAPPIST-1e</td>\n",
       "      <td>58.0</td>\n",
       "      <td>True</td>\n",
       "      <td>43.0</td>\n",
       "      <td>3576.0</td>\n",
       "      <td>0.0</td>\n",
       "      <td>6715.0</td>\n",
       "      <td>49.0</td>\n",
       "      <td>Altark Susent</td>\n",
       "      <td>False</td>\n",
       "    </tr>\n",
       "    <tr>\n",
       "      <th>3</th>\n",
       "      <td>0003_02</td>\n",
       "      <td>Europa</td>\n",
       "      <td>False</td>\n",
       "      <td>A/0/S</td>\n",
       "      <td>TRAPPIST-1e</td>\n",
       "      <td>33.0</td>\n",
       "      <td>False</td>\n",
       "      <td>0.0</td>\n",
       "      <td>1283.0</td>\n",
       "      <td>371.0</td>\n",
       "      <td>3329.0</td>\n",
       "      <td>193.0</td>\n",
       "      <td>Solam Susent</td>\n",
       "      <td>False</td>\n",
       "    </tr>\n",
       "    <tr>\n",
       "      <th>4</th>\n",
       "      <td>0004_01</td>\n",
       "      <td>Earth</td>\n",
       "      <td>False</td>\n",
       "      <td>F/1/S</td>\n",
       "      <td>TRAPPIST-1e</td>\n",
       "      <td>16.0</td>\n",
       "      <td>False</td>\n",
       "      <td>303.0</td>\n",
       "      <td>70.0</td>\n",
       "      <td>151.0</td>\n",
       "      <td>565.0</td>\n",
       "      <td>2.0</td>\n",
       "      <td>Willy Santantines</td>\n",
       "      <td>True</td>\n",
       "    </tr>\n",
       "  </tbody>\n",
       "</table>\n",
       "</div>"
      ],
      "text/plain": [
       "  PassengerId HomePlanet CryoSleep  Cabin  Destination   Age    VIP  \\\n",
       "0     0001_01     Europa     False  B/0/P  TRAPPIST-1e  39.0  False   \n",
       "1     0002_01      Earth     False  F/0/S  TRAPPIST-1e  24.0  False   \n",
       "2     0003_01     Europa     False  A/0/S  TRAPPIST-1e  58.0   True   \n",
       "3     0003_02     Europa     False  A/0/S  TRAPPIST-1e  33.0  False   \n",
       "4     0004_01      Earth     False  F/1/S  TRAPPIST-1e  16.0  False   \n",
       "\n",
       "   RoomService  FoodCourt  ShoppingMall     Spa  VRDeck               Name  \\\n",
       "0          0.0        0.0           0.0     0.0     0.0    Maham Ofracculy   \n",
       "1        109.0        9.0          25.0   549.0    44.0       Juanna Vines   \n",
       "2         43.0     3576.0           0.0  6715.0    49.0      Altark Susent   \n",
       "3          0.0     1283.0         371.0  3329.0   193.0       Solam Susent   \n",
       "4        303.0       70.0         151.0   565.0     2.0  Willy Santantines   \n",
       "\n",
       "   Transported  \n",
       "0        False  \n",
       "1         True  \n",
       "2        False  \n",
       "3        False  \n",
       "4         True  "
      ]
     },
     "execution_count": 2,
     "metadata": {},
     "output_type": "execute_result"
    }
   ],
   "source": [
    "train=pd.read_csv('../input/spaceship-titanic/train.csv')\n",
    "test=pd.read_csv('../input/spaceship-titanic/test.csv')\n",
    "\n",
    "train.head()"
   ]
  },
  {
   "cell_type": "markdown",
   "id": "95b2771d",
   "metadata": {
    "papermill": {
     "duration": 0.007932,
     "end_time": "2023-12-06T20:09:32.054947",
     "exception": false,
     "start_time": "2023-12-06T20:09:32.047015",
     "status": "completed"
    },
    "tags": []
   },
   "source": [
    "# 2. Data Description\n",
    "> 2.1 Data Description\n",
    "> PassengerId - A unique Id for each passenger. Each Id takes the form gggg_pp where gggg indicates a group the passenger is travelling with and pp is their number within the group. People in a group are often family members, but not always.\n",
    "> \n",
    "> HomePlanet - The planet the passenger departed from, typically their planet of permanent residence.\n",
    "> \n",
    "> CryoSleep - Indicates whether the passenger elected to be put into suspended animation for the duration of the voyage. Passengers in cryosleep are confined to their cabins.\n",
    "> Cabin - The cabin number where the passenger is staying. Takes the form deck/num/side, where side can be either P for Port or S for Starboard.\n",
    "> Destination - The planet the passenger will be debarking to.\n",
    "> Age - The age of the passenger.\n",
    "> VIP - Whether the passenger has paid for special VIP service during the voyage.</font>\n",
    "> RoomService, FoodCourt, ShoppingMall, Spa, VRDeck - Amount the passenger has billed at each of the Spaceship Titanic's many luxury amenities.\n",
    "> Name - The first and last names of the passenger.\n",
    "\n",
    "> **Transported** - Whether the passenger was transported to another dimension. This is the target, the column you are trying to predict."
   ]
  },
  {
   "cell_type": "markdown",
   "id": "6bf0cbec",
   "metadata": {
    "papermill": {
     "duration": 0.0077,
     "end_time": "2023-12-06T20:09:32.071697",
     "exception": false,
     "start_time": "2023-12-06T20:09:32.063997",
     "status": "completed"
    },
    "tags": []
   },
   "source": [
    "# 3. Check Missing Values"
   ]
  },
  {
   "cell_type": "code",
   "execution_count": 3,
   "id": "86dd6e61",
   "metadata": {
    "execution": {
     "iopub.execute_input": "2023-12-06T20:09:32.091029Z",
     "iopub.status.busy": "2023-12-06T20:09:32.090582Z",
     "iopub.status.idle": "2023-12-06T20:09:32.131881Z",
     "shell.execute_reply": "2023-12-06T20:09:32.130983Z"
    },
    "papermill": {
     "duration": 0.054598,
     "end_time": "2023-12-06T20:09:32.134578",
     "exception": false,
     "start_time": "2023-12-06T20:09:32.079980",
     "status": "completed"
    },
    "tags": []
   },
   "outputs": [
    {
     "name": "stdout",
     "output_type": "stream",
     "text": [
      "<class 'pandas.core.frame.DataFrame'>\n",
      "RangeIndex: 8693 entries, 0 to 8692\n",
      "Data columns (total 14 columns):\n",
      " #   Column        Non-Null Count  Dtype  \n",
      "---  ------        --------------  -----  \n",
      " 0   PassengerId   8693 non-null   object \n",
      " 1   HomePlanet    8492 non-null   object \n",
      " 2   CryoSleep     8476 non-null   object \n",
      " 3   Cabin         8494 non-null   object \n",
      " 4   Destination   8511 non-null   object \n",
      " 5   Age           8514 non-null   float64\n",
      " 6   VIP           8490 non-null   object \n",
      " 7   RoomService   8512 non-null   float64\n",
      " 8   FoodCourt     8510 non-null   float64\n",
      " 9   ShoppingMall  8485 non-null   float64\n",
      " 10  Spa           8510 non-null   float64\n",
      " 11  VRDeck        8505 non-null   float64\n",
      " 12  Name          8493 non-null   object \n",
      " 13  Transported   8693 non-null   bool   \n",
      "dtypes: bool(1), float64(6), object(7)\n",
      "memory usage: 891.5+ KB\n",
      "None\n",
      "_+_+_+_&*_*_*_*_*_\n",
      "<class 'pandas.core.frame.DataFrame'>\n",
      "RangeIndex: 4277 entries, 0 to 4276\n",
      "Data columns (total 13 columns):\n",
      " #   Column        Non-Null Count  Dtype  \n",
      "---  ------        --------------  -----  \n",
      " 0   PassengerId   4277 non-null   object \n",
      " 1   HomePlanet    4190 non-null   object \n",
      " 2   CryoSleep     4184 non-null   object \n",
      " 3   Cabin         4177 non-null   object \n",
      " 4   Destination   4185 non-null   object \n",
      " 5   Age           4186 non-null   float64\n",
      " 6   VIP           4184 non-null   object \n",
      " 7   RoomService   4195 non-null   float64\n",
      " 8   FoodCourt     4171 non-null   float64\n",
      " 9   ShoppingMall  4179 non-null   float64\n",
      " 10  Spa           4176 non-null   float64\n",
      " 11  VRDeck        4197 non-null   float64\n",
      " 12  Name          4183 non-null   object \n",
      "dtypes: float64(6), object(7)\n",
      "memory usage: 434.5+ KB\n",
      "None\n"
     ]
    }
   ],
   "source": [
    "print(train.info())\n",
    "print('_+_+_+_&*_*_*_*_*_')\n",
    "print(test.info())"
   ]
  },
  {
   "cell_type": "markdown",
   "id": "256416da",
   "metadata": {
    "papermill": {
     "duration": 0.007748,
     "end_time": "2023-12-06T20:09:32.150512",
     "exception": false,
     "start_time": "2023-12-06T20:09:32.142764",
     "status": "completed"
    },
    "tags": []
   },
   "source": [
    "# 3. Handling Missing Values¶"
   ]
  },
  {
   "cell_type": "markdown",
   "id": "4edf7bff",
   "metadata": {
    "papermill": {
     "duration": 0.007863,
     "end_time": "2023-12-06T20:09:32.167023",
     "exception": false,
     "start_time": "2023-12-06T20:09:32.159160",
     "status": "completed"
    },
    "tags": []
   },
   "source": [
    "> Thanks to @Master Jiraiya"
   ]
  },
  {
   "cell_type": "code",
   "execution_count": 4,
   "id": "fb3233a5",
   "metadata": {
    "execution": {
     "iopub.execute_input": "2023-12-06T20:09:32.186604Z",
     "iopub.status.busy": "2023-12-06T20:09:32.186110Z",
     "iopub.status.idle": "2023-12-06T20:09:32.219199Z",
     "shell.execute_reply": "2023-12-06T20:09:32.217555Z"
    },
    "papermill": {
     "duration": 0.046539,
     "end_time": "2023-12-06T20:09:32.222214",
     "exception": false,
     "start_time": "2023-12-06T20:09:32.175675",
     "status": "completed"
    },
    "tags": []
   },
   "outputs": [
    {
     "name": "stdout",
     "output_type": "stream",
     "text": [
      "<class 'pandas.core.frame.DataFrame'>\n",
      "RangeIndex: 4277 entries, 0 to 4276\n",
      "Data columns (total 13 columns):\n",
      " #   Column        Non-Null Count  Dtype  \n",
      "---  ------        --------------  -----  \n",
      " 0   PassengerId   4277 non-null   object \n",
      " 1   HomePlanet    4190 non-null   object \n",
      " 2   CryoSleep     4277 non-null   int64  \n",
      " 3   Cabin         4177 non-null   object \n",
      " 4   Destination   4185 non-null   object \n",
      " 5   Age           4186 non-null   float64\n",
      " 6   VIP           4277 non-null   int64  \n",
      " 7   RoomService   4195 non-null   float64\n",
      " 8   FoodCourt     4171 non-null   float64\n",
      " 9   ShoppingMall  4179 non-null   float64\n",
      " 10  Spa           4176 non-null   float64\n",
      " 11  VRDeck        4197 non-null   float64\n",
      " 12  Name          4183 non-null   object \n",
      "dtypes: float64(6), int64(2), object(5)\n",
      "memory usage: 434.5+ KB\n"
     ]
    }
   ],
   "source": [
    "# First lets fill CryoSleep, based on totdal expenditure\n",
    "exp_features=['RoomService', 'FoodCourt', 'ShoppingMall', 'Spa', 'VRDeck']\n",
    "train[\"Expenditure\"]=train[exp_features].sum(axis=\"columns\")\n",
    "test[\"Expenditure\"]=test[exp_features].sum(axis=\"columns\")\n",
    "\n",
    "# Zero expenditure indicate that they are in CryoSleep\n",
    "train['CryoSleep']=np.where(train['Expenditure']==0,1,0)\n",
    "test['CryoSleep']=np.where(test['Expenditure']==0,1,0)\n",
    "\n",
    "# Also, if they are VIPs, they probably would not choose to be in CryoSleep\n",
    "train['VIP']=np.where(train['CryoSleep']==0,1,0)\n",
    "test['VIP']=np.where(test['CryoSleep']==0,1,0)\n",
    "\n",
    "train.drop(columns=[\"Expenditure\"],inplace=True)\n",
    "test.drop(columns=[\"Expenditure\"],inplace=True)\n",
    "test.info()"
   ]
  },
  {
   "cell_type": "code",
   "execution_count": 5,
   "id": "a2e8aa75",
   "metadata": {
    "execution": {
     "iopub.execute_input": "2023-12-06T20:09:32.242156Z",
     "iopub.status.busy": "2023-12-06T20:09:32.241739Z",
     "iopub.status.idle": "2023-12-06T20:09:32.293855Z",
     "shell.execute_reply": "2023-12-06T20:09:32.292628Z"
    },
    "papermill": {
     "duration": 0.06598,
     "end_time": "2023-12-06T20:09:32.296535",
     "exception": false,
     "start_time": "2023-12-06T20:09:32.230555",
     "status": "completed"
    },
    "tags": []
   },
   "outputs": [
    {
     "data": {
      "text/html": [
       "<div>\n",
       "<style scoped>\n",
       "    .dataframe tbody tr th:only-of-type {\n",
       "        vertical-align: middle;\n",
       "    }\n",
       "\n",
       "    .dataframe tbody tr th {\n",
       "        vertical-align: top;\n",
       "    }\n",
       "\n",
       "    .dataframe thead th {\n",
       "        text-align: right;\n",
       "    }\n",
       "</style>\n",
       "<table border=\"1\" class=\"dataframe\">\n",
       "  <thead>\n",
       "    <tr style=\"text-align: right;\">\n",
       "      <th></th>\n",
       "      <th>PassengerId</th>\n",
       "      <th>HomePlanet</th>\n",
       "      <th>CryoSleep</th>\n",
       "      <th>Cabin</th>\n",
       "      <th>Destination</th>\n",
       "      <th>Age</th>\n",
       "      <th>VIP</th>\n",
       "      <th>RoomService</th>\n",
       "      <th>FoodCourt</th>\n",
       "      <th>ShoppingMall</th>\n",
       "      <th>Spa</th>\n",
       "      <th>VRDeck</th>\n",
       "      <th>Name</th>\n",
       "      <th>Transported</th>\n",
       "    </tr>\n",
       "  </thead>\n",
       "  <tbody>\n",
       "    <tr>\n",
       "      <th>0</th>\n",
       "      <td>0001_01</td>\n",
       "      <td>2.0</td>\n",
       "      <td>1</td>\n",
       "      <td>B/0/P</td>\n",
       "      <td>3.0</td>\n",
       "      <td>39.0</td>\n",
       "      <td>0</td>\n",
       "      <td>0.0</td>\n",
       "      <td>0.0</td>\n",
       "      <td>0.0</td>\n",
       "      <td>0.0</td>\n",
       "      <td>0.0</td>\n",
       "      <td>Maham Ofracculy</td>\n",
       "      <td>0</td>\n",
       "    </tr>\n",
       "    <tr>\n",
       "      <th>1</th>\n",
       "      <td>0002_01</td>\n",
       "      <td>1.0</td>\n",
       "      <td>0</td>\n",
       "      <td>F/0/S</td>\n",
       "      <td>3.0</td>\n",
       "      <td>24.0</td>\n",
       "      <td>1</td>\n",
       "      <td>109.0</td>\n",
       "      <td>9.0</td>\n",
       "      <td>25.0</td>\n",
       "      <td>549.0</td>\n",
       "      <td>44.0</td>\n",
       "      <td>Juanna Vines</td>\n",
       "      <td>1</td>\n",
       "    </tr>\n",
       "    <tr>\n",
       "      <th>2</th>\n",
       "      <td>0003_01</td>\n",
       "      <td>2.0</td>\n",
       "      <td>0</td>\n",
       "      <td>A/0/S</td>\n",
       "      <td>3.0</td>\n",
       "      <td>58.0</td>\n",
       "      <td>1</td>\n",
       "      <td>43.0</td>\n",
       "      <td>3576.0</td>\n",
       "      <td>0.0</td>\n",
       "      <td>6715.0</td>\n",
       "      <td>49.0</td>\n",
       "      <td>Altark Susent</td>\n",
       "      <td>0</td>\n",
       "    </tr>\n",
       "  </tbody>\n",
       "</table>\n",
       "</div>"
      ],
      "text/plain": [
       "  PassengerId  HomePlanet  CryoSleep  Cabin  Destination   Age  VIP  \\\n",
       "0     0001_01         2.0          1  B/0/P          3.0  39.0    0   \n",
       "1     0002_01         1.0          0  F/0/S          3.0  24.0    1   \n",
       "2     0003_01         2.0          0  A/0/S          3.0  58.0    1   \n",
       "\n",
       "   RoomService  FoodCourt  ShoppingMall     Spa  VRDeck             Name  \\\n",
       "0          0.0        0.0           0.0     0.0     0.0  Maham Ofracculy   \n",
       "1        109.0        9.0          25.0   549.0    44.0     Juanna Vines   \n",
       "2         43.0     3576.0           0.0  6715.0    49.0    Altark Susent   \n",
       "\n",
       "   Transported  \n",
       "0            0  \n",
       "1            1  \n",
       "2            0  "
      ]
     },
     "execution_count": 5,
     "metadata": {},
     "output_type": "execute_result"
    }
   ],
   "source": [
    "#CryoSleep Train\n",
    "train['CryoSleep'].replace({True: 1, False: 0}, inplace=True)\n",
    "\n",
    "#Transported Train\n",
    "train['Transported'] = train['Transported'].replace({True: 1, False: 0})\n",
    "\n",
    "#HomePlanet Train\n",
    "train['HomePlanet'].replace('Earth', 1, inplace=True)\n",
    "train['HomePlanet'].replace('Europa', 2, inplace=True)\n",
    "train['HomePlanet'].replace('Mars', 3, inplace=True)\n",
    "\n",
    "#Destination Train\n",
    "train['Destination'].replace('55 Cancri e', 1, inplace=True)\n",
    "train['Destination'].replace('PSO J318.5-22', 2, inplace=True)\n",
    "train['Destination'].replace('TRAPPIST-1e', 3, inplace=True)\n",
    "\n",
    "\n",
    "#Vip Train\n",
    "train['VIP'].replace({True: 1, False: 0}, inplace=True)\n",
    "\n",
    "\n",
    "########################################################\n",
    "\n",
    "\n",
    "#CryoSleep Test\n",
    "test['CryoSleep'].replace({True: 1, False: 0}, inplace=True)\n",
    "\n",
    "#Transported Test\n",
    "# Don't ahve transported\n",
    "\n",
    "#HomePlanet Test\n",
    "test['HomePlanet'].replace('Earth', 1, inplace=True)\n",
    "test['HomePlanet'].replace('Europa', 2, inplace=True)\n",
    "test['HomePlanet'].replace('Mars', 3, inplace=True)\n",
    "\n",
    "#Destination Test\n",
    "test['Destination'].replace('55 Cancri e', 1, inplace=True)\n",
    "test['Destination'].replace('PSO J318.5-22', 2, inplace=True)\n",
    "test['Destination'].replace('TRAPPIST-1e', 3, inplace=True)\n",
    "\n",
    "#Vip Test\n",
    "test['VIP'].replace({True: 1, False: 0}, inplace=True)\n",
    "\n",
    "\n",
    "train.head(3)\n",
    "# test.head(3)"
   ]
  },
  {
   "cell_type": "markdown",
   "id": "958f3059",
   "metadata": {
    "papermill": {
     "duration": 0.008142,
     "end_time": "2023-12-06T20:09:32.313508",
     "exception": false,
     "start_time": "2023-12-06T20:09:32.305366",
     "status": "completed"
    },
    "tags": []
   },
   "source": [
    "HomePlanet: {'Earth', 'Europa', 'Mars', nan}\n",
    "{1,2,3,4}"
   ]
  },
  {
   "cell_type": "markdown",
   "id": "3e7ba44c",
   "metadata": {
    "papermill": {
     "duration": 0.008225,
     "end_time": "2023-12-06T20:09:32.330540",
     "exception": false,
     "start_time": "2023-12-06T20:09:32.322315",
     "status": "completed"
    },
    "tags": []
   },
   "source": [
    "Destination: {'55 Cancri e', 'PSO J318.5-22', 'TRAPPIST-1e', nan}\n",
    "{1,2,3,4}"
   ]
  },
  {
   "cell_type": "markdown",
   "id": "03dc01ac",
   "metadata": {
    "papermill": {
     "duration": 0.008857,
     "end_time": "2023-12-06T20:09:32.348259",
     "exception": false,
     "start_time": "2023-12-06T20:09:32.339402",
     "status": "completed"
    },
    "tags": []
   },
   "source": [
    "letter_to_int = {'A': 1, 'B': 2, 'C': 3, 'D': 4, 'E': 5, 'F': 6, 'G': 7, 'H': 8, 'I': 9, 'J': 10}"
   ]
  },
  {
   "cell_type": "markdown",
   "id": "0a137567",
   "metadata": {
    "papermill": {
     "duration": 0.008628,
     "end_time": "2023-12-06T20:09:32.365883",
     "exception": false,
     "start_time": "2023-12-06T20:09:32.357255",
     "status": "completed"
    },
    "tags": []
   },
   "source": [
    "Now we have 11 attribute to work with and they all are numeric\n"
   ]
  },
  {
   "cell_type": "markdown",
   "id": "cb18e8d9",
   "metadata": {
    "papermill": {
     "duration": 0.007995,
     "end_time": "2023-12-06T20:09:32.382336",
     "exception": false,
     "start_time": "2023-12-06T20:09:32.374341",
     "status": "completed"
    },
    "tags": []
   },
   "source": [
    "Now We can go to filling every null and nan cell in our dataframe"
   ]
  },
  {
   "cell_type": "code",
   "execution_count": 6,
   "id": "7cca6e63",
   "metadata": {
    "execution": {
     "iopub.execute_input": "2023-12-06T20:09:32.401228Z",
     "iopub.status.busy": "2023-12-06T20:09:32.400364Z",
     "iopub.status.idle": "2023-12-06T20:09:32.450769Z",
     "shell.execute_reply": "2023-12-06T20:09:32.448879Z"
    },
    "papermill": {
     "duration": 0.063084,
     "end_time": "2023-12-06T20:09:32.453690",
     "exception": false,
     "start_time": "2023-12-06T20:09:32.390606",
     "status": "completed"
    },
    "tags": []
   },
   "outputs": [
    {
     "name": "stdout",
     "output_type": "stream",
     "text": [
      "<class 'pandas.core.frame.DataFrame'>\n",
      "RangeIndex: 8693 entries, 0 to 8692\n",
      "Data columns (total 14 columns):\n",
      " #   Column        Non-Null Count  Dtype   \n",
      "---  ------        --------------  -----   \n",
      " 0   PassengerId   8693 non-null   object  \n",
      " 1   HomePlanet    8693 non-null   float64 \n",
      " 2   CryoSleep     8693 non-null   int64   \n",
      " 3   Cabin         8693 non-null   object  \n",
      " 4   Destination   8693 non-null   float64 \n",
      " 5   Age           8693 non-null   category\n",
      " 6   VIP           8693 non-null   int64   \n",
      " 7   RoomService   8693 non-null   float64 \n",
      " 8   FoodCourt     8693 non-null   float64 \n",
      " 9   ShoppingMall  8693 non-null   float64 \n",
      " 10  Spa           8693 non-null   float64 \n",
      " 11  VRDeck        8693 non-null   float64 \n",
      " 12  Name          8493 non-null   object  \n",
      " 13  Transported   8693 non-null   int64   \n",
      "dtypes: category(1), float64(7), int64(3), object(3)\n",
      "memory usage: 891.9+ KB\n"
     ]
    }
   ],
   "source": [
    "# Filled them with help of expenditure and VIP\n",
    "# df[\"CryoSleep\"].fillna(df[\"CryoSleep\"].mode()[0],inplace=True)\n",
    "\n",
    "# Filled them with help of expenditure and CryoSleep\n",
    "# df[\"VIP\"].fillna(df[\"VIP\"].mode()[0],inplace=True)\n",
    "\n",
    "#Data For Train\n",
    "train[\"HomePlanet\"].fillna(train[\"HomePlanet\"].mode()[0],inplace=True)\n",
    "train[\"Destination\"].fillna(train[\"Destination\"].mode()[0],inplace=True)\n",
    "train[\"Cabin\"].fillna(train[\"Cabin\"].mode()[0],inplace=True)\n",
    "train[\"Age\"].fillna(int(train[\"Age\"].mean()),inplace=True)\n",
    "train[\"RoomService\"].fillna(train[\"RoomService\"].mean(),inplace=True)\n",
    "train[\"FoodCourt\"].fillna(train[\"FoodCourt\"].mean(),inplace=True)\n",
    "train[\"ShoppingMall\"].fillna(train[\"ShoppingMall\"].mean(),inplace=True)\n",
    "train[\"Spa\"].fillna(train[\"Spa\"].mean(),inplace=True)\n",
    "train[\"VRDeck\"].fillna(train[\"VRDeck\"].mean(),inplace=True)\n",
    "\n",
    "\n",
    "\n",
    "#Data for Test\n",
    "test[\"HomePlanet\"].fillna(test[\"HomePlanet\"].mode()[0],inplace=True)\n",
    "test[\"Destination\"].fillna(test[\"Destination\"].mode()[0],inplace=True)\n",
    "test[\"Cabin\"].fillna(test[\"Cabin\"].mode()[0],inplace=True)\n",
    "test[\"Age\"].fillna(int(test[\"Age\"].mean()),inplace=True)\n",
    "test[\"RoomService\"].fillna(test[\"RoomService\"].mean(),inplace=True)\n",
    "test[\"FoodCourt\"].fillna(test[\"FoodCourt\"].mean(),inplace=True)\n",
    "test[\"ShoppingMall\"].fillna(test[\"ShoppingMall\"].mean(),inplace=True)\n",
    "test[\"Spa\"].fillna(test[\"Spa\"].mean(),inplace=True)\n",
    "test[\"VRDeck\"].fillna(test[\"VRDeck\"].mean(),inplace=True)\n",
    "\n",
    "# Define the bins and labels for AGE column\n",
    "bins = [0, 15, 25, 35, 45, 60, 75, 90,120, 150]\n",
    "labels = [1, 2, 3, 4, 5, 6, 7, 8, 9]\n",
    "\n",
    "# Use pd.cut to scale the 'Age' column\n",
    "train['Age'] = pd.cut(train['Age'], bins=bins, labels=labels, right=False)\n",
    "test['Age'] = pd.cut(test['Age'], bins=bins, labels=labels, right=False)\n",
    "\n",
    "#No Nan, Null or empty cell\n",
    "train.info()"
   ]
  },
  {
   "cell_type": "code",
   "execution_count": 7,
   "id": "ffaa3034",
   "metadata": {
    "execution": {
     "iopub.execute_input": "2023-12-06T20:09:32.473229Z",
     "iopub.status.busy": "2023-12-06T20:09:32.472737Z",
     "iopub.status.idle": "2023-12-06T20:09:32.562482Z",
     "shell.execute_reply": "2023-12-06T20:09:32.561261Z"
    },
    "papermill": {
     "duration": 0.102625,
     "end_time": "2023-12-06T20:09:32.565490",
     "exception": false,
     "start_time": "2023-12-06T20:09:32.462865",
     "status": "completed"
    },
    "tags": []
   },
   "outputs": [
    {
     "data": {
      "text/html": [
       "<div>\n",
       "<style scoped>\n",
       "    .dataframe tbody tr th:only-of-type {\n",
       "        vertical-align: middle;\n",
       "    }\n",
       "\n",
       "    .dataframe tbody tr th {\n",
       "        vertical-align: top;\n",
       "    }\n",
       "\n",
       "    .dataframe thead th {\n",
       "        text-align: right;\n",
       "    }\n",
       "</style>\n",
       "<table border=\"1\" class=\"dataframe\">\n",
       "  <thead>\n",
       "    <tr style=\"text-align: right;\">\n",
       "      <th></th>\n",
       "      <th>PassengerId</th>\n",
       "      <th>HomePlanet</th>\n",
       "      <th>CryoSleep</th>\n",
       "      <th>Cabin</th>\n",
       "      <th>Destination</th>\n",
       "      <th>Age</th>\n",
       "      <th>VIP</th>\n",
       "      <th>RoomService</th>\n",
       "      <th>FoodCourt</th>\n",
       "      <th>ShoppingMall</th>\n",
       "      <th>Spa</th>\n",
       "      <th>VRDeck</th>\n",
       "      <th>Name</th>\n",
       "      <th>Transported</th>\n",
       "      <th>Port</th>\n",
       "      <th>Place</th>\n",
       "    </tr>\n",
       "  </thead>\n",
       "  <tbody>\n",
       "    <tr>\n",
       "      <th>0</th>\n",
       "      <td>0001_01</td>\n",
       "      <td>2.0</td>\n",
       "      <td>1</td>\n",
       "      <td>0</td>\n",
       "      <td>3.0</td>\n",
       "      <td>4</td>\n",
       "      <td>0</td>\n",
       "      <td>0.0</td>\n",
       "      <td>0.0</td>\n",
       "      <td>0.0</td>\n",
       "      <td>0.0</td>\n",
       "      <td>0.0</td>\n",
       "      <td>Maham Ofracculy</td>\n",
       "      <td>0</td>\n",
       "      <td>1</td>\n",
       "      <td>2</td>\n",
       "    </tr>\n",
       "    <tr>\n",
       "      <th>1</th>\n",
       "      <td>0002_01</td>\n",
       "      <td>1.0</td>\n",
       "      <td>0</td>\n",
       "      <td>0</td>\n",
       "      <td>3.0</td>\n",
       "      <td>2</td>\n",
       "      <td>1</td>\n",
       "      <td>109.0</td>\n",
       "      <td>9.0</td>\n",
       "      <td>25.0</td>\n",
       "      <td>549.0</td>\n",
       "      <td>44.0</td>\n",
       "      <td>Juanna Vines</td>\n",
       "      <td>1</td>\n",
       "      <td>0</td>\n",
       "      <td>6</td>\n",
       "    </tr>\n",
       "    <tr>\n",
       "      <th>2</th>\n",
       "      <td>0003_01</td>\n",
       "      <td>2.0</td>\n",
       "      <td>0</td>\n",
       "      <td>0</td>\n",
       "      <td>3.0</td>\n",
       "      <td>5</td>\n",
       "      <td>1</td>\n",
       "      <td>43.0</td>\n",
       "      <td>3576.0</td>\n",
       "      <td>0.0</td>\n",
       "      <td>6715.0</td>\n",
       "      <td>49.0</td>\n",
       "      <td>Altark Susent</td>\n",
       "      <td>0</td>\n",
       "      <td>0</td>\n",
       "      <td>1</td>\n",
       "    </tr>\n",
       "  </tbody>\n",
       "</table>\n",
       "</div>"
      ],
      "text/plain": [
       "  PassengerId  HomePlanet  CryoSleep Cabin  Destination Age  VIP  RoomService  \\\n",
       "0     0001_01         2.0          1     0          3.0   4    0          0.0   \n",
       "1     0002_01         1.0          0     0          3.0   2    1        109.0   \n",
       "2     0003_01         2.0          0     0          3.0   5    1         43.0   \n",
       "\n",
       "   FoodCourt  ShoppingMall     Spa  VRDeck             Name  Transported  \\\n",
       "0        0.0           0.0     0.0     0.0  Maham Ofracculy            0   \n",
       "1        9.0          25.0   549.0    44.0     Juanna Vines            1   \n",
       "2     3576.0           0.0  6715.0    49.0    Altark Susent            0   \n",
       "\n",
       "   Port  Place  \n",
       "0     1      2  \n",
       "1     0      6  \n",
       "2     0      1  "
      ]
     },
     "execution_count": 7,
     "metadata": {},
     "output_type": "execute_result"
    }
   ],
   "source": [
    "# Train Data\n",
    "#Port or Starboard of the cabins\n",
    "train['Port'] = train['Cabin'].str.split('/').str[-1]\n",
    "train['Port'].replace('S', 0, inplace=True)\n",
    "train['Port'].replace('P', 1, inplace=True)\n",
    "\n",
    "#Class of the cabins\n",
    "train['Place'] = train['Cabin'].str.split('/').str[0]\n",
    "letter_to_int = {'A': 1, 'B': 2, 'C': 3, 'D': 4, 'E': 5, 'F': 6, 'G': 7, 'T': 8}\n",
    "train['Place'] = train['Place'].map(letter_to_int)\n",
    "\n",
    "\n",
    "#Number of cabins\n",
    "train['Cabin'] = train['Cabin'].str.split('/').str[1]\n",
    "\n",
    "#####################################\n",
    "#####################################\n",
    "#####################################\n",
    "\n",
    "# Test Data\n",
    "\n",
    "#Port or Starboard of the cabins\n",
    "test['Port'] = test['Cabin'].str.split('/').str[-1]\n",
    "test['Port'].replace('S', 0, inplace=True)\n",
    "test['Port'].replace('P', 1, inplace=True)\n",
    "\n",
    "#Class of the cabins\n",
    "test['Place'] = test['Cabin'].str.split('/').str[0]\n",
    "letter_to_int = {'A': 1, 'B': 2, 'C': 3, 'D': 4, 'E': 5, 'F': 6, 'G': 7, 'T': 8}\n",
    "test['Place'] = test['Place'].map(letter_to_int)\n",
    "\n",
    "\n",
    "#Number of cabins\n",
    "test['Cabin'] = test['Cabin'].str.split('/').str[1]\n",
    "\n",
    "\n",
    "\n",
    "train.head(3)"
   ]
  },
  {
   "cell_type": "code",
   "execution_count": 8,
   "id": "49d5e38d",
   "metadata": {
    "execution": {
     "iopub.execute_input": "2023-12-06T20:09:32.585032Z",
     "iopub.status.busy": "2023-12-06T20:09:32.584592Z",
     "iopub.status.idle": "2023-12-06T20:09:32.621717Z",
     "shell.execute_reply": "2023-12-06T20:09:32.620538Z"
    },
    "papermill": {
     "duration": 0.050431,
     "end_time": "2023-12-06T20:09:32.624605",
     "exception": false,
     "start_time": "2023-12-06T20:09:32.574174",
     "status": "completed"
    },
    "tags": []
   },
   "outputs": [
    {
     "name": "stdout",
     "output_type": "stream",
     "text": [
      "<class 'pandas.core.frame.DataFrame'>\n",
      "RangeIndex: 8693 entries, 0 to 8692\n",
      "Data columns (total 16 columns):\n",
      " #   Column        Non-Null Count  Dtype  \n",
      "---  ------        --------------  -----  \n",
      " 0   PassengerId   8693 non-null   object \n",
      " 1   HomePlanet    8693 non-null   Int64  \n",
      " 2   CryoSleep     8693 non-null   Int64  \n",
      " 3   Cabin         8693 non-null   Int64  \n",
      " 4   Destination   8693 non-null   Int64  \n",
      " 5   Age           8693 non-null   Int64  \n",
      " 6   VIP           8693 non-null   Int64  \n",
      " 7   RoomService   8693 non-null   float64\n",
      " 8   FoodCourt     8693 non-null   float64\n",
      " 9   ShoppingMall  8693 non-null   float64\n",
      " 10  Spa           8693 non-null   float64\n",
      " 11  VRDeck        8693 non-null   float64\n",
      " 12  Name          8493 non-null   object \n",
      " 13  Transported   8693 non-null   int64  \n",
      " 14  Port          8693 non-null   Int64  \n",
      " 15  Place         8693 non-null   Int64  \n",
      "dtypes: Int64(8), float64(5), int64(1), object(2)\n",
      "memory usage: 1.1+ MB\n"
     ]
    }
   ],
   "source": [
    "train[['HomePlanet', 'CryoSleep', 'Cabin', 'Destination', 'Age', 'VIP', 'Port', 'Place']] = train[['HomePlanet', 'CryoSleep','Cabin', 'Destination', 'Age', 'VIP', 'Port', 'Place']].astype('Int64')\n",
    "\n",
    "test[['HomePlanet', 'CryoSleep', 'Cabin', 'Destination', 'Age', 'VIP', 'Port', 'Place']] = test[['HomePlanet', 'CryoSleep','Cabin', 'Destination', 'Age', 'VIP', 'Port', 'Place']].astype('Int64')\n",
    "train.info()"
   ]
  },
  {
   "cell_type": "code",
   "execution_count": 9,
   "id": "e23937e6",
   "metadata": {
    "execution": {
     "iopub.execute_input": "2023-12-06T20:09:32.645758Z",
     "iopub.status.busy": "2023-12-06T20:09:32.645057Z",
     "iopub.status.idle": "2023-12-06T20:09:32.671708Z",
     "shell.execute_reply": "2023-12-06T20:09:32.670476Z"
    },
    "papermill": {
     "duration": 0.041364,
     "end_time": "2023-12-06T20:09:32.674851",
     "exception": false,
     "start_time": "2023-12-06T20:09:32.633487",
     "status": "completed"
    },
    "tags": []
   },
   "outputs": [
    {
     "data": {
      "text/html": [
       "<div>\n",
       "<style scoped>\n",
       "    .dataframe tbody tr th:only-of-type {\n",
       "        vertical-align: middle;\n",
       "    }\n",
       "\n",
       "    .dataframe tbody tr th {\n",
       "        vertical-align: top;\n",
       "    }\n",
       "\n",
       "    .dataframe thead th {\n",
       "        text-align: right;\n",
       "    }\n",
       "</style>\n",
       "<table border=\"1\" class=\"dataframe\">\n",
       "  <thead>\n",
       "    <tr style=\"text-align: right;\">\n",
       "      <th></th>\n",
       "      <th>PassengerId</th>\n",
       "      <th>HomePlanet</th>\n",
       "      <th>CryoSleep</th>\n",
       "      <th>Cabin</th>\n",
       "      <th>Destination</th>\n",
       "      <th>Age</th>\n",
       "      <th>VIP</th>\n",
       "      <th>RoomService</th>\n",
       "      <th>FoodCourt</th>\n",
       "      <th>ShoppingMall</th>\n",
       "      <th>Spa</th>\n",
       "      <th>VRDeck</th>\n",
       "      <th>Name</th>\n",
       "      <th>Transported</th>\n",
       "      <th>Port</th>\n",
       "      <th>Place</th>\n",
       "    </tr>\n",
       "  </thead>\n",
       "  <tbody>\n",
       "    <tr>\n",
       "      <th>0</th>\n",
       "      <td>0001_01</td>\n",
       "      <td>2</td>\n",
       "      <td>1</td>\n",
       "      <td>0</td>\n",
       "      <td>3</td>\n",
       "      <td>4</td>\n",
       "      <td>0</td>\n",
       "      <td>0.000000</td>\n",
       "      <td>0.000000</td>\n",
       "      <td>0.0</td>\n",
       "      <td>0.000000</td>\n",
       "      <td>0.00000</td>\n",
       "      <td>Maham Ofracculy</td>\n",
       "      <td>0</td>\n",
       "      <td>1</td>\n",
       "      <td>2</td>\n",
       "    </tr>\n",
       "    <tr>\n",
       "      <th>1</th>\n",
       "      <td>0002_01</td>\n",
       "      <td>1</td>\n",
       "      <td>0</td>\n",
       "      <td>0</td>\n",
       "      <td>3</td>\n",
       "      <td>2</td>\n",
       "      <td>1</td>\n",
       "      <td>10.440307</td>\n",
       "      <td>3.000000</td>\n",
       "      <td>5.0</td>\n",
       "      <td>23.430749</td>\n",
       "      <td>6.63325</td>\n",
       "      <td>Juanna Vines</td>\n",
       "      <td>1</td>\n",
       "      <td>0</td>\n",
       "      <td>6</td>\n",
       "    </tr>\n",
       "    <tr>\n",
       "      <th>2</th>\n",
       "      <td>0003_01</td>\n",
       "      <td>2</td>\n",
       "      <td>0</td>\n",
       "      <td>0</td>\n",
       "      <td>3</td>\n",
       "      <td>5</td>\n",
       "      <td>1</td>\n",
       "      <td>6.557439</td>\n",
       "      <td>59.799666</td>\n",
       "      <td>0.0</td>\n",
       "      <td>81.945104</td>\n",
       "      <td>7.00000</td>\n",
       "      <td>Altark Susent</td>\n",
       "      <td>0</td>\n",
       "      <td>0</td>\n",
       "      <td>1</td>\n",
       "    </tr>\n",
       "  </tbody>\n",
       "</table>\n",
       "</div>"
      ],
      "text/plain": [
       "  PassengerId  HomePlanet  CryoSleep  Cabin  Destination  Age  VIP  \\\n",
       "0     0001_01           2          1      0            3    4    0   \n",
       "1     0002_01           1          0      0            3    2    1   \n",
       "2     0003_01           2          0      0            3    5    1   \n",
       "\n",
       "   RoomService  FoodCourt  ShoppingMall        Spa   VRDeck             Name  \\\n",
       "0     0.000000   0.000000           0.0   0.000000  0.00000  Maham Ofracculy   \n",
       "1    10.440307   3.000000           5.0  23.430749  6.63325     Juanna Vines   \n",
       "2     6.557439  59.799666           0.0  81.945104  7.00000    Altark Susent   \n",
       "\n",
       "   Transported  Port  Place  \n",
       "0            0     1      2  \n",
       "1            1     0      6  \n",
       "2            0     0      1  "
      ]
     },
     "execution_count": 9,
     "metadata": {},
     "output_type": "execute_result"
    }
   ],
   "source": [
    "##Apply square root transformation\n",
    "\n",
    "## Train Data\n",
    "train['RoomService'] = train['RoomService']**0.5\n",
    "train['FoodCourt'] = train['FoodCourt']**0.5\n",
    "train['ShoppingMall'] = train['ShoppingMall']**0.5\n",
    "train['Spa'] = train['Spa']**0.5\n",
    "train['VRDeck'] = train['VRDeck']**0.5\n",
    "\n",
    "\n",
    "## Test Data\n",
    "test['RoomService'] = test['RoomService']**0.5\n",
    "test['FoodCourt'] = test['FoodCourt']**0.5\n",
    "test['ShoppingMall'] = test['ShoppingMall']**0.5\n",
    "test['Spa'] = test['Spa']**0.5\n",
    "test['VRDeck'] = test['VRDeck']**0.5\n",
    "\n",
    "train.head(3)"
   ]
  },
  {
   "cell_type": "code",
   "execution_count": 10,
   "id": "9b735416",
   "metadata": {
    "execution": {
     "iopub.execute_input": "2023-12-06T20:09:32.698048Z",
     "iopub.status.busy": "2023-12-06T20:09:32.697002Z",
     "iopub.status.idle": "2023-12-06T20:09:32.703167Z",
     "shell.execute_reply": "2023-12-06T20:09:32.701767Z"
    },
    "papermill": {
     "duration": 0.021592,
     "end_time": "2023-12-06T20:09:32.705817",
     "exception": false,
     "start_time": "2023-12-06T20:09:32.684225",
     "status": "completed"
    },
    "tags": []
   },
   "outputs": [],
   "source": [
    "# ## Apply log transformation\n",
    "\n",
    "# ## Train Data\n",
    "# train['RoomService'] = np.log1p(train['RoomService'])\n",
    "# train['FoodCourt'] = np.log1p(train['FoodCourt'])\n",
    "# train['ShoppingMall'] = np.log1p(train['ShoppingMall'])\n",
    "# train['Spa'] = np.log1p(train['Spa'])\n",
    "# train['VRDeck'] = np.log1p(train['VRDeck'])\n",
    "\n",
    "\n",
    "# ## Test Data\n",
    "# test['RoomService'] = np.log1p(test['RoomService'])\n",
    "# test['FoodCourt'] = np.log1p(test['FoodCourt'])\n",
    "# test['ShoppingMall'] = np.log1p(test['ShoppingMall'])\n",
    "# test['Spa'] = np.log1p(test['Spa'])\n",
    "# test['VRDeck'] = np.log1p(test['VRDeck'])\n",
    "# train.head(3)"
   ]
  },
  {
   "cell_type": "code",
   "execution_count": 11,
   "id": "037e04e4",
   "metadata": {
    "execution": {
     "iopub.execute_input": "2023-12-06T20:09:32.726192Z",
     "iopub.status.busy": "2023-12-06T20:09:32.725772Z",
     "iopub.status.idle": "2023-12-06T20:09:33.476123Z",
     "shell.execute_reply": "2023-12-06T20:09:33.475096Z"
    },
    "papermill": {
     "duration": 0.763974,
     "end_time": "2023-12-06T20:09:33.478945",
     "exception": false,
     "start_time": "2023-12-06T20:09:32.714971",
     "status": "completed"
    },
    "tags": []
   },
   "outputs": [
    {
     "name": "stdout",
     "output_type": "stream",
     "text": [
      "Train Data\n"
     ]
    },
    {
     "data": {
      "text/plain": [
       "<Axes: >"
      ]
     },
     "execution_count": 11,
     "metadata": {},
     "output_type": "execute_result"
    },
    {
     "data": {
      "image/png": "[encoded data removed]",
      "text/plain": [
       "<Figure size 640x480 with 2 Axes>"
      ]
     },
     "metadata": {},
     "output_type": "display_data"
    }
   ],
   "source": [
    "train_num = train.select_dtypes(include=['float64', 'int64'])\n",
    "\n",
    "# Calculate the correlations of numerical columns\n",
    "corr = train_num.corr()\n",
    "\n",
    "print(\"Train Data\")\n",
    "sns.heatmap(corr, annot=False)"
   ]
  },
  {
   "cell_type": "code",
   "execution_count": 12,
   "id": "9931e6df",
   "metadata": {
    "execution": {
     "iopub.execute_input": "2023-12-06T20:09:33.503224Z",
     "iopub.status.busy": "2023-12-06T20:09:33.502006Z",
     "iopub.status.idle": "2023-12-06T20:09:34.243961Z",
     "shell.execute_reply": "2023-12-06T20:09:34.242641Z"
    },
    "papermill": {
     "duration": 0.756786,
     "end_time": "2023-12-06T20:09:34.246604",
     "exception": false,
     "start_time": "2023-12-06T20:09:33.489818",
     "status": "completed"
    },
    "tags": []
   },
   "outputs": [
    {
     "name": "stdout",
     "output_type": "stream",
     "text": [
      "Test Data\n"
     ]
    },
    {
     "data": {
      "text/plain": [
       "<Axes: >"
      ]
     },
     "execution_count": 12,
     "metadata": {},
     "output_type": "execute_result"
    },
    {
     "data": {
      "image/png": "[encoded data removed]",
      "text/plain": [
       "<Figure size 640x480 with 2 Axes>"
      ]
     },
     "metadata": {},
     "output_type": "display_data"
    }
   ],
   "source": [
    "test_num = test.select_dtypes(include=['float64', 'int64'])\n",
    "\n",
    "# Calculate the correlations of numerical columns\n",
    "corr = test_num.corr()\n",
    "\n",
    "print(\"Test Data\")\n",
    "sns.heatmap(corr, annot=False)"
   ]
  },
  {
   "cell_type": "code",
   "execution_count": 13,
   "id": "df068f8c",
   "metadata": {
    "execution": {
     "iopub.execute_input": "2023-12-06T20:09:34.274121Z",
     "iopub.status.busy": "2023-12-06T20:09:34.273692Z",
     "iopub.status.idle": "2023-12-06T20:09:34.279124Z",
     "shell.execute_reply": "2023-12-06T20:09:34.277945Z"
    },
    "papermill": {
     "duration": 0.021873,
     "end_time": "2023-12-06T20:09:34.281602",
     "exception": false,
     "start_time": "2023-12-06T20:09:34.259729",
     "status": "completed"
    },
    "tags": []
   },
   "outputs": [],
   "source": [
    "#print('cryo Taransported: ', sum(df[df.CryoSleep == 1].Transported), 'transported: ',sum(df.Transported))\n",
    "# # Calculate mean\n",
    "# df['Mean_luxury'] = df[['RoomService', 'FoodCourt', 'ShoppingMall', 'Spa', 'VRDeck']].mean(axis=1)\n",
    "\n",
    "# df = df.drop(columns=['RoomService', 'FoodCourt', 'ShoppingMall', 'Spa', 'VRDeck'])\n",
    "\n",
    "# df['BigSpender'] = np.where(df.Mean_luxury > 1000, 1,0)\n",
    "# df['Mid_Spender'] = np.where(df.Mean_luxury >= 500, 1,0)\n",
    "# df['Non_Spender'] = np.where(df.Mean_luxury == 0, 1,0)\n",
    "# df.head(3)"
   ]
  },
  {
   "cell_type": "markdown",
   "id": "7c1030ae",
   "metadata": {
    "papermill": {
     "duration": 0.012605,
     "end_time": "2023-12-06T20:09:34.307072",
     "exception": false,
     "start_time": "2023-12-06T20:09:34.294467",
     "status": "completed"
    },
    "tags": []
   },
   "source": [
    "{1:'55 Cancri e', 2:'PSO J318.5-22', 3:'TRAPPIST-1e'}\n",
    "{1:'Earth', 2:'Europa', 3:'Mars'}\n",
    "<<<<<HomePlanet to Destination>>>>\n",
    "1 to 1 >>> 721\n",
    "1 to 2 >>> 728\n",
    "1 to 3 >>> 3354\n",
    "--------------    \n",
    "2 to 1 >>> 193\n",
    "2 to 2 >>> 49\n",
    "2 to 3 >>> 1517\n",
    "-------------- \n",
    "3 to 1 >>> 886\n",
    "3 to 2 >>> 19\n",
    "3 to 3 >>> 1226\n",
    "-------------- "
   ]
  },
  {
   "cell_type": "code",
   "execution_count": 14,
   "id": "e3d8fe81",
   "metadata": {
    "execution": {
     "iopub.execute_input": "2023-12-06T20:09:34.333229Z",
     "iopub.status.busy": "2023-12-06T20:09:34.332784Z",
     "iopub.status.idle": "2023-12-06T20:09:34.360505Z",
     "shell.execute_reply": "2023-12-06T20:09:34.359134Z"
    },
    "papermill": {
     "duration": 0.044578,
     "end_time": "2023-12-06T20:09:34.363550",
     "exception": false,
     "start_time": "2023-12-06T20:09:34.318972",
     "status": "completed"
    },
    "tags": []
   },
   "outputs": [
    {
     "data": {
      "text/html": [
       "<div>\n",
       "<style scoped>\n",
       "    .dataframe tbody tr th:only-of-type {\n",
       "        vertical-align: middle;\n",
       "    }\n",
       "\n",
       "    .dataframe tbody tr th {\n",
       "        vertical-align: top;\n",
       "    }\n",
       "\n",
       "    .dataframe thead th {\n",
       "        text-align: right;\n",
       "    }\n",
       "</style>\n",
       "<table border=\"1\" class=\"dataframe\">\n",
       "  <thead>\n",
       "    <tr style=\"text-align: right;\">\n",
       "      <th></th>\n",
       "      <th>HomePlanet</th>\n",
       "      <th>CryoSleep</th>\n",
       "      <th>Cabin</th>\n",
       "      <th>Destination</th>\n",
       "      <th>Age</th>\n",
       "      <th>VIP</th>\n",
       "      <th>RoomService</th>\n",
       "      <th>FoodCourt</th>\n",
       "      <th>ShoppingMall</th>\n",
       "      <th>Spa</th>\n",
       "      <th>VRDeck</th>\n",
       "      <th>Port</th>\n",
       "      <th>Place</th>\n",
       "    </tr>\n",
       "  </thead>\n",
       "  <tbody>\n",
       "    <tr>\n",
       "      <th>0</th>\n",
       "      <td>2</td>\n",
       "      <td>1</td>\n",
       "      <td>0</td>\n",
       "      <td>3</td>\n",
       "      <td>4</td>\n",
       "      <td>0</td>\n",
       "      <td>0.000000</td>\n",
       "      <td>0.000000</td>\n",
       "      <td>0.0</td>\n",
       "      <td>0.000000</td>\n",
       "      <td>0.00000</td>\n",
       "      <td>1</td>\n",
       "      <td>2</td>\n",
       "    </tr>\n",
       "    <tr>\n",
       "      <th>1</th>\n",
       "      <td>1</td>\n",
       "      <td>0</td>\n",
       "      <td>0</td>\n",
       "      <td>3</td>\n",
       "      <td>2</td>\n",
       "      <td>1</td>\n",
       "      <td>10.440307</td>\n",
       "      <td>3.000000</td>\n",
       "      <td>5.0</td>\n",
       "      <td>23.430749</td>\n",
       "      <td>6.63325</td>\n",
       "      <td>0</td>\n",
       "      <td>6</td>\n",
       "    </tr>\n",
       "    <tr>\n",
       "      <th>2</th>\n",
       "      <td>2</td>\n",
       "      <td>0</td>\n",
       "      <td>0</td>\n",
       "      <td>3</td>\n",
       "      <td>5</td>\n",
       "      <td>1</td>\n",
       "      <td>6.557439</td>\n",
       "      <td>59.799666</td>\n",
       "      <td>0.0</td>\n",
       "      <td>81.945104</td>\n",
       "      <td>7.00000</td>\n",
       "      <td>0</td>\n",
       "      <td>1</td>\n",
       "    </tr>\n",
       "  </tbody>\n",
       "</table>\n",
       "</div>"
      ],
      "text/plain": [
       "   HomePlanet  CryoSleep  Cabin  Destination  Age  VIP  RoomService  \\\n",
       "0           2          1      0            3    4    0     0.000000   \n",
       "1           1          0      0            3    2    1    10.440307   \n",
       "2           2          0      0            3    5    1     6.557439   \n",
       "\n",
       "   FoodCourt  ShoppingMall        Spa   VRDeck  Port  Place  \n",
       "0   0.000000           0.0   0.000000  0.00000     1      2  \n",
       "1   3.000000           5.0  23.430749  6.63325     0      6  \n",
       "2  59.799666           0.0  81.945104  7.00000     0      1  "
      ]
     },
     "execution_count": 14,
     "metadata": {},
     "output_type": "execute_result"
    }
   ],
   "source": [
    "### Train Data\n",
    "newTrain = train\n",
    "train_ids = newTrain['PassengerId'].copy()\n",
    "train_trs = newTrain['Transported'].copy()\n",
    "newTrain.drop(columns=['PassengerId','Name','Transported'],inplace=True)\n",
    "\n",
    "\n",
    "#####################\n",
    "\n",
    "\n",
    "### Test Data\n",
    "newTest = test\n",
    "test_ids = newTest['PassengerId'].copy()\n",
    "newTest.drop(columns=['PassengerId','Name'],inplace=True)\n",
    "\n",
    "\n",
    "newTrain.head(3)"
   ]
  },
  {
   "cell_type": "code",
   "execution_count": 15,
   "id": "04788570",
   "metadata": {
    "execution": {
     "iopub.execute_input": "2023-12-06T20:09:34.392311Z",
     "iopub.status.busy": "2023-12-06T20:09:34.391857Z",
     "iopub.status.idle": "2023-12-06T20:09:34.408295Z",
     "shell.execute_reply": "2023-12-06T20:09:34.407112Z"
    },
    "papermill": {
     "duration": 0.03371,
     "end_time": "2023-12-06T20:09:34.410848",
     "exception": false,
     "start_time": "2023-12-06T20:09:34.377138",
     "status": "completed"
    },
    "tags": []
   },
   "outputs": [
    {
     "name": "stdout",
     "output_type": "stream",
     "text": [
      "<class 'pandas.core.frame.DataFrame'>\n",
      "RangeIndex: 8693 entries, 0 to 8692\n",
      "Data columns (total 13 columns):\n",
      " #   Column        Non-Null Count  Dtype  \n",
      "---  ------        --------------  -----  \n",
      " 0   HomePlanet    8693 non-null   Int64  \n",
      " 1   CryoSleep     8693 non-null   Int64  \n",
      " 2   Cabin         8693 non-null   Int64  \n",
      " 3   Destination   8693 non-null   Int64  \n",
      " 4   Age           8693 non-null   Int64  \n",
      " 5   VIP           8693 non-null   Int64  \n",
      " 6   RoomService   8693 non-null   float64\n",
      " 7   FoodCourt     8693 non-null   float64\n",
      " 8   ShoppingMall  8693 non-null   float64\n",
      " 9   Spa           8693 non-null   float64\n",
      " 10  VRDeck        8693 non-null   float64\n",
      " 11  Port          8693 non-null   Int64  \n",
      " 12  Place         8693 non-null   Int64  \n",
      "dtypes: Int64(8), float64(5)\n",
      "memory usage: 950.9 KB\n"
     ]
    }
   ],
   "source": [
    "newTrain.info()"
   ]
  },
  {
   "cell_type": "code",
   "execution_count": 16,
   "id": "6b40c8be",
   "metadata": {
    "execution": {
     "iopub.execute_input": "2023-12-06T20:09:34.439706Z",
     "iopub.status.busy": "2023-12-06T20:09:34.439188Z",
     "iopub.status.idle": "2023-12-06T20:09:34.456057Z",
     "shell.execute_reply": "2023-12-06T20:09:34.454677Z"
    },
    "papermill": {
     "duration": 0.034096,
     "end_time": "2023-12-06T20:09:34.458651",
     "exception": false,
     "start_time": "2023-12-06T20:09:34.424555",
     "status": "completed"
    },
    "tags": []
   },
   "outputs": [
    {
     "name": "stdout",
     "output_type": "stream",
     "text": [
      "<class 'pandas.core.frame.DataFrame'>\n",
      "RangeIndex: 4277 entries, 0 to 4276\n",
      "Data columns (total 13 columns):\n",
      " #   Column        Non-Null Count  Dtype  \n",
      "---  ------        --------------  -----  \n",
      " 0   HomePlanet    4277 non-null   Int64  \n",
      " 1   CryoSleep     4277 non-null   Int64  \n",
      " 2   Cabin         4277 non-null   Int64  \n",
      " 3   Destination   4277 non-null   Int64  \n",
      " 4   Age           4277 non-null   Int64  \n",
      " 5   VIP           4277 non-null   Int64  \n",
      " 6   RoomService   4277 non-null   float64\n",
      " 7   FoodCourt     4277 non-null   float64\n",
      " 8   ShoppingMall  4277 non-null   float64\n",
      " 9   Spa           4277 non-null   float64\n",
      " 10  VRDeck        4277 non-null   float64\n",
      " 11  Port          4277 non-null   Int64  \n",
      " 12  Place         4277 non-null   Int64  \n",
      "dtypes: Int64(8), float64(5)\n",
      "memory usage: 467.9 KB\n"
     ]
    }
   ],
   "source": [
    "newTest.info()"
   ]
  },
  {
   "cell_type": "code",
   "execution_count": 17,
   "id": "1c981c78",
   "metadata": {
    "execution": {
     "iopub.execute_input": "2023-12-06T20:09:34.487569Z",
     "iopub.status.busy": "2023-12-06T20:09:34.487112Z",
     "iopub.status.idle": "2023-12-06T20:09:34.492562Z",
     "shell.execute_reply": "2023-12-06T20:09:34.491150Z"
    },
    "papermill": {
     "duration": 0.023846,
     "end_time": "2023-12-06T20:09:34.495240",
     "exception": false,
     "start_time": "2023-12-06T20:09:34.471394",
     "status": "completed"
    },
    "tags": []
   },
   "outputs": [],
   "source": [
    "# from sklearn.model_selection import train_test_split\n",
    "# X_train, X_test, y_train, y_test = train_test_split(newtrainDF.drop('Transported',axis=1), \n",
    "#                                                   df['Transported'], test_size=0.30, \n",
    "#                                                     random_state=101)\n",
    "# newtrainDF.head(1)"
   ]
  },
  {
   "cell_type": "code",
   "execution_count": 18,
   "id": "0a189510",
   "metadata": {
    "execution": {
     "iopub.execute_input": "2023-12-06T20:09:34.522973Z",
     "iopub.status.busy": "2023-12-06T20:09:34.522530Z",
     "iopub.status.idle": "2023-12-06T20:09:36.383196Z",
     "shell.execute_reply": "2023-12-06T20:09:36.381688Z"
    },
    "papermill": {
     "duration": 1.879202,
     "end_time": "2023-12-06T20:09:36.387261",
     "exception": false,
     "start_time": "2023-12-06T20:09:34.508059",
     "status": "completed"
    },
    "tags": []
   },
   "outputs": [
    {
     "data": {
      "text/html": [
       "<style>#sk-container-id-1 {color: black;background-color: white;}#sk-container-id-1 pre{padding: 0;}#sk-container-id-1 div.sk-toggleable {background-color: white;}#sk-container-id-1 label.sk-toggleable__label {cursor: pointer;display: block;width: 100%;margin-bottom: 0;padding: 0.3em;box-sizing: border-box;text-align: center;}#sk-container-id-1 label.sk-toggleable__label-arrow:before {content: \"▸\";float: left;margin-right: 0.25em;color: #696969;}#sk-container-id-1 label.sk-toggleable__label-arrow:hover:before {color: black;}#sk-container-id-1 div.sk-estimator:hover label.sk-toggleable__label-arrow:before {color: black;}#sk-container-id-1 div.sk-toggleable__content {max-height: 0;max-width: 0;overflow: hidden;text-align: left;background-color: #f0f8ff;}#sk-container-id-1 div.sk-toggleable__content pre {margin: 0.2em;color: black;border-radius: 0.25em;background-color: #f0f8ff;}#sk-container-id-1 input.sk-toggleable__control:checked~div.sk-toggleable__content {max-height: 200px;max-width: 100%;overflow: auto;}#sk-container-id-1 input.sk-toggleable__control:checked~label.sk-toggleable__label-arrow:before {content: \"▾\";}#sk-container-id-1 div.sk-estimator input.sk-toggleable__control:checked~label.sk-toggleable__label {background-color: #d4ebff;}#sk-container-id-1 div.sk-label input.sk-toggleable__control:checked~label.sk-toggleable__label {background-color: #d4ebff;}#sk-container-id-1 input.sk-hidden--visually {border: 0;clip: rect(1px 1px 1px 1px);clip: rect(1px, 1px, 1px, 1px);height: 1px;margin: -1px;overflow: hidden;padding: 0;position: absolute;width: 1px;}#sk-container-id-1 div.sk-estimator {font-family: monospace;background-color: #f0f8ff;border: 1px dotted black;border-radius: 0.25em;box-sizing: border-box;margin-bottom: 0.5em;}#sk-container-id-1 div.sk-estimator:hover {background-color: #d4ebff;}#sk-container-id-1 div.sk-parallel-item::after {content: \"\";width: 100%;border-bottom: 1px solid gray;flex-grow: 1;}#sk-container-id-1 div.sk-label:hover label.sk-toggleable__label {background-color: #d4ebff;}#sk-container-id-1 div.sk-serial::before {content: \"\";position: absolute;border-left: 1px solid gray;box-sizing: border-box;top: 0;bottom: 0;left: 50%;z-index: 0;}#sk-container-id-1 div.sk-serial {display: flex;flex-direction: column;align-items: center;background-color: white;padding-right: 0.2em;padding-left: 0.2em;position: relative;}#sk-container-id-1 div.sk-item {position: relative;z-index: 1;}#sk-container-id-1 div.sk-parallel {display: flex;align-items: stretch;justify-content: center;background-color: white;position: relative;}#sk-container-id-1 div.sk-item::before, #sk-container-id-1 div.sk-parallel-item::before {content: \"\";position: absolute;border-left: 1px solid gray;box-sizing: border-box;top: 0;bottom: 0;left: 50%;z-index: -1;}#sk-container-id-1 div.sk-parallel-item {display: flex;flex-direction: column;z-index: 1;position: relative;background-color: white;}#sk-container-id-1 div.sk-parallel-item:first-child::after {align-self: flex-end;width: 50%;}#sk-container-id-1 div.sk-parallel-item:last-child::after {align-self: flex-start;width: 50%;}#sk-container-id-1 div.sk-parallel-item:only-child::after {width: 0;}#sk-container-id-1 div.sk-dashed-wrapped {border: 1px dashed gray;margin: 0 0.4em 0.5em 0.4em;box-sizing: border-box;padding-bottom: 0.4em;background-color: white;}#sk-container-id-1 div.sk-label label {font-family: monospace;font-weight: bold;display: inline-block;line-height: 1.2em;}#sk-container-id-1 div.sk-label-container {text-align: center;}#sk-container-id-1 div.sk-container {/* jupyter's `normalize.less` sets `[hidden] { display: none; }` but bootstrap.min.css set `[hidden] { display: none !important; }` so we also need the `!important` here to be able to override the default hidden behavior on the sphinx rendered scikit-learn.org. See: https://github.com/scikit-learn/scikit-learn/issues/21755 */display: inline-block !important;position: relative;}#sk-container-id-1 div.sk-text-repr-fallback {display: none;}</style><div id=\"sk-container-id-1\" class=\"sk-top-container\"><div class=\"sk-text-repr-fallback\"><pre>LogisticRegression(max_iter=10000)</pre><b>In a Jupyter environment, please rerun this cell to show the HTML representation or trust the notebook. <br />On GitHub, the HTML representation is unable to render, please try loading this page with nbviewer.org.</b></div><div class=\"sk-container\" hidden><div class=\"sk-item\"><div class=\"sk-estimator sk-toggleable\"><input class=\"sk-toggleable__control sk-hidden--visually\" id=\"sk-estimator-id-1\" type=\"checkbox\" checked><label for=\"sk-estimator-id-1\" class=\"sk-toggleable__label sk-toggleable__label-arrow\">LogisticRegression</label><div class=\"sk-toggleable__content\"><pre>LogisticRegression(max_iter=10000)</pre></div></div></div></div></div>"
      ],
      "text/plain": [
       "LogisticRegression(max_iter=10000)"
      ]
     },
     "execution_count": 18,
     "metadata": {},
     "output_type": "execute_result"
    }
   ],
   "source": [
    "from sklearn.linear_model import LogisticRegression\n",
    "logmodel = LogisticRegression(max_iter=10000)\n",
    "logmodel.fit(newTrain, train_trs)"
   ]
  },
  {
   "cell_type": "code",
   "execution_count": 19,
   "id": "5c37d9cf",
   "metadata": {
    "execution": {
     "iopub.execute_input": "2023-12-06T20:09:36.442181Z",
     "iopub.status.busy": "2023-12-06T20:09:36.441502Z",
     "iopub.status.idle": "2023-12-06T20:09:36.452040Z",
     "shell.execute_reply": "2023-12-06T20:09:36.450542Z"
    },
    "papermill": {
     "duration": 0.048084,
     "end_time": "2023-12-06T20:09:36.457824",
     "exception": false,
     "start_time": "2023-12-06T20:09:36.409740",
     "status": "completed"
    },
    "tags": []
   },
   "outputs": [],
   "source": [
    "# df_test['stSpenders'] = df_test[['RoomService', 'FoodCourt', 'ShoppingMall', 'Spa', 'VRDeck']].std(axis=1)\n",
    "# df_test = df_test.drop(columns=['RoomService', 'FoodCourt', 'ShoppingMall', 'Spa', 'VRDeck'])\n",
    "# df_test.head()"
   ]
  },
  {
   "cell_type": "code",
   "execution_count": 20,
   "id": "5e017d61",
   "metadata": {
    "execution": {
     "iopub.execute_input": "2023-12-06T20:09:36.498952Z",
     "iopub.status.busy": "2023-12-06T20:09:36.498433Z",
     "iopub.status.idle": "2023-12-06T20:09:36.508895Z",
     "shell.execute_reply": "2023-12-06T20:09:36.507746Z"
    },
    "papermill": {
     "duration": 0.031348,
     "end_time": "2023-12-06T20:09:36.512144",
     "exception": false,
     "start_time": "2023-12-06T20:09:36.480796",
     "status": "completed"
    },
    "tags": []
   },
   "outputs": [],
   "source": [
    " predictions = logmodel.predict(newTest)"
   ]
  },
  {
   "cell_type": "code",
   "execution_count": 21,
   "id": "cc1cfedc",
   "metadata": {
    "execution": {
     "iopub.execute_input": "2023-12-06T20:09:36.680065Z",
     "iopub.status.busy": "2023-12-06T20:09:36.679570Z",
     "iopub.status.idle": "2023-12-06T20:09:36.706712Z",
     "shell.execute_reply": "2023-12-06T20:09:36.705615Z"
    },
    "papermill": {
     "duration": 0.045309,
     "end_time": "2023-12-06T20:09:36.710026",
     "exception": false,
     "start_time": "2023-12-06T20:09:36.664717",
     "status": "completed"
    },
    "tags": []
   },
   "outputs": [
    {
     "data": {
      "text/html": [
       "<div>\n",
       "<style scoped>\n",
       "    .dataframe tbody tr th:only-of-type {\n",
       "        vertical-align: middle;\n",
       "    }\n",
       "\n",
       "    .dataframe tbody tr th {\n",
       "        vertical-align: top;\n",
       "    }\n",
       "\n",
       "    .dataframe thead th {\n",
       "        text-align: right;\n",
       "    }\n",
       "</style>\n",
       "<table border=\"1\" class=\"dataframe\">\n",
       "  <thead>\n",
       "    <tr style=\"text-align: right;\">\n",
       "      <th></th>\n",
       "      <th>PassengerId</th>\n",
       "      <th>Transported</th>\n",
       "    </tr>\n",
       "  </thead>\n",
       "  <tbody>\n",
       "    <tr>\n",
       "      <th>0</th>\n",
       "      <td>0013_01</td>\n",
       "      <td>True</td>\n",
       "    </tr>\n",
       "    <tr>\n",
       "      <th>1</th>\n",
       "      <td>0018_01</td>\n",
       "      <td>False</td>\n",
       "    </tr>\n",
       "    <tr>\n",
       "      <th>2</th>\n",
       "      <td>0019_01</td>\n",
       "      <td>True</td>\n",
       "    </tr>\n",
       "    <tr>\n",
       "      <th>3</th>\n",
       "      <td>0021_01</td>\n",
       "      <td>True</td>\n",
       "    </tr>\n",
       "    <tr>\n",
       "      <th>4</th>\n",
       "      <td>0023_01</td>\n",
       "      <td>True</td>\n",
       "    </tr>\n",
       "  </tbody>\n",
       "</table>\n",
       "</div>"
      ],
      "text/plain": [
       "  PassengerId  Transported\n",
       "0     0013_01         True\n",
       "1     0018_01        False\n",
       "2     0019_01         True\n",
       "3     0021_01         True\n",
       "4     0023_01         True"
      ]
     },
     "execution_count": 21,
     "metadata": {},
     "output_type": "execute_result"
    }
   ],
   "source": [
    "df_predictions = pd.DataFrame()\n",
    "df_predictions['PassengerId'] = pd.Series(test_ids.T.values)\n",
    "df_predictions['Transported'] = pd.Series(predictions)\n",
    "df_predictions.Transported = np.where(df_predictions.Transported==1,True,False)\n",
    "df_predictions.to_csv(\"15thAttempt.csv\", sep=',', index=False)\n",
    "df_predictions.head()"
   ]
  },
  {
   "cell_type": "markdown",
   "id": "1fd3884d",
   "metadata": {
    "papermill": {
     "duration": 0.014546,
     "end_time": "2023-12-06T20:09:36.738492",
     "exception": false,
     "start_time": "2023-12-06T20:09:36.723946",
     "status": "completed"
    },
    "tags": []
   },
   "source": [
    "In this report, the 'Precision' column tells us the proportion of positive identifications (i.e., the passenger was transported) that were actually correct. The 'Recall' column tells us the proportion of actual positives that were identified correctly. The 'F1-score' is a function of Precision and Recall and gives a balanced measure of the model's performance.\n",
    "\n",
    "Remember, this is a basic model. Depending on the performance of the model, you might need to consider more advanced techniques such as handling class imbalance, feature engineering, or using a more complex model."
   ]
  }
 ],
 "metadata": {
  "kaggle": {
   "accelerator": "none",
   "dataSources": [
    {
     "databundleVersionId": 3220602,
     "sourceId": 34377,
     "sourceType": "competition"
    }
   ],
   "dockerImageVersionId": 30558,
   "isGpuEnabled": false,
   "isInternetEnabled": false,
   "language": "python",
   "sourceType": "notebook"
  },
  "kernelspec": {
   "display_name": "Python 3",
   "language": "python",
   "name": "python3"
  },
  "language_info": {
   "codemirror_mode": {
    "name": "ipython",
    "version": 3
   },
   "file_extension": ".py",
   "mimetype": "text/x-python",
   "name": "python",
   "nbconvert_exporter": "python",
   "pygments_lexer": "ipython3",
   "version": "3.10.12"
  },
  "papermill": {
   "default_parameters": {},
   "duration": 13.096356,
   "end_time": "2023-12-06T20:09:37.579103",
   "environment_variables": {},
   "exception": null,
   "input_path": "__notebook__.ipynb",
   "output_path": "__notebook__.ipynb",
   "parameters": {},
   "start_time": "2023-12-06T20:09:24.482747",
   "version": "2.4.0"
  }
 },
 "nbformat": 4,
 "nbformat_minor": 5
}
