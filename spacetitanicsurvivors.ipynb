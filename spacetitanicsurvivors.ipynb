{
 "cells": [
  {
   "cell_type": "code",
   "execution_count": 1,
   "id": "5e15beb5",
   "metadata": {
    "_cell_guid": "b1076dfc-b9ad-4769-8c92-a6c4dae69d19",
    "_uuid": "8f2839f25d086af736a60e9eeb907d3b93b6e0e5",
    "execution": {
     "iopub.execute_input": "2023-11-21T08:24:57.875122Z",
     "iopub.status.busy": "2023-11-21T08:24:57.874308Z",
     "iopub.status.idle": "2023-11-21T08:24:58.765864Z",
     "shell.execute_reply": "2023-11-21T08:24:58.765023Z"
    },
    "papermill": {
     "duration": 0.916569,
     "end_time": "2023-11-21T08:24:58.768469",
     "exception": false,
     "start_time": "2023-11-21T08:24:57.851900",
     "status": "completed"
    },
    "tags": []
   },
   "outputs": [
    {
     "name": "stdout",
     "output_type": "stream",
     "text": [
      "/kaggle/input/spaceship-titanic/sample_submission.csv\n",
      "/kaggle/input/spaceship-titanic/train.csv\n",
      "/kaggle/input/spaceship-titanic/test.csv\n"
     ]
    }
   ],
   "source": [
    "# This Python 3 environment comes with many helpful analytics libraries installed\n",
    "# It is defined by the kaggle/python Docker image: https://github.com/kaggle/docker-python\n",
    "# For example, here's several helpful packages to load\n",
    "\n",
    "import numpy as np # linear algebra\n",
    "import pandas as pd # data processing, CSV file I/O (e.g. pd.read_csv)\n",
    "\n",
    "# Input data files are available in the read-only \"../input/\" directory\n",
    "# For example, running this (by clicking run or pressing Shift+Enter) will list all files under the input directory\n",
    "\n",
    "import os\n",
    "for dirname, _, filenames in os.walk('/kaggle/input'):\n",
    "    for filename in filenames:\n",
    "        print(os.path.join(dirname, filename))\n",
    "\n",
    "# You can write up to 20GB to the current directory (/kaggle/working/) that gets preserved as output when you create a version using \"Save & Run All\" \n",
    "# You can also write temporary files to /kaggle/temp/, but they won't be saved outside of the current session"
   ]
  },
  {
   "cell_type": "markdown",
   "id": "da5fe7ab",
   "metadata": {
    "papermill": {
     "duration": 0.019479,
     "end_time": "2023-11-21T08:24:58.808678",
     "exception": false,
     "start_time": "2023-11-21T08:24:58.789199",
     "status": "completed"
    },
    "tags": []
   },
   "source": [
    "# > ****File and Data Field Descriptions\n",
    "\n",
    "train.csv - Personal records for about two-thirds (~8700) of the passengers, to be used as training data.\n",
    "PassengerId - A unique Id for each passenger. Each Id takes the form gggg_pp where gggg indicates a group the passenger is travelling with and pp is their number within the group. People in a group are often family members, but not always.\n",
    "HomePlanet - The planet the passenger departed from, typically their planet of permanent residence.\n",
    "CryoSleep - Indicates whether the passenger elected to be put into suspended animation for the duration of the voyage. Passengers in cryosleep are confined to their cabins.\n",
    "Cabin - The cabin number where the passenger is staying. Takes the form deck/num/side, where side can be either P for Port or S for Starboard.\n",
    "Destination - The planet the passenger will be debarking to.\n",
    "Age - The age of the passenger.\n",
    "VIP - Whether the passenger has paid for special VIP service during the voyage.\n",
    "RoomService, FoodCourt, ShoppingMall, Spa, VRDeck - Amount the passenger has billed at each of the Spaceship Titanic's many luxury amenities.\n",
    "Name - The first and last names of the passenger.\n",
    "Transported - Whether the passenger was transported to another dimension. This is the target, the column you are trying to predict.\n",
    "test.csv - Personal records for the remaining one-third (~4300) of the passengers, to be used as test data. Your task is to predict the value of Transported for the passengers in this set.\n",
    "sample_submission.csv - A submission file in the correct format.\n",
    "PassengerId - Id for each passenger in the test set.\n",
    "Transported - The target. For each passenger, predict either True or False."
   ]
  },
  {
   "cell_type": "code",
   "execution_count": 2,
   "id": "876508ac",
   "metadata": {
    "execution": {
     "iopub.execute_input": "2023-11-21T08:24:58.851156Z",
     "iopub.status.busy": "2023-11-21T08:24:58.849878Z",
     "iopub.status.idle": "2023-11-21T08:24:58.953954Z",
     "shell.execute_reply": "2023-11-21T08:24:58.952680Z"
    },
    "papermill": {
     "duration": 0.128181,
     "end_time": "2023-11-21T08:24:58.956732",
     "exception": false,
     "start_time": "2023-11-21T08:24:58.828551",
     "status": "completed"
    },
    "tags": []
   },
   "outputs": [
    {
     "data": {
      "text/html": [
       "<div>\n",
       "<style scoped>\n",
       "    .dataframe tbody tr th:only-of-type {\n",
       "        vertical-align: middle;\n",
       "    }\n",
       "\n",
       "    .dataframe tbody tr th {\n",
       "        vertical-align: top;\n",
       "    }\n",
       "\n",
       "    .dataframe thead th {\n",
       "        text-align: right;\n",
       "    }\n",
       "</style>\n",
       "<table border=\"1\" class=\"dataframe\">\n",
       "  <thead>\n",
       "    <tr style=\"text-align: right;\">\n",
       "      <th></th>\n",
       "      <th>PassengerId</th>\n",
       "      <th>HomePlanet</th>\n",
       "      <th>CryoSleep</th>\n",
       "      <th>Cabin</th>\n",
       "      <th>Destination</th>\n",
       "      <th>Age</th>\n",
       "      <th>VIP</th>\n",
       "      <th>RoomService</th>\n",
       "      <th>FoodCourt</th>\n",
       "      <th>ShoppingMall</th>\n",
       "      <th>Spa</th>\n",
       "      <th>VRDeck</th>\n",
       "      <th>Name</th>\n",
       "      <th>Transported</th>\n",
       "    </tr>\n",
       "  </thead>\n",
       "  <tbody>\n",
       "    <tr>\n",
       "      <th>0</th>\n",
       "      <td>0001_01</td>\n",
       "      <td>Europa</td>\n",
       "      <td>False</td>\n",
       "      <td>B/0/P</td>\n",
       "      <td>TRAPPIST-1e</td>\n",
       "      <td>39.0</td>\n",
       "      <td>False</td>\n",
       "      <td>0.0</td>\n",
       "      <td>0.0</td>\n",
       "      <td>0.0</td>\n",
       "      <td>0.0</td>\n",
       "      <td>0.0</td>\n",
       "      <td>Maham Ofracculy</td>\n",
       "      <td>False</td>\n",
       "    </tr>\n",
       "    <tr>\n",
       "      <th>1</th>\n",
       "      <td>0002_01</td>\n",
       "      <td>Earth</td>\n",
       "      <td>False</td>\n",
       "      <td>F/0/S</td>\n",
       "      <td>TRAPPIST-1e</td>\n",
       "      <td>24.0</td>\n",
       "      <td>False</td>\n",
       "      <td>109.0</td>\n",
       "      <td>9.0</td>\n",
       "      <td>25.0</td>\n",
       "      <td>549.0</td>\n",
       "      <td>44.0</td>\n",
       "      <td>Juanna Vines</td>\n",
       "      <td>True</td>\n",
       "    </tr>\n",
       "    <tr>\n",
       "      <th>2</th>\n",
       "      <td>0003_01</td>\n",
       "      <td>Europa</td>\n",
       "      <td>False</td>\n",
       "      <td>A/0/S</td>\n",
       "      <td>TRAPPIST-1e</td>\n",
       "      <td>58.0</td>\n",
       "      <td>True</td>\n",
       "      <td>43.0</td>\n",
       "      <td>3576.0</td>\n",
       "      <td>0.0</td>\n",
       "      <td>6715.0</td>\n",
       "      <td>49.0</td>\n",
       "      <td>Altark Susent</td>\n",
       "      <td>False</td>\n",
       "    </tr>\n",
       "    <tr>\n",
       "      <th>3</th>\n",
       "      <td>0003_02</td>\n",
       "      <td>Europa</td>\n",
       "      <td>False</td>\n",
       "      <td>A/0/S</td>\n",
       "      <td>TRAPPIST-1e</td>\n",
       "      <td>33.0</td>\n",
       "      <td>False</td>\n",
       "      <td>0.0</td>\n",
       "      <td>1283.0</td>\n",
       "      <td>371.0</td>\n",
       "      <td>3329.0</td>\n",
       "      <td>193.0</td>\n",
       "      <td>Solam Susent</td>\n",
       "      <td>False</td>\n",
       "    </tr>\n",
       "    <tr>\n",
       "      <th>4</th>\n",
       "      <td>0004_01</td>\n",
       "      <td>Earth</td>\n",
       "      <td>False</td>\n",
       "      <td>F/1/S</td>\n",
       "      <td>TRAPPIST-1e</td>\n",
       "      <td>16.0</td>\n",
       "      <td>False</td>\n",
       "      <td>303.0</td>\n",
       "      <td>70.0</td>\n",
       "      <td>151.0</td>\n",
       "      <td>565.0</td>\n",
       "      <td>2.0</td>\n",
       "      <td>Willy Santantines</td>\n",
       "      <td>True</td>\n",
       "    </tr>\n",
       "  </tbody>\n",
       "</table>\n",
       "</div>"
      ],
      "text/plain": [
       "  PassengerId HomePlanet CryoSleep  Cabin  Destination   Age    VIP  \\\n",
       "0     0001_01     Europa     False  B/0/P  TRAPPIST-1e  39.0  False   \n",
       "1     0002_01      Earth     False  F/0/S  TRAPPIST-1e  24.0  False   \n",
       "2     0003_01     Europa     False  A/0/S  TRAPPIST-1e  58.0   True   \n",
       "3     0003_02     Europa     False  A/0/S  TRAPPIST-1e  33.0  False   \n",
       "4     0004_01      Earth     False  F/1/S  TRAPPIST-1e  16.0  False   \n",
       "\n",
       "   RoomService  FoodCourt  ShoppingMall     Spa  VRDeck               Name  \\\n",
       "0          0.0        0.0           0.0     0.0     0.0    Maham Ofracculy   \n",
       "1        109.0        9.0          25.0   549.0    44.0       Juanna Vines   \n",
       "2         43.0     3576.0           0.0  6715.0    49.0      Altark Susent   \n",
       "3          0.0     1283.0         371.0  3329.0   193.0       Solam Susent   \n",
       "4        303.0       70.0         151.0   565.0     2.0  Willy Santantines   \n",
       "\n",
       "   Transported  \n",
       "0        False  \n",
       "1         True  \n",
       "2        False  \n",
       "3        False  \n",
       "4         True  "
      ]
     },
     "execution_count": 2,
     "metadata": {},
     "output_type": "execute_result"
    }
   ],
   "source": [
    "df = pd.read_csv(\"/kaggle/input/spaceship-titanic/train.csv\")\n",
    "df.head()"
   ]
  },
  {
   "cell_type": "code",
   "execution_count": 3,
   "id": "28457360",
   "metadata": {
    "execution": {
     "iopub.execute_input": "2023-11-21T08:24:58.999937Z",
     "iopub.status.busy": "2023-11-21T08:24:58.999494Z",
     "iopub.status.idle": "2023-11-21T08:24:59.010033Z",
     "shell.execute_reply": "2023-11-21T08:24:59.008505Z"
    },
    "papermill": {
     "duration": 0.034869,
     "end_time": "2023-11-21T08:24:59.012429",
     "exception": false,
     "start_time": "2023-11-21T08:24:58.977560",
     "status": "completed"
    },
    "tags": []
   },
   "outputs": [
    {
     "data": {
      "text/plain": [
       "217"
      ]
     },
     "execution_count": 3,
     "metadata": {},
     "output_type": "execute_result"
    }
   ],
   "source": [
    "sum(df['CryoSleep'].isna())"
   ]
  },
  {
   "cell_type": "code",
   "execution_count": 4,
   "id": "70f48e30",
   "metadata": {
    "execution": {
     "iopub.execute_input": "2023-11-21T08:24:59.055856Z",
     "iopub.status.busy": "2023-11-21T08:24:59.055419Z",
     "iopub.status.idle": "2023-11-21T08:24:59.072427Z",
     "shell.execute_reply": "2023-11-21T08:24:59.071156Z"
    },
    "papermill": {
     "duration": 0.042136,
     "end_time": "2023-11-21T08:24:59.075023",
     "exception": false,
     "start_time": "2023-11-21T08:24:59.032887",
     "status": "completed"
    },
    "tags": []
   },
   "outputs": [],
   "source": [
    "df['CryoSleep'] = df['CryoSleep'].replace({True: 1, False: 0})\n"
   ]
  },
  {
   "cell_type": "code",
   "execution_count": 5,
   "id": "5b8678ac",
   "metadata": {
    "execution": {
     "iopub.execute_input": "2023-11-21T08:24:59.118139Z",
     "iopub.status.busy": "2023-11-21T08:24:59.117642Z",
     "iopub.status.idle": "2023-11-21T08:24:59.131974Z",
     "shell.execute_reply": "2023-11-21T08:24:59.130760Z"
    },
    "papermill": {
     "duration": 0.039166,
     "end_time": "2023-11-21T08:24:59.134476",
     "exception": false,
     "start_time": "2023-11-21T08:24:59.095310",
     "status": "completed"
    },
    "tags": []
   },
   "outputs": [],
   "source": [
    "df['Transported'] = df['Transported'].replace({True: 1, False: 0})\n"
   ]
  },
  {
   "cell_type": "code",
   "execution_count": 6,
   "id": "4a5cbf7d",
   "metadata": {
    "execution": {
     "iopub.execute_input": "2023-11-21T08:24:59.178832Z",
     "iopub.status.busy": "2023-11-21T08:24:59.178441Z",
     "iopub.status.idle": "2023-11-21T08:24:59.182604Z",
     "shell.execute_reply": "2023-11-21T08:24:59.181505Z"
    },
    "papermill": {
     "duration": 0.02829,
     "end_time": "2023-11-21T08:24:59.184708",
     "exception": false,
     "start_time": "2023-11-21T08:24:59.156418",
     "status": "completed"
    },
    "tags": []
   },
   "outputs": [],
   "source": [
    "#set([i.split(\"/\")[2] for i in df.Cabin.values if type(i)!=float])\n",
    "#sorted([int(i.split(\"/\")[1]) for i in df.Cabin.values if type(i)!=float])[::-1]"
   ]
  },
  {
   "cell_type": "markdown",
   "id": "2fef866f",
   "metadata": {
    "papermill": {
     "duration": 0.020497,
     "end_time": "2023-11-21T08:24:59.226175",
     "exception": false,
     "start_time": "2023-11-21T08:24:59.205678",
     "status": "completed"
    },
    "tags": []
   },
   "source": []
  },
  {
   "cell_type": "markdown",
   "id": "1f26523d",
   "metadata": {
    "papermill": {
     "duration": 0.019829,
     "end_time": "2023-11-21T08:24:59.266269",
     "exception": false,
     "start_time": "2023-11-21T08:24:59.246440",
     "status": "completed"
    },
    "tags": []
   },
   "source": [
    "HomePlanet: {'Earth', 'Europa', 'Mars', nan}\n",
    "{1,2,3,4}"
   ]
  },
  {
   "cell_type": "code",
   "execution_count": 7,
   "id": "5c7d0436",
   "metadata": {
    "execution": {
     "iopub.execute_input": "2023-11-21T08:24:59.309606Z",
     "iopub.status.busy": "2023-11-21T08:24:59.309205Z",
     "iopub.status.idle": "2023-11-21T08:24:59.318287Z",
     "shell.execute_reply": "2023-11-21T08:24:59.317111Z"
    },
    "papermill": {
     "duration": 0.03436,
     "end_time": "2023-11-21T08:24:59.321885",
     "exception": false,
     "start_time": "2023-11-21T08:24:59.287525",
     "status": "completed"
    },
    "tags": []
   },
   "outputs": [
    {
     "data": {
      "text/plain": [
       "{'Earth', 'Europa', 'Mars', nan}"
      ]
     },
     "execution_count": 7,
     "metadata": {},
     "output_type": "execute_result"
    }
   ],
   "source": [
    "set(df['HomePlanet'])"
   ]
  },
  {
   "cell_type": "code",
   "execution_count": 8,
   "id": "caca1ee2",
   "metadata": {
    "execution": {
     "iopub.execute_input": "2023-11-21T08:24:59.373631Z",
     "iopub.status.busy": "2023-11-21T08:24:59.373190Z",
     "iopub.status.idle": "2023-11-21T08:24:59.413647Z",
     "shell.execute_reply": "2023-11-21T08:24:59.411955Z"
    },
    "papermill": {
     "duration": 0.072365,
     "end_time": "2023-11-21T08:24:59.416154",
     "exception": false,
     "start_time": "2023-11-21T08:24:59.343789",
     "status": "completed"
    },
    "tags": []
   },
   "outputs": [
    {
     "data": {
      "text/html": [
       "<div>\n",
       "<style scoped>\n",
       "    .dataframe tbody tr th:only-of-type {\n",
       "        vertical-align: middle;\n",
       "    }\n",
       "\n",
       "    .dataframe tbody tr th {\n",
       "        vertical-align: top;\n",
       "    }\n",
       "\n",
       "    .dataframe thead th {\n",
       "        text-align: right;\n",
       "    }\n",
       "</style>\n",
       "<table border=\"1\" class=\"dataframe\">\n",
       "  <thead>\n",
       "    <tr style=\"text-align: right;\">\n",
       "      <th></th>\n",
       "      <th>PassengerId</th>\n",
       "      <th>HomePlanet</th>\n",
       "      <th>CryoSleep</th>\n",
       "      <th>Cabin</th>\n",
       "      <th>Destination</th>\n",
       "      <th>Age</th>\n",
       "      <th>VIP</th>\n",
       "      <th>RoomService</th>\n",
       "      <th>FoodCourt</th>\n",
       "      <th>ShoppingMall</th>\n",
       "      <th>Spa</th>\n",
       "      <th>VRDeck</th>\n",
       "      <th>Name</th>\n",
       "      <th>Transported</th>\n",
       "    </tr>\n",
       "  </thead>\n",
       "  <tbody>\n",
       "    <tr>\n",
       "      <th>0</th>\n",
       "      <td>0001_01</td>\n",
       "      <td>2.0</td>\n",
       "      <td>0.0</td>\n",
       "      <td>B/0/P</td>\n",
       "      <td>TRAPPIST-1e</td>\n",
       "      <td>39.0</td>\n",
       "      <td>False</td>\n",
       "      <td>0.0</td>\n",
       "      <td>0.0</td>\n",
       "      <td>0.0</td>\n",
       "      <td>0.0</td>\n",
       "      <td>0.0</td>\n",
       "      <td>Maham Ofracculy</td>\n",
       "      <td>0</td>\n",
       "    </tr>\n",
       "    <tr>\n",
       "      <th>1</th>\n",
       "      <td>0002_01</td>\n",
       "      <td>1.0</td>\n",
       "      <td>0.0</td>\n",
       "      <td>F/0/S</td>\n",
       "      <td>TRAPPIST-1e</td>\n",
       "      <td>24.0</td>\n",
       "      <td>False</td>\n",
       "      <td>109.0</td>\n",
       "      <td>9.0</td>\n",
       "      <td>25.0</td>\n",
       "      <td>549.0</td>\n",
       "      <td>44.0</td>\n",
       "      <td>Juanna Vines</td>\n",
       "      <td>1</td>\n",
       "    </tr>\n",
       "    <tr>\n",
       "      <th>2</th>\n",
       "      <td>0003_01</td>\n",
       "      <td>2.0</td>\n",
       "      <td>0.0</td>\n",
       "      <td>A/0/S</td>\n",
       "      <td>TRAPPIST-1e</td>\n",
       "      <td>58.0</td>\n",
       "      <td>True</td>\n",
       "      <td>43.0</td>\n",
       "      <td>3576.0</td>\n",
       "      <td>0.0</td>\n",
       "      <td>6715.0</td>\n",
       "      <td>49.0</td>\n",
       "      <td>Altark Susent</td>\n",
       "      <td>0</td>\n",
       "    </tr>\n",
       "    <tr>\n",
       "      <th>3</th>\n",
       "      <td>0003_02</td>\n",
       "      <td>2.0</td>\n",
       "      <td>0.0</td>\n",
       "      <td>A/0/S</td>\n",
       "      <td>TRAPPIST-1e</td>\n",
       "      <td>33.0</td>\n",
       "      <td>False</td>\n",
       "      <td>0.0</td>\n",
       "      <td>1283.0</td>\n",
       "      <td>371.0</td>\n",
       "      <td>3329.0</td>\n",
       "      <td>193.0</td>\n",
       "      <td>Solam Susent</td>\n",
       "      <td>0</td>\n",
       "    </tr>\n",
       "    <tr>\n",
       "      <th>4</th>\n",
       "      <td>0004_01</td>\n",
       "      <td>1.0</td>\n",
       "      <td>0.0</td>\n",
       "      <td>F/1/S</td>\n",
       "      <td>TRAPPIST-1e</td>\n",
       "      <td>16.0</td>\n",
       "      <td>False</td>\n",
       "      <td>303.0</td>\n",
       "      <td>70.0</td>\n",
       "      <td>151.0</td>\n",
       "      <td>565.0</td>\n",
       "      <td>2.0</td>\n",
       "      <td>Willy Santantines</td>\n",
       "      <td>1</td>\n",
       "    </tr>\n",
       "  </tbody>\n",
       "</table>\n",
       "</div>"
      ],
      "text/plain": [
       "  PassengerId  HomePlanet  CryoSleep  Cabin  Destination   Age    VIP  \\\n",
       "0     0001_01         2.0        0.0  B/0/P  TRAPPIST-1e  39.0  False   \n",
       "1     0002_01         1.0        0.0  F/0/S  TRAPPIST-1e  24.0  False   \n",
       "2     0003_01         2.0        0.0  A/0/S  TRAPPIST-1e  58.0   True   \n",
       "3     0003_02         2.0        0.0  A/0/S  TRAPPIST-1e  33.0  False   \n",
       "4     0004_01         1.0        0.0  F/1/S  TRAPPIST-1e  16.0  False   \n",
       "\n",
       "   RoomService  FoodCourt  ShoppingMall     Spa  VRDeck               Name  \\\n",
       "0          0.0        0.0           0.0     0.0     0.0    Maham Ofracculy   \n",
       "1        109.0        9.0          25.0   549.0    44.0       Juanna Vines   \n",
       "2         43.0     3576.0           0.0  6715.0    49.0      Altark Susent   \n",
       "3          0.0     1283.0         371.0  3329.0   193.0       Solam Susent   \n",
       "4        303.0       70.0         151.0   565.0     2.0  Willy Santantines   \n",
       "\n",
       "   Transported  \n",
       "0            0  \n",
       "1            1  \n",
       "2            0  \n",
       "3            0  \n",
       "4            1  "
      ]
     },
     "execution_count": 8,
     "metadata": {},
     "output_type": "execute_result"
    }
   ],
   "source": [
    "df['HomePlanet'].replace('Earth', 1, inplace=True)\n",
    "df['HomePlanet'].replace('Europa', 2, inplace=True)\n",
    "df['HomePlanet'].replace('Mars', 3, inplace=True)\n",
    "df.head()"
   ]
  },
  {
   "cell_type": "markdown",
   "id": "48405f4f",
   "metadata": {
    "papermill": {
     "duration": 0.020707,
     "end_time": "2023-11-21T08:24:59.529413",
     "exception": false,
     "start_time": "2023-11-21T08:24:59.508706",
     "status": "completed"
    },
    "tags": []
   },
   "source": [
    "Destination: {'55 Cancri e', 'PSO J318.5-22', 'TRAPPIST-1e', nan}\n",
    "{1,2,3,4}"
   ]
  },
  {
   "cell_type": "code",
   "execution_count": 9,
   "id": "b798cf08",
   "metadata": {
    "execution": {
     "iopub.execute_input": "2023-11-21T08:24:59.580498Z",
     "iopub.status.busy": "2023-11-21T08:24:59.579616Z",
     "iopub.status.idle": "2023-11-21T08:24:59.589395Z",
     "shell.execute_reply": "2023-11-21T08:24:59.588291Z"
    },
    "papermill": {
     "duration": 0.039478,
     "end_time": "2023-11-21T08:24:59.591746",
     "exception": false,
     "start_time": "2023-11-21T08:24:59.552268",
     "status": "completed"
    },
    "tags": []
   },
   "outputs": [
    {
     "data": {
      "text/plain": [
       "{'55 Cancri e', 'PSO J318.5-22', 'TRAPPIST-1e', nan}"
      ]
     },
     "execution_count": 9,
     "metadata": {},
     "output_type": "execute_result"
    }
   ],
   "source": [
    "set(df['Destination'])"
   ]
  },
  {
   "cell_type": "code",
   "execution_count": 10,
   "id": "c5ff5fb2",
   "metadata": {
    "execution": {
     "iopub.execute_input": "2023-11-21T08:24:59.638561Z",
     "iopub.status.busy": "2023-11-21T08:24:59.637700Z",
     "iopub.status.idle": "2023-11-21T08:24:59.676079Z",
     "shell.execute_reply": "2023-11-21T08:24:59.675260Z"
    },
    "papermill": {
     "duration": 0.064647,
     "end_time": "2023-11-21T08:24:59.678905",
     "exception": false,
     "start_time": "2023-11-21T08:24:59.614258",
     "status": "completed"
    },
    "tags": []
   },
   "outputs": [
    {
     "data": {
      "text/html": [
       "<div>\n",
       "<style scoped>\n",
       "    .dataframe tbody tr th:only-of-type {\n",
       "        vertical-align: middle;\n",
       "    }\n",
       "\n",
       "    .dataframe tbody tr th {\n",
       "        vertical-align: top;\n",
       "    }\n",
       "\n",
       "    .dataframe thead th {\n",
       "        text-align: right;\n",
       "    }\n",
       "</style>\n",
       "<table border=\"1\" class=\"dataframe\">\n",
       "  <thead>\n",
       "    <tr style=\"text-align: right;\">\n",
       "      <th></th>\n",
       "      <th>PassengerId</th>\n",
       "      <th>HomePlanet</th>\n",
       "      <th>CryoSleep</th>\n",
       "      <th>Cabin</th>\n",
       "      <th>Destination</th>\n",
       "      <th>Age</th>\n",
       "      <th>VIP</th>\n",
       "      <th>RoomService</th>\n",
       "      <th>FoodCourt</th>\n",
       "      <th>ShoppingMall</th>\n",
       "      <th>Spa</th>\n",
       "      <th>VRDeck</th>\n",
       "      <th>Name</th>\n",
       "      <th>Transported</th>\n",
       "    </tr>\n",
       "  </thead>\n",
       "  <tbody>\n",
       "    <tr>\n",
       "      <th>0</th>\n",
       "      <td>0001_01</td>\n",
       "      <td>2.0</td>\n",
       "      <td>0.0</td>\n",
       "      <td>B/0/P</td>\n",
       "      <td>3.0</td>\n",
       "      <td>39.0</td>\n",
       "      <td>False</td>\n",
       "      <td>0.0</td>\n",
       "      <td>0.0</td>\n",
       "      <td>0.0</td>\n",
       "      <td>0.0</td>\n",
       "      <td>0.0</td>\n",
       "      <td>Maham Ofracculy</td>\n",
       "      <td>0</td>\n",
       "    </tr>\n",
       "    <tr>\n",
       "      <th>1</th>\n",
       "      <td>0002_01</td>\n",
       "      <td>1.0</td>\n",
       "      <td>0.0</td>\n",
       "      <td>F/0/S</td>\n",
       "      <td>3.0</td>\n",
       "      <td>24.0</td>\n",
       "      <td>False</td>\n",
       "      <td>109.0</td>\n",
       "      <td>9.0</td>\n",
       "      <td>25.0</td>\n",
       "      <td>549.0</td>\n",
       "      <td>44.0</td>\n",
       "      <td>Juanna Vines</td>\n",
       "      <td>1</td>\n",
       "    </tr>\n",
       "    <tr>\n",
       "      <th>2</th>\n",
       "      <td>0003_01</td>\n",
       "      <td>2.0</td>\n",
       "      <td>0.0</td>\n",
       "      <td>A/0/S</td>\n",
       "      <td>3.0</td>\n",
       "      <td>58.0</td>\n",
       "      <td>True</td>\n",
       "      <td>43.0</td>\n",
       "      <td>3576.0</td>\n",
       "      <td>0.0</td>\n",
       "      <td>6715.0</td>\n",
       "      <td>49.0</td>\n",
       "      <td>Altark Susent</td>\n",
       "      <td>0</td>\n",
       "    </tr>\n",
       "  </tbody>\n",
       "</table>\n",
       "</div>"
      ],
      "text/plain": [
       "  PassengerId  HomePlanet  CryoSleep  Cabin  Destination   Age    VIP  \\\n",
       "0     0001_01         2.0        0.0  B/0/P          3.0  39.0  False   \n",
       "1     0002_01         1.0        0.0  F/0/S          3.0  24.0  False   \n",
       "2     0003_01         2.0        0.0  A/0/S          3.0  58.0   True   \n",
       "\n",
       "   RoomService  FoodCourt  ShoppingMall     Spa  VRDeck             Name  \\\n",
       "0          0.0        0.0           0.0     0.0     0.0  Maham Ofracculy   \n",
       "1        109.0        9.0          25.0   549.0    44.0     Juanna Vines   \n",
       "2         43.0     3576.0           0.0  6715.0    49.0    Altark Susent   \n",
       "\n",
       "   Transported  \n",
       "0            0  \n",
       "1            1  \n",
       "2            0  "
      ]
     },
     "execution_count": 10,
     "metadata": {},
     "output_type": "execute_result"
    }
   ],
   "source": [
    "df['Destination'].replace('55 Cancri e', 1, inplace=True)\n",
    "df['Destination'].replace('PSO J318.5-22', 2, inplace=True)\n",
    "df['Destination'].replace('TRAPPIST-1e', 3, inplace=True)\n",
    "df.head(3)"
   ]
  },
  {
   "cell_type": "code",
   "execution_count": 11,
   "id": "dc74f0a9",
   "metadata": {
    "execution": {
     "iopub.execute_input": "2023-11-21T08:24:59.728141Z",
     "iopub.status.busy": "2023-11-21T08:24:59.727169Z",
     "iopub.status.idle": "2023-11-21T08:24:59.767712Z",
     "shell.execute_reply": "2023-11-21T08:24:59.766482Z"
    },
    "papermill": {
     "duration": 0.067928,
     "end_time": "2023-11-21T08:24:59.771587",
     "exception": false,
     "start_time": "2023-11-21T08:24:59.703659",
     "status": "completed"
    },
    "tags": []
   },
   "outputs": [
    {
     "data": {
      "text/html": [
       "<div>\n",
       "<style scoped>\n",
       "    .dataframe tbody tr th:only-of-type {\n",
       "        vertical-align: middle;\n",
       "    }\n",
       "\n",
       "    .dataframe tbody tr th {\n",
       "        vertical-align: top;\n",
       "    }\n",
       "\n",
       "    .dataframe thead th {\n",
       "        text-align: right;\n",
       "    }\n",
       "</style>\n",
       "<table border=\"1\" class=\"dataframe\">\n",
       "  <thead>\n",
       "    <tr style=\"text-align: right;\">\n",
       "      <th></th>\n",
       "      <th>PassengerId</th>\n",
       "      <th>HomePlanet</th>\n",
       "      <th>CryoSleep</th>\n",
       "      <th>Cabin</th>\n",
       "      <th>Destination</th>\n",
       "      <th>Age</th>\n",
       "      <th>VIP</th>\n",
       "      <th>RoomService</th>\n",
       "      <th>FoodCourt</th>\n",
       "      <th>ShoppingMall</th>\n",
       "      <th>Spa</th>\n",
       "      <th>VRDeck</th>\n",
       "      <th>Name</th>\n",
       "      <th>Transported</th>\n",
       "    </tr>\n",
       "  </thead>\n",
       "  <tbody>\n",
       "    <tr>\n",
       "      <th>0</th>\n",
       "      <td>0001_01</td>\n",
       "      <td>2.0</td>\n",
       "      <td>0.0</td>\n",
       "      <td>B/0/P</td>\n",
       "      <td>3.0</td>\n",
       "      <td>39.0</td>\n",
       "      <td>0.0</td>\n",
       "      <td>0.0</td>\n",
       "      <td>0.0</td>\n",
       "      <td>0.0</td>\n",
       "      <td>0.0</td>\n",
       "      <td>0.0</td>\n",
       "      <td>Maham Ofracculy</td>\n",
       "      <td>0</td>\n",
       "    </tr>\n",
       "    <tr>\n",
       "      <th>1</th>\n",
       "      <td>0002_01</td>\n",
       "      <td>1.0</td>\n",
       "      <td>0.0</td>\n",
       "      <td>F/0/S</td>\n",
       "      <td>3.0</td>\n",
       "      <td>24.0</td>\n",
       "      <td>0.0</td>\n",
       "      <td>109.0</td>\n",
       "      <td>9.0</td>\n",
       "      <td>25.0</td>\n",
       "      <td>549.0</td>\n",
       "      <td>44.0</td>\n",
       "      <td>Juanna Vines</td>\n",
       "      <td>1</td>\n",
       "    </tr>\n",
       "    <tr>\n",
       "      <th>2</th>\n",
       "      <td>0003_01</td>\n",
       "      <td>2.0</td>\n",
       "      <td>0.0</td>\n",
       "      <td>A/0/S</td>\n",
       "      <td>3.0</td>\n",
       "      <td>58.0</td>\n",
       "      <td>1.0</td>\n",
       "      <td>43.0</td>\n",
       "      <td>3576.0</td>\n",
       "      <td>0.0</td>\n",
       "      <td>6715.0</td>\n",
       "      <td>49.0</td>\n",
       "      <td>Altark Susent</td>\n",
       "      <td>0</td>\n",
       "    </tr>\n",
       "    <tr>\n",
       "      <th>3</th>\n",
       "      <td>0003_02</td>\n",
       "      <td>2.0</td>\n",
       "      <td>0.0</td>\n",
       "      <td>A/0/S</td>\n",
       "      <td>3.0</td>\n",
       "      <td>33.0</td>\n",
       "      <td>0.0</td>\n",
       "      <td>0.0</td>\n",
       "      <td>1283.0</td>\n",
       "      <td>371.0</td>\n",
       "      <td>3329.0</td>\n",
       "      <td>193.0</td>\n",
       "      <td>Solam Susent</td>\n",
       "      <td>0</td>\n",
       "    </tr>\n",
       "    <tr>\n",
       "      <th>4</th>\n",
       "      <td>0004_01</td>\n",
       "      <td>1.0</td>\n",
       "      <td>0.0</td>\n",
       "      <td>F/1/S</td>\n",
       "      <td>3.0</td>\n",
       "      <td>16.0</td>\n",
       "      <td>0.0</td>\n",
       "      <td>303.0</td>\n",
       "      <td>70.0</td>\n",
       "      <td>151.0</td>\n",
       "      <td>565.0</td>\n",
       "      <td>2.0</td>\n",
       "      <td>Willy Santantines</td>\n",
       "      <td>1</td>\n",
       "    </tr>\n",
       "  </tbody>\n",
       "</table>\n",
       "</div>"
      ],
      "text/plain": [
       "  PassengerId  HomePlanet  CryoSleep  Cabin  Destination   Age  VIP  \\\n",
       "0     0001_01         2.0        0.0  B/0/P          3.0  39.0  0.0   \n",
       "1     0002_01         1.0        0.0  F/0/S          3.0  24.0  0.0   \n",
       "2     0003_01         2.0        0.0  A/0/S          3.0  58.0  1.0   \n",
       "3     0003_02         2.0        0.0  A/0/S          3.0  33.0  0.0   \n",
       "4     0004_01         1.0        0.0  F/1/S          3.0  16.0  0.0   \n",
       "\n",
       "   RoomService  FoodCourt  ShoppingMall     Spa  VRDeck               Name  \\\n",
       "0          0.0        0.0           0.0     0.0     0.0    Maham Ofracculy   \n",
       "1        109.0        9.0          25.0   549.0    44.0       Juanna Vines   \n",
       "2         43.0     3576.0           0.0  6715.0    49.0      Altark Susent   \n",
       "3          0.0     1283.0         371.0  3329.0   193.0       Solam Susent   \n",
       "4        303.0       70.0         151.0   565.0     2.0  Willy Santantines   \n",
       "\n",
       "   Transported  \n",
       "0            0  \n",
       "1            1  \n",
       "2            0  \n",
       "3            0  \n",
       "4            1  "
      ]
     },
     "execution_count": 11,
     "metadata": {},
     "output_type": "execute_result"
    }
   ],
   "source": [
    "df['VIP'] = df['VIP'].replace({True: 1, False: 0})\n",
    "df.head()"
   ]
  },
  {
   "cell_type": "code",
   "execution_count": 12,
   "id": "358f1e9a",
   "metadata": {
    "execution": {
     "iopub.execute_input": "2023-11-21T08:24:59.827037Z",
     "iopub.status.busy": "2023-11-21T08:24:59.826310Z",
     "iopub.status.idle": "2023-11-21T08:24:59.877229Z",
     "shell.execute_reply": "2023-11-21T08:24:59.876364Z"
    },
    "papermill": {
     "duration": 0.08384,
     "end_time": "2023-11-21T08:24:59.880249",
     "exception": false,
     "start_time": "2023-11-21T08:24:59.796409",
     "status": "completed"
    },
    "tags": []
   },
   "outputs": [
    {
     "data": {
      "text/plain": [
       "638"
      ]
     },
     "execution_count": 12,
     "metadata": {},
     "output_type": "execute_result"
    }
   ],
   "source": [
    "#checking corr between cabin's names and sides\n",
    "sum(df.loc[(df.Cabin.str.split('/').str[0] == 'F') & (df.Cabin.str.split('/').str[2] == 'S')].Transported)   "
   ]
  },
  {
   "cell_type": "markdown",
   "id": "aaaf4e43",
   "metadata": {
    "papermill": {
     "duration": 0.022974,
     "end_time": "2023-11-21T08:24:59.926061",
     "exception": false,
     "start_time": "2023-11-21T08:24:59.903087",
     "status": "completed"
    },
    "tags": []
   },
   "source": [
    "letter_to_int = {'A': 1, 'B': 2, 'C': 3, 'D': 4, 'E': 5, 'F': 6, 'G': 7, 'H': 8, 'I': 9, 'J': 10}"
   ]
  },
  {
   "cell_type": "markdown",
   "id": "64f991dd",
   "metadata": {
    "papermill": {
     "duration": 0.022025,
     "end_time": "2023-11-21T08:24:59.970898",
     "exception": false,
     "start_time": "2023-11-21T08:24:59.948873",
     "status": "completed"
    },
    "tags": []
   },
   "source": [
    "Now we have 11 attribute to work with and they all are numeric\n"
   ]
  },
  {
   "cell_type": "code",
   "execution_count": 13,
   "id": "273adcd0",
   "metadata": {
    "execution": {
     "iopub.execute_input": "2023-11-21T08:25:00.018993Z",
     "iopub.status.busy": "2023-11-21T08:25:00.017866Z",
     "iopub.status.idle": "2023-11-21T08:25:00.045852Z",
     "shell.execute_reply": "2023-11-21T08:25:00.044801Z"
    },
    "papermill": {
     "duration": 0.055036,
     "end_time": "2023-11-21T08:25:00.048794",
     "exception": false,
     "start_time": "2023-11-21T08:24:59.993758",
     "status": "completed"
    },
    "tags": []
   },
   "outputs": [],
   "source": [
    "df[['HomePlanet', 'CryoSleep', 'Destination', 'Age', 'VIP']] = df[['HomePlanet', 'CryoSleep', 'Destination', 'Age', 'VIP']].astype('Int64')"
   ]
  },
  {
   "cell_type": "markdown",
   "id": "e54ee0cd",
   "metadata": {
    "papermill": {
     "duration": 0.02195,
     "end_time": "2023-11-21T08:25:00.093385",
     "exception": false,
     "start_time": "2023-11-21T08:25:00.071435",
     "status": "completed"
    },
    "tags": []
   },
   "source": [
    "Now We can go to filling every null and nan cell in our dataframe"
   ]
  },
  {
   "cell_type": "code",
   "execution_count": 14,
   "id": "a3094b63",
   "metadata": {
    "execution": {
     "iopub.execute_input": "2023-11-21T08:25:00.142104Z",
     "iopub.status.busy": "2023-11-21T08:25:00.141263Z",
     "iopub.status.idle": "2023-11-21T08:25:03.649940Z",
     "shell.execute_reply": "2023-11-21T08:25:03.648757Z"
    },
    "papermill": {
     "duration": 3.53563,
     "end_time": "2023-11-21T08:25:03.652604",
     "exception": false,
     "start_time": "2023-11-21T08:25:00.116974",
     "status": "completed"
    },
    "tags": []
   },
   "outputs": [
    {
     "data": {
      "image/png": "[encoded data removed]",
      "text/plain": [
       "<Figure size 2000x1500 with 12 Axes>"
      ]
     },
     "metadata": {},
     "output_type": "display_data"
    }
   ],
   "source": [
    "import matplotlib.pyplot as plt\n",
    "df.hist(bins=50, figsize=(20,15))\n",
    "plt.show()"
   ]
  },
  {
   "cell_type": "code",
   "execution_count": 15,
   "id": "b3f34f71",
   "metadata": {
    "execution": {
     "iopub.execute_input": "2023-11-21T08:25:03.703481Z",
     "iopub.status.busy": "2023-11-21T08:25:03.702297Z",
     "iopub.status.idle": "2023-11-21T08:25:06.192332Z",
     "shell.execute_reply": "2023-11-21T08:25:06.191243Z"
    },
    "papermill": {
     "duration": 2.519086,
     "end_time": "2023-11-21T08:25:06.195991",
     "exception": false,
     "start_time": "2023-11-21T08:25:03.676905",
     "status": "completed"
    },
    "tags": []
   },
   "outputs": [
    {
     "data": {
      "text/plain": [
       "<Axes: >"
      ]
     },
     "execution_count": 15,
     "metadata": {},
     "output_type": "execute_result"
    },
    {
     "data": {
      "image/png": "[encoded data removed]",
      "text/plain": [
       "<Figure size 640x480 with 2 Axes>"
      ]
     },
     "metadata": {},
     "output_type": "display_data"
    }
   ],
   "source": [
    "import seaborn as sb\n",
    "df_num = df.select_dtypes(include=['float64', 'int64'])\n",
    "\n",
    "# Calculate the correlations of numerical columns\n",
    "corr = df_num.corr()\n",
    "\n",
    "sb.heatmap(corr, annot=True)"
   ]
  },
  {
   "cell_type": "code",
   "execution_count": 16,
   "id": "cc096e98",
   "metadata": {
    "execution": {
     "iopub.execute_input": "2023-11-21T08:25:06.249438Z",
     "iopub.status.busy": "2023-11-21T08:25:06.248943Z",
     "iopub.status.idle": "2023-11-21T08:25:06.275957Z",
     "shell.execute_reply": "2023-11-21T08:25:06.274818Z"
    },
    "papermill": {
     "duration": 0.057001,
     "end_time": "2023-11-21T08:25:06.278564",
     "exception": false,
     "start_time": "2023-11-21T08:25:06.221563",
     "status": "completed"
    },
    "tags": []
   },
   "outputs": [
    {
     "data": {
      "text/html": [
       "<div>\n",
       "<style scoped>\n",
       "    .dataframe tbody tr th:only-of-type {\n",
       "        vertical-align: middle;\n",
       "    }\n",
       "\n",
       "    .dataframe tbody tr th {\n",
       "        vertical-align: top;\n",
       "    }\n",
       "\n",
       "    .dataframe thead th {\n",
       "        text-align: right;\n",
       "    }\n",
       "</style>\n",
       "<table border=\"1\" class=\"dataframe\">\n",
       "  <thead>\n",
       "    <tr style=\"text-align: right;\">\n",
       "      <th></th>\n",
       "      <th>HomePlanet</th>\n",
       "      <th>CryoSleep</th>\n",
       "      <th>Destination</th>\n",
       "      <th>Age</th>\n",
       "      <th>VIP</th>\n",
       "      <th>RoomService</th>\n",
       "      <th>FoodCourt</th>\n",
       "      <th>ShoppingMall</th>\n",
       "      <th>Spa</th>\n",
       "      <th>VRDeck</th>\n",
       "    </tr>\n",
       "    <tr>\n",
       "      <th>Transported</th>\n",
       "      <th></th>\n",
       "      <th></th>\n",
       "      <th></th>\n",
       "      <th></th>\n",
       "      <th></th>\n",
       "      <th></th>\n",
       "      <th></th>\n",
       "      <th></th>\n",
       "      <th></th>\n",
       "      <th></th>\n",
       "    </tr>\n",
       "  </thead>\n",
       "  <tbody>\n",
       "    <tr>\n",
       "      <th>0</th>\n",
       "      <td>1.570311</td>\n",
       "      <td>0.131779</td>\n",
       "      <td>2.574201</td>\n",
       "      <td>29.922858</td>\n",
       "      <td>0.029175</td>\n",
       "      <td>389.266066</td>\n",
       "      <td>382.615930</td>\n",
       "      <td>167.566217</td>\n",
       "      <td>564.382666</td>\n",
       "      <td>543.629822</td>\n",
       "    </tr>\n",
       "    <tr>\n",
       "      <th>1</th>\n",
       "      <td>1.75883</td>\n",
       "      <td>0.581227</td>\n",
       "      <td>2.394074</td>\n",
       "      <td>27.748834</td>\n",
       "      <td>0.017782</td>\n",
       "      <td>63.098021</td>\n",
       "      <td>532.691984</td>\n",
       "      <td>179.829972</td>\n",
       "      <td>61.675531</td>\n",
       "      <td>69.148131</td>\n",
       "    </tr>\n",
       "  </tbody>\n",
       "</table>\n",
       "</div>"
      ],
      "text/plain": [
       "             HomePlanet  CryoSleep  Destination        Age       VIP  \\\n",
       "Transported                                                            \n",
       "0              1.570311   0.131779     2.574201  29.922858  0.029175   \n",
       "1               1.75883   0.581227     2.394074  27.748834  0.017782   \n",
       "\n",
       "             RoomService   FoodCourt  ShoppingMall         Spa      VRDeck  \n",
       "Transported                                                                 \n",
       "0             389.266066  382.615930    167.566217  564.382666  543.629822  \n",
       "1              63.098021  532.691984    179.829972   61.675531   69.148131  "
      ]
     },
     "execution_count": 16,
     "metadata": {},
     "output_type": "execute_result"
    }
   ],
   "source": [
    "df_num.groupby(\"Transported\").mean()"
   ]
  },
  {
   "cell_type": "code",
   "execution_count": 17,
   "id": "27721ecf",
   "metadata": {
    "execution": {
     "iopub.execute_input": "2023-11-21T08:25:06.333924Z",
     "iopub.status.busy": "2023-11-21T08:25:06.333000Z",
     "iopub.status.idle": "2023-11-21T08:25:06.644280Z",
     "shell.execute_reply": "2023-11-21T08:25:06.643272Z"
    },
    "papermill": {
     "duration": 0.342223,
     "end_time": "2023-11-21T08:25:06.646741",
     "exception": false,
     "start_time": "2023-11-21T08:25:06.304518",
     "status": "completed"
    },
    "tags": []
   },
   "outputs": [
    {
     "data": {
      "text/plain": [
       "<Axes: xlabel='CryoSleep'>"
      ]
     },
     "execution_count": 17,
     "metadata": {},
     "output_type": "execute_result"
    },
    {
     "data": {
      "image/png": "[encoded data removed]",
      "text/plain": [
       "<Figure size 640x480 with 1 Axes>"
      ]
     },
     "metadata": {},
     "output_type": "display_data"
    }
   ],
   "source": [
    "pd.crosstab(df_num.CryoSleep,df_num.Transported).plot(kind='bar')"
   ]
  },
  {
   "cell_type": "code",
   "execution_count": 18,
   "id": "49730a14",
   "metadata": {
    "execution": {
     "iopub.execute_input": "2023-11-21T08:25:06.701831Z",
     "iopub.status.busy": "2023-11-21T08:25:06.701364Z",
     "iopub.status.idle": "2023-11-21T08:25:06.750350Z",
     "shell.execute_reply": "2023-11-21T08:25:06.749185Z"
    },
    "papermill": {
     "duration": 0.07956,
     "end_time": "2023-11-21T08:25:06.752806",
     "exception": false,
     "start_time": "2023-11-21T08:25:06.673246",
     "status": "completed"
    },
    "tags": []
   },
   "outputs": [
    {
     "name": "stdout",
     "output_type": "stream",
     "text": [
      "<class 'pandas.core.frame.DataFrame'>\n",
      "RangeIndex: 8693 entries, 0 to 8692\n",
      "Data columns (total 14 columns):\n",
      " #   Column        Non-Null Count  Dtype  \n",
      "---  ------        --------------  -----  \n",
      " 0   PassengerId   8693 non-null   object \n",
      " 1   HomePlanet    8693 non-null   Int64  \n",
      " 2   CryoSleep     8693 non-null   int64  \n",
      " 3   Cabin         8693 non-null   object \n",
      " 4   Destination   8693 non-null   Int64  \n",
      " 5   Age           8693 non-null   Int64  \n",
      " 6   VIP           8693 non-null   int64  \n",
      " 7   RoomService   8693 non-null   float64\n",
      " 8   FoodCourt     8693 non-null   float64\n",
      " 9   ShoppingMall  8693 non-null   float64\n",
      " 10  Spa           8693 non-null   float64\n",
      " 11  VRDeck        8693 non-null   float64\n",
      " 12  Name          8493 non-null   object \n",
      " 13  Transported   8693 non-null   int64  \n",
      "dtypes: Int64(3), float64(5), int64(3), object(3)\n",
      "memory usage: 976.4+ KB\n"
     ]
    }
   ],
   "source": [
    "df[\"HomePlanet\"].fillna(df[\"HomePlanet\"].mode()[0],inplace=True)\n",
    "df[\"Destination\"].fillna(df[\"Destination\"].mode()[0],inplace=True)\n",
    "df[\"CryoSleep\"].fillna(df[\"CryoSleep\"].mode()[0],inplace=True)\n",
    "df[\"Cabin\"].fillna(df[\"Cabin\"].mode()[0],inplace=True)\n",
    "df[\"VIP\"].fillna(df[\"VIP\"].mode()[0],inplace=True)\n",
    "df[\"Age\"].fillna(int(df[\"Age\"].mean()),inplace=True)\n",
    "df[\"RoomService\"].fillna(df[\"RoomService\"].mean(),inplace=True)\n",
    "df[\"FoodCourt\"].fillna(df[\"FoodCourt\"].mean(),inplace=True)\n",
    "df[\"ShoppingMall\"].fillna(df[\"ShoppingMall\"].mean(),inplace=True)\n",
    "df[\"Spa\"].fillna(df[\"Spa\"].mean(),inplace=True)\n",
    "df[\"VRDeck\"].fillna(df[\"VRDeck\"].mean(),inplace=True)\n",
    "df.VIP = np.where(df.VIP,1,0)\n",
    "df.CryoSleep = np.where(df.CryoSleep,1,0)\n",
    "#No Nan, Null or empty cell\n",
    "df.info()"
   ]
  },
  {
   "cell_type": "code",
   "execution_count": 19,
   "id": "72106a1c",
   "metadata": {
    "execution": {
     "iopub.execute_input": "2023-11-21T08:25:06.807871Z",
     "iopub.status.busy": "2023-11-21T08:25:06.806952Z",
     "iopub.status.idle": "2023-11-21T08:25:06.818824Z",
     "shell.execute_reply": "2023-11-21T08:25:06.817428Z"
    },
    "papermill": {
     "duration": 0.041783,
     "end_time": "2023-11-21T08:25:06.821169",
     "exception": false,
     "start_time": "2023-11-21T08:25:06.779386",
     "status": "completed"
    },
    "tags": []
   },
   "outputs": [
    {
     "name": "stdout",
     "output_type": "stream",
     "text": [
      "cryo Taransported:  2483 transported:  4378\n"
     ]
    }
   ],
   "source": [
    "print('cryo Taransported: ', sum(df[df.CryoSleep == 1].Transported), 'transported: ',sum(df.Transported))"
   ]
  },
  {
   "cell_type": "code",
   "execution_count": 20,
   "id": "ae494bf2",
   "metadata": {
    "execution": {
     "iopub.execute_input": "2023-11-21T08:25:06.876828Z",
     "iopub.status.busy": "2023-11-21T08:25:06.875974Z",
     "iopub.status.idle": "2023-11-21T08:25:06.880811Z",
     "shell.execute_reply": "2023-11-21T08:25:06.880007Z"
    },
    "papermill": {
     "duration": 0.035568,
     "end_time": "2023-11-21T08:25:06.883110",
     "exception": false,
     "start_time": "2023-11-21T08:25:06.847542",
     "status": "completed"
    },
    "tags": []
   },
   "outputs": [],
   "source": [
    "# # Calculate mean\n",
    "# df['Mean_luxury'] = df[['RoomService', 'FoodCourt', 'ShoppingMall', 'Spa', 'VRDeck']].mean(axis=1)"
   ]
  },
  {
   "cell_type": "code",
   "execution_count": 21,
   "id": "d782f871",
   "metadata": {
    "execution": {
     "iopub.execute_input": "2023-11-21T08:25:06.939972Z",
     "iopub.status.busy": "2023-11-21T08:25:06.939097Z",
     "iopub.status.idle": "2023-11-21T08:25:06.944004Z",
     "shell.execute_reply": "2023-11-21T08:25:06.943199Z"
    },
    "papermill": {
     "duration": 0.036361,
     "end_time": "2023-11-21T08:25:06.946339",
     "exception": false,
     "start_time": "2023-11-21T08:25:06.909978",
     "status": "completed"
    },
    "tags": []
   },
   "outputs": [],
   "source": [
    "# df = df.drop(columns=['RoomService', 'FoodCourt', 'ShoppingMall', 'Spa', 'VRDeck'])\n",
    "# df.head(3)"
   ]
  },
  {
   "cell_type": "code",
   "execution_count": 22,
   "id": "7699a5cc",
   "metadata": {
    "execution": {
     "iopub.execute_input": "2023-11-21T08:25:07.002150Z",
     "iopub.status.busy": "2023-11-21T08:25:07.001302Z",
     "iopub.status.idle": "2023-11-21T08:25:07.006308Z",
     "shell.execute_reply": "2023-11-21T08:25:07.005461Z"
    },
    "papermill": {
     "duration": 0.035607,
     "end_time": "2023-11-21T08:25:07.008732",
     "exception": false,
     "start_time": "2023-11-21T08:25:06.973125",
     "status": "completed"
    },
    "tags": []
   },
   "outputs": [],
   "source": [
    "# df['BigSpender'] = np.where(df.Mean_luxury > 1000, 1,0)\n",
    "# df['Mid_Spender'] = np.where(df.Mean_luxury >= 500, 1,0)\n",
    "# df['Non_Spender'] = np.where(df.Mean_luxury == 0, 1,0)\n",
    "# df.head()"
   ]
  },
  {
   "cell_type": "code",
   "execution_count": 23,
   "id": "c7e01600",
   "metadata": {
    "execution": {
     "iopub.execute_input": "2023-11-21T08:25:07.065056Z",
     "iopub.status.busy": "2023-11-21T08:25:07.064201Z",
     "iopub.status.idle": "2023-11-21T08:25:07.069257Z",
     "shell.execute_reply": "2023-11-21T08:25:07.068352Z"
    },
    "papermill": {
     "duration": 0.03617,
     "end_time": "2023-11-21T08:25:07.071756",
     "exception": false,
     "start_time": "2023-11-21T08:25:07.035586",
     "status": "completed"
    },
    "tags": []
   },
   "outputs": [],
   "source": [
    "# # TransportedCol = df.pop(\"Transported\")\n",
    "# NameCol = df.pop(\"Name\")\n",
    "# df.insert(1, \"Name\", NameCol)\n",
    "# df.insert(9, \"Transported\", TransportedCol)\n",
    "# df.head()"
   ]
  },
  {
   "cell_type": "code",
   "execution_count": 24,
   "id": "ce95b9f8",
   "metadata": {
    "execution": {
     "iopub.execute_input": "2023-11-21T08:25:07.129073Z",
     "iopub.status.busy": "2023-11-21T08:25:07.128250Z",
     "iopub.status.idle": "2023-11-21T08:25:07.139253Z",
     "shell.execute_reply": "2023-11-21T08:25:07.138239Z"
    },
    "papermill": {
     "duration": 0.042326,
     "end_time": "2023-11-21T08:25:07.141691",
     "exception": false,
     "start_time": "2023-11-21T08:25:07.099365",
     "status": "completed"
    },
    "tags": []
   },
   "outputs": [
    {
     "data": {
      "text/plain": [
       "1517"
      ]
     },
     "execution_count": 24,
     "metadata": {},
     "output_type": "execute_result"
    }
   ],
   "source": [
    "sum(df[df.HomePlanet == 3].Destination == 3)"
   ]
  },
  {
   "cell_type": "markdown",
   "id": "f474c3ad",
   "metadata": {
    "papermill": {
     "duration": 0.027025,
     "end_time": "2023-11-21T08:25:07.195700",
     "exception": false,
     "start_time": "2023-11-21T08:25:07.168675",
     "status": "completed"
    },
    "tags": []
   },
   "source": [
    "{1:'55 Cancri e', 2:'PSO J318.5-22', 3:'TRAPPIST-1e'}\n",
    "{1:'Earth', 2:'Europa', 3:'Mars'}\n",
    "<<<<<HomePlanet to Destination>>>>\n",
    "1 to 1 >>> 721\n",
    "1 to 2 >>> 728\n",
    "1 to 3 >>> 3354\n",
    "--------------    \n",
    "2 to 1 >>> 193\n",
    "2 to 2 >>> 49\n",
    "2 to 3 >>> 1517\n",
    "-------------- \n",
    "3 to 1 >>> 886\n",
    "3 to 2 >>> 19\n",
    "3 to 3 >>> 1226\n",
    "-------------- "
   ]
  },
  {
   "cell_type": "code",
   "execution_count": 25,
   "id": "2962e09f",
   "metadata": {
    "execution": {
     "iopub.execute_input": "2023-11-21T08:25:07.254186Z",
     "iopub.status.busy": "2023-11-21T08:25:07.252862Z",
     "iopub.status.idle": "2023-11-21T08:25:07.263903Z",
     "shell.execute_reply": "2023-11-21T08:25:07.262750Z"
    },
    "papermill": {
     "duration": 0.042546,
     "end_time": "2023-11-21T08:25:07.266132",
     "exception": false,
     "start_time": "2023-11-21T08:25:07.223586",
     "status": "completed"
    },
    "tags": []
   },
   "outputs": [
    {
     "data": {
      "text/plain": [
       "21"
      ]
     },
     "execution_count": 25,
     "metadata": {},
     "output_type": "execute_result"
    }
   ],
   "source": [
    "#print(sum(df[df.HomePlanet == 1].Transported),sum(df.HomePlanet == 1))\n",
    "sum(df[df.CryoSleep == 1].VIP)"
   ]
  },
  {
   "cell_type": "code",
   "execution_count": 26,
   "id": "2df53647",
   "metadata": {
    "execution": {
     "iopub.execute_input": "2023-11-21T08:25:07.324574Z",
     "iopub.status.busy": "2023-11-21T08:25:07.324133Z",
     "iopub.status.idle": "2023-11-21T08:25:08.144328Z",
     "shell.execute_reply": "2023-11-21T08:25:08.143000Z"
    },
    "papermill": {
     "duration": 0.854299,
     "end_time": "2023-11-21T08:25:08.148198",
     "exception": false,
     "start_time": "2023-11-21T08:25:07.293899",
     "status": "completed"
    },
    "tags": []
   },
   "outputs": [
    {
     "data": {
      "text/plain": [
       "<Axes: >"
      ]
     },
     "execution_count": 26,
     "metadata": {},
     "output_type": "execute_result"
    },
    {
     "data": {
      "image/png": "[encoded data removed]",
      "text/plain": [
       "<Figure size 640x480 with 2 Axes>"
      ]
     },
     "metadata": {},
     "output_type": "display_data"
    }
   ],
   "source": [
    "import seaborn as sb\n",
    "df_num = df.select_dtypes(include=['float64', 'int64'])\n",
    "\n",
    "# Calculate the correlations of numerical columns\n",
    "corr = df_num.corr()\n",
    "\n",
    "sb.heatmap(corr, annot=True)"
   ]
  },
  {
   "cell_type": "code",
   "execution_count": 27,
   "id": "364e902c",
   "metadata": {
    "execution": {
     "iopub.execute_input": "2023-11-21T08:25:08.208807Z",
     "iopub.status.busy": "2023-11-21T08:25:08.208400Z",
     "iopub.status.idle": "2023-11-21T08:25:08.213402Z",
     "shell.execute_reply": "2023-11-21T08:25:08.212273Z"
    },
    "papermill": {
     "duration": 0.037887,
     "end_time": "2023-11-21T08:25:08.215773",
     "exception": false,
     "start_time": "2023-11-21T08:25:08.177886",
     "status": "completed"
    },
    "tags": []
   },
   "outputs": [],
   "source": [
    "# print('Slept and didnt spend: ',sum(df[df.CryoSleep == 1].Non_Spender),'All that Slept: ',sum(df.CryoSleep),'All Non-Speders: ',sum(df.Non_Spender))"
   ]
  },
  {
   "cell_type": "code",
   "execution_count": 28,
   "id": "b4da2cea",
   "metadata": {
    "execution": {
     "iopub.execute_input": "2023-11-21T08:25:08.277009Z",
     "iopub.status.busy": "2023-11-21T08:25:08.275721Z",
     "iopub.status.idle": "2023-11-21T08:25:08.305997Z",
     "shell.execute_reply": "2023-11-21T08:25:08.304873Z"
    },
    "papermill": {
     "duration": 0.063245,
     "end_time": "2023-11-21T08:25:08.308342",
     "exception": false,
     "start_time": "2023-11-21T08:25:08.245097",
     "status": "completed"
    },
    "tags": []
   },
   "outputs": [
    {
     "name": "stdout",
     "output_type": "stream",
     "text": [
      "2218\n"
     ]
    },
    {
     "data": {
      "text/plain": [
       "200"
      ]
     },
     "execution_count": 28,
     "metadata": {},
     "output_type": "execute_result"
    }
   ],
   "source": [
    "#number of families or to be exact people with the same last name\n",
    "lastNames = set(df.Name.str.split(' ').str[-1])\n",
    "print(len(lastNames))\n",
    "sum(df.Name.isna())\n"
   ]
  },
  {
   "cell_type": "code",
   "execution_count": 29,
   "id": "215dae1f",
   "metadata": {
    "execution": {
     "iopub.execute_input": "2023-11-21T08:25:08.372196Z",
     "iopub.status.busy": "2023-11-21T08:25:08.371781Z",
     "iopub.status.idle": "2023-11-21T08:25:08.376478Z",
     "shell.execute_reply": "2023-11-21T08:25:08.375374Z"
    },
    "papermill": {
     "duration": 0.038531,
     "end_time": "2023-11-21T08:25:08.378718",
     "exception": false,
     "start_time": "2023-11-21T08:25:08.340187",
     "status": "completed"
    },
    "tags": []
   },
   "outputs": [],
   "source": [
    "# df['LastName'] = df['Name'].str.split(' ').str[-1]\n",
    "# df.head(3)"
   ]
  },
  {
   "cell_type": "code",
   "execution_count": 30,
   "id": "4909400e",
   "metadata": {
    "execution": {
     "iopub.execute_input": "2023-11-21T08:25:08.440788Z",
     "iopub.status.busy": "2023-11-21T08:25:08.439482Z",
     "iopub.status.idle": "2023-11-21T08:25:08.448044Z",
     "shell.execute_reply": "2023-11-21T08:25:08.446754Z"
    },
    "papermill": {
     "duration": 0.042432,
     "end_time": "2023-11-21T08:25:08.450664",
     "exception": false,
     "start_time": "2023-11-21T08:25:08.408232",
     "status": "completed"
    },
    "tags": []
   },
   "outputs": [
    {
     "name": "stdout",
     "output_type": "stream",
     "text": [
      "8474\n"
     ]
    }
   ],
   "source": [
    "fullnameSet = set(df.Name)\n",
    "print(len(fullnameSet))"
   ]
  },
  {
   "cell_type": "code",
   "execution_count": 31,
   "id": "f6468259",
   "metadata": {
    "execution": {
     "iopub.execute_input": "2023-11-21T08:25:08.512670Z",
     "iopub.status.busy": "2023-11-21T08:25:08.511649Z",
     "iopub.status.idle": "2023-11-21T08:25:08.669641Z",
     "shell.execute_reply": "2023-11-21T08:25:08.668391Z"
    },
    "papermill": {
     "duration": 0.192448,
     "end_time": "2023-11-21T08:25:08.672945",
     "exception": false,
     "start_time": "2023-11-21T08:25:08.480497",
     "status": "completed"
    },
    "tags": []
   },
   "outputs": [
    {
     "data": {
      "text/html": [
       "<div>\n",
       "<style scoped>\n",
       "    .dataframe tbody tr th:only-of-type {\n",
       "        vertical-align: middle;\n",
       "    }\n",
       "\n",
       "    .dataframe tbody tr th {\n",
       "        vertical-align: top;\n",
       "    }\n",
       "\n",
       "    .dataframe thead th {\n",
       "        text-align: right;\n",
       "    }\n",
       "</style>\n",
       "<table border=\"1\" class=\"dataframe\">\n",
       "  <thead>\n",
       "    <tr style=\"text-align: right;\">\n",
       "      <th></th>\n",
       "      <th>PassengerId</th>\n",
       "      <th>HomePlanet</th>\n",
       "      <th>CryoSleep</th>\n",
       "      <th>Cabin</th>\n",
       "      <th>Destination</th>\n",
       "      <th>Age</th>\n",
       "      <th>VIP</th>\n",
       "      <th>RoomService</th>\n",
       "      <th>FoodCourt</th>\n",
       "      <th>ShoppingMall</th>\n",
       "      <th>Spa</th>\n",
       "      <th>VRDeck</th>\n",
       "      <th>Name</th>\n",
       "      <th>Transported</th>\n",
       "      <th>Port</th>\n",
       "    </tr>\n",
       "  </thead>\n",
       "  <tbody>\n",
       "    <tr>\n",
       "      <th>0</th>\n",
       "      <td>0001_01</td>\n",
       "      <td>2</td>\n",
       "      <td>0</td>\n",
       "      <td>B/0/P</td>\n",
       "      <td>3</td>\n",
       "      <td>39</td>\n",
       "      <td>0</td>\n",
       "      <td>0.0</td>\n",
       "      <td>0.0</td>\n",
       "      <td>0.0</td>\n",
       "      <td>0.0</td>\n",
       "      <td>0.0</td>\n",
       "      <td>Maham Ofracculy</td>\n",
       "      <td>0</td>\n",
       "      <td>1</td>\n",
       "    </tr>\n",
       "    <tr>\n",
       "      <th>1</th>\n",
       "      <td>0002_01</td>\n",
       "      <td>1</td>\n",
       "      <td>0</td>\n",
       "      <td>F/0/S</td>\n",
       "      <td>3</td>\n",
       "      <td>24</td>\n",
       "      <td>0</td>\n",
       "      <td>109.0</td>\n",
       "      <td>9.0</td>\n",
       "      <td>25.0</td>\n",
       "      <td>549.0</td>\n",
       "      <td>44.0</td>\n",
       "      <td>Juanna Vines</td>\n",
       "      <td>1</td>\n",
       "      <td>0</td>\n",
       "    </tr>\n",
       "    <tr>\n",
       "      <th>2</th>\n",
       "      <td>0003_01</td>\n",
       "      <td>2</td>\n",
       "      <td>0</td>\n",
       "      <td>A/0/S</td>\n",
       "      <td>3</td>\n",
       "      <td>58</td>\n",
       "      <td>1</td>\n",
       "      <td>43.0</td>\n",
       "      <td>3576.0</td>\n",
       "      <td>0.0</td>\n",
       "      <td>6715.0</td>\n",
       "      <td>49.0</td>\n",
       "      <td>Altark Susent</td>\n",
       "      <td>0</td>\n",
       "      <td>0</td>\n",
       "    </tr>\n",
       "  </tbody>\n",
       "</table>\n",
       "</div>"
      ],
      "text/plain": [
       "  PassengerId  HomePlanet  CryoSleep  Cabin  Destination  Age  VIP  \\\n",
       "0     0001_01           2          0  B/0/P            3   39    0   \n",
       "1     0002_01           1          0  F/0/S            3   24    0   \n",
       "2     0003_01           2          0  A/0/S            3   58    1   \n",
       "\n",
       "   RoomService  FoodCourt  ShoppingMall     Spa  VRDeck             Name  \\\n",
       "0          0.0        0.0           0.0     0.0     0.0  Maham Ofracculy   \n",
       "1        109.0        9.0          25.0   549.0    44.0     Juanna Vines   \n",
       "2         43.0     3576.0           0.0  6715.0    49.0    Altark Susent   \n",
       "\n",
       "   Transported  Port  \n",
       "0            0     1  \n",
       "1            1     0  \n",
       "2            0     0  "
      ]
     },
     "execution_count": 31,
     "metadata": {},
     "output_type": "execute_result"
    }
   ],
   "source": [
    "df['Port'] = df['Cabin'].str.split('/').str[-1]\n",
    "df['Port'].replace('S', 0, inplace=True)\n",
    "df['Port'].replace('P', 1, inplace=True)\n",
    "df.head(3)"
   ]
  },
  {
   "cell_type": "code",
   "execution_count": 32,
   "id": "53a04f58",
   "metadata": {
    "execution": {
     "iopub.execute_input": "2023-11-21T08:25:08.735394Z",
     "iopub.status.busy": "2023-11-21T08:25:08.734305Z",
     "iopub.status.idle": "2023-11-21T08:25:08.778281Z",
     "shell.execute_reply": "2023-11-21T08:25:08.777010Z"
    },
    "papermill": {
     "duration": 0.078216,
     "end_time": "2023-11-21T08:25:08.781000",
     "exception": false,
     "start_time": "2023-11-21T08:25:08.702784",
     "status": "completed"
    },
    "tags": []
   },
   "outputs": [
    {
     "data": {
      "text/html": [
       "<div>\n",
       "<style scoped>\n",
       "    .dataframe tbody tr th:only-of-type {\n",
       "        vertical-align: middle;\n",
       "    }\n",
       "\n",
       "    .dataframe tbody tr th {\n",
       "        vertical-align: top;\n",
       "    }\n",
       "\n",
       "    .dataframe thead th {\n",
       "        text-align: right;\n",
       "    }\n",
       "</style>\n",
       "<table border=\"1\" class=\"dataframe\">\n",
       "  <thead>\n",
       "    <tr style=\"text-align: right;\">\n",
       "      <th></th>\n",
       "      <th>PassengerId</th>\n",
       "      <th>HomePlanet</th>\n",
       "      <th>CryoSleep</th>\n",
       "      <th>Cabin</th>\n",
       "      <th>Destination</th>\n",
       "      <th>Age</th>\n",
       "      <th>VIP</th>\n",
       "      <th>RoomService</th>\n",
       "      <th>FoodCourt</th>\n",
       "      <th>ShoppingMall</th>\n",
       "      <th>Spa</th>\n",
       "      <th>VRDeck</th>\n",
       "      <th>Name</th>\n",
       "      <th>Transported</th>\n",
       "      <th>Port</th>\n",
       "      <th>Place</th>\n",
       "    </tr>\n",
       "  </thead>\n",
       "  <tbody>\n",
       "    <tr>\n",
       "      <th>0</th>\n",
       "      <td>0001_01</td>\n",
       "      <td>2</td>\n",
       "      <td>0</td>\n",
       "      <td>B/0/P</td>\n",
       "      <td>3</td>\n",
       "      <td>39</td>\n",
       "      <td>0</td>\n",
       "      <td>0.0</td>\n",
       "      <td>0.0</td>\n",
       "      <td>0.0</td>\n",
       "      <td>0.0</td>\n",
       "      <td>0.0</td>\n",
       "      <td>Maham Ofracculy</td>\n",
       "      <td>0</td>\n",
       "      <td>1</td>\n",
       "      <td>2</td>\n",
       "    </tr>\n",
       "    <tr>\n",
       "      <th>1</th>\n",
       "      <td>0002_01</td>\n",
       "      <td>1</td>\n",
       "      <td>0</td>\n",
       "      <td>F/0/S</td>\n",
       "      <td>3</td>\n",
       "      <td>24</td>\n",
       "      <td>0</td>\n",
       "      <td>109.0</td>\n",
       "      <td>9.0</td>\n",
       "      <td>25.0</td>\n",
       "      <td>549.0</td>\n",
       "      <td>44.0</td>\n",
       "      <td>Juanna Vines</td>\n",
       "      <td>1</td>\n",
       "      <td>0</td>\n",
       "      <td>6</td>\n",
       "    </tr>\n",
       "    <tr>\n",
       "      <th>2</th>\n",
       "      <td>0003_01</td>\n",
       "      <td>2</td>\n",
       "      <td>0</td>\n",
       "      <td>A/0/S</td>\n",
       "      <td>3</td>\n",
       "      <td>58</td>\n",
       "      <td>1</td>\n",
       "      <td>43.0</td>\n",
       "      <td>3576.0</td>\n",
       "      <td>0.0</td>\n",
       "      <td>6715.0</td>\n",
       "      <td>49.0</td>\n",
       "      <td>Altark Susent</td>\n",
       "      <td>0</td>\n",
       "      <td>0</td>\n",
       "      <td>1</td>\n",
       "    </tr>\n",
       "  </tbody>\n",
       "</table>\n",
       "</div>"
      ],
      "text/plain": [
       "  PassengerId  HomePlanet  CryoSleep  Cabin  Destination  Age  VIP  \\\n",
       "0     0001_01           2          0  B/0/P            3   39    0   \n",
       "1     0002_01           1          0  F/0/S            3   24    0   \n",
       "2     0003_01           2          0  A/0/S            3   58    1   \n",
       "\n",
       "   RoomService  FoodCourt  ShoppingMall     Spa  VRDeck             Name  \\\n",
       "0          0.0        0.0           0.0     0.0     0.0  Maham Ofracculy   \n",
       "1        109.0        9.0          25.0   549.0    44.0     Juanna Vines   \n",
       "2         43.0     3576.0           0.0  6715.0    49.0    Altark Susent   \n",
       "\n",
       "   Transported  Port  Place  \n",
       "0            0     1      2  \n",
       "1            1     0      6  \n",
       "2            0     0      1  "
      ]
     },
     "execution_count": 32,
     "metadata": {},
     "output_type": "execute_result"
    }
   ],
   "source": [
    "df['Place'] = df['Cabin'].str.split('/').str[0]\n",
    "letter_to_int = {'A': 1, 'B': 2, 'C': 3, 'D': 4, 'E': 5, 'F': 6, 'G': 7, 'T': 8}\n",
    "df['Place'] = df['Place'].map(letter_to_int)\n",
    "df.head(3)"
   ]
  },
  {
   "cell_type": "code",
   "execution_count": 33,
   "id": "9a8b0e3a",
   "metadata": {
    "execution": {
     "iopub.execute_input": "2023-11-21T08:25:08.844078Z",
     "iopub.status.busy": "2023-11-21T08:25:08.843679Z",
     "iopub.status.idle": "2023-11-21T08:25:08.883840Z",
     "shell.execute_reply": "2023-11-21T08:25:08.882505Z"
    },
    "papermill": {
     "duration": 0.07486,
     "end_time": "2023-11-21T08:25:08.886491",
     "exception": false,
     "start_time": "2023-11-21T08:25:08.811631",
     "status": "completed"
    },
    "tags": []
   },
   "outputs": [
    {
     "data": {
      "text/html": [
       "<div>\n",
       "<style scoped>\n",
       "    .dataframe tbody tr th:only-of-type {\n",
       "        vertical-align: middle;\n",
       "    }\n",
       "\n",
       "    .dataframe tbody tr th {\n",
       "        vertical-align: top;\n",
       "    }\n",
       "\n",
       "    .dataframe thead th {\n",
       "        text-align: right;\n",
       "    }\n",
       "</style>\n",
       "<table border=\"1\" class=\"dataframe\">\n",
       "  <thead>\n",
       "    <tr style=\"text-align: right;\">\n",
       "      <th></th>\n",
       "      <th>PassengerId</th>\n",
       "      <th>HomePlanet</th>\n",
       "      <th>CryoSleep</th>\n",
       "      <th>Cabin</th>\n",
       "      <th>Destination</th>\n",
       "      <th>Age</th>\n",
       "      <th>VIP</th>\n",
       "      <th>RoomService</th>\n",
       "      <th>FoodCourt</th>\n",
       "      <th>ShoppingMall</th>\n",
       "      <th>Spa</th>\n",
       "      <th>VRDeck</th>\n",
       "      <th>Name</th>\n",
       "      <th>Transported</th>\n",
       "      <th>Port</th>\n",
       "      <th>Place</th>\n",
       "    </tr>\n",
       "  </thead>\n",
       "  <tbody>\n",
       "    <tr>\n",
       "      <th>0</th>\n",
       "      <td>0001_01</td>\n",
       "      <td>2</td>\n",
       "      <td>0</td>\n",
       "      <td>0</td>\n",
       "      <td>3</td>\n",
       "      <td>39</td>\n",
       "      <td>0</td>\n",
       "      <td>0.0</td>\n",
       "      <td>0.0</td>\n",
       "      <td>0.0</td>\n",
       "      <td>0.0</td>\n",
       "      <td>0.0</td>\n",
       "      <td>Maham Ofracculy</td>\n",
       "      <td>0</td>\n",
       "      <td>1</td>\n",
       "      <td>2</td>\n",
       "    </tr>\n",
       "    <tr>\n",
       "      <th>1</th>\n",
       "      <td>0002_01</td>\n",
       "      <td>1</td>\n",
       "      <td>0</td>\n",
       "      <td>0</td>\n",
       "      <td>3</td>\n",
       "      <td>24</td>\n",
       "      <td>0</td>\n",
       "      <td>109.0</td>\n",
       "      <td>9.0</td>\n",
       "      <td>25.0</td>\n",
       "      <td>549.0</td>\n",
       "      <td>44.0</td>\n",
       "      <td>Juanna Vines</td>\n",
       "      <td>1</td>\n",
       "      <td>0</td>\n",
       "      <td>6</td>\n",
       "    </tr>\n",
       "    <tr>\n",
       "      <th>2</th>\n",
       "      <td>0003_01</td>\n",
       "      <td>2</td>\n",
       "      <td>0</td>\n",
       "      <td>0</td>\n",
       "      <td>3</td>\n",
       "      <td>58</td>\n",
       "      <td>1</td>\n",
       "      <td>43.0</td>\n",
       "      <td>3576.0</td>\n",
       "      <td>0.0</td>\n",
       "      <td>6715.0</td>\n",
       "      <td>49.0</td>\n",
       "      <td>Altark Susent</td>\n",
       "      <td>0</td>\n",
       "      <td>0</td>\n",
       "      <td>1</td>\n",
       "    </tr>\n",
       "  </tbody>\n",
       "</table>\n",
       "</div>"
      ],
      "text/plain": [
       "  PassengerId  HomePlanet  CryoSleep Cabin  Destination  Age  VIP  \\\n",
       "0     0001_01           2          0     0            3   39    0   \n",
       "1     0002_01           1          0     0            3   24    0   \n",
       "2     0003_01           2          0     0            3   58    1   \n",
       "\n",
       "   RoomService  FoodCourt  ShoppingMall     Spa  VRDeck             Name  \\\n",
       "0          0.0        0.0           0.0     0.0     0.0  Maham Ofracculy   \n",
       "1        109.0        9.0          25.0   549.0    44.0     Juanna Vines   \n",
       "2         43.0     3576.0           0.0  6715.0    49.0    Altark Susent   \n",
       "\n",
       "   Transported  Port  Place  \n",
       "0            0     1      2  \n",
       "1            1     0      6  \n",
       "2            0     0      1  "
      ]
     },
     "execution_count": 33,
     "metadata": {},
     "output_type": "execute_result"
    }
   ],
   "source": [
    "df['Cabin'] = df['Cabin'].str.split('/').str[1]\n",
    "df.head(3)"
   ]
  },
  {
   "cell_type": "code",
   "execution_count": 34,
   "id": "ab544fa6",
   "metadata": {
    "execution": {
     "iopub.execute_input": "2023-11-21T08:25:08.949846Z",
     "iopub.status.busy": "2023-11-21T08:25:08.949394Z",
     "iopub.status.idle": "2023-11-21T08:25:08.969845Z",
     "shell.execute_reply": "2023-11-21T08:25:08.968089Z"
    },
    "papermill": {
     "duration": 0.055045,
     "end_time": "2023-11-21T08:25:08.972346",
     "exception": false,
     "start_time": "2023-11-21T08:25:08.917301",
     "status": "completed"
    },
    "tags": []
   },
   "outputs": [
    {
     "name": "stdout",
     "output_type": "stream",
     "text": [
      "<class 'pandas.core.frame.DataFrame'>\n",
      "RangeIndex: 8693 entries, 0 to 8692\n",
      "Data columns (total 16 columns):\n",
      " #   Column        Non-Null Count  Dtype  \n",
      "---  ------        --------------  -----  \n",
      " 0   PassengerId   8693 non-null   object \n",
      " 1   HomePlanet    8693 non-null   Int64  \n",
      " 2   CryoSleep     8693 non-null   int64  \n",
      " 3   Cabin         8693 non-null   Int64  \n",
      " 4   Destination   8693 non-null   Int64  \n",
      " 5   Age           8693 non-null   Int64  \n",
      " 6   VIP           8693 non-null   int64  \n",
      " 7   RoomService   8693 non-null   float64\n",
      " 8   FoodCourt     8693 non-null   float64\n",
      " 9   ShoppingMall  8693 non-null   float64\n",
      " 10  Spa           8693 non-null   float64\n",
      " 11  VRDeck        8693 non-null   float64\n",
      " 12  Name          8493 non-null   object \n",
      " 13  Transported   8693 non-null   int64  \n",
      " 14  Port          8693 non-null   int64  \n",
      " 15  Place         8693 non-null   int64  \n",
      "dtypes: Int64(4), float64(5), int64(5), object(2)\n",
      "memory usage: 1.1+ MB\n"
     ]
    }
   ],
   "source": [
    "df['Cabin'] = df['Cabin'].astype('Int64')\n",
    "# #print(len(cabinSet))\n",
    "# #sorted(cabinSet.astype('Int64'))\n",
    "df.info()"
   ]
  },
  {
   "cell_type": "code",
   "execution_count": 35,
   "id": "838af8fa",
   "metadata": {
    "execution": {
     "iopub.execute_input": "2023-11-21T08:25:09.035842Z",
     "iopub.status.busy": "2023-11-21T08:25:09.034769Z",
     "iopub.status.idle": "2023-11-21T08:25:09.039438Z",
     "shell.execute_reply": "2023-11-21T08:25:09.038479Z"
    },
    "papermill": {
     "duration": 0.038781,
     "end_time": "2023-11-21T08:25:09.041631",
     "exception": false,
     "start_time": "2023-11-21T08:25:09.002850",
     "status": "completed"
    },
    "tags": []
   },
   "outputs": [],
   "source": [
    "# transported_families = df[df['Transported'] == 1].groupby(['Place','Port', 'LastName']).size()\n",
    "# print(transported_families)\n",
    "# set(transported_families)"
   ]
  },
  {
   "cell_type": "code",
   "execution_count": 36,
   "id": "21cf2e25",
   "metadata": {
    "execution": {
     "iopub.execute_input": "2023-11-21T08:25:09.105005Z",
     "iopub.status.busy": "2023-11-21T08:25:09.104228Z",
     "iopub.status.idle": "2023-11-21T08:25:10.193585Z",
     "shell.execute_reply": "2023-11-21T08:25:10.192390Z"
    },
    "papermill": {
     "duration": 1.125319,
     "end_time": "2023-11-21T08:25:10.197078",
     "exception": false,
     "start_time": "2023-11-21T08:25:09.071759",
     "status": "completed"
    },
    "tags": []
   },
   "outputs": [
    {
     "data": {
      "text/plain": [
       "<Axes: >"
      ]
     },
     "execution_count": 36,
     "metadata": {},
     "output_type": "execute_result"
    },
    {
     "data": {
      "image/png": "[encoded data removed]",
      "text/plain": [
       "<Figure size 640x480 with 2 Axes>"
      ]
     },
     "metadata": {},
     "output_type": "display_data"
    }
   ],
   "source": [
    "import seaborn as sb\n",
    "df_num = df.select_dtypes(include=['float64', 'int64'])\n",
    "\n",
    "# Calculate the correlations of numerical columns\n",
    "corr = df_num.corr()\n",
    "\n",
    "sb.heatmap(corr, annot=True)"
   ]
  },
  {
   "cell_type": "code",
   "execution_count": 37,
   "id": "d50754f7",
   "metadata": {
    "execution": {
     "iopub.execute_input": "2023-11-21T08:25:10.270754Z",
     "iopub.status.busy": "2023-11-21T08:25:10.270312Z",
     "iopub.status.idle": "2023-11-21T08:25:10.275550Z",
     "shell.execute_reply": "2023-11-21T08:25:10.274389Z"
    },
    "papermill": {
     "duration": 0.046791,
     "end_time": "2023-11-21T08:25:10.278043",
     "exception": false,
     "start_time": "2023-11-21T08:25:10.231252",
     "status": "completed"
    },
    "tags": []
   },
   "outputs": [],
   "source": [
    "# mids = sum(df[df.CryoSleep == 0].Non_Spender)\n",
    "# totalAwake = sum(df.CryoSleep == 0)\n",
    "# awakeTransported = sum(df[df.CryoSleep == 0].Transported)\n",
    "# awakeMidTransported = sum(df[(df['CryoSleep'] == 0) & (df['Age'] < 15))]['Transported'])\n",
    "# print(mids/totalAwake,awakeTransported/totalAwake, awakeMidTransported / totalAwake, awakeMidTransported / mids)\n",
    "# print(sum(df[df.Age < 15].CryoSleep == 0))"
   ]
  },
  {
   "cell_type": "code",
   "execution_count": 38,
   "id": "45b20655",
   "metadata": {
    "execution": {
     "iopub.execute_input": "2023-11-21T08:25:10.349291Z",
     "iopub.status.busy": "2023-11-21T08:25:10.348861Z",
     "iopub.status.idle": "2023-11-21T08:25:10.352832Z",
     "shell.execute_reply": "2023-11-21T08:25:10.351775Z"
    },
    "papermill": {
     "duration": 0.044996,
     "end_time": "2023-11-21T08:25:10.356537",
     "exception": false,
     "start_time": "2023-11-21T08:25:10.311541",
     "status": "completed"
    },
    "tags": []
   },
   "outputs": [],
   "source": [
    "# df = df.drop(columns=['Name'])\n",
    "# df.head(3)"
   ]
  },
  {
   "cell_type": "code",
   "execution_count": 39,
   "id": "ab49898f",
   "metadata": {
    "execution": {
     "iopub.execute_input": "2023-11-21T08:25:10.444045Z",
     "iopub.status.busy": "2023-11-21T08:25:10.443265Z",
     "iopub.status.idle": "2023-11-21T08:25:10.464414Z",
     "shell.execute_reply": "2023-11-21T08:25:10.462775Z"
    },
    "papermill": {
     "duration": 0.0683,
     "end_time": "2023-11-21T08:25:10.467584",
     "exception": false,
     "start_time": "2023-11-21T08:25:10.399284",
     "status": "completed"
    },
    "tags": []
   },
   "outputs": [
    {
     "name": "stdout",
     "output_type": "stream",
     "text": [
      "less than: 10 years:  483 679\n",
      "higher than: 10 years:  3870 7975\n"
     ]
    }
   ],
   "source": [
    "age = 10\n",
    "print('less than:',age,'years: ', sum(df[df.Age < age].Transported),sum(df.Age < age))\n",
    "print('higher than:',age,'years: ', sum(df[df.Age > age].Transported),sum(df.Age > age))"
   ]
  },
  {
   "cell_type": "code",
   "execution_count": 40,
   "id": "fb3100a6",
   "metadata": {
    "execution": {
     "iopub.execute_input": "2023-11-21T08:25:10.537522Z",
     "iopub.status.busy": "2023-11-21T08:25:10.537099Z",
     "iopub.status.idle": "2023-11-21T08:25:10.542034Z",
     "shell.execute_reply": "2023-11-21T08:25:10.540844Z"
    },
    "papermill": {
     "duration": 0.042841,
     "end_time": "2023-11-21T08:25:10.544391",
     "exception": false,
     "start_time": "2023-11-21T08:25:10.501550",
     "status": "completed"
    },
    "tags": []
   },
   "outputs": [],
   "source": [
    "# df['Aged'] = np.where(df.Age > 15, 1,0)\n",
    "# AgedCol = df.pop(\"Aged\")\n",
    "# df.insert(14, \"Aged\", AgedCol)\n",
    "# df.head(3)"
   ]
  },
  {
   "cell_type": "code",
   "execution_count": 41,
   "id": "b5833717",
   "metadata": {
    "execution": {
     "iopub.execute_input": "2023-11-21T08:25:10.615549Z",
     "iopub.status.busy": "2023-11-21T08:25:10.614497Z",
     "iopub.status.idle": "2023-11-21T08:25:10.639395Z",
     "shell.execute_reply": "2023-11-21T08:25:10.638178Z"
    },
    "papermill": {
     "duration": 0.062997,
     "end_time": "2023-11-21T08:25:10.641994",
     "exception": false,
     "start_time": "2023-11-21T08:25:10.578997",
     "status": "completed"
    },
    "tags": []
   },
   "outputs": [
    {
     "data": {
      "text/html": [
       "<div>\n",
       "<style scoped>\n",
       "    .dataframe tbody tr th:only-of-type {\n",
       "        vertical-align: middle;\n",
       "    }\n",
       "\n",
       "    .dataframe tbody tr th {\n",
       "        vertical-align: top;\n",
       "    }\n",
       "\n",
       "    .dataframe thead th {\n",
       "        text-align: right;\n",
       "    }\n",
       "</style>\n",
       "<table border=\"1\" class=\"dataframe\">\n",
       "  <thead>\n",
       "    <tr style=\"text-align: right;\">\n",
       "      <th></th>\n",
       "      <th>HomePlanet</th>\n",
       "      <th>CryoSleep</th>\n",
       "      <th>Cabin</th>\n",
       "      <th>Destination</th>\n",
       "      <th>Age</th>\n",
       "      <th>RoomService</th>\n",
       "      <th>FoodCourt</th>\n",
       "      <th>ShoppingMall</th>\n",
       "      <th>Spa</th>\n",
       "      <th>VRDeck</th>\n",
       "      <th>Port</th>\n",
       "      <th>Place</th>\n",
       "    </tr>\n",
       "  </thead>\n",
       "  <tbody>\n",
       "    <tr>\n",
       "      <th>0</th>\n",
       "      <td>2</td>\n",
       "      <td>0</td>\n",
       "      <td>0</td>\n",
       "      <td>3</td>\n",
       "      <td>39</td>\n",
       "      <td>0.0</td>\n",
       "      <td>0.0</td>\n",
       "      <td>0.0</td>\n",
       "      <td>0.0</td>\n",
       "      <td>0.0</td>\n",
       "      <td>1</td>\n",
       "      <td>2</td>\n",
       "    </tr>\n",
       "    <tr>\n",
       "      <th>1</th>\n",
       "      <td>1</td>\n",
       "      <td>0</td>\n",
       "      <td>0</td>\n",
       "      <td>3</td>\n",
       "      <td>24</td>\n",
       "      <td>109.0</td>\n",
       "      <td>9.0</td>\n",
       "      <td>25.0</td>\n",
       "      <td>549.0</td>\n",
       "      <td>44.0</td>\n",
       "      <td>0</td>\n",
       "      <td>6</td>\n",
       "    </tr>\n",
       "    <tr>\n",
       "      <th>2</th>\n",
       "      <td>2</td>\n",
       "      <td>0</td>\n",
       "      <td>0</td>\n",
       "      <td>3</td>\n",
       "      <td>58</td>\n",
       "      <td>43.0</td>\n",
       "      <td>3576.0</td>\n",
       "      <td>0.0</td>\n",
       "      <td>6715.0</td>\n",
       "      <td>49.0</td>\n",
       "      <td>0</td>\n",
       "      <td>1</td>\n",
       "    </tr>\n",
       "  </tbody>\n",
       "</table>\n",
       "</div>"
      ],
      "text/plain": [
       "   HomePlanet  CryoSleep  Cabin  Destination  Age  RoomService  FoodCourt  \\\n",
       "0           2          0      0            3   39          0.0        0.0   \n",
       "1           1          0      0            3   24        109.0        9.0   \n",
       "2           2          0      0            3   58         43.0     3576.0   \n",
       "\n",
       "   ShoppingMall     Spa  VRDeck  Port  Place  \n",
       "0           0.0     0.0     0.0     1      2  \n",
       "1          25.0   549.0    44.0     0      6  \n",
       "2           0.0  6715.0    49.0     0      1  "
      ]
     },
     "execution_count": 41,
     "metadata": {},
     "output_type": "execute_result"
    }
   ],
   "source": [
    "newtrainDF = df\n",
    "ids = newtrainDF['PassengerId'].copy()\n",
    "transporteds = newtrainDF['Transported'].copy()\n",
    "newtrainDF = newtrainDF.drop(columns=['PassengerId','Name','VIP','Transported'])\n",
    "newtrainDF.head(3)"
   ]
  },
  {
   "cell_type": "code",
   "execution_count": 42,
   "id": "404101a9",
   "metadata": {
    "execution": {
     "iopub.execute_input": "2023-11-21T08:25:10.712996Z",
     "iopub.status.busy": "2023-11-21T08:25:10.712156Z",
     "iopub.status.idle": "2023-11-21T08:25:10.726758Z",
     "shell.execute_reply": "2023-11-21T08:25:10.725236Z"
    },
    "papermill": {
     "duration": 0.052545,
     "end_time": "2023-11-21T08:25:10.729077",
     "exception": false,
     "start_time": "2023-11-21T08:25:10.676532",
     "status": "completed"
    },
    "tags": []
   },
   "outputs": [
    {
     "name": "stdout",
     "output_type": "stream",
     "text": [
      "<class 'pandas.core.frame.DataFrame'>\n",
      "RangeIndex: 8693 entries, 0 to 8692\n",
      "Data columns (total 12 columns):\n",
      " #   Column        Non-Null Count  Dtype  \n",
      "---  ------        --------------  -----  \n",
      " 0   HomePlanet    8693 non-null   Int64  \n",
      " 1   CryoSleep     8693 non-null   int64  \n",
      " 2   Cabin         8693 non-null   Int64  \n",
      " 3   Destination   8693 non-null   Int64  \n",
      " 4   Age           8693 non-null   Int64  \n",
      " 5   RoomService   8693 non-null   float64\n",
      " 6   FoodCourt     8693 non-null   float64\n",
      " 7   ShoppingMall  8693 non-null   float64\n",
      " 8   Spa           8693 non-null   float64\n",
      " 9   VRDeck        8693 non-null   float64\n",
      " 10  Port          8693 non-null   int64  \n",
      " 11  Place         8693 non-null   int64  \n",
      "dtypes: Int64(4), float64(5), int64(3)\n",
      "memory usage: 849.1 KB\n"
     ]
    }
   ],
   "source": [
    "newtrainDF.info()"
   ]
  },
  {
   "cell_type": "code",
   "execution_count": 43,
   "id": "1001ec7f",
   "metadata": {
    "execution": {
     "iopub.execute_input": "2023-11-21T08:25:10.799151Z",
     "iopub.status.busy": "2023-11-21T08:25:10.797945Z",
     "iopub.status.idle": "2023-11-21T08:25:10.803128Z",
     "shell.execute_reply": "2023-11-21T08:25:10.802269Z"
    },
    "papermill": {
     "duration": 0.042501,
     "end_time": "2023-11-21T08:25:10.805183",
     "exception": false,
     "start_time": "2023-11-21T08:25:10.762682",
     "status": "completed"
    },
    "tags": []
   },
   "outputs": [],
   "source": [
    "# from sklearn.model_selection import train_test_split\n",
    "# X_train, X_test, y_train, y_test = train_test_split(newtrainDF.drop('Transported',axis=1), \n",
    "#                                                   df['Transported'], test_size=0.30, \n",
    "#                                                     random_state=101)\n",
    "# newtrainDF.head(1)"
   ]
  },
  {
   "cell_type": "code",
   "execution_count": 44,
   "id": "51dae760",
   "metadata": {
    "execution": {
     "iopub.execute_input": "2023-11-21T08:25:10.874912Z",
     "iopub.status.busy": "2023-11-21T08:25:10.874508Z",
     "iopub.status.idle": "2023-11-21T08:25:13.942505Z",
     "shell.execute_reply": "2023-11-21T08:25:13.940884Z"
    },
    "papermill": {
     "duration": 3.107412,
     "end_time": "2023-11-21T08:25:13.946564",
     "exception": false,
     "start_time": "2023-11-21T08:25:10.839152",
     "status": "completed"
    },
    "tags": []
   },
   "outputs": [
    {
     "data": {
      "text/html": [
       "<style>#sk-container-id-1 {color: black;background-color: white;}#sk-container-id-1 pre{padding: 0;}#sk-container-id-1 div.sk-toggleable {background-color: white;}#sk-container-id-1 label.sk-toggleable__label {cursor: pointer;display: block;width: 100%;margin-bottom: 0;padding: 0.3em;box-sizing: border-box;text-align: center;}#sk-container-id-1 label.sk-toggleable__label-arrow:before {content: \"▸\";float: left;margin-right: 0.25em;color: #696969;}#sk-container-id-1 label.sk-toggleable__label-arrow:hover:before {color: black;}#sk-container-id-1 div.sk-estimator:hover label.sk-toggleable__label-arrow:before {color: black;}#sk-container-id-1 div.sk-toggleable__content {max-height: 0;max-width: 0;overflow: hidden;text-align: left;background-color: #f0f8ff;}#sk-container-id-1 div.sk-toggleable__content pre {margin: 0.2em;color: black;border-radius: 0.25em;background-color: #f0f8ff;}#sk-container-id-1 input.sk-toggleable__control:checked~div.sk-toggleable__content {max-height: 200px;max-width: 100%;overflow: auto;}#sk-container-id-1 input.sk-toggleable__control:checked~label.sk-toggleable__label-arrow:before {content: \"▾\";}#sk-container-id-1 div.sk-estimator input.sk-toggleable__control:checked~label.sk-toggleable__label {background-color: #d4ebff;}#sk-container-id-1 div.sk-label input.sk-toggleable__control:checked~label.sk-toggleable__label {background-color: #d4ebff;}#sk-container-id-1 input.sk-hidden--visually {border: 0;clip: rect(1px 1px 1px 1px);clip: rect(1px, 1px, 1px, 1px);height: 1px;margin: -1px;overflow: hidden;padding: 0;position: absolute;width: 1px;}#sk-container-id-1 div.sk-estimator {font-family: monospace;background-color: #f0f8ff;border: 1px dotted black;border-radius: 0.25em;box-sizing: border-box;margin-bottom: 0.5em;}#sk-container-id-1 div.sk-estimator:hover {background-color: #d4ebff;}#sk-container-id-1 div.sk-parallel-item::after {content: \"\";width: 100%;border-bottom: 1px solid gray;flex-grow: 1;}#sk-container-id-1 div.sk-label:hover label.sk-toggleable__label {background-color: #d4ebff;}#sk-container-id-1 div.sk-serial::before {content: \"\";position: absolute;border-left: 1px solid gray;box-sizing: border-box;top: 0;bottom: 0;left: 50%;z-index: 0;}#sk-container-id-1 div.sk-serial {display: flex;flex-direction: column;align-items: center;background-color: white;padding-right: 0.2em;padding-left: 0.2em;position: relative;}#sk-container-id-1 div.sk-item {position: relative;z-index: 1;}#sk-container-id-1 div.sk-parallel {display: flex;align-items: stretch;justify-content: center;background-color: white;position: relative;}#sk-container-id-1 div.sk-item::before, #sk-container-id-1 div.sk-parallel-item::before {content: \"\";position: absolute;border-left: 1px solid gray;box-sizing: border-box;top: 0;bottom: 0;left: 50%;z-index: -1;}#sk-container-id-1 div.sk-parallel-item {display: flex;flex-direction: column;z-index: 1;position: relative;background-color: white;}#sk-container-id-1 div.sk-parallel-item:first-child::after {align-self: flex-end;width: 50%;}#sk-container-id-1 div.sk-parallel-item:last-child::after {align-self: flex-start;width: 50%;}#sk-container-id-1 div.sk-parallel-item:only-child::after {width: 0;}#sk-container-id-1 div.sk-dashed-wrapped {border: 1px dashed gray;margin: 0 0.4em 0.5em 0.4em;box-sizing: border-box;padding-bottom: 0.4em;background-color: white;}#sk-container-id-1 div.sk-label label {font-family: monospace;font-weight: bold;display: inline-block;line-height: 1.2em;}#sk-container-id-1 div.sk-label-container {text-align: center;}#sk-container-id-1 div.sk-container {/* jupyter's `normalize.less` sets `[hidden] { display: none; }` but bootstrap.min.css set `[hidden] { display: none !important; }` so we also need the `!important` here to be able to override the default hidden behavior on the sphinx rendered scikit-learn.org. See: https://github.com/scikit-learn/scikit-learn/issues/21755 */display: inline-block !important;position: relative;}#sk-container-id-1 div.sk-text-repr-fallback {display: none;}</style><div id=\"sk-container-id-1\" class=\"sk-top-container\"><div class=\"sk-text-repr-fallback\"><pre>LogisticRegression(max_iter=10000)</pre><b>In a Jupyter environment, please rerun this cell to show the HTML representation or trust the notebook. <br />On GitHub, the HTML representation is unable to render, please try loading this page with nbviewer.org.</b></div><div class=\"sk-container\" hidden><div class=\"sk-item\"><div class=\"sk-estimator sk-toggleable\"><input class=\"sk-toggleable__control sk-hidden--visually\" id=\"sk-estimator-id-1\" type=\"checkbox\" checked><label for=\"sk-estimator-id-1\" class=\"sk-toggleable__label sk-toggleable__label-arrow\">LogisticRegression</label><div class=\"sk-toggleable__content\"><pre>LogisticRegression(max_iter=10000)</pre></div></div></div></div></div>"
      ],
      "text/plain": [
       "LogisticRegression(max_iter=10000)"
      ]
     },
     "execution_count": 44,
     "metadata": {},
     "output_type": "execute_result"
    }
   ],
   "source": [
    "from sklearn.linear_model import LogisticRegression\n",
    "logmodel = LogisticRegression(max_iter=10000)\n",
    "logmodel.fit(newtrainDF, transporteds)"
   ]
  },
  {
   "cell_type": "code",
   "execution_count": 45,
   "id": "9a3c8326",
   "metadata": {
    "execution": {
     "iopub.execute_input": "2023-11-21T08:25:14.070925Z",
     "iopub.status.busy": "2023-11-21T08:25:14.070522Z",
     "iopub.status.idle": "2023-11-21T08:25:14.117026Z",
     "shell.execute_reply": "2023-11-21T08:25:14.115527Z"
    },
    "papermill": {
     "duration": 0.098662,
     "end_time": "2023-11-21T08:25:14.120035",
     "exception": false,
     "start_time": "2023-11-21T08:25:14.021373",
     "status": "completed"
    },
    "tags": []
   },
   "outputs": [],
   "source": [
    "df_test = pd.read_csv(\"/kaggle/input/spaceship-titanic/test.csv\")\n",
    "ids_test = df_test['PassengerId'].copy()\n",
    "# # Removing NANs\n",
    "# df_test[\"CryoSleep\"].fillna(df_test[\"CryoSleep\"].mode()[0],inplace=True)\n",
    "# df_test[\"Age\"].fillna(df_test[\"Age\"].mean(),inplace=True)\n",
    "# df_test[\"RoomService\"].fillna(df_test[\"RoomService\"].mean(),inplace=True)\n",
    "# df_test[\"FoodCourt\"].fillna(df_test[\"FoodCourt\"].mean(),inplace=True)\n",
    "# df_test[\"ShoppingMall\"].fillna(df_test[\"ShoppingMall\"].mean(),inplace=True)\n",
    "# df_test[\"Spa\"].fillna(df_test[\"Spa\"].mean(),inplace=True)\n",
    "# df_test[\"VRDeck\"].fillna(df_test[\"VRDeck\"].mean(),inplace=True)\n",
    "# df_test.VIP = np.where(df_test.VIP,1,0)\n",
    "# df_test.CryoSleep = np.where(df_test.CryoSleep,1,0)\n",
    "# df_test = df_test.drop([\"Name\",\"HomePlanet\",\"Destination\",\"Cabin\"], axis='columns')\n",
    "# df_test.info()"
   ]
  },
  {
   "cell_type": "code",
   "execution_count": 46,
   "id": "3f325f66",
   "metadata": {
    "execution": {
     "iopub.execute_input": "2023-11-21T08:25:14.191416Z",
     "iopub.status.busy": "2023-11-21T08:25:14.190952Z",
     "iopub.status.idle": "2023-11-21T08:25:14.217254Z",
     "shell.execute_reply": "2023-11-21T08:25:14.216174Z"
    },
    "papermill": {
     "duration": 0.06508,
     "end_time": "2023-11-21T08:25:14.219989",
     "exception": false,
     "start_time": "2023-11-21T08:25:14.154909",
     "status": "completed"
    },
    "tags": []
   },
   "outputs": [
    {
     "data": {
      "text/html": [
       "<div>\n",
       "<style scoped>\n",
       "    .dataframe tbody tr th:only-of-type {\n",
       "        vertical-align: middle;\n",
       "    }\n",
       "\n",
       "    .dataframe tbody tr th {\n",
       "        vertical-align: top;\n",
       "    }\n",
       "\n",
       "    .dataframe thead th {\n",
       "        text-align: right;\n",
       "    }\n",
       "</style>\n",
       "<table border=\"1\" class=\"dataframe\">\n",
       "  <thead>\n",
       "    <tr style=\"text-align: right;\">\n",
       "      <th></th>\n",
       "      <th>PassengerId</th>\n",
       "      <th>HomePlanet</th>\n",
       "      <th>CryoSleep</th>\n",
       "      <th>Cabin</th>\n",
       "      <th>Destination</th>\n",
       "      <th>Age</th>\n",
       "      <th>VIP</th>\n",
       "      <th>RoomService</th>\n",
       "      <th>FoodCourt</th>\n",
       "      <th>ShoppingMall</th>\n",
       "      <th>Spa</th>\n",
       "      <th>VRDeck</th>\n",
       "      <th>Name</th>\n",
       "    </tr>\n",
       "  </thead>\n",
       "  <tbody>\n",
       "    <tr>\n",
       "      <th>0</th>\n",
       "      <td>0013_01</td>\n",
       "      <td>Earth</td>\n",
       "      <td>1.0</td>\n",
       "      <td>G/3/S</td>\n",
       "      <td>TRAPPIST-1e</td>\n",
       "      <td>27.0</td>\n",
       "      <td>False</td>\n",
       "      <td>0.0</td>\n",
       "      <td>0.0</td>\n",
       "      <td>0.0</td>\n",
       "      <td>0.0</td>\n",
       "      <td>0.0</td>\n",
       "      <td>Nelly Carsoning</td>\n",
       "    </tr>\n",
       "    <tr>\n",
       "      <th>1</th>\n",
       "      <td>0018_01</td>\n",
       "      <td>Earth</td>\n",
       "      <td>0.0</td>\n",
       "      <td>F/4/S</td>\n",
       "      <td>TRAPPIST-1e</td>\n",
       "      <td>19.0</td>\n",
       "      <td>False</td>\n",
       "      <td>0.0</td>\n",
       "      <td>9.0</td>\n",
       "      <td>0.0</td>\n",
       "      <td>2823.0</td>\n",
       "      <td>0.0</td>\n",
       "      <td>Lerome Peckers</td>\n",
       "    </tr>\n",
       "    <tr>\n",
       "      <th>2</th>\n",
       "      <td>0019_01</td>\n",
       "      <td>Europa</td>\n",
       "      <td>1.0</td>\n",
       "      <td>C/0/S</td>\n",
       "      <td>55 Cancri e</td>\n",
       "      <td>31.0</td>\n",
       "      <td>False</td>\n",
       "      <td>0.0</td>\n",
       "      <td>0.0</td>\n",
       "      <td>0.0</td>\n",
       "      <td>0.0</td>\n",
       "      <td>0.0</td>\n",
       "      <td>Sabih Unhearfus</td>\n",
       "    </tr>\n",
       "  </tbody>\n",
       "</table>\n",
       "</div>"
      ],
      "text/plain": [
       "  PassengerId HomePlanet  CryoSleep  Cabin  Destination   Age    VIP  \\\n",
       "0     0013_01      Earth        1.0  G/3/S  TRAPPIST-1e  27.0  False   \n",
       "1     0018_01      Earth        0.0  F/4/S  TRAPPIST-1e  19.0  False   \n",
       "2     0019_01     Europa        1.0  C/0/S  55 Cancri e  31.0  False   \n",
       "\n",
       "   RoomService  FoodCourt  ShoppingMall     Spa  VRDeck             Name  \n",
       "0          0.0        0.0           0.0     0.0     0.0  Nelly Carsoning  \n",
       "1          0.0        9.0           0.0  2823.0     0.0   Lerome Peckers  \n",
       "2          0.0        0.0           0.0     0.0     0.0  Sabih Unhearfus  "
      ]
     },
     "execution_count": 46,
     "metadata": {},
     "output_type": "execute_result"
    }
   ],
   "source": [
    "df_test['CryoSleep'] = df_test['CryoSleep'].replace({True: 1, False: 0})\n",
    "df_test.head(3)"
   ]
  },
  {
   "cell_type": "code",
   "execution_count": 47,
   "id": "b8eef9b7",
   "metadata": {
    "execution": {
     "iopub.execute_input": "2023-11-21T08:25:14.292973Z",
     "iopub.status.busy": "2023-11-21T08:25:14.292557Z",
     "iopub.status.idle": "2023-11-21T08:25:14.321267Z",
     "shell.execute_reply": "2023-11-21T08:25:14.320181Z"
    },
    "papermill": {
     "duration": 0.067813,
     "end_time": "2023-11-21T08:25:14.323663",
     "exception": false,
     "start_time": "2023-11-21T08:25:14.255850",
     "status": "completed"
    },
    "tags": []
   },
   "outputs": [
    {
     "data": {
      "text/html": [
       "<div>\n",
       "<style scoped>\n",
       "    .dataframe tbody tr th:only-of-type {\n",
       "        vertical-align: middle;\n",
       "    }\n",
       "\n",
       "    .dataframe tbody tr th {\n",
       "        vertical-align: top;\n",
       "    }\n",
       "\n",
       "    .dataframe thead th {\n",
       "        text-align: right;\n",
       "    }\n",
       "</style>\n",
       "<table border=\"1\" class=\"dataframe\">\n",
       "  <thead>\n",
       "    <tr style=\"text-align: right;\">\n",
       "      <th></th>\n",
       "      <th>PassengerId</th>\n",
       "      <th>HomePlanet</th>\n",
       "      <th>CryoSleep</th>\n",
       "      <th>Cabin</th>\n",
       "      <th>Destination</th>\n",
       "      <th>Age</th>\n",
       "      <th>VIP</th>\n",
       "      <th>RoomService</th>\n",
       "      <th>FoodCourt</th>\n",
       "      <th>ShoppingMall</th>\n",
       "      <th>Spa</th>\n",
       "      <th>VRDeck</th>\n",
       "      <th>Name</th>\n",
       "    </tr>\n",
       "  </thead>\n",
       "  <tbody>\n",
       "    <tr>\n",
       "      <th>0</th>\n",
       "      <td>0013_01</td>\n",
       "      <td>1.0</td>\n",
       "      <td>1.0</td>\n",
       "      <td>G/3/S</td>\n",
       "      <td>TRAPPIST-1e</td>\n",
       "      <td>27.0</td>\n",
       "      <td>False</td>\n",
       "      <td>0.0</td>\n",
       "      <td>0.0</td>\n",
       "      <td>0.0</td>\n",
       "      <td>0.0</td>\n",
       "      <td>0.0</td>\n",
       "      <td>Nelly Carsoning</td>\n",
       "    </tr>\n",
       "    <tr>\n",
       "      <th>1</th>\n",
       "      <td>0018_01</td>\n",
       "      <td>1.0</td>\n",
       "      <td>0.0</td>\n",
       "      <td>F/4/S</td>\n",
       "      <td>TRAPPIST-1e</td>\n",
       "      <td>19.0</td>\n",
       "      <td>False</td>\n",
       "      <td>0.0</td>\n",
       "      <td>9.0</td>\n",
       "      <td>0.0</td>\n",
       "      <td>2823.0</td>\n",
       "      <td>0.0</td>\n",
       "      <td>Lerome Peckers</td>\n",
       "    </tr>\n",
       "    <tr>\n",
       "      <th>2</th>\n",
       "      <td>0019_01</td>\n",
       "      <td>2.0</td>\n",
       "      <td>1.0</td>\n",
       "      <td>C/0/S</td>\n",
       "      <td>55 Cancri e</td>\n",
       "      <td>31.0</td>\n",
       "      <td>False</td>\n",
       "      <td>0.0</td>\n",
       "      <td>0.0</td>\n",
       "      <td>0.0</td>\n",
       "      <td>0.0</td>\n",
       "      <td>0.0</td>\n",
       "      <td>Sabih Unhearfus</td>\n",
       "    </tr>\n",
       "  </tbody>\n",
       "</table>\n",
       "</div>"
      ],
      "text/plain": [
       "  PassengerId  HomePlanet  CryoSleep  Cabin  Destination   Age    VIP  \\\n",
       "0     0013_01         1.0        1.0  G/3/S  TRAPPIST-1e  27.0  False   \n",
       "1     0018_01         1.0        0.0  F/4/S  TRAPPIST-1e  19.0  False   \n",
       "2     0019_01         2.0        1.0  C/0/S  55 Cancri e  31.0  False   \n",
       "\n",
       "   RoomService  FoodCourt  ShoppingMall     Spa  VRDeck             Name  \n",
       "0          0.0        0.0           0.0     0.0     0.0  Nelly Carsoning  \n",
       "1          0.0        9.0           0.0  2823.0     0.0   Lerome Peckers  \n",
       "2          0.0        0.0           0.0     0.0     0.0  Sabih Unhearfus  "
      ]
     },
     "execution_count": 47,
     "metadata": {},
     "output_type": "execute_result"
    }
   ],
   "source": [
    "df_test['HomePlanet'].replace('Earth', 1, inplace=True)\n",
    "df_test['HomePlanet'].replace('Europa', 2, inplace=True)\n",
    "df_test['HomePlanet'].replace('Mars', 3, inplace=True)\n",
    "df_test.head(3)"
   ]
  },
  {
   "cell_type": "code",
   "execution_count": 48,
   "id": "d987ffae",
   "metadata": {
    "execution": {
     "iopub.execute_input": "2023-11-21T08:25:14.401761Z",
     "iopub.status.busy": "2023-11-21T08:25:14.400206Z",
     "iopub.status.idle": "2023-11-21T08:25:14.427066Z",
     "shell.execute_reply": "2023-11-21T08:25:14.425953Z"
    },
    "papermill": {
     "duration": 0.067476,
     "end_time": "2023-11-21T08:25:14.429456",
     "exception": false,
     "start_time": "2023-11-21T08:25:14.361980",
     "status": "completed"
    },
    "tags": []
   },
   "outputs": [
    {
     "data": {
      "text/html": [
       "<div>\n",
       "<style scoped>\n",
       "    .dataframe tbody tr th:only-of-type {\n",
       "        vertical-align: middle;\n",
       "    }\n",
       "\n",
       "    .dataframe tbody tr th {\n",
       "        vertical-align: top;\n",
       "    }\n",
       "\n",
       "    .dataframe thead th {\n",
       "        text-align: right;\n",
       "    }\n",
       "</style>\n",
       "<table border=\"1\" class=\"dataframe\">\n",
       "  <thead>\n",
       "    <tr style=\"text-align: right;\">\n",
       "      <th></th>\n",
       "      <th>PassengerId</th>\n",
       "      <th>HomePlanet</th>\n",
       "      <th>CryoSleep</th>\n",
       "      <th>Cabin</th>\n",
       "      <th>Destination</th>\n",
       "      <th>Age</th>\n",
       "      <th>VIP</th>\n",
       "      <th>RoomService</th>\n",
       "      <th>FoodCourt</th>\n",
       "      <th>ShoppingMall</th>\n",
       "      <th>Spa</th>\n",
       "      <th>VRDeck</th>\n",
       "      <th>Name</th>\n",
       "    </tr>\n",
       "  </thead>\n",
       "  <tbody>\n",
       "    <tr>\n",
       "      <th>0</th>\n",
       "      <td>0013_01</td>\n",
       "      <td>1.0</td>\n",
       "      <td>1.0</td>\n",
       "      <td>G/3/S</td>\n",
       "      <td>3.0</td>\n",
       "      <td>27.0</td>\n",
       "      <td>False</td>\n",
       "      <td>0.0</td>\n",
       "      <td>0.0</td>\n",
       "      <td>0.0</td>\n",
       "      <td>0.0</td>\n",
       "      <td>0.0</td>\n",
       "      <td>Nelly Carsoning</td>\n",
       "    </tr>\n",
       "  </tbody>\n",
       "</table>\n",
       "</div>"
      ],
      "text/plain": [
       "  PassengerId  HomePlanet  CryoSleep  Cabin  Destination   Age    VIP  \\\n",
       "0     0013_01         1.0        1.0  G/3/S          3.0  27.0  False   \n",
       "\n",
       "   RoomService  FoodCourt  ShoppingMall  Spa  VRDeck             Name  \n",
       "0          0.0        0.0           0.0  0.0     0.0  Nelly Carsoning  "
      ]
     },
     "execution_count": 48,
     "metadata": {},
     "output_type": "execute_result"
    }
   ],
   "source": [
    "df_test['Destination'].replace('55 Cancri e', 1, inplace=True)\n",
    "df_test['Destination'].replace('PSO J318.5-22', 2, inplace=True)\n",
    "df_test['Destination'].replace('TRAPPIST-1e', 3, inplace=True)\n",
    "# Calculate mean\n",
    "#df_test['Mean_luxury'] = df_test[['RoomService', 'FoodCourt', 'ShoppingMall', 'Spa', 'VRDeck']].mean(axis=1)\n",
    "df_test.head(1)"
   ]
  },
  {
   "cell_type": "code",
   "execution_count": 49,
   "id": "ce554907",
   "metadata": {
    "execution": {
     "iopub.execute_input": "2023-11-21T08:25:14.504106Z",
     "iopub.status.busy": "2023-11-21T08:25:14.503680Z",
     "iopub.status.idle": "2023-11-21T08:25:14.508489Z",
     "shell.execute_reply": "2023-11-21T08:25:14.507296Z"
    },
    "papermill": {
     "duration": 0.045115,
     "end_time": "2023-11-21T08:25:14.511157",
     "exception": false,
     "start_time": "2023-11-21T08:25:14.466042",
     "status": "completed"
    },
    "tags": []
   },
   "outputs": [],
   "source": [
    "# df_test = df_test.drop(columns=['RoomService', 'FoodCourt', 'ShoppingMall', 'Spa', 'VRDeck','Name','VIP'])\n",
    "# df_test.head(1)"
   ]
  },
  {
   "cell_type": "code",
   "execution_count": 50,
   "id": "90f0595a",
   "metadata": {
    "execution": {
     "iopub.execute_input": "2023-11-21T08:25:14.586100Z",
     "iopub.status.busy": "2023-11-21T08:25:14.585400Z",
     "iopub.status.idle": "2023-11-21T08:25:14.590575Z",
     "shell.execute_reply": "2023-11-21T08:25:14.589433Z"
    },
    "papermill": {
     "duration": 0.045805,
     "end_time": "2023-11-21T08:25:14.592919",
     "exception": false,
     "start_time": "2023-11-21T08:25:14.547114",
     "status": "completed"
    },
    "tags": []
   },
   "outputs": [],
   "source": [
    "# df_test['BigSpender'] = np.where(df_test.Mean_luxury > 1000, 1,0)\n",
    "# df_test['Mid_Spender'] = np.where(df_test.Mean_luxury >= 500, 1,0)\n",
    "# df_test['Non_Spender'] = np.where(df_test.Mean_luxury == 0, 1,0)\n",
    "# df_test.head(1)"
   ]
  },
  {
   "cell_type": "code",
   "execution_count": 51,
   "id": "8e76a4c1",
   "metadata": {
    "execution": {
     "iopub.execute_input": "2023-11-21T08:25:14.667576Z",
     "iopub.status.busy": "2023-11-21T08:25:14.667156Z",
     "iopub.status.idle": "2023-11-21T08:25:14.702760Z",
     "shell.execute_reply": "2023-11-21T08:25:14.701541Z"
    },
    "papermill": {
     "duration": 0.075969,
     "end_time": "2023-11-21T08:25:14.705318",
     "exception": false,
     "start_time": "2023-11-21T08:25:14.629349",
     "status": "completed"
    },
    "tags": []
   },
   "outputs": [
    {
     "data": {
      "text/html": [
       "<div>\n",
       "<style scoped>\n",
       "    .dataframe tbody tr th:only-of-type {\n",
       "        vertical-align: middle;\n",
       "    }\n",
       "\n",
       "    .dataframe tbody tr th {\n",
       "        vertical-align: top;\n",
       "    }\n",
       "\n",
       "    .dataframe thead th {\n",
       "        text-align: right;\n",
       "    }\n",
       "</style>\n",
       "<table border=\"1\" class=\"dataframe\">\n",
       "  <thead>\n",
       "    <tr style=\"text-align: right;\">\n",
       "      <th></th>\n",
       "      <th>PassengerId</th>\n",
       "      <th>HomePlanet</th>\n",
       "      <th>CryoSleep</th>\n",
       "      <th>Cabin</th>\n",
       "      <th>Destination</th>\n",
       "      <th>Age</th>\n",
       "      <th>VIP</th>\n",
       "      <th>RoomService</th>\n",
       "      <th>FoodCourt</th>\n",
       "      <th>ShoppingMall</th>\n",
       "      <th>Spa</th>\n",
       "      <th>VRDeck</th>\n",
       "      <th>Name</th>\n",
       "      <th>Port</th>\n",
       "    </tr>\n",
       "  </thead>\n",
       "  <tbody>\n",
       "    <tr>\n",
       "      <th>0</th>\n",
       "      <td>0013_01</td>\n",
       "      <td>1.0</td>\n",
       "      <td>1.0</td>\n",
       "      <td>G/3/S</td>\n",
       "      <td>3.0</td>\n",
       "      <td>27.0</td>\n",
       "      <td>False</td>\n",
       "      <td>0.0</td>\n",
       "      <td>0.0</td>\n",
       "      <td>0.0</td>\n",
       "      <td>0.0</td>\n",
       "      <td>0.0</td>\n",
       "      <td>Nelly Carsoning</td>\n",
       "      <td>0.0</td>\n",
       "    </tr>\n",
       "  </tbody>\n",
       "</table>\n",
       "</div>"
      ],
      "text/plain": [
       "  PassengerId  HomePlanet  CryoSleep  Cabin  Destination   Age    VIP  \\\n",
       "0     0013_01         1.0        1.0  G/3/S          3.0  27.0  False   \n",
       "\n",
       "   RoomService  FoodCourt  ShoppingMall  Spa  VRDeck             Name  Port  \n",
       "0          0.0        0.0           0.0  0.0     0.0  Nelly Carsoning   0.0  "
      ]
     },
     "execution_count": 51,
     "metadata": {},
     "output_type": "execute_result"
    }
   ],
   "source": [
    "df_test['Port'] = df_test['Cabin'].str.split('/').str[-1]\n",
    "df_test['Port'].replace('S', 0, inplace=True)\n",
    "df_test['Port'].replace('P', 1, inplace=True)\n",
    "df_test.head(1)"
   ]
  },
  {
   "cell_type": "code",
   "execution_count": 52,
   "id": "ead84d68",
   "metadata": {
    "execution": {
     "iopub.execute_input": "2023-11-21T08:25:14.779585Z",
     "iopub.status.busy": "2023-11-21T08:25:14.779170Z",
     "iopub.status.idle": "2023-11-21T08:25:14.811921Z",
     "shell.execute_reply": "2023-11-21T08:25:14.810578Z"
    },
    "papermill": {
     "duration": 0.073519,
     "end_time": "2023-11-21T08:25:14.814980",
     "exception": false,
     "start_time": "2023-11-21T08:25:14.741461",
     "status": "completed"
    },
    "tags": []
   },
   "outputs": [
    {
     "data": {
      "text/html": [
       "<div>\n",
       "<style scoped>\n",
       "    .dataframe tbody tr th:only-of-type {\n",
       "        vertical-align: middle;\n",
       "    }\n",
       "\n",
       "    .dataframe tbody tr th {\n",
       "        vertical-align: top;\n",
       "    }\n",
       "\n",
       "    .dataframe thead th {\n",
       "        text-align: right;\n",
       "    }\n",
       "</style>\n",
       "<table border=\"1\" class=\"dataframe\">\n",
       "  <thead>\n",
       "    <tr style=\"text-align: right;\">\n",
       "      <th></th>\n",
       "      <th>PassengerId</th>\n",
       "      <th>HomePlanet</th>\n",
       "      <th>CryoSleep</th>\n",
       "      <th>Cabin</th>\n",
       "      <th>Destination</th>\n",
       "      <th>Age</th>\n",
       "      <th>VIP</th>\n",
       "      <th>RoomService</th>\n",
       "      <th>FoodCourt</th>\n",
       "      <th>ShoppingMall</th>\n",
       "      <th>Spa</th>\n",
       "      <th>VRDeck</th>\n",
       "      <th>Name</th>\n",
       "      <th>Port</th>\n",
       "      <th>Place</th>\n",
       "    </tr>\n",
       "  </thead>\n",
       "  <tbody>\n",
       "    <tr>\n",
       "      <th>0</th>\n",
       "      <td>0013_01</td>\n",
       "      <td>1.0</td>\n",
       "      <td>1.0</td>\n",
       "      <td>G/3/S</td>\n",
       "      <td>3.0</td>\n",
       "      <td>27.0</td>\n",
       "      <td>False</td>\n",
       "      <td>0.0</td>\n",
       "      <td>0.0</td>\n",
       "      <td>0.0</td>\n",
       "      <td>0.0</td>\n",
       "      <td>0.0</td>\n",
       "      <td>Nelly Carsoning</td>\n",
       "      <td>0.0</td>\n",
       "      <td>7.0</td>\n",
       "    </tr>\n",
       "  </tbody>\n",
       "</table>\n",
       "</div>"
      ],
      "text/plain": [
       "  PassengerId  HomePlanet  CryoSleep  Cabin  Destination   Age    VIP  \\\n",
       "0     0013_01         1.0        1.0  G/3/S          3.0  27.0  False   \n",
       "\n",
       "   RoomService  FoodCourt  ShoppingMall  Spa  VRDeck             Name  Port  \\\n",
       "0          0.0        0.0           0.0  0.0     0.0  Nelly Carsoning   0.0   \n",
       "\n",
       "   Place  \n",
       "0    7.0  "
      ]
     },
     "execution_count": 52,
     "metadata": {},
     "output_type": "execute_result"
    }
   ],
   "source": [
    "df_test['Place'] = df_test['Cabin'].str.split('/').str[0]\n",
    "letter_to_int = {'A': 1, 'B': 2, 'C': 3, 'D': 4, 'E': 5, 'F': 6, 'G': 7, 'T': 8}\n",
    "df_test['Place'] = df_test['Place'].map(letter_to_int)\n",
    "df_test.head(1)"
   ]
  },
  {
   "cell_type": "code",
   "execution_count": 53,
   "id": "976d6f72",
   "metadata": {
    "execution": {
     "iopub.execute_input": "2023-11-21T08:25:14.890209Z",
     "iopub.status.busy": "2023-11-21T08:25:14.889816Z",
     "iopub.status.idle": "2023-11-21T08:25:14.920357Z",
     "shell.execute_reply": "2023-11-21T08:25:14.919038Z"
    },
    "papermill": {
     "duration": 0.07161,
     "end_time": "2023-11-21T08:25:14.923153",
     "exception": false,
     "start_time": "2023-11-21T08:25:14.851543",
     "status": "completed"
    },
    "tags": []
   },
   "outputs": [
    {
     "data": {
      "text/html": [
       "<div>\n",
       "<style scoped>\n",
       "    .dataframe tbody tr th:only-of-type {\n",
       "        vertical-align: middle;\n",
       "    }\n",
       "\n",
       "    .dataframe tbody tr th {\n",
       "        vertical-align: top;\n",
       "    }\n",
       "\n",
       "    .dataframe thead th {\n",
       "        text-align: right;\n",
       "    }\n",
       "</style>\n",
       "<table border=\"1\" class=\"dataframe\">\n",
       "  <thead>\n",
       "    <tr style=\"text-align: right;\">\n",
       "      <th></th>\n",
       "      <th>PassengerId</th>\n",
       "      <th>HomePlanet</th>\n",
       "      <th>CryoSleep</th>\n",
       "      <th>Cabin</th>\n",
       "      <th>Destination</th>\n",
       "      <th>Age</th>\n",
       "      <th>VIP</th>\n",
       "      <th>RoomService</th>\n",
       "      <th>FoodCourt</th>\n",
       "      <th>ShoppingMall</th>\n",
       "      <th>Spa</th>\n",
       "      <th>VRDeck</th>\n",
       "      <th>Name</th>\n",
       "      <th>Port</th>\n",
       "      <th>Place</th>\n",
       "    </tr>\n",
       "  </thead>\n",
       "  <tbody>\n",
       "    <tr>\n",
       "      <th>0</th>\n",
       "      <td>0013_01</td>\n",
       "      <td>1.0</td>\n",
       "      <td>1.0</td>\n",
       "      <td>3</td>\n",
       "      <td>3.0</td>\n",
       "      <td>27.0</td>\n",
       "      <td>False</td>\n",
       "      <td>0.0</td>\n",
       "      <td>0.0</td>\n",
       "      <td>0.0</td>\n",
       "      <td>0.0</td>\n",
       "      <td>0.0</td>\n",
       "      <td>Nelly Carsoning</td>\n",
       "      <td>0.0</td>\n",
       "      <td>7.0</td>\n",
       "    </tr>\n",
       "  </tbody>\n",
       "</table>\n",
       "</div>"
      ],
      "text/plain": [
       "  PassengerId  HomePlanet  CryoSleep Cabin  Destination   Age    VIP  \\\n",
       "0     0013_01         1.0        1.0     3          3.0  27.0  False   \n",
       "\n",
       "   RoomService  FoodCourt  ShoppingMall  Spa  VRDeck             Name  Port  \\\n",
       "0          0.0        0.0           0.0  0.0     0.0  Nelly Carsoning   0.0   \n",
       "\n",
       "   Place  \n",
       "0    7.0  "
      ]
     },
     "execution_count": 53,
     "metadata": {},
     "output_type": "execute_result"
    }
   ],
   "source": [
    "df_test['Cabin'] = df_test['Cabin'].str.split('/').str[1]\n",
    "df_test.head(1)"
   ]
  },
  {
   "cell_type": "code",
   "execution_count": 54,
   "id": "aa725779",
   "metadata": {
    "execution": {
     "iopub.execute_input": "2023-11-21T08:25:14.998612Z",
     "iopub.status.busy": "2023-11-21T08:25:14.997884Z",
     "iopub.status.idle": "2023-11-21T08:25:15.003072Z",
     "shell.execute_reply": "2023-11-21T08:25:15.001974Z"
    },
    "papermill": {
     "duration": 0.045518,
     "end_time": "2023-11-21T08:25:15.005268",
     "exception": false,
     "start_time": "2023-11-21T08:25:14.959750",
     "status": "completed"
    },
    "tags": []
   },
   "outputs": [],
   "source": [
    "# df_test['Aged'] = np.where(df_test.Age > 15, 1,0)\n",
    "# df_test.head(1)"
   ]
  },
  {
   "cell_type": "code",
   "execution_count": 55,
   "id": "25fe7e12",
   "metadata": {
    "execution": {
     "iopub.execute_input": "2023-11-21T08:25:15.081136Z",
     "iopub.status.busy": "2023-11-21T08:25:15.080751Z",
     "iopub.status.idle": "2023-11-21T08:25:15.100719Z",
     "shell.execute_reply": "2023-11-21T08:25:15.099538Z"
    },
    "papermill": {
     "duration": 0.060963,
     "end_time": "2023-11-21T08:25:15.103248",
     "exception": false,
     "start_time": "2023-11-21T08:25:15.042285",
     "status": "completed"
    },
    "tags": []
   },
   "outputs": [
    {
     "data": {
      "text/html": [
       "<div>\n",
       "<style scoped>\n",
       "    .dataframe tbody tr th:only-of-type {\n",
       "        vertical-align: middle;\n",
       "    }\n",
       "\n",
       "    .dataframe tbody tr th {\n",
       "        vertical-align: top;\n",
       "    }\n",
       "\n",
       "    .dataframe thead th {\n",
       "        text-align: right;\n",
       "    }\n",
       "</style>\n",
       "<table border=\"1\" class=\"dataframe\">\n",
       "  <thead>\n",
       "    <tr style=\"text-align: right;\">\n",
       "      <th></th>\n",
       "      <th>HomePlanet</th>\n",
       "      <th>CryoSleep</th>\n",
       "      <th>Cabin</th>\n",
       "      <th>Destination</th>\n",
       "      <th>Age</th>\n",
       "      <th>RoomService</th>\n",
       "      <th>FoodCourt</th>\n",
       "      <th>ShoppingMall</th>\n",
       "      <th>Spa</th>\n",
       "      <th>VRDeck</th>\n",
       "      <th>Port</th>\n",
       "      <th>Place</th>\n",
       "    </tr>\n",
       "  </thead>\n",
       "  <tbody>\n",
       "    <tr>\n",
       "      <th>0</th>\n",
       "      <td>1.0</td>\n",
       "      <td>1.0</td>\n",
       "      <td>3</td>\n",
       "      <td>3.0</td>\n",
       "      <td>27.0</td>\n",
       "      <td>0.0</td>\n",
       "      <td>0.0</td>\n",
       "      <td>0.0</td>\n",
       "      <td>0.0</td>\n",
       "      <td>0.0</td>\n",
       "      <td>0.0</td>\n",
       "      <td>7.0</td>\n",
       "    </tr>\n",
       "  </tbody>\n",
       "</table>\n",
       "</div>"
      ],
      "text/plain": [
       "   HomePlanet  CryoSleep Cabin  Destination   Age  RoomService  FoodCourt  \\\n",
       "0         1.0        1.0     3          3.0  27.0          0.0        0.0   \n",
       "\n",
       "   ShoppingMall  Spa  VRDeck  Port  Place  \n",
       "0           0.0  0.0     0.0   0.0    7.0  "
      ]
     },
     "execution_count": 55,
     "metadata": {},
     "output_type": "execute_result"
    }
   ],
   "source": [
    "df_test = df_test.drop(columns=['PassengerId','VIP','Name'])\n",
    "df_test.head(1)"
   ]
  },
  {
   "cell_type": "code",
   "execution_count": 56,
   "id": "3fd96dd3",
   "metadata": {
    "execution": {
     "iopub.execute_input": "2023-11-21T08:25:15.180186Z",
     "iopub.status.busy": "2023-11-21T08:25:15.179734Z",
     "iopub.status.idle": "2023-11-21T08:25:15.184715Z",
     "shell.execute_reply": "2023-11-21T08:25:15.183388Z"
    },
    "papermill": {
     "duration": 0.046386,
     "end_time": "2023-11-21T08:25:15.186978",
     "exception": false,
     "start_time": "2023-11-21T08:25:15.140592",
     "status": "completed"
    },
    "tags": []
   },
   "outputs": [],
   "source": [
    "# columns_titles = [\"HomePlanet\",\"CryoSleep\", \"Destination\",\"Age\",\"Mean_luxury\",\"Port\",\"Place\"]\n",
    "# df_test=df_test.reindex(columns=columns_titles)\n",
    "# df_test.head(3)"
   ]
  },
  {
   "cell_type": "code",
   "execution_count": 57,
   "id": "546bafd4",
   "metadata": {
    "execution": {
     "iopub.execute_input": "2023-11-21T08:25:15.264428Z",
     "iopub.status.busy": "2023-11-21T08:25:15.263569Z",
     "iopub.status.idle": "2023-11-21T08:25:15.289993Z",
     "shell.execute_reply": "2023-11-21T08:25:15.289080Z"
    },
    "papermill": {
     "duration": 0.068373,
     "end_time": "2023-11-21T08:25:15.292758",
     "exception": false,
     "start_time": "2023-11-21T08:25:15.224385",
     "status": "completed"
    },
    "tags": []
   },
   "outputs": [
    {
     "name": "stdout",
     "output_type": "stream",
     "text": [
      "<class 'pandas.core.frame.DataFrame'>\n",
      "RangeIndex: 4277 entries, 0 to 4276\n",
      "Data columns (total 12 columns):\n",
      " #   Column        Non-Null Count  Dtype  \n",
      "---  ------        --------------  -----  \n",
      " 0   HomePlanet    4190 non-null   Int64  \n",
      " 1   CryoSleep     4184 non-null   Int64  \n",
      " 2   Cabin         4177 non-null   object \n",
      " 3   Destination   4185 non-null   Int64  \n",
      " 4   Age           4186 non-null   Int64  \n",
      " 5   RoomService   4195 non-null   float64\n",
      " 6   FoodCourt     4171 non-null   float64\n",
      " 7   ShoppingMall  4179 non-null   float64\n",
      " 8   Spa           4176 non-null   float64\n",
      " 9   VRDeck        4197 non-null   float64\n",
      " 10  Port          4177 non-null   Int64  \n",
      " 11  Place         4177 non-null   Int64  \n",
      "dtypes: Int64(6), float64(5), object(1)\n",
      "memory usage: 426.2+ KB\n"
     ]
    }
   ],
   "source": [
    "df_test[['HomePlanet', 'CryoSleep', 'Destination', 'Age', 'Port', 'Place']] = df_test[['HomePlanet', 'CryoSleep', 'Destination', 'Age', 'Port', 'Place']].astype('Int64')\n",
    "# df_test['Cabin'] = df_test['Cabin'].astype('Int64')\n",
    "# #print(len(cabinSet))\n",
    "# #sorted(cabinSet.astype('Int64'))\n",
    "df_test.head(1)\n",
    "df_test.info()"
   ]
  },
  {
   "cell_type": "code",
   "execution_count": 58,
   "id": "ec8e2239",
   "metadata": {
    "execution": {
     "iopub.execute_input": "2023-11-21T08:25:15.371781Z",
     "iopub.status.busy": "2023-11-21T08:25:15.371120Z",
     "iopub.status.idle": "2023-11-21T08:25:15.401702Z",
     "shell.execute_reply": "2023-11-21T08:25:15.400287Z"
    },
    "papermill": {
     "duration": 0.073567,
     "end_time": "2023-11-21T08:25:15.404507",
     "exception": false,
     "start_time": "2023-11-21T08:25:15.330940",
     "status": "completed"
    },
    "tags": []
   },
   "outputs": [
    {
     "name": "stdout",
     "output_type": "stream",
     "text": [
      "<class 'pandas.core.frame.DataFrame'>\n",
      "RangeIndex: 4277 entries, 0 to 4276\n",
      "Data columns (total 12 columns):\n",
      " #   Column        Non-Null Count  Dtype  \n",
      "---  ------        --------------  -----  \n",
      " 0   HomePlanet    4277 non-null   Int64  \n",
      " 1   CryoSleep     4277 non-null   Int64  \n",
      " 2   Cabin         4277 non-null   object \n",
      " 3   Destination   4277 non-null   Int64  \n",
      " 4   Age           4277 non-null   Int64  \n",
      " 5   RoomService   4277 non-null   float64\n",
      " 6   FoodCourt     4277 non-null   float64\n",
      " 7   ShoppingMall  4277 non-null   float64\n",
      " 8   Spa           4277 non-null   float64\n",
      " 9   VRDeck        4277 non-null   float64\n",
      " 10  Port          4277 non-null   Int64  \n",
      " 11  Place         4277 non-null   Int64  \n",
      "dtypes: Int64(6), float64(5), object(1)\n",
      "memory usage: 426.2+ KB\n"
     ]
    }
   ],
   "source": [
    "df_test[\"HomePlanet\"].fillna(df_test[\"HomePlanet\"].mode()[0],inplace=True)\n",
    "df_test[\"CryoSleep\"].fillna(df_test[\"CryoSleep\"].mode()[0],inplace=True)\n",
    "df_test[\"Cabin\"].fillna(df_test[\"Cabin\"].mode()[0],inplace=True)\n",
    "df_test[\"Place\"].fillna(df_test[\"Place\"].mode()[0],inplace=True)\n",
    "df_test[\"Port\"].fillna(df_test[\"Port\"].mode()[0],inplace=True)\n",
    "df_test[\"Destination\"].fillna(df_test[\"Destination\"].mode()[0],inplace=True)\n",
    "df_test[\"Age\"].fillna(int(df_test[\"Age\"].mean()),inplace=True)\n",
    "df_test[\"RoomService\"].fillna(df_test[\"RoomService\"].mean(),inplace=True)\n",
    "df_test[\"FoodCourt\"].fillna(df_test[\"FoodCourt\"].mean(),inplace=True)\n",
    "df_test[\"ShoppingMall\"].fillna(df_test[\"ShoppingMall\"].mean(),inplace=True)\n",
    "df_test[\"Spa\"].fillna(df_test[\"Spa\"].mean(),inplace=True)\n",
    "df_test[\"VRDeck\"].fillna(df_test[\"VRDeck\"].mean(),inplace=True)\n",
    "df_test.info()"
   ]
  },
  {
   "cell_type": "code",
   "execution_count": 59,
   "id": "86bba915",
   "metadata": {
    "execution": {
     "iopub.execute_input": "2023-11-21T08:25:15.481895Z",
     "iopub.status.busy": "2023-11-21T08:25:15.481470Z",
     "iopub.status.idle": "2023-11-21T08:25:15.497820Z",
     "shell.execute_reply": "2023-11-21T08:25:15.496071Z"
    },
    "papermill": {
     "duration": 0.060159,
     "end_time": "2023-11-21T08:25:15.502239",
     "exception": false,
     "start_time": "2023-11-21T08:25:15.442080",
     "status": "completed"
    },
    "tags": []
   },
   "outputs": [],
   "source": [
    " predictions = logmodel.predict(df_test)"
   ]
  },
  {
   "cell_type": "code",
   "execution_count": 60,
   "id": "48ebb93f",
   "metadata": {
    "execution": {
     "iopub.execute_input": "2023-11-21T08:25:15.636583Z",
     "iopub.status.busy": "2023-11-21T08:25:15.636158Z",
     "iopub.status.idle": "2023-11-21T08:25:15.643870Z",
     "shell.execute_reply": "2023-11-21T08:25:15.642570Z"
    },
    "papermill": {
     "duration": 0.06377,
     "end_time": "2023-11-21T08:25:15.646198",
     "exception": false,
     "start_time": "2023-11-21T08:25:15.582428",
     "status": "completed"
    },
    "tags": []
   },
   "outputs": [
    {
     "data": {
      "text/plain": [
       "array(['0013_01', '0018_01', '0019_01', ..., '9271_01', '9273_01',\n",
       "       '9277_01'], dtype=object)"
      ]
     },
     "execution_count": 60,
     "metadata": {},
     "output_type": "execute_result"
    }
   ],
   "source": [
    "# # from sklearn.metrics import classification_report\n",
    "# # print(classification_report(y_test, predictions))\n",
    "# df_newTest = pd.read_csv(\"/kaggle/input/spaceship-titanic/test.csv\")\n",
    "# ids_test = df_newTest['PassengerId'].copy()\n",
    "ids_test.values\n",
    "# predictions"
   ]
  },
  {
   "cell_type": "code",
   "execution_count": 61,
   "id": "fbb75ac6",
   "metadata": {
    "execution": {
     "iopub.execute_input": "2023-11-21T08:25:15.724076Z",
     "iopub.status.busy": "2023-11-21T08:25:15.723667Z",
     "iopub.status.idle": "2023-11-21T08:25:15.753858Z",
     "shell.execute_reply": "2023-11-21T08:25:15.752622Z"
    },
    "papermill": {
     "duration": 0.072183,
     "end_time": "2023-11-21T08:25:15.756434",
     "exception": false,
     "start_time": "2023-11-21T08:25:15.684251",
     "status": "completed"
    },
    "tags": []
   },
   "outputs": [
    {
     "data": {
      "text/html": [
       "<div>\n",
       "<style scoped>\n",
       "    .dataframe tbody tr th:only-of-type {\n",
       "        vertical-align: middle;\n",
       "    }\n",
       "\n",
       "    .dataframe tbody tr th {\n",
       "        vertical-align: top;\n",
       "    }\n",
       "\n",
       "    .dataframe thead th {\n",
       "        text-align: right;\n",
       "    }\n",
       "</style>\n",
       "<table border=\"1\" class=\"dataframe\">\n",
       "  <thead>\n",
       "    <tr style=\"text-align: right;\">\n",
       "      <th></th>\n",
       "      <th>PassengerId</th>\n",
       "      <th>Transported</th>\n",
       "    </tr>\n",
       "  </thead>\n",
       "  <tbody>\n",
       "    <tr>\n",
       "      <th>0</th>\n",
       "      <td>0013_01</td>\n",
       "      <td>True</td>\n",
       "    </tr>\n",
       "    <tr>\n",
       "      <th>1</th>\n",
       "      <td>0018_01</td>\n",
       "      <td>False</td>\n",
       "    </tr>\n",
       "    <tr>\n",
       "      <th>2</th>\n",
       "      <td>0019_01</td>\n",
       "      <td>True</td>\n",
       "    </tr>\n",
       "    <tr>\n",
       "      <th>3</th>\n",
       "      <td>0021_01</td>\n",
       "      <td>True</td>\n",
       "    </tr>\n",
       "    <tr>\n",
       "      <th>4</th>\n",
       "      <td>0023_01</td>\n",
       "      <td>True</td>\n",
       "    </tr>\n",
       "  </tbody>\n",
       "</table>\n",
       "</div>"
      ],
      "text/plain": [
       "  PassengerId  Transported\n",
       "0     0013_01         True\n",
       "1     0018_01        False\n",
       "2     0019_01         True\n",
       "3     0021_01         True\n",
       "4     0023_01         True"
      ]
     },
     "execution_count": 61,
     "metadata": {},
     "output_type": "execute_result"
    }
   ],
   "source": [
    "df_predictions = pd.DataFrame()\n",
    "df_predictions['PassengerId'] = pd.Series(ids_test.T.values)\n",
    "df_predictions['Transported'] = pd.Series(predictions)\n",
    "df_predictions.Transported = np.where(df_predictions.Transported==1,True,False)\n",
    "df_predictions.to_csv(\"4thAttempt.csv\", sep=',', index=False)\n",
    "df_predictions.head()"
   ]
  },
  {
   "cell_type": "markdown",
   "id": "8742e81b",
   "metadata": {
    "papermill": {
     "duration": 0.037681,
     "end_time": "2023-11-21T08:25:15.831757",
     "exception": false,
     "start_time": "2023-11-21T08:25:15.794076",
     "status": "completed"
    },
    "tags": []
   },
   "source": [
    "In this report, the 'Precision' column tells us the proportion of positive identifications (i.e., the passenger was transported) that were actually correct. The 'Recall' column tells us the proportion of actual positives that were identified correctly. The 'F1-score' is a function of Precision and Recall and gives a balanced measure of the model's performance.\n",
    "\n",
    "Remember, this is a basic model. Depending on the performance of the model, you might need to consider more advanced techniques such as handling class imbalance, feature engineering, or using a more complex model."
   ]
  }
 ],
 "metadata": {
  "kaggle": {
   "accelerator": "none",
   "dataSources": [
    {
     "databundleVersionId": 3220602,
     "sourceId": 34377,
     "sourceType": "competition"
    }
   ],
   "dockerImageVersionId": 30558,
   "isGpuEnabled": false,
   "isInternetEnabled": false,
   "language": "python",
   "sourceType": "notebook"
  },
  "kernelspec": {
   "display_name": "Python 3",
   "language": "python",
   "name": "python3"
  },
  "language_info": {
   "codemirror_mode": {
    "name": "ipython",
    "version": 3
   },
   "file_extension": ".py",
   "mimetype": "text/x-python",
   "name": "python",
   "nbconvert_exporter": "python",
   "pygments_lexer": "ipython3",
   "version": "3.10.12"
  },
  "papermill": {
   "default_parameters": {},
   "duration": 23.270408,
   "end_time": "2023-11-21T08:25:16.692122",
   "environment_variables": {},
   "exception": null,
   "input_path": "__notebook__.ipynb",
   "output_path": "__notebook__.ipynb",
   "parameters": {},
   "start_time": "2023-11-21T08:24:53.421714",
   "version": "2.4.0"
  }
 },
 "nbformat": 4,
 "nbformat_minor": 5
}
